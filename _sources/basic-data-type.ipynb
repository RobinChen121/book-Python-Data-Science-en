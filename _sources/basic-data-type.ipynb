{
 "cells": [
  {
   "cell_type": "markdown",
   "id": "b82d32ee",
   "metadata": {
    "slideshow": {
     "slide_type": "slide"
    }
   },
   "source": [
    "# Data types in Python\n",
    "<hr>"
   ]
  },
  {
   "cell_type": "markdown",
   "id": "fbd3ae56",
   "metadata": {},
   "source": [
    "Python data types are the classification or categorization of data items. Different data types can be performed on different operations."
   ]
  },
  {
   "cell_type": "markdown",
   "id": "87cf3421-f3f2-46a9-b311-53172a3075d7",
   "metadata": {},
   "source": [
    "The following is chart about the built-in data types in Python:"
   ]
  },
  {
   "cell_type": "markdown",
   "id": "b438f2e4-1f31-4514-aa85-9890ac0530a2",
   "metadata": {},
   "source": [
    "```{mermaid}\n",
    "flowchart TD\n",
    "    A[Python Data Types] --> B[Numeric]\n",
    "\n",
    "    subgraph B [Numeric]\n",
    "        B1[Integer]\n",
    "        B2[Float]\n",
    "    end\n",
    "    \n",
    "    A --> C[Dictionary]\n",
    "    A --> D[Boolean]\n",
    "    A --> E[Set]\n",
    "    A --> F[Sequence]\n",
    "\n",
    "    \n",
    "\n",
    "    subgraph F [Sequence]\n",
    "        F1[List]\n",
    "        F2[Tuple]\n",
    "        F3[String]\n",
    "    end\n",
    "    \n",
    "```"
   ]
  },
  {
   "cell_type": "markdown",
   "id": "43656405",
   "metadata": {},
   "source": [
    "## Numeric: integer and float\n",
    "<hr>"
   ]
  },
  {
   "cell_type": "code",
   "execution_count": 3,
   "id": "b80e3bb2",
   "metadata": {
    "slideshow": {
     "slide_type": "fragment"
    }
   },
   "outputs": [
    {
     "data": {
      "text/plain": [
       "1"
      ]
     },
     "execution_count": 3,
     "metadata": {},
     "output_type": "execute_result"
    }
   ],
   "source": [
    "a = 1\n",
    "a"
   ]
  },
  {
   "cell_type": "code",
   "execution_count": 1,
   "id": "861954c1",
   "metadata": {
    "slideshow": {
     "slide_type": "fragment"
    }
   },
   "outputs": [
    {
     "data": {
      "text/plain": [
       "2.2"
      ]
     },
     "execution_count": 1,
     "metadata": {},
     "output_type": "execute_result"
    }
   ],
   "source": [
    "b = 2.2\n",
    "b"
   ]
  },
  {
   "cell_type": "markdown",
   "id": "e1e847eb",
   "metadata": {},
   "source": [
    "Unlike some other programming languages, Python does not require explicit variable type declarations. It can automatically infer numeric types. For example, in the code above, since a has no decimal point, Python treats it as an integer (`int`), while b contains a decimal point, so Python interprets it as a floating-point number (`float`)."
   ]
  },
  {
   "cell_type": "markdown",
   "id": "0522f75b-5de6-469e-9422-ba6e79a7166f",
   "metadata": {},
   "source": [
    "We can use the Python keyword `type` to get the type of a variable."
   ]
  },
  {
   "cell_type": "code",
   "execution_count": 22,
   "id": "9059904d",
   "metadata": {
    "slideshow": {
     "slide_type": "subslide"
    }
   },
   "outputs": [
    {
     "data": {
      "text/plain": [
       "int"
      ]
     },
     "execution_count": 22,
     "metadata": {},
     "output_type": "execute_result"
    }
   ],
   "source": [
    "type(a)"
   ]
  },
  {
   "cell_type": "code",
   "execution_count": 23,
   "id": "6ad829e1",
   "metadata": {
    "slideshow": {
     "slide_type": "fragment"
    }
   },
   "outputs": [
    {
     "data": {
      "text/plain": [
       "float"
      ]
     },
     "execution_count": 23,
     "metadata": {},
     "output_type": "execute_result"
    }
   ],
   "source": [
    "type(b)"
   ]
  },
  {
   "cell_type": "markdown",
   "id": "739422a0",
   "metadata": {
    "slideshow": {
     "slide_type": "subslide"
    }
   },
   "source": [
    "Type casting refers to converting one data type into another. Python provides several built-in methods to facilitate casting including int(), float() and str()."
   ]
  },
  {
   "cell_type": "code",
   "execution_count": 25,
   "id": "df57bf3f",
   "metadata": {
    "slideshow": {
     "slide_type": "fragment"
    }
   },
   "outputs": [
    {
     "data": {
      "text/plain": [
       "1.0"
      ]
     },
     "execution_count": 25,
     "metadata": {},
     "output_type": "execute_result"
    }
   ],
   "source": [
    "float(a)  # cast an integer variable to float"
   ]
  },
  {
   "cell_type": "code",
   "execution_count": 26,
   "id": "48c82ed6",
   "metadata": {
    "scrolled": true,
    "slideshow": {
     "slide_type": "fragment"
    }
   },
   "outputs": [
    {
     "data": {
      "text/plain": [
       "2"
      ]
     },
     "execution_count": 26,
     "metadata": {},
     "output_type": "execute_result"
    }
   ],
   "source": [
    "int(b)  # cast a float variable to integer"
   ]
  },
  {
   "cell_type": "code",
   "execution_count": 5,
   "id": "abd2e262-b860-48a5-ae07-fc66743a4355",
   "metadata": {
    "scrolled": true
   },
   "outputs": [
    {
     "data": {
      "text/plain": [
       "'1'"
      ]
     },
     "execution_count": 5,
     "metadata": {},
     "output_type": "execute_result"
    }
   ],
   "source": [
    "str(a)"
   ]
  },
  {
   "cell_type": "markdown",
   "id": "3dc3d4a6",
   "metadata": {
    "slideshow": {
     "slide_type": "fragment"
    }
   },
   "source": [
    "- When integers and floating-point numbers are mixed in an operation, the result will be automatically converted to a floating-point number."
   ]
  },
  {
   "cell_type": "markdown",
   "id": "ff5bb61e",
   "metadata": {
    "slideshow": {
     "slide_type": "slide"
    }
   },
   "source": [
    "## String\n",
    "<hr>\n",
    "\n",
    "A string is a sequence of characters. We can use **either single quotes `' '` or double quotes `\"\" \"\"`** to express a string."
   ]
  },
  {
   "cell_type": "code",
   "execution_count": null,
   "id": "26b38117",
   "metadata": {
    "slideshow": {
     "slide_type": "fragment"
    }
   },
   "outputs": [],
   "source": [
    "name = 'chen'\n",
    "name"
   ]
  },
  {
   "cell_type": "code",
   "execution_count": null,
   "id": "3c3fba91",
   "metadata": {
    "slideshow": {
     "slide_type": "fragment"
    }
   },
   "outputs": [],
   "source": [
    "city = \"London\"\n",
    "city"
   ]
  },
  {
   "cell_type": "markdown",
   "id": "f8791f68",
   "metadata": {
    "slideshow": {
     "slide_type": "subslide"
    }
   },
   "source": [
    "We can concatenate strings directly using the plus operator `+`:"
   ]
  },
  {
   "cell_type": "code",
   "execution_count": null,
   "id": "17b21198",
   "metadata": {
    "slideshow": {
     "slide_type": "fragment"
    }
   },
   "outputs": [],
   "source": [
    "name + city"
   ]
  },
  {
   "cell_type": "markdown",
   "id": "1a2367c6",
   "metadata": {
    "slideshow": {
     "slide_type": "subslide"
    }
   },
   "source": [
    "Another common concatenation method is using the `join()` method: `str.join(sequence)`, which joins elements in the sequence with specified characters to produce a new string. For example:"
   ]
  },
  {
   "cell_type": "code",
   "execution_count": null,
   "id": "91747101",
   "metadata": {
    "slideshow": {
     "slide_type": "fragment"
    }
   },
   "outputs": [],
   "source": [
    "\",\".join([\"chen\", \"zhang\", \"li\"])  # concatenating 3 strings with comma"
   ]
  },
  {
   "cell_type": "code",
   "execution_count": null,
   "id": "cde4faf5",
   "metadata": {
    "slideshow": {
     "slide_type": "fragment"
    }
   },
   "outputs": [],
   "source": [
    "\"-\".join([\"2020\", \"05\", \"13\"])  # concatenating 3 strings with dash"
   ]
  },
  {
   "cell_type": "code",
   "execution_count": null,
   "id": "cdaf99b3-9bb8-42f8-9742-110b3910aa49",
   "metadata": {},
   "outputs": [],
   "source": [
    "\" \".join([\"Brunel\", \"University\"]) # concatenating 2 strings with space"
   ]
  },
  {
   "cell_type": "markdown",
   "id": "f176323d",
   "metadata": {
    "slideshow": {
     "slide_type": "subslide"
    }
   },
   "source": [
    "If concatnating same strings, we can use the muliplication operator `*`："
   ]
  },
  {
   "cell_type": "code",
   "execution_count": null,
   "id": "f8810b52",
   "metadata": {
    "slideshow": {
     "slide_type": "fragment"
    }
   },
   "outputs": [],
   "source": [
    "name = \"John\"\n",
    "name * 3"
   ]
  },
  {
   "cell_type": "markdown",
   "id": "75ffb068",
   "metadata": {
    "slideshow": {
     "slide_type": "fragment"
    }
   },
   "source": [
    "we can access individual elements of a **sequence** using indexing. The elements in a **sequence** are indexed starting from 0, and -1 from end."
   ]
  },
  {
   "cell_type": "markdown",
   "id": "9e4abebe-e028-4059-8d6c-df6f56d0e860",
   "metadata": {},
   "source": [
    "- The first element is at position 0, the second at 1, and so on. Negative indices are also supported, where **-1 refers to the last element**, -2 to the second last, and so forth."
   ]
  },
  {
   "cell_type": "code",
   "execution_count": null,
   "id": "df9acbf5",
   "metadata": {
    "slideshow": {
     "slide_type": "fragment"
    }
   },
   "outputs": [],
   "source": [
    "name[0]  # 0 is the first index"
   ]
  },
  {
   "cell_type": "code",
   "execution_count": null,
   "id": "797e455d-a1bb-4243-9dcb-6a55d8337432",
   "metadata": {},
   "outputs": [],
   "source": [
    "name[-1]"
   ]
  },
  {
   "cell_type": "code",
   "execution_count": null,
   "id": "0c86d117-a3cb-4006-a749-c5713bb940c3",
   "metadata": {},
   "outputs": [],
   "source": [
    "name[-2]"
   ]
  },
  {
   "cell_type": "markdown",
   "id": "9ab4a720-9123-4218-8a8e-f36ed8ee14aa",
   "metadata": {},
   "source": [
    "The syntax for slicing in a **sequence** is `sequence[start:end]`, where start is the starting index (**included**) and end is the stopping index (**excluded**)."
   ]
  },
  {
   "cell_type": "code",
   "execution_count": null,
   "id": "e514bd64",
   "metadata": {
    "slideshow": {
     "slide_type": "fragment"
    }
   },
   "outputs": [],
   "source": [
    "name[0:3]  # get the first to the third characters"
   ]
  },
  {
   "cell_type": "code",
   "execution_count": null,
   "id": "377b7df8-0ecb-4e0c-9dc2-57a9a882de72",
   "metadata": {},
   "outputs": [],
   "source": [
    "name[1:] # get all the characters from the frist index to end"
   ]
  },
  {
   "cell_type": "markdown",
   "id": "c3fe6a39",
   "metadata": {
    "slideshow": {
     "slide_type": "fragment"
    }
   },
   "source": [
    "To check whether a character or substring exists in a **sequence**, you can use the `in` or `not in` operators:\n"
   ]
  },
  {
   "cell_type": "code",
   "execution_count": null,
   "id": "930633b7",
   "metadata": {
    "slideshow": {
     "slide_type": "fragment"
    }
   },
   "outputs": [],
   "source": [
    "\"c\" not in name"
   ]
  },
  {
   "cell_type": "code",
   "execution_count": null,
   "id": "671e5245",
   "metadata": {
    "slideshow": {
     "slide_type": "fragment"
    }
   },
   "outputs": [],
   "source": [
    "\"Bei\" in city"
   ]
  },
  {
   "cell_type": "markdown",
   "id": "d4827148-21f2-4f57-8aa6-559ce3828009",
   "metadata": {},
   "source": [
    "- input multi-line string using triple quotes `\"\"\" \"\"\"` or `''' '''`."
   ]
  },
  {
   "cell_type": "code",
   "execution_count": null,
   "id": "45fbd422-2e4f-4ee6-a335-cef5c468c651",
   "metadata": {},
   "outputs": [],
   "source": [
    "str_multi = ''' this is \n",
    "a multi line\n",
    "string'''\n",
    "\n",
    "print(str_multi)"
   ]
  },
  {
   "cell_type": "markdown",
   "id": "f2a7e77d",
   "metadata": {
    "slideshow": {
     "slide_type": "subslide"
    }
   },
   "source": [
    "Cast other data types to string can be done by using the method `str`:"
   ]
  },
  {
   "cell_type": "code",
   "execution_count": null,
   "id": "b112ec17",
   "metadata": {
    "slideshow": {
     "slide_type": "fragment"
    }
   },
   "outputs": [],
   "source": [
    "str(123)"
   ]
  },
  {
   "cell_type": "code",
   "execution_count": null,
   "id": "813b8249",
   "metadata": {
    "slideshow": {
     "slide_type": "fragment"
    }
   },
   "outputs": [],
   "source": [
    "str([1, 2, 3])"
   ]
  },
  {
   "cell_type": "markdown",
   "id": "83b2ed3d",
   "metadata": {
    "slideshow": {
     "slide_type": "subslide"
    }
   },
   "source": [
    "Some widely used methods for string operations:\n",
    "\n",
    "|Method|Meaning|\n",
    "|--|--|\n",
    "|str.capitalize()|Capitalize the first character in the string 'str'|\n",
    "|str.upper()|Convert all the characters in the string 'str' to uppercase|\n",
    "|str.lower()|Convert all the characters in the string 'str' to lowercase|\n",
    "|len(str)|length of the **sequence** 'str'|\n",
    "|str.isnumeric()|To check if a string 'str' contains only numeric characters|\n",
    "|str.isdigit()|To check if a string 'str' contains only digits (0-9)|\n",
    "|str.isalpha()|To check if all characters in a string 'str' are alphabetic (letters)|\n",
    "|str.replace(old, new])|Return a copy of the string  'str' where the substring 'old' is replaced by the substring 'new' |\n",
    "|str.strip([chars])|Return a copy of the string  'str' with leading and trailing characters removed specified in the 'chars' argument.|\n",
    "|str.split(sep=None)|Returns a list of substrings by splitting the string 'str' of the specified separator 'sep'|"
   ]
  },
  {
   "cell_type": "markdown",
   "id": "2f5dd0cc-0603-4843-8df8-418d70f28496",
   "metadata": {},
   "source": [
    "```{note}\n",
    "There may be more arguments in those methods. Interested readers may refer to relevant resources for further details.\n",
    "```"
   ]
  },
  {
   "cell_type": "code",
   "execution_count": null,
   "id": "b60ee0e9",
   "metadata": {
    "slideshow": {
     "slide_type": "subslide"
    }
   },
   "outputs": [],
   "source": [
    "str1 = \"python data science\"\n",
    "str1.split()"
   ]
  },
  {
   "cell_type": "code",
   "execution_count": null,
   "id": "6b3e894c",
   "metadata": {},
   "outputs": [],
   "source": [
    "str1 = \"python Data Science\"\n",
    "str1.lower()"
   ]
  },
  {
   "cell_type": "code",
   "execution_count": null,
   "id": "198c7ed1-dea5-4726-9741-2679168283d7",
   "metadata": {},
   "outputs": [],
   "source": [
    "str1.capitalize()"
   ]
  },
  {
   "cell_type": "code",
   "execution_count": null,
   "id": "edfef6ff-1355-40f3-bf98-df4fa8dd6b9d",
   "metadata": {},
   "outputs": [],
   "source": [
    "str1 = \" Brunel University London \"\n",
    "str1.strip(' ')"
   ]
  },
  {
   "cell_type": "code",
   "execution_count": null,
   "id": "0f5d4b05-7f7c-4e9f-91dc-0f4964234c66",
   "metadata": {},
   "outputs": [],
   "source": [
    "str1.replace(\"University\", \"School\")"
   ]
  },
  {
   "cell_type": "markdown",
   "id": "f94f06d4",
   "metadata": {
    "slideshow": {
     "slide_type": "slide"
    }
   },
   "source": [
    "## List\n",
    "<hr>\n",
    "\n",
    "A Python list is a **dynamic sized** array (automatically grows and shrinks). We can store **all types** of elements (including another list) in a list. List is shown by **square brackets**``[ ]``and elements are seperated by **commas**."
   ]
  },
  {
   "cell_type": "code",
   "execution_count": null,
   "id": "e558e1b9",
   "metadata": {
    "slideshow": {
     "slide_type": "fragment"
    }
   },
   "outputs": [],
   "source": [
    "list1 = [34, 10, 25] # a list of numerics\n",
    "list1"
   ]
  },
  {
   "cell_type": "code",
   "execution_count": null,
   "id": "1953c805",
   "metadata": {
    "slideshow": {
     "slide_type": "fragment"
    }
   },
   "outputs": [],
   "source": [
    "list2 = [\"chen\", \"zhang\", \"wang\"] # a list of strings\n",
    "list2"
   ]
  },
  {
   "cell_type": "code",
   "execution_count": null,
   "id": "e1160e0e",
   "metadata": {
    "slideshow": {
     "slide_type": "fragment"
    }
   },
   "outputs": [],
   "source": [
    "list3 = [10, \"wang\", 33] # a list of mixed type of items\n",
    "list3"
   ]
  },
  {
   "cell_type": "markdown",
   "id": "263f6ae0",
   "metadata": {
    "slideshow": {
     "slide_type": "subslide"
    }
   },
   "source": [
    "- The indexing and slicing of a list is same with a string."
   ]
  },
  {
   "cell_type": "code",
   "execution_count": null,
   "id": "f5f7ce9f",
   "metadata": {
    "slideshow": {
     "slide_type": "fragment"
    }
   },
   "outputs": [],
   "source": [
    "list2[1]  # the second element of list2"
   ]
  },
  {
   "cell_type": "code",
   "execution_count": null,
   "id": "2af3a41e",
   "metadata": {
    "slideshow": {
     "slide_type": "fragment"
    }
   },
   "outputs": [],
   "source": [
    "list1[0:2]  # the elements indexed by 0 to 1"
   ]
  },
  {
   "cell_type": "code",
   "execution_count": null,
   "id": "4a67fe22",
   "metadata": {
    "slideshow": {
     "slide_type": "fragment"
    }
   },
   "outputs": [],
   "source": [
    "list1[0:]  # the elements indexed by 0 to the end"
   ]
  },
  {
   "cell_type": "markdown",
   "id": "52b51221-da99-4d4b-a205-fec4fa6a0430",
   "metadata": {},
   "source": [
    "- Step size can ge given in slicing with the 3rd argument value"
   ]
  },
  {
   "cell_type": "code",
   "execution_count": null,
   "id": "afb8ea13",
   "metadata": {
    "slideshow": {
     "slide_type": "subslide"
    }
   },
   "outputs": [],
   "source": [
    "list3 = [4, 7, 8, 9, 10]\n",
    "list3[1:4:2]  # the elements indexed by 1 to 3 with step size 2"
   ]
  },
  {
   "cell_type": "code",
   "execution_count": null,
   "id": "2c494787",
   "metadata": {
    "slideshow": {
     "slide_type": "fragment"
    }
   },
   "outputs": [],
   "source": [
    "list2[-2]  # the second last element in list2"
   ]
  },
  {
   "cell_type": "markdown",
   "id": "e06368f6-53c3-43b1-8c45-58d831e2e348",
   "metadata": {},
   "source": [
    "- Using two colons followed by -1 indicates reverse order"
   ]
  },
  {
   "cell_type": "code",
   "execution_count": null,
   "id": "5d7169b3",
   "metadata": {
    "slideshow": {
     "slide_type": "fragment"
    }
   },
   "outputs": [],
   "source": [
    "list1[::-1]  # using two colons followed by -1 indicates reverse order"
   ]
  },
  {
   "cell_type": "markdown",
   "id": "928e4bfc",
   "metadata": {
    "slideshow": {
     "slide_type": "subslide"
    }
   },
   "source": [
    "To change the value of some elements in a **sequence**, we can diretly assign values using indexing."
   ]
  },
  {
   "cell_type": "code",
   "execution_count": null,
   "id": "4630637c",
   "metadata": {
    "slideshow": {
     "slide_type": "fragment"
    }
   },
   "outputs": [],
   "source": [
    "list = [21, 16, 30]\n",
    "list[1] = 10  # change the value of the second element in list\n",
    "list"
   ]
  },
  {
   "cell_type": "markdown",
   "id": "a359c4fd",
   "metadata": {
    "slideshow": {
     "slide_type": "subslide"
    }
   },
   "source": [
    "To delete some element in a **sequence**, we can use `del` along with indexing："
   ]
  },
  {
   "cell_type": "code",
   "execution_count": null,
   "id": "34469249",
   "metadata": {
    "slideshow": {
     "slide_type": "fragment"
    }
   },
   "outputs": [],
   "source": [
    "list = [34, 46, 23]\n",
    "del list[1]\n",
    "list"
   ]
  },
  {
   "cell_type": "markdown",
   "id": "3c3dc316",
   "metadata": {
    "slideshow": {
     "slide_type": "subslide"
    }
   },
   "source": [
    "For lists, the operators `+`, `*`, `in`, and `not in` method identically to their string counterparts. Below are examples:"
   ]
  },
  {
   "cell_type": "code",
   "execution_count": null,
   "id": "0c669479",
   "metadata": {
    "slideshow": {
     "slide_type": "fragment"
    }
   },
   "outputs": [],
   "source": [
    "list = [13, 23]\n",
    "list = list + [21, 65]\n",
    "list"
   ]
  },
  {
   "cell_type": "code",
   "execution_count": null,
   "id": "2fbd539e",
   "metadata": {
    "slideshow": {
     "slide_type": "fragment"
    }
   },
   "outputs": [],
   "source": [
    "list * 2"
   ]
  },
  {
   "cell_type": "code",
   "execution_count": null,
   "id": "3387c6d5",
   "metadata": {
    "slideshow": {
     "slide_type": "subslide"
    }
   },
   "outputs": [],
   "source": [
    "12 in list"
   ]
  },
  {
   "cell_type": "code",
   "execution_count": null,
   "id": "1375b47b",
   "metadata": {
    "slideshow": {
     "slide_type": "fragment"
    }
   },
   "outputs": [],
   "source": [
    "12 not in list"
   ]
  },
  {
   "cell_type": "markdown",
   "id": "88fe950b",
   "metadata": {
    "slideshow": {
     "slide_type": "subslide"
    }
   },
   "source": [
    "- A 2D list is created by **nesting** one-dimensional lists within square brackets."
   ]
  },
  {
   "cell_type": "code",
   "execution_count": null,
   "id": "710d7055",
   "metadata": {
    "slideshow": {
     "slide_type": "fragment"
    }
   },
   "outputs": [],
   "source": [
    "a = [[1, 2, 3], [4, 5]]\n",
    "a"
   ]
  },
  {
   "cell_type": "markdown",
   "id": "160716fe",
   "metadata": {
    "slideshow": {
     "slide_type": "fragment"
    }
   },
   "source": [
    "To visit the element in a 2D list, using two sets of squre brackets with index:"
   ]
  },
  {
   "cell_type": "code",
   "execution_count": null,
   "id": "ab6bc928",
   "metadata": {
    "slideshow": {
     "slide_type": "fragment"
    }
   },
   "outputs": [],
   "source": [
    "a[1][0]"
   ]
  },
  {
   "cell_type": "markdown",
   "id": "6f18c7db-5839-44d5-9a45-7d244058bb83",
   "metadata": {},
   "source": [
    "- Adding elements into a list by `append()`, `insert()` or `extend()`."
   ]
  },
  {
   "cell_type": "code",
   "execution_count": null,
   "id": "812ac58a",
   "metadata": {
    "slideshow": {
     "slide_type": "fragment"
    }
   },
   "outputs": [],
   "source": [
    "list = [34, 46, 23]\n",
    "list.append(3)  # append one element at the end of a list\n",
    "list"
   ]
  },
  {
   "cell_type": "code",
   "execution_count": null,
   "id": "0be3c0a4",
   "metadata": {
    "slideshow": {
     "slide_type": "fragment"
    }
   },
   "outputs": [],
   "source": [
    "list.insert(1, 10)  # insert an element 10 into the index 1 of the list\n",
    "list"
   ]
  },
  {
   "cell_type": "code",
   "execution_count": null,
   "id": "6fd58c98",
   "metadata": {
    "slideshow": {
     "slide_type": "fragment"
    }
   },
   "outputs": [],
   "source": [
    "list.extend([4, 5, 6])  # extend the list with some other sequence elements in the end\n",
    "list"
   ]
  },
  {
   "cell_type": "markdown",
   "id": "c676153f-6cb3-4786-8fff-2ee8e8c244d6",
   "metadata": {},
   "source": [
    "- Use the `for loop` to iterate all the values in a list."
   ]
  },
  {
   "cell_type": "code",
   "execution_count": null,
   "id": "a364fe7b-d792-4c77-a82d-2b0fde44f9ff",
   "metadata": {},
   "outputs": [],
   "source": [
    "list = [3, 5, 8]\n",
    "for i in list:\n",
    "    print(i)"
   ]
  },
  {
   "cell_type": "markdown",
   "id": "390db738",
   "metadata": {
    "slideshow": {
     "slide_type": "subslide"
    }
   },
   "source": [
    "Some other methods：\n",
    "\n",
    "|Method|Meaning|\n",
    "|--|--|\n",
    "|max(list)|Return the maximum in a list 'list'|\n",
    "|min(list)|Return the minimum in a list 'list'|\n",
    "|list(sequence)|Transform another suquence 'sequence' to a list type|\n",
    "|sequence.count(element)|Count the occurance of an element 'element' in a **sequence** 'sequence' |\n",
    "|list.reverse()|Reverse the list 'list'|\n",
    "|list.pop(index)|Remove one element in a list with given index 'index'|\n",
    "|list.remove(element)|Remove all elments in a list 'list' whose contents are same as element 'element' |\n",
    "|list.clear()|Clear all the elements in a list 'list'|"
   ]
  },
  {
   "cell_type": "code",
   "execution_count": null,
   "id": "cc48cb59",
   "metadata": {},
   "outputs": [],
   "source": [
    "a = [1, 2, 3]\n",
    "a.pop(-1)\n",
    "print(a)"
   ]
  },
  {
   "cell_type": "code",
   "execution_count": null,
   "id": "3b47cb46-6fb7-4f27-b664-de7a4baee0ee",
   "metadata": {},
   "outputs": [],
   "source": [
    "a.reverse()\n",
    "a"
   ]
  },
  {
   "cell_type": "code",
   "execution_count": null,
   "id": "938ba1bc-0cd8-4682-98e7-8c06538c468a",
   "metadata": {},
   "outputs": [],
   "source": [
    "str1 = 'chench'\n",
    "str1.count('c')\n"
   ]
  },
  {
   "cell_type": "markdown",
   "id": "67304444",
   "metadata": {
    "slideshow": {
     "slide_type": "subslide"
    }
   },
   "source": [
    "## Dictionary\n",
    "<hr>\n",
    "\n",
    "A Python dictionary is a data type that stores the value in `{key: value}` pairs. Values can be of any data type and can be duplicated, while `keys can't be repeated and must be immutable`.\n"
   ]
  },
  {
   "cell_type": "code",
   "execution_count": null,
   "id": "6322e98a",
   "metadata": {
    "slideshow": {
     "slide_type": "fragment"
    }
   },
   "outputs": [],
   "source": [
    "dict = {\"name\": \"chen\", \"score\": 95} # create a dict\n",
    "dict"
   ]
  },
  {
   "cell_type": "markdown",
   "id": "2b1cbfd1",
   "metadata": {
    "slideshow": {
     "slide_type": "fragment"
    }
   },
   "source": [
    "To acess the value in a dict, put the `corresponding key` in the square bracket `[ ]` for the dict or use the method `get()`:"
   ]
  },
  {
   "cell_type": "code",
   "execution_count": null,
   "id": "7333a6cc",
   "metadata": {
    "slideshow": {
     "slide_type": "subslide"
    }
   },
   "outputs": [],
   "source": [
    "dict[\"name\"]"
   ]
  },
  {
   "cell_type": "code",
   "execution_count": null,
   "id": "8efe4a33",
   "metadata": {
    "slideshow": {
     "slide_type": "fragment"
    }
   },
   "outputs": [],
   "source": [
    "dict.get(\"name\")"
   ]
  },
  {
   "cell_type": "markdown",
   "id": "2bee2bda",
   "metadata": {
    "slideshow": {
     "slide_type": "subslide"
    }
   },
   "source": [
    "To add one item in the dict, we can use the square bracket `[ ]` with the new key and value："
   ]
  },
  {
   "cell_type": "code",
   "execution_count": null,
   "id": "e2568c90",
   "metadata": {
    "slideshow": {
     "slide_type": "fragment"
    }
   },
   "outputs": [],
   "source": [
    "dict[\"major\"] = \"economy\"\n",
    "dict"
   ]
  },
  {
   "cell_type": "markdown",
   "id": "3693e3c4",
   "metadata": {
    "slideshow": {
     "slide_type": "subslide"
    }
   },
   "source": [
    "To revise the value in a dict，assign a new value with the corresponding key："
   ]
  },
  {
   "cell_type": "code",
   "execution_count": null,
   "id": "fe735803",
   "metadata": {
    "slideshow": {
     "slide_type": "fragment"
    }
   },
   "outputs": [],
   "source": [
    "dict[\"name\"] = \"wang\"\n",
    "dict[\"mark\"] = 80\n",
    "dict"
   ]
  },
  {
   "cell_type": "markdown",
   "id": "644d7f4d",
   "metadata": {
    "slideshow": {
     "slide_type": "fragment"
    }
   },
   "source": [
    "To delete one pair key-value, using `del`:"
   ]
  },
  {
   "cell_type": "code",
   "execution_count": null,
   "id": "029139e7",
   "metadata": {
    "slideshow": {
     "slide_type": "fragment"
    }
   },
   "outputs": [],
   "source": [
    "del dict[\"name\"]\n",
    "dict"
   ]
  },
  {
   "cell_type": "markdown",
   "id": "4e16c299-1b94-4acd-a100-50229f91b9ca",
   "metadata": {},
   "source": [
    "```{note}\n",
    "Since key is immutable, numeric, string and tulic can be the key, but list can not be the key in the dict.\n",
    "```"
   ]
  },
  {
   "cell_type": "markdown",
   "id": "a6c06ac4",
   "metadata": {
    "slideshow": {
     "slide_type": "subslide"
    }
   },
   "source": [
    "Other methods for operating a dict:\n",
    "\n",
    "|Method|Meaning|\n",
    "|-|-|\n",
    "|len(dict)|Return the number of items in a dict 'dict'|\n",
    "|dict.clear()|Remove all the items in the dict 'dict'|\n",
    "|dict.get(key, default=None)| Return the corresponding value for the given 'key' in the dict 'dict'; |\n",
    "||if no corresponding value, return the given default value |\n",
    "|dict.values()|Return a list for all the values in the dict 'dict'|\n",
    "|dict.keys()|Return a list for all the keys in the dict 'dict'|\n",
    "|dict.items()|Return a list for all the items in the dict 'dict'|\n",
    "|dict.popitem(key=None)|Remove an item by the given 'key';|\n",
    "||if no key is given, remove the last item|"
   ]
  },
  {
   "cell_type": "code",
   "execution_count": null,
   "id": "a1cbf22e",
   "metadata": {
    "slideshow": {
     "slide_type": "fragment"
    }
   },
   "outputs": [],
   "source": [
    "dict.popitem()\n",
    "dict"
   ]
  },
  {
   "cell_type": "markdown",
   "id": "af6022e4",
   "metadata": {
    "slideshow": {
     "slide_type": "fragment"
    }
   },
   "source": [
    "- Use the `for loop` together with the method `values()` or `items()` for iteration"
   ]
  },
  {
   "cell_type": "code",
   "execution_count": null,
   "id": "41f47711",
   "metadata": {
    "slideshow": {
     "slide_type": "fragment"
    }
   },
   "outputs": [],
   "source": [
    "d = {1: 'John', 2: 'Male', 'age':22}\n",
    "\n",
    "# Iterate over keys\n",
    "for key in d: # or for key in d.keys():\n",
    "    print(key)\n",
    "\n",
    "# Iterate over values\n",
    "for value in d.values():\n",
    "    print(value)\n",
    "\n",
    "# Iterate over key-value pairs\n",
    "for key, value in d.items():\n",
    "    print(f\"{key}: {value}\")"
   ]
  },
  {
   "cell_type": "markdown",
   "id": "269d6ec8",
   "metadata": {
    "slideshow": {
     "slide_type": "subslide"
    }
   },
   "source": [
    "## Tuple\n",
    "<hr>\n",
    "\n",
    "A tuple in Python is very similar to a list, the difference is that **a tuple is immutable**, meaning the elements in a tuple can't be changed after creation."
   ]
  },
  {
   "cell_type": "markdown",
   "id": "f71058bf-b4e9-4048-9d04-683832a605aa",
   "metadata": {},
   "source": [
    "Tuples are created using parentheses `( )` with elements separated by `commas`. Accessing, slicing follows the same syntax as lists:"
   ]
  },
  {
   "cell_type": "code",
   "execution_count": null,
   "id": "2864f94b",
   "metadata": {
    "slideshow": {
     "slide_type": "fragment"
    }
   },
   "outputs": [],
   "source": [
    "tup = (13, \"zh\", 20)\n",
    "tup[1]"
   ]
  },
  {
   "cell_type": "code",
   "execution_count": null,
   "id": "62822567",
   "metadata": {
    "slideshow": {
     "slide_type": "fragment"
    }
   },
   "outputs": [],
   "source": [
    "tup[0:2]"
   ]
  },
  {
   "cell_type": "code",
   "execution_count": null,
   "id": "c16cf996",
   "metadata": {
    "slideshow": {
     "slide_type": "fragment"
    }
   },
   "outputs": [],
   "source": [
    "tup[0:]"
   ]
  },
  {
   "cell_type": "markdown",
   "id": "b4e6fff0",
   "metadata": {
    "slideshow": {
     "slide_type": "subslide"
    }
   },
   "source": [
    "Use `del` to delete the tup， 也可以用运算符 +、*、in、not in："
   ]
  },
  {
   "cell_type": "code",
   "execution_count": null,
   "id": "ec2edf45",
   "metadata": {
    "slideshow": {
     "slide_type": "fragment"
    }
   },
   "outputs": [],
   "source": [
    "tup = (13, \"zh\", 20)\n",
    "del tup  # fully delete the tuple 'tup'"
   ]
  },
  {
   "cell_type": "markdown",
   "id": "91555fbc-e88d-4bee-90ac-e353572484fe",
   "metadata": {},
   "source": [
    "Operator `+`, `*`, `in`,`not in` can still be used:"
   ]
  },
  {
   "cell_type": "code",
   "execution_count": null,
   "id": "ce98f202",
   "metadata": {
    "slideshow": {
     "slide_type": "fragment"
    }
   },
   "outputs": [],
   "source": [
    "tup = (23, 45, 21)\n",
    "tup = tup + (32, 21)\n",
    "tup"
   ]
  },
  {
   "cell_type": "code",
   "execution_count": null,
   "id": "f394a0a4",
   "metadata": {
    "slideshow": {
     "slide_type": "subslide"
    }
   },
   "outputs": [],
   "source": [
    "tup * 2"
   ]
  },
  {
   "cell_type": "code",
   "execution_count": null,
   "id": "7e30bc25",
   "metadata": {
    "slideshow": {
     "slide_type": "fragment"
    }
   },
   "outputs": [],
   "source": [
    "25 in tup"
   ]
  },
  {
   "cell_type": "code",
   "execution_count": null,
   "id": "92d216f2",
   "metadata": {
    "slideshow": {
     "slide_type": "fragment"
    }
   },
   "outputs": [],
   "source": [
    "25 not in tup"
   ]
  },
  {
   "cell_type": "markdown",
   "id": "3e298cf0-02bf-4a63-acf6-622fa15be337",
   "metadata": {
    "slideshow": {
     "slide_type": "subslide"
    }
   },
   "source": [
    "## Boolean\n",
    "<hr>\n",
    "\n",
    "In Python, Boolean values (Bool) are typically produced through logical comparisons, and there are only two possible outcomes: `True` or `False`."
   ]
  },
  {
   "cell_type": "code",
   "execution_count": null,
   "id": "4bee2d52",
   "metadata": {
    "slideshow": {
     "slide_type": "fragment"
    }
   },
   "outputs": [],
   "source": [
    "10 > 3"
   ]
  },
  {
   "cell_type": "code",
   "execution_count": null,
   "id": "2461c9c3",
   "metadata": {
    "slideshow": {
     "slide_type": "fragment"
    }
   },
   "outputs": [],
   "source": [
    "3 == 4"
   ]
  },
  {
   "cell_type": "markdown",
   "id": "224973a3-5f4c-4657-85d6-e16474494e1c",
   "metadata": {
    "slideshow": {
     "slide_type": "subslide"
    }
   },
   "source": [
    "When making logical comparisions, two equal signs `==` indicate equality, while a single equal sign `=` signifies value assignment."
   ]
  },
  {
   "cell_type": "code",
   "execution_count": null,
   "id": "7523d01a",
   "metadata": {
    "slideshow": {
     "slide_type": "fragment"
    }
   },
   "outputs": [],
   "source": [
    "a = 3  # one euqal sign assigns the value 3 to a 将 a 赋值为 3\n",
    "a == 4  # two equal signs judging whether the value of a equals 4"
   ]
  },
  {
   "cell_type": "markdown",
   "id": "a690faf5-db12-4009-ac1d-1255cf2bce4e",
   "metadata": {},
   "source": [
    "Integers and floats can be used as Boolean values with the bool() method. \n",
    "\n",
    "- Any number with a value of zero (0 or 0.0) is considered `False` while any non-zero number (positive or negative) is considered True.\n",
    "- Empty list/dict/tuple/string, i.e., `[]`, `{}`, `()`, `''`, are considered `False`."
   ]
  },
  {
   "cell_type": "code",
   "execution_count": null,
   "id": "83f86308-244b-48ad-a9c6-9d6e219f3e4f",
   "metadata": {},
   "outputs": [],
   "source": [
    "bool('')"
   ]
  },
  {
   "cell_type": "code",
   "execution_count": null,
   "id": "5f5d270a-6206-4610-beee-6b2428937b48",
   "metadata": {},
   "outputs": [],
   "source": [
    "bool(0.0)"
   ]
  },
  {
   "cell_type": "markdown",
   "id": "b8c446bc-9b5b-4efe-b8fa-fd3413e4d5ee",
   "metadata": {
    "slideshow": {
     "slide_type": "subslide"
    }
   },
   "source": [
    "Logical operations involving multiple conditions—namely \"and\", \"or\", and \"not\"—are represented in Python by the keywords `and`, `or`, and `not`, respectively."
   ]
  },
  {
   "cell_type": "code",
   "execution_count": null,
   "id": "b196d77a",
   "metadata": {
    "slideshow": {
     "slide_type": "fragment"
    }
   },
   "outputs": [],
   "source": [
    "10 > 3 and 3 > 2"
   ]
  },
  {
   "cell_type": "code",
   "execution_count": null,
   "id": "b98f57b3",
   "metadata": {
    "slideshow": {
     "slide_type": "fragment"
    }
   },
   "outputs": [],
   "source": [
    "10 > 3 and 3 > 4"
   ]
  },
  {
   "cell_type": "code",
   "execution_count": null,
   "id": "150a2ce1",
   "metadata": {
    "slideshow": {
     "slide_type": "fragment"
    }
   },
   "outputs": [],
   "source": [
    "10 > 3 or 3 > 4"
   ]
  },
  {
   "cell_type": "code",
   "execution_count": null,
   "id": "bcf3a32a",
   "metadata": {
    "scrolled": true,
    "slideshow": {
     "slide_type": "fragment"
    }
   },
   "outputs": [],
   "source": [
    "not 3 > 4"
   ]
  },
  {
   "cell_type": "markdown",
   "id": "2db34b07",
   "metadata": {
    "slideshow": {
     "slide_type": "subslide"
    }
   },
   "source": [
    "## Set*[^1]\n",
    "<hr>\n",
    "\n",
    "A set is an unordered sequence of unique elements, typically created using curly braces `{ }`.\n",
    "\n",
    "[^1]: \\* means this section may not be delivered in the class."
   ]
  },
  {
   "cell_type": "markdown",
   "id": "cfa07a5c-8f62-4321-9a11-db486999eb4d",
   "metadata": {},
   "source": [
    "```{note}\n",
    "To create an empty set, you must use `set()` instead of `{ }`, because `{ }` defaults to creating an empty dictionary.\n",
    "```"
   ]
  },
  {
   "cell_type": "code",
   "execution_count": null,
   "id": "57cfffd5",
   "metadata": {
    "slideshow": {
     "slide_type": "fragment"
    }
   },
   "outputs": [],
   "source": [
    "set1 = {34, 23, \"chen\"}\n",
    "set1"
   ]
  },
  {
   "cell_type": "code",
   "execution_count": null,
   "id": "013d0f72",
   "metadata": {
    "slideshow": {
     "slide_type": "fragment"
    }
   },
   "outputs": [],
   "source": [
    "set2 = {12, \"34\", 10}\n",
    "set2"
   ]
  },
  {
   "cell_type": "markdown",
   "id": "7de8cf3f",
   "metadata": {
    "slideshow": {
     "slide_type": "subslide"
    }
   },
   "source": [
    "Set operators are：\n",
    "\n",
    "|Operator|Meaning|\n",
    "|-|-|\n",
    "|`-`|Remove the elements that are common to both sets from the left set|\n",
    "|`\\|`|The union of two sets|\n",
    "|`&`|The intersetion of two sets|\n",
    "|`^`|Elements that are not the intersection of the two sets|"
   ]
  },
  {
   "cell_type": "code",
   "execution_count": null,
   "id": "1db7e5f5",
   "metadata": {
    "slideshow": {
     "slide_type": "subslide"
    }
   },
   "outputs": [],
   "source": [
    "set1 = {34, 12, \"chen\"}\n",
    "set2 = {12, \"wang\", 10}\n",
    "set1 - set2"
   ]
  },
  {
   "cell_type": "code",
   "execution_count": null,
   "id": "098817d0",
   "metadata": {
    "slideshow": {
     "slide_type": "fragment"
    }
   },
   "outputs": [],
   "source": [
    "set1 | set2"
   ]
  },
  {
   "cell_type": "code",
   "execution_count": null,
   "id": "b451979b",
   "metadata": {
    "slideshow": {
     "slide_type": "fragment"
    }
   },
   "outputs": [],
   "source": [
    "set1 & set2"
   ]
  },
  {
   "cell_type": "code",
   "execution_count": null,
   "id": "9126ff71",
   "metadata": {
    "slideshow": {
     "slide_type": "fragment"
    }
   },
   "outputs": [],
   "source": [
    "set1 ^ set2"
   ]
  },
  {
   "cell_type": "markdown",
   "id": "f568b95c",
   "metadata": {
    "slideshow": {
     "slide_type": "subslide"
    }
   },
   "source": [
    "To manipulate elements in a set:\n",
    "- Use the ``add()`` method to insert a **single element**\n",
    "- Use the ``update()`` method to add **multiple elements** (can be from a list, tuple, or dictionary)\n",
    "- Use the ``remove()`` method to delete a specific element\n",
    "- Check if an element exists in a set using ``in`` or ``not in`` operators:"
   ]
  },
  {
   "cell_type": "code",
   "execution_count": null,
   "id": "fefe0494",
   "metadata": {
    "slideshow": {
     "slide_type": "fragment"
    }
   },
   "outputs": [],
   "source": [
    "set = {13, 45, 67}\n",
    "set.add(10)\n",
    "set"
   ]
  },
  {
   "cell_type": "code",
   "execution_count": null,
   "id": "ccc33a1b",
   "metadata": {
    "slideshow": {
     "slide_type": "fragment"
    }
   },
   "outputs": [],
   "source": [
    "set.remove(10)\n",
    "set"
   ]
  },
  {
   "cell_type": "code",
   "execution_count": null,
   "id": "b0b0a15e",
   "metadata": {
    "slideshow": {
     "slide_type": "fragment"
    }
   },
   "outputs": [],
   "source": [
    "set.update([80, 44])\n",
    "set"
   ]
  },
  {
   "cell_type": "code",
   "execution_count": null,
   "id": "56403c93",
   "metadata": {
    "slideshow": {
     "slide_type": "subslide"
    }
   },
   "outputs": [],
   "source": [
    "44 in set"
   ]
  },
  {
   "cell_type": "code",
   "execution_count": null,
   "id": "cadc133f",
   "metadata": {
    "slideshow": {
     "slide_type": "fragment"
    }
   },
   "outputs": [],
   "source": [
    "44 not in set"
   ]
  },
  {
   "cell_type": "markdown",
   "id": "0d92fa43",
   "metadata": {
    "slideshow": {
     "slide_type": "subslide"
    }
   },
   "source": [
    "## `random` library\n",
    "<hr>"
   ]
  },
  {
   "cell_type": "markdown",
   "id": "162bb682",
   "metadata": {
    "slideshow": {
     "slide_type": "fragment"
    }
   },
   "source": [
    "Random numbers are widely used in simulations. Python's built-in random module can generate common pseudorandom numbers (note that all computer-generated random numbers are pseudorandom, true random numbers cannot be artificially produced)."
   ]
  },
  {
   "cell_type": "markdown",
   "id": "0af2ab9f",
   "metadata": {
    "slideshow": {
     "slide_type": "subslide"
    }
   },
   "source": [
    "Commonly used methods in `random`:\n",
    "\n",
    "| Method| Description |\n",
    "|:--:|:--|\n",
    "| `seed(a=None)` | Initialize the random number seed (defaults to current system time) |\n",
    "| `random()` | Generate a float in the range [0.0, 1.0) (left inclusive) |\n",
    "| `randint(a, b)` | Generate a random integer between [a, b] (both inclusive) |\n",
    "| `uniform(a, b)` | Generate a random float between [a, b] (both inclusive) |\n",
    "| `shuffle(seq)` | Shuffle the elements of sequence `seq` in place (returns None) |\n",
    "| `sample(seq, k)` | Return a list of `k` unique elements randomly selected from sequence `seq` |\n"
   ]
  },
  {
   "cell_type": "markdown",
   "id": "68a62cca",
   "metadata": {
    "slideshow": {
     "slide_type": "subslide"
    }
   },
   "source": [
    "The random number seed can be specified using the `seed()` method. As long as the seed remains the same, the sequence of generated random numbers will also be identical."
   ]
  },
  {
   "cell_type": "code",
   "execution_count": null,
   "id": "ac8812d3",
   "metadata": {
    "slideshow": {
     "slide_type": "fragment"
    }
   },
   "outputs": [],
   "source": [
    "import random\n",
    "\n",
    "random.random()  # the generated numbers are different every time running the code when not setting the seed"
   ]
  },
  {
   "cell_type": "code",
   "execution_count": null,
   "id": "d2705dd4",
   "metadata": {
    "slideshow": {
     "slide_type": "fragment"
    }
   },
   "outputs": [],
   "source": [
    "random.seed(100)\n",
    "random.random()  # if setting the seed, the generated numbers are identical every time running the code"
   ]
  },
  {
   "cell_type": "markdown",
   "id": "1572132c",
   "metadata": {},
   "source": [
    "## Excercises\n",
    "<hr>"
   ]
  },
  {
   "cell_type": "markdown",
   "id": "7fc0f2f3-6553-4632-8597-622704a12b0c",
   "metadata": {},
   "source": [
    "```{exercise}\n",
    ":label: auto-type\n",
    "What type of number is 5.2 in Python?\n",
    "\n",
    "A.&nbsp;&nbsp;  string\n",
    "\n",
    "B.&nbsp;&nbsp;  integer\n",
    "\n",
    "C.&nbsp;&nbsp;  complex\n",
    "\n",
    "D.&nbsp;&nbsp;  float\n",
    "```"
   ]
  },
  {
   "cell_type": "markdown",
   "id": "74f3723a-36ae-4e2d-8312-c5ec291d4632",
   "metadata": {},
   "source": [
    "````{solution} bool\n",
    ":class: dropdown\n",
    "D\n",
    "````"
   ]
  },
  {
   "cell_type": "markdown",
   "id": "93420c1b-0a9b-474a-928b-7aef98c8ac84",
   "metadata": {},
   "source": [
    "```{exercise}\n",
    ":label: bool\n",
    "What does bool(0) return?\n",
    "\n",
    "A.&nbsp;&nbsp;  True\n",
    "\n",
    "B.&nbsp;&nbsp;  False\n",
    "```"
   ]
  },
  {
   "cell_type": "markdown",
   "id": "3ad926e6-21e3-4e28-be04-6371c26a9dd6",
   "metadata": {},
   "source": [
    "````{solution} bool\n",
    ":class: dropdown\n",
    "B\n",
    "````"
   ]
  },
  {
   "cell_type": "markdown",
   "id": "e3fd0cb9-c3e0-480a-8e19-4bfc4eccfa70",
   "metadata": {},
   "source": [
    "```{exercise-start}\n",
    ":label: int-value\n",
    "```\n",
    "What will be the result of the following code:\n",
    "```python\n",
    "print(int(35.88))\n",
    "```\n",
    "\n",
    "A.&nbsp;&nbsp;  36\n",
    "\n",
    "B.&nbsp;&nbsp;  35.8\n",
    "\n",
    "C.&nbsp;&nbsp;  35\n",
    "\n",
    "D.&nbsp;&nbsp;  35.88\n",
    "\n",
    "```{exercise-end}\n",
    "```"
   ]
  },
  {
   "cell_type": "markdown",
   "id": "0747b202-4389-4c53-889b-a6c3472d91ca",
   "metadata": {},
   "source": [
    "````{solution} int-value\n",
    ":class: dropdown\n",
    "C\n",
    "````"
   ]
  },
  {
   "cell_type": "markdown",
   "id": "2855bee4-3c6f-4838-9434-43636cbad8dd",
   "metadata": {},
   "source": [
    "```{exercise-start}\n",
    ":label: list-type\n",
    "```\n",
    "What data type is the object below? \n",
    "\n",
    "```python\n",
    "arr = [1, \"brunel\", 0]\n",
    "```\n",
    "\n",
    "A.&nbsp;&nbsp;  bool\n",
    "\n",
    "B.&nbsp;&nbsp;  str\n",
    "\n",
    "C.&nbsp;&nbsp;  list\n",
    "\n",
    "D.&nbsp;&nbsp;  dict\n",
    "\n",
    "```{exercise-end}\n",
    "```\n"
   ]
  },
  {
   "cell_type": "markdown",
   "id": "3bae4006-10b6-49a1-8853-f3e80aa940c8",
   "metadata": {},
   "source": [
    "````{solution} list-type\n",
    ":class: dropdown\n",
    "C\n",
    "````"
   ]
  },
  {
   "cell_type": "markdown",
   "id": "7b4d2ba2-666d-4d94-8303-420e21a94247",
   "metadata": {},
   "source": [
    "```{exercise-start}\n",
    ":label: list-slicing\n",
    "```\n",
    "What is the output of the following code? \n",
    "\n",
    "```python\n",
    "x = 'Welcome'\n",
    "print(x[3:5])\n",
    "```\n",
    "\n",
    "A.&nbsp;&nbsp;  co\n",
    "\n",
    "B.&nbsp;&nbsp;  com\n",
    "\n",
    "C.&nbsp;&nbsp;  lcom\n",
    "\n",
    "D.&nbsp;&nbsp;  lc\n",
    "\n",
    "```{exercise-end}\n",
    "```\n"
   ]
  },
  {
   "cell_type": "markdown",
   "id": "6a9aa37e-ebb9-4112-9f54-99a9de09fe01",
   "metadata": {},
   "source": [
    "````{solution} list-slicing\n",
    ":class: dropdown\n",
    "A\n",
    "````"
   ]
  },
  {
   "cell_type": "markdown",
   "id": "e79d8bc5-5c37-4a67-9503-663304710799",
   "metadata": {},
   "source": [
    "```{exercise-start}\n",
    ":label: tuple-plus\n",
    "```\n",
    "What is the output of the following code? \n",
    "\n",
    "```python\n",
    "tup = (1, 2, 3) \n",
    "print(2 * tup) \n",
    "```\n",
    "\n",
    "A.&nbsp;&nbsp;  (1, 2, 3, 1, 2, 3)\n",
    "\n",
    "B.&nbsp;&nbsp;  (1, 2, 3, 4, 5, 6)\n",
    "\n",
    "C.&nbsp;&nbsp;  (2, 4, 6)\n",
    "\n",
    "D.&nbsp;&nbsp;  (1, 2, 3)\n",
    "\n",
    "```{exercise-end}\n",
    "```\n"
   ]
  },
  {
   "cell_type": "markdown",
   "id": "27ed9572-f5bb-4851-8b2a-be0bfa3383dd",
   "metadata": {},
   "source": [
    "````{solution} tuple-plus\n",
    ":class: dropdown\n",
    "A\n",
    "````"
   ]
  },
  {
   "cell_type": "markdown",
   "id": "6319964c-4080-43ac-93e6-e8209c66056b",
   "metadata": {},
   "source": [
    "```{exercise}\n",
    ":label: cast\n",
    "\n",
    "How to convert the string '10' to a float?\n",
    "\n",
    "A.&nbsp;&nbsp;  int(10)\n",
    "\n",
    "B.&nbsp;&nbsp;  float(10)\n",
    "\n",
    "C.&nbsp;&nbsp;  float 10\n",
    "\n",
    "D.&nbsp;&nbsp;  str(10)\n",
    "\n",
    "```"
   ]
  },
  {
   "cell_type": "markdown",
   "id": "b739c2d1-8f95-49b5-b095-937642bdf163",
   "metadata": {},
   "source": [
    "````{solution} cast\n",
    ":class: dropdown\n",
    "B\n",
    "````"
   ]
  },
  {
   "cell_type": "markdown",
   "id": "9558debd-4db1-4032-994e-3ac47667acbb",
   "metadata": {},
   "source": [
    "```{exercise}\n",
    ":label: string-upper\n",
    "\n",
    "What is a correct syntax to print a string 'txt' in upper case letters?\n",
    "\n",
    "A.&nbsp;&nbsp;  'txt'.toupper()\n",
    "\n",
    "B.&nbsp;&nbsp;  'txt'.to_upper()\n",
    "\n",
    "C.&nbsp;&nbsp;  'txt'.upper()\n",
    "\n",
    "D.&nbsp;&nbsp;  'txt'.capital()\n",
    "\n",
    "```"
   ]
  },
  {
   "cell_type": "markdown",
   "id": "b8460d28-496f-4e4f-ab49-e11d143db6e0",
   "metadata": {},
   "source": [
    "````{solution} string-upper\n",
    ":class: dropdown\n",
    "C\n",
    "````"
   ]
  },
  {
   "cell_type": "markdown",
   "id": "1514b3c0-10f8-45e1-99f7-528d3a706f31",
   "metadata": {},
   "source": [
    "```{exercise}\n",
    ":label: string-strip\n",
    "\n",
    "How to return the string without any whitespace at the beginning or the end for the string txt = ' United Kingdom '?\n",
    "\n",
    "A.&nbsp;&nbsp;  'txt'.space()\n",
    "\n",
    "B.&nbsp;&nbsp;  'txt'.strip()\n",
    "\n",
    "C.&nbsp;&nbsp;  'txt'.pop()\n",
    "\n",
    "D.&nbsp;&nbsp;  'txt'.split()\n",
    "\n",
    "```"
   ]
  },
  {
   "cell_type": "markdown",
   "id": "b497f295-534d-48cb-ae60-0bbebf56bdf8",
   "metadata": {},
   "source": [
    "````{solution} string-strip\n",
    ":class: dropdown\n",
    "C\n",
    "````"
   ]
  },
  {
   "cell_type": "markdown",
   "id": "4a77ba49-9844-4eb3-a516-fdd9be73d866",
   "metadata": {},
   "source": [
    "```{exercise-start}\n",
    ":label: str-plus\n",
    "````\n",
    "\n",
    "What is the output of the following codes?\n",
    "```python\n",
    "a = 'Hello'\n",
    "b = 'World'\n",
    "print(a + b)\n",
    "```\n",
    "\n",
    "A.&nbsp;&nbsp;  HelloWorld\n",
    "\n",
    "B.&nbsp;&nbsp;  Hello World\n",
    "\n",
    "C.&nbsp;&nbsp;  a + b\n",
    "\n",
    "D.&nbsp;&nbsp;  'Hello''World'\n",
    "\n",
    "```{exercise-end}\n",
    "```"
   ]
  },
  {
   "cell_type": "markdown",
   "id": "4dd1ad55-e0b1-4fb8-88e0-fadfa4024da1",
   "metadata": {},
   "source": [
    "````{solution} str-plus\n",
    ":class: dropdown\n",
    "A\n",
    "````"
   ]
  },
  {
   "cell_type": "markdown",
   "id": "783a7a1b-eb56-45cf-b6b8-439ddfcbd5b7",
   "metadata": {},
   "source": [
    "```{exercise-start}\n",
    ":label: list-str-output\n",
    "```\n",
    "What is the output of the follwing code? \n",
    "\n",
    "```python\n",
    "arr = [\"uk\",\"brunel\", 100]\n",
    "print(arr[1][2])\n",
    "```\n",
    "\n",
    "A.&nbsp;&nbsp;  100\n",
    "\n",
    "B.&nbsp;&nbsp;  brunel\n",
    "\n",
    "C.&nbsp;&nbsp;  k\n",
    "\n",
    "D.&nbsp;&nbsp;  u\n",
    "\n",
    "```{exercise-end}\n",
    "```\n"
   ]
  },
  {
   "cell_type": "markdown",
   "id": "8dd38fc5-0caf-4aad-9ee0-f2757e67150a",
   "metadata": {},
   "source": [
    "````{solution} list-str-output\n",
    ":class: dropdown\n",
    "D\n",
    "````"
   ]
  },
  {
   "cell_type": "markdown",
   "id": "6e2f5952-dff6-4e2b-b10f-52281b3e2fee",
   "metadata": {},
   "source": [
    "```{exercise-start}\n",
    ":label: dict-len\n",
    "```\n",
    "\n",
    "What is the output of the following code?\n",
    "\n",
    "```python\n",
    "d = {1: 'us', 2: 'uk', 3: 'china', 4: 20}\n",
    "print(len(d))\n",
    "```\n",
    "\n",
    "A.&nbsp;&nbsp;  8\n",
    "\n",
    "B.&nbsp;&nbsp;  20\n",
    "\n",
    "C.&nbsp;&nbsp;  6\n",
    "\n",
    "D.&nbsp;&nbsp;  4\n",
    "\n",
    "```{exercise-end}\n",
    "```\n"
   ]
  },
  {
   "cell_type": "markdown",
   "id": "a3d62d04-77cb-45e6-9cfb-3bec9647d193",
   "metadata": {},
   "source": [
    "````{solution} dict-len\n",
    ":class: dropdown\n",
    "D\n",
    "````"
   ]
  },
  {
   "cell_type": "markdown",
   "id": "8f33049b-cb9e-46b2-adbd-3c76ae6a2f83",
   "metadata": {},
   "source": [
    "```{exercise}\n",
    ":label: dict-true\n",
    "\n",
    "A dictionary cannot have two keys with the same name.\n",
    "\n",
    "A.&nbsp;&nbsp;  True\n",
    "\n",
    "B.&nbsp;&nbsp;  False\n",
    "\n",
    "```"
   ]
  },
  {
   "cell_type": "markdown",
   "id": "592df822-b9c2-4e02-905a-84ce3b746c2d",
   "metadata": {},
   "source": [
    "````{solution} dict-true\n",
    ":class: dropdown\n",
    "A\n",
    "````"
   ]
  },
  {
   "cell_type": "markdown",
   "id": "90aed213-36ac-4af1-b31c-674ed7757689",
   "metadata": {},
   "source": [
    "```{exercise}\n",
    ":label: bool-true\n",
    "\n",
    "Which of the following is considered a \"True\" value in Python?\n",
    "\n",
    "A.&nbsp;&nbsp;  2\n",
    "\n",
    "B.&nbsp;&nbsp;  ''\n",
    "\n",
    "C.&nbsp;&nbsp;  {}\n",
    "\n",
    "D.&nbsp;&nbsp;  []\n",
    "\n",
    "```"
   ]
  },
  {
   "cell_type": "markdown",
   "id": "6323925b-6b32-4718-9b87-88e8dcb9944e",
   "metadata": {},
   "source": [
    "````{solution} bool-true\n",
    ":class: dropdown\n",
    "A\n",
    "````"
   ]
  },
  {
   "cell_type": "markdown",
   "id": "302cba1b-8307-4704-803c-74402e237f90",
   "metadata": {},
   "source": [
    "```{exercise-start}\n",
    ":label: dict-access\n",
    "```\n",
    "How to access the value of year from the followinng dict?\n",
    "\n",
    "```python\n",
    "car =\t{\n",
    "  \"brand\": \"Tesla\",\n",
    "  \"year\": 2013\n",
    "}\n",
    "```\n",
    "\n",
    "A.&nbsp;&nbsp;  car['year']\n",
    "\n",
    "B.&nbsp;&nbsp;  car.get('year')\n",
    "\n",
    "C.&nbsp;&nbsp;  car[2013]\n",
    "\n",
    "D.&nbsp;&nbsp;   A or B\n",
    "\n",
    "```{exercise-end}\n",
    "```"
   ]
  },
  {
   "cell_type": "markdown",
   "id": "2eecd17c-1a8c-407d-ab34-43ed48eee834",
   "metadata": {},
   "source": [
    "````{solution} dict-access\n",
    ":class: dropdown\n",
    "D\n",
    "````"
   ]
  },
  {
   "cell_type": "markdown",
   "id": "73ddbb1e-23b2-4c63-b538-5551134552f3",
   "metadata": {},
   "source": [
    "```{exercise-start}\n",
    ":label: dict-pop\n",
    "```\n",
    "How to remove the pair key-value \"year\": 2013 from the followinng dict?\n",
    "\n",
    "```python\n",
    "car =\t{\n",
    "  \"brand\": \"Tesla\",\n",
    "  \"year\": 2013\n",
    "}\n",
    "```\n",
    "\n",
    "A.&nbsp;&nbsp;  car.clear()\n",
    "\n",
    "B.&nbsp;&nbsp;  car.get('year')\n",
    "\n",
    "C.&nbsp;&nbsp;  car.pop('year')\n",
    "\n",
    "D.&nbsp;&nbsp;  car.remove('year')\n",
    "\n",
    "```{exercise-end}\n",
    "```"
   ]
  },
  {
   "cell_type": "markdown",
   "id": "0f214fbb-27b0-4c99-beb9-f30fe00e91ba",
   "metadata": {},
   "source": [
    "````{solution} dict-pop\n",
    ":class: dropdown\n",
    "C\n",
    "````"
   ]
  },
  {
   "cell_type": "markdown",
   "id": "f0c44af9-a562-4395-9f4f-cb11f9d386f3",
   "metadata": {},
   "source": [
    "```{exercise-start}\n",
    ":label: dict-change\n",
    "```\n",
    "How to change the 'type' from 'apple' to 'banana' for the following dict?\n",
    "\n",
    "```python\n",
    "dict = {'type' : 'apple', 'name' : 'red2'}\n",
    "```\n",
    "\n",
    "A.&nbsp;&nbsp;  dict['type'] = 'banana'\n",
    "\n",
    "B.&nbsp;&nbsp;  dict('type') = 'banana'\n",
    "\n",
    "C.&nbsp;&nbsp;  dict{'type'} = 'banana'\n",
    "\n",
    "D.&nbsp;&nbsp;   dict['name'] = 'banana'\n",
    "\n",
    "```{exercise-end}\n",
    "```"
   ]
  },
  {
   "cell_type": "markdown",
   "id": "168aa9e7-3d46-49d8-8b4a-e02f65990c8a",
   "metadata": {},
   "source": [
    "````{solution} dict-change\n",
    ":class: dropdown\n",
    "A\n",
    "````"
   ]
  },
  {
   "cell_type": "markdown",
   "id": "1aec6101-7789-4c9b-a0b8-8aeba8eac585",
   "metadata": {},
   "source": [
    "```{exercise}\n",
    ":label: multi-variable-assign\n",
    "What is a correct syntax to add the value 'Hello World', to 3 variables in one statement?\n",
    "\n",
    "A.&nbsp;&nbsp;  x, y, z = 'Hello World'\n",
    "\n",
    "B.&nbsp;&nbsp;  x | y | z = 'Hello World'\n",
    "\n",
    "C.&nbsp;&nbsp;  x & y & z = 'Hello World'\n",
    "\n",
    "D.&nbsp;&nbsp;  x = y = z = 'Hello World'\n",
    "```"
   ]
  },
  {
   "cell_type": "markdown",
   "id": "0c31df41-7ec6-4455-98e6-cdc576f857f9",
   "metadata": {},
   "source": [
    "````{solution} multi-variable-assign\n",
    ":class: dropdown\n",
    "D\n",
    "````"
   ]
  },
  {
   "cell_type": "markdown",
   "id": "919ebab9-4778-48c3-916f-9f8f4825e60a",
   "metadata": {},
   "source": [
    "```{exercise-start}\n",
    ":label: dict-generate\n",
    "```\n",
    "What is the output of the following codes?\n",
    "\n",
    "```python\n",
    "a = {i: i * i for i in range(4)} \n",
    "print (a) \n",
    "```\n",
    "\n",
    "A.&nbsp;&nbsp;  {1, 2, 3, 4}\n",
    "\n",
    "B.&nbsp;&nbsp;  {0, 1, 2, 3}\n",
    "\n",
    "C.&nbsp;&nbsp;  {0: 0, 1: 1, 2: 2, 3: 3}\n",
    "\n",
    "D.&nbsp;&nbsp;   {0: 0, 1: 1, 2: 4, 3: 9}\n",
    "\n",
    "```{exercise-end}\n",
    "```"
   ]
  },
  {
   "cell_type": "markdown",
   "id": "31330cfe-016b-46f7-b4c5-5f49ebd16ccf",
   "metadata": {},
   "source": [
    "````{solution} dict-generate\n",
    ":class: dropdown\n",
    "D\n",
    "````"
   ]
  },
  {
   "cell_type": "markdown",
   "id": "a1bb8666-2b2c-48a2-82dc-4f2ebb2a8bd8",
   "metadata": {},
   "source": [
    "```{exercise-start}\n",
    ":label: dict-loop\n",
    "```\n",
    "How to loop trough all the values of the followinng dict?\n",
    "\n",
    "```python\n",
    "car =\t{\n",
    "  \"brand\": \"Tesla\",\n",
    "  \"year\": 2013\n",
    "}\n",
    "```\n",
    "\n",
    "```{exercise-end}\n",
    "```"
   ]
  },
  {
   "cell_type": "markdown",
   "id": "12fe9c73-59e4-46ec-ab8c-8b259c4968a6",
   "metadata": {},
   "source": [
    "````{solution} dict-loop\n",
    ":class: dropdown\n",
    "\n",
    "```python\n",
    "for y in car.values():\n",
    "    print(y)\n",
    "```\n",
    "````"
   ]
  },
  {
   "cell_type": "markdown",
   "id": "3e2a8c36-064d-4867-9378-4ab951fef69c",
   "metadata": {},
   "source": [
    "```{exercise-start}\n",
    ":label: dict-loop2\n",
    "```\n",
    "How to loop trough all the keys and values of the followinng dict?\n",
    "\n",
    "```python\n",
    "car =\t{\n",
    "  \"brand\": \"Tesla\",\n",
    "  \"year\": 2013,\n",
    "  \"price\": 30000\n",
    "}\n",
    "```\n",
    "\n",
    "```{exercise-end}\n",
    "```"
   ]
  },
  {
   "cell_type": "markdown",
   "id": "591a8676-4204-40e4-8181-ed0b13b2e686",
   "metadata": {},
   "source": [
    "````{solution} dict-loop2\n",
    ":class: dropdown\n",
    "\n",
    "```python\n",
    "for y, z in car.items():\n",
    "  print(y, z)\n",
    "```\n",
    "````"
   ]
  },
  {
   "cell_type": "markdown",
   "id": "2bac1f97-f3fd-4405-8b41-d2070f20e0d9",
   "metadata": {
    "slideshow": {
     "slide_type": "subslide"
    }
   },
   "source": [
    "```{exercise}\n",
    ":label: random\n",
    "\n",
    "Ranomly sample 3 chracters from the string 'abcedefg'. (tips: use the method in the library 'random')\n",
    "```"
   ]
  },
  {
   "cell_type": "markdown",
   "id": "90c44985-3301-4f86-a831-a33f2fb7c602",
   "metadata": {},
   "source": [
    "````{solution} random\n",
    ":class: dropdown\n",
    "```{code-block} python\n",
    "import random\n",
    "\n",
    "random.sample('abcedefg', 3)\n",
    "```\n",
    "````"
   ]
  },
  {
   "cell_type": "markdown",
   "id": "645bc0cd",
   "metadata": {},
   "source": [
    "<script src=\"https://giscus.app/client.js\"\n",
    "        data-repo=\"robinchen121/book-Python-Data-Science\"\n",
    "        data-repo-id=\"R_kgDOKFdyOw\"\n",
    "        data-category=\"Announcements\"\n",
    "        data-category-id=\"DIC_kwDOKFdyO84CgWHi\"\n",
    "        data-mapping=\"pathname\"\n",
    "        data-strict=\"0\"\n",
    "        data-reactions-enabled=\"1\"\n",
    "        data-emit-metadata=\"0\"\n",
    "        data-input-position=\"bottom\"\n",
    "        data-theme=\"light\"\n",
    "        data-lang=\"en\"\n",
    "        crossorigin=\"anonymous\"\n",
    "        async>\n",
    "</script>"
   ]
  },
  {
   "cell_type": "markdown",
   "id": "d20eb387",
   "metadata": {},
   "source": [
    "<!-- Toogle google translation -->\n",
    "<div id=\"google_translate_element\"></div>\n",
    "<script type=\"text/javascript\">\n",
    "      function googleTranslateElementInit() {\n",
    "        new google.translate.TranslateElement({ pageLanguage: 'zh-CN',\n",
    "                  includedLanguages: 'en,zh-CN,zh-TW,ja,ko,de,ru,fr,es,it,pt,hi,ar,fa',\n",
    "layout: google.translate.TranslateElement.InlineLayout.SIMPLE }, 'google_translate_element');\n",
    "      }\n",
    "</script>\n",
    "<script type=\"text/javascript\"\n",
    "      src=\"https://translate.google.com/translate_a/element.js?cb=googleTranslateElementInit\"\n",
    "></script>\n",
    "<br>"
   ]
  }
 ],
 "metadata": {
  "celltoolbar": "幻灯片",
  "kernelspec": {
   "display_name": "Python [conda env:base] *",
   "language": "python",
   "name": "conda-base-py"
  },
  "language_info": {
   "codemirror_mode": {
    "name": "ipython",
    "version": 3
   },
   "file_extension": ".py",
   "mimetype": "text/x-python",
   "name": "python",
   "nbconvert_exporter": "python",
   "pygments_lexer": "ipython3",
   "version": "3.12.2"
  }
 },
 "nbformat": 4,
 "nbformat_minor": 5
}
