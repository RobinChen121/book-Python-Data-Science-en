{
 "cells": [
  {
   "cell_type": "markdown",
   "id": "ab619b48",
   "metadata": {
    "slideshow": {
     "slide_type": "slide"
    }
   },
   "source": [
    "# Getting started with Python\n",
    "<hr>"
   ]
  },
  {
   "cell_type": "markdown",
   "id": "0f646c07",
   "metadata": {},
   "source": [
    "## The origin of Python\n",
    "<hr>"
   ]
  },
  {
   "cell_type": "markdown",
   "id": "f3d489d9",
   "metadata": {},
   "source": [
    "The first version of Python released in 1991—earlier than the programming language Java. For much of its early existence, Python remained a niche language and did not gain widespread popularity. However, in recent years, the rise and proliferation of big data and artificial intelligence technologies have significantly boosted Python’s popularity. Thanks to its **simplicity and strong scalability**, Python aligns well with the needs of these emerging technologies, allowing it to surpass many other programming languages and rise rapidly in prominence."
   ]
  },
  {
   "cell_type": "markdown",
   "id": "fd8727d9-1fa6-46f6-a13b-5717fa4f75e7",
   "metadata": {},
   "source": [
    "Python was named \"Programming Language of the Year\" by the well-known TIOBE index in 2010, 2018, 2020, 2021 and 2024. It has consistently ranked among the top three most popular programming languages in both annual and monthly rankings. A popular saying has even emerged online: ``Life is short, I use Python.``"
   ]
  },
  {
   "cell_type": "markdown",
   "id": "156ebb1e",
   "metadata": {
    "slideshow": {
     "slide_type": "subslide"
    }
   },
   "source": [
    "![title](guido.jpeg)"
   ]
  },
  {
   "cell_type": "markdown",
   "id": "8619ed5e",
   "metadata": {
    "slideshow": {
     "slide_type": "fragment"
    }
   },
   "source": [
    "Python was created by a Dutch programmer Guido van Rossum. During the Christmas holiday in 1989, he decided to develop a new scripting interpreter to pass the time. His goal was to create a successor to the ABC programming language, and thus Python was born.\n",
    "\n",
    "The name \"Python\" was chosen not because of the snake, but because Guido van Rossum was a big fan of the BBC television show Monty Python’s Flying Circus. However, since \"python\" also means a large snake in English, many Python-related tools and books use a snake as their logo or icon."
   ]
  },
  {
   "cell_type": "markdown",
   "id": "c766c1fb-6845-4c07-b7d0-813f75731d62",
   "metadata": {},
   "source": [
    "Python 2.0 was released on October 16, 2000, while Python 3.0 was released on December 3, 2008. Python 3 is not backward-compatible with Python 2 code. Currently, Python 3 is the dominant version, and all Python programs in this book are based on Python 3."
   ]
  },
  {
   "cell_type": "markdown",
   "id": "8741797b-89b9-4df2-bae1-8bff980d2a58",
   "metadata": {},
   "source": [
    "## Features of Python\n",
    "<hr>"
   ]
  },
  {
   "cell_type": "markdown",
   "id": "b2c16abe-f15a-415a-a66e-c29e226f5351",
   "metadata": {},
   "source": [
    "1. Python is considered one of the most `concise` and `flexible` programming languages. Compared to languages like C, C++, and Java, Python can accomplish the same tasks with significantly less code."
   ]
  },
  {
   "cell_type": "code",
   "execution_count": 12,
   "id": "8d50cfa5-91b3-4920-bc1b-079ee346906a",
   "metadata": {},
   "outputs": [
    {
     "name": "stdout",
     "output_type": "stream",
     "text": [
      "hello, world!\n"
     ]
    }
   ],
   "source": [
    "print('hello, world!') # python code"
   ]
  },
  {
   "cell_type": "markdown",
   "id": "c6ec22b8-930e-4ec2-a51d-299b17583a7d",
   "metadata": {},
   "source": [
    "C codes:"
   ]
  },
  {
   "cell_type": "markdown",
   "id": "4e496e70-61c1-4d97-9255-741c3b215a73",
   "metadata": {},
   "source": [
    "```c\n",
    "#include <stdio.h>\n",
    "\n",
    "int main() {\n",
    "    printf(\"Hello, World!\\n\");\n",
    "    return 0;\n",
    "}\n",
    "```"
   ]
  },
  {
   "cell_type": "markdown",
   "id": "1337d404-1138-413a-aaaa-54fa7081bfa7",
   "metadata": {},
   "source": [
    "C++ codes:"
   ]
  },
  {
   "cell_type": "markdown",
   "id": "0b91040c-8692-4d01-88fc-9baa585da48f",
   "metadata": {},
   "source": [
    "```c++\n",
    "#include <iostream>\n",
    "\n",
    "int main() {\n",
    "    std::cout << \"Hello, World!\" << std::endl;\n",
    "    return 0;\n",
    "}\n",
    "```"
   ]
  },
  {
   "cell_type": "markdown",
   "id": "d2faa488-838b-4281-83f1-fe4c5e76f0f4",
   "metadata": {},
   "source": [
    "Java codes:"
   ]
  },
  {
   "cell_type": "markdown",
   "id": "f3ed8f0c-ea1b-4a6a-a100-35427ff8186c",
   "metadata": {},
   "source": [
    "```Java\n",
    "public class HelloWorld {\n",
    "    public static void main(String[] args) {\n",
    "        System.out.println(\"Hello, World!\");\n",
    "    }\n",
    "}\n",
    "```"
   ]
  },
  {
   "cell_type": "markdown",
   "id": "ec7ecc04-1bf5-4153-88cf-cbb9434fec77",
   "metadata": {},
   "source": [
    "2. Python offers a `rich set of libraries` that help programmers easily implement various functionalities. It also provides multiple interfaces that allow seamless integration with other coding lanuages like C, C++, Java, R, Matlab to develop extension modules. For this reason, many people refer to Python as a “glue language.”"
   ]
  },
  {
   "cell_type": "markdown",
   "id": "8425e8e7-9f6a-401f-b77e-a51966ac438f",
   "metadata": {
    "slideshow": {
     "slide_type": "subslide"
    }
   },
   "source": [
    "Some common used libraries:\n",
    "\n",
    "\n",
    "- math — Python’s built-in library for mathematical functions\n",
    "\n",
    "- random — Python’s built-in library for generating random numbers\n",
    "\n",
    "- numpy — Used for array and matrix operations\n",
    "\n",
    "- pandas — A key tool for handling tabular data and data analysis\n",
    "\n",
    "- matplotlib — A commonly used basic plotting library\n",
    "\n",
    " - seaborn — An advanced visualization library (more beautiful, more focused on statistical graphs) based on matplotlib "
   ]
  },
  {
   "cell_type": "markdown",
   "id": "3ad7d9a5-baef-47d2-9659-5c8a6356c653",
   "metadata": {
    "slideshow": {
     "slide_type": "subslide"
    }
   },
   "source": [
    "- scipy — A library for scientific computing\n",
    "\n",
    "- statsmodels — A library for statistical modeling and analysis\n",
    "\n",
    "- sklearn — A machine learning library\n",
    "\n",
    "- PyTorch, TensorFlow — Deep learning libraries commonly used in natural language processing and computer vision\n",
    "\n",
    "- BeautifulSoup, Selenium — Libraries for web scraping"
   ]
  },
  {
   "cell_type": "markdown",
   "id": "e4037a8a-1705-489b-a92f-d50a5160b653",
   "metadata": {},
   "source": [
    "3. Python is a fully `object-oriented` language—functions, modules, numbers, and strings are all treated as objects. It fully supports inheritance, overloading, derivation, and multiple inheritance, and it also allows operator overloading."
   ]
  },
  {
   "cell_type": "markdown",
   "id": "91048709-cc58-44bd-a51f-599f817b48ba",
   "metadata": {},
   "source": [
    "Everything is an `object` in Python programming, Python data types are `classes` and variables are `instances (objects)` of these classes."
   ]
  },
  {
   "cell_type": "markdown",
   "id": "08f7f0d8-0cc9-4d17-8c84-eb53864195bc",
   "metadata": {},
   "source": [
    "- An \"object\" is a data entity in computuer memory that has a unique identity (ID), a type, and a value.\n",
    "- An Python object can have many functions, in which we call the function \"method\"."
   ]
  },
  {
   "cell_type": "markdown",
   "id": "2fcc624c",
   "metadata": {
    "slideshow": {
     "slide_type": "fragment"
    }
   },
   "source": [
    "4. Python is a cross-platform scripting language (a `dynamic language` where codes are intepreted during running). **Compared to compiled languages like C/C++ and Java, its execution speed is slower**. However, as computer processing power continues to increase, Python's slower speed has gradually become a negligible drawback."
   ]
  },
  {
   "cell_type": "markdown",
   "id": "9e3afb30",
   "metadata": {
    "slideshow": {
     "slide_type": "subslide"
    }
   },
   "source": [
    "Famous applications developed using Python include:\n",
    "\n",
    "- YouTube — A video-sharing platform\n",
    "\n",
    "- Dropbox — A file-sharing service\n",
    "\n",
    "- Instagram — A photo-sharing app\n",
    "\n",
    "- Douban — A well-known Chinese platform for book, music, and movie reviews"
   ]
  },
  {
   "cell_type": "markdown",
   "id": "c4275379",
   "metadata": {
    "slideshow": {
     "slide_type": "subslide"
    }
   },
   "source": [
    "Learning programming is different from studying subjects like math or literacy — you don’t need to memorize code, but you must `type` a lot of code!"
   ]
  },
  {
   "cell_type": "markdown",
   "id": "81355dbb-0634-4da0-8ee1-a676748b45ba",
   "metadata": {},
   "source": [
    "Recommended Websites for Learning Python:\n",
    "\n",
    "- ChatGpt, Grok, Gemini, DeepSeek → Ask AI and get detailed answers\n",
    "- [geeksforgeeks.org](https://www.geeksforgeeks.org/python-programming-language-tutorial/), [w3schools.com](https://www.w3schools.com/python/default.asp)  → Online learning websites for coding\n",
    "- StackOverflow.com → A global Q&A platform for coding\n",
    "- Google "
   ]
  },
  {
   "cell_type": "markdown",
   "id": "c5e85b8d",
   "metadata": {
    "slideshow": {
     "slide_type": "slide"
    }
   },
   "source": [
    "## Python installation\n",
    "<hr>\n",
    "\n",
    "There are generally  common ways to use Python: one is to install `Anaconda`, and the other is to install Python along with an editor like `PyCharm`.\n",
    "\n",
    "Anaconda includes the integrated development environment `Spyder` and a wide range of pre-installed popular librarys, such as NumPy, Pandas, Matplotlib, and Scikit-learn. It also supports other editors like `Jupyter Notebook`, IPython, and RStudio. For beginners who are just starting to learn Python, **Spyder is highly recommended**.\n",
    "\n",
    "The specific installation steps will not be detailed here — please visit the official websites to download and install the required software."
   ]
  },
  {
   "cell_type": "markdown",
   "id": "e6e6b4af",
   "metadata": {
    "slideshow": {
     "slide_type": "slide"
    }
   },
   "source": [
    "## Some basic uses of Python\n",
    "<hr>"
   ]
  },
  {
   "cell_type": "markdown",
   "id": "b4b05242-a232-48ce-8a45-e2e90e59b4a5",
   "metadata": {
    "slideshow": {
     "slide_type": "slide"
    }
   },
   "source": [
    "### Naming and reserved words\n",
    "<hr>"
   ]
  },
  {
   "cell_type": "markdown",
   "id": "d408ae91-452d-4cd5-be75-2917dbd0d630",
   "metadata": {},
   "source": [
    "When writing programs, variables are often used to store data. In Python, a variable is assigned using an equals sign (`=`). For example:"
   ]
  },
  {
   "cell_type": "code",
   "execution_count": 128,
   "id": "4a73f302-fe38-4e76-bc2d-ccf2ecb93bb2",
   "metadata": {},
   "outputs": [
    {
     "name": "stdout",
     "output_type": "stream",
     "text": [
      "Tim Cook\n"
     ]
    }
   ],
   "source": [
    "name = \"Tim Cook\" # name is string varaible\n",
    "print(name)"
   ]
  },
  {
   "cell_type": "code",
   "execution_count": 129,
   "id": "1929befc-45a7-4cb7-9e7f-cdeb51015b66",
   "metadata": {},
   "outputs": [
    {
     "name": "stdout",
     "output_type": "stream",
     "text": [
      "75\n"
     ]
    }
   ],
   "source": [
    "mark = 75 # mark is numeric varaible\n",
    "print(mark)"
   ]
  },
  {
   "cell_type": "markdown",
   "id": "dbb60be9-a3c9-4922-9e4d-c53fcf1b5994",
   "metadata": {},
   "source": [
    "Python allows variable/function/class names **only contain letters, digits and underscores (`_`)**. However: \n",
    "\n",
    "- A name cannot begin with a number\n",
    "\n",
    "- A name cannot contain spaces\n",
    "\n",
    "- A variable name cannot start with a digit.\n",
    "\n",
    "- Names are case-sensitive, meaning \"name\" and \"Name\" are treated as two different variables."
   ]
  },
  {
   "cell_type": "code",
   "execution_count": 131,
   "id": "8699b362",
   "metadata": {
    "slideshow": {
     "slide_type": "fragment"
    }
   },
   "outputs": [
    {
     "name": "stdout",
     "output_type": "stream",
     "text": [
      "Donald Trump\n",
      "55\n"
     ]
    }
   ],
   "source": [
    "Name = \"Donald Trump\"\n",
    "print(Name)\n",
    "\n",
    "_score = 55 # this is a valid naming\n",
    "print(_score)"
   ]
  },
  {
   "cell_type": "markdown",
   "id": "ca57a7a3-e049-45a2-9da0-8ff6ce3e3a88",
   "metadata": {
    "slideshow": {
     "slide_type": "subslide"
    }
   },
   "source": [
    "The principle of naming is that the **name should clearly indicate the meaning of the variable/function/class**, making it easier to debug and for others to read your code. Sometimes, a variable name may consist of multiple words. In such cases, you can:\n",
    "\n",
    "- Use underscores (`_`) to separate words (`suggested`), e.g., \"average_score\"\n",
    "\n",
    "- Capitalize the first letter of each word, e.g., \"AverageScore\"\n",
    "\n",
    "The second style is also known as Camel Case Naming, because the capital letters resemble the humps of a camel (Camel Case Naming is usually used for naming a class in Python)."
   ]
  },
  {
   "cell_type": "code",
   "execution_count": 133,
   "id": "e2b4e114",
   "metadata": {
    "slideshow": {
     "slide_type": "fragment"
    }
   },
   "outputs": [
    {
     "name": "stdout",
     "output_type": "stream",
     "text": [
      "87\n"
     ]
    }
   ],
   "source": [
    "average_score = 87\n",
    "print(average_score)"
   ]
  },
  {
   "cell_type": "markdown",
   "id": "a8a9966e-4245-4716-81f0-3514543e8475",
   "metadata": {
    "slideshow": {
     "slide_type": "fragment"
    }
   },
   "source": [
    "`````{admonition} tips\n",
    ":class: tip\n",
    "When typing a variable, function, method name, you can use the `Tab` key to get suggestions or enable auto-completion in the editor.\n",
    "`````"
   ]
  },
  {
   "cell_type": "markdown",
   "id": "eff6a346-0487-42b5-b20c-c10af8f6b582",
   "metadata": {
    "slideshow": {
     "slide_type": "subslide"
    }
   },
   "source": [
    "Reserved words, also known as keywords, are identifiers that are predefined and reserved by the programming language. When writing code, programmers **cannot use reserved words as variable names**."
   ]
  },
  {
   "cell_type": "markdown",
   "id": "4e8a9dc2-f2cb-4566-ba6f-25889d4af9f9",
   "metadata": {
    "slideshow": {
     "slide_type": "subslide"
    }
   },
   "source": [
    "There are 33 keywords in Python：\n",
    "\n",
    "|             |  |    |     |\n",
    "|----------|---------|----------|--------|\n",
    "| and      | elif    | import   | raise  |\n",
    "| as       | else    | in       | return |\n",
    "| assert   | except  | is       | try    |\n",
    "| break    | finally | lambda   | while  |\n",
    "| class    | for     | nonlocal | with   |\n",
    "| continue | from    | not      | yield  |\n",
    "| def      | global  | or       | True   |\n",
    "| del      | if      | pass     | False  |\n",
    "|          |         |          | None   |"
   ]
  },
  {
   "cell_type": "markdown",
   "id": "fdaf72d3-600e-44cc-98ae-43645879a69d",
   "metadata": {},
   "source": [
    "Invalid example:"
   ]
  },
  {
   "cell_type": "markdown",
   "id": "11b49fa7-74c5-4fa3-99c2-f0d186679a72",
   "metadata": {},
   "source": [
    "```text\n",
    "1name = \"chen\"  # starts with a digit\n",
    "class = 10       # 'class' is a reserved keyword\n",
    "user-name = \"Donald\"  # contains a hyphen\n",
    "```"
   ]
  },
  {
   "cell_type": "markdown",
   "id": "e47140c0-bf79-451f-a287-de46b37b7f81",
   "metadata": {},
   "source": [
    "### Multiple assignments, swapping, deleting\n",
    "<hr>"
   ]
  },
  {
   "cell_type": "markdown",
   "id": "844a9acf-bd3b-403e-a7a7-c9c00da6efe7",
   "metadata": {},
   "source": [
    "Python allows assigning the same value to multiple variables in a single line:"
   ]
  },
  {
   "cell_type": "code",
   "execution_count": 112,
   "id": "f77d74f7-0e51-4ab7-863f-4a03faf287fc",
   "metadata": {},
   "outputs": [
    {
     "name": "stdout",
     "output_type": "stream",
     "text": [
      "50 50 50\n"
     ]
    }
   ],
   "source": [
    "a = b = c = 50 # assign same values for 3 variables\n",
    "print(a, b, c)"
   ]
  },
  {
   "cell_type": "markdown",
   "id": "701b6d54-b818-4a4f-8875-c64c0ceffb28",
   "metadata": {},
   "source": [
    "We can assign different values to multiple variables simultaneously:"
   ]
  },
  {
   "cell_type": "code",
   "execution_count": 114,
   "id": "d9811d8c-5fe9-4061-9313-08c80c807896",
   "metadata": {},
   "outputs": [
    {
     "name": "stdout",
     "output_type": "stream",
     "text": [
      "1 2 Python\n"
     ]
    }
   ],
   "source": [
    "x, y, z = 1, 2, \"Python\"\n",
    "print(x, y, z)"
   ]
  },
  {
   "cell_type": "markdown",
   "id": "58880882-658c-4cbd-a708-f0ccb62a3a7b",
   "metadata": {},
   "source": [
    "Swapping two variables is easy in Python:"
   ]
  },
  {
   "cell_type": "code",
   "execution_count": 117,
   "id": "555f262e-4fb4-41ae-9b13-53cf1090227f",
   "metadata": {},
   "outputs": [
    {
     "name": "stdout",
     "output_type": "stream",
     "text": [
      "8 6\n"
     ]
    }
   ],
   "source": [
    "a, b = 6, 8\n",
    "a, b = b, a\n",
    "print(a, b)"
   ]
  },
  {
   "cell_type": "markdown",
   "id": "11b80e29-7e68-461d-b686-14235e67bf90",
   "metadata": {},
   "source": [
    "Deleting a variable from the computer memory can be done by using the keyword `del`:"
   ]
  },
  {
   "cell_type": "code",
   "execution_count": 121,
   "id": "6f0cb6e4-b830-401a-b446-8da4075a3496",
   "metadata": {},
   "outputs": [],
   "source": [
    "a = 3\n",
    "del a"
   ]
  },
  {
   "cell_type": "markdown",
   "id": "c1cdfa85-c204-4c2d-8cb0-ef5cf5a77331",
   "metadata": {},
   "source": [
    "### Operators\n",
    "<hr>"
   ]
  },
  {
   "cell_type": "markdown",
   "id": "86117ef1-0d87-4cd9-a7ae-eeaffa701b99",
   "metadata": {},
   "source": [
    "Operators are used to perform operations on values and variables. The operators of Python are given by the following table."
   ]
  },
  {
   "cell_type": "markdown",
   "id": "d12b05c8-9f24-4482-83ee-d12c67feae00",
   "metadata": {},
   "source": [
    "|        Operators     |  Type    |\n",
    "|-------------------|------------------|\n",
    "| `+` `-` `*` `/` `%` `//` `**`     | Arithmatic operator |\n",
    "| `>` `>=` `<` `<=` `==` `!=`            | Relationship operator |\n",
    "| `and` `or` `not`        | Logical operator   |\n",
    "| `=` `+=` `*=` `/=`  | Assignment operator|\n",
    "|`in` `not in`|Membership operator|"
   ]
  },
  {
   "cell_type": "code",
   "execution_count": 154,
   "id": "5b4d8483-0a7d-4e02-a43a-24b8407e6f58",
   "metadata": {},
   "outputs": [
    {
     "name": "stdout",
     "output_type": "stream",
     "text": [
      "Addition: 13\n",
      "Subtraction: 7\n",
      "Multiplication: 30\n",
      "Division: 3.3333333333333335\n",
      "Floor Division: 3\n",
      "Modulus: 1\n",
      "Exponentiation: 1000\n"
     ]
    }
   ],
   "source": [
    "# Variables\n",
    "a = 10\n",
    "b = 3\n",
    "\n",
    "# Addition\n",
    "print(\"Addition:\", a + b)  \n",
    "\n",
    "# Subtraction\n",
    "print(\"Subtraction:\", a - b) \n",
    "\n",
    "# Multiplication\n",
    "print(\"Multiplication:\", a * b)  \n",
    "\n",
    "# Division\n",
    "print(\"Division:\", a / b) \n",
    "\n",
    "# Floor Division\n",
    "print(\"Floor Division:\", a // b)  \n",
    "\n",
    "# Modulus\n",
    "print(\"Modulus:\", a % b) \n",
    "\n",
    "# Exponentiation\n",
    "print(\"Exponentiation:\", a ** b)"
   ]
  },
  {
   "cell_type": "markdown",
   "id": "1426b40b-28fd-421b-84a5-1df26520224d",
   "metadata": {},
   "source": [
    "- Combining with `( )` for some complex mathematical expressions"
   ]
  },
  {
   "cell_type": "code",
   "execution_count": 173,
   "id": "59bff525-2010-4f99-9256-cafe93abdda5",
   "metadata": {},
   "outputs": [
    {
     "data": {
      "text/plain": [
       "250.1"
      ]
     },
     "execution_count": 173,
     "metadata": {},
     "output_type": "execute_result"
    }
   ],
   "source": [
    "a + (b - 1) ** 2 / 10"
   ]
  },
  {
   "cell_type": "code",
   "execution_count": 156,
   "id": "1e58b008-8ad8-4059-9bed-f826302561f3",
   "metadata": {},
   "outputs": [
    {
     "name": "stdout",
     "output_type": "stream",
     "text": [
      "False\n",
      "True\n",
      "False\n",
      "True\n",
      "False\n",
      "True\n"
     ]
    }
   ],
   "source": [
    "a = 10\n",
    "b = 20\n",
    "\n",
    "print(a > b)\n",
    "print(a < b)\n",
    "print(a == b)\n",
    "print(a != b)\n",
    "print(a >= b)\n",
    "print(a <= b)"
   ]
  },
  {
   "cell_type": "code",
   "execution_count": 158,
   "id": "277f25ff-c05c-447d-b830-5fb11340a196",
   "metadata": {},
   "outputs": [
    {
     "name": "stdout",
     "output_type": "stream",
     "text": [
      "False\n",
      "True\n",
      "False\n"
     ]
    }
   ],
   "source": [
    "a = True\n",
    "b = False\n",
    "print(a and b)\n",
    "print(a or b)\n",
    "print(not a)"
   ]
  },
  {
   "cell_type": "code",
   "execution_count": 162,
   "id": "077edd11-dcc4-469e-b1dc-98ad45a0f372",
   "metadata": {},
   "outputs": [
    {
     "name": "stdout",
     "output_type": "stream",
     "text": [
      "5\n",
      "15\n",
      "5\n",
      "50\n"
     ]
    }
   ],
   "source": [
    "a = 10\n",
    "b = 5\n",
    "print(b)\n",
    "b += a # equals b = a + b\n",
    "print(b)\n",
    "b -= a # equals b = a - b\n",
    "print(b)\n",
    "b *= a # equals b = a * b\n",
    "print(b)"
   ]
  },
  {
   "cell_type": "markdown",
   "id": "aaed5759-2596-41c8-946f-03f67ac16314",
   "metadata": {},
   "source": [
    "`in` and `not in` are the membership operators that test whether a value or variable is in a sequence."
   ]
  },
  {
   "cell_type": "code",
   "execution_count": 167,
   "id": "bbe8ca74-58cf-4ace-9430-d2a29da05d6a",
   "metadata": {},
   "outputs": [
    {
     "data": {
      "text/plain": [
       "False"
      ]
     },
     "execution_count": 167,
     "metadata": {},
     "output_type": "execute_result"
    }
   ],
   "source": [
    "x = 14\n",
    "y = 30\n",
    "list = [10, 20, 30, 40]\n",
    "\n",
    "x in list"
   ]
  },
  {
   "cell_type": "code",
   "execution_count": 169,
   "id": "98b677e7-aa7e-4000-a25e-e6b636a9a9c5",
   "metadata": {},
   "outputs": [
    {
     "data": {
      "text/plain": [
       "True"
      ]
     },
     "execution_count": 169,
     "metadata": {},
     "output_type": "execute_result"
    }
   ],
   "source": [
    "y in list"
   ]
  },
  {
   "cell_type": "code",
   "execution_count": 171,
   "id": "6ad0d7d6-e158-4473-bf09-31f32831abc5",
   "metadata": {},
   "outputs": [
    {
     "data": {
      "text/plain": [
       "True"
      ]
     },
     "execution_count": 171,
     "metadata": {},
     "output_type": "execute_result"
    }
   ],
   "source": [
    "x not in list"
   ]
  },
  {
   "cell_type": "markdown",
   "id": "ae1dc873-398c-4c91-8d26-339889543ccd",
   "metadata": {},
   "source": [
    "### Print and Input\n",
    "<hr>"
   ]
  },
  {
   "cell_type": "markdown",
   "id": "9605496c-72da-48da-a9f0-a35a95c3c4e2",
   "metadata": {},
   "source": [
    "Printing output in Python is straightforward with the `print()` function."
   ]
  },
  {
   "cell_type": "code",
   "execution_count": 1,
   "id": "45eb5436",
   "metadata": {
    "scrolled": true,
    "slideshow": {
     "slide_type": "fragment"
    }
   },
   "outputs": [
    {
     "name": "stdout",
     "output_type": "stream",
     "text": [
      "my university\n"
     ]
    }
   ],
   "source": [
    "print(\"my university\") # output a string"
   ]
  },
  {
   "cell_type": "code",
   "execution_count": 177,
   "id": "2097b729-d1dd-41af-9c20-8402619f294a",
   "metadata": {},
   "outputs": [
    {
     "name": "stdout",
     "output_type": "stream",
     "text": [
      "Alice 20 London\n"
     ]
    }
   ],
   "source": [
    "# output multiple variables\n",
    "name = \"Alice\"\n",
    "age = 20\n",
    "city = \"London\"\n",
    "print(name, age, city)"
   ]
  },
  {
   "cell_type": "markdown",
   "id": "72847121-73e2-40b1-ac8b-5db9affb10a4",
   "metadata": {},
   "source": [
    "`input()` function is used to take user input. It returns the form of a string by default. "
   ]
  },
  {
   "cell_type": "markdown",
   "id": "a1b8e0db",
   "metadata": {
    "slideshow": {
     "slide_type": "subslide"
    }
   },
   "source": [
    "```python\n",
    "name = input(\"please input your name：\") # take user input to the variable \"name\"\n",
    "```"
   ]
  },
  {
   "cell_type": "markdown",
   "id": "148f7055",
   "metadata": {
    "slideshow": {
     "slide_type": "fragment"
    }
   },
   "source": [
    "```python\n",
    "print(name) # output the name\n",
    "```"
   ]
  },
  {
   "cell_type": "markdown",
   "id": "5452e913-b3d8-4f78-901a-d5a63cc01ebb",
   "metadata": {
    "slideshow": {
     "slide_type": "slide"
    }
   },
   "source": [
    "### Comments and line breaking\n",
    "<hr>\n",
    "\n",
    "When writing programs, it's often necessary to add comments in the code to explain or annotate certain parts, indicate the author or date, and improve the readability of the program. Comments are not executed by the computer. In Python, there are two ways to add comments:\n",
    "\n",
    "- Single-line comments: Use `#` followed by the comment text\n",
    "\n",
    "- Multi-line comments: Use two sets of triple single quotes (`'''`) or triple double quotes (`\"\"\"`), with the comment content placed between them"
   ]
  },
  {
   "cell_type": "code",
   "execution_count": 4,
   "id": "86f16717",
   "metadata": {
    "slideshow": {
     "slide_type": "subslide"
    }
   },
   "outputs": [],
   "source": [
    "print(\"hello\") # this is a single line comment"
   ]
  },
  {
   "cell_type": "code",
   "execution_count": 189,
   "id": "d06dc88c",
   "metadata": {
    "slideshow": {
     "slide_type": "fragment"
    }
   },
   "outputs": [
    {
     "name": "stdout",
     "output_type": "stream",
     "text": [
      "hello\n"
     ]
    }
   ],
   "source": [
    "\"\"\"\n",
    "This is \n",
    "a multi line comment\n",
    "\"\"\"\n",
    "print(\"hello\")"
   ]
  },
  {
   "cell_type": "markdown",
   "id": "c7b34336-93e5-414f-9fa6-34ce5600174d",
   "metadata": {
    "slideshow": {
     "slide_type": "fragment"
    }
   },
   "source": [
    "`````{admonition} tips\n",
    ":class: tip\n",
    "- Many code editors provide shortcut keys for commenting code. For example, in Spyder, use `Ctrl + 1`, and in Jupyter Notebook, use `Ctrl + /`.\n",
    "\n",
    "- When debugging a program, comments are sometimes used to temporarily disable parts of the code that are not relevant to the debugging process, making it easier to test and troubleshoot.\n",
    "`````"
   ]
  },
  {
   "cell_type": "markdown",
   "id": "1d631889-5514-4cd9-9091-e2ac1e61df3d",
   "metadata": {
    "slideshow": {
     "slide_type": "subslide"
    }
   },
   "source": [
    "Sometimes, when a line of code is too long and needs to be split across multiple lines, you can use the backslash (`\\`) at the end of the line to indicate line continuation:"
   ]
  },
  {
   "cell_type": "code",
   "execution_count": 231,
   "id": "c72dd1ea",
   "metadata": {
    "slideshow": {
     "slide_type": "fragment"
    }
   },
   "outputs": [
    {
     "name": "stdout",
     "output_type": "stream",
     "text": [
      "these codes are too long.\n"
     ]
    }
   ],
   "source": [
    "print('these codes are \\\n",
    "too long.') # line breaking"
   ]
  },
  {
   "cell_type": "markdown",
   "id": "86410b00-0638-45ef-8d41-7f7ab6de4385",
   "metadata": {
    "slideshow": {
     "slide_type": "fragment"
    }
   },
   "source": [
    "```{note}\n",
    "In multi-line code, a backslash `\\` must not be immediately followed by a comment.\n",
    "```"
   ]
  },
  {
   "cell_type": "markdown",
   "id": "4938b725",
   "metadata": {
    "slideshow": {
     "slide_type": "slide"
    }
   },
   "source": [
    "## Install and use libraries\n",
    "<hr>"
   ]
  },
  {
   "cell_type": "markdown",
   "id": "888986c6-43a5-4517-b5d3-5a63749227e9",
   "metadata": {},
   "source": [
    "`pip` is Python’s built-in library management tool. It allows you to search for, download, install, and uninstall Python librarys. When you install Python, pip is installed automatically. The basic syntax is:"
   ]
  },
  {
   "cell_type": "markdown",
   "id": "7902f2f2",
   "metadata": {},
   "source": [
    "||pip syntax|\n",
    "|:--|:--|\n",
    "|install library|pip install [library_name]|\n",
    "|uninstall library|pip uninstall [library_name]|\n",
    "|update library|pip install [library_name] -U|\n",
    "|| or pip install [library_name] --upgrade|\n",
    "|show librarires list|pip list|\n",
    "|show outdated libraries|pip list --outdated|\n",
    "|search a library|pip search [library_name]|\n"
   ]
  },
  {
   "cell_type": "markdown",
   "id": "28435e6b",
   "metadata": {},
   "source": [
    "```{note}\n",
    "- `pip install [library_name] -U` equals `pip install -U [library_name]`\n",
    "- `pip install [library_name] --upgrade` equals `pip install --upgrade [library_name]`\n",
    "```"
   ]
  },
  {
   "cell_type": "markdown",
   "id": "bf5d760f",
   "metadata": {
    "slideshow": {
     "slide_type": "fragment"
    }
   },
   "source": [
    "Anaconda also allows you to install packages from the Anaconda repository using its built-in tool, **Conda**. The syntax is similar to that of `pip`, with the main difference being that you replace `pip` with `conda` in the command."
   ]
  },
  {
   "cell_type": "markdown",
   "id": "d1855e40",
   "metadata": {
    "slideshow": {
     "slide_type": "subslide"
    }
   },
   "source": [
    "For example，install a Yahoo finace library `yfinance`, input the following in the command line window："
   ]
  },
  {
   "cell_type": "markdown",
   "id": "86994c29",
   "metadata": {
    "slideshow": {
     "slide_type": "fragment"
    }
   },
   "source": [
    "```bash\n",
    "pip install yfinance\n",
    "```"
   ]
  },
  {
   "cell_type": "markdown",
   "id": "7a09006a",
   "metadata": {
    "slideshow": {
     "slide_type": "fragment"
    }
   },
   "source": [
    "Then, the library `yfinance` is automatically downloaded and installed."
   ]
  },
  {
   "cell_type": "markdown",
   "id": "41641aa3",
   "metadata": {
    "slideshow": {
     "slide_type": "subslide"
    }
   },
   "source": [
    "When using libraries，first using ``import`` to import the library."
   ]
  },
  {
   "cell_type": "code",
   "execution_count": 1,
   "id": "57cc5c2c",
   "metadata": {
    "slideshow": {
     "slide_type": "fragment"
    }
   },
   "outputs": [],
   "source": [
    "import numpy"
   ]
  },
  {
   "cell_type": "markdown",
   "id": "dd0ff8d6",
   "metadata": {
    "slideshow": {
     "slide_type": "fragment"
    }
   },
   "source": [
    "```{note}\n",
    "When importing the library，the name of the library is **lower cased**. \n",
    "```"
   ]
  },
  {
   "cell_type": "markdown",
   "id": "713d80fe",
   "metadata": {
    "slideshow": {
     "slide_type": "subslide"
    }
   },
   "source": [
    "Sometimes, the keyword `as` is also used to abbreviate the package name:"
   ]
  },
  {
   "cell_type": "code",
   "execution_count": 3,
   "id": "a2b39468",
   "metadata": {
    "slideshow": {
     "slide_type": "fragment"
    }
   },
   "outputs": [],
   "source": [
    "import numpy as np"
   ]
  },
  {
   "cell_type": "markdown",
   "id": "91bb5da5",
   "metadata": {
    "slideshow": {
     "slide_type": "fragment"
    }
   },
   "source": [
    "Then, when using methods from NumPy in your code, we can simply use np instead of numpy."
   ]
  },
  {
   "cell_type": "code",
   "execution_count": 5,
   "id": "cdab4a77",
   "metadata": {
    "slideshow": {
     "slide_type": "subslide"
    }
   },
   "outputs": [
    {
     "data": {
      "text/plain": [
       "2.3010299956639813"
      ]
     },
     "execution_count": 5,
     "metadata": {},
     "output_type": "execute_result"
    }
   ],
   "source": [
    "np.log10(200) # use the method log10 from numpy\n"
   ]
  },
  {
   "cell_type": "markdown",
   "id": "0eb60cae",
   "metadata": {
    "slideshow": {
     "slide_type": "subslide"
    }
   },
   "source": [
    "Sometimes，using the keyword `from` to import specific methods from a library. In this situation, there is no need to put the name of library in front of the method."
   ]
  },
  {
   "cell_type": "code",
   "execution_count": 35,
   "id": "14fcc63e",
   "metadata": {
    "slideshow": {
     "slide_type": "fragment"
    }
   },
   "outputs": [
    {
     "data": {
      "text/plain": [
       "14.142135623730951"
      ]
     },
     "execution_count": 35,
     "metadata": {},
     "output_type": "execute_result"
    }
   ],
   "source": [
    "from numpy import sqrt # import the method sqrt from the numpy library\n",
    "\n",
    "sqrt (200) # no need to put the name of the library in front of the method"
   ]
  },
  {
   "cell_type": "markdown",
   "id": "9ef04a8e",
   "metadata": {
    "slideshow": {
     "slide_type": "subslide"
    }
   },
   "source": [
    "Use `*` to import all the methods in a library."
   ]
  },
  {
   "cell_type": "code",
   "execution_count": 13,
   "id": "58078b32",
   "metadata": {
    "slideshow": {
     "slide_type": "fragment"
    }
   },
   "outputs": [],
   "source": [
    "from numpy import *"
   ]
  },
  {
   "cell_type": "markdown",
   "id": "9670eb1b",
   "metadata": {
    "slideshow": {
     "slide_type": "fragment"
    }
   },
   "source": [
    "In this way, all methods from the library can be used directly without needing to prefix them with the library name."
   ]
  },
  {
   "cell_type": "code",
   "execution_count": 37,
   "id": "8689ac93",
   "metadata": {
    "slideshow": {
     "slide_type": "fragment"
    }
   },
   "outputs": [
    {
     "data": {
      "text/plain": [
       "4.0"
      ]
     },
     "execution_count": 37,
     "metadata": {},
     "output_type": "execute_result"
    }
   ],
   "source": [
    "sqrt(16) "
   ]
  },
  {
   "cell_type": "markdown",
   "id": "88626ee8-e612-4d76-be6c-695dad661b2e",
   "metadata": {},
   "source": [
    "At the end of each chapter, this book introduces some of Python's standard libraries. These built-in libraries, which require no additional installation, provide many commonly used functionalities such as file operations, mathematical computations, network communication, data processing, and more."
   ]
  },
  {
   "cell_type": "markdown",
   "id": "f25afe18",
   "metadata": {
    "slideshow": {
     "slide_type": "slide"
    }
   },
   "source": [
    "## `math` library\n",
    "<hr>"
   ]
  },
  {
   "cell_type": "markdown",
   "id": "d67011dd",
   "metadata": {
    "slideshow": {
     "slide_type": "fragment"
    }
   },
   "source": [
    "`math` is a built-in Python library containing mathematical methods, providing 4 mathematical constants and 44 mathematical methods. These methods include: math constants, number representation methods, power and logarithmic methods, trigonometric methods and special methods."
   ]
  },
  {
   "cell_type": "markdown",
   "id": "f11109c4",
   "metadata": {
    "slideshow": {
     "slide_type": "subslide"
    }
   },
   "source": [
    "Math constants:\n",
    "\n",
    "|Constants|Meaning|\n",
    "|--|--|\n",
    "|`math.pi`| $\\pi$|\n",
    "|`math.e`|Euler's numbe|\n",
    "|`math.inf`| infinity $\\infty$，minus infinity `-math.inf`|\n",
    "|`math.nan`| Non-numeric value|"
   ]
  },
  {
   "cell_type": "markdown",
   "id": "29cd8414",
   "metadata": {
    "slideshow": {
     "slide_type": "subslide"
    }
   },
   "source": [
    "Some numerical representation methods:\n",
    "\n",
    "|Method|Meaning|\n",
    "|--|--|\n",
    "|`ceil(x)`|Return the smallest integer not less than $x$|\n",
    "|`floor(x)`|Return the smallest integer less than $x$|\n",
    "|`factorial(x)`|Return the factorial of integer $x$|"
   ]
  },
  {
   "cell_type": "code",
   "execution_count": 27,
   "id": "e8eba30e",
   "metadata": {
    "slideshow": {
     "slide_type": "fragment"
    }
   },
   "outputs": [
    {
     "data": {
      "text/plain": [
       "3"
      ]
     },
     "execution_count": 27,
     "metadata": {},
     "output_type": "execute_result"
    }
   ],
   "source": [
    "import math\n",
    "\n",
    "math.ceil(2.3)"
   ]
  },
  {
   "cell_type": "markdown",
   "id": "e49ac899",
   "metadata": {
    "slideshow": {
     "slide_type": "subslide"
    }
   },
   "source": [
    "Some power and logarithmic methods:\n",
    "\n",
    "|Method|Meaning|\n",
    "|:--:|--|\n",
    "|`exp(x)`|return $e$ raised to the power of $x$: $e^x$|\n",
    "|`sqrt(x)`|return the squre roort of $x$: $\\sqrt x$|\n",
    "|`log(x)`| return the natural logarithm of $x$: $\\ln(x)$|"
   ]
  },
  {
   "cell_type": "code",
   "execution_count": 31,
   "id": "6c885af0",
   "metadata": {
    "slideshow": {
     "slide_type": "fragment"
    }
   },
   "outputs": [
    {
     "data": {
      "text/plain": [
       "7.38905609893065"
      ]
     },
     "execution_count": 31,
     "metadata": {},
     "output_type": "execute_result"
    }
   ],
   "source": [
    "math.exp(2)"
   ]
  },
  {
   "cell_type": "code",
   "execution_count": 33,
   "id": "1f1423a6-17a8-4fc4-be01-bbacaaac90d4",
   "metadata": {},
   "outputs": [
    {
     "data": {
      "text/plain": [
       "2.302585092994046"
      ]
     },
     "execution_count": 33,
     "metadata": {},
     "output_type": "execute_result"
    }
   ],
   "source": [
    "math.log(10)"
   ]
  },
  {
   "cell_type": "markdown",
   "id": "58114014",
   "metadata": {
    "slideshow": {
     "slide_type": "subslide"
    }
   },
   "source": [
    "Some trigonometric methods:\n",
    "\n",
    "|method|meaning|\n",
    "|:--:|--|\n",
    "|sin(x)|Return the sine of angle $x$ in radians|\n",
    "|cos(x)| Return the cosine of angle $x$ in radians|"
   ]
  },
  {
   "cell_type": "code",
   "execution_count": 3,
   "id": "c12196ed",
   "metadata": {
    "slideshow": {
     "slide_type": "fragment"
    }
   },
   "outputs": [
    {
     "data": {
      "text/plain": [
       "1.0"
      ]
     },
     "execution_count": 3,
     "metadata": {},
     "output_type": "execute_result"
    }
   ],
   "source": [
    "math.sin(math.pi/2)"
   ]
  },
  {
   "cell_type": "markdown",
   "id": "63087de3",
   "metadata": {
    "slideshow": {
     "slide_type": "slide"
    }
   },
   "source": [
    "## Exercises\n",
    "<hr>"
   ]
  },
  {
   "cell_type": "markdown",
   "id": "f51d31c6",
   "metadata": {
    "slideshow": {
     "slide_type": "fragment"
    }
   },
   "source": [
    "```{exercise-start}\n",
    "```\n",
    "Input the following codes in your Python editor and run.\n",
    "\n",
    "\n",
    "```{code-block} python\n",
    "# draw circles\n",
    "\n",
    "import turtle\n",
    "\n",
    "turtle.pensize(2)\n",
    "turtle.circle(20)\n",
    "turtle.circle(40)\n",
    "turtle.circle(60)\n",
    "turtle.circle(80)\n",
    "turtle.done()\n",
    "```\n",
    "```{exercise-end}\n",
    "```"
   ]
  },
  {
   "cell_type": "markdown",
   "id": "411c3d8c-439a-4757-b6de-acfffaf3afca",
   "metadata": {},
   "source": [
    "```{exercise}\n",
    ":label: define_variable\n",
    "\n",
    "Define a variable in Python. Which of the following statement is correct?\n",
    "\n",
    "A.&nbsp;&nbsp;  int a = 5\n",
    "\n",
    "B.&nbsp;&nbsp;  var a = 5\n",
    "\n",
    "C.&nbsp;&nbsp;  a = 5\n",
    "\n",
    "D.&nbsp;&nbsp;  $a = 5\n",
    "\n",
    "```"
   ]
  },
  {
   "cell_type": "markdown",
   "id": "7fabdc4e-1f74-4378-a0ae-25903c2170be",
   "metadata": {},
   "source": [
    "````{solution} define_variable\n",
    ":class: dropdown\n",
    "C\n",
    "````"
   ]
  },
  {
   "cell_type": "markdown",
   "id": "8a699403-7b5a-43fc-8753-df153e840598",
   "metadata": {},
   "source": [
    "```{exercise}\n",
    ":label: comment\n",
    "What is the correct way to comment a single line in Python?\n",
    "\n",
    "A.&nbsp;&nbsp;  # This is a comment\n",
    "\n",
    "B.&nbsp;&nbsp;  -- This is a comment\n",
    "\n",
    "C.&nbsp;&nbsp;  /* This is a comment */\n",
    "\n",
    "D.&nbsp;&nbsp;   // This is a comment\n",
    "\n",
    "```"
   ]
  },
  {
   "cell_type": "markdown",
   "id": "7d22bbbf-58dd-4182-b21b-34968e413402",
   "metadata": {},
   "source": [
    "````{solution} comment\n",
    ":class: dropdown\n",
    "A\n",
    "````"
   ]
  },
  {
   "cell_type": "markdown",
   "id": "556d31e7-8269-4dae-872d-0ef32a0e4f69",
   "metadata": {},
   "source": [
    "```{exercise}\n",
    ":label: variable_name\n",
    "Which of the following is a valid variable name in Python?\n",
    "\n",
    "A.&nbsp;&nbsp;  1abc\n",
    "\n",
    "B.&nbsp;&nbsp;  abc_1\n",
    "\n",
    "C.&nbsp;&nbsp;  abc-1\n",
    "\n",
    "D.&nbsp;&nbsp;  global\n",
    "\n",
    "```"
   ]
  },
  {
   "cell_type": "markdown",
   "id": "30d80570-acdd-4d9d-ae91-8ec05766e7da",
   "metadata": {},
   "source": [
    "````{solution} variable_name\n",
    ":class: dropdown\n",
    "B\n",
    "````"
   ]
  },
  {
   "cell_type": "markdown",
   "id": "d44ba98c-73f9-40c0-8d4f-23d06a6fe7f3",
   "metadata": {},
   "source": [
    "```{exercise-start}\n",
    ":label: operator-basic\n",
    "```\n",
    "\n",
    "What is the output of the following code?\n",
    "\n",
    "```{code-block} python\n",
    "x = 5\n",
    "y = 2\n",
    "print(x % y)\n",
    "```\n",
    "\n",
    "A.&nbsp;&nbsp;  0\n",
    "\n",
    "B.&nbsp;&nbsp;  1\n",
    "\n",
    "C.&nbsp;&nbsp;  2.5\n",
    "\n",
    "D.&nbsp;&nbsp;  2\n",
    "\n",
    "```{exercise-end}\n",
    "```"
   ]
  },
  {
   "cell_type": "markdown",
   "id": "b4abc226-f030-4d07-bb7b-831d6f3bbb43",
   "metadata": {},
   "source": [
    "````{solution} operator-basic\n",
    ":class: dropdown\n",
    "B\n",
    "````"
   ]
  },
  {
   "cell_type": "markdown",
   "id": "89db11e1-bc76-44d8-8bcc-aa9b6d1bcb68",
   "metadata": {},
   "source": [
    "```{exercise}\n",
    ":label: variable-swap\n",
    "How do you swap the values of two variables in Python without using a third variable?\n",
    "\n",
    "A.&nbsp;&nbsp;  x + y; y = x; x = y\n",
    "\n",
    "B.&nbsp;&nbsp;  x = y, y =x\n",
    "\n",
    "C.&nbsp;&nbsp;  temp = x; x = y; y = temp\n",
    "\n",
    "D.&nbsp;&nbsp;  x, y = y, x\n",
    "\n",
    "```"
   ]
  },
  {
   "cell_type": "markdown",
   "id": "c4c87f10-a75e-42ff-bcbf-a36137938392",
   "metadata": {},
   "source": [
    "````{solution} variable-swap\n",
    ":class: dropdown\n",
    "D\n",
    "````"
   ]
  },
  {
   "cell_type": "markdown",
   "id": "22b65481-e143-4978-9f1a-f9174160bfa8",
   "metadata": {},
   "source": [
    "```{exercise-start}\n",
    ":label: operator\n",
    "```\n",
    "What is the output of code: \n",
    "\n",
    "```{code-block} python\n",
    "x = 5\n",
    "y = 1\n",
    "y += x\n",
    "y *= 2\n",
    "print(y)\n",
    "```\n",
    "\n",
    "A.&nbsp;&nbsp;  3\n",
    "\n",
    "B.&nbsp;&nbsp;  6\n",
    "\n",
    "C.&nbsp;&nbsp;  10\n",
    "\n",
    "D.&nbsp;&nbsp;  12\n",
    "\n",
    "```{exercise-end}\n",
    "```"
   ]
  },
  {
   "cell_type": "markdown",
   "id": "47f148ce-877f-4f55-b0ca-6e81b1a0e9c8",
   "metadata": {},
   "source": [
    "````{solution} operator\n",
    ":class: dropdown\n",
    "D\n",
    "````"
   ]
  },
  {
   "cell_type": "markdown",
   "id": "636f1644-e8d9-4248-910a-daf8c7148174",
   "metadata": {},
   "source": [
    "```{exercise}\n",
    ":label: install-lib\n",
    "which of the following statement is the correct way to install the library \"pandas\"?\n",
    "\n",
    "A.&nbsp;&nbsp;  pandas install\n",
    "\n",
    "B.&nbsp;&nbsp;  pip install pandas\n",
    "\n",
    "C.&nbsp;&nbsp;  install pandas\n",
    "\n",
    "D.&nbsp;&nbsp;  import pandas\n",
    "\n",
    "```"
   ]
  },
  {
   "cell_type": "markdown",
   "id": "3d4c6eec-5517-46c4-97f9-c03c84c86b33",
   "metadata": {},
   "source": [
    "````{solution} install-lib\n",
    ":class: dropdown\n",
    "B\n",
    "````"
   ]
  },
  {
   "cell_type": "markdown",
   "id": "98912bd5-051e-47f6-a7bc-2b5b00d0f3f4",
   "metadata": {},
   "source": [
    "```{exercise}\n",
    ":label: uninstall-lib\n",
    "which of the following statement is the correct way to uninstall the library \"seaborn\"?\n",
    "\n",
    "A.&nbsp;&nbsp;  pip  uninstall seaborn\n",
    "\n",
    "B.&nbsp;&nbsp;  seaborn uninstall\n",
    "\n",
    "C.&nbsp;&nbsp;  uninstall seaborn\n",
    "\n",
    "D.&nbsp;&nbsp;  export seabron\n",
    "\n",
    "```"
   ]
  },
  {
   "cell_type": "markdown",
   "id": "4f6d43f1-430c-4a0c-a228-6c8c580da476",
   "metadata": {},
   "source": [
    "````{solution} uninstall-lib\n",
    ":class: dropdown\n",
    "A\n",
    "````"
   ]
  },
  {
   "cell_type": "markdown",
   "id": "69d6a06f-0561-4a11-b5bf-276bcd9d7029",
   "metadata": {},
   "source": [
    "```{exercise}\n",
    ":label: use-lib\n",
    "If you want to use the library \"pandas\", which of the following statement is wrong?\n",
    "\n",
    "A.&nbsp;&nbsp;  import pandas\n",
    "\n",
    "B.&nbsp;&nbsp;  import pandas as pd\n",
    "\n",
    "C.&nbsp;&nbsp;  from pandas import *\n",
    "\n",
    "D.&nbsp;&nbsp;  use pandas\n",
    "\n",
    "```"
   ]
  },
  {
   "cell_type": "markdown",
   "id": "9fe8b581-faf0-4965-bb4c-22f2802e1782",
   "metadata": {},
   "source": [
    "````{solution} use-lib\n",
    ":class: dropdown\n",
    "D\n",
    "````"
   ]
  },
  {
   "cell_type": "markdown",
   "id": "7f20f8eb-c37b-4900-8749-1a9059459940",
   "metadata": {},
   "source": [
    "```{exercise}\n",
    ":label: file-name\n",
    "What is the correct file extension for Python files?\n",
    "\n",
    "A.&nbsp;&nbsp;  .python\n",
    "\n",
    "B.&nbsp;&nbsp;  .txt\n",
    "\n",
    "C.&nbsp;&nbsp;  .py\n",
    "\n",
    "D.&nbsp;&nbsp;  .doc\n",
    "\n",
    "```"
   ]
  },
  {
   "cell_type": "markdown",
   "id": "bf5fb3d3-c6ac-4e6d-b2ed-b91c4c950dfc",
   "metadata": {},
   "source": [
    "````{solution} file-name\n",
    ":class: dropdown\n",
    "C\n",
    "````"
   ]
  },
  {
   "cell_type": "markdown",
   "id": "c261af77-6e7f-43d0-9c4f-8b79c0f0009a",
   "metadata": {
    "jp-MarkdownHeadingCollapsed": true
   },
   "source": [
    "```{exercise}\n",
    ":label: variable-true\n",
    "\n",
    "In Python, a = 5 is the same as A = 5?\n",
    "\n",
    "A.&nbsp;&nbsp;  True\n",
    "\n",
    "B.&nbsp;&nbsp;  False\n",
    "```"
   ]
  },
  {
   "cell_type": "markdown",
   "id": "8d9ecf27-7c2f-4858-9c30-67c908deac47",
   "metadata": {},
   "source": [
    "````{solution} variable-true\n",
    ":class: dropdown\n",
    "B\n",
    "````"
   ]
  },
  {
   "cell_type": "markdown",
   "id": "e6201211-b1eb-46e7-9d97-8c6f6992f355",
   "metadata": {},
   "source": [
    "```{exercise}\n",
    ":label: math-formula\n",
    "Write the following math formulas in Python and get the results.\n",
    "\n",
    "- $x=\\frac{3^2+4-5*6}{5}$\n",
    "- $y= (4^{3.5}+6)*(16\\mod{4})$\n",
    "```"
   ]
  },
  {
   "cell_type": "markdown",
   "id": "d8301eb2-7f53-4fbf-9fa6-e525340ec5e0",
   "metadata": {},
   "source": [
    "````{solution} math-formula\n",
    ":class: dropdown\n",
    "\n",
    "```{code-block} python\n",
    "x = (3**2 + 4 - 5 * 6) / 5\n",
    "print(x)\n",
    "\n",
    "y = (4**3.5 + 6) * (16 % 4)\n",
    "print(y)\n",
    "```\n",
    "````"
   ]
  },
  {
   "cell_type": "markdown",
   "id": "b9d29cde",
   "metadata": {
    "slideshow": {
     "slide_type": "subslide"
    }
   },
   "source": [
    "```{exercise}\n",
    ":label: sum-input\n",
    "Use `input` to get two values and compute the sum of the two values.\n",
    "```"
   ]
  },
  {
   "cell_type": "markdown",
   "id": "da78aebf",
   "metadata": {
    "slideshow": {
     "slide_type": "-"
    }
   },
   "source": [
    "````{solution} sum-input\n",
    ":class: dropdown\n",
    "```{code-block} python\n",
    "# user input\n",
    "num1 = input('input the first value：')\n",
    "num2 = input('input the second value：')\n",
    " \n",
    "# sum\n",
    "sum = float(num1) + float(num2)\n",
    " \n",
    "# 显示计算结果\n",
    "print(sum)\n",
    "```\n",
    "````"
   ]
  },
  {
   "cell_type": "markdown",
   "id": "92e65d2f",
   "metadata": {},
   "source": [
    "<script src=\"https://giscus.app/client.js\"\n",
    "        data-repo=\"robinchen121/book-Python-Data-Science\"\n",
    "        data-repo-id=\"R_kgDOKFdyOw\"\n",
    "        data-category=\"Announcements\"\n",
    "        data-category-id=\"DIC_kwDOKFdyO84CgWHi\"\n",
    "        data-mapping=\"pathname\"\n",
    "        data-strict=\"0\"\n",
    "        data-reactions-enabled=\"1\"\n",
    "        data-emit-metadata=\"0\"\n",
    "        data-input-position=\"bottom\"\n",
    "        data-theme=\"light\"\n",
    "        data-lang=\"en\"\n",
    "        crossorigin=\"anonymous\"\n",
    "        async>\n",
    "</script>"
   ]
  },
  {
   "cell_type": "markdown",
   "id": "6725bb75",
   "metadata": {},
   "source": [
    "<!-- Toogle google translation -->\n",
    "<div id=\"google_translate_element\"></div>\n",
    "<script type=\"text/javascript\">\n",
    "      function googleTranslateElementInit() {\n",
    "        new google.translate.TranslateElement({ pageLanguage: 'zh-CN',\n",
    "                  includedLanguages: 'en,zh-CN,zh-TW,ja,ko,de,ru,fr,es,it,pt,hi,ar,fa',\n",
    "layout: google.translate.TranslateElement.InlineLayout.SIMPLE }, 'google_translate_element');\n",
    "      }\n",
    "</script>\n",
    "<script type=\"text/javascript\"\n",
    "      src=\"https://translate.google.com/translate_a/element.js?cb=googleTranslateElementInit\"\n",
    "></script>\n",
    "<br>"
   ]
  }
 ],
 "metadata": {
  "celltoolbar": "幻灯片",
  "kernelspec": {
   "display_name": "Python [conda env:base] *",
   "language": "python",
   "name": "conda-base-py"
  },
  "language_info": {
   "codemirror_mode": {
    "name": "ipython",
    "version": 3
   },
   "file_extension": ".py",
   "mimetype": "text/x-python",
   "name": "python",
   "nbconvert_exporter": "python",
   "pygments_lexer": "ipython3",
   "version": "3.12.7"
  }
 },
 "nbformat": 4,
 "nbformat_minor": 5
}
