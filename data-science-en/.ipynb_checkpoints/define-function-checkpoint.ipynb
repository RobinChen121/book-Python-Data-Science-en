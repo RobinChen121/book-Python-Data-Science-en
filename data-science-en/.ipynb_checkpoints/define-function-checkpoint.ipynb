{
 "cells": [
  {
   "cell_type": "markdown",
   "id": "2ea7fab1",
   "metadata": {
    "slideshow": {
     "slide_type": "slide"
    }
   },
   "source": [
    "# Python 编写函数\n",
    "<hr>\n",
    "\n",
    "用 Python 编写函数时，经常要用到条件语句`if`， 循环语句`for`或`while`。"
   ]
  },
  {
   "cell_type": "markdown",
   "id": "91c107b3",
   "metadata": {
    "slideshow": {
     "slide_type": "subslide"
    }
   },
   "source": [
    "## 条件语句\n",
    "<hr>\n",
    "\n",
    " `if`语句的字面意思是：如果（if）满足条件，做什么，否则（else）做什么。例如，下面一段代码："
   ]
  },
  {
   "cell_type": "code",
   "execution_count": 1,
   "id": "1313cd8d",
   "metadata": {
    "slideshow": {
     "slide_type": "fragment"
    }
   },
   "outputs": [
    {
     "name": "stdout",
     "output_type": "stream",
     "text": [
      "Value of a is not greater than 10\n"
     ]
    }
   ],
   "source": [
    "a = 10\n",
    "if a > 10:\n",
    "    print(\"Value of a is greater than 10\")\n",
    "else:\n",
    "    print(\"Value of a is not greater than 10\")"
   ]
  },
  {
   "cell_type": "markdown",
   "id": "75fec417",
   "metadata": {
    "slideshow": {
     "slide_type": "fragment"
    }
   },
   "source": [
    "这段代码的意思是，如果 a 比 10 大，则输出 \"Value of a is greater than 10\"，否则输出 \"Value of a is not greater than 10\"。if 语句还可以跟 elif （else if 的意思），再次判断一个条件。"
   ]
  },
  {
   "cell_type": "markdown",
   "id": "603c0a32",
   "metadata": {
    "slideshow": {
     "slide_type": "subslide"
    }
   },
   "source": [
    "<table>   \n",
    "    <tr style=\"border-top:solid; border-bottom:solid\">\n",
    "            <th style=\"text-align:center\">if 语句的一般用法</th>\n",
    "    </tr>\n",
    "    <tr>\n",
    "        <td style=\"text-align:left\">if <条件1>:</td>\n",
    "    </tr>\n",
    "    <tr>\n",
    "        <td style=\"text-align:left\">&nbsp;&nbsp;&nbsp;&nbsp;&nbsp;&nbsp;&lt;statement_block_1&gt;</td>\n",
    "    </tr>\n",
    "    <tr>\n",
    "        <td style=\"text-align:left\">elif <条件2>:</td>\n",
    "    </tr>\n",
    "    <tr>\n",
    "        <td style=\"text-align:left\">&nbsp;&nbsp;&nbsp;&nbsp;&nbsp;&nbsp;&lt;statement_block_2&gt;</td>\n",
    "    </tr>\n",
    "    <tr>\n",
    "        <td style=\"text-align:left\">else:</td>\n",
    "    </tr>\n",
    "    <tr style=\"border-bottom:solid\">\n",
    "        <td style=\"text-align:left\">&nbsp;&nbsp;&nbsp;&nbsp;&nbsp;&nbsp;&lt;statement_block_3&gt;</td>\n",
    "    </tr>\n",
    "</table>\n",
    "<br />"
   ]
  },
  {
   "cell_type": "markdown",
   "id": "9dcd2c77",
   "metadata": {
    "slideshow": {
     "slide_type": "fragment"
    }
   },
   "source": [
    "```{note}\n",
    "if 循环中，`elif`语句块或者`else`语句块可以没有\n",
    "```"
   ]
  },
  {
   "cell_type": "markdown",
   "id": "70eddd77",
   "metadata": {
    "slideshow": {
     "slide_type": "fragment"
    }
   },
   "source": [
    "上面 if 语句块的执行顺序为：如果条件1 为真，将执行 \"statement_block_1\" 块语句，如果条件1 为假，将判断 \"条件2\"，如果条件2 为真，将执行 \"statement_block_2\" 块语句，如果条件2 为假，将执行\"statement_block_3\"块语句。"
   ]
  },
  {
   "cell_type": "markdown",
   "id": "b22b883d",
   "metadata": {
    "slideshow": {
     "slide_type": "subslide"
    }
   },
   "source": [
    "举例："
   ]
  },
  {
   "cell_type": "code",
   "execution_count": 1,
   "id": "21914751",
   "metadata": {
    "slideshow": {
     "slide_type": "fragment"
    }
   },
   "outputs": [
    {
     "name": "stdout",
     "output_type": "stream",
     "text": [
      "\n",
      "平均水平\n"
     ]
    }
   ],
   "source": [
    "wage = 5000\n",
    "print(\"\")\n",
    "if wage <= 3000:\n",
    "    print(\"贫困户\")\n",
    "elif wage <= 12000:\n",
    "    print(\"平均水平\")\n",
    "else:\n",
    "    print(\"土豪\")"
   ]
  },
  {
   "cell_type": "markdown",
   "id": "fb4964ab",
   "metadata": {
    "slideshow": {
     "slide_type": "fragment"
    }
   },
   "source": [
    "上面语句的意思是，若输入的月薪小于 3000，则输出“贫困户”，否则若月薪在 3000 与 12000 之间，输出“平均水平”，若月薪在 12000 之上，则输出“土豪”。"
   ]
  },
  {
   "cell_type": "markdown",
   "id": "483e1d4f",
   "metadata": {
    "slideshow": {
     "slide_type": "subslide"
    }
   },
   "source": [
    "if 语句里面还可以嵌套 if 语句，进一步增加判断条件，举例："
   ]
  },
  {
   "cell_type": "code",
   "execution_count": 3,
   "id": "f544365c",
   "metadata": {
    "slideshow": {
     "slide_type": "fragment"
    }
   },
   "outputs": [
    {
     "name": "stdout",
     "output_type": "stream",
     "text": [
      "\n",
      "贫困户\n",
      "贫困户中的一般贫\n"
     ]
    }
   ],
   "source": [
    "wage = 2000\n",
    "print(\"\")\n",
    "if wage <= 3000:\n",
    "    print(\"贫困户\")\n",
    "    if 2000 <= wage < 3000:\n",
    "        print(\"贫困户中的一般贫\")\n",
    "    if wage <= 1000:\n",
    "        print(\"贫困户中的特贫\")\n",
    "else:\n",
    "    print(\"不是贫困户\")"
   ]
  },
  {
   "cell_type": "markdown",
   "id": "c798a1ff",
   "metadata": {
    "slideshow": {
     "slide_type": "fragment"
    }
   },
   "source": [
    "在上面的程序中，若月薪小于等于 3000，又嵌套了两个条件进一步判断。"
   ]
  },
  {
   "cell_type": "markdown",
   "id": "3a3fc42c",
   "metadata": {
    "slideshow": {
     "slide_type": "subslide"
    }
   },
   "source": [
    "if 中条件判断中常用的符号有：`>`(大于), `<`(小于), `>=`(大于等于), `<=`(小于等于), `==`(等于), `!=`(不等于)。"
   ]
  },
  {
   "cell_type": "markdown",
   "id": "cc201a26",
   "metadata": {
    "slideshow": {
     "slide_type": "fragment"
    }
   },
   "source": [
    "```{note}\n",
    "两个等号 == 表示判断是否相等（a == 3 表示判断 a 是否等于 3），而一个等号 = 表示的是变量赋值（a = 3 表示将 a 赋值为 3）\n",
    "```"
   ]
  },
  {
   "cell_type": "markdown",
   "id": "a69b92c8",
   "metadata": {
    "slideshow": {
     "slide_type": "subslide"
    }
   },
   "source": [
    "## 循环语句\n",
    "<hr>\n",
    "\n",
    "循环语句一般有两种，for 语句与 while 语句。for 循环可以遍历任何序列的项目，如一个列表、元组、集合或者一个字符串。for 循环的一般用法如下：\n",
    "\n",
    "<table>   \n",
    "    <tr style=\"border-top:solid; border-bottom:solid\">\n",
    "            <th style=\"text-align:center\">for 循环语句的一般用法</th>\n",
    "    </tr>\n",
    "    <tr>\n",
    "        <td style=\"text-align:left\">for &lt;variable&gt; in &lt;sequence&gt;:</td>\n",
    "    </tr>\n",
    "    <tr style=\"border-bottom:solid\">\n",
    "        <td style=\"text-align:left\">&nbsp;&nbsp;&nbsp;&nbsp;&nbsp;&nbsp;&lt;statements&gt;</td>\n",
    "    </tr>\n",
    "</table>\n",
    "<br />"
   ]
  },
  {
   "cell_type": "markdown",
   "id": "633e60a0",
   "metadata": {
    "slideshow": {
     "slide_type": "subslide"
    }
   },
   "source": [
    "for 循环的作用是：遍历序列（sequence）中的所有元素，执行命令语句 statements，举例："
   ]
  },
  {
   "cell_type": "code",
   "execution_count": 4,
   "id": "b26e6d7f",
   "metadata": {
    "slideshow": {
     "slide_type": "fragment"
    }
   },
   "outputs": [
    {
     "name": "stdout",
     "output_type": "stream",
     "text": [
      "0\n",
      "1\n",
      "2\n"
     ]
    }
   ],
   "source": [
    "for i in range(3):\n",
    "    print(i)"
   ]
  },
  {
   "cell_type": "markdown",
   "id": "7a1443e8",
   "metadata": {
    "slideshow": {
     "slide_type": "fragment"
    }
   },
   "source": [
    "输出结果为 0， 1， 2，上述代码的作用是，对于 range(3) 中的每一个元素，打印元素。**for 循环经常结合序列函数 range() 一起使用**：range(a) 表示从 0 到 a-1 的一个数列，range(a, b) 表示从 a 到 b-1 的一个数列，range(a, b, c) 表示从 a 到 b-1，步长为 c 的一个数列。"
   ]
  },
  {
   "cell_type": "markdown",
   "id": "46ab2b3b-29af-421b-a364-1ada33750438",
   "metadata": {},
   "source": [
    "若索引 i 在循环中的命令语句中不使用，可以用`_`代替。"
   ]
  },
  {
   "cell_type": "code",
   "execution_count": 1,
   "id": "8b0c94c7-8879-429d-bedf-3a0ebd610295",
   "metadata": {},
   "outputs": [
    {
     "name": "stdout",
     "output_type": "stream",
     "text": [
      "Hello, World!\n",
      "Hello, World!\n",
      "Hello, World!\n"
     ]
    }
   ],
   "source": [
    "for _ in range(3):\n",
    "    print(\"Hello, World!\")"
   ]
  },
  {
   "cell_type": "markdown",
   "id": "8b90e28a",
   "metadata": {
    "slideshow": {
     "slide_type": "subslide"
    }
   },
   "source": [
    "```{note}\n",
    "for 循环或 while 循环都可以跟`else`语句，`else` 语句只在循环正常执行并结束后才执行。\n",
    "```"
   ]
  },
  {
   "cell_type": "markdown",
   "id": "0963397d",
   "metadata": {
    "slideshow": {
     "slide_type": "subslide"
    }
   },
   "source": [
    "另一个 while 循环语句的一般格式为：\n",
    "\n",
    "<table>   \n",
    "    <tr style=\"border-top:solid; border-bottom:solid\">\n",
    "            <th style=\"text-align:center\">while 循环语句的一般用法</th>\n",
    "    </tr>\n",
    "    <tr>\n",
    "        <td style=\"text-align:left\">while&nbsp; &lt;判断条件&gt;:</td>\n",
    "    </tr>\n",
    "    <tr style=\"border-bottom:solid\">\n",
    "        <td style=\"text-align:left\">&nbsp;&nbsp;&nbsp;&nbsp;&nbsp;&nbsp;&nbsp;&nbsp;&lt;statements&gt;</td>\n",
    "    </tr>\n",
    "</table>\n",
    "<br />"
   ]
  },
  {
   "cell_type": "markdown",
   "id": "4c398386",
   "metadata": {
    "slideshow": {
     "slide_type": "fragment"
    }
   },
   "source": [
    "它的作用是，只要满足 while 的判断条件，则一直执行 while 下面的执行语句 statements。"
   ]
  },
  {
   "cell_type": "markdown",
   "id": "c3148467",
   "metadata": {
    "slideshow": {
     "slide_type": "subslide"
    }
   },
   "source": [
    "举例："
   ]
  },
  {
   "cell_type": "code",
   "execution_count": 5,
   "id": "96896bad",
   "metadata": {
    "slideshow": {
     "slide_type": "fragment"
    }
   },
   "outputs": [
    {
     "name": "stdout",
     "output_type": "stream",
     "text": [
      "1\n",
      "2\n",
      "3\n"
     ]
    }
   ],
   "source": [
    "a = 1\n",
    "while a < 4:\n",
    "    print(a)\n",
    "    a = a + 1"
   ]
  },
  {
   "cell_type": "markdown",
   "id": "06e2a0df",
   "metadata": {
    "slideshow": {
     "slide_type": "fragment"
    }
   },
   "source": [
    "上面语句的作用是：只要 a 小于 4，则将 a 值打印出来并将 a 值加 1，在 a 等于 4 时停止执行 while语句。\n",
    "\n"
   ]
  },
  {
   "cell_type": "markdown",
   "id": "46114c2e",
   "metadata": {
    "slideshow": {
     "slide_type": "subslide"
    }
   },
   "source": [
    "for 循环与 while 循环经常结合``break``或``continue``语句，``break``语句可以跳出循环体，而``continue``语句用来告诉 Python 跳过当前循环中的剩余语句，然后继续进行下一轮循环。举例："
   ]
  },
  {
   "cell_type": "code",
   "execution_count": 6,
   "id": "a3abeefc",
   "metadata": {
    "slideshow": {
     "slide_type": "fragment"
    }
   },
   "outputs": [
    {
     "name": "stdout",
     "output_type": "stream",
     "text": [
      "0\n",
      "循环结束\n"
     ]
    }
   ],
   "source": [
    "for i in range(3):\n",
    "    if i == 1:\n",
    "        break\n",
    "    print(i)\n",
    "print(\"循环结束\")"
   ]
  },
  {
   "cell_type": "markdown",
   "id": "732dc6da",
   "metadata": {
    "slideshow": {
     "slide_type": "fragment"
    }
   },
   "source": [
    "上面代码中，在 i 等于 1 时执行``break``跳出了整个循环体。"
   ]
  },
  {
   "cell_type": "markdown",
   "id": "1bf713e4",
   "metadata": {
    "slideshow": {
     "slide_type": "subslide"
    }
   },
   "source": [
    "若改为``continue``语句："
   ]
  },
  {
   "cell_type": "code",
   "execution_count": 7,
   "id": "b9ebccc3",
   "metadata": {
    "slideshow": {
     "slide_type": "fragment"
    }
   },
   "outputs": [
    {
     "name": "stdout",
     "output_type": "stream",
     "text": [
      "0\n",
      "2\n",
      "循环结束\n"
     ]
    }
   ],
   "source": [
    "for i in range(3):\n",
    "    if i == 1:\n",
    "        continue\n",
    "    print(i)\n",
    "print(\"循环结束\")"
   ]
  },
  {
   "cell_type": "markdown",
   "id": "c060000b",
   "metadata": {
    "slideshow": {
     "slide_type": "fragment"
    }
   },
   "source": [
    "上面代码中，在 i 等于 1 时执行``continue``跳出了当前循环，执行剩下的循环。"
   ]
  },
  {
   "cell_type": "markdown",
   "id": "72aac418",
   "metadata": {
    "slideshow": {
     "slide_type": "subslide"
    }
   },
   "source": [
    "在 while 循环中，``break``与``continue``的例子："
   ]
  },
  {
   "cell_type": "code",
   "execution_count": 8,
   "id": "2b86c5e8",
   "metadata": {
    "slideshow": {
     "slide_type": "fragment"
    }
   },
   "outputs": [
    {
     "name": "stdout",
     "output_type": "stream",
     "text": [
      "2\n",
      "循环结束\n"
     ]
    }
   ],
   "source": [
    "a = 1\n",
    "while a < 5:\n",
    "    a = a + 1\n",
    "    if a == 3:\n",
    "        break\n",
    "    print(a)\n",
    "print(\"循环结束\")"
   ]
  },
  {
   "cell_type": "code",
   "execution_count": 9,
   "id": "1f0bd217",
   "metadata": {
    "slideshow": {
     "slide_type": "subslide"
    }
   },
   "outputs": [
    {
     "name": "stdout",
     "output_type": "stream",
     "text": [
      "2\n",
      "4\n",
      "5\n",
      "循环结束\n"
     ]
    }
   ],
   "source": [
    "a = 1\n",
    "while a < 5:\n",
    "    a = a + 1\n",
    "    if a == 3:\n",
    "        continue\n",
    "    print(a)\n",
    "print(\"循环结束\")"
   ]
  },
  {
   "cell_type": "markdown",
   "id": "5b78483d",
   "metadata": {
    "slideshow": {
     "slide_type": "slide"
    }
   },
   "source": [
    "## 自定义函数\n",
    "<hr>\n",
    "\n",
    "Python 提供了许多内建函数，比如 print()，但也可以自己创建函数，这被叫做用户自定义函数。掌握了自定义函数后，就能用 Python 实现很多自己想要的功能了。Python 自定义函数使用``def``关键字，一般用法如下：\n",
    "\n",
    "<table>   \n",
    "    <tr style=\"border-top:solid; border-bottom:solid\">\n",
    "            <th style=\"text-align:center\">def 自定义函数的一般用法</th>\n",
    "    </tr>\n",
    "    <tr>\n",
    "        <td style=\"text-align:left\">def <函数名>(<参数列表>):</td>\n",
    "    </tr>\n",
    "    <tr style=\"border-bottom:solid\">\n",
    "        <td style=\"text-align:left\">&nbsp;&nbsp;&nbsp;&nbsp;&nbsp;&nbsp;&nbsp;&lt;statements&gt;</td>\n",
    "    </tr>\n",
    "</table>\n",
    "<br />"
   ]
  },
  {
   "cell_type": "markdown",
   "id": "e4142232",
   "metadata": {
    "slideshow": {
     "slide_type": "subslide"
    }
   },
   "source": [
    "下面的几行代码定义了一个加和函数："
   ]
  },
  {
   "cell_type": "code",
   "execution_count": 10,
   "id": "cdb0f7fb",
   "metadata": {
    "slideshow": {
     "slide_type": "fragment"
    }
   },
   "outputs": [],
   "source": [
    "def add(x1, x2):\n",
    "    z = x1 + x2\n",
    "    return z"
   ]
  },
  {
   "cell_type": "markdown",
   "id": "71966144",
   "metadata": {
    "slideshow": {
     "slide_type": "subslide"
    }
   },
   "source": [
    "该自定义函数有以下几个特点：\n",
    "\n",
    "<table>   \n",
    "    <tr style=\"border-top:solid\">\n",
    "        <td style=\"text-align:left\">def</td>\n",
    "        <td style=\"text-align:left\">关键字 def 开头</td>\n",
    "    </tr>\n",
    "    <tr>\n",
    "        <td style=\"text-align:left\">add</td>\n",
    "        <td style=\"text-align:left\"> 函数的名字，可以自命名</td>\n",
    "    </tr>\n",
    "    <tr>\n",
    "        <td style=\"text-align:left\">(x1, x2)</td>\n",
    "        <td style=\"text-align:left\">小括号里面是函数的输入参数</td>\n",
    "    </tr>\n",
    "    <tr>\n",
    "        <td style=\"text-align:left\">:</td>\n",
    "        <td style=\"text-align:left\">冒号，换行写函数内容；若不换行，整个函数只能有一行代码</td>\n",
    "    </tr>\n",
    "    <tr style=\"border-bottom:solid\">\n",
    "        <td style=\"text-align:left\">return</td>\n",
    "        <td style=\"text-align:left\">关键字，后面跟函数的返回值，即输出结果</td>\n",
    "    </tr>\n",
    "</table>\n",
    "</br>"
   ]
  },
  {
   "cell_type": "markdown",
   "id": "95d87c1b",
   "metadata": {
    "slideshow": {
     "slide_type": "subslide"
    }
   },
   "source": [
    "函数的返回值可以有一个或多个，下面的代码返回多个值，既返回两个参数的加和结果，又返回两个参数的值。"
   ]
  },
  {
   "cell_type": "code",
   "execution_count": 11,
   "id": "12226aea",
   "metadata": {
    "slideshow": {
     "slide_type": "fragment"
    }
   },
   "outputs": [],
   "source": [
    "def add(x1, x2):\n",
    "    z = x1 + x2\n",
    "    return z, x1, x2"
   ]
  },
  {
   "cell_type": "markdown",
   "id": "f8968b83",
   "metadata": {
    "slideshow": {
     "slide_type": "subslide"
    }
   },
   "source": [
    "调用函数时，通过输入函数名字，并把函数的参数传递进去，例如："
   ]
  },
  {
   "cell_type": "code",
   "execution_count": 12,
   "id": "2375192e",
   "metadata": {
    "slideshow": {
     "slide_type": "fragment"
    }
   },
   "outputs": [
    {
     "name": "stdout",
     "output_type": "stream",
     "text": [
      "16\n"
     ]
    }
   ],
   "source": [
    "def add(x1, x2):\n",
    "    z = x1 + x2\n",
    "    return z\n",
    "\n",
    "\n",
    "x1 = 10\n",
    "x2 = 6\n",
    "print(add(x1, x2))"
   ]
  },
  {
   "cell_type": "markdown",
   "id": "ab819e10",
   "metadata": {
    "slideshow": {
     "slide_type": "subslide"
    }
   },
   "source": [
    "若某个返回值不使用，可以用下划线``_``替代该变量名。"
   ]
  },
  {
   "cell_type": "code",
   "execution_count": 14,
   "id": "7fe9ca8e",
   "metadata": {
    "slideshow": {
     "slide_type": "fragment"
    }
   },
   "outputs": [
    {
     "name": "stdout",
     "output_type": "stream",
     "text": [
      "16\n",
      "6\n"
     ]
    }
   ],
   "source": [
    "def add(x1, x2):\n",
    "    z = x1 + x2\n",
    "    return z, x1, x2\n",
    "\n",
    "\n",
    "x1 = 10\n",
    "x2 = 6\n",
    "sums, _, b = add(x1, x2)  # 用下划线 _ 替代第二个返回值\n",
    "print(sums)\n",
    "print(b)"
   ]
  },
  {
   "cell_type": "markdown",
   "id": "ea4ed13a",
   "metadata": {
    "slideshow": {
     "slide_type": "fragment"
    }
   },
   "source": [
    "上面的代码中，用下划线替代第二个返回参数值，用新的变量名替代其他参数值。"
   ]
  },
  {
   "cell_type": "markdown",
   "id": "429219bb",
   "metadata": {
    "slideshow": {
     "slide_type": "subslide"
    }
   },
   "source": [
    "函数也可以不带输入参数，即小括号里面可以没有内容，例如，下面的代码打印一句话 ``Hello, world!\"："
   ]
  },
  {
   "cell_type": "code",
   "execution_count": 15,
   "id": "6b8c8cea",
   "metadata": {
    "slideshow": {
     "slide_type": "fragment"
    }
   },
   "outputs": [
    {
     "name": "stdout",
     "output_type": "stream",
     "text": [
      "Hello, world!\n"
     ]
    }
   ],
   "source": [
    "def hello():\n",
    "    print(\"Hello, world!\")\n",
    "\n",
    "\n",
    "hello()"
   ]
  },
  {
   "cell_type": "markdown",
   "id": "1f6f5b04",
   "metadata": {},
   "source": [
    "可以利用三重引号，来添加函数的说明 (docstring)，例如："
   ]
  },
  {
   "cell_type": "code",
   "execution_count": 2,
   "id": "2cceeac2",
   "metadata": {},
   "outputs": [
    {
     "name": "stdout",
     "output_type": "stream",
     "text": [
      "Hello, world!\n"
     ]
    }
   ],
   "source": [
    "def hello():\n",
    "    \"\"\"This is a hello function.\"\"\"\n",
    "    print(\"Hello, world!\")\n",
    "\n",
    "\n",
    "hello()"
   ]
  },
  {
   "cell_type": "markdown",
   "id": "d510fc18",
   "metadata": {},
   "source": [
    "在一些 python IDE 软件中，例如 Spyder 或 Pycharm，当鼠标停留在某个函数或类名时，自动显示该函数或类的说明（docstring），极大地增加了代码的可读性。"
   ]
  },
  {
   "cell_type": "markdown",
   "id": "2e7bae8e",
   "metadata": {
    "slideshow": {
     "slide_type": "slide"
    }
   },
   "source": [
    "### 函数参数的传递类型\n",
    "<hr>\n",
    "\n",
    "根据输入参数的值是否可以改变，函数的参数传递类型包括以下两种：\n",
    "\n",
    "- 不可变类型：数字，字符串，元组\n",
    "- 可变类型：列表，字典，集合"
   ]
  },
  {
   "cell_type": "markdown",
   "id": "a9cce46e",
   "metadata": {
    "slideshow": {
     "slide_type": "subslide"
    }
   },
   "source": [
    "对于不可变类型，函数调用参数后，参数原来的值不变，例如："
   ]
  },
  {
   "cell_type": "code",
   "execution_count": 16,
   "id": "bba6b269",
   "metadata": {
    "slideshow": {
     "slide_type": "fragment"
    }
   },
   "outputs": [
    {
     "name": "stdout",
     "output_type": "stream",
     "text": [
      "2\n"
     ]
    }
   ],
   "source": [
    "def changeNum(a):\n",
    "    a = 10\n",
    "\n",
    "\n",
    "b = 2\n",
    "changeNum(b)\n",
    "print(b)  # 结果还是 2"
   ]
  },
  {
   "cell_type": "markdown",
   "id": "e18a30d1",
   "metadata": {
    "slideshow": {
     "slide_type": "fragment"
    }
   },
   "source": [
    "上面的代码中，由于传递的是数字类型，调用函数后，参数原来的数值不变，对于字符串或元组类型，传递时也是这样。"
   ]
  },
  {
   "cell_type": "markdown",
   "id": "1086c683",
   "metadata": {
    "slideshow": {
     "slide_type": "subslide"
    }
   },
   "source": [
    "对于可变类型，函数调用参数后，参数原来的值也改变，例如："
   ]
  },
  {
   "cell_type": "code",
   "execution_count": 17,
   "id": "2ed17f06",
   "metadata": {
    "slideshow": {
     "slide_type": "fragment"
    }
   },
   "outputs": [
    {
     "name": "stdout",
     "output_type": "stream",
     "text": [
      "[10, 20, 30, 1, 2, 3]\n"
     ]
    }
   ],
   "source": [
    "def changeList(mylist):\n",
    "    mylist.extend([1, 2, 3])\n",
    "    return mylist\n",
    "\n",
    "\n",
    "listTry = [10, 20, 30]\n",
    "changeList(listTry)\n",
    "print(listTry)  # 结果是 [10, 20, 30, 1, 2, 3]，改变了列表原来的值"
   ]
  },
  {
   "cell_type": "markdown",
   "id": "261b0e4e",
   "metadata": {
    "slideshow": {
     "slide_type": "subslide"
    }
   },
   "source": [
    "###  函数的参数传入方法\n",
    "<hr>\n",
    "\n",
    "函数的参数传入方法主要有4种类型：\n",
    "\n",
    "\n",
    "- 顺序传入\n",
    "- 赋值传入\n",
    "- 默认参数值传入\n",
    "- 不定长参数传入"
   ]
  },
  {
   "cell_type": "markdown",
   "id": "3598a188",
   "metadata": {
    "slideshow": {
     "slide_type": "subslide"
    }
   },
   "source": [
    "对于顺序传入，函数的参数值跟输入的顺序一一对应："
   ]
  },
  {
   "cell_type": "code",
   "execution_count": 18,
   "id": "959cb9e4",
   "metadata": {
    "slideshow": {
     "slide_type": "fragment"
    }
   },
   "outputs": [
    {
     "name": "stdout",
     "output_type": "stream",
     "text": [
      "4\n"
     ]
    }
   ],
   "source": [
    "def minus(x1, x2):\n",
    "    z = x1 - x2\n",
    "    return z\n",
    "\n",
    "\n",
    "print(minus(10, 6))"
   ]
  },
  {
   "cell_type": "markdown",
   "id": "9693f359",
   "metadata": {
    "slideshow": {
     "slide_type": "fragment"
    }
   },
   "source": [
    "在上面的代码中，调用 minus 函数，按照参数的顺序，认为 x1 的值为 10， x2 的值为 6。"
   ]
  },
  {
   "cell_type": "markdown",
   "id": "c9d9f17e",
   "metadata": {
    "slideshow": {
     "slide_type": "subslide"
    }
   },
   "source": [
    "赋值传入的意思是：在调用函数时，可以在输入参数时直接给参数赋值，Python 自动根据括号内的参数名匹配参数值，例如："
   ]
  },
  {
   "cell_type": "code",
   "execution_count": 3,
   "id": "869a1b99",
   "metadata": {
    "scrolled": true,
    "slideshow": {
     "slide_type": "fragment"
    }
   },
   "outputs": [
    {
     "name": "stdout",
     "output_type": "stream",
     "text": [
      "-4\n"
     ]
    },
    {
     "data": {
      "application/javascript": [
       "\n",
       "            setTimeout(function() {\n",
       "                var nbb_cell_id = 3;\n",
       "                var nbb_unformatted_code = \"def minus(x1, x2):\\n    z = x1 - x2\\n    return z\\n\\n\\nprint(minus(x2=10, x1=6))\";\n",
       "                var nbb_formatted_code = \"def minus(x1, x2):\\n    z = x1 - x2\\n    return z\\n\\n\\nprint(minus(x2=10, x1=6))\";\n",
       "                var nbb_cells = Jupyter.notebook.get_cells();\n",
       "                for (var i = 0; i < nbb_cells.length; ++i) {\n",
       "                    if (nbb_cells[i].input_prompt_number == nbb_cell_id) {\n",
       "                        if (nbb_cells[i].get_text() == nbb_unformatted_code) {\n",
       "                             nbb_cells[i].set_text(nbb_formatted_code);\n",
       "                        }\n",
       "                        break;\n",
       "                    }\n",
       "                }\n",
       "            }, 500);\n",
       "            "
      ],
      "text/plain": [
       "<IPython.core.display.Javascript object>"
      ]
     },
     "metadata": {},
     "output_type": "display_data"
    }
   ],
   "source": [
    "def minus(x1, x2):\n",
    "    z = x1 - x2\n",
    "    return z\n",
    "\n",
    "\n",
    "print(minus(x2=10, x1=6))"
   ]
  },
  {
   "cell_type": "markdown",
   "id": "2bbdd715",
   "metadata": {
    "slideshow": {
     "slide_type": "fragment"
    }
   },
   "source": [
    "在上面的代码中，调用 minus 函数时，在小括号内对参数进行了赋值，认为 x2 的值为 10， x1 的值为 6。"
   ]
  },
  {
   "cell_type": "markdown",
   "id": "53b947f8",
   "metadata": {
    "slideshow": {
     "slide_type": "subslide"
    }
   },
   "source": [
    "Python 在定义函数时，可以设置参数的默认值，当调用参数时，若没有给参数赋值，则使用参数的默认值，例如："
   ]
  },
  {
   "cell_type": "code",
   "execution_count": 20,
   "id": "97fd1447",
   "metadata": {
    "slideshow": {
     "slide_type": "fragment"
    }
   },
   "outputs": [
    {
     "name": "stdout",
     "output_type": "stream",
     "text": [
      "4\n",
      "5\n"
     ]
    }
   ],
   "source": [
    "def minus(x1, x2=6):\n",
    "    z = x1 - x2\n",
    "    return z\n",
    "\n",
    "\n",
    "print(minus(x1=10))  # 输出：4，没有传递参数值时默认参数值\n",
    "print(minus(x1=10, x2=5))  # 输出：5，有传递参数值时，覆盖默认参数值"
   ]
  },
  {
   "cell_type": "markdown",
   "id": "feb4f32e",
   "metadata": {
    "slideshow": {
     "slide_type": "subslide"
    }
   },
   "source": [
    "当一个函数传递多个参数，但不太确定究竟是多少个时，可以用 *args 表示多个参数，例如："
   ]
  },
  {
   "cell_type": "code",
   "execution_count": 21,
   "id": "c31a99d5",
   "metadata": {
    "slideshow": {
     "slide_type": "fragment"
    }
   },
   "outputs": [
    {
     "name": "stdout",
     "output_type": "stream",
     "text": [
      "x is 3\n",
      "final x is 12\n",
      "x is 3\n",
      "final x is 18\n"
     ]
    }
   ],
   "source": [
    "def plus(x, *args):\n",
    "    print(\"x is %d\" % x)\n",
    "    for var in args:\n",
    "        x += var\n",
    "    print(\"final x is %d\" % x)\n",
    "\n",
    "\n",
    "plus(3, 4, 5)  # *args 是 4, 5\n",
    "plus(3, 4, 5, 6)  # *args 是 4, 5, 6"
   ]
  },
  {
   "cell_type": "markdown",
   "id": "f0972a75",
   "metadata": {
    "slideshow": {
     "slide_type": "subslide"
    }
   },
   "source": [
    "可以用 \\*\\*args 来传递不定长的多个赋值的参数，例如："
   ]
  },
  {
   "cell_type": "code",
   "execution_count": 22,
   "id": "a3a01863",
   "metadata": {
    "slideshow": {
     "slide_type": "fragment"
    }
   },
   "outputs": [
    {
     "name": "stdout",
     "output_type": "stream",
     "text": [
      "7\n"
     ]
    }
   ],
   "source": [
    "def minus(x1, **args):\n",
    "    sum = 0\n",
    "    for key in args:\n",
    "        sum += args[key]\n",
    "        return x1 - sum\n",
    "\n",
    "\n",
    "print(minus(10, x2=3, x3=5))"
   ]
  },
  {
   "cell_type": "markdown",
   "id": "bd9f978b",
   "metadata": {
    "slideshow": {
     "slide_type": "fragment"
    }
   },
   "source": [
    "上面的代码中，用 \\*\\*args 表示 x2 = 3, x3 = 5。"
   ]
  },
  {
   "cell_type": "markdown",
   "id": "4a29c049",
   "metadata": {},
   "source": [
    "## 调试程序\n",
    "<hr>"
   ]
  },
  {
   "cell_type": "markdown",
   "id": "f49d0759",
   "metadata": {},
   "source": [
    "调试程序是编程不可避免的步骤，调试就是为了帮组发现与修改程序中的错误。因为即使再优秀的程序员，也不可能在编写一个新的程序时一点错误也没有。调试程序有以下几种常用的方法。"
   ]
  },
  {
   "cell_type": "markdown",
   "id": "e006f559",
   "metadata": {},
   "source": [
    "### 使用 print() 进行简单调试\n",
    "<hr>"
   ]
  },
  {
   "cell_type": "markdown",
   "id": "9347a287",
   "metadata": {},
   "source": [
    "这种调试方法适用于：代码短，问题简单，只需要查看几个变量的值的情况。一般是在怀疑可能会出错的代码行前面使用`print()`语句打印出一些变量值或函数输出结果，从而帮助程序员判断哪里出错。"
   ]
  },
  {
   "cell_type": "markdown",
   "id": "f4e5ecc2",
   "metadata": {},
   "source": [
    "例如，下面的例子中在可能发生错误的前一行使用 print 语句输出变量 a 与 b 的值。"
   ]
  },
  {
   "cell_type": "markdown",
   "id": "9e0c3eac",
   "metadata": {},
   "source": [
    "```{code} python\n",
    "def divide(a, b):\n",
    "    print(f\"DEBUG: a={a}, b={b}\")  # 调试信息\n",
    "    return a / b  # 可能发生 ZeroDivisionError\n",
    "\n",
    "\n",
    "print(divide(10, 2))\n",
    "print(divide(5, 0))  # 这里会出错\n",
    "```"
   ]
  },
  {
   "cell_type": "markdown",
   "id": "5c46cfd3",
   "metadata": {},
   "source": [
    "这种方法的缺点是：每次都要手动修改 print() 位置；不能暂停代码，调试麻烦。"
   ]
  },
  {
   "cell_type": "markdown",
   "id": "b8307386",
   "metadata": {},
   "source": [
    "### 使用调试器调试\n",
    "<hr>"
   ]
  },
  {
   "cell_type": "markdown",
   "id": "fe486698",
   "metadata": {},
   "source": [
    "Python 自带一个调试器 `pdb`，其他的 Python 编程软件（IDE）Spyder, Pycharm, VS code 等在菜单栏或工具栏也有专门的调试功能。"
   ]
  },
  {
   "cell_type": "markdown",
   "id": "db70d7f7",
   "metadata": {},
   "source": [
    "调试器调试的一般步骤是：\n",
    "1. 在怀疑出错的代码行前面设置断点\n",
    "   - IDE软件是在代码行号处单击（会出现红点）\n",
    "   - pdb为添加一行代码 pdb.set_trace()\n",
    "3. 启动调试\n",
    "4. 使用调试功能，发现或修改错误\n",
    "5. 退出调试"
   ]
  },
  {
   "cell_type": "markdown",
   "id": "8c245e70",
   "metadata": {},
   "source": [
    "下面代码为使用 pdb 进行调试的例子："
   ]
  },
  {
   "cell_type": "markdown",
   "id": "ab4eed3b",
   "metadata": {},
   "source": [
    "```{code} python\n",
    "import pdb\n",
    "\n",
    "\n",
    "def divide(a, b):\n",
    "    pdb.set_trace()  # 进入调试模式\n",
    "    return a / b\n",
    "\n",
    "\n",
    "print(divide(10, 2))\n",
    "```"
   ]
  },
  {
   "cell_type": "markdown",
   "id": "ecd69a69",
   "metadata": {},
   "source": [
    "运行代码后，会出现一个 pdb 的命令行，我们可以在命令后输入命令进行调试。"
   ]
  },
  {
   "cell_type": "markdown",
   "id": "8fada1da",
   "metadata": {},
   "source": [
    "pdb 常用命令：\n",
    "\n",
    "|命令|作用|\n",
    "|--|--|\n",
    "|n (next)\t|执行当前行，不进入函数|\n",
    "|s (step)\t|进入函数内部|\n",
    "|r (return)\t|运行到当前函数结束|\n",
    "|p var\t|打印变量值|\n",
    "|c (continue)\t|继续运行到下一个断点|\n",
    "|q|退出调试|"
   ]
  },
  {
   "cell_type": "markdown",
   "id": "29e91cb3",
   "metadata": {},
   "source": [
    "### 调试功能的 step into, step over, step out, resume program\n",
    "<hr>"
   ]
  },
  {
   "cell_type": "markdown",
   "id": "584ab521",
   "metadata": {},
   "source": [
    "使用 IDE 软件调试时，`step into`、`step over`、`step out`和 `resume program` 是调试器的常见功能，它们的区别如下："
   ]
  },
  {
   "cell_type": "markdown",
   "id": "04b47ec3",
   "metadata": {},
   "source": [
    "- Step Into（进入函数）：逐行执行代码，并且如果当前行有函数调用，就进入该函数内部。\n",
    "    - 相当于 pdb 中的 `s`\n",
    "- Step Over（跳过函数）：执行当前行的代码，但如果当前行有函数调用，则不进入该函数，而是直接执行完该行，停在下一行。\n",
    "    - 相当于 pdb 中的 `n`\n",
    "- Step Out（跳出函数）：如果在函数内部，执行完当前函数的剩余代码，并返回到调用该函数的位置；如果在函数外部，则继续执行程序，直到下一个断点或程序结束\n",
    "     - 相当于 pdb 中的 `r`\n",
    "- resume program：继续执行程序，直到下一个断点或程序结束。\n",
    "    - 相当于 pdb 中的 `c`"
   ]
  },
  {
   "cell_type": "code",
   "execution_count": 7,
   "id": "3b9fb2da",
   "metadata": {},
   "outputs": [
    {
     "name": "stdout",
     "output_type": "stream",
     "text": [
      "30\n"
     ]
    }
   ],
   "source": [
    "def add(a, b):\n",
    "    return a + b\n",
    "\n",
    "\n",
    "def main():\n",
    "    x = 10\n",
    "    y = 20\n",
    "    result = add(x, y)  # 如果在这里 \"Step Into\"，会进入 add 函数\n",
    "    print(result)\n",
    "\n",
    "\n",
    "main()"
   ]
  },
  {
   "cell_type": "markdown",
   "id": "ed7a1135",
   "metadata": {},
   "source": [
    "在 result = add(x, y) 这一行 Step Into，会进入 add 函数的第一行，逐行执行 add 的代码。"
   ]
  },
  {
   "cell_type": "code",
   "execution_count": 14,
   "id": "d3f963f0",
   "metadata": {},
   "outputs": [
    {
     "name": "stdout",
     "output_type": "stream",
     "text": [
      "30\n"
     ]
    }
   ],
   "source": [
    "def add(a, b):\n",
    "    return a + b\n",
    "\n",
    "\n",
    "def main():\n",
    "    x = 10\n",
    "    y = 20\n",
    "    result = add(x, y)  # 如果在这里 \"Step Over\"，不会进入 add，直接执行并跳到 print(result)\n",
    "    print(result)\n",
    "\n",
    "\n",
    "main()"
   ]
  },
  {
   "cell_type": "markdown",
   "id": "091851b9",
   "metadata": {},
   "source": [
    "在 result = add(x, y) 这一行 Step Over，不会进入 add 函数，而是直接执行完 add，然后跳到 print(result)。"
   ]
  },
  {
   "cell_type": "code",
   "execution_count": 13,
   "id": "a02c2367",
   "metadata": {},
   "outputs": [
    {
     "name": "stdout",
     "output_type": "stream",
     "text": [
      "30\n"
     ]
    }
   ],
   "source": [
    "import pdb\n",
    "\n",
    "\n",
    "def add(a, b):\n",
    "    return a + b  # 如果在这里 \"Step Out\"，会直接执行 return 并返回到 main() 的调用处\n",
    "\n",
    "\n",
    "def main():\n",
    "    x = 10\n",
    "    y = 20\n",
    "    result = add(x, y)\n",
    "    print(result)\n",
    "\n",
    "\n",
    "main()"
   ]
  },
  {
   "cell_type": "markdown",
   "id": "32ff7884",
   "metadata": {},
   "source": [
    "如果调试器当前在 return a + b 这一行，使用 Step Out，会执行 return a + b 并直接回到 result = add(x, y) 这一行。"
   ]
  },
  {
   "cell_type": "markdown",
   "id": "016ed9c4",
   "metadata": {},
   "source": [
    "在一些调试器中（例如 Pycharm），`Step Into My Code` 是一个增强版的 Step Into，它的作用是：\n",
    "\n",
    "- 进入你自己编写的代码，而跳过 Python 内置库、第三方库的代码。\n",
    "- 避免进入外部库（如 numpy, pandas 等），只调试自己写的部分，提高调试效率。"
   ]
  },
  {
   "cell_type": "markdown",
   "id": "a99db8ed",
   "metadata": {},
   "source": [
    "```{note}\n",
    "Spyder 软件的调试功能命令与上面所讲的命令略有不同，但比较类似。\n",
    "```"
   ]
  },
  {
   "cell_type": "markdown",
   "id": "ed3b91f9",
   "metadata": {
    "slideshow": {
     "slide_type": "slide"
    }
   },
   "source": [
    "## try-except 语句调试\n",
    "<hr>\n",
    "\n",
    "在编写程序时，有时候不知道程序能否正确运行，想试试程序运行结果如何，可以使用 try-except语句；若 try 块中的语句无法执行通过，则执行 except 块中的语句。\n"
   ]
  },
  {
   "cell_type": "markdown",
   "id": "00e60453",
   "metadata": {},
   "source": [
    "<table>   \n",
    "    <tr style=\"border-top:solid; border-bottom:solid\">\n",
    "            <th style=\"text-align:center\">try-excpet 语句的一般用法</th>\n",
    "    </tr>\n",
    "    <tr>\n",
    "        <td style=\"text-align:left\">try:</td>\n",
    "    </tr> \n",
    "    <tr>\n",
    "        <td style=\"text-align:left\">&nbsp;&nbsp;&nbsp;&nbsp;&nbsp;&nbsp;<语句块1></td>\n",
    "    </tr>\n",
    "    <tr>\n",
    "        <td style=\"text-align:left\">except [异常类型]:</td>\n",
    "    </tr> \n",
    "    <tr style=\"border-bottom:solid\">\n",
    "        <td style=\"text-align:left\">&nbsp;&nbsp;&nbsp;&nbsp;&nbsp;&nbsp;<语句块2></td>\n",
    "    </tr>\n",
    "</table>\n",
    "<br />"
   ]
  },
  {
   "cell_type": "markdown",
   "id": "c577fef2",
   "metadata": {
    "slideshow": {
     "slide_type": "subslide"
    }
   },
   "source": [
    "这个语句在程序调试时经常使用，下面的代码定义了一个除法函数："
   ]
  },
  {
   "cell_type": "code",
   "execution_count": 30,
   "id": "0c46c52b",
   "metadata": {
    "slideshow": {
     "slide_type": "fragment"
    }
   },
   "outputs": [
    {
     "name": "stdout",
     "output_type": "stream",
     "text": [
      "x2 should not be zero\n"
     ]
    }
   ],
   "source": [
    "def devide(x1, x2):\n",
    "    try:\n",
    "        z = x1 / x2\n",
    "        print(z)\n",
    "    except ZeroDivisionError:  # ZeroDivisionError 表示试图除以零时发生的错误\n",
    "        print(\"x2 should not be zero\")\n",
    "\n",
    "\n",
    "devide(5, 0)"
   ]
  },
  {
   "cell_type": "markdown",
   "id": "efb88ae4",
   "metadata": {
    "slideshow": {
     "slide_type": "fragment"
    }
   },
   "source": [
    "上面的代码中，若 x1 能除以 x2，则输出除法结果，否则提示 x2 不能为零。"
   ]
  },
  {
   "cell_type": "markdown",
   "id": "319a274d",
   "metadata": {
    "slideshow": {
     "slide_type": "subslide"
    }
   },
   "source": [
    "Python 还有一个关键字``pass``，不执行任何命令。一般用做占位语句，在程序调试时可以使用。"
   ]
  },
  {
   "cell_type": "code",
   "execution_count": 2,
   "id": "7c9ab10f",
   "metadata": {
    "slideshow": {
     "slide_type": "fragment"
    }
   },
   "outputs": [],
   "source": [
    "def devide(x1, x2):\n",
    "    try:\n",
    "        z = x1 / x2\n",
    "        print(z)\n",
    "    except:\n",
    "        pass\n",
    "\n",
    "\n",
    "devide(5, 0)"
   ]
  },
  {
   "cell_type": "markdown",
   "id": "be9e7c2c",
   "metadata": {
    "slideshow": {
     "slide_type": "fragment"
    }
   },
   "source": [
    "上面的代码中，若 x1 能除以 x2，则输出除法结果，否则程序不输出任何结果。"
   ]
  },
  {
   "cell_type": "markdown",
   "id": "6045f2d6",
   "metadata": {},
   "source": [
    "常见的异常类型还有："
   ]
  },
  {
   "cell_type": "markdown",
   "id": "74c10d50",
   "metadata": {},
   "source": [
    "|异常类型|描述|\n",
    "|--|--|\n",
    "|AttributeError|访问对象不存在的属性或方法|\n",
    "|IndexError|访问超出列表范围的索引|\n",
    "|SyntaxError|语法错误|\n",
    "|NameError|访问未定义的变量或函数时发生的错误|\n",
    "|TypeError|调用函数时，传递参数的类型错误|\n",
    "|ModuleNotFoundError|导入不存在的模块或找不到模块|\n",
    "|ValueError|函数参数的数据类型正确，但值不符合要求|"
   ]
  },
  {
   "cell_type": "markdown",
   "id": "d4c8e20d",
   "metadata": {},
   "source": [
    "## 导入其他模块（module）\n",
    "<hr>"
   ]
  },
  {
   "cell_type": "markdown",
   "id": "3689771b",
   "metadata": {},
   "source": [
    "Python 编程中，每个以 .py 为后缀的文件被称作模块（module）。很多时候，我们需要导入其他模块中的函数，\n",
    "\n",
    "在 Python 中导入其他文件夹中的模块时，有几个规则和方法可供使用。主要涉及 Python 的**模块搜索路径（sys.path**），以及如何使用**相对导入**和**绝对导入**。"
   ]
  },
  {
   "cell_type": "markdown",
   "id": "e27e7039",
   "metadata": {},
   "source": [
    "### Python 如何查找模块\n",
    "<hr>"
   ]
  },
  {
   "cell_type": "markdown",
   "id": "2bc26758",
   "metadata": {},
   "source": [
    "1. **当前目录**（脚本所在的文件夹）。\n",
    "2. **`sys.path` 中的目录**：\n",
    "   - `PYTHONPATH` 环境变量中的路径。\n",
    "   - Python 安装目录中的标准库路径。\n",
    "   - `site-packages` 目录（安装的第三方库）。"
   ]
  },
  {
   "cell_type": "markdown",
   "id": "34e1e179",
   "metadata": {},
   "source": [
    "你可以运行以下代码查看 Python sys.path中的路径目录："
   ]
  },
  {
   "cell_type": "code",
   "execution_count": 3,
   "id": "59d5952d",
   "metadata": {
    "scrolled": true
   },
   "outputs": [
    {
     "name": "stdout",
     "output_type": "stream",
     "text": [
      "['/Users/zhenchen/Documents/book-Python-Data-Science/data-science', '/Users/yourname/projects', '/Users/zhenchen/Documents/book-Python-Data-Science/data-science', '/Users/zhenchen/anaconda3/lib/python310.zip', '/Users/zhenchen/anaconda3/lib/python3.10', '/Users/zhenchen/anaconda3/lib/python3.10/lib-dynload', '', '/Users/zhenchen/.local/lib/python3.10/site-packages', '/Users/zhenchen/anaconda3/lib/python3.10/site-packages']\n"
     ]
    }
   ],
   "source": [
    "import sys\n",
    "\n",
    "print(sys.path)"
   ]
  },
  {
   "cell_type": "markdown",
   "id": "e7d0cfa7",
   "metadata": {},
   "source": [
    "### 同级模块导入或同级文件夹下的模块导入\n",
    "<hr>"
   ]
  },
  {
   "cell_type": "markdown",
   "id": "2dbddad8",
   "metadata": {},
   "source": [
    "若导入模块是当前模块的同级文件，即二者在一个父目录下，例如：\n",
    "\n",
    "**目录结构**\n",
    "```\n",
    "project_root/\n",
    "│── main.py\n",
    "│── my_module.py\n",
    "```"
   ]
  },
  {
   "cell_type": "markdown",
   "id": "8aa01478",
   "metadata": {},
   "source": [
    "我们在 main.py 文件中想导入 my_module.py 模块，可以："
   ]
  },
  {
   "cell_type": "markdown",
   "id": "ebb8e491",
   "metadata": {},
   "source": [
    "```{code} python\n",
    "import my_module\n",
    "```"
   ]
  },
  {
   "cell_type": "markdown",
   "id": "06efc65f",
   "metadata": {},
   "source": [
    "若具体想导入 my_module.py 模块中的某个函数或类 foo()，可以"
   ]
  },
  {
   "cell_type": "markdown",
   "id": "3304c152",
   "metadata": {},
   "source": [
    "```{code} python\n",
    "from my_module import foo\n",
    "```"
   ]
  },
  {
   "cell_type": "markdown",
   "id": "63369fcd",
   "metadata": {},
   "source": [
    "若导入模块在与当前模块同级的文件夹下，例如：\n",
    "\n",
    "**目录结构**\n",
    "```\n",
    "project_root/\n",
    "│── main.py\n",
    "│── folder1/\n",
    "│    │── my_module.py\n",
    "```"
   ]
  },
  {
   "cell_type": "markdown",
   "id": "a91bd9a1",
   "metadata": {},
   "source": [
    "我们在 main.py 文件中想导入 folder1 文件夹下的 my_module.py 模块，可以："
   ]
  },
  {
   "cell_type": "markdown",
   "id": "56c5f968",
   "metadata": {},
   "source": [
    "```{code} python\n",
    "from folder1.my_module import foo\n",
    "```"
   ]
  },
  {
   "cell_type": "markdown",
   "id": "95166103",
   "metadata": {},
   "source": [
    "### 与父文件夹同级的模块导入\n",
    "<hr>"
   ]
  },
  {
   "cell_type": "markdown",
   "id": "aeabcafd",
   "metadata": {},
   "source": [
    "若导入模块在与当前模块父文件夹同级，例如：\n",
    "\n",
    "**目录结构1**\n",
    "```\n",
    "project_root/\n",
    "│── my_module.py\n",
    "│── folder1/\n",
    "│    │── main.py\n",
    "```\n",
    "\n",
    "或者：\n",
    "\n",
    "**目录结构2**\n",
    "```\n",
    "project_root/\n",
    "│── folder2\n",
    "│    │── my_module.py\n",
    "│── folder1/\n",
    "│    │── main.py\n",
    "```\n"
   ]
  },
  {
   "cell_type": "markdown",
   "id": "a51dc665",
   "metadata": {},
   "source": [
    "在 main.py 文件中想导入与父文件夹同级的 my_module.py 模块，可以通过将父文件夹路径添加到 sys.path 中去的方式："
   ]
  },
  {
   "cell_type": "markdown",
   "id": "26963721",
   "metadata": {},
   "source": [
    "```{code} python\n",
    "import sys\n",
    "import os\n",
    "\n",
    "# 获取 `parent_directory` 路径\n",
    "parent_dir = os.path.abspath(os.path.join(os.getcwd(), \"..\"))  # .. represents the parent directory\n",
    "sys.path.insert(0, parent_dir)  # 插入 `parent_directory` 到 sys.path\n",
    "```"
   ]
  },
  {
   "cell_type": "markdown",
   "id": "71b41be2",
   "metadata": {},
   "source": [
    "现在可以正确导入 my_module.py"
   ]
  },
  {
   "cell_type": "markdown",
   "id": "424b404f",
   "metadata": {},
   "source": [
    "- 若为目录结构1： import my_module \n",
    "- 若为目录结构2:&nbsp;&nbsp;  from folder2 import my_module"
   ]
  },
  {
   "cell_type": "markdown",
   "id": "3071eacb",
   "metadata": {},
   "source": [
    "```{note}\n",
    "Pycharm 会自动把整个项目文件夹的根目录加入到 sys.path 中，因此在 Pycharm 中，都可按照跟目录下的模块导入\n",
    "```"
   ]
  },
  {
   "cell_type": "markdown",
   "id": "e622a61e",
   "metadata": {},
   "source": [
    "例如，在 Pycharm 中，对于目录结构2，可以直接按下面代码导入模块，而不用通过 sys.path 添加父文件夹路径。"
   ]
  },
  {
   "cell_type": "markdown",
   "id": "1decd51e",
   "metadata": {},
   "source": [
    "```{code} python\n",
    "from folder2 import my_module\n",
    "```"
   ]
  },
  {
   "cell_type": "markdown",
   "id": "8ef9771c",
   "metadata": {},
   "source": [
    "### 使用 `sys.path.append()`\n",
    "<hr>\n"
   ]
  },
  {
   "cell_type": "markdown",
   "id": "aedb1bdd",
   "metadata": {},
   "source": [
    "如果你的模块所在路径比较复杂，你可以使用以下方法 `sys.path.append()`添加导入模块的具体路径。"
   ]
  },
  {
   "cell_type": "markdown",
   "id": "4c266e6d",
   "metadata": {},
   "source": [
    "例如，如果你想导入 `other_folder/module.py`，其中，\"other_folder\" 为文件夹在电脑硬盘中的详细地址。可以在代码中手动添加路径："
   ]
  },
  {
   "cell_type": "markdown",
   "id": "43edfc28",
   "metadata": {},
   "source": [
    "```{code} python3\n",
    "import sys\n",
    "import os\n",
    "\n",
    "sys.path.append(os.path.abspath(\"other_folder\"))  # 临时将路径添加到 sys.path\n",
    "import module  # 现在可以正常导入\n",
    "```"
   ]
  },
  {
   "cell_type": "markdown",
   "id": "640ae09b",
   "metadata": {
    "jp-MarkdownHeadingCollapsed": true,
    "slideshow": {
     "slide_type": "subslide"
    }
   },
   "source": [
    "## lambda, map, filter, reduce 函数\n",
    "<hr>\n",
    "\n",
    "Python 使用``lambda``来创建匿名函数。所谓匿名，即不再使用 def 语句这样标准的形式定义一个函数。**lambda 函数只有一行**，用一个冒号分割传递参数与函数的返回值。非常简洁，在 Pandas 处理数据时经常结合 apply 函数使用。"
   ]
  },
  {
   "cell_type": "markdown",
   "id": "9c004655",
   "metadata": {
    "slideshow": {
     "slide_type": "fragment"
    }
   },
   "source": [
    "<table>   \n",
    "    <tr style=\"border-top:solid; border-bottom:solid\">\n",
    "            <th style=\"text-align:center\">lambda 函数的一般用法</th>\n",
    "    </tr>\n",
    "    <tr style=\"border-bottom:solid\">\n",
    "        <td style=\"text-align:left\"><函数名> = lambda <参数列表>: <表达式></td>\n",
    "    </tr>    \n",
    "</table>\n",
    "<br />"
   ]
  },
  {
   "cell_type": "code",
   "execution_count": 23,
   "id": "34b07600",
   "metadata": {
    "slideshow": {
     "slide_type": "subslide"
    }
   },
   "outputs": [
    {
     "name": "stdout",
     "output_type": "stream",
     "text": [
      "16\n"
     ]
    }
   ],
   "source": [
    "add = lambda x1, x2: x1 + x2\n",
    "print(add(10, 6))"
   ]
  },
  {
   "cell_type": "markdown",
   "id": "972df62b",
   "metadata": {
    "slideshow": {
     "slide_type": "subslide"
    }
   },
   "source": [
    "也可以结合 if-else 语句定义 lambda 函数。"
   ]
  },
  {
   "cell_type": "code",
   "execution_count": 1,
   "id": "bacf8b93",
   "metadata": {
    "slideshow": {
     "slide_type": "fragment"
    }
   },
   "outputs": [
    {
     "name": "stdout",
     "output_type": "stream",
     "text": [
      "20\n"
     ]
    }
   ],
   "source": [
    "Max = lambda a, b: a if a > b else b\n",
    "print(Max(12, 20))"
   ]
  },
  {
   "cell_type": "markdown",
   "id": "b627a6e6",
   "metadata": {},
   "source": [
    "``map(fun, iter)`` 对每一个可迭代对象 iter 中的元素应用 fun 函数，并返回一个 map 类型的可迭代对象。fun 函数既可以使用 lambda 匿名函数，也可以用 def 自定义一个函数。"
   ]
  },
  {
   "cell_type": "code",
   "execution_count": 25,
   "id": "32c20730",
   "metadata": {},
   "outputs": [
    {
     "data": {
      "text/plain": [
       "<map at 0x7fcc1803d6c0>"
      ]
     },
     "execution_count": 25,
     "metadata": {},
     "output_type": "execute_result"
    }
   ],
   "source": [
    "a = [1, 2, 3]\n",
    "b = map(lambda x: x**2, a)  # 对 a 中每个元素平方\n",
    "b"
   ]
  },
  {
   "cell_type": "markdown",
   "id": "16753ece",
   "metadata": {},
   "source": [
    "可以用``list()``函数将这个可迭代对象转化为 list 类型："
   ]
  },
  {
   "cell_type": "code",
   "execution_count": 26,
   "id": "04fd0c15",
   "metadata": {},
   "outputs": [
    {
     "data": {
      "text/plain": [
       "[1, 4, 9]"
      ]
     },
     "execution_count": 26,
     "metadata": {},
     "output_type": "execute_result"
    }
   ],
   "source": [
    "list(b)"
   ]
  },
  {
   "cell_type": "markdown",
   "id": "b8f05bbe",
   "metadata": {},
   "source": [
    "``filter(fun, iter)`` 对可迭代对象 iter 中的每一个元素应用判断函数 fun 过滤，并返回一个 filter 类型的可迭代对象。"
   ]
  },
  {
   "cell_type": "code",
   "execution_count": 27,
   "id": "08bd6a78",
   "metadata": {},
   "outputs": [
    {
     "data": {
      "text/plain": [
       "[2, 3]"
      ]
     },
     "execution_count": 27,
     "metadata": {},
     "output_type": "execute_result"
    }
   ],
   "source": [
    "a = [1, 2, 3]\n",
    "b = filter(lambda x: x >= 2, a)  # 将大于等于 2 的元素过滤出来\n",
    "list(b)"
   ]
  },
  {
   "cell_type": "markdown",
   "id": "167f2559",
   "metadata": {},
   "source": [
    "``reduce(fun, iter)``首先对可迭代对象 iter 中的前两个元素应用函数 fun，然后将其结果作为 fun 的第一个输入值，再对第 3 个元素应用 fun 函数；以此类推，最后返回一个数。使用 reduce 函数需要从工具包 functools 中提前导入。"
   ]
  },
  {
   "cell_type": "code",
   "execution_count": 28,
   "id": "52b472d9",
   "metadata": {},
   "outputs": [
    {
     "data": {
      "text/plain": [
       "10"
      ]
     },
     "execution_count": 28,
     "metadata": {},
     "output_type": "execute_result"
    }
   ],
   "source": [
    "from functools import reduce  # 从工具包 functools 中导入 reduce\n",
    "\n",
    "a = [1, 2, 3, 4]\n",
    "b = reduce(lambda x1, x2: x1 + x2, a)  # 求和\n",
    "b"
   ]
  },
  {
   "cell_type": "markdown",
   "id": "399fdf9e",
   "metadata": {},
   "source": [
    "``reduce``也可以跟 3 个参数，即``reduce(fun, iter, start=None)``。此时，首先对一个初始值 start 与可迭代对象 iter 中的第一个元素应用函数 fun，然后将其结果作为 fun 的第一个输入值，再对第 2 个元素应用 fun 函数；以此类推，最后返回一个数。"
   ]
  },
  {
   "cell_type": "code",
   "execution_count": 29,
   "id": "564e8e47",
   "metadata": {},
   "outputs": [
    {
     "data": {
      "text/plain": [
       "20"
      ]
     },
     "execution_count": 29,
     "metadata": {},
     "output_type": "execute_result"
    }
   ],
   "source": [
    "a = [1, 2, 3, 4]\n",
    "b = reduce(lambda x1, x2: x1 + x2, a, 10)  # 求和，起始值为 10\n",
    "b"
   ]
  },
  {
   "cell_type": "markdown",
   "id": "448cdaf3",
   "metadata": {},
   "source": [
    "## 一些常用的内置函数\n",
    "<hr>"
   ]
  },
  {
   "cell_type": "markdown",
   "id": "93effce2",
   "metadata": {},
   "source": [
    "\n",
    "Python 内置了一些常用的函数，可以方便使用。本书简单介绍以下几个内置函数：\n",
    "\n",
    "<table>\n",
    "    <tr style=\"border-top:solid\">\n",
    "        <td style=\"text-align:left\">sum</td>\n",
    "        <td style=\"text-align:left\">对可迭代对象（如列表，元组，集合）求和</td>\n",
    "    </tr>\n",
    "    <tr>\n",
    "        <td style=\"text-align:left\">max</td>\n",
    "        <td style=\"text-align:left\">返回输入参数中的最大值</td>\n",
    "    </tr>\n",
    "    <tr>\n",
    "        <td style=\"text-align:left\">min</td>\n",
    "        <td style=\"text-align:left\">返回输入参数中的最小值</td>\n",
    "    </tr>\n",
    "    <tr>\n",
    "        <td style=\"text-align:left\">abs</td>\n",
    "        <td style=\"text-align:left\">返回输入数值的绝对值</td>\n",
    "    </tr>\n",
    "    <tr>\n",
    "        <td style=\"text-align:left\">round</td>\n",
    "        <td style=\"text-align:left\">返回输入数值的四舍五入值</td>\n",
    "    </tr>\n",
    "    <tr>\n",
    "        <td style=\"text-align:left\">range</td>\n",
    "        <td style=\"text-align:left\">创建一个整数序列类型，多用于 for 循环</td>\n",
    "    </tr>\n",
    "    <tr>\n",
    "        <td style=\"text-align:left\">enumerate</td>\n",
    "        <td style=\"text-align:left\">将一个可迭代的对象，同时列出各个数据和对应索引，常用在 for 循环中</td>\n",
    "    </tr>\n",
    "    <tr style=\"border-bottom:solid\">\n",
    "        <td style=\"text-align:left\">sorted</td>\n",
    "        <td style=\"text-align:left\">对可迭代对象进行排序，默认升序</td>\n",
    "    </tr>\n",
    "</table>\n",
    "</br>"
   ]
  },
  {
   "cell_type": "code",
   "execution_count": null,
   "id": "e5a92c96",
   "metadata": {},
   "outputs": [],
   "source": [
    "round(3.1415926, 2)  # 四舍五入时保留两位小数"
   ]
  },
  {
   "cell_type": "code",
   "execution_count": null,
   "id": "65dc7d1d",
   "metadata": {},
   "outputs": [],
   "source": [
    "round(3.1415926)  # 默认四舍五入为整数"
   ]
  },
  {
   "cell_type": "markdown",
   "id": "14b012d6",
   "metadata": {},
   "source": [
    "range 被 Python 直接视为一种数据类型，表示一个整数数列。包含终点（必有），起点（可选），步长（可选）。可以用``list()``将 range 类型转化为列表类型。"
   ]
  },
  {
   "cell_type": "code",
   "execution_count": null,
   "id": "d3f027e4",
   "metadata": {},
   "outputs": [],
   "source": [
    "range(10)  # 创建一个从 0 到 10 (不包括 10) 的整数序列，默认起点为 0，默认步长值为 1"
   ]
  },
  {
   "cell_type": "code",
   "execution_count": null,
   "id": "6113ad33",
   "metadata": {},
   "outputs": [],
   "source": [
    "list(range(10))"
   ]
  },
  {
   "cell_type": "code",
   "execution_count": null,
   "id": "00e97597",
   "metadata": {},
   "outputs": [],
   "source": [
    "range(2, 10)  # 创建一个从 2 到 10 的整数序列"
   ]
  },
  {
   "cell_type": "code",
   "execution_count": null,
   "id": "3c67b7ae",
   "metadata": {},
   "outputs": [],
   "source": [
    "range(2, 10, 2)  # 创建一个从 2 到 10 的整数序列，并且步长值为 2"
   ]
  },
  {
   "cell_type": "code",
   "execution_count": null,
   "id": "5d773a32",
   "metadata": {},
   "outputs": [],
   "source": [
    "list(range(2, 10, 2))"
   ]
  },
  {
   "cell_type": "markdown",
   "id": "48ce5e28",
   "metadata": {},
   "source": [
    "eumerate 经常结合 for 循环使用。"
   ]
  },
  {
   "cell_type": "code",
   "execution_count": null,
   "id": "af79612b",
   "metadata": {},
   "outputs": [],
   "source": [
    "a = [20, 30, 40, 50]\n",
    "for i in range(len(a)):\n",
    "    print(a[i], i)"
   ]
  },
  {
   "cell_type": "markdown",
   "id": "3c01b89e",
   "metadata": {},
   "source": [
    "使用 enumerate 则上述代码更简洁些："
   ]
  },
  {
   "cell_type": "code",
   "execution_count": null,
   "id": "960123c8",
   "metadata": {},
   "outputs": [],
   "source": [
    "a = [20, 30, 40, 50]\n",
    "for item, i in enumerate(a):\n",
    "    print(item, i)"
   ]
  },
  {
   "cell_type": "markdown",
   "id": "ac5c15d3",
   "metadata": {},
   "source": [
    "sorted 函数可以对可迭代对象进行排序，默认为升序，可迭代对象一般是列表。"
   ]
  },
  {
   "cell_type": "code",
   "execution_count": null,
   "id": "2e99a3c5",
   "metadata": {},
   "outputs": [],
   "source": [
    "arr = [23, 54, 12, 37]\n",
    "sorted(arr)  # 对列表升序排列"
   ]
  },
  {
   "cell_type": "code",
   "execution_count": null,
   "id": "cecf197c",
   "metadata": {},
   "outputs": [],
   "source": [
    "sorted(arr, reverse=True)  # 对列表降序排列"
   ]
  },
  {
   "cell_type": "markdown",
   "id": "4cf2f1ff",
   "metadata": {},
   "source": [
    "## 练习\n",
    "<hr>"
   ]
  },
  {
   "cell_type": "markdown",
   "id": "32359427",
   "metadata": {},
   "source": [
    "```{exercise}\n",
    ":label: judge-leap-year\n",
    "判断用户输入的年份是否为闰年。\n",
    "```"
   ]
  },
  {
   "cell_type": "markdown",
   "id": "a8f0c9e6",
   "metadata": {},
   "source": [
    "````{solution} judge-leap-year\n",
    ":class: dropdown\n",
    "\n",
    "```{code-block} python\n",
    "year = int(input(\"输入一个年份: \"))\n",
    "if (year % 4) == 0:\n",
    "    if (year % 100) == 0:\n",
    "        if (year % 400) == 0:\n",
    "            print(\"{0} 是闰年\".format(year))  # 整百年能被400整除的是闰年\n",
    "        else:\n",
    "            print(\"{0} 不是闰年\".format(year))\n",
    "    else:\n",
    "        print(\"{0} 是闰年\".format(year))  # 非整百年能被4整除的为闰年\n",
    "else:\n",
    "    print(\"{0} 不是闰年\".format(year))\n",
    "```\n",
    "````"
   ]
  },
  {
   "cell_type": "markdown",
   "id": "df88261e",
   "metadata": {},
   "source": [
    "```{exercise}\n",
    ":label: print-multiplication-table\n",
    "编写一个程序，打印出九九乘法表。\n",
    "```"
   ]
  },
  {
   "cell_type": "markdown",
   "id": "7ec84120",
   "metadata": {},
   "source": [
    "````{solution} print-multiplication-table\n",
    ":class: dropdown\n",
    "\n",
    "```{code-block} python\n",
    "for i in range(1, 10):\n",
    "    for j in range(1, i + 1):\n",
    "        print('{}*{}={}\\t'.format(j, i, i*j), end='')\n",
    "    print()\n",
    "```\n",
    "````"
   ]
  },
  {
   "cell_type": "markdown",
   "id": "e23a0cf3",
   "metadata": {},
   "source": [
    "```{exercise}\n",
    ":label: sum-cub\n",
    "自定义一个函数，给定数值 $n$，能够计算 从 1 到 $n$ 所有自然数的立方和。\n",
    "```"
   ]
  },
  {
   "cell_type": "markdown",
   "id": "466fe7da",
   "metadata": {},
   "source": [
    "````{solution} sum-cub\n",
    ":class: dropdown\n",
    "\n",
    "```{code-block} python\n",
    "def sumOfCube(n):\n",
    "    sum = 0\n",
    "    for i in range(1, n+1):\n",
    "        sum += i * i *i       \n",
    "    return sum\n",
    " \n",
    "   \n",
    "# 调用函数\n",
    "n = 10\n",
    "print(sumOfCube(n))\n",
    "```\n",
    "````"
   ]
  },
  {
   "cell_type": "markdown",
   "id": "909f4184",
   "metadata": {},
   "source": [
    "```{exercise}\n",
    ":label: great-common-devisor\n",
    "从键盘输入两个整数，编写一个程序可以求出这两个整数的最大公约数。\n",
    "```"
   ]
  },
  {
   "cell_type": "markdown",
   "id": "28228ac1",
   "metadata": {},
   "source": [
    "````{solution} great-common-devisor\n",
    ":class: dropdown\n",
    "\n",
    "```{code-block} python\n",
    "# 定义一个函数\n",
    "def gcd(x, y):\n",
    "    gcd = 1  # 初始值为 1\n",
    "\n",
    "    # 获取两个数的最小值\n",
    "    if x > y:\n",
    "        smaller = y\n",
    "    else:\n",
    "        smaller = x\n",
    "\n",
    "    for i in range(1, smaller + 1):\n",
    "        if (x % i == 0) and (y % i == 0):\n",
    "            gcd = i\n",
    "\n",
    "    return gcd\n",
    "\n",
    "\n",
    "# 用户输入两个数字\n",
    "num1 = int(input(\"输入第一个数字: \"))\n",
    "num2 = int(input(\"输入第二个数字: \"))\n",
    "\n",
    "print(num1, \"和\", num2, \"的最大公约数为\", gcd(num1, num2))\n",
    "```\n",
    "````"
   ]
  },
  {
   "cell_type": "markdown",
   "id": "0ceb65f0",
   "metadata": {},
   "source": [
    "```{exercise}\n",
    ":label: fib-sequence\n",
    "输出指定数目的斐波那契数列。\n",
    "```"
   ]
  },
  {
   "cell_type": "markdown",
   "id": "e23d7b48",
   "metadata": {},
   "source": [
    "````{solution} fib-sequence\n",
    ":class: dropdown\n",
    "\n",
    "```{code-block} python\n",
    "# 获取用户输入数据\n",
    "nterms = int(input(\"the number of sequence:\"))\n",
    "\n",
    "# 第一和第二项\n",
    "n1 = 0\n",
    "n2 = 1\n",
    "count = 2\n",
    "\n",
    "# 判断输入的值是否合法\n",
    "if nterms <= 0:\n",
    "    print(\"please input a positive value\")\n",
    "elif nterms == 1:\n",
    "    print(\"斐波那契数列：\")\n",
    "    print(n1)\n",
    "else:\n",
    "    print(\"斐波那契数列：\")\n",
    "    print(n1, end=\", \")\n",
    "    print(n2, end=\", \")\n",
    "    while count < nterms - 1:\n",
    "        nth = n1 + n2\n",
    "        print(nth, end=\", \")\n",
    "\n",
    "        # 更新值\n",
    "        n1 = n2\n",
    "        n2 = nth\n",
    "        count += 1\n",
    "nth = n1 + n2\n",
    "print(nth)\n",
    "```\n",
    "````"
   ]
  },
  {
   "cell_type": "markdown",
   "id": "ffb62240",
   "metadata": {},
   "source": [
    "````{solution} fib-sequence\n",
    ":class: dropdown\n",
    "\n",
    "```{code-block} python\n",
    "def recur_fibo(n):\n",
    "    \"\"\"\n",
    "    递归函数\n",
    "    输出斐波那契数列\n",
    "    \"\"\"\n",
    "    if n <= 1:\n",
    "        return n\n",
    "    else:\n",
    "        return recur_fibo(n - 1) + recur_fibo(n - 2)\n",
    "\n",
    "\n",
    "# 获取用户输入\n",
    "nterms = int(input(\"您要输出几项? \"))\n",
    "\n",
    "# 检查输入的数字是否正确\n",
    "if nterms <= 0:\n",
    "    print(\"输入正数\")\n",
    "else:\n",
    "    print(\"斐波那契数列:\")\n",
    "    for i in range(nterms):\n",
    "        print(recur_fibo(i))\n",
    "```\n",
    "````"
   ]
  },
  {
   "cell_type": "markdown",
   "id": "0c85f0f1",
   "metadata": {},
   "source": [
    "```{exercise}\n",
    ":label: range-prime-numbers\n",
    "输出指定范围内的素数。\n",
    "```"
   ]
  },
  {
   "cell_type": "markdown",
   "id": "2325c0df",
   "metadata": {},
   "source": [
    "````{solution} range-prime-numbers\n",
    ":class: dropdown\n",
    "\n",
    "```{code-block} python\n",
    "# take input from the user\n",
    "lower = int(input(\"输入区间最小值: \"))\n",
    "upper = int(input(\"输入区间最大值: \"))\n",
    " \n",
    "for num in range(lower, upper + 1):\n",
    "    # 素数大于 1\n",
    "    if num > 1:\n",
    "        for i in range(2,num):\n",
    "            if (num % i) == 0:\n",
    "                break\n",
    "        else:\n",
    "            print(num)\n",
    "```\n",
    "````"
   ]
  },
  {
   "cell_type": "markdown",
   "id": "4bf20ade",
   "metadata": {},
   "source": [
    "```{exercise}\n",
    ":label: get-date\n",
    "编写一个程序，能够得到昨天的日期。（提示：使用 datatime 库）\n",
    "```"
   ]
  },
  {
   "cell_type": "markdown",
   "id": "975cb95d",
   "metadata": {},
   "source": [
    "````{solution} range-prime-numbers\n",
    ":class: dropdown\n",
    "\n",
    "```{code-block} python\n",
    "import datetime\n",
    "\n",
    "\n",
    "def getYesterday(): \n",
    "    today = datetime.date.today() \n",
    "    oneday = datetime.timedelta(days = 1) \n",
    "    yesterday = today - oneday  \n",
    "    return yesterday\n",
    "\n",
    " \n",
    "# 输出\n",
    "print(getYesterday())\n",
    "```\n",
    "````"
   ]
  },
  {
   "cell_type": "markdown",
   "id": "24b68974",
   "metadata": {},
   "source": [
    "```{exercise}\n",
    ":label: second-watch\n",
    "编写一个程序，实现秒表功能。（提示：使用 time 库）\n",
    "```"
   ]
  },
  {
   "cell_type": "markdown",
   "id": "d238f15c",
   "metadata": {},
   "source": [
    "````{solution} second-watch\n",
    ":class: dropdown\n",
    "\n",
    "```{code-block} python\n",
    "import time\n",
    "\n",
    "\n",
    "print(\"按下回车开始计时，按下任意键停止计时。\")\n",
    "while True:\n",
    "    input(\"\")\n",
    "    starttime = time.time()\n",
    "    print(\"开始\")\n",
    "    try:\n",
    "        while True:\n",
    "            print(\"计时: \", round(time.time() - starttime, 0), \"s\")\n",
    "            time.sleep(1)\n",
    "    except KeyboardInterrupt:\n",
    "        print(\"结束\")\n",
    "        endtime = time.time()\n",
    "        print(\"总共的时间为:\", round(endtime - starttime, 2), \"s\")\n",
    "        break\n",
    "```\n",
    "````"
   ]
  },
  {
   "cell_type": "markdown",
   "id": "473cc989",
   "metadata": {},
   "source": [
    "<script src=\"https://giscus.app/client.js\"\n",
    "        data-repo=\"robinchen121/book-Python-Data-Science\"\n",
    "        data-repo-id=\"R_kgDOKFdyOw\"\n",
    "        data-category=\"Announcements\"\n",
    "        data-category-id=\"DIC_kwDOKFdyO84CgWHi\"\n",
    "        data-mapping=\"pathname\"\n",
    "        data-strict=\"0\"\n",
    "        data-reactions-enabled=\"1\"\n",
    "        data-emit-metadata=\"0\"\n",
    "        data-input-position=\"bottom\"\n",
    "        data-theme=\"light\"\n",
    "        data-lang=\"en\"\n",
    "        crossorigin=\"anonymous\"\n",
    "        async>\n",
    "</script>"
   ]
  },
  {
   "cell_type": "markdown",
   "id": "eb8f6e51",
   "metadata": {},
   "source": [
    "<!-- Toogle google translation -->\n",
    "<div id=\"google_translate_element\"></div>\n",
    "<script type=\"text/javascript\">\n",
    "      function googleTranslateElementInit() {\n",
    "        new google.translate.TranslateElement({ pageLanguage: 'zh-CN',\n",
    "                  includedLanguages: 'en,zh-CN,zh-TW,ja,ko,de,ru,fr,es,it,pt,hi,ar,fa',\n",
    "layout: google.translate.TranslateElement.InlineLayout.SIMPLE }, 'google_translate_element');\n",
    "      }\n",
    "</script>\n",
    "<script type=\"text/javascript\"\n",
    "      src=\"https://translate.google.com/translate_a/element.js?cb=googleTranslateElementInit\"\n",
    "></script>\n",
    "<br>"
   ]
  }
 ],
 "metadata": {
  "kernelspec": {
   "display_name": "Python 3 (ipykernel)",
   "language": "python",
   "name": "python3"
  },
  "language_info": {
   "codemirror_mode": {
    "name": "ipython",
    "version": 3
   },
   "file_extension": ".py",
   "mimetype": "text/x-python",
   "name": "python",
   "nbconvert_exporter": "python",
   "pygments_lexer": "ipython3",
   "version": "3.12.7"
  }
 },
 "nbformat": 4,
 "nbformat_minor": 5
}
