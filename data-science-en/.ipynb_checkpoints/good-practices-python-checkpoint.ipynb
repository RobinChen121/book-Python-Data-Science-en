{
 "cells": [
  {
   "cell_type": "markdown",
   "id": "a5088615-5523-496e-b356-b590440b311c",
   "metadata": {},
   "source": [
    "# Python 的良好编程规范\n",
    "<hr>"
   ]
  },
  {
   "cell_type": "markdown",
   "id": "d6dc90b0-475b-447c-84e3-3655ad0534f0",
   "metadata": {},
   "source": [
    "在 Python 编程中，良好的编码习惯可以提高代码的可读性、可维护性和运行效率。Python 官方提供了 [PEP 8](https://peps.python.org/pep-0008/) 作为代码风格指南，本章根据该指南以及经验心得总结了下面几点。"
   ]
  },
  {
   "cell_type": "markdown",
   "id": "373b49cc-6956-45fb-959f-dcf1f73a40df",
   "metadata": {},
   "source": [
    "## 代码布局\n",
    "<hr>"
   ]
  },
  {
   "cell_type": "markdown",
   "id": "7bf71380-2f66-4be7-93ba-d0dc23db4439",
   "metadata": {},
   "source": [
    "```{note}\n",
    "一些 Python IDE 软件，有可以将代码布局转化为 PEP 8 风格的选项或快捷键\n",
    "- 在 Pycharm 中，快捷键为：\n",
    "    - Windows/Linux: `Ctrl` + `Alt` + `L`\n",
    "    - Mac: `Cmd` + `Option` + `L`\n",
    "- 在 Spyder 中，快捷键为：\n",
    "    - Windows/Linux: `Ctrl` + `Shift` + `I`\n",
    "    - Mac: `Cmd` + `Option` + `I`\n",
    "```"
   ]
  },
  {
   "cell_type": "markdown",
   "id": "73d2a82b-0305-42e3-90cf-846d6855b652",
   "metadata": {},
   "source": [
    "### 空格与空行的使用\n",
    "<hr>"
   ]
  },
  {
   "cell_type": "markdown",
   "id": "04b9e6a0-94a1-4928-b569-0da08081c042",
   "metadata": {},
   "source": [
    "- 使用 4 个空格缩进（避免使用 Tab）"
   ]
  },
  {
   "cell_type": "markdown",
   "id": "1ceafced-c7ff-44dd-9fe3-3c348d91d5e5",
   "metadata": {},
   "source": [
    "因为不同的编辑器和环境可能对 Tab 的显示方式不同（如 2、4、8 个空格）。使用 4 个空格可以确保代码在所有编辑器、终端和操作系统上保持一致的外观。"
   ]
  },
  {
   "cell_type": "markdown",
   "id": "d981e324-e8a1-4fdc-b5d7-050187cd45d6",
   "metadata": {},
   "source": [
    "- 适当添加空行\n",
    "    - 类与类外部的函数之间使用两个空行分割\n",
    "    - 类内部的函数之间使用一个空行分割\n",
    "    - 类外部的函数之间使用两个空行分割\n",
    "    - import 代码块一般与程序的主代码块空一行或两行\n",
    "    - 可以（谨慎地）使用额外的空行来分隔相关函数以及函数内部中的不同代码块"
   ]
  },
  {
   "cell_type": "code",
   "execution_count": 3,
   "id": "74fbd5e0-6fa7-4f4e-b7bf-c8ff1f453961",
   "metadata": {},
   "outputs": [
    {
     "data": {
      "application/javascript": [
       "\n",
       "            setTimeout(function() {\n",
       "                var nbb_cell_id = 3;\n",
       "                var nbb_unformatted_code = \"import os\\nimport sys \\n\\n\\n# two blank lines above\\nclass MyClass:\\n    \\n    def foo1(self ):\\n        pass\\n\\n    # functions inside a class are separated by one blank line\\n    def foo2(self):\\n        pass\\n        \\n\\n# class and the outer function is separated by two blank lines\\ndef main():\\n    my_class = MyClass()\\n    my_class.foo1()\\n\\nif __name__ == \\\"__main__\\\":\\n    main()\";\n",
       "                var nbb_formatted_code = \"import os\\nimport sys\\n\\n\\n# two blank lines above\\nclass MyClass:\\n    def foo1(self):\\n        pass\\n\\n    # functions inside a class are separated by one blank line\\n    def foo2(self):\\n        pass\\n\\n\\n# class and the outer function is separated by two blank lines\\ndef main():\\n    my_class = MyClass()\\n    my_class.foo1()\\n\\n\\nif __name__ == \\\"__main__\\\":\\n    main()\";\n",
       "                var nbb_cells = Jupyter.notebook.get_cells();\n",
       "                for (var i = 0; i < nbb_cells.length; ++i) {\n",
       "                    if (nbb_cells[i].input_prompt_number == nbb_cell_id) {\n",
       "                        if (nbb_cells[i].get_text() == nbb_unformatted_code) {\n",
       "                             nbb_cells[i].set_text(nbb_formatted_code);\n",
       "                        }\n",
       "                        break;\n",
       "                    }\n",
       "                }\n",
       "            }, 500);\n",
       "            "
      ],
      "text/plain": [
       "<IPython.core.display.Javascript object>"
      ]
     },
     "metadata": {},
     "output_type": "display_data"
    }
   ],
   "source": [
    "import os\n",
    "import sys\n",
    "\n",
    "\n",
    "# two blank lines above\n",
    "class MyClass:\n",
    "    def foo1(self):\n",
    "        pass\n",
    "\n",
    "    # functions inside a class are separated by one blank line\n",
    "    def foo2(self):\n",
    "        pass\n",
    "\n",
    "\n",
    "# class and the outer function is separated by two blank lines\n",
    "def main():\n",
    "    my_class = MyClass()\n",
    "    my_class.foo1()\n",
    "\n",
    "\n",
    "if __name__ == \"__main__\":\n",
    "    main()"
   ]
  },
  {
   "cell_type": "markdown",
   "id": "83c67e6b-030a-4a4e-897c-26977ab88ec1",
   "metadata": {},
   "source": [
    "- 适当使用空格\n",
    "    - 括号紧后面避免使用空格\n",
    "    - 在逗号和随后的右括号之间使用一个空格\n",
    "    - 紧接着逗号或冒号之后使用一个空格\n",
    "    - 但是，在切片中，冒号的作用类似于二元运算符，并且两边的空格数应相等（将其视为优先级最低的运算符），双冒号放在一起时中间的空格应省略。\n",
    "    - 对于一些二元计算符：`=`, `+=`, `-=`, `<`, `==`, `>`, `>=`, `<=`, `!=`，在两边分别留一个空格"
   ]
  },
  {
   "cell_type": "markdown",
   "id": "89de36e6-b3f7-46bb-b2d0-bb7f0d16e76d",
   "metadata": {},
   "source": [
    "```{code} python\n",
    "# Correct:\n",
    "spam(ham[1], {eggs: 2})\n",
    "\n",
    "# Wrong:\n",
    "spam( ham[ 1 ], { eggs: 2 } )\n",
    "```"
   ]
  },
  {
   "cell_type": "markdown",
   "id": "c27b531e-8e7b-46b4-a268-cd4375f325b2",
   "metadata": {},
   "source": [
    "```{code} python\n",
    "# Correct:\n",
    "foo = (0,)\n",
    "\n",
    "# Wrong:\n",
    "bar = (0, )\n",
    "```"
   ]
  },
  {
   "cell_type": "markdown",
   "id": "19761d8c-aaea-4340-abf4-fcc20228734a",
   "metadata": {},
   "source": [
    "```{code} python\n",
    "# Correct:\n",
    "if x == 4: \n",
    "    print(x, y)\n",
    "\n",
    "# Wrong:\n",
    "if x == 4 : \n",
    "    print(x , y)\n",
    "```"
   ]
  },
  {
   "cell_type": "markdown",
   "id": "1883b3c9-97d9-45ac-b950-8c29aa4ef25d",
   "metadata": {},
   "source": [
    "```{code} python\n",
    "# Correct:\n",
    "ham[1:9], ham[1:9:3], ham[:9:3], ham[1::3], ham[1:9:]\n",
    "ham[lower:upper], ham[lower:upper:], ham[lower::step]\n",
    "ham[lower+offset : upper+offset]\n",
    "ham[: upper_fn(x) : step_fn(x)], ham[:: step_fn(x)]\n",
    "ham[lower + offset : upper + offset]\n",
    "\n",
    "# Wrong:\n",
    "ham[lower + offset:upper + offset]\n",
    "ham[1: 9], ham[1 :9], ham[1:9 :3]\n",
    "ham[lower : : step]\n",
    "ham[ : upper]\n",
    "```"
   ]
  },
  {
   "cell_type": "markdown",
   "id": "dd893965-2b00-4e68-8670-67e1c2ec81e6",
   "metadata": {},
   "source": [
    "- 如果使用具有不同优先级的运算符，请考虑在优先级最低的运算符周围添加空格。请自行判断；但是，切勿使用超过一个空格，并且二元运算符两侧的空格量应始终相同：\n",
    "- 避免使用行尾空格"
   ]
  },
  {
   "cell_type": "markdown",
   "id": "428811ac-9522-4ec3-8ab5-c5c832a0e03c",
   "metadata": {},
   "source": [
    "```{code} python\n",
    "# Correct:\n",
    "i = i + 1\n",
    "submitted += 1\n",
    "x = x*2 - 1\n",
    "hypot2 = x*x + y*y\n",
    "c = (a+b) * (a-b)\n",
    "\n",
    "# Wrong:\n",
    "i=i+1\n",
    "submitted +=1\n",
    "x = x * 2 - 1\n",
    "hypot2 = x * x + y * y\n",
    "c = (a + b) * (a - b)\n",
    "```"
   ]
  },
  {
   "cell_type": "markdown",
   "id": "8775d967-cdaa-4232-9053-52c2b29dcf69",
   "metadata": {},
   "source": [
    "- 函数调用的参数赋值等号`=`左右不应加空格\n",
    "- 变量赋值`=`左右应加空格"
   ]
  },
  {
   "cell_type": "markdown",
   "id": "29a813bc-84b5-42d5-a152-ed72825f15ef",
   "metadata": {},
   "source": [
    "```python\n",
    "func(arg=1)  # Correct (PEP 8 compliant)\n",
    "func(arg = 1)  # Incorrect\n",
    "\n",
    "x = 10  # Correct\n",
    "x=10  # Incorrect\n",
    "```\n"
   ]
  },
  {
   "cell_type": "markdown",
   "id": "2e474e3d-cfab-406d-b663-498819789078",
   "metadata": {},
   "source": [
    "### 代码行长度、换行与模块导入\n",
    "<hr>"
   ]
  },
  {
   "cell_type": "markdown",
   "id": "59a88e99-2417-4351-9d27-14234bf328be",
   "metadata": {},
   "source": [
    "- 每行代码长度不超过 79 个字符"
   ]
  },
  {
   "cell_type": "markdown",
   "id": "18d9c28f-c400-4984-ac2f-efdbf6e12ec7",
   "metadata": {},
   "source": [
    "- 应该在二元运算符之前换行，而不是之后"
   ]
  },
  {
   "cell_type": "markdown",
   "id": "7291749a-bb65-480b-ba72-e3fb1a76a245",
   "metadata": {},
   "source": [
    "```{code}\n",
    "# Wrong:\n",
    "# operators sit far away from their operands\n",
    "income = (gross_wages +\n",
    "          taxable_interest +\n",
    "          (dividends - qualified_dividends) -\n",
    "          ira_deduction -\n",
    "          student_loan_interest)\n",
    "\n",
    "# Correct:\n",
    "# easy to match operators with operands\n",
    "income = (gross_wages\n",
    "          + taxable_interest\n",
    "          + (dividends - qualified_dividends)\n",
    "          - ira_deduction\n",
    "          - student_loan_interest)\n",
    "```"
   ]
  },
  {
   "cell_type": "markdown",
   "id": "1fed0d9b-f113-4427-b9ee-9cc84a0dfa10",
   "metadata": {},
   "source": [
    "- 单独导入通常应该放在单独的行，或者使用 from 导入多个 module"
   ]
  },
  {
   "cell_type": "markdown",
   "id": "7d62beca-6f6e-4451-a443-5d402f3e6cdd",
   "metadata": {},
   "source": [
    "```{code} python\n",
    "# Correct:\n",
    "import os\n",
    "import sys\n",
    "\n",
    "# Wrong:\n",
    "import sys, os\n",
    "\n",
    "# Correct:\n",
    "from subprocess import Popen, PIPE\n",
    "```"
   ]
  },
  {
   "cell_type": "markdown",
   "id": "cc4b0885-f1d6-4c9d-a828-2b5a1eda08b2",
   "metadata": {},
   "source": [
    "- 导入总是放在文件的顶部，紧接着任何模块注释和文档字符串，以及模块全局变量和常量之前。\n",
    "- 导入应按以下顺序分组：\n",
    "    - 标准库导入。\n",
    "    - 相关第三方进口。\n",
    "    - 本地应用程序/库特定的导入。\n",
    "- 在每组导入之间放置一个空行。"
   ]
  },
  {
   "cell_type": "markdown",
   "id": "12e9f7d1-c7ed-4e1c-81db-0e4e4f3ecc02",
   "metadata": {},
   "source": [
    "```{code} python\n",
    "# Standard library imports\n",
    "import os\n",
    "import sys\n",
    "import datetime\n",
    "\n",
    "# Related third-party imports\n",
    "import numpy as np\n",
    "import pandas as pd\n",
    "import requests\n",
    "\n",
    "# Local application/library-specific imports\n",
    "from my_project.utils import helper_function\n",
    "from my_project.models import UserModel\n",
    "from my_project.config import settings\n",
    "```"
   ]
  },
  {
   "cell_type": "markdown",
   "id": "5ea818cb-1b74-4a6f-9085-7b13b82bf9eb",
   "metadata": {},
   "source": [
    "## 命名规范\n",
    "<hr>"
   ]
  },
  {
   "cell_type": "markdown",
   "id": "b9674a72-4fe1-4f25-9d76-68fe68a293b3",
   "metadata": {},
   "source": [
    "- 避免使用 python 的保留关键字命名"
   ]
  },
  {
   "cell_type": "markdown",
   "id": "5c54a020-38a1-4434-b5d5-b9a43968ccae",
   "metadata": {},
   "source": [
    "- 变量使用小写+下划线（snake_case）"
   ]
  },
  {
   "cell_type": "code",
   "execution_count": 21,
   "id": "ca8456c9-7ac2-439d-afb9-7c97fcf1a52c",
   "metadata": {},
   "outputs": [],
   "source": [
    "user_age = 25\n",
    "max_length = 100"
   ]
  },
  {
   "cell_type": "markdown",
   "id": "3bf18160-ed39-41c7-affd-19e4597a880d",
   "metadata": {},
   "source": [
    "- 常量通常在模块级别定义，全部用大写字母书写，并用下划线分隔单词"
   ]
  },
  {
   "cell_type": "code",
   "execution_count": 23,
   "id": "c6ecd06f-07d3-46ae-a0a1-382a2db25cb3",
   "metadata": {},
   "outputs": [],
   "source": [
    "MAX_LIMIT = 500"
   ]
  },
  {
   "cell_type": "markdown",
   "id": "92c0f9e2-1769-44e3-a603-c5ad4a62c20e",
   "metadata": {},
   "source": [
    "- 类名使用大写开头的驼峰命名（PascalCase）"
   ]
  },
  {
   "cell_type": "code",
   "execution_count": 25,
   "id": "341c9edf-7a63-4ddf-b959-6b5c5a1c4083",
   "metadata": {},
   "outputs": [],
   "source": [
    "class UserProfile:\n",
    "    pass"
   ]
  },
  {
   "cell_type": "markdown",
   "id": "2e263067-ee62-4ed1-adf1-590f7d7f2317",
   "metadata": {},
   "source": [
    "- 模块名称应简短，且全部小写，可以在模块名称中使用下划线提高可读性。Python 包名称也应简短，且全部小写，但不鼓励使用下划线。"
   ]
  },
  {
   "cell_type": "markdown",
   "id": "d8149ecc-9848-4e45-82b5-9c3dabfcdeb2",
   "metadata": {},
   "source": [
    "- 如果函数参数的名称与保留关键字或函数外变量名字冲突，通常最好在末尾添加一个下划线"
   ]
  },
  {
   "cell_type": "markdown",
   "id": "d5910859-8233-41f3-8f75-0b2159bf0ddd",
   "metadata": {},
   "source": [
    "```{code} python\n",
    "name = \"Global Variable\"\n",
    "\n",
    "def greet(name_):\n",
    "    \"\"\"Function to greet a user, avoiding causing confusion with the outer variable.\"\"\"\n",
    "    print(f\"Hello, {name_}!\")\n",
    "\n",
    "greet(\"Alice\")\n",
    "```"
   ]
  },
  {
   "cell_type": "markdown",
   "id": "89bcbd31-9dec-48cf-8d98-f00c45d05bfe",
   "metadata": {},
   "source": [
    "- 使用有意义的变量名，提高代码可读性"
   ]
  },
  {
   "cell_type": "code",
   "execution_count": 42,
   "id": "ba47830f-7250-435f-80d9-8f915b94568a",
   "metadata": {},
   "outputs": [],
   "source": [
    "# 不推荐\n",
    "x = 10\n",
    "y = 20\n",
    "\n",
    "# 推荐\n",
    "width = 10\n",
    "height = 20"
   ]
  },
  {
   "cell_type": "markdown",
   "id": "b5b7b8ad-f038-4fcc-873e-4c28af82719e",
   "metadata": {},
   "source": [
    "- 使用 `_`作为临时变量（不需要使用的变量）"
   ]
  },
  {
   "cell_type": "markdown",
   "id": "f6fd7bce-12e7-4045-b7f0-090a67f390c6",
   "metadata": {},
   "source": [
    "```{code} python\n",
    "for _ in range(5):\n",
    "    print(\"Hello\")\n",
    "```"
   ]
  },
  {
   "cell_type": "markdown",
   "id": "bb23cff8-12ba-4079-8d74-8dbdbdcac86e",
   "metadata": {},
   "source": [
    "- 长变量名尽量避免缩写，除非是常见缩写"
   ]
  },
  {
   "cell_type": "code",
   "execution_count": 45,
   "id": "011a1dec-e2c8-4a85-b899-09d338bb0d98",
   "metadata": {},
   "outputs": [],
   "source": [
    "# 不推荐\n",
    "usr_nm = \"Alice\"\n",
    "\n",
    "# 推荐\n",
    "user_name = \"Alice\""
   ]
  },
  {
   "cell_type": "markdown",
   "id": "f88c7928-cec0-493a-8f82-f71356a5c785",
   "metadata": {},
   "source": [
    "- 始终用 self 作为实例方法的第一个参数, 始终用 cls 作为类方法的第一个参数。"
   ]
  },
  {
   "cell_type": "markdown",
   "id": "f3102622-174d-43d9-8990-9597a59c87c4",
   "metadata": {},
   "source": [
    "## 注释与文档字符串（Docstring）\n",
    "<hr>"
   ]
  },
  {
   "cell_type": "markdown",
   "id": "c08ddc98-33a2-4948-b113-415034dd01cb",
   "metadata": {},
   "source": [
    "- 注释应为完整的句子。第一个单词应大写，除非它是一个以小写字母开头的标识符（变量、类、关键字等）的名字。\n",
    "- 行内注释应与语句至少相隔两个空格，应以 # 和一个空格开头，可以省略句号\n",
    "- 块注释通常由一个或多个由完整句子构成的段落组成，每个句子以句号结尾。"
   ]
  },
  {
   "cell_type": "markdown",
   "id": "5d3d5440-b166-439e-a7b5-8ac528f1144b",
   "metadata": {},
   "source": [
    "```{code} python\n",
    "# This function calculates the area of a circle.\n",
    "# It takes the radius as input and returns the computed area.\n",
    "def calculate_area(radius):\n",
    "    \"\"\"Compute the area of a circle using the formula πr².\"\"\"\n",
    "    PI = 3.14159  # Constant value of π, approximated to five decimal places\n",
    "    \n",
    "    area = PI * radius * radius  # Calculate the area using the formula\n",
    "    return area  # Return the computed area.\n",
    "\n",
    "\n",
    "# The main execution block starts here.\n",
    "if __name__ == \"__main__\":\n",
    "    radius = 5  # Define the radius of the circle\n",
    "    \n",
    "    area = calculate_area(radius)  # Call the function to compute the area\n",
    "    \n",
    "    print(f\"The area of the circle with radius {radius} is {area:.2f}\")  # Display the result\n",
    "\n"
   ]
  },
  {
   "cell_type": "markdown",
   "id": "f4bcd676-5a58-46cc-a5f4-cd85b48859a3",
   "metadata": {},
   "source": [
    "- 为所有公共模块、函数、类和方法编写文档字符串。非公共方法不需要文档字符串，但应该添加注释来描述该方法的作用\n",
    "- 对于多行文档字符串，\"\"\" 一般单独占一行"
   ]
  },
  {
   "cell_type": "code",
   "execution_count": 38,
   "id": "2b98537a-7339-4e1a-95cb-4a056d3a2880",
   "metadata": {},
   "outputs": [],
   "source": [
    "def add(a: int, b: int) -> int:\n",
    "    \"\"\"\n",
    "    返回两个数的和。\n",
    "\n",
    "    Args:\n",
    "        a (int): 第一个数\n",
    "        b (int): 第二个数\n",
    "\n",
    "    return:\n",
    "        int: 两数之和\n",
    "    \"\"\"\n",
    "    return a + b\n"
   ]
  },
  {
   "cell_type": "markdown",
   "id": "4c2d8d9e-0273-4a71-9795-726c18ecd128",
   "metadata": {},
   "source": [
    "- 对于单行文档字符串，请保持 \"\"\" 的开始和结尾在同一行"
   ]
  },
  {
   "cell_type": "markdown",
   "id": "ae4821ad-4757-4029-a620-14a4374fc630",
   "metadata": {},
   "source": [
    "```{code} python\n",
    "\"\"\"Return an ex-parrot.\"\"\"\n",
    "```"
   ]
  },
  {
   "cell_type": "markdown",
   "id": "229ff3d4-eeec-4c2b-845d-8e899366cbe3",
   "metadata": {},
   "source": [
    "## 其他一些推荐\n",
    "<hr>"
   ]
  },
  {
   "cell_type": "markdown",
   "id": "2a3d124d-561c-4c50-b0b9-10ee1c7db076",
   "metadata": {},
   "source": [
    "### 使用 f-string 进行字符串格式化\n",
    "<hr>"
   ]
  },
  {
   "cell_type": "markdown",
   "id": "4d130087-16c6-47b0-81eb-d5aa2a0e05ca",
   "metadata": {},
   "source": [
    "相比 `%` 或 `.format()`，`f-string` 更直观、性能更好："
   ]
  },
  {
   "cell_type": "code",
   "execution_count": 6,
   "id": "ad644e13-3b4a-4d3e-b29c-f72e3869d091",
   "metadata": {},
   "outputs": [
    {
     "name": "stdout",
     "output_type": "stream",
     "text": [
      "My name is Alice and I am 25 years old.\n"
     ]
    }
   ],
   "source": [
    "name = \"Alice\"\n",
    "age = 25\n",
    "print(f\"My name is {name} and I am {age} years old.\")"
   ]
  },
  {
   "cell_type": "code",
   "execution_count": 7,
   "id": "b84c20d9-a87a-4a56-868c-e4bf95d4e297",
   "metadata": {},
   "outputs": [
    {
     "data": {
      "text/plain": [
       "'the numbers are 1.000 and b =              456.00%'"
      ]
     },
     "execution_count": 7,
     "metadata": {},
     "output_type": "execute_result"
    }
   ],
   "source": [
    "a = 1\n",
    "b = 4.56\n",
    "# 第一个数保留 3 位小数，浮点型，第二个数右对齐，宽度 20，保留 2 位小数，百分数显示\n",
    "f'the numbers are {a:.3f} and {b = :>20.2%}'"
   ]
  },
  {
   "cell_type": "markdown",
   "id": "86b6fc36-2a17-4c39-a347-c600a3994152",
   "metadata": {},
   "source": [
    "### 使用 with 语句管理资源\n",
    "<hr>"
   ]
  },
  {
   "cell_type": "markdown",
   "id": "bbb9b85a-3399-48d1-8b30-0df75a16c805",
   "metadata": {},
   "source": [
    "当操作文件，一些并行计算操作、并行计算或连接数据库时，使用 with 语句，避免手动 close()。"
   ]
  },
  {
   "cell_type": "markdown",
   "id": "b04481b1-2582-41f6-9b91-e1a2f78bb735",
   "metadata": {},
   "source": [
    "```{code} python\n",
    "# 不需要手动添加 file.close()\n",
    "with open(\"file.txt\", \"r\") as file:\n",
    "    content = file.read()\n",
    "```"
   ]
  },
  {
   "cell_type": "markdown",
   "id": "6e684e0a-f409-42c7-b1b6-1d7201878895",
   "metadata": {},
   "source": [
    "```{code} python\n",
    "from multiprocessing import Pool\n",
    "import os\n",
    "\n",
    "def worker(n):\n",
    "    return f\"Process {os.getpid()} computed {n * n}\"\n",
    "\n",
    "if __name__ == '__main__':\n",
    "    # 使用 with 语句管理进程池\n",
    "    with Pool(processes = 4) as pool:\n",
    "        results = pool.map(worker, range(5))\n",
    "\n",
    "    # 进程池自动关闭，不需要手动 pool.close() 和 pool.join()\n",
    "    for res in results:\n",
    "        print(res)\n",
    "```"
   ]
  },
  {
   "cell_type": "markdown",
   "id": "78c7f94e-5452-42ac-ab11-17a547833400",
   "metadata": {},
   "source": [
    "### 使用列表推导式提高代码效率\n",
    "<hr>"
   ]
  },
  {
   "cell_type": "markdown",
   "id": "b06866cb-60ff-42b6-8300-8a59b2b4aeed",
   "metadata": {},
   "source": [
    "列表可以直接在 [] 中使用 for 语句赋值。"
   ]
  },
  {
   "cell_type": "code",
   "execution_count": 2,
   "id": "c5a2e108-a519-472c-aa8a-2ba5d6d31fa6",
   "metadata": {},
   "outputs": [],
   "source": [
    "# 不推荐\n",
    "squares = []\n",
    "for i in range(10):\n",
    "    squares.append(i**2)\n",
    "\n",
    "# 推荐\n",
    "squares = [i**2 for i in range(10)]"
   ]
  },
  {
   "cell_type": "markdown",
   "id": "99baebf4-5477-4c77-86c7-2271f8f39456",
   "metadata": {},
   "source": [
    "### 使用`enumerate()`遍历列表\n",
    "<hr>"
   ]
  },
  {
   "cell_type": "markdown",
   "id": "f60fe805-1766-44df-ae3f-337a3488ca20",
   "metadata": {},
   "source": [
    "为了减少代码以及提高代码的可读性，用`enumerate()`遍历替代 range(len(list)) 遍历列表"
   ]
  },
  {
   "cell_type": "code",
   "execution_count": 7,
   "id": "f534ab28-e93a-4831-a96a-73365e249c2a",
   "metadata": {},
   "outputs": [
    {
     "name": "stdout",
     "output_type": "stream",
     "text": [
      "0 lily\n",
      "1 tom\n",
      "0 lily\n",
      "1 tom\n"
     ]
    }
   ],
   "source": [
    "names = ['lily', 'tom']\n",
    "# 不推荐\n",
    "for i in range(len(names)):\n",
    "    print(i, names[i])\n",
    "\n",
    "# 推荐\n",
    "for i, name in enumerate(names):\n",
    "    print(i, name)"
   ]
  },
  {
   "cell_type": "markdown",
   "id": "701b1bdb-ff8d-42d3-8566-af6d6036a3d5",
   "metadata": {},
   "source": [
    "但是，**若要获取索引修改列表中的元素，仍然需要 range(len(list))**。"
   ]
  },
  {
   "cell_type": "code",
   "execution_count": 7,
   "id": "22748750-23c1-4ae7-8942-80cddb71a852",
   "metadata": {},
   "outputs": [
    {
     "name": "stdout",
     "output_type": "stream",
     "text": [
      "0 john_0\n",
      "1 john_1\n"
     ]
    },
    {
     "data": {
      "application/javascript": [
       "\n",
       "            setTimeout(function() {\n",
       "                var nbb_cell_id = 7;\n",
       "                var nbb_unformatted_code = \"names = ['lily', 'tom']\\nfor i in range(len(names)):\\n    names[i] = 'john_' + str(i)\\n    print(i, names[i])\";\n",
       "                var nbb_formatted_code = \"names = [\\\"lily\\\", \\\"tom\\\"]\\nfor i in range(len(names)):\\n    names[i] = \\\"john_\\\" + str(i)\\n    print(i, names[i])\";\n",
       "                var nbb_cells = Jupyter.notebook.get_cells();\n",
       "                for (var i = 0; i < nbb_cells.length; ++i) {\n",
       "                    if (nbb_cells[i].input_prompt_number == nbb_cell_id) {\n",
       "                        if (nbb_cells[i].get_text() == nbb_unformatted_code) {\n",
       "                             nbb_cells[i].set_text(nbb_formatted_code);\n",
       "                        }\n",
       "                        break;\n",
       "                    }\n",
       "                }\n",
       "            }, 500);\n",
       "            "
      ],
      "text/plain": [
       "<IPython.core.display.Javascript object>"
      ]
     },
     "metadata": {},
     "output_type": "display_data"
    },
    {
     "data": {
      "application/javascript": [
       "\n",
       "            setTimeout(function() {\n",
       "                var nbb_cell_id = 7;\n",
       "                var nbb_unformatted_code = \"names = ['lily', 'tom']\\nfor i in range(len(names)):\\n    names[i] = 'john_' + str(i)\\n    print(i, names[i])\";\n",
       "                var nbb_formatted_code = \"names = [\\\"lily\\\", \\\"tom\\\"]\\nfor i in range(len(names)):\\n    names[i] = \\\"john_\\\" + str(i)\\n    print(i, names[i])\";\n",
       "                var nbb_cells = Jupyter.notebook.get_cells();\n",
       "                for (var i = 0; i < nbb_cells.length; ++i) {\n",
       "                    if (nbb_cells[i].input_prompt_number == nbb_cell_id) {\n",
       "                        if (nbb_cells[i].get_text() == nbb_unformatted_code) {\n",
       "                             nbb_cells[i].set_text(nbb_formatted_code);\n",
       "                        }\n",
       "                        break;\n",
       "                    }\n",
       "                }\n",
       "            }, 500);\n",
       "            "
      ],
      "text/plain": [
       "<IPython.core.display.Javascript object>"
      ]
     },
     "metadata": {},
     "output_type": "display_data"
    },
    {
     "data": {
      "application/javascript": [
       "\n",
       "            setTimeout(function() {\n",
       "                var nbb_cell_id = 7;\n",
       "                var nbb_unformatted_code = \"names = ['lily', 'tom']\\nfor i in range(len(names)):\\n    names[i] = 'john_' + str(i)\\n    print(i, names[i])\";\n",
       "                var nbb_formatted_code = \"names = [\\\"lily\\\", \\\"tom\\\"]\\nfor i in range(len(names)):\\n    names[i] = \\\"john_\\\" + str(i)\\n    print(i, names[i])\";\n",
       "                var nbb_cells = Jupyter.notebook.get_cells();\n",
       "                for (var i = 0; i < nbb_cells.length; ++i) {\n",
       "                    if (nbb_cells[i].input_prompt_number == nbb_cell_id) {\n",
       "                        if (nbb_cells[i].get_text() == nbb_unformatted_code) {\n",
       "                             nbb_cells[i].set_text(nbb_formatted_code);\n",
       "                        }\n",
       "                        break;\n",
       "                    }\n",
       "                }\n",
       "            }, 500);\n",
       "            "
      ],
      "text/plain": [
       "<IPython.core.display.Javascript object>"
      ]
     },
     "metadata": {},
     "output_type": "display_data"
    }
   ],
   "source": [
    "names = ['lily', 'tom']\n",
    "for i in range(len(names)):\n",
    "    names[i] = 'john_' + str(i)\n",
    "    print(i, names[i])"
   ]
  },
  {
   "cell_type": "markdown",
   "id": "175bb2a8-66a3-404b-908b-9101850f465e",
   "metadata": {},
   "source": [
    "### 使用`zip()`遍历多个列表\n",
    "<hr>"
   ]
  },
  {
   "cell_type": "code",
   "execution_count": 10,
   "id": "5e96b2e3-1ea8-4e02-b961-344ccd1cae2e",
   "metadata": {},
   "outputs": [
    {
     "name": "stdout",
     "output_type": "stream",
     "text": [
      "Alice is 25 years old.\n",
      "Bob is 30 years old.\n",
      "Charlie is 35 years old.\n"
     ]
    }
   ],
   "source": [
    "names = [\"Alice\", \"Bob\", \"Charlie\"]\n",
    "ages = [25, 30, 35]\n",
    "\n",
    "# zip() 是 Python 内置函数，它用于并行遍历多个可迭代对象，将其元素逐一配对，返回一个迭代器\n",
    "for name, age in zip(names, ages):\n",
    "    print(f\"{name} is {age} years old.\")"
   ]
  },
  {
   "cell_type": "markdown",
   "id": "44b449ba-a7ac-4709-b3ba-3e1a23157305",
   "metadata": {},
   "source": [
    "与 enumerate 相似的是，若要**修改原始列表中的元素，zip 就不适用了**。"
   ]
  },
  {
   "cell_type": "markdown",
   "id": "99926f42-02ba-4bba-926c-3b4fefa1ed13",
   "metadata": {},
   "source": [
    "### 使用`__name__ == \"__main__\"` 保护代码\n",
    "<hr>"
   ]
  },
  {
   "cell_type": "markdown",
   "id": "0e62e2a3-9000-420d-b59e-adfc2900bcbb",
   "metadata": {},
   "source": [
    "在 Python 中，if __name__ == \"__main__\": 主要用于防止某些代码在导入时被执行，尤其是在多进程 (multiprocessing)、脚本执行、模块重用等场景下非常重要。"
   ]
  },
  {
   "cell_type": "markdown",
   "id": "36e5d8c6-ec1d-491f-ba2c-06ad646257c2",
   "metadata": {},
   "source": [
    "下面这段多进程的代码，如果没有 if __name__ == \"__main__\": 语句，则会出错。"
   ]
  },
  {
   "cell_type": "markdown",
   "id": "63cc8ad4-1774-4c4f-aa35-a4993dd2e81b",
   "metadata": {},
   "source": [
    "```{code} python\n",
    "from multiprocessing import Pool\n",
    "import os\n",
    "\n",
    "def worker(n):\n",
    "    return f\"Process {os.getpid()} computed {n * n}\"\n",
    "\n",
    "if __name__ == '__main__':\n",
    "    # 使用 with 语句管理进程池\n",
    "    with Pool(processes = 4) as pool:\n",
    "        results = pool.map(worker, range(5))\n",
    "\n",
    "    # 进程池自动关闭，不需要手动 pool.close() 和 pool.join()\n",
    "    for res in results:\n",
    "        print(res)\n",
    "```"
   ]
  },
  {
   "cell_type": "markdown",
   "id": "34208dc7-c1b7-4dbc-bc1f-155b12f7cccd",
   "metadata": {},
   "source": [
    "## 开发大型程序时使用`logging`代替 print()\n",
    "<hr>"
   ]
  },
  {
   "cell_type": "markdown",
   "id": "9b521083-3ab8-42bc-a904-d9fca10a14fa",
   "metadata": {},
   "source": [
    "Python 的 logging 模块是一个强大且灵活的日志系统，相比 print()，它能更好地管理日志，尤其适用于生产环境、调试、错误追踪、多线程等场景。"
   ]
  },
  {
   "cell_type": "markdown",
   "id": "53203e92-bf4e-4410-9db0-95a216cabc04",
   "metadata": {},
   "source": [
    "在小型脚本中 print() 可能够用，但在生产环境或大项目中，logging 是更好的选择。"
   ]
  },
  {
   "cell_type": "markdown",
   "id": "da99718c-40bc-4092-a495-1ca31b9b33cf",
   "metadata": {},
   "source": [
    "printnt()只能输出到控制台，而 `logging` 可以：\n",
    "- 保存日志到文件\n",
    "- 设置不同的日志级别（INFO, ERROR, DEBUG 等）  \n",
    "- 灵活配置输出格式（时间、文件、行号等）  \n",
    "- 支持多线程/多进程 "
   ]
  },
  {
   "cell_type": "code",
   "execution_count": 11,
   "id": "38678482-9a0e-4467-a092-772abd3094c4",
   "metadata": {},
   "outputs": [
    {
     "name": "stderr",
     "output_type": "stream",
     "text": [
      "INFO:root:This is an info message\n"
     ]
    }
   ],
   "source": [
    "import logging\n",
    "\n",
    "logging.basicConfig(level = logging.INFO)\n",
    "logging.info(\"This is an info message\")"
   ]
  },
  {
   "cell_type": "markdown",
   "id": "ab982f47-d9de-4ad5-98f1-de616b9cd879",
   "metadata": {},
   "source": [
    "### 支持不同级别的日志\n",
    "<hr>"
   ]
  },
  {
   "cell_type": "markdown",
   "id": "2b6d1c3a-38f4-4fcd-b92c-8b095ca5a2ce",
   "metadata": {},
   "source": [
    "`logging` 提供 **5 种日志级别**：\n",
    "| 级别 | 方法 | 用途 |\n",
    "|------|------|------|\n",
    "| `DEBUG` | `logging.debug()` | 详细调试信息 |\n",
    "| `INFO` | `logging.info()` | 普通信息 |\n",
    "| `WARNING` | `logging.warning()` | 警告（默认级别） |\n",
    "| `ERROR` | `logging.error()` | 错误信息 |\n",
    "| `CRITICAL` | `logging.critical()` | 严重错误 |"
   ]
  },
  {
   "cell_type": "code",
   "execution_count": 18,
   "id": "cf4911a0-0f36-4a6f-a74a-00610077d62c",
   "metadata": {},
   "outputs": [
    {
     "name": "stderr",
     "output_type": "stream",
     "text": [
      "INFO:root:General info\n",
      "WARNING:root:Warning message\n",
      "ERROR:root:Error message\n",
      "CRITICAL:root:Critical issue\n"
     ]
    }
   ],
   "source": [
    "import logging\n",
    "\n",
    "logging.basicConfig(level = logging.DEBUG)\n",
    "\n",
    "logging.debug(\"Debugging info\")\n",
    "logging.info(\"General info\")\n",
    "logging.warning(\"Warning message\")\n",
    "logging.error(\"Error message\")\n",
    "logging.critical(\"Critical issue\")"
   ]
  },
  {
   "cell_type": "markdown",
   "id": "4abaa35f-232b-4756-b108-9cc4c46f7395",
   "metadata": {},
   "source": [
    "### 日志可以保存到文件\n",
    "<hr>"
   ]
  },
  {
   "cell_type": "markdown",
   "id": "fac908d4-fead-4171-a725-dea9afae43da",
   "metadata": {},
   "source": [
    "在 print() 中，所有信息只能输出到控制台，一旦关闭终端，信息就丢失了。而 `logging` **可以写入文件**，方便后续分析。"
   ]
  },
  {
   "cell_type": "markdown",
   "id": "5b10e2ef-e49e-466c-91c6-408bd13c638e",
   "metadata": {},
   "source": [
    "```python\n",
    "import logging\n",
    "\n",
    "logging.basicConfig(filename=\"app.log\", level=logging.INFO)\n",
    "\n",
    "logging.info(\"This is an info message\")\n",
    "logging.error(\"This is an error message\")\n",
    "```"
   ]
  },
  {
   "cell_type": "markdown",
   "id": "47658373-29e0-4612-90db-b5d5754cf938",
   "metadata": {},
   "source": [
    "日志会被写入 `app.log` 文件。"
   ]
  },
  {
   "cell_type": "markdown",
   "id": "72de4677-40c3-4c59-a6be-c709ab18fbe1",
   "metadata": {},
   "source": [
    "### 日志格式可自定义\n",
    "<hr>"
   ]
  },
  {
   "cell_type": "markdown",
   "id": "907965dd-27ea-4d86-9c4f-5a77a0ba127c",
   "metadata": {},
   "source": [
    "```python\n",
    "import logging\n",
    "\n",
    "logging.basicConfig(\n",
    "    format = \"%(asctime)s - %(levelname)s - %(message)s\",\n",
    "    level = logging.INFO\n",
    ")\n",
    "\n",
    "logging.info(\"Application started\")\n",
    "logging.error(\"Something went wrong\")\n",
    "```"
   ]
  },
  {
   "cell_type": "markdown",
   "id": "9ffddacd-4286-4102-b411-efcea4da2aa1",
   "metadata": {},
   "source": [
    "输出类似于:\n",
    "\n",
    "```\n",
    "2025-02-14 12:00:01,234 - INFO - Application started\n",
    "2025-02-14 12:00:01,235 - ERROR - Something went wrong\n",
    "```"
   ]
  },
  {
   "cell_type": "markdown",
   "id": "3a0d3a38-2ba1-4ff1-8e16-e68c82dd2334",
   "metadata": {},
   "source": [
    "日志格式字段说明：\n",
    "\n",
    "| **字段** | **说明** |\n",
    "|----------|----------|\n",
    "| `%(asctime)s` | 时间 |\n",
    "| `%(levelname)s` | 日志级别 |\n",
    "| `%(message)s` | 日志内容 |\n",
    "| `%(filename)s` | 记录日志的文件 |\n",
    "| `%(lineno)d` | 行号 |"
   ]
  },
  {
   "cell_type": "markdown",
   "id": "1f324dfb-5759-45d9-bac7-5cbf0ac756d5",
   "metadata": {},
   "source": [
    "### `logging` 可以用于多模块\n",
    "<hr>"
   ]
  },
  {
   "cell_type": "markdown",
   "id": "d6cb649d-8e06-4813-8965-ea948a55b0d8",
   "metadata": {},
   "source": [
    "在大型项目中，多个 Python 文件可能需要共享日志系统，print() 无法做到这一点，而 `logging` 可以。"
   ]
  },
  {
   "cell_type": "markdown",
   "id": "3319349a-39ec-4929-9873-328611099540",
   "metadata": {},
   "source": [
    "```python\n",
    "import logging\n",
    "import module\n",
    "\n",
    "logging.basicConfig(level=logging.INFO)\n",
    "logging.info(\"Starting app...\")\n",
    "module.some_function()\n",
    "```\n",
    "\n",
    "文件 `module.py`\n",
    "```python\n",
    "import logging\n",
    "\n",
    "def some_function():\n",
    "    logging.info(\"This is from module.py\")\n",
    "```"
   ]
  },
  {
   "cell_type": "markdown",
   "id": "acc94d59-43f8-4906-b0d3-c17ce34b4953",
   "metadata": {},
   "source": [
    "运行 `python app.py` 后：\n",
    "\n",
    "```\n",
    "INFO:root:Starting app...\n",
    "INFO:root:This is from module.py\n",
    "```"
   ]
  },
  {
   "cell_type": "markdown",
   "id": "f7d35dc7-94fd-429f-98b0-0d7bd74c48d5",
   "metadata": {},
   "source": [
    "多个模块共享同一个 `logging` 配置，比 print() 更方便管理。"
   ]
  },
  {
   "cell_type": "markdown",
   "id": "57d13d95-f3a3-4037-863d-a24e3d402ba7",
   "metadata": {},
   "source": [
    "### `logging` 适用于多线程\n",
    "<hr>"
   ]
  },
  {
   "cell_type": "markdown",
   "id": "44fe256b-a045-4d7f-b8f2-cd3b0d67dc01",
   "metadata": {},
   "source": [
    "print() 在多线程环境下可能会导致日志混乱，但 `logging` **是线程安全的**。"
   ]
  },
  {
   "cell_type": "markdown",
   "id": "1b399d8e-2c50-4bbf-a91a-513ed3afa67a",
   "metadata": {},
   "source": [
    "```python\n",
    "import logging\n",
    "import threading\n",
    "\n",
    "logging.basicConfig(level=logging.INFO, format=\"%(threadName)s: %(message)s\")\n",
    "\n",
    "def worker():\n",
    "    logging.info(\"Worker thread executing\")\n",
    "\n",
    "if __name__ == '__main__':\n",
    "    threads = []\n",
    "    for _ in range(5):\n",
    "        t = threading.Thread(target=worker)\n",
    "        threads.append(t)\n",
    "        t.start()\n",
    "    \n",
    "    for t in threads:\n",
    "        t.join()\n",
    "```"
   ]
  },
  {
   "cell_type": "markdown",
   "id": "a3b867e6-052e-4072-9046-f5985dea8481",
   "metadata": {},
   "source": [
    "输出:\n",
    "```\n",
    "Thread-1: Worker thread executing\n",
    "Thread-2: Worker thread executing\n",
    "Thread-3: Worker thread executing\n",
    "Thread-4: Worker thread executing\n",
    "Thread-5: Worker thread executing\n",
    "```"
   ]
  },
  {
   "cell_type": "markdown",
   "id": "41d1462d-9de5-457b-a6b3-0b5ed0e763d4",
   "metadata": {},
   "source": [
    "日志不会相互覆盖，也不会丢失。"
   ]
  },
  {
   "cell_type": "markdown",
   "id": "23f1c22a-910b-4fc0-97f7-9186374aa037",
   "metadata": {},
   "source": [
    "<script src=\"https://giscus.app/client.js\"\n",
    "        data-repo=\"robinchen121/book-Python-Data-Science\"\n",
    "        data-repo-id=\"R_kgDOKFdyOw\"\n",
    "        data-category=\"Announcements\"\n",
    "        data-category-id=\"DIC_kwDOKFdyO84CgWHi\"\n",
    "        data-mapping=\"pathname\"\n",
    "        data-strict=\"0\"\n",
    "        data-reactions-enabled=\"1\"\n",
    "        data-emit-metadata=\"0\"\n",
    "        data-input-position=\"bottom\"\n",
    "        data-theme=\"light\"\n",
    "        data-lang=\"en\"\n",
    "        crossorigin=\"anonymous\"\n",
    "        async>\n",
    "</script>\n",
    "\n",
    "<!-- Toogle google translation -->\n",
    "<div id=\"google_translate_element\"></div>\n",
    "<script type=\"text/javascript\">\n",
    "      function googleTranslateElementInit() {\n",
    "        new google.translate.TranslateElement({ pageLanguage: 'zh-CN',\n",
    "                  includedLanguages: 'en,zh-CN,zh-TW,ja,ko,de,ru,fr,es,it,pt,hi,ar,fa',\n",
    "layout: google.translate.TranslateElement.InlineLayout.SIMPLE }, 'google_translate_element');\n",
    "      }\n",
    "</script>\n",
    "<script type=\"text/javascript\"\n",
    "      src=\"https://translate.google.com/translate_a/element.js?cb=googleTranslateElementInit\"\n",
    "></script>\n",
    "<br>"
   ]
  }
 ],
 "metadata": {
  "kernelspec": {
   "display_name": "Python 3 (ipykernel)",
   "language": "python",
   "name": "python3"
  },
  "language_info": {
   "codemirror_mode": {
    "name": "ipython",
    "version": 3
   },
   "file_extension": ".py",
   "mimetype": "text/x-python",
   "name": "python",
   "nbconvert_exporter": "python",
   "pygments_lexer": "ipython3",
   "version": "3.10.9"
  }
 },
 "nbformat": 4,
 "nbformat_minor": 5
}
