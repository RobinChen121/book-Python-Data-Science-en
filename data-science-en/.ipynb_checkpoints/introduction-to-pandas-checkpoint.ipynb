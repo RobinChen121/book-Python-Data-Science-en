{
 "cells": [
  {
   "cell_type": "markdown",
   "id": "5c3fed12",
   "metadata": {
    "slideshow": {
     "slide_type": "slide"
    }
   },
   "source": [
    "#  Pandas 入门\n",
    "<hr>\n",
    "\n",
    "pandas 是 Python 做统计分析时最重要的数据分析工具之一，它基于 numpy 开发，提供了许多处理大型数据集所需的函数，可以灵活高效的处理各种数据集。\n",
    "\n",
    "pandas 一般使用的数据类型为 `DataFrame`, DataFrame 是二维数据，相当于 Excel 里面的一张表格数据，使用 pandas 时首先要导入 pandas 包。"
   ]
  },
  {
   "cell_type": "code",
   "execution_count": 250,
   "id": "b5a47fc7",
   "metadata": {
    "slideshow": {
     "slide_type": "fragment"
    }
   },
   "outputs": [],
   "source": [
    "import pandas as pd"
   ]
  },
  {
   "cell_type": "markdown",
   "id": "bc7645a5",
   "metadata": {
    "slideshow": {
     "slide_type": "slide"
    }
   },
   "source": [
    "##  创建，读取与存储数据\n",
    "<hr>\n",
    "\n",
    "### 创建数据\n",
    "<hr>\n",
    "\n",
    "例如有下面的数据：\n",
    "    \n",
    " 姓名|统计学 |高数 |英语\n",
    " |:--------:|:--------:|:--------:|:--------:|\n",
    " 张三 | 85 | 82 | 84  \n",
    " 李四 | 68 | 63 | 90 \n",
    " 王五 | 90 | 88 | 78 |"
   ]
  },
  {
   "cell_type": "markdown",
   "id": "961e731c",
   "metadata": {
    "slideshow": {
     "slide_type": "subslide"
    }
   },
   "source": [
    "我们使用字典类型数据，将上面的读取到一个 DataFrame 里面："
   ]
  },
  {
   "cell_type": "code",
   "execution_count": 251,
   "id": "87048d50",
   "metadata": {
    "ExecuteTime": {
     "end_time": "2025-02-24T13:00:20.555361Z",
     "start_time": "2025-02-24T13:00:19.401016Z"
    },
    "slideshow": {
     "slide_type": "fragment"
    }
   },
   "outputs": [
    {
     "data": {
      "text/html": [
       "<div>\n",
       "<style scoped>\n",
       "    .dataframe tbody tr th:only-of-type {\n",
       "        vertical-align: middle;\n",
       "    }\n",
       "\n",
       "    .dataframe tbody tr th {\n",
       "        vertical-align: top;\n",
       "    }\n",
       "\n",
       "    .dataframe thead th {\n",
       "        text-align: right;\n",
       "    }\n",
       "</style>\n",
       "<table border=\"1\" class=\"dataframe\">\n",
       "  <thead>\n",
       "    <tr style=\"text-align: right;\">\n",
       "      <th></th>\n",
       "      <th>姓名</th>\n",
       "      <th>统计学</th>\n",
       "      <th>高数</th>\n",
       "      <th>英语</th>\n",
       "    </tr>\n",
       "  </thead>\n",
       "  <tbody>\n",
       "    <tr>\n",
       "      <th>0</th>\n",
       "      <td>张三</td>\n",
       "      <td>85</td>\n",
       "      <td>82</td>\n",
       "      <td>84</td>\n",
       "    </tr>\n",
       "    <tr>\n",
       "      <th>1</th>\n",
       "      <td>李四</td>\n",
       "      <td>68</td>\n",
       "      <td>63</td>\n",
       "      <td>90</td>\n",
       "    </tr>\n",
       "    <tr>\n",
       "      <th>2</th>\n",
       "      <td>王五</td>\n",
       "      <td>90</td>\n",
       "      <td>88</td>\n",
       "      <td>78</td>\n",
       "    </tr>\n",
       "  </tbody>\n",
       "</table>\n",
       "</div>"
      ],
      "text/plain": [
       "   姓名  统计学  高数  英语\n",
       "0  张三   85  82  84\n",
       "1  李四   68  63  90\n",
       "2  王五   90  88  78"
      ]
     },
     "execution_count": 251,
     "metadata": {},
     "output_type": "execute_result"
    }
   ],
   "source": [
    "import pandas as pd\n",
    "\n",
    "df = pd.DataFrame(\n",
    "    {\n",
    "        \"姓名\": [\"张三\", \"李四\", \"王五\"],\n",
    "        \"统计学\": [85, 68, 90],\n",
    "        \"高数\": [82, 63, 88],\n",
    "        \"英语\": [84, 90, 78],\n",
    "    }\n",
    ")\n",
    "df"
   ]
  },
  {
   "cell_type": "markdown",
   "id": "5cc08f82",
   "metadata": {
    "slideshow": {
     "slide_type": "fragment"
    }
   },
   "source": [
    "上面的图形中，第一行是列标题，第一列是行标题，可以分别通过 ``columns`` 与 ``index`` 访问。"
   ]
  },
  {
   "cell_type": "code",
   "execution_count": 252,
   "id": "9af127da",
   "metadata": {
    "slideshow": {
     "slide_type": "subslide"
    }
   },
   "outputs": [
    {
     "data": {
      "text/plain": [
       "Index(['姓名', '统计学', '高数', '英语'], dtype='object')"
      ]
     },
     "execution_count": 252,
     "metadata": {},
     "output_type": "execute_result"
    }
   ],
   "source": [
    "df.columns"
   ]
  },
  {
   "cell_type": "code",
   "execution_count": 253,
   "id": "0d1c5911",
   "metadata": {
    "slideshow": {
     "slide_type": "fragment"
    }
   },
   "outputs": [
    {
     "data": {
      "text/plain": [
       "RangeIndex(start=0, stop=3, step=1)"
      ]
     },
     "execution_count": 253,
     "metadata": {},
     "output_type": "execute_result"
    }
   ],
   "source": [
    "df.index"
   ]
  },
  {
   "cell_type": "markdown",
   "id": "e63482f5",
   "metadata": {
    "slideshow": {
     "slide_type": "slide"
    }
   },
   "source": [
    "### 读取数据\n",
    "<hr>\n",
    "\n",
    "多数情况下，我们要读取数据文件（例如 excel），假设上面的例子在 excel 文件 'transcripts.xlsx' 里并放在电脑硬盘位置“datas/” 中，可以通过函数``read_excel``读取文件："
   ]
  },
  {
   "cell_type": "code",
   "execution_count": 254,
   "id": "8b0656ae",
   "metadata": {
    "ExecuteTime": {
     "end_time": "2025-02-23T23:05:39.633982Z",
     "start_time": "2025-02-23T23:05:39.094905Z"
    },
    "slideshow": {
     "slide_type": "fragment"
    }
   },
   "outputs": [],
   "source": [
    "import pandas as pd\n",
    "\n",
    "# 前几行代码是为了运行 live code 而进行的设置，\n",
    "# 与本章的教学内容无关\n",
    "import os\n",
    "\n",
    "if os.getcwd() == \"/home/jovyan\":\n",
    "    os.chdir(\"data-science/\")\n",
    "\n",
    "# 正文\n",
    "df = pd.read_excel(\"datas/transcripts.xlsx\")"
   ]
  },
  {
   "cell_type": "markdown",
   "id": "29cda5a4",
   "metadata": {
    "slideshow": {
     "slide_type": "fragment"
    }
   },
   "source": [
    "```{admonition} 注意\n",
    "- 苹果电脑的文件地址用符号``/``分割，而 windows 系统的文件地址用符号``\\``分割\n",
    "- 文件地址前加上``r``能够保持字符串原始值的含义，而不对其中的符号进行转义\n",
    "```"
   ]
  },
  {
   "cell_type": "markdown",
   "id": "e77ef888",
   "metadata": {
    "slideshow": {
     "slide_type": "subslide"
    }
   },
   "source": [
    "``read_excel`` 的一般语法如下："
   ]
  },
  {
   "cell_type": "markdown",
   "id": "8c25d59d",
   "metadata": {
    "slideshow": {
     "slide_type": "fragment"
    }
   },
   "source": [
    "<table>   \n",
    "    <tr style=\"border-top:solid; border-bottom:solid\">\n",
    "            <th colspan=2 style=\"text-align:center\">read_excel(io, sheetname=0, header=0, skiprows=None, index_col=None, encoding = None)</th>\n",
    "    </tr>\n",
    "    <tr>\n",
    "        <td style=\"text-align:left\">io</td>\n",
    "        <td style=\"text-align:left\">数据文件的地址与名字，一般为字符串</td>\n",
    "    </tr>\n",
    "    <tr>\n",
    "        <td style=\"text-align:left\">sheetname</td>\n",
    "        <td style=\"text-align:left\">工作簿名字，默认为0，表示读取第一张工作簿</td>\n",
    "    </tr>\n",
    "    <tr>\n",
    "        <td style=\"text-align:left\">header</td>\n",
    "        <td style=\"text-align:left\">作为列名的行，默认为0，即取第一行的值为列名</td>\n",
    "    </tr>\n",
    "    <tr>\n",
    "        <td style=\"text-align:left\">skiprows</td>\n",
    "        <td style=\"text-align:left\">省略指定行数的数据,从第一行开始查起</td>\n",
    "    </tr>\n",
    "    <tr>\n",
    "        <td style=\"text-align:left\">index_col</td>\n",
    "        <td style=\"text-align:left\">行标题所在的列</td>\n",
    "    </tr>\n",
    "    <tr style=\"border-bottom:solid\">\n",
    "        <td style=\"text-align:left\">encoding</td>\n",
    "        <td style=\"text-align:left\">解码方式，一般为 'gbk'或 'utf-8'</td>\n",
    "    </tr>\n",
    "</table>\n",
    "<br />"
   ]
  },
  {
   "cell_type": "markdown",
   "id": "9329cff6",
   "metadata": {},
   "source": [
    "```{admonition} 注意\n",
    "- 读取一些数据文件时，可能需要添加解码参数 encoding='gbk' 或 encoding='utf-8' 才能正确读取\n",
    "```"
   ]
  },
  {
   "cell_type": "markdown",
   "id": "0a9b0936",
   "metadata": {
    "slideshow": {
     "slide_type": "fragment"
    }
   },
   "source": [
    "还有一种常见的数据文件类型为 csv，我们只需使用 pandas 中的函数``read_csv``，它的语法与``read_excel``基本一致。"
   ]
  },
  {
   "cell_type": "markdown",
   "id": "48946e96",
   "metadata": {
    "slideshow": {
     "slide_type": "slide"
    }
   },
   "source": [
    "### 存储数据\n",
    "<hr>\n",
    "\n",
    "存储时使用函数 ``to_excel`` 或 ``to_csv``。例如我们将数据 df 仍然存储到文件夹 “datas/” 里，并命名为 “marks.xlsx”："
   ]
  },
  {
   "cell_type": "code",
   "execution_count": 255,
   "id": "2ebd5dd8",
   "metadata": {
    "slideshow": {
     "slide_type": "fragment"
    }
   },
   "outputs": [],
   "source": [
    "df.to_excel(\"datas/marks.xlsx\")"
   ]
  },
  {
   "cell_type": "markdown",
   "id": "9ac7465c",
   "metadata": {
    "slideshow": {
     "slide_type": "slide"
    }
   },
   "source": [
    "## 查看与修改数据\n",
    "<hr>\n",
    "\n",
    "快速查看 DataFrame 各列数据的统计信息可以使用 ``describe()`` 函数，包括各列数据的非空数值数目、均值、标准差、最大值、最小值、分位数。"
   ]
  },
  {
   "cell_type": "code",
   "execution_count": 256,
   "id": "510ccd2b",
   "metadata": {
    "slideshow": {
     "slide_type": "fragment"
    }
   },
   "outputs": [
    {
     "data": {
      "text/html": [
       "<div>\n",
       "<style scoped>\n",
       "    .dataframe tbody tr th:only-of-type {\n",
       "        vertical-align: middle;\n",
       "    }\n",
       "\n",
       "    .dataframe tbody tr th {\n",
       "        vertical-align: top;\n",
       "    }\n",
       "\n",
       "    .dataframe thead th {\n",
       "        text-align: right;\n",
       "    }\n",
       "</style>\n",
       "<table border=\"1\" class=\"dataframe\">\n",
       "  <thead>\n",
       "    <tr style=\"text-align: right;\">\n",
       "      <th></th>\n",
       "      <th>统计学</th>\n",
       "      <th>高数</th>\n",
       "      <th>英语</th>\n",
       "    </tr>\n",
       "  </thead>\n",
       "  <tbody>\n",
       "    <tr>\n",
       "      <th>count</th>\n",
       "      <td>3.000000</td>\n",
       "      <td>3.000000</td>\n",
       "      <td>3.0</td>\n",
       "    </tr>\n",
       "    <tr>\n",
       "      <th>mean</th>\n",
       "      <td>81.000000</td>\n",
       "      <td>77.666667</td>\n",
       "      <td>84.0</td>\n",
       "    </tr>\n",
       "    <tr>\n",
       "      <th>std</th>\n",
       "      <td>11.532563</td>\n",
       "      <td>13.051181</td>\n",
       "      <td>6.0</td>\n",
       "    </tr>\n",
       "    <tr>\n",
       "      <th>min</th>\n",
       "      <td>68.000000</td>\n",
       "      <td>63.000000</td>\n",
       "      <td>78.0</td>\n",
       "    </tr>\n",
       "    <tr>\n",
       "      <th>25%</th>\n",
       "      <td>76.500000</td>\n",
       "      <td>72.500000</td>\n",
       "      <td>81.0</td>\n",
       "    </tr>\n",
       "    <tr>\n",
       "      <th>50%</th>\n",
       "      <td>85.000000</td>\n",
       "      <td>82.000000</td>\n",
       "      <td>84.0</td>\n",
       "    </tr>\n",
       "    <tr>\n",
       "      <th>75%</th>\n",
       "      <td>87.500000</td>\n",
       "      <td>85.000000</td>\n",
       "      <td>87.0</td>\n",
       "    </tr>\n",
       "    <tr>\n",
       "      <th>max</th>\n",
       "      <td>90.000000</td>\n",
       "      <td>88.000000</td>\n",
       "      <td>90.0</td>\n",
       "    </tr>\n",
       "  </tbody>\n",
       "</table>\n",
       "</div>"
      ],
      "text/plain": [
       "             统计学         高数    英语\n",
       "count   3.000000   3.000000   3.0\n",
       "mean   81.000000  77.666667  84.0\n",
       "std    11.532563  13.051181   6.0\n",
       "min    68.000000  63.000000  78.0\n",
       "25%    76.500000  72.500000  81.0\n",
       "50%    85.000000  82.000000  84.0\n",
       "75%    87.500000  85.000000  87.0\n",
       "max    90.000000  88.000000  90.0"
      ]
     },
     "execution_count": 256,
     "metadata": {},
     "output_type": "execute_result"
    }
   ],
   "source": [
    "df.describe()"
   ]
  },
  {
   "cell_type": "markdown",
   "id": "fe80bce0",
   "metadata": {
    "slideshow": {
     "slide_type": "subslide"
    }
   },
   "source": [
    "另外还有几个方便使用的函数：\n",
    "\n",
    "|  函数 | 作用| \n",
    "|:--|:-- |\n",
    "|``info()``| 查看各列数据的类型|\n",
    "|``head()``| 查看前 5 行数据 |\n",
    "|``tail()``| 查看后 5 行数据 |"
   ]
  },
  {
   "cell_type": "markdown",
   "id": "76f32b21",
   "metadata": {
    "slideshow": {
     "slide_type": "slide"
    }
   },
   "source": [
    "### 查看单行，单列，单元格数据\n",
    "<hr>\n",
    "\n",
    "查看某一列数据时，最简单的方式是在中括号``[]``里面输入列名的方式，例如查看英语成绩那一列数据："
   ]
  },
  {
   "cell_type": "code",
   "execution_count": 257,
   "id": "ec257ef8",
   "metadata": {
    "slideshow": {
     "slide_type": "fragment"
    }
   },
   "outputs": [
    {
     "data": {
      "text/plain": [
       "0    84\n",
       "1    90\n",
       "2    78\n",
       "Name: 英语, dtype: int64"
      ]
     },
     "execution_count": 257,
     "metadata": {},
     "output_type": "execute_result"
    }
   ],
   "source": [
    "df[\"英语\"]"
   ]
  },
  {
   "cell_type": "markdown",
   "id": "ce06a4a5",
   "metadata": {
    "slideshow": {
     "slide_type": "subslide"
    }
   },
   "source": [
    "查看某一行数据时，可以用``loc[]``函数跟行索引的方式；另外一种方式是中括号``[]``里面跟着相邻两个行索引。"
   ]
  },
  {
   "cell_type": "code",
   "execution_count": 258,
   "id": "3b949c99",
   "metadata": {
    "slideshow": {
     "slide_type": "fragment"
    }
   },
   "outputs": [
    {
     "data": {
      "text/plain": [
       "姓名     张三\n",
       "统计学    85\n",
       "高数     82\n",
       "英语     84\n",
       "Name: 0, dtype: object"
      ]
     },
     "execution_count": 258,
     "metadata": {},
     "output_type": "execute_result"
    }
   ],
   "source": [
    "df.loc[0]  # 显示第 1 行的数据"
   ]
  },
  {
   "cell_type": "code",
   "execution_count": 259,
   "id": "c87cc435",
   "metadata": {
    "slideshow": {
     "slide_type": "fragment"
    }
   },
   "outputs": [
    {
     "data": {
      "text/plain": [
       "姓名     王五\n",
       "统计学    90\n",
       "高数     88\n",
       "英语     78\n",
       "Name: 2, dtype: object"
      ]
     },
     "execution_count": 259,
     "metadata": {},
     "output_type": "execute_result"
    }
   ],
   "source": [
    "df.loc[2]  # 显示第 2 行的数据"
   ]
  },
  {
   "cell_type": "code",
   "execution_count": 260,
   "id": "a3c9340d",
   "metadata": {
    "slideshow": {
     "slide_type": "subslide"
    }
   },
   "outputs": [
    {
     "data": {
      "text/html": [
       "<div>\n",
       "<style scoped>\n",
       "    .dataframe tbody tr th:only-of-type {\n",
       "        vertical-align: middle;\n",
       "    }\n",
       "\n",
       "    .dataframe tbody tr th {\n",
       "        vertical-align: top;\n",
       "    }\n",
       "\n",
       "    .dataframe thead th {\n",
       "        text-align: right;\n",
       "    }\n",
       "</style>\n",
       "<table border=\"1\" class=\"dataframe\">\n",
       "  <thead>\n",
       "    <tr style=\"text-align: right;\">\n",
       "      <th></th>\n",
       "      <th>姓名</th>\n",
       "      <th>统计学</th>\n",
       "      <th>高数</th>\n",
       "      <th>英语</th>\n",
       "    </tr>\n",
       "  </thead>\n",
       "  <tbody>\n",
       "    <tr>\n",
       "      <th>0</th>\n",
       "      <td>张三</td>\n",
       "      <td>85</td>\n",
       "      <td>82</td>\n",
       "      <td>84</td>\n",
       "    </tr>\n",
       "  </tbody>\n",
       "</table>\n",
       "</div>"
      ],
      "text/plain": [
       "   姓名  统计学  高数  英语\n",
       "0  张三   85  82  84"
      ]
     },
     "execution_count": 260,
     "metadata": {},
     "output_type": "execute_result"
    }
   ],
   "source": [
    "df[0:1]  # 显示第 1 行的数据"
   ]
  },
  {
   "cell_type": "code",
   "execution_count": 261,
   "id": "ab13a0be",
   "metadata": {
    "slideshow": {
     "slide_type": "fragment"
    }
   },
   "outputs": [
    {
     "data": {
      "text/html": [
       "<div>\n",
       "<style scoped>\n",
       "    .dataframe tbody tr th:only-of-type {\n",
       "        vertical-align: middle;\n",
       "    }\n",
       "\n",
       "    .dataframe tbody tr th {\n",
       "        vertical-align: top;\n",
       "    }\n",
       "\n",
       "    .dataframe thead th {\n",
       "        text-align: right;\n",
       "    }\n",
       "</style>\n",
       "<table border=\"1\" class=\"dataframe\">\n",
       "  <thead>\n",
       "    <tr style=\"text-align: right;\">\n",
       "      <th></th>\n",
       "      <th>姓名</th>\n",
       "      <th>统计学</th>\n",
       "      <th>高数</th>\n",
       "      <th>英语</th>\n",
       "    </tr>\n",
       "  </thead>\n",
       "  <tbody>\n",
       "    <tr>\n",
       "      <th>1</th>\n",
       "      <td>李四</td>\n",
       "      <td>68</td>\n",
       "      <td>63</td>\n",
       "      <td>90</td>\n",
       "    </tr>\n",
       "  </tbody>\n",
       "</table>\n",
       "</div>"
      ],
      "text/plain": [
       "   姓名  统计学  高数  英语\n",
       "1  李四   68  63  90"
      ]
     },
     "execution_count": 261,
     "metadata": {},
     "output_type": "execute_result"
    }
   ],
   "source": [
    "df[1:2]  # 显示第 2 行的数据"
   ]
  },
  {
   "cell_type": "markdown",
   "id": "486b9238",
   "metadata": {
    "slideshow": {
     "slide_type": "subslide"
    }
   },
   "source": [
    "若查看某个单元格，比较方便的方式是用两个中括号，每个中括号内分别跟着列索引和行索引，例如查看李四的高数成绩："
   ]
  },
  {
   "cell_type": "code",
   "execution_count": 262,
   "id": "3dc9041a",
   "metadata": {
    "slideshow": {
     "slide_type": "fragment"
    }
   },
   "outputs": [
    {
     "data": {
      "text/plain": [
       "63"
      ]
     },
     "execution_count": 262,
     "metadata": {},
     "output_type": "execute_result"
    }
   ],
   "source": [
    "df[\"高数\"][1]"
   ]
  },
  {
   "cell_type": "markdown",
   "id": "94212b6e",
   "metadata": {},
   "source": [
    "或者"
   ]
  },
  {
   "cell_type": "code",
   "execution_count": 263,
   "id": "1b96083c",
   "metadata": {},
   "outputs": [
    {
     "data": {
      "text/plain": [
       "63"
      ]
     },
     "execution_count": 263,
     "metadata": {},
     "output_type": "execute_result"
    }
   ],
   "source": [
    "df.loc[1][\"高数\"]"
   ]
  },
  {
   "cell_type": "markdown",
   "id": "58ed603c",
   "metadata": {
    "slideshow": {
     "slide_type": "slide"
    }
   },
   "source": [
    "### 查看多行，多列数据\n",
    "<hr>\n",
    "\n",
    "查看多行、多列数据时，可以用 ``iloc``，它不仅能查看多行多列数据，也能查看单行、单列或某个单元格数据。\n",
    "例如，查看行数据："
   ]
  },
  {
   "cell_type": "code",
   "execution_count": 264,
   "id": "74304fe1",
   "metadata": {
    "slideshow": {
     "slide_type": "fragment"
    }
   },
   "outputs": [
    {
     "data": {
      "text/html": [
       "<div>\n",
       "<style scoped>\n",
       "    .dataframe tbody tr th:only-of-type {\n",
       "        vertical-align: middle;\n",
       "    }\n",
       "\n",
       "    .dataframe tbody tr th {\n",
       "        vertical-align: top;\n",
       "    }\n",
       "\n",
       "    .dataframe thead th {\n",
       "        text-align: right;\n",
       "    }\n",
       "</style>\n",
       "<table border=\"1\" class=\"dataframe\">\n",
       "  <thead>\n",
       "    <tr style=\"text-align: right;\">\n",
       "      <th></th>\n",
       "      <th>姓名</th>\n",
       "      <th>统计学</th>\n",
       "      <th>高数</th>\n",
       "      <th>英语</th>\n",
       "    </tr>\n",
       "  </thead>\n",
       "  <tbody>\n",
       "    <tr>\n",
       "      <th>0</th>\n",
       "      <td>张三</td>\n",
       "      <td>85</td>\n",
       "      <td>82</td>\n",
       "      <td>84</td>\n",
       "    </tr>\n",
       "    <tr>\n",
       "      <th>2</th>\n",
       "      <td>王五</td>\n",
       "      <td>90</td>\n",
       "      <td>88</td>\n",
       "      <td>78</td>\n",
       "    </tr>\n",
       "  </tbody>\n",
       "</table>\n",
       "</div>"
      ],
      "text/plain": [
       "   姓名  统计学  高数  英语\n",
       "0  张三   85  82  84\n",
       "2  王五   90  88  78"
      ]
     },
     "execution_count": 264,
     "metadata": {},
     "output_type": "execute_result"
    }
   ],
   "source": [
    "df.iloc[1]  # 查看第 2 行数据\n",
    "df.iloc[0:2]  # 查看前 2 行数据\n",
    "df.iloc[[0, 2]]  # 查看第 1 行与第 3 行数据"
   ]
  },
  {
   "cell_type": "markdown",
   "id": "55773d67",
   "metadata": {
    "slideshow": {
     "slide_type": "subslide"
    }
   },
   "source": [
    "查看列数据："
   ]
  },
  {
   "cell_type": "code",
   "execution_count": 265,
   "id": "50b58468",
   "metadata": {
    "slideshow": {
     "slide_type": "fragment"
    }
   },
   "outputs": [
    {
     "data": {
      "text/html": [
       "<div>\n",
       "<style scoped>\n",
       "    .dataframe tbody tr th:only-of-type {\n",
       "        vertical-align: middle;\n",
       "    }\n",
       "\n",
       "    .dataframe tbody tr th {\n",
       "        vertical-align: top;\n",
       "    }\n",
       "\n",
       "    .dataframe thead th {\n",
       "        text-align: right;\n",
       "    }\n",
       "</style>\n",
       "<table border=\"1\" class=\"dataframe\">\n",
       "  <thead>\n",
       "    <tr style=\"text-align: right;\">\n",
       "      <th></th>\n",
       "      <th>姓名</th>\n",
       "      <th>高数</th>\n",
       "    </tr>\n",
       "  </thead>\n",
       "  <tbody>\n",
       "    <tr>\n",
       "      <th>0</th>\n",
       "      <td>张三</td>\n",
       "      <td>82</td>\n",
       "    </tr>\n",
       "    <tr>\n",
       "      <th>1</th>\n",
       "      <td>李四</td>\n",
       "      <td>63</td>\n",
       "    </tr>\n",
       "    <tr>\n",
       "      <th>2</th>\n",
       "      <td>王五</td>\n",
       "      <td>88</td>\n",
       "    </tr>\n",
       "  </tbody>\n",
       "</table>\n",
       "</div>"
      ],
      "text/plain": [
       "   姓名  高数\n",
       "0  张三  82\n",
       "1  李四  63\n",
       "2  王五  88"
      ]
     },
     "execution_count": 265,
     "metadata": {},
     "output_type": "execute_result"
    }
   ],
   "source": [
    "df.iloc[:, 1]  # 查看第 2 列数据\n",
    "df.iloc[:, 0:2]  # 查看前 2 列数据\n",
    "df.iloc[:, [0, 2]]  # 查看第 1 列与第 3 列数据"
   ]
  },
  {
   "cell_type": "markdown",
   "id": "e0b5403b",
   "metadata": {
    "slideshow": {
     "slide_type": "subslide"
    }
   },
   "source": [
    "查看一块数据："
   ]
  },
  {
   "cell_type": "code",
   "execution_count": 266,
   "id": "2d081228",
   "metadata": {
    "slideshow": {
     "slide_type": "fragment"
    }
   },
   "outputs": [
    {
     "data": {
      "text/html": [
       "<div>\n",
       "<style scoped>\n",
       "    .dataframe tbody tr th:only-of-type {\n",
       "        vertical-align: middle;\n",
       "    }\n",
       "\n",
       "    .dataframe tbody tr th {\n",
       "        vertical-align: top;\n",
       "    }\n",
       "\n",
       "    .dataframe thead th {\n",
       "        text-align: right;\n",
       "    }\n",
       "</style>\n",
       "<table border=\"1\" class=\"dataframe\">\n",
       "  <thead>\n",
       "    <tr style=\"text-align: right;\">\n",
       "      <th></th>\n",
       "      <th>姓名</th>\n",
       "      <th>统计学</th>\n",
       "    </tr>\n",
       "  </thead>\n",
       "  <tbody>\n",
       "    <tr>\n",
       "      <th>0</th>\n",
       "      <td>张三</td>\n",
       "      <td>85</td>\n",
       "    </tr>\n",
       "    <tr>\n",
       "      <th>2</th>\n",
       "      <td>王五</td>\n",
       "      <td>90</td>\n",
       "    </tr>\n",
       "  </tbody>\n",
       "</table>\n",
       "</div>"
      ],
      "text/plain": [
       "   姓名  统计学\n",
       "0  张三   85\n",
       "2  王五   90"
      ]
     },
     "execution_count": 266,
     "metadata": {},
     "output_type": "execute_result"
    }
   ],
   "source": [
    "df.iloc[0:2, 0:2]  # 查看前 2 行，前 2 列的一块数据\n",
    "df.iloc[[0, 2], [0, 2]]  # 查看第 1、第 3 行，第 1、第 3 列的一块数据\n",
    "df.iloc[0:2, [0, 2]]  # 查看前 3 行，第 1、第 3 列的一块数据\n",
    "df.iloc[[0, 2], 0:2]  # 第 1、第 3 行，前 2 列的一块数据"
   ]
  },
  {
   "cell_type": "markdown",
   "id": "f3b20bf8",
   "metadata": {
    "slideshow": {
     "slide_type": "subslide"
    }
   },
   "source": [
    "查看某个单元格："
   ]
  },
  {
   "cell_type": "code",
   "execution_count": 267,
   "id": "8c786fb1",
   "metadata": {
    "slideshow": {
     "slide_type": "fragment"
    }
   },
   "outputs": [
    {
     "data": {
      "text/plain": [
       "68"
      ]
     },
     "execution_count": 267,
     "metadata": {},
     "output_type": "execute_result"
    }
   ],
   "source": [
    "df.iloc[1, 1]  # 查看第 2 行，第 2 列的单元格数据"
   ]
  },
  {
   "cell_type": "markdown",
   "id": "04daa6a3",
   "metadata": {
    "slideshow": {
     "slide_type": "subslide"
    }
   },
   "source": [
    "查看具体几列数据，可以在中括号``[]``里面跟一个索引列表，例如，查看统计学与英语的成绩："
   ]
  },
  {
   "cell_type": "code",
   "execution_count": 268,
   "id": "6c8ecd57",
   "metadata": {
    "slideshow": {
     "slide_type": "fragment"
    }
   },
   "outputs": [
    {
     "data": {
      "text/html": [
       "<div>\n",
       "<style scoped>\n",
       "    .dataframe tbody tr th:only-of-type {\n",
       "        vertical-align: middle;\n",
       "    }\n",
       "\n",
       "    .dataframe tbody tr th {\n",
       "        vertical-align: top;\n",
       "    }\n",
       "\n",
       "    .dataframe thead th {\n",
       "        text-align: right;\n",
       "    }\n",
       "</style>\n",
       "<table border=\"1\" class=\"dataframe\">\n",
       "  <thead>\n",
       "    <tr style=\"text-align: right;\">\n",
       "      <th></th>\n",
       "      <th>统计学</th>\n",
       "      <th>英语</th>\n",
       "    </tr>\n",
       "  </thead>\n",
       "  <tbody>\n",
       "    <tr>\n",
       "      <th>0</th>\n",
       "      <td>85</td>\n",
       "      <td>84</td>\n",
       "    </tr>\n",
       "    <tr>\n",
       "      <th>1</th>\n",
       "      <td>68</td>\n",
       "      <td>90</td>\n",
       "    </tr>\n",
       "    <tr>\n",
       "      <th>2</th>\n",
       "      <td>90</td>\n",
       "      <td>78</td>\n",
       "    </tr>\n",
       "  </tbody>\n",
       "</table>\n",
       "</div>"
      ],
      "text/plain": [
       "   统计学  英语\n",
       "0   85  84\n",
       "1   68  90\n",
       "2   90  78"
      ]
     },
     "execution_count": 268,
     "metadata": {},
     "output_type": "execute_result"
    }
   ],
   "source": [
    "df[[\"统计学\", \"英语\"]]"
   ]
  },
  {
   "cell_type": "code",
   "execution_count": 269,
   "id": "8b2a040b",
   "metadata": {
    "slideshow": {
     "slide_type": "fragment"
    }
   },
   "outputs": [
    {
     "data": {
      "text/html": [
       "<div>\n",
       "<style scoped>\n",
       "    .dataframe tbody tr th:only-of-type {\n",
       "        vertical-align: middle;\n",
       "    }\n",
       "\n",
       "    .dataframe tbody tr th {\n",
       "        vertical-align: top;\n",
       "    }\n",
       "\n",
       "    .dataframe thead th {\n",
       "        text-align: right;\n",
       "    }\n",
       "</style>\n",
       "<table border=\"1\" class=\"dataframe\">\n",
       "  <thead>\n",
       "    <tr style=\"text-align: right;\">\n",
       "      <th></th>\n",
       "      <th>姓名</th>\n",
       "      <th>统计学</th>\n",
       "      <th>高数</th>\n",
       "      <th>英语</th>\n",
       "    </tr>\n",
       "  </thead>\n",
       "  <tbody>\n",
       "    <tr>\n",
       "      <th>0</th>\n",
       "      <td>张三</td>\n",
       "      <td>85</td>\n",
       "      <td>82</td>\n",
       "      <td>84</td>\n",
       "    </tr>\n",
       "    <tr>\n",
       "      <th>1</th>\n",
       "      <td>李四</td>\n",
       "      <td>68</td>\n",
       "      <td>63</td>\n",
       "      <td>90</td>\n",
       "    </tr>\n",
       "    <tr>\n",
       "      <th>2</th>\n",
       "      <td>王五</td>\n",
       "      <td>90</td>\n",
       "      <td>88</td>\n",
       "      <td>78</td>\n",
       "    </tr>\n",
       "  </tbody>\n",
       "</table>\n",
       "</div>"
      ],
      "text/plain": [
       "   姓名  统计学  高数  英语\n",
       "0  张三   85  82  84\n",
       "1  李四   68  63  90\n",
       "2  王五   90  88  78"
      ]
     },
     "execution_count": 269,
     "metadata": {},
     "output_type": "execute_result"
    }
   ],
   "source": [
    "df[0:3]"
   ]
  },
  {
   "cell_type": "markdown",
   "id": "2f49f928",
   "metadata": {
    "slideshow": {
     "slide_type": "subslide"
    }
   },
   "source": [
    "查看具体几行数据，可以用``iloc``结合索引列表的形式，例如，查看张三与王五的成绩："
   ]
  },
  {
   "cell_type": "code",
   "execution_count": 270,
   "id": "66bf83f9",
   "metadata": {
    "slideshow": {
     "slide_type": "fragment"
    }
   },
   "outputs": [
    {
     "data": {
      "text/html": [
       "<div>\n",
       "<style scoped>\n",
       "    .dataframe tbody tr th:only-of-type {\n",
       "        vertical-align: middle;\n",
       "    }\n",
       "\n",
       "    .dataframe tbody tr th {\n",
       "        vertical-align: top;\n",
       "    }\n",
       "\n",
       "    .dataframe thead th {\n",
       "        text-align: right;\n",
       "    }\n",
       "</style>\n",
       "<table border=\"1\" class=\"dataframe\">\n",
       "  <thead>\n",
       "    <tr style=\"text-align: right;\">\n",
       "      <th></th>\n",
       "      <th>姓名</th>\n",
       "      <th>统计学</th>\n",
       "      <th>高数</th>\n",
       "      <th>英语</th>\n",
       "    </tr>\n",
       "  </thead>\n",
       "  <tbody>\n",
       "    <tr>\n",
       "      <th>0</th>\n",
       "      <td>张三</td>\n",
       "      <td>85</td>\n",
       "      <td>82</td>\n",
       "      <td>84</td>\n",
       "    </tr>\n",
       "    <tr>\n",
       "      <th>2</th>\n",
       "      <td>王五</td>\n",
       "      <td>90</td>\n",
       "      <td>88</td>\n",
       "      <td>78</td>\n",
       "    </tr>\n",
       "  </tbody>\n",
       "</table>\n",
       "</div>"
      ],
      "text/plain": [
       "   姓名  统计学  高数  英语\n",
       "0  张三   85  82  84\n",
       "2  王五   90  88  78"
      ]
     },
     "execution_count": 270,
     "metadata": {},
     "output_type": "execute_result"
    }
   ],
   "source": [
    "df.iloc[[0, 2]]"
   ]
  },
  {
   "cell_type": "markdown",
   "id": "1cbae2e5",
   "metadata": {
    "slideshow": {
     "slide_type": "slide"
    }
   },
   "source": [
    "### 查看数据的统计值\n",
    "<hr>\n",
    "\n",
    "Pandas 自带一些统计函数，可以得到列数据的统计值，这些统计函数包括：mean（均值），max（最大值），min（最小值），median（中位数），std（标准差），count（计数），skew（均值），quantile（分位数）等。有时候需要添加参数``numeric_only = True``，表示只对数值数列应用函数。"
   ]
  },
  {
   "cell_type": "code",
   "execution_count": 271,
   "id": "d3bd242b",
   "metadata": {
    "slideshow": {
     "slide_type": "subslide"
    }
   },
   "outputs": [
    {
     "data": {
      "text/plain": [
       "81.0"
      ]
     },
     "execution_count": 271,
     "metadata": {},
     "output_type": "execute_result"
    }
   ],
   "source": [
    "df[\"统计学\"].mean()  # 求出统计学课程等平均分数"
   ]
  },
  {
   "cell_type": "code",
   "execution_count": 272,
   "id": "c4401073",
   "metadata": {
    "slideshow": {
     "slide_type": "fragment"
    }
   },
   "outputs": [
    {
     "data": {
      "text/plain": [
       "统计学    81.000000\n",
       "高数     77.666667\n",
       "英语     84.000000\n",
       "dtype: float64"
      ]
     },
     "execution_count": 272,
     "metadata": {},
     "output_type": "execute_result"
    }
   ],
   "source": [
    "df.mean(numeric_only=True)  # 求出每门课程等平均值，因为第一列姓名不为数值，添加了参数 ``numeric_only = True``"
   ]
  },
  {
   "cell_type": "code",
   "execution_count": 273,
   "id": "9daa7255",
   "metadata": {
    "slideshow": {
     "slide_type": "fragment"
    }
   },
   "outputs": [
    {
     "data": {
      "text/plain": [
       "88"
      ]
     },
     "execution_count": 273,
     "metadata": {},
     "output_type": "execute_result"
    }
   ],
   "source": [
    "df[\"高数\"].max()  # 求出高数课程等最高分"
   ]
  },
  {
   "cell_type": "code",
   "execution_count": 274,
   "id": "852eda24",
   "metadata": {},
   "outputs": [
    {
     "data": {
      "text/plain": [
       "0    83.666667\n",
       "1    73.666667\n",
       "2    85.333333\n",
       "dtype: float64"
      ]
     },
     "execution_count": 274,
     "metadata": {},
     "output_type": "execute_result"
    }
   ],
   "source": [
    "df.mean(numeric_only=True, axis=1)  # 通过设置 axis = 1 对行调用函数"
   ]
  },
  {
   "cell_type": "markdown",
   "id": "83d293a9",
   "metadata": {
    "slideshow": {
     "slide_type": "slide"
    }
   },
   "source": [
    "###  修改数据\n",
    "<hr>\n",
    "\n",
    "在修改 pandas 的 DataFrame 数据时，将 pandas 的索引位置赋值为新的值。例如，当修改某列数据时，语法为：``df[‘列名'] =  某个值或某个元素个数与 DataFrame 列数相同的列表``。"
   ]
  },
  {
   "cell_type": "code",
   "execution_count": 275,
   "id": "333f47d5",
   "metadata": {
    "slideshow": {
     "slide_type": "fragment"
    }
   },
   "outputs": [
    {
     "data": {
      "text/html": [
       "<div>\n",
       "<style scoped>\n",
       "    .dataframe tbody tr th:only-of-type {\n",
       "        vertical-align: middle;\n",
       "    }\n",
       "\n",
       "    .dataframe tbody tr th {\n",
       "        vertical-align: top;\n",
       "    }\n",
       "\n",
       "    .dataframe thead th {\n",
       "        text-align: right;\n",
       "    }\n",
       "</style>\n",
       "<table border=\"1\" class=\"dataframe\">\n",
       "  <thead>\n",
       "    <tr style=\"text-align: right;\">\n",
       "      <th></th>\n",
       "      <th>姓名</th>\n",
       "      <th>统计学</th>\n",
       "      <th>高数</th>\n",
       "      <th>英语</th>\n",
       "    </tr>\n",
       "  </thead>\n",
       "  <tbody>\n",
       "    <tr>\n",
       "      <th>0</th>\n",
       "      <td>张三</td>\n",
       "      <td>80</td>\n",
       "      <td>82</td>\n",
       "      <td>84</td>\n",
       "    </tr>\n",
       "    <tr>\n",
       "      <th>1</th>\n",
       "      <td>李四</td>\n",
       "      <td>80</td>\n",
       "      <td>63</td>\n",
       "      <td>90</td>\n",
       "    </tr>\n",
       "    <tr>\n",
       "      <th>2</th>\n",
       "      <td>王五</td>\n",
       "      <td>80</td>\n",
       "      <td>88</td>\n",
       "      <td>78</td>\n",
       "    </tr>\n",
       "  </tbody>\n",
       "</table>\n",
       "</div>"
      ],
      "text/plain": [
       "   姓名  统计学  高数  英语\n",
       "0  张三   80  82  84\n",
       "1  李四   80  63  90\n",
       "2  王五   80  88  78"
      ]
     },
     "execution_count": 275,
     "metadata": {},
     "output_type": "execute_result"
    }
   ],
   "source": [
    "df[\"统计学\"] = 80  # 修改统计学这一列的数值为同一个值 80\n",
    "df"
   ]
  },
  {
   "cell_type": "code",
   "execution_count": 276,
   "id": "408a0f4e",
   "metadata": {
    "slideshow": {
     "slide_type": "fragment"
    }
   },
   "outputs": [
    {
     "data": {
      "text/html": [
       "<div>\n",
       "<style scoped>\n",
       "    .dataframe tbody tr th:only-of-type {\n",
       "        vertical-align: middle;\n",
       "    }\n",
       "\n",
       "    .dataframe tbody tr th {\n",
       "        vertical-align: top;\n",
       "    }\n",
       "\n",
       "    .dataframe thead th {\n",
       "        text-align: right;\n",
       "    }\n",
       "</style>\n",
       "<table border=\"1\" class=\"dataframe\">\n",
       "  <thead>\n",
       "    <tr style=\"text-align: right;\">\n",
       "      <th></th>\n",
       "      <th>姓名</th>\n",
       "      <th>统计学</th>\n",
       "      <th>高数</th>\n",
       "      <th>英语</th>\n",
       "    </tr>\n",
       "  </thead>\n",
       "  <tbody>\n",
       "    <tr>\n",
       "      <th>0</th>\n",
       "      <td>张三</td>\n",
       "      <td>95</td>\n",
       "      <td>82</td>\n",
       "      <td>84</td>\n",
       "    </tr>\n",
       "    <tr>\n",
       "      <th>1</th>\n",
       "      <td>李四</td>\n",
       "      <td>76</td>\n",
       "      <td>63</td>\n",
       "      <td>90</td>\n",
       "    </tr>\n",
       "    <tr>\n",
       "      <th>2</th>\n",
       "      <td>王五</td>\n",
       "      <td>88</td>\n",
       "      <td>88</td>\n",
       "      <td>78</td>\n",
       "    </tr>\n",
       "  </tbody>\n",
       "</table>\n",
       "</div>"
      ],
      "text/plain": [
       "   姓名  统计学  高数  英语\n",
       "0  张三   95  82  84\n",
       "1  李四   76  63  90\n",
       "2  王五   88  88  78"
      ]
     },
     "execution_count": 276,
     "metadata": {},
     "output_type": "execute_result"
    }
   ],
   "source": [
    "df[\"统计学\"] = [95, 76, 88]  # 修改统计学这一列的数值为列表中的值\n",
    "df"
   ]
  },
  {
   "cell_type": "code",
   "execution_count": 277,
   "id": "e366802c",
   "metadata": {
    "slideshow": {
     "slide_type": "subslide"
    }
   },
   "outputs": [
    {
     "data": {
      "text/html": [
       "<div>\n",
       "<style scoped>\n",
       "    .dataframe tbody tr th:only-of-type {\n",
       "        vertical-align: middle;\n",
       "    }\n",
       "\n",
       "    .dataframe tbody tr th {\n",
       "        vertical-align: top;\n",
       "    }\n",
       "\n",
       "    .dataframe thead th {\n",
       "        text-align: right;\n",
       "    }\n",
       "</style>\n",
       "<table border=\"1\" class=\"dataframe\">\n",
       "  <thead>\n",
       "    <tr style=\"text-align: right;\">\n",
       "      <th></th>\n",
       "      <th>姓名</th>\n",
       "      <th>统计学</th>\n",
       "      <th>高数</th>\n",
       "      <th>英语</th>\n",
       "    </tr>\n",
       "  </thead>\n",
       "  <tbody>\n",
       "    <tr>\n",
       "      <th>0</th>\n",
       "      <td>张三</td>\n",
       "      <td>95</td>\n",
       "      <td>82</td>\n",
       "      <td>84</td>\n",
       "    </tr>\n",
       "    <tr>\n",
       "      <th>1</th>\n",
       "      <td>80</td>\n",
       "      <td>80</td>\n",
       "      <td>80</td>\n",
       "      <td>80</td>\n",
       "    </tr>\n",
       "    <tr>\n",
       "      <th>2</th>\n",
       "      <td>王五</td>\n",
       "      <td>88</td>\n",
       "      <td>88</td>\n",
       "      <td>78</td>\n",
       "    </tr>\n",
       "  </tbody>\n",
       "</table>\n",
       "</div>"
      ],
      "text/plain": [
       "   姓名  统计学  高数  英语\n",
       "0  张三   95  82  84\n",
       "1  80   80  80  80\n",
       "2  王五   88  88  78"
      ]
     },
     "execution_count": 277,
     "metadata": {},
     "output_type": "execute_result"
    }
   ],
   "source": [
    "df.iloc[1] = 80  # 修改第 2 行的数据为同一个值 80\n",
    "df"
   ]
  },
  {
   "cell_type": "code",
   "execution_count": 278,
   "id": "bf5f6a82",
   "metadata": {
    "slideshow": {
     "slide_type": "fragment"
    }
   },
   "outputs": [
    {
     "data": {
      "text/html": [
       "<div>\n",
       "<style scoped>\n",
       "    .dataframe tbody tr th:only-of-type {\n",
       "        vertical-align: middle;\n",
       "    }\n",
       "\n",
       "    .dataframe tbody tr th {\n",
       "        vertical-align: top;\n",
       "    }\n",
       "\n",
       "    .dataframe thead th {\n",
       "        text-align: right;\n",
       "    }\n",
       "</style>\n",
       "<table border=\"1\" class=\"dataframe\">\n",
       "  <thead>\n",
       "    <tr style=\"text-align: right;\">\n",
       "      <th></th>\n",
       "      <th>姓名</th>\n",
       "      <th>统计学</th>\n",
       "      <th>高数</th>\n",
       "      <th>英语</th>\n",
       "    </tr>\n",
       "  </thead>\n",
       "  <tbody>\n",
       "    <tr>\n",
       "      <th>0</th>\n",
       "      <td>张三</td>\n",
       "      <td>95</td>\n",
       "      <td>82</td>\n",
       "      <td>84</td>\n",
       "    </tr>\n",
       "    <tr>\n",
       "      <th>1</th>\n",
       "      <td>赵四</td>\n",
       "      <td>95</td>\n",
       "      <td>90</td>\n",
       "      <td>89</td>\n",
       "    </tr>\n",
       "    <tr>\n",
       "      <th>2</th>\n",
       "      <td>王五</td>\n",
       "      <td>88</td>\n",
       "      <td>88</td>\n",
       "      <td>78</td>\n",
       "    </tr>\n",
       "  </tbody>\n",
       "</table>\n",
       "</div>"
      ],
      "text/plain": [
       "   姓名  统计学  高数  英语\n",
       "0  张三   95  82  84\n",
       "1  赵四   95  90  89\n",
       "2  王五   88  88  78"
      ]
     },
     "execution_count": 278,
     "metadata": {},
     "output_type": "execute_result"
    }
   ],
   "source": [
    "df.iloc[1] = [\"赵四\", 95, 90, 89]  # 修改第 2 行的数据为列表中的值\n",
    "df"
   ]
  },
  {
   "cell_type": "markdown",
   "id": "1a260e9e",
   "metadata": {
    "slideshow": {
     "slide_type": "subslide"
    }
   },
   "source": [
    "下面的代码修改第2行第2列中的数值："
   ]
  },
  {
   "cell_type": "code",
   "execution_count": 279,
   "id": "92081ee6",
   "metadata": {
    "slideshow": {
     "slide_type": "fragment"
    }
   },
   "outputs": [
    {
     "data": {
      "text/html": [
       "<div>\n",
       "<style scoped>\n",
       "    .dataframe tbody tr th:only-of-type {\n",
       "        vertical-align: middle;\n",
       "    }\n",
       "\n",
       "    .dataframe tbody tr th {\n",
       "        vertical-align: top;\n",
       "    }\n",
       "\n",
       "    .dataframe thead th {\n",
       "        text-align: right;\n",
       "    }\n",
       "</style>\n",
       "<table border=\"1\" class=\"dataframe\">\n",
       "  <thead>\n",
       "    <tr style=\"text-align: right;\">\n",
       "      <th></th>\n",
       "      <th>姓名</th>\n",
       "      <th>统计学</th>\n",
       "      <th>高数</th>\n",
       "      <th>英语</th>\n",
       "    </tr>\n",
       "  </thead>\n",
       "  <tbody>\n",
       "    <tr>\n",
       "      <th>0</th>\n",
       "      <td>张三</td>\n",
       "      <td>95</td>\n",
       "      <td>82</td>\n",
       "      <td>84</td>\n",
       "    </tr>\n",
       "    <tr>\n",
       "      <th>1</th>\n",
       "      <td>赵四</td>\n",
       "      <td>100</td>\n",
       "      <td>90</td>\n",
       "      <td>89</td>\n",
       "    </tr>\n",
       "    <tr>\n",
       "      <th>2</th>\n",
       "      <td>王五</td>\n",
       "      <td>88</td>\n",
       "      <td>88</td>\n",
       "      <td>78</td>\n",
       "    </tr>\n",
       "  </tbody>\n",
       "</table>\n",
       "</div>"
      ],
      "text/plain": [
       "   姓名  统计学  高数  英语\n",
       "0  张三   95  82  84\n",
       "1  赵四  100  90  89\n",
       "2  王五   88  88  78"
      ]
     },
     "execution_count": 279,
     "metadata": {},
     "output_type": "execute_result"
    }
   ],
   "source": [
    "df.iloc[1, 1] = 100  # 修改第2行第2列中的数值\n",
    "df"
   ]
  },
  {
   "cell_type": "markdown",
   "id": "0cc68524",
   "metadata": {
    "slideshow": {
     "slide_type": "slide"
    }
   },
   "source": [
    "## 增加，删除与合并数据\n",
    "<hr>"
   ]
  },
  {
   "cell_type": "markdown",
   "id": "1c94b80b",
   "metadata": {
    "slideshow": {
     "slide_type": "fragment"
    }
   },
   "source": [
    "### 增加数据\n",
    "<hr>\n",
    "\n",
    "在原数据末尾增加一列时，语法为 ``df[‘新列名'] = 某个值或某个元素个数与 DataFrame 列数相同的列表``，例如："
   ]
  },
  {
   "cell_type": "code",
   "execution_count": 280,
   "id": "9102b318",
   "metadata": {
    "slideshow": {
     "slide_type": "fragment"
    }
   },
   "outputs": [
    {
     "data": {
      "text/html": [
       "<div>\n",
       "<style scoped>\n",
       "    .dataframe tbody tr th:only-of-type {\n",
       "        vertical-align: middle;\n",
       "    }\n",
       "\n",
       "    .dataframe tbody tr th {\n",
       "        vertical-align: top;\n",
       "    }\n",
       "\n",
       "    .dataframe thead th {\n",
       "        text-align: right;\n",
       "    }\n",
       "</style>\n",
       "<table border=\"1\" class=\"dataframe\">\n",
       "  <thead>\n",
       "    <tr style=\"text-align: right;\">\n",
       "      <th></th>\n",
       "      <th>姓名</th>\n",
       "      <th>统计学</th>\n",
       "      <th>高数</th>\n",
       "      <th>英语</th>\n",
       "      <th>计算机</th>\n",
       "    </tr>\n",
       "  </thead>\n",
       "  <tbody>\n",
       "    <tr>\n",
       "      <th>0</th>\n",
       "      <td>张三</td>\n",
       "      <td>95</td>\n",
       "      <td>82</td>\n",
       "      <td>84</td>\n",
       "      <td>92</td>\n",
       "    </tr>\n",
       "    <tr>\n",
       "      <th>1</th>\n",
       "      <td>赵四</td>\n",
       "      <td>100</td>\n",
       "      <td>90</td>\n",
       "      <td>89</td>\n",
       "      <td>69</td>\n",
       "    </tr>\n",
       "    <tr>\n",
       "      <th>2</th>\n",
       "      <td>王五</td>\n",
       "      <td>88</td>\n",
       "      <td>88</td>\n",
       "      <td>78</td>\n",
       "      <td>75</td>\n",
       "    </tr>\n",
       "  </tbody>\n",
       "</table>\n",
       "</div>"
      ],
      "text/plain": [
       "   姓名  统计学  高数  英语  计算机\n",
       "0  张三   95  82  84   92\n",
       "1  赵四  100  90  89   69\n",
       "2  王五   88  88  78   75"
      ]
     },
     "execution_count": 280,
     "metadata": {},
     "output_type": "execute_result"
    }
   ],
   "source": [
    "df[\"计算机\"] = [92, 69, 75]  # 增加一列计算机课程的成绩\n",
    "df"
   ]
  },
  {
   "cell_type": "markdown",
   "id": "dc0daa07",
   "metadata": {
    "slideshow": {
     "slide_type": "subslide"
    }
   },
   "source": [
    "在原数据末尾增加一行数据时，比较简单的方式是用 loc 函数，``df.loc[行索引] = 新行值``。"
   ]
  },
  {
   "cell_type": "code",
   "execution_count": 281,
   "id": "d3210445",
   "metadata": {
    "slideshow": {
     "slide_type": "fragment"
    }
   },
   "outputs": [
    {
     "data": {
      "text/html": [
       "<div>\n",
       "<style scoped>\n",
       "    .dataframe tbody tr th:only-of-type {\n",
       "        vertical-align: middle;\n",
       "    }\n",
       "\n",
       "    .dataframe tbody tr th {\n",
       "        vertical-align: top;\n",
       "    }\n",
       "\n",
       "    .dataframe thead th {\n",
       "        text-align: right;\n",
       "    }\n",
       "</style>\n",
       "<table border=\"1\" class=\"dataframe\">\n",
       "  <thead>\n",
       "    <tr style=\"text-align: right;\">\n",
       "      <th></th>\n",
       "      <th>姓名</th>\n",
       "      <th>统计学</th>\n",
       "      <th>高数</th>\n",
       "      <th>英语</th>\n",
       "      <th>计算机</th>\n",
       "    </tr>\n",
       "  </thead>\n",
       "  <tbody>\n",
       "    <tr>\n",
       "      <th>0</th>\n",
       "      <td>张三</td>\n",
       "      <td>95</td>\n",
       "      <td>82</td>\n",
       "      <td>84</td>\n",
       "      <td>92</td>\n",
       "    </tr>\n",
       "    <tr>\n",
       "      <th>1</th>\n",
       "      <td>赵四</td>\n",
       "      <td>100</td>\n",
       "      <td>90</td>\n",
       "      <td>89</td>\n",
       "      <td>69</td>\n",
       "    </tr>\n",
       "    <tr>\n",
       "      <th>2</th>\n",
       "      <td>王五</td>\n",
       "      <td>88</td>\n",
       "      <td>88</td>\n",
       "      <td>78</td>\n",
       "      <td>75</td>\n",
       "    </tr>\n",
       "    <tr>\n",
       "      <th>3</th>\n",
       "      <td>马六</td>\n",
       "      <td>65</td>\n",
       "      <td>70</td>\n",
       "      <td>69</td>\n",
       "      <td>55</td>\n",
       "    </tr>\n",
       "  </tbody>\n",
       "</table>\n",
       "</div>"
      ],
      "text/plain": [
       "   姓名  统计学  高数  英语  计算机\n",
       "0  张三   95  82  84   92\n",
       "1  赵四  100  90  89   69\n",
       "2  王五   88  88  78   75\n",
       "3  马六   65  70  69   55"
      ]
     },
     "execution_count": 281,
     "metadata": {},
     "output_type": "execute_result"
    }
   ],
   "source": [
    "df.loc[3] = [\"马六\", 65, 70, 69, 55]  # 在末尾增加一行数据\n",
    "df"
   ]
  },
  {
   "cell_type": "markdown",
   "id": "938191e0",
   "metadata": {
    "slideshow": {
     "slide_type": "subslide"
    }
   },
   "source": [
    "若要在指定位置插入列，则需要用到 ``insert`` 函数。"
   ]
  },
  {
   "cell_type": "code",
   "execution_count": 282,
   "id": "5aee3948",
   "metadata": {
    "slideshow": {
     "slide_type": "fragment"
    }
   },
   "outputs": [
    {
     "data": {
      "text/html": [
       "<div>\n",
       "<style scoped>\n",
       "    .dataframe tbody tr th:only-of-type {\n",
       "        vertical-align: middle;\n",
       "    }\n",
       "\n",
       "    .dataframe tbody tr th {\n",
       "        vertical-align: top;\n",
       "    }\n",
       "\n",
       "    .dataframe thead th {\n",
       "        text-align: right;\n",
       "    }\n",
       "</style>\n",
       "<table border=\"1\" class=\"dataframe\">\n",
       "  <thead>\n",
       "    <tr style=\"text-align: right;\">\n",
       "      <th></th>\n",
       "      <th>姓名</th>\n",
       "      <th>运筹学</th>\n",
       "      <th>统计学</th>\n",
       "      <th>高数</th>\n",
       "      <th>英语</th>\n",
       "      <th>计算机</th>\n",
       "    </tr>\n",
       "  </thead>\n",
       "  <tbody>\n",
       "    <tr>\n",
       "      <th>0</th>\n",
       "      <td>张三</td>\n",
       "      <td>61</td>\n",
       "      <td>95</td>\n",
       "      <td>82</td>\n",
       "      <td>84</td>\n",
       "      <td>92</td>\n",
       "    </tr>\n",
       "    <tr>\n",
       "      <th>1</th>\n",
       "      <td>赵四</td>\n",
       "      <td>72</td>\n",
       "      <td>100</td>\n",
       "      <td>90</td>\n",
       "      <td>89</td>\n",
       "      <td>69</td>\n",
       "    </tr>\n",
       "    <tr>\n",
       "      <th>2</th>\n",
       "      <td>王五</td>\n",
       "      <td>84</td>\n",
       "      <td>88</td>\n",
       "      <td>88</td>\n",
       "      <td>78</td>\n",
       "      <td>75</td>\n",
       "    </tr>\n",
       "    <tr>\n",
       "      <th>3</th>\n",
       "      <td>马六</td>\n",
       "      <td>81</td>\n",
       "      <td>65</td>\n",
       "      <td>70</td>\n",
       "      <td>69</td>\n",
       "      <td>55</td>\n",
       "    </tr>\n",
       "  </tbody>\n",
       "</table>\n",
       "</div>"
      ],
      "text/plain": [
       "   姓名  运筹学  统计学  高数  英语  计算机\n",
       "0  张三   61   95  82  84   92\n",
       "1  赵四   72  100  90  89   69\n",
       "2  王五   84   88  88  78   75\n",
       "3  马六   81   65  70  69   55"
      ]
     },
     "execution_count": 282,
     "metadata": {},
     "output_type": "execute_result"
    }
   ],
   "source": [
    "df.insert(1, \"运筹学\", [61, 72, 84, 81])  # 在第 1 列后面插入新的一列\n",
    "df"
   ]
  },
  {
   "cell_type": "code",
   "execution_count": 283,
   "id": "23787256",
   "metadata": {
    "slideshow": {
     "slide_type": "fragment"
    }
   },
   "outputs": [
    {
     "data": {
      "text/html": [
       "<div>\n",
       "<style scoped>\n",
       "    .dataframe tbody tr th:only-of-type {\n",
       "        vertical-align: middle;\n",
       "    }\n",
       "\n",
       "    .dataframe tbody tr th {\n",
       "        vertical-align: top;\n",
       "    }\n",
       "\n",
       "    .dataframe thead th {\n",
       "        text-align: right;\n",
       "    }\n",
       "</style>\n",
       "<table border=\"1\" class=\"dataframe\">\n",
       "  <thead>\n",
       "    <tr style=\"text-align: right;\">\n",
       "      <th></th>\n",
       "      <th>姓名</th>\n",
       "      <th>运筹学</th>\n",
       "      <th>统计学</th>\n",
       "      <th>Python</th>\n",
       "      <th>高数</th>\n",
       "      <th>英语</th>\n",
       "      <th>计算机</th>\n",
       "    </tr>\n",
       "  </thead>\n",
       "  <tbody>\n",
       "    <tr>\n",
       "      <th>0</th>\n",
       "      <td>张三</td>\n",
       "      <td>61</td>\n",
       "      <td>95</td>\n",
       "      <td>81</td>\n",
       "      <td>82</td>\n",
       "      <td>84</td>\n",
       "      <td>92</td>\n",
       "    </tr>\n",
       "    <tr>\n",
       "      <th>1</th>\n",
       "      <td>赵四</td>\n",
       "      <td>72</td>\n",
       "      <td>100</td>\n",
       "      <td>76</td>\n",
       "      <td>90</td>\n",
       "      <td>89</td>\n",
       "      <td>69</td>\n",
       "    </tr>\n",
       "    <tr>\n",
       "      <th>2</th>\n",
       "      <td>王五</td>\n",
       "      <td>84</td>\n",
       "      <td>88</td>\n",
       "      <td>74</td>\n",
       "      <td>88</td>\n",
       "      <td>78</td>\n",
       "      <td>75</td>\n",
       "    </tr>\n",
       "    <tr>\n",
       "      <th>3</th>\n",
       "      <td>马六</td>\n",
       "      <td>81</td>\n",
       "      <td>65</td>\n",
       "      <td>71</td>\n",
       "      <td>70</td>\n",
       "      <td>69</td>\n",
       "      <td>55</td>\n",
       "    </tr>\n",
       "  </tbody>\n",
       "</table>\n",
       "</div>"
      ],
      "text/plain": [
       "   姓名  运筹学  统计学  Python  高数  英语  计算机\n",
       "0  张三   61   95      81  82  84   92\n",
       "1  赵四   72  100      76  90  89   69\n",
       "2  王五   84   88      74  88  78   75\n",
       "3  马六   81   65      71  70  69   55"
      ]
     },
     "execution_count": 283,
     "metadata": {},
     "output_type": "execute_result"
    }
   ],
   "source": [
    "df.insert(3, \"Python\", [81, 76, 74, 71])  # 在第 4 列后面插入新的一列\n",
    "df"
   ]
  },
  {
   "cell_type": "markdown",
   "id": "638e4d2f",
   "metadata": {
    "slideshow": {
     "slide_type": "subslide"
    }
   },
   "source": [
    "若要在指定位置插入行，目前 Pandas 还没有专门的函数，一般采用``concat``函数合并多个 DataFrame 的方式，增加多列或多行数据也可以使用 ``concat``函数或``merge``函数，具体参看后面的合并数据章节。"
   ]
  },
  {
   "cell_type": "markdown",
   "id": "9c26859e",
   "metadata": {
    "slideshow": {
     "slide_type": "slide"
    }
   },
   "source": [
    "### 删除数据\n",
    "<hr>"
   ]
  },
  {
   "cell_type": "markdown",
   "id": "2bd5241a",
   "metadata": {
    "slideshow": {
     "slide_type": "fragment"
    }
   },
   "source": [
    "Pandas 可以利用``drop``函数删除行数据或列数据。删除一行时，参数为行标签名以及``inplace = True``。若没有参数``inplace = True``，原始的 DataFrame 数据不变。"
   ]
  },
  {
   "cell_type": "code",
   "execution_count": 284,
   "id": "6b50f030",
   "metadata": {
    "slideshow": {
     "slide_type": "fragment"
    }
   },
   "outputs": [
    {
     "data": {
      "text/html": [
       "<div>\n",
       "<style scoped>\n",
       "    .dataframe tbody tr th:only-of-type {\n",
       "        vertical-align: middle;\n",
       "    }\n",
       "\n",
       "    .dataframe tbody tr th {\n",
       "        vertical-align: top;\n",
       "    }\n",
       "\n",
       "    .dataframe thead th {\n",
       "        text-align: right;\n",
       "    }\n",
       "</style>\n",
       "<table border=\"1\" class=\"dataframe\">\n",
       "  <thead>\n",
       "    <tr style=\"text-align: right;\">\n",
       "      <th></th>\n",
       "      <th>姓名</th>\n",
       "      <th>运筹学</th>\n",
       "      <th>统计学</th>\n",
       "      <th>Python</th>\n",
       "      <th>高数</th>\n",
       "      <th>英语</th>\n",
       "      <th>计算机</th>\n",
       "    </tr>\n",
       "  </thead>\n",
       "  <tbody>\n",
       "    <tr>\n",
       "      <th>0</th>\n",
       "      <td>张三</td>\n",
       "      <td>61</td>\n",
       "      <td>95</td>\n",
       "      <td>81</td>\n",
       "      <td>82</td>\n",
       "      <td>84</td>\n",
       "      <td>92</td>\n",
       "    </tr>\n",
       "    <tr>\n",
       "      <th>1</th>\n",
       "      <td>赵四</td>\n",
       "      <td>72</td>\n",
       "      <td>100</td>\n",
       "      <td>76</td>\n",
       "      <td>90</td>\n",
       "      <td>89</td>\n",
       "      <td>69</td>\n",
       "    </tr>\n",
       "    <tr>\n",
       "      <th>2</th>\n",
       "      <td>王五</td>\n",
       "      <td>84</td>\n",
       "      <td>88</td>\n",
       "      <td>74</td>\n",
       "      <td>88</td>\n",
       "      <td>78</td>\n",
       "      <td>75</td>\n",
       "    </tr>\n",
       "  </tbody>\n",
       "</table>\n",
       "</div>"
      ],
      "text/plain": [
       "   姓名  运筹学  统计学  Python  高数  英语  计算机\n",
       "0  张三   61   95      81  82  84   92\n",
       "1  赵四   72  100      76  90  89   69\n",
       "2  王五   84   88      74  88  78   75"
      ]
     },
     "execution_count": 284,
     "metadata": {},
     "output_type": "execute_result"
    }
   ],
   "source": [
    "df.drop(3, inplace=True)  # 删除第 3 行\n",
    "df"
   ]
  },
  {
   "cell_type": "markdown",
   "id": "362c6586",
   "metadata": {
    "slideshow": {
     "slide_type": "subslide"
    }
   },
   "source": [
    "删除一列时，多了一个参数``axis = 1``："
   ]
  },
  {
   "cell_type": "code",
   "execution_count": 285,
   "id": "6b82d580",
   "metadata": {
    "slideshow": {
     "slide_type": "fragment"
    }
   },
   "outputs": [
    {
     "data": {
      "text/html": [
       "<div>\n",
       "<style scoped>\n",
       "    .dataframe tbody tr th:only-of-type {\n",
       "        vertical-align: middle;\n",
       "    }\n",
       "\n",
       "    .dataframe tbody tr th {\n",
       "        vertical-align: top;\n",
       "    }\n",
       "\n",
       "    .dataframe thead th {\n",
       "        text-align: right;\n",
       "    }\n",
       "</style>\n",
       "<table border=\"1\" class=\"dataframe\">\n",
       "  <thead>\n",
       "    <tr style=\"text-align: right;\">\n",
       "      <th></th>\n",
       "      <th>姓名</th>\n",
       "      <th>运筹学</th>\n",
       "      <th>统计学</th>\n",
       "      <th>Python</th>\n",
       "      <th>高数</th>\n",
       "      <th>计算机</th>\n",
       "    </tr>\n",
       "  </thead>\n",
       "  <tbody>\n",
       "    <tr>\n",
       "      <th>0</th>\n",
       "      <td>张三</td>\n",
       "      <td>61</td>\n",
       "      <td>95</td>\n",
       "      <td>81</td>\n",
       "      <td>82</td>\n",
       "      <td>92</td>\n",
       "    </tr>\n",
       "    <tr>\n",
       "      <th>1</th>\n",
       "      <td>赵四</td>\n",
       "      <td>72</td>\n",
       "      <td>100</td>\n",
       "      <td>76</td>\n",
       "      <td>90</td>\n",
       "      <td>69</td>\n",
       "    </tr>\n",
       "    <tr>\n",
       "      <th>2</th>\n",
       "      <td>王五</td>\n",
       "      <td>84</td>\n",
       "      <td>88</td>\n",
       "      <td>74</td>\n",
       "      <td>88</td>\n",
       "      <td>75</td>\n",
       "    </tr>\n",
       "  </tbody>\n",
       "</table>\n",
       "</div>"
      ],
      "text/plain": [
       "   姓名  运筹学  统计学  Python  高数  计算机\n",
       "0  张三   61   95      81  82   92\n",
       "1  赵四   72  100      76  90   69\n",
       "2  王五   84   88      74  88   75"
      ]
     },
     "execution_count": 285,
     "metadata": {},
     "output_type": "execute_result"
    }
   ],
   "source": [
    "df.drop(\"英语\", inplace=True, axis=1)\n",
    "df"
   ]
  },
  {
   "cell_type": "code",
   "execution_count": 286,
   "id": "ef385cfb",
   "metadata": {
    "slideshow": {
     "slide_type": "fragment"
    }
   },
   "outputs": [
    {
     "data": {
      "text/html": [
       "<div>\n",
       "<style scoped>\n",
       "    .dataframe tbody tr th:only-of-type {\n",
       "        vertical-align: middle;\n",
       "    }\n",
       "\n",
       "    .dataframe tbody tr th {\n",
       "        vertical-align: top;\n",
       "    }\n",
       "\n",
       "    .dataframe thead th {\n",
       "        text-align: right;\n",
       "    }\n",
       "</style>\n",
       "<table border=\"1\" class=\"dataframe\">\n",
       "  <thead>\n",
       "    <tr style=\"text-align: right;\">\n",
       "      <th></th>\n",
       "      <th>姓名</th>\n",
       "      <th>统计学</th>\n",
       "      <th>Python</th>\n",
       "      <th>计算机</th>\n",
       "    </tr>\n",
       "  </thead>\n",
       "  <tbody>\n",
       "    <tr>\n",
       "      <th>0</th>\n",
       "      <td>张三</td>\n",
       "      <td>95</td>\n",
       "      <td>81</td>\n",
       "      <td>92</td>\n",
       "    </tr>\n",
       "    <tr>\n",
       "      <th>1</th>\n",
       "      <td>赵四</td>\n",
       "      <td>100</td>\n",
       "      <td>76</td>\n",
       "      <td>69</td>\n",
       "    </tr>\n",
       "    <tr>\n",
       "      <th>2</th>\n",
       "      <td>王五</td>\n",
       "      <td>88</td>\n",
       "      <td>74</td>\n",
       "      <td>75</td>\n",
       "    </tr>\n",
       "  </tbody>\n",
       "</table>\n",
       "</div>"
      ],
      "text/plain": [
       "   姓名  统计学  Python  计算机\n",
       "0  张三   95      81   92\n",
       "1  赵四  100      76   69\n",
       "2  王五   88      74   75"
      ]
     },
     "execution_count": 286,
     "metadata": {},
     "output_type": "execute_result"
    }
   ],
   "source": [
    "df.drop([\"运筹学\", \"高数\"], inplace=True, axis=1)  # 删除两行\n",
    "df"
   ]
  },
  {
   "cell_type": "markdown",
   "id": "4c826af1-03a8-4309-9ad5-54f68693d8dc",
   "metadata": {},
   "source": [
    "drop 函数还可以根据条件删除数据，例如:"
   ]
  },
  {
   "cell_type": "code",
   "execution_count": 287,
   "id": "4a11b4be-e946-4d96-b88b-76ac57fbbc3b",
   "metadata": {},
   "outputs": [
    {
     "data": {
      "text/html": [
       "<div>\n",
       "<style scoped>\n",
       "    .dataframe tbody tr th:only-of-type {\n",
       "        vertical-align: middle;\n",
       "    }\n",
       "\n",
       "    .dataframe tbody tr th {\n",
       "        vertical-align: top;\n",
       "    }\n",
       "\n",
       "    .dataframe thead th {\n",
       "        text-align: right;\n",
       "    }\n",
       "</style>\n",
       "<table border=\"1\" class=\"dataframe\">\n",
       "  <thead>\n",
       "    <tr style=\"text-align: right;\">\n",
       "      <th></th>\n",
       "      <th>姓名</th>\n",
       "      <th>统计学</th>\n",
       "      <th>Python</th>\n",
       "      <th>计算机</th>\n",
       "    </tr>\n",
       "  </thead>\n",
       "  <tbody>\n",
       "    <tr>\n",
       "      <th>0</th>\n",
       "      <td>张三</td>\n",
       "      <td>95</td>\n",
       "      <td>81</td>\n",
       "      <td>92</td>\n",
       "    </tr>\n",
       "    <tr>\n",
       "      <th>2</th>\n",
       "      <td>王五</td>\n",
       "      <td>88</td>\n",
       "      <td>74</td>\n",
       "      <td>75</td>\n",
       "    </tr>\n",
       "  </tbody>\n",
       "</table>\n",
       "</div>"
      ],
      "text/plain": [
       "   姓名  统计学  Python  计算机\n",
       "0  张三   95      81   92\n",
       "2  王五   88      74   75"
      ]
     },
     "execution_count": 287,
     "metadata": {},
     "output_type": "execute_result"
    }
   ],
   "source": [
    "df.drop(df[df[\"统计学\"]>95].index, inplace=True) # 删除所有统计学成绩高于95分的成绩\n",
    "df"
   ]
  },
  {
   "cell_type": "code",
   "execution_count": 288,
   "id": "44e66dce-7184-456d-a10d-30c91835cfd7",
   "metadata": {},
   "outputs": [
    {
     "data": {
      "text/html": [
       "<div>\n",
       "<style scoped>\n",
       "    .dataframe tbody tr th:only-of-type {\n",
       "        vertical-align: middle;\n",
       "    }\n",
       "\n",
       "    .dataframe tbody tr th {\n",
       "        vertical-align: top;\n",
       "    }\n",
       "\n",
       "    .dataframe thead th {\n",
       "        text-align: right;\n",
       "    }\n",
       "</style>\n",
       "<table border=\"1\" class=\"dataframe\">\n",
       "  <thead>\n",
       "    <tr style=\"text-align: right;\">\n",
       "      <th></th>\n",
       "      <th>姓名</th>\n",
       "      <th>统计学</th>\n",
       "      <th>Python</th>\n",
       "      <th>计算机</th>\n",
       "    </tr>\n",
       "  </thead>\n",
       "  <tbody>\n",
       "    <tr>\n",
       "      <th>0</th>\n",
       "      <td>张三</td>\n",
       "      <td>95</td>\n",
       "      <td>81</td>\n",
       "      <td>92</td>\n",
       "    </tr>\n",
       "    <tr>\n",
       "      <th>1</th>\n",
       "      <td>王五</td>\n",
       "      <td>88</td>\n",
       "      <td>74</td>\n",
       "      <td>75</td>\n",
       "    </tr>\n",
       "  </tbody>\n",
       "</table>\n",
       "</div>"
      ],
      "text/plain": [
       "   姓名  统计学  Python  计算机\n",
       "0  张三   95      81   92\n",
       "1  王五   88      74   75"
      ]
     },
     "execution_count": 288,
     "metadata": {},
     "output_type": "execute_result"
    }
   ],
   "source": [
    "df.reset_index(drop=True) # 重新设置 index，并舍弃原有的 index"
   ]
  },
  {
   "cell_type": "markdown",
   "id": "de6e01a6",
   "metadata": {
    "slideshow": {
     "slide_type": "slide"
    }
   },
   "source": [
    "### 合并数据\n",
    "<hr>\n",
    "\n",
    "Pandas 中比较常用的两个合并数据的方法是``concat``与``merge``。 当两个 DataFrame 数据表具有完全相同的列标签时，一般用``concat``，其他情况下多用``merge``。"
   ]
  },
  {
   "cell_type": "code",
   "execution_count": null,
   "id": "0fdbc925",
   "metadata": {
    "slideshow": {
     "slide_type": "fragment"
    }
   },
   "outputs": [],
   "source": [
    "df1 = pd.DataFrame(\n",
    "    {\n",
    "        \"姓名\": [\"张三\", \"李四\", \"王五\"],\n",
    "        \"统计学\": [85, 68, 90],\n",
    "        \"高数\": [82, 63, 88],\n",
    "        \"英语\": [84, 90, 78],\n",
    "    }\n",
    ")\n",
    "df1"
   ]
  },
  {
   "cell_type": "code",
   "execution_count": null,
   "id": "a1505d65",
   "metadata": {
    "slideshow": {
     "slide_type": "fragment"
    }
   },
   "outputs": [],
   "source": [
    "df2 = pd.DataFrame(\n",
    "    {\"姓名\": [\"马大帅\", \"陈小虎\"], \"统计学\": [83, 59], \"高数\": [92, 70], \"英语\": [94, 78]}\n",
    ")\n",
    "df2"
   ]
  },
  {
   "cell_type": "markdown",
   "id": "6c06c4d2",
   "metadata": {
    "slideshow": {
     "slide_type": "subslide"
    }
   },
   "source": [
    "两张表具有完全相同的列名，用``concat``合并的代码如下："
   ]
  },
  {
   "cell_type": "code",
   "execution_count": null,
   "id": "9a462116",
   "metadata": {
    "slideshow": {
     "slide_type": "fragment"
    }
   },
   "outputs": [],
   "source": [
    "pd.concat([df1, df2])  #  注意中括号不等丢"
   ]
  },
  {
   "cell_type": "markdown",
   "id": "2b8e7a20",
   "metadata": {
    "slideshow": {
     "slide_type": "subslide"
    }
   },
   "source": [
    "若要合并后的 index 重新命名，可以加参数``ignore_index = True``，让合并后数据的 index 重新从小到大命名："
   ]
  },
  {
   "cell_type": "code",
   "execution_count": null,
   "id": "319310c1",
   "metadata": {
    "slideshow": {
     "slide_type": "fragment"
    }
   },
   "outputs": [],
   "source": [
    "pd.concat([df1, df2], ignore_index=True)"
   ]
  },
  {
   "cell_type": "markdown",
   "id": "87b7f7e3",
   "metadata": {
    "slideshow": {
     "slide_type": "subslide"
    }
   },
   "source": [
    "假如有下面的数据："
   ]
  },
  {
   "cell_type": "code",
   "execution_count": null,
   "id": "cdc1c959",
   "metadata": {
    "slideshow": {
     "slide_type": "fragment"
    }
   },
   "outputs": [],
   "source": [
    "df3 = pd.DataFrame({\"姓名\": [\"张三\", \"李四\", \"王五\"], \"会计\": [75, 78, 80], \"管理学\": [94, 96, 88]})\n",
    "df3"
   ]
  },
  {
   "cell_type": "markdown",
   "id": "b5babbc1",
   "metadata": {
    "slideshow": {
     "slide_type": "subslide"
    }
   },
   "source": [
    "df1 与 df3 的姓名相同，但列名不完全相同。我们想把 df3 的列添加到 df1 中，此时就要使用``merge``方法了，它的使用语法一般如下："
   ]
  },
  {
   "cell_type": "markdown",
   "id": "97494094",
   "metadata": {
    "slideshow": {
     "slide_type": "fragment"
    }
   },
   "source": [
    "<table>\n",
    "    <tr style=\"border-top:solid; border-bottom:solid\">\n",
    "            <th colspan=2 style=\"text-align:center\">DataFrame.merge(right, how='inner', on=None)</th>\n",
    "    </tr>\n",
    "    <tr>\n",
    "        <td style=\"text-align:left\">right</td>\n",
    "        <td style=\"text-align:left\">需要合并的另一个 DataFrame 数据</td>\n",
    "    </tr>\n",
    "    <tr>\n",
    "        <td rowspan=4 style=\"text-align:left\">how</td>\n",
    "        <td style=\"text-align:left\">默认为 'inner'，表示内连接，取两个数据表中匹配字段的交集进行合并</td>\n",
    "    </tr>\n",
    "    <tr>\n",
    "        <td style=\"text-align:left\">'outer'，表示外连接，取两个数据表中匹配字段的并集进行合并</td>\n",
    "    </tr>\n",
    "    <tr>\n",
    "        <td style=\"text-align:left\">'left'，表示左连接，取左边数据表中匹配字段进行合并</td>\n",
    "    </tr>\n",
    "    <tr>\n",
    "        <td style=\"text-align:left\">'right'，表示右连接，取右边数据表中匹配字段进行合并</td>\n",
    "    </tr>\n",
    "    <tr style=\"border-bottom:solid\">\n",
    "        <td  style=\"text-align:left\">on</td>\n",
    "        <td style=\"text-align:left\">匹配的字段（列），可以是一个或多个</td>\n",
    "    </tr>\n",
    "</table>\n",
    "</br>"
   ]
  },
  {
   "cell_type": "markdown",
   "id": "46c56be4",
   "metadata": {
    "slideshow": {
     "slide_type": "subslide"
    }
   },
   "source": [
    "因此，对于 df1 与 df3，用``merge``合并时，匹配的字段（列名）为'姓名'："
   ]
  },
  {
   "cell_type": "code",
   "execution_count": null,
   "id": "02e7f897",
   "metadata": {
    "slideshow": {
     "slide_type": "fragment"
    }
   },
   "outputs": [],
   "source": [
    "df1.merge(df3, on=\"姓名\")"
   ]
  },
  {
   "cell_type": "markdown",
   "id": "07d30bf2",
   "metadata": {
    "slideshow": {
     "slide_type": "subslide"
    }
   },
   "source": [
    "``merge``也能实现``concat``的合并效果，例如，合并 df1 与 df2："
   ]
  },
  {
   "cell_type": "code",
   "execution_count": null,
   "id": "d01b136d",
   "metadata": {
    "slideshow": {
     "slide_type": "fragment"
    }
   },
   "outputs": [],
   "source": [
    "df1.merge(df2, on=[\"姓名\", \"统计学\", \"高数\", \"英语\"], how=\"outer\")"
   ]
  },
  {
   "cell_type": "markdown",
   "id": "e544882a",
   "metadata": {
    "slideshow": {
     "slide_type": "subslide"
    }
   },
   "source": [
    "在上面的代码中，匹配的字段为所有的列，连接方式为外连接，实现结果与``concat``相同。若连接方式为其他类型，显示效果如下："
   ]
  },
  {
   "cell_type": "code",
   "execution_count": null,
   "id": "96ad34c7",
   "metadata": {
    "slideshow": {
     "slide_type": "fragment"
    }
   },
   "outputs": [],
   "source": [
    "df1.merge(df2, on=[\"姓名\", \"统计学\", \"高数\", \"英语\"], how=\"inner\")  # 内连接时两个数据表匹配字段的交集为空"
   ]
  },
  {
   "cell_type": "code",
   "execution_count": null,
   "id": "a6d35a19",
   "metadata": {
    "slideshow": {
     "slide_type": "subslide"
    }
   },
   "outputs": [],
   "source": [
    "df1.merge(df2, on=[\"姓名\", \"统计学\", \"高数\", \"英语\"], how=\"left\")  # 左连接时保留左数据表的所有匹配字段"
   ]
  },
  {
   "cell_type": "code",
   "execution_count": null,
   "id": "0a6017aa",
   "metadata": {
    "slideshow": {
     "slide_type": "fragment"
    }
   },
   "outputs": [],
   "source": [
    "df1.merge(df2, on=[\"姓名\", \"统计学\", \"高数\", \"英语\"], how=\"right\")  # 右连接时保留右数据表的所有匹配字段"
   ]
  },
  {
   "cell_type": "markdown",
   "id": "84bee5c4",
   "metadata": {
    "slideshow": {
     "slide_type": "subslide"
    }
   },
   "source": [
    "在合并数据表时，若某些字段没有对应数据，Pandas 会自动用 NaN 替代，下面的例子展示了不同连接方式的效果。"
   ]
  },
  {
   "cell_type": "code",
   "execution_count": null,
   "id": "2b606e10",
   "metadata": {
    "slideshow": {
     "slide_type": "fragment"
    }
   },
   "outputs": [],
   "source": [
    "df1 = pd.DataFrame(\n",
    "    {\n",
    "        \"班级\": [\"一班\", \"二班\", \"一班\"],\n",
    "        \"姓名\": [\"张三\", \"李四\", \"王五\"],\n",
    "        \"性别\": [\"男\", \"男\", \"女\"],\n",
    "        \"籍贯\": [\"北京\", \"上海\", \"重庆\"],\n",
    "    }\n",
    ")\n",
    "df1"
   ]
  },
  {
   "cell_type": "code",
   "execution_count": null,
   "id": "8f0c5a00",
   "metadata": {
    "slideshow": {
     "slide_type": "subslide"
    }
   },
   "outputs": [],
   "source": [
    "df2 = pd.DataFrame({\"姓名\": [\"张三\", \"陈小虎\"], \"统计学\": [85, 59]})\n",
    "df2"
   ]
  },
  {
   "cell_type": "code",
   "execution_count": null,
   "id": "dcdddc62",
   "metadata": {
    "slideshow": {
     "slide_type": "fragment"
    }
   },
   "outputs": [],
   "source": [
    "df1.merge(df2, on=\"姓名\")"
   ]
  },
  {
   "cell_type": "code",
   "execution_count": null,
   "id": "1aaed36e",
   "metadata": {
    "slideshow": {
     "slide_type": "subslide"
    }
   },
   "outputs": [],
   "source": [
    "df1.merge(df2, on=\"姓名\", how=\"outer\")  # 某些字段没有对应数据，则显示为 NaN"
   ]
  },
  {
   "cell_type": "code",
   "execution_count": null,
   "id": "635b5a96",
   "metadata": {
    "slideshow": {
     "slide_type": "fragment"
    }
   },
   "outputs": [],
   "source": [
    "df1.merge(df2, on=\"姓名\", how=\"left\")"
   ]
  },
  {
   "cell_type": "code",
   "execution_count": null,
   "id": "c944e202",
   "metadata": {
    "slideshow": {
     "slide_type": "subslide"
    }
   },
   "outputs": [],
   "source": [
    "df1.merge(df2, on=\"姓名\", how=\"right\")"
   ]
  },
  {
   "cell_type": "markdown",
   "id": "9e41b0ca",
   "metadata": {
    "slideshow": {
     "slide_type": "slide"
    }
   },
   "source": [
    "## 查询，排序，分组汇总数据\n",
    "<hr>\n",
    "\n",
    "### 查询数据\n",
    "<hr>\n",
    "\n",
    "对 DataFrame 数据按照一定条件查询时，一般会用到一些比较运算符，例如：>, >=, ==, <, <=, !=。条件查询一般只针对列数据，查询时，Pandas 首先生成布尔索引 True 或 False，再通过指定索引生成查询后的数据。\n",
    "\n",
    "例如，下面的代码："
   ]
  },
  {
   "cell_type": "code",
   "execution_count": null,
   "id": "a28edc34",
   "metadata": {
    "slideshow": {
     "slide_type": "subslide"
    }
   },
   "outputs": [],
   "source": [
    "import pandas as pd\n",
    "\n",
    "df = pd.DataFrame(\n",
    "    {\n",
    "        \"姓名\": [\"张三\", \"李四\", \"王五\"],\n",
    "        \"统计学\": [85, 68, 90],\n",
    "        \"高数\": [82, 63, 88],\n",
    "        \"英语\": [84, 90, 78],\n",
    "    }\n",
    ")\n",
    "df"
   ]
  },
  {
   "cell_type": "code",
   "execution_count": null,
   "id": "e21ead6a",
   "metadata": {
    "slideshow": {
     "slide_type": "fragment"
    }
   },
   "outputs": [],
   "source": [
    "df[\"统计学\"] > 83  # 统计学成绩大于83的布尔索引"
   ]
  },
  {
   "cell_type": "code",
   "execution_count": null,
   "id": "e46f292a",
   "metadata": {
    "slideshow": {
     "slide_type": "subslide"
    }
   },
   "outputs": [],
   "source": [
    "df[df[\"统计学\"] > 83]  # 生成统计学成绩大于83的数据"
   ]
  },
  {
   "cell_type": "markdown",
   "id": "3b616abd",
   "metadata": {
    "slideshow": {
     "slide_type": "subslide"
    }
   },
   "source": [
    "对于多条件查询，可以用``&``表示并：两个条件都要满足，用``|``表示或：两个条件满足一个即可。举例："
   ]
  },
  {
   "cell_type": "code",
   "execution_count": null,
   "id": "74ff6b20",
   "metadata": {
    "slideshow": {
     "slide_type": "fragment"
    }
   },
   "outputs": [],
   "source": [
    "df[(df[\"高数\"] > 65) & (df[\"英语\"] > 80)]  # 查询高数成绩大于65，英语成绩大于80的数据，注意小括号"
   ]
  },
  {
   "cell_type": "code",
   "execution_count": null,
   "id": "62995d74",
   "metadata": {
    "slideshow": {
     "slide_type": "subslide"
    }
   },
   "outputs": [],
   "source": [
    "df[(df[\"高数\"] > 65) | (df[\"英语\"] > 80)]  # 查询高数成绩大于65，英语成绩大于80的数据，注意小括号"
   ]
  },
  {
   "cell_type": "markdown",
   "id": "7f62e979",
   "metadata": {
    "slideshow": {
     "slide_type": "slide"
    }
   },
   "source": [
    "### 排序数据\n",
    "<hr>\n",
    "\n",
    "在处理数据时，经常要对数据排序。 Pandas 提供了一个方便的函数``sort_values``对数值进行排序，它的使用语法如下：\n",
    "\n",
    "<table>\n",
    "     <tr style=\"border-top:solid; border-bottom:solid\">\n",
    "            <th colspan=2 style=\"text-align:center\">DataFrame.sort_values(by, axis=0, ascending=True, inplace=False,  na_position='last', ignore_index=False)</th>\n",
    "    </tr>\n",
    "    <tr>\n",
    "        <td style=\"text-align:left\">by</td>\n",
    "        <td style=\"text-align:left\">需要排序的列名(axis=0)或行名(axis=1)，可以有多个</td>\n",
    "    </tr>\n",
    "    <tr>\n",
    "        <td style=\"text-align:left\">axis</td>\n",
    "        <td style=\"text-align:left\">0 表示对列排序，1 表示对行排序，默认是0</td>\n",
    "    </tr>\n",
    "    <tr>\n",
    "        <td style=\"text-align:left\">ascending</td>\n",
    "        <td style=\"text-align:left\">升序还是降序，默认是升序排列</td>\n",
    "    </tr>\n",
    "    <tr>\n",
    "        <td style=\"text-align:left\">inplace</td>\n",
    "        <td style=\"text-align:left\">是否替换原有数据，默认为 False 不替换</td>\n",
    "    </tr>\n",
    "    <tr>\n",
    "        <td style=\"text-align:left\">na_position</td>\n",
    "        <td style=\"text-align:left\">缺失值 NaN 放在排序的前面还是后面，默认是放在后面</td>\n",
    "    </tr>\n",
    "    <tr style=\"border-bottom:solid\">\n",
    "        <td style=\"text-align:left\">ignore_index</td>\n",
    "        <td style=\"text-align:left\">如果为 True，则排序后的行号重新标号，默认是 False</td>\n",
    "    </tr>\n",
    "</table>\n",
    "</br>"
   ]
  },
  {
   "cell_type": "markdown",
   "id": "61513a93",
   "metadata": {
    "slideshow": {
     "slide_type": "subslide"
    }
   },
   "source": [
    "对统计学成绩升序排列："
   ]
  },
  {
   "cell_type": "code",
   "execution_count": null,
   "id": "5d9709e7",
   "metadata": {
    "slideshow": {
     "slide_type": "fragment"
    }
   },
   "outputs": [],
   "source": [
    "df.sort_values(by=\"统计学\")"
   ]
  },
  {
   "cell_type": "markdown",
   "id": "cbd55601",
   "metadata": {
    "slideshow": {
     "slide_type": "subslide"
    }
   },
   "source": [
    "对统计学与高数成绩降序排序："
   ]
  },
  {
   "cell_type": "code",
   "execution_count": null,
   "id": "f002964e",
   "metadata": {
    "slideshow": {
     "slide_type": "fragment"
    }
   },
   "outputs": [],
   "source": [
    "df.sort_values(by=[\"统计学\", \"高数\"], ascending=False)"
   ]
  },
  {
   "cell_type": "markdown",
   "id": "5258fba8",
   "metadata": {
    "slideshow": {
     "slide_type": "subslide"
    }
   },
   "source": [
    "在参数``by``中，统计学在前，高数在后，表示：先把统计学成绩降序排序，若统计学成绩有相同的，再按高数成绩降序排序。\n",
    "\n",
    "由于排序时列标签经常被打乱，可以使用``ignore_index = True``重新排列标签，``inplace = True``改变原始数据。"
   ]
  },
  {
   "cell_type": "code",
   "execution_count": null,
   "id": "b8dbf0c1",
   "metadata": {
    "slideshow": {
     "slide_type": "fragment"
    }
   },
   "outputs": [],
   "source": [
    "df.sort_values(by=\"统计学\")  # 排序，可以看出列标也发生了变动"
   ]
  },
  {
   "cell_type": "code",
   "execution_count": null,
   "id": "c9952b88",
   "metadata": {
    "slideshow": {
     "slide_type": "subslide"
    }
   },
   "outputs": [],
   "source": [
    "df.sort_values(by=\"统计学\", ignore_index=True)  # 排序后重新排列标签"
   ]
  },
  {
   "cell_type": "code",
   "execution_count": null,
   "id": "7e7fa43b",
   "metadata": {
    "slideshow": {
     "slide_type": "fragment"
    }
   },
   "outputs": [],
   "source": [
    "df.sort_values(by=\"统计学\", ignore_index=True)  # 排序后，没有替换原始数据\n",
    "df"
   ]
  },
  {
   "cell_type": "code",
   "execution_count": null,
   "id": "431c937c",
   "metadata": {
    "slideshow": {
     "slide_type": "subslide"
    }
   },
   "outputs": [],
   "source": [
    "df.sort_values(by=\"统计学\", ignore_index=True, inplace=True)  # 排序后，替换了原始数据\n",
    "df"
   ]
  },
  {
   "cell_type": "markdown",
   "id": "d9246bd0",
   "metadata": {
    "slideshow": {
     "slide_type": "slide"
    }
   },
   "source": [
    "### 分组汇总`groupby`\n",
    "<hr>\n",
    "\n",
    "在数据分析时，经常也需要将数据分组汇总。例如，在统计学生的期末考试成绩时，可能需要根据专业或者班级来分别计算平均成绩、最高成绩等。此时，可以利用 Pandas 的``groupby``函数方便地实现这些功能。\n",
    "\n",
    "groupby 经常结合一些汇总统计量使用，例如 mean（均值），max（最大值），min（最小值），median（中位数），std（标准差），mad（平均绝对偏差），count（计数），size(也是计数), skew（均值），quantile（分位数）。\n",
    "\n",
    "下面的代码按性别汇总了平均成绩："
   ]
  },
  {
   "cell_type": "code",
   "execution_count": 98,
   "id": "48c78afd",
   "metadata": {
    "slideshow": {
     "slide_type": "subslide"
    }
   },
   "outputs": [
    {
     "data": {
      "text/html": [
       "<div>\n",
       "<style scoped>\n",
       "    .dataframe tbody tr th:only-of-type {\n",
       "        vertical-align: middle;\n",
       "    }\n",
       "\n",
       "    .dataframe tbody tr th {\n",
       "        vertical-align: top;\n",
       "    }\n",
       "\n",
       "    .dataframe thead th {\n",
       "        text-align: right;\n",
       "    }\n",
       "</style>\n",
       "<table border=\"1\" class=\"dataframe\">\n",
       "  <thead>\n",
       "    <tr style=\"text-align: right;\">\n",
       "      <th></th>\n",
       "      <th>姓名</th>\n",
       "      <th>班级</th>\n",
       "      <th>性别</th>\n",
       "      <th>统计学</th>\n",
       "      <th>高数</th>\n",
       "      <th>英语</th>\n",
       "    </tr>\n",
       "  </thead>\n",
       "  <tbody>\n",
       "    <tr>\n",
       "      <th>0</th>\n",
       "      <td>张三</td>\n",
       "      <td>一班</td>\n",
       "      <td>男</td>\n",
       "      <td>85</td>\n",
       "      <td>68</td>\n",
       "      <td>90</td>\n",
       "    </tr>\n",
       "    <tr>\n",
       "      <th>1</th>\n",
       "      <td>李四</td>\n",
       "      <td>二班</td>\n",
       "      <td>男</td>\n",
       "      <td>82</td>\n",
       "      <td>63</td>\n",
       "      <td>88</td>\n",
       "    </tr>\n",
       "    <tr>\n",
       "      <th>2</th>\n",
       "      <td>王五</td>\n",
       "      <td>二班</td>\n",
       "      <td>女</td>\n",
       "      <td>84</td>\n",
       "      <td>90</td>\n",
       "      <td>78</td>\n",
       "    </tr>\n",
       "    <tr>\n",
       "      <th>3</th>\n",
       "      <td>魏小小</td>\n",
       "      <td>三班</td>\n",
       "      <td>女</td>\n",
       "      <td>75</td>\n",
       "      <td>68</td>\n",
       "      <td>80</td>\n",
       "    </tr>\n",
       "    <tr>\n",
       "      <th>4</th>\n",
       "      <td>马小倩</td>\n",
       "      <td>二班</td>\n",
       "      <td>女</td>\n",
       "      <td>69</td>\n",
       "      <td>55</td>\n",
       "      <td>63</td>\n",
       "    </tr>\n",
       "    <tr>\n",
       "      <th>5</th>\n",
       "      <td>陈小虎</td>\n",
       "      <td>一班</td>\n",
       "      <td>男</td>\n",
       "      <td>89</td>\n",
       "      <td>95</td>\n",
       "      <td>93</td>\n",
       "    </tr>\n",
       "  </tbody>\n",
       "</table>\n",
       "</div>"
      ],
      "text/plain": [
       "    姓名  班级 性别  统计学  高数  英语\n",
       "0   张三  一班  男   85  68  90\n",
       "1   李四  二班  男   82  63  88\n",
       "2   王五  二班  女   84  90  78\n",
       "3  魏小小  三班  女   75  68  80\n",
       "4  马小倩  二班  女   69  55  63\n",
       "5  陈小虎  一班  男   89  95  93"
      ]
     },
     "execution_count": 98,
     "metadata": {},
     "output_type": "execute_result"
    }
   ],
   "source": [
    "df = pd.DataFrame(\n",
    "    [\n",
    "        [\"张三\", \"一班\", \"男\", 85, 68, 90],\n",
    "        [\"李四\", \"二班\", \"男\", 82, 63, 88],\n",
    "        [\"王五\", \"二班\", \"女\", 84, 90, 78],\n",
    "        [\"魏小小\", \"三班\", \"女\", 75, 68, 80],\n",
    "        [\"马小倩\", \"二班\", \"女\", 69, 55, 63],\n",
    "        [\"陈小虎\", \"一班\", \"男\", 89, 95, 93],\n",
    "    ],\n",
    "    columns=[\"姓名\", \"班级\", \"性别\", \"统计学\", \"高数\", \"英语\"],\n",
    ")\n",
    "df"
   ]
  },
  {
   "cell_type": "code",
   "execution_count": 99,
   "id": "621aef8e",
   "metadata": {},
   "outputs": [
    {
     "data": {
      "text/html": [
       "<div>\n",
       "<style scoped>\n",
       "    .dataframe tbody tr th:only-of-type {\n",
       "        vertical-align: middle;\n",
       "    }\n",
       "\n",
       "    .dataframe tbody tr th {\n",
       "        vertical-align: top;\n",
       "    }\n",
       "\n",
       "    .dataframe thead th {\n",
       "        text-align: right;\n",
       "    }\n",
       "</style>\n",
       "<table border=\"1\" class=\"dataframe\">\n",
       "  <thead>\n",
       "    <tr style=\"text-align: right;\">\n",
       "      <th></th>\n",
       "      <th>姓名</th>\n",
       "      <th>班级</th>\n",
       "      <th>统计学</th>\n",
       "      <th>高数</th>\n",
       "      <th>英语</th>\n",
       "    </tr>\n",
       "    <tr>\n",
       "      <th>性别</th>\n",
       "      <th></th>\n",
       "      <th></th>\n",
       "      <th></th>\n",
       "      <th></th>\n",
       "      <th></th>\n",
       "    </tr>\n",
       "  </thead>\n",
       "  <tbody>\n",
       "    <tr>\n",
       "      <th>女</th>\n",
       "      <td>3</td>\n",
       "      <td>3</td>\n",
       "      <td>3</td>\n",
       "      <td>3</td>\n",
       "      <td>3</td>\n",
       "    </tr>\n",
       "    <tr>\n",
       "      <th>男</th>\n",
       "      <td>3</td>\n",
       "      <td>3</td>\n",
       "      <td>3</td>\n",
       "      <td>3</td>\n",
       "      <td>3</td>\n",
       "    </tr>\n",
       "  </tbody>\n",
       "</table>\n",
       "</div>"
      ],
      "text/plain": [
       "    姓名  班级  统计学  高数  英语\n",
       "性别                     \n",
       "女    3   3    3   3   3\n",
       "男    3   3    3   3   3"
      ]
     },
     "execution_count": 99,
     "metadata": {},
     "output_type": "execute_result"
    }
   ],
   "source": [
    "df.groupby(\"性别\").count()"
   ]
  },
  {
   "cell_type": "code",
   "execution_count": 100,
   "id": "d3de1613",
   "metadata": {},
   "outputs": [
    {
     "data": {
      "text/plain": [
       "性别\n",
       "女    3\n",
       "男    3\n",
       "dtype: int64"
      ]
     },
     "execution_count": 100,
     "metadata": {},
     "output_type": "execute_result"
    }
   ],
   "source": [
    "df.groupby(\"性别\").size()  # 与 count 略有区别"
   ]
  },
  {
   "cell_type": "code",
   "execution_count": 101,
   "id": "ac2f2794",
   "metadata": {},
   "outputs": [
    {
     "data": {
      "text/plain": [
       "性别\n",
       "女    3\n",
       "男    3\n",
       "dtype: int64"
      ]
     },
     "execution_count": 101,
     "metadata": {},
     "output_type": "execute_result"
    }
   ],
   "source": [
    "df2 = df.groupby(\"性别\").size()\n",
    "df2"
   ]
  },
  {
   "cell_type": "code",
   "execution_count": 102,
   "id": "0065022f",
   "metadata": {
    "slideshow": {
     "slide_type": "subslide"
    }
   },
   "outputs": [
    {
     "data": {
      "text/html": [
       "<div>\n",
       "<style scoped>\n",
       "    .dataframe tbody tr th:only-of-type {\n",
       "        vertical-align: middle;\n",
       "    }\n",
       "\n",
       "    .dataframe tbody tr th {\n",
       "        vertical-align: top;\n",
       "    }\n",
       "\n",
       "    .dataframe thead th {\n",
       "        text-align: right;\n",
       "    }\n",
       "</style>\n",
       "<table border=\"1\" class=\"dataframe\">\n",
       "  <thead>\n",
       "    <tr style=\"text-align: right;\">\n",
       "      <th></th>\n",
       "      <th>统计学</th>\n",
       "      <th>高数</th>\n",
       "      <th>英语</th>\n",
       "    </tr>\n",
       "    <tr>\n",
       "      <th>性别</th>\n",
       "      <th></th>\n",
       "      <th></th>\n",
       "      <th></th>\n",
       "    </tr>\n",
       "  </thead>\n",
       "  <tbody>\n",
       "    <tr>\n",
       "      <th>女</th>\n",
       "      <td>76.000000</td>\n",
       "      <td>71.000000</td>\n",
       "      <td>73.666667</td>\n",
       "    </tr>\n",
       "    <tr>\n",
       "      <th>男</th>\n",
       "      <td>85.333333</td>\n",
       "      <td>75.333333</td>\n",
       "      <td>90.333333</td>\n",
       "    </tr>\n",
       "  </tbody>\n",
       "</table>\n",
       "</div>"
      ],
      "text/plain": [
       "          统计学         高数         英语\n",
       "性别                                 \n",
       "女   76.000000  71.000000  73.666667\n",
       "男   85.333333  75.333333  90.333333"
      ]
     },
     "execution_count": 102,
     "metadata": {},
     "output_type": "execute_result"
    }
   ],
   "source": [
    "df.groupby(\"性别\").mean(\n",
    "    numeric_only=True\n",
    ")  # 按性别汇总平均成绩, numeric_only = True 表示仅选择对函数有效的数据列"
   ]
  },
  {
   "cell_type": "code",
   "execution_count": 103,
   "id": "21382a3e",
   "metadata": {
    "slideshow": {
     "slide_type": "fragment"
    }
   },
   "outputs": [
    {
     "data": {
      "text/html": [
       "<div>\n",
       "<style scoped>\n",
       "    .dataframe tbody tr th:only-of-type {\n",
       "        vertical-align: middle;\n",
       "    }\n",
       "\n",
       "    .dataframe tbody tr th {\n",
       "        vertical-align: top;\n",
       "    }\n",
       "\n",
       "    .dataframe thead th {\n",
       "        text-align: right;\n",
       "    }\n",
       "</style>\n",
       "<table border=\"1\" class=\"dataframe\">\n",
       "  <thead>\n",
       "    <tr style=\"text-align: right;\">\n",
       "      <th></th>\n",
       "      <th></th>\n",
       "      <th>统计学</th>\n",
       "      <th>高数</th>\n",
       "      <th>英语</th>\n",
       "    </tr>\n",
       "    <tr>\n",
       "      <th>班级</th>\n",
       "      <th>性别</th>\n",
       "      <th></th>\n",
       "      <th></th>\n",
       "      <th></th>\n",
       "    </tr>\n",
       "  </thead>\n",
       "  <tbody>\n",
       "    <tr>\n",
       "      <th>一班</th>\n",
       "      <th>男</th>\n",
       "      <td>87.0</td>\n",
       "      <td>81.5</td>\n",
       "      <td>91.5</td>\n",
       "    </tr>\n",
       "    <tr>\n",
       "      <th>三班</th>\n",
       "      <th>女</th>\n",
       "      <td>75.0</td>\n",
       "      <td>68.0</td>\n",
       "      <td>80.0</td>\n",
       "    </tr>\n",
       "    <tr>\n",
       "      <th rowspan=\"2\" valign=\"top\">二班</th>\n",
       "      <th>女</th>\n",
       "      <td>76.5</td>\n",
       "      <td>72.5</td>\n",
       "      <td>70.5</td>\n",
       "    </tr>\n",
       "    <tr>\n",
       "      <th>男</th>\n",
       "      <td>82.0</td>\n",
       "      <td>63.0</td>\n",
       "      <td>88.0</td>\n",
       "    </tr>\n",
       "  </tbody>\n",
       "</table>\n",
       "</div>"
      ],
      "text/plain": [
       "        统计学    高数    英语\n",
       "班级 性别                  \n",
       "一班 男   87.0  81.5  91.5\n",
       "三班 女   75.0  68.0  80.0\n",
       "二班 女   76.5  72.5  70.5\n",
       "   男   82.0  63.0  88.0"
      ]
     },
     "execution_count": 103,
     "metadata": {},
     "output_type": "execute_result"
    }
   ],
   "source": [
    "df.groupby([\"班级\", \"性别\"]).mean(numeric_only=True)  # 按班级、性别汇总平均成绩"
   ]
  },
  {
   "cell_type": "markdown",
   "id": "f87b26d7",
   "metadata": {
    "slideshow": {
     "slide_type": "subslide"
    }
   },
   "source": [
    "也可以将汇总后的数据赋值给一个新的 DataFrame 变量："
   ]
  },
  {
   "cell_type": "code",
   "execution_count": 104,
   "id": "b105d355",
   "metadata": {
    "slideshow": {
     "slide_type": "fragment"
    }
   },
   "outputs": [
    {
     "data": {
      "text/html": [
       "<div>\n",
       "<style scoped>\n",
       "    .dataframe tbody tr th:only-of-type {\n",
       "        vertical-align: middle;\n",
       "    }\n",
       "\n",
       "    .dataframe tbody tr th {\n",
       "        vertical-align: top;\n",
       "    }\n",
       "\n",
       "    .dataframe thead th {\n",
       "        text-align: right;\n",
       "    }\n",
       "</style>\n",
       "<table border=\"1\" class=\"dataframe\">\n",
       "  <thead>\n",
       "    <tr style=\"text-align: right;\">\n",
       "      <th></th>\n",
       "      <th></th>\n",
       "      <th>统计学</th>\n",
       "      <th>高数</th>\n",
       "      <th>英语</th>\n",
       "    </tr>\n",
       "    <tr>\n",
       "      <th>班级</th>\n",
       "      <th>性别</th>\n",
       "      <th></th>\n",
       "      <th></th>\n",
       "      <th></th>\n",
       "    </tr>\n",
       "  </thead>\n",
       "  <tbody>\n",
       "    <tr>\n",
       "      <th>一班</th>\n",
       "      <th>男</th>\n",
       "      <td>87.0</td>\n",
       "      <td>81.5</td>\n",
       "      <td>91.5</td>\n",
       "    </tr>\n",
       "    <tr>\n",
       "      <th>三班</th>\n",
       "      <th>女</th>\n",
       "      <td>75.0</td>\n",
       "      <td>68.0</td>\n",
       "      <td>80.0</td>\n",
       "    </tr>\n",
       "    <tr>\n",
       "      <th rowspan=\"2\" valign=\"top\">二班</th>\n",
       "      <th>女</th>\n",
       "      <td>76.5</td>\n",
       "      <td>72.5</td>\n",
       "      <td>70.5</td>\n",
       "    </tr>\n",
       "    <tr>\n",
       "      <th>男</th>\n",
       "      <td>82.0</td>\n",
       "      <td>63.0</td>\n",
       "      <td>88.0</td>\n",
       "    </tr>\n",
       "  </tbody>\n",
       "</table>\n",
       "</div>"
      ],
      "text/plain": [
       "        统计学    高数    英语\n",
       "班级 性别                  \n",
       "一班 男   87.0  81.5  91.5\n",
       "三班 女   75.0  68.0  80.0\n",
       "二班 女   76.5  72.5  70.5\n",
       "   男   82.0  63.0  88.0"
      ]
     },
     "execution_count": 104,
     "metadata": {},
     "output_type": "execute_result"
    }
   ],
   "source": [
    "df2 = df.groupby([\"班级\", \"性别\"]).mean(numeric_only=True)  # 按班级、性别汇总平均成绩\n",
    "df2"
   ]
  },
  {
   "cell_type": "code",
   "execution_count": 105,
   "id": "08fd06c8",
   "metadata": {
    "slideshow": {
     "slide_type": "subslide"
    }
   },
   "outputs": [
    {
     "data": {
      "text/plain": [
       "MultiIndex([('一班', '男'),\n",
       "            ('三班', '女'),\n",
       "            ('二班', '女'),\n",
       "            ('二班', '男')],\n",
       "           names=['班级', '性别'])"
      ]
     },
     "execution_count": 105,
     "metadata": {},
     "output_type": "execute_result"
    }
   ],
   "source": [
    "df2.index"
   ]
  },
  {
   "cell_type": "markdown",
   "id": "cfcc830c",
   "metadata": {
    "slideshow": {
     "slide_type": "fragment"
    }
   },
   "source": [
    "汇总后，发现分类汇总的类别作为新的 index 了（一列或多列分类汇总都是这样）。可以通过加一个参数`as_index=False`设置。"
   ]
  },
  {
   "cell_type": "code",
   "execution_count": 106,
   "id": "4986dd99",
   "metadata": {
    "slideshow": {
     "slide_type": "subslide"
    }
   },
   "outputs": [
    {
     "data": {
      "text/html": [
       "<div>\n",
       "<style scoped>\n",
       "    .dataframe tbody tr th:only-of-type {\n",
       "        vertical-align: middle;\n",
       "    }\n",
       "\n",
       "    .dataframe tbody tr th {\n",
       "        vertical-align: top;\n",
       "    }\n",
       "\n",
       "    .dataframe thead th {\n",
       "        text-align: right;\n",
       "    }\n",
       "</style>\n",
       "<table border=\"1\" class=\"dataframe\">\n",
       "  <thead>\n",
       "    <tr style=\"text-align: right;\">\n",
       "      <th></th>\n",
       "      <th>班级</th>\n",
       "      <th>性别</th>\n",
       "      <th>统计学</th>\n",
       "      <th>高数</th>\n",
       "      <th>英语</th>\n",
       "    </tr>\n",
       "  </thead>\n",
       "  <tbody>\n",
       "    <tr>\n",
       "      <th>0</th>\n",
       "      <td>一班</td>\n",
       "      <td>男</td>\n",
       "      <td>87.0</td>\n",
       "      <td>81.5</td>\n",
       "      <td>91.5</td>\n",
       "    </tr>\n",
       "    <tr>\n",
       "      <th>1</th>\n",
       "      <td>三班</td>\n",
       "      <td>女</td>\n",
       "      <td>75.0</td>\n",
       "      <td>68.0</td>\n",
       "      <td>80.0</td>\n",
       "    </tr>\n",
       "    <tr>\n",
       "      <th>2</th>\n",
       "      <td>二班</td>\n",
       "      <td>女</td>\n",
       "      <td>76.5</td>\n",
       "      <td>72.5</td>\n",
       "      <td>70.5</td>\n",
       "    </tr>\n",
       "    <tr>\n",
       "      <th>3</th>\n",
       "      <td>二班</td>\n",
       "      <td>男</td>\n",
       "      <td>82.0</td>\n",
       "      <td>63.0</td>\n",
       "      <td>88.0</td>\n",
       "    </tr>\n",
       "  </tbody>\n",
       "</table>\n",
       "</div>"
      ],
      "text/plain": [
       "   班级 性别   统计学    高数    英语\n",
       "0  一班  男  87.0  81.5  91.5\n",
       "1  三班  女  75.0  68.0  80.0\n",
       "2  二班  女  76.5  72.5  70.5\n",
       "3  二班  男  82.0  63.0  88.0"
      ]
     },
     "execution_count": 106,
     "metadata": {},
     "output_type": "execute_result"
    }
   ],
   "source": [
    "df2 = df.groupby([\"班级\", \"性别\"], as_index=False).mean(numeric_only=True)  # 按班级、性别汇总平均成绩\n",
    "df2"
   ]
  },
  {
   "cell_type": "markdown",
   "id": "b24ae7f6",
   "metadata": {
    "slideshow": {
     "slide_type": "subslide"
    }
   },
   "source": [
    "若要汇总多个统计量，则可以跟``agg``方法，例如，下面的代码按照班级与性别，汇总了每个班的最高、最低、平均成绩。"
   ]
  },
  {
   "cell_type": "code",
   "execution_count": 107,
   "id": "333b3e2c",
   "metadata": {
    "scrolled": true,
    "slideshow": {
     "slide_type": "fragment"
    }
   },
   "outputs": [
    {
     "data": {
      "text/html": [
       "<div>\n",
       "<style scoped>\n",
       "    .dataframe tbody tr th:only-of-type {\n",
       "        vertical-align: middle;\n",
       "    }\n",
       "\n",
       "    .dataframe tbody tr th {\n",
       "        vertical-align: top;\n",
       "    }\n",
       "\n",
       "    .dataframe thead tr th {\n",
       "        text-align: left;\n",
       "    }\n",
       "\n",
       "    .dataframe thead tr:last-of-type th {\n",
       "        text-align: right;\n",
       "    }\n",
       "</style>\n",
       "<table border=\"1\" class=\"dataframe\">\n",
       "  <thead>\n",
       "    <tr>\n",
       "      <th></th>\n",
       "      <th></th>\n",
       "      <th colspan=\"3\" halign=\"left\">统计学</th>\n",
       "      <th colspan=\"3\" halign=\"left\">高数</th>\n",
       "      <th colspan=\"3\" halign=\"left\">英语</th>\n",
       "    </tr>\n",
       "    <tr>\n",
       "      <th></th>\n",
       "      <th></th>\n",
       "      <th>max</th>\n",
       "      <th>min</th>\n",
       "      <th>mean</th>\n",
       "      <th>max</th>\n",
       "      <th>min</th>\n",
       "      <th>mean</th>\n",
       "      <th>max</th>\n",
       "      <th>min</th>\n",
       "      <th>mean</th>\n",
       "    </tr>\n",
       "    <tr>\n",
       "      <th>班级</th>\n",
       "      <th>性别</th>\n",
       "      <th></th>\n",
       "      <th></th>\n",
       "      <th></th>\n",
       "      <th></th>\n",
       "      <th></th>\n",
       "      <th></th>\n",
       "      <th></th>\n",
       "      <th></th>\n",
       "      <th></th>\n",
       "    </tr>\n",
       "  </thead>\n",
       "  <tbody>\n",
       "    <tr>\n",
       "      <th>一班</th>\n",
       "      <th>男</th>\n",
       "      <td>87.0</td>\n",
       "      <td>87.0</td>\n",
       "      <td>87.0</td>\n",
       "      <td>81.5</td>\n",
       "      <td>81.5</td>\n",
       "      <td>81.5</td>\n",
       "      <td>91.5</td>\n",
       "      <td>91.5</td>\n",
       "      <td>91.5</td>\n",
       "    </tr>\n",
       "    <tr>\n",
       "      <th>三班</th>\n",
       "      <th>女</th>\n",
       "      <td>75.0</td>\n",
       "      <td>75.0</td>\n",
       "      <td>75.0</td>\n",
       "      <td>68.0</td>\n",
       "      <td>68.0</td>\n",
       "      <td>68.0</td>\n",
       "      <td>80.0</td>\n",
       "      <td>80.0</td>\n",
       "      <td>80.0</td>\n",
       "    </tr>\n",
       "    <tr>\n",
       "      <th rowspan=\"2\" valign=\"top\">二班</th>\n",
       "      <th>女</th>\n",
       "      <td>76.5</td>\n",
       "      <td>76.5</td>\n",
       "      <td>76.5</td>\n",
       "      <td>72.5</td>\n",
       "      <td>72.5</td>\n",
       "      <td>72.5</td>\n",
       "      <td>70.5</td>\n",
       "      <td>70.5</td>\n",
       "      <td>70.5</td>\n",
       "    </tr>\n",
       "    <tr>\n",
       "      <th>男</th>\n",
       "      <td>82.0</td>\n",
       "      <td>82.0</td>\n",
       "      <td>82.0</td>\n",
       "      <td>63.0</td>\n",
       "      <td>63.0</td>\n",
       "      <td>63.0</td>\n",
       "      <td>88.0</td>\n",
       "      <td>88.0</td>\n",
       "      <td>88.0</td>\n",
       "    </tr>\n",
       "  </tbody>\n",
       "</table>\n",
       "</div>"
      ],
      "text/plain": [
       "        统计学                高数                英语            \n",
       "        max   min  mean   max   min  mean   max   min  mean\n",
       "班级 性别                                                      \n",
       "一班 男   87.0  87.0  87.0  81.5  81.5  81.5  91.5  91.5  91.5\n",
       "三班 女   75.0  75.0  75.0  68.0  68.0  68.0  80.0  80.0  80.0\n",
       "二班 女   76.5  76.5  76.5  72.5  72.5  72.5  70.5  70.5  70.5\n",
       "   男   82.0  82.0  82.0  63.0  63.0  63.0  88.0  88.0  88.0"
      ]
     },
     "execution_count": 107,
     "metadata": {},
     "output_type": "execute_result"
    }
   ],
   "source": [
    "df2.groupby([\"班级\", \"性别\"]).agg([\"max\", \"min\", \"mean\"], numeric_only=True)  # 汇总了每个班每个性别的最高、最低、平均成绩"
   ]
  },
  {
   "cell_type": "markdown",
   "id": "326b6cc2",
   "metadata": {},
   "source": [
    "### ``reset_index``函数\n",
    "<hr>\n",
    "\n",
    "也可以在 groupby 函数后面再使用函数`reset_index`将多个index作为新的列标题。 "
   ]
  },
  {
   "cell_type": "code",
   "execution_count": null,
   "id": "8a8fe0ae",
   "metadata": {},
   "outputs": [],
   "source": [
    "df2 = df.groupby([\"班级\", \"性别\"]).mean(numeric_only=True).reset_index()  # 按班级、性别汇总平均成绩\n",
    "df2"
   ]
  },
  {
   "cell_type": "markdown",
   "id": "b47dd8e1",
   "metadata": {},
   "source": [
    "函数`reset_index`可以跟`drop=True`参数去除 index。"
   ]
  },
  {
   "cell_type": "code",
   "execution_count": null,
   "id": "1c438285",
   "metadata": {},
   "outputs": [],
   "source": [
    "df2 = (\n",
    "    df.groupby([\"班级\", \"性别\"]).mean(numeric_only=True).reset_index(drop=True)\n",
    ")  # 按班级、性别汇总平均成绩\n",
    "df2"
   ]
  },
  {
   "cell_type": "markdown",
   "id": "9606c0ee",
   "metadata": {},
   "source": [
    "函数`reset_index`还可以跟 names 参数重新定义列标题的名字。"
   ]
  },
  {
   "cell_type": "code",
   "execution_count": null,
   "id": "f401be8f",
   "metadata": {},
   "outputs": [],
   "source": [
    "df2 = (\n",
    "    df.groupby([\"班级\", \"性别\"]).mean(numeric_only=True).reset_index(names=[\"class\", \"sex\"])\n",
    ")  # 按班级、性别汇总平均成绩\n",
    "df2"
   ]
  },
  {
   "cell_type": "code",
   "execution_count": null,
   "id": "4f8eddba",
   "metadata": {
    "slideshow": {
     "slide_type": "fragment"
    }
   },
   "outputs": [],
   "source": [
    "df2.columns"
   ]
  },
  {
   "cell_type": "markdown",
   "id": "f940d984",
   "metadata": {
    "slideshow": {
     "slide_type": "slide"
    }
   },
   "source": [
    "## 与数组或列表的转换\n",
    "<hr>"
   ]
  },
  {
   "cell_type": "markdown",
   "id": "d9f61aed",
   "metadata": {
    "slideshow": {
     "slide_type": "fragment"
    }
   },
   "source": [
    "使用 Pandas 中的``values``方法可以将 DataFrame 数据转化为 Numpy 的数组形式。例如，对于前面的数据例子："
   ]
  },
  {
   "cell_type": "code",
   "execution_count": null,
   "id": "3ca186de",
   "metadata": {
    "slideshow": {
     "slide_type": "fragment"
    }
   },
   "outputs": [],
   "source": [
    "df = pd.DataFrame(\n",
    "    {\n",
    "        \"姓名\": [\"张三\", \"李四\", \"王五\"],\n",
    "        \"统计学\": [85, 68, 90],\n",
    "        \"高数\": [82, 63, 88],\n",
    "        \"英语\": [84, 90, 78],\n",
    "    }\n",
    ")\n",
    "df[[\"统计学\", \"高数\", \"英语\"]].values"
   ]
  },
  {
   "cell_type": "markdown",
   "id": "806f8657",
   "metadata": {
    "slideshow": {
     "slide_type": "subslide"
    }
   },
   "source": [
    "也可以对某列数据，使用``tolist()``方法，将该列数据转化为 Python 本身的列表类型 list："
   ]
  },
  {
   "cell_type": "code",
   "execution_count": null,
   "id": "afeac2df",
   "metadata": {
    "slideshow": {
     "slide_type": "fragment"
    }
   },
   "outputs": [],
   "source": [
    "df[\"统计学\"].tolist()"
   ]
  },
  {
   "cell_type": "markdown",
   "id": "81ee5c62",
   "metadata": {
    "slideshow": {
     "slide_type": "subslide"
    }
   },
   "source": [
    "除了字典类型外，Pandas 也支持将一维或二维的数组或列表转化成 DataFrame 类型。"
   ]
  },
  {
   "cell_type": "code",
   "execution_count": null,
   "id": "05fa7eef",
   "metadata": {
    "slideshow": {
     "slide_type": "fragment"
    }
   },
   "outputs": [],
   "source": [
    "a = [1, 2, 3]\n",
    "pd.DataFrame(a)"
   ]
  },
  {
   "cell_type": "code",
   "execution_count": null,
   "id": "345a5fb4",
   "metadata": {
    "slideshow": {
     "slide_type": "subslide"
    }
   },
   "outputs": [],
   "source": [
    "a = [[1, 2, 3], [4, 5, 6]]\n",
    "pd.DataFrame(a)"
   ]
  },
  {
   "cell_type": "code",
   "execution_count": null,
   "id": "b406f773",
   "metadata": {
    "slideshow": {
     "slide_type": "subslide"
    }
   },
   "outputs": [],
   "source": [
    "import numpy as np\n",
    "\n",
    "b = np.array([3, 3, 4])\n",
    "pd.DataFrame(b)"
   ]
  },
  {
   "cell_type": "code",
   "execution_count": null,
   "id": "1d47b710",
   "metadata": {
    "slideshow": {
     "slide_type": "fragment"
    }
   },
   "outputs": [],
   "source": [
    "c = np.matrix([[1, 2], [3, 4]])\n",
    "pd.DataFrame(c)"
   ]
  },
  {
   "cell_type": "markdown",
   "id": "f3879328",
   "metadata": {
    "slideshow": {
     "slide_type": "slide"
    }
   },
   "source": [
    "## 自定义函数\n",
    "<hr>\n",
    "\n",
    "Pandas 可以使用``apply``调用自定义函数。"
   ]
  },
  {
   "cell_type": "code",
   "execution_count": null,
   "id": "b9ba97d1",
   "metadata": {
    "slideshow": {
     "slide_type": "fragment"
    }
   },
   "outputs": [],
   "source": [
    "import numpy as np\n",
    "\n",
    "df[\"统计学\"].apply(np.sqrt)  # 调用 Numpy 中的求平方根函数对统计学成绩每个元素求平方根"
   ]
  },
  {
   "cell_type": "markdown",
   "id": "ea1be51b",
   "metadata": {
    "slideshow": {
     "slide_type": "subslide"
    }
   },
   "source": [
    "我们也可以使用``lambda``定义一个匿名函数在``apply``里面调用："
   ]
  },
  {
   "cell_type": "code",
   "execution_count": null,
   "id": "f33d66cb",
   "metadata": {
    "slideshow": {
     "slide_type": "fragment"
    }
   },
   "outputs": [],
   "source": [
    "df[\"高数新\"] = df[\"高数\"].apply(lambda x: x - 10)  # 对每一个高数成绩都减去 10 分，并赋值给一个新的列"
   ]
  },
  {
   "cell_type": "markdown",
   "id": "03e88338",
   "metadata": {
    "slideshow": {
     "slide_type": "subslide"
    }
   },
   "source": [
    "``apply`` 也可以调用更复杂的自定义函数，例如，下面定义一个成绩替换函数，将分数替换为\"优良中差\"："
   ]
  },
  {
   "cell_type": "code",
   "execution_count": null,
   "id": "bcfaacec",
   "metadata": {
    "slideshow": {
     "slide_type": "subslide"
    }
   },
   "outputs": [],
   "source": [
    "def replace_score(x):\n",
    "    if x >= 90:\n",
    "        return \"优\"\n",
    "    elif x >= 80:\n",
    "        return \"良\"\n",
    "    elif x >= 60:\n",
    "        return \"中\"\n",
    "    else:\n",
    "        return \"差\"\n",
    "\n",
    "\n",
    "df[\"英语\"].apply(replace_score)"
   ]
  },
  {
   "cell_type": "markdown",
   "id": "0ab13806",
   "metadata": {
    "slideshow": {
     "slide_type": "slide"
    }
   },
   "source": [
    "## 数据清洗\n",
    "<hr>\n",
    "\n",
    "### 数据替换``replace``, ``fillna``\n",
    "<hr>\n",
    "\n",
    "在进行数据处理时，经常需要对原始数据的一些异常值或错误值进行批量处理。 Pandas 提供了``replace``函数方便地进行这项操作。``replace``函数第一项为原数据中的值，第二项为需要替换的值。例如，有下面的学生成绩："
   ]
  },
  {
   "cell_type": "code",
   "execution_count": null,
   "id": "dc02173a",
   "metadata": {
    "slideshow": {
     "slide_type": "subslide"
    }
   },
   "outputs": [],
   "source": [
    "import pandas as pd\n",
    "import numpy as np\n",
    "\n",
    "df = pd.DataFrame(\n",
    "    np.array([[85, 68, 90], [82, 63, 88], [84, 90, 78]]),\n",
    "    columns=[\"统计学\", \"高数\", \"英语\"],\n",
    "    index=[\"张三\", \"李四\", \"王五\"],\n",
    ")\n",
    "df"
   ]
  },
  {
   "cell_type": "markdown",
   "id": "1d4272c8",
   "metadata": {
    "slideshow": {
     "slide_type": "subslide"
    }
   },
   "source": [
    "将其中的分数 90 替换为缺失值 NaN，注意，``replace``返回了一个新的数据，但原始数据并没有改变。"
   ]
  },
  {
   "cell_type": "code",
   "execution_count": null,
   "id": "2dd718a2",
   "metadata": {
    "slideshow": {
     "slide_type": "fragment"
    }
   },
   "outputs": [],
   "source": [
    "df.replace(90, np.nan)"
   ]
  },
  {
   "cell_type": "code",
   "execution_count": null,
   "id": "d5316918",
   "metadata": {
    "slideshow": {
     "slide_type": "subslide"
    }
   },
   "outputs": [],
   "source": [
    "df  # 原始数据并没有变"
   ]
  },
  {
   "cell_type": "markdown",
   "id": "ba6e34ea",
   "metadata": {
    "slideshow": {
     "slide_type": "fragment"
    }
   },
   "source": [
    "若需要原始数据改变，需要跟上参数``inplace = True ``，下面讲到的函数``fillna ``、``drop_duplicates``、``dropna``、 ``rename``等也可以跟这个参数将原始数据改变。"
   ]
  },
  {
   "cell_type": "code",
   "execution_count": null,
   "id": "5601fc54",
   "metadata": {
    "slideshow": {
     "slide_type": "subslide"
    }
   },
   "outputs": [],
   "source": [
    "df.replace(90, np.nan, inplace=True)\n",
    "df  # 原始数据改变了"
   ]
  },
  {
   "cell_type": "markdown",
   "id": "94eeb363",
   "metadata": {
    "slideshow": {
     "slide_type": "subslide"
    }
   },
   "source": [
    "Pandas 提供``fillna``函数批量替换数据表中的缺失值 NaN。例如："
   ]
  },
  {
   "cell_type": "code",
   "execution_count": null,
   "id": "32b73318",
   "metadata": {
    "slideshow": {
     "slide_type": "fragment"
    }
   },
   "outputs": [],
   "source": [
    "df.fillna(80)  # 将缺失值替换为 80"
   ]
  },
  {
   "cell_type": "code",
   "execution_count": null,
   "id": "23dd36b3",
   "metadata": {
    "slideshow": {
     "slide_type": "subslide"
    }
   },
   "outputs": [],
   "source": [
    "df.fillna(\"missing\")  # 将缺失值替换为一个字符串"
   ]
  },
  {
   "cell_type": "markdown",
   "id": "efc0fff7",
   "metadata": {
    "slideshow": {
     "slide_type": "subslide"
    }
   },
   "source": [
    "Pandas 还可以直接调用``isnull``函数判断数据是否为缺失值："
   ]
  },
  {
   "cell_type": "code",
   "execution_count": null,
   "id": "f873fa54",
   "metadata": {
    "slideshow": {
     "slide_type": "fragment"
    }
   },
   "outputs": [],
   "source": [
    "df[\"英语\"].isnull()"
   ]
  },
  {
   "cell_type": "markdown",
   "id": "e7631010",
   "metadata": {},
   "source": [
    "### 数据类型转换 ``astype``\n",
    "<hr>\n",
    "\n",
    "很多时候，我们需要对原始数据进行数据转换。例如，一些原始数据中的数字为文本类型，我们需要讲它们转化为数值类型才能进行之后的计算操作。常见的数据类型转换函数为``astype``。\n"
   ]
  },
  {
   "cell_type": "code",
   "execution_count": null,
   "id": "399ec9d3",
   "metadata": {},
   "outputs": [],
   "source": [
    "import pandas as pd\n",
    "import numpy as np\n",
    "\n",
    "df = pd.DataFrame(\n",
    "    np.array([[\"85\", \"68\", \"90\"], [\"82\", \"63\", \"88\"], [\"84\", \"90\", \"78\"]]),\n",
    "    columns=[\"统计学\", \"高数\", \"英语\"],\n",
    "    index=[\"张三\", \"李四\", \"王五\"],\n",
    ")\n",
    "df"
   ]
  },
  {
   "cell_type": "code",
   "execution_count": null,
   "id": "98bf169d",
   "metadata": {},
   "outputs": [],
   "source": [
    "print(df.dtypes)"
   ]
  },
  {
   "cell_type": "markdown",
   "id": "36cdfb11",
   "metadata": {},
   "source": [
    "上面的 pandas 数据为文本类型，我们利用``astype``将其转化为浮点型数值类型。"
   ]
  },
  {
   "cell_type": "code",
   "execution_count": null,
   "id": "c1b8ca9a",
   "metadata": {},
   "outputs": [],
   "source": [
    "df = df[[\"统计学\", \"高数\", \"英语\"]].astype(float)\n",
    "df"
   ]
  },
  {
   "cell_type": "code",
   "execution_count": null,
   "id": "84521c8d",
   "metadata": {},
   "outputs": [],
   "source": [
    "print(df.dtypes)"
   ]
  },
  {
   "cell_type": "markdown",
   "id": "5a7c5723",
   "metadata": {},
   "source": [
    "改变`as_type`小括号中的参数为 int，str等，我们同样可以将原始数据转化为整数型，字符串型等。"
   ]
  },
  {
   "cell_type": "markdown",
   "id": "94258d03",
   "metadata": {
    "slideshow": {
     "slide_type": "slide"
    }
   },
   "source": [
    "### 重复值处理``drop_duplicates``\n",
    "<hr>\n",
    "\n",
    "在数据量比较大时，经常会遇到重复数据的问题，可以使用函数``drop_duplicates``将重复数据去掉。例如："
   ]
  },
  {
   "cell_type": "code",
   "execution_count": null,
   "id": "233c076f",
   "metadata": {
    "slideshow": {
     "slide_type": "subslide"
    }
   },
   "outputs": [],
   "source": [
    "df = pd.DataFrame(\n",
    "    [\n",
    "        [\"一班\", \"男\", 85, 68, 90],\n",
    "        [\"一班\", \"男\", 85, 68, 90],\n",
    "        [\"二班\", \"女\", 84, 90, 78],\n",
    "        [\"三班\", \"女\", 75, 68, 80],\n",
    "        [\"二班\", \"女\", 69, 55, 63],\n",
    "        [\"一班\", \"男\", 89, 95, 93],\n",
    "    ],\n",
    "    columns=[\"班级\", \"性别\", \"统计学\", \"高数\", \"英语\"],\n",
    "    index=[\"张三\", \"张三\", \"王五\", \"马六\", \"陈小虎\", \"魏大帅\"],\n",
    ")\n",
    "df"
   ]
  },
  {
   "cell_type": "markdown",
   "id": "6c6fa4cb",
   "metadata": {
    "slideshow": {
     "slide_type": "subslide"
    }
   },
   "source": [
    "前两行的数据完全相同，使用函数``drop_duplicates``处理："
   ]
  },
  {
   "cell_type": "code",
   "execution_count": null,
   "id": "8d9cb2d0",
   "metadata": {
    "slideshow": {
     "slide_type": "fragment"
    }
   },
   "outputs": [],
   "source": [
    "df.drop_duplicates()"
   ]
  },
  {
   "cell_type": "markdown",
   "id": "d75c6961",
   "metadata": {},
   "source": [
    "``drop_duplicates``的语法如下：\n",
    "\n",
    "<table>\n",
    "     <tr style=\"border-top:solid; border-bottom:solid\">\n",
    "            <th colspan=2 style=\"text-align:center\">DataFrame.drop_duplicates(keep='first', inplace=False, ignore_index=False)</th>\n",
    "    </tr>\n",
    "    <tr>\n",
    "        <td rowspan=3 style=\"text-align:left\">keep</td>\n",
    "        <td style=\"text-align:left\">'fist'表示除了第一个重复的行都删除</td>\n",
    "    </tr>\n",
    "    <tr>\n",
    "        <td style=\"text-align:left\">'last'表示除了最后一个重复的行都删除</td>\n",
    "    </tr>\n",
    "    <tr>\n",
    "        <td style=\"text-align:left\">False 表示删除所有重复的行</td>\n",
    "    </tr>\n",
    "    <tr>\n",
    "        <td style=\"text-align:left\">inplace</td>\n",
    "        <td style=\"text-align:left\">若 inplace=True，表示处理后的数据替换原数据</td>\n",
    "    </tr>\n",
    "    <tr style=\"border-bottom:solid\">\n",
    "        <td style=\"text-align:left\">ignore_index</td>\n",
    "        <td style=\"text-align:left\">如果为 True，则排序后的行号重新标号，默认是 False</td>\n",
    "    </tr>\n",
    "</table>\n",
    "</br>"
   ]
  },
  {
   "cell_type": "markdown",
   "id": "07545ac5",
   "metadata": {
    "slideshow": {
     "slide_type": "slide"
    }
   },
   "source": [
    "### 缺失值处理``drop_na``\n",
    "<hr>\n",
    "\n",
    "``dropna``函数可以将数据表中包含缺失值的行去除掉，与``drop_duplicates``的语法类似。它的语法如下：\n",
    "\n",
    "<table>\n",
    "     <tr style=\"border-top:solid; border-bottom:solid\">\n",
    "            <th colspan=2 style=\"text-align:center\">DataFrame.dropna(axis=0, how='any', thresh=None, inplace=False, ignore_index=False)</th>\n",
    "    </tr>\n",
    "    <tr>\n",
    "        <td style=\"text-align:left\">axis</td>\n",
    "        <td style=\"text-align:left\">axis=0 表示删除含空值所在行，axis=1 表示删除含空值所在列</td>\n",
    "    </tr>\n",
    "    <tr>\n",
    "        <td rowspan=2 style=\"text-align:left\">how</td>\n",
    "        <td style=\"text-align:left\">默认为 how='any'，表示若有空值，就删除</td>\n",
    "    </tr>\n",
    "    <tr>  \n",
    "        <td style=\"text-align:left\">how='all'，表示全部是空值才删除该行或该列</td>\n",
    "    </tr>\n",
    "    <tr>\n",
    "        <td style=\"text-align:left\">thresh</td>\n",
    "        <td style=\"text-align:left\">空值的个数，作为行或列的删除标准</td>\n",
    "    </tr>\n",
    "    <tr>\n",
    "        <td style=\"text-align:left\">inplace</td>\n",
    "        <td style=\"text-align:left\">若 inplace=True，表示处理后的数据替换原数据</td>\n",
    "    </tr>\n",
    "    <tr style=\"border-bottom:solid\">\n",
    "        <td style=\"text-align:left\">ignore_index</td>\n",
    "        <td style=\"text-align:left\">如果为 True，则排序后的行号重新标号，默认是 False</td>\n",
    "    </tr>\n",
    "</table>\n",
    "</br>"
   ]
  },
  {
   "cell_type": "code",
   "execution_count": null,
   "id": "e8b6bd7e",
   "metadata": {
    "slideshow": {
     "slide_type": "subslide"
    }
   },
   "outputs": [],
   "source": [
    "df = pd.DataFrame(\n",
    "    {\"统计学\": [85, 68, np.nan], \"高数\": [82, 75, 88], \"英语\": [np.nan, 90, 78]},\n",
    "    index=[\"张三\", \"李四\", \"王五\"],\n",
    ")\n",
    "df"
   ]
  },
  {
   "cell_type": "code",
   "execution_count": null,
   "id": "310c7c25",
   "metadata": {
    "slideshow": {
     "slide_type": "subslide"
    }
   },
   "outputs": [],
   "source": [
    "df.dropna()  # 默认为删除含有空值的行，并且只要行里面有 Nan 值，就删除"
   ]
  },
  {
   "cell_type": "code",
   "execution_count": null,
   "id": "66327c09",
   "metadata": {
    "slideshow": {
     "slide_type": "subslide"
    }
   },
   "outputs": [],
   "source": [
    "df.dropna(axis=1)  # 删除含有空值的列"
   ]
  },
  {
   "cell_type": "code",
   "execution_count": null,
   "id": "d5bf39e7",
   "metadata": {
    "slideshow": {
     "slide_type": "fragment"
    }
   },
   "outputs": [],
   "source": [
    "df.dropna(how=\"all\")  # 全部是空值才删除"
   ]
  },
  {
   "cell_type": "markdown",
   "id": "04be1a93",
   "metadata": {
    "slideshow": {
     "slide_type": "slide"
    }
   },
   "source": [
    "### 重命名``rename``\n",
    "<hr>\n",
    "\n",
    "在处理数据表时，有时候要给数据的行名或列名重命名，此时要用到``rename``函数，``rename``函数中的参数为一个字典形式：替换前的名字为字典的 key，替换后的名字为字典的 value。"
   ]
  },
  {
   "cell_type": "code",
   "execution_count": null,
   "id": "da114b3c",
   "metadata": {
    "slideshow": {
     "slide_type": "subslide"
    }
   },
   "outputs": [],
   "source": [
    "df = pd.DataFrame({\"统计学\": [85, 68, 90], \"高数\": [82, 63, 88], \"英语\": [84, 90, 78]})\n",
    "df"
   ]
  },
  {
   "cell_type": "code",
   "execution_count": null,
   "id": "6fc6d12c",
   "metadata": {
    "slideshow": {
     "slide_type": "subslide"
    }
   },
   "outputs": [],
   "source": [
    "df.rename(columns={\"统计学\": \"科目A\", \"高数\": \"科目B\"})  # 更改其中两列的列名"
   ]
  },
  {
   "cell_type": "markdown",
   "id": "17167a4d",
   "metadata": {},
   "source": [
    "```{admonition} tip\n",
    ":class: tip\n",
    "若要处理后的数据替换原数据，则要加参数``inplace=True``\n",
    "```"
   ]
  },
  {
   "cell_type": "markdown",
   "id": "d6da2998",
   "metadata": {
    "slideshow": {
     "slide_type": "slide"
    }
   },
   "source": [
    "##  时间序列数据处理\n",
    "<hr>\n",
    "\n",
    "### ``to_datetime`` 与 ``dt.strftime``\n",
    "<hr>\n",
    "\n",
    "实际工作中，经常会遇到大量的时间序列数据。这些时间序列的原始数据一般为文本格式，我们需要将它转化为时间日期格式。 Pandas 提供了 ``to_datetime``函数将其他日期时间格式转化为 Python 的日期时间格式。例如："
   ]
  },
  {
   "cell_type": "code",
   "execution_count": null,
   "id": "03586e8b",
   "metadata": {
    "slideshow": {
     "slide_type": "subslide"
    }
   },
   "outputs": [],
   "source": [
    "import pandas as pd\n",
    "\n",
    "pd.to_datetime(\"20200514\")"
   ]
  },
  {
   "cell_type": "code",
   "execution_count": null,
   "id": "2fc4a60c",
   "metadata": {
    "slideshow": {
     "slide_type": "fragment"
    }
   },
   "outputs": [],
   "source": [
    "pd.to_datetime(\"2020/05/14\")"
   ]
  },
  {
   "cell_type": "code",
   "execution_count": null,
   "id": "bfc516c9",
   "metadata": {
    "slideshow": {
     "slide_type": "fragment"
    }
   },
   "outputs": [],
   "source": [
    "pd.to_datetime(\"2020-05-14\")"
   ]
  },
  {
   "cell_type": "markdown",
   "id": "a1a1757d",
   "metadata": {
    "slideshow": {
     "slide_type": "subslide"
    }
   },
   "source": [
    "在上面的代码中可以看出，``to_datetime``方法将不同类型的时间数据字符串转化为 Timestamp 格式：``年-月-日 时:分:秒``。另外一个函数``dt.strftime``可以将 Pandas 的 Timestamp 格式数据转化为其他格式的字符串，例如："
   ]
  },
  {
   "cell_type": "code",
   "execution_count": null,
   "id": "1b07368b",
   "metadata": {
    "slideshow": {
     "slide_type": "fragment"
    }
   },
   "outputs": [],
   "source": [
    "df = pd.DataFrame(\n",
    "    {\n",
    "        \"入校时间\": [\"2016-09-15\", \"2017-03-23\", \"2018-09-05\"],\n",
    "        \"统计学\": [85, 68, 90],\n",
    "        \"高数\": [82, 63, 88],\n",
    "        \"英语\": [84, 90, 78],\n",
    "        \"姓名\": [\"张三\", \"李四\", \"王五\"],\n",
    "    }\n",
    ")\n",
    "df"
   ]
  },
  {
   "cell_type": "code",
   "execution_count": null,
   "id": "04ba5f4b",
   "metadata": {
    "slideshow": {
     "slide_type": "subslide"
    }
   },
   "outputs": [],
   "source": [
    "df.iloc[0, 0]  # 原始数据中的时间为字符串"
   ]
  },
  {
   "cell_type": "code",
   "execution_count": null,
   "id": "155efaab",
   "metadata": {
    "slideshow": {
     "slide_type": "fragment"
    }
   },
   "outputs": [],
   "source": [
    "df[\"入校时间\"] = pd.to_datetime(df[\"入校时间\"])  # 将原始数据中的时间转化为 python 的日期格式\n",
    "df"
   ]
  },
  {
   "cell_type": "code",
   "execution_count": null,
   "id": "ae56223a",
   "metadata": {
    "slideshow": {
     "slide_type": "subslide"
    }
   },
   "outputs": [],
   "source": [
    "df.iloc[0, 0]"
   ]
  },
  {
   "cell_type": "code",
   "execution_count": null,
   "id": "c3258782",
   "metadata": {
    "slideshow": {
     "slide_type": "fragment"
    }
   },
   "outputs": [],
   "source": [
    "df[\"入校时间\"].dt.strftime(\"%m-%d-%y\")  # 将日期格式转化为自定义格式的字符串"
   ]
  },
  {
   "cell_type": "code",
   "execution_count": null,
   "id": "27c802cf",
   "metadata": {
    "slideshow": {
     "slide_type": "subslide"
    }
   },
   "outputs": [],
   "source": [
    "df[\"入校时间\"].dt.strftime(\"%B-%d-%y\")  # 将日期格式转化为自定义格式的字符串，小写 Y 年份显示两位"
   ]
  },
  {
   "cell_type": "code",
   "execution_count": null,
   "id": "c85d3735",
   "metadata": {
    "slideshow": {
     "slide_type": "fragment"
    }
   },
   "outputs": [],
   "source": [
    "df[\"入校时间\"].dt.strftime(\"%B-%d-%Y\")  # 将日期格式转化为自定义格式的字符串，大写 Y 则年份显示四位"
   ]
  },
  {
   "cell_type": "code",
   "execution_count": null,
   "id": "539d660c",
   "metadata": {
    "slideshow": {
     "slide_type": "subslide"
    }
   },
   "outputs": [],
   "source": [
    "df[\"入校时间\"].dt.strftime(\"%Y-%W\")  # 将日期格式转化为自定义格式的字符串，大写 W 显示的为该年第几周"
   ]
  },
  {
   "cell_type": "code",
   "execution_count": null,
   "id": "50d01eb9",
   "metadata": {
    "slideshow": {
     "slide_type": "fragment"
    }
   },
   "outputs": [],
   "source": [
    "df[\"入校时间\"].dt.strftime(\"%Y-%m-%w\")  # 将日期格式转化为自定义格式的字符串，小写 w 显示的为该月第几周"
   ]
  },
  {
   "cell_type": "markdown",
   "id": "4be964c6",
   "metadata": {
    "slideshow": {
     "slide_type": "slide"
    }
   },
   "source": [
    "###  数据聚合函数``resample``\n",
    "<hr>\n",
    "\n",
    "对于很多时间序列数据，有时候经常需要对它们按一定周期进行数据聚合，可以用 Pandas 提供的``resample``函数。resample 方法中的小括号中用不同参数表示聚合的频率。举例："
   ]
  },
  {
   "cell_type": "code",
   "execution_count": null,
   "id": "5e97e5dd",
   "metadata": {
    "slideshow": {
     "slide_type": "subslide"
    }
   },
   "outputs": [],
   "source": [
    "import numpy as np\n",
    "\n",
    "index = pd.date_range(\"12/24/2019\", periods=10, freq=\"D\")  # 生成一个时间序列，频率为天，周期数为 10\n",
    "index"
   ]
  },
  {
   "cell_type": "code",
   "execution_count": null,
   "id": "5f491ca4",
   "metadata": {
    "slideshow": {
     "slide_type": "subslide"
    }
   },
   "outputs": [],
   "source": [
    "df = pd.DataFrame(np.arange(10), index=index)  # 创建一个包含时间序列的 DataFrame 数据表\n",
    "df"
   ]
  },
  {
   "cell_type": "code",
   "execution_count": null,
   "id": "cd3f3fcf",
   "metadata": {
    "slideshow": {
     "slide_type": "subslide"
    }
   },
   "outputs": [],
   "source": [
    "df.resample(\"M\").sum()  # 用 resample 方法按月('M')对数据聚合"
   ]
  },
  {
   "cell_type": "code",
   "execution_count": null,
   "id": "6f4989f5",
   "metadata": {
    "slideshow": {
     "slide_type": "fragment"
    }
   },
   "outputs": [],
   "source": [
    "df.resample(\"3D\").sum()  # 用 resample 方法每 3 天('3D')对数据聚合"
   ]
  },
  {
   "cell_type": "code",
   "execution_count": null,
   "id": "ad4ad464",
   "metadata": {
    "slideshow": {
     "slide_type": "subslide"
    }
   },
   "outputs": [],
   "source": [
    "df.resample(\"w\").sum()  # 用 resample 方法每周('w')对数据聚合"
   ]
  },
  {
   "cell_type": "markdown",
   "id": "a42bf68b",
   "metadata": {
    "slideshow": {
     "slide_type": "fragment"
    }
   },
   "source": [
    "``resample``的其他参数中， ‘T’ 表示分钟，‘H’ 表示小时，除了跟``sum()``方法外，还可以跟``asfreq()``，``ffill``，``apply()``等。"
   ]
  },
  {
   "cell_type": "markdown",
   "id": "3aff5d4d",
   "metadata": {
    "slideshow": {
     "slide_type": "slide"
    }
   },
   "source": [
    "## Pandas 画图\n",
    "<hr>\n",
    "\n",
    "除了结合 matplotlib 与 seaborn 画图外，Pandas 也有自己的画图函数``plot``，它的语法一般为：\n",
    "\n",
    "<table>\n",
    "     <tr style=\"border-top:solid; border-bottom:solid\">\n",
    "            <th colspan=2 style=\"text-align:center\">DataFrame.plot(x=None,y=None, kind='line',subplots=False, title=None)</th>\n",
    "    </tr>\n",
    "    <tr>\n",
    "        <td style=\"text-align:left\">x</td>\n",
    "        <td style=\"text-align:left\">横坐标数据</td>\n",
    "    </tr>\n",
    "    <tr>\n",
    "        <td style=\"text-align:left\">y</td>\n",
    "        <td style=\"text-align:left\">纵坐标数据</td>\n",
    "    </tr>\n",
    "    <tr>  \n",
    "        <td style=\"text-align:left\">kind</td>\n",
    "        <td style=\"text-align:left\">默认是线图，还可以是‘bar’,'barh','box','pie','scatter','hist'等</td>\n",
    "    </tr>\n",
    "    <tr>\n",
    "        <td style=\"text-align:left\">subplots</td>\n",
    "        <td style=\"text-align:left\">是否将每一列数据分别生成一个子图</td>\n",
    "    </tr>\n",
    "    <tr style=\"border-bottom:solid\">\n",
    "        <td style=\"text-align:left\">title</td>\n",
    "        <td style=\"text-align:left\">图形的标题</td>\n",
    "    </tr>\n",
    "</table>\n",
    "</br>"
   ]
  },
  {
   "cell_type": "code",
   "execution_count": null,
   "id": "6041e8fc",
   "metadata": {
    "slideshow": {
     "slide_type": "subslide"
    }
   },
   "outputs": [],
   "source": [
    "import pandas as pd\n",
    "\n",
    "df = pd.DataFrame(\n",
    "    {\"statistics\": [85, 68, 90], \"math\": [82, 63, 88], \"English\": [84, 90, 78]}\n",
    ")\n",
    "df"
   ]
  },
  {
   "cell_type": "code",
   "execution_count": null,
   "id": "3fac1533",
   "metadata": {
    "slideshow": {
     "slide_type": "subslide"
    }
   },
   "outputs": [],
   "source": [
    "df.plot()"
   ]
  },
  {
   "cell_type": "markdown",
   "id": "7c2c2df5",
   "metadata": {
    "slideshow": {
     "slide_type": "subslide"
    }
   },
   "source": [
    "从上图可以看出，Pandas 的``plot``默认对每一列数据，画一个线图。"
   ]
  },
  {
   "cell_type": "code",
   "execution_count": null,
   "id": "1c5cfeec",
   "metadata": {
    "slideshow": {
     "slide_type": "fragment"
    }
   },
   "outputs": [],
   "source": [
    "df.plot(kind=\"bar\", title=\"My picture\")  # 画出柱状图"
   ]
  },
  {
   "cell_type": "code",
   "execution_count": null,
   "id": "9ae37d22",
   "metadata": {
    "slideshow": {
     "slide_type": "subslide"
    }
   },
   "outputs": [],
   "source": [
    "df.plot(kind=\"bar\", subplots=True)  # 对每一列数据非别生成一个子图"
   ]
  },
  {
   "cell_type": "code",
   "execution_count": null,
   "id": "5dbc8dd0",
   "metadata": {
    "slideshow": {
     "slide_type": "subslide"
    }
   },
   "outputs": [],
   "source": [
    "df.plot(x=\"math\", y=\"statistics\", kind=\"scatter\")  # 指定横坐标与纵坐标，生成一个散点图"
   ]
  },
  {
   "cell_type": "markdown",
   "id": "12e878fa",
   "metadata": {
    "slideshow": {
     "slide_type": "slide"
    }
   },
   "source": [
    "```{admonition} tip\n",
    ":class: tip\n",
    "pandas 有大量处理数据的函数以及众多参数设置，限于篇幅关系，本书不详细赘述。读者使用 pandas 处理数据时，可以进一步查阅官方文档。\n",
    "```"
   ]
  },
  {
   "cell_type": "markdown",
   "id": "f0eec8d3",
   "metadata": {
    "slideshow": {
     "slide_type": "subslide"
    }
   },
   "source": [
    "## 练习\n",
    "<hr>"
   ]
  },
  {
   "cell_type": "markdown",
   "id": "64c54ff2",
   "metadata": {
    "slideshow": {
     "slide_type": "fragment"
    }
   },
   "source": [
    "```{exercise}\n",
    ":label: pandas-read\n",
    "自定义一个包含10个学生，3门课程的成绩单 excel 文件，其中包含不及格的数据。用 pandas 读取该文件，剔除有成绩不及格的学生条目，并输出剩下成绩单各科目的平均成绩，最高成绩；最后将剩下学生所有科目的平均成绩排序并输出名次。\n",
    "```"
   ]
  },
  {
   "cell_type": "markdown",
   "id": "a18de081",
   "metadata": {},
   "source": [
    "<script src=\"https://giscus.app/client.js\"\n",
    "        data-repo=\"robinchen121/book-Python-Data-Science\"\n",
    "        data-repo-id=\"R_kgDOKFdyOw\"\n",
    "        data-category=\"Announcements\"\n",
    "        data-category-id=\"DIC_kwDOKFdyO84CgWHi\"\n",
    "        data-mapping=\"pathname\"\n",
    "        data-strict=\"0\"\n",
    "        data-reactions-enabled=\"1\"\n",
    "        data-emit-metadata=\"0\"\n",
    "        data-input-position=\"bottom\"\n",
    "        data-theme=\"light\"\n",
    "        data-lang=\"en\"\n",
    "        crossorigin=\"anonymous\"\n",
    "        async>\n",
    "</script>"
   ]
  },
  {
   "cell_type": "markdown",
   "id": "757369e2",
   "metadata": {},
   "source": [
    "<!-- Toogle google translation -->\n",
    "<div id=\"google_translate_element\"></div>\n",
    "<script type=\"text/javascript\">\n",
    "      function googleTranslateElementInit() {\n",
    "        new google.translate.TranslateElement({ pageLanguage: 'zh-CN',\n",
    "                  includedLanguages: 'en,zh-CN,zh-TW,ja,ko,de,ru,fr,es,it,pt,hi,ar,fa',\n",
    "layout: google.translate.TranslateElement.InlineLayout.SIMPLE }, 'google_translate_element');\n",
    "      }\n",
    "</script>\n",
    "<script type=\"text/javascript\"\n",
    "      src=\"https://translate.google.com/translate_a/element.js?cb=googleTranslateElementInit\"\n",
    "></script>\n",
    "<br>"
   ]
  },
  {
   "cell_type": "markdown",
   "id": "4df98f5b",
   "metadata": {},
   "source": [
    "<script src=\"https://giscus.app/client.js\"\n",
    "        data-repo=\"robinchen121/book-Python-Data-Science\"\n",
    "        data-repo-id=\"R_kgDOKFdyOw\"\n",
    "        data-category=\"Announcements\"\n",
    "        data-category-id=\"DIC_kwDOKFdyO84CgWHi\"\n",
    "        data-mapping=\"pathname\"\n",
    "        data-strict=\"0\"\n",
    "        data-reactions-enabled=\"1\"\n",
    "        data-emit-metadata=\"0\"\n",
    "        data-input-position=\"bottom\"\n",
    "        data-theme=\"light\"\n",
    "        data-lang=\"en\"\n",
    "        crossorigin=\"anonymous\"\n",
    "        async>\n",
    "</script>"
   ]
  }
 ],
 "metadata": {
  "kernelspec": {
   "display_name": "Python 3 (ipykernel)",
   "language": "python",
   "name": "python3"
  },
  "language_info": {
   "codemirror_mode": {
    "name": "ipython",
    "version": 3
   },
   "file_extension": ".py",
   "mimetype": "text/x-python",
   "name": "python",
   "nbconvert_exporter": "python",
   "pygments_lexer": "ipython3",
   "version": "3.12.2"
  }
 },
 "nbformat": 4,
 "nbformat_minor": 5
}
