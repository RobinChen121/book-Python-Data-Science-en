{
 "cells": [
  {
   "cell_type": "markdown",
   "id": "52cd63e0",
   "metadata": {
    "slideshow": {
     "slide_type": "slide"
    }
   },
   "source": [
    "# Numpy 简介\n",
    "<hr>\n",
    "\n",
    "Numpy (Numerical Python) 是 Python 语言一个重要的扩展库，支持大量的数组与矩阵运算，此外也提供大量的数学函数库，用于模仿数学软件 MatLab 的功能。Numpy 通常与其他库 SciPy（Scientific Python）和 Matplotlib（绘图库）一起使用。"
   ]
  },
  {
   "cell_type": "markdown",
   "id": "0e585d95",
   "metadata": {
    "slideshow": {
     "slide_type": "fragment"
    }
   },
   "source": [
    "Numpy 的主要特点是：\n",
    "\n",
    "- 一个强大的 N 维数组对象 ndarray\n",
    "\n",
    "- 矩阵运算、傅里叶变换、生成随机数功能等"
   ]
  },
  {
   "cell_type": "markdown",
   "id": "0646fead",
   "metadata": {
    "slideshow": {
     "slide_type": "subslide"
    }
   },
   "source": [
    "使用 numpy 需要首先导入 numpy 包："
   ]
  },
  {
   "cell_type": "code",
   "execution_count": 3,
   "id": "1b2abf81",
   "metadata": {
    "slideshow": {
     "slide_type": "fragment"
    }
   },
   "outputs": [],
   "source": [
    "import numpy as np"
   ]
  },
  {
   "cell_type": "markdown",
   "id": "a2d33764",
   "metadata": {
    "slideshow": {
     "slide_type": "subslide"
    }
   },
   "source": [
    "## 创建数组\n",
    "<hr>\n",
    "\n",
    "用 Numpy 创建数组有多种方法。首先，Numpy 中的``array``函数可以直接将 Python 的 list 类型转化为 Numpy 的数组类型 ndarray。例如，一个一维数组："
   ]
  },
  {
   "cell_type": "code",
   "execution_count": 2,
   "id": "51ad7ee9",
   "metadata": {
    "slideshow": {
     "slide_type": "fragment"
    }
   },
   "outputs": [
    {
     "data": {
      "text/plain": [
       "array([1, 2, 3, 4])"
      ]
     },
     "execution_count": 2,
     "metadata": {},
     "output_type": "execute_result"
    }
   ],
   "source": [
    "a = np.array([1, 2, 3, 4])\n",
    "a"
   ]
  },
  {
   "cell_type": "markdown",
   "id": "be6278b4",
   "metadata": {
    "slideshow": {
     "slide_type": "subslide"
    }
   },
   "source": [
    "一个二维数组："
   ]
  },
  {
   "cell_type": "code",
   "execution_count": 3,
   "id": "f15255ba",
   "metadata": {
    "slideshow": {
     "slide_type": "fragment"
    }
   },
   "outputs": [
    {
     "data": {
      "text/plain": [
       "array([[1, 2],\n",
       "       [3, 4]])"
      ]
     },
     "execution_count": 3,
     "metadata": {},
     "output_type": "execute_result"
    }
   ],
   "source": [
    "b = [[1, 2], [3, 4]]\n",
    "a = np.array(b)\n",
    "a"
   ]
  },
  {
   "cell_type": "markdown",
   "id": "28636e1f",
   "metadata": {
    "slideshow": {
     "slide_type": "fragment"
    }
   },
   "source": [
    "注意，``array``函数中的小括号中要包括一个用中括号括起来的 list，不能直接写成 np.array(1, 2, 3, 4)。"
   ]
  },
  {
   "cell_type": "markdown",
   "id": "e5126026",
   "metadata": {
    "slideshow": {
     "slide_type": "subslide"
    }
   },
   "source": [
    "Numpy 中的``zeros``函数可以创建元素值全为 0 的矩阵，``ones``函数可以创建元素值全为 1 的矩阵，而``empty``函数可以创建一个元素值任意的一个空矩阵。例如："
   ]
  },
  {
   "cell_type": "code",
   "execution_count": 4,
   "id": "41e4b447",
   "metadata": {
    "slideshow": {
     "slide_type": "fragment"
    }
   },
   "outputs": [
    {
     "data": {
      "text/plain": [
       "array([[0., 0., 0., 0.],\n",
       "       [0., 0., 0., 0.],\n",
       "       [0., 0., 0., 0.]])"
      ]
     },
     "execution_count": 4,
     "metadata": {},
     "output_type": "execute_result"
    }
   ],
   "source": [
    "np.zeros((3, 4))  # 3 行 4 列的零矩阵"
   ]
  },
  {
   "cell_type": "code",
   "execution_count": 5,
   "id": "7341a912",
   "metadata": {
    "slideshow": {
     "slide_type": "fragment"
    }
   },
   "outputs": [
    {
     "data": {
      "text/plain": [
       "array([[1., 1., 1., 1.],\n",
       "       [1., 1., 1., 1.],\n",
       "       [1., 1., 1., 1.]])"
      ]
     },
     "execution_count": 5,
     "metadata": {},
     "output_type": "execute_result"
    }
   ],
   "source": "np.ones((3, 4))  # 3 行 4 列的一个矩阵"
  },
  {
   "cell_type": "code",
   "execution_count": 6,
   "id": "2c6d8d15",
   "metadata": {
    "slideshow": {
     "slide_type": "subslide"
    }
   },
   "outputs": [
    {
     "data": {
      "text/plain": [
       "array([[0., 0., 0.],\n",
       "       [0., 0., 0.]])"
      ]
     },
     "execution_count": 6,
     "metadata": {},
     "output_type": "execute_result"
    }
   ],
   "source": [
    "np.empty((2, 3))  # 2 行 3 列的空矩阵"
   ]
  },
  {
   "cell_type": "markdown",
   "id": "0ab852d6",
   "metadata": {
    "slideshow": {
     "slide_type": "subslide"
    }
   },
   "source": [
    "Numpy 中的``arange``函数可以生成一个等差数列的数组，例如："
   ]
  },
  {
   "cell_type": "code",
   "execution_count": 7,
   "id": "82dcc634",
   "metadata": {
    "slideshow": {
     "slide_type": "fragment"
    }
   },
   "outputs": [
    {
     "data": {
      "text/plain": [
       "array([0, 1, 2, 3, 4, 5, 6, 7, 8, 9])"
      ]
     },
     "execution_count": 7,
     "metadata": {},
     "output_type": "execute_result"
    }
   ],
   "source": [
    "np.arange(10)  # 生成一个从 0 到 9 之间的数组，默认步长为 1"
   ]
  },
  {
   "cell_type": "code",
   "execution_count": 8,
   "id": "eee5048c",
   "metadata": {
    "slideshow": {
     "slide_type": "fragment"
    }
   },
   "outputs": [
    {
     "data": {
      "text/plain": [
       "array([5, 6, 7, 8, 9])"
      ]
     },
     "execution_count": 8,
     "metadata": {},
     "output_type": "execute_result"
    }
   ],
   "source": [
    "np.arange(5, 10)  # 生成一个从 5 到 9 之间的数组，默认步长为 1"
   ]
  },
  {
   "cell_type": "code",
   "execution_count": 9,
   "id": "acf8f3e1",
   "metadata": {
    "slideshow": {
     "slide_type": "fragment"
    }
   },
   "outputs": [
    {
     "data": {
      "text/plain": [
       "array([5, 7, 9])"
      ]
     },
     "execution_count": 9,
     "metadata": {},
     "output_type": "execute_result"
    }
   ],
   "source": [
    "np.arange(5, 10, 2)  # 生成一个从 5 到 9 之间的数组，且步长为 2"
   ]
  },
  {
   "cell_type": "markdown",
   "id": "49b1729b",
   "metadata": {
    "slideshow": {
     "slide_type": "subslide"
    }
   },
   "source": [
    "另外一个类似的函数为``linespace``，不同的地方在于：``arange``函数中第三个参数表示等差数组的步长，而``linespace``函数第三个参数表示一共生成的元素个数。若生成一系列等差的浮点数，则用``linespace``更好些。"
   ]
  },
  {
   "cell_type": "code",
   "execution_count": 10,
   "id": "b074ef36",
   "metadata": {
    "slideshow": {
     "slide_type": "fragment"
    }
   },
   "outputs": [
    {
     "data": {
      "text/plain": [
       "array([0.  , 0.25, 0.5 , 0.75, 1.  , 1.25, 1.5 , 1.75, 2.  ])"
      ]
     },
     "execution_count": 10,
     "metadata": {},
     "output_type": "execute_result"
    }
   ],
   "source": [
    "np.linspace(0, 2, 9)  # 生成从 0 到 2 之间共 9 个数"
   ]
  },
  {
   "cell_type": "markdown",
   "id": "2c35dac3",
   "metadata": {
    "slideshow": {
     "slide_type": "subslide"
    }
   },
   "source": [
    "Python 的 list 类型可以与 Numpy 的数组类型 ndarray 互换，例如："
   ]
  },
  {
   "cell_type": "code",
   "execution_count": 11,
   "id": "127915b8",
   "metadata": {
    "slideshow": {
     "slide_type": "fragment"
    }
   },
   "outputs": [
    {
     "data": {
      "text/plain": [
       "[0, 1, 2, 3, 4, 5, 6, 7, 8, 9]"
      ]
     },
     "execution_count": 11,
     "metadata": {},
     "output_type": "execute_result"
    }
   ],
   "source": [
    "a = np.arange(10)\n",
    "list(a)"
   ]
  },
  {
   "cell_type": "markdown",
   "id": "06eb927e",
   "metadata": {
    "slideshow": {
     "slide_type": "subslide"
    }
   },
   "source": [
    "numpy 库中常见的数组创建函数如下表所示：\n",
    "\n",
    "|函数|描述|\n",
    "|:--:|:--:|\n",
    "|np.arrange(x, y, i)|创建一个由 x 到 y，以 i 为步长的数组|\n",
    "|np.linspace(x, y, n)|创建一个由 x 到 y，等分为 n 个元素的数组|\n",
    "|np.ones((m,n))|创建一个 m 行 n 列全是 1 的数组|\n",
    "|np.empty((m,n))|创建一个 m 行 n 列全是 0 的数组|"
   ]
  },
  {
   "cell_type": "markdown",
   "id": "701d1159",
   "metadata": {
    "slideshow": {
     "slide_type": "subslide"
    }
   },
   "source": [
    "numpy 创建的数组类型为 ndarray类型，它的常用属性如下表所示：\n",
    "\n",
    "|函数|描述|\n",
    "|:--:|:--:|\n",
    "|ndarray.ndim|数组的行数|\n",
    "|ndarray.shape|数组在每个维度上大小的整数元组|\n",
    "|ndarray.size|数组中元素的个数|\n",
    "|ndarray.dtype|数组中元素的数据类型|"
   ]
  },
  {
   "cell_type": "code",
   "execution_count": 4,
   "id": "9d90eaa1",
   "metadata": {
    "slideshow": {
     "slide_type": "subslide"
    }
   },
   "outputs": [
    {
     "data": {
      "text/plain": [
       "2"
      ]
     },
     "execution_count": 4,
     "metadata": {},
     "output_type": "execute_result"
    }
   ],
   "source": [
    "a = np.ones((2, 3))\n",
    "a.ndim"
   ]
  },
  {
   "cell_type": "code",
   "execution_count": 5,
   "id": "97822067",
   "metadata": {
    "slideshow": {
     "slide_type": "fragment"
    }
   },
   "outputs": [
    {
     "data": {
      "text/plain": [
       "(2, 3)"
      ]
     },
     "execution_count": 5,
     "metadata": {},
     "output_type": "execute_result"
    }
   ],
   "source": [
    "a.shape"
   ]
  },
  {
   "cell_type": "code",
   "execution_count": 6,
   "id": "8da07aa1",
   "metadata": {
    "slideshow": {
     "slide_type": "subslide"
    }
   },
   "outputs": [
    {
     "data": {
      "text/plain": [
       "6"
      ]
     },
     "execution_count": 6,
     "metadata": {},
     "output_type": "execute_result"
    }
   ],
   "source": [
    "a.size"
   ]
  },
  {
   "cell_type": "code",
   "execution_count": 8,
   "id": "353f07c4",
   "metadata": {
    "slideshow": {
     "slide_type": "fragment"
    }
   },
   "outputs": [
    {
     "data": {
      "text/plain": [
       "dtype('float64')"
      ]
     },
     "execution_count": 8,
     "metadata": {},
     "output_type": "execute_result"
    }
   ],
   "source": [
    "a.dtype"
   ]
  },
  {
   "cell_type": "markdown",
   "id": "7accdb6a",
   "metadata": {
    "slideshow": {
     "slide_type": "subslide"
    }
   },
   "source": [
    "## 数组索引和切片\n",
    "<hr>\n",
    "\n",
    "对于一维数组，numpy 的索引切片类似 Python list 类型的索引切片，例如："
   ]
  },
  {
   "cell_type": "code",
   "execution_count": 12,
   "id": "82dbeb05",
   "metadata": {
    "slideshow": {
     "slide_type": "fragment"
    }
   },
   "outputs": [
    {
     "data": {
      "text/plain": [
       "array([4, 5, 6, 7, 8, 9])"
      ]
     },
     "execution_count": 12,
     "metadata": {},
     "output_type": "execute_result"
    }
   ],
   "source": [
    "a = np.arange(4, 10)  # 生成一个从 4 到 9 之间的数组\n",
    "a"
   ]
  },
  {
   "cell_type": "code",
   "execution_count": 13,
   "id": "f8362b62",
   "metadata": {
    "slideshow": {
     "slide_type": "fragment"
    }
   },
   "outputs": [
    {
     "data": {
      "text/plain": [
       "6"
      ]
     },
     "execution_count": 13,
     "metadata": {},
     "output_type": "execute_result"
    }
   ],
   "source": [
    "a[2]  # 数组 a 的第 3 个元素"
   ]
  },
  {
   "cell_type": "code",
   "execution_count": 14,
   "id": "a197e82d",
   "metadata": {
    "slideshow": {
     "slide_type": "fragment"
    }
   },
   "outputs": [
    {
     "data": {
      "text/plain": [
       "array([6, 7])"
      ]
     },
     "execution_count": 14,
     "metadata": {},
     "output_type": "execute_result"
    }
   ],
   "source": [
    "a[2:4]  # 数组 a 的第 3 与第 4 个元素"
   ]
  },
  {
   "cell_type": "code",
   "execution_count": 15,
   "id": "d70a5d57",
   "metadata": {
    "slideshow": {
     "slide_type": "fragment"
    }
   },
   "outputs": [
    {
     "data": {
      "text/plain": [
       "9"
      ]
     },
     "execution_count": 15,
     "metadata": {},
     "output_type": "execute_result"
    }
   ],
   "source": [
    "a[-1]  # 数组 a 的最后一个元素"
   ]
  },
  {
   "cell_type": "code",
   "execution_count": 16,
   "id": "aaa547bd",
   "metadata": {
    "slideshow": {
     "slide_type": "fragment"
    }
   },
   "outputs": [
    {
     "data": {
      "text/plain": [
       "array([9, 8, 7, 6, 5, 4])"
      ]
     },
     "execution_count": 16,
     "metadata": {},
     "output_type": "execute_result"
    }
   ],
   "source": [
    "a[::-1]  # 数组 a 倒序"
   ]
  },
  {
   "cell_type": "markdown",
   "id": "771d5028",
   "metadata": {
    "slideshow": {
     "slide_type": "subslide"
    }
   },
   "source": [
    "对于多维数组，Numpy 数组的索引和切片在**一个中括号**里面用逗号分隔不同维度，例如："
   ]
  },
  {
   "cell_type": "code",
   "execution_count": 17,
   "id": "8a7fb4ff",
   "metadata": {
    "slideshow": {
     "slide_type": "fragment"
    }
   },
   "outputs": [
    {
     "data": {
      "text/plain": [
       "array([[ 0,  1,  2,  3],\n",
       "       [ 4,  5,  6,  7],\n",
       "       [ 8,  9, 10, 11]])"
      ]
     },
     "execution_count": 17,
     "metadata": {},
     "output_type": "execute_result"
    }
   ],
   "source": [
    "b = np.arange(12).reshape(3, 4)  # 创建一个 3 行 4 列的二维数组，reshape函数不改变数值，将原数组重组为一个指定行数列数的数组\n",
    "b"
   ]
  },
  {
   "cell_type": "code",
   "execution_count": 18,
   "id": "9bb9a357",
   "metadata": {
    "slideshow": {
     "slide_type": "fragment"
    }
   },
   "outputs": [
    {
     "data": {
      "text/plain": [
       "6"
      ]
     },
     "execution_count": 18,
     "metadata": {},
     "output_type": "execute_result"
    }
   ],
   "source": [
    "b[1, 2]  # 二维数组第 2 行第 3 列中的元素"
   ]
  },
  {
   "cell_type": "code",
   "execution_count": 19,
   "id": "d92dddc9",
   "metadata": {
    "slideshow": {
     "slide_type": "fragment"
    }
   },
   "outputs": [
    {
     "data": {
      "text/plain": [
       "array([ 6, 10])"
      ]
     },
     "execution_count": 19,
     "metadata": {},
     "output_type": "execute_result"
    }
   ],
   "source": [
    "b[1:3, 2]  # 二维数组第 3 列中， 第 2 行到第 3 行的元素"
   ]
  },
  {
   "cell_type": "code",
   "execution_count": 20,
   "id": "ce0170f8",
   "metadata": {
    "slideshow": {
     "slide_type": "fragment"
    }
   },
   "outputs": [
    {
     "data": {
      "text/plain": [
       "array([ 8,  9, 10, 11])"
      ]
     },
     "execution_count": 20,
     "metadata": {},
     "output_type": "execute_result"
    }
   ],
   "source": [
    "b[2, :]  # 第 3 行的全部元素"
   ]
  },
  {
   "cell_type": "code",
   "execution_count": 21,
   "id": "60cc5f23",
   "metadata": {
    "slideshow": {
     "slide_type": "fragment"
    }
   },
   "outputs": [
    {
     "data": {
      "text/plain": [
       "[array([0, 1, 2, 3]), array([4, 5, 6, 7]), array([ 8,  9, 10, 11])]"
      ]
     },
     "execution_count": 21,
     "metadata": {},
     "output_type": "execute_result"
    }
   ],
   "source": [
    "list(b)"
   ]
  },
  {
   "cell_type": "markdown",
   "id": "cb74a886",
   "metadata": {
    "slideshow": {
     "slide_type": "subslide"
    }
   },
   "source": [
    "## 数组拼接\n",
    "<hr>\n",
    "\n",
    "Numpy 中拼接两个数组用``append``函数。"
   ]
  },
  {
   "cell_type": "code",
   "execution_count": 22,
   "id": "909a0277",
   "metadata": {
    "slideshow": {
     "slide_type": "fragment"
    }
   },
   "outputs": [
    {
     "data": {
      "text/plain": [
       "array([0, 1, 2, 3, 4])"
      ]
     },
     "execution_count": 22,
     "metadata": {},
     "output_type": "execute_result"
    }
   ],
   "source": [
    "a = np.arange(5)\n",
    "a"
   ]
  },
  {
   "cell_type": "code",
   "execution_count": 23,
   "id": "eae494a2",
   "metadata": {
    "slideshow": {
     "slide_type": "fragment"
    }
   },
   "outputs": [
    {
     "data": {
      "text/plain": [
       "array([0, 1, 2])"
      ]
     },
     "execution_count": 23,
     "metadata": {},
     "output_type": "execute_result"
    }
   ],
   "source": [
    "b = np.arange(3)\n",
    "b"
   ]
  },
  {
   "cell_type": "code",
   "execution_count": 24,
   "id": "ce50bbbf",
   "metadata": {
    "slideshow": {
     "slide_type": "fragment"
    }
   },
   "outputs": [
    {
     "data": {
      "text/plain": [
       "array([0, 1, 2, 3, 4, 0, 1, 2])"
      ]
     },
     "execution_count": 24,
     "metadata": {},
     "output_type": "execute_result"
    }
   ],
   "source": [
    "np.append(a, b)"
   ]
  },
  {
   "cell_type": "markdown",
   "id": "2adb6695",
   "metadata": {
    "slideshow": {
     "slide_type": "subslide"
    }
   },
   "source": [
    "多个数组拼接，可以用``concatenate``。"
   ]
  },
  {
   "cell_type": "code",
   "execution_count": 25,
   "id": "51ece689",
   "metadata": {
    "slideshow": {
     "slide_type": "fragment"
    }
   },
   "outputs": [
    {
     "data": {
      "text/plain": [
       "array([0, 1, 2, 3])"
      ]
     },
     "execution_count": 25,
     "metadata": {},
     "output_type": "execute_result"
    }
   ],
   "source": [
    "c = np.arange(4)\n",
    "c"
   ]
  },
  {
   "cell_type": "code",
   "execution_count": 26,
   "id": "2bd49f42",
   "metadata": {
    "slideshow": {
     "slide_type": "fragment"
    }
   },
   "outputs": [
    {
     "data": {
      "text/plain": [
       "array([0, 1, 2, 3, 4, 0, 1, 2, 0, 1, 2, 3])"
      ]
     },
     "execution_count": 26,
     "metadata": {},
     "output_type": "execute_result"
    }
   ],
   "source": [
    "np.concatenate((a, b, c))  # 注意里面还有一对小括号"
   ]
  },
  {
   "cell_type": "markdown",
   "id": "2d19c120",
   "metadata": {
    "slideshow": {
     "slide_type": "subslide"
    }
   },
   "source": [
    "## 数组运算\n",
    "<hr>\n",
    "\n",
    "Numpy 可以对数组进行多种代数运算，例如："
   ]
  },
  {
   "cell_type": "code",
   "execution_count": 27,
   "id": "55fb0565",
   "metadata": {
    "slideshow": {
     "slide_type": "fragment"
    }
   },
   "outputs": [
    {
     "data": {
      "text/plain": [
       "array([0, 1, 2, 3])"
      ]
     },
     "execution_count": 27,
     "metadata": {},
     "output_type": "execute_result"
    }
   ],
   "source": [
    "a = np.arange(4)\n",
    "a"
   ]
  },
  {
   "cell_type": "code",
   "execution_count": 28,
   "id": "83aaff59",
   "metadata": {
    "slideshow": {
     "slide_type": "fragment"
    }
   },
   "outputs": [
    {
     "data": {
      "text/plain": [
       "array([3, 4, 5, 6])"
      ]
     },
     "execution_count": 28,
     "metadata": {},
     "output_type": "execute_result"
    }
   ],
   "source": [
    "b = np.arange(3, 7)\n",
    "b"
   ]
  },
  {
   "cell_type": "code",
   "execution_count": 29,
   "id": "da634ce9",
   "metadata": {
    "slideshow": {
     "slide_type": "fragment"
    }
   },
   "outputs": [
    {
     "data": {
      "text/plain": [
       "array([-3, -3, -3, -3])"
      ]
     },
     "execution_count": 29,
     "metadata": {},
     "output_type": "execute_result"
    }
   ],
   "source": [
    "a - b  # 两数组相减"
   ]
  },
  {
   "cell_type": "code",
   "execution_count": 30,
   "id": "45fec2b9",
   "metadata": {
    "slideshow": {
     "slide_type": "subslide"
    }
   },
   "outputs": [
    {
     "data": {
      "text/plain": [
       "array([3, 5, 7, 9])"
      ]
     },
     "execution_count": 30,
     "metadata": {},
     "output_type": "execute_result"
    }
   ],
   "source": [
    "a + b  # 两数组相加"
   ]
  },
  {
   "cell_type": "code",
   "execution_count": 31,
   "id": "3cdc8c32",
   "metadata": {
    "slideshow": {
     "slide_type": "fragment"
    }
   },
   "outputs": [
    {
     "data": {
      "text/plain": [
       "array([0, 2, 4, 6])"
      ]
     },
     "execution_count": 31,
     "metadata": {},
     "output_type": "execute_result"
    }
   ],
   "source": [
    "a * 2  # 数组每个元素乘以一个数值"
   ]
  },
  {
   "cell_type": "code",
   "execution_count": 32,
   "id": "a3b09e56",
   "metadata": {
    "slideshow": {
     "slide_type": "fragment"
    }
   },
   "outputs": [
    {
     "data": {
      "text/plain": [
       "array([0, 1, 4, 9])"
      ]
     },
     "execution_count": 32,
     "metadata": {},
     "output_type": "execute_result"
    }
   ],
   "source": [
    "a**2  # 数组每个元素都平方"
   ]
  },
  {
   "cell_type": "code",
   "execution_count": 33,
   "id": "0dd753da",
   "metadata": {
    "slideshow": {
     "slide_type": "fragment"
    }
   },
   "outputs": [
    {
     "data": {
      "text/plain": [
       "array([False, False, False,  True])"
      ]
     },
     "execution_count": 33,
     "metadata": {},
     "output_type": "execute_result"
    }
   ],
   "source": [
    "a > 2  # 数组每个元素与一个数值比较大小"
   ]
  },
  {
   "cell_type": "code",
   "execution_count": 34,
   "id": "de61f939",
   "metadata": {
    "slideshow": {
     "slide_type": "subslide"
    }
   },
   "outputs": [
    {
     "data": {
      "text/plain": [
       "array([[4., 5.],\n",
       "       [6., 7.]])"
      ]
     },
     "execution_count": 34,
     "metadata": {},
     "output_type": "execute_result"
    }
   ],
   "source": [
    "c = np.array([[4.0, 5.0], [6.0, 7.0]])\n",
    "c"
   ]
  },
  {
   "cell_type": "code",
   "execution_count": 35,
   "id": "335bfd09",
   "metadata": {
    "slideshow": {
     "slide_type": "fragment"
    }
   },
   "outputs": [
    {
     "data": {
      "text/plain": [
       "array([[4., 6.],\n",
       "       [5., 7.]])"
      ]
     },
     "execution_count": 35,
     "metadata": {},
     "output_type": "execute_result"
    }
   ],
   "source": [
    "c.transpose()  # c 的转置矩阵"
   ]
  },
  {
   "cell_type": "code",
   "execution_count": 36,
   "id": "4d5add12",
   "metadata": {
    "slideshow": {
     "slide_type": "fragment"
    }
   },
   "outputs": [
    {
     "data": {
      "text/plain": [
       "array([[-3.5,  2.5],\n",
       "       [ 3. , -2. ]])"
      ]
     },
     "execution_count": 36,
     "metadata": {},
     "output_type": "execute_result"
    }
   ],
   "source": [
    "np.linalg.inv(c)  # c 的逆矩阵"
   ]
  },
  {
   "cell_type": "code",
   "execution_count": 42,
   "id": "df7d4870",
   "metadata": {
    "slideshow": {
     "slide_type": "subslide"
    }
   },
   "outputs": [
    {
     "name": "stdout",
     "output_type": "stream",
     "text": [
      "eigenvalues are  [-0.17890835 11.17890835]\n",
      "eigenvectors are [[-0.76729658 -0.57152478]\n",
      " [ 0.64129241 -0.82058481]]\n"
     ]
    }
   ],
   "source": [
    "eigenvalues, eigenvectors = np.linalg.eig(c)  # c 的特征值与特征向量\n",
    "print(\"eigenvalues are \", eigenvalues)\n",
    "print(\"eigenvectors are\", eigenvectors)"
   ]
  },
  {
   "cell_type": "code",
   "execution_count": 38,
   "id": "edbf41e3",
   "metadata": {
    "slideshow": {
     "slide_type": "fragment"
    }
   },
   "outputs": [
    {
     "data": {
      "text/plain": [
       "array([[1., 2.],\n",
       "       [3., 4.]])"
      ]
     },
     "execution_count": 38,
     "metadata": {},
     "output_type": "execute_result"
    }
   ],
   "source": [
    "d = np.array([[1.0, 2.0], [3.0, 4.0]])\n",
    "d"
   ]
  },
  {
   "cell_type": "code",
   "execution_count": 39,
   "id": "f1a15bd8",
   "metadata": {
    "slideshow": {
     "slide_type": "fragment"
    }
   },
   "outputs": [
    {
     "data": {
      "text/plain": [
       "array([[19., 28.],\n",
       "       [27., 40.]])"
      ]
     },
     "execution_count": 39,
     "metadata": {},
     "output_type": "execute_result"
    }
   ],
   "source": [
    "np.dot(c, d)  # 矩阵 c 和 d 的乘积"
   ]
  },
  {
   "cell_type": "code",
   "execution_count": 40,
   "id": "23bb4d03",
   "metadata": {
    "slideshow": {
     "slide_type": "subslide"
    }
   },
   "outputs": [
    {
     "data": {
      "text/plain": [
       "array([[ 4., 10.],\n",
       "       [18., 28.]])"
      ]
     },
     "execution_count": 40,
     "metadata": {},
     "output_type": "execute_result"
    }
   ],
   "source": [
    "np.multiply(c, d)  # 矩阵 c 和 d 对应元素相乘"
   ]
  },
  {
   "cell_type": "markdown",
   "id": "ddca28d1",
   "metadata": {
    "slideshow": {
     "slide_type": "subslide"
    }
   },
   "source": [
    "numpy 库还有一些其他常用的函数，如下表所示：\n",
    "\n",
    "|函数|描述|\n",
    "|:--:|:--:|\n",
    "|np.abs(x)|计算每个元素的绝对值|\n",
    "|np.sqrt(x)|计算每个元素的平方根|\n",
    "|np.squre(x)|计算每个元素的平方|\n",
    "|np.sign(x)|计算每个元素的正负号|\n",
    "|np.ceil(x)|计算每个元素向上取整的数值|\n",
    "|np.floor(x)|计算每个元素向下取整的数值|\n",
    "|np.exp(x)|计算每个元素的指数值|\n",
    "|np.log(x),np.log10(x),np.log2(x)|计算每个元素的自然对数值，基于10、2的对数值|"
   ]
  },
  {
   "cell_type": "markdown",
   "id": "72c5562f",
   "metadata": {
    "slideshow": {
     "slide_type": "fragment"
    }
   },
   "source": [
    "另外，Numpy 还有专门的二维数组的类型 Matrix，可以更方便地进行一些矩阵运算，感兴趣的读者可以参见官网。"
   ]
  },
  {
   "cell_type": "markdown",
   "id": "c10c40fb",
   "metadata": {},
   "source": [
    "## 生成随机数\n",
    "<hr>\n",
    "\n",
    "numpy 包的`random`方法基本支持所有分布，并且能够一次生成多行多列的随机数, 例如："
   ]
  },
  {
   "cell_type": "code",
   "execution_count": 6,
   "id": "ea8e3f53",
   "metadata": {},
   "outputs": [
    {
     "data": {
      "text/plain": [
       "array([[1.08023166, 7.88095268],\n",
       "       [2.08862301, 4.67459804]])"
      ]
     },
     "execution_count": 6,
     "metadata": {},
     "output_type": "execute_result"
    }
   ],
   "source": [
    "import numpy as np\n",
    "\n",
    "np.random.uniform(1, 10, [2, 2])  # 生成 [1, 10] 内的均匀分布随机数， 2 行 2 列"
   ]
  },
  {
   "cell_type": "code",
   "execution_count": 10,
   "id": "f5747f16",
   "metadata": {},
   "outputs": [
    {
     "data": {
      "text/plain": [
       "array([7.62843132, 4.63544002, 1.63233293, 6.72393605, 4.60689425])"
      ]
     },
     "execution_count": 10,
     "metadata": {},
     "output_type": "execute_result"
    }
   ],
   "source": [
    "np.random.uniform(1, 10, 5)  # 生成 5 个 [1, 10] 内的均匀分布随机数"
   ]
  },
  {
   "cell_type": "code",
   "execution_count": 9,
   "id": "cd6f4ade",
   "metadata": {},
   "outputs": [
    {
     "data": {
      "text/plain": [
       "array([[7, 5],\n",
       "       [9, 6]])"
      ]
     },
     "execution_count": 9,
     "metadata": {},
     "output_type": "execute_result"
    }
   ],
   "source": [
    "np.random.randint(1, 10, [2, 2])  # 生成 [1, 10] 内的随机整数， 2 行 2 列"
   ]
  },
  {
   "cell_type": "code",
   "execution_count": 8,
   "id": "776f34f5",
   "metadata": {},
   "outputs": [
    {
     "data": {
      "text/plain": [
       "array([[2.30954187, 4.75581074],\n",
       "       [4.42805849, 4.63892463]])"
      ]
     },
     "execution_count": 8,
     "metadata": {},
     "output_type": "execute_result"
    }
   ],
   "source": [
    "np.random.normal(5, 1, [2, 2])  # 生成一个正态分布的随机数，均值为 5， 标准差为 1， 2 行 2 列"
   ]
  },
  {
   "cell_type": "code",
   "execution_count": 7,
   "id": "c0613eac",
   "metadata": {},
   "outputs": [
    {
     "data": {
      "text/plain": [
       "array([[5, 6],\n",
       "       [5, 7]])"
      ]
     },
     "execution_count": 7,
     "metadata": {},
     "output_type": "execute_result"
    }
   ],
   "source": [
    "np.random.poisson(5, [2, 2])  # 生成一个泊松分布的随机数，均值为 5， 2 行 2 列"
   ]
  },
  {
   "cell_type": "markdown",
   "id": "a81448cc",
   "metadata": {},
   "source": [
    "numpy 还可以通过`random.seed()`参数设定随机数生成器的种子，同样的种子生成的随机数应该是相同的。"
   ]
  },
  {
   "cell_type": "code",
   "execution_count": 2,
   "id": "f15df47a",
   "metadata": {},
   "outputs": [
    {
     "data": {
      "text/plain": [
       "array([4.62263642, 5.16675892, 5.68280238, 6.92137877, 4.8029632 ,\n",
       "       4.24012124])"
      ]
     },
     "execution_count": 2,
     "metadata": {},
     "output_type": "execute_result"
    }
   ],
   "source": [
    "np.random.seed(500)\n",
    "np.random.normal(5, 1, 6)  # 生成 6 个正态分布的随机数，均值为 5， 标准差为 1"
   ]
  },
  {
   "cell_type": "markdown",
   "id": "3bf3879c",
   "metadata": {},
   "source": [
    "另外 numpy 还可以通过`RandomState()`来定义一个随机数生成器对象，小括号里面的参数为随机数种子，然后用这个对象调用具体的各个随机分布生成器函数。例如："
   ]
  },
  {
   "cell_type": "code",
   "execution_count": 3,
   "id": "343c8876",
   "metadata": {},
   "outputs": [
    {
     "data": {
      "text/plain": [
       "array([4.62263642, 5.16675892, 5.68280238, 6.92137877, 4.8029632 ,\n",
       "       4.24012124])"
      ]
     },
     "execution_count": 3,
     "metadata": {},
     "output_type": "execute_result"
    }
   ],
   "source": [
    "rvs = np.random.RandomState(500)\n",
    "rvs.normal(5, 1, 6)  # 生成 6 个正态分布的随机数，均值为 5， 标准差为 1"
   ]
  },
  {
   "cell_type": "markdown",
   "id": "5e58a45e",
   "metadata": {},
   "source": [
    "## Numpy 数组与列表 list 运算速度的对比\n",
    "<hr>"
   ]
  },
  {
   "cell_type": "markdown",
   "id": "c90589aa",
   "metadata": {},
   "source": [
    "Numpy 对于数值型数据的运算速度远快于 Python 自带的 list 列表。对于大规模的数学计算，优先使用 Numpy 处理。"
   ]
  },
  {
   "cell_type": "code",
   "execution_count": 1,
   "id": "913ed0d6",
   "metadata": {},
   "outputs": [
    {
     "name": "stdout",
     "output_type": "stream",
     "text": [
      "Python List 耗时: 0.2095649242401123\n",
      "NumPy 耗时: 0.002835988998413086\n"
     ]
    }
   ],
   "source": [
    "import numpy as np\n",
    "import time\n",
    "\n",
    "# 使用 Python 原生 list\n",
    "size = 1_000_000\n",
    "py_list = list(range(size))\n",
    "\n",
    "start = time.time()\n",
    "py_list_squared = [x ** 2 for x in py_list]  # 普通 Python 列表计算\n",
    "print(\"Python List 耗时:\", time.time() - start)\n",
    "\n",
    "# 使用 NumPy 数组\n",
    "np_array = np.arange(size)\n",
    "\n",
    "start = time.time()\n",
    "np_array_squared = np_array ** 2  # NumPy 直接进行向量化运算\n",
    "print(\"NumPy 耗时:\", time.time() - start)\n"
   ]
  },
  {
   "cell_type": "markdown",
   "id": "f83ca271",
   "metadata": {},
   "source": [
    "## `time`, `datatime` 模块\n",
    "<hr>"
   ]
  },
  {
   "cell_type": "markdown",
   "id": "50a9c236",
   "metadata": {},
   "source": [
    "### `time` 模块\n",
    "<hr>\n",
    "\n",
    "`time` 模块提供了许多与时间相关的函数，如获取当前时间、暂停程序、测量执行时间等。"
   ]
  },
  {
   "cell_type": "markdown",
   "id": "a7d75a05",
   "metadata": {},
   "source": [
    "- 获取当前时间"
   ]
  },
  {
   "cell_type": "code",
   "execution_count": 1,
   "id": "e076ba09",
   "metadata": {},
   "outputs": [
    {
     "name": "stdout",
     "output_type": "stream",
     "text": [
      "1739732312.727478\n"
     ]
    }
   ],
   "source": [
    "import time\n",
    "\n",
    "# 获取当前时间戳\n",
    "timestamp = time.time()\n",
    "print(timestamp)"
   ]
  },
  {
   "cell_type": "code",
   "execution_count": 2,
   "id": "62dc11b8",
   "metadata": {},
   "outputs": [
    {
     "name": "stdout",
     "output_type": "stream",
     "text": [
      "time.struct_time(tm_year=2025, tm_mon=2, tm_mday=16, tm_hour=18, tm_min=58, tm_sec=33, tm_wday=6, tm_yday=47, tm_isdst=0)\n"
     ]
    }
   ],
   "source": [
    "# 获取当前时间的结构化格式\n",
    "current_time = time.localtime()\n",
    "print(current_time)"
   ]
  },
  {
   "cell_type": "code",
   "execution_count": 3,
   "id": "0d8ebbde",
   "metadata": {},
   "outputs": [
    {
     "name": "stdout",
     "output_type": "stream",
     "text": [
      "2025-02-16 18:58:46\n"
     ]
    }
   ],
   "source": [
    "# 格式化时间\n",
    "formatted_time = time.strftime(\"%Y-%m-%d %H:%M:%S\", time.localtime())\n",
    "print(formatted_time)"
   ]
  },
  {
   "cell_type": "markdown",
   "id": "9bae6c3e",
   "metadata": {},
   "source": [
    "- 时间转换"
   ]
  },
  {
   "cell_type": "code",
   "execution_count": 4,
   "id": "6372abaa",
   "metadata": {},
   "outputs": [
    {
     "name": "stdout",
     "output_type": "stream",
     "text": [
      "2024-02-17 18:07:37\n"
     ]
    }
   ],
   "source": [
    "# 时间戳转时间字符串\n",
    "timestamp = 1708193257\n",
    "time_str = time.strftime(\"%Y-%m-%d %H:%M:%S\", time.localtime(timestamp))\n",
    "print(time_str)"
   ]
  },
  {
   "cell_type": "markdown",
   "id": "959b7257",
   "metadata": {},
   "source": [
    "常见的 strftime 格式：\n",
    "\n",
    "|代码|含义|\n",
    "|--|--|\n",
    "|%Y|4 位数年份（如 2025）|\n",
    "|%m|2 位数月份（01-12）|\n",
    "|%d|2 位数日期（01-31）|\n",
    "|%H|24 小时制小时（00-23）|\n",
    "|%M|分钟（00-59）|\n",
    "|%S|秒（00-59）|"
   ]
  },
  {
   "cell_type": "code",
   "execution_count": 5,
   "id": "f100b65b",
   "metadata": {},
   "outputs": [
    {
     "name": "stdout",
     "output_type": "stream",
     "text": [
      "1739788257.0\n"
     ]
    }
   ],
   "source": [
    "# 时间字符串转时间戳\n",
    "time_string = \"2025-02-17 10:30:57\"\n",
    "time_tuple = time.strptime(time_string, \"%Y-%m-%d %H:%M:%S\")\n",
    "timestamp = time.mktime(time_tuple)\n",
    "print(timestamp)"
   ]
  },
  {
   "cell_type": "markdown",
   "id": "bd846ace",
   "metadata": {},
   "source": [
    "- 线程休眠"
   ]
  },
  {
   "cell_type": "code",
   "execution_count": null,
   "id": "88340e09",
   "metadata": {},
   "outputs": [],
   "source": [
    "print(\"Start\")\n",
    "time.sleep(3)  # 休眠 3 秒\n",
    "print(\"End\")"
   ]
  },
  {
   "cell_type": "markdown",
   "id": "c5d84eac",
   "metadata": {},
   "source": [
    "- 计算程序运行时间"
   ]
  },
  {
   "cell_type": "code",
   "execution_count": 6,
   "id": "50e9043f",
   "metadata": {},
   "outputs": [
    {
     "name": "stdout",
     "output_type": "stream",
     "text": [
      "Execution time: 0.054021 seconds\n"
     ]
    }
   ],
   "source": [
    "# 使用 time.time()\n",
    "start = time.time()\n",
    "for _ in range(1000000):\n",
    "    pass\n",
    "end = time.time()\n",
    "print(f\"Execution time: {end - start:.6f} seconds\")"
   ]
  },
  {
   "cell_type": "code",
   "execution_count": 7,
   "id": "140b4bb2",
   "metadata": {},
   "outputs": [
    {
     "name": "stdout",
     "output_type": "stream",
     "text": [
      "Execution time: 0.054458 seconds\n"
     ]
    }
   ],
   "source": [
    "# 使用 time.perf_counter() 获取高精度时间\n",
    "start = time.perf_counter()\n",
    "for _ in range(1000000):\n",
    "    pass\n",
    "end = time.perf_counter()\n",
    "print(f\"Execution time: {end - start:.6f} seconds\")"
   ]
  },
  {
   "cell_type": "markdown",
   "id": "cf477427",
   "metadata": {},
   "source": [
    "- 获取 CPU 运行时间"
   ]
  },
  {
   "cell_type": "code",
   "execution_count": 8,
   "id": "6727a201",
   "metadata": {},
   "outputs": [
    {
     "name": "stdout",
     "output_type": "stream",
     "text": [
      "CPU time used: 0.055795 seconds\n"
     ]
    }
   ],
   "source": [
    "start = time.process_time()\n",
    "for _ in range(1000000):\n",
    "    pass\n",
    "end = time.process_time()\n",
    "print(f\"CPU time used: {end - start:.6f} seconds\")"
   ]
  },
  {
   "cell_type": "markdown",
   "id": "27234f19",
   "metadata": {},
   "source": [
    "- 获取 UTC 时间"
   ]
  },
  {
   "cell_type": "code",
   "execution_count": null,
   "id": "d9c6d740",
   "metadata": {},
   "outputs": [],
   "source": [
    "utc_time = time.gmtime()\n",
    "print(time.strftime(\"%Y-%m-%d %H:%M:%S\", utc_time))"
   ]
  },
  {
   "cell_type": "markdown",
   "id": "4c95c5e9",
   "metadata": {},
   "source": [
    "### `datetime` 模块\n",
    "<hr>\n",
    "\n",
    "`datetime` 是 Python 标准库中的一个模块，提供日期、时间处理的功能，包括获取当前时间、日期计算、时区处理等。"
   ]
  },
  {
   "cell_type": "markdown",
   "id": "4ee7d5c4",
   "metadata": {},
   "source": [
    "- 获取当前时间"
   ]
  },
  {
   "cell_type": "code",
   "execution_count": 1,
   "id": "c28ff396",
   "metadata": {},
   "outputs": [
    {
     "name": "stdout",
     "output_type": "stream",
     "text": [
      "2025-02-16 19:30:17.302875\n"
     ]
    }
   ],
   "source": [
    "from datetime import datetime\n",
    "\n",
    "# 获取当前本地时间\n",
    "now = datetime.now()\n",
    "print(now)  # 输出示例: 2025-02-17 10:30:57.123456"
   ]
  },
  {
   "cell_type": "code",
   "execution_count": 2,
   "id": "c43ced2f",
   "metadata": {},
   "outputs": [
    {
     "name": "stdout",
     "output_type": "stream",
     "text": [
      "2025-02-16 19:30:18.721115+00:00\n"
     ]
    }
   ],
   "source": [
    "from datetime import datetime, timezone\n",
    "\n",
    "# 获取当前 UTC 时间\n",
    "utc_now = datetime.now(timezone.utc)\n",
    "print(utc_now)  # 2025-02-17 10:30:57.123456+00:00"
   ]
  },
  {
   "cell_type": "markdown",
   "id": "f5a62841",
   "metadata": {},
   "source": [
    "- 创建自定义时间"
   ]
  },
  {
   "cell_type": "code",
   "execution_count": 3,
   "id": "b4c301ac",
   "metadata": {},
   "outputs": [
    {
     "name": "stdout",
     "output_type": "stream",
     "text": [
      "2025-02-17 10:30:57\n"
     ]
    }
   ],
   "source": [
    "from datetime import datetime\n",
    "\n",
    "# 创建指定时间\n",
    "dt = datetime(2025, 2, 17, 10, 30, 57)\n",
    "print(dt)  # 2025-02-17 10:30:57"
   ]
  },
  {
   "cell_type": "code",
   "execution_count": 4,
   "id": "d5fa22ac",
   "metadata": {},
   "outputs": [
    {
     "name": "stdout",
     "output_type": "stream",
     "text": [
      "2024-02-17 18:10:57\n",
      "2024-02-17 18:10:57\n"
     ]
    }
   ],
   "source": [
    "from datetime import datetime\n",
    "\n",
    "# 从时间戳创建时间\n",
    "timestamp = 1708193457  # 2025-02-17 10:30:57 对应的时间戳\n",
    "dt = datetime.fromtimestamp(timestamp)  # 本地时间\n",
    "utc_dt = datetime.utcfromtimestamp(timestamp)  # UTC 时间\n",
    "print(dt)\n",
    "print(utc_dt)"
   ]
  },
  {
   "cell_type": "markdown",
   "id": "9643a8b3",
   "metadata": {},
   "source": [
    "- 时间格式化"
   ]
  },
  {
   "cell_type": "code",
   "execution_count": 5,
   "id": "0d244dcc",
   "metadata": {},
   "outputs": [
    {
     "name": "stdout",
     "output_type": "stream",
     "text": [
      "2025-02-17 10:30:57\n"
     ]
    }
   ],
   "source": [
    "from datetime import datetime\n",
    "\n",
    "dt = datetime(2025, 2, 17, 10, 30, 57)\n",
    "\n",
    "# datetime 转字符串\n",
    "formatted_str = dt.strftime(\"%Y-%m-%d %H:%M:%S\")\n",
    "print(formatted_str)"
   ]
  },
  {
   "cell_type": "code",
   "execution_count": 6,
   "id": "57034baf",
   "metadata": {},
   "outputs": [
    {
     "name": "stdout",
     "output_type": "stream",
     "text": [
      "2025-02-17 10:30:57\n"
     ]
    }
   ],
   "source": [
    "from datetime import datetime\n",
    "\n",
    "# 字符串 转 datetime\n",
    "time_str = \"2025-02-17 10:30:57\"\n",
    "dt = datetime.strptime(time_str, \"%Y-%m-%d %H:%M:%S\")\n",
    "print(dt)"
   ]
  },
  {
   "cell_type": "markdown",
   "id": "1e4b45cb",
   "metadata": {},
   "source": [
    "- 时间计算"
   ]
  },
  {
   "cell_type": "code",
   "execution_count": 7,
   "id": "e73beeba",
   "metadata": {},
   "outputs": [
    {
     "name": "stdout",
     "output_type": "stream",
     "text": [
      "2025-02-22 13:30:57\n"
     ]
    }
   ],
   "source": [
    "from datetime import datetime, timedelta\n",
    "\n",
    "dt = datetime(2025, 2, 17, 10, 30, 57)\n",
    "new_dt = dt + timedelta(days=5, hours=3)\n",
    "print(new_dt)"
   ]
  },
  {
   "cell_type": "code",
   "execution_count": 8,
   "id": "c6ab42b9",
   "metadata": {},
   "outputs": [
    {
     "name": "stdout",
     "output_type": "stream",
     "text": [
      "3 days, 4:29:03\n",
      "275343.0\n"
     ]
    }
   ],
   "source": [
    "from datetime import datetime\n",
    "\n",
    "dt1 = datetime(2025, 2, 17, 10, 30, 57)\n",
    "dt2 = datetime(2025, 2, 20, 15, 0, 0)\n",
    "\n",
    "diff = dt2 - dt1\n",
    "print(diff)\n",
    "print(diff.total_seconds())"
   ]
  },
  {
   "cell_type": "markdown",
   "id": "d9b17afe",
   "metadata": {},
   "source": [
    "- 处理时区"
   ]
  },
  {
   "cell_type": "code",
   "execution_count": 9,
   "id": "e283510a",
   "metadata": {},
   "outputs": [
    {
     "name": "stdout",
     "output_type": "stream",
     "text": [
      "2025-02-17 03:31:25.638226+08:00\n"
     ]
    }
   ],
   "source": [
    "from datetime import datetime, timezone, timedelta\n",
    "\n",
    "utc_now = datetime.now(timezone.utc)\n",
    "beijing_time = utc_now.astimezone(timezone(timedelta(hours=8)))\n",
    "print(beijing_time)"
   ]
  },
  {
   "cell_type": "code",
   "execution_count": 10,
   "id": "791f0033",
   "metadata": {},
   "outputs": [
    {
     "name": "stdout",
     "output_type": "stream",
     "text": [
      "2025-02-16 19:31:26.185070+00:00\n"
     ]
    }
   ],
   "source": [
    "from datetime import datetime, timezone\n",
    "\n",
    "local_time = datetime.now()\n",
    "utc_time = local_time.astimezone(timezone.utc)\n",
    "print(utc_time)"
   ]
  },
  {
   "cell_type": "code",
   "execution_count": null,
   "id": "4a4e3be4",
   "metadata": {},
   "outputs": [],
   "source": []
  },
  {
   "cell_type": "markdown",
   "id": "685e92e7",
   "metadata": {},
   "source": [
    "<script src=\"https://giscus.app/client.js\"\n",
    "        data-repo=\"robinchen121/book-Python-Data-Science\"\n",
    "        data-repo-id=\"R_kgDOKFdyOw\"\n",
    "        data-category=\"Announcements\"\n",
    "        data-category-id=\"DIC_kwDOKFdyO84CgWHi\"\n",
    "        data-mapping=\"pathname\"\n",
    "        data-strict=\"0\"\n",
    "        data-reactions-enabled=\"1\"\n",
    "        data-emit-metadata=\"0\"\n",
    "        data-input-position=\"bottom\"\n",
    "        data-theme=\"light\"\n",
    "        data-lang=\"en\"\n",
    "        crossorigin=\"anonymous\"\n",
    "        async>\n",
    "</script>"
   ]
  },
  {
   "cell_type": "markdown",
   "id": "3953c31d",
   "metadata": {},
   "source": [
    "<!-- Toogle google translation -->\n",
    "<div id=\"google_translate_element\"></div>\n",
    "\n",
    "<script type=\"text/javascript\">\n",
    "      function googleTranslateElementInit() {\n",
    "        new google.translate.TranslateElement({ pageLanguage: 'zh-CN',\n",
    "                  includedLanguages: 'en,zh-CN,zh-TW,ja,ko,de,ru,fr,es,it,pt,hi,ar,fa',\n",
    "layout: google.translate.TranslateElement.InlineLayout.SIMPLE }, 'google_translate_element');\n",
    "      }\n",
    "</script>\n",
    "<script type=\"text/javascript\"\n",
    "      src=\"https://translate.google.com/translate_a/element.js?cb=googleTranslateElementInit\"\n",
    "></script>\n",
    "<br>"
   ]
  }
 ],
 "metadata": {
  "kernelspec": {
   "display_name": "Python 3 (ipykernel)",
   "language": "python",
   "name": "python3"
  },
  "language_info": {
   "codemirror_mode": {
    "name": "ipython",
    "version": 3
   },
   "file_extension": ".py",
   "mimetype": "text/x-python",
   "name": "python",
   "nbconvert_exporter": "python",
   "pygments_lexer": "ipython3",
   "version": "3.10.9"
  }
 },
 "nbformat": 4,
 "nbformat_minor": 5
}
