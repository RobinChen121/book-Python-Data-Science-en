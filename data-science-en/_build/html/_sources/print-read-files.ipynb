{
 "cells": [
  {
   "cell_type": "markdown",
   "id": "8d352d8c",
   "metadata": {
    "slideshow": {
     "slide_type": "slide"
    }
   },
   "source": [
    "# Python 输出，读写文件\n",
    "<hr>\n",
    "\n",
    "## print 函数输出\n",
    "<hr>\n",
    "\n",
    "Python 输出非常方便，用``print()``函数，小括号里面可以是数字、字符串、列表、字典等类型。"
   ]
  },
  {
   "cell_type": "code",
   "execution_count": 1,
   "id": "66dd5d6e",
   "metadata": {
    "slideshow": {
     "slide_type": "subslide"
    }
   },
   "outputs": [
    {
     "name": "stdout",
     "output_type": "stream",
     "text": [
      "[12, 45, 69]\n"
     ]
    }
   ],
   "source": [
    "print([12, 45, 69])  # 列表"
   ]
  },
  {
   "cell_type": "code",
   "execution_count": 2,
   "id": "a84ac643",
   "metadata": {
    "slideshow": {
     "slide_type": "fragment"
    }
   },
   "outputs": [
    {
     "name": "stdout",
     "output_type": "stream",
     "text": [
      "{'name': 'chen', 'mark': 85}\n"
     ]
    }
   ],
   "source": [
    "print({\"name\": \"chen\", \"mark\": 85})  # 字典"
   ]
  },
  {
   "cell_type": "markdown",
   "id": "97fd524e",
   "metadata": {
    "slideshow": {
     "slide_type": "subslide"
    }
   },
   "source": [
    "也可以把字符串跟变量一起放到``print``函数里面输出"
   ]
  },
  {
   "cell_type": "code",
   "execution_count": 3,
   "id": "9aa52c16",
   "metadata": {
    "slideshow": {
     "slide_type": "fragment"
    }
   },
   "outputs": [
    {
     "name": "stdout",
     "output_type": "stream",
     "text": [
      "a =  [1, 2, 3] ,b =  4\n"
     ]
    }
   ],
   "source": [
    "a = [1, 2, 3]\n",
    "b = 4\n",
    "print(\"a = \", a, \",b = \", b)"
   ]
  },
  {
   "cell_type": "markdown",
   "id": "d813fb15",
   "metadata": {
    "slideshow": {
     "slide_type": "subslide"
    }
   },
   "source": [
    "print 默认输出后光标换行："
   ]
  },
  {
   "cell_type": "code",
   "execution_count": 4,
   "id": "9f01def7",
   "metadata": {
    "slideshow": {
     "slide_type": "fragment"
    }
   },
   "outputs": [
    {
     "name": "stdout",
     "output_type": "stream",
     "text": [
      "my name is zhang\n",
      "age is 25\n"
     ]
    }
   ],
   "source": [
    "a = \"zhang\"\n",
    "age = 25\n",
    "print(\"my name is %s\" % a)  # 光标换行了\n",
    "print(\"age is %d\" % age)"
   ]
  },
  {
   "cell_type": "markdown",
   "id": "961f40ab",
   "metadata": {
    "slideshow": {
     "slide_type": "subslide"
    }
   },
   "source": [
    "若要更改 print 光标结尾的内容，可以通过`end`参数更改："
   ]
  },
  {
   "cell_type": "code",
   "execution_count": 5,
   "id": "7b90898b",
   "metadata": {
    "slideshow": {
     "slide_type": "fragment"
    }
   },
   "outputs": [
    {
     "name": "stdout",
     "output_type": "stream",
     "text": [
      "my name is zhang-age is 25\n"
     ]
    }
   ],
   "source": [
    "a = \"zhang\"\n",
    "age = 25\n",
    "print(\"my name is %s\" % a, end=\"-\")\n",
    "print(\"age is %d\" % age)"
   ]
  },
  {
   "cell_type": "markdown",
   "id": "946da64f",
   "metadata": {},
   "source": [
    "若要在一个 print 语句中输出多个变量，可以将多个变量放在一个元组 (tuple) 里："
   ]
  },
  {
   "cell_type": "code",
   "execution_count": 6,
   "id": "8ef886aa",
   "metadata": {},
   "outputs": [
    {
     "name": "stdout",
     "output_type": "stream",
     "text": [
      "my name is zhang and I am 25 years old.\n"
     ]
    }
   ],
   "source": [
    "a = \"zhang\"\n",
    "age = 25\n",
    "print(\"my name is %s and I am %d years old.\" % (a, age))"
   ]
  },
  {
   "cell_type": "markdown",
   "id": "0b21b518",
   "metadata": {
    "slideshow": {
     "slide_type": "subslide"
    }
   },
   "source": [
    "## f 函数输出\n",
    "<hr>"
   ]
  },
  {
   "cell_type": "markdown",
   "id": "82b160aa",
   "metadata": {
    "slideshow": {
     "slide_type": "fragment"
    }
   },
   "source": [
    "输出也可以用 ``f{expression}``，大括号中的 exression 可以是一个变量名，例如，下面的代码打印出一个数组列表："
   ]
  },
  {
   "cell_type": "code",
   "execution_count": 7,
   "id": "cc5853c8",
   "metadata": {
    "slideshow": {
     "slide_type": "fragment"
    }
   },
   "outputs": [
    {
     "name": "stdout",
     "output_type": "stream",
     "text": [
      "the array is [1, 2, 3]\n"
     ]
    }
   ],
   "source": [
    "a = [1, 2, 3]\n",
    "print(f\"the array is {a}\")  # 输出列表 a"
   ]
  },
  {
   "cell_type": "code",
   "execution_count": 8,
   "id": "22c9df19",
   "metadata": {
    "scrolled": true,
    "slideshow": {
     "slide_type": "subslide"
    }
   },
   "outputs": [
    {
     "name": "stdout",
     "output_type": "stream",
     "text": [
      "the array is [1, 2, 3], the numer is 3.2\n"
     ]
    }
   ],
   "source": [
    "b = 3.2\n",
    "print(f\"the array is {a}, the numer is {b}\")"
   ]
  },
  {
   "cell_type": "code",
   "execution_count": 9,
   "id": "e16d4815",
   "metadata": {
    "scrolled": true,
    "slideshow": {
     "slide_type": "fragment"
    }
   },
   "outputs": [
    {
     "name": "stdout",
     "output_type": "stream",
     "text": [
      "the numbers are 3.141592653589793 and 4.56\n"
     ]
    }
   ],
   "source": [
    "import math\n",
    "\n",
    "b = 4.56\n",
    "print(f\"the numbers are {math.pi} and {b}\")"
   ]
  },
  {
   "cell_type": "markdown",
   "id": "03e00f87",
   "metadata": {},
   "source": [
    "也可以结合冒号`:`指定保留的小数位数，结合等号`=`实现等号赋值的表达。例如"
   ]
  },
  {
   "cell_type": "markdown",
   "id": "15094cfa",
   "metadata": {},
   "source": [
    "冒号后面的格式具体为：\n",
    "\n",
    "|: <填充><对齐><宽度><.><精度><变量类型>|\n",
    "|--|"
   ]
  },
  {
   "cell_type": "markdown",
   "id": "f4628406",
   "metadata": {
    "slideshow": {
     "slide_type": "subslide"
    }
   },
   "source": [
    "常见的对齐代码有：\n",
    "\n",
    "|代码|含义|\n",
    "|:--|:--|\n",
    "|>|右对齐，默认|\n",
    "|<|左对齐|\n",
    "|^|居中对齐|"
   ]
  },
  {
   "cell_type": "markdown",
   "id": "e2f75df9",
   "metadata": {
    "slideshow": {
     "slide_type": "fragment"
    }
   },
   "source": [
    "常见的变量类型代码有：\n",
    "\n",
    "|代码|含义|\n",
    "|:--|:--|\n",
    "|s|输出字符串形式，默认形式|\n",
    "|d|输出整数的十进制|\n",
    "|b|输出整数的二进制|\n",
    "|f|输出浮点数的标准浮点形式|\n",
    "|e|输出浮点数的科学表示形式|\n",
    "|%|输出浮点数的百分形式|"
   ]
  },
  {
   "cell_type": "code",
   "execution_count": 10,
   "id": "62e8de9b",
   "metadata": {},
   "outputs": [
    {
     "data": {
      "text/plain": [
       "'the numbers are 1.000 and b =              456.00%'"
      ]
     },
     "execution_count": 10,
     "metadata": {},
     "output_type": "execute_result"
    }
   ],
   "source": [
    "a = 1\n",
    "b = 4.56\n",
    "# 第一个数保留 3 位小数，浮点型，第二个数右对齐，宽度 20，保留 2 位小数，百分数显示\n",
    "f\"the numbers are {a:.3f} and {b = :>20.2%}\""
   ]
  },
  {
   "cell_type": "code",
   "execution_count": 11,
   "id": "437b481f",
   "metadata": {},
   "outputs": [
    {
     "name": "stdout",
     "output_type": "stream",
     "text": [
      "a = +++5.60+++\n"
     ]
    }
   ],
   "source": [
    "a = 5.6\n",
    "print(f\"{a = :+^10.2f}\")  # 用+填充，居中对齐，宽度为 10，保留两位小数"
   ]
  },
  {
   "cell_type": "markdown",
   "id": "2de3efa1-31a5-4d8e-b7bc-675c9dd9e5c6",
   "metadata": {},
   "source": [
    "````{note}\n",
    "填充，对齐，宽度，精度，变量类型本身也可以作为变量\n",
    "````"
   ]
  },
  {
   "cell_type": "code",
   "execution_count": 12,
   "id": "566dd2e2-cabb-423a-ab73-e5d3633162c3",
   "metadata": {},
   "outputs": [
    {
     "name": "stdout",
     "output_type": "stream",
     "text": [
      "a = ***5.60***\n"
     ]
    }
   ],
   "source": [
    "a = 5.6\n",
    "fill = \"*\"\n",
    "print(f\"{a = :{fill}^10.2f}\")  # 用+填充，居中对齐，宽度为 10，保留两位小数"
   ]
  },
  {
   "cell_type": "markdown",
   "id": "77bb29d7",
   "metadata": {
    "slideshow": {
     "slide_type": "subslide"
    }
   },
   "source": [
    "## 用 format 格式化输出\n",
    "<hr>\n"
   ]
  },
  {
   "cell_type": "markdown",
   "id": "7dd70132",
   "metadata": {
    "slideshow": {
     "slide_type": "fragment"
    }
   },
   "source": [
    "用``format``也可以实现多种格式化输出，它的基本用法为：\n",
    "\n",
    "<table>   \n",
    "    <tr style=\"border-top:solid; border-bottom:solid\">\n",
    "            <th colspan=2 style=\"text-align:center\">包含{}的string.format(value1, value2...)</th>\n",
    "    </tr>\n",
    "</table>\n",
    "<br />\n"
   ]
  },
  {
   "cell_type": "markdown",
   "id": "e2dc5858",
   "metadata": {
    "slideshow": {
     "slide_type": "subslide"
    }
   },
   "source": [
    "在字符串 string 中，用大括号``{}``表示变量在输出时所在的位置。"
   ]
  },
  {
   "cell_type": "code",
   "execution_count": 13,
   "id": "d511c11d",
   "metadata": {
    "slideshow": {
     "slide_type": "fragment"
    }
   },
   "outputs": [
    {
     "name": "stdout",
     "output_type": "stream",
     "text": [
      "the numbers are 3 and 4.560\n"
     ]
    }
   ],
   "source": [
    "a = 3\n",
    "b = 4.56\n",
    "print(\"the numbers are {} and {:.3f}\".format(a, b))"
   ]
  },
  {
   "cell_type": "markdown",
   "id": "c12d5c8c",
   "metadata": {
    "slideshow": {
     "slide_type": "subslide"
    }
   },
   "source": [
    "大括号``{}``中可以跟一个表示变量的位置索引的数字。"
   ]
  },
  {
   "cell_type": "code",
   "execution_count": 14,
   "id": "9c58cdcd",
   "metadata": {
    "slideshow": {
     "slide_type": "fragment"
    }
   },
   "outputs": [
    {
     "name": "stdout",
     "output_type": "stream",
     "text": [
      "the numbers are 4.56 and 3\n",
      "the numbers are 3 and 4.56\n",
      "the numbers are 3 and 4.56 and 3\n"
     ]
    }
   ],
   "source": [
    "a = 3\n",
    "b = 4.56\n",
    "print(\"the numbers are {1} and {0}\".format(a, b))  # 指定了变量的 print 位置\n",
    "print(\"the numbers are {0} and {1}\".format(a, b))\n",
    "print(\"the numbers are {0} and {1} and {0}\".format(a, b))"
   ]
  },
  {
   "cell_type": "markdown",
   "id": "641f9091",
   "metadata": {
    "slideshow": {
     "slide_type": "subslide"
    }
   },
   "source": [
    "要输出大括号符号，则用两个大括号表示："
   ]
  },
  {
   "cell_type": "code",
   "execution_count": 15,
   "id": "6dea9ccb",
   "metadata": {
    "slideshow": {
     "slide_type": "fragment"
    }
   },
   "outputs": [
    {
     "name": "stdout",
     "output_type": "stream",
     "text": [
      "the numbers are { 3 } and { 4.56 }\n"
     ]
    }
   ],
   "source": [
    "print(\"the numbers are {{ {0} }} and {{ {1} }}\".format(a, b))"
   ]
  },
  {
   "cell_type": "markdown",
   "id": "b7b5916a",
   "metadata": {
    "slideshow": {
     "slide_type": "subslide"
    }
   },
   "source": [
    "使用``format``时，在大括号``{}``中，可以通过冒号``:``以及其他参数，实现一些格式化输出。具体为：\n",
    "\n",
    "|<变量位置索引> : <填充><对齐><宽度><.><精度><变量类型>}|\n",
    "|--|"
   ]
  },
  {
   "cell_type": "code",
   "execution_count": 16,
   "id": "f6568b0c",
   "metadata": {
    "slideshow": {
     "slide_type": "subslide"
    }
   },
   "outputs": [
    {
     "name": "stdout",
     "output_type": "stream",
     "text": [
      "the numbers are       3.00 and 300.000%\n"
     ]
    }
   ],
   "source": [
    "a = 3\n",
    "b = 4.56\n",
    "print(\"the numbers are {0:10.2f} and {0:.3%}\".format(a, b))  # print 小数和百分数"
   ]
  },
  {
   "cell_type": "code",
   "execution_count": 17,
   "id": "4b60e0e4",
   "metadata": {
    "slideshow": {
     "slide_type": "fragment"
    }
   },
   "outputs": [
    {
     "name": "stdout",
     "output_type": "stream",
     "text": [
      "the numer is 1.234560e+05\n"
     ]
    }
   ],
   "source": [
    "a = 123456\n",
    "print(\"the numer is {:e}\".format(a))  # print 科学计数格式"
   ]
  },
  {
   "cell_type": "markdown",
   "id": "7d8d35e2",
   "metadata": {
    "slideshow": {
     "slide_type": "subslide"
    }
   },
   "source": [
    "一些例子："
   ]
  },
  {
   "cell_type": "code",
   "execution_count": 18,
   "id": "9d861fd9",
   "metadata": {
    "slideshow": {
     "slide_type": "fragment"
    }
   },
   "outputs": [
    {
     "name": "stdout",
     "output_type": "stream",
     "text": [
      "a = 00005\n"
     ]
    }
   ],
   "source": [
    "a = 5\n",
    "print(\"a = {:0>5d}\".format(a))  # 用零填充左边, 宽度为5"
   ]
  },
  {
   "cell_type": "code",
   "execution_count": 19,
   "id": "18af9acb",
   "metadata": {
    "slideshow": {
     "slide_type": "fragment"
    }
   },
   "outputs": [
    {
     "name": "stdout",
     "output_type": "stream",
     "text": [
      "a = 5   \n"
     ]
    }
   ],
   "source": [
    "a = 5\n",
    "print(\"a = {:<4d}\".format(a))  # 填充右边, 默认采用空格填充，宽度为 4"
   ]
  },
  {
   "cell_type": "code",
   "execution_count": 20,
   "id": "5c2c1a37",
   "metadata": {
    "slideshow": {
     "slide_type": "fragment"
    }
   },
   "outputs": [
    {
     "name": "stdout",
     "output_type": "stream",
     "text": [
      "a = +++5.60+++\n"
     ]
    }
   ],
   "source": [
    "a = 5.6\n",
    "print(\"a = {:+^10.2f}\".format(a))  # 用+填充，居中对齐，宽度为 10，保留两位小数"
   ]
  },
  {
   "cell_type": "markdown",
   "id": "c6efa190",
   "metadata": {},
   "source": [
    "宽度值以及精读值可以作为变量，用大括号 {} 结合参数传递的形式赋值，例如："
   ]
  },
  {
   "cell_type": "code",
   "execution_count": 21,
   "id": "09938243",
   "metadata": {},
   "outputs": [
    {
     "name": "stdout",
     "output_type": "stream",
     "text": [
      "a =   5.600   \n"
     ]
    }
   ],
   "source": [
    "a = 5.6\n",
    "print(\"a = {:^{width}.{precision}f}\".format(a, width=10, precision=3))  # 宽度与精度值作为变量"
   ]
  },
  {
   "cell_type": "markdown",
   "id": "845deff5",
   "metadata": {},
   "source": [
    "## 用 % 格式化输出\n",
    "<hr>\n",
    "若要格式化输出，要用到百分号 %，语法规则类似 c 语言，具体参考下面的例子。"
   ]
  },
  {
   "cell_type": "code",
   "execution_count": 22,
   "id": "b7dadf8b",
   "metadata": {},
   "outputs": [
    {
     "name": "stdout",
     "output_type": "stream",
     "text": [
      "the number is 3\n"
     ]
    }
   ],
   "source": [
    "import math\n",
    "\n",
    "print(\"the number is %d\" % math.pi)  # 按照整数 print"
   ]
  },
  {
   "cell_type": "code",
   "execution_count": 23,
   "id": "7ed1c925",
   "metadata": {},
   "outputs": [
    {
     "name": "stdout",
     "output_type": "stream",
     "text": [
      "the number is 3.14\n"
     ]
    }
   ],
   "source": [
    "print(\"the number is %.2f\" % math.pi)  # 按照浮点数 print，并保留 2 位小数"
   ]
  },
  {
   "cell_type": "code",
   "execution_count": 24,
   "id": "42f26d55",
   "metadata": {},
   "outputs": [
    {
     "name": "stdout",
     "output_type": "stream",
     "text": [
      "the number is 3.14\n",
      "\n"
     ]
    }
   ],
   "source": [
    "print(\"the number is %.2f\\n\" % math.pi)  # \\n 表示 print 后光标换行"
   ]
  },
  {
   "cell_type": "code",
   "execution_count": 25,
   "id": "0aa6bfe9",
   "metadata": {},
   "outputs": [
    {
     "name": "stdout",
     "output_type": "stream",
     "text": [
      "the numbers are 3.14 and 4\n"
     ]
    }
   ],
   "source": [
    "b = 4.56\n",
    "print(\"the numbers are %.2f and %d\" % (math.pi, b))  # 同时 print 多个数据"
   ]
  },
  {
   "cell_type": "code",
   "execution_count": 26,
   "id": "64cce596",
   "metadata": {},
   "outputs": [
    {
     "name": "stdout",
     "output_type": "stream",
     "text": [
      "the number is  3.14\n"
     ]
    }
   ],
   "source": [
    "print(\"the number is %5.2f\" % math.pi)  # 按照浮点数 print，保留 2 位小数，并且输出内容的宽度为5个字符"
   ]
  },
  {
   "cell_type": "code",
   "execution_count": 27,
   "id": "a524414a",
   "metadata": {},
   "outputs": [
    {
     "name": "stdout",
     "output_type": "stream",
     "text": [
      "the number is 321\n"
     ]
    }
   ],
   "source": [
    "print(\"the number is %s\" % 321)  # 按照字符串 print"
   ]
  },
  {
   "cell_type": "code",
   "execution_count": 28,
   "id": "407104bb",
   "metadata": {},
   "outputs": [
    {
     "name": "stdout",
     "output_type": "stream",
     "text": [
      "4.6%\n"
     ]
    }
   ],
   "source": [
    "print(\"%.1f%%\" % b)  # 百分比输出，并保留一位小数"
   ]
  },
  {
   "cell_type": "markdown",
   "id": "123c4925",
   "metadata": {},
   "source": [
    "引号里面的百分号 % 定义了输出数据的格式，%d 表示按整数类型输出， %.2f 表示按浮点型输出，其中小数点后的数字表示保留几位小数，小数点前的数字表示输出变量所占的字符宽度，%s 表示按字符串输出,%.1f%% 表示按百分比输出，并保留一位小数。同时 print()函数里面还用一个百分号 % 分割 print 内容与数据变量，多个数据变量可以在小括号里面。"
   ]
  },
  {
   "cell_type": "markdown",
   "id": "9d0d96b8",
   "metadata": {
    "slideshow": {
     "slide_type": "subslide"
    }
   },
   "source": [
    "## 读写文件\n",
    "<hr>\n",
    "\n",
    "Python 对文本文件的操作步骤为`打开——操作——关闭`：打开计算机存储位置的一个文件，进行一些读写操作，然后关闭这个文件。打开后的文件处于占用状态，此时计算机的其他进程不能操作这个文件；文件关闭后，其他进程才能操作这个文件。"
   ]
  },
  {
   "cell_type": "markdown",
   "id": "1c6b9a8e",
   "metadata": {
    "slideshow": {
     "slide_type": "subslide"
    }
   },
   "source": [
    "Python 用``open()``函数打开一个文件对象，常用的语法规则为：\n",
    "\n",
    "<table>   \n",
    "    <tr style=\"border-top:solid; border-bottom:solid\">\n",
    "            <th colspan=2 style=\"text-align:center\">open 语句的一般模式</th>\n",
    "    </tr>\n",
    "    <tr>\n",
    "        <td style=\"text-align:left\">filename</td>\n",
    "        <td style=\"text-align:left\">字符串，文件地址及文件名，默认地址为当前的项目文件夹</td>\n",
    "    </tr>\n",
    "    <tr style=\"border-bottom:solid\">\n",
    "        <td style=\"text-align:left\">mode</td>\n",
    "        <td style=\"text-align:left\">文件读写模式，默认模式为只读(r)</td>\n",
    "    </tr>\n",
    "</table>\n",
    "<br />"
   ]
  },
  {
   "cell_type": "markdown",
   "id": "7da4bc3d",
   "metadata": {
    "slideshow": {
     "slide_type": "subslide"
    }
   },
   "source": [
    "常见的文件读写模式（mode）有：\n",
    "\n",
    "<table>\n",
    "    <tr style=\"border-top:solid\">\n",
    "        <td style=\"text-align:left\">r</td>\n",
    "        <td style=\"text-align:left\">以只读方式打开文件，从文件内容开头读取，这是默认模式</td>\n",
    "    </tr>\n",
    "    <tr>\n",
    "        <td rowspan=2 style=\"text-align:left\">w</td>\n",
    "        <td style=\"text-align:left\">打开一个文件只用于写入，从文件内容开头写入，即原有内容会被删除；</td>\n",
    "    </tr>\n",
    "    <tr>\n",
    "        <td style=\"text-align:left\">如果该文件不存在，创建新文件</td>\n",
    "    </tr>\n",
    "    <tr>\n",
    "        <td rowspan=2 style=\"text-align:left\">w+</td>\n",
    "        <td style=\"text-align:left\">打开一个文件用于读写，从文件内容开头写入，即原有内容会被删除；</td>\n",
    "    </tr>\n",
    "    <tr>\n",
    "        <td style=\"text-align:left\">如果该文件不存在，创建新文件</td>\n",
    "    </tr>\n",
    "    <tr>\n",
    "        <td style=\"text-align:left\">r+</td>\n",
    "        <td style=\"text-align:left\">打开一个文件用于读写。文件指针将会放在文件的开头</td>\n",
    "    </tr>\n",
    "    <tr>\n",
    "        <td rowspan=2 style=\"text-align:left\">a</td>\n",
    "        <td style=\"text-align:left\">打开一个文件用于追加写入，如果该文件已存在，从文件结尾写入；</td>\n",
    "    </tr>\n",
    "    <tr>\n",
    "        <td style=\"text-align:left\">如果该文件不存在，创建新文件进行写入</td>\n",
    "    </tr>\n",
    "    <tr>\n",
    "        <td rowspan=2 style=\"text-align:left\">a+</td>\n",
    "        <td style=\"text-align:left\">打开一个文件用于追加读写，如果该文件已存在，从文件结尾写；</td>\n",
    "    </tr>\n",
    "    <tr style=\"border-bottom:solid\">\n",
    "        <td style=\"text-align:left\">如果该文件不存在，创建新文件进行写入</td>\n",
    "    </tr>\n",
    "</table>\n",
    "<br />"
   ]
  },
  {
   "cell_type": "markdown",
   "id": "000c05b1",
   "metadata": {
    "slideshow": {
     "slide_type": "subslide"
    }
   },
   "source": [
    "上面几个读写模式的详细比较如下面的表格所示：\n",
    "\n",
    "| 模式      | r          | r+         | w          | w+         | a          | a+         |\n",
    "|:-------:|------------|------------|------------|------------|------------|------------|\n",
    "| 读       | &check;| &check; |            | &check; |            | &check; |\n",
    "| 写       |            | &check; | &check; | &check; | &check; |&check; |\n",
    "| 创建      |            |            | &check; | &check; | &check; | &check; |\n",
    "| 覆盖      |            |            | &check; | &check; |            |            |\n",
    "| 从文件开始操作 | &check; | &check; | &check; | &check; |            |            |\n",
    "| 在文件末尾操作 |            |            |            |            | &check; |&check; |\n"
   ]
  },
  {
   "cell_type": "markdown",
   "id": "bc48b4e4",
   "metadata": {
    "slideshow": {
     "slide_type": "subslide"
    }
   },
   "source": [
    "举例："
   ]
  },
  {
   "cell_type": "code",
   "execution_count": 29,
   "id": "7a0b7ecc",
   "metadata": {
    "slideshow": {
     "slide_type": "fragment"
    }
   },
   "outputs": [],
   "source": [
    "f = open(\n",
    "    \"test.txt\", \"w\"\n",
    ")  # 在当前文件夹下新建文件，若要在指定位置 E 盘 files 文件夹下打开文件 f = open('E:\\\\files\\\\test.txt', 'r')\n",
    "f.write(\"my name is zhang san\\nhis name is li si\")  # 书写内容，用 \\n 换行\n",
    "f.close()  # 关闭打开的文件"
   ]
  },
  {
   "cell_type": "markdown",
   "id": "085f6b4c",
   "metadata": {
    "slideshow": {
     "slide_type": "fragment"
    }
   },
   "source": [
    "上面的程序在当前目录新建了一个 txt 文件。 通过``write()``函数在文件里面写内容，其中，\\n 表示换行。若要在指定地址内创建和修改文件，可以进一步在 filename 中添加文件地址字符串。 "
   ]
  },
  {
   "cell_type": "markdown",
   "id": "174a073c",
   "metadata": {
    "slideshow": {
     "slide_type": "subslide"
    }
   },
   "source": [
    "下面通过``read()``函数读取文件里的全部内容，并返回一个字符串："
   ]
  },
  {
   "cell_type": "code",
   "execution_count": 30,
   "id": "f4a604b6",
   "metadata": {
    "slideshow": {
     "slide_type": "fragment"
    }
   },
   "outputs": [
    {
     "name": "stdout",
     "output_type": "stream",
     "text": [
      "my name is zhang san\n",
      "his name is li si\n"
     ]
    }
   ],
   "source": [
    "f = open(\"test.txt\", \"r\")\n",
    "str = f.read()  # 读取文件内容\n",
    "print(str)  # 将内容输出到屏幕\n",
    "f.close()  # 关闭打开的文件"
   ]
  },
  {
   "cell_type": "markdown",
   "id": "6057c3b4",
   "metadata": {
    "slideshow": {
     "slide_type": "fragment"
    }
   },
   "source": [
    "如果只读取一行，可以用``readline()``函数，另外可以用``readlines()``函数读取所有行，并返回一个每行作为元素的列表。"
   ]
  },
  {
   "cell_type": "markdown",
   "id": "dbc88b38",
   "metadata": {
    "slideshow": {
     "slide_type": "subslide"
    }
   },
   "source": [
    "在实际的 python 读写文件中，经常用到的是`with-open`语句。由于文件读写时可能产生读写 IOError，一旦出错，后面的 f.close() 就不会调用，导致文件在后台一直没有关闭，用 ``with-open``语句可以省略 f.close() 语句。上面的读写代码也可以变为："
   ]
  },
  {
   "cell_type": "code",
   "execution_count": 31,
   "id": "0ab7ba68",
   "metadata": {
    "slideshow": {
     "slide_type": "fragment"
    }
   },
   "outputs": [
    {
     "name": "stdout",
     "output_type": "stream",
     "text": [
      "my name is zhang san\n",
      "his name is li si\n"
     ]
    }
   ],
   "source": [
    "# 写文件\n",
    "with open(\"test.txt\", \"w\") as f:\n",
    "    f.write(\"my name is zhang san\\nhis name is li si\")\n",
    "\n",
    "# 读文件\n",
    "with open(\"test.txt\", \"r\") as f:\n",
    "    str = f.read()  # 读取文件内容\n",
    "    print(str)  # 将内容输出到屏幕"
   ]
  },
  {
   "cell_type": "markdown",
   "id": "f56edb0a",
   "metadata": {
    "slideshow": {
     "slide_type": "subslide"
    }
   },
   "source": [
    "读写数据格式的文件，例如 txt, xls, xlsx, csv 文件等，一般使用工具包``Pandas``读取文件并处理数据，读者可以在本书的``Pandas``章节查阅。读写 word 格式文件，可以使用工具包``textract``，``docx2txt``等，本书不再赘述，感兴趣的读者可以在网上查阅相关资料。"
   ]
  },
  {
   "cell_type": "markdown",
   "id": "48c392b3",
   "metadata": {},
   "source": [
    "## `os`, `sys` 模块\n",
    "<hr>"
   ]
  },
  {
   "cell_type": "markdown",
   "id": "03ae406a",
   "metadata": {},
   "source": [
    "###  `os` 模块\n",
    "<hr>\n",
    "\n",
    "Python 中的 `os` 模块是用于与操作系统交互的标准库，提供了处理文件、目录、进程和环境变量等功能。以下是 `os` 模块的一些主要功能和用法："
   ]
  },
  {
   "cell_type": "markdown",
   "id": "800c9411",
   "metadata": {
    "scrolled": false
   },
   "source": [
    "```python\n",
    "import os\n",
    "\n",
    "print(os.name)  # 获取操作系统名称，'posix' (Linux/macOS) 或 'nt' (Windows)\n",
    "print(os.getcwd())  # 获取当前工作目录\n",
    "print(os.listdir())  # 获取当前目录下的文件和文件夹列表\n",
    "```"
   ]
  },
  {
   "cell_type": "markdown",
   "id": "15a32fa9",
   "metadata": {},
   "source": [
    "- 切换目录"
   ]
  },
  {
   "cell_type": "markdown",
   "id": "7d235d34",
   "metadata": {},
   "source": [
    "```python\n",
    "os.chdir('/path/to/directory')  # 更改当前工作目录到新地址 '/path/to/directory'\n",
    "```"
   ]
  },
  {
   "cell_type": "markdown",
   "id": "d3913633",
   "metadata": {},
   "source": [
    "- 创建和删除目录"
   ]
  },
  {
   "cell_type": "markdown",
   "id": "3d97e8c9-9ffb-451b-a051-e9089a8332c8",
   "metadata": {},
   "source": [
    "```python\n",
    "import os\n",
    "\n",
    "os.mkdir('new_dir')  # 创建一个新目录\n",
    "os.makedirs('parent/child/grandchild')  # 递归创建目录\n",
    "os.rmdir('new_dir')  # 删除目录（目录必须为空）\n",
    "os.removedirs('parent/child/grandchild')  # 递归删除空目录\n",
    "```"
   ]
  },
  {
   "cell_type": "markdown",
   "id": "4b84ead4",
   "metadata": {},
   "source": [
    "- 文件操作"
   ]
  },
  {
   "cell_type": "markdown",
   "id": "4b033b94-e0f1-4304-b2b0-dce7907de3bb",
   "metadata": {},
   "source": [
    "```python\n",
    "import os\n",
    "\n",
    "file_path = \"new_file.txt\"  # 新建文件\n",
    "with open(file_path, \"w\") as f:\n",
    "    f.write(\"Hello, this is a new file!\")  # 写入内容\n",
    "\n",
    "os.rename('new_file.txt', 'new_file2.txt')  # 重命名文件或目录\n",
    "os.remove('new_file2.txt')  # 删除文件\n",
    "```"
   ]
  },
  {
   "cell_type": "markdown",
   "id": "d1ae14a2",
   "metadata": {},
   "source": [
    "- 环境变量"
   ]
  },
  {
   "cell_type": "markdown",
   "id": "26a1b034",
   "metadata": {},
   "source": [
    "```python\n",
    "print(os.environ)  # 获取所有环境变量\n",
    "print(os.environ.get('HOME'))  # 获取特定环境变量\n",
    "os.environ['NEW_VAR'] = 'Hello'  # 设置新的环境变量\n",
    "```"
   ]
  },
  {
   "cell_type": "markdown",
   "id": "201ec199",
   "metadata": {},
   "source": [
    " - 路径处理"
   ]
  },
  {
   "cell_type": "markdown",
   "id": "1ff58c40-8338-42b3-b841-96fa3c977d84",
   "metadata": {},
   "source": [
    "```python\n",
    "import os.path\n",
    "\n",
    "print(os.path.abspath('file.txt'))  # 获取文件的绝对路径\n",
    "print(os.path.dirname('file.txt'))  # 获取文件所在目录名\n",
    "print(os.path.join('dir', 'file.txt'))  # 组合路径\n",
    "print(os.path.exists('file.txt'))  # 检查路径是否存在\n",
    "print(os.path.isfile('file.txt'))  # 检查是否是文件\n",
    "print(os.path.isdir('dir'))  # 检查是否是目录\n",
    "print(os.path.splitext('file.txt'))  # 拆分文件扩展名\n",
    "print(os.path.basename('/path/to/file.txt'))  # 获取文件名\n",
    "```"
   ]
  },
  {
   "metadata": {},
   "cell_type": "markdown",
   "source": "- 得到当前 .py 文件的名字",
   "id": "643ae75b8339b046"
  },
  {
   "metadata": {},
   "cell_type": "markdown",
   "source": [
    "```python\n",
    "import os\n",
    "\n",
    "# 获取当前文件的路径\n",
    "current_file_path = __file__\n",
    "\n",
    "# 提取文件名\n",
    "current_file_name = os.path.basename(current_file_path)\n",
    "```"
   ],
   "id": "84d24a223109cd45"
  },
  {
   "metadata": {},
   "cell_type": "markdown",
   "source": "如果脚本文件名为 example.py，那么输出将会是",
   "id": "f1395ab4cab9983"
  },
  {
   "metadata": {},
   "cell_type": "markdown",
   "source": [
    "```python\n",
    "当前文件名: example.py\n",
    "```"
   ],
   "id": "2a636ee4dc0ea2e"
  },
  {
   "metadata": {},
   "cell_type": "markdown",
   "source": [
    "```{note}\n",
    "Python 可以使用`__file__`属性来获取当前 .py 文件的路径。\n",
    "```"
   ],
   "id": "201ca67be2b0c80e"
  },
  {
   "cell_type": "markdown",
   "id": "c9e20be8",
   "metadata": {},
   "source": [
    "- 进程管理"
   ]
  },
  {
   "cell_type": "code",
   "execution_count": 49,
   "id": "3132cc2c",
   "metadata": {},
   "outputs": [
    {
     "name": "stdout",
     "output_type": "stream",
     "text": [
      "9692\n",
      "3458\n"
     ]
    }
   ],
   "source": [
    "import os\n",
    "\n",
    "print(os.getpid())  # 获取当前进程ID\n",
    "print(os.getppid())  # 获取父进程ID"
   ]
  },
  {
   "cell_type": "markdown",
   "id": "067363d4",
   "metadata": {},
   "source": [
    "- 跨平台操作"
   ]
  },
  {
   "cell_type": "code",
   "execution_count": 50,
   "id": "090d68ed",
   "metadata": {},
   "outputs": [
    {
     "name": "stdout",
     "output_type": "stream",
     "text": [
      "Running on Linux or macOS\n"
     ]
    }
   ],
   "source": [
    "import os\n",
    "\n",
    "if os.name == 'nt':  # Windows\n",
    "    print(\"Running on Windows\")\n",
    "elif os.name == 'posix':  # Linux/macOS\n",
    "    print(\"Running on Linux or macOS\")"
   ]
  },
  {
   "cell_type": "markdown",
   "id": "98a4d4c2",
   "metadata": {},
   "source": [
    "###  `sys` 模块\n",
    "<hr>\n",
    "\n",
    "`sys` 模块提供了一些与 Python 解释器及其环境相关的变量和函数，适用于处理命令行参数、运行时环境、标准输入输出等。"
   ]
  },
  {
   "cell_type": "markdown",
   "id": "cc8eeda8",
   "metadata": {},
   "source": [
    "- 获取 Python 版本"
   ]
  },
  {
   "cell_type": "code",
   "execution_count": 37,
   "id": "1d78ed82",
   "metadata": {},
   "outputs": [
    {
     "name": "stdout",
     "output_type": "stream",
     "text": [
      "3.12.7 | packaged by Anaconda, Inc. | (main, Oct  4 2024, 08:22:19) [Clang 14.0.6 ]\n",
      "sys.version_info(major=3, minor=12, micro=7, releaselevel='final', serial=0)\n"
     ]
    }
   ],
   "source": [
    "import sys\n",
    "\n",
    "print(sys.version)  # 获取 Python 版本\n",
    "print(sys.version_info)  # 获取详细的版本信息"
   ]
  },
  {
   "cell_type": "markdown",
   "id": "be04ddce",
   "metadata": {},
   "source": [
    "- 获取当前系统信息"
   ]
  },
  {
   "cell_type": "code",
   "execution_count": 38,
   "id": "35b94784",
   "metadata": {},
   "outputs": [
    {
     "name": "stdout",
     "output_type": "stream",
     "text": [
      "darwin\n"
     ]
    }
   ],
   "source": [
    "print(sys.platform)  # 获取操作系统类型 ('win32', 'linux', 'darwin' 等)"
   ]
  },
  {
   "cell_type": "markdown",
   "id": "16d860f0",
   "metadata": {},
   "source": [
    "- 获取 Python 模块搜索路径"
   ]
  },
  {
   "cell_type": "markdown",
   "id": "5da60f3b",
   "metadata": {},
   "source": [
    "```python\n",
    "print(sys.path)  # 获取模块搜索路径\n",
    "sys.path.append(\"/my/custom/path\")  # 添加自定义路径\n",
    "```"
   ]
  },
  {
   "cell_type": "markdown",
   "id": "130eb530",
   "metadata": {},
   "source": [
    "## 练习\n",
    "<hr>"
   ]
  },
  {
   "cell_type": "markdown",
   "id": "93a61c1c",
   "metadata": {},
   "source": [
    "```{exercise}\n",
    ":label: output\n",
    "格式化输出 0.0003278 对应的科学计数形式，保留4位有效数字，并且为百分形式。\n",
    "```"
   ]
  },
  {
   "cell_type": "markdown",
   "id": "ec33a2b1",
   "metadata": {},
   "source": [
    "````{solution} output\n",
    ":class: dropdown\n",
    "\n",
    "```{code-block} python\n",
    "print(\"{:.4%}\".format(0.0003278))\n",
    "```\n",
    "````"
   ]
  },
  {
   "cell_type": "markdown",
   "id": "06c456e1",
   "metadata": {},
   "source": [
    "\n",
    "```{exercise}\n",
    ":label: san-guo\n",
    "将下面文字输入到电脑的一个 txt 文件中，并读取将内容显示在屏幕上：\n",
    "\n",
    "话说天下大势，分久必合，合久必分：周末七国分争，并入于秦；及秦灭之后，楚、汉分争，又并入于汉；汉朝自高祖斩白蛇而起义，一统天下，后来光武中兴，传至献帝，遂分为三国。\n",
    "```"
   ]
  },
  {
   "cell_type": "markdown",
   "id": "7884c1dd",
   "metadata": {},
   "source": [
    "````{solution} san-guo\n",
    ":class: dropdown\n",
    "\n",
    "```{code-block} python\n",
    "with open(\"./text.txt\", \"w\") as f:\n",
    "     f.write('话说天下大势，分久必合，合久必分：周末七国分争，并入于秦；及秦灭之后，楚、汉分争，又并入于汉；\\\n",
    "     汉朝自高祖斩白蛇而起义，一统天下，后来光武中兴，传至献帝，遂分为三国。')\n",
    "\n",
    "# 读文件\n",
    "with open (\"./text.txt\", \"r\") as f:\n",
    "     str = f.read()  # 读取文件内容\n",
    "     print(str)  # 将内容输出到屏幕\n",
    "```\n",
    "````"
   ]
  },
  {
   "cell_type": "markdown",
   "id": "cf10f76c",
   "metadata": {},
   "source": [
    "<script src=\"https://giscus.app/client.js\"\n",
    "        data-repo=\"robinchen121/book-Python-Data-Science\"\n",
    "        data-repo-id=\"R_kgDOKFdyOw\"\n",
    "        data-category=\"Announcements\"\n",
    "        data-category-id=\"DIC_kwDOKFdyO84CgWHi\"\n",
    "        data-mapping=\"pathname\"\n",
    "        data-strict=\"0\"\n",
    "        data-reactions-enabled=\"1\"\n",
    "        data-emit-metadata=\"0\"\n",
    "        data-input-position=\"bottom\"\n",
    "        data-theme=\"light\"\n",
    "        data-lang=\"en\"\n",
    "        crossorigin=\"anonymous\"\n",
    "        async>\n",
    "</script>"
   ]
  },
  {
   "cell_type": "markdown",
   "id": "7ebbef9f",
   "metadata": {},
   "source": [
    "<!-- Toogle google translation -->\n",
    "<div id=\"google_translate_element\"></div>\n",
    "\n",
    "<script type=\"text/javascript\">\n",
    "      function googleTranslateElementInit() {\n",
    "        new google.translate.TranslateElement({ pageLanguage: 'zh-CN',\n",
    "                  includedLanguages: 'en,zh-CN,zh-TW,ja,ko,de,ru,fr,es,it,pt,hi,ar,fa',\n",
    "layout: google.translate.TranslateElement.InlineLayout.SIMPLE }, 'google_translate_element');\n",
    "      }\n",
    "</script>\n",
    "<script type=\"text/javascript\"\n",
    "      src=\"https://translate.google.com/translate_a/element.js?cb=googleTranslateElementInit\"\n",
    "></script>\n",
    "<br>"
   ]
  }
 ],
 "metadata": {
  "celltoolbar": "幻灯片",
  "kernelspec": {
   "display_name": "Python 3 (ipykernel)",
   "language": "python",
   "name": "python3"
  },
  "language_info": {
   "codemirror_mode": {
    "name": "ipython",
    "version": 3
   },
   "file_extension": ".py",
   "mimetype": "text/x-python",
   "name": "python",
   "nbconvert_exporter": "python",
   "pygments_lexer": "ipython3",
   "version": "3.12.7"
  }
 },
 "nbformat": 4,
 "nbformat_minor": 5
}
