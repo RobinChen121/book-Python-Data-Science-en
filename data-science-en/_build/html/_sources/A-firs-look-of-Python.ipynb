{
 "cells": [
  {
   "cell_type": "markdown",
   "id": "aca111cb",
   "metadata": {
    "slideshow": {
     "slide_type": "slide"
    }
   },
   "source": [
    "# 初识 Python\n",
    "\n",
    "## Python 的诞生与应用\n",
    "\n",
    "Python 的诞生时间非常早，第一版 Python 发行于 1991 年，甚至比另一个编程语言 Java 的历史都早。在大部分时间内，Python 一直作为一个小众的编程语言，并没有大规模流行起来。近些年来，随着大数据技术、人工智能技术的发展和普及，“简洁、具有良好扩展性”的 Python 非常契合大数据与人工智能技术对编程语言的要求，超越其他编程语言迅速崛起。Python 分别在2010年，2018年，2020，2021 年被全球知名的编程语言流行度排行榜网站 TIOBE 评为“年度最佳编程语言”，并长期位于各年或各月流行编程语言排行榜的前三名。中国的网络上甚至产生了一句流行语：“人生苦短，我用 Python”。"
   ]
  },
  {
   "cell_type": "markdown",
   "id": "6cfef41c",
   "metadata": {
    "slideshow": {
     "slide_type": "subslide"
    }
   },
   "source": [
    "#![title](guido.jpeg)"
   ]
  },
  {
   "cell_type": "markdown",
   "id": "1befa8fa",
   "metadata": {
    "slideshow": {
     "slide_type": "fragment"
    }
   },
   "source": [
    "Python 的创始人为荷兰人吉多·范罗苏姆（Guido van Rossum），在 1989 年的圣诞节期间，吉多·范罗苏姆为了打发时间，决心开发一个新的脚本解释程序，作为 ABC语言的继承，于是 Python 诞生了。之所以选择 Python 作为名字，是由于吉多·范罗苏姆非常喜欢一部 BBC 电视剧--- Monty Python's Flying Circus（中文译名：蒙提·派森的飞行马戏团）。 Python 的英文意思为蟒蛇，这也是为什么一些 Python 相关的软件或书籍用蟒蛇作为图标的原因。"
   ]
  },
  {
   "cell_type": "markdown",
   "id": "4eb0a56f",
   "metadata": {
    "slideshow": {
     "slide_type": "subslide"
    }
   },
   "source": [
    "Python的设计哲学是“优雅”、“明确”、“简单”。"
   ]
  },
  {
   "cell_type": "markdown",
   "id": "5cc60f32",
   "metadata": {
    "slideshow": {
     "slide_type": "fragment"
    }
   },
   "source": [
    "- Python 可以说是语法功能最**简洁、灵活**的编程语言之一，相对与其他编程语言 C、C++、Java等，Python 可以用更少的代码实现同样的功能。\n",
    "\n",
    "- Python提供了丰富的**库或工具包**，帮助程序员轻松实现各种功能；Python 还提供了多种接口，能够轻松地使用 C、C++、Cython来编写扩展模块，因此，有很多人把 Python作为一种“胶水语言”使用。\n",
    "\n",
    "- Python是完全**面向对象**的语言，函数、模块、数字、字符串都是对象，并且完全支持继承、重载、派生、多重继承等，Python 还支持重载运算符。\n",
    "\n",
    "- Python 是一门跨平台的**脚本语言**（动态语言），Python 规定了一个 Python 语法规则，根据该规则可编写 Python 解释器，相较于 C/C++ 和 java 等编译语言而言**运行速度较慢**。\n",
    "\n",
    "- 随着计算机速度运算速度越来越快，Python 运算速度慢的缺点逐渐可以忽略。"
   ]
  },
  {
   "cell_type": "markdown",
   "id": "77f53fa1",
   "metadata": {
    "slideshow": {
     "slide_type": "subslide"
    }
   },
   "source": [
    "数据分析中常用的库或工具包有：\n",
    "\n",
    "- Numpy --- 用于数组和矩阵操作\n",
    "\n",
    "- Pandas --- 用于处理表格数据，数据分析的重要工具\n",
    "\n",
    "- Matplotlib --- 常用的基础绘图包\n",
    "\n",
    "- Seaborn --- 另外一个高级绘图包\n",
    "\n",
    "- Scipy --- 科学计算包\n",
    "\n",
    "- Statsmodels --- 统计建模与分析包\n",
    "\n",
    "- Sklearn --- 机器学习包\n",
    "\n",
    "- PyTorch --- 另外一个机器学习库，包含深度神经网络，常用于自然语言处理"
   ]
  },
  {
   "cell_type": "markdown",
   "id": "65277a5e",
   "metadata": {
    "slideshow": {
     "slide_type": "subslide"
    }
   },
   "source": [
    "Python 的应用范围包括 Web 开发网站与网络爬虫，GUI 开发桌面软件，科学计算等。使用 Python 编写的著名应用包括：\n",
    "\n",
    "- Youtube --- 视频分享网站\n",
    "\n",
    "- Dropbox --- 文件分享软件\n",
    "\n",
    "- Instagram --- 图片分享软件\n",
    "\n",
    "- 豆瓣网 --- 国内著名的图书、唱片、电影评论网站\n",
    "\n",
    "- 知乎网 --- 国内著名的问答网站\n",
    "\n",
    "- 果壳网 --- 国内著名的泛科技主题网站\n",
    "\n",
    "Python 2.0 于 2000 年 10 月 16 日发布，Python 3.0于 2008 年 12 月 3 日发布，Python3 并不兼容 Python2 的代码。目前的主要 Python 版本为 Python3，本书的所有 Python 程序都是 Python3。"
   ]
  },
  {
   "cell_type": "markdown",
   "id": "50069eef",
   "metadata": {
    "slideshow": {
     "slide_type": "subslide"
    }
   },
   "source": [
    "学习 Python 的一些网站：\n",
    "\n",
    "- 百度，谷歌\n",
    "- CSDN &rightarrow; 国内的程序员论坛与博客网站\n",
    "- stackoverflow.com &rightarrow; 国外的编程问答网站\n",
    "- runoob.com &rightarrow; 国内的编程在线学习网站\n",
    "- geeksforgeeks.org &rightarrow; 国外的编程在线学习网站"
   ]
  },
  {
   "cell_type": "markdown",
   "id": "7c69d85a",
   "metadata": {
    "slideshow": {
     "slide_type": "subslide"
    }
   },
   "source": [
    "学习编程与学习数学、英语等课程不同，不需要去记代码，而一定要**多敲代码！**"
   ]
  },
  {
   "cell_type": "markdown",
   "id": "d4492e5e",
   "metadata": {
    "slideshow": {
     "slide_type": "slide"
    }
   },
   "source": [
    "## Python 安装\n",
    "\n",
    "使用 Python 时一般有两种方式：一是下载 Anaconda，二是下载 Python 和编辑器 Pycharm。 \n",
    "\n",
    "Anaconda 包括集成开发环境 Spyder 以及一大堆安装好的常用工具包，比如：Numpy、Pandas、Matplotlib、Sklearn，在 Anaconda 里面还可以使用其他编译器，例如 Jupyter Notebook，IPython，R Studio 等。对于刚刚接触 Python 的新手，推荐使用 Anaconda。\n",
    "\n",
    "具体软件的安装不在赘述，请到相关的官方网站下载安装。"
   ]
  },
  {
   "cell_type": "markdown",
   "id": "577dbdfc",
   "metadata": {
    "slideshow": {
     "slide_type": "slide"
    }
   },
   "source": [
    "## Python 程序的特点\n",
    "\n",
    "在交互环境或编辑器上运行一个 Python 的输出小程序："
   ]
  },
  {
   "cell_type": "code",
   "execution_count": 1,
   "id": "d705c00a",
   "metadata": {},
   "outputs": [
    {
     "name": "stdout",
     "output_type": "stream",
     "text": [
      "Hello, world\n"
     ]
    }
   ],
   "source": [
    "print('Hello, world')"
   ]
  },
  {
   "cell_type": "code",
   "execution_count": null,
   "id": "ca18c30d",
   "metadata": {},
   "outputs": [],
   "source": [
    "在编写代码时，需要注意的是：\n",
    "\n",
    "- 代码中的标点符号一定要用英文输入，不要用中文输入，否则出错\n",
    "- "
   ]
  },
  {
   "cell_type": "markdown",
   "id": "192f599d",
   "metadata": {},
   "source": [
    "## 注释\n",
    "\n",
    "编写程序时，经常需要在代码中添加注释，用来解释或备注相关代码，标明作者、日期信息等，提升程序的可读性，计算机并不执行注释的内容。Python 添加注释有两种方法：\n",
    "\n",
    "- 单行注释在代码后面使用 # 跟注释内容\n",
    "- 多行注释使用两组，每组三个单引号（或双引号）\\```，两组引号之间是注释内容"
   ]
  },
  {
   "cell_type": "code",
   "execution_count": 2,
   "id": "fa74751d",
   "metadata": {},
   "outputs": [],
   "source": [
    "# 这是一个单行注释"
   ]
  },
  {
   "cell_type": "code",
   "execution_count": 3,
   "id": "8ca70b24",
   "metadata": {},
   "outputs": [
    {
     "name": "stdout",
     "output_type": "stream",
     "text": [
      "hello\n"
     ]
    }
   ],
   "source": [
    "\"\"\"\n",
    "这是一个\n",
    "多行注释\n",
    "\"\"\"\n",
    "print('hello')"
   ]
  },
  {
   "cell_type": "markdown",
   "id": "6686dce6",
   "metadata": {},
   "source": [
    "```{admonition} \n",
    ":class: tip\n",
    "- 调试程序时，有时候也用注释功能将一些与调试无关的代码注释掉，从而方便调试\n",
    "```"
   ]
  },
  {
   "cell_type": "markdown",
   "id": "3f454516",
   "metadata": {},
   "source": [
    "## 命名与保留字\n",
    "\n",
    "\n",
    "\n"
   ]
  },
  {
   "cell_type": "code",
   "execution_count": null,
   "id": "d45ae45c",
   "metadata": {},
   "outputs": [],
   "source": []
  }
 ],
 "metadata": {
  "celltoolbar": "幻灯片",
  "kernelspec": {
   "display_name": "Python 3 (ipykernel)",
   "language": "python",
   "name": "python3"
  },
  "language_info": {
   "codemirror_mode": {
    "name": "ipython",
    "version": 3
   },
   "file_extension": ".py",
   "mimetype": "text/x-python",
   "name": "python",
   "nbconvert_exporter": "python",
   "pygments_lexer": "ipython3",
   "version": "3.11.4"
  }
 },
 "nbformat": 4,
 "nbformat_minor": 5
}
