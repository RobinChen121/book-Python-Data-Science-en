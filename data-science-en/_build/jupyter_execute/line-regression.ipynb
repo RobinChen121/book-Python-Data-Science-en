{
 "cells": [
  {
   "cell_type": "markdown",
   "id": "d1d4fd5e",
   "metadata": {
    "slideshow": {
     "slide_type": "slide"
    }
   },
   "source": [
    "# 统计分析\n",
    "<hr>\n",
    "\n",
    "## 线性回归\n",
    "<hr>"
   ]
  },
  {
   "cell_type": "markdown",
   "id": "720254c8",
   "metadata": {
    "slideshow": {
     "slide_type": "fragment"
    }
   },
   "source": [
    "使用 Python 做线性回归分析有好几种方式，常见的是用`statsmodels`库或者`sklearn`库。"
   ]
  },
  {
   "cell_type": "markdown",
   "id": "0de4e90e",
   "metadata": {
    "slideshow": {
     "slide_type": "subslide"
    }
   },
   "source": [
    "假设有下面的数据存储在 excel 文件 line_regression.xlsx 中：\n",
    "\n",
    "| 不良贷款  | 各项贷款余额 | 本年累计应收贷款 | 贷款项目个数 | 本年固定资产投资额 |\n",
    "|-------|--------|----------|--------|-----------|\n",
    "| 0\\.9  | 67\\.3  | 6\\.8     | 5      | 51\\.9     |\n",
    "| 1\\.1  | 111\\.3 | 19\\.8    | 16     | 90\\.9     |\n",
    "| 4\\.8  | 173\\.0 | 7\\.7     | 17     | 73\\.7     |\n",
    "| 3\\.2  | 80\\.8  | 7\\.2     | 10     | 14\\.5     |\n",
    "| 7\\.8  | 199\\.7 | 16\\.5    | 19     | 63\\.2     |\n",
    "| 2\\.7  | 16\\.2  | 2\\.2     | 1      | 2\\.2      |\n",
    "| 1\\.6  | 107\\.4 | 10\\.7    | 17     | 20\\.2     |\n",
    "| 12\\.5 | 185\\.4 | 27\\.1    | 18     | 43\\.8     |\n",
    "| 1\\.0  | 96\\.1  | 1\\.7     | 10     | 55\\.9     |\n",
    "| 2\\.6  | 72\\.8  | 9\\.1     | 14     | 64\\.3     |\n",
    "| 0\\.3  | 64\\.2  | 2\\.1     | 11     | 42\\.7     |\n",
    "| 4\\.0  | 132\\.2 | 11\\.2    | 23     | 76\\.7     |\n",
    "| 0\\.8  | 58\\.6  | 6\\.0     | 14     | 22\\.8     |\n",
    "| 3\\.5  | 174\\.6 | 12\\.7    | 26     | 117\\.1    |\n",
    "| 10\\.2 | 263\\.5 | 15\\.6    | 34     | 146\\.7    |\n",
    "| 3\\.0  | 79\\.3  | 8\\.9     | 15     | 29\\.9     |\n",
    "| 0\\.2  | 14\\.8  | 0\\.6     | 2      | 42\\.1     |\n",
    "| 0\\.4  | 73\\.5  | 5\\.9     | 11     | 25\\.3     |\n",
    "| 1\\.0  | 24\\.7  | 5\\.0     | 4      | 13\\.4     |\n",
    "| 6\\.8  | 139\\.4 | 7\\.2     | 28     | 64\\.3     |\n",
    "| 11\\.6 | 368\\.2 | 16\\.8    | 32     | 163\\.9    |\n",
    "| 1\\.6  | 95\\.7  | 3\\.8     | 10     | 44\\.5     |\n",
    "| 1\\.2  | 109\\.6 | 10\\.3    | 14     | 67\\.9     |\n",
    "| 7\\.2  | 196\\.2 | 15\\.8    | 16     | 39\\.7     |\n",
    "| 3\\.2  | 102\\.2 | 12\\.0    | 10     | 97\\.1     |"
   ]
  },
  {
   "cell_type": "markdown",
   "id": "b8aaa899",
   "metadata": {
    "slideshow": {
     "slide_type": "subslide"
    }
   },
   "source": [
    "首先使用 pandas 读取 excel 数据："
   ]
  },
  {
   "cell_type": "code",
   "execution_count": 1,
   "id": "fba8382a",
   "metadata": {
    "slideshow": {
     "slide_type": "fragment"
    }
   },
   "outputs": [],
   "source": [
    "import pandas as pd\n",
    "\n",
    "# 下面前几行代码是为了运行 live code 而进行的设置，\n",
    "# 与本章的教学内容无关\n",
    "import os\n",
    "\n",
    "if os.getcwd() == \"/home/jovyan\":\n",
    "    os.chdir(\"data-science/\")\n",
    "\n",
    "# 正文\n",
    "# 读取 excel 数据，引号里面是 excel 文件在电脑的存储位置\n",
    "datas = pd.read_excel(\"datas/linear_regression.xlsx\")"
   ]
  },
  {
   "cell_type": "markdown",
   "id": "e5a815ae",
   "metadata": {},
   "source": [
    "```{admonition} 注意\n",
    "- 苹果电脑的文件地址用符号``/``分割，而 windows 系统的文件地址用符号``\\``分割\n",
    "- 文件地址前加上``r``能够保持字符串原始值的含义，而不对其中的符号进行转义\n",
    "```"
   ]
  },
  {
   "cell_type": "code",
   "execution_count": 2,
   "id": "c588d022",
   "metadata": {
    "slideshow": {
     "slide_type": "subslide"
    }
   },
   "outputs": [
    {
     "data": {
      "text/html": [
       "<div>\n",
       "<style scoped>\n",
       "    .dataframe tbody tr th:only-of-type {\n",
       "        vertical-align: middle;\n",
       "    }\n",
       "\n",
       "    .dataframe tbody tr th {\n",
       "        vertical-align: top;\n",
       "    }\n",
       "\n",
       "    .dataframe thead th {\n",
       "        text-align: right;\n",
       "    }\n",
       "</style>\n",
       "<table border=\"1\" class=\"dataframe\">\n",
       "  <thead>\n",
       "    <tr style=\"text-align: right;\">\n",
       "      <th></th>\n",
       "      <th>不良贷款</th>\n",
       "      <th>各项贷款余额</th>\n",
       "      <th>本年累计应收贷款</th>\n",
       "      <th>贷款项目个数</th>\n",
       "      <th>本年固定资产投资额</th>\n",
       "    </tr>\n",
       "  </thead>\n",
       "  <tbody>\n",
       "    <tr>\n",
       "      <th>0</th>\n",
       "      <td>0.9</td>\n",
       "      <td>67.3</td>\n",
       "      <td>6.8</td>\n",
       "      <td>5</td>\n",
       "      <td>51.9</td>\n",
       "    </tr>\n",
       "    <tr>\n",
       "      <th>1</th>\n",
       "      <td>1.1</td>\n",
       "      <td>111.3</td>\n",
       "      <td>19.8</td>\n",
       "      <td>16</td>\n",
       "      <td>90.9</td>\n",
       "    </tr>\n",
       "    <tr>\n",
       "      <th>2</th>\n",
       "      <td>4.8</td>\n",
       "      <td>173.0</td>\n",
       "      <td>7.7</td>\n",
       "      <td>17</td>\n",
       "      <td>73.7</td>\n",
       "    </tr>\n",
       "    <tr>\n",
       "      <th>3</th>\n",
       "      <td>3.2</td>\n",
       "      <td>80.8</td>\n",
       "      <td>7.2</td>\n",
       "      <td>10</td>\n",
       "      <td>14.5</td>\n",
       "    </tr>\n",
       "    <tr>\n",
       "      <th>4</th>\n",
       "      <td>7.8</td>\n",
       "      <td>199.7</td>\n",
       "      <td>16.5</td>\n",
       "      <td>19</td>\n",
       "      <td>63.2</td>\n",
       "    </tr>\n",
       "  </tbody>\n",
       "</table>\n",
       "</div>"
      ],
      "text/plain": [
       "   不良贷款  各项贷款余额  本年累计应收贷款  贷款项目个数  本年固定资产投资额\n",
       "0   0.9    67.3       6.8       5       51.9\n",
       "1   1.1   111.3      19.8      16       90.9\n",
       "2   4.8   173.0       7.7      17       73.7\n",
       "3   3.2    80.8       7.2      10       14.5\n",
       "4   7.8   199.7      16.5      19       63.2"
      ]
     },
     "execution_count": 2,
     "metadata": {},
     "output_type": "execute_result"
    }
   ],
   "source": [
    "datas.head()"
   ]
  },
  {
   "cell_type": "markdown",
   "id": "2c2fb41d",
   "metadata": {
    "slideshow": {
     "slide_type": "subslide"
    }
   },
   "source": [
    "### `statsmodels` 库\n",
    "<hr>"
   ]
  },
  {
   "cell_type": "markdown",
   "id": "bc245ae2",
   "metadata": {
    "slideshow": {
     "slide_type": "fragment"
    }
   },
   "source": [
    "使用`statsmodels` 库做回归一般有以下几个步骤：\n",
    "\n",
    "- 通过 OLS 函数构建回归模型\n",
    "- 通过 fit 函数拟合\n",
    "- 通过summary 函数输出回归结果\n",
    "- 通过 predict 函数得出回归的预测值"
   ]
  },
  {
   "cell_type": "markdown",
   "id": "99091451",
   "metadata": {
    "slideshow": {
     "slide_type": "subslide"
    }
   },
   "source": [
    "``OLS`` 函数的基本用法如下：\n",
    "\n",
    "<table>   \n",
    "    <tr style=\"border-top:solid; border-bottom:solid\">\n",
    "            <th colspan=2 style=\"text-align:center\">OLS(endog, exog=None, missing='none',**kwargs)</th>\n",
    "    </tr>\n",
    "    <tr>\n",
    "        <td style=\"text-align:left\">endog</td>\n",
    "        <td style=\"text-align:left\">因变量（内生变量），是一个一维的数组</td>\n",
    "    </tr>\n",
    "    <tr>\n",
    "        <td style=\"text-align:left\">exog</td>\n",
    "        <td style=\"text-align:left\">自变量（外生变量），是一个一维或多维数组</td>\n",
    "    </tr>\n",
    "    <tr>\n",
    "        <td style=\"text-align:left\">missing</td>\n",
    "        <td style=\"text-align:left\">出现空值时的处理方式，可选设置为 'drop'（丢掉空值）, 'raise'（提醒错误）</td>\n",
    "    </tr>\n",
    "    <tr style=\"border-bottom:solid\">\n",
    "        <td style=\"text-align:left\">**kwargs</td>\n",
    "        <td style=\"text-align:left\">其他设置</td>\n",
    "    </tr>\n",
    "</table>\n",
    "<br />"
   ]
  },
  {
   "cell_type": "markdown",
   "id": "3f5ccfb0",
   "metadata": {
    "slideshow": {
     "slide_type": "subslide"
    }
   },
   "source": [
    "函数 OLS 默认回归模型没有截距。若模型中有截距，必须对自变量数据使用一个`addconstant()`函数。"
   ]
  },
  {
   "cell_type": "markdown",
   "id": "d625e4c2",
   "metadata": {
    "slideshow": {
     "slide_type": "subslide"
    }
   },
   "source": [
    "完整代码如下："
   ]
  },
  {
   "cell_type": "code",
   "execution_count": 3,
   "id": "b8c3789a",
   "metadata": {
    "slideshow": {
     "slide_type": "fragment"
    }
   },
   "outputs": [
    {
     "name": "stdout",
     "output_type": "stream",
     "text": [
      "                            OLS Regression Results                            \n",
      "==============================================================================\n",
      "Dep. Variable:                   不良贷款   R-squared:                       0.712\n",
      "Model:                            OLS   Adj. R-squared:                  0.699\n",
      "Method:                 Least Squares   F-statistic:                     56.75\n",
      "Date:                Wed, 21 May 2025   Prob (F-statistic):           1.18e-07\n",
      "Time:                        15:04:31   Log-Likelihood:                -51.508\n",
      "No. Observations:                  25   AIC:                             107.0\n",
      "Df Residuals:                      23   BIC:                             109.5\n",
      "Df Model:                           1                                         \n",
      "Covariance Type:            nonrobust                                         \n",
      "==============================================================================\n",
      "                 coef    std err          t      P>|t|      [0.025      0.975]\n",
      "------------------------------------------------------------------------------\n",
      "const         -0.8295      0.723     -1.147      0.263      -2.325       0.666\n",
      "各项贷款余额         0.0379      0.005      7.534      0.000       0.027       0.048\n",
      "==============================================================================\n",
      "Omnibus:                       14.277   Durbin-Watson:                   2.464\n",
      "Prob(Omnibus):                  0.001   Jarque-Bera (JB):               14.611\n",
      "Skew:                           1.382   Prob(JB):                     0.000672\n",
      "Kurtosis:                       5.527   Cond. No.                         262.\n",
      "==============================================================================\n",
      "\n",
      "Notes:\n",
      "[1] Standard Errors assume that the covariance matrix of the errors is correctly specified.\n"
     ]
    },
    {
     "data": {
      "image/png": "[encoded data removed]",
      "text/plain": [
       "<Figure size 640x480 with 1 Axes>"
      ]
     },
     "metadata": {},
     "output_type": "display_data"
    }
   ],
   "source": [
    "import pandas as pd\n",
    "import statsmodels.api as sm\n",
    "import matplotlib.pyplot as plt\n",
    "\n",
    "# 下面前几行代码是为了运行 live code 而进行的设置，\n",
    "# 与本章的教学内容无关\n",
    "import os\n",
    "\n",
    "if os.getcwd() == \"/home/jovyan\":\n",
    "    os.chdir(\"data-science/\")\n",
    "\n",
    "# 正文\n",
    "datas = pd.read_excel(\"datas/linear_regression.xlsx\")  # 读取 excel 数据，引号里面是 excel 文件的位置\n",
    "y = datas.iloc[:, 0]  # 因变量为第 1列数据\n",
    "x = datas.iloc[:, 1]  # 自变量为第 2 列数据\n",
    "x = sm.add_constant(x)  # 若模型中有截距，必须有这一步\n",
    "model = sm.OLS(y, x, hasconst=1)  # 构建最小二乘模型并拟合\n",
    "results = model.fit()\n",
    "print(results.summary())  # 输出回归结果\n",
    "\n",
    "# 画图\n",
    "# 下面几行代码使得 pyplot 画出的图形中可以显示中文\n",
    "# mac 系统下字体: 黑体 'Heiti TC'，宋体：'Songti SC'; win 系统下黑体: 'SimHei'\n",
    "# binder 下字体：'Noto Sans CJK JP'\n",
    "import platform\n",
    "\n",
    "os_name = platform.system()\n",
    "if os_name == \"Windows\":\n",
    "    font = \"SimHei\"\n",
    "elif os_name == \"Darwin\":\n",
    "    font = \"Heiti TC\"\n",
    "else:\n",
    "    font = \"Noto Sans CJK JP\"\n",
    "plt.rcParams[\"font.sans-serif\"] = [font]\n",
    "\n",
    "predicts = results.predict()  # 模型的预测值\n",
    "x = datas.iloc[:, 1]  # 自变量为第 3 列数据\n",
    "plt.scatter(x, y, label=\"实际值\")  # 散点图\n",
    "plt.plot(x, predicts, color=\"red\", label=\"预测值\")\n",
    "plt.legend()  # 显示图例，即每条线对应 label 中的内容\n",
    "plt.show()  # 显示图形"
   ]
  },
  {
   "cell_type": "markdown",
   "id": "673af604",
   "metadata": {
    "slideshow": {
     "slide_type": "subslide"
    }
   },
   "source": [
    "`````{admonition} tips\n",
    ":class: tip\n",
    "- 若导入包时使用命令 import statsmodels.formula.api as sm, 则在回归分析时不用函数 add_constant 添加截距，但是必须使用统计语言给出模型信息。\n",
    "`````"
   ]
  },
  {
   "cell_type": "markdown",
   "id": "84007c00",
   "metadata": {
    "slideshow": {
     "slide_type": "subslide"
    }
   },
   "source": [
    "使用统计语言公式的代码："
   ]
  },
  {
   "cell_type": "markdown",
   "id": "7249c9e3",
   "metadata": {
    "slideshow": {
     "slide_type": "fragment"
    }
   },
   "source": [
    "```{code-block} python\n",
    "import pandas as pd\n",
    "import statsmodels.formula.api as sm\n",
    "import matplotlib.pyplot as plt\n",
    "\n",
    "datas = pd.read_excel('datas\\linear_regression.xlsx')  # 读取 excel 数据，引号里面是 excel 文件的位置\n",
    "result = sm.ols('不良贷款~各项贷款余额', datas).fit() # 构建最小二乘模型并拟合，\n",
    "                               #此时不用单独输入 x，y了，而是将自变量与因变量用统计语言公式表示，将全部数据导入\n",
    "<hr>\n",
    "print(result.summary()) # 输出回归结果\n",
    "\n",
    "```"
   ]
  },
  {
   "cell_type": "markdown",
   "id": "ff887130",
   "metadata": {
    "slideshow": {
     "slide_type": "subslide"
    }
   },
   "source": [
    "在多元回归中，只需把自变量改为多列数据即可，假如不良贷款为因变量，从第2列到第5列都是因变量，则使用 statsmodels 包的全部 python 代码如下："
   ]
  },
  {
   "cell_type": "code",
   "execution_count": 4,
   "id": "f1cfa5e2",
   "metadata": {
    "slideshow": {
     "slide_type": "fragment"
    }
   },
   "outputs": [
    {
     "name": "stdout",
     "output_type": "stream",
     "text": [
      "                            OLS Regression Results                            \n",
      "==============================================================================\n",
      "Dep. Variable:                 各项贷款余额   R-squared:                       0.812\n",
      "Model:                            OLS   Adj. R-squared:                  0.786\n",
      "Method:                 Least Squares   F-statistic:                     30.32\n",
      "Date:                Wed, 21 May 2025   Prob (F-statistic):           8.05e-08\n",
      "Time:                        15:04:31   Log-Likelihood:                -123.70\n",
      "No. Observations:                  25   AIC:                             255.4\n",
      "Df Residuals:                      21   BIC:                             260.3\n",
      "Df Model:                           3                                         \n",
      "Covariance Type:            nonrobust                                         \n",
      "==============================================================================\n",
      "                 coef    std err          t      P>|t|      [0.025      0.975]\n",
      "------------------------------------------------------------------------------\n",
      "const        -14.0689     16.072     -0.875      0.391     -47.493      19.356\n",
      "本年累计应收贷款       3.3001      1.482      2.226      0.037       0.217       6.383\n",
      "贷款项目个数         4.3596      1.453      3.001      0.007       1.338       7.381\n",
      "本年固定资产投资额      0.6198      0.285      2.176      0.041       0.028       1.212\n",
      "==============================================================================\n",
      "Omnibus:                        1.935   Durbin-Watson:                   2.147\n",
      "Prob(Omnibus):                  0.380   Jarque-Bera (JB):                1.059\n",
      "Skew:                           0.499   Prob(JB):                        0.589\n",
      "Kurtosis:                       3.143   Cond. No.                         159.\n",
      "==============================================================================\n",
      "\n",
      "Notes:\n",
      "[1] Standard Errors assume that the covariance matrix of the errors is correctly specified.\n"
     ]
    }
   ],
   "source": [
    "import pandas as pd\n",
    "import statsmodels.api as sm\n",
    "import matplotlib.pyplot as plt\n",
    "\n",
    "# 下面前几行代码是为了运行 live code 而进行的设置，\n",
    "# 与本章的教学内容无关\n",
    "import os\n",
    "\n",
    "if os.getcwd() == \"/home/jovyan\":\n",
    "    os.chdir(\"data-science/\")\n",
    "\n",
    "# 正文\n",
    "datas = pd.read_excel(\"datas/linear_regression.xlsx\")  # 读取 excel 数据，引号里面是 excel 文件的位置\n",
    "y = datas.iloc[:, 1]  # 因变量为第 2 列数据\n",
    "x = datas.iloc[:, 2:6]  # 自变量为第 3 列到第 6 列数据\n",
    "x = sm.add_constant(x)  # 若模型中有截距，必须有这一步\n",
    "result = sm.OLS(y, x).fit()  # 构建最小二乘模型并拟合\n",
    "print(result.summary())  # 输出回归结果"
   ]
  },
  {
   "cell_type": "markdown",
   "id": "d32c1607",
   "metadata": {
    "slideshow": {
     "slide_type": "subslide"
    }
   },
   "source": [
    "### sklearn 库\n",
    "<hr>\n",
    "\n",
    "sklearn 包是机器学习中常见的 python 包，做统计分析时，它并不能像 statsmodels 那样生成非常详细的统计分析结果。**默认自变量与因变量数据都是二维数据，自变量或因变量需要增加一个轴**。"
   ]
  },
  {
   "cell_type": "markdown",
   "id": "cb7867db",
   "metadata": {
    "slideshow": {
     "slide_type": "subslide"
    }
   },
   "source": [
    "使用`sklearn` 库做回归一把有以下几个步骤：\n",
    "\n",
    "- 对自变量或因变量增加轴\n",
    "- 通过 LinearRegression 函数构建回归模型\n",
    "- 通过 fit 函数拟合\n",
    "- 通过 predict 函数得出回归的预测值\n",
    "- 通过 coef_，intercept_，score 等函数输出统计结果"
   ]
  },
  {
   "cell_type": "markdown",
   "id": "c33c8ef8",
   "metadata": {
    "slideshow": {
     "slide_type": "subslide"
    }
   },
   "source": [
    "对于上面同样的例子，一元回归的代码："
   ]
  },
  {
   "cell_type": "code",
   "execution_count": 5,
   "id": "80587681",
   "metadata": {
    "slideshow": {
     "slide_type": "subslide"
    }
   },
   "outputs": [
    {
     "name": "stdout",
     "output_type": "stream",
     "text": [
      "R2 = 0.71\n",
      "[[0.03789471]] [-0.82952062]\n"
     ]
    }
   ],
   "source": [
    "import pandas as pd\n",
    "import matplotlib.pyplot as plt\n",
    "import numpy as np\n",
    "from sklearn.linear_model import LinearRegression\n",
    "\n",
    "# 下面前几行代码是为了运行 live code 而进行的设置，\n",
    "# 与本章的教学内容无关\n",
    "import os\n",
    "\n",
    "if os.getcwd() == \"/home/jovyan\":\n",
    "    os.chdir(\"data-science/\")\n",
    "\n",
    "# 正文\n",
    "datas = pd.read_excel(\"datas/linear_regression.xlsx\")  # 读取 excel 数据，引号里面是 excel 文件的位置\n",
    "y = datas.iloc[:, 0].values  # 因变量为第 2 列数据\n",
    "x = datas.iloc[:, 1].values  # 自变量为第 3 列数据\n",
    "\n",
    "# 将 x，y 分别增加一个轴，以满足 sklearn 中回归模型认可的数据\n",
    "x = x[:, np.newaxis]\n",
    "y = y[:, np.newaxis]\n",
    "\n",
    "model = LinearRegression()  # 构建线性模型\n",
    "model.fit(x, y)  # 自变量在前，因变量在后\n",
    "predicts = model.predict(x)  # 预测值\n",
    "R2 = model.score(x, y)  # 拟合程度 R2\n",
    "print(\"R2 = %.2f\" % R2)  # 输出 R2\n",
    "coef = model.coef_  # 斜率\n",
    "intercept = model.intercept_  # 截距\n",
    "print(model.coef_, model.intercept_)  # 输出斜率和截距"
   ]
  },
  {
   "cell_type": "markdown",
   "id": "f14edd6c",
   "metadata": {
    "slideshow": {
     "slide_type": "subslide"
    }
   },
   "source": [
    "用 sklearn 做多元回归时，因为自变量本身就是多维数据，不需要增加轴了，但因变量还需要增加轴，全部代码如下："
   ]
  },
  {
   "cell_type": "code",
   "execution_count": 6,
   "id": "18fc2bd8",
   "metadata": {
    "slideshow": {
     "slide_type": "subslide"
    }
   },
   "outputs": [
    {
     "name": "stdout",
     "output_type": "stream",
     "text": [
      "R2 = 0.812\n",
      "[[3.30005331 4.35955755 0.61975042]] [-14.06888312]\n"
     ]
    }
   ],
   "source": [
    "import pandas as pd\n",
    "import matplotlib.pyplot as plt\n",
    "import numpy as np\n",
    "from sklearn.linear_model import LinearRegression\n",
    "\n",
    "datas = pd.read_excel(\"datas/linear_regression.xlsx\")  # 读取 excel 数据，引号里面是 excel 文件的位置\n",
    "y = datas.iloc[:, 1].values  # 因变量为第 2 列数据\n",
    "x = datas.iloc[:, 2:6].values  # 自变量为第 3 列到第 6 列数据\n",
    "\n",
    "# 将 y 分别增加一个轴，以满足 sklearn 中回归模型认可的数据\n",
    "# 此时由于 x 是多元变量，则不用添加新的轴了\n",
    "y = y[:, np.newaxis]\n",
    "\n",
    "model = LinearRegression()  # 构建线性模型\n",
    "model.fit(x, y)  # 自变量在前，因变量在后\n",
    "predicts = model.predict(x)  # 预测值\n",
    "R2 = model.score(x, y)  # 拟合程度 R2\n",
    "print(\"R2 = %.3f\" % R2)  # 输出 R2\n",
    "coef = model.coef_  # 斜率\n",
    "intercept = model.intercept_  # 截距\n",
    "print(model.coef_, model.intercept_)  # 输出斜率和截距"
   ]
  },
  {
   "cell_type": "markdown",
   "id": "957d2868",
   "metadata": {
    "slideshow": {
     "slide_type": "subslide"
    }
   },
   "source": [
    "多项式回归，广义最小二乘回归，Lasso 回归，逻辑回归，加权最小二乘回归，分位数回归等，都可以在`statsmodel`库或`sklearn`库中找到相应的函数。                                                   "
   ]
  },
  {
   "cell_type": "markdown",
   "id": "ce90afa4",
   "metadata": {
    "slideshow": {
     "slide_type": "subslide"
    }
   },
   "source": [
    "## 主成分分析\n",
    "<hr>\n",
    "\n",
    "主成分分析（Principle Component Analysis, PCA）是数据降维的一个方法：原始数据中有很多特征变量，可以采用主成分分析方法将原始数据降维为少数几个变量，主成分就是降维后各原始变量的线性组合系数。"
   ]
  },
  {
   "cell_type": "markdown",
   "id": "bf24d832",
   "metadata": {
    "slideshow": {
     "slide_type": "fragment"
    }
   },
   "source": [
    "主成分分析的求解一般采用特征根分解，即求解原始数据**协方差矩阵或相关系数矩阵**最大特征根对应的特征向量，即为第一主成分，第二主成分为第二大特征根对应的特征向量，其他的主成分可以依次得出。主成分贡献率为对应特征根占所有特征根加和的比例。"
   ]
  },
  {
   "cell_type": "markdown",
   "id": "1c581816",
   "metadata": {
    "slideshow": {
     "slide_type": "subslide"
    }
   },
   "source": [
    "采用 python 主成分分析时，常用的包为 sklearn，其他一些包也能做（例如 matplotlib.mlab.PCA）。需要注意的是\n",
    "\n",
    "- 最好对原始数据进行标准化\n",
    "- sklearn 计算主成分时使用的是协方差矩阵，而不是相关系数矩阵"
   ]
  },
  {
   "cell_type": "markdown",
   "id": "422b83a0",
   "metadata": {
    "slideshow": {
     "slide_type": "subslide"
    }
   },
   "source": [
    "sklearn 中的标准化函数有：\n",
    "\n",
    "\n",
    "|函数|描述|\n",
    "|:--|:--|\n",
    "scale(X, axis=0, *)|对数据 X 进行 z 标准化，参数 axis 调整对列或对行标准化\n",
    "StandardScaler()| z 标准化，列标准化\n",
    "MinMaxScaler()| 最大最小标准化，列标准化\n",
    "MaxAbsScaler()| 最大绝对值标准化，列标准化\n",
    "... ...|\n"
   ]
  },
  {
   "cell_type": "markdown",
   "id": "27da887f",
   "metadata": {
    "slideshow": {
     "slide_type": "subslide"
    }
   },
   "source": [
    "举例，下面一个统计数据：\n",
    "\n",
    "|      | 食品    | 衣着   | 居住    | 家庭设备 | 交通通讯 | 文教娱乐 | 医疗保健 | 其他   |\n",
    "|------|-------|------|-------|------|------|------|------|------|\n",
    "| 北  京 | 1736  | 379  | 854   | 327  | 615  | 797  | 504  | 103  |\n",
    "| 天  津 | 1171  | 257  | 614   | 117  | 328  | 329  | 179  | 40   |\n",
    "| 河  北 | 888   | 156  | 399   | 101  | 222  | 226  | 135  | 39   |\n",
    "| 山  西 | 830   | 202  | 201   | 69   | 160  | 280  | 103  | 33   |\n",
    "| 内蒙古  | 1054  | 150  | 335   | 84   | 293  | 309  | 176  | 44   |\n",
    "| 辽  宁 | 1127  | 221  | 378   | 100  | 301  | 377  | 234  | 68   |\n",
    "| 吉  林 | 1003  | 168  | 257   | 82   | 285  | 261  | 194  | 56   |\n",
    "| 黑龙江  | 924   | 184  | 527   | 74   | 257  | 277  | 254  | 49   |\n",
    "| 上  海 | 2684  | 366  | 1320  | 458  | 748  | 937  | 562  | 204  |\n",
    "| 江  苏 | 1569  | 191  | 512   | 168  | 364  | 479  | 199  | 85   |\n",
    "| 浙  江 | 2061  | 319  | 914   | 260  | 618  | 723  | 416  | 121  |\n",
    "| 安  徽 | 1000  | 117  | 345   | 106  | 197  | 257  | 134  | 41   |\n",
    "| 福  建 | 1518  | 187  | 457   | 154  | 366  | 357  | 154  | 100  |\n",
    "| 江  西 | 1221  | 125  | 326   | 96   | 230  | 276  | 155  | 56   |\n",
    "| 山  东 | 1088  | 160  | 446   | 137  | 294  | 377  | 188  | 46   |\n",
    "| 河  南 | 859   | 132  | 318   | 83   | 160  | 178  | 123  | 39   |\n",
    "| 湖  北 | 1192  | 125  | 310   | 110  | 223  | 272  | 135  | 62   |\n",
    "| 湖  南 | 1433  | 128  | 307   | 114  | 219  | 329  | 168  | 58   |\n",
    "| 广  东 | 1789  | 144  | 530   | 152  | 412  | 361  | 204  | 116  |\n",
    "| 广  西 | 1187  | 79   | 380   | 95   | 214  | 226  | 123  | 44   |\n",
    "| 海  南 | 1135  | 66   | 146   | 92   | 178  | 199  | 93   | 60   |\n",
    "| 重  庆 | 1130  | 96   | 231   | 96   | 163  | 250  | 143  | 33   |\n",
    "| 四  川 | 1244  | 116  | 234   | 102  | 172  | 225  | 144  | 36   |\n",
    "| 贵  州 | 820   | 80   | 236   | 62   | 99   | 161  | 72   | 24   |\n",
    "| 云  南 | 976   | 80   | 226   | 67   | 100  | 183  | 122  | 35   |\n",
    "| 西  藏 | 1185  | 182  | 84    | 81   | 79   | 28   | 44   | 39   |\n",
    "| 陕  西 | 813   | 124  | 212   | 84   | 163  | 297  | 166  | 38   |\n",
    "| 甘  肃 | 859   | 92   | 241   | 74   | 155  | 258  | 114  | 27   |\n",
    "| 青  海 | 893   | 156  | 329   | 84   | 208  | 110  | 152  | 43   |\n",
    "| 宁  夏 | 923   | 143  | 346   | 77   | 178  | 178  | 199  | 51   |\n",
    "| 新  疆 | 804   | 171  | 333   | 68   | 183  | 159  | 169  | 36   |\n"
   ]
  },
  {
   "cell_type": "markdown",
   "id": "92e7931a",
   "metadata": {
    "slideshow": {
     "slide_type": "subslide"
    }
   },
   "source": [
    "主成分分析的 Python 代码为："
   ]
  },
  {
   "cell_type": "code",
   "execution_count": 7,
   "id": "d32ce699",
   "metadata": {
    "slideshow": {
     "slide_type": "fragment"
    }
   },
   "outputs": [
    {
     "name": "stdout",
     "output_type": "stream",
     "text": [
      "特征根： [7.32679152 0.46898546 0.16208403]\n",
      "\n",
      "主成分： [[ 0.34197826  0.32541509  0.36029958  0.36486138  0.3682146   0.36096996\n",
      "   0.35616496  0.34854195]\n",
      " [-0.54451489  0.61527353  0.11520953 -0.11674732  0.03494752  0.07480108\n",
      "   0.2943857  -0.4522824 ]\n",
      " [ 0.27960446  0.69192655 -0.19973533 -0.07235855 -0.02963776 -0.42452329\n",
      "  -0.39881297  0.24037227]]\n"
     ]
    }
   ],
   "source": [
    "from sklearn.decomposition import PCA\n",
    "from sklearn.preprocessing import scale\n",
    "import pandas as pd\n",
    "import numpy as np\n",
    "\n",
    "# 下面前几行代码是为了运行 live code 而进行的设置，\n",
    "# 与本章的教学内容无关\n",
    "import os\n",
    "\n",
    "if os.getcwd() == \"/home/jovyan\":\n",
    "    os.chdir(\"data-science/\")\n",
    "\n",
    "# 正文\n",
    "df = pd.read_excel(\"datas/data-pca.xlsx\", index_col=0)  # 读取数据\n",
    "data = scale(df.values)  # z标准化，标准化之后就自动根据协方差矩阵进行主成分分析了\n",
    "# data2 = np.corrcoef(np.transpose(data)) # 没有必要单独计算协方差阵或相关系数阵\n",
    "pca = PCA(n_components=3)  # 可以通过参数 n_components 调整主成分个数\n",
    "pca.fit(data)\n",
    "print(\"特征根：\", pca.explained_variance_)  # 输出特征根\n",
    "print()\n",
    "print(\"主成分：\", pca.components_)  # 输出主成分"
   ]
  },
  {
   "cell_type": "markdown",
   "id": "0455c322",
   "metadata": {
    "slideshow": {
     "slide_type": "subslide"
    }
   },
   "source": [
    "## Kmeans 聚类\n",
    "<hr>\n",
    "\n",
    "Kmeans 是一种动态聚类方法，其基本思想是：首先随机选取 K 个点作为初始凝聚点，按照距离最近原则划分为 K 类；然后重新计算 K 个类的重心作为新的凝聚点，再按照距离最近原则重新分类；重复这一过程，直到重心不再变化为止。"
   ]
  },
  {
   "cell_type": "markdown",
   "id": "1ad531ca",
   "metadata": {
    "slideshow": {
     "slide_type": "subslide"
    }
   },
   "source": [
    "对上面的例子，进行 Kmeans 聚类并画图的代码为："
   ]
  },
  {
   "cell_type": "code",
   "execution_count": 8,
   "id": "7ae7fd06",
   "metadata": {
    "slideshow": {
     "slide_type": "subslide"
    }
   },
   "outputs": [
    {
     "name": "stdout",
     "output_type": "stream",
     "text": [
      "[1 2 0 0 0 2 0 2 1 2 1 0 2 0 2 0 0 0 2 0 0 0 0 0 0 0 0 0 0 0 0]\n",
      "类别1\n",
      "['河  北', '山  西', '内蒙古', '吉  林', '安  徽', '江  西', '河  南', '湖  北', '湖  南', '广  西', '海  南', '重  庆', '四  川', '贵  州', '云  南', '西  藏', '陕  西', '甘  肃', '青  海', '宁  夏', '新  疆']\n",
      "类别2\n",
      "['北  京', '上  海', '浙  江']\n",
      "类别3\n",
      "['天  津', '辽  宁', '黑龙江', '江  苏', '福  建', '山  东', '广  东']\n"
     ]
    },
    {
     "data": {
      "image/png": "[encoded data removed]",
      "text/plain": [
       "<Figure size 640x480 with 1 Axes>"
      ]
     },
     "metadata": {},
     "output_type": "display_data"
    }
   ],
   "source": [
    "import warnings\n",
    "\n",
    "warnings.filterwarnings(\"ignore\")  # 忽略掉使用默写函数的一些警告信息\n",
    "\n",
    "import pandas as pd\n",
    "from sklearn.cluster import KMeans\n",
    "import numpy as np\n",
    "from sklearn.preprocessing import MinMaxScaler\n",
    "\n",
    "# 下面前几行代码是为了运行 live code 而进行的设置，\n",
    "# 与本章的教学内容无关\n",
    "import os\n",
    "\n",
    "if os.getcwd() == \"/home/jovyan\":\n",
    "    os.chdir(\"data-science/\")\n",
    "\n",
    "# 正文\n",
    "# 将上述数据放到 excel 里，并用 pandas 读取\n",
    "df = pd.read_excel(\"datas/data-pca.xlsx\", index_col=0)\n",
    "\n",
    "scale_values = MinMaxScaler().fit_transform(df.values)  # 数据表转化预处理\n",
    "\n",
    "kmeans = KMeans(n_clusters=3).fit(scale_values)  # 分为 3 类, 参数 n_init= 'auto' 设置初始聚类的运行次数\n",
    "print(kmeans.labels_)  # 输出判别结果列表\n",
    "\n",
    "# 具体输出判别结果\n",
    "cluster_1 = []\n",
    "cluster_2 = []\n",
    "cluster_3 = []\n",
    "for i, j in enumerate(kmeans.labels_):\n",
    "    if j == 0:\n",
    "        cluster_1.append(df.index[i])\n",
    "    elif j == 1:\n",
    "        cluster_2.append(df.index[i])\n",
    "    else:\n",
    "        cluster_3.append(df.index[i])\n",
    "print(\"类别1\")\n",
    "print(cluster_1)\n",
    "print(\"类别2\")\n",
    "print(cluster_2)\n",
    "print(\"类别3\")\n",
    "print(cluster_3)\n",
    "\n",
    "# draw pictures by tsne, or pca, 利用主成分降为 2 维，并画图显示分类结果\n",
    "# from sklearn.manifold import TSNE\n",
    "from sklearn.decomposition import PCA\n",
    "import matplotlib.pyplot as plt\n",
    "\n",
    "tsne = PCA(n_components=2).fit_transform(scale_values)  # tsne\n",
    "df2 = pd.DataFrame(tsne)\n",
    "df2[\"labels\"] = kmeans.labels_\n",
    "\n",
    "df_1 = df2[df2[\"labels\"] == 0]\n",
    "df_2 = df2[df2[\"labels\"] == 1]\n",
    "df_3 = df2[df2[\"labels\"] == 2]\n",
    "\n",
    "# 画图\n",
    "plt.plot(df_1[0], df_1[1], \"bo\", df_2[0], df_2[1], \"r*\", df_3[0], df_3[1], \"gD\")\n",
    "plt.show()"
   ]
  },
  {
   "cell_type": "markdown",
   "id": "51a7a038",
   "metadata": {
    "slideshow": {
     "slide_type": "subslide"
    }
   },
   "source": [
    "## 人工神经网络\n",
    "<hr>\n",
    "\n",
    "\n",
    "神经网络的目标是：找到一个能把一组输入最好地映射到其正确输出的函数。例如一个简单的分类任务，其中输入是动物的图像，正确的输出将是动物的名称。或者根据历史需求数据，预测未来一期的需求。神经网络的思想类似回归分析中经常用到的拟合，都用到了最小二乘的思想：数学意义上的决策目标是：选取一些参数（神经网络中每个输入的权重），使得拟合的输出与期望输出的误差平方和最小。"
   ]
  },
  {
   "cell_type": "markdown",
   "id": "c073a62b",
   "metadata": {
    "slideshow": {
     "slide_type": "subslide"
    }
   },
   "source": [
    "下面是一个神经网络示意图（输入层有一些神经元，隐含层有一些神经元，输出层有一些神经元），输入信息经过正向传播到输出，计算实际输出与期望输出的误差后，在反向传播误差；重复这个过程，在传播过程中，不断减少误差，直到误差减少到一定程度终止。\n",
    "\n",
    "![ann.png](_build/html/_images/ann.png)"
   ]
  },
  {
   "cell_type": "markdown",
   "id": "256633e3",
   "metadata": {
    "slideshow": {
     "slide_type": "subslide"
    }
   },
   "source": [
    "用 BP 神经网络预测 sklearn 包中自带的乳腺癌数据例子："
   ]
  },
  {
   "cell_type": "code",
   "execution_count": 9,
   "id": "fa3d68a5",
   "metadata": {
    "slideshow": {
     "slide_type": "subslide"
    }
   },
   "outputs": [
    {
     "name": "stdout",
     "output_type": "stream",
     "text": [
      "神经网络预测结果评价报告：\n",
      "               precision    recall  f1-score   support\n",
      "\n",
      "           0       0.92      0.94      0.93        35\n",
      "           1       0.97      0.96      0.97        79\n",
      "\n",
      "    accuracy                           0.96       114\n",
      "   macro avg       0.95      0.95      0.95       114\n",
      "weighted avg       0.96      0.96      0.96       114\n",
      "\n"
     ]
    }
   ],
   "source": [
    "# 测试一下癌症数据\n",
    "from sklearn import datasets\n",
    "from sklearn.preprocessing import StandardScaler\n",
    "from sklearn.model_selection import train_test_split\n",
    "from sklearn.neural_network import MLPClassifier\n",
    "from sklearn.metrics import classification_report\n",
    "\n",
    "cancer = datasets.load_breast_cancer()\n",
    "cancer_data = cancer[\"data\"]\n",
    "cancer_target = cancer[\"target\"]\n",
    "\n",
    "# 将数据集划分为训练集，测试集\n",
    "(\n",
    "    cancer_data_train,\n",
    "    cancer_data_test,\n",
    "    cancer_target_train,\n",
    "    cancer_target_test,\n",
    ") = train_test_split(cancer_data, cancer_target, test_size=0.2)\n",
    "\n",
    "# 数据标准化\n",
    "stdScaler = StandardScaler().fit(cancer_data_train)\n",
    "cancer_trainStd = stdScaler.transform(cancer_data_train)\n",
    "cancer_testStd = stdScaler.transform(cancer_data_test)\n",
    "\n",
    "# 建立 BP 模型\n",
    "bpnn = MLPClassifier(\n",
    "    hidden_layer_sizes=(20, 10),  # 神经元隐含层的大小\n",
    "    max_iter=200,\n",
    "    solver=\"adam\",\n",
    "    random_state=45,\n",
    ")\n",
    "bpnn.fit(cancer_trainStd, cancer_target_train)\n",
    "\n",
    "# 预测\n",
    "y_pred = bpnn.predict(cancer_testStd)  # 返回预测结果\n",
    "print(\"神经网络预测结果评价报告：\\n\", classification_report(cancer_target_test, y_pred))"
   ]
  },
  {
   "cell_type": "markdown",
   "id": "75a69d10",
   "metadata": {
    "slideshow": {
     "slide_type": "subslide"
    }
   },
   "source": [
    "其他常见的机器学习方法，例如随机森林，支持向量机，梯度提升等，都可以在`sklearn`库中找到相应的函数。"
   ]
  },
  {
   "cell_type": "markdown",
   "id": "16a3933a",
   "metadata": {},
   "source": [
    "## 练习\n",
    "<hr>"
   ]
  },
  {
   "cell_type": "markdown",
   "id": "91efcfdb",
   "metadata": {},
   "source": [
    "```{exercise}\n",
    ":label: regression\n",
    "使用python 中的`statsmodels`库或`sklearn`库，编程实现《统计学》或《计量经济学》课程上的一些数据分析习题。\n",
    "\n",
    "```"
   ]
  },
  {
   "cell_type": "markdown",
   "id": "5e777e6d",
   "metadata": {},
   "source": [
    "<script src=\"https://giscus.app/client.js\"\n",
    "        data-repo=\"robinchen121/book-Python-Data-Science\"\n",
    "        data-repo-id=\"R_kgDOKFdyOw\"\n",
    "        data-category=\"Announcements\"\n",
    "        data-category-id=\"DIC_kwDOKFdyO84CgWHi\"\n",
    "        data-mapping=\"pathname\"\n",
    "        data-strict=\"0\"\n",
    "        data-reactions-enabled=\"1\"\n",
    "        data-emit-metadata=\"0\"\n",
    "        data-input-position=\"bottom\"\n",
    "        data-theme=\"light\"\n",
    "        data-lang=\"en\"\n",
    "        crossorigin=\"anonymous\"\n",
    "        async>\n",
    "</script>"
   ]
  },
  {
   "cell_type": "markdown",
   "id": "4db20c4d",
   "metadata": {},
   "source": [
    "<!-- Toogle google translation -->\n",
    "<div id=\"google_translate_element\"></div>\n",
    "<script type=\"text/javascript\">\n",
    "      function googleTranslateElementInit() {\n",
    "        new google.translate.TranslateElement({ pageLanguage: 'zh-CN',\n",
    "                  includedLanguages: 'en,zh-CN,zh-TW,ja,ko,de,ru,fr,es,it,pt,hi,ar,fa',\n",
    "layout: google.translate.TranslateElement.InlineLayout.SIMPLE }, 'google_translate_element');\n",
    "      }\n",
    "</script>\n",
    "<script type=\"text/javascript\"\n",
    "      src=\"https://translate.google.com/translate_a/element.js?cb=googleTranslateElementInit\"\n",
    "></script>\n",
    "<br>"
   ]
  },
  {
   "cell_type": "markdown",
   "id": "48a8a629b80fdfd3",
   "metadata": {},
   "source": []
  }
 ],
 "metadata": {
  "celltoolbar": "幻灯片",
  "kernelspec": {
   "display_name": "Python 3 (ipykernel)",
   "language": "python",
   "name": "python3"
  },
  "language_info": {
   "codemirror_mode": {
    "name": "ipython",
    "version": 3
   },
   "file_extension": ".py",
   "mimetype": "text/x-python",
   "name": "python",
   "nbconvert_exporter": "python",
   "pygments_lexer": "ipython3",
   "version": "3.12.2"
  }
 },
 "nbformat": 4,
 "nbformat_minor": 5
}