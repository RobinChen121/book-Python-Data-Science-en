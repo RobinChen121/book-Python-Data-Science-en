{
 "cells": [
  {
   "cell_type": "markdown",
   "id": "b82d32ee",
   "metadata": {
    "slideshow": {
     "slide_type": "slide"
    }
   },
   "source": [
    "# Data types in Python\n",
    "<hr>"
   ]
  },
  {
   "cell_type": "markdown",
   "id": "fbd3ae56",
   "metadata": {},
   "source": [
    "Python data types are the classification or categorization of data items. Different data types can be performed on different operations."
   ]
  },
  {
   "cell_type": "markdown",
   "id": "b438f2e4-1f31-4514-aa85-9890ac0530a2",
   "metadata": {},
   "source": [
    "```{mermaid}\n",
    "flowchart TD\n",
    "    A[Python Data Types] --> B[Numeric]\n",
    "\n",
    "    subgraph B [Numeric]\n",
    "        B1[Integer]\n",
    "        B2[Float]\n",
    "    end\n",
    "    \n",
    "    A --> C[Dictionary]\n",
    "    A --> D[Boolean]\n",
    "    A --> E[Set]\n",
    "    A --> F[Sequence]\n",
    "\n",
    "    \n",
    "\n",
    "    subgraph F [Sequence]\n",
    "        F1[List]\n",
    "        F2[Tuple]\n",
    "        F3[String]\n",
    "    end\n",
    "    \n",
    "```"
   ]
  },
  {
   "cell_type": "markdown",
   "id": "43656405",
   "metadata": {},
   "source": [
    "## Numeric: integer and float\n",
    "<hr>"
   ]
  },
  {
   "cell_type": "code",
   "execution_count": 1,
   "id": "b80e3bb2",
   "metadata": {
    "slideshow": {
     "slide_type": "fragment"
    }
   },
   "outputs": [
    {
     "data": {
      "text/plain": [
       "1"
      ]
     },
     "execution_count": 1,
     "metadata": {},
     "output_type": "execute_result"
    }
   ],
   "source": [
    "a = 1\n",
    "a"
   ]
  },
  {
   "cell_type": "code",
   "execution_count": 2,
   "id": "861954c1",
   "metadata": {
    "slideshow": {
     "slide_type": "fragment"
    }
   },
   "outputs": [
    {
     "data": {
      "text/plain": [
       "2.2"
      ]
     },
     "execution_count": 2,
     "metadata": {},
     "output_type": "execute_result"
    }
   ],
   "source": [
    "b = 2.2\n",
    "b"
   ]
  },
  {
   "cell_type": "markdown",
   "id": "e1e847eb",
   "metadata": {},
   "source": [
    "Unlike some other programming languages, Python does not require explicit variable type declarations. It can automatically infer numeric types. For example, in the code above, since a has no decimal point, Python treats it as an integer (`int`), while b contains a decimal point, so Python interprets it as a floating-point number (`float`)."
   ]
  },
  {
   "cell_type": "markdown",
   "id": "0522f75b-5de6-469e-9422-ba6e79a7166f",
   "metadata": {},
   "source": [
    "We can use the Python keyword `type` to get the type of a variable."
   ]
  },
  {
   "cell_type": "code",
   "execution_count": 3,
   "id": "9059904d",
   "metadata": {
    "slideshow": {
     "slide_type": "subslide"
    }
   },
   "outputs": [
    {
     "data": {
      "text/plain": [
       "int"
      ]
     },
     "execution_count": 3,
     "metadata": {},
     "output_type": "execute_result"
    }
   ],
   "source": [
    "type(a)"
   ]
  },
  {
   "cell_type": "code",
   "execution_count": 4,
   "id": "6ad829e1",
   "metadata": {
    "slideshow": {
     "slide_type": "fragment"
    }
   },
   "outputs": [
    {
     "data": {
      "text/plain": [
       "float"
      ]
     },
     "execution_count": 4,
     "metadata": {},
     "output_type": "execute_result"
    }
   ],
   "source": [
    "type(b)"
   ]
  },
  {
   "cell_type": "markdown",
   "id": "739422a0",
   "metadata": {
    "slideshow": {
     "slide_type": "subslide"
    }
   },
   "source": [
    "Type casting refers to converting one data type into another. Python provides several built-in functions to facilitate casting including int(), float() and str()."
   ]
  },
  {
   "cell_type": "code",
   "execution_count": 5,
   "id": "df57bf3f",
   "metadata": {
    "slideshow": {
     "slide_type": "fragment"
    }
   },
   "outputs": [
    {
     "data": {
      "text/plain": [
       "1.0"
      ]
     },
     "execution_count": 5,
     "metadata": {},
     "output_type": "execute_result"
    }
   ],
   "source": [
    "float(a)  # cast an integer variable to float"
   ]
  },
  {
   "cell_type": "code",
   "execution_count": 6,
   "id": "48c82ed6",
   "metadata": {
    "scrolled": true,
    "slideshow": {
     "slide_type": "fragment"
    }
   },
   "outputs": [
    {
     "data": {
      "text/plain": [
       "2"
      ]
     },
     "execution_count": 6,
     "metadata": {},
     "output_type": "execute_result"
    }
   ],
   "source": [
    "int(b)  # cast a float variable to integer"
   ]
  },
  {
   "cell_type": "code",
   "execution_count": 7,
   "id": "abd2e262-b860-48a5-ae07-fc66743a4355",
   "metadata": {
    "scrolled": true
   },
   "outputs": [
    {
     "data": {
      "text/plain": [
       "'1'"
      ]
     },
     "execution_count": 7,
     "metadata": {},
     "output_type": "execute_result"
    }
   ],
   "source": [
    "str(a) # cast a numeric to string"
   ]
  },
  {
   "cell_type": "markdown",
   "id": "3dc3d4a6",
   "metadata": {
    "slideshow": {
     "slide_type": "fragment"
    }
   },
   "source": [
    "- When integers and floating-point numbers are mixed in an operation, the result will be automatically converted to a floating-point number."
   ]
  },
  {
   "cell_type": "markdown",
   "id": "ff5bb61e",
   "metadata": {
    "slideshow": {
     "slide_type": "slide"
    }
   },
   "source": [
    "## String\n",
    "<hr>\n",
    "\n",
    "A string is a sequence of characters. We can use either single quotes or double quotes to express a string."
   ]
  },
  {
   "cell_type": "code",
   "execution_count": 8,
   "id": "26b38117",
   "metadata": {
    "slideshow": {
     "slide_type": "fragment"
    }
   },
   "outputs": [
    {
     "data": {
      "text/plain": [
       "'chen'"
      ]
     },
     "execution_count": 8,
     "metadata": {},
     "output_type": "execute_result"
    }
   ],
   "source": [
    "name = 'chen'\n",
    "name"
   ]
  },
  {
   "cell_type": "code",
   "execution_count": 9,
   "id": "3c3fba91",
   "metadata": {
    "slideshow": {
     "slide_type": "fragment"
    }
   },
   "outputs": [
    {
     "data": {
      "text/plain": [
       "'London'"
      ]
     },
     "execution_count": 9,
     "metadata": {},
     "output_type": "execute_result"
    }
   ],
   "source": [
    "city = \"London\"\n",
    "city"
   ]
  },
  {
   "cell_type": "markdown",
   "id": "f8791f68",
   "metadata": {
    "slideshow": {
     "slide_type": "subslide"
    }
   },
   "source": [
    "We can concatenate strings directly using the plus operator `+`:"
   ]
  },
  {
   "cell_type": "code",
   "execution_count": 10,
   "id": "17b21198",
   "metadata": {
    "slideshow": {
     "slide_type": "fragment"
    }
   },
   "outputs": [
    {
     "data": {
      "text/plain": [
       "'chenLondon'"
      ]
     },
     "execution_count": 10,
     "metadata": {},
     "output_type": "execute_result"
    }
   ],
   "source": [
    "name + city"
   ]
  },
  {
   "cell_type": "markdown",
   "id": "1a2367c6",
   "metadata": {
    "slideshow": {
     "slide_type": "subslide"
    }
   },
   "source": [
    "Another common concatenation method is using the `join()` function: `str.join(sequence)`, which joins elements in the sequence with specified characters to produce a new string. For example:"
   ]
  },
  {
   "cell_type": "code",
   "execution_count": 11,
   "id": "91747101",
   "metadata": {
    "slideshow": {
     "slide_type": "fragment"
    }
   },
   "outputs": [
    {
     "data": {
      "text/plain": [
       "'chen,zhang,li'"
      ]
     },
     "execution_count": 11,
     "metadata": {},
     "output_type": "execute_result"
    }
   ],
   "source": [
    "\",\".join([\"chen\", \"zhang\", \"li\"])  # concatenating 3 strings with comma"
   ]
  },
  {
   "cell_type": "code",
   "execution_count": 12,
   "id": "cde4faf5",
   "metadata": {
    "slideshow": {
     "slide_type": "fragment"
    }
   },
   "outputs": [
    {
     "data": {
      "text/plain": [
       "'2020-05-13'"
      ]
     },
     "execution_count": 12,
     "metadata": {},
     "output_type": "execute_result"
    }
   ],
   "source": [
    "\"-\".join([\"2020\", \"05\", \"13\"])  # concatenating 3 strings with dash"
   ]
  },
  {
   "cell_type": "code",
   "execution_count": 13,
   "id": "cdaf99b3-9bb8-42f8-9742-110b3910aa49",
   "metadata": {},
   "outputs": [
    {
     "data": {
      "text/plain": [
       "'Brunel University'"
      ]
     },
     "execution_count": 13,
     "metadata": {},
     "output_type": "execute_result"
    }
   ],
   "source": [
    "\" \".join([\"Brunel\", \"University\"]) # concatenating 2 strings with space"
   ]
  },
  {
   "cell_type": "markdown",
   "id": "f176323d",
   "metadata": {
    "slideshow": {
     "slide_type": "subslide"
    }
   },
   "source": [
    "If concatnating same strings, we can use the muliplication operator `*`："
   ]
  },
  {
   "cell_type": "code",
   "execution_count": 14,
   "id": "f8810b52",
   "metadata": {
    "slideshow": {
     "slide_type": "fragment"
    }
   },
   "outputs": [
    {
     "data": {
      "text/plain": [
       "'JohnJohnJohn'"
      ]
     },
     "execution_count": 14,
     "metadata": {},
     "output_type": "execute_result"
    }
   ],
   "source": [
    "name = \"John\"\n",
    "name * 3"
   ]
  },
  {
   "cell_type": "markdown",
   "id": "75ffb068",
   "metadata": {
    "slideshow": {
     "slide_type": "fragment"
    }
   },
   "source": [
    "we can access individual elements of a **sequence** using indexing. The elements in a **sequence** are indexed starting from 0, and -1 from end."
   ]
  },
  {
   "cell_type": "markdown",
   "id": "9e4abebe-e028-4059-8d6c-df6f56d0e860",
   "metadata": {},
   "source": [
    "- The first element is at position 0, the second at 1, and so on. Negative indices are also supported, where **-1 refers to the last element**, -2 to the second last, and so forth."
   ]
  },
  {
   "cell_type": "code",
   "execution_count": 15,
   "id": "df9acbf5",
   "metadata": {
    "slideshow": {
     "slide_type": "fragment"
    }
   },
   "outputs": [
    {
     "data": {
      "text/plain": [
       "'J'"
      ]
     },
     "execution_count": 15,
     "metadata": {},
     "output_type": "execute_result"
    }
   ],
   "source": [
    "name[0]  # 0 is the first index"
   ]
  },
  {
   "cell_type": "code",
   "execution_count": 16,
   "id": "797e455d-a1bb-4243-9dcb-6a55d8337432",
   "metadata": {},
   "outputs": [
    {
     "data": {
      "text/plain": [
       "'n'"
      ]
     },
     "execution_count": 16,
     "metadata": {},
     "output_type": "execute_result"
    }
   ],
   "source": [
    "name[-1]"
   ]
  },
  {
   "cell_type": "code",
   "execution_count": 17,
   "id": "0c86d117-a3cb-4006-a749-c5713bb940c3",
   "metadata": {},
   "outputs": [
    {
     "data": {
      "text/plain": [
       "'h'"
      ]
     },
     "execution_count": 17,
     "metadata": {},
     "output_type": "execute_result"
    }
   ],
   "source": [
    "name[-2]"
   ]
  },
  {
   "cell_type": "markdown",
   "id": "9ab4a720-9123-4218-8a8e-f36ed8ee14aa",
   "metadata": {},
   "source": [
    "The syntax for slicing in a **sequence** is `sequence[start:end]`, where start is the starting index (**included**) and end is the stopping index (**excluded**)."
   ]
  },
  {
   "cell_type": "code",
   "execution_count": 18,
   "id": "e514bd64",
   "metadata": {
    "slideshow": {
     "slide_type": "fragment"
    }
   },
   "outputs": [
    {
     "data": {
      "text/plain": [
       "'Joh'"
      ]
     },
     "execution_count": 18,
     "metadata": {},
     "output_type": "execute_result"
    }
   ],
   "source": [
    "name[0:3]  # get the first to the third characters"
   ]
  },
  {
   "cell_type": "code",
   "execution_count": 19,
   "id": "377b7df8-0ecb-4e0c-9dc2-57a9a882de72",
   "metadata": {},
   "outputs": [
    {
     "data": {
      "text/plain": [
       "'ohn'"
      ]
     },
     "execution_count": 19,
     "metadata": {},
     "output_type": "execute_result"
    }
   ],
   "source": [
    "name[1:] # get all the characters from the frist index to end"
   ]
  },
  {
   "cell_type": "markdown",
   "id": "c3fe6a39",
   "metadata": {
    "slideshow": {
     "slide_type": "fragment"
    }
   },
   "source": [
    "To check whether a character or substring exists in a **sequence**, you can use the `in` or `not in` operators:\n"
   ]
  },
  {
   "cell_type": "code",
   "execution_count": 20,
   "id": "930633b7",
   "metadata": {
    "slideshow": {
     "slide_type": "fragment"
    }
   },
   "outputs": [
    {
     "data": {
      "text/plain": [
       "True"
      ]
     },
     "execution_count": 20,
     "metadata": {},
     "output_type": "execute_result"
    }
   ],
   "source": [
    "\"c\" not in name"
   ]
  },
  {
   "cell_type": "code",
   "execution_count": 21,
   "id": "671e5245",
   "metadata": {
    "slideshow": {
     "slide_type": "fragment"
    }
   },
   "outputs": [
    {
     "data": {
      "text/plain": [
       "False"
      ]
     },
     "execution_count": 21,
     "metadata": {},
     "output_type": "execute_result"
    }
   ],
   "source": [
    "\"Bei\" in city"
   ]
  },
  {
   "cell_type": "markdown",
   "id": "f2a7e77d",
   "metadata": {
    "slideshow": {
     "slide_type": "subslide"
    }
   },
   "source": [
    "Cast other data types to string can be done by using the function `str`:"
   ]
  },
  {
   "cell_type": "code",
   "execution_count": 22,
   "id": "b112ec17",
   "metadata": {
    "slideshow": {
     "slide_type": "fragment"
    }
   },
   "outputs": [
    {
     "data": {
      "text/plain": [
       "'123'"
      ]
     },
     "execution_count": 22,
     "metadata": {},
     "output_type": "execute_result"
    }
   ],
   "source": [
    "str(123)"
   ]
  },
  {
   "cell_type": "code",
   "execution_count": 23,
   "id": "813b8249",
   "metadata": {
    "slideshow": {
     "slide_type": "fragment"
    }
   },
   "outputs": [
    {
     "data": {
      "text/plain": [
       "'[1, 2, 3]'"
      ]
     },
     "execution_count": 23,
     "metadata": {},
     "output_type": "execute_result"
    }
   ],
   "source": [
    "str([1, 2, 3])"
   ]
  },
  {
   "cell_type": "markdown",
   "id": "83b2ed3d",
   "metadata": {
    "slideshow": {
     "slide_type": "subslide"
    }
   },
   "source": [
    "Some widely used functions for string operations:\n",
    "\n",
    "|function|meaning|\n",
    "|:--|:--|\n",
    "|str.capitalize()|Capitalize the first character in the string 'str'|\n",
    "|str.upper()|Convert all the characters in the string 'str' to uppercase|\n",
    "|str.lower()|Convert all the characters in the string 'str' to lowercase|\n",
    "|len(str)|length of the **sequence** 'str'|\n",
    "|str.isnumeric()|To check if a string 'str' contains only numeric characters|\n",
    "|str.isdigit()|To check if a string 'str' contains only digits (0-9)|\n",
    "|str.isalpha()|To check if all characters in a string 'str' are alphabetic (letters)|\n",
    "|str.replace(old, new])|Return a copy of the string  'str' where the substring 'old' is replaced by the substring 'new' |\n",
    "|str.strip([chars])|Return a copy of the string  'str' with leading and trailing characters removed specified in the 'chars' argument.|\n",
    "|str.split(sep=None)|Returns a list of substrings by splitting the string 'str' of the specified separator 'sep'|"
   ]
  },
  {
   "cell_type": "markdown",
   "id": "2f5dd0cc-0603-4843-8df8-418d70f28496",
   "metadata": {},
   "source": [
    "```{note}\n",
    "There may be more arguments in those functions. Interested readers may refer to relevant resources for further details.\n",
    "```"
   ]
  },
  {
   "cell_type": "code",
   "execution_count": 24,
   "id": "b60ee0e9",
   "metadata": {
    "slideshow": {
     "slide_type": "subslide"
    }
   },
   "outputs": [
    {
     "data": {
      "text/plain": [
       "['python', 'data', 'science']"
      ]
     },
     "execution_count": 24,
     "metadata": {},
     "output_type": "execute_result"
    }
   ],
   "source": [
    "str = \"python data science\"\n",
    "str.split()"
   ]
  },
  {
   "cell_type": "code",
   "execution_count": 25,
   "id": "6b3e894c",
   "metadata": {},
   "outputs": [
    {
     "data": {
      "text/plain": [
       "'python data science'"
      ]
     },
     "execution_count": 25,
     "metadata": {},
     "output_type": "execute_result"
    }
   ],
   "source": [
    "str = \"python Data Science\"\n",
    "str.lower()"
   ]
  },
  {
   "cell_type": "code",
   "execution_count": 26,
   "id": "198c7ed1-dea5-4726-9741-2679168283d7",
   "metadata": {},
   "outputs": [
    {
     "data": {
      "text/plain": [
       "'Python data science'"
      ]
     },
     "execution_count": 26,
     "metadata": {},
     "output_type": "execute_result"
    }
   ],
   "source": [
    "str.capitalize()"
   ]
  },
  {
   "cell_type": "code",
   "execution_count": 27,
   "id": "edfef6ff-1355-40f3-bf98-df4fa8dd6b9d",
   "metadata": {},
   "outputs": [
    {
     "data": {
      "text/plain": [
       "'Brunel University London'"
      ]
     },
     "execution_count": 27,
     "metadata": {},
     "output_type": "execute_result"
    }
   ],
   "source": [
    "str1 = ' Brunel University London '\n",
    "str1.strip(' ')"
   ]
  },
  {
   "cell_type": "code",
   "execution_count": 28,
   "id": "0f5d4b05-7f7c-4e9f-91dc-0f4964234c66",
   "metadata": {},
   "outputs": [
    {
     "data": {
      "text/plain": [
       "' Brunel School London '"
      ]
     },
     "execution_count": 28,
     "metadata": {},
     "output_type": "execute_result"
    }
   ],
   "source": [
    "str1.replace('University', 'School')"
   ]
  },
  {
   "cell_type": "markdown",
   "id": "f94f06d4",
   "metadata": {
    "slideshow": {
     "slide_type": "slide"
    }
   },
   "source": [
    "## List\n",
    "<hr>\n",
    "\n",
    "A Python list is a **dynamic sized** array (automatically grows and shrinks). We can store **all types** of elements (including another list) in a list. List is shown by **square brackets**``[ ]``and elements are seperated by **commas**."
   ]
  },
  {
   "cell_type": "code",
   "execution_count": 29,
   "id": "e558e1b9",
   "metadata": {
    "slideshow": {
     "slide_type": "fragment"
    }
   },
   "outputs": [
    {
     "data": {
      "text/plain": [
       "[34, 10, 25]"
      ]
     },
     "execution_count": 29,
     "metadata": {},
     "output_type": "execute_result"
    }
   ],
   "source": [
    "list1 = [34, 10, 25] # a list of numerics\n",
    "list1"
   ]
  },
  {
   "cell_type": "code",
   "execution_count": 30,
   "id": "1953c805",
   "metadata": {
    "slideshow": {
     "slide_type": "fragment"
    }
   },
   "outputs": [
    {
     "data": {
      "text/plain": [
       "['chen', 'zhang', 'wang']"
      ]
     },
     "execution_count": 30,
     "metadata": {},
     "output_type": "execute_result"
    }
   ],
   "source": [
    "list2 = [\"chen\", \"zhang\", \"wang\"] # a list of strings\n",
    "list2"
   ]
  },
  {
   "cell_type": "code",
   "execution_count": 31,
   "id": "e1160e0e",
   "metadata": {
    "slideshow": {
     "slide_type": "fragment"
    }
   },
   "outputs": [
    {
     "data": {
      "text/plain": [
       "[10, 'wang', 33]"
      ]
     },
     "execution_count": 31,
     "metadata": {},
     "output_type": "execute_result"
    }
   ],
   "source": [
    "list3 = [10, \"wang\", 33] # a list of mixed type of items\n",
    "list3"
   ]
  },
  {
   "cell_type": "markdown",
   "id": "263f6ae0",
   "metadata": {
    "slideshow": {
     "slide_type": "subslide"
    }
   },
   "source": [
    "- The indexing and slicing of a list is same with a string."
   ]
  },
  {
   "cell_type": "code",
   "execution_count": 32,
   "id": "f5f7ce9f",
   "metadata": {
    "slideshow": {
     "slide_type": "fragment"
    }
   },
   "outputs": [
    {
     "data": {
      "text/plain": [
       "'zhang'"
      ]
     },
     "execution_count": 32,
     "metadata": {},
     "output_type": "execute_result"
    }
   ],
   "source": [
    "list2[1]  # the second element of list2"
   ]
  },
  {
   "cell_type": "code",
   "execution_count": 33,
   "id": "2af3a41e",
   "metadata": {
    "slideshow": {
     "slide_type": "fragment"
    }
   },
   "outputs": [
    {
     "data": {
      "text/plain": [
       "[34, 10]"
      ]
     },
     "execution_count": 33,
     "metadata": {},
     "output_type": "execute_result"
    }
   ],
   "source": [
    "list1[0:2]  # the elements indexed by 0 to 1"
   ]
  },
  {
   "cell_type": "code",
   "execution_count": 34,
   "id": "4a67fe22",
   "metadata": {
    "slideshow": {
     "slide_type": "fragment"
    }
   },
   "outputs": [
    {
     "data": {
      "text/plain": [
       "[34, 10, 25]"
      ]
     },
     "execution_count": 34,
     "metadata": {},
     "output_type": "execute_result"
    }
   ],
   "source": [
    "list1[0:]  # the elements indexed by 0 to the end"
   ]
  },
  {
   "cell_type": "markdown",
   "id": "52b51221-da99-4d4b-a205-fec4fa6a0430",
   "metadata": {},
   "source": [
    "- Step size can ge given in slicing with the 3rd argument value"
   ]
  },
  {
   "cell_type": "code",
   "execution_count": 35,
   "id": "afb8ea13",
   "metadata": {
    "slideshow": {
     "slide_type": "subslide"
    }
   },
   "outputs": [
    {
     "data": {
      "text/plain": [
       "[7, 9]"
      ]
     },
     "execution_count": 35,
     "metadata": {},
     "output_type": "execute_result"
    }
   ],
   "source": [
    "list3 = [4, 7, 8, 9, 10]\n",
    "list3[1:4:2]  # the elements indexed by 1 to 3 with step size 2"
   ]
  },
  {
   "cell_type": "code",
   "execution_count": 36,
   "id": "2c494787",
   "metadata": {
    "slideshow": {
     "slide_type": "fragment"
    }
   },
   "outputs": [
    {
     "data": {
      "text/plain": [
       "'zhang'"
      ]
     },
     "execution_count": 36,
     "metadata": {},
     "output_type": "execute_result"
    }
   ],
   "source": [
    "list2[-2]  # the second last element in list2"
   ]
  },
  {
   "cell_type": "markdown",
   "id": "e06368f6-53c3-43b1-8c45-58d831e2e348",
   "metadata": {},
   "source": [
    "- Using two colons followed by -1 indicates reverse order"
   ]
  },
  {
   "cell_type": "code",
   "execution_count": 37,
   "id": "5d7169b3",
   "metadata": {
    "slideshow": {
     "slide_type": "fragment"
    }
   },
   "outputs": [
    {
     "data": {
      "text/plain": [
       "[25, 10, 34]"
      ]
     },
     "execution_count": 37,
     "metadata": {},
     "output_type": "execute_result"
    }
   ],
   "source": [
    "list1[::-1]  # using two colons followed by -1 indicates reverse order"
   ]
  },
  {
   "cell_type": "markdown",
   "id": "928e4bfc",
   "metadata": {
    "slideshow": {
     "slide_type": "subslide"
    }
   },
   "source": [
    "To change the value of some elements in a **sequence**, we can diretly assign values using indexing."
   ]
  },
  {
   "cell_type": "code",
   "execution_count": 38,
   "id": "4630637c",
   "metadata": {
    "slideshow": {
     "slide_type": "fragment"
    }
   },
   "outputs": [
    {
     "data": {
      "text/plain": [
       "[21, 10, 30]"
      ]
     },
     "execution_count": 38,
     "metadata": {},
     "output_type": "execute_result"
    }
   ],
   "source": [
    "list = [21, 16, 30]\n",
    "list[1] = 10  # change the value of the second element in list\n",
    "list"
   ]
  },
  {
   "cell_type": "markdown",
   "id": "a359c4fd",
   "metadata": {
    "slideshow": {
     "slide_type": "subslide"
    }
   },
   "source": [
    "To delete some element in a **sequence**, we can use `del` along with indexing："
   ]
  },
  {
   "cell_type": "code",
   "execution_count": 39,
   "id": "34469249",
   "metadata": {
    "slideshow": {
     "slide_type": "fragment"
    }
   },
   "outputs": [
    {
     "data": {
      "text/plain": [
       "[34, 23]"
      ]
     },
     "execution_count": 39,
     "metadata": {},
     "output_type": "execute_result"
    }
   ],
   "source": [
    "list = [34, 46, 23]\n",
    "del list[1]\n",
    "list"
   ]
  },
  {
   "cell_type": "markdown",
   "id": "3c3dc316",
   "metadata": {
    "slideshow": {
     "slide_type": "subslide"
    }
   },
   "source": [
    "For lists, the operators `+`, `*`, `in`, and `not in` function identically to their string counterparts. Below are examples:"
   ]
  },
  {
   "cell_type": "code",
   "execution_count": 40,
   "id": "0c669479",
   "metadata": {
    "slideshow": {
     "slide_type": "fragment"
    }
   },
   "outputs": [
    {
     "data": {
      "text/plain": [
       "[13, 23, 21, 65]"
      ]
     },
     "execution_count": 40,
     "metadata": {},
     "output_type": "execute_result"
    }
   ],
   "source": [
    "list = [13, 23]\n",
    "list = list + [21, 65]\n",
    "list"
   ]
  },
  {
   "cell_type": "code",
   "execution_count": 41,
   "id": "2fbd539e",
   "metadata": {
    "slideshow": {
     "slide_type": "fragment"
    }
   },
   "outputs": [
    {
     "data": {
      "text/plain": [
       "[13, 23, 21, 65, 13, 23, 21, 65]"
      ]
     },
     "execution_count": 41,
     "metadata": {},
     "output_type": "execute_result"
    }
   ],
   "source": [
    "list * 2"
   ]
  },
  {
   "cell_type": "code",
   "execution_count": 42,
   "id": "3387c6d5",
   "metadata": {
    "slideshow": {
     "slide_type": "subslide"
    }
   },
   "outputs": [
    {
     "data": {
      "text/plain": [
       "False"
      ]
     },
     "execution_count": 42,
     "metadata": {},
     "output_type": "execute_result"
    }
   ],
   "source": [
    "12 in list"
   ]
  },
  {
   "cell_type": "code",
   "execution_count": 43,
   "id": "1375b47b",
   "metadata": {
    "slideshow": {
     "slide_type": "fragment"
    }
   },
   "outputs": [
    {
     "data": {
      "text/plain": [
       "True"
      ]
     },
     "execution_count": 43,
     "metadata": {},
     "output_type": "execute_result"
    }
   ],
   "source": [
    "12 not in list"
   ]
  },
  {
   "cell_type": "markdown",
   "id": "88fe950b",
   "metadata": {
    "slideshow": {
     "slide_type": "subslide"
    }
   },
   "source": [
    "- A 2D list is created by **nesting** one-dimensional lists within square brackets:"
   ]
  },
  {
   "cell_type": "code",
   "execution_count": 44,
   "id": "710d7055",
   "metadata": {
    "slideshow": {
     "slide_type": "fragment"
    }
   },
   "outputs": [
    {
     "data": {
      "text/plain": [
       "[[1, 2, 3], [4, 5]]"
      ]
     },
     "execution_count": 44,
     "metadata": {},
     "output_type": "execute_result"
    }
   ],
   "source": [
    "a = [[1, 2, 3], [4, 5]]\n",
    "a"
   ]
  },
  {
   "cell_type": "markdown",
   "id": "160716fe",
   "metadata": {
    "slideshow": {
     "slide_type": "fragment"
    }
   },
   "source": [
    "To visit the element in a 2D list, using two sets of squre brackets with index:"
   ]
  },
  {
   "cell_type": "code",
   "execution_count": 45,
   "id": "ab6bc928",
   "metadata": {
    "slideshow": {
     "slide_type": "fragment"
    }
   },
   "outputs": [
    {
     "data": {
      "text/plain": [
       "4"
      ]
     },
     "execution_count": 45,
     "metadata": {},
     "output_type": "execute_result"
    }
   ],
   "source": [
    "a[1][0]"
   ]
  },
  {
   "cell_type": "markdown",
   "id": "6f18c7db-5839-44d5-9a45-7d244058bb83",
   "metadata": {},
   "source": [
    "- Adding elements into a list"
   ]
  },
  {
   "cell_type": "markdown",
   "id": "8aa76295",
   "metadata": {
    "slideshow": {
     "slide_type": "subslide"
    }
   },
   "source": [
    "We can use `append()`, `insert()`, and `extend()` to add elements in a list:"
   ]
  },
  {
   "cell_type": "code",
   "execution_count": 46,
   "id": "812ac58a",
   "metadata": {
    "slideshow": {
     "slide_type": "fragment"
    }
   },
   "outputs": [
    {
     "data": {
      "text/plain": [
       "[34, 46, 23, 3]"
      ]
     },
     "execution_count": 46,
     "metadata": {},
     "output_type": "execute_result"
    }
   ],
   "source": [
    "list = [34, 46, 23]\n",
    "list.append(3)  # append one element at the end of a list\n",
    "list"
   ]
  },
  {
   "cell_type": "code",
   "execution_count": 47,
   "id": "0be3c0a4",
   "metadata": {
    "slideshow": {
     "slide_type": "fragment"
    }
   },
   "outputs": [
    {
     "data": {
      "text/plain": [
       "[34, 10, 46, 23, 3]"
      ]
     },
     "execution_count": 47,
     "metadata": {},
     "output_type": "execute_result"
    }
   ],
   "source": [
    "list.insert(1, 10)  # insert an element 10 into the index 1 of the list\n",
    "list"
   ]
  },
  {
   "cell_type": "code",
   "execution_count": 48,
   "id": "6fd58c98",
   "metadata": {
    "slideshow": {
     "slide_type": "fragment"
    }
   },
   "outputs": [
    {
     "data": {
      "text/plain": [
       "[34, 10, 46, 23, 3, 4, 5, 6]"
      ]
     },
     "execution_count": 48,
     "metadata": {},
     "output_type": "execute_result"
    }
   ],
   "source": [
    "list.extend([4, 5, 6])  # extend the list with some other sequence elements in the end\n",
    "list"
   ]
  },
  {
   "cell_type": "markdown",
   "id": "390db738",
   "metadata": {
    "slideshow": {
     "slide_type": "subslide"
    }
   },
   "source": [
    "Some other functions：\n",
    "\n",
    "|function name|meaning|\n",
    "|:--|:--|\n",
    "|max(list)|Return the maximum in a list 'list'|\n",
    "|min(list)|Return the minimum in a list 'list'|\n",
    "|list(sequence)|Transform another suquence 'sequence' to a list type|\n",
    "|sequence.count(element)|Count the occurance of an element 'element' in a **sequence** 'sequence' |\n",
    "|list.reverse()|Reverse the list 'list'|\n",
    "|list.pop(index)|Remove one element in a list with given index 'index'|\n",
    "|list.remove(element)|Remove all elments in a list 'list' whose contents are same as element 'element' |\n",
    "|list.clear()|Clear all the elements in a list 'list'|"
   ]
  },
  {
   "cell_type": "code",
   "execution_count": 49,
   "id": "cc48cb59",
   "metadata": {},
   "outputs": [
    {
     "name": "stdout",
     "output_type": "stream",
     "text": [
      "[1, 2]\n"
     ]
    }
   ],
   "source": [
    "a = [1, 2, 3]\n",
    "a.pop(-1)\n",
    "print(a)"
   ]
  },
  {
   "cell_type": "code",
   "execution_count": 50,
   "id": "3b47cb46-6fb7-4f27-b664-de7a4baee0ee",
   "metadata": {},
   "outputs": [
    {
     "data": {
      "text/plain": [
       "[2, 1]"
      ]
     },
     "execution_count": 50,
     "metadata": {},
     "output_type": "execute_result"
    }
   ],
   "source": [
    "a.reverse()\n",
    "a"
   ]
  },
  {
   "cell_type": "code",
   "execution_count": 51,
   "id": "938ba1bc-0cd8-4682-98e7-8c06538c468a",
   "metadata": {},
   "outputs": [
    {
     "data": {
      "text/plain": [
       "2"
      ]
     },
     "execution_count": 51,
     "metadata": {},
     "output_type": "execute_result"
    }
   ],
   "source": [
    "str = 'chench'\n",
    "str.count('c')\n"
   ]
  },
  {
   "cell_type": "markdown",
   "id": "67304444",
   "metadata": {
    "slideshow": {
     "slide_type": "subslide"
    }
   },
   "source": [
    "## Dictionary\n",
    "<hr>\n",
    "\n",
    "字典是另一种可变容器模型，字典的格式为``{key : value}``，整个字典包括在花括号``{ }``中。**键（key）必须是唯一且不可变**，但值（value）可以取任何数据类型，也可以改变，key，value 之间用冒号``：``分割。\n"
   ]
  },
  {
   "cell_type": "code",
   "execution_count": 52,
   "id": "6322e98a",
   "metadata": {
    "slideshow": {
     "slide_type": "fragment"
    }
   },
   "outputs": [
    {
     "data": {
      "text/plain": [
       "{'name': 'chen', 'score': 95}"
      ]
     },
     "execution_count": 52,
     "metadata": {},
     "output_type": "execute_result"
    }
   ],
   "source": [
    "dict = {\"name\": \"chen\", \"score\": 95}\n",
    "dict"
   ]
  },
  {
   "cell_type": "markdown",
   "id": "2b1cbfd1",
   "metadata": {
    "slideshow": {
     "slide_type": "fragment"
    }
   },
   "source": [
    "访问字典里的值时，则把相应的键放入到方括号``[ ]``中："
   ]
  },
  {
   "cell_type": "code",
   "execution_count": 53,
   "id": "7333a6cc",
   "metadata": {
    "slideshow": {
     "slide_type": "subslide"
    }
   },
   "outputs": [
    {
     "data": {
      "text/plain": [
       "'chen'"
      ]
     },
     "execution_count": 53,
     "metadata": {},
     "output_type": "execute_result"
    }
   ],
   "source": [
    "dict[\"name\"]"
   ]
  },
  {
   "cell_type": "code",
   "execution_count": 54,
   "id": "8efe4a33",
   "metadata": {
    "slideshow": {
     "slide_type": "fragment"
    }
   },
   "outputs": [
    {
     "data": {
      "text/plain": [
       "95"
      ]
     },
     "execution_count": 54,
     "metadata": {},
     "output_type": "execute_result"
    }
   ],
   "source": [
    "dict[\"score\"]"
   ]
  },
  {
   "cell_type": "markdown",
   "id": "2bee2bda",
   "metadata": {
    "slideshow": {
     "slide_type": "subslide"
    }
   },
   "source": [
    "向字典增加一项，可以直接用方括号`[ ]`增加元素："
   ]
  },
  {
   "cell_type": "code",
   "execution_count": 55,
   "id": "e2568c90",
   "metadata": {
    "slideshow": {
     "slide_type": "fragment"
    }
   },
   "outputs": [
    {
     "data": {
      "text/plain": [
       "{'name': 'chen', 'score': 95, 'major': 'economy'}"
      ]
     },
     "execution_count": 55,
     "metadata": {},
     "output_type": "execute_result"
    }
   ],
   "source": [
    "dict[\"major\"] = \"economy\"\n",
    "dict"
   ]
  },
  {
   "cell_type": "markdown",
   "id": "3693e3c4",
   "metadata": {
    "slideshow": {
     "slide_type": "subslide"
    }
   },
   "source": [
    "修改字典里的值时，则把相应的键放入到方括号中，赋值进行修改即可："
   ]
  },
  {
   "cell_type": "code",
   "execution_count": 56,
   "id": "fe735803",
   "metadata": {
    "slideshow": {
     "slide_type": "fragment"
    }
   },
   "outputs": [
    {
     "data": {
      "text/plain": [
       "{'name': 'wang', 'score': 95, 'major': 'economy', 'mark': 80}"
      ]
     },
     "execution_count": 56,
     "metadata": {},
     "output_type": "execute_result"
    }
   ],
   "source": [
    "dict[\"name\"] = \"wang\"\n",
    "dict[\"mark\"] = 80\n",
    "dict"
   ]
  },
  {
   "cell_type": "markdown",
   "id": "644d7f4d",
   "metadata": {
    "slideshow": {
     "slide_type": "fragment"
    }
   },
   "source": [
    "删除字典里的某个键值时，用 del："
   ]
  },
  {
   "cell_type": "code",
   "execution_count": 57,
   "id": "029139e7",
   "metadata": {
    "slideshow": {
     "slide_type": "fragment"
    }
   },
   "outputs": [
    {
     "data": {
      "text/plain": [
       "{'score': 95, 'major': 'economy', 'mark': 80}"
      ]
     },
     "execution_count": 57,
     "metadata": {},
     "output_type": "execute_result"
    }
   ],
   "source": [
    "del dict[\"name\"]\n",
    "dict"
   ]
  },
  {
   "cell_type": "markdown",
   "id": "a6c06ac4",
   "metadata": {
    "slideshow": {
     "slide_type": "subslide"
    }
   },
   "source": [
    "注意：键必须不可变，所以可以用数字，字符串或元组充当，但用列表就不行。字典类型数据的常用函数还有：\n",
    "\n",
    "<table>\n",
    "    <tr style=\"border-top:solid\">\n",
    "        <td style=\"text-align:left\">len(dict)</td>\n",
    "        <td style=\"text-align:left\">返回字典 dict 中的元素个数，即键或值的个数</td>\n",
    "    </tr>\n",
    "    <tr>\n",
    "        <td style=\"text-align:left\">clear()</td>\n",
    "        <td style=\"text-align:left\">删除字典 dict 中的所有元素</td>\n",
    "    </tr>\n",
    "    <tr>\n",
    "        <td style=\"text-align:left\">get(key, default=None)</td>\n",
    "        <td style=\"text-align:left\">返回指定键的值，如果键不在字典中返回 default 设置的默认值</td>\n",
    "    </tr>\n",
    "    <tr>\n",
    "        <td style=\"text-align:left\">values()</td>\n",
    "        <td style=\"text-align:left\">返回一个迭代器，可以使用 list() 来转换为列表</td>\n",
    "    </tr>\n",
    "    <tr>\n",
    "        <td style=\"text-align:left\">keys()</td>\n",
    "        <td style=\"text-align:left\">返回一个迭代器，可以使用 list() 来转换为列表</td>\n",
    "    </tr>\n",
    "    <tr style=\"border-bottom:solid\">\n",
    "        <td style=\"text-align:left\">popitem()</td>\n",
    "        <td style=\"text-align:left\">删除字典的最后一项，并返回这个删除的项</td>\n",
    "    </tr>\n",
    "</table>"
   ]
  },
  {
   "cell_type": "markdown",
   "id": "98e3b73e",
   "metadata": {
    "slideshow": {
     "slide_type": "subslide"
    }
   },
   "source": [
    "与列表、字符串或者元组类型一样，字典可以通过`for-in`语句对其元素进行遍历，返回的是字典的 key。"
   ]
  },
  {
   "cell_type": "code",
   "execution_count": 58,
   "id": "a1cbf22e",
   "metadata": {
    "slideshow": {
     "slide_type": "fragment"
    }
   },
   "outputs": [
    {
     "name": "stdout",
     "output_type": "stream",
     "text": [
      "score\n",
      "major\n",
      "mark\n"
     ]
    }
   ],
   "source": [
    "for i in dict:\n",
    "    print(i)"
   ]
  },
  {
   "cell_type": "markdown",
   "id": "af6022e4",
   "metadata": {
    "slideshow": {
     "slide_type": "fragment"
    }
   },
   "source": [
    "若要输出 value，则可以用`get`函数或者用方括号`[ ]`里面跟 key。"
   ]
  },
  {
   "cell_type": "code",
   "execution_count": 59,
   "id": "41f47711",
   "metadata": {
    "slideshow": {
     "slide_type": "fragment"
    }
   },
   "outputs": [
    {
     "name": "stdout",
     "output_type": "stream",
     "text": [
      "95\n",
      "economy\n",
      "80\n"
     ]
    }
   ],
   "source": [
    "for i in dict:\n",
    "    print(dict[i])"
   ]
  },
  {
   "cell_type": "markdown",
   "id": "269d6ec8",
   "metadata": {
    "slideshow": {
     "slide_type": "subslide"
    }
   },
   "source": [
    "## 元祖类型\n",
    "<hr>\n",
    "\n",
    "Python 的元组（tuple）与列表类似，不同之处在于**元组的元素不能修改**。元组使用**小括号**创建，并使用逗号隔开。访问列表元素或者截取部分元组与列表非常类似："
   ]
  },
  {
   "cell_type": "code",
   "execution_count": 60,
   "id": "2864f94b",
   "metadata": {
    "slideshow": {
     "slide_type": "fragment"
    }
   },
   "outputs": [
    {
     "data": {
      "text/plain": [
       "'zh'"
      ]
     },
     "execution_count": 60,
     "metadata": {},
     "output_type": "execute_result"
    }
   ],
   "source": [
    "tup = (13, \"zh\", 20)\n",
    "tup[1]"
   ]
  },
  {
   "cell_type": "code",
   "execution_count": 61,
   "id": "62822567",
   "metadata": {
    "slideshow": {
     "slide_type": "fragment"
    }
   },
   "outputs": [
    {
     "data": {
      "text/plain": [
       "(13, 'zh')"
      ]
     },
     "execution_count": 61,
     "metadata": {},
     "output_type": "execute_result"
    }
   ],
   "source": [
    "tup[0:2]"
   ]
  },
  {
   "cell_type": "code",
   "execution_count": 62,
   "id": "c16cf996",
   "metadata": {
    "slideshow": {
     "slide_type": "fragment"
    }
   },
   "outputs": [
    {
     "data": {
      "text/plain": [
       "(13, 'zh', 20)"
      ]
     },
     "execution_count": 62,
     "metadata": {},
     "output_type": "execute_result"
    }
   ],
   "source": [
    "tup[0:]"
   ]
  },
  {
   "cell_type": "markdown",
   "id": "b4e6fff0",
   "metadata": {
    "slideshow": {
     "slide_type": "subslide"
    }
   },
   "source": [
    "元组中的元素不能修改，但可以用 del 删除整个元组， 也可以用运算符 +、*、in、not in："
   ]
  },
  {
   "cell_type": "code",
   "execution_count": 63,
   "id": "ec2edf45",
   "metadata": {
    "slideshow": {
     "slide_type": "fragment"
    }
   },
   "outputs": [],
   "source": [
    "tup = (13, \"zh\", 20)\n",
    "del tup  # 完全删除 tup"
   ]
  },
  {
   "cell_type": "code",
   "execution_count": 64,
   "id": "ce98f202",
   "metadata": {
    "slideshow": {
     "slide_type": "fragment"
    }
   },
   "outputs": [
    {
     "data": {
      "text/plain": [
       "(23, 45, 21, 32, 21)"
      ]
     },
     "execution_count": 64,
     "metadata": {},
     "output_type": "execute_result"
    }
   ],
   "source": [
    "tup = (23, 45, 21)\n",
    "tup = tup + (32, 21)\n",
    "tup"
   ]
  },
  {
   "cell_type": "code",
   "execution_count": 65,
   "id": "f394a0a4",
   "metadata": {
    "slideshow": {
     "slide_type": "subslide"
    }
   },
   "outputs": [
    {
     "data": {
      "text/plain": [
       "(23, 45, 21, 32, 21, 23, 45, 21, 32, 21)"
      ]
     },
     "execution_count": 65,
     "metadata": {},
     "output_type": "execute_result"
    }
   ],
   "source": [
    "tup * 2"
   ]
  },
  {
   "cell_type": "code",
   "execution_count": 66,
   "id": "7e30bc25",
   "metadata": {
    "slideshow": {
     "slide_type": "fragment"
    }
   },
   "outputs": [
    {
     "data": {
      "text/plain": [
       "False"
      ]
     },
     "execution_count": 66,
     "metadata": {},
     "output_type": "execute_result"
    }
   ],
   "source": [
    "25 in tup"
   ]
  },
  {
   "cell_type": "code",
   "execution_count": 67,
   "id": "92d216f2",
   "metadata": {
    "slideshow": {
     "slide_type": "fragment"
    }
   },
   "outputs": [
    {
     "data": {
      "text/plain": [
       "True"
      ]
     },
     "execution_count": 67,
     "metadata": {},
     "output_type": "execute_result"
    }
   ],
   "source": [
    "25 not in tup"
   ]
  },
  {
   "cell_type": "markdown",
   "id": "b49dc0f1",
   "metadata": {
    "slideshow": {
     "slide_type": "subslide"
    }
   },
   "source": [
    "<table>\n",
    "    <tr style=\"border-top:solid\">\n",
    "        <td style=\"text-align:left\">max(tup)</td>\n",
    "        <td style=\"text-align:left\">返回元组 tup 中的最大值元素</td>\n",
    "    </tr>\n",
    "    <tr>\n",
    "        <td style=\"text-align:left\">min(tup)</td>\n",
    "        <td style=\"text-align:left\">返回元组 tup 中的最小值元素</td>\n",
    "    </tr>\n",
    "    <tr>\n",
    "        <td style=\"text-align:left\">tuple(seq)</td>\n",
    "        <td style=\"text-align:left\">将列表转化为元组</td>\n",
    "    </tr>\n",
    "    <tr>\n",
    "        <td style=\"text-align:left\">len(tup)</td>\n",
    "        <td style=\"text-align:left\">返回元组 tup 的长度，即元素个数</td>\n",
    "    </tr>\n",
    "    <tr style=\"border-bottom:solid\">\n",
    "        <td style=\"text-align:left\">tup.count(obj)</td>\n",
    "        <td style=\"text-align:left\">统计某个元素在元组 tup 中出现的次数</td>\n",
    "    </tr>\n",
    "</table>"
   ]
  },
  {
   "cell_type": "markdown",
   "id": "2db34b07",
   "metadata": {
    "slideshow": {
     "slide_type": "subslide"
    }
   },
   "source": [
    "## 集合类型*\n",
    "<hr>\n",
    "\n",
    "集合（set）是一个无序的**不重复**元素序列，一般使用大括号 { } 创建。注意：创建一个空集合必须用 set() 而不是 { }，因为 { } 默认创建一个空字典）。"
   ]
  },
  {
   "cell_type": "code",
   "execution_count": 68,
   "id": "57cfffd5",
   "metadata": {
    "slideshow": {
     "slide_type": "fragment"
    }
   },
   "outputs": [
    {
     "data": {
      "text/plain": [
       "{23, 34, 'chen'}"
      ]
     },
     "execution_count": 68,
     "metadata": {},
     "output_type": "execute_result"
    }
   ],
   "source": [
    "set1 = {34, 23, \"chen\"}\n",
    "set1"
   ]
  },
  {
   "cell_type": "code",
   "execution_count": 69,
   "id": "013d0f72",
   "metadata": {
    "slideshow": {
     "slide_type": "fragment"
    }
   },
   "outputs": [
    {
     "data": {
      "text/plain": [
       "{10, 12, '34'}"
      ]
     },
     "execution_count": 69,
     "metadata": {},
     "output_type": "execute_result"
    }
   ],
   "source": [
    "set2 = {12, \"34\", 10}\n",
    "set2"
   ]
  },
  {
   "cell_type": "markdown",
   "id": "7de8cf3f",
   "metadata": {
    "slideshow": {
     "slide_type": "subslide"
    }
   },
   "source": [
    "集合间的常用运算符包括：\n",
    "\n",
    "<table>\n",
    "    <tr style=\"border-top:solid\">\n",
    "        <td style=\"text-align:left\">-</td>\n",
    "        <td style=\"text-align:left\">删除左边集合包含，而右边集合不包含的元素</td>\n",
    "    </tr>\n",
    "    <tr>\n",
    "        <td style=\"text-align:left\">|</td>\n",
    "        <td>两个集合的并集</td>\n",
    "    </tr>\n",
    "    <tr>\n",
    "        <td style=\"text-align:left\">&</td>\n",
    "        <td>两个集合的交集</td>\n",
    "    </tr>\n",
    "    <tr style=\"border-bottom:solid\">\n",
    "        <td style=\"text-align:left\">^</td>\n",
    "        <td>不同时包含于两个集合中的元素</td>\n",
    "    </tr>\n",
    "</table>"
   ]
  },
  {
   "cell_type": "code",
   "execution_count": 70,
   "id": "1db7e5f5",
   "metadata": {
    "slideshow": {
     "slide_type": "subslide"
    }
   },
   "outputs": [
    {
     "data": {
      "text/plain": [
       "{34, 'chen'}"
      ]
     },
     "execution_count": 70,
     "metadata": {},
     "output_type": "execute_result"
    }
   ],
   "source": [
    "set1 = {34, 12, \"chen\"}\n",
    "set2 = {12, \"wang\", 10}\n",
    "set1 - set2"
   ]
  },
  {
   "cell_type": "code",
   "execution_count": 71,
   "id": "098817d0",
   "metadata": {
    "slideshow": {
     "slide_type": "fragment"
    }
   },
   "outputs": [
    {
     "data": {
      "text/plain": [
       "{10, 12, 34, 'chen', 'wang'}"
      ]
     },
     "execution_count": 71,
     "metadata": {},
     "output_type": "execute_result"
    }
   ],
   "source": [
    "set1 | set2"
   ]
  },
  {
   "cell_type": "code",
   "execution_count": 72,
   "id": "b451979b",
   "metadata": {
    "slideshow": {
     "slide_type": "fragment"
    }
   },
   "outputs": [
    {
     "data": {
      "text/plain": [
       "{12}"
      ]
     },
     "execution_count": 72,
     "metadata": {},
     "output_type": "execute_result"
    }
   ],
   "source": [
    "set1 & set2"
   ]
  },
  {
   "cell_type": "code",
   "execution_count": 73,
   "id": "9126ff71",
   "metadata": {
    "slideshow": {
     "slide_type": "fragment"
    }
   },
   "outputs": [
    {
     "data": {
      "text/plain": [
       "{10, 34, 'chen', 'wang'}"
      ]
     },
     "execution_count": 73,
     "metadata": {},
     "output_type": "execute_result"
    }
   ],
   "source": [
    "set1 ^ set2"
   ]
  },
  {
   "cell_type": "markdown",
   "id": "f568b95c",
   "metadata": {
    "slideshow": {
     "slide_type": "subslide"
    }
   },
   "source": [
    "在集合中添加元素可以用``add``函数，添加多个元素（可以是列表、元组或字典）用``update``函数，删除某个元素用``remove``函数， 判断某个元素是否在集合中，用``in``或``not in``："
   ]
  },
  {
   "cell_type": "code",
   "execution_count": 74,
   "id": "fefe0494",
   "metadata": {
    "slideshow": {
     "slide_type": "fragment"
    }
   },
   "outputs": [
    {
     "data": {
      "text/plain": [
       "{10, 13, 45, 67}"
      ]
     },
     "execution_count": 74,
     "metadata": {},
     "output_type": "execute_result"
    }
   ],
   "source": [
    "set = {13, 45, 67}\n",
    "set.add(10)\n",
    "set"
   ]
  },
  {
   "cell_type": "code",
   "execution_count": 75,
   "id": "ccc33a1b",
   "metadata": {
    "slideshow": {
     "slide_type": "fragment"
    }
   },
   "outputs": [
    {
     "data": {
      "text/plain": [
       "{13, 45, 67}"
      ]
     },
     "execution_count": 75,
     "metadata": {},
     "output_type": "execute_result"
    }
   ],
   "source": [
    "set.remove(10)\n",
    "set"
   ]
  },
  {
   "cell_type": "code",
   "execution_count": 76,
   "id": "b0b0a15e",
   "metadata": {
    "slideshow": {
     "slide_type": "fragment"
    }
   },
   "outputs": [
    {
     "data": {
      "text/plain": [
       "{13, 44, 45, 67, 80}"
      ]
     },
     "execution_count": 76,
     "metadata": {},
     "output_type": "execute_result"
    }
   ],
   "source": [
    "set.update([80, 44])\n",
    "set"
   ]
  },
  {
   "cell_type": "code",
   "execution_count": 77,
   "id": "56403c93",
   "metadata": {
    "slideshow": {
     "slide_type": "subslide"
    }
   },
   "outputs": [
    {
     "data": {
      "text/plain": [
       "True"
      ]
     },
     "execution_count": 77,
     "metadata": {},
     "output_type": "execute_result"
    }
   ],
   "source": [
    "44 in set"
   ]
  },
  {
   "cell_type": "code",
   "execution_count": 78,
   "id": "cadc133f",
   "metadata": {
    "slideshow": {
     "slide_type": "fragment"
    }
   },
   "outputs": [
    {
     "data": {
      "text/plain": [
       "False"
      ]
     },
     "execution_count": 78,
     "metadata": {},
     "output_type": "execute_result"
    }
   ],
   "source": [
    "44 not in set"
   ]
  },
  {
   "cell_type": "markdown",
   "id": "e9dd2b46",
   "metadata": {
    "slideshow": {
     "slide_type": "subslide"
    }
   },
   "source": [
    "<table>\n",
    "    <tr style=\"border-top:solid\">\n",
    "        <td style=\"text-align:left\">len(set)</td>\n",
    "        <td style=\"text-align:left\">返回集合 set 中的元素个数</td>\n",
    "    </tr>\n",
    "    <tr>\n",
    "        <td style=\"text-align:left\">set.add()</td>\n",
    "        <td style=\"text-align:left\">向集合 set 中添加一个元素</td>\n",
    "    </tr>\n",
    "    <tr>\n",
    "        <td style=\"text-align:left\">set.remove()</td>\n",
    "        <td style=\"text-align:left\">集合中移除一个元素</td>\n",
    "    </tr>\n",
    "    <tr>\n",
    "        <td style=\"text-align:left\">set.update(seq)</td>\n",
    "        <td style=\"text-align:left\">添加多个元素，可以是列表、元组或字典</td>\n",
    "    </tr>\n",
    "    <tr>\n",
    "        <td style=\"text-align:left\">set1.issubset(set2)</td>\n",
    "        <td style=\"text-align:left\">判断集合 set1 是否为另一个集合 set2 的子集</td>\n",
    "    </tr>\n",
    "    <tr>\n",
    "        <td style=\"text-align:left\">set1.issuperset(set2)</td>\n",
    "        <td style=\"text-align:left\">判断集合 set1 是否为另一个集合 set2 的父集</td>\n",
    "    </tr>\n",
    "    <tr>\n",
    "        <td style=\"text-align:left\">set1.isdisjoint(set2)</td>\n",
    "        <td style=\"text-align:left\">判断两个集合是否包含相同的元素，如果没有返回 True</td>\n",
    "    </tr>\n",
    "    <tr style=\"border-bottom:solid\">\n",
    "        <td style=\"text-align:left\">set1.union(set2)</td>\n",
    "        <td style=\"text-align:left\">返回两个集合的并集</td>\n",
    "    </tr>\n",
    "</table>"
   ]
  },
  {
   "cell_type": "markdown",
   "id": "e8d63744",
   "metadata": {
    "slideshow": {
     "slide_type": "subslide"
    }
   },
   "source": [
    "## 布尔类型\n",
    "<hr>\n",
    "\n",
    "Python 中的布尔值（Bool) 一般通过逻辑判断产生，只有两个可能的结果：``True``或``False``。"
   ]
  },
  {
   "cell_type": "code",
   "execution_count": 79,
   "id": "4bee2d52",
   "metadata": {
    "slideshow": {
     "slide_type": "fragment"
    }
   },
   "outputs": [
    {
     "data": {
      "text/plain": [
       "True"
      ]
     },
     "execution_count": 79,
     "metadata": {},
     "output_type": "execute_result"
    }
   ],
   "source": [
    "10 > 3"
   ]
  },
  {
   "cell_type": "code",
   "execution_count": 80,
   "id": "2461c9c3",
   "metadata": {
    "slideshow": {
     "slide_type": "fragment"
    }
   },
   "outputs": [
    {
     "data": {
      "text/plain": [
       "False"
      ]
     },
     "execution_count": 80,
     "metadata": {},
     "output_type": "execute_result"
    }
   ],
   "source": [
    "3 == 4"
   ]
  },
  {
   "cell_type": "markdown",
   "id": "16ad0876",
   "metadata": {
    "slideshow": {
     "slide_type": "subslide"
    }
   },
   "source": [
    "在做逻辑判断时，两个等号``==``表示是否相等，若仅有一个等号，则表示赋值。"
   ]
  },
  {
   "cell_type": "code",
   "execution_count": 81,
   "id": "7523d01a",
   "metadata": {
    "slideshow": {
     "slide_type": "fragment"
    }
   },
   "outputs": [
    {
     "data": {
      "text/plain": [
       "False"
      ]
     },
     "execution_count": 81,
     "metadata": {},
     "output_type": "execute_result"
    }
   ],
   "source": [
    "a = 3  # 一个等号表示将 a 赋值为 3\n",
    "a == 4  # 两个等号表示判断 a 是否等于 4"
   ]
  },
  {
   "cell_type": "markdown",
   "id": "884f3aa8",
   "metadata": {
    "slideshow": {
     "slide_type": "subslide"
    }
   },
   "source": [
    "对多个逻辑判断的运算，即 “且”，”或”，“非”， python 分别提供了``and``, ``or``, ``not``："
   ]
  },
  {
   "cell_type": "code",
   "execution_count": 82,
   "id": "b196d77a",
   "metadata": {
    "slideshow": {
     "slide_type": "fragment"
    }
   },
   "outputs": [
    {
     "data": {
      "text/plain": [
       "True"
      ]
     },
     "execution_count": 82,
     "metadata": {},
     "output_type": "execute_result"
    }
   ],
   "source": [
    "10 > 3 and 3 > 2"
   ]
  },
  {
   "cell_type": "code",
   "execution_count": 83,
   "id": "b98f57b3",
   "metadata": {
    "slideshow": {
     "slide_type": "fragment"
    }
   },
   "outputs": [
    {
     "data": {
      "text/plain": [
       "False"
      ]
     },
     "execution_count": 83,
     "metadata": {},
     "output_type": "execute_result"
    }
   ],
   "source": [
    "10 > 3 and 3 > 4"
   ]
  },
  {
   "cell_type": "code",
   "execution_count": 84,
   "id": "150a2ce1",
   "metadata": {
    "slideshow": {
     "slide_type": "fragment"
    }
   },
   "outputs": [
    {
     "data": {
      "text/plain": [
       "True"
      ]
     },
     "execution_count": 84,
     "metadata": {},
     "output_type": "execute_result"
    }
   ],
   "source": [
    "10 > 3 or 3 > 4"
   ]
  },
  {
   "cell_type": "code",
   "execution_count": 85,
   "id": "bcf3a32a",
   "metadata": {
    "slideshow": {
     "slide_type": "fragment"
    }
   },
   "outputs": [
    {
     "data": {
      "text/plain": [
       "True"
      ]
     },
     "execution_count": 85,
     "metadata": {},
     "output_type": "execute_result"
    }
   ],
   "source": [
    "not 3 > 4"
   ]
  },
  {
   "cell_type": "markdown",
   "id": "0d92fa43",
   "metadata": {
    "slideshow": {
     "slide_type": "subslide"
    }
   },
   "source": [
    "## `random` 模块\n",
    "<hr>"
   ]
  },
  {
   "cell_type": "markdown",
   "id": "162bb682",
   "metadata": {
    "slideshow": {
     "slide_type": "fragment"
    }
   },
   "source": [
    "随机数在编程中应用比较普遍，Python 内置的`random`模块可以生成常见的伪随机数（计算机生成的随机数都是伪随机数，真随机数是不能人为产生的）。"
   ]
  },
  {
   "cell_type": "markdown",
   "id": "0af2ab9f",
   "metadata": {
    "slideshow": {
     "slide_type": "subslide"
    }
   },
   "source": [
    "`random`中的常用函数：\n",
    "\n",
    "|函数|含义|\n",
    "|:--:|:--|\n",
    "|seed(a=None)|初始化随机数种子，默认值为当前系统时间|\n",
    "|random()|生成一个 [0.0, 1.0] 之间的小数|\n",
    "|randint(a, b)|生成一个 [a, b] 之间的随机整数|\n",
    "|uniform(a, b)| 生成一个 [a, b] 之间的随机小数|\n",
    "|shuffle(seq)| 将序列类型中的元素打乱，返回打乱后的序列|\n",
    "|sample(pop, k)| 从 pop 中随机选取 k 个元素，以列表形式返回|\n"
   ]
  },
  {
   "cell_type": "markdown",
   "id": "68a62cca",
   "metadata": {
    "slideshow": {
     "slide_type": "subslide"
    }
   },
   "source": [
    "随机数的种子可以通过函数`seed`指定，只要种子相同，每次生成的随机数也相同。"
   ]
  },
  {
   "cell_type": "code",
   "execution_count": 86,
   "id": "ac8812d3",
   "metadata": {
    "slideshow": {
     "slide_type": "fragment"
    }
   },
   "outputs": [
    {
     "data": {
      "text/plain": [
       "0.831045124371628"
      ]
     },
     "execution_count": 86,
     "metadata": {},
     "output_type": "execute_result"
    }
   ],
   "source": [
    "import random\n",
    "\n",
    "random.random()  # 没有设置种子，每次运行显示的随机数不一样"
   ]
  },
  {
   "cell_type": "code",
   "execution_count": 87,
   "id": "d2705dd4",
   "metadata": {
    "slideshow": {
     "slide_type": "fragment"
    }
   },
   "outputs": [
    {
     "data": {
      "text/plain": [
       "0.1456692551041303"
      ]
     },
     "execution_count": 87,
     "metadata": {},
     "output_type": "execute_result"
    }
   ],
   "source": [
    "random.seed(100)\n",
    "random.random()  # 设置了种子，每次运行显示的随机数相同"
   ]
  },
  {
   "cell_type": "markdown",
   "id": "1572132c",
   "metadata": {},
   "source": [
    "## 练习\n",
    "<hr>"
   ]
  },
  {
   "cell_type": "markdown",
   "id": "290f8224",
   "metadata": {
    "slideshow": {
     "slide_type": "subslide"
    }
   },
   "source": [
    "```{exercise}\n",
    ":label: circle-area\n",
    "根据给定的半径值，计算圆的面积\n",
    "```"
   ]
  },
  {
   "cell_type": "markdown",
   "id": "c04c2880",
   "metadata": {},
   "source": [
    "````{solution} circle-area\n",
    ":class: dropdown\n",
    "```{code-block} python\n",
    "import math\n",
    "\n",
    "r = 10\n",
    "area = math.pi * r**2\n",
    "print(\"圆的面积为 %.6f\" % area)\n",
    "```\n",
    "````"
   ]
  },
  {
   "cell_type": "markdown",
   "id": "f9935c75",
   "metadata": {
    "slideshow": {
     "slide_type": "subslide"
    }
   },
   "source": [
    "```{exercise}\n",
    ":label: random\n",
    "从字符串 'abcedefg' 随机挑取 3 个字符。（提示，使用 random 库中的函数）\n",
    "\n",
    "```"
   ]
  },
  {
   "cell_type": "markdown",
   "id": "21466279",
   "metadata": {},
   "source": [
    "````{solution} random\n",
    ":class: dropdown\n",
    "```{code-block} python\n",
    "import random\n",
    "\n",
    "random.sample('abcedefg', 3)\n",
    "```\n",
    "````"
   ]
  },
  {
   "cell_type": "markdown",
   "id": "ec9ea03f",
   "metadata": {},
   "source": [
    "```{exercise}\n",
    ":label: quad-equation\n",
    "通过用户输入数字 a, b, c，计算二次方程: $ax^2 + bx +c$。\n",
    "(提示：cmath 工具包可以计算负数的开方)\n",
    "```"
   ]
  },
  {
   "cell_type": "markdown",
   "id": "753299d4",
   "metadata": {},
   "source": [
    "````{solution} quad-equation\n",
    ":class: dropdown\n",
    "```{code-block} python\n",
    "# 导入 cmath(复杂数学运算) 模块\n",
    "import cmath\n",
    "\n",
    "a = float(input(\"输入 a: \"))\n",
    "b = float(input(\"输入 b: \"))\n",
    "c = float(input(\"输入 c: \"))\n",
    "\n",
    "# 计算\n",
    "d = (b**2) - (4 * a * c)\n",
    "\n",
    "# 两种求解方式\n",
    "sol1 = (-b - cmath.sqrt(d)) / (2 * a)\n",
    "sol2 = (-b + cmath.sqrt(d)) / (2 * a)\n",
    "\n",
    "print(\"结果为 {0} 和 {1}\".format(sol1, sol2))\n",
    "```\n",
    "````"
   ]
  },
  {
   "cell_type": "markdown",
   "id": "17eb85ef",
   "metadata": {},
   "source": [
    "```{exercise}\n",
    ":label: triangle-area\n",
    "通过用户输入三角形三边长度，并计算三角形的面积。\n",
    "```"
   ]
  },
  {
   "cell_type": "markdown",
   "id": "afe20857",
   "metadata": {},
   "source": [
    "````{solution} triangle-area\n",
    ":class: dropdown\n",
    "```{code-block} python\n",
    "# 导入 cmath(复杂数学运算) 模块\n",
    "a = float(input(\"输入三角形第一边长: \"))\n",
    "b = float(input(\"输入三角形第二边长: \"))\n",
    "c = float(input(\"输入三角形第三边长: \"))\n",
    "\n",
    "# 计算半周长\n",
    "s = (a + b + c) / 2\n",
    "\n",
    "# 计算面积\n",
    "area = (s * (s - a) * (s - b) * (s - c)) ** 0.5\n",
    "print(\"三角形面积为 %0.2f\" % area)\n",
    "```\n",
    "````"
   ]
  },
  {
   "cell_type": "markdown",
   "id": "385d4844",
   "metadata": {},
   "source": [
    "```{exercise}\n",
    ":label: dict-values\n",
    "定义一个字典，然后计算它们所有数字值的和。。\n",
    "```"
   ]
  },
  {
   "cell_type": "markdown",
   "id": "026da9d7",
   "metadata": {},
   "source": [
    "````{solution} dict-values\n",
    ":class: dropdown\n",
    "```{code-block} python\n",
    "def dictSum(myDict):      \n",
    "    sum = 0\n",
    "    for i in myDict: \n",
    "        sum = sum + myDict[i]      \n",
    "    return sum\n",
    "  \n",
    "dict = {'a': 100, 'b':200, 'c':300} \n",
    "print(\"Sum :\", returnSum(dict))\n",
    "```"
   ]
  },
  {
   "cell_type": "markdown",
   "id": "645bc0cd",
   "metadata": {},
   "source": [
    "<script src=\"https://giscus.app/client.js\"\n",
    "        data-repo=\"robinchen121/book-Python-Data-Science\"\n",
    "        data-repo-id=\"R_kgDOKFdyOw\"\n",
    "        data-category=\"Announcements\"\n",
    "        data-category-id=\"DIC_kwDOKFdyO84CgWHi\"\n",
    "        data-mapping=\"pathname\"\n",
    "        data-strict=\"0\"\n",
    "        data-reactions-enabled=\"1\"\n",
    "        data-emit-metadata=\"0\"\n",
    "        data-input-position=\"bottom\"\n",
    "        data-theme=\"light\"\n",
    "        data-lang=\"en\"\n",
    "        crossorigin=\"anonymous\"\n",
    "        async>\n",
    "</script>"
   ]
  },
  {
   "cell_type": "markdown",
   "id": "d20eb387",
   "metadata": {},
   "source": [
    "<!-- Toogle google translation -->\n",
    "<div id=\"google_translate_element\"></div>\n",
    "<script type=\"text/javascript\">\n",
    "      function googleTranslateElementInit() {\n",
    "        new google.translate.TranslateElement({ pageLanguage: 'zh-CN',\n",
    "                  includedLanguages: 'en,zh-CN,zh-TW,ja,ko,de,ru,fr,es,it,pt,hi,ar,fa',\n",
    "layout: google.translate.TranslateElement.InlineLayout.SIMPLE }, 'google_translate_element');\n",
    "      }\n",
    "</script>\n",
    "<script type=\"text/javascript\"\n",
    "      src=\"https://translate.google.com/translate_a/element.js?cb=googleTranslateElementInit\"\n",
    "></script>\n",
    "<br>"
   ]
  }
 ],
 "metadata": {
  "celltoolbar": "幻灯片",
  "kernelspec": {
   "display_name": "Python 3 (ipykernel)",
   "language": "python",
   "name": "python3"
  },
  "language_info": {
   "codemirror_mode": {
    "name": "ipython",
    "version": 3
   },
   "file_extension": ".py",
   "mimetype": "text/x-python",
   "name": "python",
   "nbconvert_exporter": "python",
   "pygments_lexer": "ipython3",
   "version": "3.12.2"
  }
 },
 "nbformat": 4,
 "nbformat_minor": 5
}