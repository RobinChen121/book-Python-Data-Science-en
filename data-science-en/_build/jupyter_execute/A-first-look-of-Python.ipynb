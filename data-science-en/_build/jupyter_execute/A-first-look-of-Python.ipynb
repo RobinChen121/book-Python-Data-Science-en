{
 "cells": [
  {
   "cell_type": "markdown",
   "id": "ab619b48",
   "metadata": {
    "slideshow": {
     "slide_type": "slide"
    }
   },
   "source": [
    "# Getting started with Python\n",
    "<hr>"
   ]
  },
  {
   "cell_type": "markdown",
   "id": "dabbdcab",
   "metadata": {},
   "source": [
    "本书在每个章节的末尾，会讲解一些 Python 的标准库（Standard Library）中的模块，即 Python 语言自带的一些 .py 文件，无需额外安装，提供了许多常用的功能，如文件操作、数学计算、网络通信、数据处理等。"
   ]
  },
  {
   "cell_type": "markdown",
   "id": "0f646c07",
   "metadata": {},
   "source": [
    "## Python 的诞生与应用\n",
    "<hr>"
   ]
  },
  {
   "cell_type": "markdown",
   "id": "f3d489d9",
   "metadata": {},
   "source": [
    "Python 的诞生时间非常早，第一版 Python 发行于 1991 年，甚至比另一个编程语言 Java 的历史都早。在大部分时间内，Python 一直作为一个小众的编程语言，并没有大规模流行起来。近些年来，随着大数据技术、人工智能技术的发展和普及，**简洁、具有良好扩展性** 的 Python 非常契合大数据与人工智能技术对编程语言的要求，超越其他编程语言迅速崛起。Python 分别在2010年，2018年，2020，2021 年被全球知名的编程语言流行度排行榜网站 TIOBE 评为“年度最佳编程语言”，并长期位于各年或各月流行编程语言排行榜的前三名。中国的网络上甚至产生了一句流行语：“人生苦短，我用 Python”。"
   ]
  },
  {
   "cell_type": "markdown",
   "id": "156ebb1e",
   "metadata": {
    "slideshow": {
     "slide_type": "subslide"
    }
   },
   "source": [
    "![title](guido.jpeg)"
   ]
  },
  {
   "cell_type": "markdown",
   "id": "8619ed5e",
   "metadata": {
    "slideshow": {
     "slide_type": "fragment"
    }
   },
   "source": [
    "Python 的创始人为荷兰人吉多·范罗苏姆（Guido van Rossum），在 1989 年的圣诞节期间，吉多·范罗苏姆为了打发时间，决心开发一个新的脚本解释程序，作为 ABC语言的继承，于是 Python 诞生了。之所以选择 Python 作为名字，是由于吉多·范罗苏姆非常喜欢一部 BBC 电视剧--- Monty Python's Flying Circus（中文译名：蒙提·派森的飞行马戏团）。 Python 的英文意思为蟒蛇，这也是为什么一些 Python 相关的软件或书籍用蟒蛇作为图标的原因。"
   ]
  },
  {
   "cell_type": "markdown",
   "id": "c3551639",
   "metadata": {
    "slideshow": {
     "slide_type": "subslide"
    }
   },
   "source": [
    "Python的设计哲学是“优雅”、“明确”、“简单”。"
   ]
  },
  {
   "cell_type": "markdown",
   "id": "2fcc624c",
   "metadata": {
    "slideshow": {
     "slide_type": "fragment"
    }
   },
   "source": [
    "- Python 可以说是语法功能最**简洁、灵活**的编程语言之一，相对与其他编程语言 C、C++、Java等，Python 可以用更少的代码实现同样的功能。\n",
    "\n",
    "- Python提供了丰富的**库(也称作工具包)**，帮助程序员轻松实现各种功能；Python 还提供了多种接口，能够轻松地使用 C、C++、Cython来编写扩展模块，因此，有很多人把 Python作为一种“胶水语言”使用。\n",
    "\n",
    "- Python是完全**面向对象**的语言，函数、模块、数字、字符串都是对象，并且完全支持继承、重载、派生、多重继承等，Python 还支持重载运算符。\n",
    "\n",
    "- Python 是一门跨平台的**脚本语言**（动态语言，代码运行时才确定数据类型），相较于 C/C++ 和 java 等编译语言而言**运行速度较慢**。\n",
    "\n",
    "- 随着计算机速度运算速度越来越快，Python 运算速度慢的缺点逐渐可以忽略。"
   ]
  },
  {
   "cell_type": "markdown",
   "id": "bcde6c27",
   "metadata": {
    "slideshow": {
     "slide_type": "subslide"
    }
   },
   "source": [
    "数据分析中常用的库或工具包有：\n",
    "\n",
    "- math --- Python 内置的数学函数库\n",
    "\n",
    "- random --- Python 内置的生成随机数的库\n",
    "\n",
    "- numpy --- 用于数组和矩阵操作\n",
    "\n",
    "- pandas --- 用于处理表格数据，数据分析的重要工具\n",
    "\n",
    "- matplotlib --- 常用的基础绘图库\n",
    "\n",
    "- seaborn --- 另外一个高级绘图库\n",
    "\n"
   ]
  },
  {
   "cell_type": "markdown",
   "id": "faa76d7c",
   "metadata": {
    "slideshow": {
     "slide_type": "subslide"
    }
   },
   "source": [
    "- scipy --- 科学计算库\n",
    "\n",
    "- statsmodels --- 统计建模与分析库\n",
    "\n",
    "- sklearn --- 机器学习库\n",
    "\n",
    "- pyTorch --- 另外一个机器学习库，包含深度神经网络，常用于自然语言处理\n",
    "\n",
    "- beautifulsoup, selenium --- 爬虫包"
   ]
  },
  {
   "cell_type": "markdown",
   "id": "9e3afb30",
   "metadata": {
    "slideshow": {
     "slide_type": "subslide"
    }
   },
   "source": [
    "Python 的应用范围包括 Web 开发网站与网络爬虫，GUI 开发桌面软件，科学计算等。使用 Python 编写的著名应用包括：\n",
    "\n",
    "- Youtube --- 视频分享网站\n",
    "\n",
    "- Dropbox --- 文件分享软件\n",
    "\n",
    "- Instagram --- 图片分享软件\n",
    "\n",
    "- 豆瓣网 --- 国内著名的图书、唱片、电影评论网站\n",
    "\n",
    "- 知乎网 --- 国内著名的问答网站\n",
    "\n",
    "- 果壳网 --- 国内著名的泛科技主题网站\n",
    "\n",
    "Python 2.0 于 2000 年 10 月 16 日发布，Python 3.0于 2008 年 12 月 3 日发布，Python3 并不兼容 Python2 的代码。目前的主要 Python 版本为 Python3，本书的所有 Python 程序都是 Python3。"
   ]
  },
  {
   "cell_type": "markdown",
   "id": "db83ae5b",
   "metadata": {
    "slideshow": {
     "slide_type": "subslide"
    }
   },
   "source": [
    "学习 Python 的一些网站：\n",
    "\n",
    "- 百度，谷歌\n",
    "- CSDN &rightarrow; 国内的程序员论坛与博客网站\n",
    "- stackoverflow.com &rightarrow; 国外的编程问答网站\n",
    "- runoob.com &rightarrow; 国内的编程在线学习网站\n",
    "- geeksforgeeks.org &rightarrow; 国外的编程在线学习网站"
   ]
  },
  {
   "cell_type": "markdown",
   "id": "c4275379",
   "metadata": {
    "slideshow": {
     "slide_type": "subslide"
    }
   },
   "source": [
    "学习编程与学习数学、英语等课程不同，不需要去记代码，而一定要**多敲代码！**"
   ]
  },
  {
   "cell_type": "markdown",
   "id": "c5e85b8d",
   "metadata": {
    "slideshow": {
     "slide_type": "slide"
    }
   },
   "source": [
    "## Python 安装\n",
    "<hr>\n",
    "\n",
    "使用 Python 时一般有两种方式：一是下载 Anaconda，二是下载 Python 和编辑器 Pycharm。 \n",
    "\n",
    "Anaconda 包括集成开发环境 Spyder 以及一大堆安装好的常用工具包，比如：Numpy、Pandas、Matplotlib、Sklearn，在 Anaconda 里面还可以使用其他编译器，例如 Jupyter Notebook，IPython，R Studio 等。对于刚刚接触 Python 的新手，推荐使用 Anaconda。\n",
    "\n",
    "具体软件的安装不在赘述，请到相关的官方网站下载安装。"
   ]
  },
  {
   "cell_type": "markdown",
   "id": "e6e6b4af",
   "metadata": {
    "slideshow": {
     "slide_type": "slide"
    }
   },
   "source": [
    "## Python 程序的基本特点\n",
    "<hr>"
   ]
  },
  {
   "cell_type": "markdown",
   "id": "41716223",
   "metadata": {
    "slideshow": {
     "slide_type": "fragment"
    }
   },
   "source": [
    "在交互环境或编辑器上运行一个 Python 的输入输出小程序。"
   ]
  },
  {
   "cell_type": "markdown",
   "id": "ca69ac41",
   "metadata": {},
   "source": [
    "``print`` 函数打印内容："
   ]
  },
  {
   "cell_type": "code",
   "execution_count": 1,
   "id": "45eb5436",
   "metadata": {
    "scrolled": true,
    "slideshow": {
     "slide_type": "fragment"
    }
   },
   "outputs": [
    {
     "name": "stdout",
     "output_type": "stream",
     "text": [
      "my university\n"
     ]
    }
   ],
   "source": [
    "print(\"my university\") # 打印一个字符串"
   ]
  },
  {
   "cell_type": "markdown",
   "id": "9e3cc0e7",
   "metadata": {},
   "source": [
    "``input`` 函数接受用户从键盘上的输入内容。下面的代码从键盘接受一个字符串，并传递给一个变量："
   ]
  },
  {
   "cell_type": "markdown",
   "id": "a1b8e0db",
   "metadata": {
    "slideshow": {
     "slide_type": "subslide"
    }
   },
   "source": [
    "```{code-block} python\n",
    "name = input('请输入你的名字：') # 从键盘接受一个字符串，并传递给变量 name\n",
    "```"
   ]
  },
  {
   "cell_type": "markdown",
   "id": "148f7055",
   "metadata": {
    "slideshow": {
     "slide_type": "fragment"
    }
   },
   "source": [
    "```{code-block} python\n",
    "print('你的名字是：{}'.format(name)) # 将变量 name 打印出来\n",
    "```"
   ]
  },
  {
   "cell_type": "markdown",
   "id": "7b4871c3",
   "metadata": {
    "slideshow": {
     "slide_type": "subslide"
    }
   },
   "source": [
    "```{note}\n",
    "代码中的标点符号尽量用英文输入,不要用中文输入,否则出错\n",
    "```"
   ]
  },
  {
   "cell_type": "markdown",
   "id": "d7750fd1",
   "metadata": {
    "slideshow": {
     "slide_type": "slide"
    }
   },
   "source": [
    "### 缩进\n",
    "<hr>\n",
    "\n",
    "Python 与许多其他编程语言的区别在于：Python 使用**缩进**表示不同的代码块，而不是用分号或大括号。"
   ]
  },
  {
   "cell_type": "markdown",
   "id": "22e7bf09",
   "metadata": {
    "slideshow": {
     "slide_type": "fragment"
    }
   },
   "source": [
    "“缩进”，即代码前的空白区域，来表示不同代码间的包含与层次关系。\n",
    "\n",
    "- 一个缩进等于四个空格\n",
    "\n",
    "![title](codeStyle.PNG)"
   ]
  },
  {
   "cell_type": "code",
   "execution_count": 2,
   "id": "d7de2f10",
   "metadata": {
    "slideshow": {
     "slide_type": "subslide"
    }
   },
   "outputs": [
    {
     "name": "stdout",
     "output_type": "stream",
     "text": [
      "10\n",
      "12\n",
      "14\n",
      "16\n",
      "18\n",
      "120\n"
     ]
    }
   ],
   "source": [
    "a = 10\n",
    "if a > 10:\n",
    "    a = 25\n",
    "    print(\"Value of a is greater than 10\") # this line is not implemented\n",
    "while a < 20:\n",
    "    print(a)\n",
    "    a = a + 2\n",
    "print(a + 100)"
   ]
  },
  {
   "cell_type": "markdown",
   "id": "39afa2e5",
   "metadata": {
    "slideshow": {
     "slide_type": "fragment"
    }
   },
   "source": [
    "在上面的语句中，if 语句块有相同的缩进，while 语句块也有相同的缩进，不同的语句块增加了程序的可读性，并且让我们知道不同命令语句的作用范围。例如，语句 print(\"Value of a is greater than 10\") 与 a = 25 对齐，他们都属于 if 语句块，所以它们只在 if 语句块里面运行。\n",
    "\n",
    "假如语句 print(\"Value of a is greater than 10\") 不与 a = 25 对齐，而是与语句 a = 10 对齐，则该语句不在 if 语句块中运行，而是在其外面运行。"
   ]
  },
  {
   "cell_type": "code",
   "execution_count": 3,
   "id": "81e42407",
   "metadata": {
    "slideshow": {
     "slide_type": "subslide"
    }
   },
   "outputs": [
    {
     "name": "stdout",
     "output_type": "stream",
     "text": [
      "Value of a is greater than 10\n",
      "10\n",
      "12\n",
      "14\n",
      "16\n",
      "18\n",
      "120\n"
     ]
    }
   ],
   "source": [
    "a = 10\n",
    "if a > 10:\n",
    "    a = 25\n",
    "print(\"Value of a is greater than 10\") # will print the string\n",
    "while a < 20:\n",
    "    print(a)\n",
    "    a = a + 2\n",
    "print(a + 100)"
   ]
  },
  {
   "cell_type": "markdown",
   "id": "361c9a27",
   "metadata": {
    "slideshow": {
     "slide_type": "slide"
    }
   },
   "source": [
    "### 程序注释与换行\n",
    "<hr>\n",
    "\n",
    "编写程序时，经常需要在代码中添加注释，用来解释或备注相关代码，标明作者、日期信息等，提升程序的可读性，计算机并不执行注释的内容。Python 添加注释有两种方法：\n",
    "\n",
    "- 单行注释在代码后面使用 # 跟注释内容\n",
    "- 多行注释使用两组，每组三个单引号（或双引号）\\```，两组引号之间是注释内容"
   ]
  },
  {
   "cell_type": "code",
   "execution_count": 4,
   "id": "86f16717",
   "metadata": {
    "slideshow": {
     "slide_type": "subslide"
    }
   },
   "outputs": [],
   "source": [
    "# 这是一个单行注释"
   ]
  },
  {
   "cell_type": "code",
   "execution_count": 5,
   "id": "d06dc88c",
   "metadata": {
    "slideshow": {
     "slide_type": "fragment"
    }
   },
   "outputs": [
    {
     "name": "stdout",
     "output_type": "stream",
     "text": [
      "hello\n"
     ]
    }
   ],
   "source": [
    "\"\"\"\n",
    "这是一个\n",
    "多行注释\n",
    "\"\"\"\n",
    "print('hello')"
   ]
  },
  {
   "cell_type": "markdown",
   "id": "f8c9b591",
   "metadata": {
    "slideshow": {
     "slide_type": "fragment"
    }
   },
   "source": [
    "`````{admonition} tips\n",
    ":class: tip\n",
    "- 调试程序时，有时候也用注释功能将一些与调试无关的代码注释掉，从而方便调试\n",
    "- 不少编辑器都有注释代码的快捷键，例如 Spyder 中 ``Ctrl + 1``，Jupyter Notebook 中 ``ctrl + /``\n",
    "`````"
   ]
  },
  {
   "cell_type": "markdown",
   "id": "2fd07e2a",
   "metadata": {
    "slideshow": {
     "slide_type": "subslide"
    }
   },
   "source": [
    "有时候代码很长，需要跨行输入代码，则可以在代码后面跟符号``\\`` ："
   ]
  },
  {
   "cell_type": "code",
   "execution_count": 6,
   "id": "c72dd1ea",
   "metadata": {
    "slideshow": {
     "slide_type": "fragment"
    }
   },
   "outputs": [
    {
     "name": "stdout",
     "output_type": "stream",
     "text": [
      "these codes aretoo long\n"
     ]
    }
   ],
   "source": [
    "print('these codes are\\\n",
    "too long') # 多行代码"
   ]
  },
  {
   "cell_type": "markdown",
   "id": "00db3416",
   "metadata": {
    "slideshow": {
     "slide_type": "fragment"
    }
   },
   "source": [
    "```{note}\n",
    "多行代码中，符号``\\`` 后面不能紧跟注释\n",
    "```"
   ]
  },
  {
   "cell_type": "markdown",
   "id": "052c80e8",
   "metadata": {
    "slideshow": {
     "slide_type": "slide"
    }
   },
   "source": [
    "### 命名与保留字\n",
    "<hr>\n",
    "\n",
    "\n",
    "\n"
   ]
  },
  {
   "cell_type": "markdown",
   "id": "9fb4c6b1",
   "metadata": {
    "slideshow": {
     "slide_type": "fragment"
    }
   },
   "source": [
    "编写程序时，经常使用变量存储某些数据。Python 允许使用大写字母、小写字母、数字、下划线_甚至汉字等字符来给变量命名。但是，\n",
    "\n",
    "- 变量名字的首字母不能是数字\n",
    "- 变量名字中不能有空格\n",
    "- Python 的保留字不能作为变量名\n",
    "\n",
    "变量名对大小写敏感， name 与 Name 是两个不同的变量名。"
   ]
  },
  {
   "cell_type": "code",
   "execution_count": 7,
   "id": "8699b362",
   "metadata": {
    "slideshow": {
     "slide_type": "fragment"
    }
   },
   "outputs": [
    {
     "name": "stdout",
     "output_type": "stream",
     "text": [
      "zhang\n"
     ]
    }
   ],
   "source": [
    "name = 'chen'\n",
    "Name = 'zhang'\n",
    "print(Name)"
   ]
  },
  {
   "cell_type": "markdown",
   "id": "d3af4572",
   "metadata": {
    "slideshow": {
     "slide_type": "subslide"
    }
   },
   "source": [
    "变量命名的原则是最好能**通过变量的名字就知道该变量的意思**，从而方便调试与其他人员阅读。有时候，变量的名字要用到多个单词，此时可以：\n",
    "\n",
    "- 用下划线``_``将多个单词分割，例如 \"average_score\"\n",
    "- 不同单词的首字母大写，例如 \"AverageScore\"\n",
    "\n",
    "第 2 种方式也称作驼峰命名，因为变量的名字起伏像骆驼的驼峰。"
   ]
  },
  {
   "cell_type": "code",
   "execution_count": 8,
   "id": "e2b4e114",
   "metadata": {
    "slideshow": {
     "slide_type": "fragment"
    }
   },
   "outputs": [
    {
     "name": "stdout",
     "output_type": "stream",
     "text": [
      "87\n"
     ]
    }
   ],
   "source": [
    "average_score = 87\n",
    "print(average_score)"
   ]
  },
  {
   "cell_type": "markdown",
   "id": "db3e7316",
   "metadata": {
    "slideshow": {
     "slide_type": "fragment"
    }
   },
   "source": [
    "`````{admonition} tips\n",
    ":class: tip\n",
    "在输入变量或函数名时，利用``Tab``键，可以得到编辑器的提示或自动填充\n",
    "`````"
   ]
  },
  {
   "cell_type": "markdown",
   "id": "7458b3ce",
   "metadata": {
    "slideshow": {
     "slide_type": "subslide"
    }
   },
   "source": [
    "保留字，也称为关键字，指被编程语言内部定义并保留使用的标识符，程序员编写程序时**不能定义与保留字相同的变量名**。"
   ]
  },
  {
   "cell_type": "markdown",
   "id": "154ed855",
   "metadata": {
    "slideshow": {
     "slide_type": "subslide"
    }
   },
   "source": [
    "Python 中一共有 33 个保留字：\n",
    "\n",
    "|             |  |    |     |\n",
    "|----------|---------|----------|--------|\n",
    "| and      | elif    | import   | raise  |\n",
    "| as       | else    | in       | return |\n",
    "| assert   | except  | is       | try    |\n",
    "| break    | finally | lambda   | while  |\n",
    "| class    | for     | nonlocal | with   |\n",
    "| continue | from    | not      | yield  |\n",
    "| def      | global  | or       | True   |\n",
    "| del      | if      | pass     | False  |\n",
    "|          |         |          | None   |"
   ]
  },
  {
   "cell_type": "markdown",
   "id": "4938b725",
   "metadata": {
    "slideshow": {
     "slide_type": "slide"
    }
   },
   "source": [
    "## 安装与使用工具包\n",
    "<hr>"
   ]
  },
  {
   "cell_type": "markdown",
   "id": "7902f2f2",
   "metadata": {},
   "source": [
    "pip 是 Python 自带包管理工具，该工具提供了对 Python 包的查找、下载、安装、卸载的功能。在我们安装 Python 时，pip 是自动安装的。它的语法为：\n",
    "\n",
    "<table>   \n",
    "    <tr style=\"border-top:solid; border-bottom:solid\">\n",
    "            <th colspan=2 style=\"text-align:center\"> pip 的常用语法</th>\n",
    "    </tr>\n",
    "    <tr>\n",
    "        <td style=\"text-align:left\">安装包</td>\n",
    "        <td style=\"text-align:left\">pip install [package_name]</td>\n",
    "    </tr>\n",
    "    <tr>\n",
    "        <td style=\"text-align:left\">卸载包</td>\n",
    "        <td style=\"text-align:left\">pip uninstall [package_name]</td>\n",
    "    </tr>\n",
    "    <tr>\n",
    "        <td rowspan =2 style=\"text-align:left\">更新包</td>\n",
    "        <td style=\"text-align:left\">pip install [package_name] -U</td>\n",
    "    </tr>\n",
    "    <tr>\n",
    "        <td style=\"text-align:left\">或 pip install [package_name] --upgrade </td>\n",
    "    </tr>\n",
    "    <tr>\n",
    "        <td style=\"text-align:left\">显示已安装包列表&nbsp;&nbsp;</td>\n",
    "        <td style=\"text-align:left\">pip list</td>\n",
    "    </tr>\n",
    "    <tr>\n",
    "        <td style=\"text-align:left\">显示需要更新的包列表&nbsp;&nbsp;</td>\n",
    "        <td style=\"text-align:left\">pip list --outdated</td>\n",
    "    </tr>\n",
    "    <tr style=\"border-bottom:solid\">\n",
    "        <td style=\"text-align:left\">搜索包</td>\n",
    "        <td style=\"text-align:left\">pip search [package_name]</td>\n",
    "    </tr>\n",
    "</table>\n",
    "<br />"
   ]
  },
  {
   "cell_type": "markdown",
   "id": "28435e6b",
   "metadata": {},
   "source": [
    "```{note}\n",
    "- pip install [package_name] -U 等价于 pip install -U [package_name]\n",
    "- pip install [package_name] --upgrade 等价于 pip install --upgrade [package_name]\n",
    "```"
   ]
  },
  {
   "cell_type": "markdown",
   "id": "bf5d760f",
   "metadata": {
    "slideshow": {
     "slide_type": "fragment"
    }
   },
   "source": [
    "Anaconda 也可以通过 Anaconda 自带的 Conda 工具从 Anaconda 库中安装包。Windows 系统中的方法是：在 Windows 菜单栏里，点击 Anaconda Prompt，打开 Anaconda 的命令行窗口，然后输入不同的指令。语法与 pip 基本相同，区别在于把命令中的 pip 替换为 conda。"
   ]
  },
  {
   "cell_type": "markdown",
   "id": "d1855e40",
   "metadata": {
    "slideshow": {
     "slide_type": "subslide"
    }
   },
   "source": [
    "例如，安装一个金融股票包``tushare``，在命令号窗口输入："
   ]
  },
  {
   "cell_type": "markdown",
   "id": "86994c29",
   "metadata": {
    "slideshow": {
     "slide_type": "fragment"
    }
   },
   "source": [
    "```{code-block} python\n",
    "pip install\n",
    "```"
   ]
  },
  {
   "cell_type": "markdown",
   "id": "7a09006a",
   "metadata": {
    "slideshow": {
     "slide_type": "fragment"
    }
   },
   "source": [
    "工具包 tushare 就能自动下载安装了。"
   ]
  },
  {
   "cell_type": "markdown",
   "id": "41641aa3",
   "metadata": {
    "slideshow": {
     "slide_type": "subslide"
    }
   },
   "source": [
    "使用工具包时，首先要用关键字``import``导入包。"
   ]
  },
  {
   "cell_type": "code",
   "execution_count": 9,
   "id": "57cc5c2c",
   "metadata": {
    "slideshow": {
     "slide_type": "fragment"
    }
   },
   "outputs": [],
   "source": [
    "import numpy"
   ]
  },
  {
   "cell_type": "markdown",
   "id": "dd0ff8d6",
   "metadata": {
    "slideshow": {
     "slide_type": "fragment"
    }
   },
   "source": [
    "```{note}\n",
    "导入包时，包的名字都是**小写**\n",
    "```"
   ]
  },
  {
   "cell_type": "markdown",
   "id": "713d80fe",
   "metadata": {
    "slideshow": {
     "slide_type": "subslide"
    }
   },
   "source": [
    "有时候，也配合关键字 ``as``，将包的名字简写:"
   ]
  },
  {
   "cell_type": "code",
   "execution_count": 10,
   "id": "a2b39468",
   "metadata": {
    "slideshow": {
     "slide_type": "fragment"
    }
   },
   "outputs": [],
   "source": [
    "import numpy as np"
   ]
  },
  {
   "cell_type": "markdown",
   "id": "91bb5da5",
   "metadata": {
    "slideshow": {
     "slide_type": "fragment"
    }
   },
   "source": [
    "这样，在代码中使用 Numpy 的函数时，就可以用 np 代替了。"
   ]
  },
  {
   "cell_type": "code",
   "execution_count": 11,
   "id": "cdab4a77",
   "metadata": {
    "slideshow": {
     "slide_type": "subslide"
    }
   },
   "outputs": [
    {
     "data": {
      "text/plain": [
       "2.3010299956639813"
      ]
     },
     "execution_count": 11,
     "metadata": {},
     "output_type": "execute_result"
    }
   ],
   "source": [
    "np.log10(200) # 使用 numpy 中的 log10 函数\n"
   ]
  },
  {
   "cell_type": "markdown",
   "id": "0eb60cae",
   "metadata": {
    "slideshow": {
     "slide_type": "subslide"
    }
   },
   "source": [
    "有的时候，可以结合``from``关键字，导入包中指定的函数。此时，使用这个指定的函数时，就不用跟包的名字了。例如："
   ]
  },
  {
   "cell_type": "code",
   "execution_count": 12,
   "id": "14fcc63e",
   "metadata": {
    "slideshow": {
     "slide_type": "fragment"
    }
   },
   "outputs": [
    {
     "data": {
      "text/plain": [
       "2.3010299956639813"
      ]
     },
     "execution_count": 12,
     "metadata": {},
     "output_type": "execute_result"
    }
   ],
   "source": [
    "from numpy import log10 # 从 Numpy 包中导入 log10 函数\n",
    "\n",
    "log10(200) # 函数名字前面没有包的名字"
   ]
  },
  {
   "cell_type": "markdown",
   "id": "9ef04a8e",
   "metadata": {
    "slideshow": {
     "slide_type": "subslide"
    }
   },
   "source": [
    "导入一个工具包中的所有函数，可以用``*``，例如："
   ]
  },
  {
   "cell_type": "code",
   "execution_count": 13,
   "id": "58078b32",
   "metadata": {
    "slideshow": {
     "slide_type": "fragment"
    }
   },
   "outputs": [],
   "source": [
    "from numpy import *"
   ]
  },
  {
   "cell_type": "markdown",
   "id": "9670eb1b",
   "metadata": {
    "slideshow": {
     "slide_type": "fragment"
    }
   },
   "source": [
    "这样，使用该工具包中的所有函数，都可以直接使用，不用在函数前面跟包的名字。"
   ]
  },
  {
   "cell_type": "code",
   "execution_count": 14,
   "id": "8689ac93",
   "metadata": {
    "slideshow": {
     "slide_type": "fragment"
    }
   },
   "outputs": [
    {
     "data": {
      "text/plain": [
       "4.0"
      ]
     },
     "execution_count": 14,
     "metadata": {},
     "output_type": "execute_result"
    }
   ],
   "source": [
    "log2(16) # 函数名字前面没有包的名字"
   ]
  },
  {
   "cell_type": "markdown",
   "id": "f25afe18",
   "metadata": {
    "slideshow": {
     "slide_type": "slide"
    }
   },
   "source": [
    "## `math` 模块\n",
    "<hr>"
   ]
  },
  {
   "cell_type": "markdown",
   "id": "d67011dd",
   "metadata": {
    "slideshow": {
     "slide_type": "fragment"
    }
   },
   "source": [
    "math 模块是 Python 内置的数学函数文件，提供了 4 个数学常数和 44 个数学函数。数学函数包括数值表示函数、幂对数函数、三角函数和特殊函数。"
   ]
  },
  {
   "cell_type": "markdown",
   "id": "f11109c4",
   "metadata": {
    "slideshow": {
     "slide_type": "subslide"
    }
   },
   "source": [
    "数学常数：\n",
    "\n",
    "|数学常数|含义|\n",
    "|:--:|:--|\n",
    "|math.pi| 圆周率 $\\pi$|\n",
    "|math.e|自然对数 $e$|\n",
    "|math.inf|正无穷大 $\\infty$，负无穷大为 $-\\infty$|\n",
    "|math.nan| 非数值型数|"
   ]
  },
  {
   "cell_type": "markdown",
   "id": "29cd8414",
   "metadata": {
    "slideshow": {
     "slide_type": "subslide"
    }
   },
   "source": [
    "常用的几个数值表示函数：\n",
    "\n",
    "|函数|含义|\n",
    "|:--|:--|\n",
    "|ceil(x)|向上取整，返回不小于 $x$ 的最小整数|\n",
    "|floor(x)|向下取整，返回不大于 $x$ 的最小整数|\n",
    "|factorial(x)|返回整数 $x$ 的阶乘|\n",
    "|fsum(iterable)| 返回可迭代对象(元组, 列表等)中元素的总和，元素须全部为数值|"
   ]
  },
  {
   "cell_type": "code",
   "execution_count": 15,
   "id": "f3f37b52",
   "metadata": {
    "slideshow": {
     "slide_type": "subslide"
    }
   },
   "outputs": [
    {
     "data": {
      "text/plain": [
       "7.0"
      ]
     },
     "execution_count": 15,
     "metadata": {},
     "output_type": "execute_result"
    }
   ],
   "source": [
    "import math\n",
    "\n",
    "math.fsum([1, 2, 4])"
   ]
  },
  {
   "cell_type": "code",
   "execution_count": 16,
   "id": "e8eba30e",
   "metadata": {
    "slideshow": {
     "slide_type": "fragment"
    }
   },
   "outputs": [
    {
     "data": {
      "text/plain": [
       "120"
      ]
     },
     "execution_count": 16,
     "metadata": {},
     "output_type": "execute_result"
    }
   ],
   "source": [
    "math.factorial(5)"
   ]
  },
  {
   "cell_type": "markdown",
   "id": "e49ac899",
   "metadata": {
    "slideshow": {
     "slide_type": "subslide"
    }
   },
   "source": [
    "常用的几个幂对数函数：\n",
    "\n",
    "|函数|含义|\n",
    "|:--:|:--|\n",
    "|exp(x)|返回不小于 $e$ 的 $x$ 次幂，$e^x$|\n",
    "|sqrt(x)|返回 $x$ 的平方根|\n",
    "|log2(x)|返回 $x$ 的 2 对数值|\n",
    "|log10(x)| 返回 $x$ 的 10 对数值|\n",
    "|log(x,[base])|返回 $x$ 以 base 为底的对数值，只输入 $x$ 时返回自然对数值 $\\ln x$|"
   ]
  },
  {
   "cell_type": "code",
   "execution_count": 17,
   "id": "6c885af0",
   "metadata": {
    "slideshow": {
     "slide_type": "fragment"
    }
   },
   "outputs": [
    {
     "data": {
      "text/plain": [
       "7.38905609893065"
      ]
     },
     "execution_count": 17,
     "metadata": {},
     "output_type": "execute_result"
    }
   ],
   "source": [
    "math.exp(2)"
   ]
  },
  {
   "cell_type": "markdown",
   "id": "58114014",
   "metadata": {
    "slideshow": {
     "slide_type": "subslide"
    }
   },
   "source": [
    "常用的几个三角函数：\n",
    "\n",
    "|函数|含义|\n",
    "|:--:|:--|\n",
    "|degree(x)|返回弧度 $x$ 的角度值|\n",
    "|radians(x)|返回角度 $x$ 的弧度根|\n",
    "|sin(x)|返回弧度 $x$ 的 正弦值|\n",
    "|cos(x)| 返回弧度 $x$ 的 余弦值|\n",
    "|asin(x)|返回弧度 $x$ 的反正弦|\n",
    "|acos(x)| 返回弧度 $x$ 的反余弦值|\n",
    "|atan(x)| 返回弧度 $x$ 的反正切值|"
   ]
  },
  {
   "cell_type": "code",
   "execution_count": 18,
   "id": "c12196ed",
   "metadata": {
    "slideshow": {
     "slide_type": "fragment"
    }
   },
   "outputs": [
    {
     "data": {
      "text/plain": [
       "1.0"
      ]
     },
     "execution_count": 18,
     "metadata": {},
     "output_type": "execute_result"
    }
   ],
   "source": [
    "math.sin(math.pi/2)"
   ]
  },
  {
   "cell_type": "markdown",
   "id": "bce7dd5b",
   "metadata": {},
   "source": [
    "特殊函数包括高斯误差函数`erf`与伽马函数`gamma`等。"
   ]
  },
  {
   "cell_type": "markdown",
   "id": "63087de3",
   "metadata": {
    "slideshow": {
     "slide_type": "slide"
    }
   },
   "source": [
    "## 练习\n",
    "<hr>"
   ]
  },
  {
   "cell_type": "markdown",
   "id": "f51d31c6",
   "metadata": {
    "slideshow": {
     "slide_type": "fragment"
    }
   },
   "source": [
    "```{exercise}\n",
    "输入并运行下面的 Python 代码，画同心圆。\n",
    "\n",
    "\n",
    "```{code-block} python\n",
    "# draw circles\n",
    "<hr>\n",
    "\n",
    "import turtle\n",
    "\n",
    "turtle.pensize(2)\n",
    "turtle.circle(20)\n",
    "turtle.circle(40)\n",
    "turtle.circle(60)\n",
    "turtle.circle(80)\n",
    "turtle.done()\n",
    "```"
   ]
  },
  {
   "cell_type": "markdown",
   "id": "b9d29cde",
   "metadata": {
    "slideshow": {
     "slide_type": "subslide"
    }
   },
   "source": [
    "```{exercise}\n",
    ":label: sum-input\n",
    "通过用户的键盘输入两个数字，并计算两个数字的和。\n",
    "```"
   ]
  },
  {
   "cell_type": "markdown",
   "id": "da78aebf",
   "metadata": {
    "slideshow": {
     "slide_type": "-"
    }
   },
   "source": [
    "````{solution} sum-input\n",
    ":class: dropdown\n",
    ":hidden:\n",
    "```{code-block} python\n",
    "# 用户输入数字\n",
    "<hr>\n",
    "num1 = input('输入第一个数字：')\n",
    "num2 = input('输入第二个数字：')\n",
    " \n",
    "# 求和\n",
    "<hr>\n",
    "sum = float(num1) + float(num2)\n",
    " \n",
    "# 显示计算结果\n",
    "<hr>\n",
    "print('数字 {0} 和 {1} 相加结果为： {2}'.format(num1, num2, sum))\n",
    "```\n",
    "````"
   ]
  },
  {
   "cell_type": "markdown",
   "id": "255007c6",
   "metadata": {},
   "source": [
    "```{exercise}\n",
    ":label: radians\n",
    "利用 math 库中的函数，将弧度 $\\pi/5$ 转化成角度。\n",
    "```"
   ]
  },
  {
   "cell_type": "markdown",
   "id": "d61812d8",
   "metadata": {},
   "source": [
    "````{solution} sum-input\n",
    ":class: radians\n",
    ":hidden:\n",
    "```{code-block} python\n",
    "import math\n",
    "\n",
    "math.radians(math.pi/5)\n",
    "```"
   ]
  },
  {
   "cell_type": "code",
   "execution_count": null,
   "id": "ed4dc301",
   "metadata": {},
   "outputs": [],
   "source": []
  },
  {
   "cell_type": "markdown",
   "id": "92e65d2f",
   "metadata": {},
   "source": [
    "<script src=\"https://giscus.app/client.js\"\n",
    "        data-repo=\"robinchen121/book-Python-Data-Science\"\n",
    "        data-repo-id=\"R_kgDOKFdyOw\"\n",
    "        data-category=\"Announcements\"\n",
    "        data-category-id=\"DIC_kwDOKFdyO84CgWHi\"\n",
    "        data-mapping=\"pathname\"\n",
    "        data-strict=\"0\"\n",
    "        data-reactions-enabled=\"1\"\n",
    "        data-emit-metadata=\"0\"\n",
    "        data-input-position=\"bottom\"\n",
    "        data-theme=\"light\"\n",
    "        data-lang=\"en\"\n",
    "        crossorigin=\"anonymous\"\n",
    "        async>\n",
    "</script>"
   ]
  },
  {
   "cell_type": "markdown",
   "id": "6725bb75",
   "metadata": {},
   "source": [
    "<!-- Toogle google translation -->\n",
    "<div id=\"google_translate_element\"></div>\n",
    "<script type=\"text/javascript\">\n",
    "      function googleTranslateElementInit() {\n",
    "        new google.translate.TranslateElement({ pageLanguage: 'zh-CN',\n",
    "                  includedLanguages: 'en,zh-CN,zh-TW,ja,ko,de,ru,fr,es,it,pt,hi,ar,fa',\n",
    "layout: google.translate.TranslateElement.InlineLayout.SIMPLE }, 'google_translate_element');\n",
    "      }\n",
    "</script>\n",
    "<script type=\"text/javascript\"\n",
    "      src=\"https://translate.google.com/translate_a/element.js?cb=googleTranslateElementInit\"\n",
    "></script>\n",
    "<br>"
   ]
  }
 ],
 "metadata": {
  "celltoolbar": "幻灯片",
  "kernelspec": {
   "display_name": "Python [conda env:base] *",
   "language": "python",
   "name": "conda-base-py"
  },
  "language_info": {
   "codemirror_mode": {
    "name": "ipython",
    "version": 3
   },
   "file_extension": ".py",
   "mimetype": "text/x-python",
   "name": "python",
   "nbconvert_exporter": "python",
   "pygments_lexer": "ipython3",
   "version": "3.12.2"
  }
 },
 "nbformat": 4,
 "nbformat_minor": 5
}