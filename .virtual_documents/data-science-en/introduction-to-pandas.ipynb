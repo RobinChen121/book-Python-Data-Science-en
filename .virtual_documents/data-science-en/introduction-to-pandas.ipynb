


import pandas as pd








import pandas as pd

df = pd.DataFrame(
    {
        "姓名": ["张三", "李四", "王五"],
        "统计学": [85, 68, 90],
        "高数": [82, 63, 88],
        "英语": [84, 90, 78],
    }
)
df





df.columns


df.index





import pandas as pd

# 前几行代码是为了运行 live code 而进行的设置，
# 与本章的教学内容无关
import os

if os.getcwd() == "/home/jovyan":
    os.chdir("data-science/")

# 正文
df = pd.read_excel("datas/transcripts.xlsx")




















df.to_excel("datas/marks.xlsx")








df.describe()








df["英语"]





df.loc[0]  # 显示第 1 行的数据


df.loc[2]  # 显示第 2 行的数据


df[0:1]  # 显示第 1 行的数据


df[1:2]  # 显示第 2 行的数据





df["高数"][1]





df.loc[1]["高数"]





df.iloc[1]  # 查看第 2 行数据
df.iloc[0:2]  # 查看前 2 行数据
df.iloc[[0, 2]]  # 查看第 1 行与第 3 行数据





df.iloc[:, 1]  # 查看第 2 列数据
df.iloc[:, 0:2]  # 查看前 2 列数据
df.iloc[:, [0, 2]]  # 查看第 1 列与第 3 列数据





df.iloc[0:2, 0:2]  # 查看前 2 行，前 2 列的一块数据
df.iloc[[0, 2], [0, 2]]  # 查看第 1、第 3 行，第 1、第 3 列的一块数据
df.iloc[0:2, [0, 2]]  # 查看前 3 行，第 1、第 3 列的一块数据
df.iloc[[0, 2], 0:2]  # 第 1、第 3 行，前 2 列的一块数据





df.iloc[1, 1]  # 查看第 2 行，第 2 列的单元格数据





df[["统计学", "英语"]]


df[0:3]





df.iloc[[0, 2]]





df["统计学"].mean()  # 求出统计学课程等平均分数


df.mean(numeric_only=True)  # 求出每门课程等平均值，因为第一列姓名不为数值，添加了参数 ``numeric_only = True``


df["高数"].max()  # 求出高数课程等最高分


df.mean(numeric_only=True, axis=1)  # 通过设置 axis = 1 对行调用函数





df["统计学"] = 80  # 修改统计学这一列的数值为同一个值 80
df


df["统计学"] = [95, 76, 88]  # 修改统计学这一列的数值为列表中的值
df


df.iloc[1] = 80  # 修改第 2 行的数据为同一个值 80
df


df.iloc[1] = ["赵四", 95, 90, 89]  # 修改第 2 行的数据为列表中的值
df





df.iloc[1, 1] = 100  # 修改第2行第2列中的数值
df








df["计算机"] = [92, 69, 75]  # 增加一列计算机课程的成绩
df





df.loc[3] = ["马六", 65, 70, 69, 55]  # 在末尾增加一行数据
df





df.insert(1, "运筹学", [61, 72, 84, 81])  # 在第 1 列后面插入新的一列
df


df.insert(3, "Python", [81, 76, 74, 71])  # 在第 4 列后面插入新的一列
df











df.drop(3, inplace=True)  # 删除第 3 行
df





df.drop("英语", inplace=True, axis=1)
df


df.drop(["运筹学", "高数"], inplace=True, axis=1)  # 删除两行
df





df.drop(df[df["统计学"]>95].index, inplace=True) # 删除所有统计学成绩高于95分的成绩
df


df.reset_index(drop=True) # 重新设置 index，并舍弃原有的 index





df1 = pd.DataFrame(
    {
        "姓名": ["张三", "李四", "王五"],
        "统计学": [85, 68, 90],
        "高数": [82, 63, 88],
        "英语": [84, 90, 78],
    }
)
df1


df2 = pd.DataFrame(
    {"姓名": ["马大帅", "陈小虎"], "统计学": [83, 59], "高数": [92, 70], "英语": [94, 78]}
)
df2





pd.concat([df1, df2])  #  注意中括号不等丢





pd.concat([df1, df2], ignore_index=True)








df3 = pd.DataFrame({"姓名": ["张三", "李四", "王五"], "会计": [75, 78, 80], "管理学": [94, 96, 88]})
df3











df1.merge(df3, on="姓名")





df1.merge(df2, on=["姓名", "统计学", "高数", "英语"], how="outer")





df1.merge(df2, on=["姓名", "统计学", "高数", "英语"], how="inner")  # 内连接时两个数据表匹配字段的交集为空


df1.merge(df2, on=["姓名", "统计学", "高数", "英语"], how="left")  # 左连接时保留左数据表的所有匹配字段


df1.merge(df2, on=["姓名", "统计学", "高数", "英语"], how="right")  # 右连接时保留右数据表的所有匹配字段





df1 = pd.DataFrame(
    {
        "班级": ["一班", "二班", "一班"],
        "姓名": ["张三", "李四", "王五"],
        "性别": ["男", "男", "女"],
        "籍贯": ["北京", "上海", "重庆"],
    }
)
df1


df2 = pd.DataFrame({"姓名": ["张三", "陈小虎"], "统计学": [85, 59]})
df2


df1.merge(df2, on="姓名")


df1.merge(df2, on="姓名", how="outer")  # 某些字段没有对应数据，则显示为 NaN


df1.merge(df2, on="姓名", how="left")


df1.merge(df2, on="姓名", how="right")





import pandas as pd

df = pd.DataFrame(
    {
        "姓名": ["张三", "李四", "王五"],
        "统计学": [85, 68, 90],
        "高数": [82, 63, 88],
        "英语": [84, 90, 78],
    }
)
df


df["统计学"] > 83  # 统计学成绩大于83的布尔索引


df[df["统计学"] > 83]  # 生成统计学成绩大于83的数据





df[(df["高数"] > 65) & (df["英语"] > 80)]  # 查询高数成绩大于65，英语成绩大于80的数据，注意小括号


df[(df["高数"] > 65) | (df["英语"] > 80)]  # 查询高数成绩大于65，英语成绩大于80的数据，注意小括号








df.sort_values(by="统计学")





df.sort_values(by=["统计学", "高数"], ascending=False)





df.sort_values(by="统计学")  # 排序，可以看出列标也发生了变动


df.sort_values(by="统计学", ignore_index=True)  # 排序后重新排列标签


df.sort_values(by="统计学", ignore_index=True)  # 排序后，没有替换原始数据
df


df.sort_values(by="统计学", ignore_index=True, inplace=True)  # 排序后，替换了原始数据
df





df = pd.DataFrame(
    [
        ["张三", "一班", "男", 85, 68, 90],
        ["李四", "二班", "男", 82, 63, 88],
        ["王五", "二班", "女", 84, 90, 78],
        ["魏小小", "三班", "女", 75, 68, 80],
        ["马小倩", "二班", "女", 69, 55, 63],
        ["陈小虎", "一班", "男", 89, 95, 93],
    ],
    columns=["姓名", "班级", "性别", "统计学", "高数", "英语"],
)
df


df.groupby("性别").count()


df.groupby("性别").size()  # 与 count 略有区别


df2 = df.groupby("性别").size()
df2


df.groupby("性别").mean(
    numeric_only=True
)  # 按性别汇总平均成绩, numeric_only = True 表示仅选择对函数有效的数据列


df.groupby(["班级", "性别"]).mean(numeric_only=True)  # 按班级、性别汇总平均成绩





df2 = df.groupby(["班级", "性别"]).mean(numeric_only=True)  # 按班级、性别汇总平均成绩
df2


df2.index





df2 = df.groupby(["班级", "性别"], as_index=False).mean(numeric_only=True)  # 按班级、性别汇总平均成绩
df2





df2.groupby(["班级", "性别"]).agg(["max", "min", "mean"], numeric_only=True)  # 汇总了每个班每个性别的最高、最低、平均成绩





df2 = df.groupby(["班级", "性别"]).mean(numeric_only=True).reset_index()  # 按班级、性别汇总平均成绩
df2





df2 = (
    df.groupby(["班级", "性别"]).mean(numeric_only=True).reset_index(drop=True)
)  # 按班级、性别汇总平均成绩
df2





df2 = (
    df.groupby(["班级", "性别"]).mean(numeric_only=True).reset_index(names=["class", "sex"])
)  # 按班级、性别汇总平均成绩
df2


df2.columns








df = pd.DataFrame(
    {
        "姓名": ["张三", "李四", "王五"],
        "统计学": [85, 68, 90],
        "高数": [82, 63, 88],
        "英语": [84, 90, 78],
    }
)
df[["统计学", "高数", "英语"]].values





df["统计学"].tolist()





a = [1, 2, 3]
pd.DataFrame(a)


a = [[1, 2, 3], [4, 5, 6]]
pd.DataFrame(a)


import numpy as np

b = np.array([3, 3, 4])
pd.DataFrame(b)


c = np.matrix([[1, 2], [3, 4]])
pd.DataFrame(c)





import numpy as np

df["统计学"].apply(np.sqrt)  # 调用 Numpy 中的求平方根函数对统计学成绩每个元素求平方根





df["高数新"] = df["高数"].apply(lambda x: x - 10)  # 对每一个高数成绩都减去 10 分，并赋值给一个新的列





def replace_score(x):
    if x >= 90:
        return "优"
    elif x >= 80:
        return "良"
    elif x >= 60:
        return "中"
    else:
        return "差"


df["英语"].apply(replace_score)





import pandas as pd
import numpy as np

df = pd.DataFrame(
    np.array([[85, 68, 90], [82, 63, 88], [84, 90, 78]]),
    columns=["统计学", "高数", "英语"],
    index=["张三", "李四", "王五"],
)
df





df.replace(90, np.nan)


df  # 原始数据并没有变





df.replace(90, np.nan, inplace=True)
df  # 原始数据改变了





df.fillna(80)  # 将缺失值替换为 80


df.fillna("missing")  # 将缺失值替换为一个字符串





df["英语"].isnull()





import pandas as pd
import numpy as np

df = pd.DataFrame(
    np.array([["85", "68", "90"], ["82", "63", "88"], ["84", "90", "78"]]),
    columns=["统计学", "高数", "英语"],
    index=["张三", "李四", "王五"],
)
df


print(df.dtypes)





df = df[["统计学", "高数", "英语"]].astype(float)
df


print(df.dtypes)








df = pd.DataFrame(
    [
        ["一班", "男", 85, 68, 90],
        ["一班", "男", 85, 68, 90],
        ["二班", "女", 84, 90, 78],
        ["三班", "女", 75, 68, 80],
        ["二班", "女", 69, 55, 63],
        ["一班", "男", 89, 95, 93],
    ],
    columns=["班级", "性别", "统计学", "高数", "英语"],
    index=["张三", "张三", "王五", "马六", "陈小虎", "魏大帅"],
)
df





df.drop_duplicates()








df = pd.DataFrame(
    {"统计学": [85, 68, np.nan], "高数": [82, 75, 88], "英语": [np.nan, 90, 78]},
    index=["张三", "李四", "王五"],
)
df


df.dropna()  # 默认为删除含有空值的行，并且只要行里面有 Nan 值，就删除


df.dropna(axis=1)  # 删除含有空值的列


df.dropna(how="all")  # 全部是空值才删除





df = pd.DataFrame({"统计学": [85, 68, 90], "高数": [82, 63, 88], "英语": [84, 90, 78]})
df


df.rename(columns={"统计学": "科目A", "高数": "科目B"})  # 更改其中两列的列名








import pandas as pd

pd.to_datetime("20200514")


pd.to_datetime("2020/05/14")


pd.to_datetime("2020-05-14")





df = pd.DataFrame(
    {
        "入校时间": ["2016-09-15", "2017-03-23", "2018-09-05"],
        "统计学": [85, 68, 90],
        "高数": [82, 63, 88],
        "英语": [84, 90, 78],
        "姓名": ["张三", "李四", "王五"],
    }
)
df


df.iloc[0, 0]  # 原始数据中的时间为字符串


df["入校时间"] = pd.to_datetime(df["入校时间"])  # 将原始数据中的时间转化为 python 的日期格式
df


df.iloc[0, 0]


df["入校时间"].dt.strftime("%m-%d-%y")  # 将日期格式转化为自定义格式的字符串


df["入校时间"].dt.strftime("%B-%d-%y")  # 将日期格式转化为自定义格式的字符串，小写 Y 年份显示两位


df["入校时间"].dt.strftime("%B-%d-%Y")  # 将日期格式转化为自定义格式的字符串，大写 Y 则年份显示四位


df["入校时间"].dt.strftime("%Y-%W")  # 将日期格式转化为自定义格式的字符串，大写 W 显示的为该年第几周


df["入校时间"].dt.strftime("%Y-%m-%w")  # 将日期格式转化为自定义格式的字符串，小写 w 显示的为该月第几周





import numpy as np

index = pd.date_range("12/24/2019", periods=10, freq="D")  # 生成一个时间序列，频率为天，周期数为 10
index


df = pd.DataFrame(np.arange(10), index=index)  # 创建一个包含时间序列的 DataFrame 数据表
df


df.resample("M").sum()  # 用 resample 方法按月('M')对数据聚合


df.resample("3D").sum()  # 用 resample 方法每 3 天('3D')对数据聚合


df.resample("w").sum()  # 用 resample 方法每周('w')对数据聚合








import pandas as pd

df = pd.DataFrame(
    {"statistics": [85, 68, 90], "math": [82, 63, 88], "English": [84, 90, 78]}
)
df


df.plot()





df.plot(kind="bar", title="My picture")  # 画出柱状图


df.plot(kind="bar", subplots=True)  # 对每一列数据非别生成一个子图


df.plot(x="math", y="statistics", kind="scatter")  # 指定横坐标与纵坐标，生成一个散点图


















