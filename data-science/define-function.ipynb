{
 "cells": [
  {
   "cell_type": "markdown",
   "id": "2ea7fab1",
   "metadata": {
    "slideshow": {
     "slide_type": "slide"
    }
   },
   "source": [
    "# Functions\n",
    "<hr>\n",
    "\n",
    "Python Functions is a block of statements that return the specific task. It is very import in coding since we can define a function to achive personalized needs.\n",
    "\n",
    "When writing functions in Python, the frequently used statements are conditional statements `if`, and loop statements such as `for` or `while`."
   ]
  },
  {
   "cell_type": "markdown",
   "id": "ade31629-7578-4e53-8583-e246aa718a01",
   "metadata": {},
   "source": [
    "Before we introduce how to self define functions, let us learn some useful buit-in functions of Python."
   ]
  },
  {
   "cell_type": "markdown",
   "id": "993d75e9-953a-4572-b4f6-bf4799f28553",
   "metadata": {},
   "source": [
    "## Some built-in functions\n",
    "<hr>"
   ]
  },
  {
   "cell_type": "markdown",
   "id": "64905c15-0ddb-4025-9d18-06775f490c49",
   "metadata": {},
   "source": [
    "\n",
    "Some commonly used built-in functions are:\n",
    "\n",
    "| Function       | Description                                                                 |\n",
    "|----------------|-----------------------------------------------------------------------------|\n",
    "| sum            | Calculates the sum of an iterable (e.g., sequence, set)                 |\n",
    "| max            | Returns the maximum value in an iterable                                    |\n",
    "| min            | Returns the minimum value in an iterable                                    |\n",
    "| abs            | Returns the absolute value of a number                                      |\n",
    "| round          | Rounds a number to the nearest integer (or specified decimal places)       |\n",
    "| range          | Generates a sequence of integers, commonly used in `for` loops              |\n",
    "| sorted         | Sorts an iterable in ascending order by default                             |  \n"
   ]
  },
  {
   "cell_type": "code",
   "execution_count": 11,
   "id": "e5a92c96",
   "metadata": {},
   "outputs": [
    {
     "data": {
      "text/plain": [
       "3.14"
      ]
     },
     "execution_count": 11,
     "metadata": {},
     "output_type": "execute_result"
    }
   ],
   "source": [
    "round(3.1415926, 2)  # round to a float with 2 decimals"
   ]
  },
  {
   "cell_type": "code",
   "execution_count": 3,
   "id": "65dc7d1d",
   "metadata": {
    "scrolled": true
   },
   "outputs": [
    {
     "data": {
      "text/plain": [
       "3"
      ]
     },
     "execution_count": 3,
     "metadata": {},
     "output_type": "execute_result"
    }
   ],
   "source": [
    "round(3.1415926)  # round to an integer"
   ]
  },
  {
   "cell_type": "markdown",
   "id": "29e4dcf0-a305-412f-8936-9103bcf3f690",
   "metadata": {},
   "source": [
    "In Python, `range` is directly treated as an iterable data type representing a sequence of integers. It includes the **end value (required, exclusive)**, **start value (optional, inclusive)**, and **step size (optional)**. You can convert a range object into a list using `list()`."
   ]
  },
  {
   "cell_type": "code",
   "execution_count": 4,
   "id": "d3f027e4",
   "metadata": {},
   "outputs": [
    {
     "data": {
      "text/plain": [
       "range(0, 10)"
      ]
     },
     "execution_count": 4,
     "metadata": {},
     "output_type": "execute_result"
    }
   ],
   "source": [
    "range(10)  # an integer sequence from 0 to 9, step size is 1 by default"
   ]
  },
  {
   "cell_type": "code",
   "execution_count": 5,
   "id": "6113ad33",
   "metadata": {},
   "outputs": [
    {
     "data": {
      "text/plain": [
       "[0, 1, 2, 3, 4, 5, 6, 7, 8, 9]"
      ]
     },
     "execution_count": 5,
     "metadata": {},
     "output_type": "execute_result"
    }
   ],
   "source": [
    "list(range(10)) # convert the range to a list"
   ]
  },
  {
   "cell_type": "code",
   "execution_count": null,
   "id": "00e97597",
   "metadata": {},
   "outputs": [],
   "source": [
    "range(2, 10)  # an integer sequence from 2 to 10"
   ]
  },
  {
   "cell_type": "code",
   "execution_count": 8,
   "id": "3c67b7ae",
   "metadata": {},
   "outputs": [
    {
     "data": {
      "text/plain": [
       "[2, 4, 6, 8]"
      ]
     },
     "execution_count": 8,
     "metadata": {},
     "output_type": "execute_result"
    }
   ],
   "source": [
    "list(range(2, 10, 2))  # an integer list from 2 to 10, step size 2"
   ]
  },
  {
   "cell_type": "markdown",
   "id": "32ae064e-278d-463b-a6bb-ed7bc1e85039",
   "metadata": {},
   "source": [
    "`range` is frequently used in the `for-loop` statement."
   ]
  },
  {
   "cell_type": "code",
   "execution_count": 10,
   "id": "94dda99a-01f4-4e52-9ca2-68c443a54413",
   "metadata": {},
   "outputs": [
    {
     "name": "stdout",
     "output_type": "stream",
     "text": [
      "0 1 2 3 4 5 6 7 8 9 "
     ]
    }
   ],
   "source": [
    "for i in range(10):\n",
    "    print(i, end=' ')"
   ]
  },
  {
   "cell_type": "markdown",
   "id": "e22bbf89-f31d-4ace-ab8b-9322827bd5a6",
   "metadata": {},
   "source": [
    "Another helpful function in the `for-loop` statement is `eumerate()`, in which its argument is an iterable and can return an enumerate object that has a counter for each element."
   ]
  },
  {
   "cell_type": "code",
   "execution_count": 12,
   "id": "960123c8",
   "metadata": {},
   "outputs": [
    {
     "name": "stdout",
     "output_type": "stream",
     "text": [
      "0 20\n",
      "1 30\n",
      "2 40\n",
      "3 50\n"
     ]
    }
   ],
   "source": [
    "a = [20, 30, 40, 50]\n",
    "for item, i in enumerate(a):\n",
    "    print(item, i)"
   ]
  },
  {
   "cell_type": "markdown",
   "id": "d8ad2988-19cc-4da1-a391-f8baa73edea5",
   "metadata": {},
   "source": [
    "The `sorted()` function sorts an iterable object, with ascending order as the default."
   ]
  },
  {
   "cell_type": "code",
   "execution_count": 14,
   "id": "2e99a3c5",
   "metadata": {},
   "outputs": [
    {
     "data": {
      "text/plain": [
       "[12, 23, 37, 54]"
      ]
     },
     "execution_count": 14,
     "metadata": {},
     "output_type": "execute_result"
    }
   ],
   "source": [
    "arr = [23, 54, 12, 37]\n",
    "sorted(arr) "
   ]
  },
  {
   "cell_type": "code",
   "execution_count": 16,
   "id": "cecf197c",
   "metadata": {
    "scrolled": true
   },
   "outputs": [
    {
     "data": {
      "text/plain": [
       "[54, 37, 23, 12]"
      ]
     },
     "execution_count": 16,
     "metadata": {},
     "output_type": "execute_result"
    }
   ],
   "source": [
    "sorted(arr, reverse=True)  # change the 'reverse' argument to sort in descending order"
   ]
  },
  {
   "cell_type": "markdown",
   "id": "eda17cb8-62f3-4b1d-8d22-c47ffd28c334",
   "metadata": {
    "slideshow": {
     "slide_type": "subslide"
    }
   },
   "source": [
    "## `if` statement\n",
    "<hr>"
   ]
  },
  {
   "cell_type": "markdown",
   "id": "75fec417",
   "metadata": {
    "slideshow": {
     "slide_type": "fragment"
    }
   },
   "source": [
    "The syntax for the `if` statement is:"
   ]
  },
  {
   "cell_type": "markdown",
   "id": "603c0a32",
   "metadata": {
    "slideshow": {
     "slide_type": "subslide"
    }
   },
   "source": [
    "<table>   \n",
    "    <tr style=\"border-top:solid; border-bottom:solid\">\n",
    "    </tr>\n",
    "    <tr>\n",
    "        <td style=\"text-align:left\">if condition1:</td>\n",
    "    </tr>\n",
    "    <tr>\n",
    "        <td style=\"text-align:left\">&nbsp;&nbsp;&nbsp;&nbsp;&nbsp;&nbsp;statement_block_1</td>\n",
    "    </tr>\n",
    "    <tr>\n",
    "        <td style=\"text-align:left\">elif condition2:</td>\n",
    "    </tr>\n",
    "    <tr>\n",
    "        <td style=\"text-align:left\">&nbsp;&nbsp;&nbsp;&nbsp;&nbsp;&nbsp;statement_block_2</td>\n",
    "    </tr>\n",
    "    <tr>\n",
    "        <td style=\"text-align:left\">else:</td>\n",
    "    </tr>\n",
    "    <tr style=\"border-bottom:solid\">\n",
    "        <td style=\"text-align:left\">&nbsp;&nbsp;&nbsp;&nbsp;&nbsp;&nbsp;statement_block_3</td>\n",
    "    </tr>\n",
    "</table>\n",
    "<br />"
   ]
  },
  {
   "cell_type": "markdown",
   "id": "8ccd5ea0-3350-431a-a913-2a6bae6692ae",
   "metadata": {
    "slideshow": {
     "slide_type": "fragment"
    }
   },
   "source": [
    "The if block first checks \"Condition 1\"—if true, runs \"statement_block_1\"; otherwise, it evaluates \"Condition 2\". When \"Condition 2\" holds, \"statement_block_2\" runs; if neither condition is met, \"statement_block_3\" executes."
   ]
  },
  {
   "cell_type": "markdown",
   "id": "b22b883d",
   "metadata": {
    "slideshow": {
     "slide_type": "subslide"
    }
   },
   "source": [
    "For example:"
   ]
  },
  {
   "cell_type": "code",
   "execution_count": 17,
   "id": "21914751",
   "metadata": {
    "slideshow": {
     "slide_type": "fragment"
    }
   },
   "outputs": [
    {
     "name": "stdout",
     "output_type": "stream",
     "text": [
      "rich\n"
     ]
    }
   ],
   "source": [
    "wage = 5000\n",
    "if wage <= 2000:\n",
    "    print(\"poor\")\n",
    "elif wage <= 4000:\n",
    "    print(\"middle\")\n",
    "else:\n",
    "    print(\"rich\")"
   ]
  },
  {
   "cell_type": "markdown",
   "id": "483e1d4f",
   "metadata": {
    "slideshow": {
     "slide_type": "subslide"
    }
   },
   "source": [
    "There can be other `if` statement inside one `if` statement. For example:"
   ]
  },
  {
   "cell_type": "code",
   "execution_count": 18,
   "id": "f544365c",
   "metadata": {
    "slideshow": {
     "slide_type": "fragment"
    }
   },
   "outputs": [
    {
     "name": "stdout",
     "output_type": "stream",
     "text": [
      "poor\n"
     ]
    }
   ],
   "source": [
    "wage = 1000\n",
    "if wage <= 2000:\n",
    "    print(\"poor\")\n",
    "    if wage < 1000:\n",
    "        print(\"very poor\")\n",
    "    if wage <= 500:\n",
    "        print(\"super poor\")\n",
    "else:\n",
    "    print(\"not poor\")"
   ]
  },
  {
   "cell_type": "markdown",
   "id": "012fce81-187e-4138-8210-5bf657341afb",
   "metadata": {
    "slideshow": {
     "slide_type": "fragment"
    }
   },
   "source": [
    "```{note}\n",
    "There can be no `elif` block or `else` block inside the `if` block.\n",
    "```"
   ]
  },
  {
   "cell_type": "markdown",
   "id": "3a3fc42c",
   "metadata": {
    "slideshow": {
     "slide_type": "subslide"
    }
   },
   "source": [
    "- Unlike many other programming languages, Python uses `indentation` to define code blocks instead of semicolons ; or curly braces {}.\n",
    "- `indentation` affects the scope of commands inside a block."
   ]
  },
  {
   "cell_type": "markdown",
   "id": "8dfc1c08-bab7-4368-bbaa-9620db58ca3d",
   "metadata": {},
   "source": [
    "![title](codeStyle.PNG)"
   ]
  },
  {
   "cell_type": "code",
   "execution_count": 19,
   "id": "e5abe3fb-4bde-493c-a94b-83425827676c",
   "metadata": {},
   "outputs": [
    {
     "name": "stdout",
     "output_type": "stream",
     "text": [
      "10\n",
      "12\n",
      "14\n",
      "16\n",
      "18\n",
      "120\n"
     ]
    }
   ],
   "source": [
    "a = 10\n",
    "if a > 10:\n",
    "    a = 25\n",
    "    print(\"Value of a is greater than 10\") # this line is not implemented\n",
    "while a < 20:\n",
    "    print(a)\n",
    "    a = a + 2\n",
    "print(a + 100)"
   ]
  },
  {
   "cell_type": "markdown",
   "id": "2eb5071e-8038-4f1a-b509-7efeddd0fd74",
   "metadata": {},
   "source": [
    "In the above code, the if block has consistent indentation, and the while block also maintains uniform indentation. This formatting enhances program readability and clearly defines the **scope** of different commands.\n",
    "\n",
    "- The statement `print(\"Value of a is greater than 10\")` aligns with `a = 25`, meaning both belong to the if block and execute only when the if condition is met.\n",
    "\n",
    "- If `print(\"Value of a is greater than 10\")` were aligned with `a = 10` instead, it would no longer be part of the if block—instead, it would execute outside the if statement, regardless of the condition."
   ]
  },
  {
   "cell_type": "code",
   "execution_count": 20,
   "id": "a03596dc-6e8b-4d82-b320-aec974c222ec",
   "metadata": {},
   "outputs": [
    {
     "name": "stdout",
     "output_type": "stream",
     "text": [
      "Value of a is greater than 10\n",
      "10\n",
      "12\n",
      "14\n",
      "16\n",
      "18\n",
      "120\n"
     ]
    }
   ],
   "source": [
    "a = 10\n",
    "if a > 10:\n",
    "    a = 25\n",
    "print(\"Value of a is greater than 10\") # this line is out of the if block and thus not affected by the if block\n",
    "while a < 20:\n",
    "    print(a)\n",
    "    a = a + 2\n",
    "print(a + 100)"
   ]
  },
  {
   "cell_type": "markdown",
   "id": "a69b92c8",
   "metadata": {
    "slideshow": {
     "slide_type": "subslide"
    }
   },
   "source": [
    "## Loop statement\n",
    "<hr>\n",
    "\n",
    "There are two loop statements: `for` and `while`."
   ]
  },
  {
   "cell_type": "markdown",
   "id": "7530759d-7f43-415f-85ae-e64ba0ee628d",
   "metadata": {},
   "source": [
    "### `for` loop\n",
    "\n",
    "A `for` loop can iterate over `iterable objects`, such as **lists, tuples, sets, dictionaries, or strings**.\n",
    "The syntax of a for loop is as follows:\n",
    "\n",
    "<table>   \n",
    "    <tr style=\"border-top:solid; border-bottom:solid\">\n",
    "    </tr>\n",
    "    <tr>\n",
    "        <td style=\"text-align:left\">for variable in iterable:</td>\n",
    "    </tr>\n",
    "    <tr style=\"border-bottom:solid\">\n",
    "        <td style=\"text-align:left\">&nbsp;&nbsp;&nbsp;&nbsp;&nbsp;&nbsp;statements</td>\n",
    "    </tr>\n",
    "</table>\n",
    "<br />"
   ]
  },
  {
   "cell_type": "markdown",
   "id": "633e60a0",
   "metadata": {
    "slideshow": {
     "slide_type": "subslide"
    }
   },
   "source": [
    "The purpose of a `for` loop is to iterate through all elements in a iterable object and execute one or more statements."
   ]
  },
  {
   "cell_type": "markdown",
   "id": "5eea2c18-133f-45dc-b64b-588962ff98ad",
   "metadata": {},
   "source": [
    "For example:"
   ]
  },
  {
   "cell_type": "code",
   "execution_count": 4,
   "id": "b26e6d7f",
   "metadata": {
    "slideshow": {
     "slide_type": "fragment"
    }
   },
   "outputs": [
    {
     "name": "stdout",
     "output_type": "stream",
     "text": [
      "0\n",
      "1\n",
      "2\n"
     ]
    }
   ],
   "source": [
    "for i in range(3):\n",
    "    print(i)"
   ]
  },
  {
   "cell_type": "markdown",
   "id": "7a1443e8",
   "metadata": {
    "slideshow": {
     "slide_type": "fragment"
    }
   },
   "source": [
    "The above codes print every element in the `range(3)`."
   ]
  },
  {
   "cell_type": "markdown",
   "id": "46ab2b3b-29af-421b-a364-1ada33750438",
   "metadata": {},
   "source": [
    "If the variable in the `for` loop is not used in the statements, we can replace the variable with `_`."
   ]
  },
  {
   "cell_type": "code",
   "execution_count": 11,
   "id": "8b0c94c7-8879-429d-bedf-3a0ebd610295",
   "metadata": {},
   "outputs": [
    {
     "name": "stdout",
     "output_type": "stream",
     "text": [
      "Hello, World!\n",
      "Hello, World!\n",
      "Hello, World!\n"
     ]
    }
   ],
   "source": [
    "for _ in range(3):\n",
    "    print(\"Hello, World!\")"
   ]
  },
  {
   "cell_type": "markdown",
   "id": "ad8f0f1a-7c85-46a1-9723-2ae76016a279",
   "metadata": {},
   "source": [
    "### `while` loop"
   ]
  },
  {
   "cell_type": "markdown",
   "id": "0963397d",
   "metadata": {
    "slideshow": {
     "slide_type": "subslide"
    }
   },
   "source": [
    "They syntax for `while` loop is:\n",
    "\n",
    "<table>   \n",
    "    <tr style=\"border-top:solid; border-bottom:solid\">\n",
    "    </tr>\n",
    "    <tr>\n",
    "        <td style=\"text-align:left\">while&nbsp; condition:</td>\n",
    "    </tr>\n",
    "    <tr style=\"border-bottom:solid\">\n",
    "        <td style=\"text-align:left\">&nbsp;&nbsp;&nbsp;&nbsp;&nbsp;&nbsp;&nbsp;&nbsp;statements</td>\n",
    "    </tr>\n",
    "</table>\n",
    "<br />"
   ]
  },
  {
   "cell_type": "markdown",
   "id": "4c398386",
   "metadata": {
    "slideshow": {
     "slide_type": "fragment"
    }
   },
   "source": [
    "In the `while` loop, if the condition is met, the commands within the while loop will continue to execute indefinitely."
   ]
  },
  {
   "cell_type": "markdown",
   "id": "c3148467",
   "metadata": {
    "slideshow": {
     "slide_type": "subslide"
    }
   },
   "source": [
    "For example:"
   ]
  },
  {
   "cell_type": "code",
   "execution_count": 5,
   "id": "96896bad",
   "metadata": {
    "slideshow": {
     "slide_type": "fragment"
    }
   },
   "outputs": [
    {
     "name": "stdout",
     "output_type": "stream",
     "text": [
      "1\n",
      "2\n",
      "3\n"
     ]
    }
   ],
   "source": [
    "a = 1\n",
    "while a < 4:\n",
    "    print(a)\n",
    "    a = a + 1"
   ]
  },
  {
   "cell_type": "markdown",
   "id": "06e2a0df",
   "metadata": {
    "slideshow": {
     "slide_type": "fragment"
    }
   },
   "source": [
    "In the above codes: if a is less than 4, print a and add a by 1; repeat this process until a equals 4."
   ]
  },
  {
   "cell_type": "markdown",
   "id": "46114c2e",
   "metadata": {
    "slideshow": {
     "slide_type": "subslide"
    }
   },
   "source": [
    "The for loop and while loop are often used in combination with the `break` or `continue` statements. **The `break` statement exits the loop entirely**, while **the `continue` statement skips the remaining code in the current iteration and proceeds to the next cycle**."
   ]
  },
  {
   "cell_type": "code",
   "execution_count": 1,
   "id": "a3abeefc",
   "metadata": {
    "slideshow": {
     "slide_type": "fragment"
    }
   },
   "outputs": [
    {
     "name": "stdout",
     "output_type": "stream",
     "text": [
      "0\n",
      "loop is over\n"
     ]
    }
   ],
   "source": [
    "for i in range(3):\n",
    "    if i == 1:\n",
    "        break\n",
    "    print(i)\n",
    "print(\"loop is over\")"
   ]
  },
  {
   "cell_type": "markdown",
   "id": "732dc6da",
   "metadata": {
    "slideshow": {
     "slide_type": "fragment"
    }
   },
   "source": [
    "In the above codes, the `break` statement makes the program jump out the for loop when i equals 1."
   ]
  },
  {
   "cell_type": "markdown",
   "id": "1bf713e4",
   "metadata": {
    "slideshow": {
     "slide_type": "subslide"
    }
   },
   "source": [
    "If replacing `break` with ``continue``:"
   ]
  },
  {
   "cell_type": "code",
   "execution_count": 1,
   "id": "b9ebccc3",
   "metadata": {
    "slideshow": {
     "slide_type": "fragment"
    }
   },
   "outputs": [
    {
     "name": "stdout",
     "output_type": "stream",
     "text": [
      "0\n",
      "2\n",
      "loop is over\n"
     ]
    }
   ],
   "source": [
    "for i in range(3):\n",
    "    if i == 1:\n",
    "        continue\n",
    "    print(i)\n",
    "print(\"loop is over\")"
   ]
  },
  {
   "cell_type": "markdown",
   "id": "c060000b",
   "metadata": {
    "slideshow": {
     "slide_type": "fragment"
    }
   },
   "source": [
    "In the above codes, when i equals 1, the `continue` statement skips the current iteration and proceeds with the remaining loops."
   ]
  },
  {
   "cell_type": "markdown",
   "id": "72aac418",
   "metadata": {
    "slideshow": {
     "slide_type": "subslide"
    }
   },
   "source": [
    "Examples about ``break`` and ``continue`` in the `while` loop:"
   ]
  },
  {
   "cell_type": "code",
   "execution_count": 2,
   "id": "2b86c5e8",
   "metadata": {
    "slideshow": {
     "slide_type": "fragment"
    }
   },
   "outputs": [
    {
     "name": "stdout",
     "output_type": "stream",
     "text": [
      "2\n",
      "loop is over\n"
     ]
    }
   ],
   "source": [
    "a = 1\n",
    "while a < 5:\n",
    "    a = a + 1\n",
    "    if a == 3:\n",
    "        break\n",
    "    print(a)\n",
    "print(\"loop is over\")"
   ]
  },
  {
   "cell_type": "code",
   "execution_count": 4,
   "id": "1f0bd217",
   "metadata": {
    "scrolled": true,
    "slideshow": {
     "slide_type": "subslide"
    }
   },
   "outputs": [
    {
     "name": "stdout",
     "output_type": "stream",
     "text": [
      "2\n",
      "4\n",
      "5\n",
      "loop is over\n"
     ]
    }
   ],
   "source": [
    "a = 1\n",
    "while a < 5:\n",
    "    a = a + 1\n",
    "    if a == 3:\n",
    "        continue\n",
    "    print(a)\n",
    "print(\"loop is over\")"
   ]
  },
  {
   "cell_type": "markdown",
   "id": "a86ac602-adae-4e95-807c-e527fa70653a",
   "metadata": {
    "slideshow": {
     "slide_type": "subslide"
    }
   },
   "source": [
    "```{note}\n",
    "Both `for` loops and `while` loops can be followed by an `else` statement. The `else` block executes only if the loop completes normally (i.e., without encountering a `break`).\n",
    "```"
   ]
  },
  {
   "cell_type": "markdown",
   "id": "5b78483d",
   "metadata": {
    "slideshow": {
     "slide_type": "slide"
    }
   },
   "source": [
    "## Self-defined functions\n",
    "<hr>\n",
    "\n",
    "Python uses the keyword ``def`` to define a function. They syntax is:\n",
    "\n",
    "<table>   \n",
    "    <tr style=\"border-top:solid; border-bottom:solid\">\n",
    "    </tr>\n",
    "    <tr>\n",
    "        <td style=\"text-align:left\">def &nbsp;&nbsp;function_name(parameters):</td>\n",
    "    </tr>\n",
    "    <tr style=\"border-bottom:solid\">\n",
    "        <td style=\"text-align:left\">&nbsp;&nbsp;&nbsp;&nbsp;&nbsp;&nbsp;&nbsp;&nbsp;&nbsp;statements</td>\n",
    "    </tr>\n",
    "</table>\n",
    "<br />"
   ]
  },
  {
   "cell_type": "markdown",
   "id": "e4142232",
   "metadata": {
    "slideshow": {
     "slide_type": "subslide"
    }
   },
   "source": [
    "The following codes define a summation function."
   ]
  },
  {
   "cell_type": "code",
   "execution_count": 10,
   "id": "cdb0f7fb",
   "metadata": {
    "slideshow": {
     "slide_type": "fragment"
    }
   },
   "outputs": [],
   "source": [
    "def add(x1, x2):\n",
    "    z = x1 + x2\n",
    "    return z"
   ]
  },
  {
   "cell_type": "markdown",
   "id": "71966144",
   "metadata": {
    "slideshow": {
     "slide_type": "subslide"
    }
   },
   "source": [
    "There are severy features for a self-defined function in Python.\n",
    "\n",
    "|Feature|Description|\n",
    "|--|--|\n",
    "|`def`|A self-defined function starts with keyword `def` |\n",
    "|`( )`|Function parameters are inside the parentheses|\n",
    "|`:`| A colon after the right parenthesis of the parameters|\n",
    "|`return`|The return values of the fuction follows after the keyword `return` |"
   ]
  },
  {
   "cell_type": "markdown",
   "id": "95d87c1b",
   "metadata": {
    "slideshow": {
     "slide_type": "subslide"
    }
   },
   "source": [
    "**A Python function can return one or multiple values, or no return values**. The following code returns multiple values—both the sum of the two arguments and the original arguments themselves."
   ]
  },
  {
   "cell_type": "code",
   "execution_count": 11,
   "id": "12226aea",
   "metadata": {
    "slideshow": {
     "slide_type": "fragment"
    }
   },
   "outputs": [],
   "source": [
    "def add(x1, x2):\n",
    "    z = x1 + x2\n",
    "    return z, x1, x2"
   ]
  },
  {
   "cell_type": "markdown",
   "id": "f8968b83",
   "metadata": {
    "slideshow": {
     "slide_type": "subslide"
    }
   },
   "source": [
    "When calling a function, specify the function name and pass in the required arguments, for example:"
   ]
  },
  {
   "cell_type": "markdown",
   "id": "b2108322-6483-419b-a013-3e1dcba97132",
   "metadata": {},
   "source": [
    "- `Arguments` are the actual values passed to the function when it is called. They replace the `parameters` during execution."
   ]
  },
  {
   "cell_type": "code",
   "execution_count": 5,
   "id": "2375192e",
   "metadata": {
    "slideshow": {
     "slide_type": "fragment"
    }
   },
   "outputs": [
    {
     "name": "stdout",
     "output_type": "stream",
     "text": [
      "16\n"
     ]
    }
   ],
   "source": [
    "def add(x1, x2):\n",
    "    z = x1 + x2\n",
    "    return z\n",
    "\n",
    "\n",
    "x1 = 10\n",
    "x2 = 6\n",
    "print(add(x1, x2))"
   ]
  },
  {
   "cell_type": "markdown",
   "id": "ab819e10",
   "metadata": {
    "slideshow": {
     "slide_type": "subslide"
    }
   },
   "source": [
    "If you don't need to use a particular return value, you can assign it to an underscore `_` as a convention to indicate unused variables."
   ]
  },
  {
   "cell_type": "code",
   "execution_count": 6,
   "id": "7fe9ca8e",
   "metadata": {
    "slideshow": {
     "slide_type": "fragment"
    }
   },
   "outputs": [
    {
     "name": "stdout",
     "output_type": "stream",
     "text": [
      "16\n",
      "6\n"
     ]
    }
   ],
   "source": [
    "def add(x1, x2):\n",
    "    z = x1 + x2\n",
    "    return z, x1, x2\n",
    "\n",
    "\n",
    "x1 = 10\n",
    "x2 = 6\n",
    "sums, _, b = add(x1, x2)  # use _ to represent the second value\n",
    "print(sums)\n",
    "print(b)"
   ]
  },
  {
   "cell_type": "markdown",
   "id": "ea4ed13a",
   "metadata": {
    "slideshow": {
     "slide_type": "fragment"
    }
   },
   "source": [
    "In the code above, an underscore `_` is used to ignore the second return value, while the other return values are assigned to new variables."
   ]
  },
  {
   "cell_type": "markdown",
   "id": "429219bb",
   "metadata": {
    "slideshow": {
     "slide_type": "subslide"
    }
   },
   "source": [
    "A function can also be defined without input parameters, meaning the parentheses can be left empty. For example, the following code prints the message ``Hello, world!''."
   ]
  },
  {
   "cell_type": "code",
   "execution_count": 15,
   "id": "6b8c8cea",
   "metadata": {
    "slideshow": {
     "slide_type": "fragment"
    }
   },
   "outputs": [
    {
     "name": "stdout",
     "output_type": "stream",
     "text": [
      "Hello, world!\n"
     ]
    }
   ],
   "source": [
    "def hello():\n",
    "    print(\"Hello, world!\")\n",
    "\n",
    "\n",
    "hello()"
   ]
  },
  {
   "cell_type": "markdown",
   "id": "1f6f5b04",
   "metadata": {},
   "source": [
    "You can use triple quote `''' '''` or triple quotes `\"\"\" \"\"\"` to add function documentation (`docstring`). For example:"
   ]
  },
  {
   "cell_type": "code",
   "execution_count": 2,
   "id": "2cceeac2",
   "metadata": {},
   "outputs": [
    {
     "name": "stdout",
     "output_type": "stream",
     "text": [
      "Hello, world!\n"
     ]
    }
   ],
   "source": [
    "def hello():\n",
    "    \"\"\"This is a hello function.\"\"\"\n",
    "    print(\"Hello, world!\")\n",
    "\n",
    "\n",
    "hello()"
   ]
  },
  {
   "cell_type": "markdown",
   "id": "d510fc18",
   "metadata": {},
   "source": [
    "In some Python IDEs like Spyder or PyCharm, hovering the mouse over a function or class name will automatically display its documentation (docstring), significantly improving code readability."
   ]
  },
  {
   "cell_type": "markdown",
   "id": "2e7bae8e",
   "metadata": {
    "slideshow": {
     "slide_type": "slide"
    }
   },
   "source": [
    "### Parameter Passing Types in Functions\n",
    "<hr>\n",
    "\n",
    "Function parameters in Python are categorized by mutability into two groups:\n",
    "\n",
    "• Immutable objects: `numeric`, `strings`, `tuples`\n",
    "\n",
    "• Mutable objects: `lists`, `dicts`, `sets`"
   ]
  },
  {
   "cell_type": "markdown",
   "id": "b9bce552-69ee-42ac-915c-df72fbd59c11",
   "metadata": {},
   "source": [
    "- `Arguments` are the actual values passed to the function when it is called. They replace the `parameters` during execution."
   ]
  },
  {
   "cell_type": "markdown",
   "id": "a9cce46e",
   "metadata": {
    "slideshow": {
     "slide_type": "subslide"
    }
   },
   "source": [
    "For immutable types, the original value of the parameter remains unchanged after being passed to a function. For example:"
   ]
  },
  {
   "cell_type": "code",
   "execution_count": 11,
   "id": "bba6b269",
   "metadata": {
    "slideshow": {
     "slide_type": "fragment"
    }
   },
   "outputs": [
    {
     "name": "stdout",
     "output_type": "stream",
     "text": [
      "2\n"
     ]
    }
   ],
   "source": [
    "def changeNum(a): # this parameter a is valid only inside the scope of the function\n",
    "    a = 10\n",
    "\n",
    "\n",
    "a = 2 # this variable is outside the scope of the function\n",
    "changeNum(a)\n",
    "print(a)  #  the value a is still 2"
   ]
  },
  {
   "cell_type": "markdown",
   "id": "e18a30d1",
   "metadata": {
    "slideshow": {
     "slide_type": "fragment"
    }
   },
   "source": [
    "In the above code, since a numeric type is passed, the original value of the parameter remains unchanged after the function call. The same behavior applies to string and tuple types when passed as arguments."
   ]
  },
  {
   "cell_type": "markdown",
   "id": "05883a08-6648-4788-bedc-ae8d5e4af605",
   "metadata": {},
   "source": [
    "```{note}\n",
    "For the parameters in a function, if they are immutable objects, they are only valid inside the function body. So they are different with the same-name variables outside the function defintion block.\n",
    "```"
   ]
  },
  {
   "cell_type": "markdown",
   "id": "1086c683",
   "metadata": {
    "slideshow": {
     "slide_type": "subslide"
    }
   },
   "source": [
    "When mutable objects (e.g., lists, dictionaries) are passed to a function, their original values can be altered if modified inside the function. This happens because Python passes them by object reference. For example:"
   ]
  },
  {
   "cell_type": "code",
   "execution_count": 12,
   "id": "2ed17f06",
   "metadata": {
    "slideshow": {
     "slide_type": "fragment"
    }
   },
   "outputs": [
    {
     "name": "stdout",
     "output_type": "stream",
     "text": [
      "[10, 20, 30, 1, 2, 3]\n"
     ]
    }
   ],
   "source": [
    "def changeList(mylist):\n",
    "    mylist.extend([1, 2, 3])\n",
    "    return mylist\n",
    "\n",
    "\n",
    "listTry = [10, 20, 30]\n",
    "changeList(listTry)\n",
    "print(listTry)  "
   ]
  },
  {
   "cell_type": "markdown",
   "id": "261b0e4e",
   "metadata": {
    "slideshow": {
     "slide_type": "subslide"
    }
   },
   "source": [
    "###  Parameter passing techniques in functions\n",
    "<hr>\n",
    "\n",
    "There are four main methods for passing function parameters:\n",
    "\n",
    "- Positional arguments \n",
    "\n",
    "- Assignment by keyword arguments \n",
    "\n",
    "- Default parameter values \n",
    "\n",
    "- Variable-length arguments "
   ]
  },
  {
   "cell_type": "markdown",
   "id": "3598a188",
   "metadata": {
    "slideshow": {
     "slide_type": "subslide"
    }
   },
   "source": [
    "For positional arguments, the function parameters are assigned values in a **one-to-one correspondence** with the input order."
   ]
  },
  {
   "cell_type": "code",
   "execution_count": 18,
   "id": "959cb9e4",
   "metadata": {
    "slideshow": {
     "slide_type": "fragment"
    }
   },
   "outputs": [
    {
     "name": "stdout",
     "output_type": "stream",
     "text": [
      "4\n"
     ]
    }
   ],
   "source": [
    "def minus(x1, x2):\n",
    "    z = x1 - x2\n",
    "    return z\n",
    "\n",
    "\n",
    "print(minus(10, 6))"
   ]
  },
  {
   "cell_type": "markdown",
   "id": "9693f359",
   "metadata": {
    "slideshow": {
     "slide_type": "fragment"
    }
   },
   "source": [
    "In the code above, when calling the minus function, the parameters are assigned in order, meaning $x_1$ is set to 10 and $x_2$ is set to 6."
   ]
  },
  {
   "cell_type": "markdown",
   "id": "c9d9f17e",
   "metadata": {
    "slideshow": {
     "slide_type": "subslide"
    }
   },
   "source": [
    "`Keyword argument passing` means that when calling a function, you can directly assign values to parameters by name. Python **automatically matches the values to parameters based on the names specified in parentheses**. For example:"
   ]
  },
  {
   "cell_type": "code",
   "execution_count": 13,
   "id": "869a1b99",
   "metadata": {
    "scrolled": true,
    "slideshow": {
     "slide_type": "fragment"
    }
   },
   "outputs": [
    {
     "name": "stdout",
     "output_type": "stream",
     "text": [
      "-4\n"
     ]
    }
   ],
   "source": [
    "def minus(x1, x2):\n",
    "    z = x1 - x2\n",
    "    return z\n",
    "\n",
    "\n",
    "print(minus(x2=10, x1=6))"
   ]
  },
  {
   "cell_type": "markdown",
   "id": "2bbdd715",
   "metadata": {
    "slideshow": {
     "slide_type": "fragment"
    }
   },
   "source": [
    "In the above code, when calling the minus function, the parameters are explicitly assigned within the parentheses, resulting in $x_2$ being set to 10 and $x_1$ to 6."
   ]
  },
  {
   "cell_type": "markdown",
   "id": "53b947f8",
   "metadata": {
    "slideshow": {
     "slide_type": "subslide"
    }
   },
   "source": [
    "In Python, when defining a function, you can set default values for parameters. When calling the function, **if no value is provided for a parameter, the default value will be used**. For example:"
   ]
  },
  {
   "cell_type": "code",
   "execution_count": 20,
   "id": "97fd1447",
   "metadata": {
    "slideshow": {
     "slide_type": "fragment"
    }
   },
   "outputs": [
    {
     "name": "stdout",
     "output_type": "stream",
     "text": [
      "4\n",
      "5\n"
     ]
    }
   ],
   "source": [
    "def minus(x1, x2=6):\n",
    "    z = x1 - x2\n",
    "    return z\n",
    "\n",
    "\n",
    "print(minus(x1=10))  # x2 use the default value 6\n",
    "print(minus(x1=10, x2=5))  # x2 use the value 5 since a value for x2 is provided when calling the function"
   ]
  },
  {
   "cell_type": "markdown",
   "id": "feb4f32e",
   "metadata": {
    "slideshow": {
     "slide_type": "subslide"
    }
   },
   "source": [
    "When a function receives multiple arguments, but you're not exactly sure how many, you can use `*args` to represent multiple arguments, in which `*args` can be seen as the name of a list. For example:"
   ]
  },
  {
   "cell_type": "code",
   "execution_count": 2,
   "id": "c31a99d5",
   "metadata": {
    "slideshow": {
     "slide_type": "fragment"
    }
   },
   "outputs": [
    {
     "name": "stdout",
     "output_type": "stream",
     "text": [
      "x is 3\n",
      "final x is 12\n",
      "x is 3\n",
      "final x is 18\n"
     ]
    }
   ],
   "source": [
    "def plus(x, *a):\n",
    "    print(\"x is %d\" % x)\n",
    "    for var in a:\n",
    "        x += var\n",
    "    print(\"final x is %d\" % x)\n",
    "\n",
    "\n",
    "plus(3, 4, 5)  # *a is [4, 5]\n",
    "plus(3, 4, 5, 6)  # *a is [4, 5, 6]"
   ]
  },
  {
   "cell_type": "markdown",
   "id": "f0972a75",
   "metadata": {
    "slideshow": {
     "slide_type": "subslide"
    }
   },
   "source": [
    "You can use `**args` to pass a variable number of keyword (name-value) arguments. For example:"
   ]
  },
  {
   "cell_type": "code",
   "execution_count": 22,
   "id": "a3a01863",
   "metadata": {
    "slideshow": {
     "slide_type": "fragment"
    }
   },
   "outputs": [
    {
     "name": "stdout",
     "output_type": "stream",
     "text": [
      "7\n"
     ]
    }
   ],
   "source": [
    "def minus(x1, **a):\n",
    "    sum = 0\n",
    "    for key in args:\n",
    "        sum += args[key]\n",
    "        return x1 - sum\n",
    "\n",
    "\n",
    "print(minus(10, x2=3, x3=5))"
   ]
  },
  {
   "cell_type": "markdown",
   "id": "bd9f978b",
   "metadata": {
    "slideshow": {
     "slide_type": "fragment"
    }
   },
   "source": [
    "In the above codes, `**args` represents x2 = 3, x3 = 5."
   ]
  },
  {
   "cell_type": "markdown",
   "id": "4a29c049",
   "metadata": {},
   "source": [
    "## Debug codes\n",
    "<hr>"
   ]
  },
  {
   "cell_type": "markdown",
   "id": "f49d0759",
   "metadata": {},
   "source": [
    "Debugging a program is an unavoidable step in programming. The purpose of debugging is to help identify and fix errors in the program. Even the best programmers can't write a completely error-free program on the first try. Python provides several common methods for debugging programs."
   ]
  },
  {
   "cell_type": "markdown",
   "id": "e006f559",
   "metadata": {},
   "source": [
    "### Debug using `print()`\n",
    "<hr>"
   ]
  },
  {
   "cell_type": "markdown",
   "id": "9347a287",
   "metadata": {},
   "source": [
    "This method typically involves placing `print()` statements before lines of code that are suspected to contain errors, in order to print out certain variable values or function outputs. This helps the programmer determine where the error is occurring. This debugging method is suitable for situations where the code is short, the problem is simple, and only a few variables need to be checked."
   ]
  },
  {
   "cell_type": "markdown",
   "id": "f4e5ecc2",
   "metadata": {},
   "source": [
    "例如，下面的例子中在可能发生错误的前一行使用 print 语句输出变量 a 与 b 的值。"
   ]
  },
  {
   "cell_type": "markdown",
   "id": "9e0c3eac",
   "metadata": {},
   "source": [
    "```{code} python\n",
    "def divide(a, b):\n",
    "    print(f\"DEBUG: a={a}, b={b}\")  # 调试信息\n",
    "    return a / b  # 可能发生 ZeroDivisionError\n",
    "\n",
    "\n",
    "print(divide(10, 2))\n",
    "print(divide(5, 0))  # there is somthing wrong here\n",
    "```"
   ]
  },
  {
   "cell_type": "markdown",
   "id": "5c46cfd3",
   "metadata": {},
   "source": [
    "这种方法的缺点是：每次都要手动修改 print() 位置；不能暂停代码，调试麻烦。"
   ]
  },
  {
   "cell_type": "markdown",
   "id": "b8307386",
   "metadata": {},
   "source": [
    "### 使用调试器调试\n",
    "<hr>"
   ]
  },
  {
   "cell_type": "markdown",
   "id": "fe486698",
   "metadata": {},
   "source": [
    "Python 自带一个调试器 `pdb`，其他的 Python 编程软件（IDE）Spyder, Pycharm, VS code 等在菜单栏或工具栏也有专门的调试功能。"
   ]
  },
  {
   "cell_type": "markdown",
   "id": "db70d7f7",
   "metadata": {},
   "source": [
    "调试器调试的一般步骤是：\n",
    "1. 在怀疑出错的代码行前面设置断点\n",
    "   - IDE软件是在代码行号处单击（会出现红点）\n",
    "   - pdb为添加一行代码 pdb.set_trace()\n",
    "3. 启动调试\n",
    "4. 使用调试功能，发现或修改错误\n",
    "5. 退出调试"
   ]
  },
  {
   "cell_type": "markdown",
   "id": "8c245e70",
   "metadata": {},
   "source": [
    "下面代码为使用 pdb 进行调试的例子："
   ]
  },
  {
   "cell_type": "markdown",
   "id": "ab4eed3b",
   "metadata": {},
   "source": [
    "```{code} python\n",
    "import pdb\n",
    "\n",
    "\n",
    "def divide(a, b):\n",
    "    pdb.set_trace()  # 进入调试模式\n",
    "    return a / b\n",
    "\n",
    "\n",
    "print(divide(10, 2))\n",
    "```"
   ]
  },
  {
   "cell_type": "markdown",
   "id": "ecd69a69",
   "metadata": {},
   "source": [
    "运行代码后，会出现一个 pdb 的命令行，我们可以在命令后输入命令进行调试。"
   ]
  },
  {
   "cell_type": "markdown",
   "id": "8fada1da",
   "metadata": {},
   "source": [
    "pdb 常用命令：\n",
    "\n",
    "|命令|作用|\n",
    "|--|--|\n",
    "|n (next)\t|执行当前行，不进入函数|\n",
    "|s (step)\t|进入函数内部|\n",
    "|r (return)\t|运行到当前函数结束|\n",
    "|p var\t|打印变量值|\n",
    "|c (continue)\t|继续运行到下一个断点|\n",
    "|q|退出调试|"
   ]
  },
  {
   "cell_type": "markdown",
   "id": "29e91cb3",
   "metadata": {},
   "source": [
    "### 调试功能的 step into, step over, step out, resume program\n",
    "<hr>"
   ]
  },
  {
   "cell_type": "markdown",
   "id": "584ab521",
   "metadata": {},
   "source": [
    "使用 IDE 软件调试时，`step into`、`step over`、`step out`和 `resume program` 是调试器的常见功能，它们的区别如下："
   ]
  },
  {
   "cell_type": "markdown",
   "id": "04b47ec3",
   "metadata": {},
   "source": [
    "- Step Into（进入函数）：逐行执行代码，并且如果当前行有函数调用，就进入该函数内部。\n",
    "    - 相当于 pdb 中的 `s`\n",
    "- Step Over（跳过函数）：执行当前行的代码，但如果当前行有函数调用，则不进入该函数，而是直接执行完该行，停在下一行。\n",
    "    - 相当于 pdb 中的 `n`\n",
    "- Step Out（跳出函数）：如果在函数内部，执行完当前函数的剩余代码，并返回到调用该函数的位置；如果在函数外部，则继续执行程序，直到下一个断点或程序结束\n",
    "     - 相当于 pdb 中的 `r`\n",
    "- resume program：继续执行程序，直到下一个断点或程序结束。\n",
    "    - 相当于 pdb 中的 `c`"
   ]
  },
  {
   "cell_type": "code",
   "execution_count": 7,
   "id": "3b9fb2da",
   "metadata": {},
   "outputs": [
    {
     "name": "stdout",
     "output_type": "stream",
     "text": [
      "30\n"
     ]
    }
   ],
   "source": [
    "def add(a, b):\n",
    "    return a + b\n",
    "\n",
    "\n",
    "def main():\n",
    "    x = 10\n",
    "    y = 20\n",
    "    result = add(x, y)  # 如果在这里 \"Step Into\"，会进入 add 函数\n",
    "    print(result)\n",
    "\n",
    "\n",
    "main()"
   ]
  },
  {
   "cell_type": "markdown",
   "id": "ed7a1135",
   "metadata": {},
   "source": [
    "在 result = add(x, y) 这一行 Step Into，会进入 add 函数的第一行，逐行执行 add 的代码。"
   ]
  },
  {
   "cell_type": "code",
   "execution_count": 14,
   "id": "d3f963f0",
   "metadata": {},
   "outputs": [
    {
     "name": "stdout",
     "output_type": "stream",
     "text": [
      "30\n"
     ]
    }
   ],
   "source": [
    "def add(a, b):\n",
    "    return a + b\n",
    "\n",
    "\n",
    "def main():\n",
    "    x = 10\n",
    "    y = 20\n",
    "    result = add(x, y)  # 如果在这里 \"Step Over\"，不会进入 add，直接执行并跳到 print(result)\n",
    "    print(result)\n",
    "\n",
    "\n",
    "main()"
   ]
  },
  {
   "cell_type": "markdown",
   "id": "091851b9",
   "metadata": {},
   "source": [
    "在 result = add(x, y) 这一行 Step Over，不会进入 add 函数，而是直接执行完 add，然后跳到 print(result)。"
   ]
  },
  {
   "cell_type": "code",
   "execution_count": 13,
   "id": "a02c2367",
   "metadata": {},
   "outputs": [
    {
     "name": "stdout",
     "output_type": "stream",
     "text": [
      "30\n"
     ]
    }
   ],
   "source": [
    "import pdb\n",
    "\n",
    "\n",
    "def add(a, b):\n",
    "    return a + b  # 如果在这里 \"Step Out\"，会直接执行 return 并返回到 main() 的调用处\n",
    "\n",
    "\n",
    "def main():\n",
    "    x = 10\n",
    "    y = 20\n",
    "    result = add(x, y)\n",
    "    print(result)\n",
    "\n",
    "\n",
    "main()"
   ]
  },
  {
   "cell_type": "markdown",
   "id": "32ff7884",
   "metadata": {},
   "source": [
    "如果调试器当前在 return a + b 这一行，使用 Step Out，会执行 return a + b 并直接回到 result = add(x, y) 这一行。"
   ]
  },
  {
   "cell_type": "markdown",
   "id": "016ed9c4",
   "metadata": {},
   "source": [
    "在一些调试器中（例如 Pycharm），`Step Into My Code` 是一个增强版的 Step Into，它的作用是：\n",
    "\n",
    "- 进入你自己编写的代码，而跳过 Python 内置库、第三方库的代码。\n",
    "- 避免进入外部库（如 numpy, pandas 等），只调试自己写的部分，提高调试效率。"
   ]
  },
  {
   "cell_type": "markdown",
   "id": "a99db8ed",
   "metadata": {},
   "source": [
    "```{note}\n",
    "Spyder 软件的调试功能命令与上面所讲的命令略有不同，但比较类似。\n",
    "```"
   ]
  },
  {
   "cell_type": "markdown",
   "id": "ed3b91f9",
   "metadata": {
    "slideshow": {
     "slide_type": "slide"
    }
   },
   "source": [
    "### try-except 语句调试\n",
    "<hr>\n",
    "\n",
    "在编写程序时，有时候不知道程序能否正确运行，想试试程序运行结果如何，可以使用 try-except语句；若 try 块中的语句无法执行通过，则执行 except 块中的语句。\n"
   ]
  },
  {
   "cell_type": "markdown",
   "id": "00e60453",
   "metadata": {},
   "source": [
    "<table>   \n",
    "    <tr style=\"border-top:solid; border-bottom:solid\">\n",
    "            <th style=\"text-align:center\">try-excpet 语句的一般用法</th>\n",
    "    </tr>\n",
    "    <tr>\n",
    "        <td style=\"text-align:left\">try:</td>\n",
    "    </tr> \n",
    "    <tr>\n",
    "        <td style=\"text-align:left\">&nbsp;&nbsp;&nbsp;&nbsp;&nbsp;&nbsp;<语句块1></td>\n",
    "    </tr>\n",
    "    <tr>\n",
    "        <td style=\"text-align:left\">except [异常类型]:</td>\n",
    "    </tr> \n",
    "    <tr style=\"border-bottom:solid\">\n",
    "        <td style=\"text-align:left\">&nbsp;&nbsp;&nbsp;&nbsp;&nbsp;&nbsp;<语句块2></td>\n",
    "    </tr>\n",
    "</table>\n",
    "<br />"
   ]
  },
  {
   "cell_type": "markdown",
   "id": "c577fef2",
   "metadata": {
    "slideshow": {
     "slide_type": "subslide"
    }
   },
   "source": [
    "这个语句在程序调试时经常使用，下面的代码定义了一个除法函数："
   ]
  },
  {
   "cell_type": "code",
   "execution_count": 30,
   "id": "0c46c52b",
   "metadata": {
    "slideshow": {
     "slide_type": "fragment"
    }
   },
   "outputs": [
    {
     "name": "stdout",
     "output_type": "stream",
     "text": [
      "x2 should not be zero\n"
     ]
    }
   ],
   "source": [
    "def devide(x1, x2):\n",
    "    try:\n",
    "        z = x1 / x2\n",
    "        print(z)\n",
    "    except ZeroDivisionError:  # ZeroDivisionError 表示试图除以零时发生的错误\n",
    "        print(\"x2 should not be zero\")\n",
    "\n",
    "\n",
    "devide(5, 0)"
   ]
  },
  {
   "cell_type": "markdown",
   "id": "efb88ae4",
   "metadata": {
    "slideshow": {
     "slide_type": "fragment"
    }
   },
   "source": [
    "上面的代码中，若 x1 能除以 x2，则输出除法结果，否则提示 x2 不能为零。"
   ]
  },
  {
   "cell_type": "markdown",
   "id": "319a274d",
   "metadata": {
    "slideshow": {
     "slide_type": "subslide"
    }
   },
   "source": [
    "Python 还有一个关键字``pass``，不执行任何命令。一般用做占位语句，在程序调试时可以使用。"
   ]
  },
  {
   "cell_type": "code",
   "execution_count": 2,
   "id": "7c9ab10f",
   "metadata": {
    "slideshow": {
     "slide_type": "fragment"
    }
   },
   "outputs": [],
   "source": [
    "def devide(x1, x2):\n",
    "    try:\n",
    "        z = x1 / x2\n",
    "        print(z)\n",
    "    except:\n",
    "        pass\n",
    "\n",
    "\n",
    "devide(5, 0)"
   ]
  },
  {
   "cell_type": "markdown",
   "id": "be9e7c2c",
   "metadata": {
    "slideshow": {
     "slide_type": "fragment"
    }
   },
   "source": [
    "上面的代码中，若 x1 能除以 x2，则输出除法结果，否则程序不输出任何结果。"
   ]
  },
  {
   "cell_type": "markdown",
   "id": "6045f2d6",
   "metadata": {},
   "source": [
    "常见的异常类型还有："
   ]
  },
  {
   "cell_type": "markdown",
   "id": "74c10d50",
   "metadata": {},
   "source": [
    "|异常类型|描述|\n",
    "|--|--|\n",
    "|AttributeError|访问对象不存在的属性或方法|\n",
    "|IndexError|访问超出列表范围的索引|\n",
    "|SyntaxError|语法错误|\n",
    "|NameError|访问未定义的变量或函数时发生的错误|\n",
    "|TypeError|调用函数时，传递参数的类型错误|\n",
    "|ModuleNotFoundError|导入不存在的模块或找不到模块|\n",
    "|ValueError|函数参数的数据类型正确，但值不符合要求|"
   ]
  },
  {
   "cell_type": "markdown",
   "id": "a4267886-7bd2-48f7-a66f-9070d388863a",
   "metadata": {
    "slideshow": {
     "slide_type": "subslide"
    }
   },
   "source": [
    "## lambda, map, filter, reduce 函数\n",
    "<hr>\n",
    "\n",
    "Python 使用``lambda``来创建匿名函数。所谓匿名，即不再使用 def 语句这样标准的形式定义一个函数。**lambda 函数只有一行**，用一个冒号分割传递参数与函数的返回值。非常简洁，在 Pandas 处理数据时经常结合 apply 函数使用。"
   ]
  },
  {
   "cell_type": "markdown",
   "id": "34685e87-37d3-4dda-98e8-979cadf1e81e",
   "metadata": {
    "slideshow": {
     "slide_type": "fragment"
    }
   },
   "source": [
    "<table>   \n",
    "    <tr style=\"border-top:solid; border-bottom:solid\">\n",
    "            <th style=\"text-align:center\">lambda 函数的一般用法</th>\n",
    "    </tr>\n",
    "    <tr style=\"border-bottom:solid\">\n",
    "        <td style=\"text-align:left\"><函数名> = lambda <参数列表>: <表达式></td>\n",
    "    </tr>    \n",
    "</table>\n",
    "<br />"
   ]
  },
  {
   "cell_type": "code",
   "execution_count": 23,
   "id": "34b07600",
   "metadata": {
    "slideshow": {
     "slide_type": "subslide"
    }
   },
   "outputs": [
    {
     "name": "stdout",
     "output_type": "stream",
     "text": [
      "16\n"
     ]
    }
   ],
   "source": [
    "add = lambda x1, x2: x1 + x2\n",
    "print(add(10, 6))"
   ]
  },
  {
   "cell_type": "markdown",
   "id": "6397b0e3-52d6-4874-905d-a59847ce7671",
   "metadata": {
    "slideshow": {
     "slide_type": "subslide"
    }
   },
   "source": [
    "也可以结合 if-else 语句定义 lambda 函数。"
   ]
  },
  {
   "cell_type": "code",
   "execution_count": 1,
   "id": "bacf8b93",
   "metadata": {
    "slideshow": {
     "slide_type": "fragment"
    }
   },
   "outputs": [
    {
     "name": "stdout",
     "output_type": "stream",
     "text": [
      "20\n"
     ]
    }
   ],
   "source": [
    "Max = lambda a, b: a if a > b else b\n",
    "print(Max(12, 20))"
   ]
  },
  {
   "cell_type": "markdown",
   "id": "826ec7fa-a633-412f-9cc5-566f413fed76",
   "metadata": {},
   "source": [
    "``map(fun, iter)`` 对每一个可迭代对象 iter 中的元素应用 fun 函数，并返回一个 map 类型的可迭代对象。fun 函数既可以使用 lambda 匿名函数，也可以用 def 自定义一个函数。"
   ]
  },
  {
   "cell_type": "code",
   "execution_count": 25,
   "id": "32c20730",
   "metadata": {},
   "outputs": [
    {
     "data": {
      "text/plain": [
       "<map at 0x7fcc1803d6c0>"
      ]
     },
     "execution_count": 25,
     "metadata": {},
     "output_type": "execute_result"
    }
   ],
   "source": [
    "a = [1, 2, 3]\n",
    "b = map(lambda x: x**2, a)  # 对 a 中每个元素平方\n",
    "b"
   ]
  },
  {
   "cell_type": "markdown",
   "id": "d11db270-dbde-4a44-93ac-dc9a0ba4dc4a",
   "metadata": {},
   "source": [
    "可以用``list()``函数将这个可迭代对象转化为 list 类型："
   ]
  },
  {
   "cell_type": "code",
   "execution_count": 26,
   "id": "04fd0c15",
   "metadata": {},
   "outputs": [
    {
     "data": {
      "text/plain": [
       "[1, 4, 9]"
      ]
     },
     "execution_count": 26,
     "metadata": {},
     "output_type": "execute_result"
    }
   ],
   "source": [
    "list(b)"
   ]
  },
  {
   "cell_type": "markdown",
   "id": "b33b231e-cd7c-4c84-bad7-a473a85d8940",
   "metadata": {},
   "source": [
    "``filter(fun, iter)`` 对可迭代对象 iter 中的每一个元素应用判断函数 fun 过滤，并返回一个 filter 类型的可迭代对象。"
   ]
  },
  {
   "cell_type": "code",
   "execution_count": 27,
   "id": "08bd6a78",
   "metadata": {},
   "outputs": [
    {
     "data": {
      "text/plain": [
       "[2, 3]"
      ]
     },
     "execution_count": 27,
     "metadata": {},
     "output_type": "execute_result"
    }
   ],
   "source": [
    "a = [1, 2, 3]\n",
    "b = filter(lambda x: x >= 2, a)  # 将大于等于 2 的元素过滤出来\n",
    "list(b)"
   ]
  },
  {
   "cell_type": "markdown",
   "id": "376d1e51-c717-4f48-be0c-43b53163808c",
   "metadata": {},
   "source": [
    "``reduce(fun, iter)``首先对可迭代对象 iter 中的前两个元素应用函数 fun，然后将其结果作为 fun 的第一个输入值，再对第 3 个元素应用 fun 函数；以此类推，最后返回一个数。使用 reduce 函数需要从工具包 functools 中提前导入。"
   ]
  },
  {
   "cell_type": "code",
   "execution_count": 28,
   "id": "52b472d9",
   "metadata": {},
   "outputs": [
    {
     "data": {
      "text/plain": [
       "10"
      ]
     },
     "execution_count": 28,
     "metadata": {},
     "output_type": "execute_result"
    }
   ],
   "source": [
    "from functools import reduce  # 从工具包 functools 中导入 reduce\n",
    "\n",
    "a = [1, 2, 3, 4]\n",
    "b = reduce(lambda x1, x2: x1 + x2, a)  # 求和\n",
    "b"
   ]
  },
  {
   "cell_type": "markdown",
   "id": "6b80d293-9726-4353-8fa6-1fbc5ccea4d2",
   "metadata": {},
   "source": [
    "``reduce``也可以跟 3 个参数，即``reduce(fun, iter, start=None)``。此时，首先对一个初始值 start 与可迭代对象 iter 中的第一个元素应用函数 fun，然后将其结果作为 fun 的第一个输入值，再对第 2 个元素应用 fun 函数；以此类推，最后返回一个数。"
   ]
  },
  {
   "cell_type": "code",
   "execution_count": 29,
   "id": "564e8e47",
   "metadata": {
    "scrolled": true
   },
   "outputs": [
    {
     "data": {
      "text/plain": [
       "20"
      ]
     },
     "execution_count": 29,
     "metadata": {},
     "output_type": "execute_result"
    }
   ],
   "source": [
    "a = [1, 2, 3, 4]\n",
    "b = reduce(lambda x1, x2: x1 + x2, a, 10)  # 求和，起始值为 10\n",
    "b"
   ]
  },
  {
   "cell_type": "markdown",
   "id": "d4c8e20d",
   "metadata": {},
   "source": [
    "## import other modules*\n",
    "<hr>"
   ]
  },
  {
   "cell_type": "markdown",
   "id": "3689771b",
   "metadata": {},
   "source": [
    "Python 编程中，每个以 .py 为后缀的文件被称作模块（module）。很多时候，我们需要导入其他模块中的函数，\n",
    "\n",
    "在 Python 中导入其他文件夹中的模块时，有几个规则和方法可供使用。主要涉及 Python 的**模块搜索路径（sys.path**），以及如何使用**相对导入**和**绝对导入**。"
   ]
  },
  {
   "cell_type": "markdown",
   "id": "e27e7039",
   "metadata": {},
   "source": [
    "### Python 如何查找模块\n",
    "<hr>"
   ]
  },
  {
   "cell_type": "markdown",
   "id": "2bc26758",
   "metadata": {},
   "source": [
    "1. **当前目录**（脚本所在的文件夹）。\n",
    "2. **`sys.path` 中的目录**：\n",
    "   - `PYTHONPATH` 环境变量中的路径。\n",
    "   - Python 安装目录中的标准库路径。\n",
    "   - `site-packages` 目录（安装的第三方库）。"
   ]
  },
  {
   "cell_type": "markdown",
   "id": "34e1e179",
   "metadata": {},
   "source": [
    "你可以运行以下代码查看 Python sys.path中的路径目录："
   ]
  },
  {
   "cell_type": "code",
   "execution_count": 3,
   "id": "59d5952d",
   "metadata": {
    "scrolled": true
   },
   "outputs": [
    {
     "name": "stdout",
     "output_type": "stream",
     "text": [
      "['/Users/zhenchen/Documents/book-Python-Data-Science/data-science', '/Users/yourname/projects', '/Users/zhenchen/Documents/book-Python-Data-Science/data-science', '/Users/zhenchen/anaconda3/lib/python310.zip', '/Users/zhenchen/anaconda3/lib/python3.10', '/Users/zhenchen/anaconda3/lib/python3.10/lib-dynload', '', '/Users/zhenchen/.local/lib/python3.10/site-packages', '/Users/zhenchen/anaconda3/lib/python3.10/site-packages']\n"
     ]
    }
   ],
   "source": [
    "import sys\n",
    "\n",
    "print(sys.path)"
   ]
  },
  {
   "cell_type": "markdown",
   "id": "e7d0cfa7",
   "metadata": {},
   "source": [
    "### 同级模块导入或同级文件夹下的模块导入\n",
    "<hr>"
   ]
  },
  {
   "cell_type": "markdown",
   "id": "2dbddad8",
   "metadata": {},
   "source": [
    "若导入模块是当前模块的同级文件，即二者在一个父目录下，例如：\n",
    "\n",
    "**目录结构**\n",
    "```\n",
    "project_root/\n",
    "│── main.py\n",
    "│── my_module.py\n",
    "```"
   ]
  },
  {
   "cell_type": "markdown",
   "id": "8aa01478",
   "metadata": {},
   "source": [
    "我们在 main.py 文件中想导入 my_module.py 模块，可以："
   ]
  },
  {
   "cell_type": "markdown",
   "id": "ebb8e491",
   "metadata": {},
   "source": [
    "```{code} python\n",
    "import my_module\n",
    "```"
   ]
  },
  {
   "cell_type": "markdown",
   "id": "06efc65f",
   "metadata": {},
   "source": [
    "若具体想导入 my_module.py 模块中的某个函数或类 foo()，可以"
   ]
  },
  {
   "cell_type": "markdown",
   "id": "3304c152",
   "metadata": {},
   "source": [
    "```{code} python\n",
    "from my_module import foo\n",
    "```"
   ]
  },
  {
   "cell_type": "markdown",
   "id": "63369fcd",
   "metadata": {},
   "source": [
    "若导入模块在与当前模块同级的文件夹下，例如：\n",
    "\n",
    "**目录结构**\n",
    "```\n",
    "project_root/\n",
    "│── main.py\n",
    "│── folder1/\n",
    "│    │── my_module.py\n",
    "```"
   ]
  },
  {
   "cell_type": "markdown",
   "id": "a91bd9a1",
   "metadata": {},
   "source": [
    "我们在 main.py 文件中想导入 folder1 文件夹下的 my_module.py 模块，可以："
   ]
  },
  {
   "cell_type": "markdown",
   "id": "56c5f968",
   "metadata": {},
   "source": [
    "```{code} python\n",
    "from folder1.my_module import foo\n",
    "```"
   ]
  },
  {
   "cell_type": "markdown",
   "id": "95166103",
   "metadata": {},
   "source": [
    "### 与父文件夹同级的模块导入\n",
    "<hr>"
   ]
  },
  {
   "cell_type": "markdown",
   "id": "aeabcafd",
   "metadata": {},
   "source": [
    "若导入模块在与当前模块父文件夹同级，例如：\n",
    "\n",
    "**目录结构1**\n",
    "```\n",
    "project_root/\n",
    "│── my_module.py\n",
    "│── folder1/\n",
    "│    │── main.py\n",
    "```\n",
    "\n",
    "或者：\n",
    "\n",
    "**目录结构2**\n",
    "```\n",
    "project_root/\n",
    "│── folder2\n",
    "│    │── my_module.py\n",
    "│── folder1/\n",
    "│    │── main.py\n",
    "```\n"
   ]
  },
  {
   "cell_type": "markdown",
   "id": "a51dc665",
   "metadata": {},
   "source": [
    "在 main.py 文件中想导入与父文件夹同级的 my_module.py 模块，可以通过将父文件夹路径添加到 sys.path 中去的方式："
   ]
  },
  {
   "cell_type": "markdown",
   "id": "26963721",
   "metadata": {},
   "source": [
    "```{code} python\n",
    "import sys\n",
    "import os\n",
    "\n",
    "# 获取 `parent_directory` 路径\n",
    "parent_dir = os.path.abspath(os.path.join(os.getcwd(), \"..\"))  # .. represents the parent directory\n",
    "sys.path.insert(0, parent_dir)  # 插入 `parent_directory` 到 sys.path\n",
    "```"
   ]
  },
  {
   "cell_type": "markdown",
   "id": "71b41be2",
   "metadata": {},
   "source": [
    "现在可以正确导入 my_module.py"
   ]
  },
  {
   "cell_type": "markdown",
   "id": "424b404f",
   "metadata": {},
   "source": [
    "- 若为目录结构1： import my_module \n",
    "- 若为目录结构2:&nbsp;&nbsp;  from folder2 import my_module"
   ]
  },
  {
   "cell_type": "markdown",
   "id": "3071eacb",
   "metadata": {},
   "source": [
    "```{note}\n",
    "Pycharm 会自动把整个项目文件夹的根目录加入到 sys.path 中，因此在 Pycharm 中，都可按照跟目录下的模块导入\n",
    "```"
   ]
  },
  {
   "cell_type": "markdown",
   "id": "e622a61e",
   "metadata": {},
   "source": [
    "例如，在 Pycharm 中，对于目录结构2，可以直接按下面代码导入模块，而不用通过 sys.path 添加父文件夹路径。"
   ]
  },
  {
   "cell_type": "markdown",
   "id": "1decd51e",
   "metadata": {},
   "source": [
    "```{code} python\n",
    "from folder2 import my_module\n",
    "```"
   ]
  },
  {
   "cell_type": "markdown",
   "id": "8ef9771c",
   "metadata": {},
   "source": [
    "### 使用 `sys.path.append()`\n",
    "<hr>\n"
   ]
  },
  {
   "cell_type": "markdown",
   "id": "aedb1bdd",
   "metadata": {},
   "source": [
    "如果你的模块所在路径比较复杂，你可以使用以下方法 `sys.path.append()`添加导入模块的具体路径。"
   ]
  },
  {
   "cell_type": "markdown",
   "id": "4c266e6d",
   "metadata": {},
   "source": [
    "例如，如果你想导入 `other_folder/module.py`，其中，\"other_folder\" 为文件夹在电脑硬盘中的详细地址。可以在代码中手动添加路径："
   ]
  },
  {
   "cell_type": "markdown",
   "id": "43edfc28",
   "metadata": {},
   "source": [
    "```{code} python3\n",
    "import sys\n",
    "import os\n",
    "\n",
    "sys.path.append(os.path.abspath(\"other_folder\"))  # 临时将路径添加到 sys.path\n",
    "import module  # 现在可以正常导入\n",
    "```"
   ]
  },
  {
   "cell_type": "markdown",
   "id": "4cf2f1ff",
   "metadata": {},
   "source": [
    "## 练习\n",
    "<hr>"
   ]
  },
  {
   "cell_type": "markdown",
   "id": "cd5be3a7-f831-4690-a5da-bd59e3abab73",
   "metadata": {},
   "source": [
    "```{exercise}\n",
    ":label: abs\n",
    "Which function will you use to find the absolute value of a number in Python?\n",
    "\n",
    "A.&nbsp;&nbsp;  fabs()\n",
    "\n",
    "B.&nbsp;&nbsp;  absolute()\n",
    "\n",
    "C.&nbsp;&nbsp;  abs()\n",
    "\n",
    "D.&nbsp;&nbsp;  all()\n",
    "```"
   ]
  },
  {
   "cell_type": "markdown",
   "id": "26677790-be32-42fb-9f8f-f72a6a3183e1",
   "metadata": {},
   "source": [
    "````{solution} abs\n",
    ":class: dropdown\n",
    "C\n",
    "````"
   ]
  },
  {
   "cell_type": "markdown",
   "id": "11b74c64-8f88-4d92-b4e7-878ca56e95f9",
   "metadata": {},
   "source": [
    "```{exercise-start}\n",
    ":label: global-variable\n",
    "```\n",
    "What is the output of the following code?\n",
    "```python\n",
    "x = 'awesome'\n",
    "def fun():\n",
    "  x = 'fantastic'\n",
    "    \n",
    "fun()\n",
    "print('Python is ' + x)\n",
    "```\n",
    "\n",
    "A.&nbsp;&nbsp;  Python is x\n",
    "\n",
    "B.&nbsp;&nbsp;  Python is fun\n",
    "\n",
    "C.&nbsp;&nbsp;  Python is fantasic\n",
    "\n",
    "D.&nbsp;&nbsp;  Python is awesome\n",
    "```{exercise-end}\n",
    "```\n"
   ]
  },
  {
   "cell_type": "markdown",
   "id": "8eef64f9-6a3e-4fd5-a0f6-a6090a60d305",
   "metadata": {},
   "source": [
    "````{solution} global-variable\n",
    ":class: dropdown\n",
    "D\n",
    "````"
   ]
  },
  {
   "cell_type": "markdown",
   "id": "805cb329-277c-49ca-b778-55ddbcd5c3cd",
   "metadata": {},
   "source": [
    "```{exercise-start}\n",
    ":label: global-variable2\n",
    "```\n",
    "What is the output of the following code?\n",
    "```python\n",
    "x = 'awesome'\n",
    "def fun():\n",
    "    global x\n",
    "    x = 'fantastic'\n",
    "    \n",
    "fun()\n",
    "print('Python is ' + x)\n",
    "```\n",
    "\n",
    "A.&nbsp;&nbsp;  Python is x\n",
    "\n",
    "B.&nbsp;&nbsp;  Python is fun\n",
    "\n",
    "C.&nbsp;&nbsp;  Python is fantasic\n",
    "\n",
    "D.&nbsp;&nbsp;  Python is awesome\n",
    "```{exercise-end}\n",
    "```\n"
   ]
  },
  {
   "cell_type": "markdown",
   "id": "532bcb15-3179-4ead-95c8-86fdbe6ec7df",
   "metadata": {},
   "source": [
    "````{solution} global-variable2\n",
    ":class: dropdown\n",
    "C\n",
    "````"
   ]
  },
  {
   "cell_type": "markdown",
   "id": "32359427",
   "metadata": {},
   "source": [
    "```{exercise}\n",
    ":label: judge-leap-year\n",
    "判断用户输入的年份是否为闰年。\n",
    "```"
   ]
  },
  {
   "cell_type": "markdown",
   "id": "a8f0c9e6",
   "metadata": {},
   "source": [
    "````{solution} judge-leap-year\n",
    ":class: dropdown\n",
    "\n",
    "```{code-block} python\n",
    "year = int(input(\"输入一个年份: \"))\n",
    "if (year % 4) == 0:\n",
    "    if (year % 100) == 0:\n",
    "        if (year % 400) == 0:\n",
    "            print(\"{0} 是闰年\".format(year))  # 整百年能被400整除的是闰年\n",
    "        else:\n",
    "            print(\"{0} 不是闰年\".format(year))\n",
    "    else:\n",
    "        print(\"{0} 是闰年\".format(year))  # 非整百年能被4整除的为闰年\n",
    "else:\n",
    "    print(\"{0} 不是闰年\".format(year))\n",
    "```\n",
    "````"
   ]
  },
  {
   "cell_type": "markdown",
   "id": "c300cb4b-2f94-4755-896e-a78642eea9f0",
   "metadata": {},
   "source": [
    "```{exercise}\n",
    ":label: circle-area\n",
    "根据给定的半径值，计算圆的面积\n",
    "```"
   ]
  },
  {
   "cell_type": "markdown",
   "id": "ce96cad5-d4eb-4ab7-a9c2-b5ce16ec6071",
   "metadata": {},
   "source": [
    "````{solution} circle-area\n",
    ":class: dropdown\n",
    "```{code-block} python\n",
    "import math\n",
    "\n",
    "r = 10\n",
    "area = math.pi * r**2\n",
    "print(\"圆的面积为 %.6f\" % area)\n",
    "```\n",
    "````"
   ]
  },
  {
   "cell_type": "markdown",
   "id": "d7f49e6b-d34e-450a-b4a5-1d7a4338602e",
   "metadata": {},
   "source": [
    "```{exercise}\n",
    ":label: quad-equation\n",
    "通过用户输入数字 a, b, c，计算二次方程: $ax^2 + bx +c$。\n",
    "(提示：cmath 工具包可以计算负数的开方)\n",
    "```"
   ]
  },
  {
   "cell_type": "markdown",
   "id": "36570907-36af-4fd1-be8d-701d4bcbd590",
   "metadata": {},
   "source": [
    "````{solution} quad-equation\n",
    ":class: dropdown\n",
    "```{code-block} python\n",
    "# 导入 cmath(复杂数学运算) 模块\n",
    "import cmath\n",
    "\n",
    "a = float(input(\"输入 a: \"))\n",
    "b = float(input(\"输入 b: \"))\n",
    "c = float(input(\"输入 c: \"))\n",
    "\n",
    "# 计算\n",
    "d = (b**2) - (4 * a * c)\n",
    "\n",
    "# 两种求解方式\n",
    "sol1 = (-b - cmath.sqrt(d)) / (2 * a)\n",
    "sol2 = (-b + cmath.sqrt(d)) / (2 * a)\n",
    "\n",
    "print(\"结果为 {0} 和 {1}\".format(sol1, sol2))\n",
    "```\n",
    "````"
   ]
  },
  {
   "cell_type": "markdown",
   "id": "1ca3df6a-575d-43f4-b342-1f67be801042",
   "metadata": {},
   "source": [
    "```{exercise}\n",
    ":label: triangle-area\n",
    "通过用户输入三角形三边长度，并计算三角形的面积。\n",
    "```"
   ]
  },
  {
   "cell_type": "markdown",
   "id": "3193c2ac-9b34-48e3-8963-ea3968ba39dd",
   "metadata": {},
   "source": [
    "````{solution} triangle-area\n",
    ":class: dropdown\n",
    "```{code-block} python\n",
    "# 导入 cmath(复杂数学运算) 模块\n",
    "a = float(input(\"输入三角形第一边长: \"))\n",
    "b = float(input(\"输入三角形第二边长: \"))\n",
    "c = float(input(\"输入三角形第三边长: \"))\n",
    "\n",
    "# 计算半周长\n",
    "s = (a + b + c) / 2\n",
    "\n",
    "# 计算面积\n",
    "area = (s * (s - a) * (s - b) * (s - c)) ** 0.5\n",
    "print(\"三角形面积为 %0.2f\" % area)\n",
    "```\n",
    "````"
   ]
  },
  {
   "cell_type": "markdown",
   "id": "f47c8604-c37e-45db-abaf-f66832763295",
   "metadata": {},
   "source": [
    "```{exercise}\n",
    ":label: dict-values\n",
    "Define a dict with all the values are numeric and compute the sum of all the values.\n",
    "```"
   ]
  },
  {
   "cell_type": "markdown",
   "id": "7b2666fb-79d9-4a9d-9379-8e22ec326f96",
   "metadata": {},
   "source": [
    "````{solution} dict-values\n",
    ":class: dropdown\n",
    "```{code-block} python\n",
    "def dictSum(myDict):      \n",
    "    sum = 0\n",
    "    for i in myDict: \n",
    "        sum = sum + myDict[i]      \n",
    "    return sum\n",
    "  \n",
    "dict = {'a': 100, 'b':200, 'c':300} \n",
    "print(\"Sum :\", returnSum(dict))\n",
    "```\n",
    "````"
   ]
  },
  {
   "cell_type": "markdown",
   "id": "df88261e",
   "metadata": {},
   "source": [
    "```{exercise}\n",
    ":label: print-multiplication-table\n",
    "编写一个程序，打印出九九乘法表。\n",
    "```"
   ]
  },
  {
   "cell_type": "markdown",
   "id": "7ec84120",
   "metadata": {},
   "source": [
    "````{solution} print-multiplication-table\n",
    ":class: dropdown\n",
    "\n",
    "```{code-block} python\n",
    "for i in range(1, 10):\n",
    "    for j in range(1, i + 1):\n",
    "        print('{}*{}={}\\t'.format(j, i, i*j), end='')\n",
    "    print()\n",
    "```\n",
    "````"
   ]
  },
  {
   "cell_type": "markdown",
   "id": "e23a0cf3",
   "metadata": {},
   "source": [
    "```{exercise}\n",
    ":label: sum-cub\n",
    "自定义一个函数，给定数值 $n$，能够计算 从 1 到 $n$ 所有自然数的立方和。\n",
    "```"
   ]
  },
  {
   "cell_type": "markdown",
   "id": "466fe7da",
   "metadata": {},
   "source": [
    "````{solution} sum-cub\n",
    ":class: dropdown\n",
    "\n",
    "```{code-block} python\n",
    "def sumOfCube(n):\n",
    "    sum = 0\n",
    "    for i in range(1, n+1):\n",
    "        sum += i * i *i       \n",
    "    return sum\n",
    " \n",
    "   \n",
    "# 调用函数\n",
    "n = 10\n",
    "print(sumOfCube(n))\n",
    "```\n",
    "````"
   ]
  },
  {
   "cell_type": "markdown",
   "id": "909f4184",
   "metadata": {},
   "source": [
    "```{exercise}\n",
    ":label: great-common-devisor\n",
    "从键盘输入两个整数，编写一个程序可以求出这两个整数的最大公约数。\n",
    "```"
   ]
  },
  {
   "cell_type": "markdown",
   "id": "28228ac1",
   "metadata": {},
   "source": [
    "````{solution} great-common-devisor\n",
    ":class: dropdown\n",
    "\n",
    "```{code-block} python\n",
    "# 定义一个函数\n",
    "def gcd(x, y):\n",
    "    gcd = 1  # 初始值为 1\n",
    "\n",
    "    # 获取两个数的最小值\n",
    "    if x > y:\n",
    "        smaller = y\n",
    "    else:\n",
    "        smaller = x\n",
    "\n",
    "    for i in range(1, smaller + 1):\n",
    "        if (x % i == 0) and (y % i == 0):\n",
    "            gcd = i\n",
    "\n",
    "    return gcd\n",
    "\n",
    "\n",
    "# 用户输入两个数字\n",
    "num1 = int(input(\"输入第一个数字: \"))\n",
    "num2 = int(input(\"输入第二个数字: \"))\n",
    "\n",
    "print(num1, \"和\", num2, \"的最大公约数为\", gcd(num1, num2))\n",
    "```\n",
    "````"
   ]
  },
  {
   "cell_type": "markdown",
   "id": "0ceb65f0",
   "metadata": {},
   "source": [
    "```{exercise}\n",
    ":label: fib-sequence\n",
    "输出指定数目的斐波那契数列。\n",
    "```"
   ]
  },
  {
   "cell_type": "markdown",
   "id": "e23d7b48",
   "metadata": {},
   "source": [
    "````{solution} fib-sequence\n",
    ":class: dropdown\n",
    "\n",
    "```{code-block} python\n",
    "# 获取用户输入数据\n",
    "nterms = int(input(\"the number of sequence:\"))\n",
    "\n",
    "# 第一和第二项\n",
    "n1 = 0\n",
    "n2 = 1\n",
    "count = 2\n",
    "\n",
    "# 判断输入的值是否合法\n",
    "if nterms <= 0:\n",
    "    print(\"please input a positive value\")\n",
    "elif nterms == 1:\n",
    "    print(\"斐波那契数列：\")\n",
    "    print(n1)\n",
    "else:\n",
    "    print(\"斐波那契数列：\")\n",
    "    print(n1, end=\", \")\n",
    "    print(n2, end=\", \")\n",
    "    while count < nterms - 1:\n",
    "        nth = n1 + n2\n",
    "        print(nth, end=\", \")\n",
    "\n",
    "        # 更新值\n",
    "        n1 = n2\n",
    "        n2 = nth\n",
    "        count += 1\n",
    "nth = n1 + n2\n",
    "print(nth)\n",
    "```\n",
    "````"
   ]
  },
  {
   "cell_type": "markdown",
   "id": "ffb62240",
   "metadata": {},
   "source": [
    "````{solution} fib-sequence\n",
    ":class: dropdown\n",
    "\n",
    "```{code-block} python\n",
    "def recur_fibo(n):\n",
    "    \"\"\"\n",
    "    递归函数\n",
    "    输出斐波那契数列\n",
    "    \"\"\"\n",
    "    if n <= 1:\n",
    "        return n\n",
    "    else:\n",
    "        return recur_fibo(n - 1) + recur_fibo(n - 2)\n",
    "\n",
    "\n",
    "# 获取用户输入\n",
    "nterms = int(input(\"您要输出几项? \"))\n",
    "\n",
    "# 检查输入的数字是否正确\n",
    "if nterms <= 0:\n",
    "    print(\"输入正数\")\n",
    "else:\n",
    "    print(\"斐波那契数列:\")\n",
    "    for i in range(nterms):\n",
    "        print(recur_fibo(i))\n",
    "```\n",
    "````"
   ]
  },
  {
   "cell_type": "markdown",
   "id": "0c85f0f1",
   "metadata": {},
   "source": [
    "```{exercise}\n",
    ":label: range-prime-numbers\n",
    "输出指定范围内的素数。\n",
    "```"
   ]
  },
  {
   "cell_type": "markdown",
   "id": "2325c0df",
   "metadata": {},
   "source": [
    "````{solution} range-prime-numbers\n",
    ":class: dropdown\n",
    "\n",
    "```{code-block} python\n",
    "# take input from the user\n",
    "lower = int(input(\"输入区间最小值: \"))\n",
    "upper = int(input(\"输入区间最大值: \"))\n",
    " \n",
    "for num in range(lower, upper + 1):\n",
    "    # 素数大于 1\n",
    "    if num > 1:\n",
    "        for i in range(2,num):\n",
    "            if (num % i) == 0:\n",
    "                break\n",
    "        else:\n",
    "            print(num)\n",
    "```\n",
    "````"
   ]
  },
  {
   "cell_type": "markdown",
   "id": "4bf20ade",
   "metadata": {},
   "source": [
    "```{exercise}\n",
    ":label: get-date\n",
    "编写一个程序，能够得到昨天的日期。（提示：使用 datatime 库）\n",
    "```"
   ]
  },
  {
   "cell_type": "markdown",
   "id": "975cb95d",
   "metadata": {},
   "source": [
    "````{solution} range-prime-numbers\n",
    ":class: dropdown\n",
    "\n",
    "```{code-block} python\n",
    "import datetime\n",
    "\n",
    "\n",
    "def getYesterday(): \n",
    "    today = datetime.date.today() \n",
    "    oneday = datetime.timedelta(days = 1) \n",
    "    yesterday = today - oneday  \n",
    "    return yesterday\n",
    "\n",
    " \n",
    "# 输出\n",
    "print(getYesterday())\n",
    "```\n",
    "````"
   ]
  },
  {
   "cell_type": "markdown",
   "id": "24b68974",
   "metadata": {},
   "source": [
    "```{exercise}\n",
    ":label: second-watch\n",
    "编写一个程序，实现秒表功能。（提示：使用 time 库）\n",
    "```"
   ]
  },
  {
   "cell_type": "markdown",
   "id": "d238f15c",
   "metadata": {},
   "source": [
    "````{solution} second-watch\n",
    ":class: dropdown\n",
    "\n",
    "```{code-block} python\n",
    "import time\n",
    "\n",
    "\n",
    "print(\"按下回车开始计时，按下任意键停止计时。\")\n",
    "while True:\n",
    "    input(\"\")\n",
    "    starttime = time.time()\n",
    "    print(\"开始\")\n",
    "    try:\n",
    "        while True:\n",
    "            print(\"计时: \", round(time.time() - starttime, 0), \"s\")\n",
    "            time.sleep(1)\n",
    "    except KeyboardInterrupt:\n",
    "        print(\"结束\")\n",
    "        endtime = time.time()\n",
    "        print(\"总共的时间为:\", round(endtime - starttime, 2), \"s\")\n",
    "        break\n",
    "```\n",
    "````"
   ]
  },
  {
   "cell_type": "markdown",
   "id": "473cc989",
   "metadata": {},
   "source": [
    "<script src=\"https://giscus.app/client.js\"\n",
    "        data-repo=\"robinchen121/book-Python-Data-Science\"\n",
    "        data-repo-id=\"R_kgDOKFdyOw\"\n",
    "        data-category=\"Announcements\"\n",
    "        data-category-id=\"DIC_kwDOKFdyO84CgWHi\"\n",
    "        data-mapping=\"pathname\"\n",
    "        data-strict=\"0\"\n",
    "        data-reactions-enabled=\"1\"\n",
    "        data-emit-metadata=\"0\"\n",
    "        data-input-position=\"bottom\"\n",
    "        data-theme=\"light\"\n",
    "        data-lang=\"en\"\n",
    "        crossorigin=\"anonymous\"\n",
    "        async>\n",
    "</script>"
   ]
  },
  {
   "cell_type": "markdown",
   "id": "eb8f6e51",
   "metadata": {},
   "source": [
    "<!-- Toogle google translation -->\n",
    "<div id=\"google_translate_element\"></div>\n",
    "<script type=\"text/javascript\">\n",
    "      function googleTranslateElementInit() {\n",
    "        new google.translate.TranslateElement({ pageLanguage: 'en',\n",
    "                  includedLanguages: 'en,zh-CN,zh-TW,ja,ko,de,ru,fr,es,it,pt,hi,ar,fa',\n",
    "layout: google.translate.TranslateElement.InlineLayout.SIMPLE }, 'google_translate_element');\n",
    "      }\n",
    "</script>\n",
    "<script type=\"text/javascript\"\n",
    "      src=\"https://translate.google.com/translate_a/element.js?cb=googleTranslateElementInit\"\n",
    "></script>\n",
    "<br>"
   ]
  }
 ],
 "metadata": {
  "kernelspec": {
   "display_name": "Python [conda env:base] *",
   "language": "python",
   "name": "conda-base-py"
  },
  "language_info": {
   "codemirror_mode": {
    "name": "ipython",
    "version": 3
   },
   "file_extension": ".py",
   "mimetype": "text/x-python",
   "name": "python",
   "nbconvert_exporter": "python",
   "pygments_lexer": "ipython3",
   "version": "3.12.7"
  }
 },
 "nbformat": 4,
 "nbformat_minor": 5
}
