{
 "cells": [
  {
   "cell_type": "markdown",
   "id": "5c3fed12",
   "metadata": {
    "slideshow": {
     "slide_type": "slide"
    }
   },
   "source": [
    "#  Introduction to Pandas\n",
    "<hr>\n",
    "\n",
    "`Pandas` is one of the most important data analysis tools in Python for data processing. Built on NumPy, it offers many methods for handling large datasets and allows flexible, efficient data manipulation.\n",
    "\n",
    "The main data type used in pandas is the `DataFrame`, which is a two-dimensional structure similar to a table in Excel. To use pandas, you first need to import it. In fact, the name 'Pandas' is short for 'panel data'."
   ]
  },
  {
   "cell_type": "code",
   "execution_count": 360,
   "id": "b5a47fc7",
   "metadata": {
    "slideshow": {
     "slide_type": "fragment"
    }
   },
   "outputs": [],
   "source": [
    "import pandas as pd"
   ]
  },
  {
   "cell_type": "markdown",
   "id": "bc7645a5",
   "metadata": {
    "jp-MarkdownHeadingCollapsed": true,
    "slideshow": {
     "slide_type": "slide"
    }
   },
   "source": [
    "##  Creating, Reading, and Storing Data\n",
    "<hr>\n",
    "\n",
    "### Creating Data\n",
    "<hr>\n",
    "\n",
    "For example, consider the following data:\n",
    "    \n",
    " Name|Statistics |Accounting |Makerting\n",
    " |:--------:|:--------:|:--------:|:--------:|\n",
    " Jim | 85 | 82 | 84  \n",
    " Lily | 68 | 63 | 90 \n",
    " Jack | 90 | 88 | 78 |"
   ]
  },
  {
   "cell_type": "markdown",
   "id": "ffb8fdf2-be0f-408c-aa86-0d2e3b7335d5",
   "metadata": {},
   "source": [
    "In general, there are two ways to create a DataFrame.\n",
    "\n",
    "- Create the DataFrame by dictionaries `dict`.\n",
    "- Create the DataFrame by an `NumPy ndarray` and a parameter `columns`."
   ]
  },
  {
   "cell_type": "code",
   "execution_count": 361,
   "id": "87048d50",
   "metadata": {
    "ExecuteTime": {
     "end_time": "2025-02-24T13:00:20.555361Z",
     "start_time": "2025-02-24T13:00:19.401016Z"
    },
    "scrolled": true,
    "slideshow": {
     "slide_type": "fragment"
    }
   },
   "outputs": [
    {
     "name": "stdout",
     "output_type": "stream",
     "text": [
      "   Name  Statistics  Accounting  Marketing\n",
      "0   Jim          85          82         84\n",
      "1  Lily          68          63         90\n",
      "2  Jack          90          88         78\n"
     ]
    }
   ],
   "source": [
    "import pandas as pd\n",
    "\n",
    "df = pd.DataFrame(\n",
    "    {\n",
    "        \"Name\": [\"Jim\", \"Lily\", \"Jack\"],\n",
    "        \"Statistics\": [85, 68, 90],\n",
    "        \"Accounting\": [82, 63, 88],\n",
    "        \"Marketing\": [84, 90, 78],\n",
    "    }\n",
    ")\n",
    "print(df)"
   ]
  },
  {
   "cell_type": "code",
   "execution_count": 362,
   "id": "44cd5f3c-362d-46ef-af92-a10ef4d2218e",
   "metadata": {
    "scrolled": true
   },
   "outputs": [
    {
     "data": {
      "text/html": [
       "<div>\n",
       "<style scoped>\n",
       "    .dataframe tbody tr th:only-of-type {\n",
       "        vertical-align: middle;\n",
       "    }\n",
       "\n",
       "    .dataframe tbody tr th {\n",
       "        vertical-align: top;\n",
       "    }\n",
       "\n",
       "    .dataframe thead th {\n",
       "        text-align: right;\n",
       "    }\n",
       "</style>\n",
       "<table border=\"1\" class=\"dataframe\">\n",
       "  <thead>\n",
       "    <tr style=\"text-align: right;\">\n",
       "      <th></th>\n",
       "      <th>Name</th>\n",
       "      <th>Statistics</th>\n",
       "      <th>Accounting</th>\n",
       "      <th>Marketing</th>\n",
       "    </tr>\n",
       "  </thead>\n",
       "  <tbody>\n",
       "    <tr>\n",
       "      <th>0</th>\n",
       "      <td>Jim</td>\n",
       "      <td>85</td>\n",
       "      <td>82</td>\n",
       "      <td>84</td>\n",
       "    </tr>\n",
       "    <tr>\n",
       "      <th>1</th>\n",
       "      <td>Lily</td>\n",
       "      <td>68</td>\n",
       "      <td>63</td>\n",
       "      <td>90</td>\n",
       "    </tr>\n",
       "    <tr>\n",
       "      <th>2</th>\n",
       "      <td>Jack</td>\n",
       "      <td>90</td>\n",
       "      <td>88</td>\n",
       "      <td>78</td>\n",
       "    </tr>\n",
       "  </tbody>\n",
       "</table>\n",
       "</div>"
      ],
      "text/plain": [
       "   Name Statistics Accounting Marketing\n",
       "0   Jim         85         82        84\n",
       "1  Lily         68         63        90\n",
       "2  Jack         90         88        78"
      ]
     },
     "execution_count": 362,
     "metadata": {},
     "output_type": "execute_result"
    }
   ],
   "source": [
    "import pandas as pd\n",
    "import numpy as np\n",
    "\n",
    "data = np.array([[\"Jim\", 85, 82, 84],\n",
    "        [\"Lily\", 68, 63, 90],\n",
    "        [\"Jack\", 90, 88, 78]])\n",
    "df = pd.DataFrame(data, columns = [\"Name\", \"Statistics\", \"Accounting\", \"Marketing\"])\n",
    "df"
   ]
  },
  {
   "cell_type": "code",
   "execution_count": 363,
   "id": "80beb7e4-d6b8-4567-a8e8-afeed14802b7",
   "metadata": {},
   "outputs": [
    {
     "data": {
      "text/plain": [
       "0    82.0\n",
       "1    63.0\n",
       "2    88.0\n",
       "Name: Accounting, dtype: float64"
      ]
     },
     "execution_count": 363,
     "metadata": {},
     "output_type": "execute_result"
    }
   ],
   "source": [
    "df['Accounting'].astype(float)"
   ]
  },
  {
   "cell_type": "markdown",
   "id": "5cc08f82",
   "metadata": {
    "slideshow": {
     "slide_type": "fragment"
    }
   },
   "source": [
    "In the above outputs, the first row are column lables while the first column are row indices. We can visit them by ``columns`` and ``index``, respectively."
   ]
  },
  {
   "cell_type": "code",
   "execution_count": 364,
   "id": "9af127da",
   "metadata": {
    "slideshow": {
     "slide_type": "subslide"
    }
   },
   "outputs": [
    {
     "data": {
      "text/plain": [
       "Index(['Name', 'Statistics', 'Accounting', 'Marketing'], dtype='object')"
      ]
     },
     "execution_count": 364,
     "metadata": {},
     "output_type": "execute_result"
    }
   ],
   "source": [
    "df.columns"
   ]
  },
  {
   "cell_type": "code",
   "execution_count": 365,
   "id": "0d1c5911",
   "metadata": {
    "slideshow": {
     "slide_type": "fragment"
    }
   },
   "outputs": [
    {
     "data": {
      "text/plain": [
       "RangeIndex(start=0, stop=3, step=1)"
      ]
     },
     "execution_count": 365,
     "metadata": {},
     "output_type": "execute_result"
    }
   ],
   "source": [
    "df.index"
   ]
  },
  {
   "cell_type": "markdown",
   "id": "2ad4850f-f3ef-4425-874b-ec2e2cc6e644",
   "metadata": {},
   "source": [
    "- One column data of a DataFrame is called a `Series`."
   ]
  },
  {
   "cell_type": "code",
   "execution_count": 366,
   "id": "52c57502-1ec1-4590-91b1-8bba1e1369d4",
   "metadata": {
    "scrolled": true
   },
   "outputs": [
    {
     "data": {
      "text/plain": [
       "pandas.core.series.Series"
      ]
     },
     "execution_count": 366,
     "metadata": {},
     "output_type": "execute_result"
    }
   ],
   "source": [
    "type(df['Statistics'])"
   ]
  },
  {
   "cell_type": "markdown",
   "id": "cfde0402-60e4-48f5-bc2a-9e03debd8a9f",
   "metadata": {
    "slideshow": {
     "slide_type": "subslide"
    }
   },
   "source": [
    "Pandas also supports converting one-dimensional or two-dimensional arrays/lists directly into DataFrame format."
   ]
  },
  {
   "cell_type": "code",
   "execution_count": 390,
   "id": "05fa7eef",
   "metadata": {
    "slideshow": {
     "slide_type": "fragment"
    }
   },
   "outputs": [
    {
     "data": {
      "text/html": [
       "<div>\n",
       "<style scoped>\n",
       "    .dataframe tbody tr th:only-of-type {\n",
       "        vertical-align: middle;\n",
       "    }\n",
       "\n",
       "    .dataframe tbody tr th {\n",
       "        vertical-align: top;\n",
       "    }\n",
       "\n",
       "    .dataframe thead th {\n",
       "        text-align: right;\n",
       "    }\n",
       "</style>\n",
       "<table border=\"1\" class=\"dataframe\">\n",
       "  <thead>\n",
       "    <tr style=\"text-align: right;\">\n",
       "      <th></th>\n",
       "      <th>0</th>\n",
       "    </tr>\n",
       "  </thead>\n",
       "  <tbody>\n",
       "    <tr>\n",
       "      <th>0</th>\n",
       "      <td>1</td>\n",
       "    </tr>\n",
       "    <tr>\n",
       "      <th>1</th>\n",
       "      <td>2</td>\n",
       "    </tr>\n",
       "    <tr>\n",
       "      <th>2</th>\n",
       "      <td>3</td>\n",
       "    </tr>\n",
       "  </tbody>\n",
       "</table>\n",
       "</div>"
      ],
      "text/plain": [
       "   0\n",
       "0  1\n",
       "1  2\n",
       "2  3"
      ]
     },
     "execution_count": 390,
     "metadata": {},
     "output_type": "execute_result"
    }
   ],
   "source": [
    "a = [1, 2, 3]\n",
    "pd.DataFrame(a)"
   ]
  },
  {
   "cell_type": "code",
   "execution_count": 391,
   "id": "345a5fb4",
   "metadata": {
    "scrolled": true,
    "slideshow": {
     "slide_type": "subslide"
    }
   },
   "outputs": [
    {
     "data": {
      "text/html": [
       "<div>\n",
       "<style scoped>\n",
       "    .dataframe tbody tr th:only-of-type {\n",
       "        vertical-align: middle;\n",
       "    }\n",
       "\n",
       "    .dataframe tbody tr th {\n",
       "        vertical-align: top;\n",
       "    }\n",
       "\n",
       "    .dataframe thead th {\n",
       "        text-align: right;\n",
       "    }\n",
       "</style>\n",
       "<table border=\"1\" class=\"dataframe\">\n",
       "  <thead>\n",
       "    <tr style=\"text-align: right;\">\n",
       "      <th></th>\n",
       "      <th>0</th>\n",
       "      <th>1</th>\n",
       "      <th>2</th>\n",
       "    </tr>\n",
       "  </thead>\n",
       "  <tbody>\n",
       "    <tr>\n",
       "      <th>0</th>\n",
       "      <td>1</td>\n",
       "      <td>2</td>\n",
       "      <td>3</td>\n",
       "    </tr>\n",
       "    <tr>\n",
       "      <th>1</th>\n",
       "      <td>4</td>\n",
       "      <td>5</td>\n",
       "      <td>6</td>\n",
       "    </tr>\n",
       "  </tbody>\n",
       "</table>\n",
       "</div>"
      ],
      "text/plain": [
       "   0  1  2\n",
       "0  1  2  3\n",
       "1  4  5  6"
      ]
     },
     "execution_count": 391,
     "metadata": {},
     "output_type": "execute_result"
    }
   ],
   "source": [
    "a = [[1, 2, 3], [4, 5, 6]]\n",
    "pd.DataFrame(a)"
   ]
  },
  {
   "cell_type": "markdown",
   "id": "e63482f5",
   "metadata": {
    "slideshow": {
     "slide_type": "slide"
    }
   },
   "source": [
    "### Reading Data\n",
    "<hr>\n",
    "\n",
    "In most cases, we need to read data files (such as Excel files). Suppose the example above is saved in an Excel file named 'transcripts.xlsx' located in the \"datas/\" directory on your computer. We can read the file using the `read_excel` method:"
   ]
  },
  {
   "cell_type": "markdown",
   "id": "0d0394d3-0751-4a2f-a824-b7087b807e57",
   "metadata": {
    "ExecuteTime": {
     "end_time": "2025-02-23T23:05:39.633982Z",
     "start_time": "2025-02-23T23:05:39.094905Z"
    },
    "slideshow": {
     "slide_type": "fragment"
    }
   },
   "source": [
    "```python\n",
    "import pandas as pd\n",
    "\n",
    "df = pd.read_excel(\"datas/transcripts.xlsx\")\n",
    "# or df = pd.read_excel(\"datas\\\\transcripts.xlsx\")\n",
    "# or df = pd.read_excel(r\"datas\\transcripts.xlsx\")\n",
    "```"
   ]
  },
  {
   "cell_type": "markdown",
   "id": "29cda5a4",
   "metadata": {
    "slideshow": {
     "slide_type": "fragment"
    }
   },
   "source": [
    "```{note}\n",
    "- File paths on macOS use the forward slash `/` as a separator, while Windows uses the backslash `\\`.\n",
    "\n",
    "- Adding an `r` before a file path string (e.g., r\"path\") preserves the original meaning of the string and prevents special characters from being escaped.\n",
    "```"
   ]
  },
  {
   "cell_type": "markdown",
   "id": "e77ef888",
   "metadata": {
    "slideshow": {
     "slide_type": "subslide"
    }
   },
   "source": [
    "The syntax for ``read_excel``is:"
   ]
  },
  {
   "cell_type": "markdown",
   "id": "8c25d59d",
   "metadata": {
    "slideshow": {
     "slide_type": "fragment"
    }
   },
   "source": [
    "<table>   \n",
    "    <tr style=\"border-top:solid; border-bottom:solid\">\n",
    "        <th colspan=2 style=\"text-align:center\">\n",
    "            read_excel(io, sheetname=0, header=0, skiprows=None, index_col=None, encoding=None)\n",
    "        </th>\n",
    "    </tr>\n",
    "    <tr>\n",
    "        <td style=\"text-align:left\">io</td>\n",
    "        <td style=\"text-align:left\">The file path and name of the data file, usually provided as a string.</td>\n",
    "    </tr>\n",
    "    <tr>\n",
    "        <td style=\"text-align:left\">sheetname</td>\n",
    "        <td style=\"text-align:left\">The name or index of the worksheet. Defaults to 0, which reads the first sheet.</td>\n",
    "    </tr>\n",
    "    <tr>\n",
    "        <td style=\"text-align:left\">header</td>\n",
    "        <td style=\"text-align:left\">The row to use as column names. Defaults to 0, meaning the first row is used as headers.</td>\n",
    "    </tr>\n",
    "    <tr>\n",
    "        <td style=\"text-align:left\">skiprows</td>\n",
    "        <td style=\"text-align:left\">Number of rows to skip from the top of the file.</td>\n",
    "    </tr>\n",
    "    <tr>\n",
    "        <td style=\"text-align:left\">index_col</td>\n",
    "        <td style=\"text-align:left\">Column to use as the row labels of the DataFrame.</td>\n",
    "    </tr>\n",
    "    <tr style=\"border-bottom:solid\">\n",
    "        <td style=\"text-align:left\">encoding</td>\n",
    "        <td style=\"text-align:left\">Encoding format, commonly 'gbk' or 'utf-8'.</td>\n",
    "    </tr>\n",
    "</table>"
   ]
  },
  {
   "cell_type": "markdown",
   "id": "9329cff6",
   "metadata": {},
   "source": [
    "```{note}\n",
    "- When reading certain data files, you may need to add the decoding parameter `encoding='gbk'` or `encoding='utf-8'` for proper reading.\n",
    "```"
   ]
  },
  {
   "cell_type": "markdown",
   "id": "0a9b0936",
   "metadata": {
    "slideshow": {
     "slide_type": "fragment"
    }
   },
   "source": [
    "Another common data file format is CSV. We can simply use Pandas' `read_csv` method, whose syntax is essentially the same as `read_excel`."
   ]
  },
  {
   "cell_type": "markdown",
   "id": "48946e96",
   "metadata": {
    "slideshow": {
     "slide_type": "slide"
    }
   },
   "source": [
    "### Store the data\n",
    "<hr>\n",
    "\n",
    "To save data, use the `to_excel` or `to_csv` method. For example, to save our DataFrame df to the \"datas/\" folder with the filename \"marks.xlsx\":"
   ]
  },
  {
   "cell_type": "code",
   "execution_count": 367,
   "id": "2ebd5dd8",
   "metadata": {
    "slideshow": {
     "slide_type": "fragment"
    }
   },
   "outputs": [],
   "source": [
    "df.to_excel(\"datas/marks.xlsx\")"
   ]
  },
  {
   "cell_type": "markdown",
   "id": "64d0bab8-f1a4-4279-a714-c8070ac42423",
   "metadata": {},
   "source": [
    "- The folder must first exists in the computer before using `to_excel` or `to_csv`.\n",
    "- By default, the row indeices are not written to the file. If you want to include the index in the saved file, you can set `index=True` (the default is index=False)."
   ]
  },
  {
   "cell_type": "markdown",
   "id": "9ac7465c",
   "metadata": {
    "slideshow": {
     "slide_type": "slide"
    }
   },
   "source": [
    "## Access and change data\n",
    "<hr>\n",
    "\n",
    "To quickly view the statistical summary of each column in a DataFrame, you can use the `describe()` method. It includes information such as the number of non-null values, mean, standard deviation, minimum, maximum, and quartiles for each column."
   ]
  },
  {
   "cell_type": "code",
   "execution_count": 368,
   "id": "510ccd2b",
   "metadata": {
    "slideshow": {
     "slide_type": "fragment"
    }
   },
   "outputs": [
    {
     "data": {
      "text/html": [
       "<div>\n",
       "<style scoped>\n",
       "    .dataframe tbody tr th:only-of-type {\n",
       "        vertical-align: middle;\n",
       "    }\n",
       "\n",
       "    .dataframe tbody tr th {\n",
       "        vertical-align: top;\n",
       "    }\n",
       "\n",
       "    .dataframe thead th {\n",
       "        text-align: right;\n",
       "    }\n",
       "</style>\n",
       "<table border=\"1\" class=\"dataframe\">\n",
       "  <thead>\n",
       "    <tr style=\"text-align: right;\">\n",
       "      <th></th>\n",
       "      <th>Name</th>\n",
       "      <th>Statistics</th>\n",
       "      <th>Accounting</th>\n",
       "      <th>Marketing</th>\n",
       "    </tr>\n",
       "  </thead>\n",
       "  <tbody>\n",
       "    <tr>\n",
       "      <th>count</th>\n",
       "      <td>3</td>\n",
       "      <td>3</td>\n",
       "      <td>3</td>\n",
       "      <td>3</td>\n",
       "    </tr>\n",
       "    <tr>\n",
       "      <th>unique</th>\n",
       "      <td>3</td>\n",
       "      <td>3</td>\n",
       "      <td>3</td>\n",
       "      <td>3</td>\n",
       "    </tr>\n",
       "    <tr>\n",
       "      <th>top</th>\n",
       "      <td>Jim</td>\n",
       "      <td>85</td>\n",
       "      <td>82</td>\n",
       "      <td>84</td>\n",
       "    </tr>\n",
       "    <tr>\n",
       "      <th>freq</th>\n",
       "      <td>1</td>\n",
       "      <td>1</td>\n",
       "      <td>1</td>\n",
       "      <td>1</td>\n",
       "    </tr>\n",
       "  </tbody>\n",
       "</table>\n",
       "</div>"
      ],
      "text/plain": [
       "       Name Statistics Accounting Marketing\n",
       "count     3          3          3         3\n",
       "unique    3          3          3         3\n",
       "top     Jim         85         82        84\n",
       "freq      1          1          1         1"
      ]
     },
     "execution_count": 368,
     "metadata": {},
     "output_type": "execute_result"
    }
   ],
   "source": [
    "df.describe()"
   ]
  },
  {
   "cell_type": "markdown",
   "id": "fe80bce0",
   "metadata": {
    "slideshow": {
     "slide_type": "subslide"
    }
   },
   "source": [
    "Additionally, there are several useful method:\n",
    "\n",
    "| method | Description                       |\n",
    "| ------- | -------------------------------- |\n",
    "| `info()` | View the data type of each column |\n",
    "| `head()` | View the first 5 rows of the data |\n",
    "| `tail()` | View the last 5 rows of the data  |\n"
   ]
  },
  {
   "cell_type": "markdown",
   "id": "76f32b21",
   "metadata": {
    "slideshow": {
     "slide_type": "slide"
    }
   },
   "source": [
    "### Access the data of a single row, column or cell\n",
    "<hr>\n",
    "\n",
    "The simplest way to view a specific column of data is by entering the column name within square brackets `[ ]`. For example, to view the 'Marketing' scores column:"
   ]
  },
  {
   "cell_type": "code",
   "execution_count": 395,
   "id": "ec257ef8",
   "metadata": {
    "slideshow": {
     "slide_type": "fragment"
    }
   },
   "outputs": [
    {
     "data": {
      "text/plain": [
       "0    84.0\n",
       "1    90.0\n",
       "2    78.0\n",
       "Name: Marketing, dtype: float64"
      ]
     },
     "execution_count": 395,
     "metadata": {},
     "output_type": "execute_result"
    }
   ],
   "source": [
    "df['Marketing']"
   ]
  },
  {
   "cell_type": "markdown",
   "id": "ce06a4a5",
   "metadata": {
    "slideshow": {
     "slide_type": "subslide"
    }
   },
   "source": [
    "To view a particular row of data, use the `loc[ ]` method with the row index."
   ]
  },
  {
   "cell_type": "code",
   "execution_count": 370,
   "id": "3b949c99",
   "metadata": {
    "slideshow": {
     "slide_type": "fragment"
    }
   },
   "outputs": [
    {
     "data": {
      "text/plain": [
       "Name          Jim\n",
       "Statistics     85\n",
       "Accounting     82\n",
       "Marketing      84\n",
       "Name: 0, dtype: object"
      ]
     },
     "execution_count": 370,
     "metadata": {},
     "output_type": "execute_result"
    }
   ],
   "source": [
    "df.loc[0]  # show the data of the first row"
   ]
  },
  {
   "cell_type": "code",
   "execution_count": 371,
   "id": "c87cc435",
   "metadata": {
    "slideshow": {
     "slide_type": "fragment"
    }
   },
   "outputs": [
    {
     "data": {
      "text/plain": [
       "Name          Jack\n",
       "Statistics      90\n",
       "Accounting      88\n",
       "Marketing       78\n",
       "Name: 2, dtype: object"
      ]
     },
     "execution_count": 371,
     "metadata": {},
     "output_type": "execute_result"
    }
   ],
   "source": [
    "df.loc[2]  # show the data of the 3rd row"
   ]
  },
  {
   "cell_type": "markdown",
   "id": "486b9238",
   "metadata": {
    "slideshow": {
     "slide_type": "subslide"
    }
   },
   "source": [
    "To view a specific cell, a convenient method is to use double square brackets `[ ][ ]`, with the column label and row index inside each bracket respectively."
   ]
  },
  {
   "cell_type": "code",
   "execution_count": 372,
   "id": "3dc9041a",
   "metadata": {
    "slideshow": {
     "slide_type": "fragment"
    }
   },
   "outputs": [
    {
     "data": {
      "text/plain": [
       "'90'"
      ]
     },
     "execution_count": 372,
     "metadata": {},
     "output_type": "execute_result"
    }
   ],
   "source": [
    "df[\"Marketing\"][1]"
   ]
  },
  {
   "cell_type": "markdown",
   "id": "58ed603c",
   "metadata": {
    "slideshow": {
     "slide_type": "slide"
    }
   },
   "source": [
    "### Acess multi-row or multi-column data\n",
    "<hr>\n",
    "\n",
    "To view multiple rows and columns of data, you can use `iloc[ ]`, which not only allows accessing multiple rows and columns but also supports retrieving single rows, single columns, or even individual cell data.。"
   ]
  },
  {
   "cell_type": "code",
   "execution_count": 373,
   "id": "8cc1c1a2-e499-4b6a-aee6-fef359b21449",
   "metadata": {
    "scrolled": true
   },
   "outputs": [
    {
     "data": {
      "text/plain": [
       "Name          Lily\n",
       "Statistics      68\n",
       "Accounting      63\n",
       "Marketing       90\n",
       "Name: 1, dtype: object"
      ]
     },
     "execution_count": 373,
     "metadata": {},
     "output_type": "execute_result"
    }
   ],
   "source": [
    "df.iloc[1] # view the data in the 2nd row"
   ]
  },
  {
   "cell_type": "code",
   "execution_count": 374,
   "id": "f2128794-fd95-4298-92ab-f99cb4e1a20f",
   "metadata": {
    "scrolled": true
   },
   "outputs": [
    {
     "data": {
      "text/html": [
       "<div>\n",
       "<style scoped>\n",
       "    .dataframe tbody tr th:only-of-type {\n",
       "        vertical-align: middle;\n",
       "    }\n",
       "\n",
       "    .dataframe tbody tr th {\n",
       "        vertical-align: top;\n",
       "    }\n",
       "\n",
       "    .dataframe thead th {\n",
       "        text-align: right;\n",
       "    }\n",
       "</style>\n",
       "<table border=\"1\" class=\"dataframe\">\n",
       "  <thead>\n",
       "    <tr style=\"text-align: right;\">\n",
       "      <th></th>\n",
       "      <th>Name</th>\n",
       "      <th>Statistics</th>\n",
       "      <th>Accounting</th>\n",
       "      <th>Marketing</th>\n",
       "    </tr>\n",
       "  </thead>\n",
       "  <tbody>\n",
       "    <tr>\n",
       "      <th>0</th>\n",
       "      <td>Jim</td>\n",
       "      <td>85</td>\n",
       "      <td>82</td>\n",
       "      <td>84</td>\n",
       "    </tr>\n",
       "    <tr>\n",
       "      <th>1</th>\n",
       "      <td>Lily</td>\n",
       "      <td>68</td>\n",
       "      <td>63</td>\n",
       "      <td>90</td>\n",
       "    </tr>\n",
       "  </tbody>\n",
       "</table>\n",
       "</div>"
      ],
      "text/plain": [
       "   Name Statistics Accounting Marketing\n",
       "0   Jim         85         82        84\n",
       "1  Lily         68         63        90"
      ]
     },
     "execution_count": 374,
     "metadata": {},
     "output_type": "execute_result"
    }
   ],
   "source": [
    "df.iloc[0:2] # view the data of the first 2 rows"
   ]
  },
  {
   "cell_type": "code",
   "execution_count": 375,
   "id": "74304fe1",
   "metadata": {
    "slideshow": {
     "slide_type": "fragment"
    }
   },
   "outputs": [
    {
     "data": {
      "text/html": [
       "<div>\n",
       "<style scoped>\n",
       "    .dataframe tbody tr th:only-of-type {\n",
       "        vertical-align: middle;\n",
       "    }\n",
       "\n",
       "    .dataframe tbody tr th {\n",
       "        vertical-align: top;\n",
       "    }\n",
       "\n",
       "    .dataframe thead th {\n",
       "        text-align: right;\n",
       "    }\n",
       "</style>\n",
       "<table border=\"1\" class=\"dataframe\">\n",
       "  <thead>\n",
       "    <tr style=\"text-align: right;\">\n",
       "      <th></th>\n",
       "      <th>Name</th>\n",
       "      <th>Statistics</th>\n",
       "      <th>Accounting</th>\n",
       "      <th>Marketing</th>\n",
       "    </tr>\n",
       "  </thead>\n",
       "  <tbody>\n",
       "    <tr>\n",
       "      <th>0</th>\n",
       "      <td>Jim</td>\n",
       "      <td>85</td>\n",
       "      <td>82</td>\n",
       "      <td>84</td>\n",
       "    </tr>\n",
       "    <tr>\n",
       "      <th>2</th>\n",
       "      <td>Jack</td>\n",
       "      <td>90</td>\n",
       "      <td>88</td>\n",
       "      <td>78</td>\n",
       "    </tr>\n",
       "  </tbody>\n",
       "</table>\n",
       "</div>"
      ],
      "text/plain": [
       "   Name Statistics Accounting Marketing\n",
       "0   Jim         85         82        84\n",
       "2  Jack         90         88        78"
      ]
     },
     "execution_count": 375,
     "metadata": {},
     "output_type": "execute_result"
    }
   ],
   "source": [
    "df.iloc[[0, 2]]  # view the data of the 1st and the 3rd rows"
   ]
  },
  {
   "cell_type": "markdown",
   "id": "55773d67",
   "metadata": {
    "slideshow": {
     "slide_type": "subslide"
    }
   },
   "source": [
    "- View the column data with `[:, ]`."
   ]
  },
  {
   "cell_type": "code",
   "execution_count": 376,
   "id": "f41a1f7e-deac-4c8b-8022-3fa890b7623a",
   "metadata": {},
   "outputs": [
    {
     "data": {
      "text/plain": [
       "0    85\n",
       "1    68\n",
       "2    90\n",
       "Name: Statistics, dtype: object"
      ]
     },
     "execution_count": 376,
     "metadata": {},
     "output_type": "execute_result"
    }
   ],
   "source": [
    "df.iloc[:, 1]  # view the data of the 2nd column"
   ]
  },
  {
   "cell_type": "code",
   "execution_count": 377,
   "id": "bd2d3d9e-d3df-44ee-868f-f36af74bf7eb",
   "metadata": {},
   "outputs": [
    {
     "data": {
      "text/html": [
       "<div>\n",
       "<style scoped>\n",
       "    .dataframe tbody tr th:only-of-type {\n",
       "        vertical-align: middle;\n",
       "    }\n",
       "\n",
       "    .dataframe tbody tr th {\n",
       "        vertical-align: top;\n",
       "    }\n",
       "\n",
       "    .dataframe thead th {\n",
       "        text-align: right;\n",
       "    }\n",
       "</style>\n",
       "<table border=\"1\" class=\"dataframe\">\n",
       "  <thead>\n",
       "    <tr style=\"text-align: right;\">\n",
       "      <th></th>\n",
       "      <th>Name</th>\n",
       "      <th>Statistics</th>\n",
       "    </tr>\n",
       "  </thead>\n",
       "  <tbody>\n",
       "    <tr>\n",
       "      <th>0</th>\n",
       "      <td>Jim</td>\n",
       "      <td>85</td>\n",
       "    </tr>\n",
       "    <tr>\n",
       "      <th>1</th>\n",
       "      <td>Lily</td>\n",
       "      <td>68</td>\n",
       "    </tr>\n",
       "    <tr>\n",
       "      <th>2</th>\n",
       "      <td>Jack</td>\n",
       "      <td>90</td>\n",
       "    </tr>\n",
       "  </tbody>\n",
       "</table>\n",
       "</div>"
      ],
      "text/plain": [
       "   Name Statistics\n",
       "0   Jim         85\n",
       "1  Lily         68\n",
       "2  Jack         90"
      ]
     },
     "execution_count": 377,
     "metadata": {},
     "output_type": "execute_result"
    }
   ],
   "source": [
    "df.iloc[:, 0:2]  # view the data of the first 2 columns"
   ]
  },
  {
   "cell_type": "code",
   "execution_count": 378,
   "id": "50b58468",
   "metadata": {
    "slideshow": {
     "slide_type": "fragment"
    }
   },
   "outputs": [
    {
     "data": {
      "text/html": [
       "<div>\n",
       "<style scoped>\n",
       "    .dataframe tbody tr th:only-of-type {\n",
       "        vertical-align: middle;\n",
       "    }\n",
       "\n",
       "    .dataframe tbody tr th {\n",
       "        vertical-align: top;\n",
       "    }\n",
       "\n",
       "    .dataframe thead th {\n",
       "        text-align: right;\n",
       "    }\n",
       "</style>\n",
       "<table border=\"1\" class=\"dataframe\">\n",
       "  <thead>\n",
       "    <tr style=\"text-align: right;\">\n",
       "      <th></th>\n",
       "      <th>Name</th>\n",
       "      <th>Accounting</th>\n",
       "    </tr>\n",
       "  </thead>\n",
       "  <tbody>\n",
       "    <tr>\n",
       "      <th>0</th>\n",
       "      <td>Jim</td>\n",
       "      <td>82</td>\n",
       "    </tr>\n",
       "    <tr>\n",
       "      <th>1</th>\n",
       "      <td>Lily</td>\n",
       "      <td>63</td>\n",
       "    </tr>\n",
       "    <tr>\n",
       "      <th>2</th>\n",
       "      <td>Jack</td>\n",
       "      <td>88</td>\n",
       "    </tr>\n",
       "  </tbody>\n",
       "</table>\n",
       "</div>"
      ],
      "text/plain": [
       "   Name Accounting\n",
       "0   Jim         82\n",
       "1  Lily         63\n",
       "2  Jack         88"
      ]
     },
     "execution_count": 378,
     "metadata": {},
     "output_type": "execute_result"
    }
   ],
   "source": [
    "df.iloc[:, [0, 2]]  # view the data of the 1st and 3rd columns"
   ]
  },
  {
   "cell_type": "markdown",
   "id": "e0b5403b",
   "metadata": {
    "slideshow": {
     "slide_type": "subslide"
    }
   },
   "source": [
    "- View the data in a block."
   ]
  },
  {
   "cell_type": "code",
   "execution_count": 379,
   "id": "75a06bae-5d3f-4025-ae78-6476b9727b32",
   "metadata": {
    "scrolled": true
   },
   "outputs": [
    {
     "data": {
      "text/html": [
       "<div>\n",
       "<style scoped>\n",
       "    .dataframe tbody tr th:only-of-type {\n",
       "        vertical-align: middle;\n",
       "    }\n",
       "\n",
       "    .dataframe tbody tr th {\n",
       "        vertical-align: top;\n",
       "    }\n",
       "\n",
       "    .dataframe thead th {\n",
       "        text-align: right;\n",
       "    }\n",
       "</style>\n",
       "<table border=\"1\" class=\"dataframe\">\n",
       "  <thead>\n",
       "    <tr style=\"text-align: right;\">\n",
       "      <th></th>\n",
       "      <th>Name</th>\n",
       "      <th>Statistics</th>\n",
       "    </tr>\n",
       "  </thead>\n",
       "  <tbody>\n",
       "    <tr>\n",
       "      <th>0</th>\n",
       "      <td>Jim</td>\n",
       "      <td>85</td>\n",
       "    </tr>\n",
       "    <tr>\n",
       "      <th>1</th>\n",
       "      <td>Lily</td>\n",
       "      <td>68</td>\n",
       "    </tr>\n",
       "  </tbody>\n",
       "</table>\n",
       "</div>"
      ],
      "text/plain": [
       "   Name Statistics\n",
       "0   Jim         85\n",
       "1  Lily         68"
      ]
     },
     "execution_count": 379,
     "metadata": {},
     "output_type": "execute_result"
    }
   ],
   "source": [
    "df.iloc[0:2, 0:2] # view the data in the first 2 rows and the first 2 columns"
   ]
  },
  {
   "cell_type": "code",
   "execution_count": 380,
   "id": "7323ecc7-1859-486b-bf18-348444bdbf9d",
   "metadata": {},
   "outputs": [
    {
     "data": {
      "text/html": [
       "<div>\n",
       "<style scoped>\n",
       "    .dataframe tbody tr th:only-of-type {\n",
       "        vertical-align: middle;\n",
       "    }\n",
       "\n",
       "    .dataframe tbody tr th {\n",
       "        vertical-align: top;\n",
       "    }\n",
       "\n",
       "    .dataframe thead th {\n",
       "        text-align: right;\n",
       "    }\n",
       "</style>\n",
       "<table border=\"1\" class=\"dataframe\">\n",
       "  <thead>\n",
       "    <tr style=\"text-align: right;\">\n",
       "      <th></th>\n",
       "      <th>Name</th>\n",
       "      <th>Accounting</th>\n",
       "    </tr>\n",
       "  </thead>\n",
       "  <tbody>\n",
       "    <tr>\n",
       "      <th>0</th>\n",
       "      <td>Jim</td>\n",
       "      <td>82</td>\n",
       "    </tr>\n",
       "    <tr>\n",
       "      <th>2</th>\n",
       "      <td>Jack</td>\n",
       "      <td>88</td>\n",
       "    </tr>\n",
       "  </tbody>\n",
       "</table>\n",
       "</div>"
      ],
      "text/plain": [
       "   Name Accounting\n",
       "0   Jim         82\n",
       "2  Jack         88"
      ]
     },
     "execution_count": 380,
     "metadata": {},
     "output_type": "execute_result"
    }
   ],
   "source": [
    "df.iloc[[0, 2], [0, 2]]  # view the data in row 1 and 3, column 1 and 3"
   ]
  },
  {
   "cell_type": "code",
   "execution_count": 381,
   "id": "2d081228",
   "metadata": {
    "jupyter": {
     "source_hidden": true
    },
    "slideshow": {
     "slide_type": "fragment"
    }
   },
   "outputs": [
    {
     "data": {
      "text/html": [
       "<div>\n",
       "<style scoped>\n",
       "    .dataframe tbody tr th:only-of-type {\n",
       "        vertical-align: middle;\n",
       "    }\n",
       "\n",
       "    .dataframe tbody tr th {\n",
       "        vertical-align: top;\n",
       "    }\n",
       "\n",
       "    .dataframe thead th {\n",
       "        text-align: right;\n",
       "    }\n",
       "</style>\n",
       "<table border=\"1\" class=\"dataframe\">\n",
       "  <thead>\n",
       "    <tr style=\"text-align: right;\">\n",
       "      <th></th>\n",
       "      <th>Name</th>\n",
       "      <th>Statistics</th>\n",
       "    </tr>\n",
       "  </thead>\n",
       "  <tbody>\n",
       "    <tr>\n",
       "      <th>0</th>\n",
       "      <td>Jim</td>\n",
       "      <td>85</td>\n",
       "    </tr>\n",
       "    <tr>\n",
       "      <th>2</th>\n",
       "      <td>Jack</td>\n",
       "      <td>90</td>\n",
       "    </tr>\n",
       "  </tbody>\n",
       "</table>\n",
       "</div>"
      ],
      "text/plain": [
       "   Name Statistics\n",
       "0   Jim         85\n",
       "2  Jack         90"
      ]
     },
     "execution_count": 381,
     "metadata": {},
     "output_type": "execute_result"
    }
   ],
   "source": [
    "df.iloc[[0, 2], 0:2]  # view the data in row 1 and 3, column 1 and 2"
   ]
  },
  {
   "cell_type": "markdown",
   "id": "f3b20bf8",
   "metadata": {
    "slideshow": {
     "slide_type": "subslide"
    }
   },
   "source": [
    "- View the data in some cell."
   ]
  },
  {
   "cell_type": "code",
   "execution_count": 382,
   "id": "8c786fb1",
   "metadata": {
    "slideshow": {
     "slide_type": "fragment"
    }
   },
   "outputs": [
    {
     "data": {
      "text/plain": [
       "'68'"
      ]
     },
     "execution_count": 382,
     "metadata": {},
     "output_type": "execute_result"
    }
   ],
   "source": [
    "df.iloc[1, 1]  # view the data in the cell of row 1 and column 1"
   ]
  },
  {
   "cell_type": "markdown",
   "id": "04daa6a3",
   "metadata": {
    "slideshow": {
     "slide_type": "subslide"
    }
   },
   "source": [
    "To view specific columns of data, in addition to using `iloc`, you can **directly pass a list of column labels inside square brackets `[ ]`**."
   ]
  },
  {
   "cell_type": "code",
   "execution_count": 383,
   "id": "6c8ecd57",
   "metadata": {
    "slideshow": {
     "slide_type": "fragment"
    }
   },
   "outputs": [
    {
     "data": {
      "text/html": [
       "<div>\n",
       "<style scoped>\n",
       "    .dataframe tbody tr th:only-of-type {\n",
       "        vertical-align: middle;\n",
       "    }\n",
       "\n",
       "    .dataframe tbody tr th {\n",
       "        vertical-align: top;\n",
       "    }\n",
       "\n",
       "    .dataframe thead th {\n",
       "        text-align: right;\n",
       "    }\n",
       "</style>\n",
       "<table border=\"1\" class=\"dataframe\">\n",
       "  <thead>\n",
       "    <tr style=\"text-align: right;\">\n",
       "      <th></th>\n",
       "      <th>Statistics</th>\n",
       "      <th>Marketing</th>\n",
       "    </tr>\n",
       "  </thead>\n",
       "  <tbody>\n",
       "    <tr>\n",
       "      <th>0</th>\n",
       "      <td>85</td>\n",
       "      <td>84</td>\n",
       "    </tr>\n",
       "    <tr>\n",
       "      <th>1</th>\n",
       "      <td>68</td>\n",
       "      <td>90</td>\n",
       "    </tr>\n",
       "    <tr>\n",
       "      <th>2</th>\n",
       "      <td>90</td>\n",
       "      <td>78</td>\n",
       "    </tr>\n",
       "  </tbody>\n",
       "</table>\n",
       "</div>"
      ],
      "text/plain": [
       "  Statistics Marketing\n",
       "0         85        84\n",
       "1         68        90\n",
       "2         90        78"
      ]
     },
     "execution_count": 383,
     "metadata": {},
     "output_type": "execute_result"
    }
   ],
   "source": [
    "df[[\"Statistics\", \"Marketing\"]]"
   ]
  },
  {
   "cell_type": "markdown",
   "id": "27e57ec2-f35a-44d0-83a7-3e19d47d990c",
   "metadata": {},
   "source": [
    "It is same as the following:"
   ]
  },
  {
   "cell_type": "code",
   "execution_count": 384,
   "id": "8b2a040b",
   "metadata": {
    "slideshow": {
     "slide_type": "fragment"
    }
   },
   "outputs": [
    {
     "data": {
      "text/html": [
       "<div>\n",
       "<style scoped>\n",
       "    .dataframe tbody tr th:only-of-type {\n",
       "        vertical-align: middle;\n",
       "    }\n",
       "\n",
       "    .dataframe tbody tr th {\n",
       "        vertical-align: top;\n",
       "    }\n",
       "\n",
       "    .dataframe thead th {\n",
       "        text-align: right;\n",
       "    }\n",
       "</style>\n",
       "<table border=\"1\" class=\"dataframe\">\n",
       "  <thead>\n",
       "    <tr style=\"text-align: right;\">\n",
       "      <th></th>\n",
       "      <th>Statistics</th>\n",
       "      <th>Marketing</th>\n",
       "    </tr>\n",
       "  </thead>\n",
       "  <tbody>\n",
       "    <tr>\n",
       "      <th>0</th>\n",
       "      <td>85</td>\n",
       "      <td>84</td>\n",
       "    </tr>\n",
       "    <tr>\n",
       "      <th>1</th>\n",
       "      <td>68</td>\n",
       "      <td>90</td>\n",
       "    </tr>\n",
       "    <tr>\n",
       "      <th>2</th>\n",
       "      <td>90</td>\n",
       "      <td>78</td>\n",
       "    </tr>\n",
       "  </tbody>\n",
       "</table>\n",
       "</div>"
      ],
      "text/plain": [
       "  Statistics Marketing\n",
       "0         85        84\n",
       "1         68        90\n",
       "2         90        78"
      ]
     },
     "execution_count": 384,
     "metadata": {},
     "output_type": "execute_result"
    }
   ],
   "source": [
    "df.iloc[:, [1, 3]]"
   ]
  },
  {
   "cell_type": "markdown",
   "id": "1cbae2e5",
   "metadata": {
    "slideshow": {
     "slide_type": "slide"
    }
   },
   "source": [
    "### View the statistical values of the data\n",
    "<hr>\n",
    "\n",
    "Pandas provides built-in statistical method to calculate summary statistics for column data. These method include: `mean()` (average), `max()` (maximum), `min()` (minimum), `median()`, `std()` (standard deviation), `count()`, `skew()` (skewness), `quantile()`, and more. In some cases, you may need to specify the parameter `numeric_only=True` to ensure the method is only applied to numeric columns."
   ]
  },
  {
   "cell_type": "markdown",
   "id": "158adcd3-12bc-42fa-a299-714b5bf9cd06",
   "metadata": {},
   "source": [
    "- Sometimes we may need to cast the data types to numeric before using those methods."
   ]
  },
  {
   "cell_type": "code",
   "execution_count": 389,
   "id": "fa9ce91a-05ec-4f3b-bef0-e3dbcf7ef9a7",
   "metadata": {
    "scrolled": true
   },
   "outputs": [
    {
     "name": "stdout",
     "output_type": "stream",
     "text": [
      "<class 'numpy.float64'>\n"
     ]
    }
   ],
   "source": [
    "df\n",
    "print(type(df['Statistics'][1]))"
   ]
  },
  {
   "cell_type": "code",
   "execution_count": 388,
   "id": "90075025-b6f5-4273-8a4b-eb042427dadf",
   "metadata": {},
   "outputs": [
    {
     "data": {
      "text/html": [
       "<div>\n",
       "<style scoped>\n",
       "    .dataframe tbody tr th:only-of-type {\n",
       "        vertical-align: middle;\n",
       "    }\n",
       "\n",
       "    .dataframe tbody tr th {\n",
       "        vertical-align: top;\n",
       "    }\n",
       "\n",
       "    .dataframe thead th {\n",
       "        text-align: right;\n",
       "    }\n",
       "</style>\n",
       "<table border=\"1\" class=\"dataframe\">\n",
       "  <thead>\n",
       "    <tr style=\"text-align: right;\">\n",
       "      <th></th>\n",
       "      <th>Name</th>\n",
       "      <th>Statistics</th>\n",
       "      <th>Accounting</th>\n",
       "      <th>Marketing</th>\n",
       "    </tr>\n",
       "  </thead>\n",
       "  <tbody>\n",
       "    <tr>\n",
       "      <th>0</th>\n",
       "      <td>Jim</td>\n",
       "      <td>85.0</td>\n",
       "      <td>82.0</td>\n",
       "      <td>84.0</td>\n",
       "    </tr>\n",
       "    <tr>\n",
       "      <th>1</th>\n",
       "      <td>Lily</td>\n",
       "      <td>68.0</td>\n",
       "      <td>63.0</td>\n",
       "      <td>90.0</td>\n",
       "    </tr>\n",
       "    <tr>\n",
       "      <th>2</th>\n",
       "      <td>Jack</td>\n",
       "      <td>90.0</td>\n",
       "      <td>88.0</td>\n",
       "      <td>78.0</td>\n",
       "    </tr>\n",
       "  </tbody>\n",
       "</table>\n",
       "</div>"
      ],
      "text/plain": [
       "   Name  Statistics  Accounting  Marketing\n",
       "0   Jim        85.0        82.0       84.0\n",
       "1  Lily        68.0        63.0       90.0\n",
       "2  Jack        90.0        88.0       78.0"
      ]
     },
     "execution_count": 388,
     "metadata": {},
     "output_type": "execute_result"
    }
   ],
   "source": [
    "df[['Statistics', 'Accounting', 'Marketing']] = df[['Statistics', 'Accounting', 'Marketing']].astype(float)\n",
    "df"
   ]
  },
  {
   "cell_type": "code",
   "execution_count": 357,
   "id": "d3bd242b",
   "metadata": {
    "slideshow": {
     "slide_type": "subslide"
    }
   },
   "outputs": [
    {
     "data": {
      "text/plain": [
       "81.0"
      ]
     },
     "execution_count": 357,
     "metadata": {},
     "output_type": "execute_result"
    }
   ],
   "source": [
    "df[\"Statistics\"].mean()"
   ]
  },
  {
   "cell_type": "code",
   "execution_count": null,
   "id": "c4401073",
   "metadata": {
    "slideshow": {
     "slide_type": "fragment"
    }
   },
   "outputs": [],
   "source": [
    "# to calculate the average score for each course\n",
    "# since the first column ('names') is non-numeric, the parameter numeric_only=True is added.`\n",
    "df.mean(numeric_only=True)  "
   ]
  },
  {
   "cell_type": "code",
   "execution_count": null,
   "id": "9daa7255",
   "metadata": {
    "slideshow": {
     "slide_type": "fragment"
    }
   },
   "outputs": [],
   "source": [
    "df[\"Accounting\"].max()"
   ]
  },
  {
   "cell_type": "markdown",
   "id": "9171459f-6e17-4fe7-b845-2d93b15284e9",
   "metadata": {},
   "source": [
    "- Using 'axis=1' to apply the function to rows"
   ]
  },
  {
   "cell_type": "code",
   "execution_count": null,
   "id": "852eda24",
   "metadata": {},
   "outputs": [],
   "source": [
    "df.mean(numeric_only=True, axis=1)  # computer the average score of each student"
   ]
  },
  {
   "cell_type": "markdown",
   "id": "83d293a9",
   "metadata": {
    "slideshow": {
     "slide_type": "slide"
    }
   },
   "source": [
    "###  Revise data\n",
    "<hr>\n",
    "\n",
    "When modifying data in a pandas DataFrame, you can assign new values based on pandas index positions: **either assigning a column/row to a single value or to a list with equal length**, using `[ ]` and `.iloc[]`, respectively."
   ]
  },
  {
   "cell_type": "code",
   "execution_count": null,
   "id": "333f47d5",
   "metadata": {
    "slideshow": {
     "slide_type": "fragment"
    }
   },
   "outputs": [],
   "source": [
    "df[\"Accounting\"] = 80  # revise all the accounting scores to 80\n",
    "df"
   ]
  },
  {
   "cell_type": "code",
   "execution_count": null,
   "id": "408a0f4e",
   "metadata": {
    "slideshow": {
     "slide_type": "fragment"
    }
   },
   "outputs": [],
   "source": [
    "df[\"Accounting\"] = [64, 76, 88]  # revise the accounting scores to be the list values\n",
    "df"
   ]
  },
  {
   "cell_type": "code",
   "execution_count": 336,
   "id": "e366802c",
   "metadata": {
    "slideshow": {
     "slide_type": "subslide"
    }
   },
   "outputs": [
    {
     "data": {
      "text/html": [
       "<div>\n",
       "<style scoped>\n",
       "    .dataframe tbody tr th:only-of-type {\n",
       "        vertical-align: middle;\n",
       "    }\n",
       "\n",
       "    .dataframe tbody tr th {\n",
       "        vertical-align: top;\n",
       "    }\n",
       "\n",
       "    .dataframe thead th {\n",
       "        text-align: right;\n",
       "    }\n",
       "</style>\n",
       "<table border=\"1\" class=\"dataframe\">\n",
       "  <thead>\n",
       "    <tr style=\"text-align: right;\">\n",
       "      <th></th>\n",
       "      <th>Name</th>\n",
       "      <th>Statistics</th>\n",
       "      <th>Accounting</th>\n",
       "      <th>Marketing</th>\n",
       "    </tr>\n",
       "  </thead>\n",
       "  <tbody>\n",
       "    <tr>\n",
       "      <th>0</th>\n",
       "      <td>Jim</td>\n",
       "      <td>85</td>\n",
       "      <td>82</td>\n",
       "      <td>84</td>\n",
       "    </tr>\n",
       "    <tr>\n",
       "      <th>1</th>\n",
       "      <td>80</td>\n",
       "      <td>80</td>\n",
       "      <td>80</td>\n",
       "      <td>80</td>\n",
       "    </tr>\n",
       "    <tr>\n",
       "      <th>2</th>\n",
       "      <td>Jack</td>\n",
       "      <td>90</td>\n",
       "      <td>88</td>\n",
       "      <td>78</td>\n",
       "    </tr>\n",
       "  </tbody>\n",
       "</table>\n",
       "</div>"
      ],
      "text/plain": [
       "   Name Statistics Accounting Marketing\n",
       "0   Jim         85         82        84\n",
       "1    80         80         80        80\n",
       "2  Jack         90         88        78"
      ]
     },
     "execution_count": 336,
     "metadata": {},
     "output_type": "execute_result"
    }
   ],
   "source": [
    "df.iloc[1] = 80  # revise all the values in row 2 to 80\n",
    "df"
   ]
  },
  {
   "cell_type": "code",
   "execution_count": 337,
   "id": "bf5f6a82",
   "metadata": {
    "slideshow": {
     "slide_type": "fragment"
    }
   },
   "outputs": [
    {
     "data": {
      "text/html": [
       "<div>\n",
       "<style scoped>\n",
       "    .dataframe tbody tr th:only-of-type {\n",
       "        vertical-align: middle;\n",
       "    }\n",
       "\n",
       "    .dataframe tbody tr th {\n",
       "        vertical-align: top;\n",
       "    }\n",
       "\n",
       "    .dataframe thead th {\n",
       "        text-align: right;\n",
       "    }\n",
       "</style>\n",
       "<table border=\"1\" class=\"dataframe\">\n",
       "  <thead>\n",
       "    <tr style=\"text-align: right;\">\n",
       "      <th></th>\n",
       "      <th>Name</th>\n",
       "      <th>Statistics</th>\n",
       "      <th>Accounting</th>\n",
       "      <th>Marketing</th>\n",
       "    </tr>\n",
       "  </thead>\n",
       "  <tbody>\n",
       "    <tr>\n",
       "      <th>0</th>\n",
       "      <td>Jim</td>\n",
       "      <td>85</td>\n",
       "      <td>82</td>\n",
       "      <td>84</td>\n",
       "    </tr>\n",
       "    <tr>\n",
       "      <th>1</th>\n",
       "      <td>Ella</td>\n",
       "      <td>95</td>\n",
       "      <td>90</td>\n",
       "      <td>89</td>\n",
       "    </tr>\n",
       "    <tr>\n",
       "      <th>2</th>\n",
       "      <td>Jack</td>\n",
       "      <td>90</td>\n",
       "      <td>88</td>\n",
       "      <td>78</td>\n",
       "    </tr>\n",
       "  </tbody>\n",
       "</table>\n",
       "</div>"
      ],
      "text/plain": [
       "   Name Statistics Accounting Marketing\n",
       "0   Jim         85         82        84\n",
       "1  Ella         95         90        89\n",
       "2  Jack         90         88        78"
      ]
     },
     "execution_count": 337,
     "metadata": {},
     "output_type": "execute_result"
    }
   ],
   "source": [
    "df.iloc[1] = [\"Ella\", 95, 90, 89]  # revise all the values in row 2 to the list values\n",
    "df"
   ]
  },
  {
   "cell_type": "markdown",
   "id": "1a260e9e",
   "metadata": {
    "slideshow": {
     "slide_type": "subslide"
    }
   },
   "source": [
    "Revise the value in some cell:"
   ]
  },
  {
   "cell_type": "code",
   "execution_count": 338,
   "id": "92081ee6",
   "metadata": {
    "scrolled": true,
    "slideshow": {
     "slide_type": "fragment"
    }
   },
   "outputs": [
    {
     "data": {
      "text/html": [
       "<div>\n",
       "<style scoped>\n",
       "    .dataframe tbody tr th:only-of-type {\n",
       "        vertical-align: middle;\n",
       "    }\n",
       "\n",
       "    .dataframe tbody tr th {\n",
       "        vertical-align: top;\n",
       "    }\n",
       "\n",
       "    .dataframe thead th {\n",
       "        text-align: right;\n",
       "    }\n",
       "</style>\n",
       "<table border=\"1\" class=\"dataframe\">\n",
       "  <thead>\n",
       "    <tr style=\"text-align: right;\">\n",
       "      <th></th>\n",
       "      <th>Name</th>\n",
       "      <th>Statistics</th>\n",
       "      <th>Accounting</th>\n",
       "      <th>Marketing</th>\n",
       "    </tr>\n",
       "  </thead>\n",
       "  <tbody>\n",
       "    <tr>\n",
       "      <th>0</th>\n",
       "      <td>Jim</td>\n",
       "      <td>85</td>\n",
       "      <td>82</td>\n",
       "      <td>84</td>\n",
       "    </tr>\n",
       "    <tr>\n",
       "      <th>1</th>\n",
       "      <td>Ella</td>\n",
       "      <td>55</td>\n",
       "      <td>90</td>\n",
       "      <td>89</td>\n",
       "    </tr>\n",
       "    <tr>\n",
       "      <th>2</th>\n",
       "      <td>Jack</td>\n",
       "      <td>90</td>\n",
       "      <td>88</td>\n",
       "      <td>78</td>\n",
       "    </tr>\n",
       "  </tbody>\n",
       "</table>\n",
       "</div>"
      ],
      "text/plain": [
       "   Name Statistics Accounting Marketing\n",
       "0   Jim         85         82        84\n",
       "1  Ella         55         90        89\n",
       "2  Jack         90         88        78"
      ]
     },
     "execution_count": 338,
     "metadata": {},
     "output_type": "execute_result"
    }
   ],
   "source": [
    "df.iloc[1, 1] = 55  \n",
    "df"
   ]
  },
  {
   "cell_type": "markdown",
   "id": "bc29b9c2-f9a4-4304-986c-85b8ef8945c3",
   "metadata": {},
   "source": [
    "To change the data type of column, using method `astype()`."
   ]
  },
  {
   "cell_type": "code",
   "execution_count": 342,
   "id": "a3aa61f5-bf94-42e1-8538-f00c3f607bd6",
   "metadata": {},
   "outputs": [
    {
     "data": {
      "text/plain": [
       "0    84.0\n",
       "1    89.0\n",
       "2    78.0\n",
       "Name: Marketing, dtype: float64"
      ]
     },
     "execution_count": 342,
     "metadata": {},
     "output_type": "execute_result"
    }
   ],
   "source": [
    "df['Marketing'].astype(float)"
   ]
  },
  {
   "cell_type": "markdown",
   "id": "0cc68524",
   "metadata": {
    "slideshow": {
     "slide_type": "slide"
    }
   },
   "source": [
    "## Add, delete and merge data\n",
    "<hr>"
   ]
  },
  {
   "cell_type": "markdown",
   "id": "1c94b80b",
   "metadata": {
    "slideshow": {
     "slide_type": "fragment"
    }
   },
   "source": [
    "### Add data\n",
    "<hr>\n",
    "\n",
    "To add a new column at the end of the original data, the syntax is similar to revising the data, using `[ ]` and `.loc[ ]` for adding columns or rows:"
   ]
  },
  {
   "cell_type": "code",
   "execution_count": 151,
   "id": "9102b318",
   "metadata": {
    "slideshow": {
     "slide_type": "fragment"
    }
   },
   "outputs": [
    {
     "data": {
      "text/html": [
       "<div>\n",
       "<style scoped>\n",
       "    .dataframe tbody tr th:only-of-type {\n",
       "        vertical-align: middle;\n",
       "    }\n",
       "\n",
       "    .dataframe tbody tr th {\n",
       "        vertical-align: top;\n",
       "    }\n",
       "\n",
       "    .dataframe thead th {\n",
       "        text-align: right;\n",
       "    }\n",
       "</style>\n",
       "<table border=\"1\" class=\"dataframe\">\n",
       "  <thead>\n",
       "    <tr style=\"text-align: right;\">\n",
       "      <th></th>\n",
       "      <th>Name</th>\n",
       "      <th>Statistics</th>\n",
       "      <th>Accounting</th>\n",
       "      <th>Marketing</th>\n",
       "      <th>Python Programming</th>\n",
       "    </tr>\n",
       "  </thead>\n",
       "  <tbody>\n",
       "    <tr>\n",
       "      <th>0</th>\n",
       "      <td>Jim</td>\n",
       "      <td>85</td>\n",
       "      <td>64</td>\n",
       "      <td>84</td>\n",
       "      <td>60</td>\n",
       "    </tr>\n",
       "    <tr>\n",
       "      <th>1</th>\n",
       "      <td>Ella</td>\n",
       "      <td>55</td>\n",
       "      <td>90</td>\n",
       "      <td>89</td>\n",
       "      <td>60</td>\n",
       "    </tr>\n",
       "    <tr>\n",
       "      <th>2</th>\n",
       "      <td>Jack</td>\n",
       "      <td>90</td>\n",
       "      <td>88</td>\n",
       "      <td>78</td>\n",
       "      <td>60</td>\n",
       "    </tr>\n",
       "  </tbody>\n",
       "</table>\n",
       "</div>"
      ],
      "text/plain": [
       "   Name  Statistics  Accounting  Marketing  Python Programming\n",
       "0   Jim          85          64         84                  60\n",
       "1  Ella          55          90         89                  60\n",
       "2  Jack          90          88         78                  60"
      ]
     },
     "execution_count": 151,
     "metadata": {},
     "output_type": "execute_result"
    }
   ],
   "source": [
    "df[\"Python Programming\"] = 60 # add one column of data in which all the values equal a single value\n",
    "df"
   ]
  },
  {
   "cell_type": "code",
   "execution_count": 152,
   "id": "7f3ee7a2-4392-4493-ac94-80f091f7ddf0",
   "metadata": {},
   "outputs": [
    {
     "data": {
      "text/html": [
       "<div>\n",
       "<style scoped>\n",
       "    .dataframe tbody tr th:only-of-type {\n",
       "        vertical-align: middle;\n",
       "    }\n",
       "\n",
       "    .dataframe tbody tr th {\n",
       "        vertical-align: top;\n",
       "    }\n",
       "\n",
       "    .dataframe thead th {\n",
       "        text-align: right;\n",
       "    }\n",
       "</style>\n",
       "<table border=\"1\" class=\"dataframe\">\n",
       "  <thead>\n",
       "    <tr style=\"text-align: right;\">\n",
       "      <th></th>\n",
       "      <th>Name</th>\n",
       "      <th>Statistics</th>\n",
       "      <th>Accounting</th>\n",
       "      <th>Marketing</th>\n",
       "      <th>Python Programming</th>\n",
       "      <th>Financing</th>\n",
       "    </tr>\n",
       "  </thead>\n",
       "  <tbody>\n",
       "    <tr>\n",
       "      <th>0</th>\n",
       "      <td>Jim</td>\n",
       "      <td>85</td>\n",
       "      <td>64</td>\n",
       "      <td>84</td>\n",
       "      <td>60</td>\n",
       "      <td>60</td>\n",
       "    </tr>\n",
       "    <tr>\n",
       "      <th>1</th>\n",
       "      <td>Ella</td>\n",
       "      <td>55</td>\n",
       "      <td>90</td>\n",
       "      <td>89</td>\n",
       "      <td>60</td>\n",
       "      <td>50</td>\n",
       "    </tr>\n",
       "    <tr>\n",
       "      <th>2</th>\n",
       "      <td>Jack</td>\n",
       "      <td>90</td>\n",
       "      <td>88</td>\n",
       "      <td>78</td>\n",
       "      <td>60</td>\n",
       "      <td>70</td>\n",
       "    </tr>\n",
       "  </tbody>\n",
       "</table>\n",
       "</div>"
      ],
      "text/plain": [
       "   Name  Statistics  Accounting  Marketing  Python Programming  Financing\n",
       "0   Jim          85          64         84                  60         60\n",
       "1  Ella          55          90         89                  60         50\n",
       "2  Jack          90          88         78                  60         70"
      ]
     },
     "execution_count": 152,
     "metadata": {},
     "output_type": "execute_result"
    }
   ],
   "source": [
    "df[\"Financing\"] = [60, 50, 70] # add one column of data in which the values equal to a list\n",
    "df"
   ]
  },
  {
   "cell_type": "markdown",
   "id": "dc0daa07",
   "metadata": {
    "slideshow": {
     "slide_type": "subslide"
    }
   },
   "source": [
    "To add a new row at the end of the original data, using `.loc[ ]`.\n",
    "- not `.iloc[ ]`, which can't enlarge the DataFrame."
   ]
  },
  {
   "cell_type": "code",
   "execution_count": 153,
   "id": "d3210445",
   "metadata": {
    "slideshow": {
     "slide_type": "fragment"
    }
   },
   "outputs": [
    {
     "data": {
      "text/html": [
       "<div>\n",
       "<style scoped>\n",
       "    .dataframe tbody tr th:only-of-type {\n",
       "        vertical-align: middle;\n",
       "    }\n",
       "\n",
       "    .dataframe tbody tr th {\n",
       "        vertical-align: top;\n",
       "    }\n",
       "\n",
       "    .dataframe thead th {\n",
       "        text-align: right;\n",
       "    }\n",
       "</style>\n",
       "<table border=\"1\" class=\"dataframe\">\n",
       "  <thead>\n",
       "    <tr style=\"text-align: right;\">\n",
       "      <th></th>\n",
       "      <th>Name</th>\n",
       "      <th>Statistics</th>\n",
       "      <th>Accounting</th>\n",
       "      <th>Marketing</th>\n",
       "      <th>Python Programming</th>\n",
       "      <th>Financing</th>\n",
       "    </tr>\n",
       "  </thead>\n",
       "  <tbody>\n",
       "    <tr>\n",
       "      <th>0</th>\n",
       "      <td>Jim</td>\n",
       "      <td>85.0</td>\n",
       "      <td>64.0</td>\n",
       "      <td>84.0</td>\n",
       "      <td>60.0</td>\n",
       "      <td>60.0</td>\n",
       "    </tr>\n",
       "    <tr>\n",
       "      <th>1</th>\n",
       "      <td>Ella</td>\n",
       "      <td>55.0</td>\n",
       "      <td>90.0</td>\n",
       "      <td>89.0</td>\n",
       "      <td>60.0</td>\n",
       "      <td>50.0</td>\n",
       "    </tr>\n",
       "    <tr>\n",
       "      <th>2</th>\n",
       "      <td>Jack</td>\n",
       "      <td>90.0</td>\n",
       "      <td>88.0</td>\n",
       "      <td>78.0</td>\n",
       "      <td>60.0</td>\n",
       "      <td>70.0</td>\n",
       "    </tr>\n",
       "    <tr>\n",
       "      <th>3</th>\n",
       "      <td>David</td>\n",
       "      <td>65.0</td>\n",
       "      <td>70.0</td>\n",
       "      <td>69.0</td>\n",
       "      <td>55.0</td>\n",
       "      <td>83.0</td>\n",
       "    </tr>\n",
       "  </tbody>\n",
       "</table>\n",
       "</div>"
      ],
      "text/plain": [
       "    Name  Statistics  Accounting  Marketing  Python Programming  Financing\n",
       "0    Jim        85.0        64.0       84.0                60.0       60.0\n",
       "1   Ella        55.0        90.0       89.0                60.0       50.0\n",
       "2   Jack        90.0        88.0       78.0                60.0       70.0\n",
       "3  David        65.0        70.0       69.0                55.0       83.0"
      ]
     },
     "execution_count": 153,
     "metadata": {},
     "output_type": "execute_result"
    }
   ],
   "source": [
    "df.loc[3,:] = [\"David\", 65, 70, 69, 55, 83] \n",
    "df"
   ]
  },
  {
   "cell_type": "markdown",
   "id": "938191e0",
   "metadata": {
    "slideshow": {
     "slide_type": "subslide"
    }
   },
   "source": [
    "If inserting a column to specific index, using the method ``insert``."
   ]
  },
  {
   "cell_type": "code",
   "execution_count": 154,
   "id": "5aee3948",
   "metadata": {
    "slideshow": {
     "slide_type": "fragment"
    }
   },
   "outputs": [
    {
     "data": {
      "text/html": [
       "<div>\n",
       "<style scoped>\n",
       "    .dataframe tbody tr th:only-of-type {\n",
       "        vertical-align: middle;\n",
       "    }\n",
       "\n",
       "    .dataframe tbody tr th {\n",
       "        vertical-align: top;\n",
       "    }\n",
       "\n",
       "    .dataframe thead th {\n",
       "        text-align: right;\n",
       "    }\n",
       "</style>\n",
       "<table border=\"1\" class=\"dataframe\">\n",
       "  <thead>\n",
       "    <tr style=\"text-align: right;\">\n",
       "      <th></th>\n",
       "      <th>Name</th>\n",
       "      <th>Economy</th>\n",
       "      <th>Statistics</th>\n",
       "      <th>Accounting</th>\n",
       "      <th>Marketing</th>\n",
       "      <th>Python Programming</th>\n",
       "      <th>Financing</th>\n",
       "    </tr>\n",
       "  </thead>\n",
       "  <tbody>\n",
       "    <tr>\n",
       "      <th>0</th>\n",
       "      <td>Jim</td>\n",
       "      <td>61</td>\n",
       "      <td>85.0</td>\n",
       "      <td>64.0</td>\n",
       "      <td>84.0</td>\n",
       "      <td>60.0</td>\n",
       "      <td>60.0</td>\n",
       "    </tr>\n",
       "    <tr>\n",
       "      <th>1</th>\n",
       "      <td>Ella</td>\n",
       "      <td>72</td>\n",
       "      <td>55.0</td>\n",
       "      <td>90.0</td>\n",
       "      <td>89.0</td>\n",
       "      <td>60.0</td>\n",
       "      <td>50.0</td>\n",
       "    </tr>\n",
       "    <tr>\n",
       "      <th>2</th>\n",
       "      <td>Jack</td>\n",
       "      <td>84</td>\n",
       "      <td>90.0</td>\n",
       "      <td>88.0</td>\n",
       "      <td>78.0</td>\n",
       "      <td>60.0</td>\n",
       "      <td>70.0</td>\n",
       "    </tr>\n",
       "    <tr>\n",
       "      <th>3</th>\n",
       "      <td>David</td>\n",
       "      <td>81</td>\n",
       "      <td>65.0</td>\n",
       "      <td>70.0</td>\n",
       "      <td>69.0</td>\n",
       "      <td>55.0</td>\n",
       "      <td>83.0</td>\n",
       "    </tr>\n",
       "  </tbody>\n",
       "</table>\n",
       "</div>"
      ],
      "text/plain": [
       "    Name  Economy  Statistics  Accounting  Marketing  Python Programming  \\\n",
       "0    Jim       61        85.0        64.0       84.0                60.0   \n",
       "1   Ella       72        55.0        90.0       89.0                60.0   \n",
       "2   Jack       84        90.0        88.0       78.0                60.0   \n",
       "3  David       81        65.0        70.0       69.0                55.0   \n",
       "\n",
       "   Financing  \n",
       "0       60.0  \n",
       "1       50.0  \n",
       "2       70.0  \n",
       "3       83.0  "
      ]
     },
     "execution_count": 154,
     "metadata": {},
     "output_type": "execute_result"
    }
   ],
   "source": [
    "df.insert(1, \"Economy\", [61, 72, 84, 81])  # insert a new column at column index 1\n",
    "df"
   ]
  },
  {
   "cell_type": "markdown",
   "id": "638e4d2f",
   "metadata": {
    "slideshow": {
     "slide_type": "subslide"
    }
   },
   "source": [
    "To insert rows at a specific position, Pandas currently does not have a dedicated method for this operation. The common approach is to use the `concat()` method to combine multiple DataFrames. Additionally, both `concat()` and `merge()` can be used to add multiple columns or rows. For detailed usage, please refer to the \"Merge Data\" section later in this documentation."
   ]
  },
  {
   "cell_type": "markdown",
   "id": "9c26859e",
   "metadata": {
    "slideshow": {
     "slide_type": "slide"
    }
   },
   "source": [
    "### Delete data\n",
    "<hr>"
   ]
  },
  {
   "cell_type": "markdown",
   "id": "2bd5241a",
   "metadata": {
    "slideshow": {
     "slide_type": "fragment"
    }
   },
   "source": [
    "Pandas can use the `drop()` method to remove rows or columns. **To delete a row, specify the row index as the parameter along with `inplace=True`**. If the `inplace=True` parameter is omitted, the original DataFrame remains unchanged."
   ]
  },
  {
   "cell_type": "code",
   "execution_count": 155,
   "id": "6b50f030",
   "metadata": {
    "slideshow": {
     "slide_type": "fragment"
    }
   },
   "outputs": [
    {
     "data": {
      "text/html": [
       "<div>\n",
       "<style scoped>\n",
       "    .dataframe tbody tr th:only-of-type {\n",
       "        vertical-align: middle;\n",
       "    }\n",
       "\n",
       "    .dataframe tbody tr th {\n",
       "        vertical-align: top;\n",
       "    }\n",
       "\n",
       "    .dataframe thead th {\n",
       "        text-align: right;\n",
       "    }\n",
       "</style>\n",
       "<table border=\"1\" class=\"dataframe\">\n",
       "  <thead>\n",
       "    <tr style=\"text-align: right;\">\n",
       "      <th></th>\n",
       "      <th>Name</th>\n",
       "      <th>Economy</th>\n",
       "      <th>Statistics</th>\n",
       "      <th>Accounting</th>\n",
       "      <th>Marketing</th>\n",
       "      <th>Python Programming</th>\n",
       "      <th>Financing</th>\n",
       "    </tr>\n",
       "  </thead>\n",
       "  <tbody>\n",
       "    <tr>\n",
       "      <th>0</th>\n",
       "      <td>Jim</td>\n",
       "      <td>61</td>\n",
       "      <td>85.0</td>\n",
       "      <td>64.0</td>\n",
       "      <td>84.0</td>\n",
       "      <td>60.0</td>\n",
       "      <td>60.0</td>\n",
       "    </tr>\n",
       "    <tr>\n",
       "      <th>1</th>\n",
       "      <td>Ella</td>\n",
       "      <td>72</td>\n",
       "      <td>55.0</td>\n",
       "      <td>90.0</td>\n",
       "      <td>89.0</td>\n",
       "      <td>60.0</td>\n",
       "      <td>50.0</td>\n",
       "    </tr>\n",
       "    <tr>\n",
       "      <th>2</th>\n",
       "      <td>Jack</td>\n",
       "      <td>84</td>\n",
       "      <td>90.0</td>\n",
       "      <td>88.0</td>\n",
       "      <td>78.0</td>\n",
       "      <td>60.0</td>\n",
       "      <td>70.0</td>\n",
       "    </tr>\n",
       "  </tbody>\n",
       "</table>\n",
       "</div>"
      ],
      "text/plain": [
       "   Name  Economy  Statistics  Accounting  Marketing  Python Programming  \\\n",
       "0   Jim       61        85.0        64.0       84.0                60.0   \n",
       "1  Ella       72        55.0        90.0       89.0                60.0   \n",
       "2  Jack       84        90.0        88.0       78.0                60.0   \n",
       "\n",
       "   Financing  \n",
       "0       60.0  \n",
       "1       50.0  \n",
       "2       70.0  "
      ]
     },
     "execution_count": 155,
     "metadata": {},
     "output_type": "execute_result"
    }
   ],
   "source": [
    "df.drop(3, inplace=True)  # delete the 3rd row\n",
    "df"
   ]
  },
  {
   "cell_type": "markdown",
   "id": "362c6586",
   "metadata": {
    "slideshow": {
     "slide_type": "subslide"
    }
   },
   "source": [
    "- To delete a row, using `drop() ` with an additional parameter ``axis = 1``**"
   ]
  },
  {
   "cell_type": "code",
   "execution_count": 156,
   "id": "6b82d580",
   "metadata": {
    "scrolled": true,
    "slideshow": {
     "slide_type": "fragment"
    }
   },
   "outputs": [
    {
     "data": {
      "text/html": [
       "<div>\n",
       "<style scoped>\n",
       "    .dataframe tbody tr th:only-of-type {\n",
       "        vertical-align: middle;\n",
       "    }\n",
       "\n",
       "    .dataframe tbody tr th {\n",
       "        vertical-align: top;\n",
       "    }\n",
       "\n",
       "    .dataframe thead th {\n",
       "        text-align: right;\n",
       "    }\n",
       "</style>\n",
       "<table border=\"1\" class=\"dataframe\">\n",
       "  <thead>\n",
       "    <tr style=\"text-align: right;\">\n",
       "      <th></th>\n",
       "      <th>Name</th>\n",
       "      <th>Economy</th>\n",
       "      <th>Statistics</th>\n",
       "      <th>Accounting</th>\n",
       "      <th>Marketing</th>\n",
       "      <th>Financing</th>\n",
       "    </tr>\n",
       "  </thead>\n",
       "  <tbody>\n",
       "    <tr>\n",
       "      <th>0</th>\n",
       "      <td>Jim</td>\n",
       "      <td>61</td>\n",
       "      <td>85.0</td>\n",
       "      <td>64.0</td>\n",
       "      <td>84.0</td>\n",
       "      <td>60.0</td>\n",
       "    </tr>\n",
       "    <tr>\n",
       "      <th>1</th>\n",
       "      <td>Ella</td>\n",
       "      <td>72</td>\n",
       "      <td>55.0</td>\n",
       "      <td>90.0</td>\n",
       "      <td>89.0</td>\n",
       "      <td>50.0</td>\n",
       "    </tr>\n",
       "    <tr>\n",
       "      <th>2</th>\n",
       "      <td>Jack</td>\n",
       "      <td>84</td>\n",
       "      <td>90.0</td>\n",
       "      <td>88.0</td>\n",
       "      <td>78.0</td>\n",
       "      <td>70.0</td>\n",
       "    </tr>\n",
       "  </tbody>\n",
       "</table>\n",
       "</div>"
      ],
      "text/plain": [
       "   Name  Economy  Statistics  Accounting  Marketing  Financing\n",
       "0   Jim       61        85.0        64.0       84.0       60.0\n",
       "1  Ella       72        55.0        90.0       89.0       50.0\n",
       "2  Jack       84        90.0        88.0       78.0       70.0"
      ]
     },
     "execution_count": 156,
     "metadata": {},
     "output_type": "execute_result"
    }
   ],
   "source": [
    "df.drop(\"Python Programming\", inplace=True, axis=1)\n",
    "df"
   ]
  },
  {
   "cell_type": "markdown",
   "id": "cb33d507-5979-4507-adf0-ee6df8289da6",
   "metadata": {},
   "source": [
    "- To delete multi rows or columns, using `drop()` with the indices or lables in a list."
   ]
  },
  {
   "cell_type": "code",
   "execution_count": 157,
   "id": "ef385cfb",
   "metadata": {
    "scrolled": true,
    "slideshow": {
     "slide_type": "fragment"
    }
   },
   "outputs": [
    {
     "data": {
      "text/html": [
       "<div>\n",
       "<style scoped>\n",
       "    .dataframe tbody tr th:only-of-type {\n",
       "        vertical-align: middle;\n",
       "    }\n",
       "\n",
       "    .dataframe tbody tr th {\n",
       "        vertical-align: top;\n",
       "    }\n",
       "\n",
       "    .dataframe thead th {\n",
       "        text-align: right;\n",
       "    }\n",
       "</style>\n",
       "<table border=\"1\" class=\"dataframe\">\n",
       "  <thead>\n",
       "    <tr style=\"text-align: right;\">\n",
       "      <th></th>\n",
       "      <th>Name</th>\n",
       "      <th>Economy</th>\n",
       "      <th>Statistics</th>\n",
       "      <th>Accounting</th>\n",
       "    </tr>\n",
       "  </thead>\n",
       "  <tbody>\n",
       "    <tr>\n",
       "      <th>0</th>\n",
       "      <td>Jim</td>\n",
       "      <td>61</td>\n",
       "      <td>85.0</td>\n",
       "      <td>64.0</td>\n",
       "    </tr>\n",
       "    <tr>\n",
       "      <th>1</th>\n",
       "      <td>Ella</td>\n",
       "      <td>72</td>\n",
       "      <td>55.0</td>\n",
       "      <td>90.0</td>\n",
       "    </tr>\n",
       "    <tr>\n",
       "      <th>2</th>\n",
       "      <td>Jack</td>\n",
       "      <td>84</td>\n",
       "      <td>90.0</td>\n",
       "      <td>88.0</td>\n",
       "    </tr>\n",
       "  </tbody>\n",
       "</table>\n",
       "</div>"
      ],
      "text/plain": [
       "   Name  Economy  Statistics  Accounting\n",
       "0   Jim       61        85.0        64.0\n",
       "1  Ella       72        55.0        90.0\n",
       "2  Jack       84        90.0        88.0"
      ]
     },
     "execution_count": 157,
     "metadata": {},
     "output_type": "execute_result"
    }
   ],
   "source": [
    "df.drop([\"Marketing\", \"Financing\"], inplace=True, axis=1)  # delete two columns\n",
    "df"
   ]
  },
  {
   "cell_type": "code",
   "execution_count": 158,
   "id": "4f9b77fa-db22-4a58-afb7-037bc0c879c5",
   "metadata": {},
   "outputs": [
    {
     "data": {
      "text/html": [
       "<div>\n",
       "<style scoped>\n",
       "    .dataframe tbody tr th:only-of-type {\n",
       "        vertical-align: middle;\n",
       "    }\n",
       "\n",
       "    .dataframe tbody tr th {\n",
       "        vertical-align: top;\n",
       "    }\n",
       "\n",
       "    .dataframe thead th {\n",
       "        text-align: right;\n",
       "    }\n",
       "</style>\n",
       "<table border=\"1\" class=\"dataframe\">\n",
       "  <thead>\n",
       "    <tr style=\"text-align: right;\">\n",
       "      <th></th>\n",
       "      <th>Name</th>\n",
       "      <th>Economy</th>\n",
       "      <th>Statistics</th>\n",
       "      <th>Accounting</th>\n",
       "    </tr>\n",
       "  </thead>\n",
       "  <tbody>\n",
       "    <tr>\n",
       "      <th>1</th>\n",
       "      <td>Ella</td>\n",
       "      <td>72</td>\n",
       "      <td>55.0</td>\n",
       "      <td>90.0</td>\n",
       "    </tr>\n",
       "  </tbody>\n",
       "</table>\n",
       "</div>"
      ],
      "text/plain": [
       "   Name  Economy  Statistics  Accounting\n",
       "1  Ella       72        55.0        90.0"
      ]
     },
     "execution_count": 158,
     "metadata": {},
     "output_type": "execute_result"
    }
   ],
   "source": [
    "df.drop([0, 2], inplace=True) # delete two rows\n",
    "df"
   ]
  },
  {
   "cell_type": "markdown",
   "id": "4c826af1-03a8-4309-9ad5-54f68693d8dc",
   "metadata": {},
   "source": [
    "- `drop()` method can drop data with conditions. For example:"
   ]
  },
  {
   "cell_type": "code",
   "execution_count": 162,
   "id": "4a11b4be-e946-4d96-b88b-76ac57fbbc3b",
   "metadata": {
    "scrolled": true
   },
   "outputs": [
    {
     "data": {
      "text/html": [
       "<div>\n",
       "<style scoped>\n",
       "    .dataframe tbody tr th:only-of-type {\n",
       "        vertical-align: middle;\n",
       "    }\n",
       "\n",
       "    .dataframe tbody tr th {\n",
       "        vertical-align: top;\n",
       "    }\n",
       "\n",
       "    .dataframe thead th {\n",
       "        text-align: right;\n",
       "    }\n",
       "</style>\n",
       "<table border=\"1\" class=\"dataframe\">\n",
       "  <thead>\n",
       "    <tr style=\"text-align: right;\">\n",
       "      <th></th>\n",
       "      <th>Name</th>\n",
       "      <th>Statistics</th>\n",
       "      <th>Accounting</th>\n",
       "      <th>Marketing</th>\n",
       "    </tr>\n",
       "  </thead>\n",
       "  <tbody>\n",
       "    <tr>\n",
       "      <th>0</th>\n",
       "      <td>Jim</td>\n",
       "      <td>85</td>\n",
       "      <td>82</td>\n",
       "      <td>84</td>\n",
       "    </tr>\n",
       "    <tr>\n",
       "      <th>2</th>\n",
       "      <td>Jack</td>\n",
       "      <td>90</td>\n",
       "      <td>88</td>\n",
       "      <td>78</td>\n",
       "    </tr>\n",
       "  </tbody>\n",
       "</table>\n",
       "</div>"
      ],
      "text/plain": [
       "   Name  Statistics  Accounting  Marketing\n",
       "0   Jim          85          82         84\n",
       "2  Jack          90          88         78"
      ]
     },
     "execution_count": 162,
     "metadata": {},
     "output_type": "execute_result"
    }
   ],
   "source": [
    "df = pd.DataFrame(\n",
    "    {\n",
    "        \"Name\": [\"Jim\", \"Lily\", \"Jack\"],\n",
    "        \"Statistics\": [85, 68, 90],\n",
    "        \"Accounting\": [82, 63, 88],\n",
    "        \"Marketing\": [84, 90, 78],\n",
    "    }\n",
    ")\n",
    "\n",
    "df.drop(df[df[\"Statistics\"]<70].index, inplace=True) # delete the rows in which the statistics score is higher than 70\n",
    "df"
   ]
  },
  {
   "cell_type": "markdown",
   "id": "bde2e127-49e9-461b-87f3-d37f751cece2",
   "metadata": {},
   "source": [
    "- Using `reset_index(drop=True)` to reset the row indices and drop the original indices"
   ]
  },
  {
   "cell_type": "code",
   "execution_count": 165,
   "id": "44e66dce-7184-456d-a10d-30c91835cfd7",
   "metadata": {},
   "outputs": [
    {
     "data": {
      "text/html": [
       "<div>\n",
       "<style scoped>\n",
       "    .dataframe tbody tr th:only-of-type {\n",
       "        vertical-align: middle;\n",
       "    }\n",
       "\n",
       "    .dataframe tbody tr th {\n",
       "        vertical-align: top;\n",
       "    }\n",
       "\n",
       "    .dataframe thead th {\n",
       "        text-align: right;\n",
       "    }\n",
       "</style>\n",
       "<table border=\"1\" class=\"dataframe\">\n",
       "  <thead>\n",
       "    <tr style=\"text-align: right;\">\n",
       "      <th></th>\n",
       "      <th>Name</th>\n",
       "      <th>Statistics</th>\n",
       "      <th>Accounting</th>\n",
       "      <th>Marketing</th>\n",
       "    </tr>\n",
       "  </thead>\n",
       "  <tbody>\n",
       "    <tr>\n",
       "      <th>0</th>\n",
       "      <td>Jim</td>\n",
       "      <td>85</td>\n",
       "      <td>82</td>\n",
       "      <td>84</td>\n",
       "    </tr>\n",
       "    <tr>\n",
       "      <th>1</th>\n",
       "      <td>Jack</td>\n",
       "      <td>90</td>\n",
       "      <td>88</td>\n",
       "      <td>78</td>\n",
       "    </tr>\n",
       "  </tbody>\n",
       "</table>\n",
       "</div>"
      ],
      "text/plain": [
       "   Name  Statistics  Accounting  Marketing\n",
       "0   Jim          85          82         84\n",
       "1  Jack          90          88         78"
      ]
     },
     "execution_count": 165,
     "metadata": {},
     "output_type": "execute_result"
    }
   ],
   "source": [
    "df.reset_index(drop=True)"
   ]
  },
  {
   "cell_type": "markdown",
   "id": "de6e01a6",
   "metadata": {
    "slideshow": {
     "slide_type": "slide"
    }
   },
   "source": [
    "### Merge data\n",
    "<hr>\n",
    "\n",
    "In Pandas, two commonly used method for combining datasets are concat and merge.\n",
    "\n",
    "- Use concat when the two DataFrames have identical column labels.\n",
    "\n",
    "- In other cases, merge is typically preferred."
   ]
  },
  {
   "cell_type": "code",
   "execution_count": 185,
   "id": "0fdbc925",
   "metadata": {
    "slideshow": {
     "slide_type": "fragment"
    }
   },
   "outputs": [
    {
     "data": {
      "text/html": [
       "<div>\n",
       "<style scoped>\n",
       "    .dataframe tbody tr th:only-of-type {\n",
       "        vertical-align: middle;\n",
       "    }\n",
       "\n",
       "    .dataframe tbody tr th {\n",
       "        vertical-align: top;\n",
       "    }\n",
       "\n",
       "    .dataframe thead th {\n",
       "        text-align: right;\n",
       "    }\n",
       "</style>\n",
       "<table border=\"1\" class=\"dataframe\">\n",
       "  <thead>\n",
       "    <tr style=\"text-align: right;\">\n",
       "      <th></th>\n",
       "      <th>Name</th>\n",
       "      <th>Statistics</th>\n",
       "      <th>Accounting</th>\n",
       "      <th>Marketing</th>\n",
       "    </tr>\n",
       "  </thead>\n",
       "  <tbody>\n",
       "    <tr>\n",
       "      <th>0</th>\n",
       "      <td>Jim</td>\n",
       "      <td>85</td>\n",
       "      <td>82</td>\n",
       "      <td>84</td>\n",
       "    </tr>\n",
       "    <tr>\n",
       "      <th>1</th>\n",
       "      <td>Lily</td>\n",
       "      <td>68</td>\n",
       "      <td>63</td>\n",
       "      <td>90</td>\n",
       "    </tr>\n",
       "    <tr>\n",
       "      <th>2</th>\n",
       "      <td>Jack</td>\n",
       "      <td>90</td>\n",
       "      <td>88</td>\n",
       "      <td>78</td>\n",
       "    </tr>\n",
       "  </tbody>\n",
       "</table>\n",
       "</div>"
      ],
      "text/plain": [
       "   Name  Statistics  Accounting  Marketing\n",
       "0   Jim          85          82         84\n",
       "1  Lily          68          63         90\n",
       "2  Jack          90          88         78"
      ]
     },
     "execution_count": 185,
     "metadata": {},
     "output_type": "execute_result"
    }
   ],
   "source": [
    "df1 = pd.DataFrame(\n",
    "    {\n",
    "        \"Name\": [\"Jim\", \"Lily\", \"Jack\"],\n",
    "        \"Statistics\": [85, 68, 90],\n",
    "        \"Accounting\": [82, 63, 88],\n",
    "        \"Marketing\": [84, 90, 78],\n",
    "    }\n",
    ")\n",
    "\n",
    "df1"
   ]
  },
  {
   "cell_type": "code",
   "execution_count": 179,
   "id": "a1505d65",
   "metadata": {
    "slideshow": {
     "slide_type": "fragment"
    }
   },
   "outputs": [
    {
     "data": {
      "text/html": [
       "<div>\n",
       "<style scoped>\n",
       "    .dataframe tbody tr th:only-of-type {\n",
       "        vertical-align: middle;\n",
       "    }\n",
       "\n",
       "    .dataframe tbody tr th {\n",
       "        vertical-align: top;\n",
       "    }\n",
       "\n",
       "    .dataframe thead th {\n",
       "        text-align: right;\n",
       "    }\n",
       "</style>\n",
       "<table border=\"1\" class=\"dataframe\">\n",
       "  <thead>\n",
       "    <tr style=\"text-align: right;\">\n",
       "      <th></th>\n",
       "      <th>Name</th>\n",
       "      <th>Statistics</th>\n",
       "      <th>Accounting</th>\n",
       "      <th>Marketing</th>\n",
       "    </tr>\n",
       "  </thead>\n",
       "  <tbody>\n",
       "    <tr>\n",
       "      <th>0</th>\n",
       "      <td>David</td>\n",
       "      <td>83</td>\n",
       "      <td>62</td>\n",
       "      <td>64</td>\n",
       "    </tr>\n",
       "    <tr>\n",
       "      <th>1</th>\n",
       "      <td>Ella</td>\n",
       "      <td>59</td>\n",
       "      <td>70</td>\n",
       "      <td>78</td>\n",
       "    </tr>\n",
       "  </tbody>\n",
       "</table>\n",
       "</div>"
      ],
      "text/plain": [
       "    Name  Statistics  Accounting  Marketing\n",
       "0  David          83          62         64\n",
       "1   Ella          59          70         78"
      ]
     },
     "execution_count": 179,
     "metadata": {},
     "output_type": "execute_result"
    }
   ],
   "source": [
    "df2 = pd.DataFrame(\n",
    "    {\"Name\": [\"David\", \"Ella\"], \"Statistics\": [83, 59], \"Accounting\": [62, 70], \"Marketing\": [64, 78]}\n",
    ")\n",
    "df2"
   ]
  },
  {
   "cell_type": "markdown",
   "id": "6c06c4d2",
   "metadata": {
    "slideshow": {
     "slide_type": "subslide"
    }
   },
   "source": [
    "Since the two DataFrames have same column lables, using `concat([ ])`and put the two DataFrames **in a list** to merge."
   ]
  },
  {
   "cell_type": "code",
   "execution_count": 174,
   "id": "9a462116",
   "metadata": {
    "slideshow": {
     "slide_type": "fragment"
    }
   },
   "outputs": [
    {
     "data": {
      "text/html": [
       "<div>\n",
       "<style scoped>\n",
       "    .dataframe tbody tr th:only-of-type {\n",
       "        vertical-align: middle;\n",
       "    }\n",
       "\n",
       "    .dataframe tbody tr th {\n",
       "        vertical-align: top;\n",
       "    }\n",
       "\n",
       "    .dataframe thead th {\n",
       "        text-align: right;\n",
       "    }\n",
       "</style>\n",
       "<table border=\"1\" class=\"dataframe\">\n",
       "  <thead>\n",
       "    <tr style=\"text-align: right;\">\n",
       "      <th></th>\n",
       "      <th>Name</th>\n",
       "      <th>Statistics</th>\n",
       "      <th>Accounting</th>\n",
       "      <th>Marketing</th>\n",
       "    </tr>\n",
       "  </thead>\n",
       "  <tbody>\n",
       "    <tr>\n",
       "      <th>0</th>\n",
       "      <td>Jim</td>\n",
       "      <td>85</td>\n",
       "      <td>82</td>\n",
       "      <td>84</td>\n",
       "    </tr>\n",
       "    <tr>\n",
       "      <th>1</th>\n",
       "      <td>Lily</td>\n",
       "      <td>68</td>\n",
       "      <td>63</td>\n",
       "      <td>90</td>\n",
       "    </tr>\n",
       "    <tr>\n",
       "      <th>2</th>\n",
       "      <td>Jack</td>\n",
       "      <td>90</td>\n",
       "      <td>88</td>\n",
       "      <td>78</td>\n",
       "    </tr>\n",
       "    <tr>\n",
       "      <th>0</th>\n",
       "      <td>David</td>\n",
       "      <td>83</td>\n",
       "      <td>62</td>\n",
       "      <td>64</td>\n",
       "    </tr>\n",
       "    <tr>\n",
       "      <th>1</th>\n",
       "      <td>Ella</td>\n",
       "      <td>59</td>\n",
       "      <td>70</td>\n",
       "      <td>78</td>\n",
       "    </tr>\n",
       "  </tbody>\n",
       "</table>\n",
       "</div>"
      ],
      "text/plain": [
       "    Name  Statistics  Accounting  Marketing\n",
       "0    Jim          85          82         84\n",
       "1   Lily          68          63         90\n",
       "2   Jack          90          88         78\n",
       "0  David          83          62         64\n",
       "1   Ella          59          70         78"
      ]
     },
     "execution_count": 174,
     "metadata": {},
     "output_type": "execute_result"
    }
   ],
   "source": [
    "pd.concat([df1, df2])  #  there are square brackets [ ]"
   ]
  },
  {
   "cell_type": "markdown",
   "id": "2b8e7a20",
   "metadata": {
    "slideshow": {
     "slide_type": "subslide"
    }
   },
   "source": [
    "To rename the indexes after merging, you can add the parameter `ignore_index=True`, which will reassign sequential numeric indexes starting from 0 to the merged data."
   ]
  },
  {
   "cell_type": "code",
   "execution_count": 175,
   "id": "319310c1",
   "metadata": {
    "slideshow": {
     "slide_type": "fragment"
    }
   },
   "outputs": [
    {
     "data": {
      "text/html": [
       "<div>\n",
       "<style scoped>\n",
       "    .dataframe tbody tr th:only-of-type {\n",
       "        vertical-align: middle;\n",
       "    }\n",
       "\n",
       "    .dataframe tbody tr th {\n",
       "        vertical-align: top;\n",
       "    }\n",
       "\n",
       "    .dataframe thead th {\n",
       "        text-align: right;\n",
       "    }\n",
       "</style>\n",
       "<table border=\"1\" class=\"dataframe\">\n",
       "  <thead>\n",
       "    <tr style=\"text-align: right;\">\n",
       "      <th></th>\n",
       "      <th>Name</th>\n",
       "      <th>Statistics</th>\n",
       "      <th>Accounting</th>\n",
       "      <th>Marketing</th>\n",
       "    </tr>\n",
       "  </thead>\n",
       "  <tbody>\n",
       "    <tr>\n",
       "      <th>0</th>\n",
       "      <td>Jim</td>\n",
       "      <td>85</td>\n",
       "      <td>82</td>\n",
       "      <td>84</td>\n",
       "    </tr>\n",
       "    <tr>\n",
       "      <th>1</th>\n",
       "      <td>Lily</td>\n",
       "      <td>68</td>\n",
       "      <td>63</td>\n",
       "      <td>90</td>\n",
       "    </tr>\n",
       "    <tr>\n",
       "      <th>2</th>\n",
       "      <td>Jack</td>\n",
       "      <td>90</td>\n",
       "      <td>88</td>\n",
       "      <td>78</td>\n",
       "    </tr>\n",
       "    <tr>\n",
       "      <th>3</th>\n",
       "      <td>David</td>\n",
       "      <td>83</td>\n",
       "      <td>62</td>\n",
       "      <td>64</td>\n",
       "    </tr>\n",
       "    <tr>\n",
       "      <th>4</th>\n",
       "      <td>Ella</td>\n",
       "      <td>59</td>\n",
       "      <td>70</td>\n",
       "      <td>78</td>\n",
       "    </tr>\n",
       "  </tbody>\n",
       "</table>\n",
       "</div>"
      ],
      "text/plain": [
       "    Name  Statistics  Accounting  Marketing\n",
       "0    Jim          85          82         84\n",
       "1   Lily          68          63         90\n",
       "2   Jack          90          88         78\n",
       "3  David          83          62         64\n",
       "4   Ella          59          70         78"
      ]
     },
     "execution_count": 175,
     "metadata": {},
     "output_type": "execute_result"
    }
   ],
   "source": [
    "pd.concat([df1, df2], ignore_index=True)"
   ]
  },
  {
   "cell_type": "markdown",
   "id": "5e49ddc7-478b-4f82-98a6-e0689c6fe712",
   "metadata": {},
   "source": [
    "- concat 默认按行合并，若按列合并，可以在小括号内添加参数`axis=1`"
   ]
  },
  {
   "cell_type": "markdown",
   "id": "87b7f7e3",
   "metadata": {
    "slideshow": {
     "slide_type": "subslide"
    }
   },
   "source": [
    "假如有下面的数据："
   ]
  },
  {
   "cell_type": "code",
   "execution_count": 191,
   "id": "cdc1c959",
   "metadata": {
    "scrolled": true,
    "slideshow": {
     "slide_type": "fragment"
    }
   },
   "outputs": [
    {
     "data": {
      "text/html": [
       "<div>\n",
       "<style scoped>\n",
       "    .dataframe tbody tr th:only-of-type {\n",
       "        vertical-align: middle;\n",
       "    }\n",
       "\n",
       "    .dataframe tbody tr th {\n",
       "        vertical-align: top;\n",
       "    }\n",
       "\n",
       "    .dataframe thead th {\n",
       "        text-align: right;\n",
       "    }\n",
       "</style>\n",
       "<table border=\"1\" class=\"dataframe\">\n",
       "  <thead>\n",
       "    <tr style=\"text-align: right;\">\n",
       "      <th></th>\n",
       "      <th>Name</th>\n",
       "      <th>Python</th>\n",
       "      <th>Business Modelling</th>\n",
       "    </tr>\n",
       "  </thead>\n",
       "  <tbody>\n",
       "    <tr>\n",
       "      <th>0</th>\n",
       "      <td>Jim</td>\n",
       "      <td>65</td>\n",
       "      <td>72</td>\n",
       "    </tr>\n",
       "    <tr>\n",
       "      <th>1</th>\n",
       "      <td>Lily</td>\n",
       "      <td>68</td>\n",
       "      <td>63</td>\n",
       "    </tr>\n",
       "    <tr>\n",
       "      <th>2</th>\n",
       "      <td>Jack</td>\n",
       "      <td>60</td>\n",
       "      <td>78</td>\n",
       "    </tr>\n",
       "  </tbody>\n",
       "</table>\n",
       "</div>"
      ],
      "text/plain": [
       "   Name  Python  Business Modelling\n",
       "0   Jim      65                  72\n",
       "1  Lily      68                  63\n",
       "2  Jack      60                  78"
      ]
     },
     "execution_count": 191,
     "metadata": {},
     "output_type": "execute_result"
    }
   ],
   "source": [
    "df3 = pd.DataFrame(\n",
    "    {\n",
    "        \"Name\": [\"Jim\", \"Lily\", \"Jack\"],\n",
    "        \"Python\": [65, 68, 60],\n",
    "        \"Business Modelling\": [72, 63, 78],\n",
    "    }\n",
    ")\n",
    "\n",
    "df3"
   ]
  },
  {
   "cell_type": "code",
   "execution_count": 188,
   "id": "dfeb60d1-d3d7-47ad-b69c-23c68a21982a",
   "metadata": {},
   "outputs": [
    {
     "data": {
      "text/html": [
       "<div>\n",
       "<style scoped>\n",
       "    .dataframe tbody tr th:only-of-type {\n",
       "        vertical-align: middle;\n",
       "    }\n",
       "\n",
       "    .dataframe tbody tr th {\n",
       "        vertical-align: top;\n",
       "    }\n",
       "\n",
       "    .dataframe thead th {\n",
       "        text-align: right;\n",
       "    }\n",
       "</style>\n",
       "<table border=\"1\" class=\"dataframe\">\n",
       "  <thead>\n",
       "    <tr style=\"text-align: right;\">\n",
       "      <th></th>\n",
       "      <th>Name</th>\n",
       "      <th>Statistics</th>\n",
       "      <th>Accounting</th>\n",
       "      <th>Marketing</th>\n",
       "    </tr>\n",
       "  </thead>\n",
       "  <tbody>\n",
       "    <tr>\n",
       "      <th>0</th>\n",
       "      <td>Jim</td>\n",
       "      <td>85</td>\n",
       "      <td>82</td>\n",
       "      <td>84</td>\n",
       "    </tr>\n",
       "    <tr>\n",
       "      <th>1</th>\n",
       "      <td>Lily</td>\n",
       "      <td>68</td>\n",
       "      <td>63</td>\n",
       "      <td>90</td>\n",
       "    </tr>\n",
       "    <tr>\n",
       "      <th>2</th>\n",
       "      <td>Jack</td>\n",
       "      <td>90</td>\n",
       "      <td>88</td>\n",
       "      <td>78</td>\n",
       "    </tr>\n",
       "  </tbody>\n",
       "</table>\n",
       "</div>"
      ],
      "text/plain": [
       "   Name  Statistics  Accounting  Marketing\n",
       "0   Jim          85          82         84\n",
       "1  Lily          68          63         90\n",
       "2  Jack          90          88         78"
      ]
     },
     "execution_count": 188,
     "metadata": {},
     "output_type": "execute_result"
    }
   ],
   "source": [
    "df1"
   ]
  },
  {
   "cell_type": "markdown",
   "id": "b5babbc1",
   "metadata": {
    "slideshow": {
     "slide_type": "subslide"
    }
   },
   "source": [
    "When df1 and df3 share the same 'Name' column but have different other column names, and we want to add df3's columns to df1, we should use the `merge()` method. The typical syntax is as follows:"
   ]
  },
  {
   "cell_type": "markdown",
   "id": "97494094",
   "metadata": {
    "slideshow": {
     "slide_type": "fragment"
    }
   },
   "source": [
    "<table>\n",
    "    <tr style=\"border-top:solid; border-bottom:solid\">\n",
    "        <th colspan=2 style=\"text-align:center\">DataFrame.merge(right, how='inner', on=None)</th>\n",
    "    </tr>\n",
    "    <tr>\n",
    "        <td style=\"text-align:left\">right</td>\n",
    "        <td style=\"text-align:left\">The other DataFrame to merge;</td>\n",
    "    </tr>\n",
    "    <tr>\n",
    "        <td rowspan=4 style=\"text-align:left\">how</td>\n",
    "        <td style=\"text-align:left\">Default 'inner': performs inner join, merging only matching keys from both DataFrames</td>\n",
    "    </tr>\n",
    "    <tr>\n",
    "        <td style=\"text-align:left\">'outer': performs full outer join, merging all keys from both DataFrames</td>\n",
    "    </tr>\n",
    "    <tr>\n",
    "        <td style=\"text-align:left\">'left': performs left join, preserving all keys from the left DataFrame</td>\n",
    "    </tr>\n",
    "    <tr>\n",
    "        <td style=\"text-align:left\">'right': performs right join, preserving all keys from the right DataFrame</td>\n",
    "    </tr>\n",
    "    <tr style=\"border-bottom:solid\">\n",
    "        <td style=\"text-align:left\">on</td>\n",
    "        <td style=\"text-align:left\">Column labels to join on (single or multiple)</td>\n",
    "    </tr>\n",
    "</table>"
   ]
  },
  {
   "cell_type": "markdown",
   "id": "46c56be4",
   "metadata": {
    "slideshow": {
     "slide_type": "subslide"
    }
   },
   "source": [
    "So, for df1 and df3, when using ``merge``, the matching key is 'Name':"
   ]
  },
  {
   "cell_type": "code",
   "execution_count": 192,
   "id": "02e7f897",
   "metadata": {
    "slideshow": {
     "slide_type": "fragment"
    }
   },
   "outputs": [
    {
     "data": {
      "text/html": [
       "<div>\n",
       "<style scoped>\n",
       "    .dataframe tbody tr th:only-of-type {\n",
       "        vertical-align: middle;\n",
       "    }\n",
       "\n",
       "    .dataframe tbody tr th {\n",
       "        vertical-align: top;\n",
       "    }\n",
       "\n",
       "    .dataframe thead th {\n",
       "        text-align: right;\n",
       "    }\n",
       "</style>\n",
       "<table border=\"1\" class=\"dataframe\">\n",
       "  <thead>\n",
       "    <tr style=\"text-align: right;\">\n",
       "      <th></th>\n",
       "      <th>Name</th>\n",
       "      <th>Statistics</th>\n",
       "      <th>Accounting</th>\n",
       "      <th>Marketing</th>\n",
       "      <th>Python</th>\n",
       "      <th>Business Modelling</th>\n",
       "    </tr>\n",
       "  </thead>\n",
       "  <tbody>\n",
       "    <tr>\n",
       "      <th>0</th>\n",
       "      <td>Jim</td>\n",
       "      <td>85</td>\n",
       "      <td>82</td>\n",
       "      <td>84</td>\n",
       "      <td>65</td>\n",
       "      <td>72</td>\n",
       "    </tr>\n",
       "    <tr>\n",
       "      <th>1</th>\n",
       "      <td>Lily</td>\n",
       "      <td>68</td>\n",
       "      <td>63</td>\n",
       "      <td>90</td>\n",
       "      <td>68</td>\n",
       "      <td>63</td>\n",
       "    </tr>\n",
       "    <tr>\n",
       "      <th>2</th>\n",
       "      <td>Jack</td>\n",
       "      <td>90</td>\n",
       "      <td>88</td>\n",
       "      <td>78</td>\n",
       "      <td>60</td>\n",
       "      <td>78</td>\n",
       "    </tr>\n",
       "  </tbody>\n",
       "</table>\n",
       "</div>"
      ],
      "text/plain": [
       "   Name  Statistics  Accounting  Marketing  Python  Business Modelling\n",
       "0   Jim          85          82         84      65                  72\n",
       "1  Lily          68          63         90      68                  63\n",
       "2  Jack          90          88         78      60                  78"
      ]
     },
     "execution_count": 192,
     "metadata": {},
     "output_type": "execute_result"
    }
   ],
   "source": [
    "df1.merge(df3, on=\"Name\")"
   ]
  },
  {
   "cell_type": "markdown",
   "id": "84bee5c4",
   "metadata": {
    "slideshow": {
     "slide_type": "subslide"
    }
   },
   "source": [
    "When merging DataFrames, Pandas will automatically fill missing values with NaN for non-matching fields. The following example demonstrates the results of different join method:"
   ]
  },
  {
   "cell_type": "code",
   "execution_count": 203,
   "id": "2b606e10",
   "metadata": {
    "slideshow": {
     "slide_type": "fragment"
    }
   },
   "outputs": [
    {
     "data": {
      "text/html": [
       "<div>\n",
       "<style scoped>\n",
       "    .dataframe tbody tr th:only-of-type {\n",
       "        vertical-align: middle;\n",
       "    }\n",
       "\n",
       "    .dataframe tbody tr th {\n",
       "        vertical-align: top;\n",
       "    }\n",
       "\n",
       "    .dataframe thead th {\n",
       "        text-align: right;\n",
       "    }\n",
       "</style>\n",
       "<table border=\"1\" class=\"dataframe\">\n",
       "  <thead>\n",
       "    <tr style=\"text-align: right;\">\n",
       "      <th></th>\n",
       "      <th>Name</th>\n",
       "      <th>Statistics</th>\n",
       "      <th>Accounting</th>\n",
       "      <th>Marketing</th>\n",
       "    </tr>\n",
       "  </thead>\n",
       "  <tbody>\n",
       "    <tr>\n",
       "      <th>0</th>\n",
       "      <td>Jim</td>\n",
       "      <td>85</td>\n",
       "      <td>82</td>\n",
       "      <td>84</td>\n",
       "    </tr>\n",
       "    <tr>\n",
       "      <th>1</th>\n",
       "      <td>Lily</td>\n",
       "      <td>68</td>\n",
       "      <td>63</td>\n",
       "      <td>90</td>\n",
       "    </tr>\n",
       "    <tr>\n",
       "      <th>2</th>\n",
       "      <td>Jack</td>\n",
       "      <td>90</td>\n",
       "      <td>88</td>\n",
       "      <td>78</td>\n",
       "    </tr>\n",
       "  </tbody>\n",
       "</table>\n",
       "</div>"
      ],
      "text/plain": [
       "   Name  Statistics  Accounting  Marketing\n",
       "0   Jim          85          82         84\n",
       "1  Lily          68          63         90\n",
       "2  Jack          90          88         78"
      ]
     },
     "execution_count": 203,
     "metadata": {},
     "output_type": "execute_result"
    }
   ],
   "source": [
    "df1"
   ]
  },
  {
   "cell_type": "code",
   "execution_count": 202,
   "id": "8f0c5a00",
   "metadata": {
    "slideshow": {
     "slide_type": "subslide"
    }
   },
   "outputs": [
    {
     "data": {
      "text/html": [
       "<div>\n",
       "<style scoped>\n",
       "    .dataframe tbody tr th:only-of-type {\n",
       "        vertical-align: middle;\n",
       "    }\n",
       "\n",
       "    .dataframe tbody tr th {\n",
       "        vertical-align: top;\n",
       "    }\n",
       "\n",
       "    .dataframe thead th {\n",
       "        text-align: right;\n",
       "    }\n",
       "</style>\n",
       "<table border=\"1\" class=\"dataframe\">\n",
       "  <thead>\n",
       "    <tr style=\"text-align: right;\">\n",
       "      <th></th>\n",
       "      <th>Name</th>\n",
       "      <th>Python</th>\n",
       "      <th>Business Modelling</th>\n",
       "    </tr>\n",
       "  </thead>\n",
       "  <tbody>\n",
       "    <tr>\n",
       "      <th>0</th>\n",
       "      <td>Jim</td>\n",
       "      <td>65</td>\n",
       "      <td>72</td>\n",
       "    </tr>\n",
       "    <tr>\n",
       "      <th>1</th>\n",
       "      <td>Lily</td>\n",
       "      <td>78</td>\n",
       "      <td>73</td>\n",
       "    </tr>\n",
       "    <tr>\n",
       "      <th>2</th>\n",
       "      <td>Robert</td>\n",
       "      <td>60</td>\n",
       "      <td>68</td>\n",
       "    </tr>\n",
       "  </tbody>\n",
       "</table>\n",
       "</div>"
      ],
      "text/plain": [
       "     Name  Python  Business Modelling\n",
       "0     Jim      65                  72\n",
       "1    Lily      78                  73\n",
       "2  Robert      60                  68"
      ]
     },
     "execution_count": 202,
     "metadata": {},
     "output_type": "execute_result"
    }
   ],
   "source": [
    "df4 = pd.DataFrame(\n",
    "    {\n",
    "        \"Name\": [\"Jim\", \"Lily\", \"Robert\"],\n",
    "        \"Python\": [65, 78, 60],\n",
    "        \"Business Modelling\": [72, 73, 68],\n",
    "    }\n",
    ")\n",
    "\n",
    "df4"
   ]
  },
  {
   "cell_type": "code",
   "execution_count": 204,
   "id": "dcdddc62",
   "metadata": {
    "slideshow": {
     "slide_type": "fragment"
    }
   },
   "outputs": [
    {
     "data": {
      "text/html": [
       "<div>\n",
       "<style scoped>\n",
       "    .dataframe tbody tr th:only-of-type {\n",
       "        vertical-align: middle;\n",
       "    }\n",
       "\n",
       "    .dataframe tbody tr th {\n",
       "        vertical-align: top;\n",
       "    }\n",
       "\n",
       "    .dataframe thead th {\n",
       "        text-align: right;\n",
       "    }\n",
       "</style>\n",
       "<table border=\"1\" class=\"dataframe\">\n",
       "  <thead>\n",
       "    <tr style=\"text-align: right;\">\n",
       "      <th></th>\n",
       "      <th>Name</th>\n",
       "      <th>Statistics</th>\n",
       "      <th>Accounting</th>\n",
       "      <th>Marketing</th>\n",
       "      <th>Python</th>\n",
       "      <th>Business Modelling</th>\n",
       "    </tr>\n",
       "  </thead>\n",
       "  <tbody>\n",
       "    <tr>\n",
       "      <th>0</th>\n",
       "      <td>Jim</td>\n",
       "      <td>85</td>\n",
       "      <td>82</td>\n",
       "      <td>84</td>\n",
       "      <td>65</td>\n",
       "      <td>72</td>\n",
       "    </tr>\n",
       "    <tr>\n",
       "      <th>1</th>\n",
       "      <td>Lily</td>\n",
       "      <td>68</td>\n",
       "      <td>63</td>\n",
       "      <td>90</td>\n",
       "      <td>78</td>\n",
       "      <td>73</td>\n",
       "    </tr>\n",
       "  </tbody>\n",
       "</table>\n",
       "</div>"
      ],
      "text/plain": [
       "   Name  Statistics  Accounting  Marketing  Python  Business Modelling\n",
       "0   Jim          85          82         84      65                  72\n",
       "1  Lily          68          63         90      78                  73"
      ]
     },
     "execution_count": 204,
     "metadata": {},
     "output_type": "execute_result"
    }
   ],
   "source": [
    "df1.merge(df4, on=\"Name\")"
   ]
  },
  {
   "cell_type": "code",
   "execution_count": 205,
   "id": "1aaed36e",
   "metadata": {
    "slideshow": {
     "slide_type": "subslide"
    }
   },
   "outputs": [
    {
     "data": {
      "text/html": [
       "<div>\n",
       "<style scoped>\n",
       "    .dataframe tbody tr th:only-of-type {\n",
       "        vertical-align: middle;\n",
       "    }\n",
       "\n",
       "    .dataframe tbody tr th {\n",
       "        vertical-align: top;\n",
       "    }\n",
       "\n",
       "    .dataframe thead th {\n",
       "        text-align: right;\n",
       "    }\n",
       "</style>\n",
       "<table border=\"1\" class=\"dataframe\">\n",
       "  <thead>\n",
       "    <tr style=\"text-align: right;\">\n",
       "      <th></th>\n",
       "      <th>Name</th>\n",
       "      <th>Statistics</th>\n",
       "      <th>Accounting</th>\n",
       "      <th>Marketing</th>\n",
       "      <th>Python</th>\n",
       "      <th>Business Modelling</th>\n",
       "    </tr>\n",
       "  </thead>\n",
       "  <tbody>\n",
       "    <tr>\n",
       "      <th>0</th>\n",
       "      <td>Jack</td>\n",
       "      <td>90.0</td>\n",
       "      <td>88.0</td>\n",
       "      <td>78.0</td>\n",
       "      <td>NaN</td>\n",
       "      <td>NaN</td>\n",
       "    </tr>\n",
       "    <tr>\n",
       "      <th>1</th>\n",
       "      <td>Jim</td>\n",
       "      <td>85.0</td>\n",
       "      <td>82.0</td>\n",
       "      <td>84.0</td>\n",
       "      <td>65.0</td>\n",
       "      <td>72.0</td>\n",
       "    </tr>\n",
       "    <tr>\n",
       "      <th>2</th>\n",
       "      <td>Lily</td>\n",
       "      <td>68.0</td>\n",
       "      <td>63.0</td>\n",
       "      <td>90.0</td>\n",
       "      <td>78.0</td>\n",
       "      <td>73.0</td>\n",
       "    </tr>\n",
       "    <tr>\n",
       "      <th>3</th>\n",
       "      <td>Robert</td>\n",
       "      <td>NaN</td>\n",
       "      <td>NaN</td>\n",
       "      <td>NaN</td>\n",
       "      <td>60.0</td>\n",
       "      <td>68.0</td>\n",
       "    </tr>\n",
       "  </tbody>\n",
       "</table>\n",
       "</div>"
      ],
      "text/plain": [
       "     Name  Statistics  Accounting  Marketing  Python  Business Modelling\n",
       "0    Jack        90.0        88.0       78.0     NaN                 NaN\n",
       "1     Jim        85.0        82.0       84.0    65.0                72.0\n",
       "2    Lily        68.0        63.0       90.0    78.0                73.0\n",
       "3  Robert         NaN         NaN        NaN    60.0                68.0"
      ]
     },
     "execution_count": 205,
     "metadata": {},
     "output_type": "execute_result"
    }
   ],
   "source": [
    "df1.merge(df4, on=\"Name\", how=\"outer\") "
   ]
  },
  {
   "cell_type": "code",
   "execution_count": 207,
   "id": "635b5a96",
   "metadata": {
    "slideshow": {
     "slide_type": "fragment"
    }
   },
   "outputs": [
    {
     "data": {
      "text/html": [
       "<div>\n",
       "<style scoped>\n",
       "    .dataframe tbody tr th:only-of-type {\n",
       "        vertical-align: middle;\n",
       "    }\n",
       "\n",
       "    .dataframe tbody tr th {\n",
       "        vertical-align: top;\n",
       "    }\n",
       "\n",
       "    .dataframe thead th {\n",
       "        text-align: right;\n",
       "    }\n",
       "</style>\n",
       "<table border=\"1\" class=\"dataframe\">\n",
       "  <thead>\n",
       "    <tr style=\"text-align: right;\">\n",
       "      <th></th>\n",
       "      <th>Name</th>\n",
       "      <th>Statistics</th>\n",
       "      <th>Accounting</th>\n",
       "      <th>Marketing</th>\n",
       "      <th>Python</th>\n",
       "      <th>Business Modelling</th>\n",
       "    </tr>\n",
       "  </thead>\n",
       "  <tbody>\n",
       "    <tr>\n",
       "      <th>0</th>\n",
       "      <td>Jim</td>\n",
       "      <td>85</td>\n",
       "      <td>82</td>\n",
       "      <td>84</td>\n",
       "      <td>65.0</td>\n",
       "      <td>72.0</td>\n",
       "    </tr>\n",
       "    <tr>\n",
       "      <th>1</th>\n",
       "      <td>Lily</td>\n",
       "      <td>68</td>\n",
       "      <td>63</td>\n",
       "      <td>90</td>\n",
       "      <td>78.0</td>\n",
       "      <td>73.0</td>\n",
       "    </tr>\n",
       "    <tr>\n",
       "      <th>2</th>\n",
       "      <td>Jack</td>\n",
       "      <td>90</td>\n",
       "      <td>88</td>\n",
       "      <td>78</td>\n",
       "      <td>NaN</td>\n",
       "      <td>NaN</td>\n",
       "    </tr>\n",
       "  </tbody>\n",
       "</table>\n",
       "</div>"
      ],
      "text/plain": [
       "   Name  Statistics  Accounting  Marketing  Python  Business Modelling\n",
       "0   Jim          85          82         84    65.0                72.0\n",
       "1  Lily          68          63         90    78.0                73.0\n",
       "2  Jack          90          88         78     NaN                 NaN"
      ]
     },
     "execution_count": 207,
     "metadata": {},
     "output_type": "execute_result"
    }
   ],
   "source": [
    "df1.merge(df4, on=\"Name\", how=\"left\")"
   ]
  },
  {
   "cell_type": "code",
   "execution_count": 206,
   "id": "c944e202",
   "metadata": {
    "slideshow": {
     "slide_type": "subslide"
    }
   },
   "outputs": [
    {
     "data": {
      "text/html": [
       "<div>\n",
       "<style scoped>\n",
       "    .dataframe tbody tr th:only-of-type {\n",
       "        vertical-align: middle;\n",
       "    }\n",
       "\n",
       "    .dataframe tbody tr th {\n",
       "        vertical-align: top;\n",
       "    }\n",
       "\n",
       "    .dataframe thead th {\n",
       "        text-align: right;\n",
       "    }\n",
       "</style>\n",
       "<table border=\"1\" class=\"dataframe\">\n",
       "  <thead>\n",
       "    <tr style=\"text-align: right;\">\n",
       "      <th></th>\n",
       "      <th>Name</th>\n",
       "      <th>Statistics</th>\n",
       "      <th>Accounting</th>\n",
       "      <th>Marketing</th>\n",
       "      <th>Python</th>\n",
       "      <th>Business Modelling</th>\n",
       "    </tr>\n",
       "  </thead>\n",
       "  <tbody>\n",
       "    <tr>\n",
       "      <th>0</th>\n",
       "      <td>Jim</td>\n",
       "      <td>85.0</td>\n",
       "      <td>82.0</td>\n",
       "      <td>84.0</td>\n",
       "      <td>65</td>\n",
       "      <td>72</td>\n",
       "    </tr>\n",
       "    <tr>\n",
       "      <th>1</th>\n",
       "      <td>Lily</td>\n",
       "      <td>68.0</td>\n",
       "      <td>63.0</td>\n",
       "      <td>90.0</td>\n",
       "      <td>78</td>\n",
       "      <td>73</td>\n",
       "    </tr>\n",
       "    <tr>\n",
       "      <th>2</th>\n",
       "      <td>Robert</td>\n",
       "      <td>NaN</td>\n",
       "      <td>NaN</td>\n",
       "      <td>NaN</td>\n",
       "      <td>60</td>\n",
       "      <td>68</td>\n",
       "    </tr>\n",
       "  </tbody>\n",
       "</table>\n",
       "</div>"
      ],
      "text/plain": [
       "     Name  Statistics  Accounting  Marketing  Python  Business Modelling\n",
       "0     Jim        85.0        82.0       84.0      65                  72\n",
       "1    Lily        68.0        63.0       90.0      78                  73\n",
       "2  Robert         NaN         NaN        NaN      60                  68"
      ]
     },
     "execution_count": 206,
     "metadata": {},
     "output_type": "execute_result"
    }
   ],
   "source": [
    "df1.merge(df4, on=\"Name\", how=\"right\")"
   ]
  },
  {
   "cell_type": "markdown",
   "id": "9e41b0ca",
   "metadata": {
    "slideshow": {
     "slide_type": "slide"
    }
   },
   "source": [
    "## Search, sort and group the data\n",
    "<hr>\n",
    "\n",
    "### Search data\n",
    "<hr>\n",
    "\n",
    "When querying DataFrame data based on certain conditions, some comparison operators are commonly used, such as: `>`, `>=`, `==`, `<`, `<=`, `!=`. Conditional queries are generally applied only to column data. During the query process, **Pandas first generates a Boolean index (True or False)** and then produces the queried data by specifying this index."
   ]
  },
  {
   "cell_type": "code",
   "execution_count": 217,
   "id": "a28edc34",
   "metadata": {
    "slideshow": {
     "slide_type": "subslide"
    }
   },
   "outputs": [
    {
     "data": {
      "text/html": [
       "<div>\n",
       "<style scoped>\n",
       "    .dataframe tbody tr th:only-of-type {\n",
       "        vertical-align: middle;\n",
       "    }\n",
       "\n",
       "    .dataframe tbody tr th {\n",
       "        vertical-align: top;\n",
       "    }\n",
       "\n",
       "    .dataframe thead th {\n",
       "        text-align: right;\n",
       "    }\n",
       "</style>\n",
       "<table border=\"1\" class=\"dataframe\">\n",
       "  <thead>\n",
       "    <tr style=\"text-align: right;\">\n",
       "      <th></th>\n",
       "      <th>Name</th>\n",
       "      <th>Statistics</th>\n",
       "      <th>Accounting</th>\n",
       "      <th>Marketing</th>\n",
       "    </tr>\n",
       "  </thead>\n",
       "  <tbody>\n",
       "    <tr>\n",
       "      <th>0</th>\n",
       "      <td>Jim</td>\n",
       "      <td>85</td>\n",
       "      <td>82</td>\n",
       "      <td>84</td>\n",
       "    </tr>\n",
       "    <tr>\n",
       "      <th>1</th>\n",
       "      <td>Lily</td>\n",
       "      <td>68</td>\n",
       "      <td>63</td>\n",
       "      <td>90</td>\n",
       "    </tr>\n",
       "    <tr>\n",
       "      <th>2</th>\n",
       "      <td>Jack</td>\n",
       "      <td>90</td>\n",
       "      <td>88</td>\n",
       "      <td>78</td>\n",
       "    </tr>\n",
       "  </tbody>\n",
       "</table>\n",
       "</div>"
      ],
      "text/plain": [
       "   Name  Statistics  Accounting  Marketing\n",
       "0   Jim          85          82         84\n",
       "1  Lily          68          63         90\n",
       "2  Jack          90          88         78"
      ]
     },
     "execution_count": 217,
     "metadata": {},
     "output_type": "execute_result"
    }
   ],
   "source": [
    "import pandas as pd\n",
    "\n",
    "df = pd.DataFrame(\n",
    "    {\n",
    "        \"Name\": [\"Jim\", \"Lily\", \"Jack\"],\n",
    "        \"Statistics\": [85, 68, 90],\n",
    "        \"Accounting\": [82, 63, 88],\n",
    "        \"Marketing\": [84, 90, 78],\n",
    "    }\n",
    ")\n",
    "\n",
    "df"
   ]
  },
  {
   "cell_type": "code",
   "execution_count": 219,
   "id": "e21ead6a",
   "metadata": {
    "slideshow": {
     "slide_type": "fragment"
    }
   },
   "outputs": [
    {
     "data": {
      "text/plain": [
       "0     True\n",
       "1    False\n",
       "2     True\n",
       "Name: Statistics, dtype: bool"
      ]
     },
     "execution_count": 219,
     "metadata": {},
     "output_type": "execute_result"
    }
   ],
   "source": [
    "df[\"Statistics\"] > 70  #  get the boolean index"
   ]
  },
  {
   "cell_type": "code",
   "execution_count": 221,
   "id": "e46f292a",
   "metadata": {
    "slideshow": {
     "slide_type": "subslide"
    }
   },
   "outputs": [
    {
     "data": {
      "text/html": [
       "<div>\n",
       "<style scoped>\n",
       "    .dataframe tbody tr th:only-of-type {\n",
       "        vertical-align: middle;\n",
       "    }\n",
       "\n",
       "    .dataframe tbody tr th {\n",
       "        vertical-align: top;\n",
       "    }\n",
       "\n",
       "    .dataframe thead th {\n",
       "        text-align: right;\n",
       "    }\n",
       "</style>\n",
       "<table border=\"1\" class=\"dataframe\">\n",
       "  <thead>\n",
       "    <tr style=\"text-align: right;\">\n",
       "      <th></th>\n",
       "      <th>Name</th>\n",
       "      <th>Statistics</th>\n",
       "      <th>Accounting</th>\n",
       "      <th>Marketing</th>\n",
       "    </tr>\n",
       "  </thead>\n",
       "  <tbody>\n",
       "    <tr>\n",
       "      <th>0</th>\n",
       "      <td>Jim</td>\n",
       "      <td>85</td>\n",
       "      <td>82</td>\n",
       "      <td>84</td>\n",
       "    </tr>\n",
       "    <tr>\n",
       "      <th>2</th>\n",
       "      <td>Jack</td>\n",
       "      <td>90</td>\n",
       "      <td>88</td>\n",
       "      <td>78</td>\n",
       "    </tr>\n",
       "  </tbody>\n",
       "</table>\n",
       "</div>"
      ],
      "text/plain": [
       "   Name  Statistics  Accounting  Marketing\n",
       "0   Jim          85          82         84\n",
       "2  Jack          90          88         78"
      ]
     },
     "execution_count": 221,
     "metadata": {},
     "output_type": "execute_result"
    }
   ],
   "source": [
    "df[df[\"Statistics\"] > 70]  # get the conditional data"
   ]
  },
  {
   "cell_type": "markdown",
   "id": "3b616abd",
   "metadata": {
    "slideshow": {
     "slide_type": "subslide"
    }
   },
   "source": [
    "For multi-condition queries, you can use ``&`` to represent **AND** (both conditions must be satisfied) and ``|`` to represent **OR** (either condition can be satisfied). And, **each condition is in the paratheses `( )`**."
   ]
  },
  {
   "cell_type": "code",
   "execution_count": 227,
   "id": "74ff6b20",
   "metadata": {
    "slideshow": {
     "slide_type": "fragment"
    }
   },
   "outputs": [
    {
     "data": {
      "text/html": [
       "<div>\n",
       "<style scoped>\n",
       "    .dataframe tbody tr th:only-of-type {\n",
       "        vertical-align: middle;\n",
       "    }\n",
       "\n",
       "    .dataframe tbody tr th {\n",
       "        vertical-align: top;\n",
       "    }\n",
       "\n",
       "    .dataframe thead th {\n",
       "        text-align: right;\n",
       "    }\n",
       "</style>\n",
       "<table border=\"1\" class=\"dataframe\">\n",
       "  <thead>\n",
       "    <tr style=\"text-align: right;\">\n",
       "      <th></th>\n",
       "      <th>Name</th>\n",
       "      <th>Statistics</th>\n",
       "      <th>Accounting</th>\n",
       "      <th>Marketing</th>\n",
       "    </tr>\n",
       "  </thead>\n",
       "  <tbody>\n",
       "    <tr>\n",
       "      <th>0</th>\n",
       "      <td>Jim</td>\n",
       "      <td>85</td>\n",
       "      <td>82</td>\n",
       "      <td>84</td>\n",
       "    </tr>\n",
       "  </tbody>\n",
       "</table>\n",
       "</div>"
      ],
      "text/plain": [
       "  Name  Statistics  Accounting  Marketing\n",
       "0  Jim          85          82         84"
      ]
     },
     "execution_count": 227,
     "metadata": {},
     "output_type": "execute_result"
    }
   ],
   "source": [
    "df[(df[\"Statistics\"] > 70) & (df[\"Marketing\"] > 80)]  # get the data where statistics score is greater than 70, and marketing score is greater than 80"
   ]
  },
  {
   "cell_type": "code",
   "execution_count": 226,
   "id": "62995d74",
   "metadata": {
    "slideshow": {
     "slide_type": "subslide"
    }
   },
   "outputs": [
    {
     "data": {
      "text/html": [
       "<div>\n",
       "<style scoped>\n",
       "    .dataframe tbody tr th:only-of-type {\n",
       "        vertical-align: middle;\n",
       "    }\n",
       "\n",
       "    .dataframe tbody tr th {\n",
       "        vertical-align: top;\n",
       "    }\n",
       "\n",
       "    .dataframe thead th {\n",
       "        text-align: right;\n",
       "    }\n",
       "</style>\n",
       "<table border=\"1\" class=\"dataframe\">\n",
       "  <thead>\n",
       "    <tr style=\"text-align: right;\">\n",
       "      <th></th>\n",
       "      <th>Name</th>\n",
       "      <th>Statistics</th>\n",
       "      <th>Accounting</th>\n",
       "      <th>Marketing</th>\n",
       "    </tr>\n",
       "  </thead>\n",
       "  <tbody>\n",
       "    <tr>\n",
       "      <th>0</th>\n",
       "      <td>Jim</td>\n",
       "      <td>85</td>\n",
       "      <td>82</td>\n",
       "      <td>84</td>\n",
       "    </tr>\n",
       "    <tr>\n",
       "      <th>1</th>\n",
       "      <td>Lily</td>\n",
       "      <td>68</td>\n",
       "      <td>63</td>\n",
       "      <td>90</td>\n",
       "    </tr>\n",
       "    <tr>\n",
       "      <th>2</th>\n",
       "      <td>Jack</td>\n",
       "      <td>90</td>\n",
       "      <td>88</td>\n",
       "      <td>78</td>\n",
       "    </tr>\n",
       "  </tbody>\n",
       "</table>\n",
       "</div>"
      ],
      "text/plain": [
       "   Name  Statistics  Accounting  Marketing\n",
       "0   Jim          85          82         84\n",
       "1  Lily          68          63         90\n",
       "2  Jack          90          88         78"
      ]
     },
     "execution_count": 226,
     "metadata": {},
     "output_type": "execute_result"
    }
   ],
   "source": [
    "df[(df[\"Statistics\"] > 70) | (df[\"Marketing\"] > 80)] "
   ]
  },
  {
   "cell_type": "markdown",
   "id": "7f62e979",
   "metadata": {
    "slideshow": {
     "slide_type": "slide"
    }
   },
   "source": [
    "### Sort data\n",
    "<hr>\n",
    "\n",
    "When working with data, sorting is often necessary. Pandas provides a convenient method called `sort_values` for sorting numerical data. Its syntax is as follows:\n",
    "<table>\n",
    "     <tr style=\"border-top:solid; border-bottom:solid\">\n",
    "            <th colspan=2 style=\"text-align:center\">DataFrame.sort_values(by, axis=0, ascending=True, inplace=False,  na_position='last', ignore_index=False)</th>\n",
    "    </tr>\n",
    "    <tr>\n",
    "        <td style=\"text-align:left\">by</td>\n",
    "        <td style=\"text-align:left\">Column labels to sort by (axis=0) or row indices (axis=1); multiple values allowed</td>\n",
    "    </tr>\n",
    "    <tr>\n",
    "        <td style=\"text-align:left\">axis</td>\n",
    "        <td style=\"text-align:left\">0 for column-wise sorting, 1 for row-wise sorting (default: 0)</td>\n",
    "    </tr>\n",
    "    <tr>\n",
    "        <td style=\"text-align:left\">ascending</td>\n",
    "        <td style=\"text-align:left\">Sort order: True for ascending, False for descending (default: True)</td>\n",
    "    </tr>\n",
    "    <tr>\n",
    "        <td style=\"text-align:left\">inplace</td>\n",
    "        <td style=\"text-align:left\">Whether to modify the DataFrame in place (default: False)</td>\n",
    "    </tr>\n",
    "    <tr>\n",
    "        <td style=\"text-align:left\">na_position</td>\n",
    "        <td style=\"text-align:left\">Position for missing values: 'first' or 'last' (default: 'last')</td>\n",
    "    </tr>\n",
    "    <tr style=\"border-bottom:solid\">\n",
    "        <td style=\"text-align:left\">ignore_index</td>\n",
    "        <td style=\"text-align:left\">If True, the resulting axis will be labeled 0, 1, ..., n-1 (default: False)</td>\n",
    "    </tr>\n",
    "</table>\n",
    "<br>"
   ]
  },
  {
   "cell_type": "markdown",
   "id": "61513a93",
   "metadata": {
    "slideshow": {
     "slide_type": "subslide"
    }
   },
   "source": [
    "Sort the scores of Statistics in ascending order."
   ]
  },
  {
   "cell_type": "code",
   "execution_count": 228,
   "id": "5d9709e7",
   "metadata": {
    "slideshow": {
     "slide_type": "fragment"
    }
   },
   "outputs": [
    {
     "data": {
      "text/html": [
       "<div>\n",
       "<style scoped>\n",
       "    .dataframe tbody tr th:only-of-type {\n",
       "        vertical-align: middle;\n",
       "    }\n",
       "\n",
       "    .dataframe tbody tr th {\n",
       "        vertical-align: top;\n",
       "    }\n",
       "\n",
       "    .dataframe thead th {\n",
       "        text-align: right;\n",
       "    }\n",
       "</style>\n",
       "<table border=\"1\" class=\"dataframe\">\n",
       "  <thead>\n",
       "    <tr style=\"text-align: right;\">\n",
       "      <th></th>\n",
       "      <th>Name</th>\n",
       "      <th>Statistics</th>\n",
       "      <th>Accounting</th>\n",
       "      <th>Marketing</th>\n",
       "    </tr>\n",
       "  </thead>\n",
       "  <tbody>\n",
       "    <tr>\n",
       "      <th>1</th>\n",
       "      <td>Lily</td>\n",
       "      <td>68</td>\n",
       "      <td>63</td>\n",
       "      <td>90</td>\n",
       "    </tr>\n",
       "    <tr>\n",
       "      <th>0</th>\n",
       "      <td>Jim</td>\n",
       "      <td>85</td>\n",
       "      <td>82</td>\n",
       "      <td>84</td>\n",
       "    </tr>\n",
       "    <tr>\n",
       "      <th>2</th>\n",
       "      <td>Jack</td>\n",
       "      <td>90</td>\n",
       "      <td>88</td>\n",
       "      <td>78</td>\n",
       "    </tr>\n",
       "  </tbody>\n",
       "</table>\n",
       "</div>"
      ],
      "text/plain": [
       "   Name  Statistics  Accounting  Marketing\n",
       "1  Lily          68          63         90\n",
       "0   Jim          85          82         84\n",
       "2  Jack          90          88         78"
      ]
     },
     "execution_count": 228,
     "metadata": {},
     "output_type": "execute_result"
    }
   ],
   "source": [
    "df.sort_values(by=\"Statistics\")"
   ]
  },
  {
   "cell_type": "markdown",
   "id": "cbd55601",
   "metadata": {
    "slideshow": {
     "slide_type": "subslide"
    }
   },
   "source": [
    "Sory the scores of both Statistics and Marketing in descending order."
   ]
  },
  {
   "cell_type": "code",
   "execution_count": 229,
   "id": "f002964e",
   "metadata": {
    "slideshow": {
     "slide_type": "fragment"
    }
   },
   "outputs": [
    {
     "data": {
      "text/html": [
       "<div>\n",
       "<style scoped>\n",
       "    .dataframe tbody tr th:only-of-type {\n",
       "        vertical-align: middle;\n",
       "    }\n",
       "\n",
       "    .dataframe tbody tr th {\n",
       "        vertical-align: top;\n",
       "    }\n",
       "\n",
       "    .dataframe thead th {\n",
       "        text-align: right;\n",
       "    }\n",
       "</style>\n",
       "<table border=\"1\" class=\"dataframe\">\n",
       "  <thead>\n",
       "    <tr style=\"text-align: right;\">\n",
       "      <th></th>\n",
       "      <th>Name</th>\n",
       "      <th>Statistics</th>\n",
       "      <th>Accounting</th>\n",
       "      <th>Marketing</th>\n",
       "    </tr>\n",
       "  </thead>\n",
       "  <tbody>\n",
       "    <tr>\n",
       "      <th>2</th>\n",
       "      <td>Jack</td>\n",
       "      <td>90</td>\n",
       "      <td>88</td>\n",
       "      <td>78</td>\n",
       "    </tr>\n",
       "    <tr>\n",
       "      <th>0</th>\n",
       "      <td>Jim</td>\n",
       "      <td>85</td>\n",
       "      <td>82</td>\n",
       "      <td>84</td>\n",
       "    </tr>\n",
       "    <tr>\n",
       "      <th>1</th>\n",
       "      <td>Lily</td>\n",
       "      <td>68</td>\n",
       "      <td>63</td>\n",
       "      <td>90</td>\n",
       "    </tr>\n",
       "  </tbody>\n",
       "</table>\n",
       "</div>"
      ],
      "text/plain": [
       "   Name  Statistics  Accounting  Marketing\n",
       "2  Jack          90          88         78\n",
       "0   Jim          85          82         84\n",
       "1  Lily          68          63         90"
      ]
     },
     "execution_count": 229,
     "metadata": {},
     "output_type": "execute_result"
    }
   ],
   "source": [
    "df.sort_values(by=[\"Statistics\", \"Marketing\"], ascending=False)"
   ]
  },
  {
   "cell_type": "markdown",
   "id": "5258fba8",
   "metadata": {
    "slideshow": {
     "slide_type": "subslide"
    }
   },
   "source": [
    "For the parameter `by`, with \"Statistics\" preceding \"Advanced Mathematics\", it means: first sort by Statistics scores in descending order, and for entries with identical Statistics scores, then sort by Advanced Mathematics scores in descending order.\n",
    "\n",
    "Since column labels often get shuffled during sorting:\n",
    "\n",
    "- Use `ignore_index = True` to reset the index labels sequentially.\n",
    "\n",
    "- Use `inplace = True` to modify the original DataFrame directly."
   ]
  },
  {
   "cell_type": "code",
   "execution_count": 234,
   "id": "c9952b88",
   "metadata": {
    "slideshow": {
     "slide_type": "subslide"
    }
   },
   "outputs": [
    {
     "data": {
      "text/html": [
       "<div>\n",
       "<style scoped>\n",
       "    .dataframe tbody tr th:only-of-type {\n",
       "        vertical-align: middle;\n",
       "    }\n",
       "\n",
       "    .dataframe tbody tr th {\n",
       "        vertical-align: top;\n",
       "    }\n",
       "\n",
       "    .dataframe thead th {\n",
       "        text-align: right;\n",
       "    }\n",
       "</style>\n",
       "<table border=\"1\" class=\"dataframe\">\n",
       "  <thead>\n",
       "    <tr style=\"text-align: right;\">\n",
       "      <th></th>\n",
       "      <th>Name</th>\n",
       "      <th>Statistics</th>\n",
       "      <th>Accounting</th>\n",
       "      <th>Marketing</th>\n",
       "    </tr>\n",
       "  </thead>\n",
       "  <tbody>\n",
       "    <tr>\n",
       "      <th>0</th>\n",
       "      <td>Jack</td>\n",
       "      <td>90</td>\n",
       "      <td>88</td>\n",
       "      <td>78</td>\n",
       "    </tr>\n",
       "    <tr>\n",
       "      <th>1</th>\n",
       "      <td>Jim</td>\n",
       "      <td>85</td>\n",
       "      <td>82</td>\n",
       "      <td>84</td>\n",
       "    </tr>\n",
       "    <tr>\n",
       "      <th>2</th>\n",
       "      <td>Lily</td>\n",
       "      <td>68</td>\n",
       "      <td>63</td>\n",
       "      <td>90</td>\n",
       "    </tr>\n",
       "  </tbody>\n",
       "</table>\n",
       "</div>"
      ],
      "text/plain": [
       "   Name  Statistics  Accounting  Marketing\n",
       "0  Jack          90          88         78\n",
       "1   Jim          85          82         84\n",
       "2  Lily          68          63         90"
      ]
     },
     "execution_count": 234,
     "metadata": {},
     "output_type": "execute_result"
    }
   ],
   "source": [
    "df.sort_values(by=\"Marketing\", ignore_index=True)  # reset the index"
   ]
  },
  {
   "cell_type": "code",
   "execution_count": 235,
   "id": "7e7fa43b",
   "metadata": {
    "slideshow": {
     "slide_type": "fragment"
    }
   },
   "outputs": [
    {
     "data": {
      "text/html": [
       "<div>\n",
       "<style scoped>\n",
       "    .dataframe tbody tr th:only-of-type {\n",
       "        vertical-align: middle;\n",
       "    }\n",
       "\n",
       "    .dataframe tbody tr th {\n",
       "        vertical-align: top;\n",
       "    }\n",
       "\n",
       "    .dataframe thead th {\n",
       "        text-align: right;\n",
       "    }\n",
       "</style>\n",
       "<table border=\"1\" class=\"dataframe\">\n",
       "  <thead>\n",
       "    <tr style=\"text-align: right;\">\n",
       "      <th></th>\n",
       "      <th>Name</th>\n",
       "      <th>Statistics</th>\n",
       "      <th>Accounting</th>\n",
       "      <th>Marketing</th>\n",
       "    </tr>\n",
       "  </thead>\n",
       "  <tbody>\n",
       "    <tr>\n",
       "      <th>0</th>\n",
       "      <td>Lily</td>\n",
       "      <td>68</td>\n",
       "      <td>63</td>\n",
       "      <td>90</td>\n",
       "    </tr>\n",
       "    <tr>\n",
       "      <th>1</th>\n",
       "      <td>Jim</td>\n",
       "      <td>85</td>\n",
       "      <td>82</td>\n",
       "      <td>84</td>\n",
       "    </tr>\n",
       "    <tr>\n",
       "      <th>2</th>\n",
       "      <td>Jack</td>\n",
       "      <td>90</td>\n",
       "      <td>88</td>\n",
       "      <td>78</td>\n",
       "    </tr>\n",
       "  </tbody>\n",
       "</table>\n",
       "</div>"
      ],
      "text/plain": [
       "   Name  Statistics  Accounting  Marketing\n",
       "0  Lily          68          63         90\n",
       "1   Jim          85          82         84\n",
       "2  Jack          90          88         78"
      ]
     },
     "execution_count": 235,
     "metadata": {},
     "output_type": "execute_result"
    }
   ],
   "source": [
    "df.sort_values(by=\"Marketing\", ignore_index=True)  \n",
    "df # the original data keeps same"
   ]
  },
  {
   "cell_type": "code",
   "execution_count": 236,
   "id": "431c937c",
   "metadata": {
    "slideshow": {
     "slide_type": "subslide"
    }
   },
   "outputs": [
    {
     "data": {
      "text/html": [
       "<div>\n",
       "<style scoped>\n",
       "    .dataframe tbody tr th:only-of-type {\n",
       "        vertical-align: middle;\n",
       "    }\n",
       "\n",
       "    .dataframe tbody tr th {\n",
       "        vertical-align: top;\n",
       "    }\n",
       "\n",
       "    .dataframe thead th {\n",
       "        text-align: right;\n",
       "    }\n",
       "</style>\n",
       "<table border=\"1\" class=\"dataframe\">\n",
       "  <thead>\n",
       "    <tr style=\"text-align: right;\">\n",
       "      <th></th>\n",
       "      <th>Name</th>\n",
       "      <th>Statistics</th>\n",
       "      <th>Accounting</th>\n",
       "      <th>Marketing</th>\n",
       "    </tr>\n",
       "  </thead>\n",
       "  <tbody>\n",
       "    <tr>\n",
       "      <th>0</th>\n",
       "      <td>Jack</td>\n",
       "      <td>90</td>\n",
       "      <td>88</td>\n",
       "      <td>78</td>\n",
       "    </tr>\n",
       "    <tr>\n",
       "      <th>1</th>\n",
       "      <td>Jim</td>\n",
       "      <td>85</td>\n",
       "      <td>82</td>\n",
       "      <td>84</td>\n",
       "    </tr>\n",
       "    <tr>\n",
       "      <th>2</th>\n",
       "      <td>Lily</td>\n",
       "      <td>68</td>\n",
       "      <td>63</td>\n",
       "      <td>90</td>\n",
       "    </tr>\n",
       "  </tbody>\n",
       "</table>\n",
       "</div>"
      ],
      "text/plain": [
       "   Name  Statistics  Accounting  Marketing\n",
       "0  Jack          90          88         78\n",
       "1   Jim          85          82         84\n",
       "2  Lily          68          63         90"
      ]
     },
     "execution_count": 236,
     "metadata": {},
     "output_type": "execute_result"
    }
   ],
   "source": [
    "df.sort_values(by=\"Marketing\", ignore_index=True, inplace=True) \n",
    "df # the original data is changed after adding `inplace=True`"
   ]
  },
  {
   "cell_type": "markdown",
   "id": "d9246bd0",
   "metadata": {
    "slideshow": {
     "slide_type": "slide"
    }
   },
   "source": [
    "### Group the data `groupby`\n",
    "<hr>\n",
    "\n",
    "In data analysis, it's often necessary to group and aggregate data. For example, when analyzing students' final exam scores, you might need to calculate average scores, highest scores, etc. by major or class. Pandas' `groupby()` method conveniently implements these operations.\n",
    "\n",
    "The `groupby` operation is frequently combined with aggregation method such as:\n",
    "\n",
    "- mean (average)\n",
    "\n",
    "- max (maximum value)\n",
    "\n",
    "- min (minimum value)\n",
    "\n",
    "- median (median)\n",
    "\n",
    "- std (standard deviation)\n",
    "\n",
    "- mad (mean absolute deviation)\n",
    "\n",
    "- count (number of non-null values)\n",
    "\n",
    "- size (total count, including nulls)\n",
    "\n",
    "- skew (skewness)\n",
    "\n",
    "- quantile (quantile values)"
   ]
  },
  {
   "cell_type": "markdown",
   "id": "20d3a4ba-304e-4f24-a39d-faadfb114e69",
   "metadata": {},
   "source": [
    "Below is a DataFrame about transcript."
   ]
  },
  {
   "cell_type": "code",
   "execution_count": 257,
   "id": "48c78afd",
   "metadata": {
    "scrolled": true,
    "slideshow": {
     "slide_type": "subslide"
    }
   },
   "outputs": [
    {
     "data": {
      "text/html": [
       "<div>\n",
       "<style scoped>\n",
       "    .dataframe tbody tr th:only-of-type {\n",
       "        vertical-align: middle;\n",
       "    }\n",
       "\n",
       "    .dataframe tbody tr th {\n",
       "        vertical-align: top;\n",
       "    }\n",
       "\n",
       "    .dataframe thead th {\n",
       "        text-align: right;\n",
       "    }\n",
       "</style>\n",
       "<table border=\"1\" class=\"dataframe\">\n",
       "  <thead>\n",
       "    <tr style=\"text-align: right;\">\n",
       "      <th></th>\n",
       "      <th>Name</th>\n",
       "      <th>Nation</th>\n",
       "      <th>Level</th>\n",
       "      <th>Statistics</th>\n",
       "      <th>Accounting</th>\n",
       "      <th>Finance</th>\n",
       "    </tr>\n",
       "  </thead>\n",
       "  <tbody>\n",
       "    <tr>\n",
       "      <th>0</th>\n",
       "      <td>Lily</td>\n",
       "      <td>US</td>\n",
       "      <td>5</td>\n",
       "      <td>85</td>\n",
       "      <td>68</td>\n",
       "      <td>90</td>\n",
       "    </tr>\n",
       "    <tr>\n",
       "      <th>1</th>\n",
       "      <td>Tom</td>\n",
       "      <td>UK</td>\n",
       "      <td>6</td>\n",
       "      <td>82</td>\n",
       "      <td>63</td>\n",
       "      <td>88</td>\n",
       "    </tr>\n",
       "    <tr>\n",
       "      <th>2</th>\n",
       "      <td>Jack</td>\n",
       "      <td>India</td>\n",
       "      <td>6</td>\n",
       "      <td>84</td>\n",
       "      <td>90</td>\n",
       "      <td>78</td>\n",
       "    </tr>\n",
       "    <tr>\n",
       "      <th>3</th>\n",
       "      <td>David</td>\n",
       "      <td>UK</td>\n",
       "      <td>6</td>\n",
       "      <td>75</td>\n",
       "      <td>68</td>\n",
       "      <td>80</td>\n",
       "    </tr>\n",
       "    <tr>\n",
       "      <th>4</th>\n",
       "      <td>Ella</td>\n",
       "      <td>India</td>\n",
       "      <td>5</td>\n",
       "      <td>69</td>\n",
       "      <td>55</td>\n",
       "      <td>63</td>\n",
       "    </tr>\n",
       "    <tr>\n",
       "      <th>5</th>\n",
       "      <td>Julie</td>\n",
       "      <td>China</td>\n",
       "      <td>5</td>\n",
       "      <td>89</td>\n",
       "      <td>95</td>\n",
       "      <td>93</td>\n",
       "    </tr>\n",
       "  </tbody>\n",
       "</table>\n",
       "</div>"
      ],
      "text/plain": [
       "    Name Nation Level  Statistics  Accounting  Finance\n",
       "0   Lily     US     5          85          68       90\n",
       "1    Tom     UK     6          82          63       88\n",
       "2   Jack  India     6          84          90       78\n",
       "3  David     UK     6          75          68       80\n",
       "4   Ella  India     5          69          55       63\n",
       "5  Julie  China     5          89          95       93"
      ]
     },
     "execution_count": 257,
     "metadata": {},
     "output_type": "execute_result"
    }
   ],
   "source": [
    "df = pd.DataFrame(\n",
    "    [\n",
    "        [\"Lily\", \"US\", \"5\", 85, 68, 90],\n",
    "        [\"Tom\", \"UK\", \"6\", 82, 63, 88],\n",
    "        [\"Jack\", \"India\", \"6\", 84, 90, 78],\n",
    "        [\"David\", \"UK\", \"6\", 75, 68, 80],\n",
    "        [\"Ella\", \"India\", \"5\", 69, 55, 63],\n",
    "        [\"Julie\", \"China\", \"5\", 89, 95, 93],\n",
    "    ],\n",
    "    columns=[\"Name\", \"Nation\", \"Level\", \"Statistics\", \"Accounting\", \"Finance\"],\n",
    ")\n",
    "df"
   ]
  },
  {
   "cell_type": "code",
   "execution_count": 251,
   "id": "621aef8e",
   "metadata": {
    "scrolled": true
   },
   "outputs": [
    {
     "data": {
      "text/html": [
       "<div>\n",
       "<style scoped>\n",
       "    .dataframe tbody tr th:only-of-type {\n",
       "        vertical-align: middle;\n",
       "    }\n",
       "\n",
       "    .dataframe tbody tr th {\n",
       "        vertical-align: top;\n",
       "    }\n",
       "\n",
       "    .dataframe thead th {\n",
       "        text-align: right;\n",
       "    }\n",
       "</style>\n",
       "<table border=\"1\" class=\"dataframe\">\n",
       "  <thead>\n",
       "    <tr style=\"text-align: right;\">\n",
       "      <th></th>\n",
       "      <th>Name</th>\n",
       "      <th>Nation</th>\n",
       "      <th>Statistics</th>\n",
       "      <th>Accounting</th>\n",
       "      <th>Finance</th>\n",
       "    </tr>\n",
       "    <tr>\n",
       "      <th>Level</th>\n",
       "      <th></th>\n",
       "      <th></th>\n",
       "      <th></th>\n",
       "      <th></th>\n",
       "      <th></th>\n",
       "    </tr>\n",
       "  </thead>\n",
       "  <tbody>\n",
       "    <tr>\n",
       "      <th>5</th>\n",
       "      <td>4</td>\n",
       "      <td>4</td>\n",
       "      <td>4</td>\n",
       "      <td>4</td>\n",
       "      <td>4</td>\n",
       "    </tr>\n",
       "    <tr>\n",
       "      <th>6</th>\n",
       "      <td>2</td>\n",
       "      <td>2</td>\n",
       "      <td>2</td>\n",
       "      <td>2</td>\n",
       "      <td>2</td>\n",
       "    </tr>\n",
       "  </tbody>\n",
       "</table>\n",
       "</div>"
      ],
      "text/plain": [
       "       Name  Nation  Statistics  Accounting  Finance\n",
       "Level                                               \n",
       "5         4       4           4           4        4\n",
       "6         2       2           2           2        2"
      ]
     },
     "execution_count": 251,
     "metadata": {},
     "output_type": "execute_result"
    }
   ],
   "source": [
    "df.groupby(\"Level\").count() # group by 'Level'"
   ]
  },
  {
   "cell_type": "code",
   "execution_count": 241,
   "id": "d3de1613",
   "metadata": {
    "scrolled": true
   },
   "outputs": [
    {
     "data": {
      "text/plain": [
       "Level\n",
       "5    4\n",
       "6    2\n",
       "dtype: int64"
      ]
     },
     "execution_count": 241,
     "metadata": {},
     "output_type": "execute_result"
    }
   ],
   "source": [
    "df.groupby(\"Level\").size() "
   ]
  },
  {
   "cell_type": "markdown",
   "id": "18c46376-1b13-40d3-95fb-72fdb36ceaf4",
   "metadata": {},
   "source": [
    "- Use `numeric_only = True` to operate only on the numeric values"
   ]
  },
  {
   "cell_type": "code",
   "execution_count": 246,
   "id": "0065022f",
   "metadata": {
    "slideshow": {
     "slide_type": "subslide"
    }
   },
   "outputs": [
    {
     "data": {
      "text/html": [
       "<div>\n",
       "<style scoped>\n",
       "    .dataframe tbody tr th:only-of-type {\n",
       "        vertical-align: middle;\n",
       "    }\n",
       "\n",
       "    .dataframe tbody tr th {\n",
       "        vertical-align: top;\n",
       "    }\n",
       "\n",
       "    .dataframe thead th {\n",
       "        text-align: right;\n",
       "    }\n",
       "</style>\n",
       "<table border=\"1\" class=\"dataframe\">\n",
       "  <thead>\n",
       "    <tr style=\"text-align: right;\">\n",
       "      <th></th>\n",
       "      <th>Statistics</th>\n",
       "      <th>Accounting</th>\n",
       "      <th>Finance</th>\n",
       "    </tr>\n",
       "    <tr>\n",
       "      <th>Level</th>\n",
       "      <th></th>\n",
       "      <th></th>\n",
       "      <th></th>\n",
       "    </tr>\n",
       "  </thead>\n",
       "  <tbody>\n",
       "    <tr>\n",
       "      <th>5</th>\n",
       "      <td>81.25</td>\n",
       "      <td>70.25</td>\n",
       "      <td>83.5</td>\n",
       "    </tr>\n",
       "    <tr>\n",
       "      <th>6</th>\n",
       "      <td>79.50</td>\n",
       "      <td>79.00</td>\n",
       "      <td>79.0</td>\n",
       "    </tr>\n",
       "  </tbody>\n",
       "</table>\n",
       "</div>"
      ],
      "text/plain": [
       "       Statistics  Accounting  Finance\n",
       "Level                                 \n",
       "5           81.25       70.25     83.5\n",
       "6           79.50       79.00     79.0"
      ]
     },
     "execution_count": 246,
     "metadata": {},
     "output_type": "execute_result"
    }
   ],
   "source": [
    "df.groupby(\"Level\").mean(\n",
    "    numeric_only=True\n",
    ")  # Get the mean scores for each module by \"Level\""
   ]
  },
  {
   "cell_type": "code",
   "execution_count": 260,
   "id": "21382a3e",
   "metadata": {
    "slideshow": {
     "slide_type": "fragment"
    }
   },
   "outputs": [
    {
     "data": {
      "text/html": [
       "<div>\n",
       "<style scoped>\n",
       "    .dataframe tbody tr th:only-of-type {\n",
       "        vertical-align: middle;\n",
       "    }\n",
       "\n",
       "    .dataframe tbody tr th {\n",
       "        vertical-align: top;\n",
       "    }\n",
       "\n",
       "    .dataframe thead th {\n",
       "        text-align: right;\n",
       "    }\n",
       "</style>\n",
       "<table border=\"1\" class=\"dataframe\">\n",
       "  <thead>\n",
       "    <tr style=\"text-align: right;\">\n",
       "      <th></th>\n",
       "      <th></th>\n",
       "      <th>Statistics</th>\n",
       "      <th>Accounting</th>\n",
       "      <th>Finance</th>\n",
       "    </tr>\n",
       "    <tr>\n",
       "      <th>Nation</th>\n",
       "      <th>Level</th>\n",
       "      <th></th>\n",
       "      <th></th>\n",
       "      <th></th>\n",
       "    </tr>\n",
       "  </thead>\n",
       "  <tbody>\n",
       "    <tr>\n",
       "      <th>China</th>\n",
       "      <th>5</th>\n",
       "      <td>89.0</td>\n",
       "      <td>95.0</td>\n",
       "      <td>93.0</td>\n",
       "    </tr>\n",
       "    <tr>\n",
       "      <th rowspan=\"2\" valign=\"top\">India</th>\n",
       "      <th>5</th>\n",
       "      <td>69.0</td>\n",
       "      <td>55.0</td>\n",
       "      <td>63.0</td>\n",
       "    </tr>\n",
       "    <tr>\n",
       "      <th>6</th>\n",
       "      <td>84.0</td>\n",
       "      <td>90.0</td>\n",
       "      <td>78.0</td>\n",
       "    </tr>\n",
       "    <tr>\n",
       "      <th>UK</th>\n",
       "      <th>6</th>\n",
       "      <td>78.5</td>\n",
       "      <td>65.5</td>\n",
       "      <td>84.0</td>\n",
       "    </tr>\n",
       "    <tr>\n",
       "      <th>US</th>\n",
       "      <th>5</th>\n",
       "      <td>85.0</td>\n",
       "      <td>68.0</td>\n",
       "      <td>90.0</td>\n",
       "    </tr>\n",
       "  </tbody>\n",
       "</table>\n",
       "</div>"
      ],
      "text/plain": [
       "              Statistics  Accounting  Finance\n",
       "Nation Level                                 \n",
       "China  5            89.0        95.0     93.0\n",
       "India  5            69.0        55.0     63.0\n",
       "       6            84.0        90.0     78.0\n",
       "UK     6            78.5        65.5     84.0\n",
       "US     5            85.0        68.0     90.0"
      ]
     },
     "execution_count": 260,
     "metadata": {},
     "output_type": "execute_result"
    }
   ],
   "source": [
    "df.groupby([\"Nation\", \"Level\"]).mean(numeric_only=True) "
   ]
  },
  {
   "cell_type": "markdown",
   "id": "f87b26d7",
   "metadata": {
    "slideshow": {
     "slide_type": "subslide"
    }
   },
   "source": [
    "We can assign the data after grouping to a new DataFrame."
   ]
  },
  {
   "cell_type": "code",
   "execution_count": 262,
   "id": "b105d355",
   "metadata": {
    "slideshow": {
     "slide_type": "fragment"
    }
   },
   "outputs": [
    {
     "data": {
      "text/html": [
       "<div>\n",
       "<style scoped>\n",
       "    .dataframe tbody tr th:only-of-type {\n",
       "        vertical-align: middle;\n",
       "    }\n",
       "\n",
       "    .dataframe tbody tr th {\n",
       "        vertical-align: top;\n",
       "    }\n",
       "\n",
       "    .dataframe thead th {\n",
       "        text-align: right;\n",
       "    }\n",
       "</style>\n",
       "<table border=\"1\" class=\"dataframe\">\n",
       "  <thead>\n",
       "    <tr style=\"text-align: right;\">\n",
       "      <th></th>\n",
       "      <th></th>\n",
       "      <th>Statistics</th>\n",
       "      <th>Accounting</th>\n",
       "      <th>Finance</th>\n",
       "    </tr>\n",
       "    <tr>\n",
       "      <th>Nation</th>\n",
       "      <th>Level</th>\n",
       "      <th></th>\n",
       "      <th></th>\n",
       "      <th></th>\n",
       "    </tr>\n",
       "  </thead>\n",
       "  <tbody>\n",
       "    <tr>\n",
       "      <th>China</th>\n",
       "      <th>5</th>\n",
       "      <td>89.0</td>\n",
       "      <td>95.0</td>\n",
       "      <td>93.0</td>\n",
       "    </tr>\n",
       "    <tr>\n",
       "      <th rowspan=\"2\" valign=\"top\">India</th>\n",
       "      <th>5</th>\n",
       "      <td>69.0</td>\n",
       "      <td>55.0</td>\n",
       "      <td>63.0</td>\n",
       "    </tr>\n",
       "    <tr>\n",
       "      <th>6</th>\n",
       "      <td>84.0</td>\n",
       "      <td>90.0</td>\n",
       "      <td>78.0</td>\n",
       "    </tr>\n",
       "    <tr>\n",
       "      <th>UK</th>\n",
       "      <th>6</th>\n",
       "      <td>78.5</td>\n",
       "      <td>65.5</td>\n",
       "      <td>84.0</td>\n",
       "    </tr>\n",
       "    <tr>\n",
       "      <th>US</th>\n",
       "      <th>5</th>\n",
       "      <td>85.0</td>\n",
       "      <td>68.0</td>\n",
       "      <td>90.0</td>\n",
       "    </tr>\n",
       "  </tbody>\n",
       "</table>\n",
       "</div>"
      ],
      "text/plain": [
       "              Statistics  Accounting  Finance\n",
       "Nation Level                                 \n",
       "China  5            89.0        95.0     93.0\n",
       "India  5            69.0        55.0     63.0\n",
       "       6            84.0        90.0     78.0\n",
       "UK     6            78.5        65.5     84.0\n",
       "US     5            85.0        68.0     90.0"
      ]
     },
     "execution_count": 262,
     "metadata": {},
     "output_type": "execute_result"
    }
   ],
   "source": [
    "df2 = df.groupby([\"Nation\", \"Level\"]).mean(numeric_only=True) \n",
    "df2"
   ]
  },
  {
   "cell_type": "code",
   "execution_count": 263,
   "id": "08fd06c8",
   "metadata": {
    "slideshow": {
     "slide_type": "subslide"
    }
   },
   "outputs": [
    {
     "data": {
      "text/plain": [
       "MultiIndex([('China', '5'),\n",
       "            ('India', '5'),\n",
       "            ('India', '6'),\n",
       "            (   'UK', '6'),\n",
       "            (   'US', '5')],\n",
       "           names=['Nation', 'Level'])"
      ]
     },
     "execution_count": 263,
     "metadata": {},
     "output_type": "execute_result"
    }
   ],
   "source": [
    "df2.index"
   ]
  },
  {
   "cell_type": "markdown",
   "id": "326b6cc2",
   "metadata": {},
   "source": [
    "### Method `reset_index()` or parameter `as_index=False`\n",
    "<hr>\n",
    "\n",
    "The indices of a DataFrame often change after Pandas processing, as have mentioned before, we have two ways to stop the changes.\n",
    "\n",
    "- Use a method `reset_index()` after `goupby()`.\n",
    "- Use a parameter `as_index=False` inside `groupby()`."
   ]
  },
  {
   "cell_type": "code",
   "execution_count": 282,
   "id": "f1eef6ac-68e8-4dfd-b0e4-1bb7070afd18",
   "metadata": {},
   "outputs": [
    {
     "data": {
      "text/html": [
       "<div>\n",
       "<style scoped>\n",
       "    .dataframe tbody tr th:only-of-type {\n",
       "        vertical-align: middle;\n",
       "    }\n",
       "\n",
       "    .dataframe tbody tr th {\n",
       "        vertical-align: top;\n",
       "    }\n",
       "\n",
       "    .dataframe thead th {\n",
       "        text-align: right;\n",
       "    }\n",
       "</style>\n",
       "<table border=\"1\" class=\"dataframe\">\n",
       "  <thead>\n",
       "    <tr style=\"text-align: right;\">\n",
       "      <th></th>\n",
       "      <th>Nation</th>\n",
       "      <th>Level</th>\n",
       "      <th>Statistics</th>\n",
       "      <th>Accounting</th>\n",
       "      <th>Finance</th>\n",
       "    </tr>\n",
       "  </thead>\n",
       "  <tbody>\n",
       "    <tr>\n",
       "      <th>0</th>\n",
       "      <td>China</td>\n",
       "      <td>5</td>\n",
       "      <td>89.0</td>\n",
       "      <td>95.0</td>\n",
       "      <td>93.0</td>\n",
       "    </tr>\n",
       "    <tr>\n",
       "      <th>1</th>\n",
       "      <td>India</td>\n",
       "      <td>5</td>\n",
       "      <td>69.0</td>\n",
       "      <td>55.0</td>\n",
       "      <td>63.0</td>\n",
       "    </tr>\n",
       "    <tr>\n",
       "      <th>2</th>\n",
       "      <td>India</td>\n",
       "      <td>6</td>\n",
       "      <td>84.0</td>\n",
       "      <td>90.0</td>\n",
       "      <td>78.0</td>\n",
       "    </tr>\n",
       "    <tr>\n",
       "      <th>3</th>\n",
       "      <td>UK</td>\n",
       "      <td>6</td>\n",
       "      <td>78.5</td>\n",
       "      <td>65.5</td>\n",
       "      <td>84.0</td>\n",
       "    </tr>\n",
       "    <tr>\n",
       "      <th>4</th>\n",
       "      <td>US</td>\n",
       "      <td>5</td>\n",
       "      <td>85.0</td>\n",
       "      <td>68.0</td>\n",
       "      <td>90.0</td>\n",
       "    </tr>\n",
       "  </tbody>\n",
       "</table>\n",
       "</div>"
      ],
      "text/plain": [
       "  Nation Level  Statistics  Accounting  Finance\n",
       "0  China     5        89.0        95.0     93.0\n",
       "1  India     5        69.0        55.0     63.0\n",
       "2  India     6        84.0        90.0     78.0\n",
       "3     UK     6        78.5        65.5     84.0\n",
       "4     US     5        85.0        68.0     90.0"
      ]
     },
     "execution_count": 282,
     "metadata": {},
     "output_type": "execute_result"
    }
   ],
   "source": [
    "df2 = df.groupby([\"Nation\", \"Level\"]).mean(numeric_only=True).reset_index()\n",
    "df2"
   ]
  },
  {
   "cell_type": "code",
   "execution_count": 267,
   "id": "3f4bae8d-4035-4fc4-adae-84f7d00115a3",
   "metadata": {},
   "outputs": [
    {
     "data": {
      "text/html": [
       "<div>\n",
       "<style scoped>\n",
       "    .dataframe tbody tr th:only-of-type {\n",
       "        vertical-align: middle;\n",
       "    }\n",
       "\n",
       "    .dataframe tbody tr th {\n",
       "        vertical-align: top;\n",
       "    }\n",
       "\n",
       "    .dataframe thead th {\n",
       "        text-align: right;\n",
       "    }\n",
       "</style>\n",
       "<table border=\"1\" class=\"dataframe\">\n",
       "  <thead>\n",
       "    <tr style=\"text-align: right;\">\n",
       "      <th></th>\n",
       "      <th>Nation</th>\n",
       "      <th>Level</th>\n",
       "      <th>Statistics</th>\n",
       "      <th>Accounting</th>\n",
       "      <th>Finance</th>\n",
       "    </tr>\n",
       "  </thead>\n",
       "  <tbody>\n",
       "    <tr>\n",
       "      <th>0</th>\n",
       "      <td>China</td>\n",
       "      <td>5</td>\n",
       "      <td>89.0</td>\n",
       "      <td>95.0</td>\n",
       "      <td>93.0</td>\n",
       "    </tr>\n",
       "    <tr>\n",
       "      <th>1</th>\n",
       "      <td>India</td>\n",
       "      <td>5</td>\n",
       "      <td>69.0</td>\n",
       "      <td>55.0</td>\n",
       "      <td>63.0</td>\n",
       "    </tr>\n",
       "    <tr>\n",
       "      <th>2</th>\n",
       "      <td>India</td>\n",
       "      <td>6</td>\n",
       "      <td>84.0</td>\n",
       "      <td>90.0</td>\n",
       "      <td>78.0</td>\n",
       "    </tr>\n",
       "    <tr>\n",
       "      <th>3</th>\n",
       "      <td>UK</td>\n",
       "      <td>6</td>\n",
       "      <td>78.5</td>\n",
       "      <td>65.5</td>\n",
       "      <td>84.0</td>\n",
       "    </tr>\n",
       "    <tr>\n",
       "      <th>4</th>\n",
       "      <td>US</td>\n",
       "      <td>5</td>\n",
       "      <td>85.0</td>\n",
       "      <td>68.0</td>\n",
       "      <td>90.0</td>\n",
       "    </tr>\n",
       "  </tbody>\n",
       "</table>\n",
       "</div>"
      ],
      "text/plain": [
       "  Nation Level  Statistics  Accounting  Finance\n",
       "0  China     5        89.0        95.0     93.0\n",
       "1  India     5        69.0        55.0     63.0\n",
       "2  India     6        84.0        90.0     78.0\n",
       "3     UK     6        78.5        65.5     84.0\n",
       "4     US     5        85.0        68.0     90.0"
      ]
     },
     "execution_count": 267,
     "metadata": {},
     "output_type": "execute_result"
    }
   ],
   "source": [
    "df2 = df.groupby([\"Nation\", \"Level\"], as_index=False).mean(numeric_only=True)\n",
    "df2"
   ]
  },
  {
   "cell_type": "markdown",
   "id": "b47dd8e1",
   "metadata": {},
   "source": [
    "Sometimes, the `reset_index()` method can be used with the `drop=True` parameter to remove the index."
   ]
  },
  {
   "cell_type": "markdown",
   "id": "9606c0ee",
   "metadata": {},
   "source": [
    "The `reset_index()` method can also use the `names` parameter to rename column headers."
   ]
  },
  {
   "cell_type": "code",
   "execution_count": 283,
   "id": "f401be8f",
   "metadata": {},
   "outputs": [
    {
     "data": {
      "text/html": [
       "<div>\n",
       "<style scoped>\n",
       "    .dataframe tbody tr th:only-of-type {\n",
       "        vertical-align: middle;\n",
       "    }\n",
       "\n",
       "    .dataframe tbody tr th {\n",
       "        vertical-align: top;\n",
       "    }\n",
       "\n",
       "    .dataframe thead th {\n",
       "        text-align: right;\n",
       "    }\n",
       "</style>\n",
       "<table border=\"1\" class=\"dataframe\">\n",
       "  <thead>\n",
       "    <tr style=\"text-align: right;\">\n",
       "      <th></th>\n",
       "      <th>Class</th>\n",
       "      <th>Gender</th>\n",
       "      <th>Statistics</th>\n",
       "      <th>Accounting</th>\n",
       "      <th>Finance</th>\n",
       "    </tr>\n",
       "  </thead>\n",
       "  <tbody>\n",
       "    <tr>\n",
       "      <th>0</th>\n",
       "      <td>China</td>\n",
       "      <td>5</td>\n",
       "      <td>89.0</td>\n",
       "      <td>95.0</td>\n",
       "      <td>93.0</td>\n",
       "    </tr>\n",
       "    <tr>\n",
       "      <th>1</th>\n",
       "      <td>India</td>\n",
       "      <td>5</td>\n",
       "      <td>69.0</td>\n",
       "      <td>55.0</td>\n",
       "      <td>63.0</td>\n",
       "    </tr>\n",
       "    <tr>\n",
       "      <th>2</th>\n",
       "      <td>India</td>\n",
       "      <td>6</td>\n",
       "      <td>84.0</td>\n",
       "      <td>90.0</td>\n",
       "      <td>78.0</td>\n",
       "    </tr>\n",
       "    <tr>\n",
       "      <th>3</th>\n",
       "      <td>UK</td>\n",
       "      <td>6</td>\n",
       "      <td>78.5</td>\n",
       "      <td>65.5</td>\n",
       "      <td>84.0</td>\n",
       "    </tr>\n",
       "    <tr>\n",
       "      <th>4</th>\n",
       "      <td>US</td>\n",
       "      <td>5</td>\n",
       "      <td>85.0</td>\n",
       "      <td>68.0</td>\n",
       "      <td>90.0</td>\n",
       "    </tr>\n",
       "  </tbody>\n",
       "</table>\n",
       "</div>"
      ],
      "text/plain": [
       "   Class Gender  Statistics  Accounting  Finance\n",
       "0  China      5        89.0        95.0     93.0\n",
       "1  India      5        69.0        55.0     63.0\n",
       "2  India      6        84.0        90.0     78.0\n",
       "3     UK      6        78.5        65.5     84.0\n",
       "4     US      5        85.0        68.0     90.0"
      ]
     },
     "execution_count": 283,
     "metadata": {},
     "output_type": "execute_result"
    }
   ],
   "source": [
    "df2 = (\n",
    "    df.groupby([\"Nation\", \"Level\"]).mean(numeric_only=True).reset_index(names=[\"Class\", \"Gender\"])\n",
    ") \n",
    "df2"
   ]
  },
  {
   "cell_type": "code",
   "execution_count": null,
   "id": "4f8eddba",
   "metadata": {
    "slideshow": {
     "slide_type": "fragment"
    }
   },
   "outputs": [],
   "source": [
    "df2.columns"
   ]
  },
  {
   "cell_type": "markdown",
   "id": "f940d984",
   "metadata": {
    "slideshow": {
     "slide_type": "slide"
    }
   },
   "source": [
    "## To a NumPy array or a list\n",
    "<hr>"
   ]
  },
  {
   "cell_type": "markdown",
   "id": "d9f61aed",
   "metadata": {
    "slideshow": {
     "slide_type": "fragment"
    }
   },
   "source": [
    "In Pandas, the `values` method can convert DataFrame data into a NumPy array format. For example, using the previous data example:"
   ]
  },
  {
   "cell_type": "code",
   "execution_count": 343,
   "id": "3ca186de",
   "metadata": {
    "slideshow": {
     "slide_type": "fragment"
    }
   },
   "outputs": [
    {
     "data": {
      "text/plain": [
       "array([['Jim', '85', '82', '84'],\n",
       "       ['Ella', 55, 90, 89],\n",
       "       ['Jack', '90', '88', '78']], dtype=object)"
      ]
     },
     "execution_count": 343,
     "metadata": {},
     "output_type": "execute_result"
    }
   ],
   "source": [
    "df.values"
   ]
  },
  {
   "cell_type": "code",
   "execution_count": 344,
   "id": "12461f59-fd05-4b72-af72-86b67468ce9f",
   "metadata": {},
   "outputs": [
    {
     "data": {
      "text/plain": [
       "array([['85', '82'],\n",
       "       [55, 90],\n",
       "       ['90', '88']], dtype=object)"
      ]
     },
     "execution_count": 344,
     "metadata": {},
     "output_type": "execute_result"
    }
   ],
   "source": [
    "df[[\"Statistics\", \"Accounting\"]].values"
   ]
  },
  {
   "cell_type": "markdown",
   "id": "806f8657",
   "metadata": {
    "slideshow": {
     "slide_type": "subslide"
    }
   },
   "source": [
    "You can also use the `tolist()` method to convert a column of data into Python's native list type."
   ]
  },
  {
   "cell_type": "code",
   "execution_count": 393,
   "id": "afeac2df",
   "metadata": {
    "slideshow": {
     "slide_type": "fragment"
    }
   },
   "outputs": [
    {
     "data": {
      "text/plain": [
       "[85.0, 68.0, 90.0]"
      ]
     },
     "execution_count": 393,
     "metadata": {},
     "output_type": "execute_result"
    }
   ],
   "source": [
    "df[\"Statistics\"].tolist()"
   ]
  },
  {
   "cell_type": "markdown",
   "id": "f3879328",
   "metadata": {
    "slideshow": {
     "slide_type": "slide"
    }
   },
   "source": [
    "## Apply a method\n",
    "<hr>\n",
    "\n",
    "Pandas 可以使用``apply``调用自定义函数。"
   ]
  },
  {
   "cell_type": "code",
   "execution_count": null,
   "id": "b9ba97d1",
   "metadata": {
    "slideshow": {
     "slide_type": "fragment"
    }
   },
   "outputs": [],
   "source": [
    "import numpy as np\n",
    "\n",
    "df[\"统计学\"].apply(np.sqrt)  # 调用 Numpy 中的求平方根函数对统计学成绩每个元素求平方根"
   ]
  },
  {
   "cell_type": "markdown",
   "id": "ea1be51b",
   "metadata": {
    "slideshow": {
     "slide_type": "subslide"
    }
   },
   "source": [
    "我们也可以使用``lambda``定义一个匿名函数在``apply``里面调用："
   ]
  },
  {
   "cell_type": "code",
   "execution_count": null,
   "id": "f33d66cb",
   "metadata": {
    "slideshow": {
     "slide_type": "fragment"
    }
   },
   "outputs": [],
   "source": [
    "df[\"高数新\"] = df[\"高数\"].apply(lambda x: x - 10)  # 对每一个高数成绩都减去 10 分，并赋值给一个新的列"
   ]
  },
  {
   "cell_type": "markdown",
   "id": "03e88338",
   "metadata": {
    "slideshow": {
     "slide_type": "subslide"
    }
   },
   "source": [
    "``apply`` 也可以调用更复杂的自定义函数，例如，下面定义一个成绩替换函数，将分数替换为\"优良中差\"："
   ]
  },
  {
   "cell_type": "code",
   "execution_count": null,
   "id": "bcfaacec",
   "metadata": {
    "slideshow": {
     "slide_type": "subslide"
    }
   },
   "outputs": [],
   "source": [
    "def replace_score(x):\n",
    "    if x >= 90:\n",
    "        return \"优\"\n",
    "    elif x >= 80:\n",
    "        return \"良\"\n",
    "    elif x >= 60:\n",
    "        return \"中\"\n",
    "    else:\n",
    "        return \"差\"\n",
    "\n",
    "\n",
    "df[\"英语\"].apply(replace_score)"
   ]
  },
  {
   "cell_type": "markdown",
   "id": "0ab13806",
   "metadata": {
    "slideshow": {
     "slide_type": "slide"
    }
   },
   "source": [
    "## 数据清洗\n",
    "<hr>\n",
    "\n",
    "### 数据替换``replace``, ``fillna``\n",
    "<hr>\n",
    "\n",
    "在进行数据处理时，经常需要对原始数据的一些异常值或错误值进行批量处理。 Pandas 提供了``replace``函数方便地进行这项操作。``replace``函数第一项为原数据中的值，第二项为需要替换的值。例如，有下面的学生成绩："
   ]
  },
  {
   "cell_type": "code",
   "execution_count": null,
   "id": "dc02173a",
   "metadata": {
    "slideshow": {
     "slide_type": "subslide"
    }
   },
   "outputs": [],
   "source": [
    "import pandas as pd\n",
    "import numpy as np\n",
    "\n",
    "df = pd.DataFrame(\n",
    "    np.array([[85, 68, 90], [82, 63, 88], [84, 90, 78]]),\n",
    "    columns=[\"统计学\", \"高数\", \"英语\"],\n",
    "    index=[\"张三\", \"李四\", \"王五\"],\n",
    ")\n",
    "df"
   ]
  },
  {
   "cell_type": "markdown",
   "id": "1d4272c8",
   "metadata": {
    "slideshow": {
     "slide_type": "subslide"
    }
   },
   "source": [
    "将其中的分数 90 替换为缺失值 NaN，注意，``replace``返回了一个新的数据，但原始数据并没有改变。"
   ]
  },
  {
   "cell_type": "code",
   "execution_count": null,
   "id": "2dd718a2",
   "metadata": {
    "slideshow": {
     "slide_type": "fragment"
    }
   },
   "outputs": [],
   "source": [
    "df.replace(90, np.nan)"
   ]
  },
  {
   "cell_type": "code",
   "execution_count": null,
   "id": "d5316918",
   "metadata": {
    "slideshow": {
     "slide_type": "subslide"
    }
   },
   "outputs": [],
   "source": [
    "df  # 原始数据并没有变"
   ]
  },
  {
   "cell_type": "markdown",
   "id": "ba6e34ea",
   "metadata": {
    "slideshow": {
     "slide_type": "fragment"
    }
   },
   "source": [
    "若需要原始数据改变，需要跟上参数``inplace = True ``，下面讲到的函数``fillna ``、``drop_duplicates``、``dropna``、 ``rename``等也可以跟这个参数将原始数据改变。"
   ]
  },
  {
   "cell_type": "code",
   "execution_count": null,
   "id": "5601fc54",
   "metadata": {
    "slideshow": {
     "slide_type": "subslide"
    }
   },
   "outputs": [],
   "source": [
    "df.replace(90, np.nan, inplace=True)\n",
    "df  # 原始数据改变了"
   ]
  },
  {
   "cell_type": "markdown",
   "id": "94eeb363",
   "metadata": {
    "slideshow": {
     "slide_type": "subslide"
    }
   },
   "source": [
    "Pandas 提供``fillna``函数批量替换数据表中的缺失值 NaN。例如："
   ]
  },
  {
   "cell_type": "code",
   "execution_count": null,
   "id": "32b73318",
   "metadata": {
    "slideshow": {
     "slide_type": "fragment"
    }
   },
   "outputs": [],
   "source": [
    "df.fillna(80)  # 将缺失值替换为 80"
   ]
  },
  {
   "cell_type": "code",
   "execution_count": null,
   "id": "23dd36b3",
   "metadata": {
    "slideshow": {
     "slide_type": "subslide"
    }
   },
   "outputs": [],
   "source": [
    "df.fillna(\"missing\")  # 将缺失值替换为一个字符串"
   ]
  },
  {
   "cell_type": "markdown",
   "id": "efc0fff7",
   "metadata": {
    "slideshow": {
     "slide_type": "subslide"
    }
   },
   "source": [
    "Pandas 还可以直接调用``isnull``函数判断数据是否为缺失值："
   ]
  },
  {
   "cell_type": "code",
   "execution_count": null,
   "id": "f873fa54",
   "metadata": {
    "slideshow": {
     "slide_type": "fragment"
    }
   },
   "outputs": [],
   "source": [
    "df[\"英语\"].isnull()"
   ]
  },
  {
   "cell_type": "markdown",
   "id": "e7631010",
   "metadata": {},
   "source": [
    "### 数据类型转换 ``astype``\n",
    "<hr>\n",
    "\n",
    "很多时候，我们需要对原始数据进行数据转换。例如，一些原始数据中的数字为文本类型，我们需要讲它们转化为数值类型才能进行之后的计算操作。常见的数据类型转换函数为``astype``。\n"
   ]
  },
  {
   "cell_type": "code",
   "execution_count": null,
   "id": "399ec9d3",
   "metadata": {},
   "outputs": [],
   "source": [
    "import pandas as pd\n",
    "import numpy as np\n",
    "\n",
    "df = pd.DataFrame(\n",
    "    np.array([[\"85\", \"68\", \"90\"], [\"82\", \"63\", \"88\"], [\"84\", \"90\", \"78\"]]),\n",
    "    columns=[\"统计学\", \"高数\", \"英语\"],\n",
    "    index=[\"张三\", \"李四\", \"王五\"],\n",
    ")\n",
    "df"
   ]
  },
  {
   "cell_type": "code",
   "execution_count": null,
   "id": "98bf169d",
   "metadata": {},
   "outputs": [],
   "source": [
    "print(df.dtypes)"
   ]
  },
  {
   "cell_type": "markdown",
   "id": "36cdfb11",
   "metadata": {},
   "source": [
    "上面的 pandas 数据为文本类型，我们利用``astype``将其转化为浮点型数值类型。"
   ]
  },
  {
   "cell_type": "code",
   "execution_count": null,
   "id": "c1b8ca9a",
   "metadata": {},
   "outputs": [],
   "source": [
    "df = df[[\"统计学\", \"高数\", \"英语\"]].astype(float)\n",
    "df"
   ]
  },
  {
   "cell_type": "code",
   "execution_count": null,
   "id": "84521c8d",
   "metadata": {},
   "outputs": [],
   "source": [
    "print(df.dtypes)"
   ]
  },
  {
   "cell_type": "markdown",
   "id": "5a7c5723",
   "metadata": {},
   "source": [
    "改变`as_type`小括号中的参数为 int，str等，我们同样可以将原始数据转化为整数型，字符串型等。"
   ]
  },
  {
   "cell_type": "markdown",
   "id": "94258d03",
   "metadata": {
    "slideshow": {
     "slide_type": "slide"
    }
   },
   "source": [
    "### 重复值处理``drop_duplicates``\n",
    "<hr>\n",
    "\n",
    "在数据量比较大时，经常会遇到重复数据的问题，可以使用函数``drop_duplicates``将重复数据去掉。例如："
   ]
  },
  {
   "cell_type": "code",
   "execution_count": null,
   "id": "233c076f",
   "metadata": {
    "slideshow": {
     "slide_type": "subslide"
    }
   },
   "outputs": [],
   "source": [
    "df = pd.DataFrame(\n",
    "    [\n",
    "        [\"一班\", \"男\", 85, 68, 90],\n",
    "        [\"一班\", \"男\", 85, 68, 90],\n",
    "        [\"二班\", \"女\", 84, 90, 78],\n",
    "        [\"三班\", \"女\", 75, 68, 80],\n",
    "        [\"二班\", \"女\", 69, 55, 63],\n",
    "        [\"一班\", \"男\", 89, 95, 93],\n",
    "    ],\n",
    "    columns=[\"班级\", \"性别\", \"统计学\", \"高数\", \"英语\"],\n",
    "    index=[\"张三\", \"张三\", \"王五\", \"马六\", \"陈小虎\", \"魏大帅\"],\n",
    ")\n",
    "df"
   ]
  },
  {
   "cell_type": "markdown",
   "id": "6c6fa4cb",
   "metadata": {
    "slideshow": {
     "slide_type": "subslide"
    }
   },
   "source": [
    "前两行的数据完全相同，使用函数``drop_duplicates``处理："
   ]
  },
  {
   "cell_type": "code",
   "execution_count": null,
   "id": "8d9cb2d0",
   "metadata": {
    "slideshow": {
     "slide_type": "fragment"
    }
   },
   "outputs": [],
   "source": [
    "df.drop_duplicates()"
   ]
  },
  {
   "cell_type": "markdown",
   "id": "d75c6961",
   "metadata": {},
   "source": [
    "``drop_duplicates``的语法如下：\n",
    "\n",
    "<table>\n",
    "     <tr style=\"border-top:solid; border-bottom:solid\">\n",
    "            <th colspan=2 style=\"text-align:center\">DataFrame.drop_duplicates(keep='first', inplace=False, ignore_index=False)</th>\n",
    "    </tr>\n",
    "    <tr>\n",
    "        <td rowspan=3 style=\"text-align:left\">keep</td>\n",
    "        <td style=\"text-align:left\">'fist'表示除了第一个重复的行都删除</td>\n",
    "    </tr>\n",
    "    <tr>\n",
    "        <td style=\"text-align:left\">'last'表示除了最后一个重复的行都删除</td>\n",
    "    </tr>\n",
    "    <tr>\n",
    "        <td style=\"text-align:left\">False 表示删除所有重复的行</td>\n",
    "    </tr>\n",
    "    <tr>\n",
    "        <td style=\"text-align:left\">inplace</td>\n",
    "        <td style=\"text-align:left\">若 inplace=True，表示处理后的数据替换原数据</td>\n",
    "    </tr>\n",
    "    <tr style=\"border-bottom:solid\">\n",
    "        <td style=\"text-align:left\">ignore_index</td>\n",
    "        <td style=\"text-align:left\">如果为 True，则排序后的行号重新标号，默认是 False</td>\n",
    "    </tr>\n",
    "</table>\n",
    "</br>"
   ]
  },
  {
   "cell_type": "markdown",
   "id": "07545ac5",
   "metadata": {
    "slideshow": {
     "slide_type": "slide"
    }
   },
   "source": [
    "### 缺失值处理``drop_na``\n",
    "<hr>\n",
    "\n",
    "``dropna``函数可以将数据表中包含缺失值的行去除掉，与``drop_duplicates``的语法类似。它的语法如下：\n",
    "\n",
    "<table>\n",
    "     <tr style=\"border-top:solid; border-bottom:solid\">\n",
    "            <th colspan=2 style=\"text-align:center\">DataFrame.dropna(axis=0, how='any', thresh=None, inplace=False, ignore_index=False)</th>\n",
    "    </tr>\n",
    "    <tr>\n",
    "        <td style=\"text-align:left\">axis</td>\n",
    "        <td style=\"text-align:left\">axis=0 表示删除含空值所在行，axis=1 表示删除含空值所在列</td>\n",
    "    </tr>\n",
    "    <tr>\n",
    "        <td rowspan=2 style=\"text-align:left\">how</td>\n",
    "        <td style=\"text-align:left\">默认为 how='any'，表示若有空值，就删除</td>\n",
    "    </tr>\n",
    "    <tr>  \n",
    "        <td style=\"text-align:left\">how='all'，表示全部是空值才删除该行或该列</td>\n",
    "    </tr>\n",
    "    <tr>\n",
    "        <td style=\"text-align:left\">thresh</td>\n",
    "        <td style=\"text-align:left\">空值的个数，作为行或列的删除标准</td>\n",
    "    </tr>\n",
    "    <tr>\n",
    "        <td style=\"text-align:left\">inplace</td>\n",
    "        <td style=\"text-align:left\">若 inplace=True，表示处理后的数据替换原数据</td>\n",
    "    </tr>\n",
    "    <tr style=\"border-bottom:solid\">\n",
    "        <td style=\"text-align:left\">ignore_index</td>\n",
    "        <td style=\"text-align:left\">如果为 True，则排序后的行号重新标号，默认是 False</td>\n",
    "    </tr>\n",
    "</table>\n",
    "</br>"
   ]
  },
  {
   "cell_type": "code",
   "execution_count": null,
   "id": "e8b6bd7e",
   "metadata": {
    "slideshow": {
     "slide_type": "subslide"
    }
   },
   "outputs": [],
   "source": [
    "df = pd.DataFrame(\n",
    "    {\"统计学\": [85, 68, np.nan], \"高数\": [82, 75, 88], \"英语\": [np.nan, 90, 78]},\n",
    "    index=[\"张三\", \"李四\", \"王五\"],\n",
    ")\n",
    "df"
   ]
  },
  {
   "cell_type": "code",
   "execution_count": null,
   "id": "310c7c25",
   "metadata": {
    "slideshow": {
     "slide_type": "subslide"
    }
   },
   "outputs": [],
   "source": [
    "df.dropna()  # 默认为删除含有空值的行，并且只要行里面有 Nan 值，就删除"
   ]
  },
  {
   "cell_type": "code",
   "execution_count": null,
   "id": "66327c09",
   "metadata": {
    "slideshow": {
     "slide_type": "subslide"
    }
   },
   "outputs": [],
   "source": [
    "df.dropna(axis=1)  # 删除含有空值的列"
   ]
  },
  {
   "cell_type": "code",
   "execution_count": null,
   "id": "d5bf39e7",
   "metadata": {
    "slideshow": {
     "slide_type": "fragment"
    }
   },
   "outputs": [],
   "source": [
    "df.dropna(how=\"all\")  # 全部是空值才删除"
   ]
  },
  {
   "cell_type": "markdown",
   "id": "04be1a93",
   "metadata": {
    "slideshow": {
     "slide_type": "slide"
    }
   },
   "source": [
    "### 重命名``rename``\n",
    "<hr>\n",
    "\n",
    "在处理数据表时，有时候要给数据的行名或列名重命名，此时要用到``rename``函数，``rename``函数中的参数为一个字典形式：替换前的名字为字典的 key，替换后的名字为字典的 value。"
   ]
  },
  {
   "cell_type": "code",
   "execution_count": null,
   "id": "da114b3c",
   "metadata": {
    "slideshow": {
     "slide_type": "subslide"
    }
   },
   "outputs": [],
   "source": [
    "df = pd.DataFrame({\"统计学\": [85, 68, 90], \"高数\": [82, 63, 88], \"英语\": [84, 90, 78]})\n",
    "df"
   ]
  },
  {
   "cell_type": "code",
   "execution_count": null,
   "id": "6fc6d12c",
   "metadata": {
    "slideshow": {
     "slide_type": "subslide"
    }
   },
   "outputs": [],
   "source": [
    "df.rename(columns={\"统计学\": \"科目A\", \"高数\": \"科目B\"})  # 更改其中两列的列名"
   ]
  },
  {
   "cell_type": "markdown",
   "id": "17167a4d",
   "metadata": {},
   "source": [
    "```{admonition} tip\n",
    ":class: tip\n",
    "若要处理后的数据替换原数据，则要加参数``inplace=True``\n",
    "```"
   ]
  },
  {
   "cell_type": "markdown",
   "id": "d6da2998",
   "metadata": {
    "slideshow": {
     "slide_type": "slide"
    }
   },
   "source": [
    "##  时间序列数据处理\n",
    "<hr>\n",
    "\n",
    "### ``to_datetime`` 与 ``dt.strftime``\n",
    "<hr>\n",
    "\n",
    "实际工作中，经常会遇到大量的时间序列数据。这些时间序列的原始数据一般为文本格式，我们需要将它转化为时间日期格式。 Pandas 提供了 ``to_datetime``函数将其他日期时间格式转化为 Python 的日期时间格式。例如："
   ]
  },
  {
   "cell_type": "code",
   "execution_count": null,
   "id": "03586e8b",
   "metadata": {
    "slideshow": {
     "slide_type": "subslide"
    }
   },
   "outputs": [],
   "source": [
    "import pandas as pd\n",
    "\n",
    "pd.to_datetime(\"20200514\")"
   ]
  },
  {
   "cell_type": "code",
   "execution_count": null,
   "id": "2fc4a60c",
   "metadata": {
    "slideshow": {
     "slide_type": "fragment"
    }
   },
   "outputs": [],
   "source": [
    "pd.to_datetime(\"2020/05/14\")"
   ]
  },
  {
   "cell_type": "code",
   "execution_count": null,
   "id": "bfc516c9",
   "metadata": {
    "slideshow": {
     "slide_type": "fragment"
    }
   },
   "outputs": [],
   "source": [
    "pd.to_datetime(\"2020-05-14\")"
   ]
  },
  {
   "cell_type": "markdown",
   "id": "a1a1757d",
   "metadata": {
    "slideshow": {
     "slide_type": "subslide"
    }
   },
   "source": [
    "在上面的代码中可以看出，``to_datetime``方法将不同类型的时间数据字符串转化为 Timestamp 格式：``年-月-日 时:分:秒``。另外一个函数``dt.strftime``可以将 Pandas 的 Timestamp 格式数据转化为其他格式的字符串，例如："
   ]
  },
  {
   "cell_type": "code",
   "execution_count": null,
   "id": "1b07368b",
   "metadata": {
    "slideshow": {
     "slide_type": "fragment"
    }
   },
   "outputs": [],
   "source": [
    "df = pd.DataFrame(\n",
    "    {\n",
    "        \"入校时间\": [\"2016-09-15\", \"2017-03-23\", \"2018-09-05\"],\n",
    "        \"统计学\": [85, 68, 90],\n",
    "        \"高数\": [82, 63, 88],\n",
    "        \"英语\": [84, 90, 78],\n",
    "        \"姓名\": [\"张三\", \"李四\", \"王五\"],\n",
    "    }\n",
    ")\n",
    "df"
   ]
  },
  {
   "cell_type": "code",
   "execution_count": null,
   "id": "04ba5f4b",
   "metadata": {
    "slideshow": {
     "slide_type": "subslide"
    }
   },
   "outputs": [],
   "source": [
    "df.iloc[0, 0]  # 原始数据中的时间为字符串"
   ]
  },
  {
   "cell_type": "code",
   "execution_count": null,
   "id": "155efaab",
   "metadata": {
    "slideshow": {
     "slide_type": "fragment"
    }
   },
   "outputs": [],
   "source": [
    "df[\"入校时间\"] = pd.to_datetime(df[\"入校时间\"])  # 将原始数据中的时间转化为 python 的日期格式\n",
    "df"
   ]
  },
  {
   "cell_type": "code",
   "execution_count": null,
   "id": "ae56223a",
   "metadata": {
    "slideshow": {
     "slide_type": "subslide"
    }
   },
   "outputs": [],
   "source": [
    "df.iloc[0, 0]"
   ]
  },
  {
   "cell_type": "code",
   "execution_count": null,
   "id": "c3258782",
   "metadata": {
    "slideshow": {
     "slide_type": "fragment"
    }
   },
   "outputs": [],
   "source": [
    "df[\"入校时间\"].dt.strftime(\"%m-%d-%y\")  # 将日期格式转化为自定义格式的字符串"
   ]
  },
  {
   "cell_type": "code",
   "execution_count": null,
   "id": "27c802cf",
   "metadata": {
    "slideshow": {
     "slide_type": "subslide"
    }
   },
   "outputs": [],
   "source": [
    "df[\"入校时间\"].dt.strftime(\"%B-%d-%y\")  # 将日期格式转化为自定义格式的字符串，小写 Y 年份显示两位"
   ]
  },
  {
   "cell_type": "code",
   "execution_count": null,
   "id": "c85d3735",
   "metadata": {
    "slideshow": {
     "slide_type": "fragment"
    }
   },
   "outputs": [],
   "source": [
    "df[\"入校时间\"].dt.strftime(\"%B-%d-%Y\")  # 将日期格式转化为自定义格式的字符串，大写 Y 则年份显示四位"
   ]
  },
  {
   "cell_type": "code",
   "execution_count": null,
   "id": "539d660c",
   "metadata": {
    "slideshow": {
     "slide_type": "subslide"
    }
   },
   "outputs": [],
   "source": [
    "df[\"入校时间\"].dt.strftime(\"%Y-%W\")  # 将日期格式转化为自定义格式的字符串，大写 W 显示的为该年第几周"
   ]
  },
  {
   "cell_type": "code",
   "execution_count": null,
   "id": "50d01eb9",
   "metadata": {
    "slideshow": {
     "slide_type": "fragment"
    }
   },
   "outputs": [],
   "source": [
    "df[\"入校时间\"].dt.strftime(\"%Y-%m-%w\")  # 将日期格式转化为自定义格式的字符串，小写 w 显示的为该月第几周"
   ]
  },
  {
   "cell_type": "markdown",
   "id": "4be964c6",
   "metadata": {
    "slideshow": {
     "slide_type": "slide"
    }
   },
   "source": [
    "###  数据聚合函数``resample``\n",
    "<hr>\n",
    "\n",
    "对于很多时间序列数据，有时候经常需要对它们按一定周期进行数据聚合，可以用 Pandas 提供的``resample``函数。resample 方法中的小括号中用不同参数表示聚合的频率。举例："
   ]
  },
  {
   "cell_type": "code",
   "execution_count": null,
   "id": "5e97e5dd",
   "metadata": {
    "slideshow": {
     "slide_type": "subslide"
    }
   },
   "outputs": [],
   "source": [
    "import numpy as np\n",
    "\n",
    "index = pd.date_range(\"12/24/2019\", periods=10, freq=\"D\")  # 生成一个时间序列，频率为天，周期数为 10\n",
    "index"
   ]
  },
  {
   "cell_type": "code",
   "execution_count": null,
   "id": "5f491ca4",
   "metadata": {
    "slideshow": {
     "slide_type": "subslide"
    }
   },
   "outputs": [],
   "source": [
    "df = pd.DataFrame(np.arange(10), index=index)  # 创建一个包含时间序列的 DataFrame 数据表\n",
    "df"
   ]
  },
  {
   "cell_type": "code",
   "execution_count": null,
   "id": "cd3f3fcf",
   "metadata": {
    "slideshow": {
     "slide_type": "subslide"
    }
   },
   "outputs": [],
   "source": [
    "df.resample(\"M\").sum()  # 用 resample 方法按月('M')对数据聚合"
   ]
  },
  {
   "cell_type": "code",
   "execution_count": null,
   "id": "6f4989f5",
   "metadata": {
    "slideshow": {
     "slide_type": "fragment"
    }
   },
   "outputs": [],
   "source": [
    "df.resample(\"3D\").sum()  # 用 resample 方法每 3 天('3D')对数据聚合"
   ]
  },
  {
   "cell_type": "code",
   "execution_count": null,
   "id": "ad4ad464",
   "metadata": {
    "slideshow": {
     "slide_type": "subslide"
    }
   },
   "outputs": [],
   "source": [
    "df.resample(\"w\").sum()  # 用 resample 方法每周('w')对数据聚合"
   ]
  },
  {
   "cell_type": "markdown",
   "id": "a42bf68b",
   "metadata": {
    "slideshow": {
     "slide_type": "fragment"
    }
   },
   "source": [
    "``resample``的其他参数中， ‘T’ 表示分钟，‘H’ 表示小时，除了跟``sum()``方法外，还可以跟``asfreq()``，``ffill``，``apply()``等。"
   ]
  },
  {
   "cell_type": "markdown",
   "id": "3aff5d4d",
   "metadata": {
    "slideshow": {
     "slide_type": "slide"
    }
   },
   "source": [
    "## Pandas draw picutres*[^1]\n",
    "<hr>\n",
    "\n",
    "[^1]: \\* means this section may not be delivered in class."
   ]
  },
  {
   "cell_type": "markdown",
   "id": "05959c7f-31f6-4dd9-b6c2-461f094f5e38",
   "metadata": {},
   "source": [
    "除了结合 matplotlib 与 seaborn 画图外，Pandas 也有自己的画图函数``plot``，它的语法一般为：\n",
    "\n",
    "<table>\n",
    "     <tr style=\"border-top:solid; border-bottom:solid\">\n",
    "            <th colspan=2 style=\"text-align:center\">DataFrame.plot(x=None,y=None, kind='line',subplots=False, title=None)</th>\n",
    "    </tr>\n",
    "    <tr>\n",
    "        <td style=\"text-align:left\">x</td>\n",
    "        <td style=\"text-align:left\">横坐标数据</td>\n",
    "    </tr>\n",
    "    <tr>\n",
    "        <td style=\"text-align:left\">y</td>\n",
    "        <td style=\"text-align:left\">纵坐标数据</td>\n",
    "    </tr>\n",
    "    <tr>  \n",
    "        <td style=\"text-align:left\">kind</td>\n",
    "        <td style=\"text-align:left\">默认是线图，还可以是‘bar’,'barh','box','pie','scatter','hist'等</td>\n",
    "    </tr>\n",
    "    <tr>\n",
    "        <td style=\"text-align:left\">subplots</td>\n",
    "        <td style=\"text-align:left\">是否将每一列数据分别生成一个子图</td>\n",
    "    </tr>\n",
    "    <tr style=\"border-bottom:solid\">\n",
    "        <td style=\"text-align:left\">title</td>\n",
    "        <td style=\"text-align:left\">图形的标题</td>\n",
    "    </tr>\n",
    "</table>\n",
    "</br>"
   ]
  },
  {
   "cell_type": "code",
   "execution_count": null,
   "id": "6041e8fc",
   "metadata": {
    "slideshow": {
     "slide_type": "subslide"
    }
   },
   "outputs": [],
   "source": [
    "import pandas as pd\n",
    "\n",
    "df = pd.DataFrame(\n",
    "    {\"statistics\": [85, 68, 90], \"math\": [82, 63, 88], \"English\": [84, 90, 78]}\n",
    ")\n",
    "df"
   ]
  },
  {
   "cell_type": "code",
   "execution_count": null,
   "id": "3fac1533",
   "metadata": {
    "slideshow": {
     "slide_type": "subslide"
    }
   },
   "outputs": [],
   "source": [
    "df.plot()"
   ]
  },
  {
   "cell_type": "markdown",
   "id": "7c2c2df5",
   "metadata": {
    "slideshow": {
     "slide_type": "subslide"
    }
   },
   "source": [
    "从上图可以看出，Pandas 的``plot``默认对每一列数据，画一个线图。"
   ]
  },
  {
   "cell_type": "code",
   "execution_count": null,
   "id": "1c5cfeec",
   "metadata": {
    "slideshow": {
     "slide_type": "fragment"
    }
   },
   "outputs": [],
   "source": [
    "df.plot(kind=\"bar\", title=\"My picture\")  # 画出柱状图"
   ]
  },
  {
   "cell_type": "code",
   "execution_count": null,
   "id": "9ae37d22",
   "metadata": {
    "slideshow": {
     "slide_type": "subslide"
    }
   },
   "outputs": [],
   "source": [
    "df.plot(kind=\"bar\", subplots=True)  # 对每一列数据非别生成一个子图"
   ]
  },
  {
   "cell_type": "code",
   "execution_count": null,
   "id": "5dbc8dd0",
   "metadata": {
    "slideshow": {
     "slide_type": "subslide"
    }
   },
   "outputs": [],
   "source": [
    "df.plot(x=\"math\", y=\"statistics\", kind=\"scatter\")  # 指定横坐标与纵坐标，生成一个散点图"
   ]
  },
  {
   "cell_type": "markdown",
   "id": "12e878fa",
   "metadata": {
    "slideshow": {
     "slide_type": "slide"
    }
   },
   "source": [
    "```{admonition} tip\n",
    ":class: tip\n",
    "pandas 有大量处理数据的函数以及众多参数设置，限于篇幅关系，本书不详细赘述。读者使用 pandas 处理数据时，可以进一步查阅官方文档。\n",
    "```"
   ]
  },
  {
   "cell_type": "markdown",
   "id": "f0eec8d3",
   "metadata": {
    "slideshow": {
     "slide_type": "subslide"
    }
   },
   "source": [
    "## Exercises\n",
    "<hr>"
   ]
  },
  {
   "cell_type": "markdown",
   "id": "97b4605c-d97e-4414-b5eb-77dd99e75569",
   "metadata": {},
   "source": [
    "```{exercise}\n",
    ":label: creat-df\n",
    "How to creat a DataFrame for the following panel data?\n",
    "\n",
    "|Nation|Capital|\n",
    "|--|--|\n",
    "|UK|London|\n",
    "|US|Washington DC|\n",
    "|China|Beijing|\n",
    "```"
   ]
  },
  {
   "cell_type": "markdown",
   "id": "7cf49b32-e24b-4470-97d5-92a8a765c518",
   "metadata": {},
   "source": [
    "````{solution} creat-df\n",
    ":class: dropdown\n",
    "```python\n",
    "import pandas as pd\n",
    "\n",
    "df = pd.DataFrame({'Nation': ['UK', 'US', 'China'], 'Capital': ['London', 'Washinton DC', 'Beijing']})\n",
    "```\n",
    "\n",
    "or\n",
    "```python\n",
    "import pandas as pd\n",
    "import numpy as pd\n",
    "\n",
    "data = np.array([['UK', 'US', 'China'], ['London', 'Washinton DC', 'Beijing']])\n",
    "df = pd.DataFrame(data, columns=['Nation', 'Capital'])\n",
    "```\n",
    "\n",
    "````"
   ]
  },
  {
   "cell_type": "markdown",
   "id": "7f928837-ea02-4b32-ac31-5dcb1e7301f3",
   "metadata": {},
   "source": [
    "```{exercise}\n",
    ":label: read-csv\n",
    "How to read a CSV file into a Pandas DataFrame?\n",
    "\n",
    "A.&nbsp;&nbsp;  pd.load_csv()\n",
    "\n",
    "B.&nbsp;&nbsp;  pd.read_csv()\n",
    "\n",
    "C.&nbsp;&nbsp;  pd.open_csv()\n",
    "\n",
    "D.&nbsp;&nbsp;  pd.import_csv()\n",
    "\n",
    "\n",
    "```"
   ]
  },
  {
   "cell_type": "markdown",
   "id": "d9e41839-4fda-4dd0-9c71-7a84eaf9ccad",
   "metadata": {},
   "source": [
    "````{solution} read-csv\n",
    ":class: dropdown\n",
    "B\n",
    "````"
   ]
  },
  {
   "cell_type": "markdown",
   "id": "1bc5903d-c893-45b7-8be4-5f9cff24a982",
   "metadata": {},
   "source": [
    "```{exercise}\n",
    ":label: row-index\n",
    "What is the default index type when a DataFrame is created?\n",
    "\n",
    "A.&nbsp;&nbsp;  Numeric index starting from 1\n",
    "\n",
    "B.&nbsp;&nbsp;  Alphanumeric index based on row number\n",
    "\n",
    "C.&nbsp;&nbsp;  Numeric index starting from 0\n",
    "\n",
    "D.&nbsp;&nbsp;  Strings\n",
    "\n",
    "\n",
    "```"
   ]
  },
  {
   "cell_type": "markdown",
   "id": "48c6d068-03c0-4b46-9c38-6060bbcec70c",
   "metadata": {},
   "source": [
    "````{solution} row-index\n",
    ":class: dropdown\n",
    "C\n",
    "````"
   ]
  },
  {
   "cell_type": "markdown",
   "id": "64c54ff2",
   "metadata": {
    "slideshow": {
     "slide_type": "fragment"
    }
   },
   "source": [
    "```{exercise}\n",
    ":label: pandas-read\n",
    "自定义一个包含10个学生，3门课程的成绩单 excel 文件，其中包含不及格的数据。用 pandas 读取该文件，剔除有成绩不及格的学生条目，并输出剩下成绩单各科目的平均成绩，最高成绩；最后将剩下学生所有科目的平均成绩排序并输出名次。\n",
    "```"
   ]
  },
  {
   "cell_type": "markdown",
   "id": "a18de081",
   "metadata": {},
   "source": [
    "<script src=\"https://giscus.app/client.js\"\n",
    "        data-repo=\"robinchen121/book-Python-Data-Science\"\n",
    "        data-repo-id=\"R_kgDOKFdyOw\"\n",
    "        data-category=\"Announcements\"\n",
    "        data-category-id=\"DIC_kwDOKFdyO84CgWHi\"\n",
    "        data-mapping=\"pathname\"\n",
    "        data-strict=\"0\"\n",
    "        data-reactions-enabled=\"1\"\n",
    "        data-emit-metadata=\"0\"\n",
    "        data-input-position=\"bottom\"\n",
    "        data-theme=\"light\"\n",
    "        data-lang=\"en\"\n",
    "        crossorigin=\"anonymous\"\n",
    "        async>\n",
    "</script>"
   ]
  },
  {
   "cell_type": "markdown",
   "id": "757369e2",
   "metadata": {},
   "source": [
    "<!-- Toogle google translation -->\n",
    "<div id=\"google_translate_element\"></div>\n",
    "<script type=\"text/javascript\">\n",
    "      function googleTranslateElementInit() {\n",
    "        new google.translate.TranslateElement({ pageLanguage: 'zh-CN',\n",
    "                  includedLanguages: 'en,zh-CN,zh-TW,ja,ko,de,ru,fr,es,it,pt,hi,ar,fa',\n",
    "layout: google.translate.TranslateElement.InlineLayout.SIMPLE }, 'google_translate_element');\n",
    "      }\n",
    "</script>\n",
    "<script type=\"text/javascript\"\n",
    "      src=\"https://translate.google.com/translate_a/element.js?cb=googleTranslateElementInit\"\n",
    "></script>\n",
    "<br>"
   ]
  },
  {
   "cell_type": "markdown",
   "id": "4df98f5b",
   "metadata": {},
   "source": [
    "<script src=\"https://giscus.app/client.js\"\n",
    "        data-repo=\"robinchen121/book-Python-Data-Science\"\n",
    "        data-repo-id=\"R_kgDOKFdyOw\"\n",
    "        data-category=\"Announcements\"\n",
    "        data-category-id=\"DIC_kwDOKFdyO84CgWHi\"\n",
    "        data-mapping=\"pathname\"\n",
    "        data-strict=\"0\"\n",
    "        data-reactions-enabled=\"1\"\n",
    "        data-emit-metadata=\"0\"\n",
    "        data-input-position=\"bottom\"\n",
    "        data-theme=\"light\"\n",
    "        data-lang=\"en\"\n",
    "        crossorigin=\"anonymous\"\n",
    "        async>\n",
    "</script>"
   ]
  }
 ],
 "metadata": {
  "kernelspec": {
   "display_name": "Python [conda env:base] *",
   "language": "python",
   "name": "conda-base-py"
  },
  "language_info": {
   "codemirror_mode": {
    "name": "ipython",
    "version": 3
   },
   "file_extension": ".py",
   "mimetype": "text/x-python",
   "name": "python",
   "nbconvert_exporter": "python",
   "pygments_lexer": "ipython3",
   "version": "3.12.7"
  }
 },
 "nbformat": 4,
 "nbformat_minor": 5
}
