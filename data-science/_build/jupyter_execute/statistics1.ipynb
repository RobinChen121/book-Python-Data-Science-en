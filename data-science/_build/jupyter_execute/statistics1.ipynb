{
 "cells": [
  {
   "cell_type": "markdown",
   "id": "d1d4fd5e",
   "metadata": {
    "slideshow": {
     "slide_type": "slide"
    }
   },
   "source": [
    "# Python statistics\n",
    "<hr>\n",
    "\n",
    "In this chapter, we explain how to perform statistical analysis on data using Python. Rather than delving into the theoretical and computational details of the statistical concepts and methods, we aim to provide intuitive, visual explanations that are easy to understand."
   ]
  },
  {
   "cell_type": "markdown",
   "id": "3ee1e4aa-0a71-4d3b-9d32-8ba905b11f7e",
   "metadata": {},
   "source": [
    "## Mean, Variance\n",
    "<hr>"
   ]
  },
  {
   "cell_type": "markdown",
   "id": "18f474fc-584e-4686-ad17-5fe6f19016fd",
   "metadata": {},
   "source": [
    "The `mean` value is the `average` value of a number of numeric data. To calculate the mean, find the sum of all numeric values, and divide the sum by the number of values.\n",
    "\n",
    "`Variance` is the squared deviation of a variable from its mean. \n",
    "- A large variance indicates that the data is spread out, while a small variance indicates that the data is clustered closely around the mean."
   ]
  },
  {
   "cell_type": "markdown",
   "id": "fe7a11fb-5a65-438e-b6f5-535574b1d5b1",
   "metadata": {},
   "source": [
    "We use the dataset \"tips\" as an example from the `Seaborn` library."
   ]
  },
  {
   "cell_type": "code",
   "execution_count": 1,
   "id": "0690af02-6a6e-42a5-bf17-22b7234dfe1f",
   "metadata": {},
   "outputs": [
    {
     "data": {
      "text/html": [
       "<div>\n",
       "<style scoped>\n",
       "    .dataframe tbody tr th:only-of-type {\n",
       "        vertical-align: middle;\n",
       "    }\n",
       "\n",
       "    .dataframe tbody tr th {\n",
       "        vertical-align: top;\n",
       "    }\n",
       "\n",
       "    .dataframe thead th {\n",
       "        text-align: right;\n",
       "    }\n",
       "</style>\n",
       "<table border=\"1\" class=\"dataframe\">\n",
       "  <thead>\n",
       "    <tr style=\"text-align: right;\">\n",
       "      <th></th>\n",
       "      <th>total_bill</th>\n",
       "      <th>tip</th>\n",
       "      <th>sex</th>\n",
       "      <th>smoker</th>\n",
       "      <th>day</th>\n",
       "      <th>time</th>\n",
       "      <th>size</th>\n",
       "    </tr>\n",
       "  </thead>\n",
       "  <tbody>\n",
       "    <tr>\n",
       "      <th>0</th>\n",
       "      <td>16.99</td>\n",
       "      <td>1.01</td>\n",
       "      <td>Female</td>\n",
       "      <td>No</td>\n",
       "      <td>Sun</td>\n",
       "      <td>Dinner</td>\n",
       "      <td>2</td>\n",
       "    </tr>\n",
       "    <tr>\n",
       "      <th>1</th>\n",
       "      <td>10.34</td>\n",
       "      <td>1.66</td>\n",
       "      <td>Male</td>\n",
       "      <td>No</td>\n",
       "      <td>Sun</td>\n",
       "      <td>Dinner</td>\n",
       "      <td>3</td>\n",
       "    </tr>\n",
       "    <tr>\n",
       "      <th>2</th>\n",
       "      <td>21.01</td>\n",
       "      <td>3.50</td>\n",
       "      <td>Male</td>\n",
       "      <td>No</td>\n",
       "      <td>Sun</td>\n",
       "      <td>Dinner</td>\n",
       "      <td>3</td>\n",
       "    </tr>\n",
       "    <tr>\n",
       "      <th>3</th>\n",
       "      <td>23.68</td>\n",
       "      <td>3.31</td>\n",
       "      <td>Male</td>\n",
       "      <td>No</td>\n",
       "      <td>Sun</td>\n",
       "      <td>Dinner</td>\n",
       "      <td>2</td>\n",
       "    </tr>\n",
       "    <tr>\n",
       "      <th>4</th>\n",
       "      <td>24.59</td>\n",
       "      <td>3.61</td>\n",
       "      <td>Female</td>\n",
       "      <td>No</td>\n",
       "      <td>Sun</td>\n",
       "      <td>Dinner</td>\n",
       "      <td>4</td>\n",
       "    </tr>\n",
       "    <tr>\n",
       "      <th>...</th>\n",
       "      <td>...</td>\n",
       "      <td>...</td>\n",
       "      <td>...</td>\n",
       "      <td>...</td>\n",
       "      <td>...</td>\n",
       "      <td>...</td>\n",
       "      <td>...</td>\n",
       "    </tr>\n",
       "    <tr>\n",
       "      <th>239</th>\n",
       "      <td>29.03</td>\n",
       "      <td>5.92</td>\n",
       "      <td>Male</td>\n",
       "      <td>No</td>\n",
       "      <td>Sat</td>\n",
       "      <td>Dinner</td>\n",
       "      <td>3</td>\n",
       "    </tr>\n",
       "    <tr>\n",
       "      <th>240</th>\n",
       "      <td>27.18</td>\n",
       "      <td>2.00</td>\n",
       "      <td>Female</td>\n",
       "      <td>Yes</td>\n",
       "      <td>Sat</td>\n",
       "      <td>Dinner</td>\n",
       "      <td>2</td>\n",
       "    </tr>\n",
       "    <tr>\n",
       "      <th>241</th>\n",
       "      <td>22.67</td>\n",
       "      <td>2.00</td>\n",
       "      <td>Male</td>\n",
       "      <td>Yes</td>\n",
       "      <td>Sat</td>\n",
       "      <td>Dinner</td>\n",
       "      <td>2</td>\n",
       "    </tr>\n",
       "    <tr>\n",
       "      <th>242</th>\n",
       "      <td>17.82</td>\n",
       "      <td>1.75</td>\n",
       "      <td>Male</td>\n",
       "      <td>No</td>\n",
       "      <td>Sat</td>\n",
       "      <td>Dinner</td>\n",
       "      <td>2</td>\n",
       "    </tr>\n",
       "    <tr>\n",
       "      <th>243</th>\n",
       "      <td>18.78</td>\n",
       "      <td>3.00</td>\n",
       "      <td>Female</td>\n",
       "      <td>No</td>\n",
       "      <td>Thur</td>\n",
       "      <td>Dinner</td>\n",
       "      <td>2</td>\n",
       "    </tr>\n",
       "  </tbody>\n",
       "</table>\n",
       "<p>244 rows × 7 columns</p>\n",
       "</div>"
      ],
      "text/plain": [
       "     total_bill   tip     sex smoker   day    time  size\n",
       "0         16.99  1.01  Female     No   Sun  Dinner     2\n",
       "1         10.34  1.66    Male     No   Sun  Dinner     3\n",
       "2         21.01  3.50    Male     No   Sun  Dinner     3\n",
       "3         23.68  3.31    Male     No   Sun  Dinner     2\n",
       "4         24.59  3.61  Female     No   Sun  Dinner     4\n",
       "..          ...   ...     ...    ...   ...     ...   ...\n",
       "239       29.03  5.92    Male     No   Sat  Dinner     3\n",
       "240       27.18  2.00  Female    Yes   Sat  Dinner     2\n",
       "241       22.67  2.00    Male    Yes   Sat  Dinner     2\n",
       "242       17.82  1.75    Male     No   Sat  Dinner     2\n",
       "243       18.78  3.00  Female     No  Thur  Dinner     2\n",
       "\n",
       "[244 rows x 7 columns]"
      ]
     },
     "execution_count": 1,
     "metadata": {},
     "output_type": "execute_result"
    }
   ],
   "source": [
    "import seaborn as sns\n",
    "\n",
    "tips = sns.load_dataset('tips')\n",
    "tips                       "
   ]
  },
  {
   "cell_type": "markdown",
   "id": "5b263c52-093a-4717-b44d-53c529849405",
   "metadata": {},
   "source": [
    "The following codes draw a graph of the data in the column \"tip\"."
   ]
  },
  {
   "cell_type": "code",
   "execution_count": 2,
   "id": "6fa2f067-fcb2-4d02-935c-f5e625099ad5",
   "metadata": {},
   "outputs": [
    {
     "data": {
      "image/png": "[encoded data removed]",
      "text/plain": [
       "<Figure size 640x480 with 1 Axes>"
      ]
     },
     "metadata": {},
     "output_type": "display_data"
    }
   ],
   "source": [
    "import matplotlib.pyplot as plt\n",
    "import numpy as np\n",
    "\n",
    "num = tips.shape[0]\n",
    "plt.scatter(x=np.arange(num), y=tips[\"tip\"], label=\"tip\")\n",
    "plt.axhline(y=np.mean(tips['tip']), color='r', linestyle='--', label='mean') # axhline can draw a horizonal line parallel to the axis\n",
    "plt.legend()\n",
    "plt.show()"
   ]
  },
  {
   "cell_type": "markdown",
   "id": "6154d6ed-a1ba-4d83-be23-3e566c71a7b8",
   "metadata": {},
   "source": [
    "To compute the mean, we can use the method `mean()` from `Numpy` or `Pandas`.\n",
    "\n",
    "- The method `numpy` in `Numpy`can computer the average value of "
   ]
  },
  {
   "cell_type": "code",
   "execution_count": 3,
   "id": "94e0551e-e1a6-4dfa-a5ca-b9094c2bbd1b",
   "metadata": {},
   "outputs": [
    {
     "data": {
      "text/plain": [
       "2.99827868852459"
      ]
     },
     "execution_count": 3,
     "metadata": {},
     "output_type": "execute_result"
    }
   ],
   "source": [
    "np.mean(tips[\"tip\"])"
   ]
  },
  {
   "cell_type": "markdown",
   "id": "368c6baa-3c72-466b-a227-ff17ed0f0c9d",
   "metadata": {},
   "source": [
    "Since \"tips\" is a `DataFrame` type, we can directly use the methods of Pandas to it."
   ]
  },
  {
   "cell_type": "code",
   "execution_count": 4,
   "id": "f3eac248-4b95-4c75-8a10-2a384b5f5324",
   "metadata": {},
   "outputs": [
    {
     "data": {
      "text/plain": [
       "2.99827868852459"
      ]
     },
     "execution_count": 4,
     "metadata": {},
     "output_type": "execute_result"
    }
   ],
   "source": [
    "tips[\"tip\"].mean()"
   ]
  },
  {
   "cell_type": "markdown",
   "id": "d7ccc545-c94b-4c04-b0d1-5d169bf25198",
   "metadata": {},
   "source": [
    "To compute the variance, we can use the method `var()` from `Numpy` or `Pandas`."
   ]
  },
  {
   "cell_type": "code",
   "execution_count": 5,
   "id": "5cb69f16-4a05-49ae-a01c-ca5903ea2936",
   "metadata": {},
   "outputs": [
    {
     "data": {
      "text/plain": [
       "1.9066085124966428"
      ]
     },
     "execution_count": 5,
     "metadata": {},
     "output_type": "execute_result"
    }
   ],
   "source": [
    "np.var(tips[\"tip\"])"
   ]
  },
  {
   "cell_type": "code",
   "execution_count": 6,
   "id": "30c4ee03-0d82-4fe6-a8e0-0a23c1a80cb6",
   "metadata": {},
   "outputs": [
    {
     "data": {
      "text/plain": [
       "1.9144546380624725"
      ]
     },
     "execution_count": 6,
     "metadata": {},
     "output_type": "execute_result"
    }
   ],
   "source": [
    "tips[\"tip\"].var()"
   ]
  },
  {
   "cell_type": "markdown",
   "id": "ca6a8c9e-34ff-4d9a-8057-c56260d6b67a",
   "metadata": {},
   "source": [
    "- The square root of the variance is called `standard deviation`. "
   ]
  },
  {
   "cell_type": "markdown",
   "id": "f5febb43-345e-48b5-8cda-b7877955bb03",
   "metadata": {},
   "source": [
    "## Distribution\n",
    "<hr>"
   ]
  },
  {
   "cell_type": "markdown",
   "id": "72edadaa-3171-412c-804f-1cc1b3f983d1",
   "metadata": {},
   "source": [
    "In data analysis, the columns of a dataset represent random variables—quantities that fluctuate due to randomness. A `probability distribution` characterizes the likelihood of different values these variables may assume."
   ]
  },
  {
   "cell_type": "markdown",
   "id": "0c3b0c56-9ad5-4f7f-8e26-801596bdf7a0",
   "metadata": {},
   "source": [
    "### Uniform distribution\n",
    "<hr>"
   ]
  },
  {
   "cell_type": "markdown",
   "id": "14f1327d-a549-42ac-9d8d-4a0d4ef575ac",
   "metadata": {},
   "source": [
    "The uniform distribution is a probability distribution where each value within a certain range is **equally likely to occur** and values outside of the range never occur. "
   ]
  },
  {
   "cell_type": "markdown",
   "id": "6f7a2592-cd26-4b3d-b98e-9eafdcb81f7c",
   "metadata": {},
   "source": [
    "For the visualization of the distribution of data, we can draw the histogram graph. "
   ]
  },
  {
   "cell_type": "code",
   "execution_count": 7,
   "id": "2341e25f-5ce6-4145-be1e-e82a1f26b9bb",
   "metadata": {},
   "outputs": [
    {
     "data": {
      "text/plain": [
       "<Axes: ylabel='Count'>"
      ]
     },
     "execution_count": 7,
     "metadata": {},
     "output_type": "execute_result"
    },
    {
     "data": {
      "image/png": "[encoded data removed]",
      "text/plain": [
       "<Figure size 640x480 with 1 Axes>"
      ]
     },
     "metadata": {},
     "output_type": "display_data"
    }
   ],
   "source": [
    "import numpy as np\n",
    "import seaborn as sns\n",
    "\n",
    "sns.set_theme()\n",
    "data = np.random.uniform(100, 200, 10000) # generate 10000 random datas uniformally distributed between 50 and 100\n",
    "sns.histplot(data=data) # use the histplot of seaborn to draw the histogram graph"
   ]
  },
  {
   "cell_type": "markdown",
   "id": "388af229-75cf-4975-8cc1-3f8b1483edad",
   "metadata": {},
   "source": [
    "For uniformly distributed data, the histogram typically displays bars of approximately equal height, resulting in a **flat** or level appearance."
   ]
  },
  {
   "cell_type": "markdown",
   "id": "b0cf9495-7b9c-45e6-8e82-22cfb7e7bb37",
   "metadata": {},
   "source": [
    "### Normal distribution\n",
    "<hr>"
   ]
  },
  {
   "cell_type": "markdown",
   "id": "b42a9bbb-94db-4e40-96ec-ff63a787f683",
   "metadata": {},
   "source": [
    "`Normal distribution`, also known as the Gaussian distribution, is a probability distribution that appears as a **\"bell curve\"** when graphed. The normal distribution describes a symmetrical plot of data around its mean value, where the width of the curve is related to the standard deviation. **The data near the mean are more frequent in occurrence than data far from the mean**."
   ]
  },
  {
   "cell_type": "markdown",
   "id": "dc20cbbe-8cbc-461f-84ba-f3b98873efa5",
   "metadata": {},
   "source": [
    "The normal distribution is perhaps **the most important distribution**. Many real world phenomena, like IQ test scores and human heights/weights, roughly follow a normal distribution. Many common statistical tests also assume distributions are normal."
   ]
  },
  {
   "cell_type": "markdown",
   "id": "2cf42c4b-e604-44d0-a2f6-0cb729d302b1",
   "metadata": {},
   "source": [
    "The central limit theorem says that the **sampling distribution of the mean will always be normally distributed**, as long as the **sample size is large enough**."
   ]
  },
  {
   "cell_type": "code",
   "execution_count": 8,
   "id": "922f1150-cd0f-4a69-98a4-e5c259784a8e",
   "metadata": {},
   "outputs": [
    {
     "data": {
      "text/plain": [
       "<Axes: ylabel='Count'>"
      ]
     },
     "execution_count": 8,
     "metadata": {},
     "output_type": "execute_result"
    },
    {
     "data": {
      "image/png": "[encoded data removed]",
      "text/plain": [
       "<Figure size 640x480 with 1 Axes>"
      ]
     },
     "metadata": {},
     "output_type": "display_data"
    }
   ],
   "source": [
    "import numpy as np\n",
    "import seaborn as sns\n",
    "\n",
    "data = np.random.normal(100, 30, 10000) # generate 10000 random data normall distributed between 50 and 100\n",
    "sns.histplot(data=data) # use the histplot of seaborn to draw the histogram graph"
   ]
  },
  {
   "cell_type": "markdown",
   "id": "dc5af214-7a41-434f-9ba8-745dca558bee",
   "metadata": {},
   "source": [
    "For uniformly distributed data, the histogram typically displays a **bell** shape."
   ]
  },
  {
   "cell_type": "markdown",
   "id": "376b36d9-4baa-4c1e-aca3-eda119eefe8b",
   "metadata": {},
   "source": [
    "## Correlation\n",
    "\n",
    "<hr>"
   ]
  },
  {
   "cell_type": "markdown",
   "id": "74ebb853-7631-4d51-9d58-d3d636646f88",
   "metadata": {},
   "source": [
    "There are three types of correlation coefficients that can be computed by the `pandas.DataFrame.corr()` method: `Pearson Correlation (default)`, `Spearman Rank Correlation`, `Kendall Tau Correlation`."
   ]
  },
  {
   "cell_type": "markdown",
   "id": "63f331a0-790a-4b79-874d-1a5001fa1a9b",
   "metadata": {},
   "source": [
    "The value of all three correlation coefficients ranges from -1 to +1.  What is a good correlation? It depends on the use, usually **at least 0.6 (or -0.6)** to call it a good correlation."
   ]
  },
  {
   "cell_type": "markdown",
   "id": "8391ec3d-6711-44ed-889e-95fff4423f24",
   "metadata": {},
   "source": [
    "### Pearson correlation\n",
    "<hr>"
   ]
  },
  {
   "cell_type": "markdown",
   "id": "cf4d2754-85e4-4560-8abb-e7d1c6affa34",
   "metadata": {},
   "source": [
    "`Pearson Correlation` measures how strongly and in which direction two numerical variables are related in a **linear** fashion. \n",
    "\n",
    "Its value ranges from -1 to +1. When its value is positive, it signifies a direct (positive) relationship; when its value is negative, it signifies an inverse (negative) relationship. \n",
    "\n",
    "- Values of correlation closer to +1 or -1 suggest that the data points align more closely along a straight line, indicating a stronger linear relationship.\n",
    "- Conversely, when correlation is near 0, the linear relationship is weak."
   ]
  },
  {
   "cell_type": "markdown",
   "id": "29666962-8d14-4dcf-87af-45ce69276af9",
   "metadata": {},
   "source": [
    "We usually first draw a graph to visulize the relationship of two variables before computing the correaltion values."
   ]
  },
  {
   "cell_type": "code",
   "execution_count": 9,
   "id": "a0dc8397-22e5-473f-9e56-cc248ed58644",
   "metadata": {},
   "outputs": [
    {
     "data": {
      "text/plain": [
       "<Axes: xlabel='total_bill', ylabel='tip'>"
      ]
     },
     "execution_count": 9,
     "metadata": {},
     "output_type": "execute_result"
    },
    {
     "data": {
      "image/png": "[encoded data removed]",
      "text/plain": [
       "<Figure size 640x480 with 1 Axes>"
      ]
     },
     "metadata": {},
     "output_type": "display_data"
    }
   ],
   "source": [
    "sns.regplot(data=tips, x=\"total_bill\", y=\"tip\")"
   ]
  },
  {
   "cell_type": "code",
   "execution_count": 10,
   "id": "e0c52a30-f0a6-40b9-ac2c-286edf0f98b8",
   "metadata": {},
   "outputs": [
    {
     "data": {
      "text/plain": [
       "0.6757341092113645"
      ]
     },
     "execution_count": 10,
     "metadata": {},
     "output_type": "execute_result"
    }
   ],
   "source": [
    "tips['total_bill'].corr(tips['tip']) # compute the Pearson correlation"
   ]
  },
  {
   "cell_type": "markdown",
   "id": "e5e119fb-b44d-4999-a5a7-7c87ff8df3a5",
   "metadata": {},
   "source": [
    "- `Pearson Correlation` is **most common** of all the correlation measures.\n",
    "- `Pearson Correlation is suitable when variables are **normally distributed and linearly related**."
   ]
  },
  {
   "cell_type": "markdown",
   "id": "ac9ae6ec-79f5-47e8-913d-699bc9720b8f",
   "metadata": {},
   "source": [
    "### Spearman correlation\n",
    "<hr>"
   ]
  },
  {
   "cell_type": "markdown",
   "id": "82132081-aaa6-45e5-a924-bab9e98f99eb",
   "metadata": {},
   "source": [
    "The `Spearman correlation` coefficient is a measure of the **monotonicity** of the relationship between two **ranked/ordered datasets**. Its value varies between -1 and +1 with 0 implying no correlation. Correlations close to -1 or +1 imply a strong monotonic relationship. Positive correlations imply that as x increases, so does y. Negative correlations imply that as x increases, y decreases."
   ]
  },
  {
   "cell_type": "code",
   "execution_count": 11,
   "id": "137d2bc3-6242-463a-af5f-4f0bb87010fe",
   "metadata": {},
   "outputs": [
    {
     "data": {
      "text/plain": [
       "<Axes: xlabel='size', ylabel='tip'>"
      ]
     },
     "execution_count": 11,
     "metadata": {},
     "output_type": "execute_result"
    },
    {
     "data": {
      "image/png": "[encoded data removed]",
      "text/plain": [
       "<Figure size 640x480 with 1 Axes>"
      ]
     },
     "metadata": {},
     "output_type": "display_data"
    }
   ],
   "source": [
    "import matplotlib.pyplot as plt\n",
    "\n",
    "sns.barplot(\n",
    "    data=tips,\n",
    "    x=\"size\",\n",
    "    y=\"tip\", \n",
    ")"
   ]
  },
  {
   "cell_type": "code",
   "execution_count": 12,
   "id": "ac2b69fb-996d-4479-8209-84e6fc71c977",
   "metadata": {},
   "outputs": [
    {
     "data": {
      "text/plain": [
       "0.46826792926211475"
      ]
     },
     "execution_count": 12,
     "metadata": {},
     "output_type": "execute_result"
    }
   ],
   "source": [
    "tips['size'].corr(tips['tip'], method=\"spearman\") # compute the spearman correlation"
   ]
  },
  {
   "cell_type": "code",
   "execution_count": 13,
   "id": "71f06aac-e1bb-4ffc-a29b-965231cc118d",
   "metadata": {},
   "outputs": [
    {
     "data": {
      "text/plain": [
       "<Axes: xlabel='day', ylabel='tip'>"
      ]
     },
     "execution_count": 13,
     "metadata": {},
     "output_type": "execute_result"
    },
    {
     "data": {
      "image/png": "[encoded data removed]",
      "text/plain": [
       "<Figure size 640x480 with 1 Axes>"
      ]
     },
     "metadata": {},
     "output_type": "display_data"
    }
   ],
   "source": [
    "import matplotlib.pyplot as plt\n",
    "\n",
    "sns.barplot(\n",
    "    data=tips,\n",
    "    x=\"day\",\n",
    "    y=\"tip\", \n",
    ")"
   ]
  },
  {
   "cell_type": "markdown",
   "id": "0770b0f6-de32-4af7-93cf-02be56058fcc",
   "metadata": {},
   "source": [
    "- Use Pandas' `factorize( )` method to obtain a numeric representation of catogorical data."
   ]
  },
  {
   "cell_type": "code",
   "execution_count": 14,
   "id": "e833b483-d388-47c3-9079-31cc3ce7d09c",
   "metadata": {
    "scrolled": true
   },
   "outputs": [
    {
     "data": {
      "text/html": [
       "<div>\n",
       "<style scoped>\n",
       "    .dataframe tbody tr th:only-of-type {\n",
       "        vertical-align: middle;\n",
       "    }\n",
       "\n",
       "    .dataframe tbody tr th {\n",
       "        vertical-align: top;\n",
       "    }\n",
       "\n",
       "    .dataframe thead th {\n",
       "        text-align: right;\n",
       "    }\n",
       "</style>\n",
       "<table border=\"1\" class=\"dataframe\">\n",
       "  <thead>\n",
       "    <tr style=\"text-align: right;\">\n",
       "      <th></th>\n",
       "      <th>total_bill</th>\n",
       "      <th>tip</th>\n",
       "      <th>sex</th>\n",
       "      <th>smoker</th>\n",
       "      <th>day</th>\n",
       "      <th>time</th>\n",
       "      <th>size</th>\n",
       "      <th>day_numeric</th>\n",
       "    </tr>\n",
       "  </thead>\n",
       "  <tbody>\n",
       "    <tr>\n",
       "      <th>0</th>\n",
       "      <td>16.99</td>\n",
       "      <td>1.01</td>\n",
       "      <td>Female</td>\n",
       "      <td>No</td>\n",
       "      <td>Sun</td>\n",
       "      <td>Dinner</td>\n",
       "      <td>2</td>\n",
       "      <td>0</td>\n",
       "    </tr>\n",
       "    <tr>\n",
       "      <th>1</th>\n",
       "      <td>10.34</td>\n",
       "      <td>1.66</td>\n",
       "      <td>Male</td>\n",
       "      <td>No</td>\n",
       "      <td>Sun</td>\n",
       "      <td>Dinner</td>\n",
       "      <td>3</td>\n",
       "      <td>0</td>\n",
       "    </tr>\n",
       "    <tr>\n",
       "      <th>2</th>\n",
       "      <td>21.01</td>\n",
       "      <td>3.50</td>\n",
       "      <td>Male</td>\n",
       "      <td>No</td>\n",
       "      <td>Sun</td>\n",
       "      <td>Dinner</td>\n",
       "      <td>3</td>\n",
       "      <td>0</td>\n",
       "    </tr>\n",
       "    <tr>\n",
       "      <th>3</th>\n",
       "      <td>23.68</td>\n",
       "      <td>3.31</td>\n",
       "      <td>Male</td>\n",
       "      <td>No</td>\n",
       "      <td>Sun</td>\n",
       "      <td>Dinner</td>\n",
       "      <td>2</td>\n",
       "      <td>0</td>\n",
       "    </tr>\n",
       "    <tr>\n",
       "      <th>4</th>\n",
       "      <td>24.59</td>\n",
       "      <td>3.61</td>\n",
       "      <td>Female</td>\n",
       "      <td>No</td>\n",
       "      <td>Sun</td>\n",
       "      <td>Dinner</td>\n",
       "      <td>4</td>\n",
       "      <td>0</td>\n",
       "    </tr>\n",
       "    <tr>\n",
       "      <th>...</th>\n",
       "      <td>...</td>\n",
       "      <td>...</td>\n",
       "      <td>...</td>\n",
       "      <td>...</td>\n",
       "      <td>...</td>\n",
       "      <td>...</td>\n",
       "      <td>...</td>\n",
       "      <td>...</td>\n",
       "    </tr>\n",
       "    <tr>\n",
       "      <th>239</th>\n",
       "      <td>29.03</td>\n",
       "      <td>5.92</td>\n",
       "      <td>Male</td>\n",
       "      <td>No</td>\n",
       "      <td>Sat</td>\n",
       "      <td>Dinner</td>\n",
       "      <td>3</td>\n",
       "      <td>1</td>\n",
       "    </tr>\n",
       "    <tr>\n",
       "      <th>240</th>\n",
       "      <td>27.18</td>\n",
       "      <td>2.00</td>\n",
       "      <td>Female</td>\n",
       "      <td>Yes</td>\n",
       "      <td>Sat</td>\n",
       "      <td>Dinner</td>\n",
       "      <td>2</td>\n",
       "      <td>1</td>\n",
       "    </tr>\n",
       "    <tr>\n",
       "      <th>241</th>\n",
       "      <td>22.67</td>\n",
       "      <td>2.00</td>\n",
       "      <td>Male</td>\n",
       "      <td>Yes</td>\n",
       "      <td>Sat</td>\n",
       "      <td>Dinner</td>\n",
       "      <td>2</td>\n",
       "      <td>1</td>\n",
       "    </tr>\n",
       "    <tr>\n",
       "      <th>242</th>\n",
       "      <td>17.82</td>\n",
       "      <td>1.75</td>\n",
       "      <td>Male</td>\n",
       "      <td>No</td>\n",
       "      <td>Sat</td>\n",
       "      <td>Dinner</td>\n",
       "      <td>2</td>\n",
       "      <td>1</td>\n",
       "    </tr>\n",
       "    <tr>\n",
       "      <th>243</th>\n",
       "      <td>18.78</td>\n",
       "      <td>3.00</td>\n",
       "      <td>Female</td>\n",
       "      <td>No</td>\n",
       "      <td>Thur</td>\n",
       "      <td>Dinner</td>\n",
       "      <td>2</td>\n",
       "      <td>2</td>\n",
       "    </tr>\n",
       "  </tbody>\n",
       "</table>\n",
       "<p>244 rows × 8 columns</p>\n",
       "</div>"
      ],
      "text/plain": [
       "     total_bill   tip     sex smoker   day    time  size  day_numeric\n",
       "0         16.99  1.01  Female     No   Sun  Dinner     2            0\n",
       "1         10.34  1.66    Male     No   Sun  Dinner     3            0\n",
       "2         21.01  3.50    Male     No   Sun  Dinner     3            0\n",
       "3         23.68  3.31    Male     No   Sun  Dinner     2            0\n",
       "4         24.59  3.61  Female     No   Sun  Dinner     4            0\n",
       "..          ...   ...     ...    ...   ...     ...   ...          ...\n",
       "239       29.03  5.92    Male     No   Sat  Dinner     3            1\n",
       "240       27.18  2.00  Female    Yes   Sat  Dinner     2            1\n",
       "241       22.67  2.00    Male    Yes   Sat  Dinner     2            1\n",
       "242       17.82  1.75    Male     No   Sat  Dinner     2            1\n",
       "243       18.78  3.00  Female     No  Thur  Dinner     2            2\n",
       "\n",
       "[244 rows x 8 columns]"
      ]
     },
     "execution_count": 14,
     "metadata": {},
     "output_type": "execute_result"
    }
   ],
   "source": [
    "import pandas as pd\n",
    "\n",
    "tips[\"day_numeric\"] = pd.factorize(tips[\"day\"])[0] # [1] is the orginal catogorical data\n",
    "tips"
   ]
  },
  {
   "cell_type": "code",
   "execution_count": 15,
   "id": "1f467a3e-a91d-420c-8be3-f2b028d5dec6",
   "metadata": {},
   "outputs": [
    {
     "data": {
      "text/plain": [
       "-0.17434544550231088"
      ]
     },
     "execution_count": 15,
     "metadata": {},
     "output_type": "execute_result"
    }
   ],
   "source": [
    "tips['day_numeric'].corr(tips['tip'], method=\"spearman\") # compute the spearman correlation"
   ]
  },
  {
   "cell_type": "markdown",
   "id": "fdc17989-3c7b-40e2-9b65-ad3ad5f4d83d",
   "metadata": {},
   "source": [
    "`Kendall Tau correlation` is similar to `Spearman correlation` but more focused on **pairwise disagreements between two ranking lists** and are more suitable for the data with many tied ranks. Due to space limitation, we omit its introduction."
   ]
  },
  {
   "cell_type": "markdown",
   "id": "308d59f6-edf3-434a-b00d-f170f662a9b3",
   "metadata": {},
   "source": [
    "The following table summerizes the differences of the three correlation measures."
   ]
  },
  {
   "cell_type": "markdown",
   "id": "014f47fe-8267-4480-9b80-14035e193142",
   "metadata": {},
   "source": [
    "| Feature                 | **Pearson**                      | **Spearman**                      | **Kendall Tau**                |\n",
    "| ----------------------- | -------------------------------- | --------------------------------- | ------------------------------ |\n",
    "| Relationship Measured   | Linear                           | Monotonic (can be non-linear)     | Monotonic (based on ranks)     |\n",
    "| Sensitivity to Outliers | High                             | Low                               | Lower                          |\n",
    "| Data Type Requirement   | Continuous, Normally Distributed | Ranked or Ordinal                 | Ranked or Ordinal              |\n",
    "| Distribution Assumption | Assumes normality                | No distribution assumption        | No distribution assumption     |\n"
   ]
  },
  {
   "cell_type": "markdown",
   "id": "34b47818-4bb3-4f0c-9ba5-ed5c7d89abcb",
   "metadata": {},
   "source": [
    "## Hypothesis test\n",
    "<hr>"
   ]
  },
  {
   "cell_type": "markdown",
   "id": "8019dccc-4630-4854-83fa-b65f52f22d15",
   "metadata": {},
   "source": [
    "Hypothesis testing enables data scientists to determine whether their findings, theories, or assumptions are the result of random chance or supported by statistical evidence.\n",
    "- A hypothesis is a proposed explanation or prediction derived from prior knowledge or observation."
   ]
  },
  {
   "cell_type": "markdown",
   "id": "04564ead-e05d-4f2c-bb12-e78049df350b",
   "metadata": {},
   "source": [
    "Examples of a hypothesis: (1) there is no relationship between gender and the amount of tips; (2) smokers give more tips than non-smokers."
   ]
  },
  {
   "cell_type": "markdown",
   "id": "f7184b9c-b17d-434c-aa35-5cdb0ff84892",
   "metadata": {},
   "source": [
    "There are two parts of a hypothesis:\n",
    "\n",
    "* **Null Hypothesis ($H_0$):**\n",
    "  The null hypothesis proposes that there is no effect or difference between the variables in two or more samples. For example, a null hypothesis might state, *\"There is no relationship between gender and the amount of tips.\"*\n",
    "  It is the default assumption and the one that is formally tested—either to be retained or rejected based on statistical evidence.\n",
    "\n",
    "* **Alternative Hypothesis ($H_1$):**\n",
    "  The alternative hypothesis suggests that there is a meaningful effect or difference between the variables. For instance, it might state, *\"Gender has an impact on the amount of tips.\"*\n",
    "  This hypothesis represents what we aim to support if the null hypothesis is rejected."
   ]
  },
  {
   "cell_type": "markdown",
   "id": "dd25c4e4-392e-4adf-b067-266793e7f846",
   "metadata": {},
   "source": [
    "Below are some hypothesis testing terms:"
   ]
  },
  {
   "cell_type": "markdown",
   "id": "da3b1975-e660-456f-af1b-afd283e6a296",
   "metadata": {},
   "source": [
    "1. `Level of Significance (α)`: often denoted as **α**, is the threshold we set to decide whether to reject the null hypothesis $H_0$.\n",
    "    - A common value is **0.05**, meaning we are willing to accept a 5% chance of a false assumption.\n",
    "    - If the **p-value ≤ α**, we **reject** the null hypothesis.\n",
    "\n",
    "2. `p-value`: The **p-value** tells us how likely it is to observe our data, or something more extreme, **if the null hypothesis were true**.\n",
    "\n",
    "   - A **small p-value** (typically ≤ 0.05) suggests that the observed result is unlikely under the null hypothesis $H_0$, and we reject it.\n",
    "   - A **large p-value** indicates that the data is consistent with the null hypothesis $H_0$, and we accept it.\n",
    "\n",
    "3. `Confidence Level`: The  confidence level tells us how confident we are that a **confidence interval** contains the true value of a population parameter (like the mean or proportion). **Confidence level = 1 - $\\alpha$**, where $\\alpha$ is the level of significance.\n",
    "\n",
    "   - A **95% confidence level** means that if we repeated the experiment many times, about 95% of the resulting confidence intervals would contain the true value.\n",
    "\n",
    "4. `Confidence Interval (CI)`: A confidence interval is a **range of values** estimated from sample data that is likely to contain the true value of a population parameter.\n",
    "\n",
    "   - For example: “We are 95% confident that the true average height is between 170 cm and 175 cm.”"
   ]
  },
  {
   "cell_type": "markdown",
   "id": "5ddb27b0-a911-4be0-95a1-f8fc306dfb40",
   "metadata": {},
   "source": [
    "### t-test\n",
    "<hr>"
   ]
  },
  {
   "cell_type": "markdown",
   "id": "7e46c26a-1051-44ba-88b8-48603c9ce819",
   "metadata": {},
   "source": [
    "`Student's t-test` is a statistical test used to test whether the difference between the **numerical values** of two groups is statistically significant or not. "
   ]
  },
  {
   "cell_type": "markdown",
   "id": "03fd537f-8b7a-421b-aeb1-2c305fa2f988",
   "metadata": {},
   "source": [
    "In this test, the test statistic follows a `Student's t-distribution` under the null hypothesis. This distribution is similar to normal distribution but with **slightly larger variance**, and is more suitable for testing the real life sampled data. In addition to mean and varariance, it has another parameter called `degree of freedom`, which is the number of values in the final calculation of a statistic that are free to vary."
   ]
  },
  {
   "cell_type": "markdown",
   "id": "a58481ec-ce76-4c44-9c8b-6b23d4fb5994",
   "metadata": {},
   "source": [
    "There are 3 types t-tests in general and we can use the corresponding methods in the `scipy.stats` from the `scipy` library:\n",
    "\n",
    "- One sample t-test → `ttest_1samp`\n",
    "- Two independent sample t-test → `ttest_ind`\n",
    "- Two dependent sample t-test → `ttest_rel`"
   ]
  },
  {
   "cell_type": "markdown",
   "id": "6f24dc20-5dde-46b2-91c0-2db312cae431",
   "metadata": {},
   "source": [
    "Two events are `independent` if the occurrence of one event does not affect the chances of the occurrence of the other event. In hypothestis tests, `independent` means one sampeld data is not affected by other sampled data."
   ]
  },
  {
   "cell_type": "markdown",
   "id": "4bf14814-9c27-42dd-9eb0-5672a3c799af",
   "metadata": {},
   "source": [
    "### One sample t-test \n",
    "<hr>"
   ]
  },
  {
   "cell_type": "markdown",
   "id": "9bd06ef1-413b-4fab-a464-c5b907b008d8",
   "metadata": {},
   "source": [
    "A **one-sample t-test** is to test whether the mean of a population equals to/not less than/not greater than a value specified in a null hypothesis. The syntax for the method `ttest_1samp` is below:"
   ]
  },
  {
   "cell_type": "markdown",
   "id": "0b13ccc8-7d91-4637-b361-b3de4d4753a2",
   "metadata": {},
   "source": [
    "<table>\n",
    "    <tr style=\"border-top:solid; border-bottom:solid\">\n",
    "        <th colspan=2 style=\"text-align:center\">ttest_1samp(a, popmean, alternative='two-sided')</th>\n",
    "    </tr>\n",
    "    <tr>\n",
    "        <td style=\"text-align:left\">a</td>\n",
    "        <td style=\"text-align:left\">Array like, sampled observations</td>\n",
    "    </tr>\n",
    "    <tr>\n",
    "        <td style=\"text-align:left\">popmean</td>\n",
    "        <td style=\"text-align:left\">Usually float, expected value in null hypothesis</td>\n",
    "    </tr>\n",
    "    <tr>\n",
    "        <td style=\"text-align:left\", rowspan=3>alternative</td>\n",
    "        <td style=\"text-align:left\">\"two-sided\", H1: the mean of the sampled data is different than the given population mean </td>\n",
    "    </tr>\n",
    "    <tr>\n",
    "        <td style=\"text-align:left\">\"less\", H1: the mean of the sampled data is less than the given population mean </td>\n",
    "    </tr>\n",
    "    <tr style=\"border-bottom:solid\">\n",
    "        <td style=\"text-align:left\">\"greater\", H1: the mean of the sampled data is greater than the given population mean</td>\n",
    "    </tr>\n",
    "</table>\n",
    "<br />"
   ]
  },
  {
   "cell_type": "markdown",
   "id": "0b10599e-98ea-4a73-97c9-5211a61ab6d5",
   "metadata": {},
   "source": [
    "For example, we test the null hypothesis $H_0$: the mean of tips is equal to 3."
   ]
  },
  {
   "cell_type": "markdown",
   "id": "77d959f3-8b7a-4f0c-ad97-a941a45ffe43",
   "metadata": {},
   "source": [
    "- Install the library `Scipy` by `pip install`"
   ]
  },
  {
   "cell_type": "markdown",
   "id": "ee6a3337-5557-43f2-a0c4-4973e048f10b",
   "metadata": {},
   "source": [
    "```python\n",
    "pip install scipy\n",
    "```"
   ]
  },
  {
   "cell_type": "code",
   "execution_count": 16,
   "id": "d3e5068d-1bfb-442d-92f7-9b90220f9407",
   "metadata": {},
   "outputs": [
    {
     "data": {
      "text/plain": [
       "TtestResult(statistic=-0.019432641422916876, pvalue=0.9845119176410544, df=243)"
      ]
     },
     "execution_count": 16,
     "metadata": {},
     "output_type": "execute_result"
    }
   ],
   "source": [
    "from scipy import stats\n",
    "import seaborn as sns\n",
    "\n",
    "tips = sns.load_dataset('tips')\n",
    "stats.ttest_1samp(tips['tip'], popmean=3)"
   ]
  },
  {
   "cell_type": "markdown",
   "id": "77c13356-6bc3-4704-af0a-ff7cbe04f7ed",
   "metadata": {},
   "source": [
    "- `ttest_1samp` return the t-statistics, p-value and the number of degrees of freedom."
   ]
  },
  {
   "cell_type": "markdown",
   "id": "4c3a4876-68cc-431b-acfd-4aef45000536",
   "metadata": {},
   "source": [
    "Suppose we choose a confidence level 95% (or equivalently, significance level $\\alpha=0.05$). Since the p-value is 0.98 > 0.05, we do not reject the null hypothesis $H_0$. Namely, we can believe that the mean of tips is equal to 3 (the probability is 98.45%)."
   ]
  },
  {
   "cell_type": "markdown",
   "id": "8d30796e-7c02-4c55-8228-f5e301e071be",
   "metadata": {},
   "source": [
    "For example, we test a one-sided null hypothesis $H_0$: the mean of tips is not less than 3."
   ]
  },
  {
   "cell_type": "code",
   "execution_count": 17,
   "id": "a835acc3-38a9-47be-a4d3-b07041740c8b",
   "metadata": {},
   "outputs": [
    {
     "data": {
      "text/plain": [
       "TtestResult(statistic=-0.019432641422916876, pvalue=0.4922559588205272, df=243)"
      ]
     },
     "execution_count": 17,
     "metadata": {},
     "output_type": "execute_result"
    }
   ],
   "source": [
    "tips = sns.load_dataset('tips')\n",
    "stats.ttest_1samp(tips['tip'], popmean=3, alternative='less')"
   ]
  },
  {
   "cell_type": "markdown",
   "id": "c5c20392-ede0-4470-b28e-cdab317e13e8",
   "metadata": {},
   "source": [
    "Suppose we choose a confidence level 95% (or equivalently, significance level $\\alpha=0.05$). Since the p-value is 0.49 > 0.05, we do not reject the null hypothesis $H_0$. Namely, we can believe that the mean of tips is not less than 3 (the probability is 50.77%)."
   ]
  },
  {
   "cell_type": "markdown",
   "id": "dc920226-7b72-4019-b86a-aff2705e3581",
   "metadata": {},
   "source": [
    "### Two sample t-test \n",
    "<hr>"
   ]
  },
  {
   "cell_type": "markdown",
   "id": "62bb179e-6857-469b-86a9-5be7346ae38a",
   "metadata": {},
   "source": [
    "A `two-sample t-test` tests the null hypothesis such that the means of two populations are equal or the mean of one population is not less than/not greater than another."
   ]
  },
  {
   "cell_type": "markdown",
   "id": "443fe9c4-3525-4ec3-ab86-bebf15e39602",
   "metadata": {},
   "source": [
    "For `independent two samples`, this can be done by the method `ttest_ind()`, the syntex of which is below:"
   ]
  },
  {
   "cell_type": "markdown",
   "id": "a72d7db4-8246-4d6e-b506-d712e71fd919",
   "metadata": {},
   "source": [
    "<table>\n",
    "    <tr style=\"border-top:solid; border-bottom:solid\">\n",
    "        <th colspan=2 style=\"text-align:center\">ttest_ind(a, b, equal_var=True, alternative='two-sided')</th>\n",
    "    </tr>\n",
    "    <tr>\n",
    "        <td style=\"text-align:left\">a</td>\n",
    "        <td style=\"text-align:left\">Array like, sampled observations</td>\n",
    "    </tr>\n",
    "    <tr>\n",
    "        <td style=\"text-align:left\">b</td>\n",
    "        <td style=\"text-align:left\">Array like, the other sampled observations</td>\n",
    "    </tr>\n",
    "    <tr>\n",
    "        <td style=\"text-align:left\", rowspan=2>equal_var</td>\n",
    "        <td style=\"text-align:left\">If True (default), perform a standard independent 2 sample test that assumes equal population variances \n",
    "    </tr>\n",
    "    <tr>\n",
    "        <td style=\"text-align:left\">If False, perform Welch’s t-test, which does not assume equal population variance</td>\n",
    "    </tr>\n",
    "    <tr>\n",
    "        <td style=\"text-align:left\", rowspan=3>alternative</td>\n",
    "        <td style=\"text-align:left\">\"two-sided\", H1: the mean of the sampled data is different than the other sampled data </td>\n",
    "    </tr>\n",
    "    <tr>\n",
    "        <td style=\"text-align:left\">\"less\", H1: the mean of the sampled data is less than the other sampled data </td>\n",
    "    </tr>\n",
    "    <tr style=\"border-bottom:solid\">\n",
    "        <td style=\"text-align:left\">\"greater\", H1: the mean of the sampled data is greater than the other sampled data</td>\n",
    "    </tr>\n",
    "</table>\n",
    "<br />"
   ]
  },
  {
   "cell_type": "markdown",
   "id": "b49e0b31-9664-44b6-9df2-d3835ff3cfce",
   "metadata": {},
   "source": [
    "For example, we want to test the null hypothesis $H_0$: the amount of tips from male customers shows no difference with that of female cusotomers."
   ]
  },
  {
   "cell_type": "code",
   "execution_count": 18,
   "id": "18e96095-ec0c-4545-9a88-a602d7e76920",
   "metadata": {},
   "outputs": [
    {
     "data": {
      "text/plain": [
       "TtestResult(statistic=1.387859705421269, pvalue=0.16645623503456752, df=242.0)"
      ]
     },
     "execution_count": 18,
     "metadata": {},
     "output_type": "execute_result"
    }
   ],
   "source": [
    "import seaborn as sns\n",
    "from scipy import stats\n",
    "\n",
    "tips = sns.load_dataset(\"tips\")\n",
    "male_tip = tips[tips[\"sex\"] == \"Male\"][\"tip\"]\n",
    "female_tip = tips[tips[\"sex\"] == \"Female\"][\"tip\"]\n",
    "\n",
    "stats.ttest_ind(male_tip, female_tip)"
   ]
  },
  {
   "cell_type": "markdown",
   "id": "7357c26e-1c30-4f90-ae5d-6741ff115de1",
   "metadata": {},
   "source": [
    "P-value is 0.16. If we choose a confidence level 95%, we should accept the null hypothsis $H_0$ since 0.16>0.05."
   ]
  },
  {
   "cell_type": "markdown",
   "id": "7d04a783-b61a-46a8-8350-c761f6d644c6",
   "metadata": {},
   "source": [
    "For `dependent two samples`, this can be done by the method `ttest_rel()`, the syntex of which is similar to `ttest_ind`."
   ]
  },
  {
   "cell_type": "markdown",
   "id": "c9e7c1d7-3e59-40e6-9485-cdfdb8abe284",
   "metadata": {},
   "source": [
    "- Examples of dependent two samples such as students' scores in two different exams but from the same group of students, or repeated sampling scores from the students in the same class."
   ]
  },
  {
   "cell_type": "markdown",
   "id": "676b522c-2ed7-4df2-bbba-a9d1d864a631",
   "metadata": {},
   "source": [
    "### Anova\n",
    "<hr>"
   ]
  },
  {
   "cell_type": "markdown",
   "id": "2de04741-7301-4171-974a-4c62dbca57ca",
   "metadata": {},
   "source": [
    "`Analysis of Variance (ANOVA)` is a statistical formula used to compare variances to determine if there is any **difference between the means two or more groups**.\n",
    "\n",
    "Anova can be easiy done by the method `anova` in the library `pingouin`."
   ]
  },
  {
   "cell_type": "markdown",
   "id": "b1cec9cd-e486-46b1-913c-2bd4ea04de81",
   "metadata": {},
   "source": [
    "- Install the library `pingonin` by `pip install`"
   ]
  },
  {
   "cell_type": "markdown",
   "id": "e596face-a921-4be9-82ac-2cae491c4ca9",
   "metadata": {},
   "source": [
    "%pip install pingouin"
   ]
  },
  {
   "cell_type": "markdown",
   "id": "2a48571b-3308-40f9-b0a7-be6085a71175",
   "metadata": {},
   "source": [
    "```{note}\n",
    "`%pip` is more suitable for install libraries in the Jupyter notebook environment\n",
    "```"
   ]
  },
  {
   "cell_type": "markdown",
   "id": "03359a04-6b72-4585-9682-5be44fcc7b52",
   "metadata": {},
   "source": [
    "The syntax for `anova` is below."
   ]
  },
  {
   "cell_type": "markdown",
   "id": "69e3e89a-9d98-4e28-b054-7707e579eaf4",
   "metadata": {},
   "source": [
    "<table>\n",
    "    <tr style=\"border-top:solid; border-bottom:solid\">\n",
    "        <th colspan=2 style=\"text-align:center\">anova(data, between=None)</th>\n",
    "    </tr>\n",
    "    <tr>\n",
    "        <td style=\"text-align:left\">data</td>\n",
    "        <td style=\"text-align:left\">DataFrame</td>\n",
    "    </tr>\n",
    "    <tr style=\"text-align:left\" >\n",
    "        <td style=\"text-align:left\" rowspan=2>between</td>\n",
    "        <td style=\"text-align:left\">String or list with N elements, name of column(s) in data containing the between-subject factor(s)</td>\n",
    "    </tr>\n",
    "    <tr style=\"border-bottom:solid\">\n",
    "        <td style=\"text-align:left\"> If between is a single string, a one-way ANOVA is computed. If between is a list with two or more elements, a N-way ANOVA is performed</td>\n",
    "    </tr>\n",
    "</table>\n",
    "</br>"
   ]
  },
  {
   "cell_type": "markdown",
   "id": "3666fc47-1004-40f0-bf67-f676af02570b",
   "metadata": {},
   "source": [
    "For example, the null hypothesis $H_0$: the amount of tips from male customers shows no difference with that of female cusotomers, can also tested by `ANOVA`."
   ]
  },
  {
   "cell_type": "code",
   "execution_count": 19,
   "id": "ea84ebf3-daf9-4eb7-be7b-8872a33c60d8",
   "metadata": {},
   "outputs": [
    {
     "data": {
      "text/html": [
       "<div>\n",
       "<style scoped>\n",
       "    .dataframe tbody tr th:only-of-type {\n",
       "        vertical-align: middle;\n",
       "    }\n",
       "\n",
       "    .dataframe tbody tr th {\n",
       "        vertical-align: top;\n",
       "    }\n",
       "\n",
       "    .dataframe thead th {\n",
       "        text-align: right;\n",
       "    }\n",
       "</style>\n",
       "<table border=\"1\" class=\"dataframe\">\n",
       "  <thead>\n",
       "    <tr style=\"text-align: right;\">\n",
       "      <th></th>\n",
       "      <th>Source</th>\n",
       "      <th>ddof1</th>\n",
       "      <th>ddof2</th>\n",
       "      <th>F</th>\n",
       "      <th>p_unc</th>\n",
       "      <th>np2</th>\n",
       "    </tr>\n",
       "  </thead>\n",
       "  <tbody>\n",
       "    <tr>\n",
       "      <th>0</th>\n",
       "      <td>sex</td>\n",
       "      <td>1</td>\n",
       "      <td>242</td>\n",
       "      <td>1.926155</td>\n",
       "      <td>0.166456</td>\n",
       "      <td>0.007896</td>\n",
       "    </tr>\n",
       "  </tbody>\n",
       "</table>\n",
       "</div>"
      ],
      "text/plain": [
       "  Source  ddof1  ddof2         F     p_unc       np2\n",
       "0    sex      1    242  1.926155  0.166456  0.007896"
      ]
     },
     "execution_count": 19,
     "metadata": {},
     "output_type": "execute_result"
    }
   ],
   "source": [
    "import pingouin as pg\n",
    "import seaborn as sns\n",
    "\n",
    "tips = sns.load_dataset(\"tips\")\n",
    "pg.anova(tips, dv=\"tip\", between=\"sex\")"
   ]
  },
  {
   "cell_type": "markdown",
   "id": "482565e2-73aa-478f-9080-170eadf5b474",
   "metadata": {},
   "source": [
    "There is much information in the output, but the most imoportant one if the `p-value` shown by the \"p-unc\". Since the p-value 0.167 is larger than 0.05, we should accept the null hypothesis at a 95% confidence level. The test result is in consitent with that of the two sample t-test."
   ]
  },
  {
   "cell_type": "markdown",
   "id": "e47cb138-1e36-408b-b593-80cb78de8283",
   "metadata": {},
   "source": [
    "For example, test the null hypothesis $H_0$: there is no difference between the amount of tips and the day of the week."
   ]
  },
  {
   "cell_type": "code",
   "execution_count": 20,
   "id": "a8d3c741-69fd-4923-b456-d57aa01bed5b",
   "metadata": {},
   "outputs": [
    {
     "data": {
      "text/html": [
       "<div>\n",
       "<style scoped>\n",
       "    .dataframe tbody tr th:only-of-type {\n",
       "        vertical-align: middle;\n",
       "    }\n",
       "\n",
       "    .dataframe tbody tr th {\n",
       "        vertical-align: top;\n",
       "    }\n",
       "\n",
       "    .dataframe thead th {\n",
       "        text-align: right;\n",
       "    }\n",
       "</style>\n",
       "<table border=\"1\" class=\"dataframe\">\n",
       "  <thead>\n",
       "    <tr style=\"text-align: right;\">\n",
       "      <th></th>\n",
       "      <th>Source</th>\n",
       "      <th>ddof1</th>\n",
       "      <th>ddof2</th>\n",
       "      <th>F</th>\n",
       "      <th>p_unc</th>\n",
       "      <th>np2</th>\n",
       "    </tr>\n",
       "  </thead>\n",
       "  <tbody>\n",
       "    <tr>\n",
       "      <th>0</th>\n",
       "      <td>day</td>\n",
       "      <td>3</td>\n",
       "      <td>240</td>\n",
       "      <td>1.672355</td>\n",
       "      <td>0.173589</td>\n",
       "      <td>0.020476</td>\n",
       "    </tr>\n",
       "  </tbody>\n",
       "</table>\n",
       "</div>"
      ],
      "text/plain": [
       "  Source  ddof1  ddof2         F     p_unc       np2\n",
       "0    day      3    240  1.672355  0.173589  0.020476"
      ]
     },
     "execution_count": 20,
     "metadata": {},
     "output_type": "execute_result"
    }
   ],
   "source": [
    "pg.anova(tips, dv=\"tip\", between=\"day\")"
   ]
  },
  {
   "cell_type": "markdown",
   "id": "51ca6c7f-7fe2-4167-b09d-543e64e4cc78",
   "metadata": {},
   "source": [
    "Since the p-value 0.174 is larger than 0.05, we should accept the null hypothesis at a 95% confidence level."
   ]
  },
  {
   "cell_type": "markdown",
   "id": "a52be809-37ef-4968-9b78-78b47a0609b1",
   "metadata": {},
   "source": [
    "For example, test three null hypotheses:\n",
    "\n",
    "- $H_0$: there is no difference between the amount of tips and whether the customer is a smoker or not.\n",
    "- $H_0$: there is no difference between the amount of tips and the sex of the customers.\n",
    "- $H_0$: there is no difference between the amount of tips and the interation of sex and smoker."
   ]
  },
  {
   "cell_type": "code",
   "execution_count": 21,
   "id": "842959a8-c50b-4811-a4f9-56a959ae5952",
   "metadata": {},
   "outputs": [
    {
     "data": {
      "text/html": [
       "<div>\n",
       "<style scoped>\n",
       "    .dataframe tbody tr th:only-of-type {\n",
       "        vertical-align: middle;\n",
       "    }\n",
       "\n",
       "    .dataframe tbody tr th {\n",
       "        vertical-align: top;\n",
       "    }\n",
       "\n",
       "    .dataframe thead th {\n",
       "        text-align: right;\n",
       "    }\n",
       "</style>\n",
       "<table border=\"1\" class=\"dataframe\">\n",
       "  <thead>\n",
       "    <tr style=\"text-align: right;\">\n",
       "      <th></th>\n",
       "      <th>Source</th>\n",
       "      <th>SS</th>\n",
       "      <th>DF</th>\n",
       "      <th>MS</th>\n",
       "      <th>F</th>\n",
       "      <th>p_unc</th>\n",
       "      <th>np2</th>\n",
       "    </tr>\n",
       "  </thead>\n",
       "  <tbody>\n",
       "    <tr>\n",
       "      <th>0</th>\n",
       "      <td>sex</td>\n",
       "      <td>3.672183</td>\n",
       "      <td>1.0</td>\n",
       "      <td>3.672183</td>\n",
       "      <td>1.912247</td>\n",
       "      <td>0.167999</td>\n",
       "      <td>0.007905</td>\n",
       "    </tr>\n",
       "    <tr>\n",
       "      <th>1</th>\n",
       "      <td>smoker</td>\n",
       "      <td>0.015000</td>\n",
       "      <td>1.0</td>\n",
       "      <td>0.015000</td>\n",
       "      <td>0.007811</td>\n",
       "      <td>0.929648</td>\n",
       "      <td>0.000033</td>\n",
       "    </tr>\n",
       "    <tr>\n",
       "      <th>2</th>\n",
       "      <td>sex * smoker</td>\n",
       "      <td>0.639891</td>\n",
       "      <td>1.0</td>\n",
       "      <td>0.639891</td>\n",
       "      <td>0.333216</td>\n",
       "      <td>0.564313</td>\n",
       "      <td>0.001386</td>\n",
       "    </tr>\n",
       "    <tr>\n",
       "      <th>3</th>\n",
       "      <td>Residual</td>\n",
       "      <td>460.884051</td>\n",
       "      <td>240.0</td>\n",
       "      <td>1.920350</td>\n",
       "      <td>NaN</td>\n",
       "      <td>NaN</td>\n",
       "      <td>NaN</td>\n",
       "    </tr>\n",
       "  </tbody>\n",
       "</table>\n",
       "</div>"
      ],
      "text/plain": [
       "         Source          SS     DF        MS         F     p_unc       np2\n",
       "0           sex    3.672183    1.0  3.672183  1.912247  0.167999  0.007905\n",
       "1        smoker    0.015000    1.0  0.015000  0.007811  0.929648  0.000033\n",
       "2  sex * smoker    0.639891    1.0  0.639891  0.333216  0.564313  0.001386\n",
       "3      Residual  460.884051  240.0  1.920350       NaN       NaN       NaN"
      ]
     },
     "execution_count": 21,
     "metadata": {},
     "output_type": "execute_result"
    }
   ],
   "source": [
    "pg.anova(tips, dv=\"tip\", between=[\"sex\", \"smoker\"])"
   ]
  },
  {
   "cell_type": "markdown",
   "id": "29c75f34-6b5e-433c-acf8-0da41a7be850",
   "metadata": {},
   "source": [
    "Since the p-values are all larger than 0.05, we should accept all the null hypothese at a 95% confidence level."
   ]
  },
  {
   "cell_type": "markdown",
   "id": "c7b79e88-e065-491a-ac0b-450750eb1b25",
   "metadata": {},
   "source": [
    "### $\\chi^2$ tests\n",
    "<hr>"
   ]
  },
  {
   "cell_type": "markdown",
   "id": "2d5e4d73-5255-4b11-8787-f65a075c6d5f",
   "metadata": {},
   "source": [
    "Pearson's Chi-Square Test is to evaluate the relationship between **categorical variables**, which determines whether significant differences of the **frquencies** within data. Since the statistic used is $\\chi^2$ distribution, we call this test $\\chi^2$ test."
   ]
  },
  {
   "cell_type": "markdown",
   "id": "668b6883-2e0a-47dc-b346-0547548c66e9",
   "metadata": {},
   "source": [
    "It can be easiy done by the method `chi2_independence` in the library `pingouin`."
   ]
  },
  {
   "cell_type": "markdown",
   "id": "079385d6-f731-484b-a4cb-629e72a55643",
   "metadata": {},
   "source": [
    "<table>\n",
    "    <tr style=\"border-top:solid; border-bottom:solid\">\n",
    "        <th colspan=2 style=\"text-align:center\">chi2_independence(data, x, y)</th>\n",
    "    </tr>\n",
    "    <tr>\n",
    "        <td style=\"text-align:left\">data</td>\n",
    "        <td style=\"text-align:left\">DataFrame</td>\n",
    "    </tr>\n",
    "    <tr style=\"text-align:left; border-bottom:solid\" >\n",
    "        <td style=\"text-align:left\" rowspan=2>x, y</td>\n",
    "        <td style=\"text-align:left\">String, the variables names for the Chi-squared test. Must be names of columns in data</td>\n",
    "    </tr>\n",
    "</table>\n",
    "<br />"
   ]
  },
  {
   "cell_type": "markdown",
   "id": "57f5ce17-aa56-4144-aaa0-400abaf7f4b3",
   "metadata": {},
   "source": [
    "For example, we want to know whether the survival rate is related with gender from the titanic data. \n",
    "\n",
    "- $H_0$: there is no difference between the gender in the survivals. "
   ]
  },
  {
   "cell_type": "code",
   "execution_count": 22,
   "id": "ee712007-ae18-4580-9511-4e9e1a71f5c9",
   "metadata": {},
   "outputs": [
    {
     "data": {
      "text/html": [
       "<div>\n",
       "<style scoped>\n",
       "    .dataframe tbody tr th:only-of-type {\n",
       "        vertical-align: middle;\n",
       "    }\n",
       "\n",
       "    .dataframe tbody tr th {\n",
       "        vertical-align: top;\n",
       "    }\n",
       "\n",
       "    .dataframe thead th {\n",
       "        text-align: right;\n",
       "    }\n",
       "</style>\n",
       "<table border=\"1\" class=\"dataframe\">\n",
       "  <thead>\n",
       "    <tr style=\"text-align: right;\">\n",
       "      <th></th>\n",
       "      <th>survived</th>\n",
       "      <th>pclass</th>\n",
       "      <th>sex</th>\n",
       "      <th>age</th>\n",
       "      <th>sibsp</th>\n",
       "      <th>parch</th>\n",
       "      <th>fare</th>\n",
       "      <th>embarked</th>\n",
       "      <th>class</th>\n",
       "      <th>who</th>\n",
       "      <th>adult_male</th>\n",
       "      <th>deck</th>\n",
       "      <th>embark_town</th>\n",
       "      <th>alive</th>\n",
       "      <th>alone</th>\n",
       "    </tr>\n",
       "  </thead>\n",
       "  <tbody>\n",
       "    <tr>\n",
       "      <th>0</th>\n",
       "      <td>0</td>\n",
       "      <td>3</td>\n",
       "      <td>male</td>\n",
       "      <td>22.0</td>\n",
       "      <td>1</td>\n",
       "      <td>0</td>\n",
       "      <td>7.2500</td>\n",
       "      <td>S</td>\n",
       "      <td>Third</td>\n",
       "      <td>man</td>\n",
       "      <td>True</td>\n",
       "      <td>NaN</td>\n",
       "      <td>Southampton</td>\n",
       "      <td>no</td>\n",
       "      <td>False</td>\n",
       "    </tr>\n",
       "    <tr>\n",
       "      <th>1</th>\n",
       "      <td>1</td>\n",
       "      <td>1</td>\n",
       "      <td>female</td>\n",
       "      <td>38.0</td>\n",
       "      <td>1</td>\n",
       "      <td>0</td>\n",
       "      <td>71.2833</td>\n",
       "      <td>C</td>\n",
       "      <td>First</td>\n",
       "      <td>woman</td>\n",
       "      <td>False</td>\n",
       "      <td>C</td>\n",
       "      <td>Cherbourg</td>\n",
       "      <td>yes</td>\n",
       "      <td>False</td>\n",
       "    </tr>\n",
       "    <tr>\n",
       "      <th>2</th>\n",
       "      <td>1</td>\n",
       "      <td>3</td>\n",
       "      <td>female</td>\n",
       "      <td>26.0</td>\n",
       "      <td>0</td>\n",
       "      <td>0</td>\n",
       "      <td>7.9250</td>\n",
       "      <td>S</td>\n",
       "      <td>Third</td>\n",
       "      <td>woman</td>\n",
       "      <td>False</td>\n",
       "      <td>NaN</td>\n",
       "      <td>Southampton</td>\n",
       "      <td>yes</td>\n",
       "      <td>True</td>\n",
       "    </tr>\n",
       "    <tr>\n",
       "      <th>3</th>\n",
       "      <td>1</td>\n",
       "      <td>1</td>\n",
       "      <td>female</td>\n",
       "      <td>35.0</td>\n",
       "      <td>1</td>\n",
       "      <td>0</td>\n",
       "      <td>53.1000</td>\n",
       "      <td>S</td>\n",
       "      <td>First</td>\n",
       "      <td>woman</td>\n",
       "      <td>False</td>\n",
       "      <td>C</td>\n",
       "      <td>Southampton</td>\n",
       "      <td>yes</td>\n",
       "      <td>False</td>\n",
       "    </tr>\n",
       "    <tr>\n",
       "      <th>4</th>\n",
       "      <td>0</td>\n",
       "      <td>3</td>\n",
       "      <td>male</td>\n",
       "      <td>35.0</td>\n",
       "      <td>0</td>\n",
       "      <td>0</td>\n",
       "      <td>8.0500</td>\n",
       "      <td>S</td>\n",
       "      <td>Third</td>\n",
       "      <td>man</td>\n",
       "      <td>True</td>\n",
       "      <td>NaN</td>\n",
       "      <td>Southampton</td>\n",
       "      <td>no</td>\n",
       "      <td>True</td>\n",
       "    </tr>\n",
       "    <tr>\n",
       "      <th>...</th>\n",
       "      <td>...</td>\n",
       "      <td>...</td>\n",
       "      <td>...</td>\n",
       "      <td>...</td>\n",
       "      <td>...</td>\n",
       "      <td>...</td>\n",
       "      <td>...</td>\n",
       "      <td>...</td>\n",
       "      <td>...</td>\n",
       "      <td>...</td>\n",
       "      <td>...</td>\n",
       "      <td>...</td>\n",
       "      <td>...</td>\n",
       "      <td>...</td>\n",
       "      <td>...</td>\n",
       "    </tr>\n",
       "    <tr>\n",
       "      <th>886</th>\n",
       "      <td>0</td>\n",
       "      <td>2</td>\n",
       "      <td>male</td>\n",
       "      <td>27.0</td>\n",
       "      <td>0</td>\n",
       "      <td>0</td>\n",
       "      <td>13.0000</td>\n",
       "      <td>S</td>\n",
       "      <td>Second</td>\n",
       "      <td>man</td>\n",
       "      <td>True</td>\n",
       "      <td>NaN</td>\n",
       "      <td>Southampton</td>\n",
       "      <td>no</td>\n",
       "      <td>True</td>\n",
       "    </tr>\n",
       "    <tr>\n",
       "      <th>887</th>\n",
       "      <td>1</td>\n",
       "      <td>1</td>\n",
       "      <td>female</td>\n",
       "      <td>19.0</td>\n",
       "      <td>0</td>\n",
       "      <td>0</td>\n",
       "      <td>30.0000</td>\n",
       "      <td>S</td>\n",
       "      <td>First</td>\n",
       "      <td>woman</td>\n",
       "      <td>False</td>\n",
       "      <td>B</td>\n",
       "      <td>Southampton</td>\n",
       "      <td>yes</td>\n",
       "      <td>True</td>\n",
       "    </tr>\n",
       "    <tr>\n",
       "      <th>888</th>\n",
       "      <td>0</td>\n",
       "      <td>3</td>\n",
       "      <td>female</td>\n",
       "      <td>NaN</td>\n",
       "      <td>1</td>\n",
       "      <td>2</td>\n",
       "      <td>23.4500</td>\n",
       "      <td>S</td>\n",
       "      <td>Third</td>\n",
       "      <td>woman</td>\n",
       "      <td>False</td>\n",
       "      <td>NaN</td>\n",
       "      <td>Southampton</td>\n",
       "      <td>no</td>\n",
       "      <td>False</td>\n",
       "    </tr>\n",
       "    <tr>\n",
       "      <th>889</th>\n",
       "      <td>1</td>\n",
       "      <td>1</td>\n",
       "      <td>male</td>\n",
       "      <td>26.0</td>\n",
       "      <td>0</td>\n",
       "      <td>0</td>\n",
       "      <td>30.0000</td>\n",
       "      <td>C</td>\n",
       "      <td>First</td>\n",
       "      <td>man</td>\n",
       "      <td>True</td>\n",
       "      <td>C</td>\n",
       "      <td>Cherbourg</td>\n",
       "      <td>yes</td>\n",
       "      <td>True</td>\n",
       "    </tr>\n",
       "    <tr>\n",
       "      <th>890</th>\n",
       "      <td>0</td>\n",
       "      <td>3</td>\n",
       "      <td>male</td>\n",
       "      <td>32.0</td>\n",
       "      <td>0</td>\n",
       "      <td>0</td>\n",
       "      <td>7.7500</td>\n",
       "      <td>Q</td>\n",
       "      <td>Third</td>\n",
       "      <td>man</td>\n",
       "      <td>True</td>\n",
       "      <td>NaN</td>\n",
       "      <td>Queenstown</td>\n",
       "      <td>no</td>\n",
       "      <td>True</td>\n",
       "    </tr>\n",
       "  </tbody>\n",
       "</table>\n",
       "<p>891 rows × 15 columns</p>\n",
       "</div>"
      ],
      "text/plain": [
       "     survived  pclass     sex   age  sibsp  parch     fare embarked   class  \\\n",
       "0           0       3    male  22.0      1      0   7.2500        S   Third   \n",
       "1           1       1  female  38.0      1      0  71.2833        C   First   \n",
       "2           1       3  female  26.0      0      0   7.9250        S   Third   \n",
       "3           1       1  female  35.0      1      0  53.1000        S   First   \n",
       "4           0       3    male  35.0      0      0   8.0500        S   Third   \n",
       "..        ...     ...     ...   ...    ...    ...      ...      ...     ...   \n",
       "886         0       2    male  27.0      0      0  13.0000        S  Second   \n",
       "887         1       1  female  19.0      0      0  30.0000        S   First   \n",
       "888         0       3  female   NaN      1      2  23.4500        S   Third   \n",
       "889         1       1    male  26.0      0      0  30.0000        C   First   \n",
       "890         0       3    male  32.0      0      0   7.7500        Q   Third   \n",
       "\n",
       "       who  adult_male deck  embark_town alive  alone  \n",
       "0      man        True  NaN  Southampton    no  False  \n",
       "1    woman       False    C    Cherbourg   yes  False  \n",
       "2    woman       False  NaN  Southampton   yes   True  \n",
       "3    woman       False    C  Southampton   yes  False  \n",
       "4      man        True  NaN  Southampton    no   True  \n",
       "..     ...         ...  ...          ...   ...    ...  \n",
       "886    man        True  NaN  Southampton    no   True  \n",
       "887  woman       False    B  Southampton   yes   True  \n",
       "888  woman       False  NaN  Southampton    no  False  \n",
       "889    man        True    C    Cherbourg   yes   True  \n",
       "890    man        True  NaN   Queenstown    no   True  \n",
       "\n",
       "[891 rows x 15 columns]"
      ]
     },
     "execution_count": 22,
     "metadata": {},
     "output_type": "execute_result"
    }
   ],
   "source": [
    "import pingouin as pg\n",
    "import seaborn as sns\n",
    "\n",
    "titanic = sns.load_dataset(\"titanic\")\n",
    "titanic"
   ]
  },
  {
   "cell_type": "code",
   "execution_count": 23,
   "id": "ed707471-a146-4d1f-850d-86243b573db9",
   "metadata": {
    "scrolled": true
   },
   "outputs": [
    {
     "data": {
      "text/plain": [
       "(sex           female        male\n",
       " survived                        \n",
       " 0         193.474747  355.525253\n",
       " 1         120.525253  221.474747,\n",
       " sex       female   male\n",
       " survived               \n",
       " 0           81.5  467.5\n",
       " 1          232.5  109.5,\n",
       "                  test    lambda        chi2  dof          pval    cramer  \\\n",
       " 0             pearson  1.000000  260.717020  1.0  1.197357e-58  0.540936   \n",
       " 1        cressie-read  0.666667  260.413906  1.0  1.394102e-58  0.540621   \n",
       " 2      log-likelihood  0.000000  266.344480  1.0  7.106137e-60  0.546743   \n",
       " 3       freeman-tukey -0.500000  276.922737  1.0  3.517208e-62  0.557494   \n",
       " 4  mod-log-likelihood -1.000000  293.475958  1.0  8.693443e-66  0.573915   \n",
       " 5              neyman -2.000000  349.098487  1.0  6.659745e-78  0.625943   \n",
       " \n",
       "    power  \n",
       " 0    1.0  \n",
       " 1    1.0  \n",
       " 2    1.0  \n",
       " 3    1.0  \n",
       " 4    1.0  \n",
       " 5    1.0  )"
      ]
     },
     "execution_count": 23,
     "metadata": {},
     "output_type": "execute_result"
    }
   ],
   "source": [
    "pg.chi2_independence(titanic, x=\"survived\", y=\"sex\")"
   ]
  },
  {
   "cell_type": "markdown",
   "id": "80e3b80c-775d-4c63-9c1b-fcc562d153d6",
   "metadata": {},
   "source": [
    "There is a lot of information in the output. But we can only care about the `p-value` in the first row of the column \"pval\". Since it is much smaller than 0.05, we can reject the null hypothesis at confidence level 95%. \n",
    "\n",
    "- The first two part of the information are **expected frequencies**, **observed frequencies**, respectively. The thrid part of the information is all the test results with different values of lambda."
   ]
  },
  {
   "cell_type": "markdown",
   "id": "87cb4256-23e0-4fc7-964f-8b5641dc192f",
   "metadata": {},
   "source": [
    "```{note}\n",
    "Anova test can also be done by the library `statesmodels` and $\\chi^2$ test can also be done by the library `scipy`. But they are more cumbesome than `pingouin`.\n",
    "```"
   ]
  },
  {
   "cell_type": "markdown",
   "id": "95564839-dc9d-4665-91e5-b8512147345f",
   "metadata": {},
   "source": [
    "## Linear regression\n",
    "<hr>"
   ]
  },
  {
   "cell_type": "markdown",
   "id": "7c533041-3988-49f0-ab82-8ebdea4a2f47",
   "metadata": {},
   "source": [
    "linear regression is a model that estimates the relationship between a scalar `response` (dependent variable) and one or more `explanatory variables` (regressor or independent variable). "
   ]
  },
  {
   "cell_type": "markdown",
   "id": "db92afda-13e7-4c16-83a7-629f16de389b",
   "metadata": {},
   "source": [
    "Linear regression is widely used in biological and social sciences to describe possible relationships between variables. It ranks as **one of the most important tools** used in these disciplines."
   ]
  },
  {
   "cell_type": "markdown",
   "id": "c335f255-324c-4f0c-b78a-d8d8846cfec4",
   "metadata": {},
   "source": [
    "For example, for a seaborn dataset \"car_crashes\", which contains data on car crashes in different U.S. states."
   ]
  },
  {
   "cell_type": "code",
   "execution_count": 24,
   "id": "5bae5b16-5bc6-472e-97d6-683a6c869a82",
   "metadata": {},
   "outputs": [
    {
     "data": {
      "text/html": [
       "<div>\n",
       "<style scoped>\n",
       "    .dataframe tbody tr th:only-of-type {\n",
       "        vertical-align: middle;\n",
       "    }\n",
       "\n",
       "    .dataframe tbody tr th {\n",
       "        vertical-align: top;\n",
       "    }\n",
       "\n",
       "    .dataframe thead th {\n",
       "        text-align: right;\n",
       "    }\n",
       "</style>\n",
       "<table border=\"1\" class=\"dataframe\">\n",
       "  <thead>\n",
       "    <tr style=\"text-align: right;\">\n",
       "      <th></th>\n",
       "      <th>total</th>\n",
       "      <th>speeding</th>\n",
       "      <th>alcohol</th>\n",
       "      <th>not_distracted</th>\n",
       "      <th>no_previous</th>\n",
       "      <th>ins_premium</th>\n",
       "      <th>ins_losses</th>\n",
       "      <th>abbrev</th>\n",
       "    </tr>\n",
       "  </thead>\n",
       "  <tbody>\n",
       "    <tr>\n",
       "      <th>0</th>\n",
       "      <td>18.8</td>\n",
       "      <td>7.332</td>\n",
       "      <td>5.640</td>\n",
       "      <td>18.048</td>\n",
       "      <td>15.040</td>\n",
       "      <td>784.55</td>\n",
       "      <td>145.08</td>\n",
       "      <td>AL</td>\n",
       "    </tr>\n",
       "    <tr>\n",
       "      <th>1</th>\n",
       "      <td>18.1</td>\n",
       "      <td>7.421</td>\n",
       "      <td>4.525</td>\n",
       "      <td>16.290</td>\n",
       "      <td>17.014</td>\n",
       "      <td>1053.48</td>\n",
       "      <td>133.93</td>\n",
       "      <td>AK</td>\n",
       "    </tr>\n",
       "    <tr>\n",
       "      <th>2</th>\n",
       "      <td>18.6</td>\n",
       "      <td>6.510</td>\n",
       "      <td>5.208</td>\n",
       "      <td>15.624</td>\n",
       "      <td>17.856</td>\n",
       "      <td>899.47</td>\n",
       "      <td>110.35</td>\n",
       "      <td>AZ</td>\n",
       "    </tr>\n",
       "    <tr>\n",
       "      <th>3</th>\n",
       "      <td>22.4</td>\n",
       "      <td>4.032</td>\n",
       "      <td>5.824</td>\n",
       "      <td>21.056</td>\n",
       "      <td>21.280</td>\n",
       "      <td>827.34</td>\n",
       "      <td>142.39</td>\n",
       "      <td>AR</td>\n",
       "    </tr>\n",
       "    <tr>\n",
       "      <th>4</th>\n",
       "      <td>12.0</td>\n",
       "      <td>4.200</td>\n",
       "      <td>3.360</td>\n",
       "      <td>10.920</td>\n",
       "      <td>10.680</td>\n",
       "      <td>878.41</td>\n",
       "      <td>165.63</td>\n",
       "      <td>CA</td>\n",
       "    </tr>\n",
       "  </tbody>\n",
       "</table>\n",
       "</div>"
      ],
      "text/plain": [
       "   total  speeding  alcohol  not_distracted  no_previous  ins_premium  \\\n",
       "0   18.8     7.332    5.640          18.048       15.040       784.55   \n",
       "1   18.1     7.421    4.525          16.290       17.014      1053.48   \n",
       "2   18.6     6.510    5.208          15.624       17.856       899.47   \n",
       "3   22.4     4.032    5.824          21.056       21.280       827.34   \n",
       "4   12.0     4.200    3.360          10.920       10.680       878.41   \n",
       "\n",
       "   ins_losses abbrev  \n",
       "0      145.08     AL  \n",
       "1      133.93     AK  \n",
       "2      110.35     AZ  \n",
       "3      142.39     AR  \n",
       "4      165.63     CA  "
      ]
     },
     "execution_count": 24,
     "metadata": {},
     "output_type": "execute_result"
    }
   ],
   "source": [
    "import seaborn as sns\n",
    "\n",
    "crashes = sns.load_dataset('car_crashes')\n",
    "crashes.head()  "
   ]
  },
  {
   "cell_type": "markdown",
   "id": "d8572f46-38d5-4a7c-830f-afc9854b52b7",
   "metadata": {},
   "source": [
    "Descriptions for each column are below:\n",
    "\n",
    "| Variable Name       | Description                                                                  |\n",
    "| ------------------- | ---------------------------------------------------------------------------- |\n",
    "| `total`             | Total number of car crash deaths per 10,000 people in each state             |\n",
    "| `speeding`          | Proportion of deaths due to speeding (as a fraction of `total`)              |\n",
    "| `alcohol`           | Proportion of deaths involving alcohol (as a fraction of `total`)            |\n",
    "| `not_distracted`    | Proportion of deaths not caused by distraction                           |\n",
    "| `no_previous`       | Proportion of drivers involved in fatal crashes with no prior violations |                   \n",
    "| `ins_premium`       | Alternative column for insurance premium  |\n",
    "| `ins_losses`        | Average insurance losses per driver (in US dollars)                          |\n",
    "| `abbrev`            | Two-letter abbreviation of the US state                                      |\n"
   ]
  },
  {
   "cell_type": "markdown",
   "id": "12e1d009-eb3a-47c9-a291-c79b0d7cc6d0",
   "metadata": {},
   "source": [
    "A scatter plot for the speeding and total number of crashes is given below."
   ]
  },
  {
   "cell_type": "code",
   "execution_count": 25,
   "id": "637ad3d5-b37e-459e-83fc-5df2342629a1",
   "metadata": {},
   "outputs": [
    {
     "data": {
      "text/plain": [
       "<Axes: xlabel='speeding', ylabel='total'>"
      ]
     },
     "execution_count": 25,
     "metadata": {},
     "output_type": "execute_result"
    },
    {
     "data": {
      "image/png": "[encoded data removed]",
      "text/plain": [
       "<Figure size 640x480 with 1 Axes>"
      ]
     },
     "metadata": {},
     "output_type": "display_data"
    }
   ],
   "source": [
    "sns.regplot(data=crashes, x=\"speeding\", y=\"total\")"
   ]
  },
  {
   "cell_type": "markdown",
   "id": "9de050fd-1fb0-440d-a998-2cc4fc51453c",
   "metadata": {},
   "source": [
    " We may assume there is a linear relationship between the amount of total crashes and the speeding, i.e., "
   ]
  },
  {
   "cell_type": "markdown",
   "id": "ba8fe7bc-66c9-4222-bb8a-42856fc769d3",
   "metadata": {},
   "source": [
    "```{math}\n",
    ":label: eq-single-variable\n",
    "\\text{total}=\\beta_0+\\beta_1\\text{ speeding}\n",
    "```"
   ]
  },
  {
   "cell_type": "markdown",
   "id": "7b88e725-4946-43f6-ba9e-ed7f4c13beca",
   "metadata": {},
   "source": [
    "Geometrically, linear regression involves finding **the best-fitting line through a set of points**, represented by a linear equation as shown above, where $\\beta_0$ is called the `intercept`."
   ]
  },
  {
   "cell_type": "markdown",
   "id": "ca8a00b9-cdfc-441b-ae6a-c6dd0bff1a72",
   "metadata": {},
   "source": [
    "The most common way to comute the linear regreesion model is by the ordinary least square method, for which we can use the function `OLS()` from the library `Statsmodels`. "
   ]
  },
  {
   "cell_type": "markdown",
   "id": "345d869c-fe70-45fc-b027-0fdb71555614",
   "metadata": {},
   "source": [
    "Using the `statsmodels` library to perform regression typically involves the following steps:\n",
    "\n",
    "* Construct the regression model using the function `OLS()` and `fit()`.\n",
    "* Output the regression results using the `summary()` function.\n",
    "* Obtain predicted values using the `predict()` function. This step can be omitted if not for prediction.\n"
   ]
  },
  {
   "cell_type": "markdown",
   "id": "f0f7ec7f-906f-4927-a894-758d2e6137a4",
   "metadata": {},
   "source": [
    "In the following code, we build a linear model for the equation {eq}`eq-single-variable` using `statsmodels.formula.api`."
   ]
  },
  {
   "cell_type": "code",
   "execution_count": 26,
   "id": "cf514458-56a3-40d2-b60f-418164a7602c",
   "metadata": {},
   "outputs": [
    {
     "name": "stdout",
     "output_type": "stream",
     "text": [
      "                            OLS Regression Results                            \n",
      "==============================================================================\n",
      "Dep. Variable:                  total   R-squared:                       0.374\n",
      "Model:                            OLS   Adj. R-squared:                  0.361\n",
      "Method:                 Least Squares   F-statistic:                     29.27\n",
      "Date:                Fri, 27 Jun 2025   Prob (F-statistic):           1.87e-06\n",
      "Time:                        20:06:59   Log-Likelihood:                -132.15\n",
      "No. Observations:                  51   AIC:                             268.3\n",
      "Df Residuals:                      49   BIC:                             272.2\n",
      "Df Model:                           1                                         \n",
      "Covariance Type:            nonrobust                                         \n",
      "==============================================================================\n",
      "                 coef    std err          t      P>|t|      [0.025      0.975]\n",
      "------------------------------------------------------------------------------\n",
      "Intercept      9.5459      1.243      7.680      0.000       7.048      12.044\n",
      "speeding       1.2493      0.231      5.411      0.000       0.785       1.713\n",
      "==============================================================================\n",
      "Omnibus:                        2.847   Durbin-Watson:                   2.008\n",
      "Prob(Omnibus):                  0.241   Jarque-Bera (JB):                2.681\n",
      "Skew:                           0.542   Prob(JB):                        0.262\n",
      "Kurtosis:                       2.709   Cond. No.                         14.9\n",
      "==============================================================================\n",
      "\n",
      "Notes:\n",
      "[1] Standard Errors assume that the covariance matrix of the errors is correctly specified.\n"
     ]
    }
   ],
   "source": [
    "import statsmodels.formula.api as smf\n",
    "\n",
    "# the linear model is definded by strings the in the formula\n",
    "model = smf.ols(formula=\"total ~ speeding\", data=crashes).fit()\n",
    "\n",
    "# model summary\n",
    "print(model.summary())"
   ]
  },
  {
   "cell_type": "markdown",
   "id": "aa1db3a1-034e-4f74-b4a6-32faefdd0295",
   "metadata": {},
   "source": [
    "There are a lot of information in the output table, but we usually concern several key informations:\n",
    "\n",
    "- Values of coefficicent $\\beta_0, \\beta_1, \\dots$\n",
    "  - They are given in the column \"coef\". From them, we can get the fitted model. For this example, it is:\n",
    "    $$\n",
    "    \\text{tip}=9.5459 +1.2493 \\text{ total\\_bill}\n",
    "    $$\n",
    "- p-values of the independent variables.\n",
    "  - The p-values are given in the column \"P>|t|\". If the p-value of an independe variable is less than 0.05, it means there is **linear relationship** between the independent variable and the dependent variable at 95% confidence level. For this example, the p-values are all 0.000.\n",
    "- $R^2$\n",
    "  - It is given by the value on the right of \"R-squred: \" at the top right of the table. It measures the proportion of variability in the dependent variable explained by the model, with a range between 0 and 1. **The closer it is to 1, the better the model fit**. For this example, it is 0.374.\n",
    "\n"
   ]
  },
  {
   "cell_type": "markdown",
   "id": "ff38ee1a-afa0-49f6-ab44-36ecbef17d68",
   "metadata": {},
   "source": [
    "In regression analysis, there is no universal threshold for what constitutes a \"good\" R² value, as it heavily depends on the **field of study and research context**. However, here are some general guidelines:\n",
    "  - R² > 0.7: Often considered **strong** in social sciences or fields with high noise.  \n",
    "  - R² = 0.3–0.7: **Moderate** explanatory power (common in economics, biology, etc.).  \n",
    "  - R² < 0.3: **Weak** fit, but may still be meaningful in noisy domains (e.g., psychology, climate studies).  \n",
    "  - R² ≈ 0: Model explains almost none of the variability.  "
   ]
  },
  {
   "cell_type": "markdown",
   "id": "22926283-b879-4be2-b524-c6ee1f342198",
   "metadata": {},
   "source": [
    "The general syntax for the function `ols()` is given below."
   ]
  },
  {
   "cell_type": "markdown",
   "id": "059ef9d0-30d5-4e9c-a9c6-1152b4b57dc5",
   "metadata": {},
   "source": [
    "<table>\n",
    "    <tr style=\"border-top:solid; border-bottom:solid\">\n",
    "        <th colspan=2 style=\"text-align:center\">statsmodels.formula.api.ols(formula, data)</th>\n",
    "    </tr>\n",
    "    <tr>\n",
    "        <td style=\"text-align:left\">formula</td>\n",
    "        <td style=\"text-align:left\">Usually a string, the formula specifying the model.</td>\n",
    "    </tr>\n",
    "    <tr style=\"text-align:left; border-bottom:solid\" >\n",
    "        <td style=\"text-align:left\">data</td>\n",
    "        <td style=\"text-align:left\">Usually a DataFrame or dict, the data for the model</td>\n",
    "    </tr>\n",
    "</table>\n",
    "<br />"
   ]
  },
  {
   "cell_type": "markdown",
   "id": "7fc9bb40-82e3-4552-8fae-cabc1d03afc5",
   "metadata": {},
   "source": [
    "The general syntax for the formula is below:"
   ]
  },
  {
   "cell_type": "markdown",
   "id": "5844afd5-baf3-4292-956f-ba1f4e0b67ed",
   "metadata": {},
   "source": [
    "> y ~ x1 + x2 + x1:x2 + C(x3)"
   ]
  },
  {
   "cell_type": "markdown",
   "id": "15d4179d-bfb4-46c3-9951-ec308116ba2d",
   "metadata": {},
   "source": [
    "- `y` is the dependent (response) variable\n",
    "\n",
    "- `x1`, `x2`, `x3` are independent (regressor) variables\n",
    "- `C(x3)` means x3 is catorgorical variable\n",
    "- `~` separates the dependent variable from the predictors\n",
    "\n",
    "- `+` adds independent variables\n",
    "\n",
    "- `-1` removes the intercept (by default it’s included)\n",
    "\n",
    "- `x1:x2` adds an **interaction term** only, which equals x1*x2\n",
    "\n",
    "- `x1*x2` adds both main terms and the interaction, which equals x1 + x2 + x1*x2"
   ]
  },
  {
   "cell_type": "markdown",
   "id": "4bd6651a-05f1-476b-b467-142bffd6da30",
   "metadata": {},
   "source": [
    "- Normally in regression, we assume that variables affect the outcome independently. But sometimes, the **combined effect** of two variables is more (or less) than just adding their individual effects — that's where `interaction terms` come in."
   ]
  },
  {
   "cell_type": "markdown",
   "id": "ece24821-967b-41f4-90b4-7d9bb61a8fd3",
   "metadata": {},
   "source": [
    "For example, we can apply a linear regression between the amount of total crashes, the speeding and the alcohol:"
   ]
  },
  {
   "cell_type": "markdown",
   "id": "89cabea1-f680-4ff3-ba3a-3b1a16ecc319",
   "metadata": {},
   "source": [
    "$$\n",
    "\\text{total}=\\beta_0+\\beta_1\\text{ speeding}+\\beta_2\\text{ alcohol}\n",
    "$$"
   ]
  },
  {
   "cell_type": "code",
   "execution_count": 27,
   "id": "d1ffa38d-fdf7-4ffe-a586-d36bd124dfe5",
   "metadata": {},
   "outputs": [
    {
     "name": "stdout",
     "output_type": "stream",
     "text": [
      "                            OLS Regression Results                            \n",
      "==============================================================================\n",
      "Dep. Variable:                  total   R-squared:                       0.730\n",
      "Model:                            OLS   Adj. R-squared:                  0.719\n",
      "Method:                 Least Squares   F-statistic:                     64.87\n",
      "Date:                Fri, 27 Jun 2025   Prob (F-statistic):           2.27e-14\n",
      "Time:                        20:06:59   Log-Likelihood:                -110.71\n",
      "No. Observations:                  51   AIC:                             227.4\n",
      "Df Residuals:                      48   BIC:                             233.2\n",
      "Df Model:                           2                                         \n",
      "Covariance Type:            nonrobust                                         \n",
      "==============================================================================\n",
      "                 coef    std err          t      P>|t|      [0.025      0.975]\n",
      "------------------------------------------------------------------------------\n",
      "Intercept      5.6807      0.957      5.934      0.000       3.756       7.606\n",
      "speeding       0.1502      0.206      0.728      0.470      -0.265       0.565\n",
      "alcohol        1.9152      0.241      7.954      0.000       1.431       2.399\n",
      "==============================================================================\n",
      "Omnibus:                        2.495   Durbin-Watson:                   1.809\n",
      "Prob(Omnibus):                  0.287   Jarque-Bera (JB):                2.045\n",
      "Skew:                           0.490   Prob(JB):                        0.360\n",
      "Kurtosis:                       2.978   Cond. No.                         23.5\n",
      "==============================================================================\n",
      "\n",
      "Notes:\n",
      "[1] Standard Errors assume that the covariance matrix of the errors is correctly specified.\n"
     ]
    }
   ],
   "source": [
    "import statsmodels.formula.api as smf\n",
    "import seaborn as sns\n",
    "\n",
    "crashes = sns.load_dataset('car_crashes')\n",
    "\n",
    "# the linear model is definded by strings the in the formula\n",
    "model = smf.ols(formula=\"total ~ speeding + alcohol\", data=crashes).fit()\n",
    "\n",
    "# model summary\n",
    "print(model.summary())"
   ]
  },
  {
   "cell_type": "markdown",
   "id": "bdb9e324-f677-48cd-a2cd-645a7b25e4f0",
   "metadata": {},
   "source": [
    "Or, if we consider the interaction of speeding and alcohol (drivers with alcohol tend to driving with highe speed):"
   ]
  },
  {
   "cell_type": "markdown",
   "id": "a3458c6a-a6c3-423d-a529-6139f4ff9ea7",
   "metadata": {},
   "source": [
    "$$\n",
    "\\text{total}=\\beta_0+\\beta_1\\text{ speeding}+\\beta_2\\text{ alcohol}+\\beta_3\\text{ alcohol*speeding}\n",
    "$$"
   ]
  },
  {
   "cell_type": "code",
   "execution_count": 28,
   "id": "fe5f8b21-eb8b-47ee-ad9a-1557a2e0fab9",
   "metadata": {},
   "outputs": [
    {
     "name": "stdout",
     "output_type": "stream",
     "text": [
      "                            OLS Regression Results                            \n",
      "==============================================================================\n",
      "Dep. Variable:                  total   R-squared:                       0.790\n",
      "Model:                            OLS   Adj. R-squared:                  0.777\n",
      "Method:                 Least Squares   F-statistic:                     58.91\n",
      "Date:                Fri, 27 Jun 2025   Prob (F-statistic):           5.91e-16\n",
      "Time:                        20:06:59   Log-Likelihood:                -104.31\n",
      "No. Observations:                  51   AIC:                             216.6\n",
      "Df Residuals:                      47   BIC:                             224.3\n",
      "Df Model:                           3                                         \n",
      "Covariance Type:            nonrobust                                         \n",
      "====================================================================================\n",
      "                       coef    std err          t      P>|t|      [0.025      0.975]\n",
      "------------------------------------------------------------------------------------\n",
      "Intercept           -1.8936      2.236     -0.847      0.401      -6.393       2.605\n",
      "speeding             1.5561      0.426      3.657      0.001       0.700       2.412\n",
      "alcohol              3.5368      0.492      7.191      0.000       2.547       4.526\n",
      "alcohol:speeding    -0.2761      0.075     -3.664      0.001      -0.428      -0.125\n",
      "==============================================================================\n",
      "Omnibus:                        3.087   Durbin-Watson:                   1.807\n",
      "Prob(Omnibus):                  0.214   Jarque-Bera (JB):                2.360\n",
      "Skew:                           0.520   Prob(JB):                        0.307\n",
      "Kurtosis:                       3.168   Cond. No.                         284.\n",
      "==============================================================================\n",
      "\n",
      "Notes:\n",
      "[1] Standard Errors assume that the covariance matrix of the errors is correctly specified.\n"
     ]
    }
   ],
   "source": [
    "import statsmodels.formula.api as smf\n",
    "import seaborn as sns\n",
    "\n",
    "crashes = sns.load_dataset('car_crashes')\n",
    "\n",
    "# the linear model is definded by strings the in the formula\n",
    "# the below code equals: model = smf.ols(formula=\"total ~ alcohol*speeding\", data=crashes).fit()\n",
    "model = smf.ols(formula=\"total ~ speeding + alcohol + alcohol:speeding\", data=crashes).fit()\n",
    "\n",
    "# model summary\n",
    "print(model.summary())"
   ]
  },
  {
   "cell_type": "markdown",
   "id": "45127b42-61d7-42c4-a593-333f5ba689da",
   "metadata": {},
   "source": [
    "For the catogorical variable, we use the dataset \"tips\" as an example to fit the following equation:"
   ]
  },
  {
   "cell_type": "markdown",
   "id": "42cd7c7a-ade4-41f5-81b3-67177325bb0e",
   "metadata": {},
   "source": [
    "$$\n",
    "\\text{tip}=\\beta_0+\\beta_1\\text{ total\\_bill}+\\beta_2\\text{ day}\n",
    "$$"
   ]
  },
  {
   "cell_type": "code",
   "execution_count": 29,
   "id": "13b1952b-c4f4-45d5-97a8-7b2d090f2799",
   "metadata": {},
   "outputs": [
    {
     "name": "stdout",
     "output_type": "stream",
     "text": [
      "                            OLS Regression Results                            \n",
      "==============================================================================\n",
      "Dep. Variable:                    tip   R-squared:                       0.459\n",
      "Model:                            OLS   Adj. R-squared:                  0.450\n",
      "Method:                 Least Squares   F-statistic:                     50.67\n",
      "Date:                Fri, 27 Jun 2025   Prob (F-statistic):           7.52e-31\n",
      "Time:                        20:06:59   Log-Likelihood:                -350.03\n",
      "No. Observations:                 244   AIC:                             710.1\n",
      "Df Residuals:                     239   BIC:                             727.5\n",
      "Df Model:                           4                                         \n",
      "Covariance Type:            nonrobust                                         \n",
      "=================================================================================\n",
      "                    coef    std err          t      P>|t|      [0.025      0.975]\n",
      "---------------------------------------------------------------------------------\n",
      "Intercept         0.9205      0.186      4.943      0.000       0.554       1.287\n",
      "C(day)[T.Fri]     0.0189      0.269      0.070      0.944      -0.511       0.549\n",
      "C(day)[T.Sat]    -0.0671      0.172     -0.391      0.697      -0.406       0.271\n",
      "C(day)[T.Sun]     0.0935      0.178      0.526      0.599      -0.257       0.444\n",
      "total_bill        0.1047      0.008     13.915      0.000       0.090       0.119\n",
      "==============================================================================\n",
      "Omnibus:                       20.916   Durbin-Watson:                   2.149\n",
      "Prob(Omnibus):                  0.000   Jarque-Bera (JB):               38.821\n",
      "Skew:                           0.463   Prob(JB):                     3.72e-09\n",
      "Kurtosis:                       4.721   Cond. No.                         103.\n",
      "==============================================================================\n",
      "\n",
      "Notes:\n",
      "[1] Standard Errors assume that the covariance matrix of the errors is correctly specified.\n"
     ]
    }
   ],
   "source": [
    "import statsmodels.formula.api as smf\n",
    "import seaborn as sns\n",
    "\n",
    "tips = sns.load_dataset('tips')\n",
    "\n",
    "# the linear model is definded by strings the in the formula\n",
    "model = smf.ols(formula=\"tip ~ total_bill + C(day)\", data=tips).fit()\n",
    "\n",
    "# model summary\n",
    "print(model.summary())"
   ]
  },
  {
   "cell_type": "markdown",
   "id": "f59c0071-1d2e-475d-9f8a-1ade508a6274",
   "metadata": {},
   "source": [
    "```{note}\n",
    "Linear regression can also be performed using non-formula-based modeling, non-OLS methods or other libraries, which are omitted here due to space limitations.\n",
    "```"
   ]
  },
  {
   "cell_type": "markdown",
   "id": "151df3d3-92c9-496f-9c6e-c07ff6655d55",
   "metadata": {},
   "source": [
    "## Structural equation model*[^1]\n",
    "<hr>\n",
    "\n",
    "[^1]:\\* means this section may not be delivered in the class."
   ]
  },
  {
   "cell_type": "markdown",
   "id": "40f12379-b1ac-4432-be6e-1a5f4f6c812f",
   "metadata": {},
   "source": [
    "`Structural Equation Modeling` (SEM) is especially useful when the research involves **latent variables** (concepts that can't be directly observed) and **complex relationships** among multiple variables—such as mediation, moderation or multiple simultaneous dependencies."
   ]
  },
  {
   "cell_type": "markdown",
   "id": "02404ff9-30f5-468a-9f82-3c9e3dc0f97a",
   "metadata": {},
   "source": [
    "> Variables like job satisfaction, employee engagement, customer loyalty, leadership style, or brand perception are not directly measurable.\n",
    "\n",
    "These are called latent variables and typically measured through surveys using multiple items. SEM allows us to model the relationship between latent constructs and their observed indicators (this is called the measurement model)."
   ]
  },
  {
   "cell_type": "markdown",
   "id": "fe9dbd3f-6cd7-47ad-9faf-7f96f7b0f0c9",
   "metadata": {},
   "source": [
    "> SEM is also ideal when the model includes complex cause-effect relationships and we want to test direct and indirect effects simultaneously."
   ]
  },
  {
   "cell_type": "markdown",
   "id": "f750270b-481a-4c70-bbf7-f8b037ea57f6",
   "metadata": {},
   "source": [
    "For example, we can use SEM to test the following relationship:"
   ]
  },
  {
   "cell_type": "markdown",
   "id": "98c36d2b-6461-4df6-ba2b-50dd75641918",
   "metadata": {},
   "source": [
    "- Does corporate Social Responsibility (CSR) positively influence a company's Brand Image, which in turn enhances Customer Satisfaction, ultimately leading to increased Customer Loyalty.\n",
    "  \n",
    "  Corporate Social Responsibility (CSR) → Brand Image → Customer Satisfaction → Customer Loyalty\n",
    "  \n",
    "- How motivation and leadership style affect both job performance and turnover intention at the same time.\n",
    "\n",
    "  Motivation        ──→ Job Performance  \n",
    "  Leadership Style  ──→ Job Performance  \n",
    "  Motivation        ──→ Turnover Intention  \n",
    "  Leadership Style  ──→ Turnover Intention  "
   ]
  },
  {
   "cell_type": "markdown",
   "id": "4b3acc8d-5e70-4c82-853f-eafc39663bd1",
   "metadata": {},
   "source": [
    "### An example of using SEM\n",
    "<hr>\n",
    "\n",
    "We use an example in one marketing research showing how tuo use SEM."
   ]
  },
  {
   "cell_type": "markdown",
   "id": "5e053f2b-4096-4f38-b4e9-eb0573334908",
   "metadata": {},
   "source": [
    "#### Research question, assumptions and variables"
   ]
  },
  {
   "cell_type": "markdown",
   "id": "22bc22f9-7a7e-45cc-b612-9571df442ffe",
   "metadata": {},
   "source": [
    "- Research question: this study aims to explore the impact mechanism of social media advertising (e.g., Instagram ads) on consumers' purchase intention, and to analyze the mediating role of brand trust and the moderating role of personal innovativeness."
   ]
  },
  {
   "cell_type": "markdown",
   "id": "650f9d5e-3b44-405e-a732-7f46a39f65bd",
   "metadata": {},
   "source": [
    "- Research Hypotheses:\n",
    "\n",
    "  - H1: Attractiveness of social media advertising positively influences brand trust.\n",
    "\n",
    "  - H2: Brand trust positively influences purchase intention.\n",
    "\n",
    "  - H3: Brand trust mediates the relationship between advertising attractiveness and purchase intention.\n",
    "\n",
    "  - H4: Personal innovativeness moderates the relationship between advertising attractiveness and brand trust (the effect is stronger among highly innovative individuals)."
   ]
  },
  {
   "cell_type": "markdown",
   "id": "c2cbddb7-739a-43b7-a2b4-c44552bcbc6e",
   "metadata": {},
   "source": [
    "The hypotheses is illustrated by the following graph."
   ]
  },
  {
   "cell_type": "markdown",
   "id": "a6e43954-2cd1-4c65-8c47-7b7bf46d9096",
   "metadata": {},
   "source": [
    "```mermaid\n",
    "graph LR\n",
    "  X[Social media advertising X] --> M[Brand Trust M]\n",
    "  M --> Y[Purchase Intention Y]\n",
    "  X --> Y\n",
    "  Z[Personal Innovativeness Z] --> X\n",
    "  Z --> M\n",
    "```"
   ]
  },
  {
   "cell_type": "markdown",
   "id": "6c021bb2-f63d-48f4-ae03-87815fcd9313",
   "metadata": {},
   "source": [
    "- Variable Design:\n",
    "\n",
    "   - Independent Variable (X): Attractiveness of social media advertising (measured by: advertising creativity, visual design, information usefulness).\n",
    "\n",
    "   - Mediating Variable (M): Brand trust (measured by: brand reliability, brand integrity).\n",
    "\n",
    "   - Dependent Variable (Y): Purchase intention (measured by: willingness to buy, willingness to recommend to others).\n",
    "\n",
    "   - Moderating Variable (Z): Personal innovativeness (categorical variable: high vs. low innovativeness groups).\n",
    "\n"
   ]
  },
  {
   "cell_type": "markdown",
   "id": "08ec98a3-a3ca-451e-bb20-1747ae18bde1",
   "metadata": {},
   "source": [
    "> - `Moderating varaible`: Determines whether the strength or direction of the effect of the independent variable (X) on the dependent variable (Y) changes depending on **different levels of another variable**.  \n",
    "> - `Mediating variable`: Explains how the independent variable (X) influences the dependent variable (Y) through an **intermediate** mechanism (M).  \n"
   ]
  },
  {
   "cell_type": "markdown",
   "id": "c23b3795-3905-4bd4-b7ff-901feeb5a589",
   "metadata": {},
   "source": [
    "#### Data collection and pretest"
   ]
  },
  {
   "cell_type": "markdown",
   "id": "bcd3f9c2-dbad-4e84-a161-a4e82f564a51",
   "metadata": {},
   "source": [
    "## Reliability and validity test\n",
    "<hr>"
   ]
  },
  {
   "cell_type": "markdown",
   "id": "6882d5f3-827c-485a-8e90-fb389981f27f",
   "metadata": {},
   "source": [
    "In research methodology (especially in fields such as **surveys**, psychometrics, and educational assessment), `reliability` and `validity` are two core indicators for evaluating the quality of a measurement scale."
   ]
  },
  {
   "cell_type": "markdown",
   "id": "e7a99f84-7eec-470f-a97b-706aa9c34fa6",
   "metadata": {},
   "source": [
    "### Reliablity\n",
    "\n",
    "<hr>\n",
    "\n",
    "`Reliability` refers to the consistency of measurement. It means that if the questions in a questionnaire are asked repeatedly to the same person, their responses should remain consistent each time."
   ]
  },
  {
   "cell_type": "markdown",
   "id": "25ccc6b7-36f5-484f-b7a5-2274efe31450",
   "metadata": {},
   "source": [
    "There are several common types of reliability listed below."
   ]
  },
  {
   "cell_type": "markdown",
   "id": "ec5c5d84-d20b-4b1c-afc7-323feb3ec2a7",
   "metadata": {},
   "source": [
    "1. **Internal Consistency Reliability**\n",
    "\n",
    "   * Typically measured using **Cronbach’s alpha** (α).\n",
    "   * Thresholds:\n",
    "\n",
    "     * α ≥ 0.9: Excellent\n",
    "     * 0.8 ≤ α < 0.9: Good\n",
    "     * 0.7 ≤ α < 0.8: Acceptable"
   ]
  },
  {
   "cell_type": "markdown",
   "id": "0466af93-6c51-48ca-a833-0817f578e21f",
   "metadata": {},
   "source": [
    "`Cronbach’s alpha (α)` can be computed by the method `cronbach_alpha` in the library `pingouin`."
   ]
  },
  {
   "cell_type": "markdown",
   "id": "cbf56923-b98b-4589-ac0b-2e9510a1bb75",
   "metadata": {},
   "source": [
    "<table>\n",
    "    <tr style=\"border-top:solid; border-bottom:solid\">\n",
    "        <th colspan=2 style=\"text-align:center\">cronbach_alpha(data, items=None, scores=None)</th>\n",
    "    </tr>\n",
    "    <tr>\n",
    "        <td style=\"text-align:left\">data</td>\n",
    "        <td style=\"text-align:left\">DataFrame</td>\n",
    "    </tr>\n",
    "    <tr style=\"text-align:left\" >\n",
    "        <td style=\"text-align:left\">item</td>\n",
    "        <td style=\"text-align:left\">String, column in \"data\" with the items names</td>\n",
    "    </tr>\n",
    "    <tr style=\"text-align:left; border-bottom:solid\" >\n",
    "        <td style=\"text-align:left\">scores</td>\n",
    "        <td style=\"text-align:left\">String, column in \"data\" with the scores</td>\n",
    "    </tr>\n",
    "</table>\n",
    "<br />"
   ]
  },
  {
   "cell_type": "markdown",
   "id": "5eb417ff-e775-433d-8757-3531744dd971",
   "metadata": {},
   "source": [
    "Suppose a survey to 10 respondents who can 3 quesions on a scale of 1 to 3."
   ]
  },
  {
   "cell_type": "code",
   "execution_count": 30,
   "id": "6d3d484b-3730-4d10-92fd-489adc16608e",
   "metadata": {},
   "outputs": [
    {
     "name": "stdout",
     "output_type": "stream",
     "text": [
      "(0.7734375, array([0.336, 0.939]))\n"
     ]
    }
   ],
   "source": [
    "import pandas as pd\n",
    "import pingouin as pg\n",
    "\n",
    "# enter survey responses as a DataFrame\n",
    "# 3 questions and 10 respondents\n",
    "df = pd.DataFrame({'Q1': [1, 2, 2, 3, 2, 2, 3, 3, 2, 3],\n",
    "                   'Q2': [1, 1, 1, 2, 3, 3, 2, 3, 3, 3],\n",
    "                   'Q3': [1, 1, 2, 1, 2, 3, 3, 3, 2, 3]})\n",
    "\n",
    "result = pg.cronbach_alpha(data = df)\n",
    "print(result)"
   ]
  },
  {
   "cell_type": "code",
   "execution_count": 31,
   "id": "d90c0cc8-1e16-4291-a3b9-56760948ae1f",
   "metadata": {},
   "outputs": [
    {
     "data": {
      "text/html": [
       "<div>\n",
       "<style scoped>\n",
       "    .dataframe tbody tr th:only-of-type {\n",
       "        vertical-align: middle;\n",
       "    }\n",
       "\n",
       "    .dataframe tbody tr th {\n",
       "        vertical-align: top;\n",
       "    }\n",
       "\n",
       "    .dataframe thead th {\n",
       "        text-align: right;\n",
       "    }\n",
       "</style>\n",
       "<table border=\"1\" class=\"dataframe\">\n",
       "  <thead>\n",
       "    <tr style=\"text-align: right;\">\n",
       "      <th></th>\n",
       "      <th>Q1</th>\n",
       "      <th>Q2</th>\n",
       "      <th>Q3</th>\n",
       "    </tr>\n",
       "  </thead>\n",
       "  <tbody>\n",
       "    <tr>\n",
       "      <th>0</th>\n",
       "      <td>1</td>\n",
       "      <td>1</td>\n",
       "      <td>1</td>\n",
       "    </tr>\n",
       "    <tr>\n",
       "      <th>1</th>\n",
       "      <td>2</td>\n",
       "      <td>1</td>\n",
       "      <td>1</td>\n",
       "    </tr>\n",
       "    <tr>\n",
       "      <th>2</th>\n",
       "      <td>2</td>\n",
       "      <td>1</td>\n",
       "      <td>2</td>\n",
       "    </tr>\n",
       "    <tr>\n",
       "      <th>3</th>\n",
       "      <td>3</td>\n",
       "      <td>2</td>\n",
       "      <td>1</td>\n",
       "    </tr>\n",
       "    <tr>\n",
       "      <th>4</th>\n",
       "      <td>2</td>\n",
       "      <td>3</td>\n",
       "      <td>2</td>\n",
       "    </tr>\n",
       "    <tr>\n",
       "      <th>5</th>\n",
       "      <td>2</td>\n",
       "      <td>3</td>\n",
       "      <td>3</td>\n",
       "    </tr>\n",
       "    <tr>\n",
       "      <th>6</th>\n",
       "      <td>3</td>\n",
       "      <td>2</td>\n",
       "      <td>3</td>\n",
       "    </tr>\n",
       "    <tr>\n",
       "      <th>7</th>\n",
       "      <td>3</td>\n",
       "      <td>3</td>\n",
       "      <td>3</td>\n",
       "    </tr>\n",
       "    <tr>\n",
       "      <th>8</th>\n",
       "      <td>2</td>\n",
       "      <td>3</td>\n",
       "      <td>2</td>\n",
       "    </tr>\n",
       "    <tr>\n",
       "      <th>9</th>\n",
       "      <td>3</td>\n",
       "      <td>3</td>\n",
       "      <td>3</td>\n",
       "    </tr>\n",
       "  </tbody>\n",
       "</table>\n",
       "</div>"
      ],
      "text/plain": [
       "   Q1  Q2  Q3\n",
       "0   1   1   1\n",
       "1   2   1   1\n",
       "2   2   1   2\n",
       "3   3   2   1\n",
       "4   2   3   2\n",
       "5   2   3   3\n",
       "6   3   2   3\n",
       "7   3   3   3\n",
       "8   2   3   2\n",
       "9   3   3   3"
      ]
     },
     "execution_count": 31,
     "metadata": {},
     "output_type": "execute_result"
    }
   ],
   "source": [
    "df"
   ]
  },
  {
   "cell_type": "markdown",
   "id": "77ff4b20-cfc4-4ae1-b27d-8ee9945346a2",
   "metadata": {},
   "source": [
    "This method return the `Cronbach's alpha` and the corresponding 95% confidence interval."
   ]
  },
  {
   "cell_type": "markdown",
   "id": "1afba227-4bf8-4dff-8ad9-b357a5824e71",
   "metadata": {},
   "source": [
    "2. **Test-Retest Reliability**\n",
    "\n",
    "   * Measures the stability of responses over time by administering the same test twice to the same group.\n",
    "   * Typically measured using `Pearson's correlation coefficient`.\n",
    "\n",
    "3. **Split-Half Reliability**\n",
    "\n",
    "   * Splits the items into two halves (e.g., odd vs. even items) and examines the correlation between them.\n",
    "   * Typically measured using `Pearson's correlation coefficient`.\n",
    "\n",
    "4. **Parallel Forms Reliability**\n",
    "\n",
    "   * Compares scores from two equivalent versions of the same instrument.\n",
    "   * Typically measured using `Pearson's correlation coefficient`."
   ]
  },
  {
   "cell_type": "markdown",
   "id": "87695d66-5775-4851-9b10-b6fb36a8cb16",
   "metadata": {},
   "source": [
    "### Validity\n",
    "<hr>"
   ]
  },
  {
   "cell_type": "markdown",
   "id": "322edf66-51e6-4241-a2d0-2b0c3b3c2491",
   "metadata": {},
   "source": [
    "`Validity` refers to whether a test or study measures what it claims to measure. For example, can a certain set of IQ test questions truly reflect a person's real intelligence?"
   ]
  },
  {
   "cell_type": "markdown",
   "id": "a5c4a8f7-c844-46b9-99c2-97043106a8c2",
   "metadata": {},
   "source": [
    "There are several common types of validity listed below."
   ]
  },
  {
   "cell_type": "markdown",
   "id": "90d19bdb-dbfd-4324-b2ed-6ad160552243",
   "metadata": {},
   "source": [
    "1. **Construct Validity**\n",
    "\n",
    "   - Assesses whether the instrument truly measures the theoretical construct it is intended to."
   ]
  },
  {
   "cell_type": "markdown",
   "id": "506d55ec-93cc-4b3c-a9f4-3be9947bc84f",
   "metadata": {},
   "source": [
    "Common Methods / Indicators:"
   ]
  },
  {
   "cell_type": "markdown",
   "id": "182a5882-950e-4b4a-8d65-4aa3191442f7",
   "metadata": {},
   "source": [
    "- Exploratory Factor Analysis (EFA): Identifies underlying factor structures.\n",
    "\n",
    "- Confirmatory Factor Analysis (CFA): Tests how well the proposed model fits the observed data. Key fit indices include:\n",
    "\n",
    "    - Chi-square/df ratio (χ²/df)\n",
    "\n",
    "    - RMSEA (Root Mean Square Error of Approximation)\n",
    "\n",
    "    - CFI (Comparative Fit Index)\n",
    "\n",
    "    - TLI (Tucker-Lewis Index)\n",
    "\n",
    "    - SRMR (Standardized Root Mean Square Residual)\n",
    "\n",
    "- Average Variance Extracted (AVE): Assesses convergent validity (AVE ≥ 0.50 is acceptable).\n",
    "\n",
    "- Composite Reliability (CR): Evaluates internal consistency of latent variables."
   ]
  },
  {
   "cell_type": "code",
   "execution_count": 32,
   "id": "f2539e66-81e3-4b31-8f0b-5212f137dd10",
   "metadata": {},
   "outputs": [
    {
     "name": "stdout",
     "output_type": "stream",
     "text": [
      "Sample of simulated data:\n",
      "    BI1   BI2   BI3   CS1   CS2   CS3   CL1   CL2   CL3\n",
      "0  3.61  3.38  3.51  3.50  2.92  2.72  3.60  3.81  4.09\n",
      "1  3.25  2.92  2.88  2.17  2.08  2.15  2.58  2.35  2.58\n",
      "2  3.24  3.87  3.84  3.91  3.98  3.35  4.17  4.13  4.02\n",
      "3  5.00  4.43  4.59  4.64  4.23  4.42  5.00  4.71  5.00\n",
      "4  2.84  3.24  2.74  3.31  3.09  2.75  3.18  2.61  3.14\n",
      "\n",
      "Path coefficients and loadings:\n",
      "          lval  op        rval  Estimate  Std. Err    z-value p-value\n",
      "0    CustSatis   ~  BrandImage  0.709236   0.03749  18.917873     0.0\n",
      "1    CustLoyal   ~  BrandImage  0.387517  0.062313   6.218918     0.0\n",
      "2    CustLoyal   ~   CustSatis  0.523219  0.072201   7.246728     0.0\n",
      "3          BI1   ~  BrandImage  1.000000         -          -       -\n",
      "4          BI2   ~  BrandImage  1.002784  0.028184  35.579707     0.0\n",
      "5          BI3   ~  BrandImage  1.001898  0.026477  37.839803     0.0\n",
      "6          CS1   ~   CustSatis  1.000000         -          -       -\n",
      "7          CS2   ~   CustSatis  1.017068  0.031746  32.037818     0.0\n",
      "8          CS3   ~   CustSatis  1.020083   0.03155  32.332258     0.0\n",
      "9          CL1   ~   CustLoyal  1.000000         -          -       -\n",
      "10         CL2   ~   CustLoyal  0.984247  0.030295  32.488874     0.0\n",
      "11         CL3   ~   CustLoyal  0.991337  0.029433  33.681674     0.0\n",
      "12  BrandImage  ~~  BrandImage  0.836975   0.07641  10.953723     0.0\n",
      "13   CustLoyal  ~~   CustLoyal  0.230511  0.023737   9.711127     0.0\n",
      "14   CustSatis  ~~   CustSatis  0.216178  0.022634   9.550881     0.0\n",
      "15         BI1  ~~         BI1  0.099511  0.011128   8.942749     0.0\n",
      "16         BI2  ~~         BI2  0.087463  0.010389   8.418935     0.0\n",
      "17         BI3  ~~         BI3  0.062655  0.008973   6.982522     0.0\n",
      "18         CL1  ~~         CL1  0.088391  0.011319    7.80931     0.0\n",
      "19         CL2  ~~         CL2  0.107971  0.012342   8.748523     0.0\n",
      "20         CL3  ~~         CL3  0.093782  0.011532   8.132006     0.0\n",
      "21         CS1  ~~         CS1  0.094921  0.010637   8.923431     0.0\n",
      "22         CS2  ~~         CS2  0.078827  0.009771   8.067567     0.0\n",
      "23         CS3  ~~         CS3  0.075548  0.009606   7.864844     0.0\n",
      "\n",
      "Model fit indices:\n",
      "            CFI       TLI     RMSEA        AIC         BIC\n",
      "Value  0.999754  0.999631  0.011327  41.833862  119.613294\n"
     ]
    }
   ],
   "source": [
    "import numpy as np\n",
    "import pandas as pd\n",
    "from semopy import Model, calc_stats\n",
    "\n",
    "# Set random seed for reproducibility\n",
    "np.random.seed(42)\n",
    "n_samples = 300\n",
    "\n",
    "# Generate latent variables with assumed relationships\n",
    "# BrandImage ~ N(0,1)\n",
    "BrandImage = np.random.normal(0, 1, n_samples)\n",
    "# Customer Satisfaction influenced by BrandImage + noise\n",
    "CustSatis = 0.7 * BrandImage + np.random.normal(0, 0.5, n_samples)\n",
    "# Customer Loyalty influenced by BrandImage and CustSatis + noise\n",
    "CustLoyal = 0.3 * BrandImage + 0.6 * CustSatis + np.random.normal(0, 0.5, n_samples)\n",
    "\n",
    "# Function to generate observed indicators from latent variables\n",
    "def generate_indicators(latent_var):\n",
    "    # Each latent variable is measured by 3 indicators with measurement error (std=0.3)\n",
    "    return latent_var.reshape(-1, 1) + np.random.normal(0, 0.3, (n_samples, 3))\n",
    "\n",
    "# Generate observed variables for each latent variable\n",
    "BI = generate_indicators(BrandImage)  # Brand Image indicators\n",
    "CS = generate_indicators(CustSatis)   # Customer Satisfaction indicators\n",
    "CL = generate_indicators(CustLoyal)   # Customer Loyalty indicators\n",
    "\n",
    "# Combine all observed indicators into one dataset\n",
    "data = np.hstack([BI, CS, CL])\n",
    "\n",
    "# Create DataFrame with appropriate column names matching SEM model\n",
    "columns = ['BI1', 'BI2', 'BI3', 'CS1', 'CS2', 'CS3', 'CL1', 'CL2', 'CL3']\n",
    "df = pd.DataFrame(data, columns=columns)\n",
    "\n",
    "# Transform data to simulate Likert-scale scores (1 to 5)\n",
    "df = 3 + df          # Shift mean to around 3\n",
    "df = df.clip(1, 5)   # Clip values to range [1, 5]\n",
    "df = df.round(2)     # Round to 2 decimal places\n",
    "\n",
    "print(\"Sample of simulated data:\")\n",
    "print(df.head())\n",
    "\n",
    "# Define SEM model using lavaan-style syntax\n",
    "model_desc = '''\n",
    "BrandImage =~ BI1 + BI2 + BI3\n",
    "CustSatis =~ CS1 + CS2 + CS3\n",
    "CustLoyal =~ CL1 + CL2 + CL3\n",
    "\n",
    "CustSatis ~ BrandImage\n",
    "CustLoyal ~ BrandImage + CustSatis\n",
    "'''\n",
    "\n",
    "# Initialize and fit SEM model\n",
    "model = Model(model_desc)\n",
    "model.fit(df)\n",
    "\n",
    "# Inspect and print path coefficients and loadings\n",
    "print(\"\\nPath coefficients and loadings:\")\n",
    "print(model.inspect())\n",
    "\n",
    "# Calculate and print model fit statistics (CFI, TLI, RMSEA, AIC, BIC)\n",
    "stats = calc_stats(model)\n",
    "print(\"\\nModel fit indices:\")\n",
    "print(stats[['CFI', 'TLI', 'RMSEA', 'AIC', 'BIC']])\n"
   ]
  },
  {
   "cell_type": "code",
   "execution_count": 33,
   "id": "a15100d2-7630-4191-92fb-0ce53e3f3b73",
   "metadata": {},
   "outputs": [
    {
     "ename": "ImportError",
     "evalue": "cannot import name 'bootstrap' from 'semopy' (/opt/anaconda3/lib/python3.12/site-packages/semopy/__init__.py)",
     "output_type": "error",
     "traceback": [
      "\u001b[0;31m---------------------------------------------------------------------------\u001b[0m",
      "\u001b[0;31mImportError\u001b[0m                               Traceback (most recent call last)",
      "Cell \u001b[0;32mIn[33], line 10\u001b[0m\n\u001b[1;32m      8\u001b[0m \u001b[38;5;28;01mimport\u001b[39;00m \u001b[38;5;21;01mpandas\u001b[39;00m \u001b[38;5;28;01mas\u001b[39;00m \u001b[38;5;21;01mpd\u001b[39;00m\n\u001b[1;32m      9\u001b[0m \u001b[38;5;28;01mimport\u001b[39;00m \u001b[38;5;21;01mmatplotlib\u001b[39;00m\u001b[38;5;21;01m.\u001b[39;00m\u001b[38;5;21;01mpyplot\u001b[39;00m \u001b[38;5;28;01mas\u001b[39;00m \u001b[38;5;21;01mplt\u001b[39;00m\n\u001b[0;32m---> 10\u001b[0m \u001b[38;5;28;01mfrom\u001b[39;00m \u001b[38;5;21;01msemopy\u001b[39;00m \u001b[38;5;28;01mimport\u001b[39;00m Model, bootstrap, calc_lrtest\n\u001b[1;32m     11\u001b[0m \u001b[38;5;28;01mfrom\u001b[39;00m \u001b[38;5;21;01msemopy\u001b[39;00m\u001b[38;5;21;01m.\u001b[39;00m\u001b[38;5;21;01msemplot\u001b[39;00m \u001b[38;5;28;01mimport\u001b[39;00m semplot\n\u001b[1;32m     13\u001b[0m \u001b[38;5;66;03m# ======================\u001b[39;00m\n\u001b[1;32m     14\u001b[0m \u001b[38;5;66;03m# 1. 模拟数据生成\u001b[39;00m\n\u001b[1;32m     15\u001b[0m \u001b[38;5;66;03m# ======================\u001b[39;00m\n",
      "\u001b[0;31mImportError\u001b[0m: cannot import name 'bootstrap' from 'semopy' (/opt/anaconda3/lib/python3.12/site-packages/semopy/__init__.py)"
     ]
    }
   ],
   "source": [
    "# -*- coding: utf-8 -*-\n",
    "\"\"\"\n",
    "完整结构方程模型（SEM）分析示例：社交媒体广告对购买意愿的影响\n",
    "包含：测量模型、结构模型、中介效应、调节效应（多群组分析）\n",
    "\"\"\"\n",
    "\n",
    "import numpy as np\n",
    "import pandas as pd\n",
    "import matplotlib.pyplot as plt\n",
    "from semopy import Model, bootstrap, calc_lrtest\n",
    "from semopy.semplot import semplot\n",
    "\n",
    "# ======================\n",
    "# 1. 模拟数据生成\n",
    "# ======================\n",
    "np.random.seed(123)\n",
    "n = 300  # 样本量\n",
    "\n",
    "# 潜变量真实得分（用于生成题项）\n",
    "latent_ad = np.random.normal(5, 1, n)    # 广告吸引力潜变量\n",
    "latent_trust = 0.6 * latent_ad + np.random.normal(0, 1, n)  # 品牌信任（受广告影响）\n",
    "latent_purchase = 0.7 * latent_trust + 0.3 * latent_ad + np.random.normal(0, 1, n)  # 购买意愿\n",
    "\n",
    "# 生成观测题项（带测量误差）\n",
    "data = pd.DataFrame({\n",
    "    # 广告吸引力题项（3个）\n",
    "    'ad1': latent_ad + np.random.normal(0, 0.5, n),\n",
    "    'ad2': latent_ad + np.random.normal(0, 0.5, n),\n",
    "    'ad3': latent_ad + np.random.normal(0, 0.5, n),\n",
    "    \n",
    "    # 品牌信任题项（3个）\n",
    "    'trust1': latent_trust + np.random.normal(0, 0.5, n),\n",
    "    'trust2': latent_trust + np.random.normal(0, 0.5, n),\n",
    "    'trust3': latent_trust + np.random.normal(0, 0.5, n),\n",
    "    \n",
    "    # 购买意愿题项（2个）\n",
    "    'purchase1': latent_purchase + np.random.normal(0, 0.5, n),\n",
    "    'purchase2': latent_purchase + np.random.normal(0, 0.5, n),\n",
    "    \n",
    "    # 调节变量（个人创新性，0=低，1=高）\n",
    "    'group': np.random.binomial(1, 0.5, n)  # 随机分组\n",
    "})\n",
    "\n",
    "# ======================\n",
    "# 2. 定义SEM模型\n",
    "# ======================\n",
    "model_spec = '''\n",
    "    # 测量模型（CFA部分）\n",
    "    广告吸引力 =~ ad1 + ad2 + ad3\n",
    "    品牌信任 =~ trust1 + trust2 + trust3\n",
    "    购买意愿 =~ purchase1 + purchase2\n",
    "    \n",
    "    # 结构模型（路径分析）\n",
    "    品牌信任 ~ 广告吸引力\n",
    "    购买意愿 ~ 品牌信任 + 广告吸引力\n",
    "'''\n",
    "\n",
    "# ======================\n",
    "# 3. 模型拟合与结果\n",
    "# ======================\n",
    "model = Model(model_spec)\n",
    "result = model.fit(data)\n",
    "print(\"=== 模型拟合结果 ===\")\n",
    "print(result)\n",
    "print(\"\\n=== 标准化系数 ===\")\n",
    "print(model.inspect(std_est=True))\n",
    "\n",
    "# ======================\n",
    "# 4. 中介效应检验（Bootstrap）\n",
    "# ======================\n",
    "mediation_spec = '''\n",
    "    广告吸引力 =~ ad1 + ad2 + ad3\n",
    "    品牌信任 =~ trust1 + trust2 + trust3\n",
    "    购买意愿 =~ purchase1 + purchase2\n",
    "    \n",
    "    # 命名路径系数\n",
    "    品牌信任 ~ a*广告吸引力\n",
    "    购买意愿 ~ b*品牌信任 + c*广告吸引力\n",
    "    \n",
    "    # 定义效应\n",
    "    间接 := a*b\n",
    "    总效应 := c + a*b\n",
    "'''\n",
    "\n",
    "mediation_model = Model(mediation_spec)\n",
    "mediation_model.fit(data)\n",
    "bootstrap_results = bootstrap(mediation_model, data, n=1000)\n",
    "\n",
    "print(\"\\n=== 中介效应 ===\")\n",
    "print(f\"间接效应估计值: {bootstrap_results['indirect'].mean():.3f}\")\n",
    "print(f\"95%置信区间: [{np.percentile(bootstrap_results['indirect'], 2.5):.3f}, \"\n",
    "      f\"{np.percentile(bootstrap_results['indirect'], 97.5):.3f}]\")\n",
    "\n",
    "# ======================\n",
    "# 5. 调节效应分析（多群组）\n",
    "# ======================\n",
    "# 按调节变量分组\n",
    "group0 = data[data['group'] == 0]  # 低创新性组\n",
    "group1 = data[data['group'] == 1]  # 高创新性组\n",
    "\n",
    "# 分别拟合模型\n",
    "model_group0 = Model(model_spec).fit(group0)\n",
    "model_group1 = Model(model_spec).fit(group1)\n",
    "\n",
    "# 提取关键路径系数\n",
    "beta_group0 = model_group0.inspect().loc['品牌信任~广告吸引力', 'Estimate']\n",
    "beta_group1 = model_group1.inspect().loc['品牌信任~广告吸引力', 'Estimate']\n",
    "\n",
    "print(\"\\n=== 调节效应 ===\")\n",
    "print(f\"低创新性组路径系数: {beta_group0:.3f}\")\n",
    "print(f\"高创新性组路径系数: {beta_group1:.3f}\")\n",
    "\n",
    "# 似然比检验（比较两组模型）\n",
    "lrtest = calc_lrtest(model_group0, model_group1)\n",
    "print(f\"路径系数差异显著性(p值): {lrtest.pvalue:.4f}\")\n",
    "\n",
    "# ======================\n",
    "# 6. 可视化\n",
    "# ======================\n",
    "# 绘制路径图（需安装graphviz）\n",
    "plt.figure(figsize=(10, 6))\n",
    "semplot(model, \"model.png\", plot_covs=True, show=True)\n",
    "\n",
    "# 绘制调节效应图\n",
    "plt.figure(figsize=(8, 5))\n",
    "groups = ['低创新性', '高创新性']\n",
    "coefs = [beta_group0, beta_group1]\n",
    "plt.bar(groups, coefs, color=['skyblue', 'salmon'])\n",
    "plt.title(\"广告吸引力→品牌信任的调节效应\")\n",
    "plt.ylabel(\"路径系数\")\n",
    "plt.grid(axis='y', linestyle='--', alpha=0.7)\n",
    "plt.show()\n"
   ]
  },
  {
   "cell_type": "markdown",
   "id": "adfb323c-7a65-47a1-957b-eccbc095a615",
   "metadata": {},
   "source": [
    "3. Discriminant Validity\n",
    "   - Assesses the extent to which constructs that should not be related are indeed distinct."
   ]
  },
  {
   "cell_type": "markdown",
   "id": "80d3e436-a2f6-451e-8fa5-a3b48106f685",
   "metadata": {},
   "source": [
    "Common Methods / Indicators:\n",
    "\n",
    "- Fornell-Larcker Criterion: The square root of the AVE for each construct should be greater than its correlations with other constructs.\n",
    "\n",
    "- HTMT Ratio (Heterotrait-Monotrait): Measures inter-construct correlations. HTMT values < 0.85 (or 0.90) are considered acceptable."
   ]
  },
  {
   "cell_type": "markdown",
   "id": "6a501d11-5ac9-4271-9760-d16471a79792",
   "metadata": {},
   "source": [
    "3. **Content Validity**\n",
    "\n",
    "   - Examines whether the items adequately cover the domain of the construct."
   ]
  },
  {
   "cell_type": "markdown",
   "id": "7e384f50-bac7-46ce-8d7c-bd785eee7686",
   "metadata": {},
   "source": [
    "How to do?\n",
    "\n",
    "- Expert review (at least three subject matter experts assess the relevance of each item).\n",
    "\n",
    "- Pilot study (feedback from a small sample of respondents is used to revise unclear wording)."
   ]
  },
  {
   "cell_type": "markdown",
   "id": "16a3933a",
   "metadata": {},
   "source": [
    "## Exercises\n",
    "<hr>"
   ]
  },
  {
   "cell_type": "markdown",
   "id": "91efcfdb",
   "metadata": {},
   "source": [
    "```{exercise}\n",
    ":label: statistic\n",
    "使用python 中的`statsmodels`库或`sklearn`库，编程实现《统计学》或《计量经济学》课程上的一些数据分析习题。\n",
    "\n",
    "```"
   ]
  },
  {
   "cell_type": "markdown",
   "id": "5e777e6d",
   "metadata": {},
   "source": [
    "<script src=\"https://giscus.app/client.js\"\n",
    "        data-repo=\"robinchen121/book-Python-Data-Science\"\n",
    "        data-repo-id=\"R_kgDOKFdyOw\"\n",
    "        data-category=\"Announcements\"\n",
    "        data-category-id=\"DIC_kwDOKFdyO84CgWHi\"\n",
    "        data-mapping=\"pathname\"\n",
    "        data-strict=\"0\"\n",
    "        data-reactions-enabled=\"1\"\n",
    "        data-emit-metadata=\"0\"\n",
    "        data-input-position=\"bottom\"\n",
    "        data-theme=\"light\"\n",
    "        data-lang=\"en\"\n",
    "        crossorigin=\"anonymous\"\n",
    "        async>\n",
    "</script>"
   ]
  },
  {
   "cell_type": "markdown",
   "id": "4db20c4d",
   "metadata": {},
   "source": [
    "<!-- Toogle google translation -->\n",
    "<div id=\"google_translate_element\"></div>\n",
    "<script type=\"text/javascript\">\n",
    "      function googleTranslateElementInit() {\n",
    "        new google.translate.TranslateElement({ pageLanguage: 'en',\n",
    "                  includedLanguages: 'en,zh-CN,zh-TW,ja,ko,de,ru,fr,es,it,pt,hi,ar,fa',\n",
    "layout: google.translate.TranslateElement.InlineLayout.SIMPLE }, 'google_translate_element');\n",
    "      }\n",
    "</script>\n",
    "<script type=\"text/javascript\"\n",
    "      src=\"https://translate.google.com/translate_a/element.js?cb=googleTranslateElementInit\"\n",
    "></script>\n",
    "<br>"
   ]
  }
 ],
 "metadata": {
  "celltoolbar": "幻灯片",
  "kernelspec": {
   "display_name": "Python [conda env:base] *",
   "language": "python",
   "name": "conda-base-py"
  },
  "language_info": {
   "codemirror_mode": {
    "name": "ipython",
    "version": 3
   },
   "file_extension": ".py",
   "mimetype": "text/x-python",
   "name": "python",
   "nbconvert_exporter": "python",
   "pygments_lexer": "ipython3",
   "version": "3.12.2"
  }
 },
 "nbformat": 4,
 "nbformat_minor": 5
}