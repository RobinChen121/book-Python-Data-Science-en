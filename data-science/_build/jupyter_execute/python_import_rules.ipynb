{
 "cells": [
  {
   "cell_type": "markdown",
   "id": "c2fa4099-98eb-4094-b11d-cad296ddf4fd",
   "metadata": {},
   "source": [
    "# Python 导入其他文件夹中的 Module 规则\n",
    "\n",
    "在 Python 中导入其他文件夹中的模块（module）时，有几个规则和方法可供使用。主要涉及 Python 的 **模块搜索路径（sys.path）**，以及如何使用 **相对导入** 和 **绝对导入**。\n",
    "\n",
    "## **1. Python 如何查找模块**\n",
    "当 `import module_name` 运行时，Python 按照以下顺序查找模块：\n",
    "1. **当前目录**（脚本所在的文件夹）。\n",
    "2. **`sys.path` 中的目录**：\n",
    "   - `PYTHONPATH` 环境变量中的路径。\n",
    "   - Python 安装目录中的标准库路径。\n",
    "   - `site-packages` 目录（安装的第三方库）。\n",
    "\n",
    "你可以运行以下代码查看 Python 查找模块的路径：\n"
   ]
  },
  {
   "cell_type": "markdown",
   "id": "a1bf5253",
   "metadata": {},
   "source": [
    "## **2. 导入其他文件夹中的模块的方法**\n",
    "如果你的模块不在默认的搜索路径中，你可以使用以下方法导入：\n",
    "\n",
    "### **方法 1：使用 `sys.path.append()`（动态导入）**\n",
    "如果你想导入 `other_folder/module.py`，可以在代码中手动添加路径：\n"
   ]
  },
  {
   "cell_type": "code",
   "execution_count": 1,
   "id": "930ac1ad",
   "metadata": {},
   "outputs": [
    {
     "ename": "ModuleNotFoundError",
     "evalue": "No module named 'module'",
     "output_type": "error",
     "traceback": [
      "\u001b[0;31m---------------------------------------------------------------------------\u001b[0m",
      "\u001b[0;31mModuleNotFoundError\u001b[0m                       Traceback (most recent call last)",
      "Cell \u001b[0;32mIn[1], line 5\u001b[0m\n\u001b[1;32m      2\u001b[0m \u001b[38;5;28;01mimport\u001b[39;00m \u001b[38;5;21;01mos\u001b[39;00m\n\u001b[1;32m      4\u001b[0m sys\u001b[38;5;241m.\u001b[39mpath\u001b[38;5;241m.\u001b[39mappend(os\u001b[38;5;241m.\u001b[39mpath\u001b[38;5;241m.\u001b[39mabspath(\u001b[38;5;124m\"\u001b[39m\u001b[38;5;124mother_folder\u001b[39m\u001b[38;5;124m\"\u001b[39m))  \u001b[38;5;66;03m# 绝对路径\u001b[39;00m\n\u001b[0;32m----> 5\u001b[0m \u001b[38;5;28;01mimport\u001b[39;00m \u001b[38;5;21;01mmodule\u001b[39;00m\n",
      "\u001b[0;31mModuleNotFoundError\u001b[0m: No module named 'module'"
     ]
    }
   ],
   "source": [
    "import sys\n",
    "import os\n",
    "\n",
    "sys.path.append(os.path.abspath(\"other_folder\"))  # 绝对路径\n",
    "import module  # 现在可以正常导入\n"
   ]
  },
  {
   "cell_type": "markdown",
   "id": "b01e105b",
   "metadata": {},
   "source": [
    "### **方法 2：使用 `PYTHONPATH` 环境变量**\n",
    "如果你不想在代码中修改 `sys.path`，可以在环境变量中设置 `PYTHONPATH`：\n",
    "\n",
    "```bash\n",
    "export PYTHONPATH=$PYTHONPATH:/path/to/other_folder\n",
    "```\n",
    "\n",
    "然后你可以直接 `import module`。\n",
    "\n",
    "### **方法 3：使用 `package` 和 `__init__.py`（推荐方式）**\n",
    "另外一个比较好的做法是将想要导入的文件夹变成 **包（package）** 结构：\n",
    "\n",
    "#### **目录结构**\n",
    "```\n",
    "project_root/\n",
    "│── main.py\n",
    "│── my_package/\n",
    "│   │── __init__.py\n",
    "│   │── my_module.py\n",
    "```\n",
    "#### **导入方式**\n",
    "在 `main.py` 中：\n"
   ]
  },
  {
   "cell_type": "markdown",
   "id": "2f4edcb4-17b0-4343-a02c-57c5d43c76e3",
   "metadata": {},
   "source": [
    "```{code} python3\n",
    "from my_package import my_module\n",
    "```"
   ]
  },
  {
   "cell_type": "markdown",
   "id": "d28258f2",
   "metadata": {},
   "source": [
    "### **方法 4：使用 `importlib` 动态导入**\n",
    "如果你只知道模块路径，但不想改动 `sys.path`，可以使用 `importlib`：\n"
   ]
  },
  {
   "cell_type": "code",
   "execution_count": null,
   "id": "76c0ab05",
   "metadata": {},
   "outputs": [],
   "source": [
    "import importlib.util\n",
    "\n",
    "module_path = \"other_folder/module.py\"\n",
    "module_name = \"module\"\n",
    "\n",
    "spec = importlib.util.spec_from_file_location(module_name, module_path)\n",
    "module = importlib.util.module_from_spec(spec)\n",
    "spec.loader.exec_module(module)\n",
    "\n",
    "# 现在可以使用 module 了\n",
    "module.some_function()\n"
   ]
  },
  {
   "cell_type": "markdown",
   "id": "ab172084",
   "metadata": {},
   "source": [
    "### **方法 5：使用 `setuptools` 安装本地模块**\n",
    "如果你的模块在 `my_package/` 目录下，并且你希望以 Python 包的形式导入，可以在 `setup.py` 中定义：\n",
    "\n",
    "```python\n",
    "from setuptools import setup, find_packages\n",
    "\n",
    "setup(\n",
    "    name=\"my_package\",\n",
    "    version=\"0.1\",\n",
    "    packages=find_packages(),\n",
    ")\n",
    "```\n",
    "\n",
    "然后运行：\n",
    "```bash\n",
    "pip install -e .\n",
    "```\n",
    "\n",
    "这样，`my_package` 就可以像普通 Python 库一样被导入：\n"
   ]
  },
  {
   "cell_type": "code",
   "execution_count": null,
   "id": "1c734f47",
   "metadata": {},
   "outputs": [],
   "source": [
    "import my_package.my_module\n"
   ]
  },
  {
   "cell_type": "markdown",
   "id": "cd308316",
   "metadata": {},
   "source": [
    "## **3. 相对导入 vs 绝对导入**\n",
    "如果你的模块在 **同一个 package** 内，使用 **相对导入** 会更方便：\n",
    "\n",
    "```python\n",
    "# 在 my_package/my_module.py 中\n",
    "from . import another_module  # 相对导入\n",
    "```\n",
    "\n",
    "但在 `main.py` 运行时，**相对导入可能会失败**，此时需要使用绝对导入：\n",
    "\n",
    "```python\n",
    "from my_package import my_module\n",
    "```\n",
    "\n",
    "### **相对导入适用于：**\n",
    "- 同一个包（package）内的模块导入。\n",
    "- 需要更便捷地组织代码，不依赖全局 `sys.path`。\n",
    "\n",
    "---\n",
    "\n",
    "## **4. 总结**\n",
    "| 方法 | 适用场景 | 代码示例 |\n",
    "|------|------|------|\n",
    "| **修改 `sys.path`** | 临时添加路径 | `sys.path.append(\"/path/to/module\")` |\n",
    "| **环境变量 `PYTHONPATH`** | 适用于开发环境 | `export PYTHONPATH=$PYTHONPATH:/path/to/module` |\n",
    "| **Python package 结构（推荐）** | 组织良好的项目 | `from my_package import my_module` |\n",
    "| **`importlib` 动态加载** | 需要动态导入模块 | 使用 `importlib.util` |\n",
    "| **`setuptools` 方式** | 需要安装本地模块 | `pip install -e .` |\n",
    "\n",
    "如果是 **正式项目**，推荐使用 **方法 3（package 结构）** 或 **方法 5（setuptools 安装）**，避免修改 `sys.path`。\n",
    "\n",
    "如果你的 `import` 失败，可以先 `print(sys.path)` 看看 Python 是否找得到你的包！🚀\n"
   ]
  },
  {
   "cell_type": "code",
   "execution_count": null,
   "id": "460adda2-cc10-43d3-9fe1-1f1d0ba75fb9",
   "metadata": {},
   "outputs": [],
   "source": []
  }
 ],
 "metadata": {
  "kernelspec": {
   "display_name": "Python 3 (ipykernel)",
   "language": "python",
   "name": "python3"
  },
  "language_info": {
   "codemirror_mode": {
    "name": "ipython",
    "version": 3
   },
   "file_extension": ".py",
   "mimetype": "text/x-python",
   "name": "python",
   "nbconvert_exporter": "python",
   "pygments_lexer": "ipython3",
   "version": "3.10.9"
  }
 },
 "nbformat": 4,
 "nbformat_minor": 5
}