{
 "cells": [
  {
   "cell_type": "markdown",
   "id": "52cd63e0",
   "metadata": {
    "slideshow": {
     "slide_type": "slide"
    }
   },
   "source": [
    "# Introduction to Numpy\n",
    "<hr>\n",
    "\n",
    "`Numpy` is a crucial extension library in Python that provides extensive support for **array and matrix operations**, along with a comprehensive collection of mathematical methods designed to emulate the capabilities of mathematical software like MATLAB. NumPy is indispensable for data science, engineering, and research due to its efficiency and integration with other key libraries like `Pandas`, `Matplotlib`, `Scipy`, etc."
   ]
  },
  {
   "cell_type": "markdown",
   "id": "0e585d95",
   "metadata": {
    "slideshow": {
     "slide_type": "fragment"
    }
   },
   "source": [
    "Key Features of NumPy:\n",
    "- Multi-dimensional Arrays:\n",
    "    - Efficient ndarray objects for numerical computations\n",
    "    - Supports vectorized operations\n",
    "\n",
    "- Mathematical methods:\n",
    "    - Linear algebra, Fourier transforms, random number generation, etc."
   ]
  },
  {
   "cell_type": "markdown",
   "id": "0646fead",
   "metadata": {
    "slideshow": {
     "slide_type": "subslide"
    }
   },
   "source": [
    "We first need to import the `numpy` library before using it:"
   ]
  },
  {
   "cell_type": "code",
   "execution_count": 1,
   "id": "1b2abf81",
   "metadata": {
    "slideshow": {
     "slide_type": "fragment"
    }
   },
   "outputs": [],
   "source": [
    "import numpy as np"
   ]
  },
  {
   "cell_type": "markdown",
   "id": "a2d33764",
   "metadata": {
    "slideshow": {
     "slide_type": "subslide"
    }
   },
   "source": [
    "## Create an array\n",
    "<hr>\n",
    "\n",
    "The `array` method in NumPy can directly convert Python's sequence type into NumPy's array type `ndarray`. "
   ]
  },
  {
   "cell_type": "markdown",
   "id": "83c4852c-f41a-492f-8f47-31932f2108b5",
   "metadata": {},
   "source": [
    "For example, a one-dimensional array:"
   ]
  },
  {
   "cell_type": "code",
   "execution_count": 2,
   "id": "51ad7ee9",
   "metadata": {
    "slideshow": {
     "slide_type": "fragment"
    }
   },
   "outputs": [
    {
     "name": "stdout",
     "output_type": "stream",
     "text": [
      "[1 2 3 4]\n"
     ]
    },
    {
     "data": {
      "text/plain": [
       "numpy.ndarray"
      ]
     },
     "execution_count": 2,
     "metadata": {},
     "output_type": "execute_result"
    }
   ],
   "source": [
    "a = np.array((1, 2, 3, 4))\n",
    "print(a)\n",
    "type(a)"
   ]
  },
  {
   "cell_type": "markdown",
   "id": "be6278b4",
   "metadata": {
    "slideshow": {
     "slide_type": "subslide"
    }
   },
   "source": [
    "A two-dimensional array:"
   ]
  },
  {
   "cell_type": "code",
   "execution_count": 3,
   "id": "f15255ba",
   "metadata": {
    "slideshow": {
     "slide_type": "fragment"
    }
   },
   "outputs": [
    {
     "data": {
      "text/plain": [
       "array([[1, 2],\n",
       "       [3, 4]])"
      ]
     },
     "execution_count": 3,
     "metadata": {},
     "output_type": "execute_result"
    }
   ],
   "source": [
    "b = [[1, 2], [3, 4]]\n",
    "a = np.array(b)\n",
    "a"
   ]
  },
  {
   "cell_type": "markdown",
   "id": "28636e1f",
   "metadata": {
    "slideshow": {
     "slide_type": "fragment"
    }
   },
   "source": [
    "```{note}\n",
    "The parentheses in the `array` method must **include a sequence type**; it cannot be written directly as np.array(1, 2, 3, 4).\n",
    "```"
   ]
  },
  {
   "cell_type": "markdown",
   "id": "e5126026",
   "metadata": {
    "slideshow": {
     "slide_type": "subslide"
    }
   },
   "source": [
    "In NumPy, the `zeros` method can create a matrix with all elements set to 0, the `ones` method can create a matrix with all elements set to 1, and the `empty` method can create an uninitialized matrix with **arbitrary element values**."
   ]
  },
  {
   "cell_type": "code",
   "execution_count": 4,
   "id": "41e4b447",
   "metadata": {
    "slideshow": {
     "slide_type": "fragment"
    }
   },
   "outputs": [
    {
     "data": {
      "text/plain": [
       "array([[0., 0., 0., 0.],\n",
       "       [0., 0., 0., 0.],\n",
       "       [0., 0., 0., 0.]])"
      ]
     },
     "execution_count": 4,
     "metadata": {},
     "output_type": "execute_result"
    }
   ],
   "source": [
    "np.zeros((3, 4))  # a zero matrix of 3 rows and 4 columns"
   ]
  },
  {
   "cell_type": "code",
   "execution_count": 5,
   "id": "7341a912",
   "metadata": {
    "slideshow": {
     "slide_type": "fragment"
    }
   },
   "outputs": [
    {
     "data": {
      "text/plain": [
       "array([[1., 1., 1., 1.],\n",
       "       [1., 1., 1., 1.],\n",
       "       [1., 1., 1., 1.]])"
      ]
     },
     "execution_count": 5,
     "metadata": {},
     "output_type": "execute_result"
    }
   ],
   "source": [
    "np.ones((3, 4))  # a ones matrix of 3 rows and 4 columns"
   ]
  },
  {
   "cell_type": "code",
   "execution_count": 6,
   "id": "2c6d8d15",
   "metadata": {
    "slideshow": {
     "slide_type": "subslide"
    }
   },
   "outputs": [
    {
     "data": {
      "text/plain": [
       "array([[1., 1., 1., 1.],\n",
       "       [1., 1., 1., 1.],\n",
       "       [1., 1., 1., 1.]])"
      ]
     },
     "execution_count": 6,
     "metadata": {},
     "output_type": "execute_result"
    }
   ],
   "source": [
    "np.empty((3, 4))  # an empty matrix of 3 rows and 4 columns"
   ]
  },
  {
   "cell_type": "markdown",
   "id": "0ab852d6",
   "metadata": {
    "slideshow": {
     "slide_type": "subslide"
    }
   },
   "source": [
    "In NumPy, the `arange` method can generate an array with an arithmetic sequence."
   ]
  },
  {
   "cell_type": "code",
   "execution_count": 7,
   "id": "82dcc634",
   "metadata": {
    "slideshow": {
     "slide_type": "fragment"
    }
   },
   "outputs": [
    {
     "data": {
      "text/plain": [
       "array([0, 1, 2, 3, 4, 5, 6, 7, 8, 9])"
      ]
     },
     "execution_count": 7,
     "metadata": {},
     "output_type": "execute_result"
    }
   ],
   "source": [
    "np.arange(10)  # generate an array from 0 to 10 (exclusive) with a default step size of 1"
   ]
  },
  {
   "cell_type": "code",
   "execution_count": 8,
   "id": "eee5048c",
   "metadata": {
    "slideshow": {
     "slide_type": "fragment"
    }
   },
   "outputs": [
    {
     "data": {
      "text/plain": [
       "array([5, 6, 7, 8, 9])"
      ]
     },
     "execution_count": 8,
     "metadata": {},
     "output_type": "execute_result"
    }
   ],
   "source": [
    "np.arange(5, 10)  # generate an array from 5 to 10 (exclusive) with a default step size of 1"
   ]
  },
  {
   "cell_type": "code",
   "execution_count": 9,
   "id": "acf8f3e1",
   "metadata": {
    "slideshow": {
     "slide_type": "fragment"
    }
   },
   "outputs": [
    {
     "data": {
      "text/plain": [
       "array([5, 7, 9])"
      ]
     },
     "execution_count": 9,
     "metadata": {},
     "output_type": "execute_result"
    }
   ],
   "source": [
    "np.arange(5, 10, 2)  # enerate an array from 5 to 10 (exclusive) with step size of 2"
   ]
  },
  {
   "cell_type": "markdown",
   "id": "49b1729b",
   "metadata": {
    "slideshow": {
     "slide_type": "subslide"
    }
   },
   "source": [
    "Another similar method is `linspace`. The difference is that in the `arange` method, **the third argument represents the step size** of the arithmetic sequence, while in the `linspace` method, **the third argument indicates the total number of elements** to generate. If you need to generate a sequence of equally spaced floating-point numbers, using `linspace` is preferable."
   ]
  },
  {
   "cell_type": "code",
   "execution_count": 10,
   "id": "b074ef36",
   "metadata": {
    "slideshow": {
     "slide_type": "fragment"
    }
   },
   "outputs": [
    {
     "data": {
      "text/plain": [
       "array([0.  , 0.25, 0.5 , 0.75, 1.  , 1.25, 1.5 , 1.75, 2.  ])"
      ]
     },
     "execution_count": 10,
     "metadata": {},
     "output_type": "execute_result"
    }
   ],
   "source": [
    "np.linspace(0, 2, 9)  # generate 9 numbers from 0 to 2 (exclusive)"
   ]
  },
  {
   "cell_type": "markdown",
   "id": "2c35dac3",
   "metadata": {
    "slideshow": {
     "slide_type": "subslide"
    }
   },
   "source": [
    "We can cast the type from ndarray to list by using `list()`."
   ]
  },
  {
   "cell_type": "code",
   "execution_count": 11,
   "id": "127915b8",
   "metadata": {
    "slideshow": {
     "slide_type": "fragment"
    }
   },
   "outputs": [
    {
     "data": {
      "text/plain": [
       "[0, 1, 2, 3, 4, 5, 6, 7, 8, 9]"
      ]
     },
     "execution_count": 11,
     "metadata": {},
     "output_type": "execute_result"
    }
   ],
   "source": [
    "a = np.arange(10)\n",
    "list(a)"
   ]
  },
  {
   "cell_type": "markdown",
   "id": "701d1159",
   "metadata": {
    "slideshow": {
     "slide_type": "subslide"
    }
   },
   "source": [
    "The common attributes for `ndarray` are listed in the table below:\n",
    "\n",
    "| Property       | Meaning                                  |  \n",
    "|:-------------:|---------------------------------------------|  \n",
    "| ndarray.ndim  | Dimensions of the ndarray                     |  \n",
    "| ndarray.shape | A tuple of integers representing the size of the array in each dimension |  \n",
    "| ndarray.size  | Total number of elements in the array         |  \n",
    "| ndarray.dtype | Data type of the elements in the array        |"
   ]
  },
  {
   "cell_type": "code",
   "execution_count": 12,
   "id": "9d90eaa1",
   "metadata": {
    "slideshow": {
     "slide_type": "subslide"
    }
   },
   "outputs": [
    {
     "data": {
      "text/plain": [
       "2"
      ]
     },
     "execution_count": 12,
     "metadata": {},
     "output_type": "execute_result"
    }
   ],
   "source": [
    "a = np.ones((2, 3))\n",
    "a.ndim"
   ]
  },
  {
   "cell_type": "code",
   "execution_count": 13,
   "id": "97822067",
   "metadata": {
    "slideshow": {
     "slide_type": "fragment"
    }
   },
   "outputs": [
    {
     "data": {
      "text/plain": [
       "(2, 3)"
      ]
     },
     "execution_count": 13,
     "metadata": {},
     "output_type": "execute_result"
    }
   ],
   "source": [
    "a.shape"
   ]
  },
  {
   "cell_type": "code",
   "execution_count": 14,
   "id": "8da07aa1",
   "metadata": {
    "slideshow": {
     "slide_type": "subslide"
    }
   },
   "outputs": [
    {
     "data": {
      "text/plain": [
       "6"
      ]
     },
     "execution_count": 14,
     "metadata": {},
     "output_type": "execute_result"
    }
   ],
   "source": [
    "a.size"
   ]
  },
  {
   "cell_type": "code",
   "execution_count": 15,
   "id": "353f07c4",
   "metadata": {
    "slideshow": {
     "slide_type": "fragment"
    }
   },
   "outputs": [
    {
     "data": {
      "text/plain": [
       "dtype('float64')"
      ]
     },
     "execution_count": 15,
     "metadata": {},
     "output_type": "execute_result"
    }
   ],
   "source": [
    "a.dtype"
   ]
  },
  {
   "cell_type": "markdown",
   "id": "7accdb6a",
   "metadata": {
    "slideshow": {
     "slide_type": "subslide"
    }
   },
   "source": [
    "## Indexing and slicing\n",
    "<hr>\n",
    "\n",
    "For one-dimensional arrays, NumPy's indexing and slicing are similar to those of Python list types."
   ]
  },
  {
   "cell_type": "code",
   "execution_count": 16,
   "id": "82dbeb05",
   "metadata": {
    "slideshow": {
     "slide_type": "fragment"
    }
   },
   "outputs": [
    {
     "data": {
      "text/plain": [
       "6"
      ]
     },
     "execution_count": 16,
     "metadata": {},
     "output_type": "execute_result"
    }
   ],
   "source": [
    "a = np.arange(4, 10)  \n",
    "a[2]"
   ]
  },
  {
   "cell_type": "code",
   "execution_count": 17,
   "id": "f8362b62",
   "metadata": {
    "jupyter": {
     "source_hidden": true
    },
    "slideshow": {
     "slide_type": "fragment"
    }
   },
   "outputs": [
    {
     "data": {
      "text/plain": [
       "6"
      ]
     },
     "execution_count": 17,
     "metadata": {},
     "output_type": "execute_result"
    }
   ],
   "source": [
    "a[2]  # 数组 a 的第 3 个元素"
   ]
  },
  {
   "cell_type": "code",
   "execution_count": 18,
   "id": "a197e82d",
   "metadata": {
    "slideshow": {
     "slide_type": "fragment"
    }
   },
   "outputs": [
    {
     "data": {
      "text/plain": [
       "array([6, 7])"
      ]
     },
     "execution_count": 18,
     "metadata": {},
     "output_type": "execute_result"
    }
   ],
   "source": [
    "a[2:4]  # the 3rd and 4th of the ndarray"
   ]
  },
  {
   "cell_type": "code",
   "execution_count": 19,
   "id": "d70a5d57",
   "metadata": {
    "slideshow": {
     "slide_type": "fragment"
    }
   },
   "outputs": [
    {
     "data": {
      "text/plain": [
       "9"
      ]
     },
     "execution_count": 19,
     "metadata": {},
     "output_type": "execute_result"
    }
   ],
   "source": [
    "a[-1]  # the last element in the array"
   ]
  },
  {
   "cell_type": "code",
   "execution_count": 20,
   "id": "aaa547bd",
   "metadata": {
    "slideshow": {
     "slide_type": "fragment"
    }
   },
   "outputs": [
    {
     "data": {
      "text/plain": [
       "array([9, 8, 7, 6, 5, 4])"
      ]
     },
     "execution_count": 20,
     "metadata": {},
     "output_type": "execute_result"
    }
   ],
   "source": [
    "a[::-1]  # reverse of the array"
   ]
  },
  {
   "cell_type": "markdown",
   "id": "771d5028",
   "metadata": {
    "slideshow": {
     "slide_type": "subslide"
    }
   },
   "source": [
    "For multidimensional arrays, NumPy array indexing and slicing use a **single pair of brackets `[ ]`** with commas separating different dimensions."
   ]
  },
  {
   "cell_type": "code",
   "execution_count": 21,
   "id": "8a7fb4ff",
   "metadata": {
    "slideshow": {
     "slide_type": "fragment"
    }
   },
   "outputs": [
    {
     "name": "stdout",
     "output_type": "stream",
     "text": [
      "[[ 0  1  2  3]\n",
      " [ 4  5  6  7]\n",
      " [ 8  9 10 11]]\n"
     ]
    }
   ],
   "source": [
    "# Create a 3-row by 4-column two-dimensional array by the 'reshape 'method\n",
    "# 'reshape' does not alter the values but reorganizes the original array with the specified number of rows and columns\n",
    "b = np.arange(12).reshape(3, 4)  \n",
    "print(b)"
   ]
  },
  {
   "cell_type": "code",
   "execution_count": 22,
   "id": "9bb9a357",
   "metadata": {
    "slideshow": {
     "slide_type": "fragment"
    }
   },
   "outputs": [
    {
     "data": {
      "text/plain": [
       "6"
      ]
     },
     "execution_count": 22,
     "metadata": {},
     "output_type": "execute_result"
    }
   ],
   "source": [
    "b[1, 2]  # the element at row 2, column 3"
   ]
  },
  {
   "cell_type": "code",
   "execution_count": 23,
   "id": "d92dddc9",
   "metadata": {
    "slideshow": {
     "slide_type": "fragment"
    }
   },
   "outputs": [
    {
     "data": {
      "text/plain": [
       "array([ 6, 10])"
      ]
     },
     "execution_count": 23,
     "metadata": {},
     "output_type": "execute_result"
    }
   ],
   "source": [
    "b[1:3, 2]  # the elements from the 2nd to 3rd row in the 3rd column of the two-dimensional array."
   ]
  },
  {
   "cell_type": "code",
   "execution_count": 24,
   "id": "ce0170f8",
   "metadata": {
    "slideshow": {
     "slide_type": "fragment"
    }
   },
   "outputs": [
    {
     "data": {
      "text/plain": [
       "array([ 8,  9, 10, 11])"
      ]
     },
     "execution_count": 24,
     "metadata": {},
     "output_type": "execute_result"
    }
   ],
   "source": [
    "b[2, :]  # all the elments in the 3rd row"
   ]
  },
  {
   "cell_type": "code",
   "execution_count": 25,
   "id": "60cc5f23",
   "metadata": {
    "slideshow": {
     "slide_type": "fragment"
    }
   },
   "outputs": [
    {
     "data": {
      "text/plain": [
       "[array([0, 1, 2, 3]), array([4, 5, 6, 7]), array([ 8,  9, 10, 11])]"
      ]
     },
     "execution_count": 25,
     "metadata": {},
     "output_type": "execute_result"
    }
   ],
   "source": [
    "list(b) # cast the 2-D ndarray to a list"
   ]
  },
  {
   "cell_type": "markdown",
   "id": "cb74a886",
   "metadata": {
    "slideshow": {
     "slide_type": "subslide"
    }
   },
   "source": [
    "## Concatenating\n",
    "<hr>\n",
    "\n",
    "In NumPy, arrays can be concatenated using the `append` or `concatenate` method: `append` joins two arrays, while `concatenate` can join two or more arrays."
   ]
  },
  {
   "cell_type": "code",
   "execution_count": 26,
   "id": "909a0277",
   "metadata": {
    "slideshow": {
     "slide_type": "fragment"
    }
   },
   "outputs": [
    {
     "data": {
      "text/plain": [
       "array([0, 1, 2, 3, 4])"
      ]
     },
     "execution_count": 26,
     "metadata": {},
     "output_type": "execute_result"
    }
   ],
   "source": [
    "a = np.arange(5)\n",
    "a"
   ]
  },
  {
   "cell_type": "code",
   "execution_count": 27,
   "id": "eae494a2",
   "metadata": {
    "slideshow": {
     "slide_type": "fragment"
    }
   },
   "outputs": [
    {
     "data": {
      "text/plain": [
       "array([0, 1, 2])"
      ]
     },
     "execution_count": 27,
     "metadata": {},
     "output_type": "execute_result"
    }
   ],
   "source": [
    "b = np.arange(3)\n",
    "b"
   ]
  },
  {
   "cell_type": "code",
   "execution_count": 28,
   "id": "ce50bbbf",
   "metadata": {
    "slideshow": {
     "slide_type": "fragment"
    }
   },
   "outputs": [
    {
     "data": {
      "text/plain": [
       "array([0, 1, 2, 3, 4, 0, 1, 2])"
      ]
     },
     "execution_count": 28,
     "metadata": {},
     "output_type": "execute_result"
    }
   ],
   "source": [
    "np.append(a, b)"
   ]
  },
  {
   "cell_type": "code",
   "execution_count": 29,
   "id": "51ece689",
   "metadata": {
    "slideshow": {
     "slide_type": "fragment"
    }
   },
   "outputs": [
    {
     "data": {
      "text/plain": [
       "array([0, 1, 2, 3])"
      ]
     },
     "execution_count": 29,
     "metadata": {},
     "output_type": "execute_result"
    }
   ],
   "source": [
    "c = np.arange(4)\n",
    "c"
   ]
  },
  {
   "cell_type": "code",
   "execution_count": 30,
   "id": "2bd49f42",
   "metadata": {
    "slideshow": {
     "slide_type": "fragment"
    }
   },
   "outputs": [
    {
     "data": {
      "text/plain": [
       "array([0, 1, 2, 3, 4, 0, 1, 2, 0, 1, 2, 3])"
      ]
     },
     "execution_count": 30,
     "metadata": {},
     "output_type": "execute_result"
    }
   ],
   "source": [
    "np.concatenate((a, b, c))  # there are parentheses () inside"
   ]
  },
  {
   "cell_type": "markdown",
   "id": "2d19c120",
   "metadata": {
    "slideshow": {
     "slide_type": "subslide"
    }
   },
   "source": [
    "## Array computations\n",
    "<hr>\n",
    "\n",
    "NumPy supports various algebraic operations on arrays."
   ]
  },
  {
   "cell_type": "code",
   "execution_count": 31,
   "id": "55fb0565",
   "metadata": {
    "slideshow": {
     "slide_type": "fragment"
    }
   },
   "outputs": [
    {
     "name": "stdout",
     "output_type": "stream",
     "text": [
      "[0 1 2 3]\n",
      "[3 4 5 6]\n",
      "[-3 -3 -3 -3]\n"
     ]
    }
   ],
   "source": [
    "a = np.arange(4)\n",
    "b = np.arange(3, 7)\n",
    "print(a)\n",
    "print(b)\n",
    "print(a - b)"
   ]
  },
  {
   "cell_type": "code",
   "execution_count": 32,
   "id": "45fec2b9",
   "metadata": {
    "slideshow": {
     "slide_type": "subslide"
    }
   },
   "outputs": [
    {
     "name": "stdout",
     "output_type": "stream",
     "text": [
      "[3 5 7 9]\n"
     ]
    }
   ],
   "source": [
    "print(a + b)"
   ]
  },
  {
   "cell_type": "markdown",
   "id": "78b64777-017d-47d9-bb6b-c412cf5ab434",
   "metadata": {},
   "source": [
    "- Get the average value of an array by `mean()` or `average()`."
   ]
  },
  {
   "cell_type": "code",
   "execution_count": 33,
   "id": "07726af2-f618-445c-bf93-a526b74feafe",
   "metadata": {},
   "outputs": [
    {
     "data": {
      "text/plain": [
       "1.5"
      ]
     },
     "execution_count": 33,
     "metadata": {},
     "output_type": "execute_result"
    }
   ],
   "source": [
    "np.mean(a)"
   ]
  },
  {
   "cell_type": "code",
   "execution_count": 34,
   "id": "976e6458-2ca9-4bc2-89ca-5169b8e0403c",
   "metadata": {
    "scrolled": true
   },
   "outputs": [
    {
     "data": {
      "text/plain": [
       "1.5"
      ]
     },
     "execution_count": 34,
     "metadata": {},
     "output_type": "execute_result"
    }
   ],
   "source": [
    "np.average(a)"
   ]
  },
  {
   "cell_type": "markdown",
   "id": "a3df1ebf-e9bb-4528-bbd6-ff8ae2b32221",
   "metadata": {},
   "source": [
    "- Get the average value of each column in a 2-D array with argument `axis=0`.\n",
    "- Get the average value of each row in a 2-D array with and argument `axis=1`."
   ]
  },
  {
   "cell_type": "code",
   "execution_count": 35,
   "id": "3383304e-6be7-4a6c-83df-d96a86c4993e",
   "metadata": {},
   "outputs": [
    {
     "name": "stdout",
     "output_type": "stream",
     "text": [
      "5.5\n",
      "[5. 6.]\n",
      "[4.5 6.5]\n"
     ]
    }
   ],
   "source": [
    "c = np.array([[4.0, 5.0], [6.0, 7.0]])\n",
    "print(np.average(c)) # or using mean\n",
    "print(np.average(c, axis=0))  # or using mean\n",
    "print(np.average(c, axis=1))  # or using mean"
   ]
  },
  {
   "cell_type": "markdown",
   "id": "4cbea33a-90fa-427c-a066-91658e9242ff",
   "metadata": {},
   "source": [
    "- Get the maximum of an array by `max()`, minimu by `min`.\n",
    "- Get the index of the maximum value by `argmax()`, minium index by `argmin()`."
   ]
  },
  {
   "cell_type": "code",
   "execution_count": 36,
   "id": "e6acddee-2abb-4032-a1ea-d2353da25f4a",
   "metadata": {},
   "outputs": [
    {
     "data": {
      "text/plain": [
       "3"
      ]
     },
     "execution_count": 36,
     "metadata": {},
     "output_type": "execute_result"
    }
   ],
   "source": [
    "np.max(a)"
   ]
  },
  {
   "cell_type": "code",
   "execution_count": 37,
   "id": "f12f9d2e-5909-4c35-8dad-6faca6f097ab",
   "metadata": {},
   "outputs": [
    {
     "data": {
      "text/plain": [
       "0"
      ]
     },
     "execution_count": 37,
     "metadata": {},
     "output_type": "execute_result"
    }
   ],
   "source": [
    "np.argmin(a)"
   ]
  },
  {
   "cell_type": "code",
   "execution_count": 38,
   "id": "3cdc8c32",
   "metadata": {
    "slideshow": {
     "slide_type": "fragment"
    }
   },
   "outputs": [
    {
     "data": {
      "text/plain": [
       "array([0, 2, 4, 6])"
      ]
     },
     "execution_count": 38,
     "metadata": {},
     "output_type": "execute_result"
    }
   ],
   "source": [
    "a * 2  # multiply every element by 2"
   ]
  },
  {
   "cell_type": "code",
   "execution_count": 39,
   "id": "a3b09e56",
   "metadata": {
    "slideshow": {
     "slide_type": "fragment"
    }
   },
   "outputs": [
    {
     "data": {
      "text/plain": [
       "array([0, 1, 4, 9])"
      ]
     },
     "execution_count": 39,
     "metadata": {},
     "output_type": "execute_result"
    }
   ],
   "source": [
    "a**2  # square each element of the array."
   ]
  },
  {
   "cell_type": "code",
   "execution_count": 40,
   "id": "0dd753da",
   "metadata": {
    "slideshow": {
     "slide_type": "fragment"
    }
   },
   "outputs": [
    {
     "data": {
      "text/plain": [
       "array([False, False, False,  True])"
      ]
     },
     "execution_count": 40,
     "metadata": {},
     "output_type": "execute_result"
    }
   ],
   "source": [
    "a > 2  # comare every element with one value"
   ]
  },
  {
   "cell_type": "code",
   "execution_count": 41,
   "id": "de61f939",
   "metadata": {
    "slideshow": {
     "slide_type": "subslide"
    }
   },
   "outputs": [
    {
     "name": "stdout",
     "output_type": "stream",
     "text": [
      "[[4. 5.]\n",
      " [6. 7.]]\n",
      "[[4. 6.]\n",
      " [5. 7.]]\n"
     ]
    }
   ],
   "source": [
    "c = np.array([[4.0, 5.0], [6.0, 7.0]])\n",
    "print(c)\n",
    "print(c.transpose()) # transpose a 2-D array"
   ]
  },
  {
   "cell_type": "code",
   "execution_count": 42,
   "id": "4d5add12",
   "metadata": {
    "slideshow": {
     "slide_type": "fragment"
    }
   },
   "outputs": [
    {
     "data": {
      "text/plain": [
       "array([[-3.5,  2.5],\n",
       "       [ 3. , -2. ]])"
      ]
     },
     "execution_count": 42,
     "metadata": {},
     "output_type": "execute_result"
    }
   ],
   "source": [
    "np.linalg.inv(c)  # inverse matrix "
   ]
  },
  {
   "cell_type": "code",
   "execution_count": 43,
   "id": "df7d4870",
   "metadata": {
    "slideshow": {
     "slide_type": "subslide"
    }
   },
   "outputs": [
    {
     "name": "stdout",
     "output_type": "stream",
     "text": [
      "eigenvalues are  [-0.17890835 11.17890835]\n",
      "eigenvectors are [[-0.76729658 -0.57152478]\n",
      " [ 0.64129241 -0.82058481]]\n"
     ]
    }
   ],
   "source": [
    "eigenvalues, eigenvectors = np.linalg.eig(c)  # eigenvalues and eigenvectors of the 2D array c\n",
    "print(\"eigenvalues are \", eigenvalues)\n",
    "print(\"eigenvectors are\", eigenvectors)"
   ]
  },
  {
   "cell_type": "code",
   "execution_count": 44,
   "id": "edbf41e3",
   "metadata": {
    "slideshow": {
     "slide_type": "fragment"
    }
   },
   "outputs": [
    {
     "data": {
      "text/plain": [
       "array([[1., 2.],\n",
       "       [3., 4.]])"
      ]
     },
     "execution_count": 44,
     "metadata": {},
     "output_type": "execute_result"
    }
   ],
   "source": [
    "d = np.array([[1.0, 2.0], [3.0, 4.0]])\n",
    "d"
   ]
  },
  {
   "cell_type": "code",
   "execution_count": 45,
   "id": "f1a15bd8",
   "metadata": {
    "slideshow": {
     "slide_type": "fragment"
    }
   },
   "outputs": [
    {
     "data": {
      "text/plain": [
       "array([[19., 28.],\n",
       "       [27., 40.]])"
      ]
     },
     "execution_count": 45,
     "metadata": {},
     "output_type": "execute_result"
    }
   ],
   "source": [
    "np.dot(c, d)  # the product of matrices c and d"
   ]
  },
  {
   "cell_type": "code",
   "execution_count": 46,
   "id": "23bb4d03",
   "metadata": {
    "slideshow": {
     "slide_type": "subslide"
    }
   },
   "outputs": [
    {
     "data": {
      "text/plain": [
       "array([[ 4., 10.],\n",
       "       [18., 28.]])"
      ]
     },
     "execution_count": 46,
     "metadata": {},
     "output_type": "execute_result"
    }
   ],
   "source": [
    "np.multiply(c, d)  # element-wise multiplication of matrices c and d"
   ]
  },
  {
   "cell_type": "markdown",
   "id": "ddca28d1",
   "metadata": {
    "slideshow": {
     "slide_type": "subslide"
    }
   },
   "source": [
    "The NumPy library also includes several other commonly used methods, as shown in the table below:  \n",
    "\n",
    "| Method | Description |  \n",
    "|--------|-----------|  \n",
    "| `np.abs(x)` | Computes the absolute value of each element |  \n",
    "| `np.sqrt(x)` | Computes the square root of each element |  \n",
    "| `np.square(x)` | Computes the square of each element |  \n",
    "| `np.sign(x)` | Determines the sign (positive/negative) of each element |  \n",
    "| `np.ceil(x)` | Rounds each element up to the nearest integer |  \n",
    "| `np.floor(x)` | Rounds each element down to the nearest integer |  \n",
    "| `np.exp(x)` | Computes the exponential value of each element |  \n",
    "| `np.log(x)`,`np.log10(x)`,`np.log2(x)` | Computes the natural logarithm, base-10 logarithm, and base-2 logarithm of each element |  "
   ]
  },
  {
   "cell_type": "markdown",
   "id": "ed5698ec-cead-4982-b6ca-a9985a6f4953",
   "metadata": {},
   "source": [
    "- NumPy performs numerical computations significantly faster than Python's built-in list. **For large-scale mathematical operations, prioritize using NumPy for processin**g."
   ]
  },
  {
   "cell_type": "markdown",
   "id": "72c5562f",
   "metadata": {
    "slideshow": {
     "slide_type": "fragment"
    }
   },
   "source": [
    "Additionally, NumPy provides a specialized two-dimensional array type called `Matrix`, which offers more convenient operations for certain matrix computations. Interested readers can refer to the [official documentation](https://numpy.org/doc/stable/reference/generated/numpy.matrix.html) for details.  "
   ]
  },
  {
   "cell_type": "markdown",
   "id": "c10c40fb",
   "metadata": {},
   "source": [
    "## Generate random values using NumPy*[^1]\n",
    "<hr>\n",
    "\n",
    "[^1]: \\* means this section may not be delivered in class.\n",
    "\n",
    "The `random` module in NumPy supports virtually all probability distributions and can generate random numbers in multi-row, multi-column arrays at once."
   ]
  },
  {
   "cell_type": "code",
   "execution_count": 47,
   "id": "ea8e3f53",
   "metadata": {},
   "outputs": [
    {
     "data": {
      "text/plain": [
       "array([[7.6715444 , 1.50785508],\n",
       "       [1.04294057, 9.47483915]])"
      ]
     },
     "execution_count": 47,
     "metadata": {},
     "output_type": "execute_result"
    }
   ],
   "source": [
    "import numpy as np\n",
    "\n",
    "np.random.uniform(1, 10, [2, 2])  # generate 2 row 2 column random numbers uniformally distributed between 1 (inclusive) and 10 (exclusive)"
   ]
  },
  {
   "cell_type": "code",
   "execution_count": 48,
   "id": "f5747f16",
   "metadata": {},
   "outputs": [
    {
     "data": {
      "text/plain": [
       "array([7.45077053, 8.46464059, 4.64659544, 6.08784796, 7.86502348])"
      ]
     },
     "execution_count": 48,
     "metadata": {},
     "output_type": "execute_result"
    }
   ],
   "source": [
    "np.random.uniform(1, 10, 5)  # generate 5 random numbers uniformally distributed between 1 (inclusive) and 10 (exclusive)"
   ]
  },
  {
   "cell_type": "code",
   "execution_count": 49,
   "id": "cd6f4ade",
   "metadata": {},
   "outputs": [
    {
     "data": {
      "text/plain": [
       "array([[1, 1],\n",
       "       [3, 7]])"
      ]
     },
     "execution_count": 49,
     "metadata": {},
     "output_type": "execute_result"
    }
   ],
   "source": [
    "np.random.randint(1, 10, [2, 2])  # generate 2 row 2 column random integer numbers uniformally distributed between 1 (inclusive) and 10 (exclusive)"
   ]
  },
  {
   "cell_type": "code",
   "execution_count": 50,
   "id": "776f34f5",
   "metadata": {},
   "outputs": [
    {
     "data": {
      "text/plain": [
       "array([[5.84011476, 3.3582419 ],\n",
       "       [4.0798618 , 4.44776339]])"
      ]
     },
     "execution_count": 50,
     "metadata": {},
     "output_type": "execute_result"
    }
   ],
   "source": [
    "np.random.normal(5, 1, [2, 2])  # generate 2 row 2 column random numbers normally distributed with mean 5 and standard deviation 1"
   ]
  },
  {
   "cell_type": "code",
   "execution_count": 51,
   "id": "c0613eac",
   "metadata": {},
   "outputs": [
    {
     "data": {
      "text/plain": [
       "array([[5, 7],\n",
       "       [5, 2]])"
      ]
     },
     "execution_count": 51,
     "metadata": {},
     "output_type": "execute_result"
    }
   ],
   "source": [
    "np.random.poisson(5, [2, 2])  # generate 2 row 2 column random numbers Poisson distributed with argument 5"
   ]
  },
  {
   "cell_type": "markdown",
   "id": "a81448cc",
   "metadata": {},
   "source": [
    "NumPy also allows setting the seed for the random number generator via the `random.seed()` argument. The same seed should produce identical random numbers."
   ]
  },
  {
   "cell_type": "code",
   "execution_count": 52,
   "id": "f15df47a",
   "metadata": {},
   "outputs": [
    {
     "data": {
      "text/plain": [
       "array([4.62263642, 5.16675892, 5.68280238, 6.92137877, 4.8029632 ,\n",
       "       4.24012124])"
      ]
     },
     "execution_count": 52,
     "metadata": {},
     "output_type": "execute_result"
    }
   ],
   "source": [
    "np.random.seed(500)\n",
    "np.random.normal(5, 1, 6)  # generate 6 random numbers normally distributed with mean 5 and standard deviation 1"
   ]
  },
  {
   "cell_type": "markdown",
   "id": "3bf3879c",
   "metadata": {},
   "source": [
    "Additionally, NumPy also allows you to define a random number generator object via `RandomState()`, where the argument inside the parentheses is the random seed. You can then use this object to call specific random distribution generator methods. For example:"
   ]
  },
  {
   "cell_type": "code",
   "execution_count": 53,
   "id": "343c8876",
   "metadata": {},
   "outputs": [
    {
     "data": {
      "text/plain": [
       "array([4.62263642, 5.16675892, 5.68280238, 6.92137877, 4.8029632 ,\n",
       "       4.24012124])"
      ]
     },
     "execution_count": 53,
     "metadata": {},
     "output_type": "execute_result"
    }
   ],
   "source": [
    "rvs = np.random.RandomState(500)\n",
    "rvs.normal(5, 1, 6) "
   ]
  },
  {
   "cell_type": "markdown",
   "id": "f83ca271",
   "metadata": {},
   "source": [
    "## `time`, `datatime` library\n",
    "<hr>"
   ]
  },
  {
   "cell_type": "markdown",
   "id": "50a9c236",
   "metadata": {},
   "source": [
    "### `time` library\n",
    "<hr>\n",
    "\n",
    "`time` is a Python built-in libray that provides many time-related methods, such as getting the current time, pausing program execution, measuring execution time, and more."
   ]
  },
  {
   "cell_type": "markdown",
   "id": "a7d75a05",
   "metadata": {},
   "source": [
    "- Get the current time in seconds since January 1, 1970, 00:00:00 (UTC)  by `time()`."
   ]
  },
  {
   "cell_type": "code",
   "execution_count": 54,
   "id": "e076ba09",
   "metadata": {},
   "outputs": [
    {
     "name": "stdout",
     "output_type": "stream",
     "text": [
      "1750068922.496598\n"
     ]
    }
   ],
   "source": [
    "import time\n",
    "\n",
    "timestamp = time.time()\n",
    "print(timestamp)"
   ]
  },
  {
   "cell_type": "markdown",
   "id": "ef6430f5-585f-4027-b2bb-2c434b7b4033",
   "metadata": {},
   "source": [
    "- Get a tuple of the structured format of the current time by `strtime`."
   ]
  },
  {
   "cell_type": "code",
   "execution_count": 55,
   "id": "62dc11b8",
   "metadata": {},
   "outputs": [
    {
     "name": "stdout",
     "output_type": "stream",
     "text": [
      "time.struct_time(tm_year=2025, tm_mon=6, tm_mday=16, tm_hour=11, tm_min=15, tm_sec=22, tm_wday=0, tm_yday=167, tm_isdst=1)\n"
     ]
    }
   ],
   "source": [
    "current_time = time.localtime()\n",
    "print(current_time)"
   ]
  },
  {
   "cell_type": "markdown",
   "id": "bc199bf0-2711-4807-8008-39e8996a4549",
   "metadata": {},
   "source": [
    "- Get the formatted time by `strftime`."
   ]
  },
  {
   "cell_type": "code",
   "execution_count": 56,
   "id": "0d8ebbde",
   "metadata": {},
   "outputs": [
    {
     "name": "stdout",
     "output_type": "stream",
     "text": [
      "2025-06-16 11:15:22\n"
     ]
    }
   ],
   "source": [
    "formatted_time = time.strftime(\"%Y-%m-%d %H:%M:%S\", time.localtime())\n",
    "print(formatted_time)"
   ]
  },
  {
   "cell_type": "markdown",
   "id": "959b7257",
   "metadata": {},
   "source": [
    "The codes for time format in `strftime`:\n",
    "\n",
    "| Code | Meaning                          |  \n",
    "|------|----------------------------------|  \n",
    "| %Y   | 4-digit year (e.g., 2025)        |  \n",
    "| %y   | 2-digit year (e.g., 25)        |  \n",
    "| %m   | 2-digit month (01-12)           |  \n",
    "| %d   | 2-digit day (01-31)             |  \n",
    "| %D   | Equivalent to %m/%d/%y           |  \n",
    "| %B   | Full month name (January-December)           |  \n",
    "| %b   | Abbreviated month name (e.g. Jul)|\n",
    "| %W   | Week number of the year        |  \n",
    "| %w   | Week number of the month           |  \n",
    "| %H   | Hour in 24-hour format (00-23) |  \n",
    "| %M   | Minute (00-59)                 |  \n",
    "| %S   | Second (00-59)                 |  "
   ]
  },
  {
   "cell_type": "markdown",
   "id": "bd846ace",
   "metadata": {},
   "source": [
    "- Suspends execution for the given number of seconds using `sleep()`."
   ]
  },
  {
   "cell_type": "code",
   "execution_count": 57,
   "id": "88340e09",
   "metadata": {},
   "outputs": [
    {
     "name": "stdout",
     "output_type": "stream",
     "text": [
      "Start\n"
     ]
    },
    {
     "name": "stdout",
     "output_type": "stream",
     "text": [
      "End\n"
     ]
    }
   ],
   "source": [
    "print(\"Start\")\n",
    "time.sleep(3)  # sleep for 3 seconds\n",
    "print(\"End\")"
   ]
  },
  {
   "cell_type": "markdown",
   "id": "c5d84eac",
   "metadata": {},
   "source": [
    "- Get the computation time by `time()`."
   ]
  },
  {
   "cell_type": "code",
   "execution_count": 58,
   "id": "50e9043f",
   "metadata": {},
   "outputs": [
    {
     "name": "stdout",
     "output_type": "stream",
     "text": [
      "Execution time: 0.037595 seconds\n"
     ]
    }
   ],
   "source": [
    "start = time.time()\n",
    "for _ in range(1000000):\n",
    "    pass\n",
    "end = time.time()\n",
    "print(f\"Execution time: {end - start:.6f} seconds\")"
   ]
  },
  {
   "cell_type": "markdown",
   "id": "d109cffc-598c-4026-9e75-21404e072042",
   "metadata": {},
   "source": [
    "- Get more precise computation time by `perf_counter()`."
   ]
  },
  {
   "cell_type": "code",
   "execution_count": 59,
   "id": "140b4bb2",
   "metadata": {},
   "outputs": [
    {
     "name": "stdout",
     "output_type": "stream",
     "text": [
      "Execution time: 0.026673 seconds\n"
     ]
    }
   ],
   "source": [
    "start = time.perf_counter()\n",
    "for _ in range(1000000):\n",
    "    pass\n",
    "end = time.perf_counter()\n",
    "print(f\"Execution time: {end - start:.6f} seconds\")"
   ]
  },
  {
   "cell_type": "markdown",
   "id": "cf477427",
   "metadata": {},
   "source": [
    "- Get the CPU time used by the current process."
   ]
  },
  {
   "cell_type": "code",
   "execution_count": 60,
   "id": "6727a201",
   "metadata": {},
   "outputs": [
    {
     "name": "stdout",
     "output_type": "stream",
     "text": [
      "CPU time used: 0.024245 seconds\n"
     ]
    }
   ],
   "source": [
    "start = time.process_time()\n",
    "for _ in range(1000000):\n",
    "    pass\n",
    "end = time.process_time()\n",
    "print(f\"CPU time used: {end - start:.6f} seconds\")"
   ]
  },
  {
   "cell_type": "markdown",
   "id": "4c95c5e9",
   "metadata": {},
   "source": [
    "### `datetime` library\n",
    "<hr>\n",
    "\n",
    "`datetime` is part of Python's standard built-in library, offering methods for date and time manipulation, including fetching the current time, date calculations, timezone handling, and more."
   ]
  },
  {
   "cell_type": "markdown",
   "id": "4ee7d5c4",
   "metadata": {},
   "source": [
    "- Get current datetime by `now()`."
   ]
  },
  {
   "cell_type": "code",
   "execution_count": 61,
   "id": "c28ff396",
   "metadata": {},
   "outputs": [
    {
     "name": "stdout",
     "output_type": "stream",
     "text": [
      "2025-06-16 11:15:25.618649\n"
     ]
    }
   ],
   "source": [
    "from datetime import datetime\n",
    "\n",
    "now = datetime.now()\n",
    "print(now)"
   ]
  },
  {
   "cell_type": "markdown",
   "id": "f5a62841",
   "metadata": {},
   "source": [
    "- Create datetime by `datetime()`."
   ]
  },
  {
   "cell_type": "code",
   "execution_count": 62,
   "id": "b4c301ac",
   "metadata": {},
   "outputs": [
    {
     "name": "stdout",
     "output_type": "stream",
     "text": [
      "2025-02-17 10:30:57\n"
     ]
    }
   ],
   "source": [
    "from datetime import datetime\n",
    "\n",
    "dt = datetime(2025, 2, 17, 10, 30, 57)\n",
    "print(dt)"
   ]
  },
  {
   "cell_type": "markdown",
   "id": "9643a8b3",
   "metadata": {},
   "source": [
    "- Format the datetime by `strftime()`."
   ]
  },
  {
   "cell_type": "code",
   "execution_count": 63,
   "id": "0d244dcc",
   "metadata": {},
   "outputs": [
    {
     "name": "stdout",
     "output_type": "stream",
     "text": [
      "2025-02-17 10:30:57\n"
     ]
    }
   ],
   "source": [
    "from datetime import datetime\n",
    "\n",
    "dt = datetime(2025, 2, 17, 10, 30, 57)\n",
    "\n",
    "formatted_str = dt.strftime(\"%Y-%m-%d %H:%M:%S\")\n",
    "print(formatted_str)"
   ]
  },
  {
   "cell_type": "markdown",
   "id": "1e4b45cb",
   "metadata": {},
   "source": [
    "- Datetime compuation"
   ]
  },
  {
   "cell_type": "code",
   "execution_count": 64,
   "id": "e73beeba",
   "metadata": {},
   "outputs": [
    {
     "name": "stdout",
     "output_type": "stream",
     "text": [
      "2025-02-22 13:30:57\n"
     ]
    }
   ],
   "source": [
    "from datetime import datetime, timedelta\n",
    "\n",
    "dt = datetime(2025, 2, 17, 10, 30, 57)\n",
    "new_dt = dt + timedelta(days=5, hours=3)\n",
    "print(new_dt)"
   ]
  },
  {
   "cell_type": "code",
   "execution_count": 65,
   "id": "c6ab42b9",
   "metadata": {},
   "outputs": [
    {
     "name": "stdout",
     "output_type": "stream",
     "text": [
      "3 days, 4:29:03\n",
      "275343.0\n"
     ]
    }
   ],
   "source": [
    "from datetime import datetime\n",
    "\n",
    "dt1 = datetime(2025, 2, 17, 10, 30, 57)\n",
    "dt2 = datetime(2025, 2, 20, 15, 0, 0)\n",
    "\n",
    "diff = dt2 - dt1\n",
    "print(diff)\n",
    "print(diff.total_seconds())"
   ]
  },
  {
   "cell_type": "markdown",
   "id": "30dab37f-b3ec-49ed-8113-da951a24f3f4",
   "metadata": {},
   "source": [
    "## Exercises\n",
    "<hr>"
   ]
  },
  {
   "cell_type": "markdown",
   "id": "eaebedfe-bc35-4adb-8881-54a0ac79ea69",
   "metadata": {},
   "source": [
    "```{exercise}\n",
    ":label: create-array\n",
    "How to create a NumPy array from a Python list?\n",
    "\n",
    "A.&nbsp;&nbsp;  np.array(list)\n",
    "\n",
    "B.&nbsp;&nbsp;  numpy(list)\n",
    "\n",
    "C.&nbsp;&nbsp;  np.create(list)\n",
    "\n",
    "D.&nbsp;&nbsp;  array(list)\n",
    "\n",
    "```"
   ]
  },
  {
   "cell_type": "markdown",
   "id": "6d2e296f-966b-4cd5-a423-2cf2d31648be",
   "metadata": {},
   "source": [
    "````{solution} create-array\n",
    ":class: dropdown\n",
    "A\n",
    "````"
   ]
  },
  {
   "cell_type": "markdown",
   "id": "4a9d4079-3945-44c0-a448-ef9c8803d3ec",
   "metadata": {},
   "source": [
    "```{exercise}\n",
    ":label: access-array\n",
    "How to access the element at the second row and third column of a 2D NumPy array 'arr'?\n",
    "\n",
    "A.&nbsp;&nbsp;  arr[1][2]\n",
    "\n",
    "B.&nbsp;&nbsp;  arr[2, 3]\n",
    "\n",
    "C.&nbsp;&nbsp;  arr[2][3]\n",
    "\n",
    "D.&nbsp;&nbsp;  arr[1, 2]\n",
    "\n",
    "```"
   ]
  },
  {
   "cell_type": "markdown",
   "id": "076e9b12-f714-42b1-b309-b1d264b12560",
   "metadata": {},
   "source": [
    "````{solution} access-array\n",
    ":class: dropdown\n",
    "D\n",
    "````"
   ]
  },
  {
   "cell_type": "markdown",
   "id": "5deee14f-b844-46eb-801e-9026214bb40c",
   "metadata": {},
   "source": [
    "```{exercise}\n",
    ":label: zeros\n",
    "What does the np.zeros((1, 2)) method in NumPy do?\n",
    "\n",
    "A.&nbsp;&nbsp;  Create an array with ones, 1 row and 2 columns\n",
    "\n",
    "B.&nbsp;&nbsp;  Create an array with zeros, 1 row and 2 columns\n",
    "\n",
    "C.&nbsp;&nbsp;  Create an identy matrix\n",
    "\n",
    "D.&nbsp;&nbsp;  Creates an array with random values\n",
    "\n",
    "\n",
    "```"
   ]
  },
  {
   "cell_type": "markdown",
   "id": "71f41072-8c3f-4be1-9f8f-4fe5848534d5",
   "metadata": {},
   "source": [
    "````{solution} zeros\n",
    ":class: dropdown\n",
    "B\n",
    "````"
   ]
  },
  {
   "cell_type": "markdown",
   "id": "d45fe782-c42d-40d2-8767-e12f2836a9bd",
   "metadata": {},
   "source": [
    "```{exercise}\n",
    ":label: arange-step\n",
    "What does the code np.arange(1, 10, 2) in NumPy do?\n",
    "\n",
    "A.&nbsp;&nbsp;  Creates an array with values from 1 to 10\n",
    "\n",
    "B.&nbsp;&nbsp;  Creates an array with values from 1 to 10 with step 2\n",
    "\n",
    "C.&nbsp;&nbsp;  Creates an array with values from 1 to 9 with step 2\n",
    "\n",
    "D.&nbsp;&nbsp;  Creates an array with values from 1 to 9\n",
    "\n",
    "\n",
    "```"
   ]
  },
  {
   "cell_type": "markdown",
   "id": "12af1025-30e0-4e0e-bc42-e2bd87d754d0",
   "metadata": {},
   "source": [
    "````{solution} arange-step\n",
    ":class: dropdown\n",
    "C\n",
    "````"
   ]
  },
  {
   "cell_type": "markdown",
   "id": "cc53e852-7c30-4d2d-9c51-92b4933c4bca",
   "metadata": {},
   "source": [
    "```{exercise}\n",
    ":label: max_index\n",
    "How to find the indices of the maximum value in a NumPy array 'arr'?\n",
    "\n",
    "A.&nbsp;&nbsp;  np.max(arr)\n",
    "\n",
    "B.&nbsp;&nbsp;  np.argmax(arr)\n",
    "\n",
    "C.&nbsp;&nbsp;  np.maximum(arr)\n",
    "\n",
    "D.&nbsp;&nbsp;  np.max_index(arr)\n",
    "\n",
    "```"
   ]
  },
  {
   "cell_type": "markdown",
   "id": "71153f74-3582-4d47-902d-9df576eea8ae",
   "metadata": {},
   "source": [
    "````{solution} max_index\n",
    ":class: dropdown\n",
    "B\n",
    "````"
   ]
  },
  {
   "cell_type": "markdown",
   "id": "e6a0b5ff-7d11-422f-84f3-6ff4396c9cbf",
   "metadata": {},
   "source": [
    "```{exercise}\n",
    ":label: mean-axis\n",
    "How can you calculate the mean for each row of a 2D NumPy array 'arr'?\n",
    "\n",
    "A.&nbsp;&nbsp;  np.mean(arr, axis=2)\n",
    "\n",
    "B.&nbsp;&nbsp;  np.mean(arr, axis=0)\n",
    "\n",
    "C.&nbsp;&nbsp;  np.mean(arr, axis=1)\n",
    "\n",
    "D.&nbsp;&nbsp;  np.average(arr, axis=0)\n",
    "\n",
    "```"
   ]
  },
  {
   "cell_type": "markdown",
   "id": "bf99ec7f-c30a-45e5-8432-447cb54a407f",
   "metadata": {},
   "source": [
    "````{solution} mean-axis\n",
    ":class: dropdown\n",
    "C\n",
    "````"
   ]
  },
  {
   "cell_type": "markdown",
   "id": "685e92e7",
   "metadata": {},
   "source": [
    "<script src=\"https://giscus.app/client.js\"\n",
    "        data-repo=\"robinchen121/book-Python-Data-Science\"\n",
    "        data-repo-id=\"R_kgDOKFdyOw\"\n",
    "        data-category=\"Announcements\"\n",
    "        data-category-id=\"DIC_kwDOKFdyO84CgWHi\"\n",
    "        data-mapping=\"pathname\"\n",
    "        data-strict=\"0\"\n",
    "        data-reactions-enabled=\"1\"\n",
    "        data-emit-metadata=\"0\"\n",
    "        data-input-position=\"bottom\"\n",
    "        data-theme=\"light\"\n",
    "        data-lang=\"en\"\n",
    "        crossorigin=\"anonymous\"\n",
    "        async>\n",
    "</script>"
   ]
  },
  {
   "cell_type": "markdown",
   "id": "3953c31d",
   "metadata": {},
   "source": [
    "<!-- Toogle google translation -->\n",
    "<div id=\"google_translate_element\"></div>\n",
    "\n",
    "<script type=\"text/javascript\">\n",
    "      function googleTranslateElementInit() {\n",
    "        new google.translate.TranslateElement({ pageLanguage: 'zh-CN',\n",
    "                  inclusiveLanguages: 'en,zh-CN,zh-TW,ja,ko,de,ru,fr,es,it,pt,hi,ar,fa',\n",
    "layout: google.translate.TranslateElement.InlineLayout.SIMPLE }, 'google_translate_element');\n",
    "      }\n",
    "</script>\n",
    "<script type=\"text/javascript\"\n",
    "      src=\"https://translate.google.com/translate_a/element.js?cb=googleTranslateElementInit\"\n",
    "></script>\n",
    "<br>"
   ]
  }
 ],
 "metadata": {
  "kernelspec": {
   "display_name": "Python [conda env:base] *",
   "language": "python",
   "name": "conda-base-py"
  },
  "language_info": {
   "codemirror_mode": {
    "name": "ipython",
    "version": 3
   },
   "file_extension": ".py",
   "mimetype": "text/x-python",
   "name": "python",
   "nbconvert_exporter": "python",
   "pygments_lexer": "ipython3",
   "version": "3.12.2"
  }
 },
 "nbformat": 4,
 "nbformat_minor": 5
}