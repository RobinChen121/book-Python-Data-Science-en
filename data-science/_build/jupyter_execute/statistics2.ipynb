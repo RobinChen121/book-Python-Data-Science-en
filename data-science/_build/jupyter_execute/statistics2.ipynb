{
 "cells": [
  {
   "cell_type": "markdown",
   "id": "d1d4fd5e",
   "metadata": {
    "slideshow": {
     "slide_type": "slide"
    }
   },
   "source": [
    "# Python machine learning\n",
    "<hr>\n",
    "\n",
    "In this chapter, we explain how to perform statistical analysis on data using Python. Rather than delving into the theoretical and computational details of the statistical concepts and methods, we aim to provide intuitive, visual explanations that are easy to understand."
   ]
  },
  {
   "cell_type": "markdown",
   "id": "49babafc-b45e-4237-8ac2-3852faa63860",
   "metadata": {},
   "source": [
    "One key machine leanring library in Python is `scikit-learn`. Install it using `pip install`. "
   ]
  },
  {
   "cell_type": "markdown",
   "id": "c04a8845-9a3d-4299-8116-7b3074f5633b",
   "metadata": {},
   "source": [
    "```dos\n",
    "pip install scikit-learn\n",
    "```"
   ]
  },
  {
   "cell_type": "markdown",
   "id": "fb351647-7e91-4aa3-9900-bb73147cf7c8",
   "metadata": {},
   "source": [
    "When we use this library in Python, its name is `sklearn`."
   ]
  },
  {
   "cell_type": "markdown",
   "id": "83b63f0a-8a06-414f-a75c-0adca9ab781a",
   "metadata": {},
   "source": [
    "## Standardize Data\n",
    "<hr>"
   ]
  },
  {
   "cell_type": "markdown",
   "id": "d5587fcc-74fe-4f0a-88ee-527037400e21",
   "metadata": {},
   "source": [
    "`Standardization` is a process of transforming the data to make it more suitable for some statistical analysis or machine learning. "
   ]
  },
  {
   "cell_type": "markdown",
   "id": "8df8d58b-1905-4aa9-bd7c-a08c94f2fe08",
   "metadata": {},
   "source": [
    "The main reasons include:\n",
    "\n",
    "- To remove the effect of different units and scales\n",
    "\n",
    "  * Variables may have different units (e.g., dollars, percentages, counts).\n",
    "  * Without standardization, variables with larger scales may dominate the model (especially in regression or distance-based models like KNN, SVM).\n",
    "\n",
    "- To compare variable importance\n",
    "\n",
    "  * In regression, standardized coefficients allow you to compare which variable has a stronger effect on the outcome.\n",
    " \n",
    "- To improve model performance\n",
    "\n",
    "  * Many machine learning models (e.g., gradient descent-based, PCA, K-means) work better when input features are on similar scales.\n",
    "\n",
    "- To meet assumptions of some statistical tests\n",
    "\n",
    "  * Some models assume variables are normally distributed or centered around 0, especially in multivariate analysis."
   ]
  },
  {
   "cell_type": "markdown",
   "id": "a2d113e9-c8dc-4c70-bf73-bb145add3122",
   "metadata": {},
   "source": [
    "There are two common methods for standardizing data: z-score standardization and min-max standardization\n",
    "\n",
    "1. **Z-score Standardization** (`StandardScaler`)\n",
    "\n",
    "Transforms data to have mean ($\\mu$) = 0 and standard deviation ($\\sigma$) = 1.\n",
    "\n",
    "$$\n",
    "z = \\frac{x - \\mu}{\\sigma}\n",
    "$$"
   ]
  },
  {
   "cell_type": "markdown",
   "id": "7fee0175-50cc-47ee-81b8-a40b5064f047",
   "metadata": {},
   "source": [
    "In python, it is easy to standardize the data with the method `fit_transform( )` from `sklearn`."
   ]
  },
  {
   "cell_type": "code",
   "execution_count": 1,
   "id": "ac991030-1f62-4ef6-9458-65f87c753d15",
   "metadata": {},
   "outputs": [
    {
     "name": "stdout",
     "output_type": "stream",
     "text": [
      "[[ 0.56593556  1.2126951  -0.21131068  0.60853209  0.80725756  0.94325764\n",
      "  -0.02289992]\n",
      " [ 0.68844283  0.75670887  0.18761539  0.45935701  1.03314134  0.0708756\n",
      "  -0.98177845]\n",
      " [ 1.61949811 -0.48361373  0.54740815  1.67605228  1.95169961 -0.33770122\n",
      "   0.32112519]\n",
      " [-0.92865317 -0.39952407 -0.8917629  -0.594276   -0.89196792 -0.04841772\n",
      "   1.26617765]\n",
      " [-0.5366299   0.01692    -0.63009543 -0.63369765 -0.29104195 -0.2914793\n",
      "   0.22027622]\n",
      " [-1.22267063 -0.01511416 -0.5833691  -0.9356316  -1.38129335  1.02964051\n",
      "   1.32270187]\n",
      " [ 0.10040792  0.57951992 -0.01564416  0.1166575   0.54542553  1.42128062\n",
      "   0.6907692 ]\n",
      " [-2.42324191 -1.49769509 -1.92383077 -1.71868879 -2.17430102  2.19175919\n",
      "   0.06330968]\n",
      " [ 0.51693265 -0.62025945  0.17768604  0.64840171  0.7568227   1.54737129\n",
      "   0.39391538]]\n"
     ]
    }
   ],
   "source": [
    "from sklearn.preprocessing import StandardScaler\n",
    "import seaborn as sns\n",
    "\n",
    "crashes = sns.load_dataset('car_crashes')\n",
    "scaler = StandardScaler()\n",
    "crash_standard = scaler.fit_transform(crashes.iloc[:, 0:-1]) # standar\n",
    "print(crash_standard[1:10]) # print the first 10 rows"
   ]
  },
  {
   "cell_type": "markdown",
   "id": "d5f2f562-714b-4e55-be8f-a3d72e09aa81",
   "metadata": {},
   "source": [
    "2. **Min-Max Normalization** (0-1 Scaling)"
   ]
  },
  {
   "cell_type": "markdown",
   "id": "d5fc608b-71c0-4265-9f82-570f0c872323",
   "metadata": {},
   "source": [
    "This method scales data to the **\\[0, 1]** range.\n",
    "\n",
    "$$\n",
    "x' = \\frac{x - \\min(x)}{\\max(x) - \\min(x)}\n",
    "$$"
   ]
  },
  {
   "cell_type": "code",
   "execution_count": 2,
   "id": "934768fa-e42e-4a8d-a9f7-8fd049a80eb8",
   "metadata": {},
   "outputs": [
    {
     "name": "stdout",
     "output_type": "stream",
     "text": [
      "[[0.67777778 0.73504832 0.34718769 0.66344003 0.72262679 0.62393111\n",
      "  0.45684192]\n",
      " [0.70555556 0.61608775 0.42806394 0.63303046 0.77737321 0.39042695\n",
      "  0.24636258]\n",
      " [0.91666667 0.29250457 0.50100651 0.88105566 1.         0.28106617\n",
      "  0.5323574 ]\n",
      " [0.33888889 0.31444241 0.20923623 0.41824574 0.31079324 0.35849657\n",
      "  0.73980184]\n",
      " [0.42777778 0.42308697 0.26228538 0.41020958 0.45643693 0.29343805\n",
      "  0.51022048]\n",
      " [0.27222222 0.41472969 0.27175844 0.34865988 0.19219766 0.64705258\n",
      "  0.75220923]\n",
      " [0.57222222 0.56986158 0.38685613 0.56317063 0.65916775 0.75188004\n",
      "  0.61349638]\n",
      " [0.         0.02794463 0.         0.18903246 0.         0.95810844\n",
      "  0.47576542]\n",
      " [0.66666667 0.25685558 0.42605092 0.67156751 0.71040312 0.78562981\n",
      "  0.54833527]]\n"
     ]
    }
   ],
   "source": [
    "from sklearn.preprocessing import MinMaxScaler\n",
    "import seaborn as sns\n",
    "\n",
    "crashes = sns.load_dataset('car_crashes')\n",
    "scaler = MinMaxScaler()\n",
    "crash_standard = scaler.fit_transform(crashes.iloc[:, 0:-1]) # standar\n",
    "print(crash_standard[1:10]) # print the first 10 rows"
   ]
  },
  {
   "cell_type": "markdown",
   "id": "096212da-3479-4e93-a260-893925b07163",
   "metadata": {},
   "source": [
    "- There is no negative values after standarization for this method."
   ]
  },
  {
   "cell_type": "markdown",
   "id": "ce90afa4",
   "metadata": {
    "slideshow": {
     "slide_type": "subslide"
    }
   },
   "source": [
    "## 主成分分析\n",
    "<hr>\n",
    "\n",
    "主成分分析（Principle Component Analysis, PCA）是数据降维的一个方法：原始数据中有很多特征变量，可以采用主成分分析方法将原始数据降维为少数几个变量，主成分就是降维后各原始变量的线性组合系数。"
   ]
  },
  {
   "cell_type": "markdown",
   "id": "bf24d832",
   "metadata": {
    "slideshow": {
     "slide_type": "fragment"
    }
   },
   "source": [
    "主成分分析的求解一般采用特征根分解，即求解原始数据**协方差矩阵或相关系数矩阵**最大特征根对应的特征向量，即为第一主成分，第二主成分为第二大特征根对应的特征向量，其他的主成分可以依次得出。主成分贡献率为对应特征根占所有特征根加和的比例。"
   ]
  },
  {
   "cell_type": "markdown",
   "id": "1c581816",
   "metadata": {
    "slideshow": {
     "slide_type": "subslide"
    }
   },
   "source": [
    "采用 python 主成分分析时，常用的包为 sklearn，其他一些包也能做（例如 matplotlib.mlab.PCA）。需要注意的是\n",
    "\n",
    "- 最好对原始数据进行标准化\n",
    "- sklearn 计算主成分时使用的是协方差矩阵，而不是相关系数矩阵"
   ]
  },
  {
   "cell_type": "markdown",
   "id": "422b83a0",
   "metadata": {
    "slideshow": {
     "slide_type": "subslide"
    }
   },
   "source": [
    "sklearn 中的标准化函数有：\n",
    "\n",
    "\n",
    "|函数|描述|\n",
    "|:--|:--|\n",
    "scale(X, axis=0, *)|对数据 X 进行 z 标准化，参数 axis 调整对列或对行标准化\n",
    "StandardScaler()| z 标准化，列标准化\n",
    "MinMaxScaler()| 最大最小标准化，列标准化\n",
    "MaxAbsScaler()| 最大绝对值标准化，列标准化\n",
    "... ...|\n"
   ]
  },
  {
   "cell_type": "markdown",
   "id": "27da887f",
   "metadata": {
    "slideshow": {
     "slide_type": "subslide"
    }
   },
   "source": [
    "举例，下面一个统计数据：\n",
    "\n",
    "|      | 食品    | 衣着   | 居住    | 家庭设备 | 交通通讯 | 文教娱乐 | 医疗保健 | 其他   |\n",
    "|------|-------|------|-------|------|------|------|------|------|\n",
    "| 北  京 | 1736  | 379  | 854   | 327  | 615  | 797  | 504  | 103  |\n",
    "| 天  津 | 1171  | 257  | 614   | 117  | 328  | 329  | 179  | 40   |\n",
    "| 河  北 | 888   | 156  | 399   | 101  | 222  | 226  | 135  | 39   |\n",
    "| 山  西 | 830   | 202  | 201   | 69   | 160  | 280  | 103  | 33   |\n",
    "| 内蒙古  | 1054  | 150  | 335   | 84   | 293  | 309  | 176  | 44   |\n",
    "| 辽  宁 | 1127  | 221  | 378   | 100  | 301  | 377  | 234  | 68   |\n",
    "| 吉  林 | 1003  | 168  | 257   | 82   | 285  | 261  | 194  | 56   |\n",
    "| 黑龙江  | 924   | 184  | 527   | 74   | 257  | 277  | 254  | 49   |\n",
    "| 上  海 | 2684  | 366  | 1320  | 458  | 748  | 937  | 562  | 204  |\n",
    "| 江  苏 | 1569  | 191  | 512   | 168  | 364  | 479  | 199  | 85   |\n",
    "| 浙  江 | 2061  | 319  | 914   | 260  | 618  | 723  | 416  | 121  |\n",
    "| 安  徽 | 1000  | 117  | 345   | 106  | 197  | 257  | 134  | 41   |\n",
    "| 福  建 | 1518  | 187  | 457   | 154  | 366  | 357  | 154  | 100  |\n",
    "| 江  西 | 1221  | 125  | 326   | 96   | 230  | 276  | 155  | 56   |\n",
    "| 山  东 | 1088  | 160  | 446   | 137  | 294  | 377  | 188  | 46   |\n",
    "| 河  南 | 859   | 132  | 318   | 83   | 160  | 178  | 123  | 39   |\n",
    "| 湖  北 | 1192  | 125  | 310   | 110  | 223  | 272  | 135  | 62   |\n",
    "| 湖  南 | 1433  | 128  | 307   | 114  | 219  | 329  | 168  | 58   |\n",
    "| 广  东 | 1789  | 144  | 530   | 152  | 412  | 361  | 204  | 116  |\n",
    "| 广  西 | 1187  | 79   | 380   | 95   | 214  | 226  | 123  | 44   |\n",
    "| 海  南 | 1135  | 66   | 146   | 92   | 178  | 199  | 93   | 60   |\n",
    "| 重  庆 | 1130  | 96   | 231   | 96   | 163  | 250  | 143  | 33   |\n",
    "| 四  川 | 1244  | 116  | 234   | 102  | 172  | 225  | 144  | 36   |\n",
    "| 贵  州 | 820   | 80   | 236   | 62   | 99   | 161  | 72   | 24   |\n",
    "| 云  南 | 976   | 80   | 226   | 67   | 100  | 183  | 122  | 35   |\n",
    "| 西  藏 | 1185  | 182  | 84    | 81   | 79   | 28   | 44   | 39   |\n",
    "| 陕  西 | 813   | 124  | 212   | 84   | 163  | 297  | 166  | 38   |\n",
    "| 甘  肃 | 859   | 92   | 241   | 74   | 155  | 258  | 114  | 27   |\n",
    "| 青  海 | 893   | 156  | 329   | 84   | 208  | 110  | 152  | 43   |\n",
    "| 宁  夏 | 923   | 143  | 346   | 77   | 178  | 178  | 199  | 51   |\n",
    "| 新  疆 | 804   | 171  | 333   | 68   | 183  | 159  | 169  | 36   |\n"
   ]
  },
  {
   "cell_type": "markdown",
   "id": "92e7931a",
   "metadata": {
    "slideshow": {
     "slide_type": "subslide"
    }
   },
   "source": [
    "主成分分析的 Python 代码为："
   ]
  },
  {
   "cell_type": "code",
   "execution_count": 3,
   "id": "d32ce699",
   "metadata": {
    "slideshow": {
     "slide_type": "fragment"
    }
   },
   "outputs": [
    {
     "name": "stdout",
     "output_type": "stream",
     "text": [
      "特征根： [7.32679152 0.46898546 0.16208403]\n",
      "\n",
      "主成分： [[ 0.34197826  0.32541509  0.36029958  0.36486138  0.3682146   0.36096996\n",
      "   0.35616496  0.34854195]\n",
      " [-0.54451489  0.61527353  0.11520953 -0.11674732  0.03494752  0.07480108\n",
      "   0.2943857  -0.4522824 ]\n",
      " [ 0.27960446  0.69192655 -0.19973533 -0.07235855 -0.02963776 -0.42452329\n",
      "  -0.39881297  0.24037227]]\n"
     ]
    }
   ],
   "source": [
    "from sklearn.decomposition import PCA\n",
    "from sklearn.preprocessing import scale\n",
    "import pandas as pd\n",
    "import numpy as np\n",
    "\n",
    "# 下面前几行代码是为了运行 live code 而进行的设置，\n",
    "# 与本章的教学内容无关\n",
    "import os\n",
    "\n",
    "if os.getcwd() == \"/home/jovyan\":\n",
    "    os.chdir(\"data-science/\")\n",
    "\n",
    "# 正文\n",
    "df = pd.read_excel(\"datas/data-pca.xlsx\", index_col=0)  # 读取数据\n",
    "data = scale(df.values)  # z标准化，标准化之后就自动根据协方差矩阵进行主成分分析了\n",
    "# data2 = np.corrcoef(np.transpose(data)) # 没有必要单独计算协方差阵或相关系数阵\n",
    "pca = PCA(n_components=3)  # 可以通过参数 n_components 调整主成分个数\n",
    "pca.fit(data)\n",
    "print(\"特征根：\", pca.explained_variance_)  # 输出特征根\n",
    "print()\n",
    "print(\"主成分：\", pca.components_)  # 输出主成分"
   ]
  },
  {
   "cell_type": "markdown",
   "id": "0455c322",
   "metadata": {
    "slideshow": {
     "slide_type": "subslide"
    }
   },
   "source": [
    "## Kmeans 聚类\n",
    "<hr>\n",
    "\n",
    "Kmeans 是一种动态聚类方法，其基本思想是：首先随机选取 K 个点作为初始凝聚点，按照距离最近原则划分为 K 类；然后重新计算 K 个类的重心作为新的凝聚点，再按照距离最近原则重新分类；重复这一过程，直到重心不再变化为止。"
   ]
  },
  {
   "cell_type": "markdown",
   "id": "1ad531ca",
   "metadata": {
    "slideshow": {
     "slide_type": "subslide"
    }
   },
   "source": [
    "对上面的例子，进行 Kmeans 聚类并画图的代码为："
   ]
  },
  {
   "cell_type": "code",
   "execution_count": 4,
   "id": "7ae7fd06",
   "metadata": {
    "slideshow": {
     "slide_type": "subslide"
    }
   },
   "outputs": [
    {
     "name": "stdout",
     "output_type": "stream",
     "text": [
      "[1 0 2 2 0 0 0 0 1 0 1 2 0 2 0 2 2 0 0 2 2 2 2 2 2 2 2 2 2 2 2]\n",
      "类别1\n",
      "['天  津', '内蒙古', '辽  宁', '吉  林', '黑龙江', '江  苏', '福  建', '山  东', '湖  南', '广  东']\n",
      "类别2\n",
      "['北  京', '上  海', '浙  江']\n",
      "类别3\n",
      "['河  北', '山  西', '安  徽', '江  西', '河  南', '湖  北', '广  西', '海  南', '重  庆', '四  川', '贵  州', '云  南', '西  藏', '陕  西', '甘  肃', '青  海', '宁  夏', '新  疆']\n"
     ]
    },
    {
     "data": {
      "image/png": "[encoded data removed]",
      "text/plain": [
       "<Figure size 640x480 with 1 Axes>"
      ]
     },
     "metadata": {},
     "output_type": "display_data"
    }
   ],
   "source": [
    "import warnings\n",
    "\n",
    "warnings.filterwarnings(\"ignore\")  # 忽略掉使用默写函数的一些警告信息\n",
    "\n",
    "import pandas as pd\n",
    "from sklearn.cluster import KMeans\n",
    "import numpy as np\n",
    "from sklearn.preprocessing import MinMaxScaler\n",
    "\n",
    "# 下面前几行代码是为了运行 live code 而进行的设置，\n",
    "# 与本章的教学内容无关\n",
    "import os\n",
    "\n",
    "if os.getcwd() == \"/home/jovyan\":\n",
    "    os.chdir(\"data-science/\")\n",
    "\n",
    "# 正文\n",
    "# 将上述数据放到 excel 里，并用 pandas 读取\n",
    "df = pd.read_excel(\"datas/data-pca.xlsx\", index_col=0)\n",
    "\n",
    "scale_values = MinMaxScaler().fit_transform(df.values)  # 数据表转化预处理\n",
    "\n",
    "kmeans = KMeans(n_clusters=3).fit(scale_values)  # 分为 3 类, 参数 n_init= 'auto' 设置初始聚类的运行次数\n",
    "print(kmeans.labels_)  # 输出判别结果列表\n",
    "\n",
    "# 具体输出判别结果\n",
    "cluster_1 = []\n",
    "cluster_2 = []\n",
    "cluster_3 = []\n",
    "for i, j in enumerate(kmeans.labels_):\n",
    "    if j == 0:\n",
    "        cluster_1.append(df.index[i])\n",
    "    elif j == 1:\n",
    "        cluster_2.append(df.index[i])\n",
    "    else:\n",
    "        cluster_3.append(df.index[i])\n",
    "print(\"类别1\")\n",
    "print(cluster_1)\n",
    "print(\"类别2\")\n",
    "print(cluster_2)\n",
    "print(\"类别3\")\n",
    "print(cluster_3)\n",
    "\n",
    "# draw pictures by tsne, or pca, 利用主成分降为 2 维，并画图显示分类结果\n",
    "# from sklearn.manifold import TSNE\n",
    "from sklearn.decomposition import PCA\n",
    "import matplotlib.pyplot as plt\n",
    "\n",
    "tsne = PCA(n_components=2).fit_transform(scale_values)  # tsne\n",
    "df2 = pd.DataFrame(tsne)\n",
    "df2[\"labels\"] = kmeans.labels_\n",
    "\n",
    "df_1 = df2[df2[\"labels\"] == 0]\n",
    "df_2 = df2[df2[\"labels\"] == 1]\n",
    "df_3 = df2[df2[\"labels\"] == 2]\n",
    "\n",
    "# 画图\n",
    "plt.plot(df_1[0], df_1[1], \"bo\", df_2[0], df_2[1], \"r*\", df_3[0], df_3[1], \"gD\")\n",
    "plt.show()"
   ]
  },
  {
   "cell_type": "markdown",
   "id": "51a7a038",
   "metadata": {
    "slideshow": {
     "slide_type": "subslide"
    }
   },
   "source": [
    "## 人工神经网络\n",
    "<hr>\n",
    "\n",
    "\n",
    "神经网络的目标是：找到一个能把一组输入最好地映射到其正确输出的函数。例如一个简单的分类任务，其中输入是动物的图像，正确的输出将是动物的名称。或者根据历史需求数据，预测未来一期的需求。神经网络的思想类似回归分析中经常用到的拟合，都用到了最小二乘的思想：数学意义上的决策目标是：选取一些参数（神经网络中每个输入的权重），使得拟合的输出与期望输出的误差平方和最小。"
   ]
  },
  {
   "cell_type": "markdown",
   "id": "c073a62b",
   "metadata": {
    "slideshow": {
     "slide_type": "subslide"
    }
   },
   "source": [
    "下面是一个神经网络示意图（输入层有一些神经元，隐含层有一些神经元，输出层有一些神经元），输入信息经过正向传播到输出，计算实际输出与期望输出的误差后，在反向传播误差；重复这个过程，在传播过程中，不断减少误差，直到误差减少到一定程度终止。\n",
    "\n",
    "![ann.png](_build/html/_images/ann.png)"
   ]
  },
  {
   "cell_type": "markdown",
   "id": "256633e3",
   "metadata": {
    "slideshow": {
     "slide_type": "subslide"
    }
   },
   "source": [
    "用 BP 神经网络预测 sklearn 包中自带的乳腺癌数据例子："
   ]
  },
  {
   "cell_type": "code",
   "execution_count": 5,
   "id": "fa3d68a5",
   "metadata": {
    "slideshow": {
     "slide_type": "subslide"
    }
   },
   "outputs": [
    {
     "name": "stdout",
     "output_type": "stream",
     "text": [
      "神经网络预测结果评价报告：\n",
      "               precision    recall  f1-score   support\n",
      "\n",
      "           0       0.98      0.96      0.97        47\n",
      "           1       0.97      0.99      0.98        67\n",
      "\n",
      "    accuracy                           0.97       114\n",
      "   macro avg       0.97      0.97      0.97       114\n",
      "weighted avg       0.97      0.97      0.97       114\n",
      "\n"
     ]
    }
   ],
   "source": [
    "# 测试一下癌症数据\n",
    "from sklearn import datasets\n",
    "from sklearn.preprocessing import StandardScaler\n",
    "from sklearn.model_selection import train_test_split\n",
    "from sklearn.neural_network import MLPClassifier\n",
    "from sklearn.metrics import classification_report\n",
    "\n",
    "cancer = datasets.load_breast_cancer()\n",
    "cancer_data = cancer[\"data\"]\n",
    "cancer_target = cancer[\"target\"]\n",
    "\n",
    "# 将数据集划分为训练集，测试集\n",
    "(\n",
    "    cancer_data_train,\n",
    "    cancer_data_test,\n",
    "    cancer_target_train,\n",
    "    cancer_target_test,\n",
    ") = train_test_split(cancer_data, cancer_target, test_size=0.2)\n",
    "\n",
    "# 数据标准化\n",
    "stdScaler = StandardScaler().fit(cancer_data_train)\n",
    "cancer_trainStd = stdScaler.transform(cancer_data_train)\n",
    "cancer_testStd = stdScaler.transform(cancer_data_test)\n",
    "\n",
    "# 建立 BP 模型\n",
    "bpnn = MLPClassifier(\n",
    "    hidden_layer_sizes=(20, 10),  # 神经元隐含层的大小\n",
    "    max_iter=200,\n",
    "    solver=\"adam\",\n",
    "    random_state=45,\n",
    ")\n",
    "bpnn.fit(cancer_trainStd, cancer_target_train)\n",
    "\n",
    "# 预测\n",
    "y_pred = bpnn.predict(cancer_testStd)  # 返回预测结果\n",
    "print(\"神经网络预测结果评价报告：\\n\", classification_report(cancer_target_test, y_pred))"
   ]
  },
  {
   "cell_type": "markdown",
   "id": "75a69d10",
   "metadata": {
    "slideshow": {
     "slide_type": "subslide"
    }
   },
   "source": [
    "其他常见的机器学习方法，例如随机森林，支持向量机，梯度提升等，都可以在`sklearn`库中找到相应的函数。"
   ]
  },
  {
   "cell_type": "markdown",
   "id": "16a3933a",
   "metadata": {},
   "source": [
    "## 练习\n",
    "<hr>"
   ]
  },
  {
   "cell_type": "markdown",
   "id": "91efcfdb",
   "metadata": {},
   "source": [
    "```{exercise}\n",
    ":label: regression\n",
    "使用python 中的`statsmodels`库或`sklearn`库，编程实现《统计学》或《计量经济学》课程上的一些数据分析习题。\n",
    "\n",
    "```"
   ]
  },
  {
   "cell_type": "markdown",
   "id": "5e777e6d",
   "metadata": {},
   "source": [
    "<script src=\"https://giscus.app/client.js\"\n",
    "        data-repo=\"robinchen121/book-Python-Data-Science\"\n",
    "        data-repo-id=\"R_kgDOKFdyOw\"\n",
    "        data-category=\"Announcements\"\n",
    "        data-category-id=\"DIC_kwDOKFdyO84CgWHi\"\n",
    "        data-mapping=\"pathname\"\n",
    "        data-strict=\"0\"\n",
    "        data-reactions-enabled=\"1\"\n",
    "        data-emit-metadata=\"0\"\n",
    "        data-input-position=\"bottom\"\n",
    "        data-theme=\"light\"\n",
    "        data-lang=\"en\"\n",
    "        crossorigin=\"anonymous\"\n",
    "        async>\n",
    "</script>"
   ]
  },
  {
   "cell_type": "markdown",
   "id": "4db20c4d",
   "metadata": {},
   "source": [
    "<!-- Toogle google translation -->\n",
    "<div id=\"google_translate_element\"></div>\n",
    "<script type=\"text/javascript\">\n",
    "      function googleTranslateElementInit() {\n",
    "        new google.translate.TranslateElement({ pageLanguage: 'en',\n",
    "                  includedLanguages: 'en,zh-CN,zh-TW,ja,ko,de,ru,fr,es,it,pt,hi,ar,fa',\n",
    "layout: google.translate.TranslateElement.InlineLayout.SIMPLE }, 'google_translate_element');\n",
    "      }\n",
    "</script>\n",
    "<script type=\"text/javascript\"\n",
    "      src=\"https://translate.google.com/translate_a/element.js?cb=googleTranslateElementInit\"\n",
    "></script>\n",
    "<br>"
   ]
  },
  {
   "cell_type": "markdown",
   "id": "48a8a629b80fdfd3",
   "metadata": {},
   "source": []
  }
 ],
 "metadata": {
  "celltoolbar": "幻灯片",
  "kernelspec": {
   "display_name": "Python [conda env:base] *",
   "language": "python",
   "name": "conda-base-py"
  },
  "language_info": {
   "codemirror_mode": {
    "name": "ipython",
    "version": 3
   },
   "file_extension": ".py",
   "mimetype": "text/x-python",
   "name": "python",
   "nbconvert_exporter": "python",
   "pygments_lexer": "ipython3",
   "version": "3.12.2"
  }
 },
 "nbformat": 4,
 "nbformat_minor": 5
}