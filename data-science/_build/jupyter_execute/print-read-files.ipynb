{
 "cells": [
  {
   "cell_type": "markdown",
   "id": "8d352d8c",
   "metadata": {
    "editable": true,
    "slideshow": {
     "slide_type": "slide"
    },
    "tags": []
   },
   "source": [
    "# Output, read and write files\n",
    "<hr>\n",
    "\n",
    "## `print` function\n",
    "<hr>\n",
    "\n",
    "In Python, outputting content is very straightforward using the `print()` function. Inside the parentheses, you can pass various data types such as numbers, strings, lists, dictionaries, and more."
   ]
  },
  {
   "cell_type": "code",
   "execution_count": 1,
   "id": "66dd5d6e",
   "metadata": {
    "scrolled": true,
    "slideshow": {
     "slide_type": "subslide"
    }
   },
   "outputs": [
    {
     "name": "stdout",
     "output_type": "stream",
     "text": [
      "[12, 45, 69]\n"
     ]
    }
   ],
   "source": [
    "print([12, 45, 69])  # list"
   ]
  },
  {
   "cell_type": "code",
   "execution_count": 2,
   "id": "a84ac643",
   "metadata": {
    "slideshow": {
     "slide_type": "fragment"
    }
   },
   "outputs": [
    {
     "name": "stdout",
     "output_type": "stream",
     "text": [
      "{'name': 'chen', 'mark': 85}\n"
     ]
    }
   ],
   "source": [
    "dict = {\"name\": \"chen\", \"mark\": 85}\n",
    "print(dict)  # dict"
   ]
  },
  {
   "cell_type": "markdown",
   "id": "97fd524e",
   "metadata": {
    "slideshow": {
     "slide_type": "subslide"
    }
   },
   "source": [
    "You can also **output strings and variables together** inside the `print()` function."
   ]
  },
  {
   "cell_type": "code",
   "execution_count": 3,
   "id": "9aa52c16",
   "metadata": {
    "slideshow": {
     "slide_type": "fragment"
    }
   },
   "outputs": [
    {
     "name": "stdout",
     "output_type": "stream",
     "text": [
      "a = [1, 2, 3] , b = 4\n"
     ]
    }
   ],
   "source": [
    "a = [1, 2, 3]\n",
    "b = 4\n",
    "print(\"a =\", a, \", b =\", b)"
   ]
  },
  {
   "cell_type": "markdown",
   "id": "d813fb15",
   "metadata": {
    "slideshow": {
     "slide_type": "subslide"
    }
   },
   "source": [
    "By default, the `print()` function adds a newline character at the end of the output, moving the cursor to the next line."
   ]
  },
  {
   "cell_type": "code",
   "execution_count": 4,
   "id": "9f01def7",
   "metadata": {
    "slideshow": {
     "slide_type": "fragment"
    }
   },
   "outputs": [
    {
     "name": "stdout",
     "output_type": "stream",
     "text": [
      "my name is zhang\n",
      "age is 25\n"
     ]
    }
   ],
   "source": [
    "a = \"zhang\"\n",
    "age = 25\n",
    "print(\"my name is\",  a)  # the cursor is moving to the next line\n",
    "print(\"age is\", age)"
   ]
  },
  {
   "cell_type": "markdown",
   "id": "961f40ab",
   "metadata": {
    "slideshow": {
     "slide_type": "subslide"
    }
   },
   "source": [
    "To modify the ending behavior of the `print()` function's cursor, you can use the `end` argument, which defaults to a newline character `\\n`."
   ]
  },
  {
   "cell_type": "code",
   "execution_count": 5,
   "id": "7b90898b",
   "metadata": {
    "slideshow": {
     "slide_type": "fragment"
    }
   },
   "outputs": [
    {
     "name": "stdout",
     "output_type": "stream",
     "text": [
      "my name is zhang-age is 25\n"
     ]
    }
   ],
   "source": [
    "a = \"zhang\"\n",
    "age = 25\n",
    "print(\"my name is %s\" % a, end=\"-\")\n",
    "print(\"age is %d\" % age)"
   ]
  },
  {
   "cell_type": "markdown",
   "id": "0b21b518",
   "metadata": {
    "slideshow": {
     "slide_type": "subslide"
    }
   },
   "source": [
    "## Using `f-string`\n",
    "<hr>"
   ]
  },
  {
   "cell_type": "markdown",
   "id": "82b160aa",
   "metadata": {
    "slideshow": {
     "slide_type": "fragment"
    }
   },
   "source": [
    "We can use `f-string` for more flexible outputs of strings. The variable is in the curly braces `{ }`."
   ]
  },
  {
   "cell_type": "code",
   "execution_count": 6,
   "id": "cc5853c8",
   "metadata": {
    "slideshow": {
     "slide_type": "fragment"
    }
   },
   "outputs": [
    {
     "name": "stdout",
     "output_type": "stream",
     "text": [
      "the array is [1, 2, 3]\n"
     ]
    }
   ],
   "source": [
    "a = [1, 2, 3]\n",
    "print(f\"the array is {a}\")  # output a list variable"
   ]
  },
  {
   "cell_type": "code",
   "execution_count": 7,
   "id": "22c9df19",
   "metadata": {
    "scrolled": true,
    "slideshow": {
     "slide_type": "subslide"
    }
   },
   "outputs": [
    {
     "name": "stdout",
     "output_type": "stream",
     "text": [
      "the array is [1, 2, 3], the numer is 3.2\n"
     ]
    }
   ],
   "source": [
    "b = 3.2\n",
    "print(f\"the array is {a}, the numer is {b}\") # output several variables"
   ]
  },
  {
   "cell_type": "code",
   "execution_count": 8,
   "id": "e16d4815",
   "metadata": {
    "scrolled": true,
    "slideshow": {
     "slide_type": "fragment"
    }
   },
   "outputs": [
    {
     "name": "stdout",
     "output_type": "stream",
     "text": [
      "the numbers are 3.141592653589793 and 4.56\n"
     ]
    }
   ],
   "source": [
    "import math\n",
    "\n",
    "b = 4.56\n",
    "print(f\"the numbers are {math.pi} and {b}\")"
   ]
  },
  {
   "cell_type": "markdown",
   "id": "03e00f87",
   "metadata": {},
   "source": [
    " We can use colons `:` to specify variable alignment, width, precision, and type in the f-string."
   ]
  },
  {
   "cell_type": "markdown",
   "id": "15094cfa",
   "metadata": {},
   "source": [
    "The format after the colons `:` is：\n",
    "\n",
    "|: \\<fill\\> \\<alignment\\>\\<width\\><`.`>\\<presition\\>\\<type\\>|\n",
    "|--|"
   ]
  },
  {
   "cell_type": "markdown",
   "id": "f4628406",
   "metadata": {
    "slideshow": {
     "slide_type": "subslide"
    }
   },
   "source": [
    "The notations for alignment are：\n",
    "\n",
    "|Code|Meaning|\n",
    "|--|--|\n",
    "|`>`|Align right (default)|\n",
    "|`<`|Align left|\n",
    "|`^`|Align center|"
   ]
  },
  {
   "cell_type": "markdown",
   "id": "e2f75df9",
   "metadata": {
    "slideshow": {
     "slide_type": "fragment"
    }
   },
   "source": [
    "The notations for varaible types are:\n",
    "\n",
    "| Code | Meaning | Example (value=42.5) | Output |\n",
    "|------|---------|----------------------|--------|\n",
    "| `s`  | String format (default) | `f\"{'text':s}\"` | `'text'` |\n",
    "| `d`  | Decimal integer | `f\"{42:d}\"` | `42` |\n",
    "| `f`  | Fixed-point float | `f\"{42.5:.2f}\"` | `42.50` |\n",
    "| `e`  | Scientific notation | `f\"{42.5:.2e}\"` | `4.25e+01` |\n",
    "| `%`  | Percentage format | `f\"{0.425:.1%}\"` | `42.5%` |\n"
   ]
  },
  {
   "cell_type": "code",
   "execution_count": 9,
   "id": "62e8de9b",
   "metadata": {},
   "outputs": [
    {
     "data": {
      "text/plain": [
       "'the numbers are 1.000 and b =              456.00%'"
      ]
     },
     "execution_count": 9,
     "metadata": {},
     "output_type": "execute_result"
    }
   ],
   "source": [
    "a = 1\n",
    "b = 4.56\n",
    "# The first number is a floating-point number rounded to 3 decimals\n",
    "# The second number is right-aligned with a width of 20, rounded to 2 decimals, and displayed as a percentage\n",
    "f\"the numbers are {a:.3f} and {b = :>20.2%}\""
   ]
  },
  {
   "cell_type": "code",
   "execution_count": 10,
   "id": "437b481f",
   "metadata": {},
   "outputs": [
    {
     "name": "stdout",
     "output_type": "stream",
     "text": [
      "a = +++5.60+++\n"
     ]
    }
   ],
   "source": [
    "a = 5.6\n",
    "print(f\"{a = :+^10.2f}\")  # fill with +, align center, width is 10, rounded to 2 decimals"
   ]
  },
  {
   "cell_type": "markdown",
   "id": "77bb29d7",
   "metadata": {
    "slideshow": {
     "slide_type": "subslide"
    }
   },
   "source": [
    "## Using `format`\n",
    "<hr>\n"
   ]
  },
  {
   "cell_type": "markdown",
   "id": "7dd70132",
   "metadata": {
    "slideshow": {
     "slide_type": "fragment"
    }
   },
   "source": [
    "We can also achieve different formats of output using `format`. The syntax is:\n",
    "\n",
    "||string with curly braces `{ }`.format(value1, value2...)|\n",
    "|:-:|:-:|\n"
   ]
  },
  {
   "cell_type": "markdown",
   "id": "e2dc5858",
   "metadata": {
    "slideshow": {
     "slide_type": "subslide"
    }
   },
   "source": [
    "In the string, `{ }` is the location of the variable, and the values of the varaibles are in `( )`."
   ]
  },
  {
   "cell_type": "code",
   "execution_count": 11,
   "id": "d511c11d",
   "metadata": {
    "slideshow": {
     "slide_type": "fragment"
    }
   },
   "outputs": [
    {
     "name": "stdout",
     "output_type": "stream",
     "text": [
      "the numbers are 3 and 4.560\n"
     ]
    }
   ],
   "source": [
    "a = 3\n",
    "b = 4.56\n",
    "print(\"the numbers are {} and {:.3f}\".format(a, b))"
   ]
  },
  {
   "cell_type": "markdown",
   "id": "c12d5c8c",
   "metadata": {
    "slideshow": {
     "slide_type": "subslide"
    }
   },
   "source": [
    "We can add the location index of the variable inside the `{ }`."
   ]
  },
  {
   "cell_type": "code",
   "execution_count": 12,
   "id": "9c58cdcd",
   "metadata": {
    "slideshow": {
     "slide_type": "fragment"
    }
   },
   "outputs": [
    {
     "name": "stdout",
     "output_type": "stream",
     "text": [
      "the numbers are 4.56 and 3\n",
      "the numbers are 3 and 4.56\n",
      "the numbers are 3 and 4.56 and 3\n"
     ]
    }
   ],
   "source": [
    "a = 3\n",
    "b = 4.56\n",
    "print(\"the numbers are {1} and {0}\".format(a, b))  # specify the variable index indside {}\n",
    "print(\"the numbers are {0} and {1}\".format(a, b))\n",
    "print(\"the numbers are {0} and {1} and {0}\".format(a, b))"
   ]
  },
  {
   "cell_type": "markdown",
   "id": "641f9091",
   "metadata": {
    "slideshow": {
     "slide_type": "subslide"
    }
   },
   "source": [
    "To output a curly brace, use double curly braces: `{{`, `}}`."
   ]
  },
  {
   "cell_type": "code",
   "execution_count": 13,
   "id": "6dea9ccb",
   "metadata": {
    "slideshow": {
     "slide_type": "fragment"
    }
   },
   "outputs": [
    {
     "name": "stdout",
     "output_type": "stream",
     "text": [
      "the numbers are { 3 } and { 4.56 }\n"
     ]
    }
   ],
   "source": [
    "print(\"the numbers are {{ {0} }} and {{ {1} }}\".format(a, b))"
   ]
  },
  {
   "cell_type": "markdown",
   "id": "b7b5916a",
   "metadata": {
    "slideshow": {
     "slide_type": "subslide"
    }
   },
   "source": [
    "When using the format() method, you can achieve formatted output by including a colon `:` and additional arguments within the curly braces {}, similar to how f-strings work."
   ]
  },
  {
   "cell_type": "code",
   "execution_count": 14,
   "id": "f6568b0c",
   "metadata": {
    "slideshow": {
     "slide_type": "subslide"
    }
   },
   "outputs": [
    {
     "name": "stdout",
     "output_type": "stream",
     "text": [
      "the numbers are       3.00 and 300.000%\n"
     ]
    }
   ],
   "source": [
    "a = 3\n",
    "b = 4.56\n",
    "print(\"the numbers are {0:10.2f} and {0:.3%}\".format(a, b))"
   ]
  },
  {
   "cell_type": "code",
   "execution_count": 15,
   "id": "4b60e0e4",
   "metadata": {
    "slideshow": {
     "slide_type": "fragment"
    }
   },
   "outputs": [
    {
     "name": "stdout",
     "output_type": "stream",
     "text": [
      "the numer is 1.234560e+05\n"
     ]
    }
   ],
   "source": [
    "a = 123456\n",
    "print(\"the numer is {:e}\".format(a))"
   ]
  },
  {
   "cell_type": "code",
   "execution_count": 16,
   "id": "9d861fd9",
   "metadata": {
    "slideshow": {
     "slide_type": "fragment"
    }
   },
   "outputs": [
    {
     "name": "stdout",
     "output_type": "stream",
     "text": [
      "a = 00005\n"
     ]
    }
   ],
   "source": [
    "a = 5\n",
    "print(\"a = {:0>5d}\".format(a))  # align left, fill with 0, width 5, type integer"
   ]
  },
  {
   "cell_type": "code",
   "execution_count": 17,
   "id": "5c2c1a37",
   "metadata": {
    "slideshow": {
     "slide_type": "fragment"
    }
   },
   "outputs": [
    {
     "name": "stdout",
     "output_type": "stream",
     "text": [
      "a = +++5.60+++\n"
     ]
    }
   ],
   "source": [
    "a = 5.6\n",
    "print(\"a = {:+^10.2f}\".format(a))  # align center, fill with +, width 10, round to 2 decimals"
   ]
  },
  {
   "cell_type": "markdown",
   "id": "c6efa190",
   "metadata": {},
   "source": [
    "As f-string, the width and precision values can be passed as variables using curly braces {} with argument assignment, for example:"
   ]
  },
  {
   "cell_type": "code",
   "execution_count": 18,
   "id": "09938243",
   "metadata": {},
   "outputs": [
    {
     "name": "stdout",
     "output_type": "stream",
     "text": [
      "a =   5.600   \n"
     ]
    }
   ],
   "source": [
    "a = 5.6\n",
    "print(\"a = {:^{width}.{precision}f}\".format(a, width=10, precision=3))  # width and precision as variables"
   ]
  },
  {
   "cell_type": "code",
   "execution_count": 19,
   "id": "3bec6c60-151c-4925-8978-f0545a122ffa",
   "metadata": {},
   "outputs": [
    {
     "name": "stdout",
     "output_type": "stream",
     "text": [
      "a =   5.600   \n"
     ]
    }
   ],
   "source": [
    "a = 5.6\n",
    "width = 10\n",
    "precision = 3\n",
    "print(f\"a = {a:^{width}.{precision}f}\")  # width and precision as variables"
   ]
  },
  {
   "cell_type": "markdown",
   "id": "845deff5",
   "metadata": {},
   "source": [
    "## Using `%` for output*[^1]\n",
    "<hr>\n",
    "\n",
    "[^1]: \\* means this section may not be delived in class.\n",
    "\n",
    "The percent sign `%` can also achieve various formatted outputs, with syntax rules similar to C language. Here are some specific examples for reference:"
   ]
  },
  {
   "cell_type": "code",
   "execution_count": 20,
   "id": "b7dadf8b",
   "metadata": {},
   "outputs": [
    {
     "name": "stdout",
     "output_type": "stream",
     "text": [
      "the number is 3\n"
     ]
    }
   ],
   "source": [
    "import math\n",
    "\n",
    "print(\"the number is %d\" % math.pi)  # output a float to integer format"
   ]
  },
  {
   "cell_type": "code",
   "execution_count": 21,
   "id": "7ed1c925",
   "metadata": {},
   "outputs": [
    {
     "name": "stdout",
     "output_type": "stream",
     "text": [
      "the number is 3.14\n"
     ]
    }
   ],
   "source": [
    "print(\"the number is %.2f\" % math.pi)  # output a float rouding to 2 decimals"
   ]
  },
  {
   "cell_type": "code",
   "execution_count": 22,
   "id": "42f26d55",
   "metadata": {},
   "outputs": [
    {
     "name": "stdout",
     "output_type": "stream",
     "text": [
      "the number is 3.14\n",
      "\n"
     ]
    }
   ],
   "source": [
    "print(\"the number is %.2f\\n\" % math.pi)  # \\n indicates a line break after print(), moving the cursor to the next line"
   ]
  },
  {
   "cell_type": "code",
   "execution_count": 23,
   "id": "0aa6bfe9",
   "metadata": {},
   "outputs": [
    {
     "name": "stdout",
     "output_type": "stream",
     "text": [
      "the numbers are 3.14 and 4\n"
     ]
    }
   ],
   "source": [
    "b = 4.56\n",
    "print(\"the numbers are %.2f and %d\" % (math.pi, b))  # output multi variables"
   ]
  },
  {
   "cell_type": "code",
   "execution_count": 24,
   "id": "64cce596",
   "metadata": {},
   "outputs": [
    {
     "name": "stdout",
     "output_type": "stream",
     "text": [
      "the number is  3.14\n"
     ]
    }
   ],
   "source": [
    "print(\"the number is %5.2f\" % math.pi)  # output a float rounding to 2 decimals with width 5"
   ]
  },
  {
   "cell_type": "code",
   "execution_count": 25,
   "id": "a524414a",
   "metadata": {},
   "outputs": [
    {
     "name": "stdout",
     "output_type": "stream",
     "text": [
      "the number is 321\n"
     ]
    }
   ],
   "source": [
    "print(\"the number is %s\" % 321)  # output in a string format"
   ]
  },
  {
   "cell_type": "code",
   "execution_count": 26,
   "id": "407104bb",
   "metadata": {},
   "outputs": [
    {
     "name": "stdout",
     "output_type": "stream",
     "text": [
      "4.6%\n"
     ]
    }
   ],
   "source": [
    "print(\"%.1f%%\" % b)  # output in a percentage format"
   ]
  },
  {
   "cell_type": "markdown",
   "id": "9d0d96b8",
   "metadata": {
    "slideshow": {
     "slide_type": "subslide"
    }
   },
   "source": [
    "## Read and write files\n",
    "<hr>\n",
    "\n",
    "Python operates on text files following the steps: **open → operate → close**. It opens a file from the computer's storage location, performs some read or write operations, and then closes the file. While the file is open, it is in a **\"locked\"** state, meaning other processes on the computer cannot access it. Once the file is closed, it becomes accessible to other processes."
   ]
  },
  {
   "cell_type": "markdown",
   "id": "1c6b9a8e",
   "metadata": {
    "slideshow": {
     "slide_type": "subslide"
    }
   },
   "source": [
    "Python uses the function ``open()`` to open a file object and the syntax is:\n",
    "\n",
    "|open(filename, mode)||\n",
    "|--|--|\n",
    "|filename|An string with address and file name;|\n",
    "||the default address is the current file folder|\n",
    "|mode|Read/write mode and the default is read-only model (`r`)|"
   ]
  },
  {
   "cell_type": "markdown",
   "id": "7da4bc3d",
   "metadata": {
    "slideshow": {
     "slide_type": "subslide"
    }
   },
   "source": [
    "The read/write modes include:\n",
    "\n",
    "| Mode | Description | File Pointer | File Existence |\n",
    "|------|-------------|--------------|----------------|\n",
    "| `'r'`  | **Read-only** (default) | Starts at beginning | File must exist |\n",
    "| `'w'`  | **Write** (overwrites existing file) | Starts at beginning | Creates file if missing |\n",
    "| `'a'`  | **Append** (adds to end of file) | Starts at end | Creates file if missing |\n",
    "| `'r+'` | **Read + Write** | Starts at beginning | File must exist |\n",
    "| `'w+'` | **Write + Read** (overwrites) | Starts at beginning | Creates file if missing |\n",
    "| `'a+'` | **Append + Read** | Starts at end | Creates file if missing |"
   ]
  },
  {
   "cell_type": "markdown",
   "id": "000c05b1",
   "metadata": {
    "slideshow": {
     "slide_type": "subslide"
    }
   },
   "source": [
    "Comparisions between different modes:\n",
    "\n",
    "| Mode      | `r`          | `r+`         | `w`          | `w+`         | `a`          | `a+`         |\n",
    "|-------|------------|------------|------------|------------|------------|------------|\n",
    "| Read       | &check;| &check; |            | &check; |            | &check; |\n",
    "| Write       |            | &check; | &check; | &check; | &check; |&check; |\n",
    "| Create      |            |            | &check; | &check; | &check; | &check; |\n",
    "| Overwrite     |            |            | &check; | &check; |            |            |\n",
    "| Start at begining | &check; | &check; | &check; | &check; |            |            |\n",
    "| Start at end |            |            |            |            | &check; |&check; |\n"
   ]
  },
  {
   "cell_type": "markdown",
   "id": "bc48b4e4",
   "metadata": {
    "slideshow": {
     "slide_type": "subslide"
    }
   },
   "source": [
    "For example:"
   ]
  },
  {
   "cell_type": "code",
   "execution_count": 27,
   "id": "7a0b7ecc",
   "metadata": {
    "slideshow": {
     "slide_type": "fragment"
    }
   },
   "outputs": [],
   "source": [
    "f = open(\n",
    "    \"test.txt\", \"w\"\n",
    ")  # creat a file in the current folder; if creating the file under the E drive:  f = open('E:\\\\files\\\\test.txt', 'r')\n",
    "f.write(\"My name is Tim Cook\\nHis name is Elon Musk\")  # write the contents and use \\n for line break\n",
    "f.close()  # close the opened file"
   ]
  },
  {
   "cell_type": "markdown",
   "id": "085f6b4c",
   "metadata": {
    "slideshow": {
     "slide_type": "fragment"
    }
   },
   "source": [
    "The above program creates a new .txt file in the current directory. It writes content to the file using the write() method, where \\n represents a newline. \n",
    "- To create or modify a file at a specific location, you can further include a **file path string in the filename**."
   ]
  },
  {
   "cell_type": "markdown",
   "id": "174a073c",
   "metadata": {
    "slideshow": {
     "slide_type": "subslide"
    }
   },
   "source": [
    "The following codes read all the contents from the file through the method ``read()`` and return a string."
   ]
  },
  {
   "cell_type": "code",
   "execution_count": 28,
   "id": "f4a604b6",
   "metadata": {
    "slideshow": {
     "slide_type": "fragment"
    }
   },
   "outputs": [
    {
     "name": "stdout",
     "output_type": "stream",
     "text": [
      "My name is Tim Cook\n",
      "His name is Elon Musk\n"
     ]
    }
   ],
   "source": [
    "f = open(\"test.txt\", \"r\")\n",
    "str = f.read()  # read the contents and return a string\n",
    "print(str)  # print the string\n",
    "f.close()  # close the opened file"
   ]
  },
  {
   "cell_type": "markdown",
   "id": "6057c3b4",
   "metadata": {
    "slideshow": {
     "slide_type": "fragment"
    }
   },
   "source": [
    "To read just one line, you can use the `readline()` method. Alternatively, you can use the `readlines()` method to read all lines, which returns a **list** where each element is a line from the file."
   ]
  },
  {
   "cell_type": "markdown",
   "id": "dbc88b38",
   "metadata": {
    "slideshow": {
     "slide_type": "subslide"
    }
   },
   "source": [
    "- In practical Python file reading and writing, the `with-open` statement is often used. Since file operations may raise an IOError, if an error occurs, the `f.close()` statement may not be executed, leaving the file open in the background. Using the `with-open` statement allows you to **omit the f.close()** call safely.\n",
    "\n",
    "The above reading and writing code can also be rewritten as:"
   ]
  },
  {
   "cell_type": "code",
   "execution_count": 29,
   "id": "0ab7ba68",
   "metadata": {
    "slideshow": {
     "slide_type": "fragment"
    }
   },
   "outputs": [
    {
     "name": "stdout",
     "output_type": "stream",
     "text": [
      "My name is Tim Cook\n",
      "His name is Elon Musk\n"
     ]
    }
   ],
   "source": [
    "# write contents\n",
    "with open(\"test.txt\", \"w\") as f:\n",
    "    f.write(\"My name is Tim Cook\\nHis name is Elon Musk\")\n",
    "\n",
    "# read contents\n",
    "with open(\"test.txt\", \"r\") as f:\n",
    "    str = f.read()  \n",
    "    print(str)  "
   ]
  },
  {
   "cell_type": "markdown",
   "id": "f56edb0a",
   "metadata": {
    "slideshow": {
     "slide_type": "subslide"
    }
   },
   "source": [
    "To read and write data format files such as .txt, .xls, .xlsx, and .csv, it is common to use the `Pandas` library to read files and process data. Readers can refer to the Pandas chapter in this book for more details.\n",
    "\n",
    "To read and write Word format files, libraries such as `textract` and `docx2txt` can be used. This book does not go into further detail on this topic—interested readers can look up relevant information online."
   ]
  },
  {
   "cell_type": "markdown",
   "id": "48c392b3",
   "metadata": {},
   "source": [
    "## `os`, `sys` library*\n",
    "<hr>"
   ]
  },
  {
   "cell_type": "markdown",
   "id": "03ae406a",
   "metadata": {},
   "source": [
    "###  `os` library\n",
    "<hr>\n",
    "\n",
    "The `os` in Python is a standard library for interacting with the operating system, providing functionalities for handling files, directories, processes, and environment variables. "
   ]
  },
  {
   "cell_type": "markdown",
   "id": "facbfa0a-7277-43ec-bb91-12a370bada64",
   "metadata": {},
   "source": [
    "Below are some usages of the `os`:"
   ]
  },
  {
   "cell_type": "markdown",
   "id": "800c9411",
   "metadata": {
    "scrolled": false
   },
   "source": [
    "```python\n",
    "import os\n",
    "\n",
    "print(os.name)  # get the name of the current computer system: 'posix' (Linux/macOS) or 'nt' (Windows)\n",
    "print(os.getcwd())  # get current working directory\n",
    "print(os.listdir())  # get a list of all the files under the current working directory\n",
    "```"
   ]
  },
  {
   "cell_type": "markdown",
   "id": "15a32fa9",
   "metadata": {},
   "source": [
    "- Change working directory"
   ]
  },
  {
   "cell_type": "markdown",
   "id": "7d235d34",
   "metadata": {},
   "source": [
    "```python\n",
    "os.chdir('/path/to/directory')  # change current working directory to new address: '/path/to/directory'\n",
    "```"
   ]
  },
  {
   "cell_type": "markdown",
   "id": "d3913633",
   "metadata": {},
   "source": [
    "- Create or delete a directory"
   ]
  },
  {
   "cell_type": "markdown",
   "id": "3d97e8c9-9ffb-451b-a051-e9089a8332c8",
   "metadata": {},
   "source": [
    "```python\n",
    "import os\n",
    "\n",
    "os.mkdir('new_dir')  # create a new directory\n",
    "os.makedirs('parent/child/grandchild')  # create hierarchy directories\n",
    "os.rmdir('new_dir')  # delete an empty\n",
    "os.removedirs('parent/child/grandchild') # remove hierarchy directories\n",
    "```"
   ]
  },
  {
   "cell_type": "markdown",
   "id": "4b84ead4",
   "metadata": {},
   "source": [
    "- File renaming `rename` or deletion `remove`"
   ]
  },
  {
   "cell_type": "markdown",
   "id": "4b033b94-e0f1-4304-b2b0-dce7907de3bb",
   "metadata": {},
   "source": [
    "```python\n",
    "import os\n",
    "\n",
    "file_path = \"new_file.txt\"  \n",
    "with open(file_path, \"w\") as f:\n",
    "    f.write(\"Hello, this is a new file!\")\n",
    "\n",
    "os.rename('new_file.txt', 'new_file2.txt')  # rename the file\n",
    "os.remove('new_file2.txt')  # remove the file\n",
    "```"
   ]
  },
  {
   "cell_type": "markdown",
   "id": "d1ae14a2",
   "metadata": {},
   "source": [
    "- Get environment variable"
   ]
  },
  {
   "cell_type": "markdown",
   "id": "26a1b034",
   "metadata": {},
   "source": [
    "```python\n",
    "print(os.environ)  # get all the environment variables\n",
    "print(os.environ.get('specific'))  # get a specific environment variable 'specific'\n",
    "os.environ['NEW_VAR'] = 'Hello'  # set value for an enviroment variable\n",
    "```"
   ]
  },
  {
   "cell_type": "markdown",
   "id": "201ec199",
   "metadata": {},
   "source": [
    " - Path operations"
   ]
  },
  {
   "cell_type": "markdown",
   "id": "1ff58c40-8338-42b3-b841-96fa3c977d84",
   "metadata": {},
   "source": [
    "```python\n",
    "import os.path\n",
    "\n",
    "print(os.path.abspath('file.txt'))  # get the absolute path of the file 'file.txt'\n",
    "print(os.path.dirname('file.txt'))  # get the directory of the file 'file.txt'\n",
    "print(os.path.join('dir', 'file.txt'))  # concatenate the path strings\n",
    "print(os.path.exists('file.txt'))  # check whethe the path 'file.txt' exists\n",
    "print(os.path.isfile('file.txt'))  # check whether the string 'file.txt' is a file or not\n",
    "print(os.path.isdir('dir'))  # check whether the string 'dir' is a directory or not\n",
    "print(os.path.splitext('file.txt'))  # split the pathname into a pair (root, ext), where root is the part of the path before the file extension and ext is the file extension.\n",
    "print(os.path.basename('/path/to/file.txt'))  # get the file name from the string inside the ()\n",
    "```"
   ]
  },
  {
   "cell_type": "markdown",
   "id": "643ae75b8339b046",
   "metadata": {},
   "source": [
    "The following example gets the file name of the current file."
   ]
  },
  {
   "cell_type": "markdown",
   "id": "84d24a223109cd45",
   "metadata": {},
   "source": [
    "```python\n",
    "import os\n",
    "\n",
    "# __file__ can get the full path of the current file\n",
    "current_file_path = __file__ \n",
    "\n",
    "# get the current file name\n",
    "current_file_name = os.path.basename(current_file_path)\n",
    "```"
   ]
  },
  {
   "cell_type": "markdown",
   "id": "c9e20be8",
   "metadata": {},
   "source": [
    "- Process management"
   ]
  },
  {
   "cell_type": "code",
   "execution_count": 30,
   "id": "3132cc2c",
   "metadata": {
    "scrolled": true
   },
   "outputs": [
    {
     "name": "stdout",
     "output_type": "stream",
     "text": [
      "2199\n",
      "2152\n"
     ]
    }
   ],
   "source": [
    "import os\n",
    "\n",
    "print(os.getpid())  # get the id of the current process\n",
    "print(os.getppid())  # get the id of the parent process"
   ]
  },
  {
   "cell_type": "markdown",
   "id": "98a4d4c2",
   "metadata": {},
   "source": [
    "###  `sys` library\n",
    "<hr>\n",
    "\n",
    "`sys` 模块提供了一些与 Python 解释器及其环境相关的变量和函数，适用于处理命令行参数、运行时环境、标准输入输出等。"
   ]
  },
  {
   "cell_type": "markdown",
   "id": "cc8eeda8",
   "metadata": {},
   "source": [
    "- Get the version of current Python using `sys.version`"
   ]
  },
  {
   "cell_type": "code",
   "execution_count": 31,
   "id": "1d78ed82",
   "metadata": {},
   "outputs": [
    {
     "name": "stdout",
     "output_type": "stream",
     "text": [
      "3.12.2 | packaged by conda-forge | (main, Feb 16 2024, 20:54:21) [Clang 16.0.6 ]\n"
     ]
    }
   ],
   "source": [
    "import sys\n",
    "\n",
    "print(sys.version)"
   ]
  },
  {
   "cell_type": "markdown",
   "id": "be04ddce",
   "metadata": {},
   "source": [
    "- Get the name of current computer system using `sys.platform`"
   ]
  },
  {
   "cell_type": "code",
   "execution_count": 32,
   "id": "35b94784",
   "metadata": {},
   "outputs": [
    {
     "name": "stdout",
     "output_type": "stream",
     "text": [
      "darwin\n"
     ]
    }
   ],
   "source": [
    "print(sys.platform)  # get current computer system such as  'win32', 'linux', 'darwin'"
   ]
  },
  {
   "cell_type": "markdown",
   "id": "16d860f0",
   "metadata": {},
   "source": [
    "- Get the seaching paths by `sys.path`"
   ]
  },
  {
   "cell_type": "markdown",
   "id": "5da60f3b",
   "metadata": {},
   "source": [
    "```python\n",
    "print(sys.path)  # get all the searching paths\n",
    "sys.path.append(\"/my/custom/path\")  # append a searching path\n",
    "```"
   ]
  },
  {
   "cell_type": "markdown",
   "id": "130eb530",
   "metadata": {},
   "source": [
    "## Exercises\n",
    "<hr>"
   ]
  },
  {
   "cell_type": "markdown",
   "id": "da52806b-da10-4493-9dab-443392cc9631",
   "metadata": {},
   "source": [
    "```{exercise-start}\n",
    ":label: read-content\n",
    "```\n",
    "Which method is used to read the entire content of a file as a string?\n",
    "\n",
    "\n",
    "A.&nbsp;&nbsp;  read()\n",
    "\n",
    "B.&nbsp;&nbsp;  readline()\n",
    "\n",
    "C.&nbsp;&nbsp;  readlines()\n",
    "\n",
    "D.&nbsp;&nbsp;  read_file()\n",
    "\n",
    "```{exercise-end}\n",
    "```"
   ]
  },
  {
   "cell_type": "markdown",
   "id": "c296d623-8f7a-4d1a-b223-1e9f88b98c5d",
   "metadata": {},
   "source": [
    "````{solution} read-content\n",
    ":class: dropdown\n",
    "A\n",
    "````"
   ]
  },
  {
   "cell_type": "markdown",
   "id": "e94266cf-90af-434b-ae44-00eb142e1874",
   "metadata": {},
   "source": [
    "```{exercise-start}\n",
    ":label: output-number2\n",
    "```\n",
    "What is the output of the following program:\n",
    "\n",
    "```python\n",
    "print ('{0:.2%}'.format(1.0 / 3))\n",
    "```\n",
    "\n",
    "\n",
    "A.&nbsp;&nbsp;  0.33\n",
    "\n",
    "B.&nbsp;&nbsp;  33.33%\n",
    "\n",
    "C.&nbsp;&nbsp;  0.33%\n",
    "\n",
    "D.&nbsp;&nbsp;  33%\n",
    "\n",
    "```{exercise-end}\n",
    "```"
   ]
  },
  {
   "cell_type": "markdown",
   "id": "81966ec9-cc7c-4d78-bfe3-a1845dddef0c",
   "metadata": {},
   "source": [
    "````{solution} output-number2\n",
    ":class: dropdown\n",
    "B\n",
    "````"
   ]
  },
  {
   "cell_type": "markdown",
   "id": "d52aba1c-a73d-47b9-a90f-333a812b181d",
   "metadata": {},
   "source": [
    "```{exercise-start}\n",
    ":label: default-read\n",
    "```\n",
    "The default opening mode when opening a file with the open() function is 'r' for 'reading'.\n",
    "\n",
    "\n",
    "A.&nbsp;&nbsp;  True\n",
    "\n",
    "B.&nbsp;&nbsp;  False\n",
    "\n",
    "```{exercise-end}\n",
    "```"
   ]
  },
  {
   "cell_type": "markdown",
   "id": "2bd66e0e-3c83-46ef-b28d-97d693808a0f",
   "metadata": {},
   "source": [
    "````{solution} default-read\n",
    ":class: dropdown\n",
    "A\n",
    "````"
   ]
  },
  {
   "cell_type": "markdown",
   "id": "cd73a23a-e451-4bcf-afbd-0299ffeb142f",
   "metadata": {},
   "source": [
    "```{exercise-start}\n",
    ":label: with\n",
    "```\n",
    "What is the purpose of the 'with' statement in file handling?\n",
    "\n",
    "\n",
    "A.&nbsp;&nbsp;  create a new file\n",
    "\n",
    "B.&nbsp;&nbsp;  open a file\n",
    "\n",
    "C.&nbsp;&nbsp;  automatically close the file\n",
    "\n",
    "D.&nbsp;&nbsp;  save a file\n",
    "\n",
    "```{exercise-end}\n",
    "```"
   ]
  },
  {
   "cell_type": "markdown",
   "id": "bfd2050e-6d23-412c-861a-1c3a511b3593",
   "metadata": {},
   "source": [
    "````{solution} with\n",
    ":class: dropdown\n",
    "C\n",
    "````"
   ]
  },
  {
   "cell_type": "markdown",
   "id": "d6b9d6f5-eb78-4634-a32c-9181ad0cb3ae",
   "metadata": {},
   "source": [
    "```{exercise-start}\n",
    ":label: write-w\n",
    "```\n",
    "What happens to the original file content if you open a file like this:\n",
    "```python\n",
    "open('test.txt', 'w')\n",
    "```\n",
    "\n",
    "A.&nbsp;&nbsp;  The original content will be overwritten\n",
    "\n",
    "B.&nbsp;&nbsp;  Any new content will be added after the original content\n",
    "\n",
    "```{exercise-end}\n",
    "```"
   ]
  },
  {
   "cell_type": "markdown",
   "id": "79113e6c-60b7-4a60-b4d5-5137ed1cd06c",
   "metadata": {},
   "source": [
    "````{solution} write-w\n",
    ":class: dropdown\n",
    "A\n",
    "````"
   ]
  },
  {
   "cell_type": "markdown",
   "id": "8e77eab1-db98-4f90-bd96-624b0178468e",
   "metadata": {},
   "source": [
    "```{exercise-start}\n",
    ":label: write-a\n",
    "```\n",
    "What does the following code do?\n",
    "\n",
    "```python\n",
    "with open(\"file.txt\", \"a\") as file:\n",
    "   file.write(\"data\")\n",
    "```\n",
    "\n",
    "A.&nbsp;&nbsp;  read the content  of 'file.txt'\n",
    "\n",
    "B.&nbsp;&nbsp;  append \"data\" to \"file.txt\"\n",
    "\n",
    "C.&nbsp;&nbsp;  create a new file \"file.txt\"\n",
    "\n",
    "D.&nbsp;&nbsp;  replace the content of \"file.txt\" with \"data\"\n",
    "\n",
    "```{exercise-end}\n",
    "```"
   ]
  },
  {
   "cell_type": "markdown",
   "id": "b32cdf88-3b0f-4716-bbcc-b65b1b6b3d20",
   "metadata": {},
   "source": [
    "````{solution} write-a\n",
    ":class: dropdown\n",
    "C\n",
    "````"
   ]
  },
  {
   "cell_type": "markdown",
   "id": "93a61c1c",
   "metadata": {},
   "source": [
    "```{exercise}\n",
    ":label: output-number\n",
    "Formatted output of 0.0003278 in scientific notation, rouding to 4 decimal places as percentage\n",
    "```"
   ]
  },
  {
   "cell_type": "markdown",
   "id": "ec33a2b1",
   "metadata": {},
   "source": [
    "````{solution} output-number\n",
    ":class: dropdown\n",
    "\n",
    "```{code-block} python\n",
    "print(\"{:.4%}\".format(0.0003278))\n",
    "```\n",
    "\n",
    "or\n",
    "\n",
    "```{code-block} python\n",
    "a = 0.0003278\n",
    "print(f\"{a:.4%}\")\n",
    "```\n",
    "````"
   ]
  },
  {
   "cell_type": "markdown",
   "id": "06c456e1",
   "metadata": {},
   "source": [
    "```{exercise}\n",
    ":label: tesla\n",
    "Write the following txts to a file 'tesla.txt', read it and output the contents.\n",
    "\n",
    "Tesla, Inc. is an American multinational automotive and clean energy company. Headquartered in Austin, Texas, it designs, manufactures and sells battery electric vehicles (BEVs), stationary battery energy storage devices from home to grid-scale, solar panels and solar shingles, and related products and services.\n",
    "\n",
    "Tesla was incorporated in July 2003 by Martin Eberhard and Marc Tarpenning as Tesla Motors. Its name is a tribute to inventor and electrical engineer Nikola Tesla. In 2008, the company began production of its first car model, the Roadster sports car, followed by the Model S sedan in 2012, the Model X SUV in 2015, the Model 3 sedan in 2017, the Model Y crossover in 2020, the Tesla Semi truck in 2022 and the Cybertruck pickup truck in 2023.\n",
    "```"
   ]
  },
  {
   "cell_type": "markdown",
   "id": "7884c1dd",
   "metadata": {},
   "source": [
    "````{solution} tesla\n",
    ":class: dropdown\n",
    "\n",
    "```{code-block} python\n",
    "with open(\"tesla.txt\", \"w\") as f:\n",
    "    f.write(\n",
    "        \"\"\"Tesla, Inc. is an American multinational automotive and clean energy company. Headquartered in Austin, Texas, it designs, manufactures and sells battery electric vehicles (BEVs), stationary battery energy storage devices from home to grid-scale, solar panels and solar shingles, and related products and services.\n",
    "        \n",
    "Tesla was incorporated in July 2003 by Martin Eberhard and Marc Tarpenning as Tesla Motors. Its name is a tribute to inventor and electrical engineer Nikola Tesla. In 2008, the company began production of its first car model, the Roadster sports car, followed by the Model S sedan in 2012, the Model X SUV in 2015, the Model 3 sedan in 2017, the Model Y crossover in 2020, the Tesla Semi truck in 2022 and the Cybertruck pickup truck in 2023.\"\"\"\n",
    "    )\n",
    "\n",
    "with open(\"tesla.txt\", \"r\") as f:\n",
    "    str = f.read()\n",
    "    print(str)  \n",
    "```\n",
    "````"
   ]
  },
  {
   "cell_type": "markdown",
   "id": "cf10f76c",
   "metadata": {},
   "source": [
    "<script src=\"https://giscus.app/client.js\"\n",
    "        data-repo=\"robinchen121/book-Python-Data-Science\"\n",
    "        data-repo-id=\"R_kgDOKFdyOw\"\n",
    "        data-category=\"Announcements\"\n",
    "        data-category-id=\"DIC_kwDOKFdyO84CgWHi\"\n",
    "        data-mapping=\"pathname\"\n",
    "        data-strict=\"0\"\n",
    "        data-reactions-enabled=\"1\"\n",
    "        data-emit-metadata=\"0\"\n",
    "        data-input-position=\"bottom\"\n",
    "        data-theme=\"light\"\n",
    "        data-lang=\"en\"\n",
    "        crossorigin=\"anonymous\"\n",
    "        async>\n",
    "</script>"
   ]
  },
  {
   "cell_type": "markdown",
   "id": "7ebbef9f",
   "metadata": {},
   "source": [
    "<!-- Toogle google translation -->\n",
    "<div id=\"google_translate_element\"></div>\n",
    "\n",
    "<script type=\"text/javascript\">\n",
    "      function googleTranslateElementInit() {\n",
    "        new google.translate.TranslateElement({ pageLanguage: 'zh-CN',\n",
    "                  includedLanguages: 'en,zh-CN,zh-TW,ja,ko,de,ru,fr,es,it,pt,hi,ar,fa',\n",
    "layout: google.translate.TranslateElement.InlineLayout.SIMPLE }, 'google_translate_element');\n",
    "      }\n",
    "</script>\n",
    "<script type=\"text/javascript\"\n",
    "      src=\"https://translate.google.com/translate_a/element.js?cb=googleTranslateElementInit\"\n",
    "></script>\n",
    "<br>"
   ]
  }
 ],
 "metadata": {
  "celltoolbar": "幻灯片",
  "kernelspec": {
   "display_name": "Python [conda env:base] *",
   "language": "python",
   "name": "conda-base-py"
  },
  "language_info": {
   "codemirror_mode": {
    "name": "ipython",
    "version": 3
   },
   "file_extension": ".py",
   "mimetype": "text/x-python",
   "name": "python",
   "nbconvert_exporter": "python",
   "pygments_lexer": "ipython3",
   "version": "3.12.2"
  }
 },
 "nbformat": 4,
 "nbformat_minor": 5
}