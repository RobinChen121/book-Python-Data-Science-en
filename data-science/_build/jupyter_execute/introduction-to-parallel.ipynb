{
 "cells": [
  {
   "cell_type": "markdown",
   "id": "88b4c035",
   "metadata": {},
   "source": [
    "# Python 并行计算\n",
    "<hr>"
   ]
  },
  {
   "cell_type": "markdown",
   "id": "517179c9",
   "metadata": {},
   "source": [
    "在进入并行计算前，我们首先需要了解一下一些计算机操作系统的知识。"
   ]
  },
  {
   "cell_type": "markdown",
   "id": "810abae1",
   "metadata": {},
   "source": [
    "## 进程与线程\n",
    "<hr>"
   ]
  },
  {
   "cell_type": "markdown",
   "id": "4738ad73-b051-4421-addf-676f8c24ceb0",
   "metadata": {},
   "source": [
    "- **进程**是一个程序的运行实例，每个进程有独立的内存空间，**相互隔离**，不会直接共享数据。\n",
    "- **线程**是进程内部的一个执行单元，一个进程可以有多个线程，它们**共享同一个进程的内存**。"
   ]
  },
  {
   "cell_type": "markdown",
   "id": "071cc335-aa9c-4b0d-b72a-7a22700a5185",
   "metadata": {},
   "source": [
    "现代浏览器（如 Chrome）普遍采用多进程架构，打开一些网页时，可能包含多个进程：\n",
    "\n",
    "- 主进程：管理 UI、窗口、用户输入等。\n",
    "- 渲染进程：负责渲染网页（HTML、CSS、JavaScript），通常每个标签页一个渲染进程。\n",
    "- 插件进程：用于运行 Flash、PDF 之类的插件。\n",
    "- GPU 进程：负责 GPU 加速绘图。"
   ]
  },
  {
   "cell_type": "markdown",
   "id": "0805edb1-a2ea-4390-b978-7ccb1a508412",
   "metadata": {},
   "source": [
    "当我们打开两个网页时，浏览器运行的进程结构如下："
   ]
  },
  {
   "cell_type": "markdown",
   "id": "c35e44d4-1171-44db-a6a9-ef39daf26d62",
   "metadata": {},
   "source": [
    "```\n",
    "├── 浏览器主进程\n",
    "├── 渲染进程（网页A）\n",
    "├── 渲染进程（网页B）\n",
    "├── GPU 进程\n",
    "├── 插件进程\n",
    "```\n"
   ]
  },
  {
   "cell_type": "markdown",
   "id": "906516ed-98f8-4f48-9a50-9580310f8b76",
   "metadata": {},
   "source": [
    "进程的特点是：\n",
    "\n",
    "- 进程之间相互隔离，例如一个网页崩溃不会影响其他网页。\n",
    "- 进程有独立的内存空间，所以更安全，但开销较大（占用更多内存）。"
   ]
  },
  {
   "cell_type": "markdown",
   "id": "d989e956-7b12-4dd1-962c-2238a31a69c5",
   "metadata": {},
   "source": [
    "在浏览器的渲染进程中，负责执行 JavaScript、渲染页面的任务实际上是由多个线程完成的：\n",
    "- 主线程（Main Thread）：执行 JavaScript、解析 HTML、CSS、布局计算、渲染等。\n",
    "- 工作线程（Worker Thread）：通过 Web Worker 执行耗时任务（如数据处理），避免阻塞主线程。\n",
    "- 网络线程：负责处理 HTTP 请求、下载资源。\n",
    "- GPU 线程：处理页面渲染加速。"
   ]
  },
  {
   "cell_type": "markdown",
   "id": "341fe621-77d1-4eeb-82b6-16f1423db41c",
   "metadata": {},
   "source": [
    "其中，渲染进程的线程结构如下\n",
    "```\n",
    "渲染进程（网页A）\n",
    "├── 主线程（执行 JavaScript、渲染页面）\n",
    "├── 工作线程（Web Worker 处理数据）\n",
    "├── 网络线程（加载图片、请求 API）\n",
    "├── GPU 线程（处理绘图）\n",
    "```"
   ]
  },
  {
   "cell_type": "markdown",
   "id": "cf352d12-40f4-467c-aea2-ce2736f7007b",
   "metadata": {},
   "source": [
    "线程的特点：\n",
    "\n",
    "- 线程共享同一个进程的内存，可以快速通信，但可能会引起数据竞争问题（需要同步）。\n",
    "- 线程的开销比进程小，但如果主线程被阻塞，其他线程可能受影响，例如整个网页可能会卡死。"
   ]
  },
  {
   "cell_type": "markdown",
   "id": "998ec1b9-0f62-4858-ab97-4131b4a12970",
   "metadata": {},
   "source": [
    "下面这个例子显著地描述了进程与线程的区别。"
   ]
  },
  {
   "cell_type": "markdown",
   "id": "f051b4e8-daa0-4b54-bec9-6d2573b0bdde",
   "metadata": {},
   "source": [
    "- 进程 = 一家餐厅，每个进程是一个独立的厨房\n",
    "    - 每个厨房（进程）都独立工作，互不影响，即使一个厨房着火（崩溃），其他厨房还能正常运作。\n",
    "- 线程 = 厨房里的厨师\n",
    "    - 一个厨房（进程）里有多个厨师（线程），他们共享同一套厨房用具（内存）。\n",
    "    - 如果厨师合作良好，出餐效率高；但如果一个厨师卡住（主线程阻塞），整个厨房可能会停滞。"
   ]
  },
  {
   "cell_type": "markdown",
   "id": "45cace3f-ff62-40e4-a560-1d7127f23bd5",
   "metadata": {},
   "source": [
    "## `multirpocessing` 包\n",
    "<hr>"
   ]
  },
  {
   "cell_type": "markdown",
   "id": "35286572-d8ac-4a9d-9a2f-c5732de3dbc8",
   "metadata": {},
   "source": [
    "`multiprocessing` 是 Python 标准库中的一个包，提供了多进程（并行）执行能力，允许 Python 代码充分利用**多核 CPU**，提高计算效率。"
   ]
  },
  {
   "cell_type": "markdown",
   "id": "a286e887-cc32-43f0-b1e9-543429d0c55a",
   "metadata": {},
   "source": [
    "另外一个并行计算的包是`threading`，提供了多线程（multithreading） 支持，允许多个任务**并发**（concurrent）执行。"
   ]
  },
  {
   "cell_type": "markdown",
   "id": "3e2be72c-b77b-4acb-b7e9-431a005b3b9e",
   "metadata": {},
   "source": [
    "- `multiprocessing` 适用于 CPU 密集型任务，如矩阵运算、加密、图像处理。\n",
    "- `threading` 适用于 I/O 密集型任务，如文件读写、爬取网页。"
   ]
  },
  {
   "cell_type": "markdown",
   "id": "34a0a603-9bb2-4a0a-befd-2a2293087ac1",
   "metadata": {},
   "source": [
    "### `Pool`（自动管理进程池）\n",
    "<hr>"
   ]
  },
  {
   "cell_type": "markdown",
   "id": "d26f5d40-764e-4fe7-907f-910e02cb61ff",
   "metadata": {},
   "source": [
    "使用多进程最便捷的工具是使用`multiprocessing.Pool`自动管理进程池，不需要向其他进程工具那样需要手动开启关闭进程。Pool 提供了多个方法来调用进入并行计算的函数。"
   ]
  },
  {
   "cell_type": "markdown",
   "id": "cf5d639e-22e4-497d-8bda-027481f61d40",
   "metadata": {},
   "source": [
    "#### `map()`（适用于单参数函数，自动收集返回值）"
   ]
  },
  {
   "cell_type": "markdown",
   "id": "561d274e-4f5e-4332-924d-23457d8460a0",
   "metadata": {},
   "source": [
    "```python\n",
    "import multiprocessing\n",
    "\n",
    "def worker(x):\n",
    "    return x * x\n",
    "\n",
    "if __name__ == '__main__':\n",
    "    with multiprocessing.Pool(processes=4) as pool:\n",
    "        results = pool.map(worker, range(10))  # 并行计算\n",
    "    print(results)\n",
    "```"
   ]
  },
  {
   "cell_type": "markdown",
   "id": "359f570f-906f-46e4-b578-084af7924c0d",
   "metadata": {},
   "source": [
    "上面的代码中：\n",
    "- Pool(processes=4) 创建 4 个进程，自动分配任务。\n",
    "- map(worker, range(10)) 将 0~9 作为参数传递给 worker(x) 并行执行。"
   ]
  },
  {
   "cell_type": "markdown",
   "id": "9c50508d-fc03-4618-bb08-659842105229",
   "metadata": {},
   "source": [
    "使用`multiprocessing.cpu_count()`可以获取当前电脑的 cpu 的核数。"
   ]
  },
  {
   "cell_type": "markdown",
   "id": "d64ce22d-0e61-4d87-b71f-a6cca86b61e1",
   "metadata": {},
   "source": [
    "```{note}\n",
    "并行计算的程序必须放在`if __name__ == '__main__' `里，防止 Windows/macOS 递归创建进程导致崩溃。\n",
    "```"
   ]
  },
  {
   "cell_type": "markdown",
   "id": "e73f98af-4f21-4f0d-822b-636c868ac303",
   "metadata": {},
   "source": [
    "#### `starmap()`（适用于多参数函数）"
   ]
  },
  {
   "cell_type": "markdown",
   "id": "be8dd077-64df-4ee5-8a0c-58faabc587d8",
   "metadata": {},
   "source": [
    "```python\n",
    "def worker(x, y):\n",
    "    return x + y\n",
    "\n",
    "if __name__ == '__main__':\n",
    "    with multiprocessing.Pool(multiprocessing.cpu_count()) as pool:\n",
    "        results = pool.starmap(worker, [(1, 2), (3, 4), (5, 6)])\n",
    "    print(results)\n",
    "```"
   ]
  },
  {
   "cell_type": "markdown",
   "id": "19f3f222-0df2-4016-9ad8-4537a939e784",
   "metadata": {},
   "source": [
    "对于 starmap()："
   ]
  },
  {
   "cell_type": "markdown",
   "id": "41846cfc-a049-4c40-a577-223378c797b1",
   "metadata": {},
   "source": [
    "- 适用于需要多个参数的函数。\n",
    "- 参数必须以 [( )] 形式传递，小括号`()`内不能只有一个参数。\n",
    "- 可传递空参数，此时小括号`()`内无任何内容。"
   ]
  },
  {
   "cell_type": "markdown",
   "id": "9be0d930-ce4e-4aad-ae94-deb6e49dbde7",
   "metadata": {},
   "source": [
    "### `Process`（手动创建进程）\n",
    "<hr>"
   ]
  },
  {
   "cell_type": "markdown",
   "id": "8730d6c6-0b04-411e-9e12-2c3a97222d43",
   "metadata": {},
   "source": [
    "可以通过 `Process` 手动创建进程。"
   ]
  },
  {
   "cell_type": "markdown",
   "id": "082682d9-6346-40ab-93a5-b1c64060e54d",
   "metadata": {},
   "source": [
    "```python\n",
    "import multiprocessing\n",
    "\n",
    "def worker(num):\n",
    "    print(f\"Process {num} is running\")\n",
    "\n",
    "if __name__ == '__main__':\n",
    "    processes = []\n",
    "    for i in range(5):\n",
    "        p = multiprocessing.Process(target=worker, args=(i,))\n",
    "        processes.append(p)\n",
    "        p.start() # start the process\n",
    "\n",
    "    for p in processes:\n",
    "        p.join()  # stop the process\n",
    "```"
   ]
  },
  {
   "cell_type": "markdown",
   "id": "ae23eb8c-468c-4ba9-9f86-bc47aeeb75a0",
   "metadata": {},
   "source": [
    "- `target` 后面跟的是目标函数名字\n",
    "- `args` 是传递到目标函数中的参数值\n",
    "- `args` 必须传递一个元祖，因此单参数时后面必须跟一个逗号\n",
    "- `start()`开启进程\n",
    "- `join()`关闭进程"
   ]
  },
  {
   "cell_type": "markdown",
   "id": "42d16539-7d65-402e-9c0f-f0c67284d9a2",
   "metadata": {},
   "source": [
    "### `Queue`（进程间通信）\n",
    "<hr>"
   ]
  },
  {
   "cell_type": "markdown",
   "id": "dfa9e72d-903c-42ca-9e8f-79bf6a0c1295",
   "metadata": {},
   "source": [
    "进程间不能直接共享变量，但可以用`Queue`传递数据。"
   ]
  },
  {
   "cell_type": "markdown",
   "id": "a030d204dff84343",
   "metadata": {},
   "source": [
    "```python\n",
    "import multiprocessing\n",
    "\n",
    "def worker(queue, num):\n",
    "    queue.put(num * num)  # 进程安全地存入队列\n",
    "\n",
    "if __name__ == '__main__':\n",
    "    queue = multiprocessing.Queue()  # 共享队列\n",
    "    processes = []\n",
    "\n",
    "    for i in range(5):\n",
    "        p = multiprocessing.Process(target=worker, args=(queue, i))\n",
    "        processes.append(p)\n",
    "        p.start()\n",
    "\n",
    "    for p in processes:\n",
    "        p.join()\n",
    "\n",
    "    results = [queue.get() for _ in range(5)]\n",
    "    print(results)\n",
    "```"
   ]
  },
  {
   "cell_type": "markdown",
   "id": "9eb6710c-aaf0-4a6c-9b5a-18ba62c77b43",
   "metadata": {},
   "source": [
    "- 使用`put()`将数据推进 Queue 里\n",
    "- 使用`get()`取出数据"
   ]
  },
  {
   "cell_type": "markdown",
   "id": "eb31f545-f8c8-44ca-98ed-df5d9a3b90ba",
   "metadata": {},
   "source": [
    "因此，`Process` 经常结合`Queue`一起使用，获取函数返回的数据。"
   ]
  },
  {
   "cell_type": "markdown",
   "id": "0962ef96-6a05-4f53-b7ed-8eb7c23ebd5b",
   "metadata": {},
   "source": [
    "### `Lock`（控制进程）\n",
    "<hr>"
   ]
  },
  {
   "cell_type": "markdown",
   "id": "9bab1833-6ed8-4b3d-9634-ca9252a3444b",
   "metadata": {},
   "source": [
    "在 Python 的 multiprocessing 模块中，Lock 是用于同步进程之间访问共享资源的工具。它确保一次只有一个进程可以访问受保护的代码区域，从而防止竞争条件 (race condition) 和数据不一致问题。"
   ]
  },
  {
   "cell_type": "markdown",
   "id": "75b2b1c3-4335-471b-8892-59cb2fe721a5",
   "metadata": {},
   "source": [
    "```python\n",
    "import multiprocessing\n",
    "import time\n",
    "\n",
    "def worker(lock, num):\n",
    "    with lock:  # 使用 with 语句自动管理锁的获取和释放\n",
    "        print(f'Process {num} is starting...')\n",
    "        time.sleep(1)\n",
    "        print(f'Process {num} is done.')\n",
    "\n",
    "if __name__ == '__main__':\n",
    "    lock = multiprocessing.Lock()  # 创建锁对象\n",
    "\n",
    "    processes = []\n",
    "    for i in range(5):\n",
    "        p = multiprocessing.Process(target=worker, args=(lock, i))\n",
    "        processes.append(p)\n",
    "        p.start()\n",
    "\n",
    "    for p in processes:\n",
    "        p.join()\n",
    "```"
   ]
  },
  {
   "cell_type": "markdown",
   "id": "92406d38-5954-47ab-8b18-bc2de72cff24",
   "metadata": {},
   "source": [
    "- multiprocessing.Lock() 创建了一个进程锁。\n",
    "- 在 worker() 函数中，使用 with lock: 保护关键代码区域，确保**一次只有一个**进程能执行这部分代码。\n",
    "- 由于锁的作用，**五个进程会依次执行**，而不是同时输出信息。"
   ]
  },
  {
   "cell_type": "markdown",
   "id": "356d0a6a-871b-486c-ad0d-6fc13bd477fa",
   "metadata": {},
   "source": [
    "multiprocessing 包中其他并行计算的工具还有`Manager`(管理多个进程的共享数据)， `pipe` (允许两个进程之间通信数据)。"
   ]
  },
  {
   "cell_type": "markdown",
   "id": "ff1e1508",
   "metadata": {},
   "source": [
    "<script src=\"https://giscus.app/client.js\"\n",
    "        data-repo=\"robinchen121/book-Python-Data-Science\"\n",
    "        data-repo-id=\"R_kgDOKFdyOw\"\n",
    "        data-category=\"Announcements\"\n",
    "        data-category-id=\"DIC_kwDOKFdyO84CgWHi\"\n",
    "        data-mapping=\"pathname\"\n",
    "        data-strict=\"0\"\n",
    "        data-reactions-enabled=\"1\"\n",
    "        data-emit-metadata=\"0\"\n",
    "        data-input-position=\"bottom\"\n",
    "        data-theme=\"light\"\n",
    "        data-lang=\"en\"\n",
    "        crossorigin=\"anonymous\"\n",
    "        async>\n",
    "</script>"
   ]
  },
  {
   "cell_type": "markdown",
   "id": "4060a1c0",
   "metadata": {},
   "source": [
    "<!-- Toogle google translation -->\n",
    "<div id=\"google_translate_element\"></div>\n",
    "<script type=\"text/javascript\">\n",
    "      function googleTranslateElementInit() {\n",
    "        new google.translate.TranslateElement({ pageLanguage: 'zh-CN',\n",
    "                  includedLanguages: 'en,zh-CN,zh-TW,ja,ko,de,ru,fr,es,it,pt,hi,ar,fa',\n",
    "layout: google.translate.TranslateElement.InlineLayout.SIMPLE }, 'google_translate_element');\n",
    "      }\n",
    "</script>\n",
    "<script type=\"text/javascript\"\n",
    "      src=\"https://translate.google.com/translate_a/element.js?cb=googleTranslateElementInit\"\n",
    "></script>\n",
    "<br>"
   ]
  }
 ],
 "metadata": {
  "kernelspec": {
   "display_name": "Python 3 (ipykernel)",
   "language": "python",
   "name": "python3"
  },
  "language_info": {
   "codemirror_mode": {
    "name": "ipython",
    "version": 3
   },
   "file_extension": ".py",
   "mimetype": "text/x-python",
   "name": "python",
   "nbconvert_exporter": "python",
   "pygments_lexer": "ipython3",
   "version": "3.12.2"
  }
 },
 "nbformat": 4,
 "nbformat_minor": 5
}