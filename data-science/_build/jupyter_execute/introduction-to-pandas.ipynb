{
 "cells": [
  {
   "cell_type": "markdown",
   "id": "5c3fed12",
   "metadata": {
    "slideshow": {
     "slide_type": "slide"
    }
   },
   "source": [
    "#  Introduction to Pandas\n",
    "<hr>\n",
    "\n",
    "`Pandas` is one of the most important data analysis tools in Python for data processing. Built on NumPy, it offers many methods for handling large datasets and allows flexible, efficient data manipulation.\n",
    "\n",
    "The main data type used in pandas is the `DataFrame`, which is a two-dimensional structure similar to a table in Excel. To use pandas, you first need to import it. In fact, the name 'Pandas' is short for 'panel data'."
   ]
  },
  {
   "cell_type": "code",
   "execution_count": 1,
   "id": "b5a47fc7",
   "metadata": {
    "slideshow": {
     "slide_type": "fragment"
    }
   },
   "outputs": [],
   "source": [
    "import pandas as pd"
   ]
  },
  {
   "cell_type": "markdown",
   "id": "bc7645a5",
   "metadata": {
    "slideshow": {
     "slide_type": "slide"
    }
   },
   "source": [
    "##  Creating, Reading, and Storing Data\n",
    "<hr>\n",
    "\n",
    "### Creating Data\n",
    "<hr>\n",
    "\n",
    "For example, consider the following data:\n",
    "    \n",
    " Name|Statistics |Accounting |Makerting\n",
    " |:--------:|:--------:|:--------:|:--------:|\n",
    " Jim | 85 | 82 | 84  \n",
    " Lily | 68 | 63 | 90 \n",
    " Jack | 90 | 88 | 78 |"
   ]
  },
  {
   "cell_type": "markdown",
   "id": "ffb8fdf2-be0f-408c-aa86-0d2e3b7335d5",
   "metadata": {},
   "source": [
    "In general, there are two ways to create a DataFrame.\n",
    "\n",
    "- Create the DataFrame by dictionaries `dict`.\n",
    "- Create the DataFrame by an `NumPy ndarray` and argumens `columns` or `index`."
   ]
  },
  {
   "cell_type": "code",
   "execution_count": 2,
   "id": "87048d50",
   "metadata": {
    "ExecuteTime": {
     "end_time": "2025-02-24T13:00:20.555361Z",
     "start_time": "2025-02-24T13:00:19.401016Z"
    },
    "scrolled": true,
    "slideshow": {
     "slide_type": "fragment"
    }
   },
   "outputs": [
    {
     "name": "stdout",
     "output_type": "stream",
     "text": [
      "   Name  Statistics  Accounting  Marketing\n",
      "0   Jim          85          82         84\n",
      "1  Lily          68          63         90\n",
      "2  Jack          90          88         78\n"
     ]
    }
   ],
   "source": [
    "import pandas as pd\n",
    "\n",
    "df = pd.DataFrame(\n",
    "    {\n",
    "        \"Name\": [\"Jim\", \"Lily\", \"Jack\"],\n",
    "        \"Statistics\": [85, 68, 90],\n",
    "        \"Accounting\": [82, 63, 88],\n",
    "        \"Marketing\": [84, 90, 78],\n",
    "    }\n",
    ")\n",
    "print(df)"
   ]
  },
  {
   "cell_type": "markdown",
   "id": "05e675ba-d771-4acc-a511-480b54e10cd0",
   "metadata": {},
   "source": [
    "Another way to create DataFrame with argument `columns`:"
   ]
  },
  {
   "cell_type": "code",
   "execution_count": 3,
   "id": "44cd5f3c-362d-46ef-af92-a10ef4d2218e",
   "metadata": {
    "scrolled": true
   },
   "outputs": [
    {
     "data": {
      "text/html": [
       "<div>\n",
       "<style scoped>\n",
       "    .dataframe tbody tr th:only-of-type {\n",
       "        vertical-align: middle;\n",
       "    }\n",
       "\n",
       "    .dataframe tbody tr th {\n",
       "        vertical-align: top;\n",
       "    }\n",
       "\n",
       "    .dataframe thead th {\n",
       "        text-align: right;\n",
       "    }\n",
       "</style>\n",
       "<table border=\"1\" class=\"dataframe\">\n",
       "  <thead>\n",
       "    <tr style=\"text-align: right;\">\n",
       "      <th></th>\n",
       "      <th>Name</th>\n",
       "      <th>Statistics</th>\n",
       "      <th>Accounting</th>\n",
       "      <th>Marketing</th>\n",
       "    </tr>\n",
       "  </thead>\n",
       "  <tbody>\n",
       "    <tr>\n",
       "      <th>0</th>\n",
       "      <td>Jim</td>\n",
       "      <td>85</td>\n",
       "      <td>82</td>\n",
       "      <td>84</td>\n",
       "    </tr>\n",
       "    <tr>\n",
       "      <th>1</th>\n",
       "      <td>Lily</td>\n",
       "      <td>68</td>\n",
       "      <td>63</td>\n",
       "      <td>90</td>\n",
       "    </tr>\n",
       "    <tr>\n",
       "      <th>2</th>\n",
       "      <td>Jack</td>\n",
       "      <td>90</td>\n",
       "      <td>88</td>\n",
       "      <td>78</td>\n",
       "    </tr>\n",
       "  </tbody>\n",
       "</table>\n",
       "</div>"
      ],
      "text/plain": [
       "   Name Statistics Accounting Marketing\n",
       "0   Jim         85         82        84\n",
       "1  Lily         68         63        90\n",
       "2  Jack         90         88        78"
      ]
     },
     "execution_count": 3,
     "metadata": {},
     "output_type": "execute_result"
    }
   ],
   "source": [
    "import numpy as np\n",
    "import pandas as pd\n",
    "\n",
    "data = np.array([[\"Jim\", 85, 82, 84], [\"Lily\", 68, 63, 90], [\"Jack\", 90, 88, 78]])\n",
    "df2 = pd.DataFrame(data, columns=[\"Name\", \"Statistics\", \"Accounting\", \"Marketing\"])\n",
    "df2"
   ]
  },
  {
   "cell_type": "markdown",
   "id": "d48e5693-cd61-42ec-b247-cba10ffea27b",
   "metadata": {
    "scrolled": true
   },
   "source": [
    "Another way to create DataFrame with both argumens `columns` and `index`:"
   ]
  },
  {
   "cell_type": "code",
   "execution_count": 4,
   "id": "717860af-fa94-4fa0-8e35-9e2e4226caeb",
   "metadata": {},
   "outputs": [
    {
     "data": {
      "text/html": [
       "<div>\n",
       "<style scoped>\n",
       "    .dataframe tbody tr th:only-of-type {\n",
       "        vertical-align: middle;\n",
       "    }\n",
       "\n",
       "    .dataframe tbody tr th {\n",
       "        vertical-align: top;\n",
       "    }\n",
       "\n",
       "    .dataframe thead th {\n",
       "        text-align: right;\n",
       "    }\n",
       "</style>\n",
       "<table border=\"1\" class=\"dataframe\">\n",
       "  <thead>\n",
       "    <tr style=\"text-align: right;\">\n",
       "      <th></th>\n",
       "      <th>Statistics</th>\n",
       "      <th>Accounting</th>\n",
       "      <th>Marketing</th>\n",
       "    </tr>\n",
       "  </thead>\n",
       "  <tbody>\n",
       "    <tr>\n",
       "      <th>Jim</th>\n",
       "      <td>85</td>\n",
       "      <td>82</td>\n",
       "      <td>84</td>\n",
       "    </tr>\n",
       "    <tr>\n",
       "      <th>Lily</th>\n",
       "      <td>68</td>\n",
       "      <td>63</td>\n",
       "      <td>90</td>\n",
       "    </tr>\n",
       "    <tr>\n",
       "      <th>Jack</th>\n",
       "      <td>90</td>\n",
       "      <td>88</td>\n",
       "      <td>78</td>\n",
       "    </tr>\n",
       "  </tbody>\n",
       "</table>\n",
       "</div>"
      ],
      "text/plain": [
       "      Statistics  Accounting  Marketing\n",
       "Jim           85          82         84\n",
       "Lily          68          63         90\n",
       "Jack          90          88         78"
      ]
     },
     "execution_count": 4,
     "metadata": {},
     "output_type": "execute_result"
    }
   ],
   "source": [
    "import numpy as np\n",
    "import pandas as pd\n",
    "\n",
    "data = np.array([[85, 82, 84], [68, 63, 90], [90, 88, 78]])\n",
    "df3 = pd.DataFrame(\n",
    "    data,\n",
    "    columns=[\"Statistics\", \"Accounting\", \"Marketing\"],\n",
    "    index=[\"Jim\", \"Lily\", \"Jack\"],\n",
    ")\n",
    "df3"
   ]
  },
  {
   "cell_type": "markdown",
   "id": "5cc08f82",
   "metadata": {
    "slideshow": {
     "slide_type": "fragment"
    }
   },
   "source": [
    "In the above outputs, the first row are column lables while the first column are row indices. We can visit them by ``columns`` and ``index``, respectively."
   ]
  },
  {
   "cell_type": "code",
   "execution_count": 5,
   "id": "9af127da",
   "metadata": {
    "slideshow": {
     "slide_type": "subslide"
    }
   },
   "outputs": [
    {
     "data": {
      "text/plain": [
       "Index(['Name', 'Statistics', 'Accounting', 'Marketing'], dtype='object')"
      ]
     },
     "execution_count": 5,
     "metadata": {},
     "output_type": "execute_result"
    }
   ],
   "source": [
    "df.columns"
   ]
  },
  {
   "cell_type": "code",
   "execution_count": 6,
   "id": "0d1c5911",
   "metadata": {
    "slideshow": {
     "slide_type": "fragment"
    }
   },
   "outputs": [
    {
     "data": {
      "text/plain": [
       "RangeIndex(start=0, stop=3, step=1)"
      ]
     },
     "execution_count": 6,
     "metadata": {},
     "output_type": "execute_result"
    }
   ],
   "source": [
    "df.index"
   ]
  },
  {
   "cell_type": "markdown",
   "id": "2ad4850f-f3ef-4425-874b-ec2e2cc6e644",
   "metadata": {},
   "source": [
    "- One column or row data of a DataFrame is called a `Series`."
   ]
  },
  {
   "cell_type": "code",
   "execution_count": 7,
   "id": "52c57502-1ec1-4590-91b1-8bba1e1369d4",
   "metadata": {
    "scrolled": true
   },
   "outputs": [
    {
     "data": {
      "text/plain": [
       "pandas.core.series.Series"
      ]
     },
     "execution_count": 7,
     "metadata": {},
     "output_type": "execute_result"
    }
   ],
   "source": [
    "type(df['Statistics'])"
   ]
  },
  {
   "cell_type": "markdown",
   "id": "04d8b0e1-9f7c-4775-9c25-bd81abeb274d",
   "metadata": {},
   "source": [
    "- Get the number of rows and columns in a DataFrame by `shape`."
   ]
  },
  {
   "cell_type": "code",
   "execution_count": 8,
   "id": "e34839f6-b9c6-48d1-8982-4396916fe7c1",
   "metadata": {},
   "outputs": [
    {
     "data": {
      "text/plain": [
       "(3, 4)"
      ]
     },
     "execution_count": 8,
     "metadata": {},
     "output_type": "execute_result"
    }
   ],
   "source": [
    "df.shape"
   ]
  },
  {
   "cell_type": "markdown",
   "id": "b8312f89-95e1-4f9e-bffa-0963ed7f586d",
   "metadata": {},
   "source": [
    "- Get the number of cells in a DataFrame by `size`."
   ]
  },
  {
   "cell_type": "code",
   "execution_count": 9,
   "id": "74c2a149-f91e-40ce-ac64-e96e9f857f66",
   "metadata": {},
   "outputs": [
    {
     "data": {
      "text/plain": [
       "12"
      ]
     },
     "execution_count": 9,
     "metadata": {},
     "output_type": "execute_result"
    }
   ],
   "source": [
    "df.size"
   ]
  },
  {
   "cell_type": "markdown",
   "id": "9a4e43b9-7f8c-4455-b769-4888e95d1a92",
   "metadata": {},
   "source": [
    "- Get the data types of each column by `dtypes`"
   ]
  },
  {
   "cell_type": "code",
   "execution_count": 10,
   "id": "2d2894f4-32f6-410b-bc9b-988f4aba7c9e",
   "metadata": {},
   "outputs": [
    {
     "data": {
      "text/plain": [
       "Name          object\n",
       "Statistics     int64\n",
       "Accounting     int64\n",
       "Marketing      int64\n",
       "dtype: object"
      ]
     },
     "execution_count": 10,
     "metadata": {},
     "output_type": "execute_result"
    }
   ],
   "source": [
    "df.dtypes"
   ]
  },
  {
   "cell_type": "markdown",
   "id": "cfde0402-60e4-48f5-bc2a-9e03debd8a9f",
   "metadata": {
    "slideshow": {
     "slide_type": "subslide"
    }
   },
   "source": [
    "Pandas also supports converting one-dimensional or two-dimensional arrays/lists directly into DataFrame format."
   ]
  },
  {
   "cell_type": "code",
   "execution_count": 11,
   "id": "05fa7eef",
   "metadata": {
    "slideshow": {
     "slide_type": "fragment"
    }
   },
   "outputs": [
    {
     "data": {
      "text/html": [
       "<div>\n",
       "<style scoped>\n",
       "    .dataframe tbody tr th:only-of-type {\n",
       "        vertical-align: middle;\n",
       "    }\n",
       "\n",
       "    .dataframe tbody tr th {\n",
       "        vertical-align: top;\n",
       "    }\n",
       "\n",
       "    .dataframe thead th {\n",
       "        text-align: right;\n",
       "    }\n",
       "</style>\n",
       "<table border=\"1\" class=\"dataframe\">\n",
       "  <thead>\n",
       "    <tr style=\"text-align: right;\">\n",
       "      <th></th>\n",
       "      <th>0</th>\n",
       "    </tr>\n",
       "  </thead>\n",
       "  <tbody>\n",
       "    <tr>\n",
       "      <th>0</th>\n",
       "      <td>1</td>\n",
       "    </tr>\n",
       "    <tr>\n",
       "      <th>1</th>\n",
       "      <td>2</td>\n",
       "    </tr>\n",
       "    <tr>\n",
       "      <th>2</th>\n",
       "      <td>3</td>\n",
       "    </tr>\n",
       "  </tbody>\n",
       "</table>\n",
       "</div>"
      ],
      "text/plain": [
       "   0\n",
       "0  1\n",
       "1  2\n",
       "2  3"
      ]
     },
     "execution_count": 11,
     "metadata": {},
     "output_type": "execute_result"
    }
   ],
   "source": [
    "a = [1, 2, 3]\n",
    "pd.DataFrame(a)"
   ]
  },
  {
   "cell_type": "code",
   "execution_count": 12,
   "id": "345a5fb4",
   "metadata": {
    "scrolled": true,
    "slideshow": {
     "slide_type": "subslide"
    }
   },
   "outputs": [
    {
     "data": {
      "text/html": [
       "<div>\n",
       "<style scoped>\n",
       "    .dataframe tbody tr th:only-of-type {\n",
       "        vertical-align: middle;\n",
       "    }\n",
       "\n",
       "    .dataframe tbody tr th {\n",
       "        vertical-align: top;\n",
       "    }\n",
       "\n",
       "    .dataframe thead th {\n",
       "        text-align: right;\n",
       "    }\n",
       "</style>\n",
       "<table border=\"1\" class=\"dataframe\">\n",
       "  <thead>\n",
       "    <tr style=\"text-align: right;\">\n",
       "      <th></th>\n",
       "      <th>0</th>\n",
       "      <th>1</th>\n",
       "      <th>2</th>\n",
       "    </tr>\n",
       "  </thead>\n",
       "  <tbody>\n",
       "    <tr>\n",
       "      <th>0</th>\n",
       "      <td>1</td>\n",
       "      <td>2</td>\n",
       "      <td>3</td>\n",
       "    </tr>\n",
       "    <tr>\n",
       "      <th>1</th>\n",
       "      <td>4</td>\n",
       "      <td>5</td>\n",
       "      <td>6</td>\n",
       "    </tr>\n",
       "  </tbody>\n",
       "</table>\n",
       "</div>"
      ],
      "text/plain": [
       "   0  1  2\n",
       "0  1  2  3\n",
       "1  4  5  6"
      ]
     },
     "execution_count": 12,
     "metadata": {},
     "output_type": "execute_result"
    }
   ],
   "source": [
    "a = [[1, 2, 3], [4, 5, 6]]\n",
    "pd.DataFrame(a)"
   ]
  },
  {
   "cell_type": "markdown",
   "id": "e63482f5",
   "metadata": {
    "slideshow": {
     "slide_type": "slide"
    }
   },
   "source": [
    "### Reading Data\n",
    "<hr>\n",
    "\n",
    "In most cases, we need to read data files (such as Excel files). Suppose the example above is saved in an Excel file named 'transcripts.xlsx' located in the \"datas/\" directory on your computer. We can read the file using the `read_excel` method:"
   ]
  },
  {
   "cell_type": "markdown",
   "id": "0d0394d3-0751-4a2f-a824-b7087b807e57",
   "metadata": {
    "ExecuteTime": {
     "end_time": "2025-02-23T23:05:39.633982Z",
     "start_time": "2025-02-23T23:05:39.094905Z"
    },
    "slideshow": {
     "slide_type": "fragment"
    }
   },
   "source": [
    "```python\n",
    "import pandas as pd\n",
    "\n",
    "df = pd.read_excel(\"datas/transcripts.xlsx\")\n",
    "# or df = pd.read_excel(\"datas\\\\transcripts.xlsx\")\n",
    "# or df = pd.read_excel(r\"datas\\transcripts.xlsx\")\n",
    "```"
   ]
  },
  {
   "cell_type": "markdown",
   "id": "29cda5a4",
   "metadata": {
    "slideshow": {
     "slide_type": "fragment"
    }
   },
   "source": [
    "```{note}\n",
    "- File paths on macOS use the forward slash `/` as a separator, while Windows uses the backslash `\\`.\n",
    "\n",
    "- Adding an `r` before a file path string (e.g., r\"path\") preserves the original meaning of the string and prevents special characters from being escaped.\n",
    "```"
   ]
  },
  {
   "cell_type": "markdown",
   "id": "e77ef888",
   "metadata": {
    "slideshow": {
     "slide_type": "subslide"
    }
   },
   "source": [
    "The syntax for ``read_excel``is:"
   ]
  },
  {
   "cell_type": "markdown",
   "id": "8c25d59d",
   "metadata": {
    "slideshow": {
     "slide_type": "fragment"
    }
   },
   "source": [
    "<table>   \n",
    "    <tr style=\"border-top:solid; border-bottom:solid\">\n",
    "        <th colspan=2 style=\"text-align:center\">\n",
    "            read_excel(io, sheetname=0, header=0, skiprows=None, index_col=None, encoding=None)\n",
    "        </th>\n",
    "    </tr>\n",
    "    <tr>\n",
    "        <td style=\"text-align:left\">io</td>\n",
    "        <td style=\"text-align:left\">The file path and name of the data file, usually provided as a string.</td>\n",
    "    </tr>\n",
    "    <tr>\n",
    "        <td style=\"text-align:left\">sheetname</td>\n",
    "        <td style=\"text-align:left\">The name or index of the worksheet. Defaults to 0, which reads the first sheet.</td>\n",
    "    </tr>\n",
    "    <tr>\n",
    "        <td style=\"text-align:left\">header</td>\n",
    "        <td style=\"text-align:left\">The row to use as column names. Defaults to 0, meaning the first row is used as headers.</td>\n",
    "    </tr>\n",
    "    <tr>\n",
    "        <td style=\"text-align:left\">skiprows</td>\n",
    "        <td style=\"text-align:left\">Number of rows to skip from the top of the file.</td>\n",
    "    </tr>\n",
    "    <tr>\n",
    "        <td style=\"text-align:left\">index_col</td>\n",
    "        <td style=\"text-align:left\">Column to use as the row labels of the DataFrame.</td>\n",
    "    </tr>\n",
    "    <tr style=\"border-bottom:solid\">\n",
    "        <td style=\"text-align:left\">encoding</td>\n",
    "        <td style=\"text-align:left\">Encoding format, commonly 'gbk' or 'utf-8'.</td>\n",
    "    </tr>\n",
    "</table>"
   ]
  },
  {
   "cell_type": "markdown",
   "id": "9329cff6",
   "metadata": {},
   "source": [
    "```{note}\n",
    "- When reading certain data files, you may need to add the decoding argument `encoding='gbk'` or `encoding='utf-8'` for proper reading.\n",
    "```"
   ]
  },
  {
   "cell_type": "markdown",
   "id": "0a9b0936",
   "metadata": {
    "slideshow": {
     "slide_type": "fragment"
    }
   },
   "source": [
    "Another common data file format is CSV. We can simply use Pandas' `read_csv` method, whose syntax is essentially the same as `read_excel`."
   ]
  },
  {
   "cell_type": "markdown",
   "id": "48946e96",
   "metadata": {
    "slideshow": {
     "slide_type": "slide"
    }
   },
   "source": [
    "### Store the data\n",
    "<hr>\n",
    "\n",
    "To save data, use the `to_excel` or `to_csv` method. For example, to save our DataFrame df to the \"datas/\" folder with the filename \"marks.xlsx\":"
   ]
  },
  {
   "cell_type": "code",
   "execution_count": 13,
   "id": "2ebd5dd8",
   "metadata": {
    "slideshow": {
     "slide_type": "fragment"
    }
   },
   "outputs": [],
   "source": [
    "df.to_excel(\"datas/marks.xlsx\")"
   ]
  },
  {
   "cell_type": "markdown",
   "id": "64d0bab8-f1a4-4279-a714-c8070ac42423",
   "metadata": {},
   "source": [
    "- The folder must first exists in the computer before using `to_excel` or `to_csv`.\n",
    "- By default, the row indeices are not written to the file. If you want to include the index in the saved file, you can set `index=True` (the default is index=False)."
   ]
  },
  {
   "cell_type": "markdown",
   "id": "9ac7465c",
   "metadata": {
    "slideshow": {
     "slide_type": "slide"
    }
   },
   "source": [
    "## Access and change data\n",
    "<hr>\n",
    "\n",
    "To quickly view the statistical summary of each column in a DataFrame, you can use the `describe()` method. It includes information such as the number of non-null values, mean, standard deviation, minimum, maximum, and quartiles for each column."
   ]
  },
  {
   "cell_type": "code",
   "execution_count": 14,
   "id": "510ccd2b",
   "metadata": {
    "slideshow": {
     "slide_type": "fragment"
    }
   },
   "outputs": [
    {
     "data": {
      "text/html": [
       "<div>\n",
       "<style scoped>\n",
       "    .dataframe tbody tr th:only-of-type {\n",
       "        vertical-align: middle;\n",
       "    }\n",
       "\n",
       "    .dataframe tbody tr th {\n",
       "        vertical-align: top;\n",
       "    }\n",
       "\n",
       "    .dataframe thead th {\n",
       "        text-align: right;\n",
       "    }\n",
       "</style>\n",
       "<table border=\"1\" class=\"dataframe\">\n",
       "  <thead>\n",
       "    <tr style=\"text-align: right;\">\n",
       "      <th></th>\n",
       "      <th>Statistics</th>\n",
       "      <th>Accounting</th>\n",
       "      <th>Marketing</th>\n",
       "    </tr>\n",
       "  </thead>\n",
       "  <tbody>\n",
       "    <tr>\n",
       "      <th>count</th>\n",
       "      <td>3.000000</td>\n",
       "      <td>3.000000</td>\n",
       "      <td>3.0</td>\n",
       "    </tr>\n",
       "    <tr>\n",
       "      <th>mean</th>\n",
       "      <td>81.000000</td>\n",
       "      <td>77.666667</td>\n",
       "      <td>84.0</td>\n",
       "    </tr>\n",
       "    <tr>\n",
       "      <th>std</th>\n",
       "      <td>11.532563</td>\n",
       "      <td>13.051181</td>\n",
       "      <td>6.0</td>\n",
       "    </tr>\n",
       "    <tr>\n",
       "      <th>min</th>\n",
       "      <td>68.000000</td>\n",
       "      <td>63.000000</td>\n",
       "      <td>78.0</td>\n",
       "    </tr>\n",
       "    <tr>\n",
       "      <th>25%</th>\n",
       "      <td>76.500000</td>\n",
       "      <td>72.500000</td>\n",
       "      <td>81.0</td>\n",
       "    </tr>\n",
       "    <tr>\n",
       "      <th>50%</th>\n",
       "      <td>85.000000</td>\n",
       "      <td>82.000000</td>\n",
       "      <td>84.0</td>\n",
       "    </tr>\n",
       "    <tr>\n",
       "      <th>75%</th>\n",
       "      <td>87.500000</td>\n",
       "      <td>85.000000</td>\n",
       "      <td>87.0</td>\n",
       "    </tr>\n",
       "    <tr>\n",
       "      <th>max</th>\n",
       "      <td>90.000000</td>\n",
       "      <td>88.000000</td>\n",
       "      <td>90.0</td>\n",
       "    </tr>\n",
       "  </tbody>\n",
       "</table>\n",
       "</div>"
      ],
      "text/plain": [
       "       Statistics  Accounting  Marketing\n",
       "count    3.000000    3.000000        3.0\n",
       "mean    81.000000   77.666667       84.0\n",
       "std     11.532563   13.051181        6.0\n",
       "min     68.000000   63.000000       78.0\n",
       "25%     76.500000   72.500000       81.0\n",
       "50%     85.000000   82.000000       84.0\n",
       "75%     87.500000   85.000000       87.0\n",
       "max     90.000000   88.000000       90.0"
      ]
     },
     "execution_count": 14,
     "metadata": {},
     "output_type": "execute_result"
    }
   ],
   "source": [
    "df.describe()"
   ]
  },
  {
   "cell_type": "markdown",
   "id": "fe80bce0",
   "metadata": {
    "slideshow": {
     "slide_type": "subslide"
    }
   },
   "source": [
    "Additionally, there are several useful method:\n",
    "\n",
    "| method | Description                       |\n",
    "| ------- | -------------------------------- |\n",
    "| `info()` | View the data type of each column |\n",
    "| `head()` | View the first 5 rows of the data |\n",
    "| `tail()` | View the last 5 rows of the data  |\n"
   ]
  },
  {
   "cell_type": "markdown",
   "id": "76f32b21",
   "metadata": {
    "slideshow": {
     "slide_type": "slide"
    }
   },
   "source": [
    "### Access the data of a single row, column or cell\n",
    "<hr>\n",
    "\n",
    "The simplest way to view a specific column of data is by entering the column name within square brackets `[ ]`. For example, to view the 'Marketing' scores column:"
   ]
  },
  {
   "cell_type": "code",
   "execution_count": 15,
   "id": "ec257ef8",
   "metadata": {
    "slideshow": {
     "slide_type": "fragment"
    }
   },
   "outputs": [
    {
     "data": {
      "text/plain": [
       "0    84\n",
       "1    90\n",
       "2    78\n",
       "Name: Marketing, dtype: int64"
      ]
     },
     "execution_count": 15,
     "metadata": {},
     "output_type": "execute_result"
    }
   ],
   "source": [
    "df['Marketing']"
   ]
  },
  {
   "cell_type": "markdown",
   "id": "ce06a4a5",
   "metadata": {
    "slideshow": {
     "slide_type": "subslide"
    }
   },
   "source": [
    "To view a particular row of data, use the `loc[ ]` method with the row index."
   ]
  },
  {
   "cell_type": "code",
   "execution_count": 16,
   "id": "3b949c99",
   "metadata": {
    "slideshow": {
     "slide_type": "fragment"
    }
   },
   "outputs": [
    {
     "data": {
      "text/plain": [
       "Name          Jim\n",
       "Statistics     85\n",
       "Accounting     82\n",
       "Marketing      84\n",
       "Name: 0, dtype: object"
      ]
     },
     "execution_count": 16,
     "metadata": {},
     "output_type": "execute_result"
    }
   ],
   "source": [
    "df.loc[0]  # show the data of the first row"
   ]
  },
  {
   "cell_type": "code",
   "execution_count": 17,
   "id": "c87cc435",
   "metadata": {
    "slideshow": {
     "slide_type": "fragment"
    }
   },
   "outputs": [
    {
     "data": {
      "text/plain": [
       "Name          Jack\n",
       "Statistics      90\n",
       "Accounting      88\n",
       "Marketing       78\n",
       "Name: 2, dtype: object"
      ]
     },
     "execution_count": 17,
     "metadata": {},
     "output_type": "execute_result"
    }
   ],
   "source": [
    "df.loc[2]  # show the data of the 3rd row"
   ]
  },
  {
   "cell_type": "markdown",
   "id": "486b9238",
   "metadata": {
    "slideshow": {
     "slide_type": "subslide"
    }
   },
   "source": [
    "To view a specific cell, a convenient method is to use double square brackets `[ ][ ]`, with the column label and row index inside each bracket respectively."
   ]
  },
  {
   "cell_type": "code",
   "execution_count": 18,
   "id": "3dc9041a",
   "metadata": {
    "slideshow": {
     "slide_type": "fragment"
    }
   },
   "outputs": [
    {
     "data": {
      "text/plain": [
       "90"
      ]
     },
     "execution_count": 18,
     "metadata": {},
     "output_type": "execute_result"
    }
   ],
   "source": [
    "df[\"Marketing\"][1]"
   ]
  },
  {
   "cell_type": "markdown",
   "id": "58ed603c",
   "metadata": {
    "slideshow": {
     "slide_type": "slide"
    }
   },
   "source": [
    "### Acess multi-row or multi-column data\n",
    "<hr>\n",
    "\n",
    "To view multiple rows and columns of data, you can use `iloc[ ]`, which not only allows accessing multiple rows and columns but also supports retrieving single rows, single columns, or even individual cell data.。"
   ]
  },
  {
   "cell_type": "code",
   "execution_count": 19,
   "id": "8cc1c1a2-e499-4b6a-aee6-fef359b21449",
   "metadata": {
    "scrolled": true
   },
   "outputs": [
    {
     "data": {
      "text/plain": [
       "Name          Lily\n",
       "Statistics      68\n",
       "Accounting      63\n",
       "Marketing       90\n",
       "Name: 1, dtype: object"
      ]
     },
     "execution_count": 19,
     "metadata": {},
     "output_type": "execute_result"
    }
   ],
   "source": [
    "df.iloc[1] # view the data in the 2nd row"
   ]
  },
  {
   "cell_type": "code",
   "execution_count": 20,
   "id": "f2128794-fd95-4298-92ab-f99cb4e1a20f",
   "metadata": {
    "scrolled": true
   },
   "outputs": [
    {
     "data": {
      "text/html": [
       "<div>\n",
       "<style scoped>\n",
       "    .dataframe tbody tr th:only-of-type {\n",
       "        vertical-align: middle;\n",
       "    }\n",
       "\n",
       "    .dataframe tbody tr th {\n",
       "        vertical-align: top;\n",
       "    }\n",
       "\n",
       "    .dataframe thead th {\n",
       "        text-align: right;\n",
       "    }\n",
       "</style>\n",
       "<table border=\"1\" class=\"dataframe\">\n",
       "  <thead>\n",
       "    <tr style=\"text-align: right;\">\n",
       "      <th></th>\n",
       "      <th>Name</th>\n",
       "      <th>Statistics</th>\n",
       "      <th>Accounting</th>\n",
       "      <th>Marketing</th>\n",
       "    </tr>\n",
       "  </thead>\n",
       "  <tbody>\n",
       "    <tr>\n",
       "      <th>0</th>\n",
       "      <td>Jim</td>\n",
       "      <td>85</td>\n",
       "      <td>82</td>\n",
       "      <td>84</td>\n",
       "    </tr>\n",
       "    <tr>\n",
       "      <th>1</th>\n",
       "      <td>Lily</td>\n",
       "      <td>68</td>\n",
       "      <td>63</td>\n",
       "      <td>90</td>\n",
       "    </tr>\n",
       "  </tbody>\n",
       "</table>\n",
       "</div>"
      ],
      "text/plain": [
       "   Name  Statistics  Accounting  Marketing\n",
       "0   Jim          85          82         84\n",
       "1  Lily          68          63         90"
      ]
     },
     "execution_count": 20,
     "metadata": {},
     "output_type": "execute_result"
    }
   ],
   "source": [
    "df.iloc[0:2] # view the data of the first 2 rows"
   ]
  },
  {
   "cell_type": "code",
   "execution_count": 21,
   "id": "74304fe1",
   "metadata": {
    "slideshow": {
     "slide_type": "fragment"
    }
   },
   "outputs": [
    {
     "data": {
      "text/html": [
       "<div>\n",
       "<style scoped>\n",
       "    .dataframe tbody tr th:only-of-type {\n",
       "        vertical-align: middle;\n",
       "    }\n",
       "\n",
       "    .dataframe tbody tr th {\n",
       "        vertical-align: top;\n",
       "    }\n",
       "\n",
       "    .dataframe thead th {\n",
       "        text-align: right;\n",
       "    }\n",
       "</style>\n",
       "<table border=\"1\" class=\"dataframe\">\n",
       "  <thead>\n",
       "    <tr style=\"text-align: right;\">\n",
       "      <th></th>\n",
       "      <th>Name</th>\n",
       "      <th>Statistics</th>\n",
       "      <th>Accounting</th>\n",
       "      <th>Marketing</th>\n",
       "    </tr>\n",
       "  </thead>\n",
       "  <tbody>\n",
       "    <tr>\n",
       "      <th>0</th>\n",
       "      <td>Jim</td>\n",
       "      <td>85</td>\n",
       "      <td>82</td>\n",
       "      <td>84</td>\n",
       "    </tr>\n",
       "    <tr>\n",
       "      <th>2</th>\n",
       "      <td>Jack</td>\n",
       "      <td>90</td>\n",
       "      <td>88</td>\n",
       "      <td>78</td>\n",
       "    </tr>\n",
       "  </tbody>\n",
       "</table>\n",
       "</div>"
      ],
      "text/plain": [
       "   Name  Statistics  Accounting  Marketing\n",
       "0   Jim          85          82         84\n",
       "2  Jack          90          88         78"
      ]
     },
     "execution_count": 21,
     "metadata": {},
     "output_type": "execute_result"
    }
   ],
   "source": [
    "df.iloc[[0, 2]]  # view the data of the 1st and the 3rd rows"
   ]
  },
  {
   "cell_type": "markdown",
   "id": "55773d67",
   "metadata": {
    "slideshow": {
     "slide_type": "subslide"
    }
   },
   "source": [
    "- View the column data with `[:, ]`."
   ]
  },
  {
   "cell_type": "code",
   "execution_count": 22,
   "id": "f41a1f7e-deac-4c8b-8022-3fa890b7623a",
   "metadata": {},
   "outputs": [
    {
     "data": {
      "text/plain": [
       "0    85\n",
       "1    68\n",
       "2    90\n",
       "Name: Statistics, dtype: int64"
      ]
     },
     "execution_count": 22,
     "metadata": {},
     "output_type": "execute_result"
    }
   ],
   "source": [
    "df.iloc[:, 1]  # view the data of the 2nd column"
   ]
  },
  {
   "cell_type": "code",
   "execution_count": 23,
   "id": "bd2d3d9e-d3df-44ee-868f-f36af74bf7eb",
   "metadata": {},
   "outputs": [
    {
     "data": {
      "text/html": [
       "<div>\n",
       "<style scoped>\n",
       "    .dataframe tbody tr th:only-of-type {\n",
       "        vertical-align: middle;\n",
       "    }\n",
       "\n",
       "    .dataframe tbody tr th {\n",
       "        vertical-align: top;\n",
       "    }\n",
       "\n",
       "    .dataframe thead th {\n",
       "        text-align: right;\n",
       "    }\n",
       "</style>\n",
       "<table border=\"1\" class=\"dataframe\">\n",
       "  <thead>\n",
       "    <tr style=\"text-align: right;\">\n",
       "      <th></th>\n",
       "      <th>Name</th>\n",
       "      <th>Statistics</th>\n",
       "    </tr>\n",
       "  </thead>\n",
       "  <tbody>\n",
       "    <tr>\n",
       "      <th>0</th>\n",
       "      <td>Jim</td>\n",
       "      <td>85</td>\n",
       "    </tr>\n",
       "    <tr>\n",
       "      <th>1</th>\n",
       "      <td>Lily</td>\n",
       "      <td>68</td>\n",
       "    </tr>\n",
       "    <tr>\n",
       "      <th>2</th>\n",
       "      <td>Jack</td>\n",
       "      <td>90</td>\n",
       "    </tr>\n",
       "  </tbody>\n",
       "</table>\n",
       "</div>"
      ],
      "text/plain": [
       "   Name  Statistics\n",
       "0   Jim          85\n",
       "1  Lily          68\n",
       "2  Jack          90"
      ]
     },
     "execution_count": 23,
     "metadata": {},
     "output_type": "execute_result"
    }
   ],
   "source": [
    "df.iloc[:, 0:2]  # view the data of the first 2 columns"
   ]
  },
  {
   "cell_type": "code",
   "execution_count": 24,
   "id": "50b58468",
   "metadata": {
    "slideshow": {
     "slide_type": "fragment"
    }
   },
   "outputs": [
    {
     "data": {
      "text/html": [
       "<div>\n",
       "<style scoped>\n",
       "    .dataframe tbody tr th:only-of-type {\n",
       "        vertical-align: middle;\n",
       "    }\n",
       "\n",
       "    .dataframe tbody tr th {\n",
       "        vertical-align: top;\n",
       "    }\n",
       "\n",
       "    .dataframe thead th {\n",
       "        text-align: right;\n",
       "    }\n",
       "</style>\n",
       "<table border=\"1\" class=\"dataframe\">\n",
       "  <thead>\n",
       "    <tr style=\"text-align: right;\">\n",
       "      <th></th>\n",
       "      <th>Name</th>\n",
       "      <th>Accounting</th>\n",
       "    </tr>\n",
       "  </thead>\n",
       "  <tbody>\n",
       "    <tr>\n",
       "      <th>0</th>\n",
       "      <td>Jim</td>\n",
       "      <td>82</td>\n",
       "    </tr>\n",
       "    <tr>\n",
       "      <th>1</th>\n",
       "      <td>Lily</td>\n",
       "      <td>63</td>\n",
       "    </tr>\n",
       "    <tr>\n",
       "      <th>2</th>\n",
       "      <td>Jack</td>\n",
       "      <td>88</td>\n",
       "    </tr>\n",
       "  </tbody>\n",
       "</table>\n",
       "</div>"
      ],
      "text/plain": [
       "   Name  Accounting\n",
       "0   Jim          82\n",
       "1  Lily          63\n",
       "2  Jack          88"
      ]
     },
     "execution_count": 24,
     "metadata": {},
     "output_type": "execute_result"
    }
   ],
   "source": [
    "df.iloc[:, [0, 2]]  # view the data of the 1st and 3rd columns"
   ]
  },
  {
   "cell_type": "markdown",
   "id": "e0b5403b",
   "metadata": {
    "slideshow": {
     "slide_type": "subslide"
    }
   },
   "source": [
    "- View the data in a block."
   ]
  },
  {
   "cell_type": "code",
   "execution_count": 25,
   "id": "75a06bae-5d3f-4025-ae78-6476b9727b32",
   "metadata": {
    "scrolled": true
   },
   "outputs": [
    {
     "data": {
      "text/html": [
       "<div>\n",
       "<style scoped>\n",
       "    .dataframe tbody tr th:only-of-type {\n",
       "        vertical-align: middle;\n",
       "    }\n",
       "\n",
       "    .dataframe tbody tr th {\n",
       "        vertical-align: top;\n",
       "    }\n",
       "\n",
       "    .dataframe thead th {\n",
       "        text-align: right;\n",
       "    }\n",
       "</style>\n",
       "<table border=\"1\" class=\"dataframe\">\n",
       "  <thead>\n",
       "    <tr style=\"text-align: right;\">\n",
       "      <th></th>\n",
       "      <th>Name</th>\n",
       "      <th>Statistics</th>\n",
       "    </tr>\n",
       "  </thead>\n",
       "  <tbody>\n",
       "    <tr>\n",
       "      <th>0</th>\n",
       "      <td>Jim</td>\n",
       "      <td>85</td>\n",
       "    </tr>\n",
       "    <tr>\n",
       "      <th>1</th>\n",
       "      <td>Lily</td>\n",
       "      <td>68</td>\n",
       "    </tr>\n",
       "  </tbody>\n",
       "</table>\n",
       "</div>"
      ],
      "text/plain": [
       "   Name  Statistics\n",
       "0   Jim          85\n",
       "1  Lily          68"
      ]
     },
     "execution_count": 25,
     "metadata": {},
     "output_type": "execute_result"
    }
   ],
   "source": [
    "df.iloc[0:2, 0:2] # view the data in the first 2 rows and the first 2 columns"
   ]
  },
  {
   "cell_type": "code",
   "execution_count": 26,
   "id": "7323ecc7-1859-486b-bf18-348444bdbf9d",
   "metadata": {},
   "outputs": [
    {
     "data": {
      "text/html": [
       "<div>\n",
       "<style scoped>\n",
       "    .dataframe tbody tr th:only-of-type {\n",
       "        vertical-align: middle;\n",
       "    }\n",
       "\n",
       "    .dataframe tbody tr th {\n",
       "        vertical-align: top;\n",
       "    }\n",
       "\n",
       "    .dataframe thead th {\n",
       "        text-align: right;\n",
       "    }\n",
       "</style>\n",
       "<table border=\"1\" class=\"dataframe\">\n",
       "  <thead>\n",
       "    <tr style=\"text-align: right;\">\n",
       "      <th></th>\n",
       "      <th>Name</th>\n",
       "      <th>Accounting</th>\n",
       "    </tr>\n",
       "  </thead>\n",
       "  <tbody>\n",
       "    <tr>\n",
       "      <th>0</th>\n",
       "      <td>Jim</td>\n",
       "      <td>82</td>\n",
       "    </tr>\n",
       "    <tr>\n",
       "      <th>2</th>\n",
       "      <td>Jack</td>\n",
       "      <td>88</td>\n",
       "    </tr>\n",
       "  </tbody>\n",
       "</table>\n",
       "</div>"
      ],
      "text/plain": [
       "   Name  Accounting\n",
       "0   Jim          82\n",
       "2  Jack          88"
      ]
     },
     "execution_count": 26,
     "metadata": {},
     "output_type": "execute_result"
    }
   ],
   "source": [
    "df.iloc[[0, 2], [0, 2]]  # view the data in row 1 and 3, column 1 and 3"
   ]
  },
  {
   "cell_type": "code",
   "execution_count": 27,
   "id": "2d081228",
   "metadata": {
    "jupyter": {
     "source_hidden": true
    },
    "slideshow": {
     "slide_type": "fragment"
    }
   },
   "outputs": [
    {
     "data": {
      "text/html": [
       "<div>\n",
       "<style scoped>\n",
       "    .dataframe tbody tr th:only-of-type {\n",
       "        vertical-align: middle;\n",
       "    }\n",
       "\n",
       "    .dataframe tbody tr th {\n",
       "        vertical-align: top;\n",
       "    }\n",
       "\n",
       "    .dataframe thead th {\n",
       "        text-align: right;\n",
       "    }\n",
       "</style>\n",
       "<table border=\"1\" class=\"dataframe\">\n",
       "  <thead>\n",
       "    <tr style=\"text-align: right;\">\n",
       "      <th></th>\n",
       "      <th>Name</th>\n",
       "      <th>Statistics</th>\n",
       "    </tr>\n",
       "  </thead>\n",
       "  <tbody>\n",
       "    <tr>\n",
       "      <th>0</th>\n",
       "      <td>Jim</td>\n",
       "      <td>85</td>\n",
       "    </tr>\n",
       "    <tr>\n",
       "      <th>2</th>\n",
       "      <td>Jack</td>\n",
       "      <td>90</td>\n",
       "    </tr>\n",
       "  </tbody>\n",
       "</table>\n",
       "</div>"
      ],
      "text/plain": [
       "   Name  Statistics\n",
       "0   Jim          85\n",
       "2  Jack          90"
      ]
     },
     "execution_count": 27,
     "metadata": {},
     "output_type": "execute_result"
    }
   ],
   "source": [
    "df.iloc[[0, 2], 0:2]  # view the data in row 1 and 3, column 1 and 2"
   ]
  },
  {
   "cell_type": "markdown",
   "id": "f3b20bf8",
   "metadata": {
    "slideshow": {
     "slide_type": "subslide"
    }
   },
   "source": [
    "- View the data in some cell."
   ]
  },
  {
   "cell_type": "code",
   "execution_count": 28,
   "id": "8c786fb1",
   "metadata": {
    "slideshow": {
     "slide_type": "fragment"
    }
   },
   "outputs": [
    {
     "data": {
      "text/plain": [
       "68"
      ]
     },
     "execution_count": 28,
     "metadata": {},
     "output_type": "execute_result"
    }
   ],
   "source": [
    "df.iloc[1, 1]  # view the data in the cell of row 1 and column 1"
   ]
  },
  {
   "cell_type": "markdown",
   "id": "04daa6a3",
   "metadata": {
    "slideshow": {
     "slide_type": "subslide"
    }
   },
   "source": [
    "To view specific columns of data, in addition to using `iloc`, you can **directly pass a list of column labels inside square brackets `[ ]`**."
   ]
  },
  {
   "cell_type": "code",
   "execution_count": 29,
   "id": "6c8ecd57",
   "metadata": {
    "slideshow": {
     "slide_type": "fragment"
    }
   },
   "outputs": [
    {
     "data": {
      "text/html": [
       "<div>\n",
       "<style scoped>\n",
       "    .dataframe tbody tr th:only-of-type {\n",
       "        vertical-align: middle;\n",
       "    }\n",
       "\n",
       "    .dataframe tbody tr th {\n",
       "        vertical-align: top;\n",
       "    }\n",
       "\n",
       "    .dataframe thead th {\n",
       "        text-align: right;\n",
       "    }\n",
       "</style>\n",
       "<table border=\"1\" class=\"dataframe\">\n",
       "  <thead>\n",
       "    <tr style=\"text-align: right;\">\n",
       "      <th></th>\n",
       "      <th>Statistics</th>\n",
       "      <th>Marketing</th>\n",
       "    </tr>\n",
       "  </thead>\n",
       "  <tbody>\n",
       "    <tr>\n",
       "      <th>0</th>\n",
       "      <td>85</td>\n",
       "      <td>84</td>\n",
       "    </tr>\n",
       "    <tr>\n",
       "      <th>1</th>\n",
       "      <td>68</td>\n",
       "      <td>90</td>\n",
       "    </tr>\n",
       "    <tr>\n",
       "      <th>2</th>\n",
       "      <td>90</td>\n",
       "      <td>78</td>\n",
       "    </tr>\n",
       "  </tbody>\n",
       "</table>\n",
       "</div>"
      ],
      "text/plain": [
       "   Statistics  Marketing\n",
       "0          85         84\n",
       "1          68         90\n",
       "2          90         78"
      ]
     },
     "execution_count": 29,
     "metadata": {},
     "output_type": "execute_result"
    }
   ],
   "source": [
    "df[[\"Statistics\", \"Marketing\"]]"
   ]
  },
  {
   "cell_type": "markdown",
   "id": "27e57ec2-f35a-44d0-83a7-3e19d47d990c",
   "metadata": {},
   "source": [
    "It is same as the following:"
   ]
  },
  {
   "cell_type": "code",
   "execution_count": 30,
   "id": "8b2a040b",
   "metadata": {
    "slideshow": {
     "slide_type": "fragment"
    }
   },
   "outputs": [
    {
     "data": {
      "text/html": [
       "<div>\n",
       "<style scoped>\n",
       "    .dataframe tbody tr th:only-of-type {\n",
       "        vertical-align: middle;\n",
       "    }\n",
       "\n",
       "    .dataframe tbody tr th {\n",
       "        vertical-align: top;\n",
       "    }\n",
       "\n",
       "    .dataframe thead th {\n",
       "        text-align: right;\n",
       "    }\n",
       "</style>\n",
       "<table border=\"1\" class=\"dataframe\">\n",
       "  <thead>\n",
       "    <tr style=\"text-align: right;\">\n",
       "      <th></th>\n",
       "      <th>Statistics</th>\n",
       "      <th>Marketing</th>\n",
       "    </tr>\n",
       "  </thead>\n",
       "  <tbody>\n",
       "    <tr>\n",
       "      <th>0</th>\n",
       "      <td>85</td>\n",
       "      <td>84</td>\n",
       "    </tr>\n",
       "    <tr>\n",
       "      <th>1</th>\n",
       "      <td>68</td>\n",
       "      <td>90</td>\n",
       "    </tr>\n",
       "    <tr>\n",
       "      <th>2</th>\n",
       "      <td>90</td>\n",
       "      <td>78</td>\n",
       "    </tr>\n",
       "  </tbody>\n",
       "</table>\n",
       "</div>"
      ],
      "text/plain": [
       "   Statistics  Marketing\n",
       "0          85         84\n",
       "1          68         90\n",
       "2          90         78"
      ]
     },
     "execution_count": 30,
     "metadata": {},
     "output_type": "execute_result"
    }
   ],
   "source": [
    "df.iloc[:, [1, 3]]"
   ]
  },
  {
   "cell_type": "markdown",
   "id": "1cbae2e5",
   "metadata": {
    "slideshow": {
     "slide_type": "slide"
    }
   },
   "source": [
    "### View the statistical values of the data\n",
    "<hr>\n",
    "\n",
    "Pandas provides built-in statistical method to calculate summary statistics for column data. These method include: `mean()` (average), `max()` (maximum), `min()` (minimum), `median()`, `std()` (standard deviation), `count()`, `skew()` (skewness), `quantile()`, and more. In some cases, you may need to specify the argument `numeric_only=True` to ensure the method is only applied to numeric columns."
   ]
  },
  {
   "cell_type": "markdown",
   "id": "158adcd3-12bc-42fa-a299-714b5bf9cd06",
   "metadata": {},
   "source": [
    "- Sometimes we may need to cast the data types to numeric before using those methods."
   ]
  },
  {
   "cell_type": "code",
   "execution_count": 31,
   "id": "d3bd242b",
   "metadata": {
    "slideshow": {
     "slide_type": "subslide"
    }
   },
   "outputs": [
    {
     "data": {
      "text/plain": [
       "81.0"
      ]
     },
     "execution_count": 31,
     "metadata": {},
     "output_type": "execute_result"
    }
   ],
   "source": [
    "df[\"Statistics\"].mean()"
   ]
  },
  {
   "cell_type": "code",
   "execution_count": 32,
   "id": "c4401073",
   "metadata": {
    "slideshow": {
     "slide_type": "fragment"
    }
   },
   "outputs": [
    {
     "data": {
      "text/plain": [
       "Statistics    81.000000\n",
       "Accounting    77.666667\n",
       "Marketing     84.000000\n",
       "dtype: float64"
      ]
     },
     "execution_count": 32,
     "metadata": {},
     "output_type": "execute_result"
    }
   ],
   "source": [
    "# to calculate the average score for each course\n",
    "# since the first column ('names') is non-numeric, the argument numeric_only=True is added.`\n",
    "df.mean(numeric_only=True)  "
   ]
  },
  {
   "cell_type": "code",
   "execution_count": 33,
   "id": "9daa7255",
   "metadata": {
    "slideshow": {
     "slide_type": "fragment"
    }
   },
   "outputs": [
    {
     "data": {
      "text/plain": [
       "88"
      ]
     },
     "execution_count": 33,
     "metadata": {},
     "output_type": "execute_result"
    }
   ],
   "source": [
    "df[\"Accounting\"].max()"
   ]
  },
  {
   "cell_type": "markdown",
   "id": "9171459f-6e17-4fe7-b845-2d93b15284e9",
   "metadata": {},
   "source": [
    "- Using 'axis=1' to apply the function to rows"
   ]
  },
  {
   "cell_type": "code",
   "execution_count": 34,
   "id": "852eda24",
   "metadata": {},
   "outputs": [
    {
     "data": {
      "text/plain": [
       "0    83.666667\n",
       "1    73.666667\n",
       "2    85.333333\n",
       "dtype: float64"
      ]
     },
     "execution_count": 34,
     "metadata": {},
     "output_type": "execute_result"
    }
   ],
   "source": [
    "df.mean(numeric_only=True, axis=1)  # computer the average score of each student"
   ]
  },
  {
   "cell_type": "markdown",
   "id": "83d293a9",
   "metadata": {
    "slideshow": {
     "slide_type": "slide"
    }
   },
   "source": [
    "###  Revise data\n",
    "<hr>\n",
    "\n",
    "When modifying data in a pandas DataFrame, you can assign new values based on pandas index positions: **either assigning a column/row to a single value or to a list with equal length**, using `[ ]` and `.iloc[]`, respectively."
   ]
  },
  {
   "cell_type": "code",
   "execution_count": 35,
   "id": "333f47d5",
   "metadata": {
    "slideshow": {
     "slide_type": "fragment"
    }
   },
   "outputs": [
    {
     "data": {
      "text/html": [
       "<div>\n",
       "<style scoped>\n",
       "    .dataframe tbody tr th:only-of-type {\n",
       "        vertical-align: middle;\n",
       "    }\n",
       "\n",
       "    .dataframe tbody tr th {\n",
       "        vertical-align: top;\n",
       "    }\n",
       "\n",
       "    .dataframe thead th {\n",
       "        text-align: right;\n",
       "    }\n",
       "</style>\n",
       "<table border=\"1\" class=\"dataframe\">\n",
       "  <thead>\n",
       "    <tr style=\"text-align: right;\">\n",
       "      <th></th>\n",
       "      <th>Name</th>\n",
       "      <th>Statistics</th>\n",
       "      <th>Accounting</th>\n",
       "      <th>Marketing</th>\n",
       "    </tr>\n",
       "  </thead>\n",
       "  <tbody>\n",
       "    <tr>\n",
       "      <th>0</th>\n",
       "      <td>Jim</td>\n",
       "      <td>85</td>\n",
       "      <td>80</td>\n",
       "      <td>84</td>\n",
       "    </tr>\n",
       "    <tr>\n",
       "      <th>1</th>\n",
       "      <td>Lily</td>\n",
       "      <td>68</td>\n",
       "      <td>80</td>\n",
       "      <td>90</td>\n",
       "    </tr>\n",
       "    <tr>\n",
       "      <th>2</th>\n",
       "      <td>Jack</td>\n",
       "      <td>90</td>\n",
       "      <td>80</td>\n",
       "      <td>78</td>\n",
       "    </tr>\n",
       "  </tbody>\n",
       "</table>\n",
       "</div>"
      ],
      "text/plain": [
       "   Name  Statistics  Accounting  Marketing\n",
       "0   Jim          85          80         84\n",
       "1  Lily          68          80         90\n",
       "2  Jack          90          80         78"
      ]
     },
     "execution_count": 35,
     "metadata": {},
     "output_type": "execute_result"
    }
   ],
   "source": [
    "df[\"Accounting\"] = 80  # revise all the accounting scores to 80\n",
    "df"
   ]
  },
  {
   "cell_type": "code",
   "execution_count": 36,
   "id": "408a0f4e",
   "metadata": {
    "slideshow": {
     "slide_type": "fragment"
    }
   },
   "outputs": [
    {
     "data": {
      "text/html": [
       "<div>\n",
       "<style scoped>\n",
       "    .dataframe tbody tr th:only-of-type {\n",
       "        vertical-align: middle;\n",
       "    }\n",
       "\n",
       "    .dataframe tbody tr th {\n",
       "        vertical-align: top;\n",
       "    }\n",
       "\n",
       "    .dataframe thead th {\n",
       "        text-align: right;\n",
       "    }\n",
       "</style>\n",
       "<table border=\"1\" class=\"dataframe\">\n",
       "  <thead>\n",
       "    <tr style=\"text-align: right;\">\n",
       "      <th></th>\n",
       "      <th>Name</th>\n",
       "      <th>Statistics</th>\n",
       "      <th>Accounting</th>\n",
       "      <th>Marketing</th>\n",
       "    </tr>\n",
       "  </thead>\n",
       "  <tbody>\n",
       "    <tr>\n",
       "      <th>0</th>\n",
       "      <td>Jim</td>\n",
       "      <td>85</td>\n",
       "      <td>64</td>\n",
       "      <td>84</td>\n",
       "    </tr>\n",
       "    <tr>\n",
       "      <th>1</th>\n",
       "      <td>Lily</td>\n",
       "      <td>68</td>\n",
       "      <td>76</td>\n",
       "      <td>90</td>\n",
       "    </tr>\n",
       "    <tr>\n",
       "      <th>2</th>\n",
       "      <td>Jack</td>\n",
       "      <td>90</td>\n",
       "      <td>88</td>\n",
       "      <td>78</td>\n",
       "    </tr>\n",
       "  </tbody>\n",
       "</table>\n",
       "</div>"
      ],
      "text/plain": [
       "   Name  Statistics  Accounting  Marketing\n",
       "0   Jim          85          64         84\n",
       "1  Lily          68          76         90\n",
       "2  Jack          90          88         78"
      ]
     },
     "execution_count": 36,
     "metadata": {},
     "output_type": "execute_result"
    }
   ],
   "source": [
    "df[\"Accounting\"] = [64, 76, 88]  # revise the accounting scores to be the list values\n",
    "df"
   ]
  },
  {
   "cell_type": "code",
   "execution_count": 37,
   "id": "e366802c",
   "metadata": {
    "slideshow": {
     "slide_type": "subslide"
    }
   },
   "outputs": [
    {
     "data": {
      "text/html": [
       "<div>\n",
       "<style scoped>\n",
       "    .dataframe tbody tr th:only-of-type {\n",
       "        vertical-align: middle;\n",
       "    }\n",
       "\n",
       "    .dataframe tbody tr th {\n",
       "        vertical-align: top;\n",
       "    }\n",
       "\n",
       "    .dataframe thead th {\n",
       "        text-align: right;\n",
       "    }\n",
       "</style>\n",
       "<table border=\"1\" class=\"dataframe\">\n",
       "  <thead>\n",
       "    <tr style=\"text-align: right;\">\n",
       "      <th></th>\n",
       "      <th>Name</th>\n",
       "      <th>Statistics</th>\n",
       "      <th>Accounting</th>\n",
       "      <th>Marketing</th>\n",
       "    </tr>\n",
       "  </thead>\n",
       "  <tbody>\n",
       "    <tr>\n",
       "      <th>0</th>\n",
       "      <td>Jim</td>\n",
       "      <td>85</td>\n",
       "      <td>64</td>\n",
       "      <td>84</td>\n",
       "    </tr>\n",
       "    <tr>\n",
       "      <th>1</th>\n",
       "      <td>80</td>\n",
       "      <td>80</td>\n",
       "      <td>80</td>\n",
       "      <td>80</td>\n",
       "    </tr>\n",
       "    <tr>\n",
       "      <th>2</th>\n",
       "      <td>Jack</td>\n",
       "      <td>90</td>\n",
       "      <td>88</td>\n",
       "      <td>78</td>\n",
       "    </tr>\n",
       "  </tbody>\n",
       "</table>\n",
       "</div>"
      ],
      "text/plain": [
       "   Name  Statistics  Accounting  Marketing\n",
       "0   Jim          85          64         84\n",
       "1    80          80          80         80\n",
       "2  Jack          90          88         78"
      ]
     },
     "execution_count": 37,
     "metadata": {},
     "output_type": "execute_result"
    }
   ],
   "source": [
    "df.iloc[1] = 80  # revise all the values in row 2 to 80\n",
    "df"
   ]
  },
  {
   "cell_type": "code",
   "execution_count": 38,
   "id": "bf5f6a82",
   "metadata": {
    "slideshow": {
     "slide_type": "fragment"
    }
   },
   "outputs": [
    {
     "data": {
      "text/html": [
       "<div>\n",
       "<style scoped>\n",
       "    .dataframe tbody tr th:only-of-type {\n",
       "        vertical-align: middle;\n",
       "    }\n",
       "\n",
       "    .dataframe tbody tr th {\n",
       "        vertical-align: top;\n",
       "    }\n",
       "\n",
       "    .dataframe thead th {\n",
       "        text-align: right;\n",
       "    }\n",
       "</style>\n",
       "<table border=\"1\" class=\"dataframe\">\n",
       "  <thead>\n",
       "    <tr style=\"text-align: right;\">\n",
       "      <th></th>\n",
       "      <th>Name</th>\n",
       "      <th>Statistics</th>\n",
       "      <th>Accounting</th>\n",
       "      <th>Marketing</th>\n",
       "    </tr>\n",
       "  </thead>\n",
       "  <tbody>\n",
       "    <tr>\n",
       "      <th>0</th>\n",
       "      <td>Jim</td>\n",
       "      <td>85</td>\n",
       "      <td>64</td>\n",
       "      <td>84</td>\n",
       "    </tr>\n",
       "    <tr>\n",
       "      <th>1</th>\n",
       "      <td>Ella</td>\n",
       "      <td>95</td>\n",
       "      <td>90</td>\n",
       "      <td>89</td>\n",
       "    </tr>\n",
       "    <tr>\n",
       "      <th>2</th>\n",
       "      <td>Jack</td>\n",
       "      <td>90</td>\n",
       "      <td>88</td>\n",
       "      <td>78</td>\n",
       "    </tr>\n",
       "  </tbody>\n",
       "</table>\n",
       "</div>"
      ],
      "text/plain": [
       "   Name  Statistics  Accounting  Marketing\n",
       "0   Jim          85          64         84\n",
       "1  Ella          95          90         89\n",
       "2  Jack          90          88         78"
      ]
     },
     "execution_count": 38,
     "metadata": {},
     "output_type": "execute_result"
    }
   ],
   "source": [
    "df.iloc[1] = [\"Ella\", 95, 90, 89]  # revise all the values in row 2 to the list values\n",
    "df"
   ]
  },
  {
   "cell_type": "markdown",
   "id": "1a260e9e",
   "metadata": {
    "slideshow": {
     "slide_type": "subslide"
    }
   },
   "source": [
    "Revise the value in some cell:"
   ]
  },
  {
   "cell_type": "code",
   "execution_count": 39,
   "id": "92081ee6",
   "metadata": {
    "scrolled": true,
    "slideshow": {
     "slide_type": "fragment"
    }
   },
   "outputs": [
    {
     "data": {
      "text/html": [
       "<div>\n",
       "<style scoped>\n",
       "    .dataframe tbody tr th:only-of-type {\n",
       "        vertical-align: middle;\n",
       "    }\n",
       "\n",
       "    .dataframe tbody tr th {\n",
       "        vertical-align: top;\n",
       "    }\n",
       "\n",
       "    .dataframe thead th {\n",
       "        text-align: right;\n",
       "    }\n",
       "</style>\n",
       "<table border=\"1\" class=\"dataframe\">\n",
       "  <thead>\n",
       "    <tr style=\"text-align: right;\">\n",
       "      <th></th>\n",
       "      <th>Name</th>\n",
       "      <th>Statistics</th>\n",
       "      <th>Accounting</th>\n",
       "      <th>Marketing</th>\n",
       "    </tr>\n",
       "  </thead>\n",
       "  <tbody>\n",
       "    <tr>\n",
       "      <th>0</th>\n",
       "      <td>Jim</td>\n",
       "      <td>85</td>\n",
       "      <td>64</td>\n",
       "      <td>84</td>\n",
       "    </tr>\n",
       "    <tr>\n",
       "      <th>1</th>\n",
       "      <td>Ella</td>\n",
       "      <td>55</td>\n",
       "      <td>90</td>\n",
       "      <td>89</td>\n",
       "    </tr>\n",
       "    <tr>\n",
       "      <th>2</th>\n",
       "      <td>Jack</td>\n",
       "      <td>90</td>\n",
       "      <td>88</td>\n",
       "      <td>78</td>\n",
       "    </tr>\n",
       "  </tbody>\n",
       "</table>\n",
       "</div>"
      ],
      "text/plain": [
       "   Name  Statistics  Accounting  Marketing\n",
       "0   Jim          85          64         84\n",
       "1  Ella          55          90         89\n",
       "2  Jack          90          88         78"
      ]
     },
     "execution_count": 39,
     "metadata": {},
     "output_type": "execute_result"
    }
   ],
   "source": [
    "df.iloc[1, 1] = 55  \n",
    "df"
   ]
  },
  {
   "cell_type": "markdown",
   "id": "bc29b9c2-f9a4-4304-986c-85b8ef8945c3",
   "metadata": {},
   "source": [
    "To change the data type of column, using method `astype()`."
   ]
  },
  {
   "cell_type": "code",
   "execution_count": 40,
   "id": "a3aa61f5-bf94-42e1-8538-f00c3f607bd6",
   "metadata": {
    "scrolled": true
   },
   "outputs": [
    {
     "data": {
      "text/plain": [
       "0    84.0\n",
       "1    89.0\n",
       "2    78.0\n",
       "Name: Marketing, dtype: float64"
      ]
     },
     "execution_count": 40,
     "metadata": {},
     "output_type": "execute_result"
    }
   ],
   "source": [
    "df['Marketing'].astype(float)"
   ]
  },
  {
   "cell_type": "markdown",
   "id": "ca8f7e2a-6439-4a2a-ae85-546d19977d55",
   "metadata": {
    "slideshow": {
     "slide_type": "slide"
    }
   },
   "source": [
    "## Data cleaning\n",
    "<hr>\n",
    "\n",
    "### Data replacement ``replace``, ``fillna``\n",
    "<hr>\n",
    "\n",
    "When processing data, it is often necessary to perform batch operations on outliers or erroneous values in the raw data. Pandas provides the replace method to facilitate this task conveniently. The first argument of the replace method is the original value in the data, and the second argument is the value to be replaced. "
   ]
  },
  {
   "cell_type": "markdown",
   "id": "f8dee0af-8f11-4af7-88d8-2f97d9d2d785",
   "metadata": {},
   "source": [
    "For example, consider the following student grades:"
   ]
  },
  {
   "cell_type": "code",
   "execution_count": 41,
   "id": "dc02173a",
   "metadata": {
    "slideshow": {
     "slide_type": "subslide"
    }
   },
   "outputs": [
    {
     "data": {
      "text/html": [
       "<div>\n",
       "<style scoped>\n",
       "    .dataframe tbody tr th:only-of-type {\n",
       "        vertical-align: middle;\n",
       "    }\n",
       "\n",
       "    .dataframe tbody tr th {\n",
       "        vertical-align: top;\n",
       "    }\n",
       "\n",
       "    .dataframe thead th {\n",
       "        text-align: right;\n",
       "    }\n",
       "</style>\n",
       "<table border=\"1\" class=\"dataframe\">\n",
       "  <thead>\n",
       "    <tr style=\"text-align: right;\">\n",
       "      <th></th>\n",
       "      <th>Statistics</th>\n",
       "      <th>Python</th>\n",
       "      <th>Finance</th>\n",
       "    </tr>\n",
       "  </thead>\n",
       "  <tbody>\n",
       "    <tr>\n",
       "      <th>Jack</th>\n",
       "      <td>55</td>\n",
       "      <td>68</td>\n",
       "      <td>70</td>\n",
       "    </tr>\n",
       "    <tr>\n",
       "      <th>Lily</th>\n",
       "      <td>52</td>\n",
       "      <td>63</td>\n",
       "      <td>68</td>\n",
       "    </tr>\n",
       "    <tr>\n",
       "      <th>Tom</th>\n",
       "      <td>74</td>\n",
       "      <td>60</td>\n",
       "      <td>58</td>\n",
       "    </tr>\n",
       "  </tbody>\n",
       "</table>\n",
       "</div>"
      ],
      "text/plain": [
       "      Statistics  Python  Finance\n",
       "Jack          55      68       70\n",
       "Lily          52      63       68\n",
       "Tom           74      60       58"
      ]
     },
     "execution_count": 41,
     "metadata": {},
     "output_type": "execute_result"
    }
   ],
   "source": [
    "import pandas as pd\n",
    "\n",
    "df = pd.DataFrame(\n",
    "    [[55, 68, 70], [52, 63, 68], [74, 60, 58]],\n",
    "    columns=[\"Statistics\", \"Python\", \"Finance\"],\n",
    "    index=[\"Jack\", \"Lily\", \"Tom\"],\n",
    ")\n",
    "df"
   ]
  },
  {
   "cell_type": "markdown",
   "id": "15ecc188-9384-44a6-aea7-182d36cafa4d",
   "metadata": {
    "slideshow": {
     "slide_type": "subslide"
    }
   },
   "source": [
    "Replace the score 68 with 65:"
   ]
  },
  {
   "cell_type": "code",
   "execution_count": 42,
   "id": "2dd718a2",
   "metadata": {
    "slideshow": {
     "slide_type": "fragment"
    }
   },
   "outputs": [
    {
     "data": {
      "text/html": [
       "<div>\n",
       "<style scoped>\n",
       "    .dataframe tbody tr th:only-of-type {\n",
       "        vertical-align: middle;\n",
       "    }\n",
       "\n",
       "    .dataframe tbody tr th {\n",
       "        vertical-align: top;\n",
       "    }\n",
       "\n",
       "    .dataframe thead th {\n",
       "        text-align: right;\n",
       "    }\n",
       "</style>\n",
       "<table border=\"1\" class=\"dataframe\">\n",
       "  <thead>\n",
       "    <tr style=\"text-align: right;\">\n",
       "      <th></th>\n",
       "      <th>Statistics</th>\n",
       "      <th>Python</th>\n",
       "      <th>Finance</th>\n",
       "    </tr>\n",
       "  </thead>\n",
       "  <tbody>\n",
       "    <tr>\n",
       "      <th>Jack</th>\n",
       "      <td>55</td>\n",
       "      <td>68</td>\n",
       "      <td>70</td>\n",
       "    </tr>\n",
       "    <tr>\n",
       "      <th>Lily</th>\n",
       "      <td>52</td>\n",
       "      <td>63</td>\n",
       "      <td>68</td>\n",
       "    </tr>\n",
       "    <tr>\n",
       "      <th>Tom</th>\n",
       "      <td>74</td>\n",
       "      <td>60</td>\n",
       "      <td>58</td>\n",
       "    </tr>\n",
       "  </tbody>\n",
       "</table>\n",
       "</div>"
      ],
      "text/plain": [
       "      Statistics  Python  Finance\n",
       "Jack          55      68       70\n",
       "Lily          52      63       68\n",
       "Tom           74      60       58"
      ]
     },
     "execution_count": 42,
     "metadata": {},
     "output_type": "execute_result"
    }
   ],
   "source": [
    "df.replace(68, 65)\n",
    "df"
   ]
  },
  {
   "cell_type": "markdown",
   "id": "c81a8710-8108-4a7c-b9c1-0f3a1732a3d3",
   "metadata": {
    "slideshow": {
     "slide_type": "subslide"
    }
   },
   "source": [
    "The original data does not change. To change the original data, we need addtional argument `inplace=True`."
   ]
  },
  {
   "cell_type": "markdown",
   "id": "334162f1-9a2c-4112-9a8f-3754e84f61dc",
   "metadata": {
    "slideshow": {
     "slide_type": "fragment"
    }
   },
   "source": [
    "- The methods ``fillna``, ``drop_duplicates``,``dropna``,``rename`` can also add the argument`inplace=True` to change the original data."
   ]
  },
  {
   "cell_type": "code",
   "execution_count": 43,
   "id": "5601fc54",
   "metadata": {
    "slideshow": {
     "slide_type": "subslide"
    }
   },
   "outputs": [
    {
     "data": {
      "text/html": [
       "<div>\n",
       "<style scoped>\n",
       "    .dataframe tbody tr th:only-of-type {\n",
       "        vertical-align: middle;\n",
       "    }\n",
       "\n",
       "    .dataframe tbody tr th {\n",
       "        vertical-align: top;\n",
       "    }\n",
       "\n",
       "    .dataframe thead th {\n",
       "        text-align: right;\n",
       "    }\n",
       "</style>\n",
       "<table border=\"1\" class=\"dataframe\">\n",
       "  <thead>\n",
       "    <tr style=\"text-align: right;\">\n",
       "      <th></th>\n",
       "      <th>Statistics</th>\n",
       "      <th>Python</th>\n",
       "      <th>Finance</th>\n",
       "    </tr>\n",
       "  </thead>\n",
       "  <tbody>\n",
       "    <tr>\n",
       "      <th>Jack</th>\n",
       "      <td>55</td>\n",
       "      <td>65</td>\n",
       "      <td>70</td>\n",
       "    </tr>\n",
       "    <tr>\n",
       "      <th>Lily</th>\n",
       "      <td>52</td>\n",
       "      <td>63</td>\n",
       "      <td>65</td>\n",
       "    </tr>\n",
       "    <tr>\n",
       "      <th>Tom</th>\n",
       "      <td>74</td>\n",
       "      <td>60</td>\n",
       "      <td>58</td>\n",
       "    </tr>\n",
       "  </tbody>\n",
       "</table>\n",
       "</div>"
      ],
      "text/plain": [
       "      Statistics  Python  Finance\n",
       "Jack          55      65       70\n",
       "Lily          52      63       65\n",
       "Tom           74      60       58"
      ]
     },
     "execution_count": 43,
     "metadata": {},
     "output_type": "execute_result"
    }
   ],
   "source": [
    "df.replace(68, 65, inplace=True)\n",
    "df  "
   ]
  },
  {
   "cell_type": "markdown",
   "id": "bc1bda80-87be-4bac-a7d4-aeccd1fe6e2c",
   "metadata": {
    "slideshow": {
     "slide_type": "subslide"
    }
   },
   "source": [
    "Pandas provides the `fillna` method to batch replace missing values (NaN) in a data table."
   ]
  },
  {
   "cell_type": "markdown",
   "id": "a3d802ee-5a04-4551-b367-5f76d38ffba1",
   "metadata": {},
   "source": [
    "- When reading some data files by Pandas, some blank cells will be treated as Numpy's NaN (Not a Number) type."
   ]
  },
  {
   "cell_type": "code",
   "execution_count": 44,
   "id": "8fff87fa-c38f-4cac-b095-1891d36c8d37",
   "metadata": {},
   "outputs": [
    {
     "data": {
      "text/html": [
       "<div>\n",
       "<style scoped>\n",
       "    .dataframe tbody tr th:only-of-type {\n",
       "        vertical-align: middle;\n",
       "    }\n",
       "\n",
       "    .dataframe tbody tr th {\n",
       "        vertical-align: top;\n",
       "    }\n",
       "\n",
       "    .dataframe thead th {\n",
       "        text-align: right;\n",
       "    }\n",
       "</style>\n",
       "<table border=\"1\" class=\"dataframe\">\n",
       "  <thead>\n",
       "    <tr style=\"text-align: right;\">\n",
       "      <th></th>\n",
       "      <th>Statistics</th>\n",
       "      <th>Python</th>\n",
       "      <th>Finance</th>\n",
       "    </tr>\n",
       "  </thead>\n",
       "  <tbody>\n",
       "    <tr>\n",
       "      <th>Jack</th>\n",
       "      <td>55.0</td>\n",
       "      <td>68.0</td>\n",
       "      <td>70.0</td>\n",
       "    </tr>\n",
       "    <tr>\n",
       "      <th>Lily</th>\n",
       "      <td>52.0</td>\n",
       "      <td>NaN</td>\n",
       "      <td>68.0</td>\n",
       "    </tr>\n",
       "    <tr>\n",
       "      <th>Tom</th>\n",
       "      <td>74.0</td>\n",
       "      <td>60.0</td>\n",
       "      <td>NaN</td>\n",
       "    </tr>\n",
       "  </tbody>\n",
       "</table>\n",
       "</div>"
      ],
      "text/plain": [
       "      Statistics  Python  Finance\n",
       "Jack        55.0    68.0     70.0\n",
       "Lily        52.0     NaN     68.0\n",
       "Tom         74.0    60.0      NaN"
      ]
     },
     "execution_count": 44,
     "metadata": {},
     "output_type": "execute_result"
    }
   ],
   "source": [
    "import numpy as np\n",
    "\n",
    "df = pd.DataFrame(\n",
    "    np.array([[55, 68, 70], [52,  np.nan, 68], [74, 60, np.nan]]),\n",
    "    columns=[\"Statistics\", \"Python\", \"Finance\"],\n",
    "    index=[\"Jack\", \"Lily\", \"Tom\"],\n",
    ")\n",
    "df"
   ]
  },
  {
   "cell_type": "code",
   "execution_count": 45,
   "id": "32b73318",
   "metadata": {
    "slideshow": {
     "slide_type": "fragment"
    }
   },
   "outputs": [
    {
     "data": {
      "text/html": [
       "<div>\n",
       "<style scoped>\n",
       "    .dataframe tbody tr th:only-of-type {\n",
       "        vertical-align: middle;\n",
       "    }\n",
       "\n",
       "    .dataframe tbody tr th {\n",
       "        vertical-align: top;\n",
       "    }\n",
       "\n",
       "    .dataframe thead th {\n",
       "        text-align: right;\n",
       "    }\n",
       "</style>\n",
       "<table border=\"1\" class=\"dataframe\">\n",
       "  <thead>\n",
       "    <tr style=\"text-align: right;\">\n",
       "      <th></th>\n",
       "      <th>Statistics</th>\n",
       "      <th>Python</th>\n",
       "      <th>Finance</th>\n",
       "    </tr>\n",
       "  </thead>\n",
       "  <tbody>\n",
       "    <tr>\n",
       "      <th>Jack</th>\n",
       "      <td>55.0</td>\n",
       "      <td>68.0</td>\n",
       "      <td>70.0</td>\n",
       "    </tr>\n",
       "    <tr>\n",
       "      <th>Lily</th>\n",
       "      <td>52.0</td>\n",
       "      <td>80.0</td>\n",
       "      <td>68.0</td>\n",
       "    </tr>\n",
       "    <tr>\n",
       "      <th>Tom</th>\n",
       "      <td>74.0</td>\n",
       "      <td>60.0</td>\n",
       "      <td>80.0</td>\n",
       "    </tr>\n",
       "  </tbody>\n",
       "</table>\n",
       "</div>"
      ],
      "text/plain": [
       "      Statistics  Python  Finance\n",
       "Jack        55.0    68.0     70.0\n",
       "Lily        52.0    80.0     68.0\n",
       "Tom         74.0    60.0     80.0"
      ]
     },
     "execution_count": 45,
     "metadata": {},
     "output_type": "execute_result"
    }
   ],
   "source": [
    "df.fillna(80)  # replace NaN with 80"
   ]
  },
  {
   "cell_type": "markdown",
   "id": "ef5e0901-6d5e-42fa-8990-2c69814486e4",
   "metadata": {
    "slideshow": {
     "slide_type": "subslide"
    }
   },
   "source": [
    "Pandas can sue the method ``isnull``to evaluate whether the cell value is null："
   ]
  },
  {
   "cell_type": "code",
   "execution_count": 46,
   "id": "f873fa54",
   "metadata": {
    "slideshow": {
     "slide_type": "fragment"
    }
   },
   "outputs": [
    {
     "data": {
      "text/plain": [
       "Jack    False\n",
       "Lily    False\n",
       "Tom      True\n",
       "Name: Finance, dtype: bool"
      ]
     },
     "execution_count": 46,
     "metadata": {},
     "output_type": "execute_result"
    }
   ],
   "source": [
    "df[\"Finance\"].isnull()"
   ]
  },
  {
   "cell_type": "markdown",
   "id": "544c55bf-f2dd-48e7-82b3-aecc05f20d9e",
   "metadata": {},
   "source": [
    "### Cast the data type ``astype``\n",
    "<hr>\n",
    "\n",
    "Frquently, we need to perform data transformations on raw data. For example, if some numerical values in the original data are stored as text, we must convert them into numeric types before performing subsequent calculations. A commonly used method for data type conversion is `astype`.\n"
   ]
  },
  {
   "cell_type": "code",
   "execution_count": 47,
   "id": "399ec9d3",
   "metadata": {},
   "outputs": [
    {
     "data": {
      "text/html": [
       "<div>\n",
       "<style scoped>\n",
       "    .dataframe tbody tr th:only-of-type {\n",
       "        vertical-align: middle;\n",
       "    }\n",
       "\n",
       "    .dataframe tbody tr th {\n",
       "        vertical-align: top;\n",
       "    }\n",
       "\n",
       "    .dataframe thead th {\n",
       "        text-align: right;\n",
       "    }\n",
       "</style>\n",
       "<table border=\"1\" class=\"dataframe\">\n",
       "  <thead>\n",
       "    <tr style=\"text-align: right;\">\n",
       "      <th></th>\n",
       "      <th>Statistics</th>\n",
       "      <th>Python</th>\n",
       "      <th>Finance</th>\n",
       "    </tr>\n",
       "  </thead>\n",
       "  <tbody>\n",
       "    <tr>\n",
       "      <th>Jack</th>\n",
       "      <td>55</td>\n",
       "      <td>68</td>\n",
       "      <td>70</td>\n",
       "    </tr>\n",
       "    <tr>\n",
       "      <th>Lily</th>\n",
       "      <td>52</td>\n",
       "      <td>63</td>\n",
       "      <td>68</td>\n",
       "    </tr>\n",
       "    <tr>\n",
       "      <th>Tom</th>\n",
       "      <td>74</td>\n",
       "      <td>60</td>\n",
       "      <td>58</td>\n",
       "    </tr>\n",
       "  </tbody>\n",
       "</table>\n",
       "</div>"
      ],
      "text/plain": [
       "     Statistics Python Finance\n",
       "Jack         55     68      70\n",
       "Lily         52     63      68\n",
       "Tom          74     60      58"
      ]
     },
     "execution_count": 47,
     "metadata": {},
     "output_type": "execute_result"
    }
   ],
   "source": [
    "import pandas as pd\n",
    "\n",
    "df = pd.DataFrame(\n",
    "    [[\"55\", \"68\", \"70\"], [\"52\", \"63\", \"68\"], [\"74\", \"60\", \"58\"]],\n",
    "    columns=[\"Statistics\", \"Python\", \"Finance\"],\n",
    "    index=[\"Jack\", \"Lily\", \"Tom\"],\n",
    ")\n",
    "df"
   ]
  },
  {
   "cell_type": "markdown",
   "id": "cd465061-9217-49b1-9124-67b0ffee9576",
   "metadata": {},
   "source": [
    "- Check the data types of each column by the method `dtypes`."
   ]
  },
  {
   "cell_type": "code",
   "execution_count": 48,
   "id": "98bf169d",
   "metadata": {},
   "outputs": [
    {
     "name": "stdout",
     "output_type": "stream",
     "text": [
      "Statistics    object\n",
      "Python        object\n",
      "Finance       object\n",
      "dtype: object\n"
     ]
    }
   ],
   "source": [
    "print(df.dtypes)"
   ]
  },
  {
   "cell_type": "markdown",
   "id": "ad4a13d7-938a-4c92-9167-15cae0129e29",
   "metadata": {},
   "source": [
    "We use ``astype`` cast the data type of each folumn to type float."
   ]
  },
  {
   "cell_type": "code",
   "execution_count": 49,
   "id": "c1b8ca9a",
   "metadata": {},
   "outputs": [
    {
     "data": {
      "text/html": [
       "<div>\n",
       "<style scoped>\n",
       "    .dataframe tbody tr th:only-of-type {\n",
       "        vertical-align: middle;\n",
       "    }\n",
       "\n",
       "    .dataframe tbody tr th {\n",
       "        vertical-align: top;\n",
       "    }\n",
       "\n",
       "    .dataframe thead th {\n",
       "        text-align: right;\n",
       "    }\n",
       "</style>\n",
       "<table border=\"1\" class=\"dataframe\">\n",
       "  <thead>\n",
       "    <tr style=\"text-align: right;\">\n",
       "      <th></th>\n",
       "      <th>Statistics</th>\n",
       "      <th>Python</th>\n",
       "      <th>Finance</th>\n",
       "    </tr>\n",
       "  </thead>\n",
       "  <tbody>\n",
       "    <tr>\n",
       "      <th>Jack</th>\n",
       "      <td>55.0</td>\n",
       "      <td>68.0</td>\n",
       "      <td>70.0</td>\n",
       "    </tr>\n",
       "    <tr>\n",
       "      <th>Lily</th>\n",
       "      <td>52.0</td>\n",
       "      <td>63.0</td>\n",
       "      <td>68.0</td>\n",
       "    </tr>\n",
       "    <tr>\n",
       "      <th>Tom</th>\n",
       "      <td>74.0</td>\n",
       "      <td>60.0</td>\n",
       "      <td>58.0</td>\n",
       "    </tr>\n",
       "  </tbody>\n",
       "</table>\n",
       "</div>"
      ],
      "text/plain": [
       "      Statistics  Python  Finance\n",
       "Jack        55.0    68.0     70.0\n",
       "Lily        52.0    63.0     68.0\n",
       "Tom         74.0    60.0     58.0"
      ]
     },
     "execution_count": 49,
     "metadata": {},
     "output_type": "execute_result"
    }
   ],
   "source": [
    "df[[\"Statistics\", \"Python\", \"Finance\"]] = df[[\"Statistics\", \"Python\", \"Finance\"]].astype(float)\n",
    "df"
   ]
  },
  {
   "cell_type": "code",
   "execution_count": 50,
   "id": "84521c8d",
   "metadata": {},
   "outputs": [
    {
     "name": "stdout",
     "output_type": "stream",
     "text": [
      "Statistics    float64\n",
      "Python        float64\n",
      "Finance       float64\n",
      "dtype: object\n"
     ]
    }
   ],
   "source": [
    "print(df.dtypes)"
   ]
  },
  {
   "cell_type": "markdown",
   "id": "34fb0427-034b-4d5b-aa1d-2ae75dfb7920",
   "metadata": {},
   "source": [
    "We can also change the data type to string or integer by modifying the argument of `astype` to `str` or `int`."
   ]
  },
  {
   "cell_type": "markdown",
   "id": "14db068e-4abf-4b1d-b9f4-90ff6c4ecbf9",
   "metadata": {
    "slideshow": {
     "slide_type": "slide"
    }
   },
   "source": [
    "### Remove duplicates ``drop_duplicates``\n",
    "<hr>\n",
    "\n",
    "When dealing with large datasets, duplicate data is a common issue. The `drop_duplicates` method can be used to remove redundant entries. For example:"
   ]
  },
  {
   "cell_type": "code",
   "execution_count": 51,
   "id": "233c076f",
   "metadata": {
    "slideshow": {
     "slide_type": "subslide"
    }
   },
   "outputs": [
    {
     "data": {
      "text/html": [
       "<div>\n",
       "<style scoped>\n",
       "    .dataframe tbody tr th:only-of-type {\n",
       "        vertical-align: middle;\n",
       "    }\n",
       "\n",
       "    .dataframe tbody tr th {\n",
       "        vertical-align: top;\n",
       "    }\n",
       "\n",
       "    .dataframe thead th {\n",
       "        text-align: right;\n",
       "    }\n",
       "</style>\n",
       "<table border=\"1\" class=\"dataframe\">\n",
       "  <thead>\n",
       "    <tr style=\"text-align: right;\">\n",
       "      <th></th>\n",
       "      <th>Name</th>\n",
       "      <th>Statistics</th>\n",
       "      <th>Accounting</th>\n",
       "      <th>Marketing</th>\n",
       "    </tr>\n",
       "  </thead>\n",
       "  <tbody>\n",
       "    <tr>\n",
       "      <th>0</th>\n",
       "      <td>Jim</td>\n",
       "      <td>85</td>\n",
       "      <td>82</td>\n",
       "      <td>84</td>\n",
       "    </tr>\n",
       "    <tr>\n",
       "      <th>1</th>\n",
       "      <td>Jim</td>\n",
       "      <td>85</td>\n",
       "      <td>82</td>\n",
       "      <td>84</td>\n",
       "    </tr>\n",
       "    <tr>\n",
       "      <th>2</th>\n",
       "      <td>Lily</td>\n",
       "      <td>68</td>\n",
       "      <td>63</td>\n",
       "      <td>90</td>\n",
       "    </tr>\n",
       "    <tr>\n",
       "      <th>3</th>\n",
       "      <td>Jack</td>\n",
       "      <td>90</td>\n",
       "      <td>88</td>\n",
       "      <td>78</td>\n",
       "    </tr>\n",
       "  </tbody>\n",
       "</table>\n",
       "</div>"
      ],
      "text/plain": [
       "   Name Statistics Accounting Marketing\n",
       "0   Jim         85         82        84\n",
       "1   Jim         85         82        84\n",
       "2  Lily         68         63        90\n",
       "3  Jack         90         88        78"
      ]
     },
     "execution_count": 51,
     "metadata": {},
     "output_type": "execute_result"
    }
   ],
   "source": [
    "import numpy as np\n",
    "import pandas as pd\n",
    "\n",
    "data = np.array([[\"Jim\", 85, 82, 84], [\"Jim\", 85, 82, 84], [\"Lily\", 68, 63, 90], [\"Jack\", 90, 88, 78]])\n",
    "df = pd.DataFrame(data, columns=[\"Name\", \"Statistics\", \"Accounting\", \"Marketing\"])\n",
    "df"
   ]
  },
  {
   "cell_type": "markdown",
   "id": "d5689b35-7ed9-43b4-8aa5-de20a8d35da6",
   "metadata": {
    "slideshow": {
     "slide_type": "subslide"
    }
   },
   "source": [
    "We use ``drop_duplicates`` to drop the identical rows."
   ]
  },
  {
   "cell_type": "code",
   "execution_count": 52,
   "id": "8d9cb2d0",
   "metadata": {
    "slideshow": {
     "slide_type": "fragment"
    }
   },
   "outputs": [
    {
     "data": {
      "text/html": [
       "<div>\n",
       "<style scoped>\n",
       "    .dataframe tbody tr th:only-of-type {\n",
       "        vertical-align: middle;\n",
       "    }\n",
       "\n",
       "    .dataframe tbody tr th {\n",
       "        vertical-align: top;\n",
       "    }\n",
       "\n",
       "    .dataframe thead th {\n",
       "        text-align: right;\n",
       "    }\n",
       "</style>\n",
       "<table border=\"1\" class=\"dataframe\">\n",
       "  <thead>\n",
       "    <tr style=\"text-align: right;\">\n",
       "      <th></th>\n",
       "      <th>Name</th>\n",
       "      <th>Statistics</th>\n",
       "      <th>Accounting</th>\n",
       "      <th>Marketing</th>\n",
       "    </tr>\n",
       "  </thead>\n",
       "  <tbody>\n",
       "    <tr>\n",
       "      <th>0</th>\n",
       "      <td>Jim</td>\n",
       "      <td>85</td>\n",
       "      <td>82</td>\n",
       "      <td>84</td>\n",
       "    </tr>\n",
       "    <tr>\n",
       "      <th>2</th>\n",
       "      <td>Lily</td>\n",
       "      <td>68</td>\n",
       "      <td>63</td>\n",
       "      <td>90</td>\n",
       "    </tr>\n",
       "    <tr>\n",
       "      <th>3</th>\n",
       "      <td>Jack</td>\n",
       "      <td>90</td>\n",
       "      <td>88</td>\n",
       "      <td>78</td>\n",
       "    </tr>\n",
       "  </tbody>\n",
       "</table>\n",
       "</div>"
      ],
      "text/plain": [
       "   Name Statistics Accounting Marketing\n",
       "0   Jim         85         82        84\n",
       "2  Lily         68         63        90\n",
       "3  Jack         90         88        78"
      ]
     },
     "execution_count": 52,
     "metadata": {},
     "output_type": "execute_result"
    }
   ],
   "source": [
    "df.drop_duplicates()"
   ]
  },
  {
   "cell_type": "markdown",
   "id": "b8441892-693d-45b8-b852-9e0dbc99ed63",
   "metadata": {},
   "source": [
    "The syntax of drop_duplicates is as follows:\n",
    "\n",
    "Syntax of the drop_duplicates function:\n",
    "\n",
    "<table>\n",
    "     <tr style=\"border-top:solid; border-bottom:solid\">\n",
    "            <th colspan=2 style=\"text-align:center\">DataFrame.drop_duplicates(keep='first', inplace=False, ignore_index=False)</th>\n",
    "    </tr>\n",
    "    <tr>\n",
    "        <td rowspan=3 style=\"text-align:left\">keep</td>\n",
    "        <td style=\"text-align:left\">'first': Keep first occurrence, remove subsequent duplicates (default)</td>\n",
    "    </tr>\n",
    "    <tr>\n",
    "        <td style=\"text-align:left\">'last': Keep last occurrence, remove previous duplicates</td>\n",
    "    </tr>\n",
    "    <tr>\n",
    "        <td style=\"text-align:left\">False: Remove all duplicates</td>\n",
    "    </tr>\n",
    "    <tr>\n",
    "        <td style=\"text-align:left\">inplace</td>\n",
    "        <td style=\"text-align:left\">If True, modifies the DataFrame in place without returning a new object</td>\n",
    "    </tr>\n",
    "    <tr style=\"border-bottom:solid\">\n",
    "        <td style=\"text-align:left\">ignore_index</td>\n",
    "        <td style=\"text-align:left\">If True, the resulting DataFrame's index will be relabeled (default False)</td>\n",
    "    </tr>\n",
    "</table>\n",
    "<br>"
   ]
  },
  {
   "cell_type": "markdown",
   "id": "9bcbf19c-19ba-4207-9d3c-4fda6aab63d4",
   "metadata": {
    "slideshow": {
     "slide_type": "slide"
    }
   },
   "source": [
    "### Remove missing values``dropna``\n",
    "<hr>"
   ]
  },
  {
   "cell_type": "markdown",
   "id": "39c30ada-643e-4e1b-a459-5a0de3f5db7c",
   "metadata": {},
   "source": [
    "``dropna`` can drop the missing values in a Dataframe. Its syntax is as follows:\n",
    "\n",
    "\n",
    "<table>\n",
    "     <tr style=\"border-top:solid; border-bottom:solid\">\n",
    "            <th colspan=2 style=\"text-align:center\">DataFrame.dropna(axis=0, how='any', thresh=None, inplace=False, ignore_index=False)</th>\n",
    "    </tr>\n",
    "    <tr>\n",
    "        <td style=\"text-align:left\">axis</td>\n",
    "        <td style=\"text-align:left\">axis=0 drops rows containing missing values, axis=1 drops columns containing missing values</td>\n",
    "    </tr>\n",
    "    <tr>\n",
    "        <td rowspan=2 style=\"text-align:left\">how</td>\n",
    "        <td style=\"text-align:left\">Default how='any': drops row/column if any values are missing</td>\n",
    "    </tr>\n",
    "    <tr>  \n",
    "        <td style=\"text-align:left\">how='all': drops row/column only if all values are missing</td>\n",
    "    </tr>\n",
    "    <tr>\n",
    "        <td style=\"text-align:left\">thresh</td>\n",
    "        <td style=\"text-align:left\">Minimum number of non-missing values required to keep the row/column</td>\n",
    "    </tr>\n",
    "    <tr>\n",
    "        <td style=\"text-align:left\">inplace</td>\n",
    "        <td style=\"text-align:left\">If True, modifies the DataFrame in place without returning a new object</td>\n",
    "    </tr>\n",
    "    <tr style=\"border-bottom:solid\">\n",
    "        <td style=\"text-align:left\">ignore_index</td>\n",
    "        <td style=\"text-align:left\">If True, the resulting DataFrame's index will be reset (default False)</td>\n",
    "    </tr>\n",
    "</table>\n",
    "<br>"
   ]
  },
  {
   "cell_type": "code",
   "execution_count": 53,
   "id": "e8b6bd7e",
   "metadata": {
    "slideshow": {
     "slide_type": "subslide"
    }
   },
   "outputs": [
    {
     "data": {
      "text/html": [
       "<div>\n",
       "<style scoped>\n",
       "    .dataframe tbody tr th:only-of-type {\n",
       "        vertical-align: middle;\n",
       "    }\n",
       "\n",
       "    .dataframe tbody tr th {\n",
       "        vertical-align: top;\n",
       "    }\n",
       "\n",
       "    .dataframe thead th {\n",
       "        text-align: right;\n",
       "    }\n",
       "</style>\n",
       "<table border=\"1\" class=\"dataframe\">\n",
       "  <thead>\n",
       "    <tr style=\"text-align: right;\">\n",
       "      <th></th>\n",
       "      <th>Statistics</th>\n",
       "      <th>Python</th>\n",
       "      <th>Finance</th>\n",
       "    </tr>\n",
       "  </thead>\n",
       "  <tbody>\n",
       "    <tr>\n",
       "      <th>Jack</th>\n",
       "      <td>55.0</td>\n",
       "      <td>68.0</td>\n",
       "      <td>70.0</td>\n",
       "    </tr>\n",
       "    <tr>\n",
       "      <th>Lily</th>\n",
       "      <td>52.0</td>\n",
       "      <td>NaN</td>\n",
       "      <td>68.0</td>\n",
       "    </tr>\n",
       "    <tr>\n",
       "      <th>Tom</th>\n",
       "      <td>74.0</td>\n",
       "      <td>60.0</td>\n",
       "      <td>NaN</td>\n",
       "    </tr>\n",
       "  </tbody>\n",
       "</table>\n",
       "</div>"
      ],
      "text/plain": [
       "      Statistics  Python  Finance\n",
       "Jack        55.0    68.0     70.0\n",
       "Lily        52.0     NaN     68.0\n",
       "Tom         74.0    60.0      NaN"
      ]
     },
     "execution_count": 53,
     "metadata": {},
     "output_type": "execute_result"
    }
   ],
   "source": [
    "import numpy as np\n",
    "\n",
    "df = pd.DataFrame(\n",
    "    np.array([[55, 68, 70], [52,  np.nan, 68], [74, 60, np.nan]]),\n",
    "    columns=[\"Statistics\", \"Python\", \"Finance\"],\n",
    "    index=[\"Jack\", \"Lily\", \"Tom\"],\n",
    ")\n",
    "df"
   ]
  },
  {
   "cell_type": "code",
   "execution_count": 54,
   "id": "310c7c25",
   "metadata": {
    "slideshow": {
     "slide_type": "subslide"
    }
   },
   "outputs": [
    {
     "data": {
      "text/html": [
       "<div>\n",
       "<style scoped>\n",
       "    .dataframe tbody tr th:only-of-type {\n",
       "        vertical-align: middle;\n",
       "    }\n",
       "\n",
       "    .dataframe tbody tr th {\n",
       "        vertical-align: top;\n",
       "    }\n",
       "\n",
       "    .dataframe thead th {\n",
       "        text-align: right;\n",
       "    }\n",
       "</style>\n",
       "<table border=\"1\" class=\"dataframe\">\n",
       "  <thead>\n",
       "    <tr style=\"text-align: right;\">\n",
       "      <th></th>\n",
       "      <th>Statistics</th>\n",
       "      <th>Python</th>\n",
       "      <th>Finance</th>\n",
       "    </tr>\n",
       "  </thead>\n",
       "  <tbody>\n",
       "    <tr>\n",
       "      <th>Jack</th>\n",
       "      <td>55.0</td>\n",
       "      <td>68.0</td>\n",
       "      <td>70.0</td>\n",
       "    </tr>\n",
       "  </tbody>\n",
       "</table>\n",
       "</div>"
      ],
      "text/plain": [
       "      Statistics  Python  Finance\n",
       "Jack        55.0    68.0     70.0"
      ]
     },
     "execution_count": 54,
     "metadata": {},
     "output_type": "execute_result"
    }
   ],
   "source": [
    "df.dropna()  # drop all the rows with NaN"
   ]
  },
  {
   "cell_type": "code",
   "execution_count": 55,
   "id": "66327c09",
   "metadata": {
    "slideshow": {
     "slide_type": "subslide"
    }
   },
   "outputs": [
    {
     "data": {
      "text/html": [
       "<div>\n",
       "<style scoped>\n",
       "    .dataframe tbody tr th:only-of-type {\n",
       "        vertical-align: middle;\n",
       "    }\n",
       "\n",
       "    .dataframe tbody tr th {\n",
       "        vertical-align: top;\n",
       "    }\n",
       "\n",
       "    .dataframe thead th {\n",
       "        text-align: right;\n",
       "    }\n",
       "</style>\n",
       "<table border=\"1\" class=\"dataframe\">\n",
       "  <thead>\n",
       "    <tr style=\"text-align: right;\">\n",
       "      <th></th>\n",
       "      <th>Statistics</th>\n",
       "    </tr>\n",
       "  </thead>\n",
       "  <tbody>\n",
       "    <tr>\n",
       "      <th>Jack</th>\n",
       "      <td>55.0</td>\n",
       "    </tr>\n",
       "    <tr>\n",
       "      <th>Lily</th>\n",
       "      <td>52.0</td>\n",
       "    </tr>\n",
       "    <tr>\n",
       "      <th>Tom</th>\n",
       "      <td>74.0</td>\n",
       "    </tr>\n",
       "  </tbody>\n",
       "</table>\n",
       "</div>"
      ],
      "text/plain": [
       "      Statistics\n",
       "Jack        55.0\n",
       "Lily        52.0\n",
       "Tom         74.0"
      ]
     },
     "execution_count": 55,
     "metadata": {},
     "output_type": "execute_result"
    }
   ],
   "source": [
    "df.dropna(axis=1)  # drop all the columns with NaN"
   ]
  },
  {
   "cell_type": "code",
   "execution_count": 56,
   "id": "d5bf39e7",
   "metadata": {
    "slideshow": {
     "slide_type": "fragment"
    }
   },
   "outputs": [
    {
     "data": {
      "text/html": [
       "<div>\n",
       "<style scoped>\n",
       "    .dataframe tbody tr th:only-of-type {\n",
       "        vertical-align: middle;\n",
       "    }\n",
       "\n",
       "    .dataframe tbody tr th {\n",
       "        vertical-align: top;\n",
       "    }\n",
       "\n",
       "    .dataframe thead th {\n",
       "        text-align: right;\n",
       "    }\n",
       "</style>\n",
       "<table border=\"1\" class=\"dataframe\">\n",
       "  <thead>\n",
       "    <tr style=\"text-align: right;\">\n",
       "      <th></th>\n",
       "      <th>Statistics</th>\n",
       "      <th>Python</th>\n",
       "      <th>Finance</th>\n",
       "    </tr>\n",
       "  </thead>\n",
       "  <tbody>\n",
       "    <tr>\n",
       "      <th>Jack</th>\n",
       "      <td>55.0</td>\n",
       "      <td>68.0</td>\n",
       "      <td>70.0</td>\n",
       "    </tr>\n",
       "    <tr>\n",
       "      <th>Lily</th>\n",
       "      <td>52.0</td>\n",
       "      <td>NaN</td>\n",
       "      <td>68.0</td>\n",
       "    </tr>\n",
       "    <tr>\n",
       "      <th>Tom</th>\n",
       "      <td>74.0</td>\n",
       "      <td>60.0</td>\n",
       "      <td>NaN</td>\n",
       "    </tr>\n",
       "  </tbody>\n",
       "</table>\n",
       "</div>"
      ],
      "text/plain": [
       "      Statistics  Python  Finance\n",
       "Jack        55.0    68.0     70.0\n",
       "Lily        52.0     NaN     68.0\n",
       "Tom         74.0    60.0      NaN"
      ]
     },
     "execution_count": 56,
     "metadata": {},
     "output_type": "execute_result"
    }
   ],
   "source": [
    "df.dropna(how=\"all\")"
   ]
  },
  {
   "cell_type": "markdown",
   "id": "dcdab42e-a321-466d-b145-532828f40632",
   "metadata": {
    "slideshow": {
     "slide_type": "slide"
    }
   },
   "source": [
    "### Rename ``rename``\n",
    "<hr>\n",
    "\n",
    "When working with data, we may sometimes need to rename the row or column labels. This is where the rename function comes into play. The rename function takes a dictionary as its argument, where:\n",
    "\n",
    "- The dictionary keys represent the current names (to be replaced).\n",
    "\n",
    "- The dictionary values represent the new names."
   ]
  },
  {
   "cell_type": "code",
   "execution_count": 57,
   "id": "da114b3c",
   "metadata": {
    "slideshow": {
     "slide_type": "subslide"
    }
   },
   "outputs": [
    {
     "data": {
      "text/html": [
       "<div>\n",
       "<style scoped>\n",
       "    .dataframe tbody tr th:only-of-type {\n",
       "        vertical-align: middle;\n",
       "    }\n",
       "\n",
       "    .dataframe tbody tr th {\n",
       "        vertical-align: top;\n",
       "    }\n",
       "\n",
       "    .dataframe thead th {\n",
       "        text-align: right;\n",
       "    }\n",
       "</style>\n",
       "<table border=\"1\" class=\"dataframe\">\n",
       "  <thead>\n",
       "    <tr style=\"text-align: right;\">\n",
       "      <th></th>\n",
       "      <th>Name</th>\n",
       "      <th>Statistics</th>\n",
       "      <th>Accounting</th>\n",
       "      <th>Marketing</th>\n",
       "    </tr>\n",
       "  </thead>\n",
       "  <tbody>\n",
       "    <tr>\n",
       "      <th>0</th>\n",
       "      <td>Jim</td>\n",
       "      <td>85</td>\n",
       "      <td>82</td>\n",
       "      <td>84</td>\n",
       "    </tr>\n",
       "    <tr>\n",
       "      <th>1</th>\n",
       "      <td>Lily</td>\n",
       "      <td>68</td>\n",
       "      <td>63</td>\n",
       "      <td>90</td>\n",
       "    </tr>\n",
       "    <tr>\n",
       "      <th>2</th>\n",
       "      <td>Jack</td>\n",
       "      <td>90</td>\n",
       "      <td>88</td>\n",
       "      <td>78</td>\n",
       "    </tr>\n",
       "  </tbody>\n",
       "</table>\n",
       "</div>"
      ],
      "text/plain": [
       "   Name Statistics Accounting Marketing\n",
       "0   Jim         85         82        84\n",
       "1  Lily         68         63        90\n",
       "2  Jack         90         88        78"
      ]
     },
     "execution_count": 57,
     "metadata": {},
     "output_type": "execute_result"
    }
   ],
   "source": [
    "import numpy as np\n",
    "import pandas as pd\n",
    "\n",
    "data = np.array([[\"Jim\", 85, 82, 84], [\"Lily\", 68, 63, 90], [\"Jack\", 90, 88, 78]])\n",
    "df = pd.DataFrame(data, columns=[\"Name\", \"Statistics\", \"Accounting\", \"Marketing\"])\n",
    "df"
   ]
  },
  {
   "cell_type": "code",
   "execution_count": 58,
   "id": "6fc6d12c",
   "metadata": {
    "slideshow": {
     "slide_type": "subslide"
    }
   },
   "outputs": [
    {
     "data": {
      "text/html": [
       "<div>\n",
       "<style scoped>\n",
       "    .dataframe tbody tr th:only-of-type {\n",
       "        vertical-align: middle;\n",
       "    }\n",
       "\n",
       "    .dataframe tbody tr th {\n",
       "        vertical-align: top;\n",
       "    }\n",
       "\n",
       "    .dataframe thead th {\n",
       "        text-align: right;\n",
       "    }\n",
       "</style>\n",
       "<table border=\"1\" class=\"dataframe\">\n",
       "  <thead>\n",
       "    <tr style=\"text-align: right;\">\n",
       "      <th></th>\n",
       "      <th>Name</th>\n",
       "      <th>Python</th>\n",
       "      <th>Accounting</th>\n",
       "      <th>Marketing</th>\n",
       "    </tr>\n",
       "  </thead>\n",
       "  <tbody>\n",
       "    <tr>\n",
       "      <th>0</th>\n",
       "      <td>Jim</td>\n",
       "      <td>85</td>\n",
       "      <td>82</td>\n",
       "      <td>84</td>\n",
       "    </tr>\n",
       "    <tr>\n",
       "      <th>1</th>\n",
       "      <td>Lily</td>\n",
       "      <td>68</td>\n",
       "      <td>63</td>\n",
       "      <td>90</td>\n",
       "    </tr>\n",
       "    <tr>\n",
       "      <th>2</th>\n",
       "      <td>Jack</td>\n",
       "      <td>90</td>\n",
       "      <td>88</td>\n",
       "      <td>78</td>\n",
       "    </tr>\n",
       "  </tbody>\n",
       "</table>\n",
       "</div>"
      ],
      "text/plain": [
       "   Name Python Accounting Marketing\n",
       "0   Jim     85         82        84\n",
       "1  Lily     68         63        90\n",
       "2  Jack     90         88        78"
      ]
     },
     "execution_count": 58,
     "metadata": {},
     "output_type": "execute_result"
    }
   ],
   "source": [
    "df.rename(columns={\"Statistics\": \"Python\", \"Accouting\": \"Finance\"})  # rename two column labels"
   ]
  },
  {
   "cell_type": "markdown",
   "id": "4d77fc3f-dc42-40dc-8014-ddde47f14b7c",
   "metadata": {},
   "source": [
    "- Use the argument ``inplace=True`` if wanting to change the original data."
   ]
  },
  {
   "cell_type": "markdown",
   "id": "0cc68524",
   "metadata": {
    "slideshow": {
     "slide_type": "slide"
    }
   },
   "source": [
    "## Add, delete and merge data\n",
    "<hr>"
   ]
  },
  {
   "cell_type": "markdown",
   "id": "1c94b80b",
   "metadata": {
    "slideshow": {
     "slide_type": "fragment"
    }
   },
   "source": [
    "### Add data\n",
    "<hr>\n",
    "\n",
    "To add a new column at the end of the original data, the syntax is similar to revising the data, using `[ ]` and `.loc[ ]` for adding columns or rows:"
   ]
  },
  {
   "cell_type": "code",
   "execution_count": 59,
   "id": "9102b318",
   "metadata": {
    "slideshow": {
     "slide_type": "fragment"
    }
   },
   "outputs": [
    {
     "data": {
      "text/html": [
       "<div>\n",
       "<style scoped>\n",
       "    .dataframe tbody tr th:only-of-type {\n",
       "        vertical-align: middle;\n",
       "    }\n",
       "\n",
       "    .dataframe tbody tr th {\n",
       "        vertical-align: top;\n",
       "    }\n",
       "\n",
       "    .dataframe thead th {\n",
       "        text-align: right;\n",
       "    }\n",
       "</style>\n",
       "<table border=\"1\" class=\"dataframe\">\n",
       "  <thead>\n",
       "    <tr style=\"text-align: right;\">\n",
       "      <th></th>\n",
       "      <th>Name</th>\n",
       "      <th>Statistics</th>\n",
       "      <th>Accounting</th>\n",
       "      <th>Marketing</th>\n",
       "      <th>Python Programming</th>\n",
       "    </tr>\n",
       "  </thead>\n",
       "  <tbody>\n",
       "    <tr>\n",
       "      <th>0</th>\n",
       "      <td>Jim</td>\n",
       "      <td>85</td>\n",
       "      <td>82</td>\n",
       "      <td>84</td>\n",
       "      <td>60</td>\n",
       "    </tr>\n",
       "    <tr>\n",
       "      <th>1</th>\n",
       "      <td>Lily</td>\n",
       "      <td>68</td>\n",
       "      <td>63</td>\n",
       "      <td>90</td>\n",
       "      <td>60</td>\n",
       "    </tr>\n",
       "    <tr>\n",
       "      <th>2</th>\n",
       "      <td>Jack</td>\n",
       "      <td>90</td>\n",
       "      <td>88</td>\n",
       "      <td>78</td>\n",
       "      <td>60</td>\n",
       "    </tr>\n",
       "  </tbody>\n",
       "</table>\n",
       "</div>"
      ],
      "text/plain": [
       "   Name Statistics Accounting Marketing  Python Programming\n",
       "0   Jim         85         82        84                  60\n",
       "1  Lily         68         63        90                  60\n",
       "2  Jack         90         88        78                  60"
      ]
     },
     "execution_count": 59,
     "metadata": {},
     "output_type": "execute_result"
    }
   ],
   "source": [
    "df[\"Python Programming\"] = 60 # add one column of data in which all the values equal a single value\n",
    "df"
   ]
  },
  {
   "cell_type": "code",
   "execution_count": 60,
   "id": "7f3ee7a2-4392-4493-ac94-80f091f7ddf0",
   "metadata": {},
   "outputs": [
    {
     "data": {
      "text/html": [
       "<div>\n",
       "<style scoped>\n",
       "    .dataframe tbody tr th:only-of-type {\n",
       "        vertical-align: middle;\n",
       "    }\n",
       "\n",
       "    .dataframe tbody tr th {\n",
       "        vertical-align: top;\n",
       "    }\n",
       "\n",
       "    .dataframe thead th {\n",
       "        text-align: right;\n",
       "    }\n",
       "</style>\n",
       "<table border=\"1\" class=\"dataframe\">\n",
       "  <thead>\n",
       "    <tr style=\"text-align: right;\">\n",
       "      <th></th>\n",
       "      <th>Name</th>\n",
       "      <th>Statistics</th>\n",
       "      <th>Accounting</th>\n",
       "      <th>Marketing</th>\n",
       "      <th>Python Programming</th>\n",
       "      <th>Financing</th>\n",
       "    </tr>\n",
       "  </thead>\n",
       "  <tbody>\n",
       "    <tr>\n",
       "      <th>0</th>\n",
       "      <td>Jim</td>\n",
       "      <td>85</td>\n",
       "      <td>82</td>\n",
       "      <td>84</td>\n",
       "      <td>60</td>\n",
       "      <td>60</td>\n",
       "    </tr>\n",
       "    <tr>\n",
       "      <th>1</th>\n",
       "      <td>Lily</td>\n",
       "      <td>68</td>\n",
       "      <td>63</td>\n",
       "      <td>90</td>\n",
       "      <td>60</td>\n",
       "      <td>50</td>\n",
       "    </tr>\n",
       "    <tr>\n",
       "      <th>2</th>\n",
       "      <td>Jack</td>\n",
       "      <td>90</td>\n",
       "      <td>88</td>\n",
       "      <td>78</td>\n",
       "      <td>60</td>\n",
       "      <td>70</td>\n",
       "    </tr>\n",
       "  </tbody>\n",
       "</table>\n",
       "</div>"
      ],
      "text/plain": [
       "   Name Statistics Accounting Marketing  Python Programming  Financing\n",
       "0   Jim         85         82        84                  60         60\n",
       "1  Lily         68         63        90                  60         50\n",
       "2  Jack         90         88        78                  60         70"
      ]
     },
     "execution_count": 60,
     "metadata": {},
     "output_type": "execute_result"
    }
   ],
   "source": [
    "df[\"Financing\"] = [60, 50, 70] # add one column of data in which the values equal to a list\n",
    "df"
   ]
  },
  {
   "cell_type": "markdown",
   "id": "dc0daa07",
   "metadata": {
    "slideshow": {
     "slide_type": "subslide"
    }
   },
   "source": [
    "To add a new row at the end of the original data, using `.loc[ ]`.\n",
    "- not `.iloc[ ]`, which can't enlarge the DataFrame."
   ]
  },
  {
   "cell_type": "code",
   "execution_count": 61,
   "id": "d3210445",
   "metadata": {
    "slideshow": {
     "slide_type": "fragment"
    }
   },
   "outputs": [
    {
     "data": {
      "text/html": [
       "<div>\n",
       "<style scoped>\n",
       "    .dataframe tbody tr th:only-of-type {\n",
       "        vertical-align: middle;\n",
       "    }\n",
       "\n",
       "    .dataframe tbody tr th {\n",
       "        vertical-align: top;\n",
       "    }\n",
       "\n",
       "    .dataframe thead th {\n",
       "        text-align: right;\n",
       "    }\n",
       "</style>\n",
       "<table border=\"1\" class=\"dataframe\">\n",
       "  <thead>\n",
       "    <tr style=\"text-align: right;\">\n",
       "      <th></th>\n",
       "      <th>Name</th>\n",
       "      <th>Statistics</th>\n",
       "      <th>Accounting</th>\n",
       "      <th>Marketing</th>\n",
       "      <th>Python Programming</th>\n",
       "      <th>Financing</th>\n",
       "    </tr>\n",
       "  </thead>\n",
       "  <tbody>\n",
       "    <tr>\n",
       "      <th>0</th>\n",
       "      <td>Jim</td>\n",
       "      <td>85</td>\n",
       "      <td>82</td>\n",
       "      <td>84</td>\n",
       "      <td>60.0</td>\n",
       "      <td>60.0</td>\n",
       "    </tr>\n",
       "    <tr>\n",
       "      <th>1</th>\n",
       "      <td>Lily</td>\n",
       "      <td>68</td>\n",
       "      <td>63</td>\n",
       "      <td>90</td>\n",
       "      <td>60.0</td>\n",
       "      <td>50.0</td>\n",
       "    </tr>\n",
       "    <tr>\n",
       "      <th>2</th>\n",
       "      <td>Jack</td>\n",
       "      <td>90</td>\n",
       "      <td>88</td>\n",
       "      <td>78</td>\n",
       "      <td>60.0</td>\n",
       "      <td>70.0</td>\n",
       "    </tr>\n",
       "    <tr>\n",
       "      <th>3</th>\n",
       "      <td>David</td>\n",
       "      <td>65</td>\n",
       "      <td>70</td>\n",
       "      <td>69</td>\n",
       "      <td>55.0</td>\n",
       "      <td>83.0</td>\n",
       "    </tr>\n",
       "  </tbody>\n",
       "</table>\n",
       "</div>"
      ],
      "text/plain": [
       "    Name Statistics Accounting Marketing  Python Programming  Financing\n",
       "0    Jim         85         82        84                60.0       60.0\n",
       "1   Lily         68         63        90                60.0       50.0\n",
       "2   Jack         90         88        78                60.0       70.0\n",
       "3  David         65         70        69                55.0       83.0"
      ]
     },
     "execution_count": 61,
     "metadata": {},
     "output_type": "execute_result"
    }
   ],
   "source": [
    "df.loc[3,:] = [\"David\", 65, 70, 69, 55, 83] \n",
    "df"
   ]
  },
  {
   "cell_type": "markdown",
   "id": "938191e0",
   "metadata": {
    "slideshow": {
     "slide_type": "subslide"
    }
   },
   "source": [
    "If inserting a column to specific index, using the method ``insert``."
   ]
  },
  {
   "cell_type": "code",
   "execution_count": 62,
   "id": "5aee3948",
   "metadata": {
    "slideshow": {
     "slide_type": "fragment"
    }
   },
   "outputs": [
    {
     "data": {
      "text/html": [
       "<div>\n",
       "<style scoped>\n",
       "    .dataframe tbody tr th:only-of-type {\n",
       "        vertical-align: middle;\n",
       "    }\n",
       "\n",
       "    .dataframe tbody tr th {\n",
       "        vertical-align: top;\n",
       "    }\n",
       "\n",
       "    .dataframe thead th {\n",
       "        text-align: right;\n",
       "    }\n",
       "</style>\n",
       "<table border=\"1\" class=\"dataframe\">\n",
       "  <thead>\n",
       "    <tr style=\"text-align: right;\">\n",
       "      <th></th>\n",
       "      <th>Name</th>\n",
       "      <th>Economy</th>\n",
       "      <th>Statistics</th>\n",
       "      <th>Accounting</th>\n",
       "      <th>Marketing</th>\n",
       "      <th>Python Programming</th>\n",
       "      <th>Financing</th>\n",
       "    </tr>\n",
       "  </thead>\n",
       "  <tbody>\n",
       "    <tr>\n",
       "      <th>0</th>\n",
       "      <td>Jim</td>\n",
       "      <td>61</td>\n",
       "      <td>85</td>\n",
       "      <td>82</td>\n",
       "      <td>84</td>\n",
       "      <td>60.0</td>\n",
       "      <td>60.0</td>\n",
       "    </tr>\n",
       "    <tr>\n",
       "      <th>1</th>\n",
       "      <td>Lily</td>\n",
       "      <td>72</td>\n",
       "      <td>68</td>\n",
       "      <td>63</td>\n",
       "      <td>90</td>\n",
       "      <td>60.0</td>\n",
       "      <td>50.0</td>\n",
       "    </tr>\n",
       "    <tr>\n",
       "      <th>2</th>\n",
       "      <td>Jack</td>\n",
       "      <td>84</td>\n",
       "      <td>90</td>\n",
       "      <td>88</td>\n",
       "      <td>78</td>\n",
       "      <td>60.0</td>\n",
       "      <td>70.0</td>\n",
       "    </tr>\n",
       "    <tr>\n",
       "      <th>3</th>\n",
       "      <td>David</td>\n",
       "      <td>81</td>\n",
       "      <td>65</td>\n",
       "      <td>70</td>\n",
       "      <td>69</td>\n",
       "      <td>55.0</td>\n",
       "      <td>83.0</td>\n",
       "    </tr>\n",
       "  </tbody>\n",
       "</table>\n",
       "</div>"
      ],
      "text/plain": [
       "    Name  Economy Statistics Accounting Marketing  Python Programming  \\\n",
       "0    Jim       61         85         82        84                60.0   \n",
       "1   Lily       72         68         63        90                60.0   \n",
       "2   Jack       84         90         88        78                60.0   \n",
       "3  David       81         65         70        69                55.0   \n",
       "\n",
       "   Financing  \n",
       "0       60.0  \n",
       "1       50.0  \n",
       "2       70.0  \n",
       "3       83.0  "
      ]
     },
     "execution_count": 62,
     "metadata": {},
     "output_type": "execute_result"
    }
   ],
   "source": [
    "df.insert(1, \"Economy\", [61, 72, 84, 81])  # insert a new column at column index 1\n",
    "df"
   ]
  },
  {
   "cell_type": "markdown",
   "id": "638e4d2f",
   "metadata": {
    "slideshow": {
     "slide_type": "subslide"
    }
   },
   "source": [
    "To insert rows at a specific position, Pandas currently does not have a dedicated method for this operation. The common approach is to use the `concat()` method to combine multiple DataFrames. Additionally, both `concat()` and `merge()` can be used to add multiple columns or rows. For detailed usage, please refer to the \"Merge Data\" section later in this documentation."
   ]
  },
  {
   "cell_type": "markdown",
   "id": "9c26859e",
   "metadata": {
    "slideshow": {
     "slide_type": "slide"
    }
   },
   "source": [
    "### Delete data\n",
    "<hr>"
   ]
  },
  {
   "cell_type": "markdown",
   "id": "2bd5241a",
   "metadata": {
    "slideshow": {
     "slide_type": "fragment"
    }
   },
   "source": [
    "Pandas can use the `drop()` method to remove rows or columns. **To delete a row, specify the row index as the argument along with `inplace=True`**. If the argument`inplace=True` is omitted, the original DataFrame remains unchanged."
   ]
  },
  {
   "cell_type": "code",
   "execution_count": 63,
   "id": "6b50f030",
   "metadata": {
    "slideshow": {
     "slide_type": "fragment"
    }
   },
   "outputs": [
    {
     "data": {
      "text/html": [
       "<div>\n",
       "<style scoped>\n",
       "    .dataframe tbody tr th:only-of-type {\n",
       "        vertical-align: middle;\n",
       "    }\n",
       "\n",
       "    .dataframe tbody tr th {\n",
       "        vertical-align: top;\n",
       "    }\n",
       "\n",
       "    .dataframe thead th {\n",
       "        text-align: right;\n",
       "    }\n",
       "</style>\n",
       "<table border=\"1\" class=\"dataframe\">\n",
       "  <thead>\n",
       "    <tr style=\"text-align: right;\">\n",
       "      <th></th>\n",
       "      <th>Name</th>\n",
       "      <th>Economy</th>\n",
       "      <th>Statistics</th>\n",
       "      <th>Accounting</th>\n",
       "      <th>Marketing</th>\n",
       "      <th>Python Programming</th>\n",
       "      <th>Financing</th>\n",
       "    </tr>\n",
       "  </thead>\n",
       "  <tbody>\n",
       "    <tr>\n",
       "      <th>0</th>\n",
       "      <td>Jim</td>\n",
       "      <td>61</td>\n",
       "      <td>85</td>\n",
       "      <td>82</td>\n",
       "      <td>84</td>\n",
       "      <td>60.0</td>\n",
       "      <td>60.0</td>\n",
       "    </tr>\n",
       "    <tr>\n",
       "      <th>1</th>\n",
       "      <td>Lily</td>\n",
       "      <td>72</td>\n",
       "      <td>68</td>\n",
       "      <td>63</td>\n",
       "      <td>90</td>\n",
       "      <td>60.0</td>\n",
       "      <td>50.0</td>\n",
       "    </tr>\n",
       "    <tr>\n",
       "      <th>2</th>\n",
       "      <td>Jack</td>\n",
       "      <td>84</td>\n",
       "      <td>90</td>\n",
       "      <td>88</td>\n",
       "      <td>78</td>\n",
       "      <td>60.0</td>\n",
       "      <td>70.0</td>\n",
       "    </tr>\n",
       "  </tbody>\n",
       "</table>\n",
       "</div>"
      ],
      "text/plain": [
       "   Name  Economy Statistics Accounting Marketing  Python Programming  \\\n",
       "0   Jim       61         85         82        84                60.0   \n",
       "1  Lily       72         68         63        90                60.0   \n",
       "2  Jack       84         90         88        78                60.0   \n",
       "\n",
       "   Financing  \n",
       "0       60.0  \n",
       "1       50.0  \n",
       "2       70.0  "
      ]
     },
     "execution_count": 63,
     "metadata": {},
     "output_type": "execute_result"
    }
   ],
   "source": [
    "df.drop(3, inplace=True)  # delete the 3rd row\n",
    "df"
   ]
  },
  {
   "cell_type": "markdown",
   "id": "362c6586",
   "metadata": {
    "slideshow": {
     "slide_type": "subslide"
    }
   },
   "source": [
    "- To delete a column, using `drop() ` with an additional argument ``axis = 1``**"
   ]
  },
  {
   "cell_type": "code",
   "execution_count": 64,
   "id": "6b82d580",
   "metadata": {
    "scrolled": true,
    "slideshow": {
     "slide_type": "fragment"
    }
   },
   "outputs": [
    {
     "data": {
      "text/html": [
       "<div>\n",
       "<style scoped>\n",
       "    .dataframe tbody tr th:only-of-type {\n",
       "        vertical-align: middle;\n",
       "    }\n",
       "\n",
       "    .dataframe tbody tr th {\n",
       "        vertical-align: top;\n",
       "    }\n",
       "\n",
       "    .dataframe thead th {\n",
       "        text-align: right;\n",
       "    }\n",
       "</style>\n",
       "<table border=\"1\" class=\"dataframe\">\n",
       "  <thead>\n",
       "    <tr style=\"text-align: right;\">\n",
       "      <th></th>\n",
       "      <th>Name</th>\n",
       "      <th>Economy</th>\n",
       "      <th>Statistics</th>\n",
       "      <th>Accounting</th>\n",
       "      <th>Marketing</th>\n",
       "      <th>Financing</th>\n",
       "    </tr>\n",
       "  </thead>\n",
       "  <tbody>\n",
       "    <tr>\n",
       "      <th>0</th>\n",
       "      <td>Jim</td>\n",
       "      <td>61</td>\n",
       "      <td>85</td>\n",
       "      <td>82</td>\n",
       "      <td>84</td>\n",
       "      <td>60.0</td>\n",
       "    </tr>\n",
       "    <tr>\n",
       "      <th>1</th>\n",
       "      <td>Lily</td>\n",
       "      <td>72</td>\n",
       "      <td>68</td>\n",
       "      <td>63</td>\n",
       "      <td>90</td>\n",
       "      <td>50.0</td>\n",
       "    </tr>\n",
       "    <tr>\n",
       "      <th>2</th>\n",
       "      <td>Jack</td>\n",
       "      <td>84</td>\n",
       "      <td>90</td>\n",
       "      <td>88</td>\n",
       "      <td>78</td>\n",
       "      <td>70.0</td>\n",
       "    </tr>\n",
       "  </tbody>\n",
       "</table>\n",
       "</div>"
      ],
      "text/plain": [
       "   Name  Economy Statistics Accounting Marketing  Financing\n",
       "0   Jim       61         85         82        84       60.0\n",
       "1  Lily       72         68         63        90       50.0\n",
       "2  Jack       84         90         88        78       70.0"
      ]
     },
     "execution_count": 64,
     "metadata": {},
     "output_type": "execute_result"
    }
   ],
   "source": [
    "df.drop(\"Python Programming\", inplace=True, axis=1)\n",
    "df"
   ]
  },
  {
   "cell_type": "markdown",
   "id": "cb33d507-5979-4507-adf0-ee6df8289da6",
   "metadata": {},
   "source": [
    "- To delete multi rows or columns, using `drop()` with the indices or lables in a list."
   ]
  },
  {
   "cell_type": "code",
   "execution_count": 65,
   "id": "ef385cfb",
   "metadata": {
    "scrolled": true,
    "slideshow": {
     "slide_type": "fragment"
    }
   },
   "outputs": [
    {
     "data": {
      "text/html": [
       "<div>\n",
       "<style scoped>\n",
       "    .dataframe tbody tr th:only-of-type {\n",
       "        vertical-align: middle;\n",
       "    }\n",
       "\n",
       "    .dataframe tbody tr th {\n",
       "        vertical-align: top;\n",
       "    }\n",
       "\n",
       "    .dataframe thead th {\n",
       "        text-align: right;\n",
       "    }\n",
       "</style>\n",
       "<table border=\"1\" class=\"dataframe\">\n",
       "  <thead>\n",
       "    <tr style=\"text-align: right;\">\n",
       "      <th></th>\n",
       "      <th>Name</th>\n",
       "      <th>Economy</th>\n",
       "      <th>Statistics</th>\n",
       "      <th>Accounting</th>\n",
       "    </tr>\n",
       "  </thead>\n",
       "  <tbody>\n",
       "    <tr>\n",
       "      <th>0</th>\n",
       "      <td>Jim</td>\n",
       "      <td>61</td>\n",
       "      <td>85</td>\n",
       "      <td>82</td>\n",
       "    </tr>\n",
       "    <tr>\n",
       "      <th>1</th>\n",
       "      <td>Lily</td>\n",
       "      <td>72</td>\n",
       "      <td>68</td>\n",
       "      <td>63</td>\n",
       "    </tr>\n",
       "    <tr>\n",
       "      <th>2</th>\n",
       "      <td>Jack</td>\n",
       "      <td>84</td>\n",
       "      <td>90</td>\n",
       "      <td>88</td>\n",
       "    </tr>\n",
       "  </tbody>\n",
       "</table>\n",
       "</div>"
      ],
      "text/plain": [
       "   Name  Economy Statistics Accounting\n",
       "0   Jim       61         85         82\n",
       "1  Lily       72         68         63\n",
       "2  Jack       84         90         88"
      ]
     },
     "execution_count": 65,
     "metadata": {},
     "output_type": "execute_result"
    }
   ],
   "source": [
    "df.drop([\"Marketing\", \"Financing\"], inplace=True, axis=1)  # delete two columns\n",
    "df"
   ]
  },
  {
   "cell_type": "code",
   "execution_count": 66,
   "id": "4f9b77fa-db22-4a58-afb7-037bc0c879c5",
   "metadata": {},
   "outputs": [
    {
     "data": {
      "text/html": [
       "<div>\n",
       "<style scoped>\n",
       "    .dataframe tbody tr th:only-of-type {\n",
       "        vertical-align: middle;\n",
       "    }\n",
       "\n",
       "    .dataframe tbody tr th {\n",
       "        vertical-align: top;\n",
       "    }\n",
       "\n",
       "    .dataframe thead th {\n",
       "        text-align: right;\n",
       "    }\n",
       "</style>\n",
       "<table border=\"1\" class=\"dataframe\">\n",
       "  <thead>\n",
       "    <tr style=\"text-align: right;\">\n",
       "      <th></th>\n",
       "      <th>Name</th>\n",
       "      <th>Economy</th>\n",
       "      <th>Statistics</th>\n",
       "      <th>Accounting</th>\n",
       "    </tr>\n",
       "  </thead>\n",
       "  <tbody>\n",
       "    <tr>\n",
       "      <th>1</th>\n",
       "      <td>Lily</td>\n",
       "      <td>72</td>\n",
       "      <td>68</td>\n",
       "      <td>63</td>\n",
       "    </tr>\n",
       "  </tbody>\n",
       "</table>\n",
       "</div>"
      ],
      "text/plain": [
       "   Name  Economy Statistics Accounting\n",
       "1  Lily       72         68         63"
      ]
     },
     "execution_count": 66,
     "metadata": {},
     "output_type": "execute_result"
    }
   ],
   "source": [
    "df.drop([0, 2], inplace=True) # delete two rows\n",
    "df"
   ]
  },
  {
   "cell_type": "markdown",
   "id": "4c826af1-03a8-4309-9ad5-54f68693d8dc",
   "metadata": {},
   "source": [
    "- `drop()` method can drop data with conditions. For example:"
   ]
  },
  {
   "cell_type": "code",
   "execution_count": 67,
   "id": "4a11b4be-e946-4d96-b88b-76ac57fbbc3b",
   "metadata": {
    "scrolled": true
   },
   "outputs": [
    {
     "data": {
      "text/html": [
       "<div>\n",
       "<style scoped>\n",
       "    .dataframe tbody tr th:only-of-type {\n",
       "        vertical-align: middle;\n",
       "    }\n",
       "\n",
       "    .dataframe tbody tr th {\n",
       "        vertical-align: top;\n",
       "    }\n",
       "\n",
       "    .dataframe thead th {\n",
       "        text-align: right;\n",
       "    }\n",
       "</style>\n",
       "<table border=\"1\" class=\"dataframe\">\n",
       "  <thead>\n",
       "    <tr style=\"text-align: right;\">\n",
       "      <th></th>\n",
       "      <th>Name</th>\n",
       "      <th>Statistics</th>\n",
       "      <th>Accounting</th>\n",
       "      <th>Marketing</th>\n",
       "    </tr>\n",
       "  </thead>\n",
       "  <tbody>\n",
       "    <tr>\n",
       "      <th>0</th>\n",
       "      <td>Jim</td>\n",
       "      <td>85</td>\n",
       "      <td>82</td>\n",
       "      <td>84</td>\n",
       "    </tr>\n",
       "    <tr>\n",
       "      <th>2</th>\n",
       "      <td>Jack</td>\n",
       "      <td>90</td>\n",
       "      <td>88</td>\n",
       "      <td>78</td>\n",
       "    </tr>\n",
       "  </tbody>\n",
       "</table>\n",
       "</div>"
      ],
      "text/plain": [
       "   Name  Statistics  Accounting  Marketing\n",
       "0   Jim          85          82         84\n",
       "2  Jack          90          88         78"
      ]
     },
     "execution_count": 67,
     "metadata": {},
     "output_type": "execute_result"
    }
   ],
   "source": [
    "df = pd.DataFrame(\n",
    "    {\n",
    "        \"Name\": [\"Jim\", \"Lily\", \"Jack\"],\n",
    "        \"Statistics\": [85, 68, 90],\n",
    "        \"Accounting\": [82, 63, 88],\n",
    "        \"Marketing\": [84, 90, 78],\n",
    "    }\n",
    ")\n",
    "\n",
    "df.drop(df[df[\"Statistics\"]<70].index, inplace=True) # delete the rows in which the statistics score is higher than 70\n",
    "df"
   ]
  },
  {
   "cell_type": "markdown",
   "id": "bde2e127-49e9-461b-87f3-d37f751cece2",
   "metadata": {},
   "source": [
    "- Using `reset_index(drop=True)` to reset the row indices and drop the original indices"
   ]
  },
  {
   "cell_type": "code",
   "execution_count": 68,
   "id": "44e66dce-7184-456d-a10d-30c91835cfd7",
   "metadata": {},
   "outputs": [
    {
     "data": {
      "text/html": [
       "<div>\n",
       "<style scoped>\n",
       "    .dataframe tbody tr th:only-of-type {\n",
       "        vertical-align: middle;\n",
       "    }\n",
       "\n",
       "    .dataframe tbody tr th {\n",
       "        vertical-align: top;\n",
       "    }\n",
       "\n",
       "    .dataframe thead th {\n",
       "        text-align: right;\n",
       "    }\n",
       "</style>\n",
       "<table border=\"1\" class=\"dataframe\">\n",
       "  <thead>\n",
       "    <tr style=\"text-align: right;\">\n",
       "      <th></th>\n",
       "      <th>Name</th>\n",
       "      <th>Statistics</th>\n",
       "      <th>Accounting</th>\n",
       "      <th>Marketing</th>\n",
       "    </tr>\n",
       "  </thead>\n",
       "  <tbody>\n",
       "    <tr>\n",
       "      <th>0</th>\n",
       "      <td>Jim</td>\n",
       "      <td>85</td>\n",
       "      <td>82</td>\n",
       "      <td>84</td>\n",
       "    </tr>\n",
       "    <tr>\n",
       "      <th>1</th>\n",
       "      <td>Jack</td>\n",
       "      <td>90</td>\n",
       "      <td>88</td>\n",
       "      <td>78</td>\n",
       "    </tr>\n",
       "  </tbody>\n",
       "</table>\n",
       "</div>"
      ],
      "text/plain": [
       "   Name  Statistics  Accounting  Marketing\n",
       "0   Jim          85          82         84\n",
       "1  Jack          90          88         78"
      ]
     },
     "execution_count": 68,
     "metadata": {},
     "output_type": "execute_result"
    }
   ],
   "source": [
    "df.reset_index(drop=True)"
   ]
  },
  {
   "cell_type": "markdown",
   "id": "de6e01a6",
   "metadata": {
    "slideshow": {
     "slide_type": "slide"
    }
   },
   "source": [
    "### Merge data\n",
    "<hr>\n",
    "\n",
    "In Pandas, two commonly used method for combining datasets are concat and merge.\n",
    "\n",
    "- Use concat when the two DataFrames have identical column labels.\n",
    "\n",
    "- In other cases, merge is typically preferred."
   ]
  },
  {
   "cell_type": "code",
   "execution_count": 69,
   "id": "0fdbc925",
   "metadata": {
    "slideshow": {
     "slide_type": "fragment"
    }
   },
   "outputs": [
    {
     "data": {
      "text/html": [
       "<div>\n",
       "<style scoped>\n",
       "    .dataframe tbody tr th:only-of-type {\n",
       "        vertical-align: middle;\n",
       "    }\n",
       "\n",
       "    .dataframe tbody tr th {\n",
       "        vertical-align: top;\n",
       "    }\n",
       "\n",
       "    .dataframe thead th {\n",
       "        text-align: right;\n",
       "    }\n",
       "</style>\n",
       "<table border=\"1\" class=\"dataframe\">\n",
       "  <thead>\n",
       "    <tr style=\"text-align: right;\">\n",
       "      <th></th>\n",
       "      <th>Name</th>\n",
       "      <th>Statistics</th>\n",
       "      <th>Accounting</th>\n",
       "      <th>Marketing</th>\n",
       "    </tr>\n",
       "  </thead>\n",
       "  <tbody>\n",
       "    <tr>\n",
       "      <th>0</th>\n",
       "      <td>Jim</td>\n",
       "      <td>85</td>\n",
       "      <td>82</td>\n",
       "      <td>84</td>\n",
       "    </tr>\n",
       "    <tr>\n",
       "      <th>1</th>\n",
       "      <td>Lily</td>\n",
       "      <td>68</td>\n",
       "      <td>63</td>\n",
       "      <td>90</td>\n",
       "    </tr>\n",
       "    <tr>\n",
       "      <th>2</th>\n",
       "      <td>Jack</td>\n",
       "      <td>90</td>\n",
       "      <td>88</td>\n",
       "      <td>78</td>\n",
       "    </tr>\n",
       "  </tbody>\n",
       "</table>\n",
       "</div>"
      ],
      "text/plain": [
       "   Name  Statistics  Accounting  Marketing\n",
       "0   Jim          85          82         84\n",
       "1  Lily          68          63         90\n",
       "2  Jack          90          88         78"
      ]
     },
     "execution_count": 69,
     "metadata": {},
     "output_type": "execute_result"
    }
   ],
   "source": [
    "df1 = pd.DataFrame(\n",
    "    {\n",
    "        \"Name\": [\"Jim\", \"Lily\", \"Jack\"],\n",
    "        \"Statistics\": [85, 68, 90],\n",
    "        \"Accounting\": [82, 63, 88],\n",
    "        \"Marketing\": [84, 90, 78],\n",
    "    }\n",
    ")\n",
    "\n",
    "df1"
   ]
  },
  {
   "cell_type": "code",
   "execution_count": 70,
   "id": "a1505d65",
   "metadata": {
    "slideshow": {
     "slide_type": "fragment"
    }
   },
   "outputs": [
    {
     "data": {
      "text/html": [
       "<div>\n",
       "<style scoped>\n",
       "    .dataframe tbody tr th:only-of-type {\n",
       "        vertical-align: middle;\n",
       "    }\n",
       "\n",
       "    .dataframe tbody tr th {\n",
       "        vertical-align: top;\n",
       "    }\n",
       "\n",
       "    .dataframe thead th {\n",
       "        text-align: right;\n",
       "    }\n",
       "</style>\n",
       "<table border=\"1\" class=\"dataframe\">\n",
       "  <thead>\n",
       "    <tr style=\"text-align: right;\">\n",
       "      <th></th>\n",
       "      <th>Name</th>\n",
       "      <th>Statistics</th>\n",
       "      <th>Accounting</th>\n",
       "      <th>Marketing</th>\n",
       "    </tr>\n",
       "  </thead>\n",
       "  <tbody>\n",
       "    <tr>\n",
       "      <th>0</th>\n",
       "      <td>David</td>\n",
       "      <td>83</td>\n",
       "      <td>62</td>\n",
       "      <td>64</td>\n",
       "    </tr>\n",
       "    <tr>\n",
       "      <th>1</th>\n",
       "      <td>Ella</td>\n",
       "      <td>59</td>\n",
       "      <td>70</td>\n",
       "      <td>78</td>\n",
       "    </tr>\n",
       "  </tbody>\n",
       "</table>\n",
       "</div>"
      ],
      "text/plain": [
       "    Name  Statistics  Accounting  Marketing\n",
       "0  David          83          62         64\n",
       "1   Ella          59          70         78"
      ]
     },
     "execution_count": 70,
     "metadata": {},
     "output_type": "execute_result"
    }
   ],
   "source": [
    "df2 = pd.DataFrame(\n",
    "    {\"Name\": [\"David\", \"Ella\"], \"Statistics\": [83, 59], \"Accounting\": [62, 70], \"Marketing\": [64, 78]}\n",
    ")\n",
    "df2"
   ]
  },
  {
   "cell_type": "markdown",
   "id": "6c06c4d2",
   "metadata": {
    "slideshow": {
     "slide_type": "subslide"
    }
   },
   "source": [
    "Since the two DataFrames have same column lables, using `concat([ ])`and put the two DataFrames **in a list** to merge."
   ]
  },
  {
   "cell_type": "code",
   "execution_count": 71,
   "id": "9a462116",
   "metadata": {
    "slideshow": {
     "slide_type": "fragment"
    }
   },
   "outputs": [
    {
     "data": {
      "text/html": [
       "<div>\n",
       "<style scoped>\n",
       "    .dataframe tbody tr th:only-of-type {\n",
       "        vertical-align: middle;\n",
       "    }\n",
       "\n",
       "    .dataframe tbody tr th {\n",
       "        vertical-align: top;\n",
       "    }\n",
       "\n",
       "    .dataframe thead th {\n",
       "        text-align: right;\n",
       "    }\n",
       "</style>\n",
       "<table border=\"1\" class=\"dataframe\">\n",
       "  <thead>\n",
       "    <tr style=\"text-align: right;\">\n",
       "      <th></th>\n",
       "      <th>Name</th>\n",
       "      <th>Statistics</th>\n",
       "      <th>Accounting</th>\n",
       "      <th>Marketing</th>\n",
       "    </tr>\n",
       "  </thead>\n",
       "  <tbody>\n",
       "    <tr>\n",
       "      <th>0</th>\n",
       "      <td>Jim</td>\n",
       "      <td>85</td>\n",
       "      <td>82</td>\n",
       "      <td>84</td>\n",
       "    </tr>\n",
       "    <tr>\n",
       "      <th>1</th>\n",
       "      <td>Lily</td>\n",
       "      <td>68</td>\n",
       "      <td>63</td>\n",
       "      <td>90</td>\n",
       "    </tr>\n",
       "    <tr>\n",
       "      <th>2</th>\n",
       "      <td>Jack</td>\n",
       "      <td>90</td>\n",
       "      <td>88</td>\n",
       "      <td>78</td>\n",
       "    </tr>\n",
       "    <tr>\n",
       "      <th>0</th>\n",
       "      <td>David</td>\n",
       "      <td>83</td>\n",
       "      <td>62</td>\n",
       "      <td>64</td>\n",
       "    </tr>\n",
       "    <tr>\n",
       "      <th>1</th>\n",
       "      <td>Ella</td>\n",
       "      <td>59</td>\n",
       "      <td>70</td>\n",
       "      <td>78</td>\n",
       "    </tr>\n",
       "  </tbody>\n",
       "</table>\n",
       "</div>"
      ],
      "text/plain": [
       "    Name  Statistics  Accounting  Marketing\n",
       "0    Jim          85          82         84\n",
       "1   Lily          68          63         90\n",
       "2   Jack          90          88         78\n",
       "0  David          83          62         64\n",
       "1   Ella          59          70         78"
      ]
     },
     "execution_count": 71,
     "metadata": {},
     "output_type": "execute_result"
    }
   ],
   "source": [
    "pd.concat([df1, df2])  #  there are square brackets [ ]"
   ]
  },
  {
   "cell_type": "markdown",
   "id": "2b8e7a20",
   "metadata": {
    "slideshow": {
     "slide_type": "subslide"
    }
   },
   "source": [
    "To rename the indexes after merging, you can add the argument `ignore_index=True`, which will reassign sequential numeric indexes starting from 0 to the merged data."
   ]
  },
  {
   "cell_type": "code",
   "execution_count": 72,
   "id": "319310c1",
   "metadata": {
    "slideshow": {
     "slide_type": "fragment"
    }
   },
   "outputs": [
    {
     "data": {
      "text/html": [
       "<div>\n",
       "<style scoped>\n",
       "    .dataframe tbody tr th:only-of-type {\n",
       "        vertical-align: middle;\n",
       "    }\n",
       "\n",
       "    .dataframe tbody tr th {\n",
       "        vertical-align: top;\n",
       "    }\n",
       "\n",
       "    .dataframe thead th {\n",
       "        text-align: right;\n",
       "    }\n",
       "</style>\n",
       "<table border=\"1\" class=\"dataframe\">\n",
       "  <thead>\n",
       "    <tr style=\"text-align: right;\">\n",
       "      <th></th>\n",
       "      <th>Name</th>\n",
       "      <th>Statistics</th>\n",
       "      <th>Accounting</th>\n",
       "      <th>Marketing</th>\n",
       "    </tr>\n",
       "  </thead>\n",
       "  <tbody>\n",
       "    <tr>\n",
       "      <th>0</th>\n",
       "      <td>Jim</td>\n",
       "      <td>85</td>\n",
       "      <td>82</td>\n",
       "      <td>84</td>\n",
       "    </tr>\n",
       "    <tr>\n",
       "      <th>1</th>\n",
       "      <td>Lily</td>\n",
       "      <td>68</td>\n",
       "      <td>63</td>\n",
       "      <td>90</td>\n",
       "    </tr>\n",
       "    <tr>\n",
       "      <th>2</th>\n",
       "      <td>Jack</td>\n",
       "      <td>90</td>\n",
       "      <td>88</td>\n",
       "      <td>78</td>\n",
       "    </tr>\n",
       "    <tr>\n",
       "      <th>3</th>\n",
       "      <td>David</td>\n",
       "      <td>83</td>\n",
       "      <td>62</td>\n",
       "      <td>64</td>\n",
       "    </tr>\n",
       "    <tr>\n",
       "      <th>4</th>\n",
       "      <td>Ella</td>\n",
       "      <td>59</td>\n",
       "      <td>70</td>\n",
       "      <td>78</td>\n",
       "    </tr>\n",
       "  </tbody>\n",
       "</table>\n",
       "</div>"
      ],
      "text/plain": [
       "    Name  Statistics  Accounting  Marketing\n",
       "0    Jim          85          82         84\n",
       "1   Lily          68          63         90\n",
       "2   Jack          90          88         78\n",
       "3  David          83          62         64\n",
       "4   Ella          59          70         78"
      ]
     },
     "execution_count": 72,
     "metadata": {},
     "output_type": "execute_result"
    }
   ],
   "source": [
    "pd.concat([df1, df2], ignore_index=True)"
   ]
  },
  {
   "cell_type": "markdown",
   "id": "5e49ddc7-478b-4f82-98a6-e0689c6fe712",
   "metadata": {},
   "source": [
    "- concat 默认按行合并，若按列合并，可以在小括号内添加参数`axis=1`"
   ]
  },
  {
   "cell_type": "markdown",
   "id": "87b7f7e3",
   "metadata": {
    "slideshow": {
     "slide_type": "subslide"
    }
   },
   "source": [
    "假如有下面的数据："
   ]
  },
  {
   "cell_type": "code",
   "execution_count": 73,
   "id": "cdc1c959",
   "metadata": {
    "scrolled": true,
    "slideshow": {
     "slide_type": "fragment"
    }
   },
   "outputs": [
    {
     "data": {
      "text/html": [
       "<div>\n",
       "<style scoped>\n",
       "    .dataframe tbody tr th:only-of-type {\n",
       "        vertical-align: middle;\n",
       "    }\n",
       "\n",
       "    .dataframe tbody tr th {\n",
       "        vertical-align: top;\n",
       "    }\n",
       "\n",
       "    .dataframe thead th {\n",
       "        text-align: right;\n",
       "    }\n",
       "</style>\n",
       "<table border=\"1\" class=\"dataframe\">\n",
       "  <thead>\n",
       "    <tr style=\"text-align: right;\">\n",
       "      <th></th>\n",
       "      <th>Name</th>\n",
       "      <th>Python</th>\n",
       "      <th>Business Modelling</th>\n",
       "    </tr>\n",
       "  </thead>\n",
       "  <tbody>\n",
       "    <tr>\n",
       "      <th>0</th>\n",
       "      <td>Jim</td>\n",
       "      <td>65</td>\n",
       "      <td>72</td>\n",
       "    </tr>\n",
       "    <tr>\n",
       "      <th>1</th>\n",
       "      <td>Lily</td>\n",
       "      <td>68</td>\n",
       "      <td>63</td>\n",
       "    </tr>\n",
       "    <tr>\n",
       "      <th>2</th>\n",
       "      <td>Jack</td>\n",
       "      <td>60</td>\n",
       "      <td>78</td>\n",
       "    </tr>\n",
       "  </tbody>\n",
       "</table>\n",
       "</div>"
      ],
      "text/plain": [
       "   Name  Python  Business Modelling\n",
       "0   Jim      65                  72\n",
       "1  Lily      68                  63\n",
       "2  Jack      60                  78"
      ]
     },
     "execution_count": 73,
     "metadata": {},
     "output_type": "execute_result"
    }
   ],
   "source": [
    "df3 = pd.DataFrame(\n",
    "    {\n",
    "        \"Name\": [\"Jim\", \"Lily\", \"Jack\"],\n",
    "        \"Python\": [65, 68, 60],\n",
    "        \"Business Modelling\": [72, 63, 78],\n",
    "    }\n",
    ")\n",
    "\n",
    "df3"
   ]
  },
  {
   "cell_type": "code",
   "execution_count": 74,
   "id": "dfeb60d1-d3d7-47ad-b69c-23c68a21982a",
   "metadata": {},
   "outputs": [
    {
     "data": {
      "text/html": [
       "<div>\n",
       "<style scoped>\n",
       "    .dataframe tbody tr th:only-of-type {\n",
       "        vertical-align: middle;\n",
       "    }\n",
       "\n",
       "    .dataframe tbody tr th {\n",
       "        vertical-align: top;\n",
       "    }\n",
       "\n",
       "    .dataframe thead th {\n",
       "        text-align: right;\n",
       "    }\n",
       "</style>\n",
       "<table border=\"1\" class=\"dataframe\">\n",
       "  <thead>\n",
       "    <tr style=\"text-align: right;\">\n",
       "      <th></th>\n",
       "      <th>Name</th>\n",
       "      <th>Statistics</th>\n",
       "      <th>Accounting</th>\n",
       "      <th>Marketing</th>\n",
       "    </tr>\n",
       "  </thead>\n",
       "  <tbody>\n",
       "    <tr>\n",
       "      <th>0</th>\n",
       "      <td>Jim</td>\n",
       "      <td>85</td>\n",
       "      <td>82</td>\n",
       "      <td>84</td>\n",
       "    </tr>\n",
       "    <tr>\n",
       "      <th>1</th>\n",
       "      <td>Lily</td>\n",
       "      <td>68</td>\n",
       "      <td>63</td>\n",
       "      <td>90</td>\n",
       "    </tr>\n",
       "    <tr>\n",
       "      <th>2</th>\n",
       "      <td>Jack</td>\n",
       "      <td>90</td>\n",
       "      <td>88</td>\n",
       "      <td>78</td>\n",
       "    </tr>\n",
       "  </tbody>\n",
       "</table>\n",
       "</div>"
      ],
      "text/plain": [
       "   Name  Statistics  Accounting  Marketing\n",
       "0   Jim          85          82         84\n",
       "1  Lily          68          63         90\n",
       "2  Jack          90          88         78"
      ]
     },
     "execution_count": 74,
     "metadata": {},
     "output_type": "execute_result"
    }
   ],
   "source": [
    "df1"
   ]
  },
  {
   "cell_type": "markdown",
   "id": "b5babbc1",
   "metadata": {
    "slideshow": {
     "slide_type": "subslide"
    }
   },
   "source": [
    "When df1 and df3 share the same 'Name' column but have different other column names, and we want to add df3's columns to df1, we should use the `merge()` method. The typical syntax is as follows:"
   ]
  },
  {
   "cell_type": "markdown",
   "id": "97494094",
   "metadata": {
    "slideshow": {
     "slide_type": "fragment"
    }
   },
   "source": [
    "<table>\n",
    "    <tr style=\"border-top:solid; border-bottom:solid\">\n",
    "        <th colspan=2 style=\"text-align:center\">DataFrame.merge(right, how='inner', on=None)</th>\n",
    "    </tr>\n",
    "    <tr>\n",
    "        <td style=\"text-align:left\">right</td>\n",
    "        <td style=\"text-align:left\">The other DataFrame to merge;</td>\n",
    "    </tr>\n",
    "    <tr>\n",
    "        <td rowspan=4 style=\"text-align:left\">how</td>\n",
    "        <td style=\"text-align:left\">Default 'inner': performs inner join, merging only matching keys from both DataFrames</td>\n",
    "    </tr>\n",
    "    <tr>\n",
    "        <td style=\"text-align:left\">'outer': performs full outer join, merging all keys from both DataFrames</td>\n",
    "    </tr>\n",
    "    <tr>\n",
    "        <td style=\"text-align:left\">'left': performs left join, preserving all keys from the left DataFrame</td>\n",
    "    </tr>\n",
    "    <tr>\n",
    "        <td style=\"text-align:left\">'right': performs right join, preserving all keys from the right DataFrame</td>\n",
    "    </tr>\n",
    "    <tr style=\"border-bottom:solid\">\n",
    "        <td style=\"text-align:left\">on</td>\n",
    "        <td style=\"text-align:left\">Column labels to join on (single or multiple)</td>\n",
    "    </tr>\n",
    "</table>"
   ]
  },
  {
   "cell_type": "markdown",
   "id": "46c56be4",
   "metadata": {
    "slideshow": {
     "slide_type": "subslide"
    }
   },
   "source": [
    "So, for df1 and df3, when using ``merge``, the matching key is 'Name':"
   ]
  },
  {
   "cell_type": "code",
   "execution_count": 75,
   "id": "02e7f897",
   "metadata": {
    "slideshow": {
     "slide_type": "fragment"
    }
   },
   "outputs": [
    {
     "data": {
      "text/html": [
       "<div>\n",
       "<style scoped>\n",
       "    .dataframe tbody tr th:only-of-type {\n",
       "        vertical-align: middle;\n",
       "    }\n",
       "\n",
       "    .dataframe tbody tr th {\n",
       "        vertical-align: top;\n",
       "    }\n",
       "\n",
       "    .dataframe thead th {\n",
       "        text-align: right;\n",
       "    }\n",
       "</style>\n",
       "<table border=\"1\" class=\"dataframe\">\n",
       "  <thead>\n",
       "    <tr style=\"text-align: right;\">\n",
       "      <th></th>\n",
       "      <th>Name</th>\n",
       "      <th>Statistics</th>\n",
       "      <th>Accounting</th>\n",
       "      <th>Marketing</th>\n",
       "      <th>Python</th>\n",
       "      <th>Business Modelling</th>\n",
       "    </tr>\n",
       "  </thead>\n",
       "  <tbody>\n",
       "    <tr>\n",
       "      <th>0</th>\n",
       "      <td>Jim</td>\n",
       "      <td>85</td>\n",
       "      <td>82</td>\n",
       "      <td>84</td>\n",
       "      <td>65</td>\n",
       "      <td>72</td>\n",
       "    </tr>\n",
       "    <tr>\n",
       "      <th>1</th>\n",
       "      <td>Lily</td>\n",
       "      <td>68</td>\n",
       "      <td>63</td>\n",
       "      <td>90</td>\n",
       "      <td>68</td>\n",
       "      <td>63</td>\n",
       "    </tr>\n",
       "    <tr>\n",
       "      <th>2</th>\n",
       "      <td>Jack</td>\n",
       "      <td>90</td>\n",
       "      <td>88</td>\n",
       "      <td>78</td>\n",
       "      <td>60</td>\n",
       "      <td>78</td>\n",
       "    </tr>\n",
       "  </tbody>\n",
       "</table>\n",
       "</div>"
      ],
      "text/plain": [
       "   Name  Statistics  Accounting  Marketing  Python  Business Modelling\n",
       "0   Jim          85          82         84      65                  72\n",
       "1  Lily          68          63         90      68                  63\n",
       "2  Jack          90          88         78      60                  78"
      ]
     },
     "execution_count": 75,
     "metadata": {},
     "output_type": "execute_result"
    }
   ],
   "source": [
    "df1.merge(df3, on=\"Name\")"
   ]
  },
  {
   "cell_type": "markdown",
   "id": "84bee5c4",
   "metadata": {
    "slideshow": {
     "slide_type": "subslide"
    }
   },
   "source": [
    "When merging DataFrames, Pandas will automatically fill missing values with NaN for non-matching fields. The following example demonstrates the results of different join method:"
   ]
  },
  {
   "cell_type": "code",
   "execution_count": 76,
   "id": "2b606e10",
   "metadata": {
    "slideshow": {
     "slide_type": "fragment"
    }
   },
   "outputs": [
    {
     "data": {
      "text/html": [
       "<div>\n",
       "<style scoped>\n",
       "    .dataframe tbody tr th:only-of-type {\n",
       "        vertical-align: middle;\n",
       "    }\n",
       "\n",
       "    .dataframe tbody tr th {\n",
       "        vertical-align: top;\n",
       "    }\n",
       "\n",
       "    .dataframe thead th {\n",
       "        text-align: right;\n",
       "    }\n",
       "</style>\n",
       "<table border=\"1\" class=\"dataframe\">\n",
       "  <thead>\n",
       "    <tr style=\"text-align: right;\">\n",
       "      <th></th>\n",
       "      <th>Name</th>\n",
       "      <th>Statistics</th>\n",
       "      <th>Accounting</th>\n",
       "      <th>Marketing</th>\n",
       "    </tr>\n",
       "  </thead>\n",
       "  <tbody>\n",
       "    <tr>\n",
       "      <th>0</th>\n",
       "      <td>Jim</td>\n",
       "      <td>85</td>\n",
       "      <td>82</td>\n",
       "      <td>84</td>\n",
       "    </tr>\n",
       "    <tr>\n",
       "      <th>1</th>\n",
       "      <td>Lily</td>\n",
       "      <td>68</td>\n",
       "      <td>63</td>\n",
       "      <td>90</td>\n",
       "    </tr>\n",
       "    <tr>\n",
       "      <th>2</th>\n",
       "      <td>Jack</td>\n",
       "      <td>90</td>\n",
       "      <td>88</td>\n",
       "      <td>78</td>\n",
       "    </tr>\n",
       "  </tbody>\n",
       "</table>\n",
       "</div>"
      ],
      "text/plain": [
       "   Name  Statistics  Accounting  Marketing\n",
       "0   Jim          85          82         84\n",
       "1  Lily          68          63         90\n",
       "2  Jack          90          88         78"
      ]
     },
     "execution_count": 76,
     "metadata": {},
     "output_type": "execute_result"
    }
   ],
   "source": [
    "df1"
   ]
  },
  {
   "cell_type": "code",
   "execution_count": 77,
   "id": "8f0c5a00",
   "metadata": {
    "slideshow": {
     "slide_type": "subslide"
    }
   },
   "outputs": [
    {
     "data": {
      "text/html": [
       "<div>\n",
       "<style scoped>\n",
       "    .dataframe tbody tr th:only-of-type {\n",
       "        vertical-align: middle;\n",
       "    }\n",
       "\n",
       "    .dataframe tbody tr th {\n",
       "        vertical-align: top;\n",
       "    }\n",
       "\n",
       "    .dataframe thead th {\n",
       "        text-align: right;\n",
       "    }\n",
       "</style>\n",
       "<table border=\"1\" class=\"dataframe\">\n",
       "  <thead>\n",
       "    <tr style=\"text-align: right;\">\n",
       "      <th></th>\n",
       "      <th>Name</th>\n",
       "      <th>Python</th>\n",
       "      <th>Business Modelling</th>\n",
       "    </tr>\n",
       "  </thead>\n",
       "  <tbody>\n",
       "    <tr>\n",
       "      <th>0</th>\n",
       "      <td>Jim</td>\n",
       "      <td>65</td>\n",
       "      <td>72</td>\n",
       "    </tr>\n",
       "    <tr>\n",
       "      <th>1</th>\n",
       "      <td>Lily</td>\n",
       "      <td>78</td>\n",
       "      <td>73</td>\n",
       "    </tr>\n",
       "    <tr>\n",
       "      <th>2</th>\n",
       "      <td>Robert</td>\n",
       "      <td>60</td>\n",
       "      <td>68</td>\n",
       "    </tr>\n",
       "  </tbody>\n",
       "</table>\n",
       "</div>"
      ],
      "text/plain": [
       "     Name  Python  Business Modelling\n",
       "0     Jim      65                  72\n",
       "1    Lily      78                  73\n",
       "2  Robert      60                  68"
      ]
     },
     "execution_count": 77,
     "metadata": {},
     "output_type": "execute_result"
    }
   ],
   "source": [
    "df4 = pd.DataFrame(\n",
    "    {\n",
    "        \"Name\": [\"Jim\", \"Lily\", \"Robert\"],\n",
    "        \"Python\": [65, 78, 60],\n",
    "        \"Business Modelling\": [72, 73, 68],\n",
    "    }\n",
    ")\n",
    "\n",
    "df4"
   ]
  },
  {
   "cell_type": "code",
   "execution_count": 78,
   "id": "dcdddc62",
   "metadata": {
    "slideshow": {
     "slide_type": "fragment"
    }
   },
   "outputs": [
    {
     "data": {
      "text/html": [
       "<div>\n",
       "<style scoped>\n",
       "    .dataframe tbody tr th:only-of-type {\n",
       "        vertical-align: middle;\n",
       "    }\n",
       "\n",
       "    .dataframe tbody tr th {\n",
       "        vertical-align: top;\n",
       "    }\n",
       "\n",
       "    .dataframe thead th {\n",
       "        text-align: right;\n",
       "    }\n",
       "</style>\n",
       "<table border=\"1\" class=\"dataframe\">\n",
       "  <thead>\n",
       "    <tr style=\"text-align: right;\">\n",
       "      <th></th>\n",
       "      <th>Name</th>\n",
       "      <th>Statistics</th>\n",
       "      <th>Accounting</th>\n",
       "      <th>Marketing</th>\n",
       "      <th>Python</th>\n",
       "      <th>Business Modelling</th>\n",
       "    </tr>\n",
       "  </thead>\n",
       "  <tbody>\n",
       "    <tr>\n",
       "      <th>0</th>\n",
       "      <td>Jim</td>\n",
       "      <td>85</td>\n",
       "      <td>82</td>\n",
       "      <td>84</td>\n",
       "      <td>65</td>\n",
       "      <td>72</td>\n",
       "    </tr>\n",
       "    <tr>\n",
       "      <th>1</th>\n",
       "      <td>Lily</td>\n",
       "      <td>68</td>\n",
       "      <td>63</td>\n",
       "      <td>90</td>\n",
       "      <td>78</td>\n",
       "      <td>73</td>\n",
       "    </tr>\n",
       "  </tbody>\n",
       "</table>\n",
       "</div>"
      ],
      "text/plain": [
       "   Name  Statistics  Accounting  Marketing  Python  Business Modelling\n",
       "0   Jim          85          82         84      65                  72\n",
       "1  Lily          68          63         90      78                  73"
      ]
     },
     "execution_count": 78,
     "metadata": {},
     "output_type": "execute_result"
    }
   ],
   "source": [
    "df1.merge(df4, on=\"Name\")"
   ]
  },
  {
   "cell_type": "code",
   "execution_count": 79,
   "id": "1aaed36e",
   "metadata": {
    "slideshow": {
     "slide_type": "subslide"
    }
   },
   "outputs": [
    {
     "data": {
      "text/html": [
       "<div>\n",
       "<style scoped>\n",
       "    .dataframe tbody tr th:only-of-type {\n",
       "        vertical-align: middle;\n",
       "    }\n",
       "\n",
       "    .dataframe tbody tr th {\n",
       "        vertical-align: top;\n",
       "    }\n",
       "\n",
       "    .dataframe thead th {\n",
       "        text-align: right;\n",
       "    }\n",
       "</style>\n",
       "<table border=\"1\" class=\"dataframe\">\n",
       "  <thead>\n",
       "    <tr style=\"text-align: right;\">\n",
       "      <th></th>\n",
       "      <th>Name</th>\n",
       "      <th>Statistics</th>\n",
       "      <th>Accounting</th>\n",
       "      <th>Marketing</th>\n",
       "      <th>Python</th>\n",
       "      <th>Business Modelling</th>\n",
       "    </tr>\n",
       "  </thead>\n",
       "  <tbody>\n",
       "    <tr>\n",
       "      <th>0</th>\n",
       "      <td>Jack</td>\n",
       "      <td>90.0</td>\n",
       "      <td>88.0</td>\n",
       "      <td>78.0</td>\n",
       "      <td>NaN</td>\n",
       "      <td>NaN</td>\n",
       "    </tr>\n",
       "    <tr>\n",
       "      <th>1</th>\n",
       "      <td>Jim</td>\n",
       "      <td>85.0</td>\n",
       "      <td>82.0</td>\n",
       "      <td>84.0</td>\n",
       "      <td>65.0</td>\n",
       "      <td>72.0</td>\n",
       "    </tr>\n",
       "    <tr>\n",
       "      <th>2</th>\n",
       "      <td>Lily</td>\n",
       "      <td>68.0</td>\n",
       "      <td>63.0</td>\n",
       "      <td>90.0</td>\n",
       "      <td>78.0</td>\n",
       "      <td>73.0</td>\n",
       "    </tr>\n",
       "    <tr>\n",
       "      <th>3</th>\n",
       "      <td>Robert</td>\n",
       "      <td>NaN</td>\n",
       "      <td>NaN</td>\n",
       "      <td>NaN</td>\n",
       "      <td>60.0</td>\n",
       "      <td>68.0</td>\n",
       "    </tr>\n",
       "  </tbody>\n",
       "</table>\n",
       "</div>"
      ],
      "text/plain": [
       "     Name  Statistics  Accounting  Marketing  Python  Business Modelling\n",
       "0    Jack        90.0        88.0       78.0     NaN                 NaN\n",
       "1     Jim        85.0        82.0       84.0    65.0                72.0\n",
       "2    Lily        68.0        63.0       90.0    78.0                73.0\n",
       "3  Robert         NaN         NaN        NaN    60.0                68.0"
      ]
     },
     "execution_count": 79,
     "metadata": {},
     "output_type": "execute_result"
    }
   ],
   "source": [
    "df1.merge(df4, on=\"Name\", how=\"outer\") "
   ]
  },
  {
   "cell_type": "code",
   "execution_count": 80,
   "id": "635b5a96",
   "metadata": {
    "slideshow": {
     "slide_type": "fragment"
    }
   },
   "outputs": [
    {
     "data": {
      "text/html": [
       "<div>\n",
       "<style scoped>\n",
       "    .dataframe tbody tr th:only-of-type {\n",
       "        vertical-align: middle;\n",
       "    }\n",
       "\n",
       "    .dataframe tbody tr th {\n",
       "        vertical-align: top;\n",
       "    }\n",
       "\n",
       "    .dataframe thead th {\n",
       "        text-align: right;\n",
       "    }\n",
       "</style>\n",
       "<table border=\"1\" class=\"dataframe\">\n",
       "  <thead>\n",
       "    <tr style=\"text-align: right;\">\n",
       "      <th></th>\n",
       "      <th>Name</th>\n",
       "      <th>Statistics</th>\n",
       "      <th>Accounting</th>\n",
       "      <th>Marketing</th>\n",
       "      <th>Python</th>\n",
       "      <th>Business Modelling</th>\n",
       "    </tr>\n",
       "  </thead>\n",
       "  <tbody>\n",
       "    <tr>\n",
       "      <th>0</th>\n",
       "      <td>Jim</td>\n",
       "      <td>85</td>\n",
       "      <td>82</td>\n",
       "      <td>84</td>\n",
       "      <td>65.0</td>\n",
       "      <td>72.0</td>\n",
       "    </tr>\n",
       "    <tr>\n",
       "      <th>1</th>\n",
       "      <td>Lily</td>\n",
       "      <td>68</td>\n",
       "      <td>63</td>\n",
       "      <td>90</td>\n",
       "      <td>78.0</td>\n",
       "      <td>73.0</td>\n",
       "    </tr>\n",
       "    <tr>\n",
       "      <th>2</th>\n",
       "      <td>Jack</td>\n",
       "      <td>90</td>\n",
       "      <td>88</td>\n",
       "      <td>78</td>\n",
       "      <td>NaN</td>\n",
       "      <td>NaN</td>\n",
       "    </tr>\n",
       "  </tbody>\n",
       "</table>\n",
       "</div>"
      ],
      "text/plain": [
       "   Name  Statistics  Accounting  Marketing  Python  Business Modelling\n",
       "0   Jim          85          82         84    65.0                72.0\n",
       "1  Lily          68          63         90    78.0                73.0\n",
       "2  Jack          90          88         78     NaN                 NaN"
      ]
     },
     "execution_count": 80,
     "metadata": {},
     "output_type": "execute_result"
    }
   ],
   "source": [
    "df1.merge(df4, on=\"Name\", how=\"left\")"
   ]
  },
  {
   "cell_type": "code",
   "execution_count": 81,
   "id": "c944e202",
   "metadata": {
    "slideshow": {
     "slide_type": "subslide"
    }
   },
   "outputs": [
    {
     "data": {
      "text/html": [
       "<div>\n",
       "<style scoped>\n",
       "    .dataframe tbody tr th:only-of-type {\n",
       "        vertical-align: middle;\n",
       "    }\n",
       "\n",
       "    .dataframe tbody tr th {\n",
       "        vertical-align: top;\n",
       "    }\n",
       "\n",
       "    .dataframe thead th {\n",
       "        text-align: right;\n",
       "    }\n",
       "</style>\n",
       "<table border=\"1\" class=\"dataframe\">\n",
       "  <thead>\n",
       "    <tr style=\"text-align: right;\">\n",
       "      <th></th>\n",
       "      <th>Name</th>\n",
       "      <th>Statistics</th>\n",
       "      <th>Accounting</th>\n",
       "      <th>Marketing</th>\n",
       "      <th>Python</th>\n",
       "      <th>Business Modelling</th>\n",
       "    </tr>\n",
       "  </thead>\n",
       "  <tbody>\n",
       "    <tr>\n",
       "      <th>0</th>\n",
       "      <td>Jim</td>\n",
       "      <td>85.0</td>\n",
       "      <td>82.0</td>\n",
       "      <td>84.0</td>\n",
       "      <td>65</td>\n",
       "      <td>72</td>\n",
       "    </tr>\n",
       "    <tr>\n",
       "      <th>1</th>\n",
       "      <td>Lily</td>\n",
       "      <td>68.0</td>\n",
       "      <td>63.0</td>\n",
       "      <td>90.0</td>\n",
       "      <td>78</td>\n",
       "      <td>73</td>\n",
       "    </tr>\n",
       "    <tr>\n",
       "      <th>2</th>\n",
       "      <td>Robert</td>\n",
       "      <td>NaN</td>\n",
       "      <td>NaN</td>\n",
       "      <td>NaN</td>\n",
       "      <td>60</td>\n",
       "      <td>68</td>\n",
       "    </tr>\n",
       "  </tbody>\n",
       "</table>\n",
       "</div>"
      ],
      "text/plain": [
       "     Name  Statistics  Accounting  Marketing  Python  Business Modelling\n",
       "0     Jim        85.0        82.0       84.0      65                  72\n",
       "1    Lily        68.0        63.0       90.0      78                  73\n",
       "2  Robert         NaN         NaN        NaN      60                  68"
      ]
     },
     "execution_count": 81,
     "metadata": {},
     "output_type": "execute_result"
    }
   ],
   "source": [
    "df1.merge(df4, on=\"Name\", how=\"right\")"
   ]
  },
  {
   "cell_type": "markdown",
   "id": "9e41b0ca",
   "metadata": {
    "slideshow": {
     "slide_type": "slide"
    }
   },
   "source": [
    "## Filter, sort and group the data\n",
    "<hr>\n",
    "\n",
    "### Filter data\n",
    "<hr>\n",
    "\n",
    "When querying DataFrame data based on certain conditions, some comparison operators are commonly used, such as: `>`, `>=`, `==`, `<`, `<=`, `!=`. Conditional queries are generally applied only to column data. During the query process, **Pandas first generates a Boolean index (True or False)** and then produces the queried data by specifying this index."
   ]
  },
  {
   "cell_type": "code",
   "execution_count": 82,
   "id": "a28edc34",
   "metadata": {
    "slideshow": {
     "slide_type": "subslide"
    }
   },
   "outputs": [
    {
     "data": {
      "text/html": [
       "<div>\n",
       "<style scoped>\n",
       "    .dataframe tbody tr th:only-of-type {\n",
       "        vertical-align: middle;\n",
       "    }\n",
       "\n",
       "    .dataframe tbody tr th {\n",
       "        vertical-align: top;\n",
       "    }\n",
       "\n",
       "    .dataframe thead th {\n",
       "        text-align: right;\n",
       "    }\n",
       "</style>\n",
       "<table border=\"1\" class=\"dataframe\">\n",
       "  <thead>\n",
       "    <tr style=\"text-align: right;\">\n",
       "      <th></th>\n",
       "      <th>Name</th>\n",
       "      <th>Statistics</th>\n",
       "      <th>Accounting</th>\n",
       "      <th>Marketing</th>\n",
       "    </tr>\n",
       "  </thead>\n",
       "  <tbody>\n",
       "    <tr>\n",
       "      <th>0</th>\n",
       "      <td>Jim</td>\n",
       "      <td>85</td>\n",
       "      <td>82</td>\n",
       "      <td>84</td>\n",
       "    </tr>\n",
       "    <tr>\n",
       "      <th>1</th>\n",
       "      <td>Lily</td>\n",
       "      <td>68</td>\n",
       "      <td>63</td>\n",
       "      <td>90</td>\n",
       "    </tr>\n",
       "    <tr>\n",
       "      <th>2</th>\n",
       "      <td>Jack</td>\n",
       "      <td>90</td>\n",
       "      <td>88</td>\n",
       "      <td>78</td>\n",
       "    </tr>\n",
       "  </tbody>\n",
       "</table>\n",
       "</div>"
      ],
      "text/plain": [
       "   Name  Statistics  Accounting  Marketing\n",
       "0   Jim          85          82         84\n",
       "1  Lily          68          63         90\n",
       "2  Jack          90          88         78"
      ]
     },
     "execution_count": 82,
     "metadata": {},
     "output_type": "execute_result"
    }
   ],
   "source": [
    "import pandas as pd\n",
    "\n",
    "df = pd.DataFrame(\n",
    "    {\n",
    "        \"Name\": [\"Jim\", \"Lily\", \"Jack\"],\n",
    "        \"Statistics\": [85, 68, 90],\n",
    "        \"Accounting\": [82, 63, 88],\n",
    "        \"Marketing\": [84, 90, 78],\n",
    "    }\n",
    ")\n",
    "\n",
    "df"
   ]
  },
  {
   "cell_type": "code",
   "execution_count": 83,
   "id": "e21ead6a",
   "metadata": {
    "slideshow": {
     "slide_type": "fragment"
    }
   },
   "outputs": [
    {
     "data": {
      "text/plain": [
       "0     True\n",
       "1    False\n",
       "2     True\n",
       "Name: Statistics, dtype: bool"
      ]
     },
     "execution_count": 83,
     "metadata": {},
     "output_type": "execute_result"
    }
   ],
   "source": [
    "df[\"Statistics\"] > 70  #  get the boolean index"
   ]
  },
  {
   "cell_type": "code",
   "execution_count": 84,
   "id": "e46f292a",
   "metadata": {
    "slideshow": {
     "slide_type": "subslide"
    }
   },
   "outputs": [
    {
     "data": {
      "text/html": [
       "<div>\n",
       "<style scoped>\n",
       "    .dataframe tbody tr th:only-of-type {\n",
       "        vertical-align: middle;\n",
       "    }\n",
       "\n",
       "    .dataframe tbody tr th {\n",
       "        vertical-align: top;\n",
       "    }\n",
       "\n",
       "    .dataframe thead th {\n",
       "        text-align: right;\n",
       "    }\n",
       "</style>\n",
       "<table border=\"1\" class=\"dataframe\">\n",
       "  <thead>\n",
       "    <tr style=\"text-align: right;\">\n",
       "      <th></th>\n",
       "      <th>Name</th>\n",
       "      <th>Statistics</th>\n",
       "      <th>Accounting</th>\n",
       "      <th>Marketing</th>\n",
       "    </tr>\n",
       "  </thead>\n",
       "  <tbody>\n",
       "    <tr>\n",
       "      <th>0</th>\n",
       "      <td>Jim</td>\n",
       "      <td>85</td>\n",
       "      <td>82</td>\n",
       "      <td>84</td>\n",
       "    </tr>\n",
       "    <tr>\n",
       "      <th>2</th>\n",
       "      <td>Jack</td>\n",
       "      <td>90</td>\n",
       "      <td>88</td>\n",
       "      <td>78</td>\n",
       "    </tr>\n",
       "  </tbody>\n",
       "</table>\n",
       "</div>"
      ],
      "text/plain": [
       "   Name  Statistics  Accounting  Marketing\n",
       "0   Jim          85          82         84\n",
       "2  Jack          90          88         78"
      ]
     },
     "execution_count": 84,
     "metadata": {},
     "output_type": "execute_result"
    }
   ],
   "source": [
    "df[df[\"Statistics\"] > 70]  # get the conditional data"
   ]
  },
  {
   "cell_type": "markdown",
   "id": "3b616abd",
   "metadata": {
    "slideshow": {
     "slide_type": "subslide"
    }
   },
   "source": [
    "For multi-condition queries, you can use ``&`` to represent **AND** (both conditions must be satisfied) and ``|`` to represent **OR** (either condition can be satisfied). And, **each condition is in the paratheses `( )`**."
   ]
  },
  {
   "cell_type": "code",
   "execution_count": 85,
   "id": "74ff6b20",
   "metadata": {
    "slideshow": {
     "slide_type": "fragment"
    }
   },
   "outputs": [
    {
     "data": {
      "text/html": [
       "<div>\n",
       "<style scoped>\n",
       "    .dataframe tbody tr th:only-of-type {\n",
       "        vertical-align: middle;\n",
       "    }\n",
       "\n",
       "    .dataframe tbody tr th {\n",
       "        vertical-align: top;\n",
       "    }\n",
       "\n",
       "    .dataframe thead th {\n",
       "        text-align: right;\n",
       "    }\n",
       "</style>\n",
       "<table border=\"1\" class=\"dataframe\">\n",
       "  <thead>\n",
       "    <tr style=\"text-align: right;\">\n",
       "      <th></th>\n",
       "      <th>Name</th>\n",
       "      <th>Statistics</th>\n",
       "      <th>Accounting</th>\n",
       "      <th>Marketing</th>\n",
       "    </tr>\n",
       "  </thead>\n",
       "  <tbody>\n",
       "    <tr>\n",
       "      <th>0</th>\n",
       "      <td>Jim</td>\n",
       "      <td>85</td>\n",
       "      <td>82</td>\n",
       "      <td>84</td>\n",
       "    </tr>\n",
       "  </tbody>\n",
       "</table>\n",
       "</div>"
      ],
      "text/plain": [
       "  Name  Statistics  Accounting  Marketing\n",
       "0  Jim          85          82         84"
      ]
     },
     "execution_count": 85,
     "metadata": {},
     "output_type": "execute_result"
    }
   ],
   "source": [
    "df[(df[\"Statistics\"] > 70) & (df[\"Marketing\"] > 80)]  # get the data where statistics score is greater than 70, and marketing score is greater than 80"
   ]
  },
  {
   "cell_type": "code",
   "execution_count": 86,
   "id": "62995d74",
   "metadata": {
    "scrolled": true,
    "slideshow": {
     "slide_type": "subslide"
    }
   },
   "outputs": [
    {
     "data": {
      "text/html": [
       "<div>\n",
       "<style scoped>\n",
       "    .dataframe tbody tr th:only-of-type {\n",
       "        vertical-align: middle;\n",
       "    }\n",
       "\n",
       "    .dataframe tbody tr th {\n",
       "        vertical-align: top;\n",
       "    }\n",
       "\n",
       "    .dataframe thead th {\n",
       "        text-align: right;\n",
       "    }\n",
       "</style>\n",
       "<table border=\"1\" class=\"dataframe\">\n",
       "  <thead>\n",
       "    <tr style=\"text-align: right;\">\n",
       "      <th></th>\n",
       "      <th>Name</th>\n",
       "      <th>Statistics</th>\n",
       "      <th>Accounting</th>\n",
       "      <th>Marketing</th>\n",
       "    </tr>\n",
       "  </thead>\n",
       "  <tbody>\n",
       "    <tr>\n",
       "      <th>0</th>\n",
       "      <td>Jim</td>\n",
       "      <td>85</td>\n",
       "      <td>82</td>\n",
       "      <td>84</td>\n",
       "    </tr>\n",
       "    <tr>\n",
       "      <th>1</th>\n",
       "      <td>Lily</td>\n",
       "      <td>68</td>\n",
       "      <td>63</td>\n",
       "      <td>90</td>\n",
       "    </tr>\n",
       "    <tr>\n",
       "      <th>2</th>\n",
       "      <td>Jack</td>\n",
       "      <td>90</td>\n",
       "      <td>88</td>\n",
       "      <td>78</td>\n",
       "    </tr>\n",
       "  </tbody>\n",
       "</table>\n",
       "</div>"
      ],
      "text/plain": [
       "   Name  Statistics  Accounting  Marketing\n",
       "0   Jim          85          82         84\n",
       "1  Lily          68          63         90\n",
       "2  Jack          90          88         78"
      ]
     },
     "execution_count": 86,
     "metadata": {},
     "output_type": "execute_result"
    }
   ],
   "source": [
    "df[(df[\"Statistics\"] > 70) | (df[\"Marketing\"] > 80)] "
   ]
  },
  {
   "cell_type": "markdown",
   "id": "7a3a2164-f853-42f6-ac69-e6953ec09a30",
   "metadata": {},
   "source": [
    "- We can get the unique values of a column using the method `unique()`."
   ]
  },
  {
   "cell_type": "code",
   "execution_count": 87,
   "id": "11c93853-15a4-479c-90f3-151a608b39be",
   "metadata": {
    "scrolled": true
   },
   "outputs": [
    {
     "data": {
      "text/html": [
       "<div>\n",
       "<style scoped>\n",
       "    .dataframe tbody tr th:only-of-type {\n",
       "        vertical-align: middle;\n",
       "    }\n",
       "\n",
       "    .dataframe tbody tr th {\n",
       "        vertical-align: top;\n",
       "    }\n",
       "\n",
       "    .dataframe thead th {\n",
       "        text-align: right;\n",
       "    }\n",
       "</style>\n",
       "<table border=\"1\" class=\"dataframe\">\n",
       "  <thead>\n",
       "    <tr style=\"text-align: right;\">\n",
       "      <th></th>\n",
       "      <th>Name</th>\n",
       "      <th>Statistics</th>\n",
       "      <th>Accounting</th>\n",
       "      <th>Marketing</th>\n",
       "    </tr>\n",
       "  </thead>\n",
       "  <tbody>\n",
       "    <tr>\n",
       "      <th>0</th>\n",
       "      <td>Jim</td>\n",
       "      <td>82</td>\n",
       "      <td>72</td>\n",
       "      <td>84</td>\n",
       "    </tr>\n",
       "    <tr>\n",
       "      <th>1</th>\n",
       "      <td>Lily</td>\n",
       "      <td>68</td>\n",
       "      <td>63</td>\n",
       "      <td>90</td>\n",
       "    </tr>\n",
       "    <tr>\n",
       "      <th>2</th>\n",
       "      <td>Jack</td>\n",
       "      <td>82</td>\n",
       "      <td>72</td>\n",
       "      <td>78</td>\n",
       "    </tr>\n",
       "  </tbody>\n",
       "</table>\n",
       "</div>"
      ],
      "text/plain": [
       "   Name  Statistics  Accounting  Marketing\n",
       "0   Jim          82          72         84\n",
       "1  Lily          68          63         90\n",
       "2  Jack          82          72         78"
      ]
     },
     "execution_count": 87,
     "metadata": {},
     "output_type": "execute_result"
    }
   ],
   "source": [
    "import pandas as pd\n",
    "\n",
    "df = pd.DataFrame(\n",
    "    {\n",
    "        \"Name\": [\"Jim\", \"Lily\", \"Jack\"],\n",
    "        \"Statistics\": [82, 68, 82],\n",
    "        \"Accounting\": [72, 63, 72],\n",
    "        \"Marketing\": [84, 90, 78],\n",
    "    }\n",
    ")\n",
    "\n",
    "df"
   ]
  },
  {
   "cell_type": "code",
   "execution_count": 88,
   "id": "53535926-ba5a-4ca8-a32f-ad4813894624",
   "metadata": {},
   "outputs": [
    {
     "data": {
      "text/plain": [
       "array([72, 63])"
      ]
     },
     "execution_count": 88,
     "metadata": {},
     "output_type": "execute_result"
    }
   ],
   "source": [
    "df['Accounting'].unique()"
   ]
  },
  {
   "cell_type": "markdown",
   "id": "7f62e979",
   "metadata": {
    "slideshow": {
     "slide_type": "slide"
    }
   },
   "source": [
    "### Sort data\n",
    "<hr>\n",
    "\n",
    "When working with data, sorting is often necessary. Pandas provides a convenient method called `sort_values` for sorting numerical data. Its syntax is as follows:\n",
    "<table>\n",
    "     <tr style=\"border-top:solid; border-bottom:solid\">\n",
    "            <th colspan=2 style=\"text-align:center\">DataFrame.sort_values(by, axis=0, ascending=True, inplace=False,  na_position='last', ignore_index=False)</th>\n",
    "    </tr>\n",
    "    <tr>\n",
    "        <td style=\"text-align:left\">by</td>\n",
    "        <td style=\"text-align:left\">Column labels to sort by (axis=0) or row indices (axis=1); multiple values allowed</td>\n",
    "    </tr>\n",
    "    <tr>\n",
    "        <td style=\"text-align:left\">axis</td>\n",
    "        <td style=\"text-align:left\">0 for column-wise sorting, 1 for row-wise sorting (default: 0)</td>\n",
    "    </tr>\n",
    "    <tr>\n",
    "        <td style=\"text-align:left\">ascending</td>\n",
    "        <td style=\"text-align:left\">Sort order: True for ascending, False for descending (default: True)</td>\n",
    "    </tr>\n",
    "    <tr>\n",
    "        <td style=\"text-align:left\">inplace</td>\n",
    "        <td style=\"text-align:left\">Whether to modify the DataFrame in place (default: False)</td>\n",
    "    </tr>\n",
    "    <tr>\n",
    "        <td style=\"text-align:left\">na_position</td>\n",
    "        <td style=\"text-align:left\">Position for missing values: 'first' or 'last' (default: 'last')</td>\n",
    "    </tr>\n",
    "    <tr style=\"border-bottom:solid\">\n",
    "        <td style=\"text-align:left\">ignore_index</td>\n",
    "        <td style=\"text-align:left\">If True, the resulting axis will be labeled 0, 1, ..., n-1 (default: False)</td>\n",
    "    </tr>\n",
    "</table>\n",
    "<br>"
   ]
  },
  {
   "cell_type": "markdown",
   "id": "61513a93",
   "metadata": {
    "slideshow": {
     "slide_type": "subslide"
    }
   },
   "source": [
    "Sort the scores of Statistics in ascending order."
   ]
  },
  {
   "cell_type": "code",
   "execution_count": 89,
   "id": "5d9709e7",
   "metadata": {
    "slideshow": {
     "slide_type": "fragment"
    }
   },
   "outputs": [
    {
     "data": {
      "text/html": [
       "<div>\n",
       "<style scoped>\n",
       "    .dataframe tbody tr th:only-of-type {\n",
       "        vertical-align: middle;\n",
       "    }\n",
       "\n",
       "    .dataframe tbody tr th {\n",
       "        vertical-align: top;\n",
       "    }\n",
       "\n",
       "    .dataframe thead th {\n",
       "        text-align: right;\n",
       "    }\n",
       "</style>\n",
       "<table border=\"1\" class=\"dataframe\">\n",
       "  <thead>\n",
       "    <tr style=\"text-align: right;\">\n",
       "      <th></th>\n",
       "      <th>Name</th>\n",
       "      <th>Statistics</th>\n",
       "      <th>Accounting</th>\n",
       "      <th>Marketing</th>\n",
       "    </tr>\n",
       "  </thead>\n",
       "  <tbody>\n",
       "    <tr>\n",
       "      <th>1</th>\n",
       "      <td>Lily</td>\n",
       "      <td>68</td>\n",
       "      <td>63</td>\n",
       "      <td>90</td>\n",
       "    </tr>\n",
       "    <tr>\n",
       "      <th>0</th>\n",
       "      <td>Jim</td>\n",
       "      <td>82</td>\n",
       "      <td>72</td>\n",
       "      <td>84</td>\n",
       "    </tr>\n",
       "    <tr>\n",
       "      <th>2</th>\n",
       "      <td>Jack</td>\n",
       "      <td>82</td>\n",
       "      <td>72</td>\n",
       "      <td>78</td>\n",
       "    </tr>\n",
       "  </tbody>\n",
       "</table>\n",
       "</div>"
      ],
      "text/plain": [
       "   Name  Statistics  Accounting  Marketing\n",
       "1  Lily          68          63         90\n",
       "0   Jim          82          72         84\n",
       "2  Jack          82          72         78"
      ]
     },
     "execution_count": 89,
     "metadata": {},
     "output_type": "execute_result"
    }
   ],
   "source": [
    "df.sort_values(by=\"Statistics\")"
   ]
  },
  {
   "cell_type": "markdown",
   "id": "cbd55601",
   "metadata": {
    "slideshow": {
     "slide_type": "subslide"
    }
   },
   "source": [
    "Sory the scores of both Statistics and Marketing in descending order."
   ]
  },
  {
   "cell_type": "code",
   "execution_count": 90,
   "id": "f002964e",
   "metadata": {
    "slideshow": {
     "slide_type": "fragment"
    }
   },
   "outputs": [
    {
     "data": {
      "text/html": [
       "<div>\n",
       "<style scoped>\n",
       "    .dataframe tbody tr th:only-of-type {\n",
       "        vertical-align: middle;\n",
       "    }\n",
       "\n",
       "    .dataframe tbody tr th {\n",
       "        vertical-align: top;\n",
       "    }\n",
       "\n",
       "    .dataframe thead th {\n",
       "        text-align: right;\n",
       "    }\n",
       "</style>\n",
       "<table border=\"1\" class=\"dataframe\">\n",
       "  <thead>\n",
       "    <tr style=\"text-align: right;\">\n",
       "      <th></th>\n",
       "      <th>Name</th>\n",
       "      <th>Statistics</th>\n",
       "      <th>Accounting</th>\n",
       "      <th>Marketing</th>\n",
       "    </tr>\n",
       "  </thead>\n",
       "  <tbody>\n",
       "    <tr>\n",
       "      <th>0</th>\n",
       "      <td>Jim</td>\n",
       "      <td>82</td>\n",
       "      <td>72</td>\n",
       "      <td>84</td>\n",
       "    </tr>\n",
       "    <tr>\n",
       "      <th>2</th>\n",
       "      <td>Jack</td>\n",
       "      <td>82</td>\n",
       "      <td>72</td>\n",
       "      <td>78</td>\n",
       "    </tr>\n",
       "    <tr>\n",
       "      <th>1</th>\n",
       "      <td>Lily</td>\n",
       "      <td>68</td>\n",
       "      <td>63</td>\n",
       "      <td>90</td>\n",
       "    </tr>\n",
       "  </tbody>\n",
       "</table>\n",
       "</div>"
      ],
      "text/plain": [
       "   Name  Statistics  Accounting  Marketing\n",
       "0   Jim          82          72         84\n",
       "2  Jack          82          72         78\n",
       "1  Lily          68          63         90"
      ]
     },
     "execution_count": 90,
     "metadata": {},
     "output_type": "execute_result"
    }
   ],
   "source": [
    "df.sort_values(by=[\"Statistics\", \"Marketing\"], ascending=False)"
   ]
  },
  {
   "cell_type": "markdown",
   "id": "5258fba8",
   "metadata": {
    "slideshow": {
     "slide_type": "subslide"
    }
   },
   "source": [
    "For the argument `by`, with \"Statistics\" preceding \"Advanced Mathematics\", it means: first sort by Statistics scores in descending order, and for entries with identical Statistics scores, then sort by Advanced Mathematics scores in descending order.\n",
    "\n",
    "Since column labels often get shuffled during sorting:\n",
    "\n",
    "- Use `ignore_index = True` to reset the index labels sequentially.\n",
    "\n",
    "- Use `inplace = True` to modify the original DataFrame directly."
   ]
  },
  {
   "cell_type": "code",
   "execution_count": 91,
   "id": "c9952b88",
   "metadata": {
    "slideshow": {
     "slide_type": "subslide"
    }
   },
   "outputs": [
    {
     "data": {
      "text/html": [
       "<div>\n",
       "<style scoped>\n",
       "    .dataframe tbody tr th:only-of-type {\n",
       "        vertical-align: middle;\n",
       "    }\n",
       "\n",
       "    .dataframe tbody tr th {\n",
       "        vertical-align: top;\n",
       "    }\n",
       "\n",
       "    .dataframe thead th {\n",
       "        text-align: right;\n",
       "    }\n",
       "</style>\n",
       "<table border=\"1\" class=\"dataframe\">\n",
       "  <thead>\n",
       "    <tr style=\"text-align: right;\">\n",
       "      <th></th>\n",
       "      <th>Name</th>\n",
       "      <th>Statistics</th>\n",
       "      <th>Accounting</th>\n",
       "      <th>Marketing</th>\n",
       "    </tr>\n",
       "  </thead>\n",
       "  <tbody>\n",
       "    <tr>\n",
       "      <th>0</th>\n",
       "      <td>Jack</td>\n",
       "      <td>82</td>\n",
       "      <td>72</td>\n",
       "      <td>78</td>\n",
       "    </tr>\n",
       "    <tr>\n",
       "      <th>1</th>\n",
       "      <td>Jim</td>\n",
       "      <td>82</td>\n",
       "      <td>72</td>\n",
       "      <td>84</td>\n",
       "    </tr>\n",
       "    <tr>\n",
       "      <th>2</th>\n",
       "      <td>Lily</td>\n",
       "      <td>68</td>\n",
       "      <td>63</td>\n",
       "      <td>90</td>\n",
       "    </tr>\n",
       "  </tbody>\n",
       "</table>\n",
       "</div>"
      ],
      "text/plain": [
       "   Name  Statistics  Accounting  Marketing\n",
       "0  Jack          82          72         78\n",
       "1   Jim          82          72         84\n",
       "2  Lily          68          63         90"
      ]
     },
     "execution_count": 91,
     "metadata": {},
     "output_type": "execute_result"
    }
   ],
   "source": [
    "df.sort_values(by=\"Marketing\", ignore_index=True)  # reset the index"
   ]
  },
  {
   "cell_type": "code",
   "execution_count": 92,
   "id": "7e7fa43b",
   "metadata": {
    "slideshow": {
     "slide_type": "fragment"
    }
   },
   "outputs": [
    {
     "data": {
      "text/html": [
       "<div>\n",
       "<style scoped>\n",
       "    .dataframe tbody tr th:only-of-type {\n",
       "        vertical-align: middle;\n",
       "    }\n",
       "\n",
       "    .dataframe tbody tr th {\n",
       "        vertical-align: top;\n",
       "    }\n",
       "\n",
       "    .dataframe thead th {\n",
       "        text-align: right;\n",
       "    }\n",
       "</style>\n",
       "<table border=\"1\" class=\"dataframe\">\n",
       "  <thead>\n",
       "    <tr style=\"text-align: right;\">\n",
       "      <th></th>\n",
       "      <th>Name</th>\n",
       "      <th>Statistics</th>\n",
       "      <th>Accounting</th>\n",
       "      <th>Marketing</th>\n",
       "    </tr>\n",
       "  </thead>\n",
       "  <tbody>\n",
       "    <tr>\n",
       "      <th>0</th>\n",
       "      <td>Jim</td>\n",
       "      <td>82</td>\n",
       "      <td>72</td>\n",
       "      <td>84</td>\n",
       "    </tr>\n",
       "    <tr>\n",
       "      <th>1</th>\n",
       "      <td>Lily</td>\n",
       "      <td>68</td>\n",
       "      <td>63</td>\n",
       "      <td>90</td>\n",
       "    </tr>\n",
       "    <tr>\n",
       "      <th>2</th>\n",
       "      <td>Jack</td>\n",
       "      <td>82</td>\n",
       "      <td>72</td>\n",
       "      <td>78</td>\n",
       "    </tr>\n",
       "  </tbody>\n",
       "</table>\n",
       "</div>"
      ],
      "text/plain": [
       "   Name  Statistics  Accounting  Marketing\n",
       "0   Jim          82          72         84\n",
       "1  Lily          68          63         90\n",
       "2  Jack          82          72         78"
      ]
     },
     "execution_count": 92,
     "metadata": {},
     "output_type": "execute_result"
    }
   ],
   "source": [
    "df.sort_values(by=\"Marketing\", ignore_index=True)  \n",
    "df # the original data keeps same"
   ]
  },
  {
   "cell_type": "code",
   "execution_count": 93,
   "id": "431c937c",
   "metadata": {
    "slideshow": {
     "slide_type": "subslide"
    }
   },
   "outputs": [
    {
     "data": {
      "text/html": [
       "<div>\n",
       "<style scoped>\n",
       "    .dataframe tbody tr th:only-of-type {\n",
       "        vertical-align: middle;\n",
       "    }\n",
       "\n",
       "    .dataframe tbody tr th {\n",
       "        vertical-align: top;\n",
       "    }\n",
       "\n",
       "    .dataframe thead th {\n",
       "        text-align: right;\n",
       "    }\n",
       "</style>\n",
       "<table border=\"1\" class=\"dataframe\">\n",
       "  <thead>\n",
       "    <tr style=\"text-align: right;\">\n",
       "      <th></th>\n",
       "      <th>Name</th>\n",
       "      <th>Statistics</th>\n",
       "      <th>Accounting</th>\n",
       "      <th>Marketing</th>\n",
       "    </tr>\n",
       "  </thead>\n",
       "  <tbody>\n",
       "    <tr>\n",
       "      <th>0</th>\n",
       "      <td>Jack</td>\n",
       "      <td>82</td>\n",
       "      <td>72</td>\n",
       "      <td>78</td>\n",
       "    </tr>\n",
       "    <tr>\n",
       "      <th>1</th>\n",
       "      <td>Jim</td>\n",
       "      <td>82</td>\n",
       "      <td>72</td>\n",
       "      <td>84</td>\n",
       "    </tr>\n",
       "    <tr>\n",
       "      <th>2</th>\n",
       "      <td>Lily</td>\n",
       "      <td>68</td>\n",
       "      <td>63</td>\n",
       "      <td>90</td>\n",
       "    </tr>\n",
       "  </tbody>\n",
       "</table>\n",
       "</div>"
      ],
      "text/plain": [
       "   Name  Statistics  Accounting  Marketing\n",
       "0  Jack          82          72         78\n",
       "1   Jim          82          72         84\n",
       "2  Lily          68          63         90"
      ]
     },
     "execution_count": 93,
     "metadata": {},
     "output_type": "execute_result"
    }
   ],
   "source": [
    "df.sort_values(by=\"Marketing\", ignore_index=True, inplace=True) \n",
    "df # the original data is changed after adding `inplace=True`"
   ]
  },
  {
   "cell_type": "markdown",
   "id": "d9246bd0",
   "metadata": {
    "slideshow": {
     "slide_type": "slide"
    }
   },
   "source": [
    "### Group the data `groupby`\n",
    "<hr>\n",
    "\n",
    "In data analysis, it's often necessary to group and aggregate data. For example, when analyzing students' final exam scores, you might need to calculate average scores, highest scores, etc. by major or class. Pandas' `groupby()` method conveniently implements these operations.\n",
    "\n",
    "The `groupby` operation is frequently combined with aggregation method such as:\n",
    "\n",
    "- mean (average)\n",
    "\n",
    "- max (maximum value)\n",
    "\n",
    "- min (minimum value)\n",
    "\n",
    "- median (median)\n",
    "\n",
    "- std (standard deviation)\n",
    "\n",
    "- mad (mean absolute deviation)\n",
    "\n",
    "- count (number of non-null values)\n",
    "\n",
    "- size (total count, including nulls)\n",
    "\n",
    "- skew (skewness)\n",
    "\n",
    "- quantile (quantile values)"
   ]
  },
  {
   "cell_type": "markdown",
   "id": "20d3a4ba-304e-4f24-a39d-faadfb114e69",
   "metadata": {},
   "source": [
    "Below is a DataFrame about transcript."
   ]
  },
  {
   "cell_type": "code",
   "execution_count": 94,
   "id": "48c78afd",
   "metadata": {
    "scrolled": true,
    "slideshow": {
     "slide_type": "subslide"
    }
   },
   "outputs": [
    {
     "data": {
      "text/html": [
       "<div>\n",
       "<style scoped>\n",
       "    .dataframe tbody tr th:only-of-type {\n",
       "        vertical-align: middle;\n",
       "    }\n",
       "\n",
       "    .dataframe tbody tr th {\n",
       "        vertical-align: top;\n",
       "    }\n",
       "\n",
       "    .dataframe thead th {\n",
       "        text-align: right;\n",
       "    }\n",
       "</style>\n",
       "<table border=\"1\" class=\"dataframe\">\n",
       "  <thead>\n",
       "    <tr style=\"text-align: right;\">\n",
       "      <th></th>\n",
       "      <th>Name</th>\n",
       "      <th>Nation</th>\n",
       "      <th>Level</th>\n",
       "      <th>Statistics</th>\n",
       "      <th>Accounting</th>\n",
       "      <th>Finance</th>\n",
       "    </tr>\n",
       "  </thead>\n",
       "  <tbody>\n",
       "    <tr>\n",
       "      <th>0</th>\n",
       "      <td>Lily</td>\n",
       "      <td>US</td>\n",
       "      <td>5</td>\n",
       "      <td>85</td>\n",
       "      <td>68</td>\n",
       "      <td>90</td>\n",
       "    </tr>\n",
       "    <tr>\n",
       "      <th>1</th>\n",
       "      <td>Tom</td>\n",
       "      <td>UK</td>\n",
       "      <td>6</td>\n",
       "      <td>82</td>\n",
       "      <td>63</td>\n",
       "      <td>88</td>\n",
       "    </tr>\n",
       "    <tr>\n",
       "      <th>2</th>\n",
       "      <td>Jack</td>\n",
       "      <td>India</td>\n",
       "      <td>6</td>\n",
       "      <td>84</td>\n",
       "      <td>90</td>\n",
       "      <td>78</td>\n",
       "    </tr>\n",
       "    <tr>\n",
       "      <th>3</th>\n",
       "      <td>David</td>\n",
       "      <td>UK</td>\n",
       "      <td>6</td>\n",
       "      <td>75</td>\n",
       "      <td>68</td>\n",
       "      <td>80</td>\n",
       "    </tr>\n",
       "    <tr>\n",
       "      <th>4</th>\n",
       "      <td>Ella</td>\n",
       "      <td>India</td>\n",
       "      <td>5</td>\n",
       "      <td>69</td>\n",
       "      <td>55</td>\n",
       "      <td>63</td>\n",
       "    </tr>\n",
       "    <tr>\n",
       "      <th>5</th>\n",
       "      <td>Julie</td>\n",
       "      <td>China</td>\n",
       "      <td>5</td>\n",
       "      <td>89</td>\n",
       "      <td>95</td>\n",
       "      <td>93</td>\n",
       "    </tr>\n",
       "  </tbody>\n",
       "</table>\n",
       "</div>"
      ],
      "text/plain": [
       "    Name Nation Level  Statistics  Accounting  Finance\n",
       "0   Lily     US     5          85          68       90\n",
       "1    Tom     UK     6          82          63       88\n",
       "2   Jack  India     6          84          90       78\n",
       "3  David     UK     6          75          68       80\n",
       "4   Ella  India     5          69          55       63\n",
       "5  Julie  China     5          89          95       93"
      ]
     },
     "execution_count": 94,
     "metadata": {},
     "output_type": "execute_result"
    }
   ],
   "source": [
    "df = pd.DataFrame(\n",
    "    [\n",
    "        [\"Lily\", \"US\", \"5\", 85, 68, 90],\n",
    "        [\"Tom\", \"UK\", \"6\", 82, 63, 88],\n",
    "        [\"Jack\", \"India\", \"6\", 84, 90, 78],\n",
    "        [\"David\", \"UK\", \"6\", 75, 68, 80],\n",
    "        [\"Ella\", \"India\", \"5\", 69, 55, 63],\n",
    "        [\"Julie\", \"China\", \"5\", 89, 95, 93],\n",
    "    ],\n",
    "    columns=[\"Name\", \"Nation\", \"Level\", \"Statistics\", \"Accounting\", \"Finance\"],\n",
    ")\n",
    "df"
   ]
  },
  {
   "cell_type": "code",
   "execution_count": 95,
   "id": "621aef8e",
   "metadata": {
    "scrolled": true
   },
   "outputs": [
    {
     "data": {
      "text/html": [
       "<div>\n",
       "<style scoped>\n",
       "    .dataframe tbody tr th:only-of-type {\n",
       "        vertical-align: middle;\n",
       "    }\n",
       "\n",
       "    .dataframe tbody tr th {\n",
       "        vertical-align: top;\n",
       "    }\n",
       "\n",
       "    .dataframe thead th {\n",
       "        text-align: right;\n",
       "    }\n",
       "</style>\n",
       "<table border=\"1\" class=\"dataframe\">\n",
       "  <thead>\n",
       "    <tr style=\"text-align: right;\">\n",
       "      <th></th>\n",
       "      <th>Name</th>\n",
       "      <th>Nation</th>\n",
       "      <th>Statistics</th>\n",
       "      <th>Accounting</th>\n",
       "      <th>Finance</th>\n",
       "    </tr>\n",
       "    <tr>\n",
       "      <th>Level</th>\n",
       "      <th></th>\n",
       "      <th></th>\n",
       "      <th></th>\n",
       "      <th></th>\n",
       "      <th></th>\n",
       "    </tr>\n",
       "  </thead>\n",
       "  <tbody>\n",
       "    <tr>\n",
       "      <th>5</th>\n",
       "      <td>3</td>\n",
       "      <td>3</td>\n",
       "      <td>3</td>\n",
       "      <td>3</td>\n",
       "      <td>3</td>\n",
       "    </tr>\n",
       "    <tr>\n",
       "      <th>6</th>\n",
       "      <td>3</td>\n",
       "      <td>3</td>\n",
       "      <td>3</td>\n",
       "      <td>3</td>\n",
       "      <td>3</td>\n",
       "    </tr>\n",
       "  </tbody>\n",
       "</table>\n",
       "</div>"
      ],
      "text/plain": [
       "       Name  Nation  Statistics  Accounting  Finance\n",
       "Level                                               \n",
       "5         3       3           3           3        3\n",
       "6         3       3           3           3        3"
      ]
     },
     "execution_count": 95,
     "metadata": {},
     "output_type": "execute_result"
    }
   ],
   "source": [
    "df.groupby(\"Level\").count() # group by 'Level'"
   ]
  },
  {
   "cell_type": "code",
   "execution_count": 96,
   "id": "d3de1613",
   "metadata": {
    "scrolled": true
   },
   "outputs": [
    {
     "data": {
      "text/plain": [
       "Level\n",
       "5    3\n",
       "6    3\n",
       "dtype: int64"
      ]
     },
     "execution_count": 96,
     "metadata": {},
     "output_type": "execute_result"
    }
   ],
   "source": [
    "df.groupby(\"Level\").size() "
   ]
  },
  {
   "cell_type": "markdown",
   "id": "18c46376-1b13-40d3-95fb-72fdb36ceaf4",
   "metadata": {},
   "source": [
    "- Use `numeric_only = True` to operate only on the numeric values"
   ]
  },
  {
   "cell_type": "code",
   "execution_count": 97,
   "id": "0065022f",
   "metadata": {
    "slideshow": {
     "slide_type": "subslide"
    }
   },
   "outputs": [
    {
     "data": {
      "text/html": [
       "<div>\n",
       "<style scoped>\n",
       "    .dataframe tbody tr th:only-of-type {\n",
       "        vertical-align: middle;\n",
       "    }\n",
       "\n",
       "    .dataframe tbody tr th {\n",
       "        vertical-align: top;\n",
       "    }\n",
       "\n",
       "    .dataframe thead th {\n",
       "        text-align: right;\n",
       "    }\n",
       "</style>\n",
       "<table border=\"1\" class=\"dataframe\">\n",
       "  <thead>\n",
       "    <tr style=\"text-align: right;\">\n",
       "      <th></th>\n",
       "      <th>Statistics</th>\n",
       "      <th>Accounting</th>\n",
       "      <th>Finance</th>\n",
       "    </tr>\n",
       "    <tr>\n",
       "      <th>Level</th>\n",
       "      <th></th>\n",
       "      <th></th>\n",
       "      <th></th>\n",
       "    </tr>\n",
       "  </thead>\n",
       "  <tbody>\n",
       "    <tr>\n",
       "      <th>5</th>\n",
       "      <td>81.000000</td>\n",
       "      <td>72.666667</td>\n",
       "      <td>82.0</td>\n",
       "    </tr>\n",
       "    <tr>\n",
       "      <th>6</th>\n",
       "      <td>80.333333</td>\n",
       "      <td>73.666667</td>\n",
       "      <td>82.0</td>\n",
       "    </tr>\n",
       "  </tbody>\n",
       "</table>\n",
       "</div>"
      ],
      "text/plain": [
       "       Statistics  Accounting  Finance\n",
       "Level                                 \n",
       "5       81.000000   72.666667     82.0\n",
       "6       80.333333   73.666667     82.0"
      ]
     },
     "execution_count": 97,
     "metadata": {},
     "output_type": "execute_result"
    }
   ],
   "source": [
    "df.groupby(\"Level\").mean(\n",
    "    numeric_only=True\n",
    ")  # Get the mean scores for each module by \"Level\""
   ]
  },
  {
   "cell_type": "code",
   "execution_count": 98,
   "id": "21382a3e",
   "metadata": {
    "slideshow": {
     "slide_type": "fragment"
    }
   },
   "outputs": [
    {
     "data": {
      "text/html": [
       "<div>\n",
       "<style scoped>\n",
       "    .dataframe tbody tr th:only-of-type {\n",
       "        vertical-align: middle;\n",
       "    }\n",
       "\n",
       "    .dataframe tbody tr th {\n",
       "        vertical-align: top;\n",
       "    }\n",
       "\n",
       "    .dataframe thead th {\n",
       "        text-align: right;\n",
       "    }\n",
       "</style>\n",
       "<table border=\"1\" class=\"dataframe\">\n",
       "  <thead>\n",
       "    <tr style=\"text-align: right;\">\n",
       "      <th></th>\n",
       "      <th></th>\n",
       "      <th>Statistics</th>\n",
       "      <th>Accounting</th>\n",
       "      <th>Finance</th>\n",
       "    </tr>\n",
       "    <tr>\n",
       "      <th>Nation</th>\n",
       "      <th>Level</th>\n",
       "      <th></th>\n",
       "      <th></th>\n",
       "      <th></th>\n",
       "    </tr>\n",
       "  </thead>\n",
       "  <tbody>\n",
       "    <tr>\n",
       "      <th>China</th>\n",
       "      <th>5</th>\n",
       "      <td>89.0</td>\n",
       "      <td>95.0</td>\n",
       "      <td>93.0</td>\n",
       "    </tr>\n",
       "    <tr>\n",
       "      <th rowspan=\"2\" valign=\"top\">India</th>\n",
       "      <th>5</th>\n",
       "      <td>69.0</td>\n",
       "      <td>55.0</td>\n",
       "      <td>63.0</td>\n",
       "    </tr>\n",
       "    <tr>\n",
       "      <th>6</th>\n",
       "      <td>84.0</td>\n",
       "      <td>90.0</td>\n",
       "      <td>78.0</td>\n",
       "    </tr>\n",
       "    <tr>\n",
       "      <th>UK</th>\n",
       "      <th>6</th>\n",
       "      <td>78.5</td>\n",
       "      <td>65.5</td>\n",
       "      <td>84.0</td>\n",
       "    </tr>\n",
       "    <tr>\n",
       "      <th>US</th>\n",
       "      <th>5</th>\n",
       "      <td>85.0</td>\n",
       "      <td>68.0</td>\n",
       "      <td>90.0</td>\n",
       "    </tr>\n",
       "  </tbody>\n",
       "</table>\n",
       "</div>"
      ],
      "text/plain": [
       "              Statistics  Accounting  Finance\n",
       "Nation Level                                 \n",
       "China  5            89.0        95.0     93.0\n",
       "India  5            69.0        55.0     63.0\n",
       "       6            84.0        90.0     78.0\n",
       "UK     6            78.5        65.5     84.0\n",
       "US     5            85.0        68.0     90.0"
      ]
     },
     "execution_count": 98,
     "metadata": {},
     "output_type": "execute_result"
    }
   ],
   "source": [
    "df.groupby([\"Nation\", \"Level\"]).mean(numeric_only=True) "
   ]
  },
  {
   "cell_type": "markdown",
   "id": "f87b26d7",
   "metadata": {
    "slideshow": {
     "slide_type": "subslide"
    }
   },
   "source": [
    "We can assign the data after grouping to a new DataFrame."
   ]
  },
  {
   "cell_type": "code",
   "execution_count": 99,
   "id": "b105d355",
   "metadata": {
    "slideshow": {
     "slide_type": "fragment"
    }
   },
   "outputs": [
    {
     "data": {
      "text/html": [
       "<div>\n",
       "<style scoped>\n",
       "    .dataframe tbody tr th:only-of-type {\n",
       "        vertical-align: middle;\n",
       "    }\n",
       "\n",
       "    .dataframe tbody tr th {\n",
       "        vertical-align: top;\n",
       "    }\n",
       "\n",
       "    .dataframe thead th {\n",
       "        text-align: right;\n",
       "    }\n",
       "</style>\n",
       "<table border=\"1\" class=\"dataframe\">\n",
       "  <thead>\n",
       "    <tr style=\"text-align: right;\">\n",
       "      <th></th>\n",
       "      <th></th>\n",
       "      <th>Statistics</th>\n",
       "      <th>Accounting</th>\n",
       "      <th>Finance</th>\n",
       "    </tr>\n",
       "    <tr>\n",
       "      <th>Nation</th>\n",
       "      <th>Level</th>\n",
       "      <th></th>\n",
       "      <th></th>\n",
       "      <th></th>\n",
       "    </tr>\n",
       "  </thead>\n",
       "  <tbody>\n",
       "    <tr>\n",
       "      <th>China</th>\n",
       "      <th>5</th>\n",
       "      <td>89.0</td>\n",
       "      <td>95.0</td>\n",
       "      <td>93.0</td>\n",
       "    </tr>\n",
       "    <tr>\n",
       "      <th rowspan=\"2\" valign=\"top\">India</th>\n",
       "      <th>5</th>\n",
       "      <td>69.0</td>\n",
       "      <td>55.0</td>\n",
       "      <td>63.0</td>\n",
       "    </tr>\n",
       "    <tr>\n",
       "      <th>6</th>\n",
       "      <td>84.0</td>\n",
       "      <td>90.0</td>\n",
       "      <td>78.0</td>\n",
       "    </tr>\n",
       "    <tr>\n",
       "      <th>UK</th>\n",
       "      <th>6</th>\n",
       "      <td>78.5</td>\n",
       "      <td>65.5</td>\n",
       "      <td>84.0</td>\n",
       "    </tr>\n",
       "    <tr>\n",
       "      <th>US</th>\n",
       "      <th>5</th>\n",
       "      <td>85.0</td>\n",
       "      <td>68.0</td>\n",
       "      <td>90.0</td>\n",
       "    </tr>\n",
       "  </tbody>\n",
       "</table>\n",
       "</div>"
      ],
      "text/plain": [
       "              Statistics  Accounting  Finance\n",
       "Nation Level                                 \n",
       "China  5            89.0        95.0     93.0\n",
       "India  5            69.0        55.0     63.0\n",
       "       6            84.0        90.0     78.0\n",
       "UK     6            78.5        65.5     84.0\n",
       "US     5            85.0        68.0     90.0"
      ]
     },
     "execution_count": 99,
     "metadata": {},
     "output_type": "execute_result"
    }
   ],
   "source": [
    "df2 = df.groupby([\"Nation\", \"Level\"]).mean(numeric_only=True) \n",
    "df2"
   ]
  },
  {
   "cell_type": "code",
   "execution_count": 100,
   "id": "08fd06c8",
   "metadata": {
    "slideshow": {
     "slide_type": "subslide"
    }
   },
   "outputs": [
    {
     "data": {
      "text/plain": [
       "MultiIndex([('China', '5'),\n",
       "            ('India', '5'),\n",
       "            ('India', '6'),\n",
       "            (   'UK', '6'),\n",
       "            (   'US', '5')],\n",
       "           names=['Nation', 'Level'])"
      ]
     },
     "execution_count": 100,
     "metadata": {},
     "output_type": "execute_result"
    }
   ],
   "source": [
    "df2.index"
   ]
  },
  {
   "cell_type": "markdown",
   "id": "326b6cc2",
   "metadata": {},
   "source": [
    "### Method `reset_index()` or argument `as_index=False`\n",
    "<hr>\n",
    "\n",
    "The indices of a DataFrame often change after Pandas processing, as have mentioned before, we have two ways to stop the changes.\n",
    "\n",
    "- Use a method `reset_index()` after `goupby()`.\n",
    "- Use an argument `as_index=False` inside `groupby()`."
   ]
  },
  {
   "cell_type": "code",
   "execution_count": 101,
   "id": "f1eef6ac-68e8-4dfd-b0e4-1bb7070afd18",
   "metadata": {},
   "outputs": [
    {
     "data": {
      "text/html": [
       "<div>\n",
       "<style scoped>\n",
       "    .dataframe tbody tr th:only-of-type {\n",
       "        vertical-align: middle;\n",
       "    }\n",
       "\n",
       "    .dataframe tbody tr th {\n",
       "        vertical-align: top;\n",
       "    }\n",
       "\n",
       "    .dataframe thead th {\n",
       "        text-align: right;\n",
       "    }\n",
       "</style>\n",
       "<table border=\"1\" class=\"dataframe\">\n",
       "  <thead>\n",
       "    <tr style=\"text-align: right;\">\n",
       "      <th></th>\n",
       "      <th>Nation</th>\n",
       "      <th>Level</th>\n",
       "      <th>Statistics</th>\n",
       "      <th>Accounting</th>\n",
       "      <th>Finance</th>\n",
       "    </tr>\n",
       "  </thead>\n",
       "  <tbody>\n",
       "    <tr>\n",
       "      <th>0</th>\n",
       "      <td>China</td>\n",
       "      <td>5</td>\n",
       "      <td>89.0</td>\n",
       "      <td>95.0</td>\n",
       "      <td>93.0</td>\n",
       "    </tr>\n",
       "    <tr>\n",
       "      <th>1</th>\n",
       "      <td>India</td>\n",
       "      <td>5</td>\n",
       "      <td>69.0</td>\n",
       "      <td>55.0</td>\n",
       "      <td>63.0</td>\n",
       "    </tr>\n",
       "    <tr>\n",
       "      <th>2</th>\n",
       "      <td>India</td>\n",
       "      <td>6</td>\n",
       "      <td>84.0</td>\n",
       "      <td>90.0</td>\n",
       "      <td>78.0</td>\n",
       "    </tr>\n",
       "    <tr>\n",
       "      <th>3</th>\n",
       "      <td>UK</td>\n",
       "      <td>6</td>\n",
       "      <td>78.5</td>\n",
       "      <td>65.5</td>\n",
       "      <td>84.0</td>\n",
       "    </tr>\n",
       "    <tr>\n",
       "      <th>4</th>\n",
       "      <td>US</td>\n",
       "      <td>5</td>\n",
       "      <td>85.0</td>\n",
       "      <td>68.0</td>\n",
       "      <td>90.0</td>\n",
       "    </tr>\n",
       "  </tbody>\n",
       "</table>\n",
       "</div>"
      ],
      "text/plain": [
       "  Nation Level  Statistics  Accounting  Finance\n",
       "0  China     5        89.0        95.0     93.0\n",
       "1  India     5        69.0        55.0     63.0\n",
       "2  India     6        84.0        90.0     78.0\n",
       "3     UK     6        78.5        65.5     84.0\n",
       "4     US     5        85.0        68.0     90.0"
      ]
     },
     "execution_count": 101,
     "metadata": {},
     "output_type": "execute_result"
    }
   ],
   "source": [
    "df2 = df.groupby([\"Nation\", \"Level\"]).mean(numeric_only=True).reset_index()\n",
    "df2"
   ]
  },
  {
   "cell_type": "code",
   "execution_count": 102,
   "id": "3f4bae8d-4035-4fc4-adae-84f7d00115a3",
   "metadata": {},
   "outputs": [
    {
     "data": {
      "text/html": [
       "<div>\n",
       "<style scoped>\n",
       "    .dataframe tbody tr th:only-of-type {\n",
       "        vertical-align: middle;\n",
       "    }\n",
       "\n",
       "    .dataframe tbody tr th {\n",
       "        vertical-align: top;\n",
       "    }\n",
       "\n",
       "    .dataframe thead th {\n",
       "        text-align: right;\n",
       "    }\n",
       "</style>\n",
       "<table border=\"1\" class=\"dataframe\">\n",
       "  <thead>\n",
       "    <tr style=\"text-align: right;\">\n",
       "      <th></th>\n",
       "      <th>Nation</th>\n",
       "      <th>Level</th>\n",
       "      <th>Statistics</th>\n",
       "      <th>Accounting</th>\n",
       "      <th>Finance</th>\n",
       "    </tr>\n",
       "  </thead>\n",
       "  <tbody>\n",
       "    <tr>\n",
       "      <th>0</th>\n",
       "      <td>China</td>\n",
       "      <td>5</td>\n",
       "      <td>89.0</td>\n",
       "      <td>95.0</td>\n",
       "      <td>93.0</td>\n",
       "    </tr>\n",
       "    <tr>\n",
       "      <th>1</th>\n",
       "      <td>India</td>\n",
       "      <td>5</td>\n",
       "      <td>69.0</td>\n",
       "      <td>55.0</td>\n",
       "      <td>63.0</td>\n",
       "    </tr>\n",
       "    <tr>\n",
       "      <th>2</th>\n",
       "      <td>India</td>\n",
       "      <td>6</td>\n",
       "      <td>84.0</td>\n",
       "      <td>90.0</td>\n",
       "      <td>78.0</td>\n",
       "    </tr>\n",
       "    <tr>\n",
       "      <th>3</th>\n",
       "      <td>UK</td>\n",
       "      <td>6</td>\n",
       "      <td>78.5</td>\n",
       "      <td>65.5</td>\n",
       "      <td>84.0</td>\n",
       "    </tr>\n",
       "    <tr>\n",
       "      <th>4</th>\n",
       "      <td>US</td>\n",
       "      <td>5</td>\n",
       "      <td>85.0</td>\n",
       "      <td>68.0</td>\n",
       "      <td>90.0</td>\n",
       "    </tr>\n",
       "  </tbody>\n",
       "</table>\n",
       "</div>"
      ],
      "text/plain": [
       "  Nation Level  Statistics  Accounting  Finance\n",
       "0  China     5        89.0        95.0     93.0\n",
       "1  India     5        69.0        55.0     63.0\n",
       "2  India     6        84.0        90.0     78.0\n",
       "3     UK     6        78.5        65.5     84.0\n",
       "4     US     5        85.0        68.0     90.0"
      ]
     },
     "execution_count": 102,
     "metadata": {},
     "output_type": "execute_result"
    }
   ],
   "source": [
    "df2 = df.groupby([\"Nation\", \"Level\"], as_index=False).mean(numeric_only=True)\n",
    "df2"
   ]
  },
  {
   "cell_type": "markdown",
   "id": "b47dd8e1",
   "metadata": {},
   "source": [
    "Sometimes, the `reset_index()` method can be used with the `drop=True` argument to remove the index."
   ]
  },
  {
   "cell_type": "markdown",
   "id": "9606c0ee",
   "metadata": {},
   "source": [
    "The `reset_index()` method can also use the `names` argument to rename column headers."
   ]
  },
  {
   "cell_type": "code",
   "execution_count": 103,
   "id": "f401be8f",
   "metadata": {},
   "outputs": [
    {
     "data": {
      "text/html": [
       "<div>\n",
       "<style scoped>\n",
       "    .dataframe tbody tr th:only-of-type {\n",
       "        vertical-align: middle;\n",
       "    }\n",
       "\n",
       "    .dataframe tbody tr th {\n",
       "        vertical-align: top;\n",
       "    }\n",
       "\n",
       "    .dataframe thead th {\n",
       "        text-align: right;\n",
       "    }\n",
       "</style>\n",
       "<table border=\"1\" class=\"dataframe\">\n",
       "  <thead>\n",
       "    <tr style=\"text-align: right;\">\n",
       "      <th></th>\n",
       "      <th>Class</th>\n",
       "      <th>Gender</th>\n",
       "      <th>Statistics</th>\n",
       "      <th>Accounting</th>\n",
       "      <th>Finance</th>\n",
       "    </tr>\n",
       "  </thead>\n",
       "  <tbody>\n",
       "    <tr>\n",
       "      <th>0</th>\n",
       "      <td>China</td>\n",
       "      <td>5</td>\n",
       "      <td>89.0</td>\n",
       "      <td>95.0</td>\n",
       "      <td>93.0</td>\n",
       "    </tr>\n",
       "    <tr>\n",
       "      <th>1</th>\n",
       "      <td>India</td>\n",
       "      <td>5</td>\n",
       "      <td>69.0</td>\n",
       "      <td>55.0</td>\n",
       "      <td>63.0</td>\n",
       "    </tr>\n",
       "    <tr>\n",
       "      <th>2</th>\n",
       "      <td>India</td>\n",
       "      <td>6</td>\n",
       "      <td>84.0</td>\n",
       "      <td>90.0</td>\n",
       "      <td>78.0</td>\n",
       "    </tr>\n",
       "    <tr>\n",
       "      <th>3</th>\n",
       "      <td>UK</td>\n",
       "      <td>6</td>\n",
       "      <td>78.5</td>\n",
       "      <td>65.5</td>\n",
       "      <td>84.0</td>\n",
       "    </tr>\n",
       "    <tr>\n",
       "      <th>4</th>\n",
       "      <td>US</td>\n",
       "      <td>5</td>\n",
       "      <td>85.0</td>\n",
       "      <td>68.0</td>\n",
       "      <td>90.0</td>\n",
       "    </tr>\n",
       "  </tbody>\n",
       "</table>\n",
       "</div>"
      ],
      "text/plain": [
       "   Class Gender  Statistics  Accounting  Finance\n",
       "0  China      5        89.0        95.0     93.0\n",
       "1  India      5        69.0        55.0     63.0\n",
       "2  India      6        84.0        90.0     78.0\n",
       "3     UK      6        78.5        65.5     84.0\n",
       "4     US      5        85.0        68.0     90.0"
      ]
     },
     "execution_count": 103,
     "metadata": {},
     "output_type": "execute_result"
    }
   ],
   "source": [
    "df2 = (\n",
    "    df.groupby([\"Nation\", \"Level\"]).mean(numeric_only=True).reset_index(names=[\"Class\", \"Gender\"])\n",
    ") \n",
    "df2"
   ]
  },
  {
   "cell_type": "code",
   "execution_count": 104,
   "id": "4f8eddba",
   "metadata": {
    "slideshow": {
     "slide_type": "fragment"
    }
   },
   "outputs": [
    {
     "data": {
      "text/plain": [
       "Index(['Class', 'Gender', 'Statistics', 'Accounting', 'Finance'], dtype='object')"
      ]
     },
     "execution_count": 104,
     "metadata": {},
     "output_type": "execute_result"
    }
   ],
   "source": [
    "df2.columns"
   ]
  },
  {
   "cell_type": "markdown",
   "id": "f940d984",
   "metadata": {
    "slideshow": {
     "slide_type": "slide"
    }
   },
   "source": [
    "## Output data to a NumPy array or a list\n",
    "<hr>"
   ]
  },
  {
   "cell_type": "markdown",
   "id": "d9f61aed",
   "metadata": {
    "slideshow": {
     "slide_type": "fragment"
    }
   },
   "source": [
    "In Pandas, the `values` method can convert DataFrame data into a NumPy array format. For example, using the previous data example:"
   ]
  },
  {
   "cell_type": "code",
   "execution_count": 105,
   "id": "3ca186de",
   "metadata": {
    "slideshow": {
     "slide_type": "fragment"
    }
   },
   "outputs": [
    {
     "data": {
      "text/plain": [
       "array([['Lily', 'US', '5', 85, 68, 90],\n",
       "       ['Tom', 'UK', '6', 82, 63, 88],\n",
       "       ['Jack', 'India', '6', 84, 90, 78],\n",
       "       ['David', 'UK', '6', 75, 68, 80],\n",
       "       ['Ella', 'India', '5', 69, 55, 63],\n",
       "       ['Julie', 'China', '5', 89, 95, 93]], dtype=object)"
      ]
     },
     "execution_count": 105,
     "metadata": {},
     "output_type": "execute_result"
    }
   ],
   "source": [
    "df.values"
   ]
  },
  {
   "cell_type": "code",
   "execution_count": 106,
   "id": "12461f59-fd05-4b72-af72-86b67468ce9f",
   "metadata": {},
   "outputs": [
    {
     "data": {
      "text/plain": [
       "array([[85, 68],\n",
       "       [82, 63],\n",
       "       [84, 90],\n",
       "       [75, 68],\n",
       "       [69, 55],\n",
       "       [89, 95]])"
      ]
     },
     "execution_count": 106,
     "metadata": {},
     "output_type": "execute_result"
    }
   ],
   "source": [
    "df[[\"Statistics\", \"Accounting\"]].values"
   ]
  },
  {
   "cell_type": "markdown",
   "id": "806f8657",
   "metadata": {
    "slideshow": {
     "slide_type": "subslide"
    }
   },
   "source": [
    "You can also use the `tolist()` method to convert a column of data into Python's native list type."
   ]
  },
  {
   "cell_type": "code",
   "execution_count": 107,
   "id": "afeac2df",
   "metadata": {
    "slideshow": {
     "slide_type": "fragment"
    }
   },
   "outputs": [
    {
     "data": {
      "text/plain": [
       "[85, 82, 84, 75, 69, 89]"
      ]
     },
     "execution_count": 107,
     "metadata": {},
     "output_type": "execute_result"
    }
   ],
   "source": [
    "df[\"Statistics\"].tolist()"
   ]
  },
  {
   "cell_type": "markdown",
   "id": "f3879328",
   "metadata": {
    "slideshow": {
     "slide_type": "slide"
    }
   },
   "source": [
    "## Apply a function/method\n",
    "<hr>\n",
    "\n",
    "Pandas can use the method ``apply`` to apply a function/method to the data."
   ]
  },
  {
   "cell_type": "code",
   "execution_count": 108,
   "id": "b9ba97d1",
   "metadata": {
    "slideshow": {
     "slide_type": "fragment"
    }
   },
   "outputs": [
    {
     "data": {
      "text/plain": [
       "0    9.219544\n",
       "1    9.055385\n",
       "2    9.165151\n",
       "3    8.660254\n",
       "4    8.306624\n",
       "5    9.433981\n",
       "Name: Statistics, dtype: float64"
      ]
     },
     "execution_count": 108,
     "metadata": {},
     "output_type": "execute_result"
    }
   ],
   "source": [
    "import numpy as np\n",
    "\n",
    "df[\"Statistics\"].apply(np.sqrt)  # apply the method sqrt in NumPy to compute the squre root of a colun"
   ]
  },
  {
   "cell_type": "markdown",
   "id": "ea1be51b",
   "metadata": {
    "slideshow": {
     "slide_type": "subslide"
    }
   },
   "source": [
    "We can also self define a `lambda` fuction inside `apply( )`."
   ]
  },
  {
   "cell_type": "code",
   "execution_count": 109,
   "id": "f33d66cb",
   "metadata": {
    "slideshow": {
     "slide_type": "fragment"
    }
   },
   "outputs": [
    {
     "data": {
      "text/html": [
       "<div>\n",
       "<style scoped>\n",
       "    .dataframe tbody tr th:only-of-type {\n",
       "        vertical-align: middle;\n",
       "    }\n",
       "\n",
       "    .dataframe tbody tr th {\n",
       "        vertical-align: top;\n",
       "    }\n",
       "\n",
       "    .dataframe thead th {\n",
       "        text-align: right;\n",
       "    }\n",
       "</style>\n",
       "<table border=\"1\" class=\"dataframe\">\n",
       "  <thead>\n",
       "    <tr style=\"text-align: right;\">\n",
       "      <th></th>\n",
       "      <th>Name</th>\n",
       "      <th>Nation</th>\n",
       "      <th>Level</th>\n",
       "      <th>Statistics</th>\n",
       "      <th>Accounting</th>\n",
       "      <th>Finance</th>\n",
       "      <th>new Statistics</th>\n",
       "    </tr>\n",
       "  </thead>\n",
       "  <tbody>\n",
       "    <tr>\n",
       "      <th>0</th>\n",
       "      <td>Lily</td>\n",
       "      <td>US</td>\n",
       "      <td>5</td>\n",
       "      <td>85</td>\n",
       "      <td>68</td>\n",
       "      <td>90</td>\n",
       "      <td>75</td>\n",
       "    </tr>\n",
       "    <tr>\n",
       "      <th>1</th>\n",
       "      <td>Tom</td>\n",
       "      <td>UK</td>\n",
       "      <td>6</td>\n",
       "      <td>82</td>\n",
       "      <td>63</td>\n",
       "      <td>88</td>\n",
       "      <td>72</td>\n",
       "    </tr>\n",
       "    <tr>\n",
       "      <th>2</th>\n",
       "      <td>Jack</td>\n",
       "      <td>India</td>\n",
       "      <td>6</td>\n",
       "      <td>84</td>\n",
       "      <td>90</td>\n",
       "      <td>78</td>\n",
       "      <td>74</td>\n",
       "    </tr>\n",
       "    <tr>\n",
       "      <th>3</th>\n",
       "      <td>David</td>\n",
       "      <td>UK</td>\n",
       "      <td>6</td>\n",
       "      <td>75</td>\n",
       "      <td>68</td>\n",
       "      <td>80</td>\n",
       "      <td>65</td>\n",
       "    </tr>\n",
       "    <tr>\n",
       "      <th>4</th>\n",
       "      <td>Ella</td>\n",
       "      <td>India</td>\n",
       "      <td>5</td>\n",
       "      <td>69</td>\n",
       "      <td>55</td>\n",
       "      <td>63</td>\n",
       "      <td>59</td>\n",
       "    </tr>\n",
       "    <tr>\n",
       "      <th>5</th>\n",
       "      <td>Julie</td>\n",
       "      <td>China</td>\n",
       "      <td>5</td>\n",
       "      <td>89</td>\n",
       "      <td>95</td>\n",
       "      <td>93</td>\n",
       "      <td>79</td>\n",
       "    </tr>\n",
       "  </tbody>\n",
       "</table>\n",
       "</div>"
      ],
      "text/plain": [
       "    Name Nation Level  Statistics  Accounting  Finance  new Statistics\n",
       "0   Lily     US     5          85          68       90              75\n",
       "1    Tom     UK     6          82          63       88              72\n",
       "2   Jack  India     6          84          90       78              74\n",
       "3  David     UK     6          75          68       80              65\n",
       "4   Ella  India     5          69          55       63              59\n",
       "5  Julie  China     5          89          95       93              79"
      ]
     },
     "execution_count": 109,
     "metadata": {},
     "output_type": "execute_result"
    }
   ],
   "source": [
    "df[\"new Statistics\"] = df[\"Statistics\"].apply(lambda x: x - 10) # minus every score in \"Statistics\" by 10 to a new column\n",
    "df "
   ]
  },
  {
   "cell_type": "markdown",
   "id": "03e88338",
   "metadata": {
    "slideshow": {
     "slide_type": "subslide"
    }
   },
   "source": [
    "``apply`` can also apply other more complex self defined function. For example, the following code transfers the numeric scores in other forms."
   ]
  },
  {
   "cell_type": "code",
   "execution_count": 110,
   "id": "bcfaacec",
   "metadata": {
    "slideshow": {
     "slide_type": "subslide"
    }
   },
   "outputs": [
    {
     "data": {
      "text/html": [
       "<div>\n",
       "<style scoped>\n",
       "    .dataframe tbody tr th:only-of-type {\n",
       "        vertical-align: middle;\n",
       "    }\n",
       "\n",
       "    .dataframe tbody tr th {\n",
       "        vertical-align: top;\n",
       "    }\n",
       "\n",
       "    .dataframe thead th {\n",
       "        text-align: right;\n",
       "    }\n",
       "</style>\n",
       "<table border=\"1\" class=\"dataframe\">\n",
       "  <thead>\n",
       "    <tr style=\"text-align: right;\">\n",
       "      <th></th>\n",
       "      <th>Name</th>\n",
       "      <th>Nation</th>\n",
       "      <th>Level</th>\n",
       "      <th>Statistics</th>\n",
       "      <th>Accounting</th>\n",
       "      <th>Finance</th>\n",
       "      <th>new Statistics</th>\n",
       "    </tr>\n",
       "  </thead>\n",
       "  <tbody>\n",
       "    <tr>\n",
       "      <th>0</th>\n",
       "      <td>Lily</td>\n",
       "      <td>US</td>\n",
       "      <td>5</td>\n",
       "      <td>85</td>\n",
       "      <td>68</td>\n",
       "      <td>90</td>\n",
       "      <td>A</td>\n",
       "    </tr>\n",
       "    <tr>\n",
       "      <th>1</th>\n",
       "      <td>Tom</td>\n",
       "      <td>UK</td>\n",
       "      <td>6</td>\n",
       "      <td>82</td>\n",
       "      <td>63</td>\n",
       "      <td>88</td>\n",
       "      <td>A</td>\n",
       "    </tr>\n",
       "    <tr>\n",
       "      <th>2</th>\n",
       "      <td>Jack</td>\n",
       "      <td>India</td>\n",
       "      <td>6</td>\n",
       "      <td>84</td>\n",
       "      <td>90</td>\n",
       "      <td>78</td>\n",
       "      <td>A</td>\n",
       "    </tr>\n",
       "    <tr>\n",
       "      <th>3</th>\n",
       "      <td>David</td>\n",
       "      <td>UK</td>\n",
       "      <td>6</td>\n",
       "      <td>75</td>\n",
       "      <td>68</td>\n",
       "      <td>80</td>\n",
       "      <td>B</td>\n",
       "    </tr>\n",
       "    <tr>\n",
       "      <th>4</th>\n",
       "      <td>Ella</td>\n",
       "      <td>India</td>\n",
       "      <td>5</td>\n",
       "      <td>69</td>\n",
       "      <td>55</td>\n",
       "      <td>63</td>\n",
       "      <td>C</td>\n",
       "    </tr>\n",
       "    <tr>\n",
       "      <th>5</th>\n",
       "      <td>Julie</td>\n",
       "      <td>China</td>\n",
       "      <td>5</td>\n",
       "      <td>89</td>\n",
       "      <td>95</td>\n",
       "      <td>93</td>\n",
       "      <td>A</td>\n",
       "    </tr>\n",
       "  </tbody>\n",
       "</table>\n",
       "</div>"
      ],
      "text/plain": [
       "    Name Nation Level  Statistics  Accounting  Finance new Statistics\n",
       "0   Lily     US     5          85          68       90              A\n",
       "1    Tom     UK     6          82          63       88              A\n",
       "2   Jack  India     6          84          90       78              A\n",
       "3  David     UK     6          75          68       80              B\n",
       "4   Ella  India     5          69          55       63              C\n",
       "5  Julie  China     5          89          95       93              A"
      ]
     },
     "execution_count": 110,
     "metadata": {},
     "output_type": "execute_result"
    }
   ],
   "source": [
    "def replace_score(x):\n",
    "    if x >= 70:\n",
    "        return \"A\"\n",
    "    elif x >= 60:\n",
    "        return \"B\"\n",
    "    elif x >= 50:\n",
    "        return \"C\"\n",
    "    else:\n",
    "        return \"Failed\"\n",
    "\n",
    "\n",
    "df[\"new Statistics\"] = df[\"new Statistics\"].apply(replace_score)\n",
    "df"
   ]
  },
  {
   "cell_type": "markdown",
   "id": "d6da2998",
   "metadata": {
    "slideshow": {
     "slide_type": "slide"
    }
   },
   "source": [
    "##  Process time-series data\n",
    "<hr>\n",
    "\n",
    "### ``to_datetime`` and ``dt.strftime``\n",
    "<hr>\n",
    "\n",
    "In practical work, we often encounter large amounts of time series data. The raw time series data is typically in text format, which needs to be converted into datetime format. Pandas provides the `to_datetime` method to convert other datetime formats into Python's datetime format. For example:"
   ]
  },
  {
   "cell_type": "code",
   "execution_count": 111,
   "id": "03586e8b",
   "metadata": {
    "slideshow": {
     "slide_type": "subslide"
    }
   },
   "outputs": [
    {
     "data": {
      "text/plain": [
       "Timestamp('2020-05-14 00:00:00')"
      ]
     },
     "execution_count": 111,
     "metadata": {},
     "output_type": "execute_result"
    }
   ],
   "source": [
    "import pandas as pd\n",
    "\n",
    "pd.to_datetime(\"20200514\")"
   ]
  },
  {
   "cell_type": "code",
   "execution_count": 112,
   "id": "2fc4a60c",
   "metadata": {
    "slideshow": {
     "slide_type": "fragment"
    }
   },
   "outputs": [
    {
     "data": {
      "text/plain": [
       "Timestamp('2020-05-14 00:00:00')"
      ]
     },
     "execution_count": 112,
     "metadata": {},
     "output_type": "execute_result"
    }
   ],
   "source": [
    "pd.to_datetime(\"2020/05/14\")"
   ]
  },
  {
   "cell_type": "code",
   "execution_count": 113,
   "id": "bfc516c9",
   "metadata": {
    "slideshow": {
     "slide_type": "fragment"
    }
   },
   "outputs": [
    {
     "data": {
      "text/plain": [
       "Timestamp('2020-05-14 00:00:00')"
      ]
     },
     "execution_count": 113,
     "metadata": {},
     "output_type": "execute_result"
    }
   ],
   "source": [
    "pd.to_datetime(\"2020-05-14\")"
   ]
  },
  {
   "cell_type": "markdown",
   "id": "a1a1757d",
   "metadata": {
    "slideshow": {
     "slide_type": "subslide"
    }
   },
   "source": [
    "在上面的代码中可以看出，``to_datetime``方法将不同类型的时间数据字符串转化为 Timestamp 格式：``年-月-日 时:分:秒``。另外一个函数``dt.strftime``可以将 Pandas 的 Timestamp 格式数据转化为其他格式的字符串，例如："
   ]
  },
  {
   "cell_type": "code",
   "execution_count": 114,
   "id": "1b07368b",
   "metadata": {
    "slideshow": {
     "slide_type": "fragment"
    }
   },
   "outputs": [
    {
     "data": {
      "text/html": [
       "<div>\n",
       "<style scoped>\n",
       "    .dataframe tbody tr th:only-of-type {\n",
       "        vertical-align: middle;\n",
       "    }\n",
       "\n",
       "    .dataframe tbody tr th {\n",
       "        vertical-align: top;\n",
       "    }\n",
       "\n",
       "    .dataframe thead th {\n",
       "        text-align: right;\n",
       "    }\n",
       "</style>\n",
       "<table border=\"1\" class=\"dataframe\">\n",
       "  <thead>\n",
       "    <tr style=\"text-align: right;\">\n",
       "      <th></th>\n",
       "      <th>Enrollment date</th>\n",
       "      <th>Statistics</th>\n",
       "      <th>Python</th>\n",
       "      <th>Finance</th>\n",
       "    </tr>\n",
       "  </thead>\n",
       "  <tbody>\n",
       "    <tr>\n",
       "      <th>0</th>\n",
       "      <td>2016-09-15</td>\n",
       "      <td>65</td>\n",
       "      <td>62</td>\n",
       "      <td>64</td>\n",
       "    </tr>\n",
       "    <tr>\n",
       "      <th>1</th>\n",
       "      <td>2017-03-23</td>\n",
       "      <td>58</td>\n",
       "      <td>63</td>\n",
       "      <td>60</td>\n",
       "    </tr>\n",
       "    <tr>\n",
       "      <th>2</th>\n",
       "      <td>2018-09-05</td>\n",
       "      <td>70</td>\n",
       "      <td>78</td>\n",
       "      <td>78</td>\n",
       "    </tr>\n",
       "  </tbody>\n",
       "</table>\n",
       "</div>"
      ],
      "text/plain": [
       "  Enrollment date  Statistics  Python  Finance\n",
       "0      2016-09-15          65      62       64\n",
       "1      2017-03-23          58      63       60\n",
       "2      2018-09-05          70      78       78"
      ]
     },
     "execution_count": 114,
     "metadata": {},
     "output_type": "execute_result"
    }
   ],
   "source": [
    "df = pd.DataFrame(\n",
    "    {\n",
    "        \"Enrollment date\": [\"2016-09-15\", \"2017-03-23\", \"2018-09-05\"],\n",
    "        \"Statistics\": [65, 58, 70],\n",
    "        \"Python\": [62, 63, 78],\n",
    "        \"Finance\": [64, 60, 78],\n",
    "    }\n",
    ")\n",
    "df"
   ]
  },
  {
   "cell_type": "code",
   "execution_count": 115,
   "id": "04ba5f4b",
   "metadata": {
    "slideshow": {
     "slide_type": "subslide"
    }
   },
   "outputs": [
    {
     "data": {
      "text/plain": [
       "'2016-09-15'"
      ]
     },
     "execution_count": 115,
     "metadata": {},
     "output_type": "execute_result"
    }
   ],
   "source": [
    "df.iloc[0, 0]  # original date string"
   ]
  },
  {
   "cell_type": "code",
   "execution_count": 116,
   "id": "155efaab",
   "metadata": {
    "slideshow": {
     "slide_type": "fragment"
    }
   },
   "outputs": [
    {
     "data": {
      "text/html": [
       "<div>\n",
       "<style scoped>\n",
       "    .dataframe tbody tr th:only-of-type {\n",
       "        vertical-align: middle;\n",
       "    }\n",
       "\n",
       "    .dataframe tbody tr th {\n",
       "        vertical-align: top;\n",
       "    }\n",
       "\n",
       "    .dataframe thead th {\n",
       "        text-align: right;\n",
       "    }\n",
       "</style>\n",
       "<table border=\"1\" class=\"dataframe\">\n",
       "  <thead>\n",
       "    <tr style=\"text-align: right;\">\n",
       "      <th></th>\n",
       "      <th>Enrollment date</th>\n",
       "      <th>Statistics</th>\n",
       "      <th>Python</th>\n",
       "      <th>Finance</th>\n",
       "    </tr>\n",
       "  </thead>\n",
       "  <tbody>\n",
       "    <tr>\n",
       "      <th>0</th>\n",
       "      <td>2016-09-15</td>\n",
       "      <td>65</td>\n",
       "      <td>62</td>\n",
       "      <td>64</td>\n",
       "    </tr>\n",
       "    <tr>\n",
       "      <th>1</th>\n",
       "      <td>2017-03-23</td>\n",
       "      <td>58</td>\n",
       "      <td>63</td>\n",
       "      <td>60</td>\n",
       "    </tr>\n",
       "    <tr>\n",
       "      <th>2</th>\n",
       "      <td>2018-09-05</td>\n",
       "      <td>70</td>\n",
       "      <td>78</td>\n",
       "      <td>78</td>\n",
       "    </tr>\n",
       "  </tbody>\n",
       "</table>\n",
       "</div>"
      ],
      "text/plain": [
       "  Enrollment date  Statistics  Python  Finance\n",
       "0      2016-09-15          65      62       64\n",
       "1      2017-03-23          58      63       60\n",
       "2      2018-09-05          70      78       78"
      ]
     },
     "execution_count": 116,
     "metadata": {},
     "output_type": "execute_result"
    }
   ],
   "source": [
    "df[\"Enrollment date\"] = pd.to_datetime(df[\"Enrollment date\"])  # change original date to Python's Timestamp type\n",
    "df"
   ]
  },
  {
   "cell_type": "code",
   "execution_count": 117,
   "id": "ae56223a",
   "metadata": {
    "slideshow": {
     "slide_type": "subslide"
    }
   },
   "outputs": [
    {
     "data": {
      "text/plain": [
       "Timestamp('2016-09-15 00:00:00')"
      ]
     },
     "execution_count": 117,
     "metadata": {},
     "output_type": "execute_result"
    }
   ],
   "source": [
    "df.iloc[0, 0]"
   ]
  },
  {
   "cell_type": "code",
   "execution_count": 118,
   "id": "c3258782",
   "metadata": {
    "slideshow": {
     "slide_type": "fragment"
    }
   },
   "outputs": [
    {
     "data": {
      "text/plain": [
       "0    09-15-16\n",
       "1    03-23-17\n",
       "2    09-05-18\n",
       "Name: Enrollment date, dtype: object"
      ]
     },
     "execution_count": 118,
     "metadata": {},
     "output_type": "execute_result"
    }
   ],
   "source": [
    "df[\"Enrollment date\"].dt.strftime(\"%m-%d-%y\")  # change the date to specific format"
   ]
  },
  {
   "cell_type": "code",
   "execution_count": 119,
   "id": "27c802cf",
   "metadata": {
    "slideshow": {
     "slide_type": "subslide"
    }
   },
   "outputs": [
    {
     "data": {
      "text/plain": [
       "0    09-15-2016\n",
       "1    03-23-2017\n",
       "2    09-05-2018\n",
       "Name: Enrollment date, dtype: object"
      ]
     },
     "execution_count": 119,
     "metadata": {},
     "output_type": "execute_result"
    }
   ],
   "source": [
    "df[\"Enrollment date\"].dt.strftime(\"%m-%d-%Y\")  "
   ]
  },
  {
   "cell_type": "code",
   "execution_count": 120,
   "id": "c85d3735",
   "metadata": {
    "slideshow": {
     "slide_type": "fragment"
    }
   },
   "outputs": [
    {
     "data": {
      "text/plain": [
       "0    09/15/16\n",
       "1    03/23/17\n",
       "2    09/05/18\n",
       "Name: Enrollment date, dtype: object"
      ]
     },
     "execution_count": 120,
     "metadata": {},
     "output_type": "execute_result"
    }
   ],
   "source": [
    "df[\"Enrollment date\"].dt.strftime(\"%D\")  "
   ]
  },
  {
   "cell_type": "code",
   "execution_count": 121,
   "id": "539d660c",
   "metadata": {
    "slideshow": {
     "slide_type": "subslide"
    }
   },
   "outputs": [
    {
     "data": {
      "text/plain": [
       "0    2016-37\n",
       "1    2017-12\n",
       "2    2018-36\n",
       "Name: Enrollment date, dtype: object"
      ]
     },
     "execution_count": 121,
     "metadata": {},
     "output_type": "execute_result"
    }
   ],
   "source": [
    "df[\"Enrollment date\"].dt.strftime(\"%Y-%W\")  "
   ]
  },
  {
   "cell_type": "code",
   "execution_count": 122,
   "id": "50d01eb9",
   "metadata": {
    "slideshow": {
     "slide_type": "fragment"
    }
   },
   "outputs": [
    {
     "data": {
      "text/plain": [
       "0    2016-09-4\n",
       "1    2017-03-4\n",
       "2    2018-09-3\n",
       "Name: Enrollment date, dtype: object"
      ]
     },
     "execution_count": 122,
     "metadata": {},
     "output_type": "execute_result"
    }
   ],
   "source": [
    "df[\"Enrollment date\"].dt.strftime(\"%Y-%m-%w\") "
   ]
  },
  {
   "cell_type": "markdown",
   "id": "4be964c6",
   "metadata": {
    "slideshow": {
     "slide_type": "slide"
    }
   },
   "source": [
    "###  Data aggregation ``resample``* [^1]\n",
    "<hr>\n",
    "\n",
    "[^1]: \\* means this section may not be delivered in class.\n",
    "\n",
    "For many time-series datasets, it's often necessary to aggregate data at specific periodic intervals. This can be achieved using Pandas' `resample` method. To use this method, the DataFrame must have a datetime-like index."
   ]
  },
  {
   "cell_type": "code",
   "execution_count": 123,
   "id": "5e97e5dd",
   "metadata": {
    "slideshow": {
     "slide_type": "subslide"
    }
   },
   "outputs": [
    {
     "data": {
      "text/plain": [
       "DatetimeIndex(['2019-12-24', '2019-12-25', '2019-12-26', '2019-12-27',\n",
       "               '2019-12-28', '2019-12-29', '2019-12-30', '2019-12-31',\n",
       "               '2020-01-01', '2020-01-02'],\n",
       "              dtype='datetime64[ns]', freq='D')"
      ]
     },
     "execution_count": 123,
     "metadata": {},
     "output_type": "execute_result"
    }
   ],
   "source": [
    "import numpy as np\n",
    "\n",
    "index = pd.date_range(\"12/24/2019\", periods=10, freq=\"D\")  # generate a date range\n",
    "index"
   ]
  },
  {
   "cell_type": "code",
   "execution_count": 124,
   "id": "5f491ca4",
   "metadata": {
    "slideshow": {
     "slide_type": "subslide"
    }
   },
   "outputs": [
    {
     "data": {
      "text/html": [
       "<div>\n",
       "<style scoped>\n",
       "    .dataframe tbody tr th:only-of-type {\n",
       "        vertical-align: middle;\n",
       "    }\n",
       "\n",
       "    .dataframe tbody tr th {\n",
       "        vertical-align: top;\n",
       "    }\n",
       "\n",
       "    .dataframe thead th {\n",
       "        text-align: right;\n",
       "    }\n",
       "</style>\n",
       "<table border=\"1\" class=\"dataframe\">\n",
       "  <thead>\n",
       "    <tr style=\"text-align: right;\">\n",
       "      <th></th>\n",
       "      <th>0</th>\n",
       "    </tr>\n",
       "  </thead>\n",
       "  <tbody>\n",
       "    <tr>\n",
       "      <th>2019-12-24</th>\n",
       "      <td>0</td>\n",
       "    </tr>\n",
       "    <tr>\n",
       "      <th>2019-12-25</th>\n",
       "      <td>1</td>\n",
       "    </tr>\n",
       "    <tr>\n",
       "      <th>2019-12-26</th>\n",
       "      <td>2</td>\n",
       "    </tr>\n",
       "    <tr>\n",
       "      <th>2019-12-27</th>\n",
       "      <td>3</td>\n",
       "    </tr>\n",
       "    <tr>\n",
       "      <th>2019-12-28</th>\n",
       "      <td>4</td>\n",
       "    </tr>\n",
       "    <tr>\n",
       "      <th>2019-12-29</th>\n",
       "      <td>5</td>\n",
       "    </tr>\n",
       "    <tr>\n",
       "      <th>2019-12-30</th>\n",
       "      <td>6</td>\n",
       "    </tr>\n",
       "    <tr>\n",
       "      <th>2019-12-31</th>\n",
       "      <td>7</td>\n",
       "    </tr>\n",
       "    <tr>\n",
       "      <th>2020-01-01</th>\n",
       "      <td>8</td>\n",
       "    </tr>\n",
       "    <tr>\n",
       "      <th>2020-01-02</th>\n",
       "      <td>9</td>\n",
       "    </tr>\n",
       "  </tbody>\n",
       "</table>\n",
       "</div>"
      ],
      "text/plain": [
       "            0\n",
       "2019-12-24  0\n",
       "2019-12-25  1\n",
       "2019-12-26  2\n",
       "2019-12-27  3\n",
       "2019-12-28  4\n",
       "2019-12-29  5\n",
       "2019-12-30  6\n",
       "2019-12-31  7\n",
       "2020-01-01  8\n",
       "2020-01-02  9"
      ]
     },
     "execution_count": 124,
     "metadata": {},
     "output_type": "execute_result"
    }
   ],
   "source": [
    "df = pd.DataFrame(np.arange(10), index=index)  # generate a DataFrame with data range as index\n",
    "df"
   ]
  },
  {
   "cell_type": "code",
   "execution_count": 125,
   "id": "cd3f3fcf",
   "metadata": {
    "slideshow": {
     "slide_type": "subslide"
    }
   },
   "outputs": [
    {
     "data": {
      "text/html": [
       "<div>\n",
       "<style scoped>\n",
       "    .dataframe tbody tr th:only-of-type {\n",
       "        vertical-align: middle;\n",
       "    }\n",
       "\n",
       "    .dataframe tbody tr th {\n",
       "        vertical-align: top;\n",
       "    }\n",
       "\n",
       "    .dataframe thead th {\n",
       "        text-align: right;\n",
       "    }\n",
       "</style>\n",
       "<table border=\"1\" class=\"dataframe\">\n",
       "  <thead>\n",
       "    <tr style=\"text-align: right;\">\n",
       "      <th></th>\n",
       "      <th>0</th>\n",
       "    </tr>\n",
       "  </thead>\n",
       "  <tbody>\n",
       "    <tr>\n",
       "      <th>2019-12-31</th>\n",
       "      <td>28</td>\n",
       "    </tr>\n",
       "    <tr>\n",
       "      <th>2020-01-31</th>\n",
       "      <td>17</td>\n",
       "    </tr>\n",
       "  </tbody>\n",
       "</table>\n",
       "</div>"
      ],
      "text/plain": [
       "             0\n",
       "2019-12-31  28\n",
       "2020-01-31  17"
      ]
     },
     "execution_count": 125,
     "metadata": {},
     "output_type": "execute_result"
    }
   ],
   "source": [
    "df.resample(\"ME\").sum()  # use resample to sum the data every month"
   ]
  },
  {
   "cell_type": "code",
   "execution_count": 126,
   "id": "6f4989f5",
   "metadata": {
    "slideshow": {
     "slide_type": "fragment"
    }
   },
   "outputs": [
    {
     "data": {
      "text/html": [
       "<div>\n",
       "<style scoped>\n",
       "    .dataframe tbody tr th:only-of-type {\n",
       "        vertical-align: middle;\n",
       "    }\n",
       "\n",
       "    .dataframe tbody tr th {\n",
       "        vertical-align: top;\n",
       "    }\n",
       "\n",
       "    .dataframe thead th {\n",
       "        text-align: right;\n",
       "    }\n",
       "</style>\n",
       "<table border=\"1\" class=\"dataframe\">\n",
       "  <thead>\n",
       "    <tr style=\"text-align: right;\">\n",
       "      <th></th>\n",
       "      <th>0</th>\n",
       "    </tr>\n",
       "  </thead>\n",
       "  <tbody>\n",
       "    <tr>\n",
       "      <th>2019-12-24</th>\n",
       "      <td>3</td>\n",
       "    </tr>\n",
       "    <tr>\n",
       "      <th>2019-12-27</th>\n",
       "      <td>12</td>\n",
       "    </tr>\n",
       "    <tr>\n",
       "      <th>2019-12-30</th>\n",
       "      <td>21</td>\n",
       "    </tr>\n",
       "    <tr>\n",
       "      <th>2020-01-02</th>\n",
       "      <td>9</td>\n",
       "    </tr>\n",
       "  </tbody>\n",
       "</table>\n",
       "</div>"
      ],
      "text/plain": [
       "             0\n",
       "2019-12-24   3\n",
       "2019-12-27  12\n",
       "2019-12-30  21\n",
       "2020-01-02   9"
      ]
     },
     "execution_count": 126,
     "metadata": {},
     "output_type": "execute_result"
    }
   ],
   "source": [
    "df.resample(\"3D\").sum()  # use resample to sum the data every 3 days"
   ]
  },
  {
   "cell_type": "code",
   "execution_count": 127,
   "id": "ad4ad464",
   "metadata": {
    "slideshow": {
     "slide_type": "subslide"
    }
   },
   "outputs": [
    {
     "data": {
      "text/html": [
       "<div>\n",
       "<style scoped>\n",
       "    .dataframe tbody tr th:only-of-type {\n",
       "        vertical-align: middle;\n",
       "    }\n",
       "\n",
       "    .dataframe tbody tr th {\n",
       "        vertical-align: top;\n",
       "    }\n",
       "\n",
       "    .dataframe thead th {\n",
       "        text-align: right;\n",
       "    }\n",
       "</style>\n",
       "<table border=\"1\" class=\"dataframe\">\n",
       "  <thead>\n",
       "    <tr style=\"text-align: right;\">\n",
       "      <th></th>\n",
       "      <th>0</th>\n",
       "    </tr>\n",
       "  </thead>\n",
       "  <tbody>\n",
       "    <tr>\n",
       "      <th>2019-12-29</th>\n",
       "      <td>15</td>\n",
       "    </tr>\n",
       "    <tr>\n",
       "      <th>2020-01-05</th>\n",
       "      <td>30</td>\n",
       "    </tr>\n",
       "  </tbody>\n",
       "</table>\n",
       "</div>"
      ],
      "text/plain": [
       "             0\n",
       "2019-12-29  15\n",
       "2020-01-05  30"
      ]
     },
     "execution_count": 127,
     "metadata": {},
     "output_type": "execute_result"
    }
   ],
   "source": [
    "df.resample(\"W\").sum()  # use resample to sum the data every week"
   ]
  },
  {
   "cell_type": "markdown",
   "id": "a42bf68b",
   "metadata": {
    "slideshow": {
     "slide_type": "fragment"
    }
   },
   "source": [
    "In the resample method's arguments, `T` represents minutes and `H` represents hours. Besides being used with the `sum()` method, it can also be combined with:\n",
    "\n",
    "- `asfreq()` → Returns the value at the specified frequency (without aggregation).\n",
    "\n",
    "- `ffill()` → Forward fills missing values after resampling.\n",
    "\n",
    "- `apply()` → Applies a custom aggregation function."
   ]
  },
  {
   "cell_type": "markdown",
   "id": "3aff5d4d",
   "metadata": {
    "slideshow": {
     "slide_type": "slide"
    }
   },
   "source": [
    "## Pandas draw picutres*\n",
    "<hr>\n"
   ]
  },
  {
   "cell_type": "markdown",
   "id": "05959c7f-31f6-4dd9-b6c2-461f094f5e38",
   "metadata": {},
   "source": [
    "In addition to visualization with Matplotlib and Seaborn, Pandas also provides its own plotting function plot(). The basic syntax is as follows:\n",
    "\n",
    "<table>\n",
    "     <tr style=\"border-top:solid; border-bottom:solid\">\n",
    "            <th colspan=2 style=\"text-align:center\">DataFrame.plot(x=None, y=None, kind='line', subplots=False, title=None)</th>\n",
    "    </tr>\n",
    "    <tr>\n",
    "        <td style=\"text-align:left\">x</td>\n",
    "        <td style=\"text-align:left\">Column name for x-axis data</td>\n",
    "    </tr>\n",
    "    <tr>\n",
    "        <td style=\"text-align:left\">y</td>\n",
    "        <td style=\"text-align:left\">Column name(s) for y-axis data</td>\n",
    "    </tr>\n",
    "    <tr>  \n",
    "        <td style=\"text-align:left\">kind</td>\n",
    "        <td style=\"text-align:left\">Plot type (default: 'line'). Options: 'bar', 'barh', 'box', 'pie', 'scatter', 'hist', etc.</td>\n",
    "    </tr>\n",
    "    <tr>\n",
    "        <td style=\"text-align:left\">subplots</td>\n",
    "        <td style=\"text-align:left\">Whether to generate separate subplots for each column (True/False)</td>\n",
    "    </tr>\n",
    "    <tr style=\"border-bottom:solid\">\n",
    "        <td style=\"text-align:left\">title</td>\n",
    "        <td style=\"text-align:left\">Title of the plot</td>\n",
    "    </tr>\n",
    "</table>\n",
    "<br>"
   ]
  },
  {
   "cell_type": "code",
   "execution_count": 128,
   "id": "6041e8fc",
   "metadata": {
    "slideshow": {
     "slide_type": "subslide"
    }
   },
   "outputs": [
    {
     "data": {
      "text/html": [
       "<div>\n",
       "<style scoped>\n",
       "    .dataframe tbody tr th:only-of-type {\n",
       "        vertical-align: middle;\n",
       "    }\n",
       "\n",
       "    .dataframe tbody tr th {\n",
       "        vertical-align: top;\n",
       "    }\n",
       "\n",
       "    .dataframe thead th {\n",
       "        text-align: right;\n",
       "    }\n",
       "</style>\n",
       "<table border=\"1\" class=\"dataframe\">\n",
       "  <thead>\n",
       "    <tr style=\"text-align: right;\">\n",
       "      <th></th>\n",
       "      <th>Statistics</th>\n",
       "      <th>Math</th>\n",
       "      <th>English</th>\n",
       "    </tr>\n",
       "  </thead>\n",
       "  <tbody>\n",
       "    <tr>\n",
       "      <th>0</th>\n",
       "      <td>85</td>\n",
       "      <td>82</td>\n",
       "      <td>84</td>\n",
       "    </tr>\n",
       "    <tr>\n",
       "      <th>1</th>\n",
       "      <td>68</td>\n",
       "      <td>63</td>\n",
       "      <td>90</td>\n",
       "    </tr>\n",
       "    <tr>\n",
       "      <th>2</th>\n",
       "      <td>90</td>\n",
       "      <td>88</td>\n",
       "      <td>78</td>\n",
       "    </tr>\n",
       "  </tbody>\n",
       "</table>\n",
       "</div>"
      ],
      "text/plain": [
       "   Statistics  Math  English\n",
       "0          85    82       84\n",
       "1          68    63       90\n",
       "2          90    88       78"
      ]
     },
     "execution_count": 128,
     "metadata": {},
     "output_type": "execute_result"
    }
   ],
   "source": [
    "import pandas as pd\n",
    "\n",
    "df = pd.DataFrame(\n",
    "    {\"Statistics\": [85, 68, 90], \"Math\": [82, 63, 88], \"English\": [84, 90, 78]}\n",
    ")\n",
    "df"
   ]
  },
  {
   "cell_type": "code",
   "execution_count": 129,
   "id": "3fac1533",
   "metadata": {
    "slideshow": {
     "slide_type": "subslide"
    }
   },
   "outputs": [
    {
     "data": {
      "text/plain": [
       "<Axes: >"
      ]
     },
     "execution_count": 129,
     "metadata": {},
     "output_type": "execute_result"
    },
    {
     "data": {
      "image/png": "[encoded data removed]",
      "text/plain": [
       "<Figure size 640x480 with 1 Axes>"
      ]
     },
     "metadata": {},
     "output_type": "display_data"
    }
   ],
   "source": [
    "df.plot()"
   ]
  },
  {
   "cell_type": "markdown",
   "id": "7c2c2df5",
   "metadata": {
    "slideshow": {
     "slide_type": "subslide"
    }
   },
   "source": [
    "The above picture shows that the `plot` method of Pandas draw a line chart for each column."
   ]
  },
  {
   "cell_type": "code",
   "execution_count": 130,
   "id": "1c5cfeec",
   "metadata": {
    "slideshow": {
     "slide_type": "fragment"
    }
   },
   "outputs": [
    {
     "data": {
      "text/plain": [
       "<Axes: title={'center': 'My picture'}>"
      ]
     },
     "execution_count": 130,
     "metadata": {},
     "output_type": "execute_result"
    },
    {
     "data": {
      "image/png": "[encoded data removed]",
      "text/plain": [
       "<Figure size 640x480 with 1 Axes>"
      ]
     },
     "metadata": {},
     "output_type": "display_data"
    }
   ],
   "source": [
    "df.plot(kind=\"bar\", title=\"My picture\")  # draw the bar chart"
   ]
  },
  {
   "cell_type": "code",
   "execution_count": 131,
   "id": "9ae37d22",
   "metadata": {
    "slideshow": {
     "slide_type": "subslide"
    }
   },
   "outputs": [
    {
     "data": {
      "text/plain": [
       "array([<Axes: title={'center': 'Statistics'}>,\n",
       "       <Axes: title={'center': 'Math'}>,\n",
       "       <Axes: title={'center': 'English'}>], dtype=object)"
      ]
     },
     "execution_count": 131,
     "metadata": {},
     "output_type": "execute_result"
    },
    {
     "data": {
      "image/png": "[encoded data removed]",
      "text/plain": [
       "<Figure size 640x480 with 3 Axes>"
      ]
     },
     "metadata": {},
     "output_type": "display_data"
    }
   ],
   "source": [
    "df.plot(kind=\"bar\", subplots=True)  # generate subplots for each column"
   ]
  },
  {
   "cell_type": "code",
   "execution_count": 132,
   "id": "5dbc8dd0",
   "metadata": {
    "slideshow": {
     "slide_type": "subslide"
    }
   },
   "outputs": [
    {
     "data": {
      "text/plain": [
       "<Axes: xlabel='Math', ylabel='Statistics'>"
      ]
     },
     "execution_count": 132,
     "metadata": {},
     "output_type": "execute_result"
    },
    {
     "data": {
      "image/png": "[encoded data removed]",
      "text/plain": [
       "<Figure size 640x480 with 1 Axes>"
      ]
     },
     "metadata": {},
     "output_type": "display_data"
    }
   ],
   "source": [
    "df.plot(x=\"Math\", y=\"Statistics\", kind=\"scatter\")  # draw scatter chart with given axis"
   ]
  },
  {
   "cell_type": "markdown",
   "id": "12e878fa",
   "metadata": {
    "slideshow": {
     "slide_type": "slide"
    }
   },
   "source": [
    "\n",
    "Pandas provides a comprehensive set of data processing methods with numerous argument configurations. Due to space limitations, this book does not elaborate on them in detail. When using Pandas for data processing, readers are encouraged to consult the [official documentation](https://pandas.pydata.org/docs/) for further reference."
   ]
  },
  {
   "cell_type": "markdown",
   "id": "f0eec8d3",
   "metadata": {
    "slideshow": {
     "slide_type": "subslide"
    }
   },
   "source": [
    "## Exercises\n",
    "<hr>"
   ]
  },
  {
   "cell_type": "markdown",
   "id": "97b4605c-d97e-4414-b5eb-77dd99e75569",
   "metadata": {},
   "source": [
    "```{exercise}\n",
    ":label: creat-df\n",
    "How to creat a DataFrame for the following panel data?\n",
    "\n",
    "|Nation|Capital|\n",
    "|--|--|\n",
    "|UK|London|\n",
    "|US|Washington DC|\n",
    "|China|Beijing|\n",
    "```"
   ]
  },
  {
   "cell_type": "markdown",
   "id": "7cf49b32-e24b-4470-97d5-92a8a765c518",
   "metadata": {},
   "source": [
    "````{solution} creat-df\n",
    ":class: dropdown\n",
    "```python\n",
    "import pandas as pd\n",
    "\n",
    "df = pd.DataFrame({'Nation': ['UK', 'US', 'China'], 'Capital': ['London', 'Washinton DC', 'Beijing']})\n",
    "```\n",
    "\n",
    "or\n",
    "```python\n",
    "import pandas as pd\n",
    "import numpy as pd\n",
    "\n",
    "data = np.array([['UK', 'US', 'China'], ['London', 'Washinton DC', 'Beijing']])\n",
    "df = pd.DataFrame(data, columns=['Nation', 'Capital'])\n",
    "```\n",
    "\n",
    "````"
   ]
  },
  {
   "cell_type": "markdown",
   "id": "7f928837-ea02-4b32-ac31-5dcb1e7301f3",
   "metadata": {},
   "source": [
    "```{exercise}\n",
    ":label: read-csv\n",
    "How to read a CSV file into a Pandas DataFrame?\n",
    "\n",
    "A.&nbsp;&nbsp;  pd.load_csv()\n",
    "\n",
    "B.&nbsp;&nbsp;  pd.read_csv()\n",
    "\n",
    "C.&nbsp;&nbsp;  pd.open_csv()\n",
    "\n",
    "D.&nbsp;&nbsp;  pd.import_csv()\n",
    "\n",
    "\n",
    "```"
   ]
  },
  {
   "cell_type": "markdown",
   "id": "d9e41839-4fda-4dd0-9c71-7a84eaf9ccad",
   "metadata": {},
   "source": [
    "````{solution} read-csv\n",
    ":class: dropdown\n",
    "B\n",
    "````"
   ]
  },
  {
   "cell_type": "markdown",
   "id": "1bc5903d-c893-45b7-8be4-5f9cff24a982",
   "metadata": {},
   "source": [
    "```{exercise}\n",
    ":label: row-index\n",
    "What is the default index type when a DataFrame is created?\n",
    "\n",
    "A.&nbsp;&nbsp;  Numeric index starting from 1\n",
    "\n",
    "B.&nbsp;&nbsp;  Alphanumeric index based on row number\n",
    "\n",
    "C.&nbsp;&nbsp;  Numeric index starting from 0\n",
    "\n",
    "D.&nbsp;&nbsp;  Strings\n",
    "\n",
    "\n",
    "```"
   ]
  },
  {
   "cell_type": "markdown",
   "id": "48c6d068-03c0-4b46-9c38-6060bbcec70c",
   "metadata": {},
   "source": [
    "````{solution} row-index\n",
    ":class: dropdown\n",
    "C\n",
    "````"
   ]
  },
  {
   "cell_type": "markdown",
   "id": "6bfe02d6-f59c-4e51-b86a-2ff842ffa4e1",
   "metadata": {},
   "source": [
    "```{exercise}\n",
    ":label: acess-data\n",
    "How can you select a specific column 'Score' from a DataFrame 'df'?\n",
    "\n",
    "A.&nbsp;&nbsp;  df('Score')\n",
    "\n",
    "B.&nbsp;&nbsp;  df.select_column('Score')\n",
    "\n",
    "C.&nbsp;&nbsp;  df.get_column('Score')\n",
    "\n",
    "D.&nbsp;&nbsp;  df['Score']\n",
    "\n",
    "\n",
    "```"
   ]
  },
  {
   "cell_type": "markdown",
   "id": "37c82e56-2495-41e7-bb13-a5e0b7cfe27e",
   "metadata": {},
   "source": [
    "````{solution} acess-data\n",
    ":class: dropdown\n",
    "D\n",
    "````"
   ]
  },
  {
   "cell_type": "markdown",
   "id": "af66997a-0511-459c-8a4d-3dc51b4c227b",
   "metadata": {},
   "source": [
    "```{exercise}\n",
    ":label:  head-data\n",
    "What is the purpose of the head() method in Pandas?\n",
    "\n",
    "A.&nbsp;&nbsp;  To display the last few rows of a DataFrame\n",
    "\n",
    "B.&nbsp;&nbsp;  To display the first few rows of a DataFrame\n",
    "\n",
    "C.&nbsp;&nbsp;  To display summary statistics of a DataFrame\n",
    "\n",
    "D.&nbsp;&nbsp;  To display maximums of a DataFrame\n",
    "\n",
    "\n",
    "```"
   ]
  },
  {
   "cell_type": "markdown",
   "id": "b198de3a-2225-41b7-83a2-0b30a44f5eba",
   "metadata": {},
   "source": [
    "````{solution} head-data\n",
    ":class: dropdown\n",
    "B\n",
    "````"
   ]
  },
  {
   "cell_type": "markdown",
   "id": "72990891-0485-4774-bd61-a3640b3cf2a4",
   "metadata": {},
   "source": [
    "```{exercise}\n",
    ":label: shape\n",
    "What does the shape attribute of a DataFrame represent??\n",
    "\n",
    "A.&nbsp;&nbsp;  Get the number of rows and columns\n",
    "\n",
    "B.&nbsp;&nbsp;  Get the number of cells\n",
    "\n",
    "C.&nbsp;&nbsp;  Get the data types of columns\n",
    "\n",
    "D.&nbsp;&nbsp;  Get the number of rows\n",
    "\n",
    "\n",
    "```"
   ]
  },
  {
   "cell_type": "markdown",
   "id": "331af19e-7420-451a-8233-40ff4ba5d1e1",
   "metadata": {},
   "source": [
    "````{solution} shape\n",
    ":class: dropdown\n",
    "A\n",
    "````"
   ]
  },
  {
   "cell_type": "markdown",
   "id": "2b8a278d-8f60-41da-9ac5-757a0a81da4e",
   "metadata": {},
   "source": [
    "```{exercise}\n",
    ":label: filter\n",
    "How can you filter rows in a DataFrame 'df' based on a condition 'condition'?\n",
    "\n",
    "A.&nbsp;&nbsp;  df.filter(condition)\n",
    "\n",
    "B.&nbsp;&nbsp;  df[condition]\n",
    "\n",
    "C.&nbsp;&nbsp;  df.filter_rows(condition)\n",
    "\n",
    "D.&nbsp;&nbsp;  df.select_rows(condition)\n",
    "\n",
    "\n",
    "```"
   ]
  },
  {
   "cell_type": "markdown",
   "id": "8ecd7334-aa11-4a9d-a779-d1b18772cc0d",
   "metadata": {},
   "source": [
    "````{solution} filter\n",
    ":class: dropdown\n",
    "B\n",
    "````"
   ]
  },
  {
   "cell_type": "markdown",
   "id": "81e2c2f3-eaed-481c-a3b2-692001efacdd",
   "metadata": {},
   "source": [
    "```{exercise}\n",
    ":label: drop\n",
    "How to drop a column 'name' from a DataFrame 'df' in Pandas?\n",
    "\n",
    "A.&nbsp;&nbsp;  df.drop('name', axis=1)\n",
    "\n",
    "B.&nbsp;&nbsp;  df.drop('name')\n",
    "\n",
    "C.&nbsp;&nbsp;  df.remove('name', axis=1)\n",
    "\n",
    "D.&nbsp;&nbsp;  df.remove('name')\n",
    "\n",
    "\n",
    "```"
   ]
  },
  {
   "cell_type": "markdown",
   "id": "92434938-ad50-4ea6-aa41-e6319e703317",
   "metadata": {},
   "source": [
    "````{solution} drop\n",
    ":class: dropdown\n",
    "A\n",
    "````"
   ]
  },
  {
   "cell_type": "markdown",
   "id": "c77a454f-7ffd-4ee3-b8a6-7cffe58e3a28",
   "metadata": {},
   "source": [
    "```{exercise}\n",
    ":label: describe\n",
    "What is the purpose of the describe() method in Pandas?\n",
    "\n",
    "A.&nbsp;&nbsp;  To describe the data types of columns\n",
    "\n",
    "B.&nbsp;&nbsp;  To provide information about missing values\n",
    "\n",
    "C.&nbsp;&nbsp;  To provide the size of the data\n",
    "\n",
    "D.&nbsp;&nbsp;  To display summary statistics of a DataFrame\n",
    "\n",
    "\n",
    "```"
   ]
  },
  {
   "cell_type": "markdown",
   "id": "a1f8864c-aa3e-4287-b865-3c42ddfe3956",
   "metadata": {},
   "source": [
    "````{solution} describe\n",
    ":class: dropdown\n",
    "D\n",
    "````"
   ]
  },
  {
   "cell_type": "markdown",
   "id": "3bc75034-abf6-4ea2-901b-dc153159e43d",
   "metadata": {},
   "source": [
    "```{exercise}\n",
    ":label: merge\n",
    "How to merge two DataFrames based on a common column in Pandas?\n",
    "\n",
    "A.&nbsp;&nbsp;  df.join()\n",
    "\n",
    "B.&nbsp;&nbsp;  df.concate()\n",
    "\n",
    "C.&nbsp;&nbsp;  df.combine()\n",
    "\n",
    "D.&nbsp;&nbsp;  df.merge()\n",
    "\n",
    "```"
   ]
  },
  {
   "cell_type": "markdown",
   "id": "911d6eab-6ce0-4762-aecb-ae5010fcd68d",
   "metadata": {},
   "source": [
    "````{solution} merge\n",
    ":class: dropdown\n",
    "D\n",
    "````"
   ]
  },
  {
   "cell_type": "markdown",
   "id": "0b1343a0-ca64-41c0-a942-2b84cc38f807",
   "metadata": {},
   "source": [
    "```{exercise}\n",
    ":label: astype\n",
    "What does the astype() method in Pandas do?\n",
    "\n",
    "A.&nbsp;&nbsp;  Converts a DataFrame to a NumPy array\n",
    "\n",
    "B.&nbsp;&nbsp;  Converts data types of columns in a DataFrame\n",
    "\n",
    "C.&nbsp;&nbsp;  Adds a new column to a DataFrame\n",
    "\n",
    "D.&nbsp;&nbsp;  Removes duplicate values from a DataFrame\n",
    "\n",
    "```"
   ]
  },
  {
   "cell_type": "markdown",
   "id": "577bd83d-7403-4718-81c4-419209dba895",
   "metadata": {},
   "source": [
    "````{solution} astype\n",
    ":class: dropdown\n",
    "B\n",
    "````"
   ]
  },
  {
   "cell_type": "markdown",
   "id": "bad07be3-fc1c-47f2-9952-b59cd3b2e924",
   "metadata": {},
   "source": [
    "```{exercise}\n",
    ":label: apply\n",
    "How to apply a custom function to each element in a Pandas DataFrame 'df'?\n",
    "\n",
    "A.&nbsp;&nbsp;  df.apply()\n",
    "\n",
    "B.&nbsp;&nbsp;  df.map()\n",
    "\n",
    "C.&nbsp;&nbsp;  df.modify()\n",
    "\n",
    "D.&nbsp;&nbsp;  df.call()\n",
    "\n",
    "```"
   ]
  },
  {
   "cell_type": "markdown",
   "id": "ab6304d5-fb67-49e8-927d-d1cc3f6c57b9",
   "metadata": {},
   "source": [
    "````{solution} apply\n",
    ":class: dropdown\n",
    "A\n",
    "````"
   ]
  },
  {
   "cell_type": "markdown",
   "id": "07381841-3f99-4762-86aa-b815aced8362",
   "metadata": {},
   "source": [
    "```{exercise}\n",
    ":label: reset_index\n",
    "How to reset the index of a Pandas DataFrame 'df'?\n",
    "\n",
    "A.&nbsp;&nbsp;  df.set_index()\n",
    "\n",
    "B.&nbsp;&nbsp;  df.reset_index()\n",
    "\n",
    "C.&nbsp;&nbsp;  df.index_set()\n",
    "\n",
    "D.&nbsp;&nbsp;  df.index_reset()\n",
    "\n",
    "```"
   ]
  },
  {
   "cell_type": "markdown",
   "id": "2ce1a245-2eb2-46f6-a24b-b85e2db9a6b6",
   "metadata": {},
   "source": [
    "````{solution} reset_index\n",
    ":class: dropdown\n",
    "B\n",
    "````"
   ]
  },
  {
   "cell_type": "markdown",
   "id": "8fe41790-7578-4308-aec6-24c4efcc785c",
   "metadata": {},
   "source": [
    "```{exercise}\n",
    ":label: duplicate\n",
    "How to remove duplicate values in a Pandas DataFrame 'df'?\n",
    "\n",
    "A.&nbsp;&nbsp;  df.delete_duplicate()\n",
    "\n",
    "B.&nbsp;&nbsp;  df.eliminate_duplicate()\n",
    "\n",
    "C.&nbsp;&nbsp;  df.remove_duplicate()\n",
    "\n",
    "D.&nbsp;&nbsp;  df.drop_duplicate()\n",
    "\n",
    "```"
   ]
  },
  {
   "cell_type": "markdown",
   "id": "fefba3a3-68a2-4ebc-8484-b56c616e03e3",
   "metadata": {},
   "source": [
    "````{solution} duplicate\n",
    ":class: dropdown\n",
    "D\n",
    "````"
   ]
  },
  {
   "cell_type": "markdown",
   "id": "ce8f4a30-8517-45bc-8bff-361fcb5aaef4",
   "metadata": {},
   "source": [
    "```{exercise}\n",
    ":label: missing-value\n",
    "Which of the following method can handle missing values in a Pandas DataFrame 'df'?\n",
    "\n",
    "A.&nbsp;&nbsp;  df.fillna()\n",
    "\n",
    "B.&nbsp;&nbsp;  df.dropna()\n",
    "\n",
    "C.&nbsp;&nbsp;  Both A and B\n",
    "\n",
    "D.&nbsp;&nbsp;  Neither A and B\n",
    "\n",
    "```"
   ]
  },
  {
   "cell_type": "markdown",
   "id": "1e1d8d08-1dcb-48a7-9fed-67f57a6cb242",
   "metadata": {},
   "source": [
    "````{solution} missing-value\n",
    ":class: dropdown\n",
    "C\n",
    "````"
   ]
  },
  {
   "cell_type": "markdown",
   "id": "4daa05c8-e32d-4bcb-8fe4-8b52869aa14d",
   "metadata": {},
   "source": [
    "```{exercise}\n",
    ":label: save\n",
    "How to save a Pandas DataFrame 'df' to a CSV file 'data.csv'?\n",
    "\n",
    "A.&nbsp;&nbsp;  df.save_csv('data.csv')\n",
    "\n",
    "B.&nbsp;&nbsp;  df.to_csv('data.csv')\n",
    "\n",
    "C.&nbsp;&nbsp;  df.csv('data.csv')\n",
    "\n",
    "D.&nbsp;&nbsp;  df.export_csv('data.csv')\n",
    "\n",
    "```"
   ]
  },
  {
   "cell_type": "markdown",
   "id": "abbef1e8-415c-45be-a08d-e16426f9f620",
   "metadata": {},
   "source": [
    "````{solution} save\n",
    ":class: dropdown\n",
    "B\n",
    "````"
   ]
  },
  {
   "cell_type": "markdown",
   "id": "64c54ff2",
   "metadata": {
    "slideshow": {
     "slide_type": "fragment"
    }
   },
   "source": [
    "```{exercise-start}\n",
    ":label: pandas-read\n",
    "```\n",
    "For the following panel data:\n",
    "\n",
    "|Student|Module1|Module2|Module3|\n",
    "|--|--|--|--|\n",
    "|Stu1| 50| 45 |56|\n",
    "|Stu2| 81| 76 |73|\n",
    "|Stu3| 60| 65 |62|\n",
    "|Stu4| 77| 58 |60|\n",
    "|Stu5| 60| 55 |53|\n",
    "|Stu6| 40| 55 |53|\n",
    "|Stu7| 57| 65 |70|\n",
    "\n",
    "Use Pandas to achieve the following:\n",
    "\n",
    "- Put the above panel data to a Pandas DataFrame.\n",
    "- Drop the student row who has modul score less than 50 (< 50).\n",
    "- Output the average score, maximum score of each module for the remnant students.\n",
    "- Rank the remnant students by the average score of all modules.\n",
    "- Output the final result to a csv file named 'output.csv'.\n",
    "\n",
    "```{exercise-end}\n",
    "```"
   ]
  },
  {
   "cell_type": "markdown",
   "id": "c5aceaeb-41f7-435b-b7f5-300c39a6c347",
   "metadata": {},
   "source": [
    "````{solution} pandas-read\n",
    ":class: dropdown\n",
    "\n",
    "```python\n",
    "import pandas as pd\n",
    "import numpy as np\n",
    "\n",
    "columns = ['Student', 'Module1', 'Module2', 'Module3']\n",
    "np.array([['Stu1', 50, 45, 56], ['Stu2', 81, 76, 73]])\n",
    "\n",
    "```\n",
    "````"
   ]
  },
  {
   "cell_type": "markdown",
   "id": "a18de081",
   "metadata": {},
   "source": [
    "<script src=\"https://giscus.app/client.js\"\n",
    "        data-repo=\"robinchen121/book-Python-Data-Science\"\n",
    "        data-repo-id=\"R_kgDOKFdyOw\"\n",
    "        data-category=\"Announcements\"\n",
    "        data-category-id=\"DIC_kwDOKFdyO84CgWHi\"\n",
    "        data-mapping=\"pathname\"\n",
    "        data-strict=\"0\"\n",
    "        data-reactions-enabled=\"1\"\n",
    "        data-emit-metadata=\"0\"\n",
    "        data-input-position=\"bottom\"\n",
    "        data-theme=\"light\"\n",
    "        data-lang=\"en\"\n",
    "        crossorigin=\"anonymous\"\n",
    "        async>\n",
    "</script>"
   ]
  },
  {
   "cell_type": "markdown",
   "id": "757369e2",
   "metadata": {},
   "source": [
    "<!-- Toogle google translation -->\n",
    "<div id=\"google_translate_element\"></div>\n",
    "<script type=\"text/javascript\">\n",
    "      function googleTranslateElementInit() {\n",
    "        new google.translate.TranslateElement({ pageLanguage: 'en',\n",
    "                  includedLanguages: 'zh-CN,zh-TW,en,ja,ko,de,ru,fr,es,it,pt,hi,ar,fa',\n",
    "layout: google.translate.TranslateElement.InlineLayout.SIMPLE }, 'google_translate_element');\n",
    "      }\n",
    "</script>\n",
    "<script type=\"text/javascript\"\n",
    "      src=\"https://translate.google.com/translate_a/element.js?cb=googleTranslateElementInit\"\n",
    "></script>\n",
    "<br>"
   ]
  },
  {
   "cell_type": "markdown",
   "id": "4df98f5b",
   "metadata": {},
   "source": [
    "<script src=\"https://giscus.app/client.js\"\n",
    "        data-repo=\"robinchen121/book-Python-Data-Science\"\n",
    "        data-repo-id=\"R_kgDOKFdyOw\"\n",
    "        data-category=\"Announcements\"\n",
    "        data-category-id=\"DIC_kwDOKFdyO84CgWHi\"\n",
    "        data-mapping=\"pathname\"\n",
    "        data-strict=\"0\"\n",
    "        data-reactions-enabled=\"1\"\n",
    "        data-emit-metadata=\"0\"\n",
    "        data-input-position=\"bottom\"\n",
    "        data-theme=\"light\"\n",
    "        data-lang=\"en\"\n",
    "        crossorigin=\"anonymous\"\n",
    "        async>\n",
    "</script>"
   ]
  }
 ],
 "metadata": {
  "kernelspec": {
   "display_name": "Python [conda env:base] *",
   "language": "python",
   "name": "conda-base-py"
  },
  "language_info": {
   "codemirror_mode": {
    "name": "ipython",
    "version": 3
   },
   "file_extension": ".py",
   "mimetype": "text/x-python",
   "name": "python",
   "nbconvert_exporter": "python",
   "pygments_lexer": "ipython3",
   "version": "3.12.2"
  }
 },
 "nbformat": 4,
 "nbformat_minor": 5
}