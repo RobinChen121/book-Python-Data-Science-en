{
 "cells": [
  {
   "cell_type": "markdown",
   "id": "d86ec693",
   "metadata": {},
   "source": [
    "# Python 面向对象编程\n",
    "<hr>"
   ]
  },
  {
   "cell_type": "markdown",
   "id": "0f8ce7a6",
   "metadata": {},
   "source": [
    "Python 是一种支持面向对象编程（Object Oriented Programming, OOP）的语言。面向对象编程是一种编程范式，它将数据和操作数据的函数封装在对象中，通过类（Class）和对象（Object）来组织代码，使得代码更易于理解、维护、扩展和重用, 特别适合开发大型、复杂的系统。"
   ]
  },
  {
   "cell_type": "markdown",
   "id": "56481c21",
   "metadata": {},
   "source": [
    "## 类, 对象, 属性, 方法\n",
    "<hr>"
   ]
  },
  {
   "cell_type": "markdown",
   "id": "54b360bd",
   "metadata": {},
   "source": [
    "面向对象编程中，类是对象的模板或蓝图，描述一类事物的属性（变量）和行为（方法）；而对象是类的实例，具体体现类的属性和行为。例如，定义企业员工为一个类，该类中，可以包含姓名，工资，工龄，职务等属性；而具体的一个企业员工张三或李四就是这个类的一个实例。打个比喻，类就像是“蛋糕模具”，对象是用这个模具做出的“蛋糕”。"
   ]
  },
  {
   "cell_type": "markdown",
   "id": "cb007720",
   "metadata": {},
   "source": [
    "Python 通过 `class` 来定义一个类，并在类中进一步定义类的`属性`（数据）和`方法`（函数）。语法格式如下："
   ]
  },
  {
   "cell_type": "markdown",
   "id": "91715f15",
   "metadata": {},
   "source": [
    "<table>   \n",
    "    <tr style=\"border-bottom:solid\">\n",
    "     </tr>\n",
    "    <tr>\n",
    "        <td style=\"text-align:left\">class ClassName:</td>\n",
    "    </tr>\n",
    "    <tr>\n",
    "        <td style=\"text-align:left\">&nbsp;&nbsp;&nbsp;&nbsp;&nbsp;&nbsp;&lt;statement_block_1&gt;</td>\n",
    "    </tr>\n",
    "    <tr>\n",
    "        <td style=\"text-align:left\">&nbsp;&nbsp;&nbsp;&nbsp;&nbsp;&nbsp;&lt;statement_block_2&gt;</td>\n",
    "    </tr>\n",
    "    <tr>\n",
    "        <td style=\"text-align:left\">&nbsp;&nbsp;&nbsp;&nbsp;&nbsp;&nbsp;&nbsp;...</td>\n",
    "    </tr>\n",
    "    <tr style=\"border-bottom:solid\">\n",
    "        <td style=\"text-align:left\">&nbsp;&nbsp;&nbsp;&nbsp;&nbsp;&nbsp;&lt;statement_block_N&gt;</td>\n",
    "    </tr>\n",
    "</table>\n",
    "<br />"
   ]
  },
  {
   "cell_type": "markdown",
   "id": "506ee3ae",
   "metadata": {},
   "source": [
    "下面的例子中，我们定义一个员工类："
   ]
  },
  {
   "cell_type": "code",
   "execution_count": 1,
   "id": "3026edf1",
   "metadata": {},
   "outputs": [
    {
     "name": "stdout",
     "output_type": "stream",
     "text": [
      "Hello, everyone!\n",
      "My department is business schoool.\n"
     ]
    }
   ],
   "source": [
    "class Employee:\n",
    "    # 类的属性\n",
    "    department = \"business school\"  # 普通属性\n",
    "    __age = 20  # 前缀双下划线命名的变量为类的私有属性\n",
    "\n",
    "    # 类的方法\n",
    "    def get_age(self):\n",
    "        return self.__age\n",
    "\n",
    "    def say_hello(self):\n",
    "        print(\"Hello, everyone!\")\n",
    "\n",
    "\n",
    "john = Employee()  # 实例化一个类\n",
    "john.say_hello()  # 访问对象里的方法\n",
    "print(\"My department is %s.\" % john.department)  # 访问对象里的属性"
   ]
  },
  {
   "cell_type": "markdown",
   "id": "e1c88d9d",
   "metadata": {},
   "source": [
    "上面的例子中，我们定义了一个 Employee 类，有两个属性：一个普通属性和一个私有属性。通过实例化一个类，我们就可以通过实例访问类里面的一些属性和方法。"
   ]
  },
  {
   "cell_type": "markdown",
   "id": "da95ca22",
   "metadata": {},
   "source": [
    "前缀双下划线命名的变量为类的私有属性，**不能在类外部直接访问**，但可以在类里面定义一个访问私有属性的方法，然后调用方法进行访问。"
   ]
  },
  {
   "cell_type": "code",
   "execution_count": 25,
   "id": "ec5ffd29",
   "metadata": {},
   "outputs": [
    {
     "name": "stdout",
     "output_type": "stream",
     "text": [
      "age is 20\n"
     ]
    }
   ],
   "source": [
    "print(\"age is\", john.get_age())"
   ]
  },
  {
   "cell_type": "markdown",
   "id": "e0fa4d90",
   "metadata": {},
   "source": [
    "如果直接在对象 john 访问私有属性 \\_\\_age (例如 print(john.\\_\\_age))，程序会报错。"
   ]
  },
  {
   "cell_type": "markdown",
   "id": "fbbb503d",
   "metadata": {},
   "source": [
    "````{code-block} python3\n",
    "print(john.__age)\n",
    "````"
   ]
  },
  {
   "cell_type": "markdown",
   "id": "90e83802",
   "metadata": {},
   "source": [
    "````{note}\n",
    "- 前缀双下划线命名的变量或函数为类的私有属性或方法，不能在类外部直接访问。\n",
    "- 前缀单下划线命名的变量或函数为类的守保护属性或方法，可以在类外部直接访问，但不推荐访问。\n",
    "````"
   ]
  },
  {
   "cell_type": "markdown",
   "id": "2cfad51f",
   "metadata": {},
   "source": [
    "## 类的初始化 \\_\\_init\\_\\_\n",
    "<hr>"
   ]
  },
  {
   "cell_type": "markdown",
   "id": "f656b0db",
   "metadata": {},
   "source": [
    "类有一个名为 \\_\\_init\\_\\_() 的特殊方法，该方法在类实例化时会自动调用，进行对象的初始化。例如："
   ]
  },
  {
   "cell_type": "code",
   "execution_count": 11,
   "id": "f49420d5",
   "metadata": {},
   "outputs": [
    {
     "name": "stdout",
     "output_type": "stream",
     "text": [
      "Hello, everyone! My name is John.\n",
      "My department is engineering school.\n"
     ]
    }
   ],
   "source": [
    "class Employee:\n",
    "    # 类的属性\n",
    "    department = \"business school\"  # 普通属性\n",
    "    __age = 20  # 前缀双下划线命名的变量为类的私有属性\n",
    "\n",
    "    # 类的初始化方法\n",
    "    def __init__(self, name, age, department):\n",
    "        self.name = name\n",
    "        self.__age = age\n",
    "        self.department = department\n",
    "\n",
    "    # 类的方法\n",
    "    def get_age(self):\n",
    "        return self.__age\n",
    "\n",
    "    def say_hello(self):\n",
    "        print(\"Hello, everyone! My name is %s.\" % self.name)\n",
    "\n",
    "\n",
    "john = Employee(\"John\", 25, \"engineering school\")  # 实例化一个类，自动调用  __init__(）初始化\n",
    "john.say_hello()  # 访问类里的方法\n",
    "print(\"My department is %s.\" % john.department)  # 访问类里的属性"
   ]
  },
  {
   "cell_type": "markdown",
   "id": "25a5d8e1",
   "metadata": {},
   "source": [
    "上面的例子中，\\_\\_init\\_\\_ 方法初始化了类的多个属性，可以包括\\_\\_init\\_\\_ 方法前面未被类声明的属性。而已经声明的属性值被\\_\\_init\\_\\_ 方法中的参数值覆盖。"
   ]
  },
  {
   "cell_type": "markdown",
   "id": "60aae455",
   "metadata": {},
   "source": [
    "````{note}\n",
    "类的方法与普通函数有一个显著的区别，它们的第一个参数总是 self，self 代表的是类的实例。\n",
    "````"
   ]
  },
  {
   "cell_type": "markdown",
   "id": "d140507c",
   "metadata": {},
   "source": [
    "## 类的继承与方法重写\n",
    "<hr>"
   ]
  },
  {
   "cell_type": "markdown",
   "id": "7222327e",
   "metadata": {},
   "source": [
    "Python 支持类的继承，即一个类可以继承另一个类的所有属性和方法，还可以添加新的属性，新的方法或者重写另一个类的方法。"
   ]
  },
  {
   "cell_type": "markdown",
   "id": "0eb9dafb",
   "metadata": {},
   "source": [
    "例如，我们可以添加一个类 NewEmployee，继承 Employ 类。"
   ]
  },
  {
   "cell_type": "code",
   "execution_count": 28,
   "id": "cc22e273",
   "metadata": {},
   "outputs": [
    {
     "name": "stdout",
     "output_type": "stream",
     "text": [
      "Hi! My name is John.\n",
      "I have passed probation.\n"
     ]
    }
   ],
   "source": [
    "class NewEmployee(Employee):  # 小括号内为所继承的父类名\n",
    "    under_probation = True  # 子类自己的属性\n",
    "\n",
    "    def __init__(self, under_probation, *args, **kwargs):\n",
    "        super().__init__(*args, **kwargs)  # 调用父类的初始化函数\n",
    "        self.under_probation = under_probation\n",
    "\n",
    "    # 重写父类的方法\n",
    "    def say_hello(self):\n",
    "        print(\"Hi! My name is %s.\" % self.name)\n",
    "\n",
    "    # 调用父类的方法\n",
    "    def age_range(self):\n",
    "        if super().get_age() >= 30:  # 调用父类的方法\n",
    "            print(\"I am over 30s\")\n",
    "        else:\n",
    "            print(\"I am under 30s\")\n",
    "\n",
    "    # 自己的方法\n",
    "    def probabtion_info(self):\n",
    "        if self.under_probation:\n",
    "            print(\"I am under probation.\")\n",
    "        else:\n",
    "            print(\"I have passed probation.\")\n",
    "\n",
    "\n",
    "tom = NewEmployee(\n",
    "    under_probation=False, name=\"John\", age=25, department=\"engineering school\"\n",
    ")\n",
    "tom.say_hello()\n",
    "tom.probabtion_info()"
   ]
  },
  {
   "cell_type": "markdown",
   "id": "916c1ce9",
   "metadata": {},
   "source": [
    "上面的例子中，使用了`super()`调用了父类的 \\_\\_init\\_\\_ 与 get_age 方法，并重写父类的 say_hello 方法。"
   ]
  },
  {
   "cell_type": "markdown",
   "id": "ec843086",
   "metadata": {},
   "source": [
    "Python 同样有支持多继承形式，即一个子类可以继承多个父类，将多个类的名称放入子类的小括号里面即可。例如，我们定义个 NewAcademicEmpolyee 类，同时继承了类 Employee 与 NewEmployee。"
   ]
  },
  {
   "cell_type": "code",
   "execution_count": 35,
   "id": "229418f2",
   "metadata": {},
   "outputs": [
    {
     "name": "stdout",
     "output_type": "stream",
     "text": [
      "Hello, I am a new academic empolyee.\n"
     ]
    }
   ],
   "source": [
    "class NewAcademicEmployee(NewEmployee, Employee):\n",
    "    def say_hello(self):\n",
    "        print(\"Hello, I am a new academic empolyee.\")\n",
    "\n",
    "\n",
    "# 实例化子类时，初始化方法中的参数包括所有父类初始化方法中需要的参数\n",
    "lily = NewAcademicEmployee(True, \"Lily\", 22, \"art school\")\n",
    "lily.say_hello()"
   ]
  },
  {
   "cell_type": "markdown",
   "id": "3f19e09e",
   "metadata": {},
   "source": [
    "上面的例子中，子类在初始化时，需要传递所有父类初始化方法中需要的参数。"
   ]
  },
  {
   "cell_type": "markdown",
   "id": "ae7d5680-13f4-4556-8d1f-0df36626733a",
   "metadata": {},
   "source": [
    "```{note}\n",
    "如果子类和父类有同名的方法，并且你使用子类实例调用该方法，Python 会优先调用子类的方法，而不会调用父类的方法。\n",
    "```"
   ]
  },
  {
   "cell_type": "code",
   "execution_count": 1,
   "id": "cbadcde9-b1b6-4367-b1bf-6dd98fc5ac17",
   "metadata": {},
   "outputs": [
    {
     "name": "stdout",
     "output_type": "stream",
     "text": [
      "Child method\n"
     ]
    }
   ],
   "source": [
    "class Parent:\n",
    "    def show(self):\n",
    "        print(\"Parent method\")\n",
    "\n",
    "\n",
    "class Child(Parent):\n",
    "    def show(self):  # 重写父类方法\n",
    "        print(\"Child method\")\n",
    "\n",
    "\n",
    "obj = Child()\n",
    "obj.show()  # 输出: Child method"
   ]
  },
  {
   "cell_type": "markdown",
   "id": "8b4d3070",
   "metadata": {},
   "source": [
    "## 类的专有/特殊方法 \\_\\_str\\_\\_、\\_\\_getitem\\_\\_等\n",
    "<hr>"
   ]
  },
  {
   "cell_type": "markdown",
   "id": "c26b1ae7",
   "metadata": {},
   "source": [
    "以前后缀双下划线命名的方法为类的专有/特殊方法，又称作魔术方法，用以实现一些特定功能。"
   ]
  },
  {
   "cell_type": "markdown",
   "id": "221c4480",
   "metadata": {},
   "source": [
    "下面表格中总结了一些常用的专有方法。"
   ]
  },
  {
   "cell_type": "markdown",
   "id": "bd2ded13",
   "metadata": {},
   "source": [
    "|专有方法|含义|\n",
    "|:-----:|:----:|\n",
    "|\\_\\_init\\_\\_|创建对象时自动调用，用于初始化类的实例|\n",
    "|\\_\\_str\\_\\_|给用户看的，打印对象时显示的内容|\n",
    "|\\_\\_repr\\_\\_|给开发者看的，用于调试，打印对象时显示的内容|\n",
    "|\\_\\_getitem\\_\\_|获取对象中元素，使得对象可以像数组一样访问类中元素|\n",
    "|\\_\\_setitem\\_\\_|设置对象中元素，使得对象可以像数组一样修改类中元素|\n",
    "|\\_\\_add\\_\\_|实现对象的加法运算|\n",
    "|\\_\\_sub\\_\\_|实现对象的减法运算|\n",
    "|\\_\\_mul\\_\\_|实现对象的乘法运算|\n",
    "|\\_\\_truediv\\_\\_|实现对象的除法运算|\n",
    "|\\_\\_eq\\_\\_|自定义对象比较规则|\n",
    "|\\_\\_hash\\_\\_|定义对象的哈希值，让对象支持 set 或 dict 存储|\n",
    "|\\_\\_class\\_\\_|返回对象所属类的名字|\n",
    "|\\_\\_call\\_\\_|让对象可以像函数一样被调用|"
   ]
  },
  {
   "cell_type": "markdown",
   "id": "e5bcab9a",
   "metadata": {},
   "source": [
    "下面的一个例子展示了 `__repr__` 与 `__str__`的用法。"
   ]
  },
  {
   "cell_type": "code",
   "execution_count": 40,
   "id": "5bf8e580",
   "metadata": {},
   "outputs": [
    {
     "name": "stdout",
     "output_type": "stream",
     "text": [
      "Person('Bob', 30)\n",
      "Bob, 30 years old\n"
     ]
    }
   ],
   "source": [
    "class Person:\n",
    "    def __init__(self, name, age):\n",
    "        self.name = name\n",
    "        self.age = age\n",
    "\n",
    "    def __repr__(self):\n",
    "        return f\"Person('{self.name}', {self.age})\"\n",
    "\n",
    "    def __str__(self):\n",
    "        return f\"{self.name}, {self.age} years old\"\n",
    "\n",
    "\n",
    "p = Person(\"Bob\", 30)\n",
    "print(repr(p))  # 调用 __repr__\n",
    "print(p)  # 默认调用 __str__, 如果 __str__ 未定义，会默认调用 __repr__"
   ]
  },
  {
   "cell_type": "markdown",
   "id": "0341ea18",
   "metadata": {},
   "source": [
    "如果没有定义 \\_\\_repr\\_\\_ 或 \\_\\_str\\_\\_ 方法，则打印对象时会显示该对象的内存地址。"
   ]
  },
  {
   "cell_type": "code",
   "execution_count": 43,
   "id": "ddb328a1",
   "metadata": {},
   "outputs": [
    {
     "name": "stdout",
     "output_type": "stream",
     "text": [
      "<__main__.Dog object at 0x7fb75127fa00>\n",
      "<class '__main__.Dog'>\n"
     ]
    }
   ],
   "source": [
    "class Dog:\n",
    "    pass\n",
    "\n",
    "\n",
    "d = Dog()\n",
    "print(d)  # 类中没有 __str__ 或 __repr__ 方法，打印显示地址\n",
    "print(d.__class__)  # 返回对象所属类的名字"
   ]
  },
  {
   "cell_type": "markdown",
   "id": "17647afa",
   "metadata": {},
   "source": [
    "````{note}\n",
    "\\_\\_main\\_\\_ 代表的是当前运行的 Python 文件（以 .py 后缀命名的文件）\n",
    "````"
   ]
  },
  {
   "cell_type": "markdown",
   "id": "8762bc91",
   "metadata": {},
   "source": [
    "下面的例子，展示了如何通过 \\_\\_getitem\\_\\_ 方法实现像访问数组一样访问对象。"
   ]
  },
  {
   "cell_type": "code",
   "execution_count": 46,
   "id": "58ecc6a4",
   "metadata": {},
   "outputs": [
    {
     "name": "stdout",
     "output_type": "stream",
     "text": [
      "[20, 30]\n"
     ]
    }
   ],
   "source": [
    "class MyList:\n",
    "    def __init__(self, data):\n",
    "        self.data = data\n",
    "\n",
    "    def __getitem__(self, index):\n",
    "        return self.data[index]  # 支持整数索引和切片\n",
    "\n",
    "\n",
    "my_list = MyList([10, 20, 30, 40, 50])\n",
    "print(my_list[1:3])  # 像数组切片一样访问类中元素"
   ]
  },
  {
   "cell_type": "markdown",
   "id": "65552a68",
   "metadata": {},
   "source": [
    "下面的例子，实现了两个对象的相加。"
   ]
  },
  {
   "cell_type": "code",
   "execution_count": 41,
   "id": "440f0a73",
   "metadata": {},
   "outputs": [
    {
     "name": "stdout",
     "output_type": "stream",
     "text": [
      "Vector(6, 8)\n"
     ]
    }
   ],
   "source": [
    "class Vector:\n",
    "    def __init__(self, x, y):\n",
    "        self.x = x\n",
    "        self.y = y\n",
    "\n",
    "    def __add__(self, other):\n",
    "        return Vector(self.x + other.x, self.y + other.y)\n",
    "\n",
    "    def __repr__(self):\n",
    "        return f\"Vector({self.x}, {self.y})\"\n",
    "\n",
    "\n",
    "v1 = Vector(2, 3)\n",
    "v2 = Vector(4, 5)\n",
    "print(v1 + v2)  # 输出: Vector(6, 8)"
   ]
  },
  {
   "cell_type": "markdown",
   "id": "c2784d6d",
   "metadata": {},
   "source": [
    "下面的例子，展示了如何比较两个对象。"
   ]
  },
  {
   "cell_type": "code",
   "execution_count": 47,
   "id": "821a6e80",
   "metadata": {},
   "outputs": [
    {
     "name": "stdout",
     "output_type": "stream",
     "text": [
      "True\n",
      "False\n"
     ]
    }
   ],
   "source": [
    "class Person:\n",
    "    def __init__(self, name, age):\n",
    "        self.name = name\n",
    "        self.age = age\n",
    "\n",
    "    # 若姓名与年龄都相同，表示两个实例相同\n",
    "    def __eq__(self, other):\n",
    "        if isinstance(other, Person):\n",
    "            return self.name == other.name and self.age == other.age\n",
    "        return False  # 不是 Person 对象，直接返回 False\n",
    "\n",
    "\n",
    "p1 = Person(\"Alice\", 25)\n",
    "p2 = Person(\"Alice\", 25)\n",
    "p3 = Person(\"Bob\", 30)\n",
    "\n",
    "print(p1 == p2)  # True\n",
    "print(p1 == p3)  # False"
   ]
  },
  {
   "cell_type": "markdown",
   "id": "563847f1",
   "metadata": {},
   "source": [
    "下面的例子，实现了对象类似函数的调用。"
   ]
  },
  {
   "cell_type": "code",
   "execution_count": 1,
   "id": "9f147a72",
   "metadata": {},
   "outputs": [
    {
     "name": "stdout",
     "output_type": "stream",
     "text": [
      "Instance called!\n",
      "Arguments: (1, 2) {'a': 3}\n"
     ]
    }
   ],
   "source": [
    "class MyClass:\n",
    "    def __call__(self, *args, **kwargs):\n",
    "        print(\"Instance called!\")\n",
    "        print(\"Arguments:\", args, kwargs)\n",
    "\n",
    "\n",
    "obj = MyClass()\n",
    "obj(1, 2, a=3)  # 像函数一样调用实例"
   ]
  },
  {
   "cell_type": "markdown",
   "id": "6836ca37",
   "metadata": {},
   "source": [
    "## 类的特殊属性 \\_\\_doc\\_\\_、\\_\\_name\\_\\_ 等\n",
    "<hr>"
   ]
  },
  {
   "cell_type": "markdown",
   "id": "4d44cbac3e475b23",
   "metadata": {},
   "source": [
    "在 Python 中，类的特殊属性也称作“魔术属性”（magic attribute），或“dunder”属性/方法，通常指以双下划线开头和结尾的特殊属性或方法。这些属性和方法内置于 Python 语言中，用于实现一些特殊行为和功能。"
   ]
  },
  {
   "cell_type": "markdown",
   "id": "2a0d0b4f-7fd8-45c0-8f6c-31081ef572af",
   "metadata": {},
   "source": [
    "除了专有方法，Python 还提供一些魔术属性，用于存储元数据或对象状态信息，如：\n",
    "\n",
    "- \\_\\_doc\\_\\_：存储模块、类或函数的文档字符串。\n",
    "- \\_\\_name\\_\\_：记录模块或类的名称。\n",
    "- \\_\\_dict\\_\\_：存放对象的属性字典，记录对象的所有可写属性。"
   ]
  },
  {
   "cell_type": "code",
   "execution_count": 7,
   "id": "4ab2696e-1e82-4d16-9d50-ab61d0dacd50",
   "metadata": {
    "scrolled": true
   },
   "outputs": [
    {
     "name": "stdout",
     "output_type": "stream",
     "text": [
      "这是一个演示魔术属性的示例类。\n",
      "示例对象，值为: 42\n",
      "Example(42)\n",
      "{'value': 42}\n"
     ]
    }
   ],
   "source": [
    "class Example:\n",
    "    \"\"\"这是一个演示魔术属性的示例类。\"\"\"\n",
    "\n",
    "    def __init__(self, value):\n",
    "        self.value = value\n",
    "\n",
    "    def __str__(self):\n",
    "        return f\"示例对象，值为: {self.value}\"\n",
    "\n",
    "    def __repr__(self):\n",
    "        return f\"Example({self.value!r})\"\n",
    "\n",
    "# 创建一个实例\n",
    "ex = Example(42)\n",
    "\n",
    "# 使用魔术属性\n",
    "print(ex.__doc__)   # 输出：这是一个演示魔术属性的示例类。\n",
    "print(str(ex))      # 输出：示例对象，值为: 42\n",
    "print(repr(ex))     # 输出：Example(42)\n",
    "print(ex.__dict__)  # 以字典形式输出实例的属性值"
   ]
  },
  {
   "cell_type": "markdown",
   "id": "4c475c1a95c33820",
   "metadata": {},
   "source": [
    "`__name__` 是 Python 内置的特殊变量，可以表示当前类的名称，也可以表示当前模块的名称。"
   ]
  },
  {
   "cell_type": "code",
   "execution_count": 60,
   "id": "e403ed42",
   "metadata": {},
   "outputs": [
    {
     "data": {
      "text/plain": [
       "'MyClass'"
      ]
     },
     "execution_count": 60,
     "metadata": {},
     "output_type": "execute_result"
    }
   ],
   "source": [
    "MyClass.__name__  # 返回类的名称"
   ]
  },
  {
   "cell_type": "code",
   "execution_count": 56,
   "id": "57205b08",
   "metadata": {},
   "outputs": [
    {
     "data": {
      "text/plain": [
       "'numpy'"
      ]
     },
     "execution_count": 56,
     "metadata": {},
     "output_type": "execute_result"
    }
   ],
   "source": [
    "import numpy as np\n",
    "\n",
    "np.__name__  # 返回模块的名称"
   ]
  },
  {
   "cell_type": "markdown",
   "id": "630ac360",
   "metadata": {},
   "source": [
    "当直接运行一个 Python 文件时，文件的名称为 '\\_\\_main\\_\\_'。因此，在编程调试某个程序文件时，可以用一个判断语句，根据文件的名字判断文件是否为当前直接运行的文件。例如："
   ]
  },
  {
   "cell_type": "code",
   "execution_count": 61,
   "id": "2c234ecd",
   "metadata": {},
   "outputs": [
    {
     "name": "stdout",
     "output_type": "stream",
     "text": [
      "This script is running directly\n",
      "Hello, world!\n"
     ]
    }
   ],
   "source": [
    "# myscript.py\n",
    "def hello():\n",
    "    print(\"Hello, world!\")\n",
    "\n",
    "\n",
    "if __name__ == \"__main__\":\n",
    "    print(\"This script is running directly\")\n",
    "    hello()\n",
    "else:\n",
    "    print(\"This script is imported as a module\")"
   ]
  },
  {
   "cell_type": "markdown",
   "id": "ed21a6bd-e622-49df-acdb-f5596f68f747",
   "metadata": {},
   "source": [
    "## 类属性的相关方法`setattr()`, `getattr()`\n",
    "<hr>"
   ]
  },
  {
   "cell_type": "markdown",
   "id": "a0dae4e3-9939-4c1b-95e7-048beb16fc3d",
   "metadata": {},
   "source": [
    "对于类中属性值的修改和访问，Python 内置有两个方法`setattr()`, `getattr()`比较有用。"
   ]
  },
  {
   "cell_type": "markdown",
   "id": "53aca0c6-aa6c-40cd-8332-3e71355f79ad",
   "metadata": {},
   "source": [
    "- `setattr(object, name, value)` 设置一个对象 object 的属性 atribte 的值为 value，若没有找到属性，则新建属性并赋值 value\n",
    "- `getattr(object, name)` 返回对象 object的属性 name 的值，若没找到则触发 AttributeError\n",
    "- `getattr(object, name, default)` 返回对象 object 的属性 name的值，若没找到，则返回 default值"
   ]
  },
  {
   "cell_type": "markdown",
   "id": "4de791ec-4adf-4c90-9c30-1f386d026aed",
   "metadata": {},
   "source": [
    "其中，小括号的属性参数以**字符串**形式表示。"
   ]
  },
  {
   "cell_type": "code",
   "execution_count": 32,
   "id": "0cb26088-fbff-47e6-bc6c-5f2883121309",
   "metadata": {},
   "outputs": [
    {
     "name": "stdout",
     "output_type": "stream",
     "text": [
      "10\n",
      "male\n",
      "75\n",
      "male\n"
     ]
    }
   ],
   "source": [
    "class ExampleClass:\n",
    "    \n",
    "    def __init__(self, name, age):\n",
    "        self.name = name\n",
    "        self.age = age\n",
    "\n",
    "setattr(ExampleClass, 'name', 10)\n",
    "print(getattr(ExampleClass, 'name'))\n",
    "setattr(ExampleClass, 'gender', 'male')  # 没有找到属性 gender，则新建该属性并赋值\n",
    "print(getattr(ExampleClass, 'gender'))\n",
    "\n",
    "p = ExampleClass('tom', '40')\n",
    "print(getattr(p, 'grade', 75)) # 没有找到属性 grade，返回给定的值 75\n",
    "print(p.gender)"
   ]
  },
  {
   "cell_type": "markdown",
   "id": "b8c08c86",
   "metadata": {},
   "source": [
    "## 类方法与静态方法\n",
    "<hr>"
   ]
  },
  {
   "cell_type": "markdown",
   "id": "d682ecac",
   "metadata": {},
   "source": [
    "上面的例子中，类中方法的第一个参数总是 self，这类方法为`普通方法`，只能被对象调用。"
   ]
  },
  {
   "cell_type": "markdown",
   "id": "2be0f9ce",
   "metadata": {},
   "source": [
    "除了普通方法外，还有`类方法`与`静态方法`。"
   ]
  },
  {
   "cell_type": "markdown",
   "id": "2357a0b5",
   "metadata": {},
   "source": [
    "- 静态方法: 用 @staticmethod 装饰的不带 self 参数的方法叫做静态方法，类的静态方法可以没有参数，可以直接使用类名调用\n",
    "- 类方法: 默认有个 cls 参数，可以被类和对象调用，需要加上 @classmethod 装饰器"
   ]
  },
  {
   "cell_type": "code",
   "execution_count": 62,
   "id": "08029091",
   "metadata": {},
   "outputs": [
    {
     "name": "stdout",
     "output_type": "stream",
     "text": [
      "静态方法\n",
      "类方法\n",
      "静态方法\n",
      "类方法\n",
      "普通方法\n"
     ]
    }
   ],
   "source": [
    "class MyClass:\n",
    "    @staticmethod  # 以@开头的名称为装饰器，用来说明特殊的函数\n",
    "    def fun():\n",
    "        print(\"静态方法\")\n",
    "\n",
    "    @classmethod\n",
    "    def a(cls):  # 第一个参数为 cls\n",
    "        print(\"类方法\")\n",
    "\n",
    "    # 普通方法\n",
    "    def b(self):  # 第一个参数为 self\n",
    "        print(\"普通方法\")\n",
    "\n",
    "\n",
    "MyClass.fun()  # 静态方法可以被类名直接调用\n",
    "MyClass.a()  # 类方法可以被类名直接调用\n",
    "\n",
    "case = MyClass()\n",
    "case.fun()  # 静态方法也可以被对象调用\n",
    "case.a()  # 类方法也可以被对象调用\n",
    "case.b()  # 普通方法只能被对象调用"
   ]
  },
  {
   "cell_type": "markdown",
   "id": "d242a0c6",
   "metadata": {},
   "source": [
    "## dateclass\n",
    "<hr>"
   ]
  },
  {
   "cell_type": "markdown",
   "id": "a34751cb",
   "metadata": {},
   "source": [
    "`dataclass` 是 Python 3.7 引入的装饰器，自动生成 \\_\\_init\\_\\_、\\_\\_repr\\_\\_、\\_\\_eq\\_\\_ 等方法，让数据类的编写更加简洁。"
   ]
  },
  {
   "cell_type": "markdown",
   "id": "0abed36a",
   "metadata": {},
   "source": [
    "一个例子："
   ]
  },
  {
   "cell_type": "code",
   "execution_count": 72,
   "id": "5fd26ac7",
   "metadata": {},
   "outputs": [],
   "source": [
    "from dataclasses import dataclass\n",
    "\n",
    "\n",
    "@dataclass\n",
    "class Person:\n",
    "    name: str  # 声明 name 为字符串类型\n",
    "    age: int  # 声明 age 为整数类型"
   ]
  },
  {
   "cell_type": "markdown",
   "id": "62b778f1",
   "metadata": {},
   "source": [
    "上面的代码等同于："
   ]
  },
  {
   "cell_type": "code",
   "execution_count": 66,
   "id": "2cebb4b8",
   "metadata": {},
   "outputs": [],
   "source": [
    "class Person:\n",
    "    def __init__(self, name: str, age: int):  # 冒号跟数据类型，可以声明变量的数据类型\n",
    "        self.name = name\n",
    "        self.age = age\n",
    "\n",
    "    def __repr__(self):\n",
    "        return f\"Person(name={self.name}, age={self.age})\""
   ]
  },
  {
   "cell_type": "markdown",
   "id": "51ddde1c",
   "metadata": {},
   "source": [
    "可以看出，dataclass 与普通类的一个区别是，必须在定义中声明属性的数据类型，但是显著减少了代码量。"
   ]
  },
  {
   "cell_type": "code",
   "execution_count": null,
   "id": "f19ce4fe",
   "metadata": {},
   "outputs": [],
   "source": []
  },
  {
   "cell_type": "code",
   "execution_count": null,
   "id": "8676a107",
   "metadata": {},
   "outputs": [],
   "source": []
  },
  {
   "cell_type": "code",
   "execution_count": null,
   "id": "64927269",
   "metadata": {},
   "outputs": [],
   "source": []
  },
  {
   "cell_type": "markdown",
   "id": "7476b35b",
   "metadata": {},
   "source": [
    "<script src=\"https://giscus.app/client.js\"\n",
    "        data-repo=\"robinchen121/book-Python-Data-Science\"\n",
    "        data-repo-id=\"R_kgDOKFdyOw\"\n",
    "        data-category=\"Announcements\"\n",
    "        data-category-id=\"DIC_kwDOKFdyO84CgWHi\"\n",
    "        data-mapping=\"pathname\"\n",
    "        data-strict=\"0\"\n",
    "        data-reactions-enabled=\"1\"\n",
    "        data-emit-metadata=\"0\"\n",
    "        data-input-position=\"bottom\"\n",
    "        data-theme=\"light\"\n",
    "        data-lang=\"en\"\n",
    "        crossorigin=\"anonymous\"\n",
    "        async>\n",
    "</script>"
   ]
  },
  {
   "cell_type": "markdown",
   "id": "24c4c8e8",
   "metadata": {},
   "source": [
    "<!-- Toogle google translation -->\n",
    "<div id=\"google_translate_element\"></div>\n",
    "<script type=\"text/javascript\">\n",
    "      function googleTranslateElementInit() {\n",
    "        new google.translate.TranslateElement({ pageLanguage: 'zh-CN',\n",
    "                  includedLanguages: 'en,zh-CN,zh-TW,ja,ko,de,ru,fr,es,it,pt,hi,ar,fa',\n",
    "layout: google.translate.TranslateElement.InlineLayout.SIMPLE }, 'google_translate_element');\n",
    "      }\n",
    "</script>\n",
    "<script type=\"text/javascript\"\n",
    "      src=\"https://translate.google.com/translate_a/element.js?cb=googleTranslateElementInit\"\n",
    "></script>\n",
    "<br>"
   ]
  }
 ],
 "metadata": {
  "kernelspec": {
   "display_name": "Python 3 (ipykernel)",
   "language": "python",
   "name": "python3"
  },
  "language_info": {
   "codemirror_mode": {
    "name": "ipython",
    "version": 3
   },
   "file_extension": ".py",
   "mimetype": "text/x-python",
   "name": "python",
   "nbconvert_exporter": "python",
   "pygments_lexer": "ipython3",
   "version": "3.12.7"
  }
 },
 "nbformat": 4,
 "nbformat_minor": 5
}
