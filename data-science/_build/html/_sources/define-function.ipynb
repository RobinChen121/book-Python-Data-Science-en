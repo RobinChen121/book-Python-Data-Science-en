{
 "cells": [
  {
   "cell_type": "markdown",
   "id": "2ea7fab1",
   "metadata": {
    "slideshow": {
     "slide_type": "slide"
    }
   },
   "source": [
    "# Define functions\n",
    "<hr>\n",
    "\n",
    "Python Functions is a block of statements that return the specific task. It is very import in coding since we can define a function to achive personalized needs.\n",
    "\n",
    "When writing functions in Python, the frequently used statements are conditional statements `if`, and loop statements such as `for` or `while`."
   ]
  },
  {
   "cell_type": "markdown",
   "id": "ade31629-7578-4e53-8583-e246aa718a01",
   "metadata": {},
   "source": [
    "Before we introduce how to self define functions, let us learn some useful buit-in functions of Python."
   ]
  },
  {
   "cell_type": "markdown",
   "id": "993d75e9-953a-4572-b4f6-bf4799f28553",
   "metadata": {},
   "source": [
    "## Some built-in functions\n",
    "<hr>"
   ]
  },
  {
   "cell_type": "markdown",
   "id": "64905c15-0ddb-4025-9d18-06775f490c49",
   "metadata": {},
   "source": [
    "\n",
    "Some commonly used built-in functions are:\n",
    "\n",
    "| Function       | Description                                                                 |\n",
    "|----------------|-----------------------------------------------------------------------------|\n",
    "| sum            | Calculates the sum of an iterable (e.g., sequence, set)                 |\n",
    "| max            | Returns the maximum value in an iterable                                    |\n",
    "| min            | Returns the minimum value in an iterable                                    |\n",
    "| abs            | Returns the absolute value of a number                                      |\n",
    "| round          | Rounds a number to the nearest integer (or specified decimal places)       |\n",
    "| range          | Generates a sequence of integers, commonly used in `for` loops              |\n",
    "| sorted         | Sorts an iterable in ascending order by default                             |  \n"
   ]
  },
  {
   "cell_type": "code",
   "execution_count": 11,
   "id": "e5a92c96",
   "metadata": {},
   "outputs": [
    {
     "data": {
      "text/plain": [
       "3.14"
      ]
     },
     "execution_count": 11,
     "metadata": {},
     "output_type": "execute_result"
    }
   ],
   "source": [
    "round(3.1415926, 2)  # round to a float with 2 decimals"
   ]
  },
  {
   "cell_type": "code",
   "execution_count": 3,
   "id": "65dc7d1d",
   "metadata": {
    "scrolled": true
   },
   "outputs": [
    {
     "data": {
      "text/plain": [
       "3"
      ]
     },
     "execution_count": 3,
     "metadata": {},
     "output_type": "execute_result"
    }
   ],
   "source": [
    "round(3.1415926)  # round to an integer"
   ]
  },
  {
   "cell_type": "markdown",
   "id": "29e4dcf0-a305-412f-8936-9103bcf3f690",
   "metadata": {},
   "source": [
    "In Python, `range` is directly treated as an iterable data type representing a sequence of integers. It includes the **end value (required, exclusive)**, **start value (optional, inclusive)**, and **step size (optional)**. You can convert a range object into a list using `list()`."
   ]
  },
  {
   "cell_type": "code",
   "execution_count": 4,
   "id": "d3f027e4",
   "metadata": {},
   "outputs": [
    {
     "data": {
      "text/plain": [
       "range(0, 10)"
      ]
     },
     "execution_count": 4,
     "metadata": {},
     "output_type": "execute_result"
    }
   ],
   "source": [
    "range(10)  # an integer sequence from 0 to 9, step size is 1 by default"
   ]
  },
  {
   "cell_type": "code",
   "execution_count": 5,
   "id": "6113ad33",
   "metadata": {},
   "outputs": [
    {
     "data": {
      "text/plain": [
       "[0, 1, 2, 3, 4, 5, 6, 7, 8, 9]"
      ]
     },
     "execution_count": 5,
     "metadata": {},
     "output_type": "execute_result"
    }
   ],
   "source": [
    "list(range(10)) # convert the range to a list"
   ]
  },
  {
   "cell_type": "code",
   "execution_count": null,
   "id": "00e97597",
   "metadata": {},
   "outputs": [],
   "source": [
    "range(2, 10)  # an integer sequence from 2 to 10"
   ]
  },
  {
   "cell_type": "code",
   "execution_count": 8,
   "id": "3c67b7ae",
   "metadata": {},
   "outputs": [
    {
     "data": {
      "text/plain": [
       "[2, 4, 6, 8]"
      ]
     },
     "execution_count": 8,
     "metadata": {},
     "output_type": "execute_result"
    }
   ],
   "source": [
    "list(range(2, 10, 2))  # an integer list from 2 to 10, step size 2"
   ]
  },
  {
   "cell_type": "markdown",
   "id": "32ae064e-278d-463b-a6bb-ed7bc1e85039",
   "metadata": {},
   "source": [
    "`range` is frequently used in the `for-loop` statement."
   ]
  },
  {
   "cell_type": "code",
   "execution_count": 10,
   "id": "94dda99a-01f4-4e52-9ca2-68c443a54413",
   "metadata": {},
   "outputs": [
    {
     "name": "stdout",
     "output_type": "stream",
     "text": [
      "0 1 2 3 4 5 6 7 8 9 "
     ]
    }
   ],
   "source": [
    "for i in range(10):\n",
    "    print(i, end=' ')"
   ]
  },
  {
   "cell_type": "markdown",
   "id": "e22bbf89-f31d-4ace-ab8b-9322827bd5a6",
   "metadata": {},
   "source": [
    "Another helpful function in the `for-loop` statement is `eumerate()`, in which its argument is an iterable and can return an enumerate object that has a counter for each element."
   ]
  },
  {
   "cell_type": "code",
   "execution_count": 12,
   "id": "960123c8",
   "metadata": {},
   "outputs": [
    {
     "name": "stdout",
     "output_type": "stream",
     "text": [
      "0 20\n",
      "1 30\n",
      "2 40\n",
      "3 50\n"
     ]
    }
   ],
   "source": [
    "a = [20, 30, 40, 50]\n",
    "for item, i in enumerate(a):\n",
    "    print(item, i)"
   ]
  },
  {
   "cell_type": "markdown",
   "id": "d8ad2988-19cc-4da1-a391-f8baa73edea5",
   "metadata": {},
   "source": [
    "The `sorted()` function sorts an iterable object, with ascending order as the default."
   ]
  },
  {
   "cell_type": "code",
   "execution_count": 14,
   "id": "2e99a3c5",
   "metadata": {},
   "outputs": [
    {
     "data": {
      "text/plain": [
       "[12, 23, 37, 54]"
      ]
     },
     "execution_count": 14,
     "metadata": {},
     "output_type": "execute_result"
    }
   ],
   "source": [
    "arr = [23, 54, 12, 37]\n",
    "sorted(arr) "
   ]
  },
  {
   "cell_type": "code",
   "execution_count": 16,
   "id": "cecf197c",
   "metadata": {
    "scrolled": true
   },
   "outputs": [
    {
     "data": {
      "text/plain": [
       "[54, 37, 23, 12]"
      ]
     },
     "execution_count": 16,
     "metadata": {},
     "output_type": "execute_result"
    }
   ],
   "source": [
    "sorted(arr, reverse=True)  # change the 'reverse' argument to sort in descending order"
   ]
  },
  {
   "cell_type": "markdown",
   "id": "eda17cb8-62f3-4b1d-8d22-c47ffd28c334",
   "metadata": {
    "slideshow": {
     "slide_type": "subslide"
    }
   },
   "source": [
    "## `if` statement\n",
    "<hr>"
   ]
  },
  {
   "cell_type": "markdown",
   "id": "75fec417",
   "metadata": {
    "slideshow": {
     "slide_type": "fragment"
    }
   },
   "source": [
    "The syntax for the `if` statement is:"
   ]
  },
  {
   "cell_type": "markdown",
   "id": "603c0a32",
   "metadata": {
    "slideshow": {
     "slide_type": "subslide"
    }
   },
   "source": [
    "<table>   \n",
    "    <tr style=\"border-top:solid; border-bottom:solid\">\n",
    "    </tr>\n",
    "    <tr>\n",
    "        <td style=\"text-align:left\">if condition1:</td>\n",
    "    </tr>\n",
    "    <tr>\n",
    "        <td style=\"text-align:left\">&nbsp;&nbsp;&nbsp;&nbsp;&nbsp;&nbsp;statement_block_1</td>\n",
    "    </tr>\n",
    "    <tr>\n",
    "        <td style=\"text-align:left\">elif condition2:</td>\n",
    "    </tr>\n",
    "    <tr>\n",
    "        <td style=\"text-align:left\">&nbsp;&nbsp;&nbsp;&nbsp;&nbsp;&nbsp;statement_block_2</td>\n",
    "    </tr>\n",
    "    <tr>\n",
    "        <td style=\"text-align:left\">else:</td>\n",
    "    </tr>\n",
    "    <tr style=\"border-bottom:solid\">\n",
    "        <td style=\"text-align:left\">&nbsp;&nbsp;&nbsp;&nbsp;&nbsp;&nbsp;statement_block_3</td>\n",
    "    </tr>\n",
    "</table>\n",
    "<br />"
   ]
  },
  {
   "cell_type": "markdown",
   "id": "8ccd5ea0-3350-431a-a913-2a6bae6692ae",
   "metadata": {
    "slideshow": {
     "slide_type": "fragment"
    }
   },
   "source": [
    "The if block first checks \"Condition 1\"—if true, runs \"statement_block_1\"; otherwise, it evaluates \"Condition 2\". When \"Condition 2\" holds, \"statement_block_2\" runs; if neither condition is met, \"statement_block_3\" executes."
   ]
  },
  {
   "cell_type": "markdown",
   "id": "b22b883d",
   "metadata": {
    "slideshow": {
     "slide_type": "subslide"
    }
   },
   "source": [
    "For example:"
   ]
  },
  {
   "cell_type": "code",
   "execution_count": 17,
   "id": "21914751",
   "metadata": {
    "slideshow": {
     "slide_type": "fragment"
    }
   },
   "outputs": [
    {
     "name": "stdout",
     "output_type": "stream",
     "text": [
      "rich\n"
     ]
    }
   ],
   "source": [
    "wage = 5000\n",
    "if wage <= 2000:\n",
    "    print(\"poor\")\n",
    "elif wage <= 4000:\n",
    "    print(\"middle\")\n",
    "else:\n",
    "    print(\"rich\")"
   ]
  },
  {
   "cell_type": "markdown",
   "id": "483e1d4f",
   "metadata": {
    "slideshow": {
     "slide_type": "subslide"
    }
   },
   "source": [
    "There can be other `if` statement inside one `if` statement. For example:"
   ]
  },
  {
   "cell_type": "code",
   "execution_count": 18,
   "id": "f544365c",
   "metadata": {
    "slideshow": {
     "slide_type": "fragment"
    }
   },
   "outputs": [
    {
     "name": "stdout",
     "output_type": "stream",
     "text": [
      "poor\n"
     ]
    }
   ],
   "source": [
    "wage = 1000\n",
    "if wage <= 2000:\n",
    "    print(\"poor\")\n",
    "    if wage < 1000:\n",
    "        print(\"very poor\")\n",
    "    if wage <= 500:\n",
    "        print(\"super poor\")\n",
    "else:\n",
    "    print(\"not poor\")"
   ]
  },
  {
   "cell_type": "markdown",
   "id": "012fce81-187e-4138-8210-5bf657341afb",
   "metadata": {
    "slideshow": {
     "slide_type": "fragment"
    }
   },
   "source": [
    "```{note}\n",
    "There can be no `elif` block or `else` block inside the `if` block.\n",
    "```"
   ]
  },
  {
   "cell_type": "markdown",
   "id": "3a3fc42c",
   "metadata": {
    "slideshow": {
     "slide_type": "subslide"
    }
   },
   "source": [
    "- Unlike many other programming languages, Python uses `indentation` to define code blocks instead of semicolons ; or curly braces {}.\n",
    "- `indentation` affects the scope of commands inside a block."
   ]
  },
  {
   "cell_type": "markdown",
   "id": "8dfc1c08-bab7-4368-bbaa-9620db58ca3d",
   "metadata": {},
   "source": [
    "![title](codeStyle.PNG)"
   ]
  },
  {
   "cell_type": "code",
   "execution_count": 19,
   "id": "e5abe3fb-4bde-493c-a94b-83425827676c",
   "metadata": {},
   "outputs": [
    {
     "name": "stdout",
     "output_type": "stream",
     "text": [
      "10\n",
      "12\n",
      "14\n",
      "16\n",
      "18\n",
      "120\n"
     ]
    }
   ],
   "source": [
    "a = 10\n",
    "if a > 10:\n",
    "    a = 25\n",
    "    print(\"Value of a is greater than 10\") # this line is not implemented\n",
    "while a < 20:\n",
    "    print(a)\n",
    "    a = a + 2\n",
    "print(a + 100)"
   ]
  },
  {
   "cell_type": "markdown",
   "id": "2eb5071e-8038-4f1a-b509-7efeddd0fd74",
   "metadata": {},
   "source": [
    "In the above code, the if block has consistent indentation, and the while block also maintains uniform indentation. This formatting enhances program readability and clearly defines the **scope** of different commands.\n",
    "\n",
    "- The statement `print(\"Value of a is greater than 10\")` aligns with `a = 25`, meaning both belong to the if block and execute only when the if condition is met.\n",
    "\n",
    "- If `print(\"Value of a is greater than 10\")` were aligned with `a = 10` instead, it would no longer be part of the if block—instead, it would execute outside the if statement, regardless of the condition."
   ]
  },
  {
   "cell_type": "code",
   "execution_count": 20,
   "id": "a03596dc-6e8b-4d82-b320-aec974c222ec",
   "metadata": {},
   "outputs": [
    {
     "name": "stdout",
     "output_type": "stream",
     "text": [
      "Value of a is greater than 10\n",
      "10\n",
      "12\n",
      "14\n",
      "16\n",
      "18\n",
      "120\n"
     ]
    }
   ],
   "source": [
    "a = 10\n",
    "if a > 10:\n",
    "    a = 25\n",
    "print(\"Value of a is greater than 10\") # this line is out of the if block and thus not affected by the if block\n",
    "while a < 20:\n",
    "    print(a)\n",
    "    a = a + 2\n",
    "print(a + 100)"
   ]
  },
  {
   "cell_type": "markdown",
   "id": "a69b92c8",
   "metadata": {
    "slideshow": {
     "slide_type": "subslide"
    }
   },
   "source": [
    "## Loop statement\n",
    "<hr>\n",
    "\n",
    "There are two loop statements: `for` and `while`."
   ]
  },
  {
   "cell_type": "markdown",
   "id": "7530759d-7f43-415f-85ae-e64ba0ee628d",
   "metadata": {},
   "source": [
    "### `for` loop\n",
    "\n",
    "A `for` loop can iterate over `iterable objects`, such as **lists, tuples, sets, dictionaries, or strings**.\n",
    "The syntax of a for loop is as follows:\n",
    "\n",
    "<table>   \n",
    "    <tr style=\"border-top:solid; border-bottom:solid\">\n",
    "    </tr>\n",
    "    <tr>\n",
    "        <td style=\"text-align:left\">for variable in iterable:</td>\n",
    "    </tr>\n",
    "    <tr style=\"border-bottom:solid\">\n",
    "        <td style=\"text-align:left\">&nbsp;&nbsp;&nbsp;&nbsp;&nbsp;&nbsp;statements</td>\n",
    "    </tr>\n",
    "</table>\n",
    "<br />"
   ]
  },
  {
   "cell_type": "markdown",
   "id": "633e60a0",
   "metadata": {
    "slideshow": {
     "slide_type": "subslide"
    }
   },
   "source": [
    "The purpose of a `for` loop is to iterate through all elements in a iterable object and execute one or more statements."
   ]
  },
  {
   "cell_type": "markdown",
   "id": "5eea2c18-133f-45dc-b64b-588962ff98ad",
   "metadata": {},
   "source": [
    "For example:"
   ]
  },
  {
   "cell_type": "code",
   "execution_count": 4,
   "id": "b26e6d7f",
   "metadata": {
    "slideshow": {
     "slide_type": "fragment"
    }
   },
   "outputs": [
    {
     "name": "stdout",
     "output_type": "stream",
     "text": [
      "0\n",
      "1\n",
      "2\n"
     ]
    }
   ],
   "source": [
    "for i in range(3):\n",
    "    print(i)"
   ]
  },
  {
   "cell_type": "markdown",
   "id": "7a1443e8",
   "metadata": {
    "slideshow": {
     "slide_type": "fragment"
    }
   },
   "source": [
    "The above codes print every element in the `range(3)`."
   ]
  },
  {
   "cell_type": "markdown",
   "id": "46ab2b3b-29af-421b-a364-1ada33750438",
   "metadata": {},
   "source": [
    "If the variable in the `for` loop is not used in the statements, we can replace the variable with `_`."
   ]
  },
  {
   "cell_type": "code",
   "execution_count": 11,
   "id": "8b0c94c7-8879-429d-bedf-3a0ebd610295",
   "metadata": {},
   "outputs": [
    {
     "name": "stdout",
     "output_type": "stream",
     "text": [
      "Hello, World!\n",
      "Hello, World!\n",
      "Hello, World!\n"
     ]
    }
   ],
   "source": [
    "for _ in range(3):\n",
    "    print(\"Hello, World!\")"
   ]
  },
  {
   "cell_type": "markdown",
   "id": "ad8f0f1a-7c85-46a1-9723-2ae76016a279",
   "metadata": {},
   "source": [
    "### `while` loop"
   ]
  },
  {
   "cell_type": "markdown",
   "id": "0963397d",
   "metadata": {
    "slideshow": {
     "slide_type": "subslide"
    }
   },
   "source": [
    "They syntax for `while` loop is:\n",
    "\n",
    "<table>   \n",
    "    <tr style=\"border-top:solid; border-bottom:solid\">\n",
    "    </tr>\n",
    "    <tr>\n",
    "        <td style=\"text-align:left\">while&nbsp; condition:</td>\n",
    "    </tr>\n",
    "    <tr style=\"border-bottom:solid\">\n",
    "        <td style=\"text-align:left\">&nbsp;&nbsp;&nbsp;&nbsp;&nbsp;&nbsp;&nbsp;&nbsp;statements</td>\n",
    "    </tr>\n",
    "</table>\n",
    "<br />"
   ]
  },
  {
   "cell_type": "markdown",
   "id": "4c398386",
   "metadata": {
    "slideshow": {
     "slide_type": "fragment"
    }
   },
   "source": [
    "In the `while` loop, if the condition is met, the commands within the while loop will continue to execute indefinitely."
   ]
  },
  {
   "cell_type": "markdown",
   "id": "c3148467",
   "metadata": {
    "slideshow": {
     "slide_type": "subslide"
    }
   },
   "source": [
    "For example:"
   ]
  },
  {
   "cell_type": "code",
   "execution_count": 5,
   "id": "96896bad",
   "metadata": {
    "slideshow": {
     "slide_type": "fragment"
    }
   },
   "outputs": [
    {
     "name": "stdout",
     "output_type": "stream",
     "text": [
      "1\n",
      "2\n",
      "3\n"
     ]
    }
   ],
   "source": [
    "a = 1\n",
    "while a < 4:\n",
    "    print(a)\n",
    "    a = a + 1"
   ]
  },
  {
   "cell_type": "markdown",
   "id": "06e2a0df",
   "metadata": {
    "slideshow": {
     "slide_type": "fragment"
    }
   },
   "source": [
    "In the above codes: if a is less than 4, print a and add a by 1; repeat this process until a equals 4."
   ]
  },
  {
   "cell_type": "markdown",
   "id": "46114c2e",
   "metadata": {
    "slideshow": {
     "slide_type": "subslide"
    }
   },
   "source": [
    "The for loop and while loop are often used in combination with the `break` or `continue` statements. **The `break` statement exits the loop entirely**, while **the `continue` statement skips the remaining code in the current iteration and proceeds to the next cycle**."
   ]
  },
  {
   "cell_type": "code",
   "execution_count": 1,
   "id": "a3abeefc",
   "metadata": {
    "slideshow": {
     "slide_type": "fragment"
    }
   },
   "outputs": [
    {
     "name": "stdout",
     "output_type": "stream",
     "text": [
      "0\n",
      "loop is over\n"
     ]
    }
   ],
   "source": [
    "for i in range(3):\n",
    "    if i == 1:\n",
    "        break\n",
    "    print(i)\n",
    "print(\"loop is over\")"
   ]
  },
  {
   "cell_type": "markdown",
   "id": "732dc6da",
   "metadata": {
    "slideshow": {
     "slide_type": "fragment"
    }
   },
   "source": [
    "In the above codes, the `break` statement makes the program jump out the for loop when i equals 1."
   ]
  },
  {
   "cell_type": "markdown",
   "id": "1bf713e4",
   "metadata": {
    "slideshow": {
     "slide_type": "subslide"
    }
   },
   "source": [
    "If replacing `break` with ``continue``:"
   ]
  },
  {
   "cell_type": "code",
   "execution_count": 1,
   "id": "b9ebccc3",
   "metadata": {
    "slideshow": {
     "slide_type": "fragment"
    }
   },
   "outputs": [
    {
     "name": "stdout",
     "output_type": "stream",
     "text": [
      "0\n",
      "2\n",
      "loop is over\n"
     ]
    }
   ],
   "source": [
    "for i in range(3):\n",
    "    if i == 1:\n",
    "        continue\n",
    "    print(i)\n",
    "print(\"loop is over\")"
   ]
  },
  {
   "cell_type": "markdown",
   "id": "c060000b",
   "metadata": {
    "slideshow": {
     "slide_type": "fragment"
    }
   },
   "source": [
    "In the above codes, when i equals 1, the `continue` statement skips the current iteration and proceeds with the remaining loops."
   ]
  },
  {
   "cell_type": "markdown",
   "id": "72aac418",
   "metadata": {
    "slideshow": {
     "slide_type": "subslide"
    }
   },
   "source": [
    "Examples about ``break`` and ``continue`` in the `while` loop:"
   ]
  },
  {
   "cell_type": "code",
   "execution_count": 2,
   "id": "2b86c5e8",
   "metadata": {
    "slideshow": {
     "slide_type": "fragment"
    }
   },
   "outputs": [
    {
     "name": "stdout",
     "output_type": "stream",
     "text": [
      "2\n",
      "loop is over\n"
     ]
    }
   ],
   "source": [
    "a = 1\n",
    "while a < 5:\n",
    "    a = a + 1\n",
    "    if a == 3:\n",
    "        break\n",
    "    print(a)\n",
    "print(\"loop is over\")"
   ]
  },
  {
   "cell_type": "code",
   "execution_count": 4,
   "id": "1f0bd217",
   "metadata": {
    "scrolled": true,
    "slideshow": {
     "slide_type": "subslide"
    }
   },
   "outputs": [
    {
     "name": "stdout",
     "output_type": "stream",
     "text": [
      "2\n",
      "4\n",
      "5\n",
      "loop is over\n"
     ]
    }
   ],
   "source": [
    "a = 1\n",
    "while a < 5:\n",
    "    a = a + 1\n",
    "    if a == 3:\n",
    "        continue\n",
    "    print(a)\n",
    "print(\"loop is over\")"
   ]
  },
  {
   "cell_type": "markdown",
   "id": "a86ac602-adae-4e95-807c-e527fa70653a",
   "metadata": {
    "slideshow": {
     "slide_type": "subslide"
    }
   },
   "source": [
    "```{note}\n",
    "Both `for` loops and `while` loops can be followed by an `else` statement. The `else` block executes only if the loop completes normally (i.e., without encountering a `break`).\n",
    "```"
   ]
  },
  {
   "cell_type": "markdown",
   "id": "5b78483d",
   "metadata": {
    "slideshow": {
     "slide_type": "slide"
    }
   },
   "source": [
    "## Self-defined functions\n",
    "<hr>\n",
    "\n",
    "Python uses the keyword ``def`` to define a function. They syntax is:\n",
    "\n",
    "<table>   \n",
    "    <tr style=\"border-top:solid; border-bottom:solid\">\n",
    "    </tr>\n",
    "    <tr>\n",
    "        <td style=\"text-align:left\">def &nbsp;&nbsp;function_name(parameters):</td>\n",
    "    </tr>\n",
    "    <tr style=\"border-bottom:solid\">\n",
    "        <td style=\"text-align:left\">&nbsp;&nbsp;&nbsp;&nbsp;&nbsp;&nbsp;&nbsp;&nbsp;&nbsp;statements</td>\n",
    "    </tr>\n",
    "</table>\n",
    "<br />"
   ]
  },
  {
   "cell_type": "markdown",
   "id": "e4142232",
   "metadata": {
    "slideshow": {
     "slide_type": "subslide"
    }
   },
   "source": [
    "The following codes define a summation function."
   ]
  },
  {
   "cell_type": "code",
   "execution_count": 10,
   "id": "cdb0f7fb",
   "metadata": {
    "slideshow": {
     "slide_type": "fragment"
    }
   },
   "outputs": [],
   "source": [
    "def add(x1, x2):\n",
    "    z = x1 + x2\n",
    "    return z"
   ]
  },
  {
   "cell_type": "markdown",
   "id": "71966144",
   "metadata": {
    "slideshow": {
     "slide_type": "subslide"
    }
   },
   "source": [
    "There are severy features for a self-defined function in Python.\n",
    "\n",
    "|Feature|Description|\n",
    "|--|--|\n",
    "|`def`|A self-defined function starts with keyword `def` |\n",
    "|`( )`|Function parameters are inside the parentheses|\n",
    "|`:`| A colon after the right parenthesis of the parameters|\n",
    "|`return`|The return values of the fuction follows after the keyword `return` |"
   ]
  },
  {
   "cell_type": "markdown",
   "id": "95d87c1b",
   "metadata": {
    "slideshow": {
     "slide_type": "subslide"
    }
   },
   "source": [
    "**A Python function can return one or multiple values, or no return values**. The following code returns multiple values—both the sum of the two arguments and the original arguments themselves."
   ]
  },
  {
   "cell_type": "code",
   "execution_count": 11,
   "id": "12226aea",
   "metadata": {
    "slideshow": {
     "slide_type": "fragment"
    }
   },
   "outputs": [],
   "source": [
    "def add(x1, x2):\n",
    "    z = x1 + x2\n",
    "    return z, x1, x2"
   ]
  },
  {
   "cell_type": "markdown",
   "id": "f8968b83",
   "metadata": {
    "slideshow": {
     "slide_type": "subslide"
    }
   },
   "source": [
    "When calling a function, specify the function name and pass in the required arguments, for example:"
   ]
  },
  {
   "cell_type": "markdown",
   "id": "b2108322-6483-419b-a013-3e1dcba97132",
   "metadata": {},
   "source": [
    "- `Arguments` are the actual values passed to the function when it is called. They replace the `parameters` during execution."
   ]
  },
  {
   "cell_type": "code",
   "execution_count": 5,
   "id": "2375192e",
   "metadata": {
    "slideshow": {
     "slide_type": "fragment"
    }
   },
   "outputs": [
    {
     "name": "stdout",
     "output_type": "stream",
     "text": [
      "16\n"
     ]
    }
   ],
   "source": [
    "def add(x1, x2):\n",
    "    z = x1 + x2\n",
    "    return z\n",
    "\n",
    "\n",
    "x1 = 10\n",
    "x2 = 6\n",
    "print(add(x1, x2))"
   ]
  },
  {
   "cell_type": "markdown",
   "id": "ab819e10",
   "metadata": {
    "slideshow": {
     "slide_type": "subslide"
    }
   },
   "source": [
    "If you don't need to use a particular return value, you can assign it to an underscore `_` as a convention to indicate unused variables."
   ]
  },
  {
   "cell_type": "code",
   "execution_count": 6,
   "id": "7fe9ca8e",
   "metadata": {
    "slideshow": {
     "slide_type": "fragment"
    }
   },
   "outputs": [
    {
     "name": "stdout",
     "output_type": "stream",
     "text": [
      "16\n",
      "6\n"
     ]
    }
   ],
   "source": [
    "def add(x1, x2):\n",
    "    z = x1 + x2\n",
    "    return z, x1, x2\n",
    "\n",
    "\n",
    "x1 = 10\n",
    "x2 = 6\n",
    "sums, _, b = add(x1, x2)  # use _ to represent the second value\n",
    "print(sums)\n",
    "print(b)"
   ]
  },
  {
   "cell_type": "markdown",
   "id": "ea4ed13a",
   "metadata": {
    "slideshow": {
     "slide_type": "fragment"
    }
   },
   "source": [
    "In the code above, an underscore `_` is used to ignore the second return value, while the other return values are assigned to new variables."
   ]
  },
  {
   "cell_type": "markdown",
   "id": "429219bb",
   "metadata": {
    "slideshow": {
     "slide_type": "subslide"
    }
   },
   "source": [
    "A function can also be defined without input parameters, meaning the parentheses can be left empty. For example, the following code prints the message ``Hello, world!''."
   ]
  },
  {
   "cell_type": "code",
   "execution_count": 15,
   "id": "6b8c8cea",
   "metadata": {
    "slideshow": {
     "slide_type": "fragment"
    }
   },
   "outputs": [
    {
     "name": "stdout",
     "output_type": "stream",
     "text": [
      "Hello, world!\n"
     ]
    }
   ],
   "source": [
    "def hello():\n",
    "    print(\"Hello, world!\")\n",
    "\n",
    "\n",
    "hello()"
   ]
  },
  {
   "cell_type": "markdown",
   "id": "1f6f5b04",
   "metadata": {},
   "source": [
    "You can use triple quote `''' '''` or triple quotes `\"\"\" \"\"\"` to add function documentation (`docstring`). For example:"
   ]
  },
  {
   "cell_type": "code",
   "execution_count": 2,
   "id": "2cceeac2",
   "metadata": {},
   "outputs": [
    {
     "name": "stdout",
     "output_type": "stream",
     "text": [
      "Hello, world!\n"
     ]
    }
   ],
   "source": [
    "def hello():\n",
    "    \"\"\"This is a hello function.\"\"\"\n",
    "    print(\"Hello, world!\")\n",
    "\n",
    "\n",
    "hello()"
   ]
  },
  {
   "cell_type": "markdown",
   "id": "d510fc18",
   "metadata": {},
   "source": [
    "In some Python IDEs like Spyder or PyCharm, hovering the mouse over a function or class name will automatically display its documentation (docstring), significantly improving code readability."
   ]
  },
  {
   "cell_type": "markdown",
   "id": "2e7bae8e",
   "metadata": {
    "slideshow": {
     "slide_type": "slide"
    }
   },
   "source": [
    "### Parameter Passing Types in Functions\n",
    "<hr>\n",
    "\n",
    "Function parameters in Python are categorized by mutability into two groups:\n",
    "\n",
    "• Immutable objects: `numeric`, `strings`, `tuples`\n",
    "\n",
    "• Mutable objects: `lists`, `dicts`, `sets`"
   ]
  },
  {
   "cell_type": "markdown",
   "id": "b9bce552-69ee-42ac-915c-df72fbd59c11",
   "metadata": {},
   "source": [
    "- `Arguments` are the actual values passed to the function when it is called. They replace the `parameters` during execution."
   ]
  },
  {
   "cell_type": "markdown",
   "id": "a9cce46e",
   "metadata": {
    "slideshow": {
     "slide_type": "subslide"
    }
   },
   "source": [
    "For immutable types, the original value of the parameter remains unchanged after being passed to a function. For example:"
   ]
  },
  {
   "cell_type": "code",
   "execution_count": 11,
   "id": "bba6b269",
   "metadata": {
    "slideshow": {
     "slide_type": "fragment"
    }
   },
   "outputs": [
    {
     "name": "stdout",
     "output_type": "stream",
     "text": [
      "2\n"
     ]
    }
   ],
   "source": [
    "def changeNum(a): # this parameter a is valid only inside the scope of the function\n",
    "    a = 10\n",
    "\n",
    "\n",
    "a = 2 # this variable is outside the scope of the function\n",
    "changeNum(a)\n",
    "print(a)  #  the value a is still 2"
   ]
  },
  {
   "cell_type": "markdown",
   "id": "e18a30d1",
   "metadata": {
    "slideshow": {
     "slide_type": "fragment"
    }
   },
   "source": [
    "In the above code, since a numeric type is passed, the original value of the parameter remains unchanged after the function call. The same behavior applies to string and tuple types when passed as arguments."
   ]
  },
  {
   "cell_type": "markdown",
   "id": "05883a08-6648-4788-bedc-ae8d5e4af605",
   "metadata": {},
   "source": [
    "```{note}\n",
    "For the parameters in a function, if they are immutable objects, they are local variables and only valid inside the function body. So they are different with the same-name variables outside the function defintion block.\n",
    "```"
   ]
  },
  {
   "cell_type": "markdown",
   "id": "d4d36196-1ba8-4823-96ca-7b499d0beba7",
   "metadata": {},
   "source": [
    "We can use the keyword `global` to declare a variable inside a function refer to a variable in the global (module-level) scope rather than creating a local variable.\n",
    "\n",
    "- The global variable can not be the parameter of a function."
   ]
  },
  {
   "cell_type": "code",
   "execution_count": 7,
   "id": "890712f2-051a-426a-8e51-fd7eb25214cc",
   "metadata": {},
   "outputs": [
    {
     "name": "stdout",
     "output_type": "stream",
     "text": [
      "10\n"
     ]
    }
   ],
   "source": [
    "def changeNum(): \n",
    "    global a # declare a global variable\n",
    "    a = 10\n",
    "\n",
    "\n",
    "a = 2 # this variable is outside the scope of the function\n",
    "changeNum()\n",
    "print(a)  #  the value a is changed"
   ]
  },
  {
   "cell_type": "markdown",
   "id": "1086c683",
   "metadata": {
    "slideshow": {
     "slide_type": "subslide"
    }
   },
   "source": [
    "When mutable objects (e.g., lists, dictionaries) are passed to a function, their original values can be altered if modified inside the function. This happens because Python passes them by object reference. For example:"
   ]
  },
  {
   "cell_type": "code",
   "execution_count": 12,
   "id": "2ed17f06",
   "metadata": {
    "slideshow": {
     "slide_type": "fragment"
    }
   },
   "outputs": [
    {
     "name": "stdout",
     "output_type": "stream",
     "text": [
      "[10, 20, 30, 1, 2, 3]\n"
     ]
    }
   ],
   "source": [
    "def changeList(mylist):\n",
    "    mylist.extend([1, 2, 3])\n",
    "    return mylist\n",
    "\n",
    "\n",
    "listTry = [10, 20, 30]\n",
    "changeList(listTry)\n",
    "print(listTry)  "
   ]
  },
  {
   "cell_type": "markdown",
   "id": "261b0e4e",
   "metadata": {
    "slideshow": {
     "slide_type": "subslide"
    }
   },
   "source": [
    "###  Parameter passing techniques in functions\n",
    "<hr>\n",
    "\n",
    "There are four main methods for passing function parameters:\n",
    "\n",
    "- Positional arguments \n",
    "\n",
    "- Assignment by keyword arguments \n",
    "\n",
    "- Default parameter values \n",
    "\n",
    "- Variable-length arguments "
   ]
  },
  {
   "cell_type": "markdown",
   "id": "3598a188",
   "metadata": {
    "slideshow": {
     "slide_type": "subslide"
    }
   },
   "source": [
    "For positional arguments, the function parameters are assigned values in a **one-to-one correspondence** with the input order."
   ]
  },
  {
   "cell_type": "code",
   "execution_count": 18,
   "id": "959cb9e4",
   "metadata": {
    "slideshow": {
     "slide_type": "fragment"
    }
   },
   "outputs": [
    {
     "name": "stdout",
     "output_type": "stream",
     "text": [
      "4\n"
     ]
    }
   ],
   "source": [
    "def minus(x1, x2):\n",
    "    z = x1 - x2\n",
    "    return z\n",
    "\n",
    "\n",
    "print(minus(10, 6))"
   ]
  },
  {
   "cell_type": "markdown",
   "id": "9693f359",
   "metadata": {
    "slideshow": {
     "slide_type": "fragment"
    }
   },
   "source": [
    "In the code above, when calling the minus function, the parameters are assigned in order, meaning $x_1$ is set to 10 and $x_2$ is set to 6."
   ]
  },
  {
   "cell_type": "markdown",
   "id": "c9d9f17e",
   "metadata": {
    "slideshow": {
     "slide_type": "subslide"
    }
   },
   "source": [
    "`Keyword argument passing` means that when calling a function, you can directly assign values to parameters by name. Python **automatically matches the values to parameters based on the names specified in parentheses**. For example:"
   ]
  },
  {
   "cell_type": "code",
   "execution_count": 13,
   "id": "869a1b99",
   "metadata": {
    "scrolled": true,
    "slideshow": {
     "slide_type": "fragment"
    }
   },
   "outputs": [
    {
     "name": "stdout",
     "output_type": "stream",
     "text": [
      "-4\n"
     ]
    }
   ],
   "source": [
    "def minus(x1, x2):\n",
    "    z = x1 - x2\n",
    "    return z\n",
    "\n",
    "\n",
    "print(minus(x2=10, x1=6))"
   ]
  },
  {
   "cell_type": "markdown",
   "id": "2bbdd715",
   "metadata": {
    "slideshow": {
     "slide_type": "fragment"
    }
   },
   "source": [
    "In the above code, when calling the minus function, the parameters are explicitly assigned within the parentheses, resulting in $x_2$ being set to 10 and $x_1$ to 6."
   ]
  },
  {
   "cell_type": "markdown",
   "id": "53b947f8",
   "metadata": {
    "slideshow": {
     "slide_type": "subslide"
    }
   },
   "source": [
    "In Python, when defining a function, you can set default values for parameters. When calling the function, **if no value is provided for a parameter, the default value will be used**. For example:"
   ]
  },
  {
   "cell_type": "code",
   "execution_count": 20,
   "id": "97fd1447",
   "metadata": {
    "slideshow": {
     "slide_type": "fragment"
    }
   },
   "outputs": [
    {
     "name": "stdout",
     "output_type": "stream",
     "text": [
      "4\n",
      "5\n"
     ]
    }
   ],
   "source": [
    "def minus(x1, x2=6):\n",
    "    z = x1 - x2\n",
    "    return z\n",
    "\n",
    "\n",
    "print(minus(x1=10))  # x2 use the default value 6\n",
    "print(minus(x1=10, x2=5))  # x2 use the value 5 since a value for x2 is provided when calling the function"
   ]
  },
  {
   "cell_type": "markdown",
   "id": "feb4f32e",
   "metadata": {
    "slideshow": {
     "slide_type": "subslide"
    }
   },
   "source": [
    "When a function receives multiple arguments, but you're not exactly sure how many, you can use `*args` to represent multiple arguments, in which `*args` can be seen as the name of a list. For example:"
   ]
  },
  {
   "cell_type": "code",
   "execution_count": 2,
   "id": "c31a99d5",
   "metadata": {
    "slideshow": {
     "slide_type": "fragment"
    }
   },
   "outputs": [
    {
     "name": "stdout",
     "output_type": "stream",
     "text": [
      "x is 3\n",
      "final x is 12\n",
      "x is 3\n",
      "final x is 18\n"
     ]
    }
   ],
   "source": [
    "def plus(x, *a):\n",
    "    print(\"x is %d\" % x)\n",
    "    for var in a:\n",
    "        x += var\n",
    "    print(\"final x is %d\" % x)\n",
    "\n",
    "\n",
    "plus(3, 4, 5)  # *a is [4, 5]\n",
    "plus(3, 4, 5, 6)  # *a is [4, 5, 6]"
   ]
  },
  {
   "cell_type": "markdown",
   "id": "f0972a75",
   "metadata": {
    "slideshow": {
     "slide_type": "subslide"
    }
   },
   "source": [
    "You can use `**args` to pass a variable number of keyword (name-value) arguments. For example:"
   ]
  },
  {
   "cell_type": "code",
   "execution_count": 9,
   "id": "a3a01863",
   "metadata": {
    "slideshow": {
     "slide_type": "fragment"
    }
   },
   "outputs": [
    {
     "name": "stdout",
     "output_type": "stream",
     "text": [
      "7\n"
     ]
    }
   ],
   "source": [
    "def minus(x1, **a):\n",
    "    sum = 0\n",
    "    for key in a:\n",
    "        sum += a[key]\n",
    "        return x1 - sum\n",
    "\n",
    "\n",
    "print(minus(10, x2=3, x3=5))"
   ]
  },
  {
   "cell_type": "markdown",
   "id": "bd9f978b",
   "metadata": {
    "slideshow": {
     "slide_type": "fragment"
    }
   },
   "source": [
    "In the above codes, `**args` represents x2 = 3, x3 = 5."
   ]
  },
  {
   "cell_type": "markdown",
   "id": "4a29c049",
   "metadata": {},
   "source": [
    "## Debugging\n",
    "<hr>"
   ]
  },
  {
   "cell_type": "markdown",
   "id": "f49d0759",
   "metadata": {},
   "source": [
    "Debugging a program is an unavoidable step in programming. The purpose of debugging is to help identify and fix errors in the program. Even the best programmers can't write a completely error-free program on the first try. Python provides several common methods for debugging programs."
   ]
  },
  {
   "cell_type": "markdown",
   "id": "e006f559",
   "metadata": {},
   "source": [
    "### Debug using `print()`\n",
    "<hr>"
   ]
  },
  {
   "cell_type": "markdown",
   "id": "9347a287",
   "metadata": {},
   "source": [
    "This method typically involves placing `print()` statements before lines of code that are suspected to contain errors, in order to print out certain variable values or function outputs. This helps the programmer determine where the error is occurring. This debugging method is suitable for situations where the code is short, the problem is simple, and only a few variables need to be checked."
   ]
  },
  {
   "cell_type": "markdown",
   "id": "f4e5ecc2",
   "metadata": {},
   "source": [
    "For example, the following codes have a `print()` line to ouput the values of a and b to check the possible erros."
   ]
  },
  {
   "cell_type": "markdown",
   "id": "9e0c3eac",
   "metadata": {},
   "source": [
    "```{code} python\n",
    "def divide(a, b):\n",
    "    print(f\"DEBUG: a={a}, b={b}\")  # check the value of a and b\n",
    "    return a / b \n",
    "\n",
    "\n",
    "print(divide(10, 2))\n",
    "print(divide(5, 0))  # there is somthing wrong here\n",
    "```"
   ]
  },
  {
   "cell_type": "markdown",
   "id": "5c46cfd3",
   "metadata": {},
   "source": [
    "The drawbacks of this method is: the `print()` positions need to be manually modified each time."
   ]
  },
  {
   "cell_type": "markdown",
   "id": "b8307386",
   "metadata": {},
   "source": [
    "### Debug using a dubugger\n",
    "<hr>"
   ]
  },
  {
   "cell_type": "markdown",
   "id": "e6c18058-5e5a-4854-a42d-28d06d0e602f",
   "metadata": {},
   "source": [
    "Python comes with a built-in debugger called `pdb`. Additionally, other Python IDEs such as `Spyder`, `PyCharm`, and `VS Code` provide dedicated debugging features in their menu or toolbar."
   ]
  },
  {
   "cell_type": "markdown",
   "id": "db70d7f7",
   "metadata": {},
   "source": [
    "The general steps for debugging with a debugger are:\n",
    "\n",
    "1. Set a breakpoint before the suspected problematic code line\n",
    "\n",
    "   - In IDEs: Click next to the line number (a red dot will appear)\n",
    "\n",
    "   - In pdb: Add the line `pdb.set_trace()`\n",
    "\n",
    "2. Use debugging tools to identify or fix errors\n",
    "\n",
    "3. Exit debugging mode"
   ]
  },
  {
   "cell_type": "markdown",
   "id": "8c245e70",
   "metadata": {},
   "source": [
    "The following codes are an example using `pdb` to debug:"
   ]
  },
  {
   "cell_type": "markdown",
   "id": "d7d7f093-60d8-413b-b2fc-386026757b93",
   "metadata": {},
   "source": [
    "- Before using `pdb`, first import the pdb library by `import pdb`."
   ]
  },
  {
   "cell_type": "markdown",
   "id": "aba837e0-a2d7-41d9-be6c-5d9a8fc5a46d",
   "metadata": {},
   "source": [
    "```{code} python\n",
    "import pdb # import the pdb library\n",
    "\n",
    "\n",
    "def divide(a, b):\n",
    "    pdb.set_trace()  # the line for pdb debugging\n",
    "    return a / b\n",
    "\n",
    "\n",
    "print(divide(10, 2))\n",
    "```"
   ]
  },
  {
   "cell_type": "markdown",
   "id": "ecd69a69",
   "metadata": {},
   "source": [
    "After running the code, a `pdb command-line interface` will appear, allowing you to enter debugging commands for troubleshooting."
   ]
  },
  {
   "cell_type": "markdown",
   "id": "8fada1da",
   "metadata": {},
   "source": [
    "Some commands for `pdb`:\n",
    "\n",
    "\n",
    "| Command | Function |\n",
    "|---------|----------|\n",
    "| n (next) | Execute current line (without entering functions) |\n",
    "| s (step) | Step into function calls |\n",
    "| r (return) | Run until current function returns |\n",
    "| p var | Print variable value |\n",
    "| c (continue) | Continue execution until next breakpoint |\n",
    "| q | Quit debugging |"
   ]
  },
  {
   "cell_type": "markdown",
   "id": "29e91cb3",
   "metadata": {},
   "source": [
    "### `Step Into`, `Step Over`, `Step Out`, `Resume Program`\n",
    "<hr>"
   ]
  },
  {
   "cell_type": "markdown",
   "id": "584ab521",
   "metadata": {},
   "source": [
    "When using an IDE for debugging, `Step Into`, `Step Over`, `Step Out`, and `Resume Program` are common debugger functions, and their differences are as follows:"
   ]
  },
  {
   "cell_type": "markdown",
   "id": "04b47ec3",
   "metadata": {},
   "source": [
    "- `Step Into`  \n",
    "  Executes code line-by-line. If the current line contains a function call, it enters that function.  \n",
    "  - Equivalent to `s` in pdb  \n",
    "\n",
    "- `Step Over`\n",
    "  Executes the current line's code. If the line contains a function call, it runs the entire function without stepping inside, then pauses at the next line.  \n",
    "  - Equivalent to `n` in pdb \n",
    "\n",
    "- `Step Out`  \n",
    "  When inside a function: Completes the remaining code of the current function and returns to its caller.  \n",
    "  Outside functions: Continues execution until the next breakpoint or program end.  \n",
    "  - Equivalent to `r` in pdb \n",
    "\n",
    "- `Resume Program`\n",
    "  Continues program execution until the next breakpoint or program termination.  \n",
    "  - Equivalent to `c` in pdb"
   ]
  },
  {
   "cell_type": "code",
   "execution_count": 7,
   "id": "3b9fb2da",
   "metadata": {},
   "outputs": [
    {
     "name": "stdout",
     "output_type": "stream",
     "text": [
      "30\n"
     ]
    }
   ],
   "source": [
    "def add(a, b):\n",
    "    return a + b\n",
    "\n",
    "\n",
    "def main():\n",
    "    x = 10\n",
    "    y = 20\n",
    "    result = add(x, y)  # if using \"Step Into\" when debugging, the dubgugger will enter the first line of the \"add\" function\n",
    "    print(result)\n",
    "\n",
    "\n",
    "main()"
   ]
  },
  {
   "cell_type": "code",
   "execution_count": 14,
   "id": "d3f963f0",
   "metadata": {},
   "outputs": [
    {
     "name": "stdout",
     "output_type": "stream",
     "text": [
      "30\n"
     ]
    }
   ],
   "source": [
    "def add(a, b):\n",
    "    return a + b\n",
    "\n",
    "\n",
    "def main():\n",
    "    x = 10\n",
    "    y = 20\n",
    "    result = add(x, y)  # if using \"Step Over\" here, the dubugger will execute the \"add\" function and go to the next line in the current block\n",
    "    print(result)\n",
    "\n",
    "\n",
    "main()"
   ]
  },
  {
   "cell_type": "code",
   "execution_count": 7,
   "id": "a02c2367",
   "metadata": {},
   "outputs": [
    {
     "name": "stdout",
     "output_type": "stream",
     "text": [
      "30\n"
     ]
    }
   ],
   "source": [
    "import pdb\n",
    "\n",
    "\n",
    "def add(a, b):\n",
    "    pass # If using \"Step Out\" here, the dubugger will execute the \"add\" function and return to its caller\n",
    "    return a + b  \n",
    "\n",
    "\n",
    "def main():\n",
    "    x = 10\n",
    "    y = 20\n",
    "    result = add(x, y) # Execution will pause here after stepping out\n",
    "    print(result)\n",
    "\n",
    "\n",
    "main()"
   ]
  },
  {
   "cell_type": "markdown",
   "id": "684aef79-7d71-4f99-9036-3df32f4b0b29",
   "metadata": {},
   "source": [
    "- Python has a keyword called `pass`, which performs no operation. It is typically used as a placeholder statement and can be helpful during program debugging."
   ]
  },
  {
   "cell_type": "markdown",
   "id": "016ed9c4",
   "metadata": {},
   "source": [
    "In some debuggers (such as PyCharm), `Step Into My Code` is an enhanced version of Step Into that serves the following purposes:\n",
    "\n",
    "- Steps into your own written code while skipping Python built-in libraries and third-party library code.\n",
    "\n",
    "- Avoids entering external libraries (like numpy, pandas, etc.), focusing only on debugging your own code to improve debugging efficiency."
   ]
  },
  {
   "cell_type": "markdown",
   "id": "a99db8ed",
   "metadata": {},
   "source": [
    "```{note}\n",
    "The debugging fucionts in some Python IDEs may be a little different with the above descriptions, but are generally quite similar.\n",
    "```"
   ]
  },
  {
   "cell_type": "markdown",
   "id": "ed3b91f9",
   "metadata": {
    "slideshow": {
     "slide_type": "slide"
    }
   },
   "source": [
    "### Debug using `try-except` statements\n",
    "<hr>\n",
    "\n",
    "When writing programs, sometimes you're unsure whether the code will run correctly and want to test how it executes. In such cases, you can use a **try-except statement**: if the code in the `try block` fails to execute successfully, the program will then run the code in the `except block`."
   ]
  },
  {
   "cell_type": "markdown",
   "id": "00e60453",
   "metadata": {},
   "source": [
    "<table>   \n",
    "    <tr style=\"border-top:solid; border-bottom:solid\">\n",
    "    </tr>\n",
    "    <tr>\n",
    "        <td style=\"text-align:left\">try:</td>\n",
    "    </tr> \n",
    "    <tr>\n",
    "        <td style=\"text-align:left\">&nbsp;&nbsp;&nbsp;&nbsp;&nbsp;&nbsp;statements</td>\n",
    "    </tr>\n",
    "    <tr>\n",
    "        <td style=\"text-align:left\">except SomeError:</td>\n",
    "    </tr> \n",
    "    <tr style=\"border-bottom:solid\">\n",
    "        <td style=\"text-align:left\">&nbsp;&nbsp;&nbsp;&nbsp;&nbsp;&nbsp;statements</td>\n",
    "    </tr>\n",
    "</table>\n",
    "<br />"
   ]
  },
  {
   "cell_type": "markdown",
   "id": "c577fef2",
   "metadata": {
    "slideshow": {
     "slide_type": "subslide"
    }
   },
   "source": [
    "For example:"
   ]
  },
  {
   "cell_type": "code",
   "execution_count": 20,
   "id": "0c46c52b",
   "metadata": {
    "slideshow": {
     "slide_type": "fragment"
    }
   },
   "outputs": [
    {
     "name": "stdout",
     "output_type": "stream",
     "text": [
      "x2 should not be zero\n"
     ]
    }
   ],
   "source": [
    "def devide(x1, x2):\n",
    "    try:\n",
    "        z = x1 / x2\n",
    "        print(z)\n",
    "    except ZeroDivisionError:  # ZeroDivisionError is an error when trying to dividing a number by zero\n",
    "        print(\"x2 should not be zero\")\n",
    "\n",
    "\n",
    "devide(5, 0)"
   ]
  },
  {
   "cell_type": "markdown",
   "id": "efb88ae4",
   "metadata": {
    "slideshow": {
     "slide_type": "fragment"
    }
   },
   "source": [
    "In the above code, if x1 can be divided by x2, output the quotient; otherwise, output a notice."
   ]
  },
  {
   "cell_type": "markdown",
   "id": "6045f2d6",
   "metadata": {},
   "source": [
    "Common exception types include:"
   ]
  },
  {
   "cell_type": "markdown",
   "id": "74c10d50",
   "metadata": {},
   "source": [
    "| Exception Type       | Description                                                                 |\n",
    "|----------------------|-----------------------------------------------------------------------------|\n",
    "| **AttributeError**   | Raised when accessing a non-existent attribute or method of an object.      |\n",
    "| **IndexError**       | Occurs when trying to access an index outside the valid range of a sequence. |\n",
    "| **SyntaxError**      | Caused by incorrect Python syntax (e.g., missing colons or parentheses).    |\n",
    "| **NameError**        | Raised when referencing an undefined variable or function.                  |\n",
    "| **TypeError**        | Occurs when a function receives an argument of an inappropriate type.       |\n",
    "| **ModuleNotFoundError** | Triggered when attempting to import a module that does not exist or cannot be found. |\n",
    "| **ValueError**       | Raised when a function argument has the correct type but an invalid value.  |\n"
   ]
  },
  {
   "cell_type": "markdown",
   "id": "a4267886-7bd2-48f7-a66f-9070d388863a",
   "metadata": {
    "slideshow": {
     "slide_type": "subslide"
    }
   },
   "source": [
    "## `lambda`, `map`, `filter`, `reduce`\n",
    "<hr>\n",
    "\n",
    "Python uses `lambda`, `map`, `filter` or `reduce` to create anonymous functions. The term \"anonymous\" means these functions are not defined using the standard def statement. \n",
    "\n",
    "Key Features:\n",
    "- **Single-line only**: Lambda functions are restricted to one expression.\n",
    "\n",
    "- Syntax: Separates input arguments and the return value with a colon (`:`)."
   ]
  },
  {
   "cell_type": "markdown",
   "id": "aa81743f-c865-4708-a2ab-09a56e204d4e",
   "metadata": {},
   "source": [
    "The syntax for `lambda` anonymous function is:"
   ]
  },
  {
   "cell_type": "markdown",
   "id": "34685e87-37d3-4dda-98e8-979cadf1e81e",
   "metadata": {
    "slideshow": {
     "slide_type": "fragment"
    }
   },
   "source": [
    "<table>   \n",
    "    <tr style=\"border-top:solid; border-bottom:solid\">\n",
    "    </tr>\n",
    "    <tr style=\"border-bottom:solid\">\n",
    "        <td style=\"text-align:left\"> function_name = lambda parameters: return statements</td>\n",
    "    </tr>    \n",
    "</table>\n",
    "<br />"
   ]
  },
  {
   "cell_type": "markdown",
   "id": "0cc1e6f3-acca-44c7-9319-8d742f8dd5bc",
   "metadata": {},
   "source": [
    "For example:"
   ]
  },
  {
   "cell_type": "code",
   "execution_count": 23,
   "id": "34b07600",
   "metadata": {
    "slideshow": {
     "slide_type": "subslide"
    }
   },
   "outputs": [
    {
     "name": "stdout",
     "output_type": "stream",
     "text": [
      "16\n"
     ]
    }
   ],
   "source": [
    "add = lambda x1, x2: x1 + x2\n",
    "print(add(10, 6))"
   ]
  },
  {
   "cell_type": "markdown",
   "id": "122b8313-b728-4bc5-91e2-bb7c595aaf37",
   "metadata": {},
   "source": [
    "In the above codes, \"add\" is the function name, the parameters are x1, x2 and the return value is x1 + x2."
   ]
  },
  {
   "cell_type": "markdown",
   "id": "6397b0e3-52d6-4874-905d-a59847ce7671",
   "metadata": {
    "slideshow": {
     "slide_type": "subslide"
    }
   },
   "source": [
    "We can also use the `if-else` statement in the lambda function. "
   ]
  },
  {
   "cell_type": "code",
   "execution_count": 1,
   "id": "bacf8b93",
   "metadata": {
    "slideshow": {
     "slide_type": "fragment"
    }
   },
   "outputs": [
    {
     "name": "stdout",
     "output_type": "stream",
     "text": [
      "20\n"
     ]
    }
   ],
   "source": [
    "Max = lambda a, b: a if a > b else b\n",
    "print(Max(12, 20))"
   ]
  },
  {
   "cell_type": "markdown",
   "id": "826ec7fa-a633-412f-9cc5-566f413fed76",
   "metadata": {},
   "source": [
    "The `map(fun, iter)` function applies the function “fun” to each element in an iterable object and returns a **map-type iterable object**.  \n",
    "\n",
    "Key Features:  \n",
    "- Applies a function to every item in an iterable (e.g., list, tuple).  \n",
    "- **Returns a map object** (an iterator), which can be converted to a list, tuple, etc.  \n",
    "- fun` can be:  \n",
    "  - A `lambda` anonymous function(for simple operations).  \n",
    "  - A `def` custom function (for complex logic).  \n"
   ]
  },
  {
   "cell_type": "code",
   "execution_count": 37,
   "id": "32c20730",
   "metadata": {},
   "outputs": [
    {
     "data": {
      "text/plain": [
       "<map at 0x1287fcdc0>"
      ]
     },
     "execution_count": 37,
     "metadata": {},
     "output_type": "execute_result"
    }
   ],
   "source": [
    "a = [1, 2, 3]\n",
    "b = map(lambda x: x**2, a)  # 对 a 中每个元素平方\n",
    "b"
   ]
  },
  {
   "cell_type": "markdown",
   "id": "d11db270-dbde-4a44-93ac-dc9a0ba4dc4a",
   "metadata": {},
   "source": [
    "We can use `list()`` function to convert the map-type iteratble object to the type list."
   ]
  },
  {
   "cell_type": "code",
   "execution_count": 26,
   "id": "04fd0c15",
   "metadata": {},
   "outputs": [
    {
     "data": {
      "text/plain": [
       "[1, 4, 9]"
      ]
     },
     "execution_count": 26,
     "metadata": {},
     "output_type": "execute_result"
    }
   ],
   "source": [
    "list(b)"
   ]
  },
  {
   "cell_type": "markdown",
   "id": "b33b231e-cd7c-4c84-bad7-a473a85d8940",
   "metadata": {},
   "source": [
    "The `filter(fun, iter)` function applies a filtering function \"fun\" to each element in the iterable iter and returns a **filter-type iterable object** containing only the elements that meet the condition."
   ]
  },
  {
   "cell_type": "code",
   "execution_count": 48,
   "id": "08bd6a78",
   "metadata": {},
   "outputs": [
    {
     "data": {
      "text/plain": [
       "[2, 3]"
      ]
     },
     "execution_count": 48,
     "metadata": {},
     "output_type": "execute_result"
    }
   ],
   "source": [
    "a = [1, 2, 3]\n",
    "b = filter(lambda x: x >= 2, a)  # filter the elements which are greater equal than 2\n",
    "list(b)"
   ]
  },
  {
   "cell_type": "markdown",
   "id": "376d1e51-c717-4f48-be0c-43b53163808c",
   "metadata": {},
   "source": [
    "The `reduce(fun, iter)` function applies a function \"fun\" cumulatively to items in an iterable object, reducing them to a single value. It **first applies the function to the first two elements** in the iterable iter, then uses the result as the first input for fun when processing the third element, and so on."
   ]
  },
  {
   "cell_type": "code",
   "execution_count": 62,
   "id": "52b472d9",
   "metadata": {},
   "outputs": [
    {
     "data": {
      "text/plain": [
       "10"
      ]
     },
     "execution_count": 62,
     "metadata": {},
     "output_type": "execute_result"
    }
   ],
   "source": [
    "from functools import reduce  # import reduce from the library functools\n",
    "\n",
    "a = [1, 2, 3, 4]\n",
    "b = reduce(lambda x1, x2: x1 + x2, a) \n",
    "b"
   ]
  },
  {
   "cell_type": "markdown",
   "id": "6b80d293-9726-4353-8fa6-1fbc5ccea4d2",
   "metadata": {},
   "source": [
    "The reduce function **can also accept three parameters**, in the form of `reduce(fun, iter, start=None)`. In this case:\n",
    "\n",
    "- It first applies the function fun to the initial value start and the first element of the iterable iter.\n",
    "\n",
    "- Then uses the result as the first input for fun when processing the second element.\n",
    "\n",
    "- This process continues sequentially through all elements and finally returns a single accumulated value."
   ]
  },
  {
   "cell_type": "code",
   "execution_count": 67,
   "id": "564e8e47",
   "metadata": {
    "scrolled": true
   },
   "outputs": [
    {
     "data": {
      "text/plain": [
       "20"
      ]
     },
     "execution_count": 67,
     "metadata": {},
     "output_type": "execute_result"
    }
   ],
   "source": [
    "a = [1, 2, 3, 4]\n",
    "b = reduce(lambda x1, x2: x1 + x2, a, 10)  # initial value is 10\n",
    "b"
   ]
  },
  {
   "cell_type": "markdown",
   "id": "d4c8e20d",
   "metadata": {},
   "source": [
    "## Import other modules* [^1]\n",
    "<hr>"
   ]
  },
  {
   "cell_type": "markdown",
   "id": "3689771b",
   "metadata": {},
   "source": [
    "[^1]: \\* means this section may not be delivered in class.\n",
    "\n",
    "In Python programming, every file with a `.py` extension is called a module. Often, we need to import functions from other modules just like we import some libraries."
   ]
  },
  {
   "cell_type": "markdown",
   "id": "e27e7039",
   "metadata": {},
   "source": [
    "### Where Python find modules\n",
    "<hr>"
   ]
  },
  {
   "cell_type": "markdown",
   "id": "2bc26758",
   "metadata": {},
   "source": [
    "The search order for Python modules is as follows:  \n",
    "1. **Current directory** (the folder where the script is located).  \n",
    "2. **Directories in `sys.path`**:  \n",
    "   - Paths specified in the `PYTHONPATH` environment variable.  \n",
    "   - Standard library paths in the Python installation directory (for built-in libraries).  \n",
    "   - The `site-packages` directory (for installed third-party libraries)."
   ]
  },
  {
   "cell_type": "markdown",
   "id": "34e1e179",
   "metadata": {},
   "source": [
    "We can check the directories by the following code using `sys.path`:"
   ]
  },
  {
   "cell_type": "code",
   "execution_count": 71,
   "id": "59d5952d",
   "metadata": {
    "scrolled": true
   },
   "outputs": [
    {
     "name": "stdout",
     "output_type": "stream",
     "text": [
      "['/Users/zhenchen/Documents/book-python-data-science-en/data-science', '/Users/yourname/projects', '/Users/zhenchen/Documents/book-python-data-science-en/data-science', '/opt/anaconda3/lib/python312.zip', '/opt/anaconda3/lib/python3.12', '/opt/anaconda3/lib/python3.12/lib-dynload', '', '/opt/anaconda3/lib/python3.12/site-packages', '/opt/anaconda3/lib/python3.12/site-packages/aeosa', '/opt/anaconda3/lib/python3.12/site-packages/setuptools/_vendor']\n"
     ]
    }
   ],
   "source": [
    "import sys\n",
    "\n",
    "print(sys.path)"
   ]
  },
  {
   "cell_type": "markdown",
   "id": "e7d0cfa7",
   "metadata": {},
   "source": [
    "### Import a sibling module\n",
    "<hr>"
   ]
  },
  {
   "cell_type": "markdown",
   "id": "2dbddad8",
   "metadata": {},
   "source": [
    "If the imported module is a sibling file of the current module—meaning they share the same parent directory—for example:\n",
    "\n",
    "**Directory structure**\n",
    "```\n",
    "project_root/\n",
    "│── main.py\n",
    "│── my_module.py\n",
    "```"
   ]
  },
  {
   "cell_type": "markdown",
   "id": "8aa01478",
   "metadata": {},
   "source": [
    "We can directly import the sibiling module:"
   ]
  },
  {
   "cell_type": "markdown",
   "id": "ebb8e491",
   "metadata": {},
   "source": [
    "```{code} python\n",
    "import my_module\n",
    "```"
   ]
  },
  {
   "cell_type": "markdown",
   "id": "06efc65f",
   "metadata": {},
   "source": [
    "If we just want to import some function or class named \"foo\" in the sibling module, we can use `from-import` statement."
   ]
  },
  {
   "cell_type": "markdown",
   "id": "3304c152",
   "metadata": {},
   "source": [
    "```{code} python\n",
    "from my_module import foo\n",
    "```"
   ]
  },
  {
   "cell_type": "markdown",
   "id": "63369fcd",
   "metadata": {},
   "source": [
    "### Import a nephew/niece module\n",
    "\n",
    "If the module to be imported is in a folder at the same level as the current module, for example:\n",
    "\n",
    "**Directory structure**\n",
    "```\n",
    "project_root/\n",
    "│── main.py\n",
    "│── folder1/\n",
    "│    │── my_module.py\n",
    "```"
   ]
  },
  {
   "cell_type": "markdown",
   "id": "a91bd9a1",
   "metadata": {},
   "source": [
    "We can import \"my_module.py\" in the folder \"folder1\" by the following code."
   ]
  },
  {
   "cell_type": "markdown",
   "id": "c43682e5-72e3-4b85-9d1f-70186e89d5ba",
   "metadata": {},
   "source": [
    "```{code} python\n",
    "from folder1 import my_module\n",
    "```"
   ]
  },
  {
   "cell_type": "markdown",
   "id": "8b5dae20-7206-4da8-a2f3-25370c61fb04",
   "metadata": {},
   "source": [
    "If we just want to import the function/class \"foo\" from \"my_module.py\":"
   ]
  },
  {
   "cell_type": "markdown",
   "id": "56c5f968",
   "metadata": {},
   "source": [
    "```{code} python\n",
    "from folder1.my_module import foo\n",
    "```"
   ]
  },
  {
   "cell_type": "markdown",
   "id": "95166103",
   "metadata": {},
   "source": [
    "###  Import a aucle/aunt, cousin module\n",
    "<hr>"
   ]
  },
  {
   "cell_type": "markdown",
   "id": "aeabcafd",
   "metadata": {},
   "source": [
    "If the imported module is the sample level with the parent folder:\n",
    "\n",
    "**Director structure1**\n",
    "```\n",
    "project_root/\n",
    "│── my_module.py\n",
    "│── folder1/\n",
    "│    │── main.py\n",
    "```\n",
    "\n",
    "Or if the import module is in the folder which has same level with the parent folder:\n",
    "\n",
    "**Directory structure2**\n",
    "```\n",
    "project_root/\n",
    "│── folder2\n",
    "│    │── my_module.py\n",
    "│── folder1/\n",
    "│    │── main.py\n",
    "```\n"
   ]
  },
  {
   "cell_type": "markdown",
   "id": "a51dc665",
   "metadata": {},
   "source": [
    "We want to import \"my_module.py\" in the module \"main.py\". "
   ]
  },
  {
   "cell_type": "markdown",
   "id": "3b3914c2-70d8-41a5-849a-168fa04b25f6",
   "metadata": {},
   "source": [
    "- First, we insert the parent directory to `sys.path`."
   ]
  },
  {
   "cell_type": "markdown",
   "id": "26963721",
   "metadata": {},
   "source": [
    "```{code} python\n",
    "import sys\n",
    "import os\n",
    "\n",
    "# get the path of  the parent directory\n",
    "parent_dir = os.path.abspath(os.path.join(os.getcwd(), \"..\"))  # .. represents the parent directory\n",
    "sys.path.insert(0, parent_dir)  # insert the parent directory to sys.path\n",
    "```"
   ]
  },
  {
   "cell_type": "markdown",
   "id": "71b41be2",
   "metadata": {},
   "source": [
    "- Then we can import the my_module accorderingly:"
   ]
  },
  {
   "cell_type": "markdown",
   "id": "424b404f",
   "metadata": {},
   "source": [
    "- If the imported module is aucle/aunt： `import my_module`. \n",
    "- If the imported module is cousin: `from folder2 import my_module`."
   ]
  },
  {
   "cell_type": "markdown",
   "id": "3071eacb",
   "metadata": {},
   "source": [
    "```{note}\n",
    "PyCharm automatically adds the root directory of the entire project folder to `sys.path`. Therefore, in PyCharm, you can directly import modules based on the folder structure without manually adding the parent directory path via `sys.path`.\n",
    "```"
   ]
  },
  {
   "cell_type": "markdown",
   "id": "e622a61e",
   "metadata": {},
   "source": [
    "For example，for the directory structure2, we can directly import \"my_module\" by the following code:"
   ]
  },
  {
   "cell_type": "markdown",
   "id": "1decd51e",
   "metadata": {},
   "source": [
    "```{code} python\n",
    "from folder2 import my_module\n",
    "```"
   ]
  },
  {
   "cell_type": "markdown",
   "id": "8ef9771c",
   "metadata": {},
   "source": [
    "### Import using `sys.path.append()`\n",
    "<hr>\n"
   ]
  },
  {
   "cell_type": "markdown",
   "id": "aedb1bdd",
   "metadata": {},
   "source": [
    "If the path to your module is complex, you can use methods like `sys.path.append()` to add the specific path of the module you want to import.\n",
    "\n",
    "For example, if you want to import \"other_folder/my_module.py\", where other_folder is the full absolute path on your computer's hard drive, you can do this:"
   ]
  },
  {
   "cell_type": "markdown",
   "id": "43edfc28",
   "metadata": {},
   "source": [
    "```{code} python3\n",
    "import sys\n",
    "import os\n",
    "\n",
    "sys.path.append(os.path.abspath(\"other_folder\"))  # add the path of \"other_foler\" to sys.path\n",
    "import my_module \n",
    "```"
   ]
  },
  {
   "cell_type": "markdown",
   "id": "4cf2f1ff",
   "metadata": {},
   "source": [
    "## Exercises\n",
    "<hr>"
   ]
  },
  {
   "cell_type": "markdown",
   "id": "cd5be3a7-f831-4690-a5da-bd59e3abab73",
   "metadata": {},
   "source": [
    "```{exercise}\n",
    ":label: abs\n",
    "Which function will you use to find the absolute value of a number in Python?\n",
    "\n",
    "A.&nbsp;&nbsp;  fabs()\n",
    "\n",
    "B.&nbsp;&nbsp;  absolute()\n",
    "\n",
    "C.&nbsp;&nbsp;  abs()\n",
    "\n",
    "D.&nbsp;&nbsp;  all()\n",
    "```"
   ]
  },
  {
   "cell_type": "markdown",
   "id": "26677790-be32-42fb-9f8f-f72a6a3183e1",
   "metadata": {},
   "source": [
    "````{solution} abs\n",
    ":class: dropdown\n",
    "C\n",
    "````"
   ]
  },
  {
   "cell_type": "markdown",
   "id": "11b74c64-8f88-4d92-b4e7-878ca56e95f9",
   "metadata": {},
   "source": [
    "```{exercise-start}\n",
    ":label: global-variable\n",
    "```\n",
    "What is the output of the following code?\n",
    "```python\n",
    "x = 'awesome'\n",
    "def fun():\n",
    "  x = 'fantastic'\n",
    "    \n",
    "fun()\n",
    "print('Python is ' + x)\n",
    "```\n",
    "\n",
    "A.&nbsp;&nbsp;  Python is x\n",
    "\n",
    "B.&nbsp;&nbsp;  Python is fun\n",
    "\n",
    "C.&nbsp;&nbsp;  Python is fantasic\n",
    "\n",
    "D.&nbsp;&nbsp;  Python is awesome\n",
    "```{exercise-end}\n",
    "```\n"
   ]
  },
  {
   "cell_type": "markdown",
   "id": "8eef64f9-6a3e-4fd5-a0f6-a6090a60d305",
   "metadata": {},
   "source": [
    "````{solution} global-variable\n",
    ":class: dropdown\n",
    "D\n",
    "````"
   ]
  },
  {
   "cell_type": "markdown",
   "id": "805cb329-277c-49ca-b778-55ddbcd5c3cd",
   "metadata": {},
   "source": [
    "```{exercise-start}\n",
    ":label: global-variable2\n",
    "```\n",
    "What is the output of the following code?\n",
    "```python\n",
    "x = 'awesome'\n",
    "def fun():\n",
    "    global x\n",
    "    x = 'fantastic'\n",
    "    \n",
    "fun()\n",
    "print('Python is ' + x)\n",
    "```\n",
    "\n",
    "A.&nbsp;&nbsp;  Python is x\n",
    "\n",
    "B.&nbsp;&nbsp;  Python is fun\n",
    "\n",
    "C.&nbsp;&nbsp;  Python is fantasic\n",
    "\n",
    "D.&nbsp;&nbsp;  Python is awesome\n",
    "```{exercise-end}\n",
    "```\n"
   ]
  },
  {
   "cell_type": "markdown",
   "id": "f26f98b9-5f4f-43c1-90cc-a4e8334c1723",
   "metadata": {},
   "source": [
    "````{solution} global-variable2\n",
    ":class: dropdown\n",
    "C\n",
    "````"
   ]
  },
  {
   "cell_type": "markdown",
   "id": "564e0c40-7d35-49ed-aab8-e0806f277e75",
   "metadata": {},
   "source": [
    "```{exercise-start}\n",
    ":label: lambda\n",
    "```\n",
    "What is the output of the following code?\n",
    "```python\n",
    "y = 5\n",
    "foo = lambda x : x * y\n",
    "print((foo(6))\n",
    "```\n",
    "\n",
    "A.&nbsp;&nbsp;  5\n",
    "\n",
    "B.&nbsp;&nbsp;  6\n",
    "\n",
    "C.&nbsp;&nbsp;  11\n",
    "\n",
    "D.&nbsp;&nbsp;  30\n",
    "```{exercise-end}\n",
    "```\n"
   ]
  },
  {
   "cell_type": "markdown",
   "id": "3ea3165c-31cc-4b3e-9a12-6ce36b5efcb3",
   "metadata": {},
   "source": [
    "````{solution} lambda\n",
    ":class: dropdown\n",
    "D\n",
    "````"
   ]
  },
  {
   "cell_type": "markdown",
   "id": "72232492-8337-449e-916b-eb8c3069d2f9",
   "metadata": {},
   "source": [
    "```{exercise-start}\n",
    ":label: continue\n",
    "```\n",
    "What statement is to skip the current iteration and proceed with the remaining loops?\n",
    "\n",
    "A.&nbsp;&nbsp;  break\n",
    "\n",
    "B.&nbsp;&nbsp;  continue\n",
    "\n",
    "C.&nbsp;&nbsp;  end\n",
    "\n",
    "D.&nbsp;&nbsp;  return\n",
    "```{exercise-end}\n",
    "```\n"
   ]
  },
  {
   "cell_type": "markdown",
   "id": "f75d01de-2ce0-4d51-afff-aa57a3b36e12",
   "metadata": {},
   "source": [
    "````{solution} continue\n",
    ":class: dropdown\n",
    "B\n",
    "````"
   ]
  },
  {
   "cell_type": "markdown",
   "id": "0b1a17c3-3d9d-4458-b1a5-985948ea4694",
   "metadata": {},
   "source": [
    "```{exercise-start}\n",
    ":label: lambda-argument\n",
    "```\n",
    "Lambda functions can take multiple arguments.\n",
    "\n",
    "A.&nbsp;&nbsp;  True\n",
    "\n",
    "B.&nbsp;&nbsp;  False\n",
    "\n",
    "```{exercise-end}\n",
    "```\n"
   ]
  },
  {
   "cell_type": "markdown",
   "id": "23d77104-42dd-48b9-bb73-a258408d1967",
   "metadata": {},
   "source": [
    "````{solution} lambda-argument\n",
    ":class: dropdown\n",
    "A\n",
    "````"
   ]
  },
  {
   "cell_type": "markdown",
   "id": "80f8af88-58a5-4e40-96f8-a5f443a6e5da",
   "metadata": {},
   "source": [
    "```{exercise-start}\n",
    ":label: scope\n",
    "```\n",
    "For the following code:\n",
    "```python\n",
    "x = 300\n",
    "def myfunc():\n",
    "  x = 200\n",
    "myfunc()\n",
    "print(x)\n",
    "```\n",
    "What will be the printed result?\n",
    "\n",
    "A.&nbsp;&nbsp;  300\n",
    "\n",
    "B.&nbsp;&nbsp;  200\n",
    "\n",
    "C.&nbsp;&nbsp;  100\n",
    "\n",
    "D.&nbsp;&nbsp;  0\n",
    "```{exercise-end}\n",
    "```\n"
   ]
  },
  {
   "cell_type": "markdown",
   "id": "fb6aadf9-31b4-465b-86dd-6a61400d78fb",
   "metadata": {},
   "source": [
    "````{solution} scope\n",
    ":class: dropdown\n",
    "A\n",
    "````"
   ]
  },
  {
   "cell_type": "markdown",
   "id": "f9fac6e9-56ae-4ebc-9fe0-9fc88b19c816",
   "metadata": {},
   "source": [
    "```{exercise-start}\n",
    ":label: scope2\n",
    "```\n",
    "For the following code:\n",
    "```python\n",
    "x = 300\n",
    "def myfunc():\n",
    "  global x\n",
    "  x = 200\n",
    "myfunc()\n",
    "print(x)\n",
    "```\n",
    "What will be the printed result?\n",
    "\n",
    "A.&nbsp;&nbsp;  300\n",
    "\n",
    "B.&nbsp;&nbsp;  200\n",
    "\n",
    "C.&nbsp;&nbsp;  100\n",
    "\n",
    "D.&nbsp;&nbsp;  0\n",
    "```{exercise-end}\n",
    "```\n"
   ]
  },
  {
   "cell_type": "markdown",
   "id": "891432f4-9944-4aed-8ac2-a5d5510d659c",
   "metadata": {},
   "source": [
    "````{solution} scope2\n",
    ":class: dropdown\n",
    "B\n",
    "````"
   ]
  },
  {
   "cell_type": "markdown",
   "id": "8d5bf8a5-45fc-4f86-8dd4-68b6b9317355",
   "metadata": {},
   "source": [
    "```{exercise-start}\n",
    ":label: while-output\n",
    "```\n",
    "What is the output of the following codes:\n",
    "```python\n",
    "count = 0\n",
    "while count < 3:\n",
    "   print(\"Hello\")\n",
    "   count += 1\n",
    "else:\n",
    "   print(\"Else block\")\n",
    "```\n",
    "\n",
    "A.&nbsp;&nbsp;  Prints \"Hello\" three times and then prints \"Else block\"\n",
    "\n",
    "B.&nbsp;&nbsp;  Prints \"Hello\" three times\n",
    "\n",
    "C.&nbsp;&nbsp;  Prints \"Else block\" three times\n",
    "\n",
    "D.&nbsp;&nbsp;  Raise an error\n",
    "```{exercise-end}\n",
    "```\n"
   ]
  },
  {
   "cell_type": "markdown",
   "id": "67c2cdd5-1e2a-4e4e-be5a-cc5842e0f421",
   "metadata": {},
   "source": [
    "````{solution} while-output\n",
    ":class: dropdown\n",
    "A\n",
    "````"
   ]
  },
  {
   "cell_type": "markdown",
   "id": "a0d47594-2f14-4e52-aae7-68149bf85da7",
   "metadata": {},
   "source": [
    "```{exercise-start}\n",
    ":label: loop-list\n",
    "```\n",
    "Loop and print each element for the following list and break the loop if the item is \"banana\".\n",
    "```python\n",
    "fruits = [\"perch\", , \"grape\", \"apple\", \"banana\", \"cherry\"]\n",
    "```\n",
    "\n",
    "```{exercise-end}\n",
    "```\n"
   ]
  },
  {
   "cell_type": "markdown",
   "id": "e81f3d4a-c60e-4af6-81b0-5f184b7b0d31",
   "metadata": {},
   "source": [
    "````{solution} loop-list\n",
    ":class: dropdown\n",
    "```python\n",
    "fruits = [\"perch\", , \"grape\", \"apple\", \"banana\", \"cherry\"]\n",
    "for x in fruits:\n",
    "  if x == \"banana\":\n",
    "    break\n",
    "  print(x)\n",
    "```\n",
    "````"
   ]
  },
  {
   "cell_type": "markdown",
   "id": "2671d161-d089-4ee8-b70e-2b2045e7d483",
   "metadata": {},
   "source": [
    "```{exercise}\n",
    ":label: circle-area\n",
    "Define a function to compute the area of a circle with given radius. (tips: area = $\\pi$\\*radius\\*radius)\n",
    "```"
   ]
  },
  {
   "cell_type": "markdown",
   "id": "a51aea1e-2f93-4728-8eee-be69219ee576",
   "metadata": {},
   "source": [
    "````{solution} circle-area\n",
    ":class: dropdown\n",
    "```{code-block} python\n",
    "import math\n",
    "\n",
    "define area_cicle(r):\n",
    "    area = math.pi * r**2\n",
    "    print(f\"the area of the circle is {area:.2f}\")\n",
    "\n",
    "\n",
    "r = 10\n",
    "area_circle(r)\n",
    "```\n",
    "````"
   ]
  },
  {
   "cell_type": "markdown",
   "id": "03a011b8-522a-4a7a-8639-f9dd7f1e9e19",
   "metadata": {},
   "source": [
    "```{exercise}\n",
    ":label: sum-cub\n",
    "Define a function, with given value of $n$, it can calculate the sum of the cubes of all natural numbers from 1 to $n$.\n",
    "```"
   ]
  },
  {
   "cell_type": "markdown",
   "id": "5655cc9b-1c6b-4ffd-af56-8b558f12a759",
   "metadata": {},
   "source": [
    "````{solution} sum-cub\n",
    ":class: dropdown\n",
    "\n",
    "```{code-block} python\n",
    "def sum_cube(n):\n",
    "    sum = 0\n",
    "    for i in range(1, n+1):\n",
    "        sum += i * i *i       \n",
    "    return sum\n",
    " \n",
    "   \n",
    "n = 10\n",
    "print(sum_cube(n))\n",
    "```\n",
    "````"
   ]
  },
  {
   "cell_type": "markdown",
   "id": "05ee7981-a334-44e1-812c-22e4e20d2fb3",
   "metadata": {},
   "source": [
    "```{exercise}\n",
    ":label: dict-values\n",
    "Define a dict with all the values are numeric and compute the sum of all the values.\n",
    "```"
   ]
  },
  {
   "cell_type": "markdown",
   "id": "c67eaa80-55c2-4cc9-9502-fc756ebbced4",
   "metadata": {},
   "source": [
    "````{solution} dict-values\n",
    ":class: dropdown\n",
    "```{code-block} python\n",
    "def dict_sum(myDict):      \n",
    "    sum = 0\n",
    "    for i in myDict: \n",
    "        sum = sum + myDict[i]      \n",
    "    return sum\n",
    "  \n",
    "dict = {'a': 100, 'b':200, 'c':300} \n",
    "print(\"Sum :\", dict_sum(dict))\n",
    "```\n",
    "````"
   ]
  },
  {
   "cell_type": "markdown",
   "id": "32359427",
   "metadata": {},
   "source": [
    "```{exercise}\n",
    ":label: judge-leap-year\n",
    "Define a function to evaluate whether the input year is leap year or not. (tips: a leap year is a year value that is divisible by 4 but not by 100, or divisible by 400.)\n",
    "```"
   ]
  },
  {
   "cell_type": "markdown",
   "id": "a8f0c9e6",
   "metadata": {},
   "source": [
    "````{solution} judge-leap-year\n",
    ":class: dropdown\n",
    "\n",
    "```{code-block} python\n",
    "def evaluate(year):\n",
    "    if (year % 4) == 0:\n",
    "        if (year % 100) == 0:\n",
    "            if (year % 400) == 0:\n",
    "                print(\"{} is a leap year\".format(year))  \n",
    "            else:\n",
    "                print(\"{} is not a leap year\".format(year))\n",
    "        else:\n",
    "            print(\"{} is a leap year\".format(year)) \n",
    "    else:\n",
    "        print(\"{} is not a lear year\".format(year))\n",
    "\n",
    "year = 2025\n",
    "evaluate(year)\n",
    "```\n",
    "````"
   ]
  },
  {
   "cell_type": "markdown",
   "id": "73709152-d01b-4570-91fa-ce9bc752c244",
   "metadata": {},
   "source": [
    "```{exercise}\n",
    ":label: unique-list\n",
    "Write a Python function that takes a list and returns a new list with distinct elements from the first list.\n",
    "\n",
    "Sample List : [1,2,3,3,3,3,4,5]\n",
    "\n",
    "Unique List : [1, 2, 3, 4, 5]\n",
    "```"
   ]
  },
  {
   "cell_type": "markdown",
   "id": "25dab52e-86d4-417e-9155-698499d48791",
   "metadata": {},
   "source": [
    "````{solution} unique-list\n",
    ":class: dropdown\n",
    "\n",
    "```{code-block} python\n",
    "def unique_list(l):\n",
    "    # Create an empty list 'x' to store unique elements\n",
    "    x = []\n",
    "    \n",
    "    # Iterate through each element 'a' in the input list 'l'\n",
    "    for a in l:\n",
    "        # Check if the element 'a' is not already present in the list 'x'\n",
    "        if a not in x:\n",
    "            # If 'a' is not in 'x', add it to the list 'x'\n",
    "            x.append(a)\n",
    "    \n",
    "    # Return the list 'x' containing unique elements\n",
    "    return x\n",
    "\n",
    "# Print the result of calling the 'unique_list' function with a list containing duplicate elements\n",
    "print(unique_list([1, 2, 3, 3, 3, 3, 4, 5]))\n",
    "```\n",
    "````"
   ]
  },
  {
   "cell_type": "markdown",
   "id": "473cc989",
   "metadata": {},
   "source": [
    "<script src=\"https://giscus.app/client.js\"\n",
    "        data-repo=\"robinchen121/book-Python-Data-Science\"\n",
    "        data-repo-id=\"R_kgDOKFdyOw\"\n",
    "        data-category=\"Announcements\"\n",
    "        data-category-id=\"DIC_kwDOKFdyO84CgWHi\"\n",
    "        data-mapping=\"pathname\"\n",
    "        data-strict=\"0\"\n",
    "        data-reactions-enabled=\"1\"\n",
    "        data-emit-metadata=\"0\"\n",
    "        data-input-position=\"bottom\"\n",
    "        data-theme=\"light\"\n",
    "        data-lang=\"en\"\n",
    "        crossorigin=\"anonymous\"\n",
    "        async>\n",
    "</script>"
   ]
  },
  {
   "cell_type": "markdown",
   "id": "eb8f6e51",
   "metadata": {},
   "source": [
    "<!-- Toogle google translation -->\n",
    "<div id=\"google_translate_element\"></div>\n",
    "<script type=\"text/javascript\">\n",
    "      function googleTranslateElementInit() {\n",
    "        new google.translate.TranslateElement({ pageLanguage: 'en',\n",
    "                  includedLanguages: 'en,zh-CN,zh-TW,ja,ko,de,ru,fr,es,it,pt,hi,ar,fa',\n",
    "layout: google.translate.TranslateElement.InlineLayout.SIMPLE }, 'google_translate_element');\n",
    "      }\n",
    "</script>\n",
    "<script type=\"text/javascript\"\n",
    "      src=\"https://translate.google.com/translate_a/element.js?cb=googleTranslateElementInit\"\n",
    "></script>\n",
    "<br>"
   ]
  }
 ],
 "metadata": {
  "kernelspec": {
   "display_name": "Python [conda env:base] *",
   "language": "python",
   "name": "conda-base-py"
  },
  "language_info": {
   "codemirror_mode": {
    "name": "ipython",
    "version": 3
   },
   "file_extension": ".py",
   "mimetype": "text/x-python",
   "name": "python",
   "nbconvert_exporter": "python",
   "pygments_lexer": "ipython3",
   "version": "3.12.2"
  }
 },
 "nbformat": 4,
 "nbformat_minor": 5
}
